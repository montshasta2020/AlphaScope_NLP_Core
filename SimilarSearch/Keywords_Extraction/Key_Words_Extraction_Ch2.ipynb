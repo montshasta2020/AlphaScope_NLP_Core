{
 "cells": [
  {
   "cell_type": "code",
   "execution_count": 1,
   "metadata": {
    "collapsed": true
   },
   "outputs": [],
   "source": [
    "import sys\n",
    "reload(sys)\n",
    "sys.setdefaultencoding('utf-8')"
   ]
  },
  {
   "cell_type": "code",
   "execution_count": 2,
   "metadata": {
    "collapsed": true
   },
   "outputs": [],
   "source": [
    "import pandas as pd\n",
    "from urlparse import urlparse\n",
    "import tldextract\n",
    "from collections import Counter\n",
    "import jieba\n",
    "import json\n",
    "import math\n",
    "import numpy as np\n",
    "from time import time"
   ]
  },
  {
   "cell_type": "code",
   "execution_count": 3,
   "metadata": {
    "collapsed": true
   },
   "outputs": [],
   "source": [
    "df = pd.read_csv('../data/final/huizhou-final-v2.csv')"
   ]
  },
  {
   "cell_type": "code",
   "execution_count": 4,
   "metadata": {
    "collapsed": true
   },
   "outputs": [],
   "source": [
    "df.info()"
   ]
  },
  {
   "cell_type": "code",
   "execution_count": 5,
   "metadata": {
    "collapsed": true
   },
   "outputs": [],
   "source": [
    "import jieba.analyse\n",
    "import numpy as np"
   ]
  },
  {
   "cell_type": "markdown",
   "metadata": {
    "collapsed": true
   },
   "source": [
    "msk = np.random.rand(len(df)) < 0.01"
   ]
  },
  {
   "cell_type": "markdown",
   "metadata": {},
   "source": [
    "check = df[msk]\n",
    "check.info()"
   ]
  },
  {
   "cell_type": "code",
   "execution_count": 6,
   "metadata": {
    "collapsed": true
   },
   "outputs": [],
   "source": [
    "jieba.analyse.set_stop_words('../data/stop_words/chinese_stops.txt')"
   ]
  },
  {
   "cell_type": "code",
   "execution_count": 7,
   "metadata": {
    "collapsed": true
   },
   "outputs": [],
   "source": [
    "from time import time\n",
    "topK = 100\n",
    "withWeight = True\n",
    "def map_key_words(x):\n",
    "    return jieba.analyse.extract_tags(x, topK=100, withWeight=True)\n",
    "        #tmp = [t[0] for t in ret]\n",
    "        #print ' '.join(tmp)\n",
    "        #print check.iloc[i]['title']"
   ]
  },
  {
   "cell_type": "code",
   "execution_count": 102,
   "metadata": {
    "collapsed": true
   },
   "outputs": [],
   "source": [
    "t = df.iloc[1]['content']\n",
    "ret = map_key_words(t)\n",
    "v1 = [s[0] for s in ret]\n",
    "v2 = [s[1] for s in ret]\n",
    "print t\n",
    "print '++++++++++++'\n",
    "print ' '.join(v1)\n",
    "print v2\n"
   ]
  },
  {
   "cell_type": "code",
   "execution_count": null,
   "metadata": {
    "collapsed": true
   },
   "outputs": [],
   "source": []
  },
  {
   "cell_type": "code",
   "execution_count": 14,
   "metadata": {
    "collapsed": true
   },
   "outputs": [],
   "source": [
    "# encoding=utf-8  \n",
    "import networkx as nx  \n",
    "from sklearn.feature_extraction.text import TfidfVectorizer, TfidfTransformer  \n",
    "  \n",
    "def cut_sentence(sentence):  \n",
    "    \"\"\" \n",
    "    分句 \n",
    "    :param sentence: \n",
    "    :return: \n",
    "    \"\"\"  \n",
    "    if not isinstance(sentence, unicode):  \n",
    "        sentence = sentence.decode('utf-8')  \n",
    "    delimiters = frozenset(u'。！？')  \n",
    "    buf = []  \n",
    "    for ch in sentence:  \n",
    "        buf.append(ch)  \n",
    "        if delimiters.__contains__(ch):  \n",
    "            yield ''.join(buf)  \n",
    "            buf = []  \n",
    "    if buf:  \n",
    "        yield ''.join(buf)  \n",
    "  \n",
    "  \n",
    "def load_stopwords(path='../data/stop_words/chinese_stops.txt'):  \n",
    "    \"\"\" \n",
    "    加载停用词 \n",
    "    :param path: \n",
    "    :return: \n",
    "    \"\"\"  \n",
    "    with open(path) as f:  \n",
    "        stopwords = filter(lambda x: x, map(lambda x: x.strip().decode('utf-8'), f.readlines()))  \n",
    "    stopwords.extend([' ', '\\t', '\\n'])  \n",
    "    return frozenset(stopwords)  \n",
    "  \n",
    "def cut_words(sentence):  \n",
    "    \"\"\" \n",
    "    分词 \n",
    "    :param sentence: \n",
    "    :return: \n",
    "    \"\"\"  \n",
    "    stopwords = load_stopwords()  \n",
    "    return filter(lambda x: not stopwords.__contains__(x), jieba.cut(sentence))  \n",
    "  \n",
    "def get_abstract(content, size=3):  \n",
    "    \"\"\" \n",
    "    利用textrank提取摘要 \n",
    "    :param content: \n",
    "    :param size: \n",
    "    :return: \n",
    "    \"\"\"  \n",
    "    docs = list(cut_sentence(content))  \n",
    "    \n",
    "    #tfidf_model = TfidfVectorizer(tokenizer=jieba.cut, stop_words=load_stopwords())  \n",
    "    tfidf_model = TfidfVectorizer()  \n",
    "    tfidf_matrix = tfidf_model.fit_transform(docs)  \n",
    "    normalized_matrix = TfidfTransformer().fit_transform(tfidf_matrix)  \n",
    "    similarity = nx.from_scipy_sparse_matrix(normalized_matrix * normalized_matrix.T)  \n",
    "    scores = nx.pagerank(similarity)  \n",
    "    tops = sorted(scores.iteritems(), key=lambda x: x[1], reverse=True)  \n",
    "    size = min(size, len(docs))  \n",
    "    indices = map(lambda x: x[0], tops)[:size]  \n",
    "    return map(lambda idx: docs[idx], indices)  \n"
   ]
  },
  {
   "cell_type": "code",
   "execution_count": 128,
   "metadata": {
    "collapsed": true
   },
   "outputs": [],
   "source": [
    "import codecs\n",
    "from textrank4zh import TextRank4Keyword, TextRank4Sentence\n",
    "\n",
    "def get_abstract2(x):\n",
    "    tr4s = TextRank4Sentence()\n",
    "    tr4s.analyze(text=x, lower=True, source = 'all_filters')\n",
    "    ret = list()\n",
    "    for item in tr4s.get_key_sentences(num=3):\n",
    "        ret.append(item.sentence)\n",
    "    return '**********'.join(ret)\n",
    "\n",
    "def get_key_words(x):\n",
    "    tr4w = TextRank4Keyword()\n",
    "    ret = tr4w.get_keywords(100, word_min_len=1)\n",
    "    if len(ret) > 0:\n",
    "        print(item.word, item.weight)"
   ]
  },
  {
   "cell_type": "code",
   "execution_count": 95,
   "metadata": {},
   "outputs": [
    {
     "ename": "TypeError",
     "evalue": "'NoneType' object is not iterable",
     "output_type": "error",
     "traceback": [
      "\u001b[0;31m---------------------------------------------------------------------------\u001b[0m",
      "\u001b[0;31mTypeError\u001b[0m                                 Traceback (most recent call last)",
      "\u001b[0;32m<ipython-input-95-8ef359010eb3>\u001b[0m in \u001b[0;36m<module>\u001b[0;34m()\u001b[0m\n\u001b[1;32m      4\u001b[0m     \u001b[0;32mprint\u001b[0m \u001b[0mi\u001b[0m\u001b[0;34m,\u001b[0m \u001b[0;34m'+++++++++++++++++'\u001b[0m\u001b[0;34m\u001b[0m\u001b[0m\n\u001b[1;32m      5\u001b[0m     \u001b[0;32mprint\u001b[0m \u001b[0mdf\u001b[0m\u001b[0;34m.\u001b[0m\u001b[0miloc\u001b[0m\u001b[0;34m[\u001b[0m\u001b[0mi\u001b[0m\u001b[0;34m]\u001b[0m\u001b[0;34m[\u001b[0m\u001b[0;34m'content'\u001b[0m\u001b[0;34m]\u001b[0m\u001b[0;34m\u001b[0m\u001b[0m\n\u001b[0;32m----> 6\u001b[0;31m     \u001b[0mr\u001b[0m \u001b[0;34m=\u001b[0m \u001b[0mget_key_words\u001b[0m\u001b[0;34m(\u001b[0m\u001b[0mdf\u001b[0m\u001b[0;34m.\u001b[0m\u001b[0miloc\u001b[0m\u001b[0;34m[\u001b[0m\u001b[0mi\u001b[0m\u001b[0;34m]\u001b[0m\u001b[0;34m[\u001b[0m\u001b[0;34m'content'\u001b[0m\u001b[0;34m]\u001b[0m\u001b[0;34m)\u001b[0m\u001b[0;34m\u001b[0m\u001b[0m\n\u001b[0m\u001b[1;32m      7\u001b[0m     \u001b[0;31m#print r\u001b[0m\u001b[0;34m\u001b[0m\u001b[0;34m\u001b[0m\u001b[0m\n\u001b[1;32m      8\u001b[0m     \u001b[0;31m#print '-----------------'\u001b[0m\u001b[0;34m\u001b[0m\u001b[0;34m\u001b[0m\u001b[0m\n",
      "\u001b[0;32m<ipython-input-89-7eaa1817cbbd>\u001b[0m in \u001b[0;36mget_key_words\u001b[0;34m(x)\u001b[0m\n\u001b[1;32m     12\u001b[0m \u001b[0;34m\u001b[0m\u001b[0m\n\u001b[1;32m     13\u001b[0m \u001b[0;32mdef\u001b[0m \u001b[0mget_key_words\u001b[0m\u001b[0;34m(\u001b[0m\u001b[0mx\u001b[0m\u001b[0;34m)\u001b[0m\u001b[0;34m:\u001b[0m\u001b[0;34m\u001b[0m\u001b[0m\n\u001b[0;32m---> 14\u001b[0;31m     \u001b[0mret\u001b[0m \u001b[0;34m=\u001b[0m \u001b[0mtr4w\u001b[0m\u001b[0;34m.\u001b[0m\u001b[0mget_keywords\u001b[0m\u001b[0;34m(\u001b[0m\u001b[0;36m100\u001b[0m\u001b[0;34m,\u001b[0m \u001b[0mword_min_len\u001b[0m\u001b[0;34m=\u001b[0m\u001b[0;36m1\u001b[0m\u001b[0;34m)\u001b[0m\u001b[0;34m\u001b[0m\u001b[0m\n\u001b[0m\u001b[1;32m     15\u001b[0m     \u001b[0;32mif\u001b[0m \u001b[0mlen\u001b[0m\u001b[0;34m(\u001b[0m\u001b[0mret\u001b[0m\u001b[0;34m)\u001b[0m \u001b[0;34m>\u001b[0m \u001b[0;36m0\u001b[0m\u001b[0;34m:\u001b[0m\u001b[0;34m\u001b[0m\u001b[0m\n\u001b[1;32m     16\u001b[0m         \u001b[0;32mprint\u001b[0m\u001b[0;34m(\u001b[0m\u001b[0mitem\u001b[0m\u001b[0;34m.\u001b[0m\u001b[0mword\u001b[0m\u001b[0;34m,\u001b[0m \u001b[0mitem\u001b[0m\u001b[0;34m.\u001b[0m\u001b[0mweight\u001b[0m\u001b[0;34m)\u001b[0m\u001b[0;34m\u001b[0m\u001b[0m\n",
      "\u001b[0;32m/Library/Python/2.7/site-packages/textrank4zh/TextRank4Keyword.pyc\u001b[0m in \u001b[0;36mget_keywords\u001b[0;34m(self, num, word_min_len)\u001b[0m\n\u001b[1;32m    101\u001b[0m         \u001b[0mresult\u001b[0m \u001b[0;34m=\u001b[0m \u001b[0;34m[\u001b[0m\u001b[0;34m]\u001b[0m\u001b[0;34m\u001b[0m\u001b[0m\n\u001b[1;32m    102\u001b[0m         \u001b[0mcount\u001b[0m \u001b[0;34m=\u001b[0m \u001b[0;36m0\u001b[0m\u001b[0;34m\u001b[0m\u001b[0m\n\u001b[0;32m--> 103\u001b[0;31m         \u001b[0;32mfor\u001b[0m \u001b[0mitem\u001b[0m \u001b[0;32min\u001b[0m \u001b[0mself\u001b[0m\u001b[0;34m.\u001b[0m\u001b[0mkeywords\u001b[0m\u001b[0;34m:\u001b[0m\u001b[0;34m\u001b[0m\u001b[0m\n\u001b[0m\u001b[1;32m    104\u001b[0m             \u001b[0;32mif\u001b[0m \u001b[0mcount\u001b[0m \u001b[0;34m>=\u001b[0m \u001b[0mnum\u001b[0m\u001b[0;34m:\u001b[0m\u001b[0;34m\u001b[0m\u001b[0m\n\u001b[1;32m    105\u001b[0m                 \u001b[0;32mbreak\u001b[0m\u001b[0;34m\u001b[0m\u001b[0m\n",
      "\u001b[0;31mTypeError\u001b[0m: 'NoneType' object is not iterable"
     ]
    }
   ],
   "source": [
    "from time import time\n",
    "t0 = time()\n",
    "for i in range(0, 10):\n",
    "    print i, '+++++++++++++++++'\n",
    "    print df.iloc[i]['content']\n",
    "    r = get_key_words(df.iloc[i]['content'])\n",
    "    #print r\n",
    "    #print '-----------------'\n",
    "time() - t0"
   ]
  },
  {
   "cell_type": "code",
   "execution_count": 129,
   "metadata": {},
   "outputs": [
    {
     "data": {
      "text/plain": [
       "10.994549036026001"
      ]
     },
     "execution_count": 129,
     "metadata": {},
     "output_type": "execute_result"
    }
   ],
   "source": [
    "from time import time\n",
    "t0 = time()\n",
    "for i in range(0, 10):\n",
    "    print i, '+++++++++++++++++'\n",
    "    print df.iloc[i]['title']\n",
    "    r = get_abstract2(df.iloc[i]['content'])\n",
    "    print r\n",
    "    print '-----------------'\n",
    "time() - t0"
   ]
  },
  {
   "cell_type": "code",
   "execution_count": 35,
   "metadata": {
    "collapsed": true
   },
   "outputs": [],
   "source": [
    "print r"
   ]
  },
  {
   "cell_type": "code",
   "execution_count": 19,
   "metadata": {
    "collapsed": true
   },
   "outputs": [],
   "source": [
    "import genius"
   ]
  },
  {
   "cell_type": "code",
   "execution_count": 83,
   "metadata": {
    "collapsed": true
   },
   "outputs": [],
   "source": [
    "for i in range(0, 1):\n",
    "    t = df.iloc[i]['content']\n",
    "    \n",
    "    seg_list = genius.seg_keywords(t.decode('utf-8'))\n",
    "    print '\\n'.join(['%s\\t%s' % (word.text, word.tagging) for word in seg_list])\n",
    "    "
   ]
  },
  {
   "cell_type": "code",
   "execution_count": 64,
   "metadata": {
    "collapsed": true
   },
   "outputs": [],
   "source": [
    "import RAKE"
   ]
  },
  {
   "cell_type": "code",
   "execution_count": 66,
   "metadata": {
    "collapsed": true
   },
   "outputs": [],
   "source": [
    "Rake = RAKE.Rake('../data/stop_words/chinese_stops.txt');"
   ]
  },
  {
   "cell_type": "code",
   "execution_count": 117,
   "metadata": {
    "collapsed": true
   },
   "outputs": [],
   "source": [
    "ret = Rake.run( df.iloc[1]['content'])"
   ]
  },
  {
   "cell_type": "code",
   "execution_count": 118,
   "metadata": {
    "collapsed": true
   },
   "outputs": [],
   "source": [
    "s, r = zip(*ret)"
   ]
  },
  {
   "cell_type": "code",
   "execution_count": 120,
   "metadata": {
    "collapsed": true
   },
   "outputs": [],
   "source": [
    "print s"
   ]
  },
  {
   "cell_type": "code",
   "execution_count": 103,
   "metadata": {},
   "outputs": [
    {
     "data": {
      "text/html": [
       "<div>\n",
       "<table border=\"1\" class=\"dataframe\">\n",
       "  <thead>\n",
       "    <tr style=\"text-align: right;\">\n",
       "      <th></th>\n",
       "      <th>id</th>\n",
       "      <th>content</th>\n",
       "      <th>title</th>\n",
       "      <th>_version_</th>\n",
       "      <th>cache</th>\n",
       "      <th>segment</th>\n",
       "      <th>digest</th>\n",
       "      <th>boost</th>\n",
       "      <th>tstamp</th>\n",
       "      <th>url</th>\n",
       "      <th>domain</th>\n",
       "      <th>abstract</th>\n",
       "    </tr>\n",
       "  </thead>\n",
       "  <tbody>\n",
       "    <tr>\n",
       "      <th>0</th>\n",
       "      <td>http://www.qulishi.com/news/201701/157485.html</td>\n",
       "      <td>隋炀帝的萧皇后生性风流：暗中与宇文化及通奸 趣历史首页 |  讲述历史上那些有趣的事 人物 ...</td>\n",
       "      <td>隋炀帝的萧皇后生性风流：暗中与宇文化及通奸</td>\n",
       "      <td>1564486876469919744</td>\n",
       "      <td>NaN</td>\n",
       "      <td>20170412122707</td>\n",
       "      <td>ecd2712cad80f2f7ba385735b16cabc7</td>\n",
       "      <td>0.000215</td>\n",
       "      <td>2017-04-12T15:17:54.992Z</td>\n",
       "      <td>http://www.qulishi.com/news/201701/157485.html</td>\n",
       "      <td>qulishi.com</td>\n",
       "      <td>[以现在的地名来说，柳 详情 柳宗元资料介绍 柳宗元擅长于写什么 　　柳宗元生于公元773年...</td>\n",
       "    </tr>\n",
       "    <tr>\n",
       "      <th>1</th>\n",
       "      <td>http://www.qulishi.com/news/201701/157540.html</td>\n",
       "      <td>文宣宗高洋：怀揣着爱妃的头颅去赴宴 趣历史首页 |  讲述历史上那些有趣的事 人物 - 专题...</td>\n",
       "      <td>文宣宗高洋：怀揣着爱妃的头颅去赴宴</td>\n",
       "      <td>1564486876479356928</td>\n",
       "      <td>NaN</td>\n",
       "      <td>20170412122707</td>\n",
       "      <td>af9404764d79eab086f9bb94f01881eb</td>\n",
       "      <td>0.000557</td>\n",
       "      <td>2017-04-12T15:06:42.749Z</td>\n",
       "      <td>http://www.qulishi.com/news/201701/157540.html</td>\n",
       "      <td>qulishi.com</td>\n",
       "      <td>[以现在的地名来说，柳 详情 柳宗元资料介绍 柳宗元擅长于写什么 　　柳宗元生于公元773年...</td>\n",
       "    </tr>\n",
       "    <tr>\n",
       "      <th>2</th>\n",
       "      <td>http://www.qulishi.com/news/201701/157669.html</td>\n",
       "      <td>元朝皇帝成吉思汗死后为何没有留下一座陵墓 趣历史首页 |  讲述历史上那些有趣的事 人物 -...</td>\n",
       "      <td>元朝皇帝成吉思汗死后为何没有留下一座陵墓</td>\n",
       "      <td>1564486876490891264</td>\n",
       "      <td>NaN</td>\n",
       "      <td>20170412122707</td>\n",
       "      <td>0812de487aaaf822cd7c17bceafcdc12</td>\n",
       "      <td>0.000175</td>\n",
       "      <td>2017-04-12T13:35:59.291Z</td>\n",
       "      <td>http://www.qulishi.com/news/201701/157669.html</td>\n",
       "      <td>qulishi.com</td>\n",
       "      <td>[以现在的地名来说，柳 详情 柳宗元资料介绍 柳宗元擅长于写什么 　　柳宗元生于公元773年...</td>\n",
       "    </tr>\n",
       "    <tr>\n",
       "      <th>3</th>\n",
       "      <td>http://www.qulishi.com/news/201701/157806.html</td>\n",
       "      <td>贞观之治背后真相：隋朝遗产养肥李世民？ 趣历史首页 |  讲述历史上那些有趣的事 人物 - ...</td>\n",
       "      <td>贞观之治背后真相：隋朝遗产养肥李世民？</td>\n",
       "      <td>1564486876501377024</td>\n",
       "      <td>NaN</td>\n",
       "      <td>20170412122707</td>\n",
       "      <td>bbfb992815a03543f78ee13ae88e4ba9</td>\n",
       "      <td>0.001001</td>\n",
       "      <td>2017-04-12T14:45:41.4Z</td>\n",
       "      <td>http://www.qulishi.com/news/201701/157806.html</td>\n",
       "      <td>qulishi.com</td>\n",
       "      <td>[贞观之治背后真相：隋朝遗产养肥李世民？,  · 贞观之治背后真相：隋朝遗产养肥李世民？, ...</td>\n",
       "    </tr>\n",
       "    <tr>\n",
       "      <th>4</th>\n",
       "      <td>http://www.qulishi.com/news/201701/158004.html</td>\n",
       "      <td>欧阳修的治学之道：身为文坛宗主为何不多读书？ 趣历史首页 |  讲述历史上那些有趣的事 人物...</td>\n",
       "      <td>欧阳修的治学之道：身为文坛宗主为何不多读书？</td>\n",
       "      <td>1564486876511862784</td>\n",
       "      <td>NaN</td>\n",
       "      <td>20170412122707</td>\n",
       "      <td>b682dc31d36e8d542f69be23dcbfc20c</td>\n",
       "      <td>0.000191</td>\n",
       "      <td>2017-04-12T15:21:46.147Z</td>\n",
       "      <td>http://www.qulishi.com/news/201701/158004.html</td>\n",
       "      <td>qulishi.com</td>\n",
       "      <td>[以现在的地名来说，柳 详情 柳宗元资料介绍 柳宗元擅长于写什么 　　柳宗元生于公元773年...</td>\n",
       "    </tr>\n",
       "  </tbody>\n",
       "</table>\n",
       "</div>"
      ],
      "text/plain": [
       "                                               id  \\\n",
       "0  http://www.qulishi.com/news/201701/157485.html   \n",
       "1  http://www.qulishi.com/news/201701/157540.html   \n",
       "2  http://www.qulishi.com/news/201701/157669.html   \n",
       "3  http://www.qulishi.com/news/201701/157806.html   \n",
       "4  http://www.qulishi.com/news/201701/158004.html   \n",
       "\n",
       "                                             content                   title  \\\n",
       "0  隋炀帝的萧皇后生性风流：暗中与宇文化及通奸 趣历史首页 |  讲述历史上那些有趣的事 人物 ...   隋炀帝的萧皇后生性风流：暗中与宇文化及通奸   \n",
       "1  文宣宗高洋：怀揣着爱妃的头颅去赴宴 趣历史首页 |  讲述历史上那些有趣的事 人物 - 专题...       文宣宗高洋：怀揣着爱妃的头颅去赴宴   \n",
       "2  元朝皇帝成吉思汗死后为何没有留下一座陵墓 趣历史首页 |  讲述历史上那些有趣的事 人物 -...    元朝皇帝成吉思汗死后为何没有留下一座陵墓   \n",
       "3  贞观之治背后真相：隋朝遗产养肥李世民？ 趣历史首页 |  讲述历史上那些有趣的事 人物 - ...     贞观之治背后真相：隋朝遗产养肥李世民？   \n",
       "4  欧阳修的治学之道：身为文坛宗主为何不多读书？ 趣历史首页 |  讲述历史上那些有趣的事 人物...  欧阳修的治学之道：身为文坛宗主为何不多读书？   \n",
       "\n",
       "             _version_ cache         segment  \\\n",
       "0  1564486876469919744   NaN  20170412122707   \n",
       "1  1564486876479356928   NaN  20170412122707   \n",
       "2  1564486876490891264   NaN  20170412122707   \n",
       "3  1564486876501377024   NaN  20170412122707   \n",
       "4  1564486876511862784   NaN  20170412122707   \n",
       "\n",
       "                             digest     boost                    tstamp  \\\n",
       "0  ecd2712cad80f2f7ba385735b16cabc7  0.000215  2017-04-12T15:17:54.992Z   \n",
       "1  af9404764d79eab086f9bb94f01881eb  0.000557  2017-04-12T15:06:42.749Z   \n",
       "2  0812de487aaaf822cd7c17bceafcdc12  0.000175  2017-04-12T13:35:59.291Z   \n",
       "3  bbfb992815a03543f78ee13ae88e4ba9  0.001001    2017-04-12T14:45:41.4Z   \n",
       "4  b682dc31d36e8d542f69be23dcbfc20c  0.000191  2017-04-12T15:21:46.147Z   \n",
       "\n",
       "                                              url       domain  \\\n",
       "0  http://www.qulishi.com/news/201701/157485.html  qulishi.com   \n",
       "1  http://www.qulishi.com/news/201701/157540.html  qulishi.com   \n",
       "2  http://www.qulishi.com/news/201701/157669.html  qulishi.com   \n",
       "3  http://www.qulishi.com/news/201701/157806.html  qulishi.com   \n",
       "4  http://www.qulishi.com/news/201701/158004.html  qulishi.com   \n",
       "\n",
       "                                            abstract  \n",
       "0  [以现在的地名来说，柳 详情 柳宗元资料介绍 柳宗元擅长于写什么 　　柳宗元生于公元773年...  \n",
       "1  [以现在的地名来说，柳 详情 柳宗元资料介绍 柳宗元擅长于写什么 　　柳宗元生于公元773年...  \n",
       "2  [以现在的地名来说，柳 详情 柳宗元资料介绍 柳宗元擅长于写什么 　　柳宗元生于公元773年...  \n",
       "3  [贞观之治背后真相：隋朝遗产养肥李世民？,  · 贞观之治背后真相：隋朝遗产养肥李世民？, ...  \n",
       "4  [以现在的地名来说，柳 详情 柳宗元资料介绍 柳宗元擅长于写什么 　　柳宗元生于公元773年...  "
      ]
     },
     "execution_count": 103,
     "metadata": {},
     "output_type": "execute_result"
    }
   ],
   "source": [
    "df.head()"
   ]
  },
  {
   "cell_type": "code",
   "execution_count": 15,
   "metadata": {},
   "outputs": [
    {
     "data": {
      "text/plain": [
       "5956.621730089188"
      ]
     },
     "execution_count": 15,
     "metadata": {},
     "output_type": "execute_result"
    }
   ],
   "source": [
    "t0 = time()\n",
    "df['abstract'] = df.content.map(lambda x: get_abstract(x))\n",
    "time() - t0"
   ]
  },
  {
   "cell_type": "code",
   "execution_count": 97,
   "metadata": {},
   "outputs": [
    {
     "data": {
      "text/plain": [
       "3651.1784961223602"
      ]
     },
     "execution_count": 97,
     "metadata": {},
     "output_type": "execute_result"
    }
   ],
   "source": [
    "t0 = time()\n",
    "df['key_words'] = df.content.map(lambda x: map_key_words(x))\n",
    "time() - t0"
   ]
  },
  {
   "cell_type": "code",
   "execution_count": 29,
   "metadata": {},
   "outputs": [
    {
     "data": {
      "text/html": [
       "<div>\n",
       "<table border=\"1\" class=\"dataframe\">\n",
       "  <thead>\n",
       "    <tr style=\"text-align: right;\">\n",
       "      <th></th>\n",
       "      <th>id</th>\n",
       "      <th>content</th>\n",
       "      <th>title</th>\n",
       "      <th>_version_</th>\n",
       "      <th>cache</th>\n",
       "      <th>segment</th>\n",
       "      <th>digest</th>\n",
       "      <th>boost</th>\n",
       "      <th>tstamp</th>\n",
       "      <th>url</th>\n",
       "      <th>domain</th>\n",
       "      <th>content_seg</th>\n",
       "      <th>abstract</th>\n",
       "      <th>key_words</th>\n",
       "    </tr>\n",
       "  </thead>\n",
       "  <tbody>\n",
       "    <tr>\n",
       "      <th>0</th>\n",
       "      <td>http://www.qulishi.com/news/201701/157485.html</td>\n",
       "      <td>隋炀帝的萧皇后生性风流：暗中与宇文化及通奸 趣历史首页 |  讲述历史上那些有趣的事 人物 ...</td>\n",
       "      <td>隋炀帝的萧皇后生性风流：暗中与宇文化及通奸</td>\n",
       "      <td>1564486876469919744</td>\n",
       "      <td>NaN</td>\n",
       "      <td>20170412122707</td>\n",
       "      <td>ecd2712cad80f2f7ba385735b16cabc7</td>\n",
       "      <td>0.000215</td>\n",
       "      <td>2017-04-12T15:17:54.992Z</td>\n",
       "      <td>http://www.qulishi.com/news/201701/157485.html</td>\n",
       "      <td>qulishi.com</td>\n",
       "      <td>隋炀帝 的 萧皇后 生性 风流 ： 暗中 与 宇文化及 通奸   趣 历史 首页   |  ...</td>\n",
       "      <td>[以现在的地名来说，柳 详情 柳宗元资料介绍 柳宗元擅长于写什么 　　柳宗元生于公元773年...</td>\n",
       "      <td>[(详情, 0.265289298874), (公主, 0.0599720287907), ...</td>\n",
       "    </tr>\n",
       "    <tr>\n",
       "      <th>1</th>\n",
       "      <td>http://www.qulishi.com/news/201701/157540.html</td>\n",
       "      <td>文宣宗高洋：怀揣着爱妃的头颅去赴宴 趣历史首页 |  讲述历史上那些有趣的事 人物 - 专题...</td>\n",
       "      <td>文宣宗高洋：怀揣着爱妃的头颅去赴宴</td>\n",
       "      <td>1564486876479356928</td>\n",
       "      <td>NaN</td>\n",
       "      <td>20170412122707</td>\n",
       "      <td>af9404764d79eab086f9bb94f01881eb</td>\n",
       "      <td>0.000557</td>\n",
       "      <td>2017-04-12T15:06:42.749Z</td>\n",
       "      <td>http://www.qulishi.com/news/201701/157540.html</td>\n",
       "      <td>qulishi.com</td>\n",
       "      <td>文宣宗 高洋 ： 怀揣 着 爱妃 的 头颅 去 赴宴   趣 历史 首页   |     讲...</td>\n",
       "      <td>[以现在的地名来说，柳 详情 柳宗元资料介绍 柳宗元擅长于写什么 　　柳宗元生于公元773年...</td>\n",
       "      <td>[(详情, 0.274980822213), (揭秘, 0.0674655735676), ...</td>\n",
       "    </tr>\n",
       "    <tr>\n",
       "      <th>2</th>\n",
       "      <td>http://www.qulishi.com/news/201701/157669.html</td>\n",
       "      <td>元朝皇帝成吉思汗死后为何没有留下一座陵墓 趣历史首页 |  讲述历史上那些有趣的事 人物 -...</td>\n",
       "      <td>元朝皇帝成吉思汗死后为何没有留下一座陵墓</td>\n",
       "      <td>1564486876490891264</td>\n",
       "      <td>NaN</td>\n",
       "      <td>20170412122707</td>\n",
       "      <td>0812de487aaaf822cd7c17bceafcdc12</td>\n",
       "      <td>0.000175</td>\n",
       "      <td>2017-04-12T13:35:59.291Z</td>\n",
       "      <td>http://www.qulishi.com/news/201701/157669.html</td>\n",
       "      <td>qulishi.com</td>\n",
       "      <td>元朝 皇帝 成吉思汗 死后 为何 没有 留下 一座 陵墓   趣 历史 首页   |    ...</td>\n",
       "      <td>[以现在的地名来说，柳 详情 柳宗元资料介绍 柳宗元擅长于写什么 　　柳宗元生于公元773年...</td>\n",
       "      <td>[(详情, 0.281985828173), (皇帝, 0.0814485336764), ...</td>\n",
       "    </tr>\n",
       "    <tr>\n",
       "      <th>3</th>\n",
       "      <td>http://www.qulishi.com/news/201701/157806.html</td>\n",
       "      <td>贞观之治背后真相：隋朝遗产养肥李世民？ 趣历史首页 |  讲述历史上那些有趣的事 人物 - ...</td>\n",
       "      <td>贞观之治背后真相：隋朝遗产养肥李世民？</td>\n",
       "      <td>1564486876501377024</td>\n",
       "      <td>NaN</td>\n",
       "      <td>20170412122707</td>\n",
       "      <td>bbfb992815a03543f78ee13ae88e4ba9</td>\n",
       "      <td>0.001001</td>\n",
       "      <td>2017-04-12T14:45:41.4Z</td>\n",
       "      <td>http://www.qulishi.com/news/201701/157806.html</td>\n",
       "      <td>qulishi.com</td>\n",
       "      <td>贞观之治 背后 真相 ： 隋朝 遗产 养肥 李世民 ？   趣 历史 首页   |     ...</td>\n",
       "      <td>[贞观之治背后真相：隋朝遗产养肥李世民？,  · 贞观之治背后真相：隋朝遗产养肥李世民？, ...</td>\n",
       "      <td>[(详情, 0.269468080192), (李世民, 0.0748044339964),...</td>\n",
       "    </tr>\n",
       "    <tr>\n",
       "      <th>4</th>\n",
       "      <td>http://www.qulishi.com/news/201701/158004.html</td>\n",
       "      <td>欧阳修的治学之道：身为文坛宗主为何不多读书？ 趣历史首页 |  讲述历史上那些有趣的事 人物...</td>\n",
       "      <td>欧阳修的治学之道：身为文坛宗主为何不多读书？</td>\n",
       "      <td>1564486876511862784</td>\n",
       "      <td>NaN</td>\n",
       "      <td>20170412122707</td>\n",
       "      <td>b682dc31d36e8d542f69be23dcbfc20c</td>\n",
       "      <td>0.000191</td>\n",
       "      <td>2017-04-12T15:21:46.147Z</td>\n",
       "      <td>http://www.qulishi.com/news/201701/158004.html</td>\n",
       "      <td>qulishi.com</td>\n",
       "      <td>欧阳修 的 治学 之道 ： 身为 文坛 宗主 为何 不 多 读书 ？   趣 历史 首页  ...</td>\n",
       "      <td>[以现在的地名来说，柳 详情 柳宗元资料介绍 柳宗元擅长于写什么 　　柳宗元生于公元773年...</td>\n",
       "      <td>[(详情, 0.267425688301), (欧阳修, 0.196709235807), ...</td>\n",
       "    </tr>\n",
       "  </tbody>\n",
       "</table>\n",
       "</div>"
      ],
      "text/plain": [
       "                                               id  \\\n",
       "0  http://www.qulishi.com/news/201701/157485.html   \n",
       "1  http://www.qulishi.com/news/201701/157540.html   \n",
       "2  http://www.qulishi.com/news/201701/157669.html   \n",
       "3  http://www.qulishi.com/news/201701/157806.html   \n",
       "4  http://www.qulishi.com/news/201701/158004.html   \n",
       "\n",
       "                                             content                   title  \\\n",
       "0  隋炀帝的萧皇后生性风流：暗中与宇文化及通奸 趣历史首页 |  讲述历史上那些有趣的事 人物 ...   隋炀帝的萧皇后生性风流：暗中与宇文化及通奸   \n",
       "1  文宣宗高洋：怀揣着爱妃的头颅去赴宴 趣历史首页 |  讲述历史上那些有趣的事 人物 - 专题...       文宣宗高洋：怀揣着爱妃的头颅去赴宴   \n",
       "2  元朝皇帝成吉思汗死后为何没有留下一座陵墓 趣历史首页 |  讲述历史上那些有趣的事 人物 -...    元朝皇帝成吉思汗死后为何没有留下一座陵墓   \n",
       "3  贞观之治背后真相：隋朝遗产养肥李世民？ 趣历史首页 |  讲述历史上那些有趣的事 人物 - ...     贞观之治背后真相：隋朝遗产养肥李世民？   \n",
       "4  欧阳修的治学之道：身为文坛宗主为何不多读书？ 趣历史首页 |  讲述历史上那些有趣的事 人物...  欧阳修的治学之道：身为文坛宗主为何不多读书？   \n",
       "\n",
       "             _version_ cache         segment  \\\n",
       "0  1564486876469919744   NaN  20170412122707   \n",
       "1  1564486876479356928   NaN  20170412122707   \n",
       "2  1564486876490891264   NaN  20170412122707   \n",
       "3  1564486876501377024   NaN  20170412122707   \n",
       "4  1564486876511862784   NaN  20170412122707   \n",
       "\n",
       "                             digest     boost                    tstamp  \\\n",
       "0  ecd2712cad80f2f7ba385735b16cabc7  0.000215  2017-04-12T15:17:54.992Z   \n",
       "1  af9404764d79eab086f9bb94f01881eb  0.000557  2017-04-12T15:06:42.749Z   \n",
       "2  0812de487aaaf822cd7c17bceafcdc12  0.000175  2017-04-12T13:35:59.291Z   \n",
       "3  bbfb992815a03543f78ee13ae88e4ba9  0.001001    2017-04-12T14:45:41.4Z   \n",
       "4  b682dc31d36e8d542f69be23dcbfc20c  0.000191  2017-04-12T15:21:46.147Z   \n",
       "\n",
       "                                              url       domain  \\\n",
       "0  http://www.qulishi.com/news/201701/157485.html  qulishi.com   \n",
       "1  http://www.qulishi.com/news/201701/157540.html  qulishi.com   \n",
       "2  http://www.qulishi.com/news/201701/157669.html  qulishi.com   \n",
       "3  http://www.qulishi.com/news/201701/157806.html  qulishi.com   \n",
       "4  http://www.qulishi.com/news/201701/158004.html  qulishi.com   \n",
       "\n",
       "                                         content_seg  \\\n",
       "0  隋炀帝 的 萧皇后 生性 风流 ： 暗中 与 宇文化及 通奸   趣 历史 首页   |  ...   \n",
       "1  文宣宗 高洋 ： 怀揣 着 爱妃 的 头颅 去 赴宴   趣 历史 首页   |     讲...   \n",
       "2  元朝 皇帝 成吉思汗 死后 为何 没有 留下 一座 陵墓   趣 历史 首页   |    ...   \n",
       "3  贞观之治 背后 真相 ： 隋朝 遗产 养肥 李世民 ？   趣 历史 首页   |     ...   \n",
       "4  欧阳修 的 治学 之道 ： 身为 文坛 宗主 为何 不 多 读书 ？   趣 历史 首页  ...   \n",
       "\n",
       "                                            abstract  \\\n",
       "0  [以现在的地名来说，柳 详情 柳宗元资料介绍 柳宗元擅长于写什么 　　柳宗元生于公元773年...   \n",
       "1  [以现在的地名来说，柳 详情 柳宗元资料介绍 柳宗元擅长于写什么 　　柳宗元生于公元773年...   \n",
       "2  [以现在的地名来说，柳 详情 柳宗元资料介绍 柳宗元擅长于写什么 　　柳宗元生于公元773年...   \n",
       "3  [贞观之治背后真相：隋朝遗产养肥李世民？,  · 贞观之治背后真相：隋朝遗产养肥李世民？, ...   \n",
       "4  [以现在的地名来说，柳 详情 柳宗元资料介绍 柳宗元擅长于写什么 　　柳宗元生于公元773年...   \n",
       "\n",
       "                                           key_words  \n",
       "0  [(详情, 0.265289298874), (公主, 0.0599720287907), ...  \n",
       "1  [(详情, 0.274980822213), (揭秘, 0.0674655735676), ...  \n",
       "2  [(详情, 0.281985828173), (皇帝, 0.0814485336764), ...  \n",
       "3  [(详情, 0.269468080192), (李世民, 0.0748044339964),...  \n",
       "4  [(详情, 0.267425688301), (欧阳修, 0.196709235807), ...  "
      ]
     },
     "execution_count": 29,
     "metadata": {},
     "output_type": "execute_result"
    }
   ],
   "source": [
    "df.head()"
   ]
  },
  {
   "cell_type": "code",
   "execution_count": 18,
   "metadata": {
    "collapsed": true
   },
   "outputs": [],
   "source": [
    "print ' '.join(df.iloc[1]['abstract'])"
   ]
  },
  {
   "cell_type": "code",
   "execution_count": 158,
   "metadata": {
    "collapsed": true
   },
   "outputs": [],
   "source": [
    "key_words = [t[0] for t in df.iloc[8]['key_words']]"
   ]
  },
  {
   "cell_type": "code",
   "execution_count": 137,
   "metadata": {},
   "outputs": [
    {
     "data": {
      "text/html": [
       "<div>\n",
       "<table border=\"1\" class=\"dataframe\">\n",
       "  <thead>\n",
       "    <tr style=\"text-align: right;\">\n",
       "      <th></th>\n",
       "      <th>id</th>\n",
       "      <th>content</th>\n",
       "      <th>title</th>\n",
       "      <th>_version_</th>\n",
       "      <th>cache</th>\n",
       "      <th>segment</th>\n",
       "      <th>digest</th>\n",
       "      <th>boost</th>\n",
       "      <th>tstamp</th>\n",
       "      <th>url</th>\n",
       "      <th>...</th>\n",
       "      <th>abstract_len</th>\n",
       "      <th>abstract_s</th>\n",
       "      <th>w2v_centroid</th>\n",
       "      <th>w2v_centroid_n</th>\n",
       "      <th>gxwh_w2v_sim</th>\n",
       "      <th>lishi_w2v_sim</th>\n",
       "      <th>yishu_w2v_sim</th>\n",
       "      <th>renwu_w2v_sim</th>\n",
       "      <th>gushi_w2v_sim</th>\n",
       "      <th>key_words_s</th>\n",
       "    </tr>\n",
       "  </thead>\n",
       "  <tbody>\n",
       "    <tr>\n",
       "      <th>0</th>\n",
       "      <td>http://www.qulishi.com/news/201701/157485.html</td>\n",
       "      <td>隋炀帝的萧皇后生性风流：暗中与宇文化及通奸 趣历史首页 |  讲述历史上那些有趣的事 人物 ...</td>\n",
       "      <td>隋炀帝的萧皇后生性风流：暗中与宇文化及通奸</td>\n",
       "      <td>1564486876469919744</td>\n",
       "      <td>NaN</td>\n",
       "      <td>20170412122707</td>\n",
       "      <td>ecd2712cad80f2f7ba385735b16cabc7</td>\n",
       "      <td>0.000215</td>\n",
       "      <td>2017-04-12T15:17:54.992Z</td>\n",
       "      <td>http://www.qulishi.com/news/201701/157485.html</td>\n",
       "      <td>...</td>\n",
       "      <td>667</td>\n",
       "      <td>以现在的地名来说，柳 详情 柳宗元资料介绍 柳宗元擅长于写什么 　　柳宗元生于公元773年，...</td>\n",
       "      <td>[-0.00897889, 0.0148242, 0.0326216, -0.0117419...</td>\n",
       "      <td>[-0.0293764, 0.0485007, 0.106729, -0.0384162, ...</td>\n",
       "      <td>0.043740</td>\n",
       "      <td>0.509463</td>\n",
       "      <td>-0.126326</td>\n",
       "      <td>0.195160</td>\n",
       "      <td>0.327964</td>\n",
       "      <td>(u'\\u8be6\\u60c5', 0.28526307630275893);(u'\\u51...</td>\n",
       "    </tr>\n",
       "    <tr>\n",
       "      <th>1</th>\n",
       "      <td>http://www.qulishi.com/news/201701/157540.html</td>\n",
       "      <td>文宣宗高洋：怀揣着爱妃的头颅去赴宴 趣历史首页 |  讲述历史上那些有趣的事 人物 - 专题...</td>\n",
       "      <td>文宣宗高洋：怀揣着爱妃的头颅去赴宴</td>\n",
       "      <td>1564486876479356928</td>\n",
       "      <td>NaN</td>\n",
       "      <td>20170412122707</td>\n",
       "      <td>af9404764d79eab086f9bb94f01881eb</td>\n",
       "      <td>0.000557</td>\n",
       "      <td>2017-04-12T15:06:42.749Z</td>\n",
       "      <td>http://www.qulishi.com/news/201701/157540.html</td>\n",
       "      <td>...</td>\n",
       "      <td>731</td>\n",
       "      <td>以现在的地名来说，柳 详情 柳宗元资料介绍 柳宗元擅长于写什么 　　柳宗元生于公元773年，...</td>\n",
       "      <td>[-0.00570392, 0.0160906, 0.0384237, -0.0132063...</td>\n",
       "      <td>[-0.0181728, 0.0512649, 0.122419, -0.0420756, ...</td>\n",
       "      <td>0.043145</td>\n",
       "      <td>0.517394</td>\n",
       "      <td>-0.117858</td>\n",
       "      <td>0.192437</td>\n",
       "      <td>0.344010</td>\n",
       "      <td>(u'\\u8be6\\u60c5', 0.29084782483418853);(u'\\u63...</td>\n",
       "    </tr>\n",
       "    <tr>\n",
       "      <th>2</th>\n",
       "      <td>http://www.qulishi.com/news/201701/157669.html</td>\n",
       "      <td>元朝皇帝成吉思汗死后为何没有留下一座陵墓 趣历史首页 |  讲述历史上那些有趣的事 人物 -...</td>\n",
       "      <td>元朝皇帝成吉思汗死后为何没有留下一座陵墓</td>\n",
       "      <td>1564486876490891264</td>\n",
       "      <td>NaN</td>\n",
       "      <td>20170412122707</td>\n",
       "      <td>0812de487aaaf822cd7c17bceafcdc12</td>\n",
       "      <td>0.000175</td>\n",
       "      <td>2017-04-12T13:35:59.291Z</td>\n",
       "      <td>http://www.qulishi.com/news/201701/157669.html</td>\n",
       "      <td>...</td>\n",
       "      <td>667</td>\n",
       "      <td>以现在的地名来说，柳 详情 柳宗元资料介绍 柳宗元擅长于写什么 　　柳宗元生于公元773年，...</td>\n",
       "      <td>[-0.00417784, 0.0210333, 0.0404414, -0.015287,...</td>\n",
       "      <td>[-0.0118479, 0.0596482, 0.114687, -0.0433525, ...</td>\n",
       "      <td>0.061091</td>\n",
       "      <td>0.532680</td>\n",
       "      <td>-0.109404</td>\n",
       "      <td>0.187445</td>\n",
       "      <td>0.329215</td>\n",
       "      <td>(u'\\u8be6\\u60c5', 0.3020522354217014);(u'\\u768...</td>\n",
       "    </tr>\n",
       "    <tr>\n",
       "      <th>3</th>\n",
       "      <td>http://www.qulishi.com/news/201701/157806.html</td>\n",
       "      <td>贞观之治背后真相：隋朝遗产养肥李世民？ 趣历史首页 |  讲述历史上那些有趣的事 人物 - ...</td>\n",
       "      <td>贞观之治背后真相：隋朝遗产养肥李世民？</td>\n",
       "      <td>1564486876501377024</td>\n",
       "      <td>NaN</td>\n",
       "      <td>20170412122707</td>\n",
       "      <td>bbfb992815a03543f78ee13ae88e4ba9</td>\n",
       "      <td>0.001001</td>\n",
       "      <td>2017-04-12T14:45:41.4Z</td>\n",
       "      <td>http://www.qulishi.com/news/201701/157806.html</td>\n",
       "      <td>...</td>\n",
       "      <td>65</td>\n",
       "      <td>贞观之治背后真相：隋朝遗产养肥李世民？  · 贞观之治背后真相：隋朝遗产养肥李世民？  · ...</td>\n",
       "      <td>[-0.00909219, 0.00917837, 0.0345166, -0.010143...</td>\n",
       "      <td>[-0.027703, 0.0279656, 0.105169, -0.0309068, -...</td>\n",
       "      <td>0.079271</td>\n",
       "      <td>0.510026</td>\n",
       "      <td>-0.103174</td>\n",
       "      <td>0.187760</td>\n",
       "      <td>0.316548</td>\n",
       "      <td>(u'\\u8be6\\u60c5', 0.2886173967296319);(u'\\u674...</td>\n",
       "    </tr>\n",
       "    <tr>\n",
       "      <th>4</th>\n",
       "      <td>http://www.qulishi.com/news/201701/158004.html</td>\n",
       "      <td>欧阳修的治学之道：身为文坛宗主为何不多读书？ 趣历史首页 |  讲述历史上那些有趣的事 人物...</td>\n",
       "      <td>欧阳修的治学之道：身为文坛宗主为何不多读书？</td>\n",
       "      <td>1564486876511862784</td>\n",
       "      <td>NaN</td>\n",
       "      <td>20170412122707</td>\n",
       "      <td>b682dc31d36e8d542f69be23dcbfc20c</td>\n",
       "      <td>0.000191</td>\n",
       "      <td>2017-04-12T15:21:46.147Z</td>\n",
       "      <td>http://www.qulishi.com/news/201701/158004.html</td>\n",
       "      <td>...</td>\n",
       "      <td>667</td>\n",
       "      <td>以现在的地名来说，柳 详情 柳宗元资料介绍 柳宗元擅长于写什么 　　柳宗元生于公元773年，...</td>\n",
       "      <td>[-0.00883886, 0.0107681, 0.0271631, -0.0194534...</td>\n",
       "      <td>[-0.0283275, 0.0345105, 0.0870546, -0.0623459,...</td>\n",
       "      <td>0.109489</td>\n",
       "      <td>0.487316</td>\n",
       "      <td>-0.065842</td>\n",
       "      <td>0.201413</td>\n",
       "      <td>0.348539</td>\n",
       "      <td>(u'\\u8be6\\u60c5', 0.2878815033162468);(u'\\u6b2...</td>\n",
       "    </tr>\n",
       "  </tbody>\n",
       "</table>\n",
       "<p>5 rows × 23 columns</p>\n",
       "</div>"
      ],
      "text/plain": [
       "                                               id  \\\n",
       "0  http://www.qulishi.com/news/201701/157485.html   \n",
       "1  http://www.qulishi.com/news/201701/157540.html   \n",
       "2  http://www.qulishi.com/news/201701/157669.html   \n",
       "3  http://www.qulishi.com/news/201701/157806.html   \n",
       "4  http://www.qulishi.com/news/201701/158004.html   \n",
       "\n",
       "                                             content                   title  \\\n",
       "0  隋炀帝的萧皇后生性风流：暗中与宇文化及通奸 趣历史首页 |  讲述历史上那些有趣的事 人物 ...   隋炀帝的萧皇后生性风流：暗中与宇文化及通奸   \n",
       "1  文宣宗高洋：怀揣着爱妃的头颅去赴宴 趣历史首页 |  讲述历史上那些有趣的事 人物 - 专题...       文宣宗高洋：怀揣着爱妃的头颅去赴宴   \n",
       "2  元朝皇帝成吉思汗死后为何没有留下一座陵墓 趣历史首页 |  讲述历史上那些有趣的事 人物 -...    元朝皇帝成吉思汗死后为何没有留下一座陵墓   \n",
       "3  贞观之治背后真相：隋朝遗产养肥李世民？ 趣历史首页 |  讲述历史上那些有趣的事 人物 - ...     贞观之治背后真相：隋朝遗产养肥李世民？   \n",
       "4  欧阳修的治学之道：身为文坛宗主为何不多读书？ 趣历史首页 |  讲述历史上那些有趣的事 人物...  欧阳修的治学之道：身为文坛宗主为何不多读书？   \n",
       "\n",
       "             _version_ cache         segment  \\\n",
       "0  1564486876469919744   NaN  20170412122707   \n",
       "1  1564486876479356928   NaN  20170412122707   \n",
       "2  1564486876490891264   NaN  20170412122707   \n",
       "3  1564486876501377024   NaN  20170412122707   \n",
       "4  1564486876511862784   NaN  20170412122707   \n",
       "\n",
       "                             digest     boost                    tstamp  \\\n",
       "0  ecd2712cad80f2f7ba385735b16cabc7  0.000215  2017-04-12T15:17:54.992Z   \n",
       "1  af9404764d79eab086f9bb94f01881eb  0.000557  2017-04-12T15:06:42.749Z   \n",
       "2  0812de487aaaf822cd7c17bceafcdc12  0.000175  2017-04-12T13:35:59.291Z   \n",
       "3  bbfb992815a03543f78ee13ae88e4ba9  0.001001    2017-04-12T14:45:41.4Z   \n",
       "4  b682dc31d36e8d542f69be23dcbfc20c  0.000191  2017-04-12T15:21:46.147Z   \n",
       "\n",
       "                                              url  \\\n",
       "0  http://www.qulishi.com/news/201701/157485.html   \n",
       "1  http://www.qulishi.com/news/201701/157540.html   \n",
       "2  http://www.qulishi.com/news/201701/157669.html   \n",
       "3  http://www.qulishi.com/news/201701/157806.html   \n",
       "4  http://www.qulishi.com/news/201701/158004.html   \n",
       "\n",
       "                         ...                         abstract_len  \\\n",
       "0                        ...                                  667   \n",
       "1                        ...                                  731   \n",
       "2                        ...                                  667   \n",
       "3                        ...                                   65   \n",
       "4                        ...                                  667   \n",
       "\n",
       "                                          abstract_s  \\\n",
       "0  以现在的地名来说，柳 详情 柳宗元资料介绍 柳宗元擅长于写什么 　　柳宗元生于公元773年，...   \n",
       "1  以现在的地名来说，柳 详情 柳宗元资料介绍 柳宗元擅长于写什么 　　柳宗元生于公元773年，...   \n",
       "2  以现在的地名来说，柳 详情 柳宗元资料介绍 柳宗元擅长于写什么 　　柳宗元生于公元773年，...   \n",
       "3  贞观之治背后真相：隋朝遗产养肥李世民？  · 贞观之治背后真相：隋朝遗产养肥李世民？  · ...   \n",
       "4  以现在的地名来说，柳 详情 柳宗元资料介绍 柳宗元擅长于写什么 　　柳宗元生于公元773年，...   \n",
       "\n",
       "                                        w2v_centroid  \\\n",
       "0  [-0.00897889, 0.0148242, 0.0326216, -0.0117419...   \n",
       "1  [-0.00570392, 0.0160906, 0.0384237, -0.0132063...   \n",
       "2  [-0.00417784, 0.0210333, 0.0404414, -0.015287,...   \n",
       "3  [-0.00909219, 0.00917837, 0.0345166, -0.010143...   \n",
       "4  [-0.00883886, 0.0107681, 0.0271631, -0.0194534...   \n",
       "\n",
       "                                      w2v_centroid_n gxwh_w2v_sim  \\\n",
       "0  [-0.0293764, 0.0485007, 0.106729, -0.0384162, ...     0.043740   \n",
       "1  [-0.0181728, 0.0512649, 0.122419, -0.0420756, ...     0.043145   \n",
       "2  [-0.0118479, 0.0596482, 0.114687, -0.0433525, ...     0.061091   \n",
       "3  [-0.027703, 0.0279656, 0.105169, -0.0309068, -...     0.079271   \n",
       "4  [-0.0283275, 0.0345105, 0.0870546, -0.0623459,...     0.109489   \n",
       "\n",
       "  lishi_w2v_sim yishu_w2v_sim  renwu_w2v_sim  gushi_w2v_sim  \\\n",
       "0      0.509463     -0.126326       0.195160       0.327964   \n",
       "1      0.517394     -0.117858       0.192437       0.344010   \n",
       "2      0.532680     -0.109404       0.187445       0.329215   \n",
       "3      0.510026     -0.103174       0.187760       0.316548   \n",
       "4      0.487316     -0.065842       0.201413       0.348539   \n",
       "\n",
       "                                         key_words_s  \n",
       "0  (u'\\u8be6\\u60c5', 0.28526307630275893);(u'\\u51...  \n",
       "1  (u'\\u8be6\\u60c5', 0.29084782483418853);(u'\\u63...  \n",
       "2  (u'\\u8be6\\u60c5', 0.3020522354217014);(u'\\u768...  \n",
       "3  (u'\\u8be6\\u60c5', 0.2886173967296319);(u'\\u674...  \n",
       "4  (u'\\u8be6\\u60c5', 0.2878815033162468);(u'\\u6b2...  \n",
       "\n",
       "[5 rows x 23 columns]"
      ]
     },
     "execution_count": 137,
     "metadata": {},
     "output_type": "execute_result"
    }
   ],
   "source": [
    "df.head()"
   ]
  },
  {
   "cell_type": "code",
   "execution_count": 140,
   "metadata": {
    "collapsed": true
   },
   "outputs": [],
   "source": [
    "for i in range(0, 100):\n",
    "    t = df.iloc[i]['abstract_s']\n",
    "    print i, t"
   ]
  },
  {
   "cell_type": "code",
   "execution_count": 72,
   "metadata": {
    "collapsed": true
   },
   "outputs": [],
   "source": [
    "r = df.iloc[8]['key_words']"
   ]
  },
  {
   "cell_type": "code",
   "execution_count": 77,
   "metadata": {},
   "outputs": [
    {
     "data": {
      "text/plain": [
       "(u'\\u8be6\\u60c5', 0.2553304513808955)"
      ]
     },
     "execution_count": 77,
     "metadata": {},
     "output_type": "execute_result"
    }
   ],
   "source": [
    "r[0]"
   ]
  },
  {
   "cell_type": "code",
   "execution_count": 78,
   "metadata": {},
   "outputs": [
    {
     "data": {
      "text/plain": [
       "('\\\\u8be6\\\\u60c5', 0.2553304513808955)"
      ]
     },
     "execution_count": 78,
     "metadata": {},
     "output_type": "execute_result"
    }
   ],
   "source": [
    "a = '\\u8be6\\u60c5'\n",
    "b = 0.2553304513808955\n",
    "(a, b)"
   ]
  },
  {
   "cell_type": "code",
   "execution_count": 100,
   "metadata": {},
   "outputs": [
    {
     "data": {
      "text/plain": [
       "unicode"
      ]
     },
     "execution_count": 100,
     "metadata": {},
     "output_type": "execute_result"
    }
   ],
   "source": [
    "type(r[0][0])"
   ]
  },
  {
   "cell_type": "code",
   "execution_count": 41,
   "metadata": {},
   "outputs": [
    {
     "data": {
      "text/plain": [
       "3.2790112413142007"
      ]
     },
     "execution_count": 41,
     "metadata": {},
     "output_type": "execute_result"
    }
   ],
   "source": [
    "sum(key_words)"
   ]
  },
  {
   "cell_type": "code",
   "execution_count": 81,
   "metadata": {
    "collapsed": true
   },
   "outputs": [],
   "source": [
    "def map_serialize(x):\n",
    "    #print len(x)\n",
    "    ret = []\n",
    "    idx = 0\n",
    "    for v in x:\n",
    "        #print idx, v\n",
    "        ret.append(str(v))\n",
    "        idx += 1\n",
    "    #print ret\n",
    "    return ';'.join(ret)"
   ]
  },
  {
   "cell_type": "code",
   "execution_count": 62,
   "metadata": {
    "collapsed": true
   },
   "outputs": [],
   "source": [
    "ret = map_serialize(df.iloc[2]['key_words'])"
   ]
  },
  {
   "cell_type": "code",
   "execution_count": 71,
   "metadata": {},
   "outputs": [
    {
     "data": {
      "text/plain": [
       "'u'"
      ]
     },
     "execution_count": 71,
     "metadata": {},
     "output_type": "execute_result"
    }
   ],
   "source": [
    "ret[1]"
   ]
  },
  {
   "cell_type": "code",
   "execution_count": 174,
   "metadata": {
    "collapsed": true
   },
   "outputs": [],
   "source": [
    "def deserialize(x):\n",
    "    #print x\n",
    "    ret = []\n",
    "    vals = x.split(';')\n",
    "    \n",
    "    cnt = 0\n",
    "    for val in vals:\n",
    "        t = []\n",
    "        s = val.strip('()')\n",
    "        v = s.split(',')\n",
    "        print cnt, v[0], v[1]\n",
    "        #print '-----'\n",
    "        t.append(eval(v[0].encode('utf-8')))\n",
    "        t.append(float(v[1]))        \n",
    "        cnt += 1\n",
    "        ret.append(t)\n",
    "    return np.asarray(ret)"
   ]
  },
  {
   "cell_type": "code",
   "execution_count": 175,
   "metadata": {
    "collapsed": true
   },
   "outputs": [],
   "source": [
    "aa = unicode(u'\\u8be6\\u60c5')\n",
    "print aa"
   ]
  },
  {
   "cell_type": "code",
   "execution_count": 176,
   "metadata": {
    "collapsed": true
   },
   "outputs": [],
   "source": [
    "a = deserialize(ret)"
   ]
  },
  {
   "cell_type": "code",
   "execution_count": 177,
   "metadata": {
    "collapsed": true
   },
   "outputs": [],
   "source": [
    "t = a[0][0]\n",
    "print t, unicode(t)"
   ]
  },
  {
   "cell_type": "code",
   "execution_count": 94,
   "metadata": {},
   "outputs": [
    {
     "data": {
      "text/plain": [
       "0.011646"
      ]
     },
     "execution_count": 94,
     "metadata": {},
     "output_type": "execute_result"
    }
   ],
   "source": [
    "round(0.011646144669167071,6)"
   ]
  },
  {
   "cell_type": "code",
   "execution_count": 178,
   "metadata": {
    "collapsed": true
   },
   "outputs": [],
   "source": [
    "ss = [t[0] for t in a]"
   ]
  },
  {
   "cell_type": "code",
   "execution_count": 179,
   "metadata": {
    "collapsed": true
   },
   "outputs": [],
   "source": [
    "print type(ss[0].decode('utf-8')), ss[0].decode('utf-8')"
   ]
  },
  {
   "cell_type": "code",
   "execution_count": 173,
   "metadata": {
    "collapsed": true
   },
   "outputs": [],
   "source": [
    "print ' '.join(ss)"
   ]
  },
  {
   "cell_type": "code",
   "execution_count": 124,
   "metadata": {},
   "outputs": [
    {
     "name": "stdout",
     "output_type": "stream",
     "text": [
      "<class 'pandas.core.frame.DataFrame'>\n",
      "RangeIndex: 264832 entries, 0 to 264831\n",
      "Data columns (total 14 columns):\n",
      "id             264832 non-null object\n",
      "content        264832 non-null object\n",
      "title          264832 non-null object\n",
      "_version_      264832 non-null int64\n",
      "cache          260 non-null object\n",
      "segment        264832 non-null int64\n",
      "digest         264832 non-null object\n",
      "boost          264832 non-null float64\n",
      "tstamp         264832 non-null object\n",
      "url            264832 non-null object\n",
      "domain         264832 non-null object\n",
      "content_seg    264832 non-null object\n",
      "abstract       264832 non-null object\n",
      "key_words      264832 non-null object\n",
      "dtypes: float64(1), int64(2), object(11)\n",
      "memory usage: 28.3+ MB\n"
     ]
    }
   ],
   "source": [
    "df.info()"
   ]
  },
  {
   "cell_type": "code",
   "execution_count": 127,
   "metadata": {
    "collapsed": true
   },
   "outputs": [],
   "source": [
    "df['key_words_s'] = df.key_words.map(lambda x: map_serialize(x))"
   ]
  },
  {
   "cell_type": "code",
   "execution_count": 128,
   "metadata": {
    "collapsed": true
   },
   "outputs": [],
   "source": [
    "df['abstract_s'] = df.abstract.map(lambda x: ' '.join(x))"
   ]
  },
  {
   "cell_type": "code",
   "execution_count": 40,
   "metadata": {},
   "outputs": [
    {
     "data": {
      "text/html": [
       "<div>\n",
       "<table border=\"1\" class=\"dataframe\">\n",
       "  <thead>\n",
       "    <tr style=\"text-align: right;\">\n",
       "      <th></th>\n",
       "      <th>id</th>\n",
       "      <th>content</th>\n",
       "      <th>title</th>\n",
       "      <th>_version_</th>\n",
       "      <th>cache</th>\n",
       "      <th>segment</th>\n",
       "      <th>digest</th>\n",
       "      <th>boost</th>\n",
       "      <th>tstamp</th>\n",
       "      <th>url</th>\n",
       "      <th>domain</th>\n",
       "      <th>abstract</th>\n",
       "      <th>key_words</th>\n",
       "      <th>abstract_len</th>\n",
       "      <th>abstract_s</th>\n",
       "    </tr>\n",
       "  </thead>\n",
       "  <tbody>\n",
       "    <tr>\n",
       "      <th>0</th>\n",
       "      <td>http://www.qulishi.com/news/201701/157485.html</td>\n",
       "      <td>隋炀帝的萧皇后生性风流：暗中与宇文化及通奸 趣历史首页 |  讲述历史上那些有趣的事 人物 ...</td>\n",
       "      <td>隋炀帝的萧皇后生性风流：暗中与宇文化及通奸</td>\n",
       "      <td>1564486876469919744</td>\n",
       "      <td>NaN</td>\n",
       "      <td>20170412122707</td>\n",
       "      <td>ecd2712cad80f2f7ba385735b16cabc7</td>\n",
       "      <td>0.000215</td>\n",
       "      <td>2017-04-12T15:17:54.992Z</td>\n",
       "      <td>http://www.qulishi.com/news/201701/157485.html</td>\n",
       "      <td>qulishi.com</td>\n",
       "      <td>[以现在的地名来说，柳 详情 柳宗元资料介绍 柳宗元擅长于写什么 　　柳宗元生于公元773年...</td>\n",
       "      <td>[(详情, 0.285263076303), (公主, 0.0644873558699), ...</td>\n",
       "      <td>3</td>\n",
       "      <td>以现在的地名来说，柳 详情 柳宗元资料介绍 柳宗元擅长于写什么 　　柳宗元生于公元773年，...</td>\n",
       "    </tr>\n",
       "    <tr>\n",
       "      <th>1</th>\n",
       "      <td>http://www.qulishi.com/news/201701/157540.html</td>\n",
       "      <td>文宣宗高洋：怀揣着爱妃的头颅去赴宴 趣历史首页 |  讲述历史上那些有趣的事 人物 - 专题...</td>\n",
       "      <td>文宣宗高洋：怀揣着爱妃的头颅去赴宴</td>\n",
       "      <td>1564486876479356928</td>\n",
       "      <td>NaN</td>\n",
       "      <td>20170412122707</td>\n",
       "      <td>af9404764d79eab086f9bb94f01881eb</td>\n",
       "      <td>0.000557</td>\n",
       "      <td>2017-04-12T15:06:42.749Z</td>\n",
       "      <td>http://www.qulishi.com/news/201701/157540.html</td>\n",
       "      <td>qulishi.com</td>\n",
       "      <td>[以现在的地名来说，柳 详情 柳宗元资料介绍 柳宗元擅长于写什么 　　柳宗元生于公元773年...</td>\n",
       "      <td>[(详情, 0.290847824834), (揭秘, 0.0713584866225), ...</td>\n",
       "      <td>3</td>\n",
       "      <td>以现在的地名来说，柳 详情 柳宗元资料介绍 柳宗元擅长于写什么 　　柳宗元生于公元773年，...</td>\n",
       "    </tr>\n",
       "    <tr>\n",
       "      <th>2</th>\n",
       "      <td>http://www.qulishi.com/news/201701/157669.html</td>\n",
       "      <td>元朝皇帝成吉思汗死后为何没有留下一座陵墓 趣历史首页 |  讲述历史上那些有趣的事 人物 -...</td>\n",
       "      <td>元朝皇帝成吉思汗死后为何没有留下一座陵墓</td>\n",
       "      <td>1564486876490891264</td>\n",
       "      <td>NaN</td>\n",
       "      <td>20170412122707</td>\n",
       "      <td>0812de487aaaf822cd7c17bceafcdc12</td>\n",
       "      <td>0.000175</td>\n",
       "      <td>2017-04-12T13:35:59.291Z</td>\n",
       "      <td>http://www.qulishi.com/news/201701/157669.html</td>\n",
       "      <td>qulishi.com</td>\n",
       "      <td>[以现在的地名来说，柳 详情 柳宗元资料介绍 柳宗元擅长于写什么 　　柳宗元生于公元773年...</td>\n",
       "      <td>[(详情, 0.302052235422), (皇帝, 0.087244496747), (...</td>\n",
       "      <td>3</td>\n",
       "      <td>以现在的地名来说，柳 详情 柳宗元资料介绍 柳宗元擅长于写什么 　　柳宗元生于公元773年，...</td>\n",
       "    </tr>\n",
       "    <tr>\n",
       "      <th>3</th>\n",
       "      <td>http://www.qulishi.com/news/201701/157806.html</td>\n",
       "      <td>贞观之治背后真相：隋朝遗产养肥李世民？ 趣历史首页 |  讲述历史上那些有趣的事 人物 - ...</td>\n",
       "      <td>贞观之治背后真相：隋朝遗产养肥李世民？</td>\n",
       "      <td>1564486876501377024</td>\n",
       "      <td>NaN</td>\n",
       "      <td>20170412122707</td>\n",
       "      <td>bbfb992815a03543f78ee13ae88e4ba9</td>\n",
       "      <td>0.001001</td>\n",
       "      <td>2017-04-12T14:45:41.4Z</td>\n",
       "      <td>http://www.qulishi.com/news/201701/157806.html</td>\n",
       "      <td>qulishi.com</td>\n",
       "      <td>[贞观之治背后真相：隋朝遗产养肥李世民？,  · 贞观之治背后真相：隋朝遗产养肥李世民？, ...</td>\n",
       "      <td>[(详情, 0.28861739673), (李世民, 0.0801202910135), ...</td>\n",
       "      <td>3</td>\n",
       "      <td>贞观之治背后真相：隋朝遗产养肥李世民？  · 贞观之治背后真相：隋朝遗产养肥李世民？  · ...</td>\n",
       "    </tr>\n",
       "    <tr>\n",
       "      <th>4</th>\n",
       "      <td>http://www.qulishi.com/news/201701/158004.html</td>\n",
       "      <td>欧阳修的治学之道：身为文坛宗主为何不多读书？ 趣历史首页 |  讲述历史上那些有趣的事 人物...</td>\n",
       "      <td>欧阳修的治学之道：身为文坛宗主为何不多读书？</td>\n",
       "      <td>1564486876511862784</td>\n",
       "      <td>NaN</td>\n",
       "      <td>20170412122707</td>\n",
       "      <td>b682dc31d36e8d542f69be23dcbfc20c</td>\n",
       "      <td>0.000191</td>\n",
       "      <td>2017-04-12T15:21:46.147Z</td>\n",
       "      <td>http://www.qulishi.com/news/201701/158004.html</td>\n",
       "      <td>qulishi.com</td>\n",
       "      <td>[以现在的地名来说，柳 详情 柳宗元资料介绍 柳宗元擅长于写什么 　　柳宗元生于公元773年...</td>\n",
       "      <td>[(详情, 0.287881503316), (欧阳修, 0.21175583722), (...</td>\n",
       "      <td>3</td>\n",
       "      <td>以现在的地名来说，柳 详情 柳宗元资料介绍 柳宗元擅长于写什么 　　柳宗元生于公元773年，...</td>\n",
       "    </tr>\n",
       "  </tbody>\n",
       "</table>\n",
       "</div>"
      ],
      "text/plain": [
       "                                               id  \\\n",
       "0  http://www.qulishi.com/news/201701/157485.html   \n",
       "1  http://www.qulishi.com/news/201701/157540.html   \n",
       "2  http://www.qulishi.com/news/201701/157669.html   \n",
       "3  http://www.qulishi.com/news/201701/157806.html   \n",
       "4  http://www.qulishi.com/news/201701/158004.html   \n",
       "\n",
       "                                             content                   title  \\\n",
       "0  隋炀帝的萧皇后生性风流：暗中与宇文化及通奸 趣历史首页 |  讲述历史上那些有趣的事 人物 ...   隋炀帝的萧皇后生性风流：暗中与宇文化及通奸   \n",
       "1  文宣宗高洋：怀揣着爱妃的头颅去赴宴 趣历史首页 |  讲述历史上那些有趣的事 人物 - 专题...       文宣宗高洋：怀揣着爱妃的头颅去赴宴   \n",
       "2  元朝皇帝成吉思汗死后为何没有留下一座陵墓 趣历史首页 |  讲述历史上那些有趣的事 人物 -...    元朝皇帝成吉思汗死后为何没有留下一座陵墓   \n",
       "3  贞观之治背后真相：隋朝遗产养肥李世民？ 趣历史首页 |  讲述历史上那些有趣的事 人物 - ...     贞观之治背后真相：隋朝遗产养肥李世民？   \n",
       "4  欧阳修的治学之道：身为文坛宗主为何不多读书？ 趣历史首页 |  讲述历史上那些有趣的事 人物...  欧阳修的治学之道：身为文坛宗主为何不多读书？   \n",
       "\n",
       "             _version_ cache         segment  \\\n",
       "0  1564486876469919744   NaN  20170412122707   \n",
       "1  1564486876479356928   NaN  20170412122707   \n",
       "2  1564486876490891264   NaN  20170412122707   \n",
       "3  1564486876501377024   NaN  20170412122707   \n",
       "4  1564486876511862784   NaN  20170412122707   \n",
       "\n",
       "                             digest     boost                    tstamp  \\\n",
       "0  ecd2712cad80f2f7ba385735b16cabc7  0.000215  2017-04-12T15:17:54.992Z   \n",
       "1  af9404764d79eab086f9bb94f01881eb  0.000557  2017-04-12T15:06:42.749Z   \n",
       "2  0812de487aaaf822cd7c17bceafcdc12  0.000175  2017-04-12T13:35:59.291Z   \n",
       "3  bbfb992815a03543f78ee13ae88e4ba9  0.001001    2017-04-12T14:45:41.4Z   \n",
       "4  b682dc31d36e8d542f69be23dcbfc20c  0.000191  2017-04-12T15:21:46.147Z   \n",
       "\n",
       "                                              url       domain  \\\n",
       "0  http://www.qulishi.com/news/201701/157485.html  qulishi.com   \n",
       "1  http://www.qulishi.com/news/201701/157540.html  qulishi.com   \n",
       "2  http://www.qulishi.com/news/201701/157669.html  qulishi.com   \n",
       "3  http://www.qulishi.com/news/201701/157806.html  qulishi.com   \n",
       "4  http://www.qulishi.com/news/201701/158004.html  qulishi.com   \n",
       "\n",
       "                                            abstract  \\\n",
       "0  [以现在的地名来说，柳 详情 柳宗元资料介绍 柳宗元擅长于写什么 　　柳宗元生于公元773年...   \n",
       "1  [以现在的地名来说，柳 详情 柳宗元资料介绍 柳宗元擅长于写什么 　　柳宗元生于公元773年...   \n",
       "2  [以现在的地名来说，柳 详情 柳宗元资料介绍 柳宗元擅长于写什么 　　柳宗元生于公元773年...   \n",
       "3  [贞观之治背后真相：隋朝遗产养肥李世民？,  · 贞观之治背后真相：隋朝遗产养肥李世民？, ...   \n",
       "4  [以现在的地名来说，柳 详情 柳宗元资料介绍 柳宗元擅长于写什么 　　柳宗元生于公元773年...   \n",
       "\n",
       "                                           key_words  abstract_len  \\\n",
       "0  [(详情, 0.285263076303), (公主, 0.0644873558699), ...             3   \n",
       "1  [(详情, 0.290847824834), (揭秘, 0.0713584866225), ...             3   \n",
       "2  [(详情, 0.302052235422), (皇帝, 0.087244496747), (...             3   \n",
       "3  [(详情, 0.28861739673), (李世民, 0.0801202910135), ...             3   \n",
       "4  [(详情, 0.287881503316), (欧阳修, 0.21175583722), (...             3   \n",
       "\n",
       "                                          abstract_s  \n",
       "0  以现在的地名来说，柳 详情 柳宗元资料介绍 柳宗元擅长于写什么 　　柳宗元生于公元773年，...  \n",
       "1  以现在的地名来说，柳 详情 柳宗元资料介绍 柳宗元擅长于写什么 　　柳宗元生于公元773年，...  \n",
       "2  以现在的地名来说，柳 详情 柳宗元资料介绍 柳宗元擅长于写什么 　　柳宗元生于公元773年，...  \n",
       "3  贞观之治背后真相：隋朝遗产养肥李世民？  · 贞观之治背后真相：隋朝遗产养肥李世民？  · ...  \n",
       "4  以现在的地名来说，柳 详情 柳宗元资料介绍 柳宗元擅长于写什么 　　柳宗元生于公元773年，...  "
      ]
     },
     "execution_count": 40,
     "metadata": {},
     "output_type": "execute_result"
    }
   ],
   "source": [
    "df.head()"
   ]
  },
  {
   "cell_type": "code",
   "execution_count": 129,
   "metadata": {
    "collapsed": true
   },
   "outputs": [],
   "source": [
    "df = df[df['abstract_len'] < 6000]"
   ]
  },
  {
   "cell_type": "code",
   "execution_count": 130,
   "metadata": {
    "collapsed": true
   },
   "outputs": [],
   "source": [
    "df = df[df['gxwh_w2v_sim'] > 0]"
   ]
  },
  {
   "cell_type": "code",
   "execution_count": 131,
   "metadata": {
    "collapsed": true
   },
   "outputs": [],
   "source": [
    "df.info()"
   ]
  },
  {
   "cell_type": "code",
   "execution_count": 135,
   "metadata": {
    "collapsed": true
   },
   "outputs": [],
   "source": [
    "df_out = df[['url', 'title', 'abstract_s', 'key_words_s', 'w2v_centroid_n']]"
   ]
  },
  {
   "cell_type": "code",
   "execution_count": 133,
   "metadata": {},
   "outputs": [
    {
     "data": {
      "text/html": [
       "<div>\n",
       "<table border=\"1\" class=\"dataframe\">\n",
       "  <thead>\n",
       "    <tr style=\"text-align: right;\">\n",
       "      <th></th>\n",
       "      <th>url</th>\n",
       "      <th>title</th>\n",
       "      <th>abstract_s</th>\n",
       "      <th>key_words_s</th>\n",
       "    </tr>\n",
       "  </thead>\n",
       "  <tbody>\n",
       "    <tr>\n",
       "      <th>0</th>\n",
       "      <td>http://www.qulishi.com/news/201701/157485.html</td>\n",
       "      <td>隋炀帝的萧皇后生性风流：暗中与宇文化及通奸</td>\n",
       "      <td>以现在的地名来说，柳 详情 柳宗元资料介绍 柳宗元擅长于写什么 　　柳宗元生于公元773年，...</td>\n",
       "      <td>(u'\\u8be6\\u60c5', 0.28526307630275893);(u'\\u51...</td>\n",
       "    </tr>\n",
       "    <tr>\n",
       "      <th>1</th>\n",
       "      <td>http://www.qulishi.com/news/201701/157540.html</td>\n",
       "      <td>文宣宗高洋：怀揣着爱妃的头颅去赴宴</td>\n",
       "      <td>以现在的地名来说，柳 详情 柳宗元资料介绍 柳宗元擅长于写什么 　　柳宗元生于公元773年，...</td>\n",
       "      <td>(u'\\u8be6\\u60c5', 0.29084782483418853);(u'\\u63...</td>\n",
       "    </tr>\n",
       "    <tr>\n",
       "      <th>2</th>\n",
       "      <td>http://www.qulishi.com/news/201701/157669.html</td>\n",
       "      <td>元朝皇帝成吉思汗死后为何没有留下一座陵墓</td>\n",
       "      <td>以现在的地名来说，柳 详情 柳宗元资料介绍 柳宗元擅长于写什么 　　柳宗元生于公元773年，...</td>\n",
       "      <td>(u'\\u8be6\\u60c5', 0.3020522354217014);(u'\\u768...</td>\n",
       "    </tr>\n",
       "    <tr>\n",
       "      <th>3</th>\n",
       "      <td>http://www.qulishi.com/news/201701/157806.html</td>\n",
       "      <td>贞观之治背后真相：隋朝遗产养肥李世民？</td>\n",
       "      <td>贞观之治背后真相：隋朝遗产养肥李世民？  · 贞观之治背后真相：隋朝遗产养肥李世民？  · ...</td>\n",
       "      <td>(u'\\u8be6\\u60c5', 0.2886173967296319);(u'\\u674...</td>\n",
       "    </tr>\n",
       "    <tr>\n",
       "      <th>4</th>\n",
       "      <td>http://www.qulishi.com/news/201701/158004.html</td>\n",
       "      <td>欧阳修的治学之道：身为文坛宗主为何不多读书？</td>\n",
       "      <td>以现在的地名来说，柳 详情 柳宗元资料介绍 柳宗元擅长于写什么 　　柳宗元生于公元773年，...</td>\n",
       "      <td>(u'\\u8be6\\u60c5', 0.2878815033162468);(u'\\u6b2...</td>\n",
       "    </tr>\n",
       "  </tbody>\n",
       "</table>\n",
       "</div>"
      ],
      "text/plain": [
       "                                              url                   title  \\\n",
       "0  http://www.qulishi.com/news/201701/157485.html   隋炀帝的萧皇后生性风流：暗中与宇文化及通奸   \n",
       "1  http://www.qulishi.com/news/201701/157540.html       文宣宗高洋：怀揣着爱妃的头颅去赴宴   \n",
       "2  http://www.qulishi.com/news/201701/157669.html    元朝皇帝成吉思汗死后为何没有留下一座陵墓   \n",
       "3  http://www.qulishi.com/news/201701/157806.html     贞观之治背后真相：隋朝遗产养肥李世民？   \n",
       "4  http://www.qulishi.com/news/201701/158004.html  欧阳修的治学之道：身为文坛宗主为何不多读书？   \n",
       "\n",
       "                                          abstract_s  \\\n",
       "0  以现在的地名来说，柳 详情 柳宗元资料介绍 柳宗元擅长于写什么 　　柳宗元生于公元773年，...   \n",
       "1  以现在的地名来说，柳 详情 柳宗元资料介绍 柳宗元擅长于写什么 　　柳宗元生于公元773年，...   \n",
       "2  以现在的地名来说，柳 详情 柳宗元资料介绍 柳宗元擅长于写什么 　　柳宗元生于公元773年，...   \n",
       "3  贞观之治背后真相：隋朝遗产养肥李世民？  · 贞观之治背后真相：隋朝遗产养肥李世民？  · ...   \n",
       "4  以现在的地名来说，柳 详情 柳宗元资料介绍 柳宗元擅长于写什么 　　柳宗元生于公元773年，...   \n",
       "\n",
       "                                         key_words_s  \n",
       "0  (u'\\u8be6\\u60c5', 0.28526307630275893);(u'\\u51...  \n",
       "1  (u'\\u8be6\\u60c5', 0.29084782483418853);(u'\\u63...  \n",
       "2  (u'\\u8be6\\u60c5', 0.3020522354217014);(u'\\u768...  \n",
       "3  (u'\\u8be6\\u60c5', 0.2886173967296319);(u'\\u674...  \n",
       "4  (u'\\u8be6\\u60c5', 0.2878815033162468);(u'\\u6b2...  "
      ]
     },
     "execution_count": 133,
     "metadata": {},
     "output_type": "execute_result"
    }
   ],
   "source": [
    "df_out.head()"
   ]
  },
  {
   "cell_type": "code",
   "execution_count": 136,
   "metadata": {
    "collapsed": true
   },
   "outputs": [],
   "source": [
    "df_out.to_csv('../data/web/chinese-web-full_v1.csv', encoding='utf-8', index=False)"
   ]
  },
  {
   "cell_type": "code",
   "execution_count": 41,
   "metadata": {
    "collapsed": true
   },
   "outputs": [],
   "source": [
    "df['abstract_len'] = df['abstract_s'].str.len()"
   ]
  },
  {
   "cell_type": "code",
   "execution_count": 42,
   "metadata": {
    "collapsed": true
   },
   "outputs": [],
   "source": [
    "import matplotlib \n",
    "import matplotlib.pyplot as plt\n",
    "%matplotlib inline "
   ]
  },
  {
   "cell_type": "code",
   "execution_count": 43,
   "metadata": {},
   "outputs": [
    {
     "data": {
      "text/plain": [
       "<matplotlib.text.Text at 0x2ba9c8d10>"
      ]
     },
     "execution_count": 43,
     "metadata": {},
     "output_type": "execute_result"
    },
    {
     "data": {
      "image/png": "[encoded data removed]",
      "text/plain": [
       "<matplotlib.figure.Figure at 0x2bab19e90>"
      ]
     },
     "metadata": {},
     "output_type": "display_data"
    }
   ],
   "source": [
    "df['abstract_len'].hist(bins=500, figsize= (16, 6))\n",
    "plt.title('Content Length Histogram')\n",
    "plt.xlabel('Length')\n",
    "plt.ylabel('Count')"
   ]
  },
  {
   "cell_type": "code",
   "execution_count": 37,
   "metadata": {},
   "outputs": [
    {
     "data": {
      "text/plain": [
       "3"
      ]
     },
     "execution_count": 37,
     "metadata": {},
     "output_type": "execute_result"
    }
   ],
   "source": [
    "df['abstract_len'].max()"
   ]
  },
  {
   "cell_type": "code",
   "execution_count": 194,
   "metadata": {
    "collapsed": true
   },
   "outputs": [],
   "source": [
    "test = df[df['abstract_len'] > 6000]"
   ]
  },
  {
   "cell_type": "code",
   "execution_count": 195,
   "metadata": {
    "collapsed": true
   },
   "outputs": [],
   "source": [
    "test.info()"
   ]
  },
  {
   "cell_type": "code",
   "execution_count": 44,
   "metadata": {
    "collapsed": true
   },
   "outputs": [],
   "source": [
    "from gensim.models import Word2Vec, KeyedVectors\n",
    "model = KeyedVectors.load_word2vec_format('../data/w2v/chinese_model_format_v1.bin', binary=False)"
   ]
  },
  {
   "cell_type": "code",
   "execution_count": 45,
   "metadata": {
    "collapsed": true
   },
   "outputs": [],
   "source": [
    "def map_word2vec_centroid(x):\n",
    "    global model\n",
    "    x = x.items() #dict to tuple\n",
    "    # remove out-of-vocabulary words\n",
    "    doc = [(word, fq) for word, fq in x if word in model.vocab]   \n",
    "    if len(doc) == 0:\n",
    "        #print x\n",
    "        return None\n",
    "    #words, fq = zip(*doc)\n",
    "    ret = [model[x] * y for x, y in doc]\n",
    "    \n",
    "    val = np.mean(ret, axis=0)\n",
    "    #print ret\n",
    "    \n",
    "    #doc = [word for word in doc if word in word2vec_model.vocab]\n",
    "    return val"
   ]
  },
  {
   "cell_type": "code",
   "execution_count": 46,
   "metadata": {
    "collapsed": true
   },
   "outputs": [],
   "source": [
    "def map_key_words_2_dict(x):\n",
    "    keys = [t[0] for t in x]\n",
    "    values = [t[1] for t in x]\n",
    "    ret = dict()\n",
    "    for i in range(0, len(keys)):\n",
    "        ret[keys[i]] = values[i]\n",
    "    return ret"
   ]
  },
  {
   "cell_type": "code",
   "execution_count": 47,
   "metadata": {
    "collapsed": true
   },
   "outputs": [],
   "source": [
    "def get_cosine2(vec1, vec2):    \n",
    "    numerator = np.sum([a*b for a,b in zip(vec1,vec2)])\n",
    "    return numerator"
   ]
  },
  {
   "cell_type": "code",
   "execution_count": 247,
   "metadata": {},
   "outputs": [
    {
     "data": {
      "text/plain": [
       "{u'10': 0.023292289338334143,\n",
       " u'102': 0.011646144669167071,\n",
       " u'12': 0.017469217003750606,\n",
       " u'15': 0.011646144669167071,\n",
       " u'47': 0.011646144669167071,\n",
       " u'500': 0.011646144669167071,\n",
       " u'700': 0.011646144669167071,\n",
       " u'773': 0.011646144669167071,\n",
       " u'819': 0.011646144669167071,\n",
       " u'\\u4e00\\u4f4d': 0.010205889389965903,\n",
       " u'\\u4e07\\u81f3': 0.011646144669167071,\n",
       " u'\\u4e09\\u56fd': 0.010423771836400388,\n",
       " u'\\u4e09\\u56fd\\u6f14\\u4e49': 0.01352599135825134,\n",
       " u'\\u4e09\\u987e\\u8305\\u5e90': 0.011298677602532878,\n",
       " u'\\u4e0a\\u53e4': 0.008597665695801266,\n",
       " u'\\u4e1c\\u5434': 0.011723733858061375,\n",
       " u'\\u4e24\\u664b': 0.009403002834807599,\n",
       " u'\\u4e24\\u6b21': 0.009059148764422795,\n",
       " u'\\u4e2d\\u56fd': 0.025067925802834876,\n",
       " u'\\u4e2d\\u671d': 0.009105504881032636,\n",
       " u'\\u4e3a\\u4ec0\\u4e48': 0.012875598616975159,\n",
       " u'\\u4e3a\\u4f55': 0.04400834393245007,\n",
       " u'\\u4e4b\\u591c': 0.008435392729585971,\n",
       " u'\\u4e4b\\u6218': 0.0447986832641208,\n",
       " u'\\u4e4b\\u803b': 0.011646144669167071,\n",
       " u'\\u4e4b\\u8c1c': 0.01698761636956649,\n",
       " u'\\u4e66\\u753b': 0.012153698991509986,\n",
       " u'\\u4e94\\u4f4d': 0.00891938190317584,\n",
       " u'\\u4ea4\\u6218': 0.011521461995538237,\n",
       " u'\\u4eba\\u7269': 0.008461155013735996,\n",
       " u'\\u4ec0\\u4e48': 0.027798556694788115,\n",
       " u'\\u4ee4\\u4eba': 0.009207904995460302,\n",
       " u'\\u4f11\\u6389': 0.011646144669167071,\n",
       " u'\\u4f17\\u591a': 0.008629378029732099,\n",
       " u'\\u4f20\\u8bf4': 0.012585206550920604,\n",
       " u'\\u514d\\u6b7b\\u4ee4': 0.017469217003750606,\n",
       " u'\\u516b\\u5927\\u5c71\\u4eba': 0.024382626967169994,\n",
       " u'\\u516b\\u5c0a': 0.013541819436921579,\n",
       " u'\\u516c\\u4e3b': 0.014626569699035558,\n",
       " u'\\u516c\\u5143': 0.020898354721393085,\n",
       " u'\\u516c\\u5143\\u524d': 0.012054345904296151,\n",
       " u'\\u5173\\u5f20': 0.016089097750754993,\n",
       " u'\\u5173\\u7fbd': 0.04146236607862153,\n",
       " u'\\u5185\\u670d': 0.014212796466751096,\n",
       " u'\\u519b\\u961f': 0.00832984324163176,\n",
       " u'\\u51cc\\u8fdf': 0.009169061161461278,\n",
       " u'\\u5218\\u5907': 0.04417513115088164,\n",
       " u'\\u5236\\u5ea6': 0.01258383468244033,\n",
       " u'\\u5343\\u5e74': 0.015314998423185584,\n",
       " u'\\u5362\\u68ad': 0.00923705508444228,\n",
       " u'\\u5386\\u53f2': 0.06502388437474428,\n",
       " u'\\u5389\\u5bb3': 0.010118357888256211,\n",
       " u'\\u53d1\\u751f': 0.01482836826264004,\n",
       " u'\\u53e4\\u4ee3': 0.030057825791763273,\n",
       " u'\\u53e4\\u6587': 0.008472158757817826,\n",
       " u'\\u540d\\u5c06': 0.015957624227179737,\n",
       " u'\\u540e\\u4e16': 0.010539195720452995,\n",
       " u'\\u541b\\u738b': 0.008628594773560644,\n",
       " u'\\u5468\\u671d': 0.021767737510277642,\n",
       " u'\\u5468\\u745c': 0.008414990222182173,\n",
       " u'\\u548c\\u73c5': 0.015342640433950316,\n",
       " u'\\u5510\\u671d': 0.033244820597696054,\n",
       " u'\\u552f\\u4e00': 0.014494851807476863,\n",
       " u'\\u5546\\u4ee3': 0.01194422294845105,\n",
       " u'\\u5546\\u65cf': 0.016172621979396007,\n",
       " u'\\u5546\\u671d': 0.05025220644141743,\n",
       " u'\\u5546\\u6c64': 0.014922257473794446,\n",
       " u'\\u5730\\u5bab': 0.008641246693209936,\n",
       " u'\\u5730\\u671b': 0.011646144669167071,\n",
       " u'\\u57cb\\u5165': 0.00962038573915246,\n",
       " u'\\u590f\\u671d': 0.00973078874481247,\n",
       " u'\\u5927\\u6377': 0.01281653035126644,\n",
       " u'\\u5927\\u660e': 0.011086891776473455,\n",
       " u'\\u592a\\u521d': 0.010135577292255235,\n",
       " u'\\u5934\\u9885': 0.020902478465976617,\n",
       " u'\\u5973\\u4eba': 0.0215866363127131,\n",
       " u'\\u5987\\u5973': 0.009343525385143691,\n",
       " u'\\u59d0\\u59b9': 0.015410059629556746,\n",
       " u'\\u5a49\\u5bb9': 0.017469217003750606,\n",
       " u'\\u5ac1\\u7ed9': 0.011424927532781294,\n",
       " u'\\u5b81\\u8fdc': 0.012896498543701899,\n",
       " u'\\u5b8b\\u592a\\u5b97': 0.009105504881032636,\n",
       " u'\\u5b98\\u5458': 0.011358541769488553,\n",
       " u'\\u5b9e\\u62cd': 0.011646144669167071,\n",
       " u'\\u5bab\\u5ef7': 0.01060812783571359,\n",
       " u'\\u5c01\\u4e8e': 0.011646144669167071,\n",
       " u'\\u5c06\\u519b': 0.008793387677549927,\n",
       " u'\\u5c31\\u662f': 0.015773800277476862,\n",
       " u'\\u5c38\\u4f53': 0.013165241206566,\n",
       " u'\\u5df4\\u62c9\\u572d': 0.01867158214990745,\n",
       " u'\\u5e1d\\u56fd': 0.009386710929849003,\n",
       " u'\\u5f00\\u56fd': 0.015944763664042867,\n",
       " u'\\u5f71\\u54cd': 0.013591021181300535,\n",
       " u'\\u5f90\\u6643': 0.014125530171524597,\n",
       " u'\\u6000\\u63e3': 0.02010162438090599,\n",
       " u'\\u6050\\u6016': 0.011214039429162203,\n",
       " u'\\u60ac\\u68fa': 0.01336642103390648,\n",
       " u'\\u60c5\\u4eba': 0.008370589337135899,\n",
       " u'\\u6210\\u5806': 0.014483721780920604,\n",
       " u'\\u6218\\u4e89': 0.03668295449739893,\n",
       " u'\\u6218\\u53f2': 0.010367833525572334,\n",
       " u'\\u6218\\u5f79': 0.012908924174417925,\n",
       " u'\\u6240\\u8e2a': 0.011646144669167071,\n",
       " u'\\u6392\\u884c': 0.01707721230380906,\n",
       " u'\\u63ed\\u79d8': 0.0674655735676376,\n",
       " u'\\u6587\\u5316': 0.00991529547750609,\n",
       " u'\\u6587\\u53f2': 0.008945132762474427,\n",
       " u'\\u6587\\u5ba3\\u5b97': 0.02911536167291768,\n",
       " u'\\u65e5\\u5386': 0.009586200332615685,\n",
       " u'\\u65f6\\u5019': 0.010445071440428642,\n",
       " u'\\u65f6\\u671f': 0.009544501469283975,\n",
       " u'\\u660e\\u671d': 0.02948542624415977,\n",
       " u'\\u664b\\u671d': 0.010228426955966877,\n",
       " u'\\u66f9\\u64cd': 0.013113605666887483,\n",
       " u'\\u6700\\u5927': 0.010903166355918169,\n",
       " u'\\u6709\\u4e2a': 0.011646144669167071,\n",
       " u'\\u670d\\u9970': 0.0233747033177886,\n",
       " u'\\u671d\\u4ee3': 0.020537305189576232,\n",
       " u'\\u6731\\u5143\\u748b': 0.012181428024330247,\n",
       " u'\\u6731\\u5e38\\u6d1b': 0.022802636287579153,\n",
       " u'\\u674e\\u5510': 0.010367833525572334,\n",
       " u'\\u674e\\u5e7f\\u5229': 0.011205827938821236,\n",
       " u'\\u67f3\\u5b97\\u5143': 0.028337023962727713,\n",
       " u'\\u6843\\u56ed': 0.009136764807530442,\n",
       " u'\\u6b27\\u9633\\u4fee': 0.008989623787150512,\n",
       " u'\\u6b27\\u9633\\u8be2': 0.015863841034047733,\n",
       " u'\\u6b66\\u5219\\u5929': 0.01272438499915733,\n",
       " u'\\u6b8b\\u6740': 0.009711497339746713,\n",
       " u'\\u6bd2\\u6b7b': 0.009075216924802728,\n",
       " u'\\u6c49\\u5b9b': 0.02911536167291768,\n",
       " u'\\u6c49\\u671d': 0.012585110503575256,\n",
       " u'\\u6cd5\\u5c14\\u52a0': 0.016010090608085725,\n",
       " u'\\u6cf0\\u5766\\u5c3c\\u514b\\u53f7': 0.010903679932683878,\n",
       " u'\\u6d1e\\u623f': 0.013786803994135413,\n",
       " u'\\u6d77\\u6218': 0.012782346893541158,\n",
       " u'\\u6e05\\u671d': 0.03851190256419874,\n",
       " u'\\u7199\\u5b81': 0.008971582824890403,\n",
       " u'\\u7231\\u5983': 0.026815162917924986,\n",
       " u'\\u7279\\u62c9': 0.014305607093716512,\n",
       " u'\\u731b\\u5c06': 0.009335791074953725,\n",
       " u'\\u7387\\u519b': 0.011646144669167071,\n",
       " u'\\u738b\\u671d': 0.018530727287725278,\n",
       " u'\\u751f\\u4e0d\\u5982\\u6b7b': 0.011043086502191915,\n",
       " u'\\u767d\\u5c45\\u6613': 0.008861818419132975,\n",
       " u'\\u7687\\u540e': 0.016528790897247927,\n",
       " u'\\u7687\\u5e1d': 0.04655960822922552,\n",
       " u'\\u76d8\\u70b9': 0.013753591742191916,\n",
       " u'\\u771f\\u5b9e': 0.01588022860094983,\n",
       " u'\\u793e\\u4f1a': 0.008747240410267901,\n",
       " u'\\u795e\\u517d': 0.016089097750754993,\n",
       " u'\\u79d8\\u5bc6': 0.009353192076502679,\n",
       " u'\\u79d8\\u95fb': 0.015795862443156356,\n",
       " u'\\u7a81\\u53a5': 0.011691349681037506,\n",
       " u'\\u7b80\\u4ecb': 0.017455499716259135,\n",
       " u'\\u7c89\\u4e1d': 0.009075216924802728,\n",
       " u'\\u7eb3\\u7cb9': 0.012869353313935704,\n",
       " u'\\u7eb8\\u5e01': 0.012437806997798343,\n",
       " u'\\u7ec4\\u56fe': 0.011646144669167071,\n",
       " u'\\u7ed3\\u4e49': 0.009655814520613737,\n",
       " u'\\u7f8e\\u5c3c': 0.011646144669167071,\n",
       " u'\\u7f9e\\u8fb1': 0.009136764807530442,\n",
       " u'\\u804c\\u5b98': 0.009026740052362398,\n",
       " u'\\u80cc\\u666f': 0.014206563528908913,\n",
       " u'\\u810f\\u5510': 0.011646144669167071,\n",
       " u'\\u82cf\\u4e1c\\u5761': 0.014625704852264979,\n",
       " u'\\u82cf\\u8f7c': 0.02157148693390161,\n",
       " u'\\u82f1\\u8377': 0.01645633753882124,\n",
       " u'\\u8457\\u540d': 0.019636812602844618,\n",
       " u'\\u8499\\u53e4': 0.009291472268066245,\n",
       " u'\\u859b\\u6c0f': 0.013541819436921579,\n",
       " u'\\u8650\\u5f85': 0.009055535768134436,\n",
       " u'\\u8700\\u56fd': 0.009521230654583537,\n",
       " u'\\u8700\\u6c49': 0.00947519764450073,\n",
       " u'\\u884c\\u4e66': 0.009855321985484656,\n",
       " u'\\u88d5\\u9675': 0.011646144669167071,\n",
       " u'\\u897f\\u7a81\\u53a5': 0.00929758287899659,\n",
       " u'\\u897f\\u9675': 0.010673393738723818,\n",
       " u'\\u89e3\\u5bc6': 0.009833429286117875,\n",
       " u'\\u89e3\\u7f19': 0.010726065167169995,\n",
       " u'\\u8bcd\\u4eba': 0.00929758287899659,\n",
       " u'\\u8be6\\u60c5': 0.2749808222129372,\n",
       " u'\\u8bf4\\u6cd5': 0.009388365829434973,\n",
       " u'\\u8c1c\\u56e2': 0.009692580548845593,\n",
       " u'\\u8d2a\\u5b98': 0.00877042167756454,\n",
       " u'\\u8d74\\u5bb4': 0.022789534509766195,\n",
       " u'\\u8f9b\\u5f03\\u75be': 0.009855321985484656,\n",
       " u'\\u8fd8\\u653f': 0.011516060506867997,\n",
       " u'\\u901a\\u5978': 0.010331067497320994,\n",
       " u'\\u907f\\u8bb3': 0.009417020114349731,\n",
       " u'\\u90a3\\u514b\\u897f': 0.016948016403799317,\n",
       " u'\\u9177\\u5211': 0.00891938190317584,\n",
       " u'\\u91cd\\u81e3': 0.008654065090267902,\n",
       " u'\\u91ce\\u53f2': 0.01456724600962007,\n",
       " u'\\u9756\\u5eb7': 0.009637939081091087,\n",
       " u'\\u9996\\u9875': 0.009637939081091087,\n",
       " u'\\u9a6c\\u8d85': 0.009348867568212372,\n",
       " u'\\u9ad8\\u4e3d': 0.013102099930126645,\n",
       " u'\\u9ad8\\u5cb3': 0.011646144669167071,\n",
       " u'\\u9ad8\\u6d0b': 0.03187027387744764,\n",
       " u'\\u9ed1\\u955c\\u5934': 0.011646144669167071}"
      ]
     },
     "execution_count": 247,
     "metadata": {},
     "output_type": "execute_result"
    }
   ],
   "source": [
    "map_key_words_2_dict(df.iloc[1]['key_words'])"
   ]
  },
  {
   "cell_type": "code",
   "execution_count": 98,
   "metadata": {},
   "outputs": [
    {
     "data": {
      "text/plain": [
       "91.5643208026886"
      ]
     },
     "execution_count": 98,
     "metadata": {},
     "output_type": "execute_result"
    }
   ],
   "source": [
    "t0 = time()\n",
    "df['w2v_centroid'] = df.key_words.map(lambda x: map_word2vec_centroid(map_key_words_2_dict(x)))\n",
    "time() - t0"
   ]
  },
  {
   "cell_type": "code",
   "execution_count": 99,
   "metadata": {
    "collapsed": true
   },
   "outputs": [],
   "source": [
    "df.info()"
   ]
  },
  {
   "cell_type": "code",
   "execution_count": 100,
   "metadata": {
    "collapsed": true
   },
   "outputs": [],
   "source": [
    "df = df.dropna(subset =['w2v_centroid'])"
   ]
  },
  {
   "cell_type": "code",
   "execution_count": 101,
   "metadata": {
    "collapsed": true
   },
   "outputs": [],
   "source": [
    "def map_normalize(x):\n",
    "    sum1= np.sum([x**2])\n",
    "    return x/math.sqrt(sum1)"
   ]
  },
  {
   "cell_type": "code",
   "execution_count": 102,
   "metadata": {
    "collapsed": true
   },
   "outputs": [],
   "source": [
    "df['w2v_centroid_n'] = df.w2v_centroid.map(lambda x:map_normalize(x))"
   ]
  },
  {
   "cell_type": "code",
   "execution_count": 103,
   "metadata": {
    "collapsed": true
   },
   "outputs": [],
   "source": [
    "t0 = time()\n",
    "ch_vec = model[u'国学']*0.5 + model[u'文化']*0.5 \n",
    "ch_vec_n = map_normalize(ch_vec)\n",
    "df['gxwh_w2v_sim'] = df.w2v_centroid_n.map(lambda x: get_cosine2(ch_vec_n, x))\n",
    "print time() - t0"
   ]
  },
  {
   "cell_type": "code",
   "execution_count": 104,
   "metadata": {},
   "outputs": [
    {
     "data": {
      "text/plain": [
       "(-0.07510104775428772, 0.8712775707244873)"
      ]
     },
     "execution_count": 104,
     "metadata": {},
     "output_type": "execute_result"
    }
   ],
   "source": [
    "df['gxwh_w2v_sim'].min(), df['gxwh_w2v_sim'].max()"
   ]
  },
  {
   "cell_type": "code",
   "execution_count": 105,
   "metadata": {},
   "outputs": [
    {
     "data": {
      "text/plain": [
       "<matplotlib.text.Text at 0x2ba838810>"
      ]
     },
     "execution_count": 105,
     "metadata": {},
     "output_type": "execute_result"
    },
    {
     "data": {
      "image/png": "[encoded data removed]",
      "text/plain": [
       "<matplotlib.figure.Figure at 0x2ba8dba50>"
      ]
     },
     "metadata": {},
     "output_type": "display_data"
    }
   ],
   "source": [
    "df['gxwh_w2v_sim'].hist(bins=500, figsize= (16, 6))\n",
    "plt.title('Chinese W2V Similiarity Histogram')\n",
    "plt.xlabel('Similarity')\n",
    "plt.ylabel('Count')"
   ]
  },
  {
   "cell_type": "code",
   "execution_count": 106,
   "metadata": {
    "collapsed": true
   },
   "outputs": [],
   "source": [
    "ch_sim = df['gxwh_w2v_sim'].values.argsort()[::-1]"
   ]
  },
  {
   "cell_type": "code",
   "execution_count": 107,
   "metadata": {
    "collapsed": true
   },
   "outputs": [],
   "source": [
    "idx = 0\n",
    "for i in ch_sim:\n",
    "    if df.iloc[i]['gxwh_w2v_sim'] > 0.50 and idx < 10:\n",
    "        title = df.iloc[i]['title']\n",
    "        content = df.iloc[i]['content']\n",
    "        sim_val = df.iloc[i]['gxwh_w2v_sim']\n",
    "        idx += 1\n",
    "        print idx, i, title, sim_val\n",
    "        print  df.iloc[i]['url']\n",
    "        print content\n",
    "        print '--------------'"
   ]
  },
  {
   "cell_type": "code",
   "execution_count": 267,
   "metadata": {
    "collapsed": true
   },
   "outputs": [],
   "source": [
    "test = df[df['gxwh_w2v_sim'] < 0]"
   ]
  },
  {
   "cell_type": "code",
   "execution_count": 268,
   "metadata": {
    "collapsed": true
   },
   "outputs": [],
   "source": [
    "test.info()"
   ]
  },
  {
   "cell_type": "code",
   "execution_count": 108,
   "metadata": {
    "collapsed": true
   },
   "outputs": [],
   "source": [
    "t0 = time()\n",
    "ch_vec = model[u'历史']\n",
    "ch_vec_n = map_normalize(ch_vec)\n",
    "df['lishi_w2v_sim'] = df.w2v_centroid_n.map(lambda x: get_cosine2(ch_vec_n, x))\n",
    "print time() - t0"
   ]
  },
  {
   "cell_type": "code",
   "execution_count": 109,
   "metadata": {},
   "outputs": [
    {
     "data": {
      "text/plain": [
       "<matplotlib.text.Text at 0x1227fa350>"
      ]
     },
     "execution_count": 109,
     "metadata": {},
     "output_type": "execute_result"
    },
    {
     "data": {
      "image/png": "[encoded data removed]",
      "text/plain": [
       "<matplotlib.figure.Figure at 0x2f5013c10>"
      ]
     },
     "metadata": {},
     "output_type": "display_data"
    }
   ],
   "source": [
    "df['lishi_w2v_sim'].hist(bins=500, figsize= (16, 6))\n",
    "plt.title('Chinese W2V Similiarity Histogram')\n",
    "plt.xlabel('Similarity')\n",
    "plt.ylabel('Count')"
   ]
  },
  {
   "cell_type": "code",
   "execution_count": 110,
   "metadata": {
    "collapsed": true
   },
   "outputs": [],
   "source": [
    "ch_sim = df['lishi_w2v_sim'].values.argsort()[::-1]"
   ]
  },
  {
   "cell_type": "code",
   "execution_count": 111,
   "metadata": {
    "collapsed": true
   },
   "outputs": [],
   "source": [
    "idx = 0\n",
    "for i in ch_sim:\n",
    "    if df.iloc[i]['lishi_w2v_sim'] > 0.60 and idx < 10:\n",
    "        title = df.iloc[i]['title']\n",
    "        content = df.iloc[i]['content']\n",
    "        sim_val = df.iloc[i]['lishi_w2v_sim']\n",
    "        idx += 1\n",
    "        print idx, i, title, sim_val\n",
    "        print  df.iloc[i]['url']\n",
    "        print content\n",
    "        print '--------------'"
   ]
  },
  {
   "cell_type": "code",
   "execution_count": null,
   "metadata": {
    "collapsed": true
   },
   "outputs": [],
   "source": []
  },
  {
   "cell_type": "code",
   "execution_count": 112,
   "metadata": {
    "collapsed": true
   },
   "outputs": [],
   "source": [
    "t0 = time()\n",
    "ch_vec = model[u'艺术']\n",
    "ch_vec_n = map_normalize(ch_vec)\n",
    "df['yishu_w2v_sim'] = df.w2v_centroid_n.map(lambda x: get_cosine2(ch_vec_n, x))\n",
    "print time() - t0"
   ]
  },
  {
   "cell_type": "code",
   "execution_count": 113,
   "metadata": {
    "collapsed": true
   },
   "outputs": [],
   "source": [
    "ch_sim = df['yishu_w2v_sim'].values.argsort()[::-1]"
   ]
  },
  {
   "cell_type": "code",
   "execution_count": 114,
   "metadata": {},
   "outputs": [
    {
     "data": {
      "text/plain": [
       "<matplotlib.text.Text at 0x1148a3e90>"
      ]
     },
     "execution_count": 114,
     "metadata": {},
     "output_type": "execute_result"
    },
    {
     "data": {
      "image/png": "[encoded data removed]",
      "text/plain": [
       "<matplotlib.figure.Figure at 0x116bfd450>"
      ]
     },
     "metadata": {},
     "output_type": "display_data"
    }
   ],
   "source": [
    "df['yishu_w2v_sim'].hist(bins=500, figsize= (16, 6))\n",
    "plt.title('Chinese W2V Similiarity Histogram')\n",
    "plt.xlabel('Similarity')\n",
    "plt.ylabel('Count')"
   ]
  },
  {
   "cell_type": "code",
   "execution_count": 115,
   "metadata": {
    "collapsed": true
   },
   "outputs": [],
   "source": [
    "idx = 0\n",
    "for i in ch_sim:\n",
    "    if df.iloc[i]['yishu_w2v_sim'] > 0.50 and idx < 10:\n",
    "        title = df.iloc[i]['title']\n",
    "        content = df.iloc[i]['content']\n",
    "        sim_val = df.iloc[i]['yishu_w2v_sim']\n",
    "        idx += 1\n",
    "        print idx, i, title, sim_val\n",
    "        print  df.iloc[i]['url']\n",
    "        print content\n",
    "        print '--------------'"
   ]
  },
  {
   "cell_type": "code",
   "execution_count": null,
   "metadata": {
    "collapsed": true
   },
   "outputs": [],
   "source": []
  },
  {
   "cell_type": "code",
   "execution_count": 116,
   "metadata": {
    "collapsed": true
   },
   "outputs": [],
   "source": [
    "t0 = time()\n",
    "ch_vec = model[u'人物']\n",
    "ch_vec_n = map_normalize(ch_vec)\n",
    "df['renwu_w2v_sim'] = df.w2v_centroid_n.map(lambda x: get_cosine2(ch_vec_n, x))\n",
    "print time() - t0"
   ]
  },
  {
   "cell_type": "code",
   "execution_count": 117,
   "metadata": {
    "collapsed": true
   },
   "outputs": [],
   "source": [
    "ch_sim = df['renwu_w2v_sim'].values.argsort()[::-1]"
   ]
  },
  {
   "cell_type": "code",
   "execution_count": 118,
   "metadata": {},
   "outputs": [
    {
     "data": {
      "text/plain": [
       "<matplotlib.text.Text at 0x3bd68a450>"
      ]
     },
     "execution_count": 118,
     "metadata": {},
     "output_type": "execute_result"
    },
    {
     "data": {
      "image/png": "[encoded data removed]",
      "text/plain": [
       "<matplotlib.figure.Figure at 0x11489cf90>"
      ]
     },
     "metadata": {},
     "output_type": "display_data"
    }
   ],
   "source": [
    "df['renwu_w2v_sim'].hist(bins=500, figsize= (16, 6))\n",
    "plt.title('Chinese W2V Similiarity Histogram')\n",
    "plt.xlabel('Similarity')\n",
    "plt.ylabel('Count')"
   ]
  },
  {
   "cell_type": "code",
   "execution_count": 119,
   "metadata": {
    "collapsed": true
   },
   "outputs": [],
   "source": [
    "idx = 0\n",
    "for i in ch_sim:\n",
    "    if df.iloc[i]['renwu_w2v_sim'] > 0.30 and idx < 10:\n",
    "        title = df.iloc[i]['title']\n",
    "        content = df.iloc[i]['content']\n",
    "        sim_val = df.iloc[i]['renwu_w2v_sim']\n",
    "        idx += 1\n",
    "        print idx, i, title, sim_val\n",
    "        print  df.iloc[i]['url']\n",
    "        print content\n",
    "        print '--------------'"
   ]
  },
  {
   "cell_type": "code",
   "execution_count": null,
   "metadata": {
    "collapsed": true
   },
   "outputs": [],
   "source": []
  },
  {
   "cell_type": "code",
   "execution_count": 120,
   "metadata": {
    "collapsed": true
   },
   "outputs": [],
   "source": [
    "t0 = time()\n",
    "ch_vec = model[u'故事']\n",
    "ch_vec_n = map_normalize(ch_vec)\n",
    "df['gushi_w2v_sim'] = df.w2v_centroid_n.map(lambda x: get_cosine2(ch_vec_n, x))\n",
    "print time() - t0"
   ]
  },
  {
   "cell_type": "code",
   "execution_count": 121,
   "metadata": {
    "collapsed": true
   },
   "outputs": [],
   "source": [
    "ch_sim = df['gushi_w2v_sim'].values.argsort()[::-1]"
   ]
  },
  {
   "cell_type": "code",
   "execution_count": 122,
   "metadata": {},
   "outputs": [
    {
     "data": {
      "text/plain": [
       "<matplotlib.text.Text at 0x3be484550>"
      ]
     },
     "execution_count": 122,
     "metadata": {},
     "output_type": "execute_result"
    },
    {
     "data": {
      "image/png": "[encoded data removed]",
      "text/plain": [
       "<matplotlib.figure.Figure at 0x116b41610>"
      ]
     },
     "metadata": {},
     "output_type": "display_data"
    }
   ],
   "source": [
    "df['gushi_w2v_sim'].hist(bins=500, figsize= (16, 6))\n",
    "plt.title('Gushi W2V Similiarity Histogram')\n",
    "plt.xlabel('Similarity')\n",
    "plt.ylabel('Count')"
   ]
  },
  {
   "cell_type": "code",
   "execution_count": 123,
   "metadata": {
    "collapsed": true
   },
   "outputs": [],
   "source": [
    "idx = 0\n",
    "for i in ch_sim:\n",
    "    if df.iloc[i]['gushi_w2v_sim'] > 0.50 and idx < 10:\n",
    "        title = df.iloc[i]['title']\n",
    "        content = df.iloc[i]['content']\n",
    "        sim_val = df.iloc[i]['gushi_w2v_sim']\n",
    "        idx += 1\n",
    "        print idx, i, title, sim_val\n",
    "        print  df.iloc[i]['url']\n",
    "        print content\n",
    "        print '--------------'"
   ]
  },
  {
   "cell_type": "code",
   "execution_count": null,
   "metadata": {
    "collapsed": true
   },
   "outputs": [],
   "source": []
  }
 ],
 "metadata": {
  "kernelspec": {
   "display_name": "Python 2",
   "language": "python",
   "name": "python2"
  },
  "language_info": {
   "codemirror_mode": {
    "name": "ipython",
    "version": 2
   },
   "file_extension": ".py",
   "mimetype": "text/x-python",
   "name": "python",
   "nbconvert_exporter": "python",
   "pygments_lexer": "ipython2",
   "version": "2.7.10"
  }
 },
 "nbformat": 4,
 "nbformat_minor": 2
}
