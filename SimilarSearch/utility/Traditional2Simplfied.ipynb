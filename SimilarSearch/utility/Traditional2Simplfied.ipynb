{
 "cells": [
  {
   "cell_type": "code",
   "execution_count": 5,
   "metadata": {
    "collapsed": true
   },
   "outputs": [],
   "source": [
    "from hanziconv import HanziConv"
   ]
  },
  {
   "cell_type": "code",
   "execution_count": 3,
   "metadata": {
    "collapsed": true
   },
   "outputs": [],
   "source": [
    "import pandas as pd"
   ]
  },
  {
   "cell_type": "code",
   "execution_count": 30,
   "metadata": {},
   "outputs": [],
   "source": [
    "df = pd.read_csv('../data/final/huizhou-final-v2.csv')"
   ]
  },
  {
   "cell_type": "code",
   "execution_count": 31,
   "metadata": {},
   "outputs": [
    {
     "name": "stdout",
     "output_type": "stream",
     "text": [
      "<class 'pandas.core.frame.DataFrame'>\n",
      "RangeIndex: 169086 entries, 0 to 169085\n",
      "Data columns (total 5 columns):\n",
      "url            169086 non-null object\n",
      "domain         169086 non-null object\n",
      "title          169086 non-null object\n",
      "content        169086 non-null object\n",
      "content_seg    169086 non-null object\n",
      "dtypes: object(5)\n",
      "memory usage: 6.5+ MB\n"
     ]
    }
   ],
   "source": [
    "df.info()"
   ]
  },
  {
   "cell_type": "code",
   "execution_count": 37,
   "metadata": {
    "collapsed": true
   },
   "outputs": [],
   "source": [
    "part = df[df['domain'] == 'huaxia.com']"
   ]
  },
  {
   "cell_type": "code",
   "execution_count": 32,
   "metadata": {
    "collapsed": true
   },
   "outputs": [],
   "source": [
    "def map_traditional2Simplified(content, url):\n",
    "    if url == 'huaxia.com':\n",
    "        return HanziConv.toSimplified(content)\n",
    "    else:\n",
    "        return content"
   ]
  },
  {
   "cell_type": "code",
   "execution_count": 33,
   "metadata": {
    "collapsed": true
   },
   "outputs": [],
   "source": [
    "df['content'] = map(map_traditional2Simplified, df['content'], df['domain'])"
   ]
  },
  {
   "cell_type": "code",
   "execution_count": 35,
   "metadata": {},
   "outputs": [],
   "source": [
    "df['title'] = map(map_traditional2Simplified, df['title'], df['domain'])"
   ]
  },
  {
   "cell_type": "code",
   "execution_count": 36,
   "metadata": {
    "collapsed": true
   },
   "outputs": [],
   "source": [
    "df['content_seg'] = map(map_traditional2Simplified, df['content_seg'], df['domain'])"
   ]
  },
  {
   "cell_type": "code",
   "execution_count": 38,
   "metadata": {},
   "outputs": [
    {
     "data": {
      "text/html": [
       "<div>\n",
       "<table border=\"1\" class=\"dataframe\">\n",
       "  <thead>\n",
       "    <tr style=\"text-align: right;\">\n",
       "      <th></th>\n",
       "      <th>url</th>\n",
       "      <th>domain</th>\n",
       "      <th>title</th>\n",
       "      <th>content</th>\n",
       "      <th>content_seg</th>\n",
       "    </tr>\n",
       "  </thead>\n",
       "  <tbody>\n",
       "    <tr>\n",
       "      <th>5764</th>\n",
       "      <td>http://hk.huaxia.com/xw/twxw/2017/01/5166399.html</td>\n",
       "      <td>huaxia.com</td>\n",
       "      <td>鸿海业绩衰退 郭台铭90度鞠躬致歉</td>\n",
       "      <td>鸿海嘉年华上午热闹登场，鸿海集团总裁郭台铭表示，鸿海去年交出一个应该检讨的成绩单，\\n，鸿海...</td>\n",
       "      <td>鸿 海嘉年华 上午 热闹 登场 ， 鸿海 集团 总裁 郭 台 铭 表示 ， 鸿海 去年 交出...</td>\n",
       "    </tr>\n",
       "    <tr>\n",
       "      <th>5765</th>\n",
       "      <td>http://hk.huaxia.com/xw/twxw/2017/01/5167884.html</td>\n",
       "      <td>huaxia.com</td>\n",
       "      <td>台军一中士从飞弹车坠落 头部着地伤重不治</td>\n",
       "      <td>▲台湾陆军复仇者飞弹系统。非新闻当事车辆（资料图╱记者吕炯昌摄）图片来源：今日新闻网\\n日讯...</td>\n",
       "      <td>▲ 台湾陆 军 复 仇者 飞弹 系统 。 非新闻 当事 车辆 （ 资料 图 ╱ 记者 吕炯昌...</td>\n",
       "    </tr>\n",
       "    <tr>\n",
       "      <th>5766</th>\n",
       "      <td>http://hk.huaxia.com/xw/twxw/2017/01/5168585.html</td>\n",
       "      <td>huaxia.com</td>\n",
       "      <td>陆客去年减少67万人次 今年恐再减150万</td>\n",
       "      <td>年新低。旅游业者更预估，今年陆客来台会跌得更惨，预估陆客会再大减\\n由于两岸关系未显好转，旅...</td>\n",
       "      <td>年 新低 。 旅游业者 更 预估 ， 今年 陆客 来 台 会 跌 得 更惨 ， 预估 陆客 ...</td>\n",
       "    </tr>\n",
       "    <tr>\n",
       "      <th>5767</th>\n",
       "      <td>http://hk.huaxia.com/xw/twxw/2017/01/5172329.html</td>\n",
       "      <td>huaxia.com</td>\n",
       "      <td>民代不宜兼管庙宇？台南市议员陈特清病逝引议论</td>\n",
       "      <td>台南市议员陈特清服务地方政坛多年，深受乡亲与选民肯定。记者周宗祯╱翻摄\\n华夏经纬网1月30...</td>\n",
       "      <td>台南市 议员 陈 特清 服务 地方 政坛 多年 ， 深受 乡亲 与 选民 肯定 。 记者 周...</td>\n",
       "    </tr>\n",
       "    <tr>\n",
       "      <th>5768</th>\n",
       "      <td>http://hk.huaxia.com/xw/twxw/2017/01/5172334.html</td>\n",
       "      <td>huaxia.com</td>\n",
       "      <td>护花心切！新欢遭爆舔耳 台北市议员童仲彦忙澄清</td>\n",
       "      <td>华夏经纬网1月30日讯：据台湾媒体报道，民进党台北市议员童仲彦家暴风波持续延烧，被童“公开告...</td>\n",
       "      <td>华夏 经纬网 1 月 30 日讯 ： 据 台湾 媒体 报道 ， 民进 党 台北市 议员 童仲...</td>\n",
       "    </tr>\n",
       "  </tbody>\n",
       "</table>\n",
       "</div>"
      ],
      "text/plain": [
       "                                                    url      domain  \\\n",
       "5764  http://hk.huaxia.com/xw/twxw/2017/01/5166399.html  huaxia.com   \n",
       "5765  http://hk.huaxia.com/xw/twxw/2017/01/5167884.html  huaxia.com   \n",
       "5766  http://hk.huaxia.com/xw/twxw/2017/01/5168585.html  huaxia.com   \n",
       "5767  http://hk.huaxia.com/xw/twxw/2017/01/5172329.html  huaxia.com   \n",
       "5768  http://hk.huaxia.com/xw/twxw/2017/01/5172334.html  huaxia.com   \n",
       "\n",
       "                        title  \\\n",
       "5764        鸿海业绩衰退 郭台铭90度鞠躬致歉   \n",
       "5765     台军一中士从飞弹车坠落 头部着地伤重不治   \n",
       "5766    陆客去年减少67万人次 今年恐再减150万   \n",
       "5767   民代不宜兼管庙宇？台南市议员陈特清病逝引议论   \n",
       "5768  护花心切！新欢遭爆舔耳 台北市议员童仲彦忙澄清   \n",
       "\n",
       "                                                content  \\\n",
       "5764  鸿海嘉年华上午热闹登场，鸿海集团总裁郭台铭表示，鸿海去年交出一个应该检讨的成绩单，\\n，鸿海...   \n",
       "5765  ▲台湾陆军复仇者飞弹系统。非新闻当事车辆（资料图╱记者吕炯昌摄）图片来源：今日新闻网\\n日讯...   \n",
       "5766  年新低。旅游业者更预估，今年陆客来台会跌得更惨，预估陆客会再大减\\n由于两岸关系未显好转，旅...   \n",
       "5767  台南市议员陈特清服务地方政坛多年，深受乡亲与选民肯定。记者周宗祯╱翻摄\\n华夏经纬网1月30...   \n",
       "5768  华夏经纬网1月30日讯：据台湾媒体报道，民进党台北市议员童仲彦家暴风波持续延烧，被童“公开告...   \n",
       "\n",
       "                                            content_seg  \n",
       "5764  鸿 海嘉年华 上午 热闹 登场 ， 鸿海 集团 总裁 郭 台 铭 表示 ， 鸿海 去年 交出...  \n",
       "5765  ▲ 台湾陆 军 复 仇者 飞弹 系统 。 非新闻 当事 车辆 （ 资料 图 ╱ 记者 吕炯昌...  \n",
       "5766  年 新低 。 旅游业者 更 预估 ， 今年 陆客 来 台 会 跌 得 更惨 ， 预估 陆客 ...  \n",
       "5767  台南市 议员 陈 特清 服务 地方 政坛 多年 ， 深受 乡亲 与 选民 肯定 。 记者 周...  \n",
       "5768  华夏 经纬网 1 月 30 日讯 ： 据 台湾 媒体 报道 ， 民进 党 台北市 议员 童仲...  "
      ]
     },
     "execution_count": 38,
     "metadata": {},
     "output_type": "execute_result"
    }
   ],
   "source": [
    "part.head()"
   ]
  },
  {
   "cell_type": "code",
   "execution_count": 39,
   "metadata": {},
   "outputs": [],
   "source": [
    "df.to_csv('../data/final/huizhou-final-v2s.csv', encoding='utf-8', index=False)"
   ]
  },
  {
   "cell_type": "code",
   "execution_count": null,
   "metadata": {
    "collapsed": true
   },
   "outputs": [],
   "source": []
  }
 ],
 "metadata": {
  "kernelspec": {
   "display_name": "Python 2",
   "language": "python",
   "name": "python2"
  },
  "language_info": {
   "codemirror_mode": {
    "name": "ipython",
    "version": 2
   },
   "file_extension": ".py",
   "mimetype": "text/x-python",
   "name": "python",
   "nbconvert_exporter": "python",
   "pygments_lexer": "ipython2",
   "version": "2.7.10"
  }
 },
 "nbformat": 4,
 "nbformat_minor": 2
}
