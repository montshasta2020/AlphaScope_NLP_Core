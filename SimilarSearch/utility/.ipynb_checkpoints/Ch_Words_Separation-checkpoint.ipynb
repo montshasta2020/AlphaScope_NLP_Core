{
 "cells": [
  {
   "cell_type": "code",
   "execution_count": 2,
   "metadata": {
    "collapsed": true
   },
   "outputs": [],
   "source": [
    "import sys\n",
    "reload(sys)\n",
    "sys.setdefaultencoding('utf-8')"
   ]
  },
  {
   "cell_type": "code",
   "execution_count": 3,
   "metadata": {
    "collapsed": true
   },
   "outputs": [],
   "source": [
    "import pandas as pd\n",
    "from urlparse import urlparse\n",
    "import tldextract\n",
    "from collections import Counter\n",
    "from time import time"
   ]
  },
  {
   "cell_type": "code",
   "execution_count": 4,
   "metadata": {
    "collapsed": true
   },
   "outputs": [],
   "source": [
    "import timeit\n",
    "import jieba"
   ]
  },
  {
   "cell_type": "code",
   "execution_count": 5,
   "metadata": {},
   "outputs": [],
   "source": [
    "#df = pd.read_csv('/Users/nhu2000/Desktop/huizhou/data/huiwenhua/solr_combined/Solr-huizhou-final_v1.csv')\n",
    "#df = pd.read_csv('/Users/nhu2000/Desktop/huizhou/data/huiwenhua/solr_2/Solr-huizhou-final.csv')\n",
    "df = pd.read_csv('/Users/nhu2000/projects/SimilarSearch/data/clean/huizhou-content-v1.csv')\n",
    "#df = pd.read_csv('/Users/nhu2000/projects/SimilarSearch/data/raw/non-Solr-huizhou-clean.csv')"
   ]
  },
  {
   "cell_type": "code",
   "execution_count": 274,
   "metadata": {
    "collapsed": true
   },
   "outputs": [],
   "source": [
    "df.info()"
   ]
  },
  {
   "cell_type": "code",
   "execution_count": 275,
   "metadata": {
    "collapsed": true
   },
   "outputs": [],
   "source": [
    "import tldextract\n",
    "df['domain']  = df.url.map(lambda x:tldextract.extract(x).domain + str('.') + tldextract.extract(x).suffix)"
   ]
  },
  {
   "cell_type": "code",
   "execution_count": 276,
   "metadata": {},
   "outputs": [],
   "source": [
    "count = Counter(df['domain'])"
   ]
  },
  {
   "cell_type": "code",
   "execution_count": 277,
   "metadata": {
    "collapsed": true
   },
   "outputs": [],
   "source": [
    "print count.most_common(50)"
   ]
  },
  {
   "cell_type": "code",
   "execution_count": 11,
   "metadata": {
    "collapsed": true
   },
   "outputs": [],
   "source": [
    "#df['content'] = df['body']"
   ]
  },
  {
   "cell_type": "code",
   "execution_count": null,
   "metadata": {
    "collapsed": true
   },
   "outputs": [],
   "source": []
  },
  {
   "cell_type": "code",
   "execution_count": 7,
   "metadata": {
    "collapsed": true
   },
   "outputs": [],
   "source": [
    "#jieba.load_userdict(\"/Users/nhu2000/desktop/elders/preprocess/elders_dict.txt\")\n",
    "jieba.load_userdict(\"../data/dict/huizhou_dict.txt\")"
   ]
  },
  {
   "cell_type": "code",
   "execution_count": 151,
   "metadata": {},
   "outputs": [],
   "source": [
    "def jiba_words_separation(x):\n",
    "    #print x\n",
    "    t20 = jieba.cut(x) #搜索引擎模式\n",
    "    t2 = \" \".join(t20)\n",
    "    #print 'done---'\n",
    "    #print t2\n",
    "    return t2"
   ]
  },
  {
   "cell_type": "code",
   "execution_count": 9,
   "metadata": {
    "collapsed": true
   },
   "outputs": [],
   "source": [
    "t0 = time()\n",
    "df['title_seg'] = df.title.map(lambda x: jiba_words_separation(x))  #21.32s\n",
    "print time() - t0"
   ]
  },
  {
   "cell_type": "code",
   "execution_count": 10,
   "metadata": {
    "collapsed": true
   },
   "outputs": [],
   "source": [
    "t0 = time()\n",
    "df['content_seg'] = df.content.map(lambda x: jiba_words_separation(x)) #1847.57\n",
    "print time() - t0"
   ]
  },
  {
   "cell_type": "code",
   "execution_count": 294,
   "metadata": {},
   "outputs": [],
   "source": [
    "df.info()"
   ]
  },
  {
   "cell_type": "code",
   "execution_count": null,
   "metadata": {
    "collapsed": true
   },
   "outputs": [],
   "source": []
  },
  {
   "cell_type": "code",
   "execution_count": null,
   "metadata": {
    "collapsed": true
   },
   "outputs": [],
   "source": []
  },
  {
   "cell_type": "code",
   "execution_count": null,
   "metadata": {
    "collapsed": true
   },
   "outputs": [],
   "source": []
  },
  {
   "cell_type": "code",
   "execution_count": 12,
   "metadata": {
    "collapsed": true
   },
   "outputs": [],
   "source": [
    "df.to_csv('/Users/nhu2000/projects/SimilarSearch/data/segments/huizhou_clean_v1.csv', encoding='utf-8', index=False)"
   ]
  },
  {
   "cell_type": "code",
   "execution_count": 23,
   "metadata": {
    "collapsed": true
   },
   "outputs": [],
   "source": [
    "df.info()"
   ]
  },
  {
   "cell_type": "code",
   "execution_count": 167,
   "metadata": {
    "collapsed": true
   },
   "outputs": [],
   "source": [
    "hz_stop_words = [u'的', u'了', u'在', u'是', u'和', u'与', u'有', u'我', u'年', u'上', u'我们', u'为', u'人', u'也', \n",
    "                 u'网站', u'中', u'他', u'就', u'等', u'于', u'月', u'之', u'下', u'不', u'对', u'说', u'大', u'一个',\n",
    "                u'而', u'你', u'到', u'都', u'将', u'被', '后', u'从', u'又', u'以', u'这', u'请', u'多', u'但', u'着',\n",
    "                u'日', u'或', u'县', u'时', u'要', u'还', u'地', u'来', u'更']"
   ]
  },
  {
   "cell_type": "code",
   "execution_count": 150,
   "metadata": {
    "collapsed": true
   },
   "outputs": [],
   "source": [
    "import unicodedata\n",
    "def remove_non_chinese(s):\n",
    "    #print s\n",
    "    r = [c for c in s if unicodedata.category(c).startswith('L')]\n",
    "#print r\n",
    "    #print 'done removal ---', ''.join(r)\n",
    "    return ''.join(r)\n",
    "#print remove_non_chinese(s)"
   ]
  },
  {
   "cell_type": "code",
   "execution_count": 50,
   "metadata": {
    "collapsed": true
   },
   "outputs": [],
   "source": [
    "def ch_title_letters_removal(x):\n",
    "    #print 'coming', x\n",
    "    t = x.strip('  ')\n",
    "    if(len(t)) == 0:\n",
    "        return None\n",
    "    \n",
    "    if(len(x) > 0):\n",
    "        #s = x.strip()\n",
    "        s = remove_non_chinese(x)\n",
    "        if len(s) > 0: #and s not in huizhou_stop_words:\n",
    "            return s.strip()\n",
    "        else:\n",
    "            return None\n",
    "    return None"
   ]
  },
  {
   "cell_type": "code",
   "execution_count": 15,
   "metadata": {
    "collapsed": true
   },
   "outputs": [],
   "source": [
    "contents = df['content']"
   ]
  },
  {
   "cell_type": "code",
   "execution_count": 16,
   "metadata": {
    "collapsed": true
   },
   "outputs": [],
   "source": [
    "#Get contents for '徽州'\n",
    "test_dict = dict()\n",
    "test_dict[u'徽州'] = 0.5\n",
    "test_dict[u'徽文化'] = 0.5\n",
    "t_sim = 's_sim'"
   ]
  },
  {
   "cell_type": "code",
   "execution_count": 21,
   "metadata": {
    "collapsed": true
   },
   "outputs": [],
   "source": [
    "mask = u'徽州' in df['content'] "
   ]
  },
  {
   "cell_type": "code",
   "execution_count": 36,
   "metadata": {},
   "outputs": [],
   "source": [
    "new_df = df[(df['content_seg'].str.contains(u'徽州') == True) | (df['content_seg'].str.contains(u'徽文化') == True) ]"
   ]
  },
  {
   "cell_type": "code",
   "execution_count": 37,
   "metadata": {
    "collapsed": true
   },
   "outputs": [],
   "source": [
    "new_df.info()"
   ]
  },
  {
   "cell_type": "code",
   "execution_count": 39,
   "metadata": {
    "collapsed": true
   },
   "outputs": [],
   "source": [
    "sentences = new_df['content'].str.decode('utf-8').str.split('  ')"
   ]
  },
  {
   "cell_type": "code",
   "execution_count": 40,
   "metadata": {
    "collapsed": true
   },
   "outputs": [],
   "source": [
    "flatten = [item for sublist in sentences for item in sublist]"
   ]
  },
  {
   "cell_type": "code",
   "execution_count": 42,
   "metadata": {},
   "outputs": [],
   "source": [
    "print len(flatten)"
   ]
  },
  {
   "cell_type": "code",
   "execution_count": 183,
   "metadata": {
    "collapsed": true
   },
   "outputs": [],
   "source": [
    "count = Counter(flatten)"
   ]
  },
  {
   "cell_type": "code",
   "execution_count": 184,
   "metadata": {
    "collapsed": true
   },
   "outputs": [],
   "source": [
    "keys = count.keys()"
   ]
  },
  {
   "cell_type": "code",
   "execution_count": 185,
   "metadata": {},
   "outputs": [],
   "source": [
    "print len(keys)"
   ]
  },
  {
   "cell_type": "code",
   "execution_count": 143,
   "metadata": {
    "collapsed": true
   },
   "outputs": [],
   "source": [
    "c_sentences_seg = [jiba_words_separation(item) for item in keys if len(item) > 0]"
   ]
  },
  {
   "cell_type": "code",
   "execution_count": 144,
   "metadata": {},
   "outputs": [],
   "source": [
    "c_words = [item.decode('utf-8').split() for item in c_sentences_seg]"
   ]
  },
  {
   "cell_type": "code",
   "execution_count": 145,
   "metadata": {},
   "outputs": [],
   "source": [
    "c_sentences_flatten = [ch_title_letters_removal(item) for sublist in c_words for item in sublist if(item) > 0]"
   ]
  },
  {
   "cell_type": "code",
   "execution_count": 214,
   "metadata": {
    "collapsed": true
   },
   "outputs": [],
   "source": [
    "count = Counter(c_sentences_flatten)"
   ]
  },
  {
   "cell_type": "code",
   "execution_count": 215,
   "metadata": {
    "collapsed": true
   },
   "outputs": [],
   "source": [
    "top_50 = count.most_common(200)"
   ]
  },
  {
   "cell_type": "code",
   "execution_count": 216,
   "metadata": {
    "collapsed": true
   },
   "outputs": [],
   "source": [
    "words, cnt = zip(*top_50)"
   ]
  },
  {
   "cell_type": "code",
   "execution_count": 217,
   "metadata": {
    "collapsed": true
   },
   "outputs": [],
   "source": [
    "tot = 0"
   ]
  },
  {
   "cell_type": "code",
   "execution_count": 218,
   "metadata": {},
   "outputs": [],
   "source": [
    "idx = 0\n",
    "for i in range(0, 200):\n",
    "    if words[i] != None and words[i] not in hz_stop_words and idx < 50:\n",
    "        print idx, words[i], cnt[i]\n",
    "        idx += 1\n",
    "        tot += cnt[i]"
   ]
  },
  {
   "cell_type": "code",
   "execution_count": 169,
   "metadata": {
    "collapsed": true
   },
   "outputs": [],
   "source": [
    "#tot = sum(cnt)"
   ]
  },
  {
   "cell_type": "code",
   "execution_count": 219,
   "metadata": {
    "collapsed": true
   },
   "outputs": [],
   "source": [
    "idx = 0\n",
    "for i in range(0, 200):\n",
    "    if words[i] != None and words[i] not in hz_stop_words and idx < 50:\n",
    "        print idx, words[i], cnt[i]*1.0/tot\n",
    "        idx += 1"
   ]
  },
  {
   "cell_type": "code",
   "execution_count": null,
   "metadata": {
    "collapsed": true
   },
   "outputs": [],
   "source": []
  },
  {
   "cell_type": "code",
   "execution_count": 177,
   "metadata": {
    "collapsed": true
   },
   "outputs": [],
   "source": [
    "print len(flatten)"
   ]
  },
  {
   "cell_type": "code",
   "execution_count": 174,
   "metadata": {},
   "outputs": [],
   "source": [
    "flatten_more = [item.split(u'。') for item in flatten]"
   ]
  },
  {
   "cell_type": "code",
   "execution_count": 178,
   "metadata": {
    "collapsed": true
   },
   "outputs": [],
   "source": [
    "s = [item for sublist in flatten_more for item in sublist if(item) > 0]"
   ]
  },
  {
   "cell_type": "code",
   "execution_count": 179,
   "metadata": {},
   "outputs": [],
   "source": [
    "print len(s)"
   ]
  },
  {
   "cell_type": "code",
   "execution_count": 186,
   "metadata": {
    "collapsed": true
   },
   "outputs": [],
   "source": [
    "count = Counter(s)"
   ]
  },
  {
   "cell_type": "code",
   "execution_count": 187,
   "metadata": {
    "collapsed": true
   },
   "outputs": [],
   "source": [
    "keys = count.keys()"
   ]
  },
  {
   "cell_type": "code",
   "execution_count": 188,
   "metadata": {},
   "outputs": [
    {
     "data": {
      "text/plain": [
       "777715"
      ]
     },
     "execution_count": 188,
     "metadata": {},
     "output_type": "execute_result"
    }
   ],
   "source": [
    "len(keys)"
   ]
  },
  {
   "cell_type": "code",
   "execution_count": 189,
   "metadata": {
    "collapsed": true
   },
   "outputs": [],
   "source": [
    "d_sentences_seg = [jiba_words_separation(item) for item in keys if len(item) > 0]"
   ]
  },
  {
   "cell_type": "code",
   "execution_count": 190,
   "metadata": {
    "collapsed": true
   },
   "outputs": [],
   "source": [
    "d_words = [item.decode('utf-8').split() for item in d_sentences_seg]"
   ]
  },
  {
   "cell_type": "code",
   "execution_count": 191,
   "metadata": {
    "collapsed": true
   },
   "outputs": [],
   "source": [
    "d_sentences_flatten = [ch_title_letters_removal(item) for sublist in d_words for item in sublist if(item) > 0]"
   ]
  },
  {
   "cell_type": "code",
   "execution_count": 220,
   "metadata": {
    "collapsed": true
   },
   "outputs": [],
   "source": [
    "count = Counter(d_sentences_flatten)"
   ]
  },
  {
   "cell_type": "code",
   "execution_count": 221,
   "metadata": {
    "collapsed": true
   },
   "outputs": [],
   "source": [
    "top_50 = count.most_common(200)"
   ]
  },
  {
   "cell_type": "code",
   "execution_count": 222,
   "metadata": {
    "collapsed": true
   },
   "outputs": [],
   "source": [
    "words, cnt = zip(*top_50)"
   ]
  },
  {
   "cell_type": "code",
   "execution_count": 223,
   "metadata": {
    "collapsed": true
   },
   "outputs": [],
   "source": [
    "tot = 0"
   ]
  },
  {
   "cell_type": "code",
   "execution_count": 224,
   "metadata": {
    "collapsed": true
   },
   "outputs": [],
   "source": [
    "idx = 0\n",
    "for i in range(0, 200):\n",
    "    if words[i] != None and words[i] not in hz_stop_words and idx < 50:\n",
    "        print idx, words[i], cnt[i]\n",
    "        idx += 1\n",
    "        tot += cnt[i]"
   ]
  },
  {
   "cell_type": "code",
   "execution_count": null,
   "metadata": {
    "collapsed": true
   },
   "outputs": [],
   "source": []
  },
  {
   "cell_type": "code",
   "execution_count": 225,
   "metadata": {
    "collapsed": true
   },
   "outputs": [],
   "source": [
    "idx = 0\n",
    "for i in range(0, 200):\n",
    "    if words[i] != None and words[i] not in hz_stop_words and idx < 50:\n",
    "        print idx, words[i], cnt[i]*1.0/tot\n",
    "        idx += 1"
   ]
  },
  {
   "cell_type": "code",
   "execution_count": 282,
   "metadata": {
    "collapsed": true
   },
   "outputs": [],
   "source": [
    "new_df['domain']  = new_df.url.map(lambda x:tldextract.extract(x).domain + str('.') + tldextract.extract(x).suffix)"
   ]
  },
  {
   "cell_type": "code",
   "execution_count": 283,
   "metadata": {},
   "outputs": [],
   "source": [
    "import numpy as np\n",
    "new_df_s = new_df[new_df['domain'] != 'wuyuan168.com']\n",
    "ratio = 3000.0/len(new_df_s)\n",
    "msk = np.random.rand(len(new_df_s)) < ratio\n",
    "sampling = new_df_s[msk]"
   ]
  },
  {
   "cell_type": "code",
   "execution_count": 285,
   "metadata": {
    "collapsed": true
   },
   "outputs": [],
   "source": [
    "new_df_s.info()"
   ]
  },
  {
   "cell_type": "code",
   "execution_count": 284,
   "metadata": {
    "collapsed": true
   },
   "outputs": [],
   "source": [
    "sampling.info()"
   ]
  },
  {
   "cell_type": "code",
   "execution_count": 239,
   "metadata": {},
   "outputs": [
    {
     "data": {
      "text/html": [
       "<div>\n",
       "<table border=\"1\" class=\"dataframe\">\n",
       "  <thead>\n",
       "    <tr style=\"text-align: right;\">\n",
       "      <th></th>\n",
       "      <th>url</th>\n",
       "      <th>title</th>\n",
       "      <th>content</th>\n",
       "      <th>title_seg</th>\n",
       "      <th>content_seg</th>\n",
       "    </tr>\n",
       "  </thead>\n",
       "  <tbody>\n",
       "    <tr>\n",
       "      <th>29</th>\n",
       "      <td>http://cul.anhuinews.com/system/2014/06/12/006...</td>\n",
       "      <td>文脉蜿蜒拓徽州</td>\n",
       "      <td>流经皖南山区，长度不足300公里的新安江，是中国大地颇具传奇色彩的河流...</td>\n",
       "      <td>文脉 蜿蜒 拓 徽州</td>\n",
       "      <td>流经 皖南 山区 ， 长度 不足 300 公里 ...</td>\n",
       "    </tr>\n",
       "    <tr>\n",
       "      <th>47</th>\n",
       "      <td>http://cul.anhuinews.com/system/2016/10/18/007...</td>\n",
       "      <td>许村大刀舞，威风！</td>\n",
       "      <td>10月16日，第四届屯溪黎阳文化艺术节持续进行中。当天，徽州传统民俗黎阳仗鼓、徽...</td>\n",
       "      <td>许村 大刀 舞 ， 威风 ！</td>\n",
       "      <td>10 月 16 日 ， 第四届 屯溪 黎阳 文化 艺术节 持续 进行...</td>\n",
       "    </tr>\n",
       "    <tr>\n",
       "      <th>49</th>\n",
       "      <td>http://cul.anhuinews.com/system/2016/09/27/007...</td>\n",
       "      <td>徽州人的书写</td>\n",
       "      <td>在屯溪闲逛，信步走到一老房子门前，看到门口的盆里钵里，参差着各种绿植。驻足，一盆...</td>\n",
       "      <td>徽州 人 的 书写</td>\n",
       "      <td>在 屯溪 闲逛 ， 信步 走到 一 老房子 门前 ， 看到 门口 的...</td>\n",
       "    </tr>\n",
       "    <tr>\n",
       "      <th>96</th>\n",
       "      <td>http://cul.anhuinews.com/system/2016/01/28/007...</td>\n",
       "      <td>徽学的界定及其研究方法</td>\n",
       "      <td>徽学研究可以采取进化论的历史方法、理学的历史方法、社会学的历史方法、功...</td>\n",
       "      <td>徽学 的 界定 及其 研究 方法</td>\n",
       "      <td>徽学 研究 可以 采取 进化论 的 历史 方法 ...</td>\n",
       "    </tr>\n",
       "    <tr>\n",
       "      <th>118</th>\n",
       "      <td>http://cul.anhuinews.com/system/2014/07/14/006...</td>\n",
       "      <td>竹编，一个老人的梦——专访徽州竹编传承人曹德泉</td>\n",
       "      <td>青山抱竹林，竹林傍绿水，绿水环寓居……这样清幽的环境里，一位老人，手执...</td>\n",
       "      <td>竹编 ， 一个 老人 的 梦 — — 专访 徽州 竹编 传承 人 曹德泉</td>\n",
       "      <td>青山 抱 竹林 ， 竹林 傍 绿水 ， 绿水 环...</td>\n",
       "    </tr>\n",
       "  </tbody>\n",
       "</table>\n",
       "</div>"
      ],
      "text/plain": [
       "                                                   url  \\\n",
       "29   http://cul.anhuinews.com/system/2014/06/12/006...   \n",
       "47   http://cul.anhuinews.com/system/2016/10/18/007...   \n",
       "49   http://cul.anhuinews.com/system/2016/09/27/007...   \n",
       "96   http://cul.anhuinews.com/system/2016/01/28/007...   \n",
       "118  http://cul.anhuinews.com/system/2014/07/14/006...   \n",
       "\n",
       "                       title  \\\n",
       "29                   文脉蜿蜒拓徽州   \n",
       "47                 许村大刀舞，威风！   \n",
       "49                    徽州人的书写   \n",
       "96               徽学的界定及其研究方法   \n",
       "118  竹编，一个老人的梦——专访徽州竹编传承人曹德泉   \n",
       "\n",
       "                                               content  \\\n",
       "29              流经皖南山区，长度不足300公里的新安江，是中国大地颇具传奇色彩的河流...   \n",
       "47         10月16日，第四届屯溪黎阳文化艺术节持续进行中。当天，徽州传统民俗黎阳仗鼓、徽...   \n",
       "49         在屯溪闲逛，信步走到一老房子门前，看到门口的盆里钵里，参差着各种绿植。驻足，一盆...   \n",
       "96              徽学研究可以采取进化论的历史方法、理学的历史方法、社会学的历史方法、功...   \n",
       "118             青山抱竹林，竹林傍绿水，绿水环寓居……这样清幽的环境里，一位老人，手执...   \n",
       "\n",
       "                                title_seg  \\\n",
       "29                             文脉 蜿蜒 拓 徽州   \n",
       "47                         许村 大刀 舞 ， 威风 ！   \n",
       "49                              徽州 人 的 书写   \n",
       "96                       徽学 的 界定 及其 研究 方法   \n",
       "118  竹编 ， 一个 老人 的 梦 — — 专访 徽州 竹编 传承 人 曹德泉   \n",
       "\n",
       "                                           content_seg  \n",
       "29                         流经 皖南 山区 ， 长度 不足 300 公里 ...  \n",
       "47               10 月 16 日 ， 第四届 屯溪 黎阳 文化 艺术节 持续 进行...  \n",
       "49               在 屯溪 闲逛 ， 信步 走到 一 老房子 门前 ， 看到 门口 的...  \n",
       "96                         徽学 研究 可以 采取 进化论 的 历史 方法 ...  \n",
       "118                        青山 抱 竹林 ， 竹林 傍 绿水 ， 绿水 环...  "
      ]
     },
     "execution_count": 239,
     "metadata": {},
     "output_type": "execute_result"
    }
   ],
   "source": [
    "sampling.head()"
   ]
  },
  {
   "cell_type": "code",
   "execution_count": 286,
   "metadata": {
    "collapsed": true
   },
   "outputs": [],
   "source": [
    "q_sentences = sampling['content_seg'].str.decode('utf-8')"
   ]
  },
  {
   "cell_type": "code",
   "execution_count": 287,
   "metadata": {},
   "outputs": [],
   "source": [
    "q_words = [item.split() for item in q_sentences]"
   ]
  },
  {
   "cell_type": "code",
   "execution_count": 288,
   "metadata": {},
   "outputs": [],
   "source": [
    "q_flatten = [ch_title_letters_removal(item) for sublist in q_words for item in sublist if ch_title_letters_removal(item) != None]"
   ]
  },
  {
   "cell_type": "code",
   "execution_count": 289,
   "metadata": {
    "collapsed": true
   },
   "outputs": [],
   "source": [
    "count = Counter(q_flatten)"
   ]
  },
  {
   "cell_type": "code",
   "execution_count": 290,
   "metadata": {
    "collapsed": true
   },
   "outputs": [],
   "source": [
    "top_50 = count.most_common(200)"
   ]
  },
  {
   "cell_type": "code",
   "execution_count": 291,
   "metadata": {
    "collapsed": true
   },
   "outputs": [],
   "source": [
    "words, cnt = zip(*top_50)"
   ]
  },
  {
   "cell_type": "code",
   "execution_count": 292,
   "metadata": {
    "collapsed": true
   },
   "outputs": [],
   "source": [
    "idx = 0\n",
    "tot = 0\n",
    "for i in range(0, 200):\n",
    "    if words[i] != None and words[i] not in hz_stop_words and idx < 50:\n",
    "        print idx, words[i], cnt[i]\n",
    "        idx += 1\n",
    "        tot += cnt[i]"
   ]
  },
  {
   "cell_type": "code",
   "execution_count": 293,
   "metadata": {},
   "outputs": [],
   "source": [
    "idx = 0\n",
    "for i in range(0, 200):\n",
    "    if words[i] != None and words[i] not in hz_stop_words and idx < 50:\n",
    "        print idx, words[i], cnt[i]*1.0/tot\n",
    "        idx += 1"
   ]
  },
  {
   "cell_type": "code",
   "execution_count": null,
   "metadata": {
    "collapsed": true
   },
   "outputs": [],
   "source": []
  }
 ],
 "metadata": {
  "kernelspec": {
   "display_name": "Python 3 (ipykernel)",
   "language": "python",
   "name": "python3"
  },
  "language_info": {
   "codemirror_mode": {
    "name": "ipython",
    "version": 3
   },
   "file_extension": ".py",
   "mimetype": "text/x-python",
   "name": "python",
   "nbconvert_exporter": "python",
   "pygments_lexer": "ipython3",
   "version": "3.8.10"
  }
 },
 "nbformat": 4,
 "nbformat_minor": 1
}
