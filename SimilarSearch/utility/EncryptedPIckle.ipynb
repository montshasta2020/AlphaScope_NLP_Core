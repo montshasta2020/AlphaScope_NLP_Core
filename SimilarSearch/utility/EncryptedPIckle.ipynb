{
 "cells": [
  {
   "cell_type": "code",
   "execution_count": 2,
   "metadata": {},
   "outputs": [],
   "source": [
    "from encryptedpickle import encryptedpickle"
   ]
  },
  {
   "cell_type": "code",
   "execution_count": 26,
   "metadata": {},
   "outputs": [],
   "source": [
    "passphrases = {0:u'西 安 四 军 医 大 学 国 家 测 绘 局 政 法 学 院 文 艺 路 小 学 71 高 中 西 北 工 业 大 学 数 学 系'}"
   ]
  },
  {
   "cell_type": "code",
   "execution_count": 27,
   "metadata": {
    "collapsed": true
   },
   "outputs": [],
   "source": [
    "data = {'example': 123, 'test': 'testing'}"
   ]
  },
  {
   "cell_type": "code",
   "execution_count": 28,
   "metadata": {},
   "outputs": [],
   "source": [
    "encoder = encryptedpickle.EncryptedPickle(signature_passphrases=passphrases,\n",
    "                                          encryption_passphrases=passphrases)"
   ]
  },
  {
   "cell_type": "code",
   "execution_count": 29,
   "metadata": {},
   "outputs": [],
   "source": [
    "sealed = encoder.seal(data)"
   ]
  },
  {
   "cell_type": "code",
   "execution_count": 30,
   "metadata": {
    "collapsed": true
   },
   "outputs": [],
   "source": [
    "unsealed = encoder.unseal(sealed)"
   ]
  },
  {
   "cell_type": "code",
   "execution_count": 31,
   "metadata": {},
   "outputs": [
    {
     "name": "stdout",
     "output_type": "stream",
     "text": [
      "{'test': 'testing', 'example': 123}\n"
     ]
    }
   ],
   "source": [
    "print unsealed"
   ]
  },
  {
   "cell_type": "code",
   "execution_count": 32,
   "metadata": {},
   "outputs": [
    {
     "name": "stdout",
     "output_type": "stream",
     "text": [
      "EPAQAAAAABAAAAiFkwa8um4fJ5qDp-8n7X1ky2q13uY3JW9-3EJaUGHFXOFBcYONkEiPVz-O1gqMn3r9E8WcCjBJik2ndIs7CIJracUYWyDtJEBeQ0AE4LfWzcJw8xYmDM4XDkSsR3RBX8p-JubPipjDV_XBINYLNoVaH7xfDdo40trShkAOb43_tW23jd_WpEhTAvp5ETPLDT0IO3oeq3uq_F2MtiYuE1sQ\n"
     ]
    }
   ],
   "source": [
    "print sealed"
   ]
  },
  {
   "cell_type": "code",
   "execution_count": 33,
   "metadata": {},
   "outputs": [
    {
     "name": "stdout",
     "output_type": "stream",
     "text": [
      "<encryptedpickle.encryptedpickle.EncryptedPickle object at 0x1074e8090>\n"
     ]
    }
   ],
   "source": [
    "print encoder"
   ]
  },
  {
   "cell_type": "code",
   "execution_count": null,
   "metadata": {
    "collapsed": true
   },
   "outputs": [],
   "source": []
  }
 ],
 "metadata": {
  "kernelspec": {
   "display_name": "Python 2",
   "language": "python",
   "name": "python2"
  },
  "language_info": {
   "codemirror_mode": {
    "name": "ipython",
    "version": 2
   },
   "file_extension": ".py",
   "mimetype": "text/x-python",
   "name": "python",
   "nbconvert_exporter": "python",
   "pygments_lexer": "ipython2",
   "version": "2.7.10"
  }
 },
 "nbformat": 4,
 "nbformat_minor": 2
}
