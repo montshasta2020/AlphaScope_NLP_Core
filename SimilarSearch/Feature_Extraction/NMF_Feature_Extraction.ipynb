{
 "cells": [
  {
   "cell_type": "code",
   "execution_count": 35,
   "metadata": {
    "collapsed": true
   },
   "outputs": [],
   "source": [
    "#Non-negative Matrix Factorization and Latent Dirichlet Allocation on a corpus of documents and extract additive \n",
    "#models of the topic structure of the corpus. The output is a list of topics, each represented as a list of terms \n",
    "#(weights are not shown)."
   ]
  },
  {
   "cell_type": "code",
   "execution_count": 1,
   "metadata": {
    "collapsed": true
   },
   "outputs": [],
   "source": [
    "import numpy as np\n",
    "from collections import Counter"
   ]
  },
  {
   "cell_type": "code",
   "execution_count": 2,
   "metadata": {
    "collapsed": true
   },
   "outputs": [],
   "source": [
    "import pandas as pd\n",
    "import json"
   ]
  },
  {
   "cell_type": "code",
   "execution_count": 8,
   "metadata": {
    "collapsed": true
   },
   "outputs": [],
   "source": [
    "import tldextract"
   ]
  },
  {
   "cell_type": "code",
   "execution_count": 4,
   "metadata": {
    "collapsed": true
   },
   "outputs": [],
   "source": [
    "from sklearn.feature_extraction.text import HashingVectorizer\n",
    "from sklearn.feature_extraction.text import TfidfVectorizer, CountVectorizer\n",
    "from sklearn.decomposition import NMF, LatentDirichletAllocation"
   ]
  },
  {
   "cell_type": "code",
   "execution_count": 6,
   "metadata": {
    "collapsed": true
   },
   "outputs": [],
   "source": [
    "#before classification\n",
    "df = pd.read_csv('../data/raw/solr-dsi-domain_only-04-05-2017-cleaned.csv')\n",
    "\n",
    "#after classificaiton\n",
    "#df = pd.read_csv('../data/clean/Solr-dsi-final_v1.csv')"
   ]
  },
  {
   "cell_type": "code",
   "execution_count": 9,
   "metadata": {
    "collapsed": true
   },
   "outputs": [],
   "source": [
    "df['domain']  = df.url.map(lambda x:tldextract.extract(x).domain + str('.') + tldextract.extract(x).suffix)"
   ]
  },
  {
   "cell_type": "code",
   "execution_count": 10,
   "metadata": {},
   "outputs": [
    {
     "name": "stdout",
     "output_type": "stream",
     "text": [
      "<class 'pandas.core.frame.DataFrame'>\n",
      "RangeIndex: 292147 entries, 0 to 292146\n",
      "Data columns (total 12 columns):\n",
      "_version_    292147 non-null int64\n",
      "cache        3956 non-null object\n",
      "segment      292147 non-null int64\n",
      "digest       292147 non-null object\n",
      "tstamp       292147 non-null object\n",
      "url          292147 non-null object\n",
      "anchor       31946 non-null object\n",
      "content      292147 non-null object\n",
      "id           292147 non-null object\n",
      "title        292147 non-null object\n",
      "boost        292147 non-null float64\n",
      "domain       292147 non-null object\n",
      "dtypes: float64(1), int64(2), object(9)\n",
      "memory usage: 26.7+ MB\n"
     ]
    }
   ],
   "source": [
    "df.info()"
   ]
  },
  {
   "cell_type": "code",
   "execution_count": 11,
   "metadata": {},
   "outputs": [
    {
     "data": {
      "text/html": [
       "<div>\n",
       "<table border=\"1\" class=\"dataframe\">\n",
       "  <thead>\n",
       "    <tr style=\"text-align: right;\">\n",
       "      <th></th>\n",
       "      <th>_version_</th>\n",
       "      <th>cache</th>\n",
       "      <th>segment</th>\n",
       "      <th>digest</th>\n",
       "      <th>tstamp</th>\n",
       "      <th>url</th>\n",
       "      <th>anchor</th>\n",
       "      <th>content</th>\n",
       "      <th>id</th>\n",
       "      <th>title</th>\n",
       "      <th>boost</th>\n",
       "      <th>domain</th>\n",
       "    </tr>\n",
       "  </thead>\n",
       "  <tbody>\n",
       "    <tr>\n",
       "      <th>0</th>\n",
       "      <td>1563673324559532032</td>\n",
       "      <td>NaN</td>\n",
       "      <td>20150728142316</td>\n",
       "      <td>1f8e9667e32a5ddfdd57e5371916449f</td>\n",
       "      <td>2015-07-28T16:30:11.372Z</td>\n",
       "      <td>http://www.analyticbridge.com/xn/detail/200429...</td>\n",
       "      <td>Big Data Salaries Top BI\\, Data Warehousing</td>\n",
       "      <td>Big Data Salaries Top BI, Data Warehousing - A...</td>\n",
       "      <td>http://www.analyticbridge.com/group/salary-tre...</td>\n",
       "      <td>Big Data Salaries Top BI, Data Warehousing - A...</td>\n",
       "      <td>0.000318</td>\n",
       "      <td>analyticbridge.com</td>\n",
       "    </tr>\n",
       "    <tr>\n",
       "      <th>1</th>\n",
       "      <td>1563673325253689344</td>\n",
       "      <td>NaN</td>\n",
       "      <td>20160118174958</td>\n",
       "      <td>a46f9b548075790ba0ff9949432964dc</td>\n",
       "      <td>2016-01-18T20:39:53.457Z</td>\n",
       "      <td>http://www.analyticbridge.com/profile/WilliamK...</td>\n",
       "      <td>NaN</td>\n",
       "      <td>William Kyniston's Page - AnalyticBridge Searc...</td>\n",
       "      <td>http://www.analyticbridge.com/profile/WilliamK...</td>\n",
       "      <td>William Kyniston's Page - AnalyticBridge</td>\n",
       "      <td>0.001015</td>\n",
       "      <td>analyticbridge.com</td>\n",
       "    </tr>\n",
       "    <tr>\n",
       "      <th>2</th>\n",
       "      <td>1563673325272563712</td>\n",
       "      <td>NaN</td>\n",
       "      <td>20150728142316</td>\n",
       "      <td>7b130e6daf011f507b3a50c0df243a68</td>\n",
       "      <td>2015-07-28T14:27:57.694Z</td>\n",
       "      <td>http://www.analyticbridge.com/profile/krishnak...</td>\n",
       "      <td>NaN</td>\n",
       "      <td>krishna kant bairagi's Page - AnalyticBridge S...</td>\n",
       "      <td>http://www.analyticbridge.com/profile/krishnak...</td>\n",
       "      <td>krishna kant bairagi's Page - AnalyticBridge</td>\n",
       "      <td>0.002638</td>\n",
       "      <td>analyticbridge.com</td>\n",
       "    </tr>\n",
       "    <tr>\n",
       "      <th>3</th>\n",
       "      <td>1563673326429143040</td>\n",
       "      <td>NaN</td>\n",
       "      <td>20160101163526</td>\n",
       "      <td>c23f6957022ca7bf274bc6650f62dc49</td>\n",
       "      <td>2015-07-28T14:23:45.73Z</td>\n",
       "      <td>http://www.analyticsindiasummit.com/speaker/am...</td>\n",
       "      <td>NaN</td>\n",
       "      <td>Amit Khanna | Cypher 2015 Presented by Analyti...</td>\n",
       "      <td>http://www.analyticsindiasummit.com/speaker/am...</td>\n",
       "      <td>Amit Khanna | Cypher 2015</td>\n",
       "      <td>0.003828</td>\n",
       "      <td>analyticsindiasummit.com</td>\n",
       "    </tr>\n",
       "    <tr>\n",
       "      <th>4</th>\n",
       "      <td>1563673326431240193</td>\n",
       "      <td>NaN</td>\n",
       "      <td>20160118174958</td>\n",
       "      <td>8b5962c25007458e694657e4708d7a38</td>\n",
       "      <td>2016-01-18T17:50:17.154Z</td>\n",
       "      <td>http://www.analyticsindiasummit.com/speaker/an...</td>\n",
       "      <td>NaN</td>\n",
       "      <td>Ankita Gupta | Cypher 2015 Presented by Analyt...</td>\n",
       "      <td>http://www.analyticsindiasummit.com/speaker/an...</td>\n",
       "      <td>Ankita Gupta | Cypher 2015</td>\n",
       "      <td>0.002474</td>\n",
       "      <td>analyticsindiasummit.com</td>\n",
       "    </tr>\n",
       "  </tbody>\n",
       "</table>\n",
       "</div>"
      ],
      "text/plain": [
       "             _version_ cache         segment  \\\n",
       "0  1563673324559532032   NaN  20150728142316   \n",
       "1  1563673325253689344   NaN  20160118174958   \n",
       "2  1563673325272563712   NaN  20150728142316   \n",
       "3  1563673326429143040   NaN  20160101163526   \n",
       "4  1563673326431240193   NaN  20160118174958   \n",
       "\n",
       "                             digest                    tstamp  \\\n",
       "0  1f8e9667e32a5ddfdd57e5371916449f  2015-07-28T16:30:11.372Z   \n",
       "1  a46f9b548075790ba0ff9949432964dc  2016-01-18T20:39:53.457Z   \n",
       "2  7b130e6daf011f507b3a50c0df243a68  2015-07-28T14:27:57.694Z   \n",
       "3  c23f6957022ca7bf274bc6650f62dc49   2015-07-28T14:23:45.73Z   \n",
       "4  8b5962c25007458e694657e4708d7a38  2016-01-18T17:50:17.154Z   \n",
       "\n",
       "                                                 url  \\\n",
       "0  http://www.analyticbridge.com/xn/detail/200429...   \n",
       "1  http://www.analyticbridge.com/profile/WilliamK...   \n",
       "2  http://www.analyticbridge.com/profile/krishnak...   \n",
       "3  http://www.analyticsindiasummit.com/speaker/am...   \n",
       "4  http://www.analyticsindiasummit.com/speaker/an...   \n",
       "\n",
       "                                        anchor  \\\n",
       "0  Big Data Salaries Top BI\\, Data Warehousing   \n",
       "1                                          NaN   \n",
       "2                                          NaN   \n",
       "3                                          NaN   \n",
       "4                                          NaN   \n",
       "\n",
       "                                             content  \\\n",
       "0  Big Data Salaries Top BI, Data Warehousing - A...   \n",
       "1  William Kyniston's Page - AnalyticBridge Searc...   \n",
       "2  krishna kant bairagi's Page - AnalyticBridge S...   \n",
       "3  Amit Khanna | Cypher 2015 Presented by Analyti...   \n",
       "4  Ankita Gupta | Cypher 2015 Presented by Analyt...   \n",
       "\n",
       "                                                  id  \\\n",
       "0  http://www.analyticbridge.com/group/salary-tre...   \n",
       "1  http://www.analyticbridge.com/profile/WilliamK...   \n",
       "2  http://www.analyticbridge.com/profile/krishnak...   \n",
       "3  http://www.analyticsindiasummit.com/speaker/am...   \n",
       "4  http://www.analyticsindiasummit.com/speaker/an...   \n",
       "\n",
       "                                               title     boost  \\\n",
       "0  Big Data Salaries Top BI, Data Warehousing - A...  0.000318   \n",
       "1           William Kyniston's Page - AnalyticBridge  0.001015   \n",
       "2       krishna kant bairagi's Page - AnalyticBridge  0.002638   \n",
       "3                          Amit Khanna | Cypher 2015  0.003828   \n",
       "4                         Ankita Gupta | Cypher 2015  0.002474   \n",
       "\n",
       "                     domain  \n",
       "0        analyticbridge.com  \n",
       "1        analyticbridge.com  \n",
       "2        analyticbridge.com  \n",
       "3  analyticsindiasummit.com  \n",
       "4  analyticsindiasummit.com  "
      ]
     },
     "execution_count": 11,
     "metadata": {},
     "output_type": "execute_result"
    }
   ],
   "source": [
    "df.head()"
   ]
  },
  {
   "cell_type": "code",
   "execution_count": 12,
   "metadata": {
    "collapsed": true
   },
   "outputs": [],
   "source": [
    "df_title = df.dropna(subset =['title'])"
   ]
  },
  {
   "cell_type": "code",
   "execution_count": 13,
   "metadata": {},
   "outputs": [
    {
     "data": {
      "text/plain": [
       "8256"
      ]
     },
     "execution_count": 13,
     "metadata": {},
     "output_type": "execute_result"
    }
   ],
   "source": [
    "df_title['domain'].nunique()"
   ]
  },
  {
   "cell_type": "code",
   "execution_count": 14,
   "metadata": {
    "collapsed": true
   },
   "outputs": [],
   "source": [
    "count = Counter(df_title['domain'])"
   ]
  },
  {
   "cell_type": "code",
   "execution_count": 15,
   "metadata": {
    "collapsed": true
   },
   "outputs": [],
   "source": [
    "top_200 = count.most_common(200)"
   ]
  },
  {
   "cell_type": "code",
   "execution_count": 16,
   "metadata": {},
   "outputs": [
    {
     "name": "stdout",
     "output_type": "stream",
     "text": [
      "kdnuggets.com 14167\n",
      "twitter.com 12274\n",
      "ibmbigdatahub.com 11875\n",
      "wikipedia.org 9330\n",
      "smartdatacollective.com 8209\n",
      "datasciencecentral.com 7915\n",
      "insidebigdata.com 4767\n",
      "analyticbridge.com 3657\n",
      "pixabay.com 3626\n",
      "meetup.com 2778\n",
      "iaria.org 1927\n",
      "ibm.com 1860\n",
      "r-project.org 1853\n",
      "blogspot.com 1849\n",
      "drdobbs.com 1819\n",
      "gabormelli.com 1798\n",
      "networkcomputing.com 1758\n",
      "reuters.com 1625\n",
      "apache.org 1588\n",
      "techtarget.com 1465\n",
      "okfn.org 1420\n",
      "businessinsider.com 1292\n",
      "aaai.org 1123\n",
      "flowingdata.com 1123\n",
      "typepad.com 1121\n",
      "darkreading.com 1073\n",
      "slideshare.net 1053\n",
      "analytictalent.com 1028\n",
      "predictiveanalyticsworld.com 966\n",
      "wsj.com 913\n",
      "oreilly.com 900\n",
      "wiley.com 897\n",
      "hbr.org 894\n",
      "politico.com 893\n",
      "vimeo.com 872\n",
      "youtube.com 850\n",
      "re-work.co 831\n",
      "ventanaresearch.com 830\n",
      "iit.edu 820\n",
      "nbcnews.com 802\n",
      "okstate.edu 796\n",
      "datainnovation.org 795\n",
      "google.com 792\n",
      "experian.com 786\n",
      "cnn.com 782\n",
      "stanford.edu 775\n",
      "cofc.edu 749\n",
      "kaggle.com 730\n",
      "columbia.edu 722\n",
      "congress.gov 710\n",
      "datareview.info 708\n",
      "videolectures.net 707\n",
      "comscore.com 703\n",
      "forbes.com 684\n",
      "techcrunch.com 679\n",
      "jtonedm.com 649\n",
      "harvard.edu 636\n",
      "uci.edu 634\n",
      "cisco.com 622\n",
      "manufacturing.net 621\n",
      "northwestern.edu 613\n",
      "utk.edu 574\n",
      "lanyrd.com 570\n",
      "bigdatanews.com 561\n",
      "broadbandsp.com 557\n",
      "acm.org 557\n",
      "minethatdata.com 546\n",
      "gartner.com 541\n",
      "pwc.com 534\n",
      "revolutionanalytics.com 529\n",
      "blackhat.com 528\n",
      "cio.com 527\n",
      "socialmarketingfella.com 525\n",
      "georgiasouthern.edu 521\n",
      "businesswire.com 491\n",
      "cmu.edu 489\n",
      "ciodive.com 486\n",
      "wpi.edu 483\n",
      "computer.org 478\n",
      "uni-mannheim.de 470\n",
      "facebook.com 460\n",
      "hadoop360.com 455\n",
      "visualstudiomagazine.com 451\n",
      "ucc.ie 446\n",
      "pika.fr 444\n",
      "gla.ac.uk 438\n",
      "knime.org 437\n",
      "tumblr.com 424\n",
      "datasift.com 423\n",
      "gold.ac.uk 417\n",
      "itbusiness.ca 413\n",
      "tu-dortmund.de 411\n",
      "nest.com 406\n",
      "tibco.com 406\n",
      "alteryx.com 400\n",
      "delaware.gov 398\n",
      "globalbigdataconference.com 395\n",
      "informs.org 389\n",
      "uc.edu 388\n",
      "thestack.com 387\n",
      "salford-systems.com 383\n",
      "uni-koblenz.de 381\n",
      "statistics.com 376\n",
      "statsblogs.com 375\n",
      "bryant.edu 365\n",
      "tableau.com 362\n",
      "loc.gov 360\n",
      "steamcommunity.com 358\n",
      "bigdata-madesimple.com 357\n",
      "gfintegrity.org 355\n",
      "asia-analytics.com 353\n",
      "umbel.com 351\n",
      "makezine.com 341\n",
      "house.gov 340\n",
      "uchicago.edu 339\n",
      "linuxfoundation.org 337\n",
      "asu.edu 336\n",
      "bva.fr 334\n",
      "nojitter.com 334\n",
      "caliper.com 332\n",
      "dcu.ie 330\n",
      "joomlaworks.net 329\n",
      "egon.com 329\n",
      "sas.com 328\n",
      "bestreviews.com 328\n",
      "waikato.ac.nz 325\n",
      "cloudwedge.com 323\n",
      "unifi.it 319\n",
      "contentmarketinginstitute.com 318\n",
      "searchengineland.com 316\n",
      "datavizualization.com 316\n",
      "siam.org 315\n",
      "createyournextcustomer.com 315\n",
      "kdd.org 315\n",
      "semantic-web-journal.net 313\n",
      "dmu.ac.uk 313\n",
      "digitalocean.com 312\n",
      "nyu.edu 312\n",
      "sdiwc.net 310\n",
      "channeldb2.com 308\n",
      "umass.edu 307\n",
      "plot.ly 304\n",
      "ieeevis.org 301\n",
      "georgetown.edu 295\n",
      "jobs.ac.uk 295\n",
      "burtchworks.com 295\n",
      "bigml.com 291\n",
      "theregister.co.uk 290\n",
      "db-engines.com 283\n",
      "informationweek.com 282\n",
      "dzone.com 282\n",
      "dimins.com 281\n",
      "roirevolution.com 279\n",
      "iotcentral.io 277\n",
      "minecraft4freeonline.com 275\n",
      "sheffield.ac.uk 272\n",
      "microsoft.com 271\n",
      "warwick.ac.uk 270\n",
      "generalassemb.ly 269\n",
      "cloudera.com 267\n",
      "moz.com 265\n",
      "nvidia.com 262\n",
      "allencomm.com 261\n",
      "wordpress.org 260\n",
      "hiit.fi 258\n",
      "huawei.com 256\n",
      "bentley.edu 256\n",
      "scikit-learn.org 253\n",
      "databricks.com 252\n",
      "andrewgelman.com 252\n",
      "trilliumsoftware.com 249\n",
      "datafloq.com 243\n",
      "atlassian.com 243\n",
      "dataplumbing.com 241\n",
      "ieseg.fr 239\n",
      "cnet.com 237\n",
      "tamr.com 232\n",
      "deep-data-mining.com 232\n",
      "cornell.edu 232\n",
      "stackoverflow.com 229\n",
      "apple.com 229\n",
      "ubm.com 227\n",
      "nd.edu 227\n",
      "mariadb.com 225\n",
      "purevolume.com 225\n",
      "protegrity.com 225\n",
      "creativecommons.org 224\n",
      "iianalytics.com 222\n",
      "smallbusinessbonfire.com 222\n",
      "liglab.fr 222\n",
      "ucla.edu 217\n",
      "impetus.com 215\n",
      "wired.com 215\n",
      "sourceforge.net 215\n",
      "data-magnum.com 214\n",
      "siliconangle.com 214\n",
      "ieee.org 213\n",
      "dataversity.net 211\n",
      "python.org 211\n",
      "bigdatauniversity.com 208\n"
     ]
    }
   ],
   "source": [
    "for t in top_200:\n",
    "    print t[0], t[1]"
   ]
  },
  {
   "cell_type": "code",
   "execution_count": 17,
   "metadata": {
    "collapsed": true
   },
   "outputs": [],
   "source": [
    "df_title.to_csv('tmp.csv')\n",
    "df_title = pd.read_csv('tmp.csv')"
   ]
  },
  {
   "cell_type": "code",
   "execution_count": 18,
   "metadata": {},
   "outputs": [
    {
     "name": "stdout",
     "output_type": "stream",
     "text": [
      "<class 'pandas.core.frame.DataFrame'>\n",
      "RangeIndex: 292147 entries, 0 to 292146\n",
      "Data columns (total 13 columns):\n",
      "Unnamed: 0    292147 non-null int64\n",
      "_version_     292147 non-null int64\n",
      "cache         3956 non-null object\n",
      "segment       292147 non-null int64\n",
      "digest        292147 non-null object\n",
      "tstamp        292147 non-null object\n",
      "url           292147 non-null object\n",
      "anchor        31946 non-null object\n",
      "content       292147 non-null object\n",
      "id            292147 non-null object\n",
      "title         292147 non-null object\n",
      "boost         292147 non-null float64\n",
      "domain        292147 non-null object\n",
      "dtypes: float64(1), int64(3), object(9)\n",
      "memory usage: 29.0+ MB\n"
     ]
    }
   ],
   "source": [
    "df_title.info()"
   ]
  },
  {
   "cell_type": "code",
   "execution_count": 19,
   "metadata": {
    "collapsed": true
   },
   "outputs": [],
   "source": [
    "train_articles = df_title['title']"
   ]
  },
  {
   "cell_type": "code",
   "execution_count": 20,
   "metadata": {
    "collapsed": true
   },
   "outputs": [],
   "source": [
    "n_samples = 2000\n",
    "n_features = 1000\n",
    "n_topics = 10\n",
    "n_top_words = 20"
   ]
  },
  {
   "cell_type": "code",
   "execution_count": 21,
   "metadata": {
    "collapsed": true
   },
   "outputs": [],
   "source": [
    "vectorizer = TfidfVectorizer(stop_words = 'english')\n",
    "document_term_mat = vectorizer.fit_transform(train_articles)\n",
    "words = vectorizer.get_feature_names()"
   ]
  },
  {
   "cell_type": "code",
   "execution_count": 22,
   "metadata": {},
   "outputs": [
    {
     "name": "stdout",
     "output_type": "stream",
     "text": [
      "(292147, 95663)\n"
     ]
    }
   ],
   "source": [
    "print document_term_mat.shape"
   ]
  },
  {
   "cell_type": "code",
   "execution_count": 23,
   "metadata": {
    "collapsed": true
   },
   "outputs": [],
   "source": [
    "nmf = NMF(n_components = n_topics)\n",
    "nmf_W = nmf.fit_transform(document_term_mat)\n",
    "nmf_H = nmf.components_"
   ]
  },
  {
   "cell_type": "code",
   "execution_count": 25,
   "metadata": {
    "collapsed": true
   },
   "outputs": [],
   "source": [
    "def print_top_words(model, feature_names, n_top_words, df):\n",
    "    for topic_idx, topic in enumerate(model.components_):\n",
    "        tmp = df[df['topic'] == topic_idx]\n",
    "        print(\"Topic #%d:\" % topic_idx, \"total = %d\" % len(tmp))\n",
    "        print(\" \".join([feature_names[i] for i in topic.argsort()[:-n_top_words - 1:-1]]))\n",
    "        #print()"
   ]
  },
  {
   "cell_type": "code",
   "execution_count": 26,
   "metadata": {
    "collapsed": true
   },
   "outputs": [],
   "source": [
    "def main_topic_per_doc(W):\n",
    "    '''\n",
    "    Output a list that holds the top topic in each document\n",
    "    '''\n",
    "    main_topic = []\n",
    "    for doc_num, topic_row in enumerate(W):\n",
    "        main_topic.append(topic_row.argsort()[::-1][0])\n",
    "        #print(\"Article %d:\" % doc_num, \"Main Topic: %d\" % topic_row.argsort()[::-1][0])\n",
    "    return main_topic"
   ]
  },
  {
   "cell_type": "code",
   "execution_count": 27,
   "metadata": {
    "collapsed": true
   },
   "outputs": [],
   "source": [
    "def describe_nmf_results_W(W, n_top_topics = 10):\n",
    "    '''\n",
    "    Output the top topics in each document\n",
    "    '''\n",
    "    for doc_num, topic_row in enumerate(W[:10]): # print out the first 10 documents\n",
    "        print(\"Document %d:\" % doc_num)\n",
    "        print topic_row.argsort()[::-1][:n_top_topics]\n",
    "    return\n"
   ]
  },
  {
   "cell_type": "code",
   "execution_count": 28,
   "metadata": {
    "collapsed": true
   },
   "outputs": [],
   "source": [
    "def describe_results_H(H, n_top_words = 20):\n",
    "    '''\n",
    "    Output the top words in each topic\n",
    "    '''\n",
    "    for topic_num, topic in enumerate(H):\n",
    "        print(\"Topic %d:\" % topic_num)\n",
    "        print(\" \".join([words[i] for i in topic.argsort()[:-n_top_words - 1:-1]]))\n",
    "    return"
   ]
  },
  {
   "cell_type": "code",
   "execution_count": 29,
   "metadata": {
    "collapsed": true
   },
   "outputs": [],
   "source": [
    "def topic_group_get(W, given_topic):\n",
    "    '''\n",
    "    Output a list that holds the top topic in each document \n",
    "    '''\n",
    "    main_topic = []\n",
    "    for doc_num, topic_row in enumerate(W):\n",
    "        if topic_row.argsort()[::-1][0] == given_topic:\n",
    "            main_topic.append(doc_num)\n",
    "            #print(\"Article %d:\" % doc_num, \"Main Topic: %d\" % topic_row.argsort()[::-1][0])\n",
    "    return main_topic"
   ]
  },
  {
   "cell_type": "markdown",
   "metadata": {},
   "source": [
    "topic_group_get(nmf_W, 0)"
   ]
  },
  {
   "cell_type": "code",
   "execution_count": 30,
   "metadata": {
    "collapsed": true
   },
   "outputs": [],
   "source": [
    "df_title['topic'] = main_topic_per_doc(nmf_W)"
   ]
  },
  {
   "cell_type": "code",
   "execution_count": 31,
   "metadata": {},
   "outputs": [
    {
     "name": "stdout",
     "output_type": "stream",
     "text": [
      "('Topic #0:', 'total = 19378')\n",
      "ibm analytics hub big data blogs predictive customer insight watson management hadoop cognitive fraud things cloud healthcare financial internet real\n",
      "('Topic #1:', 'total = 8096')\n",
      "collective smartdata thinkers best posts world infographics articles cloud bi change things use internet ways future big hadoop customer marketing\n",
      "('Topic #2:', 'total = 19108')\n",
      "science central data page computer friends institute analyticbridge weekly digest analytics iot learning department 101 london master nyu python machine\n",
      "('Topic #3:', 'total = 12780')\n",
      "twitter tweets media help replies center developers https http blogs status ibm ads facebook issue david new previous chris policy\n",
      "('Topic #4:', 'total = 14363')\n",
      "wikipedia category template help software talk theory programming style manual file game wikiproject language computer portal management articles list research\n",
      "('Topic #5:', 'total = 44836')\n",
      "data mining big scientist conference open visualization center innovation global comments census social text analysis media insidebigdata 2015 world management\n",
      "('Topic #6:', 'total = 34404')\n",
      "business intelligence analytics insider software digital predictive marketing wire management bi solutions small school college world tag social technology services\n",
      "('Topic #7:', 'total = 24315')\n",
      "news kdnuggets item 05 nbc 99 briefs features events jobs research 10 latest help analysis publications software tech analytic 14\n",
      "('Topic #8:', 'total = 50142')\n",
      "university research school college information technology contact computing department computer bryant cincinnati graduate tennessee services goldsmiths knoxville london southern georgia\n",
      "('Topic #9:', 'total = 64725')\n",
      "blog com archives work learning statistics machine jobs analytictalent insidebigdata deep internet things network facebook engineering comments bigml security experian\n"
     ]
    }
   ],
   "source": [
    "print_top_words(nmf, words, n_top_words, df_title)"
   ]
  },
  {
   "cell_type": "code",
   "execution_count": 32,
   "metadata": {},
   "outputs": [
    {
     "name": "stdout",
     "output_type": "stream",
     "text": [
      "Document 0:\n",
      "[5 0 2 6 1 9 8 7 4 3]\n",
      "Document 1:\n",
      "[2 9 6 7 4 3 8 5 1 0]\n",
      "Document 2:\n",
      "[2 9 6 7 3 8 5 4 1 0]\n",
      "Document 3:\n",
      "[5 6 9 7 8 3 4 2 1 0]\n",
      "Document 4:\n",
      "[5 6 9 7 8 3 4 2 1 0]\n",
      "Document 5:\n",
      "[5 6 9 7 8 3 4 2 1 0]\n",
      "Document 6:\n",
      "[5 6 9 7 8 3 4 2 1 0]\n",
      "Document 7:\n",
      "[5 6 9 7 8 3 4 2 1 0]\n",
      "Document 8:\n",
      "[5 6 9 7 8 3 4 2 1 0]\n",
      "Document 9:\n",
      "[5 6 9 7 8 3 4 2 1 0]\n"
     ]
    }
   ],
   "source": [
    "describe_nmf_results_W(nmf_W)"
   ]
  },
  {
   "cell_type": "code",
   "execution_count": null,
   "metadata": {
    "collapsed": true
   },
   "outputs": [],
   "source": []
  },
  {
   "cell_type": "code",
   "execution_count": 33,
   "metadata": {
    "collapsed": true
   },
   "outputs": [],
   "source": [
    "#with normalized vector\n",
    "normalized_vectorizer = TfidfVectorizer(stop_words = 'english', norm=None)\n",
    "normalized_document_term_mat = normalized_vectorizer.fit_transform(train_articles)\n",
    "words = normalized_vectorizer.get_feature_names()"
   ]
  },
  {
   "cell_type": "code",
   "execution_count": 34,
   "metadata": {
    "collapsed": true
   },
   "outputs": [],
   "source": [
    "nmf = NMF(n_components = n_topics)\n",
    "nmf_W = nmf.fit_transform(normalized_document_term_mat)\n",
    "nmf_H = nmf.components_"
   ]
  },
  {
   "cell_type": "code",
   "execution_count": 35,
   "metadata": {
    "collapsed": true
   },
   "outputs": [],
   "source": [
    "df_title['topic'] = main_topic_per_doc(nmf_W)"
   ]
  },
  {
   "cell_type": "code",
   "execution_count": 36,
   "metadata": {},
   "outputs": [
    {
     "name": "stdout",
     "output_type": "stream",
     "text": [
      "('Topic #0:', 'total = 21864')\n",
      "analytics ibm big hub data predictive customer blogs insight watson things cognitive hadoop world management fraud internet real cloud healthcare\n",
      "('Topic #1:', 'total = 18675')\n",
      "science central data page computer friends institute analyticbridge digest weekly nyu iot department python analytics master engineering iit applied 101\n",
      "('Topic #2:', 'total = 9099')\n",
      "collective smartdata posts infographics thinkers best world articles cloud bi change big intelligence ways use data things hadoop customer internet\n",
      "('Topic #3:', 'total = 34396')\n",
      "data mining big open visualization scientist blog social text census analysis conference center media innovation comments software knowledge insidebigdata management\n",
      "('Topic #4:', 'total = 13287')\n",
      "free pixabay image photo illustration online minecraft hunch gratis software images vector graphic download web footage foto woman leaf green\n",
      "('Topic #5:', 'total = 81560')\n",
      "business university school intelligence analytics college information insider research technology management software digital online graduate services computing engineering marketing degree\n",
      "('Topic #6:', 'total = 31482')\n",
      "news kdnuggets item 05 nbc com jobs briefs 99 tech 10 global latest research blog 07 experian features 15 16\n",
      "('Topic #7:', 'total = 25452')\n",
      "twitter tweets media internet service replies providers satellite exede 866 997 5757 https help center http social new things facebook\n",
      "('Topic #8:', 'total = 18171')\n",
      "meetup san francisco ca area bay spark streams apache 2017 predictive developers diego sf meetups 2016 atlanta new conference world\n",
      "('Topic #9:', 'total = 38161')\n",
      "learning machine wikipedia deep blog uci repository set python source apis comments new conference learn insidebigdata apache mastery iq swift\n"
     ]
    }
   ],
   "source": [
    "print_top_words(nmf, words, n_top_words, df_title)"
   ]
  },
  {
   "cell_type": "code",
   "execution_count": null,
   "metadata": {
    "collapsed": true
   },
   "outputs": [],
   "source": []
  },
  {
   "cell_type": "code",
   "execution_count": null,
   "metadata": {
    "collapsed": true
   },
   "outputs": [],
   "source": []
  },
  {
   "cell_type": "code",
   "execution_count": null,
   "metadata": {
    "collapsed": true
   },
   "outputs": [],
   "source": []
  }
 ],
 "metadata": {
  "kernelspec": {
   "display_name": "Python 2",
   "language": "python",
   "name": "python2"
  },
  "language_info": {
   "codemirror_mode": {
    "name": "ipython",
    "version": 2
   },
   "file_extension": ".py",
   "mimetype": "text/x-python",
   "name": "python",
   "nbconvert_exporter": "python",
   "pygments_lexer": "ipython2",
   "version": "2.7.10"
  }
 },
 "nbformat": 4,
 "nbformat_minor": 2
}
