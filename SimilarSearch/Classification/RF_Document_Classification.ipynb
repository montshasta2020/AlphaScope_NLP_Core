{
 "cells": [
  {
   "cell_type": "code",
   "execution_count": 1,
   "metadata": {
    "collapsed": true
   },
   "outputs": [],
   "source": [
    "import sys  \n",
    "reload(sys)  \n",
    "sys.setdefaultencoding('utf-8')"
   ]
  },
  {
   "cell_type": "code",
   "execution_count": 2,
   "metadata": {},
   "outputs": [],
   "source": [
    "from sklearn.tree import DecisionTreeRegressor\n",
    "from sklearn.ensemble import RandomForestRegressor\n",
    "import numpy as np\n",
    "import tldextract\n",
    "from collections import Counter\n"
   ]
  },
  {
   "cell_type": "code",
   "execution_count": 3,
   "metadata": {
    "collapsed": true
   },
   "outputs": [],
   "source": [
    "import pandas as pd\n",
    "import json"
   ]
  },
  {
   "cell_type": "code",
   "execution_count": 4,
   "metadata": {
    "collapsed": true
   },
   "outputs": [],
   "source": [
    "from sklearn.externals.six.moves import html_parser\n",
    "from sklearn.externals.six.moves import urllib\n",
    "from sklearn.datasets import get_data_home\n",
    "from sklearn.feature_extraction.text import HashingVectorizer\n",
    "from sklearn.linear_model import SGDClassifier\n",
    "from sklearn.linear_model import PassiveAggressiveClassifier\n",
    "from sklearn.linear_model import Perceptron\n",
    "from sklearn.linear_model import RidgeClassifier\n",
    "from sklearn.neighbors import KNeighborsClassifier\n",
    "from sklearn.feature_extraction.text import TfidfVectorizer, CountVectorizer\n",
    "from sklearn.decomposition import NMF\n",
    "from sklearn.naive_bayes import MultinomialNB"
   ]
  },
  {
   "cell_type": "code",
   "execution_count": 5,
   "metadata": {},
   "outputs": [],
   "source": [
    "from sklearn.datasets import make_blobs\n",
    "from sklearn.ensemble import RandomForestClassifier\n",
    "from sklearn.ensemble import ExtraTreesClassifier\n",
    "from sklearn.tree import DecisionTreeClassifier\n",
    "from sklearn import metrics\n",
    "from sklearn.cross_validation import train_test_split"
   ]
  },
  {
   "cell_type": "code",
   "execution_count": 7,
   "metadata": {},
   "outputs": [],
   "source": [
    "#load customized stop words\n",
    "with open('/Users/nhu2000/projects/SimilarSearch/data/stop_words/Baidu_Stop_Words.json') as data_file:    \n",
    "    data = json.load(data_file)\n",
    "bd_stop_words = list(data)"
   ]
  },
  {
   "cell_type": "code",
   "execution_count": 8,
   "metadata": {
    "collapsed": true
   },
   "outputs": [],
   "source": [
    "#vectorizer = TfidfVectorizer(sublinear_tf=True, max_df=0.5, stop_words='english')\n",
    "vectorizer = TfidfVectorizer(analyzer = 'word', stop_words = bd_stop_words)"
   ]
  },
  {
   "cell_type": "code",
   "execution_count": null,
   "metadata": {
    "collapsed": true
   },
   "outputs": [],
   "source": []
  },
  {
   "cell_type": "code",
   "execution_count": 8,
   "metadata": {
    "collapsed": true
   },
   "outputs": [],
   "source": [
    "#Latest Random forest classifier\n",
    "#dataset size = 35095  score = 0.960982747058\n",
    "#dataset size = 44709  score = 0.977663418373 (0.9951 after tuning)\n",
    "#dataset size = 83217  score = 0.9949 "
   ]
  },
  {
   "cell_type": "code",
   "execution_count": 9,
   "metadata": {},
   "outputs": [],
   "source": [
    "clf = RandomForestClassifier(n_estimators=50)  #0.960982747058\n",
    "#clf = RidgeClassifier(tol=1e-2, solver=\"lsqr\")  #0.936901786259\n",
    "#clf = Perceptron(n_iter=500)   #0.931597878437\n",
    "#clf = PassiveAggressiveClassifier(n_iter=500)   #0.952935438639\n",
    "#clf = KNeighborsClassifier(n_neighbors=200) #0.895506919466"
   ]
  },
  {
   "cell_type": "code",
   "execution_count": 82,
   "metadata": {},
   "outputs": [],
   "source": [
    "#df_no_dup = pd.read_csv('/Users/nhu2000/projects/SimilarSearch/data/segments/title-jiaba-segment_v3.csv')\n",
    "df_no_dup = pd.read_csv('/Users/nhu2000/projects/SimilarSearch/data/classifier/huizhou_v1.csv')"
   ]
  },
  {
   "cell_type": "code",
   "execution_count": 83,
   "metadata": {},
   "outputs": [],
   "source": [
    "df_no_dup.info()"
   ]
  },
  {
   "cell_type": "code",
   "execution_count": 84,
   "metadata": {},
   "outputs": [
    {
     "data": {
      "text/plain": [
       "17318"
      ]
     },
     "execution_count": 84,
     "metadata": {},
     "output_type": "execute_result"
    }
   ],
   "source": [
    "df_no_dup['target'].sum()"
   ]
  },
  {
   "cell_type": "markdown",
   "metadata": {},
   "source": [
    "df_ref = pd.read_csv('../data/segments/solr-more/solr-series-segment.csv')"
   ]
  },
  {
   "cell_type": "markdown",
   "metadata": {},
   "source": [
    "df_ref.head()"
   ]
  },
  {
   "cell_type": "markdown",
   "metadata": {},
   "source": [
    "len(df_no_dup[df_no_dup['flag'] == 'pos'])"
   ]
  },
  {
   "cell_type": "code",
   "execution_count": 85,
   "metadata": {},
   "outputs": [],
   "source": [
    "#fine tune for Stanford segmenter\n",
    "#df_no_dup['token title'] = df_no_dup['token title'].map(lambda x: x.replace(u'徽 文化', u'徽文化') if u'徽 文化' in x else x)\n",
    "#df_no_dup['segment'] = df_no_dup['segment'].map(lambda x: x.replace(u'徽 文化', u'徽文化'))\n",
    "#df_no_dup['segment'] = df_no_dup['segment'].map(lambda x: x.replace(u'胡 适', u'胡适'))\n",
    "#df_no_dup['segment'] = df_no_dup['segment'].map(lambda x: x.replace(u'徽 茶', u'徽茶'))\n"
   ]
  },
  {
   "cell_type": "code",
   "execution_count": 86,
   "metadata": {},
   "outputs": [],
   "source": [
    "X_articles = df_no_dup['segment'].values\n",
    "X = vectorizer.fit_transform(X_articles)"
   ]
  },
  {
   "cell_type": "code",
   "execution_count": 87,
   "metadata": {},
   "outputs": [],
   "source": [
    "Y = df_no_dup['target'].values"
   ]
  },
  {
   "cell_type": "markdown",
   "metadata": {
    "collapsed": true
   },
   "source": [
    "X_train, X_test, Y_train, Y_test = train_test_split(X, Y,\n",
    "    test_size=0.8, random_state=0)"
   ]
  },
  {
   "cell_type": "markdown",
   "metadata": {
    "collapsed": true
   },
   "source": [
    "X_train = X\n",
    "Y_train = Y"
   ]
  },
  {
   "cell_type": "markdown",
   "metadata": {},
   "source": [
    "test = pd.read_csv('../data/segments/titles/xinhs_huixueyuandi-all.csv')\n",
    "test['flag'] = 1\n",
    "test['segments'] = test.segments.map(lambda x: x.replace(u'徽 文化', u'徽文化'))\n",
    "test_articles = test['segments'].values"
   ]
  },
  {
   "cell_type": "markdown",
   "metadata": {
    "collapsed": true
   },
   "source": [
    "X_test = vectorizer.transform(test_articles)\n",
    "Y_test = test['target']"
   ]
  },
  {
   "cell_type": "code",
   "execution_count": 88,
   "metadata": {
    "collapsed": true
   },
   "outputs": [],
   "source": [
    "# mask for train and test\n",
    "msk = np.random.rand(len(df_no_dup)) < 0.8\n",
    "train = df_no_dup[msk]\n",
    "test = df_no_dup[~msk]"
   ]
  },
  {
   "cell_type": "code",
   "execution_count": 21,
   "metadata": {
    "collapsed": true
   },
   "outputs": [],
   "source": [
    "# use main data for train and incoming for test\n",
    "train = df_no_dup\n",
    "#test = pd.read_csv('../data/segments/news/google-huizhou-news_segments.csv')\n",
    "#test = pd.read_csv('../data/segments/news/baidu-huizhou-news_segments.csv')|\n",
    "test = pd.read_csv('/Users/nhu2000/projects/SimilarSearch/data/clean/huizhou_full_v1_1.csv')\n",
    "#test = pd.read_csv('/Users/nhu2000/Desktop/huizhou/data/huiwenhua/solr_2/Solr-huizhou-final-title-jieba-segment.csv', encoding='utf-8')\n"
   ]
  },
  {
   "cell_type": "code",
   "execution_count": 22,
   "metadata": {
    "collapsed": true
   },
   "outputs": [],
   "source": [
    "test.info()"
   ]
  },
  {
   "cell_type": "code",
   "execution_count": 28,
   "metadata": {},
   "outputs": [
    {
     "data": {
      "text/html": [
       "<div>\n",
       "<table border=\"1\" class=\"dataframe\">\n",
       "  <thead>\n",
       "    <tr style=\"text-align: right;\">\n",
       "      <th></th>\n",
       "      <th>url</th>\n",
       "      <th>title</th>\n",
       "      <th>summary</th>\n",
       "      <th>s_vec_cnt</th>\n",
       "      <th>content</th>\n",
       "      <th>content_seg</th>\n",
       "    </tr>\n",
       "  </thead>\n",
       "  <tbody>\n",
       "    <tr>\n",
       "      <th>0</th>\n",
       "      <td>http://cul.anhuinews.com/system/2016/11/28/007...</td>\n",
       "      <td>洪建华夫妇的竹刻人生</td>\n",
       "      <td>。不久前，我们几名政协委员应邀到正在建设中的黄山市徽派雕刻博物馆参观考察时，洪建华一边介绍新...</td>\n",
       "      <td>{u'融入': 1, u'国内外': 1, u'夫妻俩': 1, u'艺术馆': 2, u'...</td>\n",
       "      <td>谁能想到，洪建华夫妇这对一无学历、二无家传、三无师承的“三无大师”成了省级非物质文化遗产·徽...</td>\n",
       "      <td>谁 能 想到 ， 洪 建华 夫妇 这 对 一 无 学历 、 二 无 家传 、 三无 师承 的...</td>\n",
       "    </tr>\n",
       "    <tr>\n",
       "      <th>1</th>\n",
       "      <td>http://cul.anhuinews.com/system/2016/11/21/007...</td>\n",
       "      <td>徽州民歌传人操明花校园授艺</td>\n",
       "      <td>。“磨米磨麦，磨米磨麦……”随着教室里传来一阵阵悦耳动听的方言民歌声，操明花正兴致勃勃地教同...</td>\n",
       "      <td>{u'传来': 1, u'小学': 1, u'原汁原味': 1, u'明花': 1, u'磨...</td>\n",
       "      <td>近日，省非物质文化遗产徽州民歌传承人操明花前往休宁县海阳二小、歙县城关小学和徽州区岩寺镇中心...</td>\n",
       "      <td>近日 ， 省非 物质 文化遗产 徽州 民歌 传承 人操 明花 前往 休宁县 海阳 二小 、 ...</td>\n",
       "    </tr>\n",
       "    <tr>\n",
       "      <th>2</th>\n",
       "      <td>http://cul.anhuinews.com/system/2016/11/03/007...</td>\n",
       "      <td>黄山楹联漫谈</td>\n",
       "      <td>。黄山雄伟奇丽、气势非凡，原省文联主席赖少其说，非有大手笔，不能画黄山。有“二联”站得高，看...</td>\n",
       "      <td>{u'气派': 1, u'名句': 1, u'唱道': 1, u'千丈': 1, u'凿刻'...</td>\n",
       "      <td>黄山楹联第一人当推明朝诗人余绍祉。他遍历祖国名山大川，见到无数奇峰怪石，却感到抵不上黄山峰林...</td>\n",
       "      <td>黄山 楹联 第一 人当 推 明朝 诗人 余绍祉 。 他 遍历 祖国 名山大川 ， 见到 无数...</td>\n",
       "    </tr>\n",
       "    <tr>\n",
       "      <th>3</th>\n",
       "      <td>http://cul.anhuinews.com/system/2016/01/26/007...</td>\n",
       "      <td>徽派雕刻——徽州木雕艺术</td>\n",
       "      <td>徽州民居、家具木板和圆木雕刻艺术的简称。木雕在旧属徽州各县分布之广在全国屈指可数，宅院内的屏...</td>\n",
       "      <td>{u'吉祥图案': 1, u'少数': 1, u'显示': 1, u'内': 1, u'木板...</td>\n",
       "      <td>徽州民居、家具木板和圆木雕刻艺术的简称。木雕在旧属徽州各县分布之广在全国屈指可数，宅院内的屏...</td>\n",
       "      <td>徽州 民居 、 家具 木板 和 圆木 雕刻 艺术 的 简称 。 木雕 在 旧属 徽州 各县 ...</td>\n",
       "    </tr>\n",
       "    <tr>\n",
       "      <th>4</th>\n",
       "      <td>http://cul.anhuinews.com/system/2016/01/26/007...</td>\n",
       "      <td>徽派雕刻——徽州砖雕艺术</td>\n",
       "      <td>。从早期的简单粗犷、朴素的纹样，逐步演变到后期的繁腹、细致华丽的结构，形成了自己独特的艺术风...</td>\n",
       "      <td>{u'嵌窃时': 1, u'要求': 1, u'厅': 1, u'严谨': 1, u'颇':...</td>\n",
       "      <td>徽州砖雕徽州砖雕的造型，来源于汉画象砖。汉画象砖大都是模印砖坯刻画后入密烧制，嵌窃时再进行修...</td>\n",
       "      <td>徽州 砖雕 徽州 砖雕 的 造型 ， 来源于 汉 画象 砖 。 汉 画象 砖 大都 是 模印...</td>\n",
       "    </tr>\n",
       "  </tbody>\n",
       "</table>\n",
       "</div>"
      ],
      "text/plain": [
       "                                                 url          title  \\\n",
       "0  http://cul.anhuinews.com/system/2016/11/28/007...     洪建华夫妇的竹刻人生   \n",
       "1  http://cul.anhuinews.com/system/2016/11/21/007...  徽州民歌传人操明花校园授艺   \n",
       "2  http://cul.anhuinews.com/system/2016/11/03/007...         黄山楹联漫谈   \n",
       "3  http://cul.anhuinews.com/system/2016/01/26/007...   徽派雕刻——徽州木雕艺术   \n",
       "4  http://cul.anhuinews.com/system/2016/01/26/007...   徽派雕刻——徽州砖雕艺术   \n",
       "\n",
       "                                             summary  \\\n",
       "0  。不久前，我们几名政协委员应邀到正在建设中的黄山市徽派雕刻博物馆参观考察时，洪建华一边介绍新...   \n",
       "1  。“磨米磨麦，磨米磨麦……”随着教室里传来一阵阵悦耳动听的方言民歌声，操明花正兴致勃勃地教同...   \n",
       "2  。黄山雄伟奇丽、气势非凡，原省文联主席赖少其说，非有大手笔，不能画黄山。有“二联”站得高，看...   \n",
       "3  徽州民居、家具木板和圆木雕刻艺术的简称。木雕在旧属徽州各县分布之广在全国屈指可数，宅院内的屏...   \n",
       "4  。从早期的简单粗犷、朴素的纹样，逐步演变到后期的繁腹、细致华丽的结构，形成了自己独特的艺术风...   \n",
       "\n",
       "                                           s_vec_cnt  \\\n",
       "0  {u'融入': 1, u'国内外': 1, u'夫妻俩': 1, u'艺术馆': 2, u'...   \n",
       "1  {u'传来': 1, u'小学': 1, u'原汁原味': 1, u'明花': 1, u'磨...   \n",
       "2  {u'气派': 1, u'名句': 1, u'唱道': 1, u'千丈': 1, u'凿刻'...   \n",
       "3  {u'吉祥图案': 1, u'少数': 1, u'显示': 1, u'内': 1, u'木板...   \n",
       "4  {u'嵌窃时': 1, u'要求': 1, u'厅': 1, u'严谨': 1, u'颇':...   \n",
       "\n",
       "                                             content  \\\n",
       "0  谁能想到，洪建华夫妇这对一无学历、二无家传、三无师承的“三无大师”成了省级非物质文化遗产·徽...   \n",
       "1  近日，省非物质文化遗产徽州民歌传承人操明花前往休宁县海阳二小、歙县城关小学和徽州区岩寺镇中心...   \n",
       "2  黄山楹联第一人当推明朝诗人余绍祉。他遍历祖国名山大川，见到无数奇峰怪石，却感到抵不上黄山峰林...   \n",
       "3  徽州民居、家具木板和圆木雕刻艺术的简称。木雕在旧属徽州各县分布之广在全国屈指可数，宅院内的屏...   \n",
       "4  徽州砖雕徽州砖雕的造型，来源于汉画象砖。汉画象砖大都是模印砖坯刻画后入密烧制，嵌窃时再进行修...   \n",
       "\n",
       "                                         content_seg  \n",
       "0  谁 能 想到 ， 洪 建华 夫妇 这 对 一 无 学历 、 二 无 家传 、 三无 师承 的...  \n",
       "1  近日 ， 省非 物质 文化遗产 徽州 民歌 传承 人操 明花 前往 休宁县 海阳 二小 、 ...  \n",
       "2  黄山 楹联 第一 人当 推 明朝 诗人 余绍祉 。 他 遍历 祖国 名山大川 ， 见到 无数...  \n",
       "3  徽州 民居 、 家具 木板 和 圆木 雕刻 艺术 的 简称 。 木雕 在 旧属 徽州 各县 ...  \n",
       "4  徽州 砖雕 徽州 砖雕 的 造型 ， 来源于 汉 画象 砖 。 汉 画象 砖 大都 是 模印...  "
      ]
     },
     "execution_count": 28,
     "metadata": {},
     "output_type": "execute_result"
    }
   ],
   "source": [
    "test.head()"
   ]
  },
  {
   "cell_type": "code",
   "execution_count": 54,
   "metadata": {},
   "outputs": [],
   "source": [
    "global num\n",
    "num = 0\n",
    "def map_unserialize (x, eval_val = False):\n",
    "    global num\n",
    "    #print 'incoming'\n",
    "    #print x\n",
    "    #print '----- in'\n",
    "    #print x\n",
    "    d = dict()\n",
    "    s = x.strip('{}')\n",
    "    #s = s.strip('[]')\n",
    "    ret = s.split(',')\n",
    "    \n",
    "    len(ret)\n",
    "    \n",
    "    #print len(ret)\n",
    "    #print ret\n",
    "    idx = 0\n",
    "    for t in ret:\n",
    "        #print idx, t\n",
    "        if  idx < 100:\n",
    "            r = t.split(':')\n",
    "            #print r[0], r[1]\n",
    "            key = eval(r[0].decode('utf-8'))\n",
    "            d[key] = float(r[1])\n",
    "            idx += 1\n",
    "#        else:\n",
    "#            print 'found the end'\n",
    "    #print len(ret)\n",
    "    #print 'split -----'\n",
    "    #print ' '.join(ret)\n",
    "    print num\n",
    "    num += 1\n",
    "    return d"
   ]
  },
  {
   "cell_type": "code",
   "execution_count": 55,
   "metadata": {},
   "outputs": [],
   "source": [
    "from time import time\n",
    "t0 = time()\n",
    "test['s_vec'] = test.s_vec_cnt.map(lambda x: map_unserialize(x))\n",
    "print time() - t0 "
   ]
  },
  {
   "cell_type": "code",
   "execution_count": 61,
   "metadata": {},
   "outputs": [],
   "source": [
    "test['segment'] = test.s_vec.map(lambda x: ' '.join(x.keys()))"
   ]
  },
  {
   "cell_type": "code",
   "execution_count": 66,
   "metadata": {
    "collapsed": true
   },
   "outputs": [],
   "source": [
    "test['target'] = 0"
   ]
  },
  {
   "cell_type": "code",
   "execution_count": 63,
   "metadata": {},
   "outputs": [],
   "source": [
    "print (test.iloc[1]['segment'])"
   ]
  },
  {
   "cell_type": "code",
   "execution_count": 64,
   "metadata": {
    "collapsed": true
   },
   "outputs": [],
   "source": [
    "mask = test['segment'].str.len() > 0\n",
    "test = test[mask]"
   ]
  },
  {
   "cell_type": "code",
   "execution_count": null,
   "metadata": {
    "collapsed": true
   },
   "outputs": [],
   "source": []
  },
  {
   "cell_type": "code",
   "execution_count": 65,
   "metadata": {},
   "outputs": [],
   "source": [
    "test.info()"
   ]
  },
  {
   "cell_type": "markdown",
   "metadata": {},
   "source": [
    "train['token title'] = train['token title'].map(lambda x: x.replace(u'徽 文化', u'徽文化'))\n",
    "train['token title'] = train['token title'].map(lambda x: x.replace(u'胡 适', u'胡适'))\n",
    "train['token title'] = train['token title'].map(lambda x: x.replace(u'徽 茶', u'徽茶'))"
   ]
  },
  {
   "cell_type": "markdown",
   "metadata": {},
   "source": [
    "#test['segments'] = test.segments.map(lambda x: x.replace(u'徽 文化', u'徽文化') if u'徽 文化' in x else x)\n",
    "test['token title'] = test['token title'].map(lambda x: x.replace(u'徽 文化', u'徽文化'))\n",
    "test['token title'] = test['token title'].map(lambda x: x.replace(u'胡 适', u'胡适'))\n",
    "test['token title'] = test['token title'].map(lambda x: x.replace(u'徽 茶', u'徽茶'))\n"
   ]
  },
  {
   "cell_type": "markdown",
   "metadata": {},
   "source": [
    "train['token title'] = train['token title'].map(lambda x: x.replace(u'徽 文化', u'徽文化') if u'徽 文化' in x else x)"
   ]
  },
  {
   "cell_type": "markdown",
   "metadata": {},
   "source": [
    "for t in train['token title']:\n",
    "    print t"
   ]
  },
  {
   "cell_type": "markdown",
   "metadata": {},
   "source": [
    "if u'徽 文化' in u'唤醒 徽 文化 “ 活化石 ”':\n",
    "    t = '唤醒 徽 文化 “ 活化石 ”'\n",
    "    t1 = t.replace('徽 文化', '徽文化')\n",
    "    print t1"
   ]
  },
  {
   "cell_type": "code",
   "execution_count": 89,
   "metadata": {},
   "outputs": [],
   "source": [
    "Y_train = train['target']\n",
    "Y_test = test['target']"
   ]
  },
  {
   "cell_type": "markdown",
   "metadata": {},
   "source": [
    "print len(Y_train)"
   ]
  },
  {
   "cell_type": "markdown",
   "metadata": {},
   "source": [
    "train.head(100)"
   ]
  },
  {
   "cell_type": "markdown",
   "metadata": {},
   "source": [
    "test.head()"
   ]
  },
  {
   "cell_type": "markdown",
   "metadata": {},
   "source": [
    "print len(train), len(test)"
   ]
  },
  {
   "cell_type": "code",
   "execution_count": 90,
   "metadata": {},
   "outputs": [],
   "source": [
    "train_articles = train['segment'].values"
   ]
  },
  {
   "cell_type": "code",
   "execution_count": 91,
   "metadata": {},
   "outputs": [],
   "source": [
    "#test_articles = test['combined'].values\n",
    "test_articles = test['segment'].values\n",
    "#test_articles = test['segments'].values\n",
    "test_url = test['url'].values\n",
    "test_flag = test['target'].values"
   ]
  },
  {
   "cell_type": "markdown",
   "metadata": {},
   "source": [
    "print len(train_articles), len(test_articles)"
   ]
  },
  {
   "cell_type": "code",
   "execution_count": 92,
   "metadata": {},
   "outputs": [],
   "source": [
    "X_train = vectorizer.fit_transform(train_articles)"
   ]
  },
  {
   "cell_type": "code",
   "execution_count": 93,
   "metadata": {
    "collapsed": true
   },
   "outputs": [],
   "source": [
    "clf = RandomForestClassifier(n_estimators=50)  #0.960982747058 -- 0.99586 the best"
   ]
  },
  {
   "cell_type": "code",
   "execution_count": 94,
   "metadata": {},
   "outputs": [
    {
     "data": {
      "text/plain": [
       "RandomForestClassifier(bootstrap=True, class_weight=None, criterion='gini',\n",
       "            max_depth=None, max_features='auto', max_leaf_nodes=None,\n",
       "            min_impurity_split=1e-07, min_samples_leaf=1,\n",
       "            min_samples_split=2, min_weight_fraction_leaf=0.0,\n",
       "            n_estimators=50, n_jobs=1, oob_score=False, random_state=None,\n",
       "            verbose=0, warm_start=False)"
      ]
     },
     "execution_count": 94,
     "metadata": {},
     "output_type": "execute_result"
    }
   ],
   "source": [
    "clf.fit(X_train, Y_train)"
   ]
  },
  {
   "cell_type": "code",
   "execution_count": 95,
   "metadata": {},
   "outputs": [],
   "source": [
    "X_test = vectorizer.transform(test_articles)"
   ]
  },
  {
   "cell_type": "markdown",
   "metadata": {},
   "source": [
    "vectorizer = TfidfVectorizer(analyzer = 'word', stop_words = Baidu_CH_Stopwords)\n",
    "document_term_mat = vectorizer.fit_transform(train_articles)\n",
    "words = vectorizer.get_feature_names()"
   ]
  },
  {
   "cell_type": "code",
   "execution_count": 101,
   "metadata": {},
   "outputs": [],
   "source": [
    "Y_pred = clf.predict(X_test)"
   ]
  },
  {
   "cell_type": "code",
   "execution_count": 102,
   "metadata": {},
   "outputs": [],
   "source": [
    "scores = metrics.accuracy_score(Y_test, Y_pred)"
   ]
  },
  {
   "cell_type": "code",
   "execution_count": 103,
   "metadata": {},
   "outputs": [],
   "source": [
    "print sum(Y_test), sum(Y_pred)"
   ]
  },
  {
   "cell_type": "code",
   "execution_count": 79,
   "metadata": {
    "scrolled": true
   },
   "outputs": [
    {
     "data": {
      "text/html": [
       "<div>\n",
       "<table border=\"1\" class=\"dataframe\">\n",
       "  <thead>\n",
       "    <tr style=\"text-align: right;\">\n",
       "      <th></th>\n",
       "      <th>url</th>\n",
       "      <th>title</th>\n",
       "      <th>summary</th>\n",
       "      <th>s_vec_cnt</th>\n",
       "      <th>content</th>\n",
       "      <th>content_seg</th>\n",
       "      <th>s_vec</th>\n",
       "      <th>segment</th>\n",
       "      <th>target</th>\n",
       "    </tr>\n",
       "  </thead>\n",
       "  <tbody>\n",
       "    <tr>\n",
       "      <th>3</th>\n",
       "      <td>http://cul.anhuinews.com/system/2016/01/26/007...</td>\n",
       "      <td>徽派雕刻——徽州木雕艺术</td>\n",
       "      <td>徽州民居、家具木板和圆木雕刻艺术的简称。木雕在旧属徽州各县分布之广在全国屈指可数，宅院内的屏...</td>\n",
       "      <td>{u'吉祥图案': 1, u'少数': 1, u'显示': 1, u'内': 1, u'木板...</td>\n",
       "      <td>徽州民居、家具木板和圆木雕刻艺术的简称。木雕在旧属徽州各县分布之广在全国屈指可数，宅院内的屏...</td>\n",
       "      <td>徽州 民居 、 家具 木板 和 圆木 雕刻 艺术 的 简称 。 木雕 在 旧属 徽州 各县 ...</td>\n",
       "      <td>{u'吉祥图案': 1.0, u'少数': 1.0, u'显示': 1.0, u'内': 1...</td>\n",
       "      <td>吉祥图案 少数 显示 内 木板 雕刻 杉树 选材 楠木 床 为贵 用具 情调 梓 分布 花鸟...</td>\n",
       "      <td>1</td>\n",
       "    </tr>\n",
       "    <tr>\n",
       "      <th>5</th>\n",
       "      <td>http://cul.anhuinews.com/system/2016/01/26/007...</td>\n",
       "      <td>徽派雕刻——徽州石雕艺术</td>\n",
       "      <td>。徽州石雕题材受雕刻材料本身限制，不及木雕与砖雕复杂，主要是动植物形象、博古纹样和书法，至于...</td>\n",
       "      <td>{u'从嶙刚': 1, u'内': 1, u'旁有': 1, u'牌坊': 3, u'左为'...</td>\n",
       "      <td>传统“徽州四雕”之一。在徽州城乡布很广，类别亦多，主要用于寺宅的廊柱、门墙、牌坊、墓葬等处的...</td>\n",
       "      <td>传统 “ 徽州 四雕 ” 之一 。 在 徽州 城乡 布 很 广 ， 类别 亦 多 ， 主要 ...</td>\n",
       "      <td>{u'内': 1.0, u'旁有': 1.0, u'天井': 1.0, u'左为': 1.0...</td>\n",
       "      <td>内 旁有 天井 左为 壁上 融 意象 怪石 甚高 砖雕 工艺 宅 可谓 浮雕 小草 溪畔 色...</td>\n",
       "      <td>1</td>\n",
       "    </tr>\n",
       "    <tr>\n",
       "      <th>6</th>\n",
       "      <td>http://cul.anhuinews.com/system/2016/01/26/007...</td>\n",
       "      <td>徽州古民居雕刻装饰研究</td>\n",
       "      <td>。第一，徽州民居雕刻装饰中的任何形态，其来源都不是为美而美的。一是融装饰艺术与建筑结构于一体...</td>\n",
       "      <td>{u'言': 1, u'自然': 1, u'三绝': 1, u'三回': 1, u'处理':...</td>\n",
       "      <td>徽州因明清两朝的繁盛而在历史上留下浓墨重彩的一笔，建筑就是那个时代的重要表现之一。当时的徽商...</td>\n",
       "      <td>徽州 因 明清 两朝 的 繁盛 而 在历史上 留下 浓墨重彩 的 一笔 ， 建筑 就是 那个...</td>\n",
       "      <td>{u'言': 1.0, u'三绝': 1.0, u'三回': 1.0, u'处理': 1.0...</td>\n",
       "      <td>言 三绝 三回 处理 合 自然 通过 窗上 成 情感 高墙 砖雕 归结为 四友 海峡两岸 及...</td>\n",
       "      <td>1</td>\n",
       "    </tr>\n",
       "    <tr>\n",
       "      <th>7</th>\n",
       "      <td>http://cul.anhuinews.com/system/2016/01/26/007...</td>\n",
       "      <td>徽派雕刻——忆千年沧桑，探秘西递牌楼</td>\n",
       "      <td>。西递村呈船形，村中鳞次栉比的古民居建筑群，就像一间间船舱，组成大船的船体；昔日村头高大的乔...</td>\n",
       "      <td>{u'融入': 1, u'退': 1, u'内': 3, u'首先': 1, u'牌坊': ...</td>\n",
       "      <td>西递位于安徽省黄山市黟县城东8公里处，因地处古徽州府之西，曾设驿站“铺递所”而得名。作为唐李...</td>\n",
       "      <td>西递 位于 安徽省 黄山市 黟县 城东 8 公里 处 ， 因 地处 古 徽州 府 之西 ， ...</td>\n",
       "      <td>{u'融入': 1.0, u'退': 1.0, u'内': 3.0, u'首先': 1.0,...</td>\n",
       "      <td>融入 退 内 首先 牌坊 船形 堪称 整体 旌表 蒙馆 通连 之地 清咸丰 本邑 西侧 厅 ...</td>\n",
       "      <td>1</td>\n",
       "    </tr>\n",
       "    <tr>\n",
       "      <th>12</th>\n",
       "      <td>http://cul.anhuinews.com/system/2014/07/14/006...</td>\n",
       "      <td>徽派雕刻——古老徽州明清建筑中木雕艺术</td>\n",
       "      <td>。即便是现在，当您到徽州来旅行，一踏进这座山国地界，给您的第一印象是：在那碧玉簪般的丛山之间...</td>\n",
       "      <td>{u'遐想': 1, u'形式': 1, u'三雕': 1, u'砌': 2, u'庙宇':...</td>\n",
       "      <td>近年来国内及欧美、日本、东南亚等地建筑学界的学者和其他方面的专家来徽州考察三雕艺术与古建筑者...</td>\n",
       "      <td>近年来 国内 及 欧美 、 日本 、 东南亚 等 地 建筑 学界 的 学者 和 其他 方面 ...</td>\n",
       "      <td>{u'遐想': 1.0, u'瞪': 1.0, u'三雕': 1.0, u'砌': 2.0,...</td>\n",
       "      <td>遐想 瞪 三雕 砌 庙宇 栏板 碧玉簪 祠堂 花台 上方 栏杆 徽州 然而 国内 其他 民居...</td>\n",
       "      <td>1</td>\n",
       "    </tr>\n",
       "  </tbody>\n",
       "</table>\n",
       "</div>"
      ],
      "text/plain": [
       "                                                  url                title  \\\n",
       "3   http://cul.anhuinews.com/system/2016/01/26/007...         徽派雕刻——徽州木雕艺术   \n",
       "5   http://cul.anhuinews.com/system/2016/01/26/007...         徽派雕刻——徽州石雕艺术   \n",
       "6   http://cul.anhuinews.com/system/2016/01/26/007...          徽州古民居雕刻装饰研究   \n",
       "7   http://cul.anhuinews.com/system/2016/01/26/007...   徽派雕刻——忆千年沧桑，探秘西递牌楼   \n",
       "12  http://cul.anhuinews.com/system/2014/07/14/006...  徽派雕刻——古老徽州明清建筑中木雕艺术   \n",
       "\n",
       "                                              summary  \\\n",
       "3   徽州民居、家具木板和圆木雕刻艺术的简称。木雕在旧属徽州各县分布之广在全国屈指可数，宅院内的屏...   \n",
       "5   。徽州石雕题材受雕刻材料本身限制，不及木雕与砖雕复杂，主要是动植物形象、博古纹样和书法，至于...   \n",
       "6   。第一，徽州民居雕刻装饰中的任何形态，其来源都不是为美而美的。一是融装饰艺术与建筑结构于一体...   \n",
       "7   。西递村呈船形，村中鳞次栉比的古民居建筑群，就像一间间船舱，组成大船的船体；昔日村头高大的乔...   \n",
       "12  。即便是现在，当您到徽州来旅行，一踏进这座山国地界，给您的第一印象是：在那碧玉簪般的丛山之间...   \n",
       "\n",
       "                                            s_vec_cnt  \\\n",
       "3   {u'吉祥图案': 1, u'少数': 1, u'显示': 1, u'内': 1, u'木板...   \n",
       "5   {u'从嶙刚': 1, u'内': 1, u'旁有': 1, u'牌坊': 3, u'左为'...   \n",
       "6   {u'言': 1, u'自然': 1, u'三绝': 1, u'三回': 1, u'处理':...   \n",
       "7   {u'融入': 1, u'退': 1, u'内': 3, u'首先': 1, u'牌坊': ...   \n",
       "12  {u'遐想': 1, u'形式': 1, u'三雕': 1, u'砌': 2, u'庙宇':...   \n",
       "\n",
       "                                              content  \\\n",
       "3   徽州民居、家具木板和圆木雕刻艺术的简称。木雕在旧属徽州各县分布之广在全国屈指可数，宅院内的屏...   \n",
       "5   传统“徽州四雕”之一。在徽州城乡布很广，类别亦多，主要用于寺宅的廊柱、门墙、牌坊、墓葬等处的...   \n",
       "6   徽州因明清两朝的繁盛而在历史上留下浓墨重彩的一笔，建筑就是那个时代的重要表现之一。当时的徽商...   \n",
       "7   西递位于安徽省黄山市黟县城东8公里处，因地处古徽州府之西，曾设驿站“铺递所”而得名。作为唐李...   \n",
       "12  近年来国内及欧美、日本、东南亚等地建筑学界的学者和其他方面的专家来徽州考察三雕艺术与古建筑者...   \n",
       "\n",
       "                                          content_seg  \\\n",
       "3   徽州 民居 、 家具 木板 和 圆木 雕刻 艺术 的 简称 。 木雕 在 旧属 徽州 各县 ...   \n",
       "5   传统 “ 徽州 四雕 ” 之一 。 在 徽州 城乡 布 很 广 ， 类别 亦 多 ， 主要 ...   \n",
       "6   徽州 因 明清 两朝 的 繁盛 而 在历史上 留下 浓墨重彩 的 一笔 ， 建筑 就是 那个...   \n",
       "7   西递 位于 安徽省 黄山市 黟县 城东 8 公里 处 ， 因 地处 古 徽州 府 之西 ， ...   \n",
       "12  近年来 国内 及 欧美 、 日本 、 东南亚 等 地 建筑 学界 的 学者 和 其他 方面 ...   \n",
       "\n",
       "                                                s_vec  \\\n",
       "3   {u'吉祥图案': 1.0, u'少数': 1.0, u'显示': 1.0, u'内': 1...   \n",
       "5   {u'内': 1.0, u'旁有': 1.0, u'天井': 1.0, u'左为': 1.0...   \n",
       "6   {u'言': 1.0, u'三绝': 1.0, u'三回': 1.0, u'处理': 1.0...   \n",
       "7   {u'融入': 1.0, u'退': 1.0, u'内': 3.0, u'首先': 1.0,...   \n",
       "12  {u'遐想': 1.0, u'瞪': 1.0, u'三雕': 1.0, u'砌': 2.0,...   \n",
       "\n",
       "                                              segment  target  \n",
       "3   吉祥图案 少数 显示 内 木板 雕刻 杉树 选材 楠木 床 为贵 用具 情调 梓 分布 花鸟...       1  \n",
       "5   内 旁有 天井 左为 壁上 融 意象 怪石 甚高 砖雕 工艺 宅 可谓 浮雕 小草 溪畔 色...       1  \n",
       "6   言 三绝 三回 处理 合 自然 通过 窗上 成 情感 高墙 砖雕 归结为 四友 海峡两岸 及...       1  \n",
       "7   融入 退 内 首先 牌坊 船形 堪称 整体 旌表 蒙馆 通连 之地 清咸丰 本邑 西侧 厅 ...       1  \n",
       "12  遐想 瞪 三雕 砌 庙宇 栏板 碧玉簪 祠堂 花台 上方 栏杆 徽州 然而 国内 其他 民居...       1  "
      ]
     },
     "execution_count": 79,
     "metadata": {},
     "output_type": "execute_result"
    }
   ],
   "source": [
    "test['target'] = Y_pred\n",
    "check = test[test['target'] == 1]\n",
    "check.info()\n",
    "check.head()"
   ]
  },
  {
   "cell_type": "code",
   "execution_count": 104,
   "metadata": {},
   "outputs": [],
   "source": [
    "print scores"
   ]
  },
  {
   "cell_type": "code",
   "execution_count": 81,
   "metadata": {},
   "outputs": [],
   "source": [
    "test.to_csv('/Users/nhu2000/projects/SimilarSearch/data/classifier/huizhou_v1.csv', encoding='utf-8', index=False)"
   ]
  },
  {
   "cell_type": "code",
   "execution_count": 449,
   "metadata": {
    "collapsed": true
   },
   "outputs": [],
   "source": [
    "from sklearn.naive_bayes import GaussianNB\n",
    "from sklearn.linear_model import LogisticRegression\n",
    "from sklearn.ensemble import RandomForestClassifier\n",
    "from sklearn.svm import LinearSVC"
   ]
  },
  {
   "cell_type": "code",
   "execution_count": 450,
   "metadata": {
    "collapsed": true
   },
   "outputs": [],
   "source": [
    "lr = LogisticRegression()\n",
    "gnb = GaussianNB()\n",
    "svc = LinearSVC(C=1.0)\n",
    "rfc = RandomForestClassifier(n_estimators=50)"
   ]
  },
  {
   "cell_type": "code",
   "execution_count": 451,
   "metadata": {},
   "outputs": [],
   "source": [
    "lr = LogisticRegression(max_iter=1000)"
   ]
  },
  {
   "cell_type": "code",
   "execution_count": 452,
   "metadata": {},
   "outputs": [
    {
     "data": {
      "text/plain": [
       "LogisticRegression(C=1.0, class_weight=None, dual=False, fit_intercept=True,\n",
       "          intercept_scaling=1, max_iter=1000, multi_class='ovr', n_jobs=1,\n",
       "          penalty='l2', random_state=None, solver='liblinear', tol=0.0001,\n",
       "          verbose=0, warm_start=False)"
      ]
     },
     "execution_count": 452,
     "metadata": {},
     "output_type": "execute_result"
    }
   ],
   "source": [
    "lr.fit(X_train, Y_train)\n"
   ]
  },
  {
   "cell_type": "code",
   "execution_count": 453,
   "metadata": {},
   "outputs": [
    {
     "name": "stdout",
     "output_type": "stream",
     "text": [
      "0.967582725743\n"
     ]
    }
   ],
   "source": [
    "Y_pred = lr.predict(X_test)\n",
    "scores = metrics.accuracy_score(Y_test, Y_pred)\n",
    "print scores"
   ]
  },
  {
   "cell_type": "code",
   "execution_count": 37,
   "metadata": {
    "collapsed": true
   },
   "outputs": [],
   "source": [
    "gnb = GaussianNB()\n",
    "gnb.fit()"
   ]
  },
  {
   "cell_type": "code",
   "execution_count": 50,
   "metadata": {
    "collapsed": true
   },
   "outputs": [],
   "source": [
    "\n",
    "svc = LinearSVC(C=1.0, max_iter=5000)"
   ]
  },
  {
   "cell_type": "code",
   "execution_count": 57,
   "metadata": {},
   "outputs": [
    {
     "data": {
      "text/plain": [
       "LinearSVC(C=1.0, class_weight=None, dual=True, fit_intercept=True,\n",
       "     intercept_scaling=1, loss='squared_hinge', max_iter=5000,\n",
       "     multi_class='ovr', penalty='l2', random_state=None, tol=0.0001,\n",
       "     verbose=0)"
      ]
     },
     "execution_count": 57,
     "metadata": {},
     "output_type": "execute_result"
    }
   ],
   "source": [
    "svc.fit(X_train, Y_train)\n"
   ]
  },
  {
   "cell_type": "code",
   "execution_count": 33,
   "metadata": {},
   "outputs": [
    {
     "ename": "NameError",
     "evalue": "name 'svc' is not defined",
     "output_type": "error",
     "traceback": [
      "\u001b[0;31m---------------------------------------------------------------------------\u001b[0m",
      "\u001b[0;31mNameError\u001b[0m                                 Traceback (most recent call last)",
      "\u001b[0;32m<ipython-input-33-5dff987d1e33>\u001b[0m in \u001b[0;36m<module>\u001b[0;34m()\u001b[0m\n\u001b[0;32m----> 1\u001b[0;31m \u001b[0mY_pred\u001b[0m \u001b[0;34m=\u001b[0m \u001b[0msvc\u001b[0m\u001b[0;34m.\u001b[0m\u001b[0mpredict\u001b[0m\u001b[0;34m(\u001b[0m\u001b[0mX_test\u001b[0m\u001b[0;34m)\u001b[0m\u001b[0;34m\u001b[0m\u001b[0m\n\u001b[0m\u001b[1;32m      2\u001b[0m \u001b[0mscores\u001b[0m \u001b[0;34m=\u001b[0m \u001b[0mmetrics\u001b[0m\u001b[0;34m.\u001b[0m\u001b[0maccuracy_score\u001b[0m\u001b[0;34m(\u001b[0m\u001b[0mY_test\u001b[0m\u001b[0;34m,\u001b[0m \u001b[0mY_pred\u001b[0m\u001b[0;34m)\u001b[0m\u001b[0;34m\u001b[0m\u001b[0m\n\u001b[1;32m      3\u001b[0m \u001b[0;32mprint\u001b[0m \u001b[0mscores\u001b[0m\u001b[0;34m\u001b[0m\u001b[0m\n",
      "\u001b[0;31mNameError\u001b[0m: name 'svc' is not defined"
     ]
    }
   ],
   "source": [
    "Y_pred = svc.predict(X_test)\n",
    "scores = metrics.accuracy_score(Y_test, Y_pred)\n",
    "print scores"
   ]
  },
  {
   "cell_type": "code",
   "execution_count": 35,
   "metadata": {},
   "outputs": [],
   "source": [
    "my_pickle_dump(\"../pkl/RandomForest.pkl\", clf)"
   ]
  },
  {
   "cell_type": "code",
   "execution_count": 233,
   "metadata": {},
   "outputs": [],
   "source": [
    "print sum(Y_test), sum(Y_pred)"
   ]
  },
  {
   "cell_type": "markdown",
   "metadata": {},
   "source": [
    "if u'徽 文化' in u'唤醒 徽 文化 “ 活化石 ”':\n",
    "    t = '唤醒 徽 文化 “ 活化石 ”'\n",
    "    t1 = t.replace('徽 文化', '徽文化')\n",
    "    print t1"
   ]
  },
  {
   "cell_type": "code",
   "execution_count": 105,
   "metadata": {},
   "outputs": [],
   "source": [
    "cnt = 0\n",
    "for i in range(0, len(Y_pred)):\n",
    "    if (Y_test.values[i] != Y_pred[i]):\n",
    "    #if (Y_pred[i] == 1):\n",
    "        #if ('' in test_articles[i]):\n",
    "            #print test_articles[i]\n",
    "        print i, cnt, Y_test.values[i], Y_pred[i]\n",
    "        print test_articles[i]\n",
    "        cnt += 1"
   ]
  },
  {
   "cell_type": "code",
   "execution_count": 235,
   "metadata": {},
   "outputs": [],
   "source": [
    "print cnt"
   ]
  },
  {
   "cell_type": "code",
   "execution_count": 100,
   "metadata": {},
   "outputs": [],
   "source": [
    "\n",
    "cnt = 0\n",
    "for i in range(0, len(Y_pred)):\n",
    "    if (Y_test.values[i] != Y_pred[i]):\n",
    "    #if (Y_pred[i] == 0):\n",
    "        if i == 34 or i == 212 or i == 348 or i == 349 or i == 608 or i == 1389 or i == 1418:\n",
    "            Y_pred[i] = 1 \n",
    "        elif i == 130 or i == 133: \n",
    "            Y_pred[i] = 0 \n",
    "            #Y_test.values[i] = 1\n",
    "            print i, cnt, Y_test.values[i], Y_pred[i]\n",
    "            print test_articles[i]\n"
   ]
  },
  {
   "cell_type": "code",
   "execution_count": 187,
   "metadata": {
    "collapsed": true
   },
   "outputs": [],
   "source": [
    "print cnt"
   ]
  },
  {
   "cell_type": "code",
   "execution_count": 273,
   "metadata": {
    "collapsed": true
   },
   "outputs": [],
   "source": [
    "def get_columns3():\n",
    "    return ('url', 'domain', 'title', 'segment', 'key_words', 'summary', 'body', 'target') \n",
    "def get_empty_columns3():\n",
    "    return ('', '', '', '', '', '', '', '') "
   ]
  },
  {
   "cell_type": "code",
   "execution_count": 346,
   "metadata": {},
   "outputs": [],
   "source": [
    "idx = 0\n",
    "new_df = pd.DataFrame(columns = get_columns3())"
   ]
  },
  {
   "cell_type": "code",
   "execution_count": 350,
   "metadata": {},
   "outputs": [],
   "source": [
    "new_df['url'] = test['url']\n",
    "new_df['domain'] = test['domain']\n",
    "new_df['title'] = test['title']\n",
    "new_df['segment'] = test['segment']\n",
    "new_df['key_words'] = test['key_words']\n",
    "new_df['summary'] = test['summary']\n",
    "new_df['combined'] = test['combined']\n",
    "new_df['target'] = Y_pred\n",
    "new_df['body'] = test['body']"
   ]
  },
  {
   "cell_type": "code",
   "execution_count": 351,
   "metadata": {
    "collapsed": true
   },
   "outputs": [],
   "source": [
    "new_df.to_csv('/Users/nhu2000/Desktop/huizhou/data/huiwenhua/huizhou_web_contentv5.csv', encoding='utf-8', index=False)"
   ]
  },
  {
   "cell_type": "code",
   "execution_count": 254,
   "metadata": {
    "collapsed": true
   },
   "outputs": [],
   "source": [
    "new_df.info()"
   ]
  },
  {
   "cell_type": "code",
   "execution_count": 252,
   "metadata": {},
   "outputs": [
    {
     "data": {
      "text/plain": [
       "(7880, 7880)"
      ]
     },
     "execution_count": 252,
     "metadata": {},
     "output_type": "execute_result"
    }
   ],
   "source": [
    "sum(Y_pred), sum(new_df['target'])"
   ]
  },
  {
   "cell_type": "code",
   "execution_count": 503,
   "metadata": {},
   "outputs": [
    {
     "name": "stdout",
     "output_type": "stream",
     "text": [
      "<class 'pandas.core.frame.DataFrame'>\n",
      "Int64Index: 9019 entries, 3 to 44513\n",
      "Data columns (total 6 columns):\n",
      "url        9019 non-null object\n",
      "domain     9019 non-null object\n",
      "title      9019 non-null object\n",
      "segment    9019 non-null object\n",
      "target     9019 non-null int64\n",
      "source     9019 non-null object\n",
      "dtypes: int64(1), object(5)\n",
      "memory usage: 493.2+ KB\n"
     ]
    }
   ],
   "source": [
    "new_df.info()"
   ]
  },
  {
   "cell_type": "code",
   "execution_count": 151,
   "metadata": {},
   "outputs": [
    {
     "name": "stdout",
     "output_type": "stream",
     "text": [
      "<class 'pandas.core.frame.DataFrame'>\n",
      "Int64Index: 35639 entries, 1 to 44513\n",
      "Data columns (total 6 columns):\n",
      "domain     35639 non-null object\n",
      "segment    35639 non-null object\n",
      "source     0 non-null float64\n",
      "target     35639 non-null int64\n",
      "title      35639 non-null object\n",
      "url        35639 non-null object\n",
      "dtypes: float64(1), int64(1), object(4)\n",
      "memory usage: 1.9+ MB\n"
     ]
    }
   ],
   "source": [
    "train.info()"
   ]
  },
  {
   "cell_type": "code",
   "execution_count": 152,
   "metadata": {},
   "outputs": [
    {
     "name": "stdout",
     "output_type": "stream",
     "text": [
      "<class 'pandas.core.frame.DataFrame'>\n",
      "Int64Index: 8875 entries, 0 to 44507\n",
      "Data columns (total 6 columns):\n",
      "domain     8875 non-null object\n",
      "segment    8875 non-null object\n",
      "source     0 non-null float64\n",
      "target     8875 non-null int64\n",
      "title      8875 non-null object\n",
      "url        8875 non-null object\n",
      "dtypes: float64(1), int64(1), object(4)\n",
      "memory usage: 485.4+ KB\n"
     ]
    }
   ],
   "source": [
    "test.info()"
   ]
  },
  {
   "cell_type": "code",
   "execution_count": 153,
   "metadata": {},
   "outputs": [
    {
     "data": {
      "text/html": [
       "<div>\n",
       "<table border=\"1\" class=\"dataframe\">\n",
       "  <thead>\n",
       "    <tr style=\"text-align: right;\">\n",
       "      <th></th>\n",
       "      <th>url</th>\n",
       "      <th>domain</th>\n",
       "      <th>title</th>\n",
       "      <th>segment</th>\n",
       "      <th>target</th>\n",
       "      <th>source</th>\n",
       "    </tr>\n",
       "  </thead>\n",
       "  <tbody>\n",
       "    <tr>\n",
       "      <th>0</th>\n",
       "      <td>http://www.hzwh.com/article.asp?id=2533</td>\n",
       "      <td>hzwh.com</td>\n",
       "      <td>推动徽州传统文化的普及宣传</td>\n",
       "      <td>推动 徽州 传统 文化 的 普及 宣传</td>\n",
       "      <td>1</td>\n",
       "      <td></td>\n",
       "    </tr>\n",
       "    <tr>\n",
       "      <th>7</th>\n",
       "      <td>www.hzwh.com/article.asp?id=1156</td>\n",
       "      <td>hzwh.com</td>\n",
       "      <td>名山文化与泰山文化</td>\n",
       "      <td>名山 文化 与 泰山 文化</td>\n",
       "      <td>0</td>\n",
       "      <td></td>\n",
       "    </tr>\n",
       "    <tr>\n",
       "      <th>11</th>\n",
       "      <td>www.hzwh.com/article.asp?id=996</td>\n",
       "      <td>hzwh.com</td>\n",
       "      <td>为什么说“十姓九汪”</td>\n",
       "      <td>什么 为什么 说 “ 十姓 九 汪 ”</td>\n",
       "      <td>0</td>\n",
       "      <td></td>\n",
       "    </tr>\n",
       "    <tr>\n",
       "      <th>12</th>\n",
       "      <td>www.hzwh.com/article.asp?id=992</td>\n",
       "      <td>hzwh.com</td>\n",
       "      <td>“红顶商人”指谁</td>\n",
       "      <td>“ 红顶 商人 红顶商人 ” 指 谁</td>\n",
       "      <td>0</td>\n",
       "      <td></td>\n",
       "    </tr>\n",
       "    <tr>\n",
       "      <th>16</th>\n",
       "      <td>www.hzwh.com/article.asp?id=895</td>\n",
       "      <td>hzwh.com</td>\n",
       "      <td>徽州宗祠与宗祠文化</td>\n",
       "      <td>徽州 宗祠 与 宗祠 文化</td>\n",
       "      <td>1</td>\n",
       "      <td></td>\n",
       "    </tr>\n",
       "    <tr>\n",
       "      <th>23</th>\n",
       "      <td>www.hzwh.com/article.asp?id=715</td>\n",
       "      <td>hzwh.com</td>\n",
       "      <td>朱熹与植树</td>\n",
       "      <td>朱熹 与 植树</td>\n",
       "      <td>1</td>\n",
       "      <td></td>\n",
       "    </tr>\n",
       "    <tr>\n",
       "      <th>28</th>\n",
       "      <td>www.hzwh.com/article.asp?id=986</td>\n",
       "      <td>hzwh.com</td>\n",
       "      <td>走南闯北的贩运贸易</td>\n",
       "      <td>走南闯北 的 贩运 贸易</td>\n",
       "      <td>0</td>\n",
       "      <td></td>\n",
       "    </tr>\n",
       "    <tr>\n",
       "      <th>29</th>\n",
       "      <td>www.hzwh.com/article.asp?id=902</td>\n",
       "      <td>hzwh.com</td>\n",
       "      <td>岩寺“上九”庙会</td>\n",
       "      <td>岩寺 “ 上 九 ” 庙会</td>\n",
       "      <td>0</td>\n",
       "      <td></td>\n",
       "    </tr>\n",
       "    <tr>\n",
       "      <th>30</th>\n",
       "      <td>www.hzwh.com/article.asp?id=830</td>\n",
       "      <td>hzwh.com</td>\n",
       "      <td>明清以来徽州典当业在城市的分布和发展</td>\n",
       "      <td>明清 以来 徽州 典当 典当业 在 城市 的 分布 和 发展</td>\n",
       "      <td>1</td>\n",
       "      <td></td>\n",
       "    </tr>\n",
       "    <tr>\n",
       "      <th>35</th>\n",
       "      <td>www.hzwh.com/article.asp?id=984</td>\n",
       "      <td>hzwh.com</td>\n",
       "      <td>徽商的赊销赊购经营</td>\n",
       "      <td>徽商 的 赊销 赊购 经营</td>\n",
       "      <td>1</td>\n",
       "      <td></td>\n",
       "    </tr>\n",
       "    <tr>\n",
       "      <th>36</th>\n",
       "      <td>www.hzwh.com/article.asp?id=1184</td>\n",
       "      <td>hzwh.com</td>\n",
       "      <td>徽商四大行业之二</td>\n",
       "      <td>徽商 四大 行业 之二</td>\n",
       "      <td>1</td>\n",
       "      <td></td>\n",
       "    </tr>\n",
       "    <tr>\n",
       "      <th>37</th>\n",
       "      <td>www.hzwh.com/article.asp?id=1005</td>\n",
       "      <td>hzwh.com</td>\n",
       "      <td>徽商是怎么衰落的</td>\n",
       "      <td>徽商 是 怎么 衰落 的</td>\n",
       "      <td>1</td>\n",
       "      <td></td>\n",
       "    </tr>\n",
       "    <tr>\n",
       "      <th>43</th>\n",
       "      <td>www.hzwh.com/article.asp?id=1167</td>\n",
       "      <td>hzwh.com</td>\n",
       "      <td>关于徽州族谱</td>\n",
       "      <td>关于 徽州 族谱</td>\n",
       "      <td>1</td>\n",
       "      <td></td>\n",
       "    </tr>\n",
       "    <tr>\n",
       "      <th>44</th>\n",
       "      <td>www.hzwh.com/article.asp?id=1152</td>\n",
       "      <td>hzwh.com</td>\n",
       "      <td>再塑徽商新形象</td>\n",
       "      <td>再塑 徽商 新 形象</td>\n",
       "      <td>1</td>\n",
       "      <td></td>\n",
       "    </tr>\n",
       "    <tr>\n",
       "      <th>46</th>\n",
       "      <td>www.hzwh.com/article.asp?id=949</td>\n",
       "      <td>hzwh.com</td>\n",
       "      <td>抗战期间日寇未达徽州初探</td>\n",
       "      <td>抗战 期间 日寇 未达 徽州 初探</td>\n",
       "      <td>1</td>\n",
       "      <td></td>\n",
       "    </tr>\n",
       "    <tr>\n",
       "      <th>47</th>\n",
       "      <td>www.hzwh.com/article.asp?id=881</td>\n",
       "      <td>hzwh.com</td>\n",
       "      <td>徽州族谱</td>\n",
       "      <td>徽州 族谱</td>\n",
       "      <td>1</td>\n",
       "      <td></td>\n",
       "    </tr>\n",
       "    <tr>\n",
       "      <th>49</th>\n",
       "      <td>http://www.hzwh.com/article.asp?id=669</td>\n",
       "      <td>hzwh.com</td>\n",
       "      <td>徽菜的形成</td>\n",
       "      <td>徽菜 的 形成</td>\n",
       "      <td>1</td>\n",
       "      <td></td>\n",
       "    </tr>\n",
       "    <tr>\n",
       "      <th>50</th>\n",
       "      <td>www.hzwh.com/article.asp?id=1297</td>\n",
       "      <td>hzwh.com</td>\n",
       "      <td>全力以赴齐抓共管“保护自然文化遗产，弘扬古老徽州文化”</td>\n",
       "      <td>全力 全力以赴 共管 齐抓共管 “ 保护 自然 文化 遗产 文化遗产 ， 弘扬 古老 徽州 ...</td>\n",
       "      <td>1</td>\n",
       "      <td></td>\n",
       "    </tr>\n",
       "    <tr>\n",
       "      <th>58</th>\n",
       "      <td>www.hzwh.com/article.asp?id=816</td>\n",
       "      <td>hzwh.com</td>\n",
       "      <td>篁墩：徽州宗族的圣地</td>\n",
       "      <td>篁 墩 ： 徽州 宗族 的 圣地</td>\n",
       "      <td>1</td>\n",
       "      <td></td>\n",
       "    </tr>\n",
       "    <tr>\n",
       "      <th>68</th>\n",
       "      <td>www.hzwh.com/article.asp?id=768</td>\n",
       "      <td>hzwh.com</td>\n",
       "      <td>《金瓶梅》书中的徽州方言注释</td>\n",
       "      <td>《 金瓶梅 》 书中 的 徽州 方言 注释</td>\n",
       "      <td>1</td>\n",
       "      <td></td>\n",
       "    </tr>\n",
       "    <tr>\n",
       "      <th>70</th>\n",
       "      <td>www.hzwh.com/article.asp?id=1847</td>\n",
       "      <td>hzwh.com</td>\n",
       "      <td>徽州乡镇志中所见明清民间救荒措施</td>\n",
       "      <td>徽州 乡镇 志中 所见 明清 民间 救荒 措施</td>\n",
       "      <td>1</td>\n",
       "      <td></td>\n",
       "    </tr>\n",
       "    <tr>\n",
       "      <th>71</th>\n",
       "      <td>www.hzwh.com/article.asp?id=1157</td>\n",
       "      <td>hzwh.com</td>\n",
       "      <td>鲁文化在中国上古区域文化中的地位</td>\n",
       "      <td>鲁 文化 在 中国 上古 区域 文化 中 的 地位</td>\n",
       "      <td>0</td>\n",
       "      <td></td>\n",
       "    </tr>\n",
       "    <tr>\n",
       "      <th>74</th>\n",
       "      <td>www.hzwh.com/article.asp?id=1050</td>\n",
       "      <td>hzwh.com</td>\n",
       "      <td>“连科三民撰；十里四翰林”指什么</td>\n",
       "      <td>“ 连科 三民 撰 ； 十里 四 翰林 ” 指 什么</td>\n",
       "      <td>0</td>\n",
       "      <td></td>\n",
       "    </tr>\n",
       "    <tr>\n",
       "      <th>75</th>\n",
       "      <td>www.hzwh.com/article.asp?id=1028</td>\n",
       "      <td>hzwh.com</td>\n",
       "      <td>什么是佃仆制</td>\n",
       "      <td>什么 是 佃仆制</td>\n",
       "      <td>0</td>\n",
       "      <td></td>\n",
       "    </tr>\n",
       "    <tr>\n",
       "      <th>86</th>\n",
       "      <td>http://www.hzwh.com/Article.asp?id=1561</td>\n",
       "      <td>hzwh.com</td>\n",
       "      <td>祁门县桃源古村慎徽堂</td>\n",
       "      <td>祁门 祁门县 桃源 古村 慎徽堂</td>\n",
       "      <td>1</td>\n",
       "      <td></td>\n",
       "    </tr>\n",
       "    <tr>\n",
       "      <th>89</th>\n",
       "      <td>www.hzwh.com/article.asp?id=947</td>\n",
       "      <td>hzwh.com</td>\n",
       "      <td>忆鼎丰裕店规</td>\n",
       "      <td>忆鼎 丰裕 店规</td>\n",
       "      <td>0</td>\n",
       "      <td></td>\n",
       "    </tr>\n",
       "    <tr>\n",
       "      <th>93</th>\n",
       "      <td>www.hzwh.com/article.asp?id=1033</td>\n",
       "      <td>hzwh.com</td>\n",
       "      <td>“萧江”是怎么回事</td>\n",
       "      <td>“ 萧江 ” 是 怎么 回事 怎么回事</td>\n",
       "      <td>0</td>\n",
       "      <td></td>\n",
       "    </tr>\n",
       "    <tr>\n",
       "      <th>96</th>\n",
       "      <td>www.hzwh.com/article.asp?id=1042</td>\n",
       "      <td>hzwh.com</td>\n",
       "      <td>珰金街与罗盘</td>\n",
       "      <td>珰 金街 与 罗盘</td>\n",
       "      <td>1</td>\n",
       "      <td></td>\n",
       "    </tr>\n",
       "    <tr>\n",
       "      <th>98</th>\n",
       "      <td>www.hzwh.com/article.asp?id=1051</td>\n",
       "      <td>hzwh.com</td>\n",
       "      <td>“一镇四状元”发生在哪个镇</td>\n",
       "      <td>“ 一镇 四 状元 ” 发生 在 哪个 镇</td>\n",
       "      <td>0</td>\n",
       "      <td></td>\n",
       "    </tr>\n",
       "    <tr>\n",
       "      <th>100</th>\n",
       "      <td>www.hzwh.com/article.asp?id=987</td>\n",
       "      <td>hzwh.com</td>\n",
       "      <td>“商何负于农”、“贾何负于儒”是怎么提出来的</td>\n",
       "      <td>“ 商何 负于 农 ” 、 “ 贾何 负于 儒 ” 是 怎么 提出 来 的</td>\n",
       "      <td>0</td>\n",
       "      <td></td>\n",
       "    </tr>\n",
       "    <tr>\n",
       "      <th>...</th>\n",
       "      <td>...</td>\n",
       "      <td>...</td>\n",
       "      <td>...</td>\n",
       "      <td>...</td>\n",
       "      <td>...</td>\n",
       "      <td>...</td>\n",
       "    </tr>\n",
       "    <tr>\n",
       "      <th>849</th>\n",
       "      <td>http://www.xinhs.cn/article.asp?id=77773</td>\n",
       "      <td>xinhs.cn</td>\n",
       "      <td>徽州旧风俗之水口风俗</td>\n",
       "      <td>徽州 旧 风俗 之 水口 风俗</td>\n",
       "      <td>1</td>\n",
       "      <td></td>\n",
       "    </tr>\n",
       "    <tr>\n",
       "      <th>855</th>\n",
       "      <td>http://www.xinhs.cn/article.asp?id=3502</td>\n",
       "      <td>xinhs.cn</td>\n",
       "      <td>徽州大剧院广纳良言谋发展</td>\n",
       "      <td>徽州 大 剧院 广纳 良言 发展 谋发展</td>\n",
       "      <td>1</td>\n",
       "      <td></td>\n",
       "    </tr>\n",
       "    <tr>\n",
       "      <th>857</th>\n",
       "      <td>http://www.xinhs.cn/article.asp?id=68378</td>\n",
       "      <td>xinhs.cn</td>\n",
       "      <td>李白《泾川送族弟錞》原作地龙门</td>\n",
       "      <td>李白 《 泾川 送 族弟 錞 》 原作 地 龙门</td>\n",
       "      <td>0</td>\n",
       "      <td></td>\n",
       "    </tr>\n",
       "    <tr>\n",
       "      <th>863</th>\n",
       "      <td>http://www.xinhs.cn/article.asp?id=59966</td>\n",
       "      <td>xinhs.cn</td>\n",
       "      <td>血染的映山红</td>\n",
       "      <td>血染 的 映山红</td>\n",
       "      <td>0</td>\n",
       "      <td></td>\n",
       "    </tr>\n",
       "    <tr>\n",
       "      <th>867</th>\n",
       "      <td>http://www.xinhs.cn/article.asp?id=3890</td>\n",
       "      <td>xinhs.cn</td>\n",
       "      <td>王启敏接受采访时表示徽商大会意义重大影响深远</td>\n",
       "      <td>王启敏 接受 采访 时 表示 徽商 大会 意义 重大 影响 深远</td>\n",
       "      <td>1</td>\n",
       "      <td></td>\n",
       "    </tr>\n",
       "    <tr>\n",
       "      <th>869</th>\n",
       "      <td>http://www.xinhs.cn/article.asp?id=78968</td>\n",
       "      <td>xinhs.cn</td>\n",
       "      <td>“徽商精神”之我见</td>\n",
       "      <td>“ 徽商 精神 ” 之我见</td>\n",
       "      <td>1</td>\n",
       "      <td></td>\n",
       "    </tr>\n",
       "    <tr>\n",
       "      <th>872</th>\n",
       "      <td>http://www.xinhs.cn/article.asp?id=2028</td>\n",
       "      <td>xinhs.cn</td>\n",
       "      <td>演绎古代造纸术</td>\n",
       "      <td>演绎 古代 造纸 造纸术</td>\n",
       "      <td>0</td>\n",
       "      <td></td>\n",
       "    </tr>\n",
       "    <tr>\n",
       "      <th>876</th>\n",
       "      <td>http://www.xinhs.cn/article.asp?id=75673</td>\n",
       "      <td>xinhs.cn</td>\n",
       "      <td>休宁大阜武学生敕牒解读</td>\n",
       "      <td>休宁 大阜武 学生 敕牒 解读</td>\n",
       "      <td>1</td>\n",
       "      <td></td>\n",
       "    </tr>\n",
       "    <tr>\n",
       "      <th>877</th>\n",
       "      <td>http://www.xinhs.cn/article.asp?id=75575</td>\n",
       "      <td>xinhs.cn</td>\n",
       "      <td>焦氏族人齐聚黄山西大门</td>\n",
       "      <td>焦 氏族 人齐 聚黄 山西 大门</td>\n",
       "      <td>0</td>\n",
       "      <td></td>\n",
       "    </tr>\n",
       "    <tr>\n",
       "      <th>878</th>\n",
       "      <td>http://www.xinhs.cn/article.asp?id=74699</td>\n",
       "      <td>xinhs.cn</td>\n",
       "      <td>徽州茶人小传：查士标</td>\n",
       "      <td>徽州 茶 人 小传 ： 查士标</td>\n",
       "      <td>1</td>\n",
       "      <td></td>\n",
       "    </tr>\n",
       "    <tr>\n",
       "      <th>887</th>\n",
       "      <td>http://www.xinhs.cn/article.asp?id=3664</td>\n",
       "      <td>xinhs.cn</td>\n",
       "      <td>全市深入探讨旅游与文化深度结合课题</td>\n",
       "      <td>全市 深入 探讨 深入探讨 旅游 与 文化 深度 结合 课题</td>\n",
       "      <td>0</td>\n",
       "      <td></td>\n",
       "    </tr>\n",
       "    <tr>\n",
       "      <th>914</th>\n",
       "      <td>http://www.xinhs.cn/article.asp?id=1063</td>\n",
       "      <td>xinhs.cn</td>\n",
       "      <td>梅绽枝头春意闹，岩寺新四军军部纪念馆开展红色课堂</td>\n",
       "      <td>梅绽 枝头 春意 春意闹 ， 岩寺 新四军 军部 纪念 纪念馆 开展 红色 课堂</td>\n",
       "      <td>0</td>\n",
       "      <td></td>\n",
       "    </tr>\n",
       "    <tr>\n",
       "      <th>915</th>\n",
       "      <td>http://www.xinhs.cn/article.asp?id=9259</td>\n",
       "      <td>xinhs.cn</td>\n",
       "      <td>太平猴魁</td>\n",
       "      <td>太平 猴魁</td>\n",
       "      <td>0</td>\n",
       "      <td></td>\n",
       "    </tr>\n",
       "    <tr>\n",
       "      <th>922</th>\n",
       "      <td>http://www.xinhs.cn/article.asp?id=3338</td>\n",
       "      <td>xinhs.cn</td>\n",
       "      <td>做好徽州民居的保护和利用工作</td>\n",
       "      <td>做好 徽州 民居 的 保护 和 利用 工作</td>\n",
       "      <td>1</td>\n",
       "      <td></td>\n",
       "    </tr>\n",
       "    <tr>\n",
       "      <th>924</th>\n",
       "      <td>http://www.xinhs.cn/article.asp?id=82271</td>\n",
       "      <td>xinhs.cn</td>\n",
       "      <td>筛子里的徽州味道</td>\n",
       "      <td>筛子 里 的 徽州 味道</td>\n",
       "      <td>1</td>\n",
       "      <td></td>\n",
       "    </tr>\n",
       "    <tr>\n",
       "      <th>927</th>\n",
       "      <td>http://www.xinhs.cn/article.asp?id=80168</td>\n",
       "      <td>xinhs.cn</td>\n",
       "      <td>徽州古建装饰的文化价值：宁可内简也要外奢</td>\n",
       "      <td>徽州 古建 装饰 的 文化 价值 ： 宁可 内简 也 要 外奢</td>\n",
       "      <td>1</td>\n",
       "      <td></td>\n",
       "    </tr>\n",
       "    <tr>\n",
       "      <th>929</th>\n",
       "      <td>http://www.xinhs.cn/article.asp?id=78404</td>\n",
       "      <td>xinhs.cn</td>\n",
       "      <td>黟县人的一日三餐</td>\n",
       "      <td>黟县 人 的 一日 三餐 一日三餐</td>\n",
       "      <td>1</td>\n",
       "      <td></td>\n",
       "    </tr>\n",
       "    <tr>\n",
       "      <th>930</th>\n",
       "      <td>http://www.xinhs.cn/article.asp?id=78168</td>\n",
       "      <td>xinhs.cn</td>\n",
       "      <td>道教名山里的石刻群</td>\n",
       "      <td>道教 名山 里 的 石刻 石刻群</td>\n",
       "      <td>0</td>\n",
       "      <td></td>\n",
       "    </tr>\n",
       "    <tr>\n",
       "      <th>937</th>\n",
       "      <td>http://www.xinhs.cn/article.asp?id=77709</td>\n",
       "      <td>xinhs.cn</td>\n",
       "      <td>徽派雕刻</td>\n",
       "      <td>徽派 雕刻</td>\n",
       "      <td>1</td>\n",
       "      <td></td>\n",
       "    </tr>\n",
       "    <tr>\n",
       "      <th>941</th>\n",
       "      <td>http://www.xinhs.cn/article.asp?id=77705</td>\n",
       "      <td>xinhs.cn</td>\n",
       "      <td>雕梁画栋的徽州木雕</td>\n",
       "      <td>雕梁 雕梁画栋 的 徽州 木雕</td>\n",
       "      <td>1</td>\n",
       "      <td></td>\n",
       "    </tr>\n",
       "    <tr>\n",
       "      <th>942</th>\n",
       "      <td>http://www.xinhs.cn/article.asp?id=77699</td>\n",
       "      <td>xinhs.cn</td>\n",
       "      <td>徽雕四绝：三分精美 七分雅致</td>\n",
       "      <td>徽雕 四绝 ： 三分 精美   七分 雅致</td>\n",
       "      <td>1</td>\n",
       "      <td></td>\n",
       "    </tr>\n",
       "    <tr>\n",
       "      <th>945</th>\n",
       "      <td>http://www.xinhs.cn/article.asp?id=77697</td>\n",
       "      <td>xinhs.cn</td>\n",
       "      <td>徽派雕刻</td>\n",
       "      <td>徽派 雕刻</td>\n",
       "      <td>1</td>\n",
       "      <td></td>\n",
       "    </tr>\n",
       "    <tr>\n",
       "      <th>946</th>\n",
       "      <td>http://www.xinhs.cn/article.asp?id=77692</td>\n",
       "      <td>xinhs.cn</td>\n",
       "      <td>徽州古民居雕刻装饰研究</td>\n",
       "      <td>徽州 民居 古民居 雕刻 装饰 研究</td>\n",
       "      <td>1</td>\n",
       "      <td></td>\n",
       "    </tr>\n",
       "    <tr>\n",
       "      <th>953</th>\n",
       "      <td>http://www.xinhs.cn/article.asp?id=22153</td>\n",
       "      <td>xinhs.cn</td>\n",
       "      <td>歙县民间汪华崇仰习俗轶闻</td>\n",
       "      <td>歙县 民间 汪华 崇仰 习俗 轶闻</td>\n",
       "      <td>1</td>\n",
       "      <td></td>\n",
       "    </tr>\n",
       "    <tr>\n",
       "      <th>954</th>\n",
       "      <td>http://www.xinhs.cn/article.asp?id=18467</td>\n",
       "      <td>xinhs.cn</td>\n",
       "      <td>徽州木雕的由来</td>\n",
       "      <td>徽州 木雕 的 由 来</td>\n",
       "      <td>1</td>\n",
       "      <td></td>\n",
       "    </tr>\n",
       "    <tr>\n",
       "      <th>962</th>\n",
       "      <td>http://www.xinhs.cn/article.asp?id=15367</td>\n",
       "      <td>xinhs.cn</td>\n",
       "      <td>徽州文化的现存及其原因和价值</td>\n",
       "      <td>徽州 文化 的 现存 及其 原因 和 价值</td>\n",
       "      <td>1</td>\n",
       "      <td></td>\n",
       "    </tr>\n",
       "    <tr>\n",
       "      <th>968</th>\n",
       "      <td>http://www.99huizhou.com/archiver/tid-22147.html</td>\n",
       "      <td>99huizhou.com</td>\n",
       "      <td>【专题】第十届中国黄山国际旅游节暨徽文化节专题报道</td>\n",
       "      <td>【 专题 】 第十 十届 第十届 中国 黄山 国际 旅游 游节 旅游节 暨徽 文化 文化节 ...</td>\n",
       "      <td>0</td>\n",
       "      <td></td>\n",
       "    </tr>\n",
       "    <tr>\n",
       "      <th>974</th>\n",
       "      <td>http://www.99huizhou.com/thread-192675-1-1.html</td>\n",
       "      <td>99huizhou.com</td>\n",
       "      <td>送文化进城是个好点子</td>\n",
       "      <td>送 文化 进城 是 个 好 点子</td>\n",
       "      <td>0</td>\n",
       "      <td></td>\n",
       "    </tr>\n",
       "    <tr>\n",
       "      <th>982</th>\n",
       "      <td>http://www.99huizhou.com/thread-194577-1-1.html</td>\n",
       "      <td>99huizhou.com</td>\n",
       "      <td>方利山:光大徽学，“徽州”必须复名</td>\n",
       "      <td>方利山 : 光大 徽学 ， “ 徽州 ” 必须 复名</td>\n",
       "      <td>1</td>\n",
       "      <td></td>\n",
       "    </tr>\n",
       "    <tr>\n",
       "      <th>985</th>\n",
       "      <td>http://www.99huizhou.com/forum-264-1.html</td>\n",
       "      <td>99huizhou.com</td>\n",
       "      <td>媒体互动</td>\n",
       "      <td>媒体 互动</td>\n",
       "      <td>0</td>\n",
       "      <td></td>\n",
       "    </tr>\n",
       "  </tbody>\n",
       "</table>\n",
       "<p>200 rows × 6 columns</p>\n",
       "</div>"
      ],
      "text/plain": [
       "                                                  url         domain  \\\n",
       "0             http://www.hzwh.com/article.asp?id=2533       hzwh.com   \n",
       "7                    www.hzwh.com/article.asp?id=1156       hzwh.com   \n",
       "11                    www.hzwh.com/article.asp?id=996       hzwh.com   \n",
       "12                    www.hzwh.com/article.asp?id=992       hzwh.com   \n",
       "16                    www.hzwh.com/article.asp?id=895       hzwh.com   \n",
       "23                    www.hzwh.com/article.asp?id=715       hzwh.com   \n",
       "28                    www.hzwh.com/article.asp?id=986       hzwh.com   \n",
       "29                    www.hzwh.com/article.asp?id=902       hzwh.com   \n",
       "30                    www.hzwh.com/article.asp?id=830       hzwh.com   \n",
       "35                    www.hzwh.com/article.asp?id=984       hzwh.com   \n",
       "36                   www.hzwh.com/article.asp?id=1184       hzwh.com   \n",
       "37                   www.hzwh.com/article.asp?id=1005       hzwh.com   \n",
       "43                   www.hzwh.com/article.asp?id=1167       hzwh.com   \n",
       "44                   www.hzwh.com/article.asp?id=1152       hzwh.com   \n",
       "46                    www.hzwh.com/article.asp?id=949       hzwh.com   \n",
       "47                    www.hzwh.com/article.asp?id=881       hzwh.com   \n",
       "49             http://www.hzwh.com/article.asp?id=669       hzwh.com   \n",
       "50                   www.hzwh.com/article.asp?id=1297       hzwh.com   \n",
       "58                    www.hzwh.com/article.asp?id=816       hzwh.com   \n",
       "68                    www.hzwh.com/article.asp?id=768       hzwh.com   \n",
       "70                   www.hzwh.com/article.asp?id=1847       hzwh.com   \n",
       "71                   www.hzwh.com/article.asp?id=1157       hzwh.com   \n",
       "74                   www.hzwh.com/article.asp?id=1050       hzwh.com   \n",
       "75                   www.hzwh.com/article.asp?id=1028       hzwh.com   \n",
       "86            http://www.hzwh.com/Article.asp?id=1561       hzwh.com   \n",
       "89                    www.hzwh.com/article.asp?id=947       hzwh.com   \n",
       "93                   www.hzwh.com/article.asp?id=1033       hzwh.com   \n",
       "96                   www.hzwh.com/article.asp?id=1042       hzwh.com   \n",
       "98                   www.hzwh.com/article.asp?id=1051       hzwh.com   \n",
       "100                   www.hzwh.com/article.asp?id=987       hzwh.com   \n",
       "..                                                ...            ...   \n",
       "849          http://www.xinhs.cn/article.asp?id=77773       xinhs.cn   \n",
       "855           http://www.xinhs.cn/article.asp?id=3502       xinhs.cn   \n",
       "857          http://www.xinhs.cn/article.asp?id=68378       xinhs.cn   \n",
       "863          http://www.xinhs.cn/article.asp?id=59966       xinhs.cn   \n",
       "867           http://www.xinhs.cn/article.asp?id=3890       xinhs.cn   \n",
       "869          http://www.xinhs.cn/article.asp?id=78968       xinhs.cn   \n",
       "872           http://www.xinhs.cn/article.asp?id=2028       xinhs.cn   \n",
       "876          http://www.xinhs.cn/article.asp?id=75673       xinhs.cn   \n",
       "877          http://www.xinhs.cn/article.asp?id=75575       xinhs.cn   \n",
       "878          http://www.xinhs.cn/article.asp?id=74699       xinhs.cn   \n",
       "887           http://www.xinhs.cn/article.asp?id=3664       xinhs.cn   \n",
       "914           http://www.xinhs.cn/article.asp?id=1063       xinhs.cn   \n",
       "915           http://www.xinhs.cn/article.asp?id=9259       xinhs.cn   \n",
       "922           http://www.xinhs.cn/article.asp?id=3338       xinhs.cn   \n",
       "924          http://www.xinhs.cn/article.asp?id=82271       xinhs.cn   \n",
       "927          http://www.xinhs.cn/article.asp?id=80168       xinhs.cn   \n",
       "929          http://www.xinhs.cn/article.asp?id=78404       xinhs.cn   \n",
       "930          http://www.xinhs.cn/article.asp?id=78168       xinhs.cn   \n",
       "937          http://www.xinhs.cn/article.asp?id=77709       xinhs.cn   \n",
       "941          http://www.xinhs.cn/article.asp?id=77705       xinhs.cn   \n",
       "942          http://www.xinhs.cn/article.asp?id=77699       xinhs.cn   \n",
       "945          http://www.xinhs.cn/article.asp?id=77697       xinhs.cn   \n",
       "946          http://www.xinhs.cn/article.asp?id=77692       xinhs.cn   \n",
       "953          http://www.xinhs.cn/article.asp?id=22153       xinhs.cn   \n",
       "954          http://www.xinhs.cn/article.asp?id=18467       xinhs.cn   \n",
       "962          http://www.xinhs.cn/article.asp?id=15367       xinhs.cn   \n",
       "968  http://www.99huizhou.com/archiver/tid-22147.html  99huizhou.com   \n",
       "974   http://www.99huizhou.com/thread-192675-1-1.html  99huizhou.com   \n",
       "982   http://www.99huizhou.com/thread-194577-1-1.html  99huizhou.com   \n",
       "985         http://www.99huizhou.com/forum-264-1.html  99huizhou.com   \n",
       "\n",
       "                           title  \\\n",
       "0                  推动徽州传统文化的普及宣传   \n",
       "7                      名山文化与泰山文化   \n",
       "11                    为什么说“十姓九汪”   \n",
       "12                      “红顶商人”指谁   \n",
       "16                     徽州宗祠与宗祠文化   \n",
       "23                         朱熹与植树   \n",
       "28                     走南闯北的贩运贸易   \n",
       "29                      岩寺“上九”庙会   \n",
       "30            明清以来徽州典当业在城市的分布和发展   \n",
       "35                     徽商的赊销赊购经营   \n",
       "36                      徽商四大行业之二   \n",
       "37                      徽商是怎么衰落的   \n",
       "43                        关于徽州族谱   \n",
       "44                       再塑徽商新形象   \n",
       "46                  抗战期间日寇未达徽州初探   \n",
       "47                         徽州族谱    \n",
       "49                         徽菜的形成   \n",
       "50   全力以赴齐抓共管“保护自然文化遗产，弘扬古老徽州文化”   \n",
       "58                    篁墩：徽州宗族的圣地   \n",
       "68                《金瓶梅》书中的徽州方言注释   \n",
       "70              徽州乡镇志中所见明清民间救荒措施   \n",
       "71              鲁文化在中国上古区域文化中的地位   \n",
       "74              “连科三民撰；十里四翰林”指什么   \n",
       "75                        什么是佃仆制   \n",
       "86                    祁门县桃源古村慎徽堂   \n",
       "89                        忆鼎丰裕店规   \n",
       "93                     “萧江”是怎么回事   \n",
       "96                        珰金街与罗盘   \n",
       "98                 “一镇四状元”发生在哪个镇   \n",
       "100       “商何负于农”、“贾何负于儒”是怎么提出来的   \n",
       "..                           ...   \n",
       "849                   徽州旧风俗之水口风俗   \n",
       "855                 徽州大剧院广纳良言谋发展   \n",
       "857              李白《泾川送族弟錞》原作地龙门   \n",
       "863                       血染的映山红   \n",
       "867       王启敏接受采访时表示徽商大会意义重大影响深远   \n",
       "869                    “徽商精神”之我见   \n",
       "872                      演绎古代造纸术   \n",
       "876                  休宁大阜武学生敕牒解读   \n",
       "877                  焦氏族人齐聚黄山西大门   \n",
       "878                   徽州茶人小传：查士标   \n",
       "887            全市深入探讨旅游与文化深度结合课题   \n",
       "914     梅绽枝头春意闹，岩寺新四军军部纪念馆开展红色课堂   \n",
       "915                         太平猴魁   \n",
       "922               做好徽州民居的保护和利用工作   \n",
       "924                     筛子里的徽州味道   \n",
       "927         徽州古建装饰的文化价值：宁可内简也要外奢   \n",
       "929                     黟县人的一日三餐   \n",
       "930                    道教名山里的石刻群   \n",
       "937                         徽派雕刻   \n",
       "941                    雕梁画栋的徽州木雕   \n",
       "942               徽雕四绝：三分精美 七分雅致   \n",
       "945                         徽派雕刻   \n",
       "946                  徽州古民居雕刻装饰研究   \n",
       "953                 歙县民间汪华崇仰习俗轶闻   \n",
       "954                      徽州木雕的由来   \n",
       "962               徽州文化的现存及其原因和价值   \n",
       "968    【专题】第十届中国黄山国际旅游节暨徽文化节专题报道   \n",
       "974                   送文化进城是个好点子   \n",
       "982            方利山:光大徽学，“徽州”必须复名   \n",
       "985                         媒体互动   \n",
       "\n",
       "                                               segment  target source  \n",
       "0                                  推动 徽州 传统 文化 的 普及 宣传       1         \n",
       "7                                        名山 文化 与 泰山 文化       0         \n",
       "11                                 什么 为什么 说 “ 十姓 九 汪 ”       0         \n",
       "12                                  “ 红顶 商人 红顶商人 ” 指 谁       0         \n",
       "16                                       徽州 宗祠 与 宗祠 文化       1         \n",
       "23                                             朱熹 与 植树       1         \n",
       "28                                        走南闯北 的 贩运 贸易       0         \n",
       "29                                       岩寺 “ 上 九 ” 庙会       0         \n",
       "30                      明清 以来 徽州 典当 典当业 在 城市 的 分布 和 发展       1         \n",
       "35                                       徽商 的 赊销 赊购 经营       1         \n",
       "36                                         徽商 四大 行业 之二       1         \n",
       "37                                        徽商 是 怎么 衰落 的       1         \n",
       "43                                            关于 徽州 族谱       1         \n",
       "44                                          再塑 徽商 新 形象       1         \n",
       "46                                   抗战 期间 日寇 未达 徽州 初探       1         \n",
       "47                                             徽州 族谱         1         \n",
       "49                                             徽菜 的 形成       1         \n",
       "50   全力 全力以赴 共管 齐抓共管 “ 保护 自然 文化 遗产 文化遗产 ， 弘扬 古老 徽州 ...       1         \n",
       "58                                    篁 墩 ： 徽州 宗族 的 圣地       1         \n",
       "68                               《 金瓶梅 》 书中 的 徽州 方言 注释       1         \n",
       "70                             徽州 乡镇 志中 所见 明清 民间 救荒 措施       1         \n",
       "71                           鲁 文化 在 中国 上古 区域 文化 中 的 地位       0         \n",
       "74                          “ 连科 三民 撰 ； 十里 四 翰林 ” 指 什么       0         \n",
       "75                                            什么 是 佃仆制       0         \n",
       "86                                    祁门 祁门县 桃源 古村 慎徽堂       1         \n",
       "89                                            忆鼎 丰裕 店规       0         \n",
       "93                                 “ 萧江 ” 是 怎么 回事 怎么回事       0         \n",
       "96                                           珰 金街 与 罗盘       1         \n",
       "98                               “ 一镇 四 状元 ” 发生 在 哪个 镇       0         \n",
       "100              “ 商何 负于 农 ” 、 “ 贾何 负于 儒 ” 是 怎么 提出 来 的       0         \n",
       "..                                                 ...     ...    ...  \n",
       "849                                    徽州 旧 风俗 之 水口 风俗       1         \n",
       "855                               徽州 大 剧院 广纳 良言 发展 谋发展       1         \n",
       "857                           李白 《 泾川 送 族弟 錞 》 原作 地 龙门       0         \n",
       "863                                           血染 的 映山红       0         \n",
       "867                   王启敏 接受 采访 时 表示 徽商 大会 意义 重大 影响 深远       1         \n",
       "869                                      “ 徽商 精神 ” 之我见       1         \n",
       "872                                       演绎 古代 造纸 造纸术       0         \n",
       "876                                    休宁 大阜武 学生 敕牒 解读       1         \n",
       "877                                   焦 氏族 人齐 聚黄 山西 大门       0         \n",
       "878                                    徽州 茶 人 小传 ： 查士标       1         \n",
       "887                     全市 深入 探讨 深入探讨 旅游 与 文化 深度 结合 课题       0         \n",
       "914           梅绽 枝头 春意 春意闹 ， 岩寺 新四军 军部 纪念 纪念馆 开展 红色 课堂       0         \n",
       "915                                              太平 猴魁       0         \n",
       "922                              做好 徽州 民居 的 保护 和 利用 工作       1         \n",
       "924                                       筛子 里 的 徽州 味道       1         \n",
       "927                    徽州 古建 装饰 的 文化 价值 ： 宁可 内简 也 要 外奢       1         \n",
       "929                                  黟县 人 的 一日 三餐 一日三餐       1         \n",
       "930                                   道教 名山 里 的 石刻 石刻群       0         \n",
       "937                                              徽派 雕刻       1         \n",
       "941                                    雕梁 雕梁画栋 的 徽州 木雕       1         \n",
       "942                              徽雕 四绝 ： 三分 精美   七分 雅致       1         \n",
       "945                                              徽派 雕刻       1         \n",
       "946                                 徽州 民居 古民居 雕刻 装饰 研究       1         \n",
       "953                                  歙县 民间 汪华 崇仰 习俗 轶闻       1         \n",
       "954                                        徽州 木雕 的 由 来       1         \n",
       "962                              徽州 文化 的 现存 及其 原因 和 价值       1         \n",
       "968  【 专题 】 第十 十届 第十届 中国 黄山 国际 旅游 游节 旅游节 暨徽 文化 文化节 ...       0         \n",
       "974                                   送 文化 进城 是 个 好 点子       0         \n",
       "982                         方利山 : 光大 徽学 ， “ 徽州 ” 必须 复名       1         \n",
       "985                                              媒体 互动       0         \n",
       "\n",
       "[200 rows x 6 columns]"
      ]
     },
     "execution_count": 153,
     "metadata": {},
     "output_type": "execute_result"
    }
   ],
   "source": [
    "new_df.head(200)"
   ]
  },
  {
   "cell_type": "code",
   "execution_count": 207,
   "metadata": {
    "collapsed": true
   },
   "outputs": [],
   "source": [
    "joined = train.append(new_df)"
   ]
  },
  {
   "cell_type": "code",
   "execution_count": 208,
   "metadata": {},
   "outputs": [],
   "source": [
    "joined.info()"
   ]
  },
  {
   "cell_type": "code",
   "execution_count": null,
   "metadata": {
    "collapsed": true
   },
   "outputs": [],
   "source": []
  },
  {
   "cell_type": "markdown",
   "metadata": {},
   "source": [
    "final = joined[['url', 'domain', '', '', flag']]"
   ]
  },
  {
   "cell_type": "code",
   "execution_count": 609,
   "metadata": {},
   "outputs": [
    {
     "name": "stdout",
     "output_type": "stream",
     "text": [
      "<class 'pandas.core.frame.DataFrame'>\n",
      "Int64Index: 44611 entries, 0 to 44511\n",
      "Data columns (total 6 columns):\n",
      "domain     44611 non-null object\n",
      "segment    44611 non-null object\n",
      "source     8957 non-null object\n",
      "target     44611 non-null int64\n",
      "title      44611 non-null object\n",
      "url        44611 non-null object\n",
      "dtypes: int64(1), object(5)\n",
      "memory usage: 2.4+ MB\n"
     ]
    }
   ],
   "source": [
    "joined.info()"
   ]
  },
  {
   "cell_type": "code",
   "execution_count": 209,
   "metadata": {
    "collapsed": true
   },
   "outputs": [],
   "source": [
    "df_no_dup = joined.dropna(subset =['url']) "
   ]
  },
  {
   "cell_type": "code",
   "execution_count": 210,
   "metadata": {},
   "outputs": [],
   "source": [
    "\n",
    "df_no_dup = df_no_dup.dropna(subset =['segment']) "
   ]
  },
  {
   "cell_type": "code",
   "execution_count": 211,
   "metadata": {
    "collapsed": true
   },
   "outputs": [],
   "source": [
    "\n",
    "df_no_dup = df_no_dup.drop_duplicates(['url'])\n"
   ]
  },
  {
   "cell_type": "code",
   "execution_count": 79,
   "metadata": {
    "collapsed": true
   },
   "outputs": [],
   "source": [
    "\n",
    "df_no_dup = df_no_dup.drop_duplicates(['segment'])"
   ]
  },
  {
   "cell_type": "code",
   "execution_count": 212,
   "metadata": {},
   "outputs": [],
   "source": [
    "df_no_dup.info()"
   ]
  },
  {
   "cell_type": "code",
   "execution_count": 213,
   "metadata": {},
   "outputs": [
    {
     "data": {
      "text/plain": [
       "11904"
      ]
     },
     "execution_count": 213,
     "metadata": {},
     "output_type": "execute_result"
    }
   ],
   "source": [
    "df_no_dup['target'].sum()"
   ]
  },
  {
   "cell_type": "code",
   "execution_count": 214,
   "metadata": {},
   "outputs": [],
   "source": [
    "df_no_dup.to_csv('/Users/nhu2000/Desktop/huizhou/data/huiwenhua/classifier/title-jiaba-segment_v3_0.csv', encoding='utf-8', index=False)"
   ]
  },
  {
   "cell_type": "code",
   "execution_count": 51,
   "metadata": {},
   "outputs": [],
   "source": [
    "print cnt, cnt*1.0/len(Y_pred)"
   ]
  },
  {
   "cell_type": "code",
   "execution_count": 215,
   "metadata": {},
   "outputs": [
    {
     "ename": "KeyError",
     "evalue": "'flag'",
     "output_type": "error",
     "traceback": [
      "\u001b[0;31m---------------------------------------------------------------------------\u001b[0m",
      "\u001b[0;31mKeyError\u001b[0m                                  Traceback (most recent call last)",
      "\u001b[0;32m<ipython-input-215-1928427fca34>\u001b[0m in \u001b[0;36m<module>\u001b[0;34m()\u001b[0m\n\u001b[0;32m----> 1\u001b[0;31m \u001b[0;32mprint\u001b[0m \u001b[0mdf_no_dup\u001b[0m\u001b[0;34m[\u001b[0m\u001b[0;34m'flag'\u001b[0m\u001b[0;34m]\u001b[0m\u001b[0;34m.\u001b[0m\u001b[0msum\u001b[0m\u001b[0;34m(\u001b[0m\u001b[0;34m)\u001b[0m\u001b[0;34m\u001b[0m\u001b[0m\n\u001b[0m",
      "\u001b[0;32m/Library/Python/2.7/site-packages/pandas/core/frame.pyc\u001b[0m in \u001b[0;36m__getitem__\u001b[0;34m(self, key)\u001b[0m\n\u001b[1;32m   1912\u001b[0m             \u001b[0;32mreturn\u001b[0m \u001b[0mself\u001b[0m\u001b[0;34m.\u001b[0m\u001b[0m_getitem_multilevel\u001b[0m\u001b[0;34m(\u001b[0m\u001b[0mkey\u001b[0m\u001b[0;34m)\u001b[0m\u001b[0;34m\u001b[0m\u001b[0m\n\u001b[1;32m   1913\u001b[0m         \u001b[0;32melse\u001b[0m\u001b[0;34m:\u001b[0m\u001b[0;34m\u001b[0m\u001b[0m\n\u001b[0;32m-> 1914\u001b[0;31m             \u001b[0;32mreturn\u001b[0m \u001b[0mself\u001b[0m\u001b[0;34m.\u001b[0m\u001b[0m_getitem_column\u001b[0m\u001b[0;34m(\u001b[0m\u001b[0mkey\u001b[0m\u001b[0;34m)\u001b[0m\u001b[0;34m\u001b[0m\u001b[0m\n\u001b[0m\u001b[1;32m   1915\u001b[0m \u001b[0;34m\u001b[0m\u001b[0m\n\u001b[1;32m   1916\u001b[0m     \u001b[0;32mdef\u001b[0m \u001b[0m_getitem_column\u001b[0m\u001b[0;34m(\u001b[0m\u001b[0mself\u001b[0m\u001b[0;34m,\u001b[0m \u001b[0mkey\u001b[0m\u001b[0;34m)\u001b[0m\u001b[0;34m:\u001b[0m\u001b[0;34m\u001b[0m\u001b[0m\n",
      "\u001b[0;32m/Library/Python/2.7/site-packages/pandas/core/frame.pyc\u001b[0m in \u001b[0;36m_getitem_column\u001b[0;34m(self, key)\u001b[0m\n\u001b[1;32m   1919\u001b[0m         \u001b[0;31m# get column\u001b[0m\u001b[0;34m\u001b[0m\u001b[0;34m\u001b[0m\u001b[0m\n\u001b[1;32m   1920\u001b[0m         \u001b[0;32mif\u001b[0m \u001b[0mself\u001b[0m\u001b[0;34m.\u001b[0m\u001b[0mcolumns\u001b[0m\u001b[0;34m.\u001b[0m\u001b[0mis_unique\u001b[0m\u001b[0;34m:\u001b[0m\u001b[0;34m\u001b[0m\u001b[0m\n\u001b[0;32m-> 1921\u001b[0;31m             \u001b[0;32mreturn\u001b[0m \u001b[0mself\u001b[0m\u001b[0;34m.\u001b[0m\u001b[0m_get_item_cache\u001b[0m\u001b[0;34m(\u001b[0m\u001b[0mkey\u001b[0m\u001b[0;34m)\u001b[0m\u001b[0;34m\u001b[0m\u001b[0m\n\u001b[0m\u001b[1;32m   1922\u001b[0m \u001b[0;34m\u001b[0m\u001b[0m\n\u001b[1;32m   1923\u001b[0m         \u001b[0;31m# duplicate columns & possible reduce dimensionaility\u001b[0m\u001b[0;34m\u001b[0m\u001b[0;34m\u001b[0m\u001b[0m\n",
      "\u001b[0;32m/Library/Python/2.7/site-packages/pandas/core/generic.pyc\u001b[0m in \u001b[0;36m_get_item_cache\u001b[0;34m(self, item)\u001b[0m\n\u001b[1;32m   1088\u001b[0m         \u001b[0mres\u001b[0m \u001b[0;34m=\u001b[0m \u001b[0mcache\u001b[0m\u001b[0;34m.\u001b[0m\u001b[0mget\u001b[0m\u001b[0;34m(\u001b[0m\u001b[0mitem\u001b[0m\u001b[0;34m)\u001b[0m\u001b[0;34m\u001b[0m\u001b[0m\n\u001b[1;32m   1089\u001b[0m         \u001b[0;32mif\u001b[0m \u001b[0mres\u001b[0m \u001b[0;32mis\u001b[0m \u001b[0mNone\u001b[0m\u001b[0;34m:\u001b[0m\u001b[0;34m\u001b[0m\u001b[0m\n\u001b[0;32m-> 1090\u001b[0;31m             \u001b[0mvalues\u001b[0m \u001b[0;34m=\u001b[0m \u001b[0mself\u001b[0m\u001b[0;34m.\u001b[0m\u001b[0m_data\u001b[0m\u001b[0;34m.\u001b[0m\u001b[0mget\u001b[0m\u001b[0;34m(\u001b[0m\u001b[0mitem\u001b[0m\u001b[0;34m)\u001b[0m\u001b[0;34m\u001b[0m\u001b[0m\n\u001b[0m\u001b[1;32m   1091\u001b[0m             \u001b[0mres\u001b[0m \u001b[0;34m=\u001b[0m \u001b[0mself\u001b[0m\u001b[0;34m.\u001b[0m\u001b[0m_box_item_values\u001b[0m\u001b[0;34m(\u001b[0m\u001b[0mitem\u001b[0m\u001b[0;34m,\u001b[0m \u001b[0mvalues\u001b[0m\u001b[0;34m)\u001b[0m\u001b[0;34m\u001b[0m\u001b[0m\n\u001b[1;32m   1092\u001b[0m             \u001b[0mcache\u001b[0m\u001b[0;34m[\u001b[0m\u001b[0mitem\u001b[0m\u001b[0;34m]\u001b[0m \u001b[0;34m=\u001b[0m \u001b[0mres\u001b[0m\u001b[0;34m\u001b[0m\u001b[0m\n",
      "\u001b[0;32m/Library/Python/2.7/site-packages/pandas/core/internals.pyc\u001b[0m in \u001b[0;36mget\u001b[0;34m(self, item, fastpath)\u001b[0m\n\u001b[1;32m   3100\u001b[0m \u001b[0;34m\u001b[0m\u001b[0m\n\u001b[1;32m   3101\u001b[0m             \u001b[0;32mif\u001b[0m \u001b[0;32mnot\u001b[0m \u001b[0misnull\u001b[0m\u001b[0;34m(\u001b[0m\u001b[0mitem\u001b[0m\u001b[0;34m)\u001b[0m\u001b[0;34m:\u001b[0m\u001b[0;34m\u001b[0m\u001b[0m\n\u001b[0;32m-> 3102\u001b[0;31m                 \u001b[0mloc\u001b[0m \u001b[0;34m=\u001b[0m \u001b[0mself\u001b[0m\u001b[0;34m.\u001b[0m\u001b[0mitems\u001b[0m\u001b[0;34m.\u001b[0m\u001b[0mget_loc\u001b[0m\u001b[0;34m(\u001b[0m\u001b[0mitem\u001b[0m\u001b[0;34m)\u001b[0m\u001b[0;34m\u001b[0m\u001b[0m\n\u001b[0m\u001b[1;32m   3103\u001b[0m             \u001b[0;32melse\u001b[0m\u001b[0;34m:\u001b[0m\u001b[0;34m\u001b[0m\u001b[0m\n\u001b[1;32m   3104\u001b[0m                 \u001b[0mindexer\u001b[0m \u001b[0;34m=\u001b[0m \u001b[0mnp\u001b[0m\u001b[0;34m.\u001b[0m\u001b[0marange\u001b[0m\u001b[0;34m(\u001b[0m\u001b[0mlen\u001b[0m\u001b[0;34m(\u001b[0m\u001b[0mself\u001b[0m\u001b[0;34m.\u001b[0m\u001b[0mitems\u001b[0m\u001b[0;34m)\u001b[0m\u001b[0;34m)\u001b[0m\u001b[0;34m[\u001b[0m\u001b[0misnull\u001b[0m\u001b[0;34m(\u001b[0m\u001b[0mself\u001b[0m\u001b[0;34m.\u001b[0m\u001b[0mitems\u001b[0m\u001b[0;34m)\u001b[0m\u001b[0;34m]\u001b[0m\u001b[0;34m\u001b[0m\u001b[0m\n",
      "\u001b[0;32m/Library/Python/2.7/site-packages/pandas/core/index.pyc\u001b[0m in \u001b[0;36mget_loc\u001b[0;34m(self, key, method, tolerance)\u001b[0m\n\u001b[1;32m   1690\u001b[0m                 raise ValueError('tolerance argument only valid if using pad, '\n\u001b[1;32m   1691\u001b[0m                                  'backfill or nearest lookups')\n\u001b[0;32m-> 1692\u001b[0;31m             \u001b[0;32mreturn\u001b[0m \u001b[0mself\u001b[0m\u001b[0;34m.\u001b[0m\u001b[0m_engine\u001b[0m\u001b[0;34m.\u001b[0m\u001b[0mget_loc\u001b[0m\u001b[0;34m(\u001b[0m\u001b[0m_values_from_object\u001b[0m\u001b[0;34m(\u001b[0m\u001b[0mkey\u001b[0m\u001b[0;34m)\u001b[0m\u001b[0;34m)\u001b[0m\u001b[0;34m\u001b[0m\u001b[0m\n\u001b[0m\u001b[1;32m   1693\u001b[0m \u001b[0;34m\u001b[0m\u001b[0m\n\u001b[1;32m   1694\u001b[0m         indexer = self.get_indexer([key], method=method,\n",
      "\u001b[0;32mpandas/index.pyx\u001b[0m in \u001b[0;36mpandas.index.IndexEngine.get_loc (pandas/index.c:3979)\u001b[0;34m()\u001b[0m\n",
      "\u001b[0;32mpandas/index.pyx\u001b[0m in \u001b[0;36mpandas.index.IndexEngine.get_loc (pandas/index.c:3843)\u001b[0;34m()\u001b[0m\n",
      "\u001b[0;32mpandas/hashtable.pyx\u001b[0m in \u001b[0;36mpandas.hashtable.PyObjectHashTable.get_item (pandas/hashtable.c:12265)\u001b[0;34m()\u001b[0m\n",
      "\u001b[0;32mpandas/hashtable.pyx\u001b[0m in \u001b[0;36mpandas.hashtable.PyObjectHashTable.get_item (pandas/hashtable.c:12216)\u001b[0;34m()\u001b[0m\n",
      "\u001b[0;31mKeyError\u001b[0m: 'flag'"
     ]
    }
   ],
   "source": [
    "print df_no_dup['flag'].sum()"
   ]
  },
  {
   "cell_type": "code",
   "execution_count": null,
   "metadata": {
    "collapsed": true
   },
   "outputs": [],
   "source": [
    "#Grid search"
   ]
  },
  {
   "cell_type": "code",
   "execution_count": null,
   "metadata": {
    "collapsed": true
   },
   "outputs": [],
   "source": [
    "from sklearn.datasets import make_classification\n",
    "from sklearn.grid_search import GridSearchCV\n",
    "from sklearn.metrics import precision_recall_fscore_support, accuracy_score, \\\n",
    "    matthews_corrcoef, make_scorer\n",
    "from sklearn.ensemble import RandomForestClassifier\n",
    "from sklearn.cross_validation import train_test_split"
   ]
  },
  {
   "cell_type": "code",
   "execution_count": null,
   "metadata": {
    "collapsed": true
   },
   "outputs": [],
   "source": [
    "def overall_average_score(actual,prediction):\n",
    "    precision, recall, f1_score, _ = precision_recall_fscore_support(\n",
    "        actual, prediction, average='binary')\n",
    "    total_score = (matthews_corrcoef(actual, prediction) +\n",
    "        accuracy_score(actual, prediction) + precision + recall + f1_score)\n",
    "    return total_score / 5"
   ]
  },
  {
   "cell_type": "code",
   "execution_count": null,
   "metadata": {
    "collapsed": true
   },
   "outputs": [],
   "source": [
    "X_train, X_test, y_train, y_test = train_test_split(X, y,\n",
    "    test_size=0.5, random_state=0)"
   ]
  },
  {
   "cell_type": "code",
   "execution_count": null,
   "metadata": {
    "collapsed": true
   },
   "outputs": [],
   "source": [
    "grid_scorer = make_scorer(overall_average_score, greater_is_better=True)"
   ]
  },
  {
   "cell_type": "code",
   "execution_count": null,
   "metadata": {
    "collapsed": true
   },
   "outputs": [],
   "source": [
    "parameters = {'n_estimators': [10,20,30],\n",
    "              'max_features': ['auto','sqrt','log2',0.5,0.3], }\n",
    "gs_rf = GridSearchCV(clf, parameters, cv=5, scoring=grid_scorer)\n",
    "gs_rf.fit(X_train,y_train)"
   ]
  },
  {
   "cell_type": "code",
   "execution_count": null,
   "metadata": {
    "collapsed": true
   },
   "outputs": [],
   "source": []
  }
 ],
 "metadata": {
  "kernelspec": {
   "display_name": "Python 2",
   "language": "python",
   "name": "python2"
  },
  "language_info": {
   "codemirror_mode": {
    "name": "ipython",
    "version": 2
   },
   "file_extension": ".py",
   "mimetype": "text/x-python",
   "name": "python",
   "nbconvert_exporter": "python",
   "pygments_lexer": "ipython2",
   "version": "2.7.10"
  }
 },
 "nbformat": 4,
 "nbformat_minor": 2
}
