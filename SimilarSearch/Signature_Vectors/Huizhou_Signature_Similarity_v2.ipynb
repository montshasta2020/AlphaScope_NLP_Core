{
 "cells": [
  {
   "cell_type": "code",
   "execution_count": 2,
   "metadata": {
    "collapsed": true
   },
   "outputs": [],
   "source": [
    "import sys\n",
    "reload(sys)\n",
    "sys.setdefaultencoding('utf-8')"
   ]
  },
  {
   "cell_type": "code",
   "execution_count": 3,
   "metadata": {
    "collapsed": true
   },
   "outputs": [],
   "source": [
    "import pandas as pd\n",
    "from urlparse import urlparse\n",
    "import tldextract\n",
    "from collections import Counter\n",
    "import jieba\n",
    "import json\n",
    "import math\n",
    "import numpy as np\n",
    "from time import time"
   ]
  },
  {
   "cell_type": "code",
   "execution_count": 19,
   "metadata": {},
   "outputs": [],
   "source": [
    "from gensim.models import Word2Vec, KeyedVectors\n",
    "model = KeyedVectors.load_word2vec_format('../Words_Embedding/huizhou_model_format_v1.bin', binary=False)"
   ]
  },
  {
   "cell_type": "code",
   "execution_count": 6,
   "metadata": {
    "collapsed": true
   },
   "outputs": [],
   "source": [
    "df = pd.read_csv('/Users/nhu2000/projects/SimilarSearch/data/merged/huizhou-v0_1.csv')"
   ]
  },
  {
   "cell_type": "code",
   "execution_count": 29,
   "metadata": {
    "collapsed": true
   },
   "outputs": [],
   "source": [
    "df.info()"
   ]
  },
  {
   "cell_type": "code",
   "execution_count": 8,
   "metadata": {
    "collapsed": true
   },
   "outputs": [],
   "source": [
    "from urlparse import urlparse\n",
    "df['domain']  = df.url.map(lambda x:tldextract.extract(x).domain + str('.') + tldextract.extract(x).suffix)"
   ]
  },
  {
   "cell_type": "code",
   "execution_count": 9,
   "metadata": {
    "collapsed": true
   },
   "outputs": [],
   "source": [
    "df = df[df['domain'] != 'huaxia.com']"
   ]
  },
  {
   "cell_type": "code",
   "execution_count": 11,
   "metadata": {
    "collapsed": true
   },
   "outputs": [],
   "source": [
    "import re\n",
    "match = re.compile('([a-zA-Z_0-9_=_#_&_/])') #remove letters, numbers, and special characters in the article body\n",
    "#match = re.compile('([a-zA-Z_0-9])') #remove all of english letters and numbers\n",
    "def classifier_filters(s):\n",
    "    return match.sub(r' ', s) "
   ]
  },
  {
   "cell_type": "code",
   "execution_count": 12,
   "metadata": {
    "collapsed": true
   },
   "outputs": [],
   "source": [
    "def filter_combined(x):\n",
    "    s = x.split()\n",
    "    r = [t for t in s if (t.strip()) > 0 and t.strip() not in keyword_stop_words]\n",
    "    t = ' '.join(r)\n",
    "    ret = classifier_filters(t)\n",
    "    #print 'before -----', t\n",
    "    #print 'after ------', ret\n",
    "    return ret   "
   ]
  },
  {
   "cell_type": "code",
   "execution_count": 13,
   "metadata": {
    "collapsed": true
   },
   "outputs": [],
   "source": [
    "huizhou_stop_words = [u'的', u'了', u'在', u'是', u'安徽', u'和', u'有', u'我', u'年', u'上', u'他', u'我们', u'及',\n",
    "                      u'为', u'与', u'人', u'也', u'于', u'中', u'就', u'都', u'在线', u'等', u'不', u'网站', u'你', \n",
    "                      u'一个', u'到', u'之', u'对', u'说', u'进入', u'后', u'月', u'将', u'时', u'又', u'被', u'会员'\n",
    "                     u'版权', u'论坛', u'以', u'而', u'着', u'下', u'这', u'但', u'要', u'或', u'首页', u'这', u'更',\n",
    "                     u'地', u'从', u'卡', u'来', '多', u'日', u'她', u'还', u'联系', u'那', u'一处', u'一直', u'个', \n",
    "                     u'向', u'并', u'曾', u'这样', u'里', u'合肥', u'推荐', u'专栏', u'相关', u'当前', u'所有', u'中心'\n",
    "                     u'频道', u'编辑', u'位置', u'第一', u'社区', u'看', '中安', u'安徽省', u'大', u'许可证', u'许可',\n",
    "                     u'让', u'没有', u'什么', u'其', '请', '该', '用', '积分', u'凤阳', u'一篇', u'版权', u'县', u'这里',\n",
    "                      u'就是', u'生于', u'他们', u'它', u'男', u'去', u'会', u'由', u'一', u'做', u'所', u'毕业', u'一种',\n",
    "                     u'协会会员', u'把', u'能', u'至', u'这个', u'自己', u'黄山市', u'出', u'如', u'如',u'可以', u'很',\n",
    "                     u'成为', u'好', u'先生', u'中国', u'集团', u'江淮', u'网', u'特色', u'全国', u'新', u'作为', u'师专',\n",
    "                     u'则', u'重要', u'们', u'给', u'这些', u'过', u'安', u'最', u'现在', u'得', u'国家']"
   ]
  },
  {
   "cell_type": "markdown",
   "metadata": {},
   "source": [
    "s = ' '.join(huizhou_stop_words)\n",
    "#s = u'444 （）'"
   ]
  },
  {
   "cell_type": "code",
   "execution_count": 14,
   "metadata": {
    "collapsed": true
   },
   "outputs": [],
   "source": [
    "import unicodedata\n",
    "def remove_non_chinese(s):\n",
    "    r = [c for c in s if unicodedata.category(c).startswith('L')]\n",
    "#print r\n",
    "    return ''.join(r)\n",
    "#print remove_non_chinese(s)"
   ]
  },
  {
   "cell_type": "markdown",
   "metadata": {
    "collapsed": true
   },
   "source": [
    "hz_dict = dict(zip(words, fq))"
   ]
  },
  {
   "cell_type": "code",
   "execution_count": 15,
   "metadata": {
    "collapsed": true
   },
   "outputs": [],
   "source": [
    "def ch_title_letters_removal(x):\n",
    "    #print 'coming', x\n",
    "    t = x.strip('  ')\n",
    "    if(len(t)) == 0:\n",
    "        return None\n",
    "    \n",
    "    if(len(x) > 0):\n",
    "        #s = x.strip()\n",
    "        s = remove_non_chinese(x)\n",
    "        if len(s) > 0 and s not in huizhou_stop_words:\n",
    "            return s.strip()\n",
    "        else:\n",
    "            return None\n",
    "    return None"
   ]
  },
  {
   "cell_type": "code",
   "execution_count": null,
   "metadata": {
    "collapsed": true
   },
   "outputs": [],
   "source": []
  },
  {
   "cell_type": "code",
   "execution_count": 205,
   "metadata": {
    "collapsed": true
   },
   "outputs": [],
   "source": [
    "#calculate count using Counter\n",
    "def map_document_word_cnt(x):\n",
    "    n = 800\n",
    "    del_cnt = 0\n",
    "    count = Counter(x.decode('utf-8').split())\n",
    "    top_n = count.most_common (n)\n",
    "    words, cnt = zip(*top_n)\n",
    "    for word in words:\n",
    "        ret = ch_title_letters_removal(word)\n",
    "        if ret == None or len(ret) == 0:\n",
    "            del count[word]\n",
    "            del_cnt +=1\n",
    "\n",
    "    print 'deleted cnt', del_cnt\n",
    "    top_n = count.most_common (200)\n",
    "    return top_n"
   ]
  },
  {
   "cell_type": "code",
   "execution_count": 204,
   "metadata": {
    "collapsed": true
   },
   "outputs": [],
   "source": [
    "ret = map_document_word_cnt(df.iloc[2]['content_seg'])\n",
    "\n",
    "for t in ret:\n",
    "    print t[0], t[1]"
   ]
  },
  {
   "cell_type": "code",
   "execution_count": 177,
   "metadata": {
    "collapsed": true
   },
   "outputs": [],
   "source": [
    "top_n = count.most_common(400)\n",
    "print dict(top_n)"
   ]
  },
  {
   "cell_type": "code",
   "execution_count": 17,
   "metadata": {
    "collapsed": true
   },
   "outputs": [],
   "source": [
    "global idx\n",
    "idx = 0\n",
    "def map_words_fq(x, normalize=True): \n",
    "    global idx\n",
    "    print idx\n",
    "    idx += 1\n",
    "    s = x.decode('utf-8').split()\n",
    "    #print 'vect ---', len(s), s\n",
    "    ret = [ch_title_letters_removal(item) for item in s if len(item) > 0 and ch_title_letters_removal(item) != None]\n",
    "    #print 'ret ---', ret, len(ret)\n",
    "    count = Counter(x)\n",
    "    \n",
    "    #print 'count', len(count)\n",
    "    \n",
    "    top_N = count.most_common(100)\n",
    "        \n",
    "    words, cnt = zip(*top_N)\n",
    "    tot = sum(cnt)\n",
    "    hz_fq = [float(i)*1.0/tot for i in cnt]\n",
    "    dictionary = dict(zip(words, hz_fq))\n",
    "        \n",
    "    #print 'top_100', len(top_100)\n",
    "    \n",
    "    if len(top_N) > 0:\n",
    "        #print 'going ---'\n",
    "        #*words, cnt = zip(*top_200)\n",
    "        #return dict(zip(words, cnt))\n",
    "        return dictionary\n",
    "    else:\n",
    "        #print 'warning'\n",
    "        return None"
   ]
  },
  {
   "cell_type": "code",
   "execution_count": 20,
   "metadata": {
    "collapsed": true
   },
   "outputs": [],
   "source": [
    "def map_word2vec_centroid(x):\n",
    "    global model\n",
    "    x = x.items() #dict to tuple\n",
    "    # remove out-of-vocabulary words\n",
    "    doc = [(word, fq) for word, fq in x if word in model.vocab]   \n",
    "    if len(doc) == 0:\n",
    "        #print x\n",
    "        return None\n",
    "    #words, fq = zip(*doc)\n",
    "    ret = [model[x] * y for x, y in doc]\n",
    "    \n",
    "    val = np.mean(ret, axis=0)\n",
    "    #print ret\n",
    "    \n",
    "    #doc = [word for word in doc if word in word2vec_model.vocab]\n",
    "    return val"
   ]
  },
  {
   "cell_type": "code",
   "execution_count": null,
   "metadata": {
    "collapsed": true
   },
   "outputs": [],
   "source": [
    "def map_words_fq(x):\n",
    "    s = x.split()\n",
    "    ret = [dsi_title_letters_removal(item) for item in s if dsi_title_letters_removal(item) != None]\n",
    "    count = Counter(ret)\n",
    "    top_N = count.most_common(100)\n",
    "    if len(top_N) > 0:\n",
    "        words, cnt = zip(*top_N)\n",
    "        tot = sum(cnt)\n",
    "        dsi_fq = [float(i)*1.0/tot for i in cnt]\n",
    "        dictionary = dict(zip(words, dsi_fq))\n",
    "        #print ret\n",
    "        return dictionary\n",
    "    else:\n",
    "        return None"
   ]
  },
  {
   "cell_type": "code",
   "execution_count": 26,
   "metadata": {
    "collapsed": true
   },
   "outputs": [],
   "source": [
    "def map_unserialize (x, eval_val = False):\n",
    "    #print '----- in'\n",
    "    #print x\n",
    "    d = dict()\n",
    "    s = x.strip('{}')\n",
    "    #s = s.strip('[]')\n",
    "    ret = s.split(',')\n",
    "    \n",
    "    #print ret\n",
    "    for t in ret:\n",
    "        r = t.split(':')\n",
    "        #print r[0], r[1]\n",
    "        key = eval(r[0].decode('utf-8'))\n",
    "        d[key] = float(r[1])\n",
    "    #print len(ret)\n",
    "    #print 'split -----'\n",
    "    #print ' '.join(ret)\n",
    "    return d"
   ]
  },
  {
   "cell_type": "code",
   "execution_count": 30,
   "metadata": {
    "collapsed": true
   },
   "outputs": [],
   "source": [
    "df = df.dropna(subset =['s_vec'])"
   ]
  },
  {
   "cell_type": "code",
   "execution_count": 149,
   "metadata": {
    "collapsed": true
   },
   "outputs": [],
   "source": [
    "df.info()"
   ]
  },
  {
   "cell_type": "code",
   "execution_count": null,
   "metadata": {
    "collapsed": true
   },
   "outputs": [],
   "source": []
  },
  {
   "cell_type": "code",
   "execution_count": 31,
   "metadata": {},
   "outputs": [],
   "source": [
    "t0 = time()\n",
    "df['words_fq'] = df.s_vec.map(lambda x: map_unserialize(x))\n",
    "print time() - t0 "
   ]
  },
  {
   "cell_type": "code",
   "execution_count": 32,
   "metadata": {},
   "outputs": [
    {
     "data": {
      "text/plain": [
       "14.318769931793213"
      ]
     },
     "execution_count": 32,
     "metadata": {},
     "output_type": "execute_result"
    }
   ],
   "source": [
    "t0 = time()\n",
    "df['w2v_centroid'] = df.words_fq.map(lambda x: map_word2vec_centroid(x))\n",
    "time() - t0"
   ]
  },
  {
   "cell_type": "code",
   "execution_count": 35,
   "metadata": {
    "collapsed": true
   },
   "outputs": [],
   "source": [
    "df['content_len'] = df['content_seg'].str.len()"
   ]
  },
  {
   "cell_type": "code",
   "execution_count": 36,
   "metadata": {
    "collapsed": true
   },
   "outputs": [],
   "source": [
    "import matplotlib \n",
    "import matplotlib.pyplot as plt\n",
    "%matplotlib inline "
   ]
  },
  {
   "cell_type": "code",
   "execution_count": 37,
   "metadata": {},
   "outputs": [
    {
     "data": {
      "text/plain": [
       "<matplotlib.text.Text at 0x132f59650>"
      ]
     },
     "execution_count": 37,
     "metadata": {},
     "output_type": "execute_result"
    },
    {
     "data": {
      "image/png": "[encoded data removed]",
      "text/plain": [
       "<matplotlib.figure.Figure at 0x15a7f38d0>"
      ]
     },
     "metadata": {},
     "output_type": "display_data"
    }
   ],
   "source": [
    "df['content_len'].hist(bins=500, figsize= (16, 6))\n",
    "plt.title('Content Length Histogram')\n",
    "plt.xlabel('Length')\n",
    "plt.ylabel('Count')"
   ]
  },
  {
   "cell_type": "code",
   "execution_count": 49,
   "metadata": {
    "collapsed": true
   },
   "outputs": [],
   "source": [
    "test = df[df['content_len'] < 150]"
   ]
  },
  {
   "cell_type": "code",
   "execution_count": 50,
   "metadata": {
    "collapsed": true
   },
   "outputs": [],
   "source": [
    "test.info()"
   ]
  },
  {
   "cell_type": "code",
   "execution_count": 51,
   "metadata": {
    "collapsed": true
   },
   "outputs": [],
   "source": [
    "for t in test['content']:\n",
    "    print t"
   ]
  },
  {
   "cell_type": "code",
   "execution_count": 52,
   "metadata": {
    "collapsed": true
   },
   "outputs": [],
   "source": [
    "df = df[df['content_len'] >= 150]"
   ]
  },
  {
   "cell_type": "code",
   "execution_count": 53,
   "metadata": {
    "collapsed": true
   },
   "outputs": [],
   "source": [
    "df.info()"
   ]
  },
  {
   "cell_type": "code",
   "execution_count": 54,
   "metadata": {
    "collapsed": true
   },
   "outputs": [],
   "source": [
    "def get_cosine2(vec1, vec2):\n",
    "    \n",
    "    sum1 = np.sum([vec1**2])\n",
    "    sum2 = np.sum([vec2**2])\n",
    "    numerator = np.sum([a*b for a,b in zip(vec1,vec2)])\n",
    "    denominator = math.sqrt(sum1) * math.sqrt(sum2)\n",
    "\n",
    "    if not denominator:\n",
    "        return 0.0\n",
    "    else:\n",
    "        return float(numerator) / denominator"
   ]
  },
  {
   "cell_type": "code",
   "execution_count": 162,
   "metadata": {},
   "outputs": [],
   "source": [
    "t0 = time()\n",
    "hz_vec = model[u'徽州']*0.3 + model[u'文化']*0.3 + model[u'徽文化']*0.4\n",
    "df['hzwh_w2v_sim'] = df.w2v_centroid.map(lambda x: get_cosine2(hz_vec, x))\n",
    "print time() - t0"
   ]
  },
  {
   "cell_type": "code",
   "execution_count": 163,
   "metadata": {
    "collapsed": true
   },
   "outputs": [],
   "source": [
    "hz_sim = df['hzwh_w2v_sim'].values.argsort()[::-1]"
   ]
  },
  {
   "cell_type": "code",
   "execution_count": 164,
   "metadata": {},
   "outputs": [],
   "source": [
    "idx = 0\n",
    "for i in hz_sim:\n",
    "    if df.iloc[i]['hzwh_w2v_sim'] > 0.80 and idx < 10:\n",
    "        title = df.iloc[i]['title']\n",
    "        content = df.iloc[i]['summary']\n",
    "        sim_val = df.iloc[i]['hzwh_w2v_sim']\n",
    "        idx += 1\n",
    "        print idx, i, title, sim_val\n",
    "        print  df.iloc[i]['url']\n",
    "        print content\n",
    "        print '--------------'"
   ]
  },
  {
   "cell_type": "code",
   "execution_count": 140,
   "metadata": {},
   "outputs": [
    {
     "data": {
      "text/plain": [
       "<matplotlib.text.Text at 0x13350ef90>"
      ]
     },
     "execution_count": 140,
     "metadata": {},
     "output_type": "execute_result"
    },
    {
     "data": {
      "image/png": "[encoded data removed]",
      "text/plain": [
       "<matplotlib.figure.Figure at 0x13335f1d0>"
      ]
     },
     "metadata": {},
     "output_type": "display_data"
    }
   ],
   "source": [
    "df['hzwh_w2v_sim'].hist(bins=500, figsize= (16, 6))\n",
    "plt.title('Huizhou W2V Similiarity Histogram')\n",
    "plt.xlabel('Similarity')\n",
    "plt.ylabel('Count')"
   ]
  },
  {
   "cell_type": "code",
   "execution_count": 109,
   "metadata": {
    "collapsed": true
   },
   "outputs": [],
   "source": [
    "t0 = time()\n",
    "hz_vec = model[u'徽派']*0.5 + model[u'建筑']*0.5\n",
    "df['hzjz_w2v_sim'] = df.w2v_centroid.map(lambda x: get_cosine2(hz_vec, x))\n",
    "print time() - t0"
   ]
  },
  {
   "cell_type": "code",
   "execution_count": 110,
   "metadata": {
    "collapsed": true
   },
   "outputs": [],
   "source": [
    "hz_sim = df['hzjz_w2v_sim'].values.argsort()[::-1]"
   ]
  },
  {
   "cell_type": "code",
   "execution_count": 111,
   "metadata": {},
   "outputs": [
    {
     "data": {
      "text/plain": [
       "0.94869370513492457"
      ]
     },
     "execution_count": 111,
     "metadata": {},
     "output_type": "execute_result"
    }
   ],
   "source": [
    "df['hwh_w2v_sim'].max()"
   ]
  },
  {
   "cell_type": "code",
   "execution_count": 112,
   "metadata": {
    "collapsed": true
   },
   "outputs": [],
   "source": [
    "idx = 0\n",
    "for i in hz_sim:\n",
    "    if df.iloc[i]['hzjz_w2v_sim'] > 0.80 and idx < 10:\n",
    "        title = df.iloc[i]['title']\n",
    "        content = df.iloc[i]['summary']\n",
    "        sim_val = df.iloc[i]['hzjz_w2v_sim']\n",
    "        idx += 1\n",
    "        print idx, i, title, sim_val\n",
    "        print  df.iloc[i]['url']\n",
    "        print content\n",
    "        print '--------------'"
   ]
  },
  {
   "cell_type": "code",
   "execution_count": 141,
   "metadata": {},
   "outputs": [
    {
     "data": {
      "text/plain": [
       "<matplotlib.text.Text at 0x15ab2d310>"
      ]
     },
     "execution_count": 141,
     "metadata": {},
     "output_type": "execute_result"
    },
    {
     "data": {
      "image/png": "[encoded data removed]",
      "text/plain": [
       "<matplotlib.figure.Figure at 0x133383310>"
      ]
     },
     "metadata": {},
     "output_type": "display_data"
    }
   ],
   "source": [
    "df['hzjz_w2v_sim'].hist(bins=500, figsize= (16, 6))\n",
    "plt.title('Huizhou W2V Similiarity Histogram')\n",
    "plt.xlabel('Similarity')\n",
    "plt.ylabel('Count')"
   ]
  },
  {
   "cell_type": "code",
   "execution_count": null,
   "metadata": {
    "collapsed": true
   },
   "outputs": [],
   "source": []
  },
  {
   "cell_type": "code",
   "execution_count": 117,
   "metadata": {
    "collapsed": true
   },
   "outputs": [],
   "source": [
    "t0 = time()\n",
    "hz_vec = model[u'徽州']*0.4 + model[u'继承']*0.3 + model[u'遗产']*0.3\n",
    "df['ycjc_w2v_sim'] = df.w2v_centroid.map(lambda x: get_cosine2(hz_vec, x))\n",
    "print time() - t0"
   ]
  },
  {
   "cell_type": "code",
   "execution_count": 118,
   "metadata": {},
   "outputs": [
    {
     "data": {
      "text/plain": [
       "0.87542787530758581"
      ]
     },
     "execution_count": 118,
     "metadata": {},
     "output_type": "execute_result"
    }
   ],
   "source": [
    "df['ycjc_w2v_sim'].max()"
   ]
  },
  {
   "cell_type": "code",
   "execution_count": 119,
   "metadata": {},
   "outputs": [],
   "source": [
    "hz_sim = df['ycjc_w2v_sim'].values.argsort()[::-1]"
   ]
  },
  {
   "cell_type": "code",
   "execution_count": 120,
   "metadata": {
    "collapsed": true
   },
   "outputs": [],
   "source": [
    "idx = 0\n",
    "for i in hz_sim:\n",
    "    if df.iloc[i]['ycjc_w2v_sim'] > 0.50 and idx < 10:\n",
    "        title = df.iloc[i]['title']\n",
    "        content = df.iloc[i]['summary']\n",
    "        sim_val = df.iloc[i]['ycjc_w2v_sim']\n",
    "        idx += 1\n",
    "        print idx, i, title, sim_val\n",
    "        print  df.iloc[i]['url']\n",
    "        print content\n",
    "        print '--------------'"
   ]
  },
  {
   "cell_type": "code",
   "execution_count": 142,
   "metadata": {},
   "outputs": [
    {
     "data": {
      "text/plain": [
       "<matplotlib.text.Text at 0x15b916750>"
      ]
     },
     "execution_count": 142,
     "metadata": {},
     "output_type": "execute_result"
    },
    {
     "data": {
      "image/png": "[encoded data removed]",
      "text/plain": [
       "<matplotlib.figure.Figure at 0x11cbcc1d0>"
      ]
     },
     "metadata": {},
     "output_type": "display_data"
    }
   ],
   "source": [
    "df['ycjc_w2v_sim'].hist(bins=500, figsize= (16, 6))\n",
    "plt.title('Huizhou W2V Similiarity Histogram')\n",
    "plt.xlabel('Similarity')\n",
    "plt.ylabel('Count')"
   ]
  },
  {
   "cell_type": "code",
   "execution_count": null,
   "metadata": {
    "collapsed": true
   },
   "outputs": [],
   "source": []
  },
  {
   "cell_type": "code",
   "execution_count": 121,
   "metadata": {
    "collapsed": true
   },
   "outputs": [],
   "source": [
    "t0 = time()\n",
    "hz_vec = model[u'徽州']*0.5 + model[u'雕刻']*0.5\n",
    "df['hzdk_w2v_sim'] = df.w2v_centroid.map(lambda x: get_cosine2(hz_vec, x))\n",
    "print time() - t0"
   ]
  },
  {
   "cell_type": "code",
   "execution_count": 122,
   "metadata": {
    "collapsed": true
   },
   "outputs": [],
   "source": [
    "hz_sim = df['hzdk_w2v_sim'].values.argsort()[::-1]"
   ]
  },
  {
   "cell_type": "code",
   "execution_count": 123,
   "metadata": {
    "collapsed": true
   },
   "outputs": [],
   "source": [
    "idx = 0\n",
    "for i in hz_sim:\n",
    "    if df.iloc[i]['hzdk_w2v_sim'] > 0.50 and idx < 10:\n",
    "        title = df.iloc[i]['title']\n",
    "        content = df.iloc[i]['summary']\n",
    "        sim_val = df.iloc[i]['hzdk_w2v_sim']\n",
    "        idx += 1\n",
    "        print idx, i, title, sim_val\n",
    "        print  df.iloc[i]['url']\n",
    "        print content\n",
    "        print '--------------'"
   ]
  },
  {
   "cell_type": "code",
   "execution_count": 143,
   "metadata": {},
   "outputs": [
    {
     "data": {
      "text/plain": [
       "<matplotlib.text.Text at 0x15c620c90>"
      ]
     },
     "execution_count": 143,
     "metadata": {},
     "output_type": "execute_result"
    },
    {
     "data": {
      "image/png": "[encoded data removed]",
      "text/plain": [
       "<matplotlib.figure.Figure at 0x15b6069d0>"
      ]
     },
     "metadata": {},
     "output_type": "display_data"
    }
   ],
   "source": [
    "df['hzdk_w2v_sim'].hist(bins=500, figsize= (16, 6))\n",
    "plt.title('Huizhou W2V Similiarity Histogram')\n",
    "plt.xlabel('Similarity')\n",
    "plt.ylabel('Count')"
   ]
  },
  {
   "cell_type": "code",
   "execution_count": null,
   "metadata": {
    "collapsed": true
   },
   "outputs": [],
   "source": []
  },
  {
   "cell_type": "code",
   "execution_count": 124,
   "metadata": {
    "collapsed": true
   },
   "outputs": [],
   "source": [
    "t0 = time()\n",
    "hz_vec = model[u'徽派']*0.5 + model[u'艺术']*0.5\n",
    "df['hpys_w2v_sim'] = df.w2v_centroid.map(lambda x: get_cosine2(hz_vec, x))\n",
    "print time() - t0"
   ]
  },
  {
   "cell_type": "code",
   "execution_count": 125,
   "metadata": {
    "collapsed": true
   },
   "outputs": [],
   "source": [
    "hz_sim = df['hpys_w2v_sim'].values.argsort()[::-1]"
   ]
  },
  {
   "cell_type": "code",
   "execution_count": 126,
   "metadata": {
    "collapsed": true
   },
   "outputs": [],
   "source": [
    "idx = 0\n",
    "for i in hz_sim:\n",
    "    if df.iloc[i]['hpys_w2v_sim'] > 0.50 and idx < 10:\n",
    "        title = df.iloc[i]['title']\n",
    "        content = df.iloc[i]['summary']\n",
    "        sim_val = df.iloc[i]['hpys_w2v_sim']\n",
    "        idx += 1\n",
    "        print idx, i, title, sim_val\n",
    "        print  df.iloc[i]['url']\n",
    "        print content\n",
    "        print '--------------'"
   ]
  },
  {
   "cell_type": "code",
   "execution_count": 144,
   "metadata": {},
   "outputs": [
    {
     "data": {
      "text/plain": [
       "<matplotlib.text.Text at 0x15d36c110>"
      ]
     },
     "execution_count": 144,
     "metadata": {},
     "output_type": "execute_result"
    },
    {
     "data": {
      "image/png": "[encoded data removed]",
      "text/plain": [
       "<matplotlib.figure.Figure at 0x15b528bd0>"
      ]
     },
     "metadata": {},
     "output_type": "display_data"
    }
   ],
   "source": [
    "df['hpys_w2v_sim'].hist(bins=500, figsize= (16, 6))\n",
    "plt.title('Huizhou W2V Similiarity Histogram')\n",
    "plt.xlabel('Similarity')\n",
    "plt.ylabel('Count')"
   ]
  },
  {
   "cell_type": "code",
   "execution_count": null,
   "metadata": {
    "collapsed": true
   },
   "outputs": [],
   "source": []
  },
  {
   "cell_type": "code",
   "execution_count": 127,
   "metadata": {
    "collapsed": true
   },
   "outputs": [],
   "source": [
    "t0 = time()\n",
    "hz_vec = model[u'徽剧']*0.5 + model[u'徽菜']*0.5\n",
    "df['hjhc_w2v_sim'] = df.w2v_centroid.map(lambda x: get_cosine2(hz_vec, x))\n",
    "print time() - t0"
   ]
  },
  {
   "cell_type": "code",
   "execution_count": 128,
   "metadata": {
    "collapsed": true
   },
   "outputs": [],
   "source": [
    "hz_sim = df['hjhc_w2v_sim'].values.argsort()[::-1]"
   ]
  },
  {
   "cell_type": "code",
   "execution_count": 130,
   "metadata": {
    "collapsed": true
   },
   "outputs": [],
   "source": [
    "idx = 0\n",
    "for i in hz_sim:\n",
    "    if df.iloc[i]['hjhc_w2v_sim'] > 0.50 and idx < 50:\n",
    "        title = df.iloc[i]['title']\n",
    "        content = df.iloc[i]['summary']\n",
    "        sim_val = df.iloc[i]['hjhc_w2v_sim']\n",
    "        idx += 1\n",
    "        print idx, i, title, sim_val\n",
    "        print  df.iloc[i]['url']\n",
    "        print content\n",
    "        print '--------------'"
   ]
  },
  {
   "cell_type": "code",
   "execution_count": 145,
   "metadata": {},
   "outputs": [
    {
     "data": {
      "text/plain": [
       "<matplotlib.text.Text at 0x15e094390>"
      ]
     },
     "execution_count": 145,
     "metadata": {},
     "output_type": "execute_result"
    },
    {
     "data": {
      "image/png": "[encoded data removed]",
      "text/plain": [
       "<matplotlib.figure.Figure at 0x15be3f910>"
      ]
     },
     "metadata": {},
     "output_type": "display_data"
    }
   ],
   "source": [
    "df['hjhc_w2v_sim'].hist(bins=500, figsize= (16, 6))\n",
    "plt.title('Huizhou W2V Similiarity Histogram')\n",
    "plt.xlabel('Similarity')\n",
    "plt.ylabel('Count')"
   ]
  },
  {
   "cell_type": "code",
   "execution_count": null,
   "metadata": {
    "collapsed": true
   },
   "outputs": [],
   "source": []
  },
  {
   "cell_type": "code",
   "execution_count": 131,
   "metadata": {
    "collapsed": true
   },
   "outputs": [],
   "source": [
    "t0 = time()\n",
    "hz_vec = model[u'徽商']\n",
    "df['hs_w2v_sim'] = df.w2v_centroid.map(lambda x: get_cosine2(hz_vec, x))\n",
    "print time() - t0"
   ]
  },
  {
   "cell_type": "code",
   "execution_count": 132,
   "metadata": {
    "collapsed": true
   },
   "outputs": [],
   "source": [
    "hz_sim = df['hs_w2v_sim'].values.argsort()[::-1]"
   ]
  },
  {
   "cell_type": "code",
   "execution_count": 133,
   "metadata": {
    "collapsed": true
   },
   "outputs": [],
   "source": [
    "idx = 0\n",
    "for i in hz_sim:\n",
    "    if df.iloc[i]['hs_w2v_sim'] > 0.50 and idx < 50:\n",
    "        title = df.iloc[i]['title']\n",
    "        content = df.iloc[i]['summary']\n",
    "        sim_val = df.iloc[i]['hs_w2v_sim']\n",
    "        idx += 1\n",
    "        print idx, i, title, sim_val\n",
    "        print  df.iloc[i]['url']\n",
    "        print content\n",
    "        print '--------------'"
   ]
  },
  {
   "cell_type": "code",
   "execution_count": 146,
   "metadata": {},
   "outputs": [
    {
     "data": {
      "text/plain": [
       "<matplotlib.text.Text at 0x15ee22310>"
      ]
     },
     "execution_count": 146,
     "metadata": {},
     "output_type": "execute_result"
    },
    {
     "data": {
      "image/png": "[encoded data removed]",
      "text/plain": [
       "<matplotlib.figure.Figure at 0x15c2f9350>"
      ]
     },
     "metadata": {},
     "output_type": "display_data"
    }
   ],
   "source": [
    "df['hs_w2v_sim'].hist(bins=500, figsize= (16, 6))\n",
    "plt.title('Huizhou W2V Similiarity Histogram')\n",
    "plt.xlabel('Similarity')\n",
    "plt.ylabel('Count')"
   ]
  },
  {
   "cell_type": "code",
   "execution_count": null,
   "metadata": {
    "collapsed": true
   },
   "outputs": [],
   "source": []
  },
  {
   "cell_type": "code",
   "execution_count": 134,
   "metadata": {
    "collapsed": true
   },
   "outputs": [],
   "source": [
    "t0 = time()\n",
    "hz_vec = model[u'新安']*0.5 + model[u'理学']*0.5\n",
    "df['xalx_w2v_sim'] = df.w2v_centroid.map(lambda x: get_cosine2(hz_vec, x))\n",
    "print time() - t0"
   ]
  },
  {
   "cell_type": "code",
   "execution_count": 135,
   "metadata": {
    "collapsed": true
   },
   "outputs": [],
   "source": [
    "hz_sim = df['xalx_w2v_sim'].values.argsort()[::-1]"
   ]
  },
  {
   "cell_type": "code",
   "execution_count": 136,
   "metadata": {
    "collapsed": true
   },
   "outputs": [],
   "source": [
    "idx = 0\n",
    "for i in hz_sim:\n",
    "    if df.iloc[i]['xalx_w2v_sim'] > 0.50 and idx < 50:\n",
    "        title = df.iloc[i]['title']\n",
    "        content = df.iloc[i]['summary']\n",
    "        sim_val = df.iloc[i]['xalx_w2v_sim']\n",
    "        idx += 1\n",
    "        print idx, i, title, sim_val\n",
    "        print  df.iloc[i]['url']\n",
    "        print content\n",
    "        print '--------------'"
   ]
  },
  {
   "cell_type": "code",
   "execution_count": 147,
   "metadata": {},
   "outputs": [
    {
     "data": {
      "text/plain": [
       "<matplotlib.text.Text at 0x15fabe6d0>"
      ]
     },
     "execution_count": 147,
     "metadata": {},
     "output_type": "execute_result"
    },
    {
     "data": {
      "image/png": "[encoded data removed]",
      "text/plain": [
       "<matplotlib.figure.Figure at 0x15dd1c1d0>"
      ]
     },
     "metadata": {},
     "output_type": "display_data"
    }
   ],
   "source": [
    "df['xalx_w2v_sim'].hist(bins=500, figsize= (16, 6))\n",
    "plt.title('Huizhou W2V Similiarity Histogram')\n",
    "plt.xlabel('Similarity')\n",
    "plt.ylabel('Count')"
   ]
  },
  {
   "cell_type": "code",
   "execution_count": null,
   "metadata": {
    "collapsed": true
   },
   "outputs": [],
   "source": []
  },
  {
   "cell_type": "code",
   "execution_count": 137,
   "metadata": {
    "collapsed": true
   },
   "outputs": [],
   "source": [
    "t0 = time()\n",
    "hz_vec = model[u'徽学']*0.5 + model[u'研究']*0.5\n",
    "df['hxyj_w2v_sim'] = df.w2v_centroid.map(lambda x: get_cosine2(hz_vec, x))\n",
    "print time() - t0"
   ]
  },
  {
   "cell_type": "code",
   "execution_count": 138,
   "metadata": {
    "collapsed": true
   },
   "outputs": [],
   "source": [
    "hz_sim = df['hxyj_w2v_sim'].values.argsort()[::-1]"
   ]
  },
  {
   "cell_type": "code",
   "execution_count": 139,
   "metadata": {
    "collapsed": true
   },
   "outputs": [],
   "source": [
    "idx = 0\n",
    "for i in hz_sim:\n",
    "    if df.iloc[i]['hxyj_w2v_sim'] > 0.50 and idx < 50:\n",
    "        title = df.iloc[i]['title']\n",
    "        content = df.iloc[i]['summary']\n",
    "        sim_val = df.iloc[i]['hxyj_w2v_sim']\n",
    "        idx += 1\n",
    "        print idx, i, title, sim_val\n",
    "        print  df.iloc[i]['url']\n",
    "        print content\n",
    "        print '--------------'"
   ]
  },
  {
   "cell_type": "code",
   "execution_count": 148,
   "metadata": {},
   "outputs": [
    {
     "data": {
      "text/plain": [
       "<matplotlib.text.Text at 0x1607d8250>"
      ]
     },
     "execution_count": 148,
     "metadata": {},
     "output_type": "execute_result"
    },
    {
     "data": {
      "image/png": "[encoded data removed]",
      "text/plain": [
       "<matplotlib.figure.Figure at 0x15dd2e9d0>"
      ]
     },
     "metadata": {},
     "output_type": "display_data"
    }
   ],
   "source": [
    "df['hxyj_w2v_sim'].hist(bins=500, figsize= (16, 6))\n",
    "plt.title('Huizhou W2V Similiarity Histogram')\n",
    "plt.xlabel('Similarity')\n",
    "plt.ylabel('Count')"
   ]
  },
  {
   "cell_type": "code",
   "execution_count": 169,
   "metadata": {
    "collapsed": true
   },
   "outputs": [],
   "source": [
    "df.info()"
   ]
  },
  {
   "cell_type": "code",
   "execution_count": 168,
   "metadata": {},
   "outputs": [],
   "source": [
    "df = df.drop_duplicates(['s_vec'])"
   ]
  },
  {
   "cell_type": "code",
   "execution_count": null,
   "metadata": {
    "collapsed": true
   },
   "outputs": [],
   "source": []
  },
  {
   "cell_type": "code",
   "execution_count": 158,
   "metadata": {
    "collapsed": true
   },
   "outputs": [],
   "source": [
    "def map_serialize(x):\n",
    "    #print len(x)\n",
    "    ret = []\n",
    "    idx = 0\n",
    "    for v in x:\n",
    "        #print idx, v\n",
    "        ret.append(str(v))\n",
    "        idx += 1\n",
    "    #print ret\n",
    "    return ','.join(ret)"
   ]
  },
  {
   "cell_type": "code",
   "execution_count": 159,
   "metadata": {
    "collapsed": true
   },
   "outputs": [],
   "source": [
    "df['w2v_centroid_s'] = df.w2v_centroid.map(lambda x: map_serialize(x))"
   ]
  },
  {
   "cell_type": "code",
   "execution_count": 171,
   "metadata": {},
   "outputs": [
    {
     "data": {
      "text/html": [
       "<div>\n",
       "<table border=\"1\" class=\"dataframe\">\n",
       "  <thead>\n",
       "    <tr style=\"text-align: right;\">\n",
       "      <th></th>\n",
       "      <th>url</th>\n",
       "      <th>title</th>\n",
       "      <th>summary</th>\n",
       "      <th>content</th>\n",
       "      <th>content_seg</th>\n",
       "      <th>s_vec</th>\n",
       "      <th>domain</th>\n",
       "      <th>words_fq</th>\n",
       "      <th>w2v_centroid</th>\n",
       "      <th>content_len</th>\n",
       "      <th>...</th>\n",
       "      <th>hzwh_w2v_sim</th>\n",
       "      <th>hzjz_w2v_sim</th>\n",
       "      <th>ycjc_w2v_sim</th>\n",
       "      <th>hzdk_w2v_sim</th>\n",
       "      <th>hpys_w2v_sim</th>\n",
       "      <th>hjhc_w2v_sim</th>\n",
       "      <th>hs_w2v_sim</th>\n",
       "      <th>xalx_w2v_sim</th>\n",
       "      <th>hxyj_w2v_sim</th>\n",
       "      <th>w2v_centroid_s</th>\n",
       "    </tr>\n",
       "  </thead>\n",
       "  <tbody>\n",
       "    <tr>\n",
       "      <th>0</th>\n",
       "      <td>http://cul.anhuinews.com/system/2016/11/28/007...</td>\n",
       "      <td>洪建华夫妇的竹刻人生</td>\n",
       "      <td>。不久前，我们几名政协委员应邀到正在建设中的黄山市徽派雕刻博物馆参观考察时，洪建华一边介绍新...</td>\n",
       "      <td>谁能想到，洪建华夫妇这对一无学历、二无家传、三无师承的“三无大师”成了省级非物质文化遗产·徽...</td>\n",
       "      <td>谁 能 想到 ， 洪 建华 夫妇 这 对 一 无 学历 、 二 无 家传 、 三无 师承 的...</td>\n",
       "      <td>{u'竹木': 0.0114285714286, u'洪': 0.0571428571429...</td>\n",
       "      <td>anhuinews.com</td>\n",
       "      <td>{u'竹木': 0.0114285714286, u'洪': 0.0571428571429...</td>\n",
       "      <td>[-0.0060236, -0.0103621, 0.00755846, -0.000569...</td>\n",
       "      <td>10703</td>\n",
       "      <td>...</td>\n",
       "      <td>0.463720</td>\n",
       "      <td>0.567314</td>\n",
       "      <td>0.573373</td>\n",
       "      <td>0.633446</td>\n",
       "      <td>0.680938</td>\n",
       "      <td>0.424617</td>\n",
       "      <td>0.311315</td>\n",
       "      <td>0.397321</td>\n",
       "      <td>0.291379</td>\n",
       "      <td>-0.0060236,-0.0103621,0.00755846,-0.000569638,...</td>\n",
       "    </tr>\n",
       "    <tr>\n",
       "      <th>1</th>\n",
       "      <td>http://cul.anhuinews.com/system/2016/11/21/007...</td>\n",
       "      <td>徽州民歌传人操明花校园授艺</td>\n",
       "      <td>。“磨米磨麦，磨米磨麦……”随着教室里传来一阵阵悦耳动听的方言民歌声，操明花正兴致勃勃地教同...</td>\n",
       "      <td>近日，省非物质文化遗产徽州民歌传承人操明花前往休宁县海阳二小、歙县城关小学和徽州区岩寺镇中心...</td>\n",
       "      <td>近日 ， 省非 物质 文化遗产 徽州 民歌 传承 人操 明花 前往 休宁县 海阳 二小 、 ...</td>\n",
       "      <td>{u'它': 0.0123456790123, u'原生态': 0.012345679012...</td>\n",
       "      <td>anhuinews.com</td>\n",
       "      <td>{u'它': 0.0123456790123, u'原生态': 0.012345679012...</td>\n",
       "      <td>[-0.0107781, 0.0129855, 0.00413211, 0.00171845...</td>\n",
       "      <td>1264</td>\n",
       "      <td>...</td>\n",
       "      <td>0.565720</td>\n",
       "      <td>0.358653</td>\n",
       "      <td>0.557331</td>\n",
       "      <td>0.468289</td>\n",
       "      <td>0.517698</td>\n",
       "      <td>0.438723</td>\n",
       "      <td>0.306038</td>\n",
       "      <td>0.308822</td>\n",
       "      <td>0.250730</td>\n",
       "      <td>-0.0107781,0.0129855,0.00413211,0.00171845,-0....</td>\n",
       "    </tr>\n",
       "    <tr>\n",
       "      <th>2</th>\n",
       "      <td>http://cul.anhuinews.com/system/2016/11/03/007...</td>\n",
       "      <td>黄山楹联漫谈</td>\n",
       "      <td>。黄山雄伟奇丽、气势非凡，原省文联主席赖少其说，非有大手笔，不能画黄山。有“二联”站得高，看...</td>\n",
       "      <td>黄山楹联第一人当推明朝诗人余绍祉。他遍历祖国名山大川，见到无数奇峰怪石，却感到抵不上黄山峰林...</td>\n",
       "      <td>黄山 楹联 第一 人当 推 明朝 诗人 余绍祉 。 他 遍历 祖国 名山大川 ， 见到 无数...</td>\n",
       "      <td>{u'气派': 0.0123456790123, u'名句': 0.012345679012...</td>\n",
       "      <td>anhuinews.com</td>\n",
       "      <td>{u'气派': 0.0123456790123, u'名句': 0.012345679012...</td>\n",
       "      <td>[-0.0120081, -0.0145887, 0.0144744, -0.0120817...</td>\n",
       "      <td>2028</td>\n",
       "      <td>...</td>\n",
       "      <td>0.255002</td>\n",
       "      <td>0.260202</td>\n",
       "      <td>0.269191</td>\n",
       "      <td>0.340901</td>\n",
       "      <td>0.296441</td>\n",
       "      <td>0.235815</td>\n",
       "      <td>0.191698</td>\n",
       "      <td>0.246864</td>\n",
       "      <td>0.182968</td>\n",
       "      <td>-0.0120081,-0.0145887,0.0144744,-0.0120817,-0....</td>\n",
       "    </tr>\n",
       "    <tr>\n",
       "      <th>3</th>\n",
       "      <td>http://cul.anhuinews.com/system/2016/01/26/007...</td>\n",
       "      <td>徽派雕刻——徽州木雕艺术</td>\n",
       "      <td>徽州民居、家具木板和圆木雕刻艺术的简称。木雕在旧属徽州各县分布之广在全国屈指可数，宅院内的屏...</td>\n",
       "      <td>徽州民居、家具木板和圆木雕刻艺术的简称。木雕在旧属徽州各县分布之广在全国屈指可数，宅院内的屏...</td>\n",
       "      <td>徽州 民居 、 家具 木板 和 圆木 雕刻 艺术 的 简称 。 木雕 在 旧属 徽州 各县 ...</td>\n",
       "      <td>{u'吉祥图案': 0.0172413793103, u'少数': 0.0172413793...</td>\n",
       "      <td>anhuinews.com</td>\n",
       "      <td>{u'吉祥图案': 0.0172413793103, u'少数': 0.0172413793...</td>\n",
       "      <td>[-0.0134407, -0.0106611, 0.0100197, -0.0117281...</td>\n",
       "      <td>721</td>\n",
       "      <td>...</td>\n",
       "      <td>0.463754</td>\n",
       "      <td>0.588129</td>\n",
       "      <td>0.565690</td>\n",
       "      <td>0.765616</td>\n",
       "      <td>0.544592</td>\n",
       "      <td>0.325793</td>\n",
       "      <td>0.382593</td>\n",
       "      <td>0.354244</td>\n",
       "      <td>0.263324</td>\n",
       "      <td>-0.0134407,-0.0106611,0.0100197,-0.0117281,-0....</td>\n",
       "    </tr>\n",
       "    <tr>\n",
       "      <th>4</th>\n",
       "      <td>http://cul.anhuinews.com/system/2016/01/26/007...</td>\n",
       "      <td>徽派雕刻——徽州砖雕艺术</td>\n",
       "      <td>。从早期的简单粗犷、朴素的纹样，逐步演变到后期的繁腹、细致华丽的结构，形成了自己独特的艺术风...</td>\n",
       "      <td>徽州砖雕徽州砖雕的造型，来源于汉画象砖。汉画象砖大都是模印砖坯刻画后入密烧制，嵌窃时再进行修...</td>\n",
       "      <td>徽州 砖雕 徽州 砖雕 的 造型 ， 来源于 汉 画象 砖 。 汉 画象 砖 大都 是 模印...</td>\n",
       "      <td>{u'一': 0.0106382978723, u'它': 0.0212765957447,...</td>\n",
       "      <td>anhuinews.com</td>\n",
       "      <td>{u'一': 0.0106382978723, u'它': 0.0212765957447,...</td>\n",
       "      <td>[-0.0147771, -0.0149903, 0.0132143, -0.0146898...</td>\n",
       "      <td>2852</td>\n",
       "      <td>...</td>\n",
       "      <td>0.426712</td>\n",
       "      <td>0.555901</td>\n",
       "      <td>0.473556</td>\n",
       "      <td>0.605832</td>\n",
       "      <td>0.577255</td>\n",
       "      <td>0.312113</td>\n",
       "      <td>0.289483</td>\n",
       "      <td>0.315999</td>\n",
       "      <td>0.203333</td>\n",
       "      <td>-0.0147771,-0.0149903,0.0132143,-0.0146898,-0....</td>\n",
       "    </tr>\n",
       "  </tbody>\n",
       "</table>\n",
       "<p>5 rows × 22 columns</p>\n",
       "</div>"
      ],
      "text/plain": [
       "                                                 url          title  \\\n",
       "0  http://cul.anhuinews.com/system/2016/11/28/007...     洪建华夫妇的竹刻人生   \n",
       "1  http://cul.anhuinews.com/system/2016/11/21/007...  徽州民歌传人操明花校园授艺   \n",
       "2  http://cul.anhuinews.com/system/2016/11/03/007...         黄山楹联漫谈   \n",
       "3  http://cul.anhuinews.com/system/2016/01/26/007...   徽派雕刻——徽州木雕艺术   \n",
       "4  http://cul.anhuinews.com/system/2016/01/26/007...   徽派雕刻——徽州砖雕艺术   \n",
       "\n",
       "                                             summary  \\\n",
       "0  。不久前，我们几名政协委员应邀到正在建设中的黄山市徽派雕刻博物馆参观考察时，洪建华一边介绍新...   \n",
       "1  。“磨米磨麦，磨米磨麦……”随着教室里传来一阵阵悦耳动听的方言民歌声，操明花正兴致勃勃地教同...   \n",
       "2  。黄山雄伟奇丽、气势非凡，原省文联主席赖少其说，非有大手笔，不能画黄山。有“二联”站得高，看...   \n",
       "3  徽州民居、家具木板和圆木雕刻艺术的简称。木雕在旧属徽州各县分布之广在全国屈指可数，宅院内的屏...   \n",
       "4  。从早期的简单粗犷、朴素的纹样，逐步演变到后期的繁腹、细致华丽的结构，形成了自己独特的艺术风...   \n",
       "\n",
       "                                             content  \\\n",
       "0  谁能想到，洪建华夫妇这对一无学历、二无家传、三无师承的“三无大师”成了省级非物质文化遗产·徽...   \n",
       "1  近日，省非物质文化遗产徽州民歌传承人操明花前往休宁县海阳二小、歙县城关小学和徽州区岩寺镇中心...   \n",
       "2  黄山楹联第一人当推明朝诗人余绍祉。他遍历祖国名山大川，见到无数奇峰怪石，却感到抵不上黄山峰林...   \n",
       "3  徽州民居、家具木板和圆木雕刻艺术的简称。木雕在旧属徽州各县分布之广在全国屈指可数，宅院内的屏...   \n",
       "4  徽州砖雕徽州砖雕的造型，来源于汉画象砖。汉画象砖大都是模印砖坯刻画后入密烧制，嵌窃时再进行修...   \n",
       "\n",
       "                                         content_seg  \\\n",
       "0  谁 能 想到 ， 洪 建华 夫妇 这 对 一 无 学历 、 二 无 家传 、 三无 师承 的...   \n",
       "1  近日 ， 省非 物质 文化遗产 徽州 民歌 传承 人操 明花 前往 休宁县 海阳 二小 、 ...   \n",
       "2  黄山 楹联 第一 人当 推 明朝 诗人 余绍祉 。 他 遍历 祖国 名山大川 ， 见到 无数...   \n",
       "3  徽州 民居 、 家具 木板 和 圆木 雕刻 艺术 的 简称 。 木雕 在 旧属 徽州 各县 ...   \n",
       "4  徽州 砖雕 徽州 砖雕 的 造型 ， 来源于 汉 画象 砖 。 汉 画象 砖 大都 是 模印...   \n",
       "\n",
       "                                               s_vec         domain  \\\n",
       "0  {u'竹木': 0.0114285714286, u'洪': 0.0571428571429...  anhuinews.com   \n",
       "1  {u'它': 0.0123456790123, u'原生态': 0.012345679012...  anhuinews.com   \n",
       "2  {u'气派': 0.0123456790123, u'名句': 0.012345679012...  anhuinews.com   \n",
       "3  {u'吉祥图案': 0.0172413793103, u'少数': 0.0172413793...  anhuinews.com   \n",
       "4  {u'一': 0.0106382978723, u'它': 0.0212765957447,...  anhuinews.com   \n",
       "\n",
       "                                            words_fq  \\\n",
       "0  {u'竹木': 0.0114285714286, u'洪': 0.0571428571429...   \n",
       "1  {u'它': 0.0123456790123, u'原生态': 0.012345679012...   \n",
       "2  {u'气派': 0.0123456790123, u'名句': 0.012345679012...   \n",
       "3  {u'吉祥图案': 0.0172413793103, u'少数': 0.0172413793...   \n",
       "4  {u'一': 0.0106382978723, u'它': 0.0212765957447,...   \n",
       "\n",
       "                                        w2v_centroid  content_len  \\\n",
       "0  [-0.0060236, -0.0103621, 0.00755846, -0.000569...        10703   \n",
       "1  [-0.0107781, 0.0129855, 0.00413211, 0.00171845...         1264   \n",
       "2  [-0.0120081, -0.0145887, 0.0144744, -0.0120817...         2028   \n",
       "3  [-0.0134407, -0.0106611, 0.0100197, -0.0117281...          721   \n",
       "4  [-0.0147771, -0.0149903, 0.0132143, -0.0146898...         2852   \n",
       "\n",
       "                         ...                          hzwh_w2v_sim  \\\n",
       "0                        ...                              0.463720   \n",
       "1                        ...                              0.565720   \n",
       "2                        ...                              0.255002   \n",
       "3                        ...                              0.463754   \n",
       "4                        ...                              0.426712   \n",
       "\n",
       "   hzjz_w2v_sim  ycjc_w2v_sim  hzdk_w2v_sim  hpys_w2v_sim  hjhc_w2v_sim  \\\n",
       "0      0.567314      0.573373      0.633446      0.680938      0.424617   \n",
       "1      0.358653      0.557331      0.468289      0.517698      0.438723   \n",
       "2      0.260202      0.269191      0.340901      0.296441      0.235815   \n",
       "3      0.588129      0.565690      0.765616      0.544592      0.325793   \n",
       "4      0.555901      0.473556      0.605832      0.577255      0.312113   \n",
       "\n",
       "   hs_w2v_sim  xalx_w2v_sim  hxyj_w2v_sim  \\\n",
       "0    0.311315      0.397321      0.291379   \n",
       "1    0.306038      0.308822      0.250730   \n",
       "2    0.191698      0.246864      0.182968   \n",
       "3    0.382593      0.354244      0.263324   \n",
       "4    0.289483      0.315999      0.203333   \n",
       "\n",
       "                                      w2v_centroid_s  \n",
       "0  -0.0060236,-0.0103621,0.00755846,-0.000569638,...  \n",
       "1  -0.0107781,0.0129855,0.00413211,0.00171845,-0....  \n",
       "2  -0.0120081,-0.0145887,0.0144744,-0.0120817,-0....  \n",
       "3  -0.0134407,-0.0106611,0.0100197,-0.0117281,-0....  \n",
       "4  -0.0147771,-0.0149903,0.0132143,-0.0146898,-0....  \n",
       "\n",
       "[5 rows x 22 columns]"
      ]
     },
     "execution_count": 171,
     "metadata": {},
     "output_type": "execute_result"
    }
   ],
   "source": [
    "df.head()"
   ]
  },
  {
   "cell_type": "code",
   "execution_count": 172,
   "metadata": {
    "collapsed": true
   },
   "outputs": [],
   "source": [
    "df.to_csv('../data/clean/huizhou_web_v1.csv', encoding='utf-8', index=False)"
   ]
  },
  {
   "cell_type": "code",
   "execution_count": 165,
   "metadata": {},
   "outputs": [],
   "source": [
    "df_out = df[['url', 'title', 'summary', 'w2v_centroid_s', 'hzwh_w2v_sim', 'hzjz_w2v_sim', 'ycjc_w2v_sim', 'hzdk_w2v_sim',\n",
    "             'hpys_w2v_sim', 'hjhc_w2v_sim', 'hs_w2v_sim', 'xalx_w2v_sim', 'hxyj_w2v_sim']]"
   ]
  },
  {
   "cell_type": "code",
   "execution_count": null,
   "metadata": {
    "collapsed": true
   },
   "outputs": [],
   "source": []
  },
  {
   "cell_type": "code",
   "execution_count": 166,
   "metadata": {
    "collapsed": true
   },
   "outputs": [],
   "source": [
    "df_out.to_csv('../data/clean/huizhou-web-slim_v2.csv', encoding='utf-8', index=False)"
   ]
  },
  {
   "cell_type": "code",
   "execution_count": 170,
   "metadata": {
    "collapsed": true
   },
   "outputs": [],
   "source": [
    "df_out.info()"
   ]
  },
  {
   "cell_type": "code",
   "execution_count": 211,
   "metadata": {
    "collapsed": true
   },
   "outputs": [],
   "source": [
    "df.info()"
   ]
  },
  {
   "cell_type": "code",
   "execution_count": 212,
   "metadata": {
    "collapsed": true
   },
   "outputs": [],
   "source": [
    "df_full_out = df[['url', 'title', 'summary', 's_vec_cnt', 'content', 'content_seg']]"
   ]
  },
  {
   "cell_type": "code",
   "execution_count": 213,
   "metadata": {
    "collapsed": true
   },
   "outputs": [],
   "source": [
    "df_full_out.to_csv('/Users/nhu2000/projects/SimilarSearch/data/clean/huizhou_full_v1.1.csv', encoding='utf-8', index=False)"
   ]
  },
  {
   "cell_type": "code",
   "execution_count": 173,
   "metadata": {},
   "outputs": [
    {
     "data": {
      "text/plain": [
       "array([ -7.58834004e-01,   6.37849987e-01,   2.37314200e+00,\n",
       "         3.93233001e-01,  -2.31934994e-01,  -4.19292003e-01,\n",
       "         2.77810004e-02,  -6.70256019e-01,   1.31282401e+00,\n",
       "        -2.81661004e-01,   1.56625605e+00,   1.19458902e+00,\n",
       "         9.28260028e-01,   2.15436292e+00,   3.43926013e-01,\n",
       "         7.05360025e-02,   1.01993299e+00,   1.49849200e+00,\n",
       "         1.05655801e+00,   6.64417982e-01,  -1.83514905e+00,\n",
       "        -9.82640028e-01,  -4.84759986e-01,   3.44781011e-01,\n",
       "         2.77079999e-01,   3.39015990e-01,  -2.10096002e-01,\n",
       "         4.17811006e-01,  -1.15651500e+00,   7.45559990e-01,\n",
       "         2.34702206e+00,   5.76422989e-01,  -9.99136984e-01,\n",
       "        -2.25249410e+00,   1.89790297e+00,  -1.52401996e+00,\n",
       "        -8.07019994e-02,   7.10281014e-01,   6.56597972e-01,\n",
       "         5.92401981e-01,   8.31799954e-03,  -6.80337012e-01,\n",
       "        -3.36429000e-01,   7.28859976e-02,  -7.02839017e-01,\n",
       "        -1.14953303e+00,   2.14949799e+00,  -1.44978094e+00,\n",
       "         2.21020997e-01,  -3.96232009e-01,  -2.87344009e-01,\n",
       "         2.03455001e-01,   2.86186993e-01,   1.18734896e+00,\n",
       "        -7.47153997e-01,  -8.78050983e-01,  -1.58097997e-01,\n",
       "        -1.89780995e-01,  -8.32053006e-01,  -1.60302401e+00,\n",
       "        -2.01757002e+00,   1.34080899e+00,  -9.56588984e-01,\n",
       "        -2.89802015e-01,   7.35687971e-01,  -3.00853997e-01,\n",
       "         1.75437003e-01,  -1.78050399e+00,   3.62372994e-01,\n",
       "        -2.83133101e+00,   1.95390105e+00,   1.12549998e-01,\n",
       "        -4.20592010e-01,  -2.03469706e+00,   1.59564900e+00,\n",
       "        -2.81680003e-02,  -9.65047002e-01,   2.00257897e+00,\n",
       "        -2.85647005e-01,  -1.58332002e+00,   6.99508011e-01,\n",
       "         4.28139001e-01,  -9.39530015e-01,   1.03047001e+00,\n",
       "        -6.04385972e-01,   9.03117001e-01,   3.31676990e-01,\n",
       "        -1.00377999e-01,  -3.44940014e-02,  -8.00944984e-01,\n",
       "        -1.03385305e+00,  -1.14508998e+00,  -8.79880011e-01,\n",
       "        -1.52777195e+00,   1.44000002e-03,  -1.00831002e-01,\n",
       "         5.71909010e-01,   1.65697503e+00,   1.38917997e-01,\n",
       "         1.04475997e-01,  -1.14555395e+00,   1.85523999e+00,\n",
       "        -6.07077003e-01,   2.55779696e+00,  -5.24564028e-01,\n",
       "         1.19275796e+00,   8.32810998e-01,   7.82463014e-01,\n",
       "         1.25500001e-02,   5.66340029e-01,   8.27497005e-01,\n",
       "         2.42862001e-01,  -1.49676895e+00,  -1.50093806e+00,\n",
       "         4.68870014e-01,   1.61249995e-01,   4.61881012e-01,\n",
       "        -5.22750974e-01,  -7.32469976e-01,  -1.39812195e+00,\n",
       "        -1.95644701e+00,  -1.26533103e+00,   1.63259602e+00,\n",
       "        -1.26724899e+00,   1.80714905e+00,  -4.15538013e-01,\n",
       "         5.24411976e-01,  -1.13188195e+00,  -1.42141199e+00,\n",
       "        -1.05179405e+00,   6.71508014e-01,  -4.46586996e-01,\n",
       "        -9.37363029e-01,  -1.17774002e-01,  -1.93442002e-01,\n",
       "        -8.91888022e-01,   6.32211030e-01,  -1.44788599e+00,\n",
       "        -4.17860001e-02,   4.09388989e-01,  -8.70087981e-01,\n",
       "         1.03659797e+00,  -1.19257998e+00,   3.06603998e-01,\n",
       "        -4.18800004e-02,   3.20749998e-01,  -1.89246997e-01,\n",
       "        -9.51039016e-01,  -1.81537700e+00,  -1.47251993e-01,\n",
       "         2.47467995e-01,   4.82010990e-01,   5.42312026e-01,\n",
       "         2.42501006e-01,  -1.28196394e+00,   1.13958001e+00,\n",
       "         7.15004027e-01,  -1.02102399e+00,  -6.37750030e-02,\n",
       "         3.05981010e-01,  -7.19866991e-01,  -2.81677991e-01,\n",
       "        -1.46291399e+00,   1.41345894e+00,   2.16922212e+00,\n",
       "        -9.64290977e-01,  -1.42116904e+00,   1.99597001e-01,\n",
       "         1.59250700e+00,   1.06767702e+00,   3.40440989e-01,\n",
       "        -1.07353497e+00,   1.41358003e-01,   1.29981697e+00,\n",
       "        -9.64561999e-01,   2.45176002e-01,  -5.52556992e-01,\n",
       "        -1.54333603e+00,   9.52421010e-01,  -5.81119001e-01,\n",
       "         1.63255405e+00,   1.93214998e-01,  -2.67768312e+00,\n",
       "        -2.04905009e+00,  -8.36760998e-01,  -1.22809899e+00,\n",
       "        -1.47950196e+00,  -8.37199986e-02,   1.61685598e+00,\n",
       "        -6.55907989e-01,   1.08266003e-01,   3.14134985e-01,\n",
       "         1.05211997e+00,   6.68540001e-01,   7.98385978e-01,\n",
       "        -5.15039027e-01,   7.44288027e-01,   1.07028306e+00,\n",
       "        -1.66279003e-01,  -2.12022007e-01,  -3.37280005e-01,\n",
       "         2.15586996e+00,  -7.07485020e-01,  -1.04692304e+00,\n",
       "         9.30118978e-01,   1.11433399e+00,  -1.11606300e+00,\n",
       "         8.75294983e-01,  -2.19449711e+00,  -4.40881997e-01,\n",
       "         7.70169973e-01,  -3.73086989e-01,   4.74395990e-01,\n",
       "        -8.67004991e-01,  -8.83149981e-01,   1.70919299e+00,\n",
       "        -4.37624007e-01,  -2.18045995e-01,  -3.03292006e-01,\n",
       "         8.98528993e-01,  -1.52537596e+00,  -1.11459398e+00,\n",
       "        -3.72090004e-02,   2.09471989e+00,   9.58724022e-01,\n",
       "         3.58633995e-01,   1.31893206e+00,  -6.42580017e-02,\n",
       "        -1.07216299e+00,   1.67768395e+00,   9.83232975e-01,\n",
       "         6.55699968e-02,   2.66399998e-02,  -6.16896987e-01,\n",
       "         1.38325596e+00,  -8.42317998e-01,   5.59058011e-01,\n",
       "         1.65786600e+00,   2.80225009e-01,   1.54165101e+00,\n",
       "        -4.79609013e-01,  -2.50305104e+00,   5.55916011e-01,\n",
       "        -5.18589020e-01,  -9.97087002e-01,   7.07202017e-01,\n",
       "        -1.64930001e-02,  -1.29352403e+00,   2.75767589e+00,\n",
       "         1.43620998e-01], dtype=float32)"
      ]
     },
     "execution_count": 173,
     "metadata": {},
     "output_type": "execute_result"
    }
   ],
   "source": [
    "model[u'许村']"
   ]
  },
  {
   "cell_type": "code",
   "execution_count": null,
   "metadata": {
    "collapsed": true
   },
   "outputs": [],
   "source": []
  }
 ],
 "metadata": {
  "kernelspec": {
   "display_name": "Python 2",
   "language": "python",
   "name": "python2"
  },
  "language_info": {
   "codemirror_mode": {
    "name": "ipython",
    "version": 2
   },
   "file_extension": ".py",
   "mimetype": "text/x-python",
   "name": "python",
   "nbconvert_exporter": "python",
   "pygments_lexer": "ipython2",
   "version": "2.7.10"
  }
 },
 "nbformat": 4,
 "nbformat_minor": 2
}
