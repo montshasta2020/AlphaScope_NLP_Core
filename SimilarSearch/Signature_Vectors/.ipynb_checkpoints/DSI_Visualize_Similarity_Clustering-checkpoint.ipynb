{
 "cells": [
  {
   "cell_type": "code",
   "execution_count": 1,
   "metadata": {
    "collapsed": true
   },
   "outputs": [],
   "source": [
    "import pandas as pd\n",
    "from urlparse import urlparse\n",
    "import tldextract\n",
    "from collections import Counter\n",
    "import jieba\n",
    "import json\n",
    "import math\n",
    "import numpy as np\n",
    "from time import time"
   ]
  },
  {
   "cell_type": "code",
   "execution_count": 2,
   "metadata": {
    "collapsed": true
   },
   "outputs": [],
   "source": [
    "class Toolbox (object):\n",
    "    def __init__(self):\n",
    "        self.init = 1\n",
    "        \n",
    "    def sort_dict (self, d, max=50):\n",
    "        t = sorted(d.items(), key=lambda x: (-x[1], x[0]))\n",
    "        return t[:max]\n",
    "    \n",
    "    def add_dict (self, x, y):\n",
    "        d = { k: x.get(k, 0) + y.get(k, 0) for k in set(x) | set(y) }\n",
    "        return d\n",
    "    \n",
    "    def create_dict(self, k1, v1, filters = True):\n",
    "        if filters == True:\n",
    "            k1_list0 = k1.strip('()').split(',')\n",
    "            v1_list0 = v1.strip('()').split(',')\n",
    "            #print v1_list0\n",
    "            #print k1_list0\n",
    "            k1_list1 = filter(None, k1_list0)        \n",
    "            v1_list1 = filter(None, v1_list0)\n",
    "        else:\n",
    "            k1_list1 = k1\n",
    "            v1_list1 = v1\n",
    "        \n",
    "        #print ' '.join(k1_list1)\n",
    "        k2_list1 = [item.decode('utf-8') for item in k1_list1]\n",
    "        v2_list1 = [float(item) for item in v1_list1]\n",
    "\n",
    "    def create_vec(self, k1, v1):\n",
    "        return (zip(k1, v1))\n",
    "    \n",
    "    def get_dict_top_n(self, d, max=50):\n",
    "        ret = self.sort_dict(d, max)\n",
    "        words, fq = zip(*ret)\n",
    "        sum_up = sum(fq)\n",
    "        fq_normalized = tuple(item/sum_up for item in fq)\n",
    "        \n",
    "        return dict(zip(words, fq_normalized))\n",
    "    \n",
    "    #calculate cosine between two dictionaries\n",
    "    def get_sim(self, vec1, vec2):\n",
    "        \n",
    "        #get intersection\n",
    "        intersection = set(vec1.keys()) & set(vec2.keys())\n",
    "        \n",
    "        #print intersection\n",
    "        numerator = sum([vec1[x] * vec2[x] for x in intersection])\n",
    "\n",
    "        #print 'num ---', numerator\n",
    "        #print vec1.keys()\n",
    "        #print vec1.values()\n",
    "        #print vec2.keys()\n",
    "        #print vec2.values()        \n",
    "        \n",
    "        if numerator == 0:\n",
    "            return 0.0\n",
    "        \n",
    "        sum1 = sum([vec1[x]**2 for x in vec1.keys()])\n",
    "        sum2 = sum([vec2[x]**2 for x in vec2.keys()])\n",
    "        denominator = math.sqrt(sum1) * math.sqrt(sum2)\n",
    "\n",
    "        if not denominator:\n",
    "            return 0.0\n",
    "        else:\n",
    "            return float(numerator) / denominator\n",
    "        \n",
    "    def sum_vects(self, vects):\n",
    "        sum_vects = None\n",
    "        for vec in vects:\n",
    "            if sum_vects == None:\n",
    "                sum_vects = vec\n",
    "            else:\n",
    "                sum_vects = self.add_dict(sum_vects, vec)\n",
    "        #only return first 100 after additions\n",
    "        #print type(sum_vecs)\n",
    "        return self.get_dict_top_n(sum_vects)\n",
    "    \n",
    "    def unserialized(self, x, eval_val=True):\n",
    "        #print '----- in'\n",
    "        #print x\n",
    "        d = dict()\n",
    "        s = x.strip('{}')\n",
    "        #s = s.strip('[]')\n",
    "        ret = s.split(',')\n",
    "\n",
    "        #print ret\n",
    "        for t in ret:\n",
    "            r = t.split(':')\n",
    "            #print r[0], r[1]\n",
    "            key = eval(r[0].decode('utf-8'))\n",
    "            if eval_val == True:\n",
    "                d[key] = int(r[1])\n",
    "            else:\n",
    "                d[key] = r[1]\n",
    "        #print len(ret)\n",
    "        #print 'split -----'\n",
    "        #print ' '.join(ret)\n",
    "        return d\n",
    "        \n",
    "    def get_centroid_df(self, check, t_sim, num=2000):        \n",
    "        if len(check) > num:\n",
    "            #sampling     \n",
    "            ratio = num*1.0/len(check)\n",
    "            print 'ratio ---', ratio \n",
    "            msk = np.random.rand(len(check)) < ratio\n",
    "            tmp = check[msk]\n",
    "            check = tmp\n",
    "    \n",
    "        check.info()\n",
    "        check_vecs = check['s_vec']\n",
    "        return self.sum_vects(check_vecs) \n",
    "    \n",
    "    def set_contained_flag(self, x, y):\n",
    "        x_keys = x.keys()\n",
    "        y_keys = y.keys()\n",
    "        for s in y_keys:\n",
    "            if s in x_keys:\n",
    "                return True\n",
    "        return False"
   ]
  },
  {
   "cell_type": "code",
   "execution_count": 3,
   "metadata": {
    "collapsed": true
   },
   "outputs": [],
   "source": [
    "aT = Toolbox()"
   ]
  },
  {
   "cell_type": "code",
   "execution_count": 4,
   "metadata": {
    "collapsed": true
   },
   "outputs": [],
   "source": [
    "df = pd.read_csv('/Users/nhu2000/projects/SimilarSearch/data/query/dsi_query_sim_v1.csv')"
   ]
  },
  {
   "cell_type": "code",
   "execution_count": 5,
   "metadata": {
    "collapsed": true
   },
   "outputs": [],
   "source": [
    "#split pandas dataframe\n",
    "msk = np.random.rand(len(df)) < 0.05\n",
    "df_part = df[msk]"
   ]
  },
  {
   "cell_type": "code",
   "execution_count": 6,
   "metadata": {},
   "outputs": [
    {
     "name": "stdout",
     "output_type": "stream",
     "text": [
      "<class 'pandas.core.frame.DataFrame'>\n",
      "Int64Index: 4300 entries, 14 to 86228\n",
      "Data columns (total 18 columns):\n",
      "url                4300 non-null object\n",
      "domain             4300 non-null object\n",
      "body               4300 non-null object\n",
      "title              4300 non-null object\n",
      "key_words          4300 non-null object\n",
      "sim                4300 non-null float64\n",
      "dl_sim             4300 non-null float64\n",
      "analytics_sim      4300 non-null float64\n",
      "dm_sim             4300 non-null float64\n",
      "ml_sim             4300 non-null float64\n",
      "dsj_sim            4300 non-null float64\n",
      "dsn_sim            4300 non-null float64\n",
      "ba_sim             4300 non-null float64\n",
      "ds_sim             4300 non-null float64\n",
      "summary            4300 non-null object\n",
      "signature          4300 non-null object\n",
      "check_distances    4300 non-null float64\n",
      "bd_sim             4300 non-null float64\n",
      "dtypes: float64(11), object(7)\n",
      "memory usage: 638.3+ KB\n"
     ]
    }
   ],
   "source": [
    "df_part.info()"
   ]
  },
  {
   "cell_type": "code",
   "execution_count": 7,
   "metadata": {
    "collapsed": true
   },
   "outputs": [],
   "source": [
    "import re\n",
    "def map_s_vec(x):\n",
    "    s = x.split()\n",
    "    words = [re.sub('[^a-zA-Z]+', '', item).lower().strip() for item in s if len(re.sub('[^a-zA-Z]+', '', item)) > 1]\n",
    "    count = Counter(words)\n",
    "    top_100 = count.most_common()\n",
    "    return dict(top_100)"
   ]
  },
  {
   "cell_type": "code",
   "execution_count": 21,
   "metadata": {},
   "outputs": [
    {
     "data": {
      "text/plain": [
       "{'accelerators': 1,\n",
       " 'address': 5,\n",
       " 'addresses': 1,\n",
       " 'ads': 1,\n",
       " 'adviser': 1,\n",
       " 'aerospace': 1,\n",
       " 'africa': 1,\n",
       " 'again': 2,\n",
       " 'all': 1,\n",
       " 'america': 1,\n",
       " 'amrica': 1,\n",
       " 'an': 2,\n",
       " 'and': 1,\n",
       " 'arts': 5,\n",
       " 'asia': 2,\n",
       " 'autos': 1,\n",
       " 'bankruptcy': 1,\n",
       " 'barrons': 2,\n",
       " 'beat': 2,\n",
       " 'been': 2,\n",
       " 'below': 1,\n",
       " 'best': 1,\n",
       " 'bigcharts': 1,\n",
       " 'billion': 1,\n",
       " 'blogs': 10,\n",
       " 'bonds': 1,\n",
       " 'book': 1,\n",
       " 'books': 1,\n",
       " 'brasil': 1,\n",
       " 'brussels': 1,\n",
       " 'business': 3,\n",
       " 'canada': 1,\n",
       " 'cancel': 1,\n",
       " 'cant': 1,\n",
       " 'capital': 1,\n",
       " 'care': 1,\n",
       " 'careers': 1,\n",
       " 'cars': 1,\n",
       " 'cfo': 2,\n",
       " 'china': 3,\n",
       " 'christopher': 1,\n",
       " 'cio': 2,\n",
       " 'class': 2,\n",
       " 'classacfooter': 1,\n",
       " 'classacheadline': 1,\n",
       " 'classdropdowncontainerclass': 1,\n",
       " 'classfooter': 1,\n",
       " 'classhdrsearchlistcomp': 1,\n",
       " 'classhdrsearchlistname': 2,\n",
       " 'classhdrsearchlistsearch': 1,\n",
       " 'classifieds': 1,\n",
       " 'classlineitem': 2,\n",
       " 'classroom': 1,\n",
       " 'classsearchlistcompmarkets': 1,\n",
       " 'classsearchlistcompname': 1,\n",
       " 'classsearchlistcompticker': 1,\n",
       " 'classsearchresult': 2,\n",
       " 'classsearchtermgoldspan': 2,\n",
       " 'classsearchtermgoldspanman': 1,\n",
       " 'classsponsorboxdiv': 1,\n",
       " 'classsuggestionblock': 2,\n",
       " 'close': 3,\n",
       " 'club': 1,\n",
       " 'cmo': 1,\n",
       " 'code': 2,\n",
       " 'columnists': 1,\n",
       " 'columns': 5,\n",
       " 'commas': 2,\n",
       " 'commentary': 1,\n",
       " 'commercial': 3,\n",
       " 'commodities': 1,\n",
       " 'companies': 1,\n",
       " 'compliance': 1,\n",
       " 'consumer': 1,\n",
       " 'copy': 1,\n",
       " 'court': 1,\n",
       " 'csuite': 1,\n",
       " 'currencies': 1,\n",
       " 'daily': 2,\n",
       " 'data': 1,\n",
       " 'day': 1,\n",
       " 'deals': 1,\n",
       " 'defense': 1,\n",
       " 'diary': 1,\n",
       " 'digits': 1,\n",
       " 'dispatch': 1,\n",
       " 'div': 19,\n",
       " 'djx': 1,\n",
       " 'dollar': 1,\n",
       " 'drink': 1,\n",
       " 'east': 1,\n",
       " 'ecommerce': 1,\n",
       " 'economic': 1,\n",
       " 'economics': 2,\n",
       " 'economy': 5,\n",
       " 'edition': 1,\n",
       " 'editor': 1,\n",
       " 'editorial': 1,\n",
       " 'editorials': 1,\n",
       " 'email': 7,\n",
       " 'emails': 1,\n",
       " 'energy': 1,\n",
       " 'enter': 3,\n",
       " 'entrepreneurship': 1,\n",
       " 'entry': 1,\n",
       " 'equity': 1,\n",
       " 'error': 2,\n",
       " 'estate': 7,\n",
       " 'europe': 2,\n",
       " 'exchange': 1,\n",
       " 'expat': 1,\n",
       " 'facebook': 1,\n",
       " 'fashion': 1,\n",
       " 'financial': 3,\n",
       " 'fix': 1,\n",
       " 'food': 2,\n",
       " 'forecasting': 1,\n",
       " 'fowler': 1,\n",
       " 'frontiers': 1,\n",
       " 'funds': 1,\n",
       " 'geoffrey': 1,\n",
       " 'has': 3,\n",
       " 'headline': 1,\n",
       " 'health': 2,\n",
       " 'heard': 2,\n",
       " 'hidden': 4,\n",
       " 'home': 1,\n",
       " 'hospitality': 1,\n",
       " 'house': 1,\n",
       " 'hrefjavascriptvoid': 2,\n",
       " 'hrefview': 1,\n",
       " 'ideas': 1,\n",
       " 'idsearchsponsorbox': 1,\n",
       " 'in': 3,\n",
       " 'india': 2,\n",
       " 'industries': 1,\n",
       " 'invalid': 2,\n",
       " 'japan': 2,\n",
       " 'joanna': 1,\n",
       " 'journal': 12,\n",
       " 'korea': 1,\n",
       " 'latin': 1,\n",
       " 'latina': 1,\n",
       " 'law': 3,\n",
       " 'letters': 1,\n",
       " 'li': 10,\n",
       " 'life': 3,\n",
       " 'live': 2,\n",
       " 'logistics': 1,\n",
       " 'ltd': 1,\n",
       " 'magazine': 2,\n",
       " 'management': 1,\n",
       " 'mansion': 1,\n",
       " 'manufacturing': 1,\n",
       " 'market': 1,\n",
       " 'marketing': 1,\n",
       " 'markets': 3,\n",
       " 'me': 1,\n",
       " 'media': 1,\n",
       " 'message': 1,\n",
       " 'middle': 1,\n",
       " 'mims': 1,\n",
       " 'mobile': 1,\n",
       " 'money': 1,\n",
       " 'moneybeat': 1,\n",
       " 'more': 34,\n",
       " 'morning': 1,\n",
       " 'multiple': 2,\n",
       " 'must': 2,\n",
       " 'natural': 1,\n",
       " 'new': 1,\n",
       " 'news': 5,\n",
       " 'noonan': 1,\n",
       " 'not': 1,\n",
       " 'numbers': 1,\n",
       " 'occured': 1,\n",
       " 'of': 2,\n",
       " 'on': 2,\n",
       " 'opinion': 3,\n",
       " 'optional': 1,\n",
       " 'or': 1,\n",
       " 'peggy': 1,\n",
       " 'personal': 2,\n",
       " 'pevc': 1,\n",
       " 'please': 2,\n",
       " 'political': 1,\n",
       " 'politics': 3,\n",
       " 'politicscapital': 1,\n",
       " 'poll': 1,\n",
       " 'portfolio': 1,\n",
       " 'privacy': 1,\n",
       " 'private': 1,\n",
       " 'product': 2,\n",
       " 'products': 1,\n",
       " 'professor': 1,\n",
       " 'puzzles': 1,\n",
       " 'ran': 1,\n",
       " 'rc': 1,\n",
       " 'real': 13,\n",
       " 'realtor': 2,\n",
       " 'recipients': 1,\n",
       " 'regions': 1,\n",
       " 'report': 5,\n",
       " 'resources': 2,\n",
       " 'results': 1,\n",
       " 'retail': 1,\n",
       " 'return': 1,\n",
       " 'review': 2,\n",
       " 'reviews': 1,\n",
       " 'risk': 1,\n",
       " 'rolelistbox': 3,\n",
       " 'rolemenuitem': 5,\n",
       " 'rt': 1,\n",
       " 'search': 2,\n",
       " 'sections': 8,\n",
       " 'security': 1,\n",
       " 'send': 2,\n",
       " 'sent': 2,\n",
       " 'separate': 1,\n",
       " 'seperate': 1,\n",
       " 'services': 3,\n",
       " 'sign': 1,\n",
       " 'span': 3,\n",
       " 'speakeasy': 1,\n",
       " 'sports': 1,\n",
       " 'startup': 1,\n",
       " 'startups': 1,\n",
       " 'stern': 1,\n",
       " 'stock': 1,\n",
       " 'stocks': 1,\n",
       " 'street': 3,\n",
       " 'student': 1,\n",
       " 'style': 1,\n",
       " 'subscribe': 1,\n",
       " 'survey': 1,\n",
       " 'tank': 1,\n",
       " 'tech': 5,\n",
       " 'technology': 1,\n",
       " 'techwsjd': 1,\n",
       " 'templatetypec': 2,\n",
       " 'than': 1,\n",
       " 'thank': 1,\n",
       " 'the': 10,\n",
       " 'think': 1,\n",
       " 'this': 1,\n",
       " 'time': 6,\n",
       " 'to': 2,\n",
       " 'today': 1,\n",
       " 'total': 1,\n",
       " 'trader': 1,\n",
       " 'transportation': 1,\n",
       " 'travel': 1,\n",
       " 'true': 1,\n",
       " 'try': 1,\n",
       " 'twitter': 1,\n",
       " 'type': 1,\n",
       " 'ul': 6,\n",
       " 'us': 6,\n",
       " 'venture': 1,\n",
       " 'verification': 2,\n",
       " 'video': 11,\n",
       " 'virtual': 1,\n",
       " 'wall': 1,\n",
       " 'washington': 2,\n",
       " 'wealth': 1,\n",
       " 'web': 1,\n",
       " 'wine': 1,\n",
       " 'wire': 2,\n",
       " 'with': 2,\n",
       " 'world': 3,\n",
       " 'wsj': 11,\n",
       " 'wsjcom': 1,\n",
       " 'wsjnbc': 1,\n",
       " 'york': 1,\n",
       " 'you': 3,\n",
       " 'your': 4}"
      ]
     },
     "execution_count": 21,
     "metadata": {},
     "output_type": "execute_result"
    }
   ],
   "source": [
    "map_s_vec(df_part.iloc[1]['body'])"
   ]
  },
  {
   "cell_type": "code",
   "execution_count": 8,
   "metadata": {},
   "outputs": [
    {
     "name": "stdout",
     "output_type": "stream",
     "text": [
      "10.4960231781\n"
     ]
    },
    {
     "name": "stderr",
     "output_type": "stream",
     "text": [
      "/Library/Python/2.7/site-packages/ipykernel-4.5.2-py2.7.egg/ipykernel/__main__.py:3: SettingWithCopyWarning: \n",
      "A value is trying to be set on a copy of a slice from a DataFrame.\n",
      "Try using .loc[row_indexer,col_indexer] = value instead\n",
      "\n",
      "See the caveats in the documentation: http://pandas.pydata.org/pandas-docs/stable/indexing.html#indexing-view-versus-copy\n",
      "  app.launch_new_instance()\n"
     ]
    }
   ],
   "source": [
    "#unseralized\n",
    "t0 = time()\n",
    "df_part['s_vec'] = df_part.body.map(lambda x: map_s_vec(x)) \n",
    "print (time() - t0)"
   ]
  },
  {
   "cell_type": "code",
   "execution_count": 49,
   "metadata": {},
   "outputs": [
    {
     "data": {
      "text/html": [
       "<div>\n",
       "<table border=\"1\" class=\"dataframe\">\n",
       "  <thead>\n",
       "    <tr style=\"text-align: right;\">\n",
       "      <th></th>\n",
       "      <th>url</th>\n",
       "      <th>domain</th>\n",
       "      <th>body</th>\n",
       "      <th>title</th>\n",
       "      <th>key_words</th>\n",
       "      <th>sim</th>\n",
       "      <th>dl_sim</th>\n",
       "      <th>analytics_sim</th>\n",
       "      <th>dm_sim</th>\n",
       "      <th>ml_sim</th>\n",
       "      <th>dsj_sim</th>\n",
       "      <th>dsn_sim</th>\n",
       "      <th>ba_sim</th>\n",
       "      <th>ds_sim</th>\n",
       "      <th>summary</th>\n",
       "      <th>signature</th>\n",
       "      <th>check_distances</th>\n",
       "      <th>bd_sim</th>\n",
       "      <th>s_vec</th>\n",
       "      <th>cluster</th>\n",
       "    </tr>\n",
       "  </thead>\n",
       "  <tbody>\n",
       "    <tr>\n",
       "      <th>2</th>\n",
       "      <td>http://www.economist.com/films</td>\n",
       "      <td>economist.com</td>\n",
       "      <td>Films | The Economist Our cookie policy has ch...</td>\n",
       "      <td>Films | The Economist</td>\n",
       "      <td>{u'tomorrows': 0.00847457627119, u'global': 0....</td>\n",
       "      <td>0.009322</td>\n",
       "      <td>0.0</td>\n",
       "      <td>0.000000</td>\n",
       "      <td>0.000000</td>\n",
       "      <td>0.0</td>\n",
       "      <td>0.030006</td>\n",
       "      <td>0.000000</td>\n",
       "      <td>0.000000</td>\n",
       "      <td>0.000000</td>\n",
       "      <td>Films | The Economist Our cookie policy has ch...</td>\n",
       "      <td>{u'tomorrows': 0.00847457627119, u'global': 0....</td>\n",
       "      <td>0.330666</td>\n",
       "      <td>0.000000</td>\n",
       "      <td>{u'tomorrows': 2, u'global': 5, u'resistance':...</td>\n",
       "      <td>3</td>\n",
       "    </tr>\n",
       "    <tr>\n",
       "      <th>48</th>\n",
       "      <td>http://www.wsj.com/public/page/news-law-legal....</td>\n",
       "      <td>wsj.com</td>\n",
       "      <td>Law News - Court News - Wall Street Journal - ...</td>\n",
       "      <td>Law News - Court News - Wall Street Journal - ...</td>\n",
       "      <td>{u'classsuggestionblock': 0.00888888888889, u'...</td>\n",
       "      <td>0.027603</td>\n",
       "      <td>0.0</td>\n",
       "      <td>0.000000</td>\n",
       "      <td>0.000000</td>\n",
       "      <td>0.0</td>\n",
       "      <td>0.000000</td>\n",
       "      <td>0.071877</td>\n",
       "      <td>0.000000</td>\n",
       "      <td>0.000000</td>\n",
       "      <td>Law News - Court News - Wall Street Journal - ...</td>\n",
       "      <td>{u'classsuggestionblock': 0.00888888888889, u'...</td>\n",
       "      <td>0.048623</td>\n",
       "      <td>0.000000</td>\n",
       "      <td>{u'all': 1, u'classsuggestionblock': 2, u'comm...</td>\n",
       "      <td>3</td>\n",
       "    </tr>\n",
       "    <tr>\n",
       "      <th>84</th>\n",
       "      <td>http://www.masterschool.eitictlabs.eu/educatio...</td>\n",
       "      <td>eitictlabs.eu</td>\n",
       "      <td>Programme Contents FAQ - EIT ICT Labs Applicat...</td>\n",
       "      <td>Programme Contents FAQ - EIT ICT Labs</td>\n",
       "      <td>{u'summer': 0.0255102040816, u'selection': 0.0...</td>\n",
       "      <td>0.052010</td>\n",
       "      <td>0.0</td>\n",
       "      <td>0.000000</td>\n",
       "      <td>0.000000</td>\n",
       "      <td>0.0</td>\n",
       "      <td>0.058058</td>\n",
       "      <td>0.058058</td>\n",
       "      <td>0.000000</td>\n",
       "      <td>0.071107</td>\n",
       "      <td>Programme Contents FAQ - EIT ICT Labs Applicat...</td>\n",
       "      <td>{u'summer': 0.0255102040816, u'selection': 0.0...</td>\n",
       "      <td>0.088686</td>\n",
       "      <td>0.000000</td>\n",
       "      <td>{u'summer': 5, u'selection': 3, u'global': 1, ...</td>\n",
       "      <td>4</td>\n",
       "    </tr>\n",
       "    <tr>\n",
       "      <th>121</th>\n",
       "      <td>http://www.qlik.com/us/explore/solutions/indus...</td>\n",
       "      <td>qlik.com</td>\n",
       "      <td>Banking BI Solution, Banking Business Intellig...</td>\n",
       "      <td>Banking BI Solution, Banking Business Intellig...</td>\n",
       "      <td>{u'operations': 0.00961538461538, u'sector': 0...</td>\n",
       "      <td>0.248806</td>\n",
       "      <td>0.0</td>\n",
       "      <td>0.072667</td>\n",
       "      <td>0.102767</td>\n",
       "      <td>0.0</td>\n",
       "      <td>0.083909</td>\n",
       "      <td>0.083909</td>\n",
       "      <td>0.179842</td>\n",
       "      <td>0.102767</td>\n",
       "      <td>Banking BI Solution, Banking Business Intellig...</td>\n",
       "      <td>{u'operations': 0.00961538461538, u'sector': 0...</td>\n",
       "      <td>0.068664</td>\n",
       "      <td>0.179842</td>\n",
       "      <td>{u'all': 5, u'managed': 1, u'chain': 1, u'glob...</td>\n",
       "      <td>3</td>\n",
       "    </tr>\n",
       "    <tr>\n",
       "      <th>129</th>\n",
       "      <td>http://www.qlik.com/us/explore/solutions/indus...</td>\n",
       "      <td>qlik.com</td>\n",
       "      <td>Business Intelligence Solutions for Public Sec...</td>\n",
       "      <td>Business Intelligence Solutions for Public Sec...</td>\n",
       "      <td>{u'sector': 0.0241935483871, u'month': 0.00806...</td>\n",
       "      <td>0.273497</td>\n",
       "      <td>0.0</td>\n",
       "      <td>0.000000</td>\n",
       "      <td>0.209460</td>\n",
       "      <td>0.0</td>\n",
       "      <td>0.171023</td>\n",
       "      <td>0.171023</td>\n",
       "      <td>0.209460</td>\n",
       "      <td>0.209460</td>\n",
       "      <td>Business Intelligence Solutions for Public Sec...</td>\n",
       "      <td>{u'sector': 0.0241935483871, u'month': 0.00806...</td>\n",
       "      <td>0.034449</td>\n",
       "      <td>0.209460</td>\n",
       "      <td>{u'all': 4, u'chain': 1, u'riccardo': 1, u'con...</td>\n",
       "      <td>3</td>\n",
       "    </tr>\n",
       "  </tbody>\n",
       "</table>\n",
       "</div>"
      ],
      "text/plain": [
       "                                                   url         domain  \\\n",
       "2                       http://www.economist.com/films  economist.com   \n",
       "48   http://www.wsj.com/public/page/news-law-legal....        wsj.com   \n",
       "84   http://www.masterschool.eitictlabs.eu/educatio...  eitictlabs.eu   \n",
       "121  http://www.qlik.com/us/explore/solutions/indus...       qlik.com   \n",
       "129  http://www.qlik.com/us/explore/solutions/indus...       qlik.com   \n",
       "\n",
       "                                                  body  \\\n",
       "2    Films | The Economist Our cookie policy has ch...   \n",
       "48   Law News - Court News - Wall Street Journal - ...   \n",
       "84   Programme Contents FAQ - EIT ICT Labs Applicat...   \n",
       "121  Banking BI Solution, Banking Business Intellig...   \n",
       "129  Business Intelligence Solutions for Public Sec...   \n",
       "\n",
       "                                                 title  \\\n",
       "2                                Films | The Economist   \n",
       "48   Law News - Court News - Wall Street Journal - ...   \n",
       "84               Programme Contents FAQ - EIT ICT Labs   \n",
       "121  Banking BI Solution, Banking Business Intellig...   \n",
       "129  Business Intelligence Solutions for Public Sec...   \n",
       "\n",
       "                                             key_words       sim  dl_sim  \\\n",
       "2    {u'tomorrows': 0.00847457627119, u'global': 0....  0.009322     0.0   \n",
       "48   {u'classsuggestionblock': 0.00888888888889, u'...  0.027603     0.0   \n",
       "84   {u'summer': 0.0255102040816, u'selection': 0.0...  0.052010     0.0   \n",
       "121  {u'operations': 0.00961538461538, u'sector': 0...  0.248806     0.0   \n",
       "129  {u'sector': 0.0241935483871, u'month': 0.00806...  0.273497     0.0   \n",
       "\n",
       "     analytics_sim    dm_sim  ml_sim   dsj_sim   dsn_sim    ba_sim    ds_sim  \\\n",
       "2         0.000000  0.000000     0.0  0.030006  0.000000  0.000000  0.000000   \n",
       "48        0.000000  0.000000     0.0  0.000000  0.071877  0.000000  0.000000   \n",
       "84        0.000000  0.000000     0.0  0.058058  0.058058  0.000000  0.071107   \n",
       "121       0.072667  0.102767     0.0  0.083909  0.083909  0.179842  0.102767   \n",
       "129       0.000000  0.209460     0.0  0.171023  0.171023  0.209460  0.209460   \n",
       "\n",
       "                                               summary  \\\n",
       "2    Films | The Economist Our cookie policy has ch...   \n",
       "48   Law News - Court News - Wall Street Journal - ...   \n",
       "84   Programme Contents FAQ - EIT ICT Labs Applicat...   \n",
       "121  Banking BI Solution, Banking Business Intellig...   \n",
       "129  Business Intelligence Solutions for Public Sec...   \n",
       "\n",
       "                                             signature  check_distances  \\\n",
       "2    {u'tomorrows': 0.00847457627119, u'global': 0....         0.330666   \n",
       "48   {u'classsuggestionblock': 0.00888888888889, u'...         0.048623   \n",
       "84   {u'summer': 0.0255102040816, u'selection': 0.0...         0.088686   \n",
       "121  {u'operations': 0.00961538461538, u'sector': 0...         0.068664   \n",
       "129  {u'sector': 0.0241935483871, u'month': 0.00806...         0.034449   \n",
       "\n",
       "       bd_sim                                              s_vec  cluster  \n",
       "2    0.000000  {u'tomorrows': 2, u'global': 5, u'resistance':...        3  \n",
       "48   0.000000  {u'all': 1, u'classsuggestionblock': 2, u'comm...        3  \n",
       "84   0.000000  {u'summer': 5, u'selection': 3, u'global': 1, ...        4  \n",
       "121  0.179842  {u'all': 5, u'managed': 1, u'chain': 1, u'glob...        3  \n",
       "129  0.209460  {u'all': 4, u'chain': 1, u'riccardo': 1, u'con...        3  "
      ]
     },
     "execution_count": 49,
     "metadata": {},
     "output_type": "execute_result"
    }
   ],
   "source": [
    "df_part.head()"
   ]
  },
  {
   "cell_type": "code",
   "execution_count": 264,
   "metadata": {
    "collapsed": true
   },
   "outputs": [],
   "source": [
    "#create similarity matrix"
   ]
  },
  {
   "cell_type": "code",
   "execution_count": 9,
   "metadata": {
    "collapsed": true
   },
   "outputs": [],
   "source": [
    "sim_mat = np.zeros(shape=(len(df),len(df)))"
   ]
  },
  {
   "cell_type": "code",
   "execution_count": 10,
   "metadata": {},
   "outputs": [
    {
     "name": "stdout",
     "output_type": "stream",
     "text": [
      "3081.55106306\n"
     ]
    }
   ],
   "source": [
    "t0 = time()\n",
    "for i in range (0, len(df_part)):\n",
    "    for j in range (i, len(df_part)):\n",
    "        v1 = df_part.iloc[i]['s_vec']\n",
    "        v2 = df_part.iloc[j]['s_vec']\n",
    "        sim_mat[i][j] = 1.0 - aT.get_sim(v1, v2)\n",
    "        sim_mat[j][i] = sim_mat[i][j]\n",
    "print (time() - t0)"
   ]
  },
  {
   "cell_type": "code",
   "execution_count": 321,
   "metadata": {},
   "outputs": [
    {
     "data": {
      "text/plain": [
       "(0.28809220426060411, 0.28809220426060411)"
      ]
     },
     "execution_count": 321,
     "metadata": {},
     "output_type": "execute_result"
    }
   ],
   "source": [
    "sim_mat[1][2001], sim_mat[2001][1]"
   ]
  },
  {
   "cell_type": "markdown",
   "metadata": {
    "collapsed": true
   },
   "source": [
    "dist = 1.0 - sim_mat"
   ]
  },
  {
   "cell_type": "code",
   "execution_count": 265,
   "metadata": {
    "collapsed": true
   },
   "outputs": [],
   "source": [
    "orig_df = pd.read_csv('/Users/nhu2000/projects/SimilarSearch/data/final/huizhou-final-v2.csv')"
   ]
  },
  {
   "cell_type": "code",
   "execution_count": 323,
   "metadata": {},
   "outputs": [
    {
     "data": {
      "text/plain": [
       "(2190, 665)"
      ]
     },
     "execution_count": 323,
     "metadata": {},
     "output_type": "execute_result"
    }
   ],
   "source": [
    "dict"
   ]
  },
  {
   "cell_type": "code",
   "execution_count": 11,
   "metadata": {
    "collapsed": true
   },
   "outputs": [],
   "source": [
    "def get_content_seg_by_url(url):\n",
    "    df = orig_df[orig_df['url'] == url]\n",
    "    return df.iloc[0]['content_seg']"
   ]
  },
  {
   "cell_type": "code",
   "execution_count": 12,
   "metadata": {
    "collapsed": true
   },
   "outputs": [],
   "source": [
    "articles = df_part['body']"
   ]
  },
  {
   "cell_type": "code",
   "execution_count": 13,
   "metadata": {
    "collapsed": true
   },
   "outputs": [],
   "source": [
    "from sklearn.feature_extraction.text import TfidfVectorizer\n",
    "vectorizer = TfidfVectorizer(analyzer = 'word', max_df=0.8, min_df=0.08, use_idf=True, stop_words = 'english', max_features=200000,)\n",
    "document_term_mat = vectorizer.fit_transform(articles)\n",
    "terms = vectorizer.get_feature_names()"
   ]
  },
  {
   "cell_type": "code",
   "execution_count": 15,
   "metadata": {
    "collapsed": true
   },
   "outputs": [],
   "source": [
    "from sklearn.feature_extraction.text import TfidfVectorizer\n",
    "vectorizer = TfidfVectorizer(analyzer = 'word', max_df=0.8, min_df=0.08, use_idf=False, stop_words = 'english', max_features=200000,)\n",
    "document_term_mat = vectorizer.fit_transform(articles)\n",
    "terms = vectorizer.get_feature_names()"
   ]
  },
  {
   "cell_type": "code",
   "execution_count": 43,
   "metadata": {
    "collapsed": true
   },
   "outputs": [],
   "source": [
    "from sklearn.metrics.pairwise import cosine_similarity\n",
    "sim_max = cosine_similarity(document_term_mat)"
   ]
  },
  {
   "cell_type": "code",
   "execution_count": 44,
   "metadata": {
    "collapsed": true
   },
   "outputs": [],
   "source": [
    "dist = 1 - sim_max"
   ]
  },
  {
   "cell_type": "code",
   "execution_count": 29,
   "metadata": {},
   "outputs": [
    {
     "data": {
      "text/plain": [
       "(0.075803005918599869, 0.075803005918599869)"
      ]
     },
     "execution_count": 29,
     "metadata": {},
     "output_type": "execute_result"
    }
   ],
   "source": [
    "sim_max[1][2001], sim_max[2001][1]"
   ]
  },
  {
   "cell_type": "code",
   "execution_count": 342,
   "metadata": {},
   "outputs": [
    {
     "data": {
      "text/plain": [
       "1.0"
      ]
     },
     "execution_count": 342,
     "metadata": {},
     "output_type": "execute_result"
    }
   ],
   "source": [
    "sim_max[2][2]"
   ]
  },
  {
   "cell_type": "code",
   "execution_count": 250,
   "metadata": {
    "collapsed": true
   },
   "outputs": [],
   "source": [
    "print (document_term_mat.shape)"
   ]
  },
  {
   "cell_type": "code",
   "execution_count": 14,
   "metadata": {
    "collapsed": true
   },
   "outputs": [],
   "source": [
    "vocab_frame = pd.DataFrame({'words': terms})"
   ]
  },
  {
   "cell_type": "code",
   "execution_count": 15,
   "metadata": {},
   "outputs": [
    {
     "name": "stdout",
     "output_type": "stream",
     "text": [
      "CPU times: user 41 s, sys: 124 ms, total: 41.1 s\n",
      "Wall time: 41.2 s\n"
     ]
    }
   ],
   "source": [
    "from sklearn.cluster import KMeans\n",
    "num_clusters = 6\n",
    "km = KMeans(n_clusters=num_clusters)\n",
    "%time km.fit(document_term_mat)\n",
    "clusters = km.labels_.tolist()"
   ]
  },
  {
   "cell_type": "code",
   "execution_count": 16,
   "metadata": {},
   "outputs": [
    {
     "name": "stderr",
     "output_type": "stream",
     "text": [
      "/Library/Python/2.7/site-packages/ipykernel-4.5.2-py2.7.egg/ipykernel/__main__.py:1: SettingWithCopyWarning: \n",
      "A value is trying to be set on a copy of a slice from a DataFrame.\n",
      "Try using .loc[row_indexer,col_indexer] = value instead\n",
      "\n",
      "See the caveats in the documentation: http://pandas.pydata.org/pandas-docs/stable/indexing.html#indexing-view-versus-copy\n",
      "  if __name__ == '__main__':\n"
     ]
    }
   ],
   "source": [
    "df_part['cluster'] = clusters"
   ]
  },
  {
   "cell_type": "code",
   "execution_count": 34,
   "metadata": {},
   "outputs": [
    {
     "name": "stdout",
     "output_type": "stream",
     "text": [
      "<class 'pandas.core.frame.DataFrame'>\n",
      "Int64Index: 4309 entries, 2 to 86191\n",
      "Data columns (total 20 columns):\n",
      "url                4309 non-null object\n",
      "domain             4309 non-null object\n",
      "body               4309 non-null object\n",
      "title              4309 non-null object\n",
      "key_words          4309 non-null object\n",
      "sim                4309 non-null float64\n",
      "dl_sim             4309 non-null float64\n",
      "analytics_sim      4309 non-null float64\n",
      "dm_sim             4309 non-null float64\n",
      "ml_sim             4309 non-null float64\n",
      "dsj_sim            4309 non-null float64\n",
      "dsn_sim            4309 non-null float64\n",
      "ba_sim             4309 non-null float64\n",
      "ds_sim             4309 non-null float64\n",
      "summary            4309 non-null object\n",
      "signature          4309 non-null object\n",
      "check_distances    4309 non-null float64\n",
      "bd_sim             4309 non-null float64\n",
      "s_vec              4309 non-null object\n",
      "cluster            4309 non-null int64\n",
      "dtypes: float64(11), int64(1), object(8)\n",
      "memory usage: 706.9+ KB\n"
     ]
    }
   ],
   "source": [
    "df_part.info()"
   ]
  },
  {
   "cell_type": "code",
   "execution_count": 17,
   "metadata": {},
   "outputs": [
    {
     "data": {
      "text/plain": [
       "3    2181\n",
       "1     703\n",
       "0     643\n",
       "2     373\n",
       "5     243\n",
       "4     157\n",
       "Name: cluster, dtype: int64"
      ]
     },
     "execution_count": 17,
     "metadata": {},
     "output_type": "execute_result"
    }
   ],
   "source": [
    "df_part['cluster'].value_counts()"
   ]
  },
  {
   "cell_type": "markdown",
   "metadata": {
    "collapsed": true
   },
   "source": [
    "df.to_csv('/Users/nhu2000/projects/SimilarSearch/data/clean/huizhou-web-full_v1_4.csv', encoding='utf-8', index=False)"
   ]
  },
  {
   "cell_type": "code",
   "execution_count": 18,
   "metadata": {},
   "outputs": [
    {
     "name": "stdout",
     "output_type": "stream",
     "text": [
      "Cluster 0 words:\n",
      "data\n",
      "analytics\n",
      "big\n",
      "ibm\n",
      "business\n",
      "management\n",
      "cloud\n",
      "blog\n",
      "hadoop\n",
      "predictive\n",
      "social\n",
      "best\n",
      "world\n",
      "events\n",
      "2015\n",
      "use\n",
      "media\n",
      "intelligence\n",
      "services\n",
      "customer\n",
      "\n",
      "\n",
      "Cluster 1 words:\n",
      "data\n",
      "science\n",
      "analytics\n",
      "big\n",
      "learning\n",
      "machine\n",
      "mining\n",
      "central\n",
      "sign\n",
      "2015\n",
      "news\n",
      "scientist\n",
      "tags\n",
      "stories\n",
      "2016\n",
      "comments\n",
      "hadoop\n",
      "need\n",
      "deep\n",
      "rss\n",
      "\n",
      "\n",
      "Cluster 2 words:\n",
      "university\n",
      "students\n",
      "student\n",
      "research\n",
      "school\n",
      "programs\n",
      "program\n",
      "science\n",
      "information\n",
      "engineering\n",
      "academic\n",
      "career\n",
      "center\n",
      "course\n",
      "computer\n",
      "department\n",
      "education\n",
      "courses\n",
      "business\n",
      "degree\n",
      "\n",
      "\n",
      "Cluster 3 words:\n",
      "data\n",
      "news\n",
      "com\n",
      "business\n",
      "information\n",
      "services\n",
      "2015\n",
      "new\n",
      "contact\n",
      "security\n",
      "2016\n",
      "support\n",
      "software\n",
      "search\n",
      "home\n",
      "mobile\n",
      "web\n",
      "site\n",
      "management\n",
      "use\n",
      "\n",
      "\n",
      "Cluster 4 words:\n",
      "account\n",
      "tweets\n",
      "twitter\n",
      "english\n",
      "tweet\n",
      "close\n",
      "search\n",
      "uk\n",
      "users\n",
      "videos\n",
      "language\n",
      "following\n",
      "view\n",
      "link\n",
      "log\n",
      "location\n",
      "http\n",
      "like\n",
      "com\n",
      "sign\n",
      "\n",
      "\n",
      "Cluster 5 words:\n",
      "2015\n",
      "2013\n",
      "2014\n",
      "2012\n",
      "2011\n",
      "january\n",
      "data\n",
      "july\n",
      "december\n",
      "august\n",
      "september\n",
      "october\n",
      "november\n",
      "2016\n",
      "june\n",
      "april\n",
      "february\n",
      "march\n",
      "14\n",
      "29\n",
      "\n",
      "\n"
     ]
    }
   ],
   "source": [
    "from __future__ import print_function\n",
    "order_centroids = km.cluster_centers_.argsort()[:, ::-1] \n",
    "\n",
    "for i in range(num_clusters):\n",
    "    print(\"Cluster %d words:\" % i)\n",
    "    \n",
    "    for ind in order_centroids[i, :20]: #replace 6 with n words per cluster\n",
    "        print (terms[ind])       \n",
    "        #print(' %s' % vocab_frame.ix[terms[ind].split(' ')].values.tolist()[0][0].encode('utf-8', 'ignore'))\n",
    "    print() #add whitespace\n",
    "    print() #add whitespace\n",
    "    "
   ]
  },
  {
   "cell_type": "code",
   "execution_count": 19,
   "metadata": {
    "collapsed": true
   },
   "outputs": [],
   "source": [
    "#Multidimensional scaling\n",
    "import os  # for os.path.basename\n",
    "\n",
    "import matplotlib.pyplot as plt\n",
    "import matplotlib \n",
    "\n",
    "from sklearn.manifold import MDS"
   ]
  },
  {
   "cell_type": "code",
   "execution_count": null,
   "metadata": {
    "collapsed": true
   },
   "outputs": [],
   "source": [
    "MDS()\n",
    "\n",
    "# convert two components as we're plotting points in a two-dimensional plane\n",
    "# \"precomputed\" because we provide a distance matrix\n",
    "# we will also specify `random_state` so the plot is reproducible.\n",
    "mds = MDS(n_components=2, dissimilarity=\"precomputed\", random_state=1)\n",
    "\n",
    "pos = mds.fit_transform(sim_mat)  # shape (n_components, n_samples)\n",
    "#pos = mds.fit_transform(dist)  # shape (n_components, n_samples)\n",
    "\n",
    "xs_full, ys_full = pos[:, 0], pos[:, 1]\n",
    "print()\n",
    "print()"
   ]
  },
  {
   "cell_type": "code",
   "execution_count": 46,
   "metadata": {
    "collapsed": true
   },
   "outputs": [],
   "source": [
    "#set up colors per clusters using a dict\n",
    "cluster_colors = {0: '#8f9e77', 1: '#d95f02', 2: '#7570b3', 3: '#e78181', 4: '#66a61e',\n",
    "                  5: '#fb0877', 6: '#065f06', 7: '#f570b3', 8: '#08848a', 9: '#a4a4a4',\n",
    "                 }\n",
    "\n",
    "#set up cluster names using a dict\n",
    "cluster_names = {0: 'Analytics', \n",
    "                 1: 'Data Science', \n",
    "                 2: 'Developers', \n",
    "                 3: 'News', \n",
    "                 4: 'Research',  \n",
    "                 5: 'Social Media' \n",
    "                 }"
   ]
  },
  {
   "cell_type": "code",
   "execution_count": 48,
   "metadata": {
    "scrolled": true
   },
   "outputs": [
    {
     "data": {
      "image/png": "[encoded data removed]",
      "text/plain": [
       "<matplotlib.figure.Figure at 0x115ff6ed0>"
      ]
     },
     "metadata": {},
     "output_type": "display_data"
    }
   ],
   "source": [
    "#some ipython magic to show the matplotlib plots inline\n",
    "%matplotlib inline \n",
    "\n",
    "from matplotlib.font_manager import FontManager\n",
    "\n",
    "myfont = matplotlib.font_manager.FontProperties(fname='/System/Library/Fonts/STHeiti Light.ttc')\n",
    "\n",
    "\n",
    "#plt.rcParams['font.sans-serif'] = ['SimHei'] # 指定默认字体\n",
    "plt.rcParams['axes.unicode_minus'] = False # 解决保存图像是负号'-'显示为方块的问题\n",
    "    \n",
    "\n",
    "#create data frame that has the result of the MDS plus the cluster numbers and titles\n",
    "#df = pd.DataFrame(dict(x=xs, y=ys, label=clusters, title=titles)) \n",
    "#df_plot = pd.DataFrame(dict(x=xs, y=ys, label=clusters)) \n",
    "df_plot = pd.DataFrame(dict(x=xs_full, y=ys_full, label=clusters)) \n",
    "\n",
    "\n",
    "#group by cluster\n",
    "groups = df_plot.groupby('label')\n",
    "\n",
    "# set up plot\n",
    "fig, ax = plt.subplots(figsize=(17, 9)) # set size\n",
    "ax.margins(0.05) # Optional, just adds 5% padding to the autoscaling\n",
    "\n",
    "idx = 0\n",
    "#iterate through groups to layer the plot\n",
    "#note that I use the cluster_name and cluster_color dicts with the 'name' lookup to return the appropriate color/label\n",
    "for name, group in groups:\n",
    "    if 1: #idx == 2 or idx == 3 or idx == 0:\n",
    "        \n",
    "        #ax.legend(prop=myfont)\n",
    "\n",
    "        ax.plot(group.x, group.y, marker='o', linestyle='', ms=12, \n",
    "                label=cluster_names[name], color=cluster_colors[name], \n",
    "                mec='none')\n",
    "        ax.set_aspect('auto')\n",
    "        ax.tick_params(\\\n",
    "            axis= 'x',          # changes apply to the x-axis\n",
    "            which='both',      # both major and minor ticks are affected\n",
    "            bottom='off',      # ticks along the bottom edge are off\n",
    "            top='off',         # ticks along the top edge are off\n",
    "            labelbottom='off')\n",
    "        ax.tick_params(\\\n",
    "            axis= 'y',         # changes apply to the y-axis\n",
    "            which='both',      # both major and minor ticks are affected\n",
    "            left='off',      # ticks along the bottom edge are off\n",
    "            top='off',         # ticks along the top edge are off\n",
    "            labelleft='off')\n",
    "    idx += 1 \n",
    "\n",
    "#ax.legend(numpoints=1)  #show legend with only 1 point\n",
    "ax.legend(numpoints=1, prop=myfont)  #show legend with only 1 point\n",
    "\n",
    "plt.title('DSI MDS Plot (fq) with RF, Nine Culsters and 4309 Points ')\n",
    "\n",
    "#add label in x,y position with the label as the film title\n",
    "#for i in range(len(df)):\n",
    "#    ax.text(df.ix[i]['x'], df.ix[i]['y'], df.ix[i]['title'], size=8)  \n",
    "#    ax.text(df.ix[i]['x'], df.ix[i]['y'], size=8)  #Not draw the titles\n",
    "\n",
    "    \n",
    "    \n",
    "#plt.show() #show the plot\n",
    "\n",
    "#uncomment the below to save the plot if need be\n",
    "plt.savefig('DSI_clusters_raw.png')\n"
   ]
  },
  {
   "cell_type": "code",
   "execution_count": null,
   "metadata": {
    "collapsed": true
   },
   "outputs": [],
   "source": []
  },
  {
   "cell_type": "code",
   "execution_count": 301,
   "metadata": {
    "collapsed": true
   },
   "outputs": [],
   "source": [
    "draw_df = df[df['cluster'] == 6]"
   ]
  },
  {
   "cell_type": "code",
   "execution_count": 302,
   "metadata": {
    "collapsed": true
   },
   "outputs": [],
   "source": [
    "for i in range (0, len(draw_df)):\n",
    "    t = draw_df.iloc[i]['title']\n",
    "    print (i, t)"
   ]
  },
  {
   "cell_type": "code",
   "execution_count": null,
   "metadata": {
    "collapsed": true
   },
   "outputs": [],
   "source": []
  }
 ],
 "metadata": {
  "kernelspec": {
   "display_name": "Python 3 (ipykernel)",
   "language": "python",
   "name": "python3"
  },
  "language_info": {
   "codemirror_mode": {
    "name": "ipython",
    "version": 3
   },
   "file_extension": ".py",
   "mimetype": "text/x-python",
   "name": "python",
   "nbconvert_exporter": "python",
   "pygments_lexer": "ipython3",
   "version": "3.8.10"
  }
 },
 "nbformat": 4,
 "nbformat_minor": 2
}
