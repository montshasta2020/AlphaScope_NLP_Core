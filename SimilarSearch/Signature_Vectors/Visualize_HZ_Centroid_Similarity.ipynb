{
 "cells": [
  {
   "cell_type": "code",
   "execution_count": 49,
   "metadata": {
    "collapsed": true
   },
   "outputs": [],
   "source": [
    "import pandas as pd\n",
    "from collections import Counter\n",
    "from time import time"
   ]
  },
  {
   "cell_type": "code",
   "execution_count": 19,
   "metadata": {
    "collapsed": true
   },
   "outputs": [],
   "source": [
    "import sys\n",
    "reload(sys)\n",
    "sys.setdefaultencoding('utf-8')"
   ]
  },
  {
   "cell_type": "code",
   "execution_count": 8,
   "metadata": {
    "collapsed": true
   },
   "outputs": [],
   "source": [
    "huizhou_stop_words = [u'的', u'了', u'在', u'是', u'安徽', u'和', u'有', u'我', u'年', u'上', u'他', u'我们', u'及',\n",
    "                      u'为', u'与', u'人', u'也', u'于', u'中', u'就', u'都', u'在线', u'等', u'不', u'网站', u'你', \n",
    "                      u'一个', u'到', u'之', u'对', u'说', u'进入', u'后', u'月', u'将', u'时', u'又', u'被', u'会员'\n",
    "                     u'版权', u'论坛', u'以', u'而', u'着', u'下', u'这', u'但', u'要', u'或', u'首页', u'这', u'更',\n",
    "                     u'地', u'从', u'卡', u'来', '多', u'日', u'她', u'还', u'联系', u'那', u'一处', u'一直', u'个', \n",
    "                     u'向', u'并', u'曾', u'这样', u'里', u'合肥', u'推荐', u'专栏', u'相关', u'当前', u'所有', u'中心'\n",
    "                     u'频道', u'编辑', u'位置', u'第一', u'社区', u'看', '中安', u'安徽省', u'大', u'许可证', u'许可',\n",
    "                     u'让', u'没有', u'什么', u'其', '请', '该', '用', '积分', u'凤阳', u'一篇', u'版权', u'县', u'这里',\n",
    "                      u'就是', u'生于', u'他们', u'它', u'男', u'去', u'会', u'由', u'一', u'做', u'所', u'毕业', u'一种',\n",
    "                     u'协会会员', u'把', u'能', u'至', u'这个', u'自己', u'黄山市', u'出', u'如', u'如',u'可以', u'很',\n",
    "                     u'成为', u'好', u'先生', u'中国', u'集团', u'江淮', u'网', u'特色', u'全国', u'新', u'作为', u'师专',\n",
    "                     u'则', u'重要', u'们', u'给', u'这些', u'过', u'安', u'最', u'现在', u'得', u'国家', u'使', u'这种',\n",
    "                     u'主要', u'具有', u'人们', u'已', u'以及', u'有着', u'一定', u'一些', u'许多', u'进行', u'由于', u'却', \n",
    "                      u'其中', u'只是', u'当时', u'方面', u'即 ', u'徽', u'内容', u'还有', u'之一', u'者 ', u'不仅', u'者',\n",
    "                      u'特别', u'名', u'提供', u'同时', u'大量', u'因此', u'即']"
   ]
  },
  {
   "cell_type": "code",
   "execution_count": 9,
   "metadata": {
    "collapsed": true
   },
   "outputs": [],
   "source": [
    "import unicodedata\n",
    "def remove_non_chinese(s):\n",
    "    r = [c for c in s if unicodedata.category(c).startswith('L')]\n",
    "#print r\n",
    "    return ''.join(r)"
   ]
  },
  {
   "cell_type": "code",
   "execution_count": 10,
   "metadata": {
    "collapsed": true
   },
   "outputs": [],
   "source": [
    "def ch_title_letters_removal(x):\n",
    "    #print 'coming', x\n",
    "    t = x.strip('  ')\n",
    "    if(len(t)) == 0:\n",
    "        return None\n",
    "    \n",
    "    if(len(x) > 0):\n",
    "        #s = x.strip()\n",
    "        s = remove_non_chinese(x)\n",
    "        if len(s) > 0 and s not in huizhou_stop_words:\n",
    "            return s.strip()\n",
    "        else:\n",
    "            return None\n",
    "    return None"
   ]
  },
  {
   "cell_type": "code",
   "execution_count": null,
   "metadata": {
    "collapsed": true
   },
   "outputs": [],
   "source": []
  },
  {
   "cell_type": "code",
   "execution_count": 4,
   "metadata": {
    "collapsed": true
   },
   "outputs": [],
   "source": [
    "df = pd.read_csv('../data/clean/huizhou_full_v1_1.csv')"
   ]
  },
  {
   "cell_type": "code",
   "execution_count": 5,
   "metadata": {},
   "outputs": [
    {
     "name": "stdout",
     "output_type": "stream",
     "text": [
      "<class 'pandas.core.frame.DataFrame'>\n",
      "RangeIndex: 169079 entries, 0 to 169078\n",
      "Data columns (total 6 columns):\n",
      "url            169079 non-null object\n",
      "title          169079 non-null object\n",
      "summary        169079 non-null object\n",
      "s_vec_cnt      169079 non-null object\n",
      "content        169079 non-null object\n",
      "content_seg    169079 non-null object\n",
      "dtypes: object(6)\n",
      "memory usage: 7.7+ MB\n"
     ]
    }
   ],
   "source": [
    "df.info()"
   ]
  },
  {
   "cell_type": "code",
   "execution_count": 67,
   "metadata": {
    "collapsed": true
   },
   "outputs": [],
   "source": [
    "from time import time\n",
    "import numpy as np\n",
    "import math\n",
    "\n",
    "class Toolbox (object):\n",
    "    def __init__(self):\n",
    "        self.init = 1\n",
    "        \n",
    "    def sort_dict (self, d, max=68):\n",
    "        t = sorted(d.items(), key=lambda x: (-x[1], x[0]))\n",
    "        return t[:max]\n",
    "    \n",
    "    def add_dict (self, x, y):\n",
    "        d = { k: x.get(k, 0) + y.get(k, 0) for k in set(x) | set(y) }\n",
    "        return d\n",
    "    \n",
    "    def create_dict(self, k1, v1, filters = True):\n",
    "        if filters == True:\n",
    "            k1_list0 = k1.strip('()').split(',')\n",
    "            v1_list0 = v1.strip('()').split(',')\n",
    "            #print v1_list0\n",
    "            #print k1_list0\n",
    "            k1_list1 = filter(None, k1_list0)        \n",
    "            v1_list1 = filter(None, v1_list0)\n",
    "        else:\n",
    "            k1_list1 = k1\n",
    "            v1_list1 = v1\n",
    "        \n",
    "        #print ' '.join(k1_list1)\n",
    "        k2_list1 = [item.decode('utf-8') for item in k1_list1]\n",
    "        v2_list1 = [float(item) for item in v1_list1]\n",
    "\n",
    "    def create_vec(self, k1, v1):\n",
    "        return (zip(k1, v1))\n",
    "    \n",
    "    def get_dict_top_n(self, d, max=68):\n",
    "        ret = self.sort_dict(d, max)\n",
    "        words, fq = zip(*ret)\n",
    "        sum_up = sum(fq)\n",
    "        fq_normalized = tuple(item/sum_up for item in fq)\n",
    "        \n",
    "        return dict(zip(words, fq_normalized))\n",
    "    \n",
    "    #calculate cosine between two dictionaries\n",
    "    def get_sim(self, vec1, vec2):\n",
    "        \n",
    "        #get intersection\n",
    "        intersection = set(vec1.keys()) & set(vec2.keys())\n",
    "        \n",
    "        #print intersection\n",
    "        numerator = sum([vec1[x] * vec2[x] for x in intersection])\n",
    "\n",
    "        #print 'num ---', numerator\n",
    "        #print vec1.keys()\n",
    "        #print vec1.values()\n",
    "        #print vec2.keys()\n",
    "        #print vec2.values()        \n",
    "        \n",
    "        if numerator > 0.0:\n",
    "            sum1 = sum([vec1[x]**2 for x in vec1.keys()])\n",
    "            sum2 = sum([vec2[x]**2 for x in vec2.keys()])\n",
    "            denominator = math.sqrt(sum1) * math.sqrt(sum2)\n",
    "        else:\n",
    "            return 0.0\n",
    "\n",
    "        if not denominator:\n",
    "            return 0.0\n",
    "        else:\n",
    "            return float(numerator) / denominator\n",
    "        \n",
    "    def sum_vects(self, vects):\n",
    "        sum_vects = None\n",
    "        for vec in vects:\n",
    "            if sum_vects == None:\n",
    "                sum_vects = vec\n",
    "            else:\n",
    "                sum_vects = self.add_dict(sum_vects, vec)\n",
    "        #only return first 100 after additions\n",
    "        #print type(sum_vecs)\n",
    "        return self.get_dict_top_n(sum_vects)\n",
    "    \n",
    "    def unserialized(self, x, eval_val=True):\n",
    "        #print '----- in'\n",
    "        #print x\n",
    "        d = dict()\n",
    "        s = x.strip('{}')\n",
    "        #s = s.strip('[]')\n",
    "        ret = s.split(',')\n",
    "\n",
    "        idx = 0\n",
    "        #print ret\n",
    "        for t in ret:\n",
    "            r = t.split(':')\n",
    "            #print r[0], r[1]\n",
    "            key = eval(r[0].decode('utf-8'))\n",
    "            if idx >= 100:\n",
    "                if eval_val == True:\n",
    "                    d[key] = int(r[1])\n",
    "                else:\n",
    "                    d[key] = r[1]\n",
    "                idx += 1\n",
    "        #print len(ret)\n",
    "        #print 'split -----'\n",
    "        #print ' '.join(ret)\n",
    "        return d\n",
    "        \n",
    "    def get_centroid_df(self, check, num=2000):        \n",
    "        if len(check) > num:\n",
    "            #sampling     \n",
    "            ratio = num*1.0/len(check)\n",
    "            print 'ratio ---', ratio \n",
    "            msk = np.random.rand(len(check)) < ratio\n",
    "            tmp = check[msk]\n",
    "            check = tmp\n",
    "    \n",
    "        check.info()\n",
    "        check_vecs = check['s_vec']\n",
    "        return self.sum_vects(check_vecs) \n",
    "\n",
    "    def get_centroid_str(self, df, in_dict):        \n",
    "        df['s_check'] = df.s_vec.map(lambda x: self.set_contained_flag(x, in_dict))\n",
    "        check = df[df['s_check'] == True]\n",
    "\n",
    "        return self.get_centroid_df(check)\n",
    "\n",
    "    def set_contained_flag(self, x, y):\n",
    "        x_keys = x.keys()\n",
    "        y_keys = y.keys()\n",
    "        for s in y_keys:\n",
    "            if s in x_keys:\n",
    "                return True\n",
    "        return False\n",
    "    \n",
    "    def get_dict_from_input(self, txt):\n",
    "        ret = txt.split()\n",
    "        if len(ret) == 0:\n",
    "            return None\n",
    "        \n",
    "        d = dict()\n",
    "        for t in ret:\n",
    "            d[t] = 1.0/len(ret)\n",
    "        \n",
    "        return d"
   ]
  },
  {
   "cell_type": "code",
   "execution_count": 68,
   "metadata": {
    "collapsed": true
   },
   "outputs": [],
   "source": [
    "aT = Toolbox()"
   ]
  },
  {
   "cell_type": "code",
   "execution_count": 51,
   "metadata": {
    "collapsed": true
   },
   "outputs": [],
   "source": [
    "global idx\n",
    "idx = 0\n",
    "def map_s_vec(x):\n",
    "    global idx\n",
    "    \n",
    "    print idx\n",
    "    s = x.decode('utf-8')\n",
    "    words = s.split()\n",
    "    #print words\n",
    "    flatten = [ch_title_letters_removal(item) for item in words if ch_title_letters_removal(item) != None ]\n",
    "    count = Counter(flatten)\n",
    "    top_68 = count.most_common(68)\n",
    "    idx += 1\n",
    "    return dict(top_68)"
   ]
  },
  {
   "cell_type": "code",
   "execution_count": 56,
   "metadata": {},
   "outputs": [],
   "source": [
    "vec = map_s_vec(df.iloc[1]['content_seg'])"
   ]
  },
  {
   "cell_type": "code",
   "execution_count": 57,
   "metadata": {
    "collapsed": true
   },
   "outputs": [],
   "source": [
    "print ' '.join(vec.keys())"
   ]
  },
  {
   "cell_type": "code",
   "execution_count": 22,
   "metadata": {
    "collapsed": true
   },
   "outputs": [],
   "source": [
    "print df.iloc[1]['content_seg']"
   ]
  },
  {
   "cell_type": "code",
   "execution_count": 58,
   "metadata": {},
   "outputs": [],
   "source": [
    "t0 = time()\n",
    "df['s_vec'] = df.content_seg.map(lambda x: map_s_vec(x)) #946s\n",
    "print time() - t0"
   ]
  },
  {
   "cell_type": "code",
   "execution_count": 55,
   "metadata": {},
   "outputs": [
    {
     "data": {
      "text/html": [
       "<div>\n",
       "<table border=\"1\" class=\"dataframe\">\n",
       "  <thead>\n",
       "    <tr style=\"text-align: right;\">\n",
       "      <th></th>\n",
       "      <th>url</th>\n",
       "      <th>title</th>\n",
       "      <th>summary</th>\n",
       "      <th>s_vec_cnt</th>\n",
       "      <th>content</th>\n",
       "      <th>content_seg</th>\n",
       "      <th>s_vec</th>\n",
       "    </tr>\n",
       "  </thead>\n",
       "  <tbody>\n",
       "    <tr>\n",
       "      <th>0</th>\n",
       "      <td>http://cul.anhuinews.com/system/2016/11/28/007...</td>\n",
       "      <td>洪建华夫妇的竹刻人生</td>\n",
       "      <td>。不久前，我们几名政协委员应邀到正在建设中的黄山市徽派雕刻博物馆参观考察时，洪建华一边介绍新...</td>\n",
       "      <td>{u'融入': 1, u'国内外': 1, u'夫妻俩': 1, u'艺术馆': 2, u'...</td>\n",
       "      <td>谁能想到，洪建华夫妇这对一无学历、二无家传、三无师承的“三无大师”成了省级非物质文化遗产·徽...</td>\n",
       "      <td>谁 能 想到 ， 洪 建华 夫妇 这 对 一 无 学历 、 二 无 家传 、 三无 师承 的...</td>\n",
       "      <td>{u'地处国道边的这座新馆独特的景观设计加上徽式的建设风格确实让人眼睛一亮洪建华介绍说新馆占...</td>\n",
       "    </tr>\n",
       "    <tr>\n",
       "      <th>1</th>\n",
       "      <td>http://cul.anhuinews.com/system/2016/11/21/007...</td>\n",
       "      <td>徽州民歌传人操明花校园授艺</td>\n",
       "      <td>。“磨米磨麦，磨米磨麦……”随着教室里传来一阵阵悦耳动听的方言民歌声，操明花正兴致勃勃地教同...</td>\n",
       "      <td>{u'传来': 1, u'小学': 1, u'原汁原味': 1, u'明花': 1, u'磨...</td>\n",
       "      <td>近日，省非物质文化遗产徽州民歌传承人操明花前往休宁县海阳二小、歙县城关小学和徽州区岩寺镇中心...</td>\n",
       "      <td>近日 ， 省非 物质 文化遗产 徽州 民歌 传承 人操 明花 前往 休宁县 海阳 二小 、 ...</td>\n",
       "      <td>{u'磨米磨麦磨米磨麦随着教室里传来一阵阵悦耳动听的方言民歌声操明花正兴致勃勃地教同学们学唱...</td>\n",
       "    </tr>\n",
       "    <tr>\n",
       "      <th>2</th>\n",
       "      <td>http://cul.anhuinews.com/system/2016/11/03/007...</td>\n",
       "      <td>黄山楹联漫谈</td>\n",
       "      <td>。黄山雄伟奇丽、气势非凡，原省文联主席赖少其说，非有大手笔，不能画黄山。有“二联”站得高，看...</td>\n",
       "      <td>{u'气派': 1, u'名句': 1, u'唱道': 1, u'千丈': 1, u'凿刻'...</td>\n",
       "      <td>黄山楹联第一人当推明朝诗人余绍祉。他遍历祖国名山大川，见到无数奇峰怪石，却感到抵不上黄山峰林...</td>\n",
       "      <td>黄山 楹联 第一 人当 推 明朝 诗人 余绍祉 。 他 遍历 祖国 名山大川 ， 见到 无数...</td>\n",
       "      <td>{u'黄山旅游楹联资源丰富亟待有识见同爱好的人来开发笔者试从黄山的奇峰怪石和名松中加以杜撰用...</td>\n",
       "    </tr>\n",
       "    <tr>\n",
       "      <th>3</th>\n",
       "      <td>http://cul.anhuinews.com/system/2016/01/26/007...</td>\n",
       "      <td>徽派雕刻——徽州木雕艺术</td>\n",
       "      <td>徽州民居、家具木板和圆木雕刻艺术的简称。木雕在旧属徽州各县分布之广在全国屈指可数，宅院内的屏...</td>\n",
       "      <td>{u'吉祥图案': 1, u'少数': 1, u'显示': 1, u'内': 1, u'木板...</td>\n",
       "      <td>徽州民居、家具木板和圆木雕刻艺术的简称。木雕在旧属徽州各县分布之广在全国屈指可数，宅院内的屏...</td>\n",
       "      <td>徽州 民居 、 家具 木板 和 圆木 雕刻 艺术 的 简称 。 木雕 在 旧属 徽州 各县 ...</td>\n",
       "      <td>{u'徽州民居家具木板和圆木雕刻艺术的简称木雕在旧属徽州各县分布之广在全国屈指可数宅院内的屏...</td>\n",
       "    </tr>\n",
       "    <tr>\n",
       "      <th>4</th>\n",
       "      <td>http://cul.anhuinews.com/system/2016/01/26/007...</td>\n",
       "      <td>徽派雕刻——徽州砖雕艺术</td>\n",
       "      <td>。从早期的简单粗犷、朴素的纹样，逐步演变到后期的繁腹、细致华丽的结构，形成了自己独特的艺术风...</td>\n",
       "      <td>{u'嵌窃时': 1, u'要求': 1, u'厅': 1, u'严谨': 1, u'颇':...</td>\n",
       "      <td>徽州砖雕徽州砖雕的造型，来源于汉画象砖。汉画象砖大都是模印砖坯刻画后入密烧制，嵌窃时再进行修...</td>\n",
       "      <td>徽州 砖雕 徽州 砖雕 的 造型 ， 来源于 汉 画象 砖 。 汉 画象 砖 大都 是 模印...</td>\n",
       "      <td>{u'徽州砖雕徽州砖雕的造型来源于汉画象砖汉画象砖大都是模印砖坯刻画后入密烧制嵌窃时再进行修...</td>\n",
       "    </tr>\n",
       "  </tbody>\n",
       "</table>\n",
       "</div>"
      ],
      "text/plain": [
       "                                                 url          title  \\\n",
       "0  http://cul.anhuinews.com/system/2016/11/28/007...     洪建华夫妇的竹刻人生   \n",
       "1  http://cul.anhuinews.com/system/2016/11/21/007...  徽州民歌传人操明花校园授艺   \n",
       "2  http://cul.anhuinews.com/system/2016/11/03/007...         黄山楹联漫谈   \n",
       "3  http://cul.anhuinews.com/system/2016/01/26/007...   徽派雕刻——徽州木雕艺术   \n",
       "4  http://cul.anhuinews.com/system/2016/01/26/007...   徽派雕刻——徽州砖雕艺术   \n",
       "\n",
       "                                             summary  \\\n",
       "0  。不久前，我们几名政协委员应邀到正在建设中的黄山市徽派雕刻博物馆参观考察时，洪建华一边介绍新...   \n",
       "1  。“磨米磨麦，磨米磨麦……”随着教室里传来一阵阵悦耳动听的方言民歌声，操明花正兴致勃勃地教同...   \n",
       "2  。黄山雄伟奇丽、气势非凡，原省文联主席赖少其说，非有大手笔，不能画黄山。有“二联”站得高，看...   \n",
       "3  徽州民居、家具木板和圆木雕刻艺术的简称。木雕在旧属徽州各县分布之广在全国屈指可数，宅院内的屏...   \n",
       "4  。从早期的简单粗犷、朴素的纹样，逐步演变到后期的繁腹、细致华丽的结构，形成了自己独特的艺术风...   \n",
       "\n",
       "                                           s_vec_cnt  \\\n",
       "0  {u'融入': 1, u'国内外': 1, u'夫妻俩': 1, u'艺术馆': 2, u'...   \n",
       "1  {u'传来': 1, u'小学': 1, u'原汁原味': 1, u'明花': 1, u'磨...   \n",
       "2  {u'气派': 1, u'名句': 1, u'唱道': 1, u'千丈': 1, u'凿刻'...   \n",
       "3  {u'吉祥图案': 1, u'少数': 1, u'显示': 1, u'内': 1, u'木板...   \n",
       "4  {u'嵌窃时': 1, u'要求': 1, u'厅': 1, u'严谨': 1, u'颇':...   \n",
       "\n",
       "                                             content  \\\n",
       "0  谁能想到，洪建华夫妇这对一无学历、二无家传、三无师承的“三无大师”成了省级非物质文化遗产·徽...   \n",
       "1  近日，省非物质文化遗产徽州民歌传承人操明花前往休宁县海阳二小、歙县城关小学和徽州区岩寺镇中心...   \n",
       "2  黄山楹联第一人当推明朝诗人余绍祉。他遍历祖国名山大川，见到无数奇峰怪石，却感到抵不上黄山峰林...   \n",
       "3  徽州民居、家具木板和圆木雕刻艺术的简称。木雕在旧属徽州各县分布之广在全国屈指可数，宅院内的屏...   \n",
       "4  徽州砖雕徽州砖雕的造型，来源于汉画象砖。汉画象砖大都是模印砖坯刻画后入密烧制，嵌窃时再进行修...   \n",
       "\n",
       "                                         content_seg  \\\n",
       "0  谁 能 想到 ， 洪 建华 夫妇 这 对 一 无 学历 、 二 无 家传 、 三无 师承 的...   \n",
       "1  近日 ， 省非 物质 文化遗产 徽州 民歌 传承 人操 明花 前往 休宁县 海阳 二小 、 ...   \n",
       "2  黄山 楹联 第一 人当 推 明朝 诗人 余绍祉 。 他 遍历 祖国 名山大川 ， 见到 无数...   \n",
       "3  徽州 民居 、 家具 木板 和 圆木 雕刻 艺术 的 简称 。 木雕 在 旧属 徽州 各县 ...   \n",
       "4  徽州 砖雕 徽州 砖雕 的 造型 ， 来源于 汉 画象 砖 。 汉 画象 砖 大都 是 模印...   \n",
       "\n",
       "                                               s_vec  \n",
       "0  {u'地处国道边的这座新馆独特的景观设计加上徽式的建设风格确实让人眼睛一亮洪建华介绍说新馆占...  \n",
       "1  {u'磨米磨麦磨米磨麦随着教室里传来一阵阵悦耳动听的方言民歌声操明花正兴致勃勃地教同学们学唱...  \n",
       "2  {u'黄山旅游楹联资源丰富亟待有识见同爱好的人来开发笔者试从黄山的奇峰怪石和名松中加以杜撰用...  \n",
       "3  {u'徽州民居家具木板和圆木雕刻艺术的简称木雕在旧属徽州各县分布之广在全国屈指可数宅院内的屏...  \n",
       "4  {u'徽州砖雕徽州砖雕的造型来源于汉画象砖汉画象砖大都是模印砖坯刻画后入密烧制嵌窃时再进行修...  "
      ]
     },
     "execution_count": 55,
     "metadata": {},
     "output_type": "execute_result"
    }
   ],
   "source": [
    "df.head()"
   ]
  },
  {
   "cell_type": "code",
   "execution_count": 54,
   "metadata": {},
   "outputs": [],
   "source": [
    "import json\n",
    "with open('../data/centroids/hz_centroid_68_v1.json', 'r') as fp:\n",
    "    hz_centroid = json.load(fp)"
   ]
  },
  {
   "cell_type": "code",
   "execution_count": 61,
   "metadata": {
    "collapsed": true
   },
   "outputs": [],
   "source": [
    "global aT\n",
    "global k\n",
    "k = 0"
   ]
  },
  {
   "cell_type": "code",
   "execution_count": 64,
   "metadata": {
    "collapsed": true
   },
   "outputs": [],
   "source": [
    "def map_s_sig(x, y):\n",
    "    global aT, k\n",
    "    print k\n",
    "    k += 1\n",
    "    return aT.get_sim(x, y)"
   ]
  },
  {
   "cell_type": "code",
   "execution_count": 69,
   "metadata": {},
   "outputs": [],
   "source": [
    "t0 = time()\n",
    "df['s_sig'] = df.s_vec.map(lambda x: map_s_sig(x, hz_centroid)) #150s\n",
    "print time() - t0"
   ]
  },
  {
   "cell_type": "code",
   "execution_count": 70,
   "metadata": {},
   "outputs": [
    {
     "data": {
      "text/html": [
       "<div>\n",
       "<table border=\"1\" class=\"dataframe\">\n",
       "  <thead>\n",
       "    <tr style=\"text-align: right;\">\n",
       "      <th></th>\n",
       "      <th>url</th>\n",
       "      <th>title</th>\n",
       "      <th>summary</th>\n",
       "      <th>s_vec_cnt</th>\n",
       "      <th>content</th>\n",
       "      <th>content_seg</th>\n",
       "      <th>s_vec</th>\n",
       "      <th>s_sig</th>\n",
       "    </tr>\n",
       "  </thead>\n",
       "  <tbody>\n",
       "    <tr>\n",
       "      <th>0</th>\n",
       "      <td>http://cul.anhuinews.com/system/2016/11/28/007...</td>\n",
       "      <td>洪建华夫妇的竹刻人生</td>\n",
       "      <td>。不久前，我们几名政协委员应邀到正在建设中的黄山市徽派雕刻博物馆参观考察时，洪建华一边介绍新...</td>\n",
       "      <td>{u'融入': 1, u'国内外': 1, u'夫妻俩': 1, u'艺术馆': 2, u'...</td>\n",
       "      <td>谁能想到，洪建华夫妇这对一无学历、二无家传、三无师承的“三无大师”成了省级非物质文化遗产·徽...</td>\n",
       "      <td>谁 能 想到 ， 洪 建华 夫妇 这 对 一 无 学历 、 二 无 家传 、 三无 师承 的...</td>\n",
       "      <td>{u'很多': 3, u'竹木': 4, u'洪': 20, u'雕刻': 21, u'展示...</td>\n",
       "      <td>0.148665</td>\n",
       "    </tr>\n",
       "    <tr>\n",
       "      <th>1</th>\n",
       "      <td>http://cul.anhuinews.com/system/2016/11/21/007...</td>\n",
       "      <td>徽州民歌传人操明花校园授艺</td>\n",
       "      <td>。“磨米磨麦，磨米磨麦……”随着教室里传来一阵阵悦耳动听的方言民歌声，操明花正兴致勃勃地教同...</td>\n",
       "      <td>{u'传来': 1, u'小学': 1, u'原汁原味': 1, u'明花': 1, u'磨...</td>\n",
       "      <td>近日，省非物质文化遗产徽州民歌传承人操明花前往休宁县海阳二小、歙县城关小学和徽州区岩寺镇中心...</td>\n",
       "      <td>近日 ， 省非 物质 文化遗产 徽州 民歌 传承 人操 明花 前往 休宁县 海阳 二小 、 ...</td>\n",
       "      <td>{u'声乐': 1, u'原生态': 1, u'原汁原味': 1, u'传来': 1, u'...</td>\n",
       "      <td>0.276219</td>\n",
       "    </tr>\n",
       "    <tr>\n",
       "      <th>2</th>\n",
       "      <td>http://cul.anhuinews.com/system/2016/11/03/007...</td>\n",
       "      <td>黄山楹联漫谈</td>\n",
       "      <td>。黄山雄伟奇丽、气势非凡，原省文联主席赖少其说，非有大手笔，不能画黄山。有“二联”站得高，看...</td>\n",
       "      <td>{u'气派': 1, u'名句': 1, u'唱道': 1, u'千丈': 1, u'凿刻'...</td>\n",
       "      <td>黄山楹联第一人当推明朝诗人余绍祉。他遍历祖国名山大川，见到无数奇峰怪石，却感到抵不上黄山峰林...</td>\n",
       "      <td>黄山 楹联 第一 人当 推 明朝 诗人 余绍祉 。 他 遍历 祖国 名山大川 ， 见到 无数...</td>\n",
       "      <td>{u'气派': 1, u'名句': 1, u'唱道': 1, u'文联': 3, u'凿刻'...</td>\n",
       "      <td>0.047619</td>\n",
       "    </tr>\n",
       "    <tr>\n",
       "      <th>3</th>\n",
       "      <td>http://cul.anhuinews.com/system/2016/01/26/007...</td>\n",
       "      <td>徽派雕刻——徽州木雕艺术</td>\n",
       "      <td>徽州民居、家具木板和圆木雕刻艺术的简称。木雕在旧属徽州各县分布之广在全国屈指可数，宅院内的屏...</td>\n",
       "      <td>{u'吉祥图案': 1, u'少数': 1, u'显示': 1, u'内': 1, u'木板...</td>\n",
       "      <td>徽州民居、家具木板和圆木雕刻艺术的简称。木雕在旧属徽州各县分布之广在全国屈指可数，宅院内的屏...</td>\n",
       "      <td>徽州 民居 、 家具 木板 和 圆木 雕刻 艺术 的 简称 。 木雕 在 旧属 徽州 各县 ...</td>\n",
       "      <td>{u'吉祥图案': 1, u'少数': 1, u'显示': 1, u'内': 1, u'木板...</td>\n",
       "      <td>0.221148</td>\n",
       "    </tr>\n",
       "    <tr>\n",
       "      <th>4</th>\n",
       "      <td>http://cul.anhuinews.com/system/2016/01/26/007...</td>\n",
       "      <td>徽派雕刻——徽州砖雕艺术</td>\n",
       "      <td>。从早期的简单粗犷、朴素的纹样，逐步演变到后期的繁腹、细致华丽的结构，形成了自己独特的艺术风...</td>\n",
       "      <td>{u'嵌窃时': 1, u'要求': 1, u'厅': 1, u'严谨': 1, u'颇':...</td>\n",
       "      <td>徽州砖雕徽州砖雕的造型，来源于汉画象砖。汉画象砖大都是模印砖坯刻画后入密烧制，嵌窃时再进行修...</td>\n",
       "      <td>徽州 砖雕 徽州 砖雕 的 造型 ， 来源于 汉 画象 砖 。 汉 画象 砖 大都 是 模印...</td>\n",
       "      <td>{u'前后': 1, u'厅': 1, u'严谨': 1, u'颇': 1, u'根据': ...</td>\n",
       "      <td>0.111781</td>\n",
       "    </tr>\n",
       "  </tbody>\n",
       "</table>\n",
       "</div>"
      ],
      "text/plain": [
       "                                                 url          title  \\\n",
       "0  http://cul.anhuinews.com/system/2016/11/28/007...     洪建华夫妇的竹刻人生   \n",
       "1  http://cul.anhuinews.com/system/2016/11/21/007...  徽州民歌传人操明花校园授艺   \n",
       "2  http://cul.anhuinews.com/system/2016/11/03/007...         黄山楹联漫谈   \n",
       "3  http://cul.anhuinews.com/system/2016/01/26/007...   徽派雕刻——徽州木雕艺术   \n",
       "4  http://cul.anhuinews.com/system/2016/01/26/007...   徽派雕刻——徽州砖雕艺术   \n",
       "\n",
       "                                             summary  \\\n",
       "0  。不久前，我们几名政协委员应邀到正在建设中的黄山市徽派雕刻博物馆参观考察时，洪建华一边介绍新...   \n",
       "1  。“磨米磨麦，磨米磨麦……”随着教室里传来一阵阵悦耳动听的方言民歌声，操明花正兴致勃勃地教同...   \n",
       "2  。黄山雄伟奇丽、气势非凡，原省文联主席赖少其说，非有大手笔，不能画黄山。有“二联”站得高，看...   \n",
       "3  徽州民居、家具木板和圆木雕刻艺术的简称。木雕在旧属徽州各县分布之广在全国屈指可数，宅院内的屏...   \n",
       "4  。从早期的简单粗犷、朴素的纹样，逐步演变到后期的繁腹、细致华丽的结构，形成了自己独特的艺术风...   \n",
       "\n",
       "                                           s_vec_cnt  \\\n",
       "0  {u'融入': 1, u'国内外': 1, u'夫妻俩': 1, u'艺术馆': 2, u'...   \n",
       "1  {u'传来': 1, u'小学': 1, u'原汁原味': 1, u'明花': 1, u'磨...   \n",
       "2  {u'气派': 1, u'名句': 1, u'唱道': 1, u'千丈': 1, u'凿刻'...   \n",
       "3  {u'吉祥图案': 1, u'少数': 1, u'显示': 1, u'内': 1, u'木板...   \n",
       "4  {u'嵌窃时': 1, u'要求': 1, u'厅': 1, u'严谨': 1, u'颇':...   \n",
       "\n",
       "                                             content  \\\n",
       "0  谁能想到，洪建华夫妇这对一无学历、二无家传、三无师承的“三无大师”成了省级非物质文化遗产·徽...   \n",
       "1  近日，省非物质文化遗产徽州民歌传承人操明花前往休宁县海阳二小、歙县城关小学和徽州区岩寺镇中心...   \n",
       "2  黄山楹联第一人当推明朝诗人余绍祉。他遍历祖国名山大川，见到无数奇峰怪石，却感到抵不上黄山峰林...   \n",
       "3  徽州民居、家具木板和圆木雕刻艺术的简称。木雕在旧属徽州各县分布之广在全国屈指可数，宅院内的屏...   \n",
       "4  徽州砖雕徽州砖雕的造型，来源于汉画象砖。汉画象砖大都是模印砖坯刻画后入密烧制，嵌窃时再进行修...   \n",
       "\n",
       "                                         content_seg  \\\n",
       "0  谁 能 想到 ， 洪 建华 夫妇 这 对 一 无 学历 、 二 无 家传 、 三无 师承 的...   \n",
       "1  近日 ， 省非 物质 文化遗产 徽州 民歌 传承 人操 明花 前往 休宁县 海阳 二小 、 ...   \n",
       "2  黄山 楹联 第一 人当 推 明朝 诗人 余绍祉 。 他 遍历 祖国 名山大川 ， 见到 无数...   \n",
       "3  徽州 民居 、 家具 木板 和 圆木 雕刻 艺术 的 简称 。 木雕 在 旧属 徽州 各县 ...   \n",
       "4  徽州 砖雕 徽州 砖雕 的 造型 ， 来源于 汉 画象 砖 。 汉 画象 砖 大都 是 模印...   \n",
       "\n",
       "                                               s_vec     s_sig  \n",
       "0  {u'很多': 3, u'竹木': 4, u'洪': 20, u'雕刻': 21, u'展示...  0.148665  \n",
       "1  {u'声乐': 1, u'原生态': 1, u'原汁原味': 1, u'传来': 1, u'...  0.276219  \n",
       "2  {u'气派': 1, u'名句': 1, u'唱道': 1, u'文联': 3, u'凿刻'...  0.047619  \n",
       "3  {u'吉祥图案': 1, u'少数': 1, u'显示': 1, u'内': 1, u'木板...  0.221148  \n",
       "4  {u'前后': 1, u'厅': 1, u'严谨': 1, u'颇': 1, u'根据': ...  0.111781  "
      ]
     },
     "execution_count": 70,
     "metadata": {},
     "output_type": "execute_result"
    }
   ],
   "source": [
    "df.head()"
   ]
  },
  {
   "cell_type": "code",
   "execution_count": 87,
   "metadata": {
    "collapsed": true
   },
   "outputs": [],
   "source": [
    "import matplotlib \n",
    "import matplotlib.pyplot as plt\n",
    "%matplotlib inline "
   ]
  },
  {
   "cell_type": "code",
   "execution_count": 76,
   "metadata": {},
   "outputs": [],
   "source": [
    "df_short = df[df['s_sig'] > 0.0]"
   ]
  },
  {
   "cell_type": "code",
   "execution_count": 93,
   "metadata": {},
   "outputs": [],
   "source": [
    "df_short['s_dist'] = 1 - df_short['s_sig']"
   ]
  },
  {
   "cell_type": "code",
   "execution_count": 97,
   "metadata": {
    "collapsed": true
   },
   "outputs": [],
   "source": [
    "df_short.info()"
   ]
  },
  {
   "cell_type": "code",
   "execution_count": 83,
   "metadata": {},
   "outputs": [
    {
     "data": {
      "text/plain": [
       "(0.00010166595950395828, 0.93458093757435134)"
      ]
     },
     "execution_count": 83,
     "metadata": {},
     "output_type": "execute_result"
    }
   ],
   "source": [
    "df_short['s_sig'].min(), df_short['s_sig'].max() "
   ]
  },
  {
   "cell_type": "code",
   "execution_count": null,
   "metadata": {
    "collapsed": true
   },
   "outputs": [],
   "source": []
  },
  {
   "cell_type": "code",
   "execution_count": 95,
   "metadata": {},
   "outputs": [
    {
     "data": {
      "text/plain": [
       "<matplotlib.text.Text at 0x11f6dff90>"
      ]
     },
     "execution_count": 95,
     "metadata": {},
     "output_type": "execute_result"
    },
    {
     "data": {
      "image/png": "[encoded data removed]",
      "text/plain": [
       "<matplotlib.figure.Figure at 0x116e570d0>"
      ]
     },
     "metadata": {},
     "output_type": "display_data"
    }
   ],
   "source": [
    "df_short['s_sig'].hist(bins=500, figsize= (16, 6))\n",
    "plt.title('Huizhou Similarity Histogram')\n",
    "plt.xlabel('Similarity')\n",
    "plt.ylabel('Count')"
   ]
  },
  {
   "cell_type": "code",
   "execution_count": 96,
   "metadata": {},
   "outputs": [
    {
     "data": {
      "text/plain": [
       "<matplotlib.text.Text at 0x1203d9290>"
      ]
     },
     "execution_count": 96,
     "metadata": {},
     "output_type": "execute_result"
    },
    {
     "data": {
      "image/png": "[encoded data removed]",
      "text/plain": [
       "<matplotlib.figure.Figure at 0x11ffd46d0>"
      ]
     },
     "metadata": {},
     "output_type": "display_data"
    }
   ],
   "source": [
    "df_short['s_dist'].hist(bins=500, figsize= (16, 6))\n",
    "plt.title('Huizhou Distance Histogram')\n",
    "plt.xlabel('Distance')\n",
    "plt.ylabel('Count')"
   ]
  },
  {
   "cell_type": "code",
   "execution_count": 86,
   "metadata": {},
   "outputs": [],
   "source": [
    "for k in range (0, 10):\n",
    "    mask = (df['s_sig'] > k/10.0) & (df['s_sig'] < (k+1)/10.0)\n",
    "    df_0 = df[mask]\n",
    "    print len(df_0)"
   ]
  },
  {
   "cell_type": "code",
   "execution_count": 98,
   "metadata": {
    "collapsed": true
   },
   "outputs": [],
   "source": [
    "df.to_csv('../data/sim/hz_sim_v1.csv', encoding='utf-8', index=False)"
   ]
  },
  {
   "cell_type": "code",
   "execution_count": null,
   "metadata": {
    "collapsed": true
   },
   "outputs": [],
   "source": []
  }
 ],
 "metadata": {
  "kernelspec": {
   "display_name": "Python 2",
   "language": "python",
   "name": "python2"
  },
  "language_info": {
   "codemirror_mode": {
    "name": "ipython",
    "version": 2
   },
   "file_extension": ".py",
   "mimetype": "text/x-python",
   "name": "python",
   "nbconvert_exporter": "python",
   "pygments_lexer": "ipython2",
   "version": "2.7.10"
  }
 },
 "nbformat": 4,
 "nbformat_minor": 2
}
