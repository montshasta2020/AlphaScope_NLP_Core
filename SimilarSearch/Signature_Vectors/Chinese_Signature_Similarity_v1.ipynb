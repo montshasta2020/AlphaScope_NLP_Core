{
 "cells": [
  {
   "cell_type": "code",
   "execution_count": 1,
   "metadata": {
    "collapsed": true
   },
   "outputs": [],
   "source": [
    "import sys\n",
    "reload(sys)\n",
    "sys.setdefaultencoding('utf-8')"
   ]
  },
  {
   "cell_type": "code",
   "execution_count": 2,
   "metadata": {
    "collapsed": true
   },
   "outputs": [],
   "source": [
    "import pandas as pd\n",
    "from urlparse import urlparse\n",
    "import tldextract\n",
    "from collections import Counter\n",
    "import jieba\n",
    "import json\n",
    "import math\n",
    "import numpy as np\n",
    "from time import time"
   ]
  },
  {
   "cell_type": "code",
   "execution_count": 3,
   "metadata": {
    "collapsed": true
   },
   "outputs": [],
   "source": [
    "from gensim.models import Word2Vec, KeyedVectors\n",
    "model = KeyedVectors.load_word2vec_format('../data/w2v/chinese_model_format_v1.bin', binary=False)"
   ]
  },
  {
   "cell_type": "code",
   "execution_count": 4,
   "metadata": {
    "collapsed": true
   },
   "outputs": [],
   "source": [
    "df = pd.read_csv('../data/raw/solr-chinese-domain_only-04-23-2017-cleaned.csv')"
   ]
  },
  {
   "cell_type": "code",
   "execution_count": 5,
   "metadata": {
    "collapsed": true
   },
   "outputs": [],
   "source": [
    "df.info()"
   ]
  },
  {
   "cell_type": "code",
   "execution_count": 6,
   "metadata": {
    "collapsed": true
   },
   "outputs": [],
   "source": [
    "import re\n",
    "match = re.compile('([a-zA-Z_0-9_=_#_&_/])') #remove letters, numbers, and special characters in the article body\n",
    "#match = re.compile('([a-zA-Z_0-9])') #remove all of english letters and numbers\n",
    "def classifier_filters(s):\n",
    "    return match.sub(r' ', s) "
   ]
  },
  {
   "cell_type": "code",
   "execution_count": 7,
   "metadata": {
    "collapsed": true
   },
   "outputs": [],
   "source": [
    "def filter_combined(x):\n",
    "    s = x.split()\n",
    "    r = [t for t in s if (t.strip()) > 0 and t.strip() not in keyword_stop_words]\n",
    "    t = ' '.join(r)\n",
    "    ret = classifier_filters(t)\n",
    "    #print 'before -----', t\n",
    "    #print 'after ------', ret\n",
    "    return ret   "
   ]
  },
  {
   "cell_type": "code",
   "execution_count": 8,
   "metadata": {
    "collapsed": true
   },
   "outputs": [],
   "source": [
    "chinese_stop_words = [u'的', u'了', u'在', u'是', u'和', u'有', u'我', u'年', u'上', u'他', u'我们', u'及', u'吗', u'怎么',\n",
    "                      u'为', u'与', u'人', u'也', u'于', u'中', u'就', u'都', u'在线', u'等', u'不', u'网站', u'你', u'号',\n",
    "                      u'一个', u'到', u'之', u'对', u'说', u'进入', u'后', u'月', u'将', u'时', u'又', u'被', u'会员',\n",
    "                     u'版权', u'论坛', u'以', u'而', u'着', u'下', u'这', u'但', u'要', u'或', u'首页', u'这', u'更',\n",
    "                     u'地', u'从', u'卡', u'来', '多', u'日', u'她', u'还', u'联系', u'那', u'一处', u'一直', u'个', \n",
    "                     u'向', u'并', u'曾', u'这样', u'里', u'推荐', u'专栏', u'相关', u'当前', u'所有', u'中心', u'怎样',\n",
    "                     u'频道', u'编辑', u'位置', u'第一', u'社区', u'看', u'大', u'许可证', u'许可', u'为什么', u'哪个', \n",
    "                     u'如何', u'谁', u'指', u'还是', u'关于', \n",
    "                     u'让', u'没有', u'什么', u'其', '请', '该', '用', '积分', u'凤阳', u'一篇', u'版权', u'县', u'这里',\n",
    "                      u'就是', u'生于', u'他们', u'它', u'男', u'去', u'会', u'由', u'一', u'做', u'所', u'毕业', u'一种',\n",
    "                     u'协会会员', u'把', u'能', u'至', u'这个', u'自己', u'出', u'如', u'如',u'可以', u'很', u'cn', u'我要',\n",
    "                     u'成为', u'好', u'先生', u'集团', u'江淮', u'网', u'特色', u'全国', u'新', u'作为', u'师专', u'为何',\n",
    "                     u'则', u'重要', u'们', u'给', u'这些', u'过', u'安', u'最', u'现在', u'得', u'不能']"
   ]
  },
  {
   "cell_type": "code",
   "execution_count": 9,
   "metadata": {
    "collapsed": true
   },
   "outputs": [],
   "source": [
    "import unicodedata\n",
    "def remove_non_chinese(s):\n",
    "    r = [c for c in s if unicodedata.category(c).startswith('L')]\n",
    "#print r\n",
    "    return ''.join(r)\n",
    "#print remove_non_chinese(s)"
   ]
  },
  {
   "cell_type": "markdown",
   "metadata": {
    "collapsed": true
   },
   "source": [
    "hz_dict = dict(zip(words, fq))"
   ]
  },
  {
   "cell_type": "code",
   "execution_count": 10,
   "metadata": {
    "collapsed": true
   },
   "outputs": [],
   "source": [
    "def ch_title_letters_removal(x):\n",
    "    #print 'coming', x\n",
    "    t = x.strip('  ')\n",
    "    if(len(t)) == 0:\n",
    "        return None\n",
    "    \n",
    "    if(len(x) > 0):\n",
    "        #s = x.strip()\n",
    "        s = remove_non_chinese(x)\n",
    "        if len(s) > 0 and s not in chinese_stop_words:\n",
    "            return s.strip()\n",
    "        else:\n",
    "            return None\n",
    "    return None"
   ]
  },
  {
   "cell_type": "code",
   "execution_count": null,
   "metadata": {
    "collapsed": true
   },
   "outputs": [],
   "source": []
  },
  {
   "cell_type": "code",
   "execution_count": 11,
   "metadata": {
    "collapsed": true
   },
   "outputs": [],
   "source": [
    "#calculate count using Counter\n",
    "def map_document_word_cnt(x):\n",
    "    n = 800\n",
    "    del_cnt = 0\n",
    "    count = Counter(x.decode('utf-8').split())\n",
    "    top_n = count.most_common (n)\n",
    "    words, cnt = zip(*top_n)\n",
    "    for word in words:\n",
    "        ret = ch_title_letters_removal(word)\n",
    "        if ret == None or len(ret) == 0:\n",
    "            del count[word]\n",
    "            del_cnt +=1\n",
    "\n",
    "    print 'deleted cnt', del_cnt\n",
    "    top_n = count.most_common (200)\n",
    "    return top_n"
   ]
  },
  {
   "cell_type": "code",
   "execution_count": 12,
   "metadata": {
    "collapsed": true
   },
   "outputs": [],
   "source": [
    "global idx\n",
    "idx = 0\n",
    "def map_words_fq(x, normalize=True): \n",
    "    global idx\n",
    "    print idx\n",
    "    idx += 1\n",
    "    s = x.decode('utf-8').split()\n",
    "    #print 'vect ---', len(s), s\n",
    "    ret = [ch_title_letters_removal(item) for item in s if len(item) > 0 and ch_title_letters_removal(item) != None]\n",
    "    #print 'ret ---', ret, len(ret)\n",
    "    count = Counter(ret)\n",
    "    \n",
    "    #print 'count', len(count)\n",
    "\n",
    "    if len(count) > 1:\n",
    "        top_N = count.most_common(100)\n",
    "        \n",
    "        words, cnt = zip(*top_N)\n",
    "        tot = sum(cnt)\n",
    "        hz_fq = [float(i)*1.0/tot for i in cnt]\n",
    "        dictionary = dict(zip(words, hz_fq))\n",
    "        \n",
    "        #print 'going ---'\n",
    "        #*words, cnt = zip(*top_200)\n",
    "        #return dict(zip(words, cnt))\n",
    "        return dictionary\n",
    "    else:\n",
    "        #print 'warning'\n",
    "        return None"
   ]
  },
  {
   "cell_type": "code",
   "execution_count": 13,
   "metadata": {
    "collapsed": true
   },
   "outputs": [],
   "source": [
    "def map_word2vec_centroid(x):\n",
    "    global model\n",
    "    x = x.items() #dict to tuple\n",
    "    # remove out-of-vocabulary words\n",
    "    doc = [(word, fq) for word, fq in x if word in model.vocab]   \n",
    "    if len(doc) == 0:\n",
    "        #print x\n",
    "        return None\n",
    "    #words, fq = zip(*doc)\n",
    "    ret = [model[x] * y for x, y in doc]\n",
    "    \n",
    "    val = np.mean(ret, axis=0)\n",
    "    #print ret\n",
    "    \n",
    "    #doc = [word for word in doc if word in word2vec_model.vocab]\n",
    "    return val"
   ]
  },
  {
   "cell_type": "code",
   "execution_count": 14,
   "metadata": {
    "collapsed": true
   },
   "outputs": [],
   "source": [
    "global cnt\n",
    "cnt = 0\n",
    "def jieba_words_separation(x):\n",
    "    global cnt\n",
    "    t20 = jieba.cut(x) #搜索引擎模式\n",
    "    t2 = \" \".join(t20)\n",
    "    if (cnt%5000 == 0):\n",
    "        print cnt\n",
    "    cnt += 1\n",
    "    return t2"
   ]
  },
  {
   "cell_type": "code",
   "execution_count": 15,
   "metadata": {},
   "outputs": [
    {
     "data": {
      "text/plain": [
       "3527.0127849578857"
      ]
     },
     "execution_count": 15,
     "metadata": {},
     "output_type": "execute_result"
    }
   ],
   "source": [
    "from time import time\n",
    "t0 = time()\n",
    "df['content_seg'] = df.content.map(lambda x: jieba_words_separation(x) )\n",
    "time() - t0"
   ]
  },
  {
   "cell_type": "code",
   "execution_count": null,
   "metadata": {
    "collapsed": true
   },
   "outputs": [],
   "source": []
  },
  {
   "cell_type": "code",
   "execution_count": 29,
   "metadata": {
    "collapsed": true
   },
   "outputs": [],
   "source": [
    "import jieba.analyse\n",
    "import numpy as np"
   ]
  },
  {
   "cell_type": "code",
   "execution_count": 33,
   "metadata": {
    "collapsed": true
   },
   "outputs": [],
   "source": [
    "msk = np.random.rand(len(df)) < 0.01"
   ]
  },
  {
   "cell_type": "code",
   "execution_count": 34,
   "metadata": {
    "collapsed": true
   },
   "outputs": [],
   "source": [
    "check = df[msk]\n",
    "check.info()"
   ]
  },
  {
   "cell_type": "code",
   "execution_count": 42,
   "metadata": {},
   "outputs": [
    {
     "data": {
      "text/plain": [
       "45.27804088592529"
      ]
     },
     "execution_count": 42,
     "metadata": {},
     "output_type": "execute_result"
    }
   ],
   "source": [
    "from time import time\n",
    "t0 = time()\n",
    "for i in range(0, len(check)):\n",
    "    ret = jieba.analyse.extract_tags(check.iloc[i]['content'])\n",
    "    print ' '.join(ret)\n",
    "    print check.iloc[i]['title']\n",
    "time()-t0"
   ]
  },
  {
   "cell_type": "code",
   "execution_count": 54,
   "metadata": {},
   "outputs": [],
   "source": [
    "topK = 200\n",
    "withWeight = True\n",
    "ret = jieba.analyse.extract_tags(check.iloc[1]['content'], topK=topK, withWeight=withWeight)\n",
    "ret = [t[0] for t in ret]\n",
    "print ' '.join(ret)"
   ]
  },
  {
   "cell_type": "code",
   "execution_count": null,
   "metadata": {
    "collapsed": true
   },
   "outputs": [],
   "source": []
  },
  {
   "cell_type": "code",
   "execution_count": 60,
   "metadata": {
    "collapsed": true
   },
   "outputs": [],
   "source": [
    "for t in txt:\n",
    "    print str(t)"
   ]
  },
  {
   "cell_type": "code",
   "execution_count": 53,
   "metadata": {
    "collapsed": true
   },
   "outputs": [],
   "source": [
    "jieba.analyse.set_stop_words('../data/stop_words/stop_words-ch.txt')"
   ]
  },
  {
   "cell_type": "code",
   "execution_count": 16,
   "metadata": {
    "collapsed": true
   },
   "outputs": [],
   "source": [
    "t0 = time()\n",
    "df['words_fq'] = df.content_seg.map(lambda x: map_words_fq(x))\n",
    "#df['words_fq'] = df.s_vec.map(lambda x: map_unserialize(x))\n",
    "print time() - t0 "
   ]
  },
  {
   "cell_type": "code",
   "execution_count": 17,
   "metadata": {
    "collapsed": true
   },
   "outputs": [],
   "source": [
    "df = df.dropna(subset =['words_fq'])"
   ]
  },
  {
   "cell_type": "code",
   "execution_count": 18,
   "metadata": {},
   "outputs": [
    {
     "data": {
      "text/plain": [
       "88.8594229221344"
      ]
     },
     "execution_count": 18,
     "metadata": {},
     "output_type": "execute_result"
    }
   ],
   "source": [
    "t0 = time()\n",
    "df['w2v_centroid'] = df.words_fq.map(lambda x: map_word2vec_centroid(x))\n",
    "time() - t0"
   ]
  },
  {
   "cell_type": "markdown",
   "metadata": {},
   "source": [
    "t0 = time()\n",
    "df['sk_centroid'] = df.words_fq.map(lambda x: map_ft_sk_centroid(x))\n",
    "time() - t0"
   ]
  },
  {
   "cell_type": "code",
   "execution_count": null,
   "metadata": {
    "collapsed": true
   },
   "outputs": [],
   "source": []
  },
  {
   "cell_type": "code",
   "execution_count": 19,
   "metadata": {},
   "outputs": [
    {
     "data": {
      "text/html": [
       "<div>\n",
       "<table border=\"1\" class=\"dataframe\">\n",
       "  <thead>\n",
       "    <tr style=\"text-align: right;\">\n",
       "      <th></th>\n",
       "      <th>id</th>\n",
       "      <th>content</th>\n",
       "      <th>title</th>\n",
       "      <th>_version_</th>\n",
       "      <th>cache</th>\n",
       "      <th>segment</th>\n",
       "      <th>digest</th>\n",
       "      <th>boost</th>\n",
       "      <th>tstamp</th>\n",
       "      <th>url</th>\n",
       "      <th>domain</th>\n",
       "      <th>content_seg</th>\n",
       "      <th>words_fq</th>\n",
       "      <th>w2v_centroid</th>\n",
       "    </tr>\n",
       "  </thead>\n",
       "  <tbody>\n",
       "    <tr>\n",
       "      <th>0</th>\n",
       "      <td>http://www.qulishi.com/news/201701/157485.html</td>\n",
       "      <td>隋炀帝的萧皇后生性风流：暗中与宇文化及通奸 趣历史首页 |  讲述历史上那些有趣的事 人物 ...</td>\n",
       "      <td>隋炀帝的萧皇后生性风流：暗中与宇文化及通奸</td>\n",
       "      <td>1564486876469919744</td>\n",
       "      <td>NaN</td>\n",
       "      <td>20170412122707</td>\n",
       "      <td>ecd2712cad80f2f7ba385735b16cabc7</td>\n",
       "      <td>0.000215</td>\n",
       "      <td>2017-04-12T15:17:54.992Z</td>\n",
       "      <td>http://www.qulishi.com/news/201701/157485.html</td>\n",
       "      <td>qulishi.com</td>\n",
       "      <td>隋炀帝 的 萧皇后 生性 风流 ： 暗中 与 宇文化及 通奸   趣 历史 首页   |  ...</td>\n",
       "      <td>{u'汉宛': 0.00846023688663, u'国家': 0.00676818950...</td>\n",
       "      <td>[-0.00550028, 0.00962862, 0.015543, -0.0054416...</td>\n",
       "    </tr>\n",
       "    <tr>\n",
       "      <th>1</th>\n",
       "      <td>http://www.qulishi.com/news/201701/157540.html</td>\n",
       "      <td>文宣宗高洋：怀揣着爱妃的头颅去赴宴 趣历史首页 |  讲述历史上那些有趣的事 人物 - 专题...</td>\n",
       "      <td>文宣宗高洋：怀揣着爱妃的头颅去赴宴</td>\n",
       "      <td>1564486876479356928</td>\n",
       "      <td>NaN</td>\n",
       "      <td>20170412122707</td>\n",
       "      <td>af9404764d79eab086f9bb94f01881eb</td>\n",
       "      <td>0.000557</td>\n",
       "      <td>2017-04-12T15:06:42.749Z</td>\n",
       "      <td>http://www.qulishi.com/news/201701/157540.html</td>\n",
       "      <td>qulishi.com</td>\n",
       "      <td>文宣宗 高洋 ： 怀揣 着 爱妃 的 头颅 去 赴宴   趣 历史 首页   |     讲...</td>\n",
       "      <td>{u'汉宛': 0.00834724540902, u'国家': 0.00667779632...</td>\n",
       "      <td>[-0.00458366, 0.0089833, 0.016924, -0.00645338...</td>\n",
       "    </tr>\n",
       "    <tr>\n",
       "      <th>2</th>\n",
       "      <td>http://www.qulishi.com/news/201701/157669.html</td>\n",
       "      <td>元朝皇帝成吉思汗死后为何没有留下一座陵墓 趣历史首页 |  讲述历史上那些有趣的事 人物 -...</td>\n",
       "      <td>元朝皇帝成吉思汗死后为何没有留下一座陵墓</td>\n",
       "      <td>1564486876490891264</td>\n",
       "      <td>NaN</td>\n",
       "      <td>20170412122707</td>\n",
       "      <td>0812de487aaaf822cd7c17bceafcdc12</td>\n",
       "      <td>0.000175</td>\n",
       "      <td>2017-04-12T13:35:59.291Z</td>\n",
       "      <td>http://www.qulishi.com/news/201701/157669.html</td>\n",
       "      <td>qulishi.com</td>\n",
       "      <td>元朝 皇帝 成吉思汗 死后 为何 没有 留下 一座 陵墓   趣 历史 首页   |    ...</td>\n",
       "      <td>{u'汉宛': 0.00802568218299, u'公元': 0.00802568218...</td>\n",
       "      <td>[-0.00312534, 0.0116819, 0.0175653, -0.0057949...</td>\n",
       "    </tr>\n",
       "    <tr>\n",
       "      <th>3</th>\n",
       "      <td>http://www.qulishi.com/news/201701/157806.html</td>\n",
       "      <td>贞观之治背后真相：隋朝遗产养肥李世民？ 趣历史首页 |  讲述历史上那些有趣的事 人物 - ...</td>\n",
       "      <td>贞观之治背后真相：隋朝遗产养肥李世民？</td>\n",
       "      <td>1564486876501377024</td>\n",
       "      <td>NaN</td>\n",
       "      <td>20170412122707</td>\n",
       "      <td>bbfb992815a03543f78ee13ae88e4ba9</td>\n",
       "      <td>0.001001</td>\n",
       "      <td>2017-04-12T14:45:41.4Z</td>\n",
       "      <td>http://www.qulishi.com/news/201701/157806.html</td>\n",
       "      <td>qulishi.com</td>\n",
       "      <td>贞观之治 背后 真相 ： 隋朝 遗产 养肥 李世民 ？   趣 历史 首页   |     ...</td>\n",
       "      <td>{u'汉宛': 0.00809061488673, u'国家': 0.00485436893...</td>\n",
       "      <td>[-0.00667041, 0.00735783, 0.0161599, -0.004355...</td>\n",
       "    </tr>\n",
       "    <tr>\n",
       "      <th>4</th>\n",
       "      <td>http://www.qulishi.com/news/201701/158004.html</td>\n",
       "      <td>欧阳修的治学之道：身为文坛宗主为何不多读书？ 趣历史首页 |  讲述历史上那些有趣的事 人物...</td>\n",
       "      <td>欧阳修的治学之道：身为文坛宗主为何不多读书？</td>\n",
       "      <td>1564486876511862784</td>\n",
       "      <td>NaN</td>\n",
       "      <td>20170412122707</td>\n",
       "      <td>b682dc31d36e8d542f69be23dcbfc20c</td>\n",
       "      <td>0.000191</td>\n",
       "      <td>2017-04-12T15:21:46.147Z</td>\n",
       "      <td>http://www.qulishi.com/news/201701/158004.html</td>\n",
       "      <td>qulishi.com</td>\n",
       "      <td>欧阳修 的 治学 之道 ： 身为 文坛 宗主 为何 不 多 读书 ？   趣 历史 首页  ...</td>\n",
       "      <td>{u'汉宛': 0.00816993464052, u'公元': 0.00816993464...</td>\n",
       "      <td>[-0.00617676, 0.00843672, 0.0131406, -0.007655...</td>\n",
       "    </tr>\n",
       "    <tr>\n",
       "      <th>5</th>\n",
       "      <td>http://www.qulishi.com/news/201701/158206.html</td>\n",
       "      <td>揭秘天下第一名将狄青的成长之路 趣历史首页 |  讲述历史上那些有趣的事 人物 - 专题 -...</td>\n",
       "      <td>揭秘天下第一名将狄青的成长之路</td>\n",
       "      <td>1564486876523397120</td>\n",
       "      <td>NaN</td>\n",
       "      <td>20170412122707</td>\n",
       "      <td>b1d9ceb4ef7e744d9f29c5ae88281b1e</td>\n",
       "      <td>0.000244</td>\n",
       "      <td>2017-04-12T13:44:53.417Z</td>\n",
       "      <td>http://www.qulishi.com/news/201701/158206.html</td>\n",
       "      <td>qulishi.com</td>\n",
       "      <td>揭秘 天下第一 名将 狄青 的 成长 之 路   趣 历史 首页   |     讲述 历史...</td>\n",
       "      <td>{u'宋代': 0.00641025641026, u'汉宛': 0.00801282051...</td>\n",
       "      <td>[-0.00729075, 0.00910093, 0.0168313, -0.006738...</td>\n",
       "    </tr>\n",
       "    <tr>\n",
       "      <th>6</th>\n",
       "      <td>http://www.qulishi.com/news/201701/159061.html</td>\n",
       "      <td>揭秘五代第一猛将李存孝：和项羽相提并论的人 趣历史首页 |  讲述历史上那些有趣的事 人物 ...</td>\n",
       "      <td>揭秘五代第一猛将李存孝：和项羽相提并论的人</td>\n",
       "      <td>1564486876532834304</td>\n",
       "      <td>NaN</td>\n",
       "      <td>20170412122707</td>\n",
       "      <td>b1f2eae0da0b37ab083540ab3a8939c8</td>\n",
       "      <td>0.010000</td>\n",
       "      <td>2017-04-12T14:41:14.438Z</td>\n",
       "      <td>http://www.qulishi.com/news/201701/159061.html</td>\n",
       "      <td>qulishi.com</td>\n",
       "      <td>揭秘 五代 第一 猛将 李存孝 ： 和 项羽 相提并论 的 人   趣 历史 首页   | ...</td>\n",
       "      <td>{u'汉宛': 0.00831946755408, u'公元': 0.00831946755...</td>\n",
       "      <td>[-0.00611293, 0.00742639, 0.0170876, -0.005018...</td>\n",
       "    </tr>\n",
       "    <tr>\n",
       "      <th>7</th>\n",
       "      <td>http://www.qulishi.com/news/201701/159230.html</td>\n",
       "      <td>三国时期鲜有“高富帅” 曹操1米6刘备是小贩 趣历史首页 |  讲述历史上那些有趣的事 人物...</td>\n",
       "      <td>三国时期鲜有“高富帅” 曹操1米6刘备是小贩</td>\n",
       "      <td>1564486876543320064</td>\n",
       "      <td>NaN</td>\n",
       "      <td>20170412122707</td>\n",
       "      <td>7905674ecfaffaaec4d36f13e8c50ff5</td>\n",
       "      <td>0.000209</td>\n",
       "      <td>2017-04-12T15:07:43.994Z</td>\n",
       "      <td>http://www.qulishi.com/news/201701/159230.html</td>\n",
       "      <td>qulishi.com</td>\n",
       "      <td>三国 时期 鲜有 “ 高富帅 ”   曹操 1 米 6 刘备 是 小贩   趣 历史 首页 ...</td>\n",
       "      <td>{u'汉宛': 0.00807754442649, u'公元': 0.00807754442...</td>\n",
       "      <td>[-0.00498954, 0.00862879, 0.0159221, -0.007592...</td>\n",
       "    </tr>\n",
       "    <tr>\n",
       "      <th>8</th>\n",
       "      <td>http://www.qulishi.com/news/201701/160186.html</td>\n",
       "      <td>揭开古埃及法老王图坦卡蒙死亡真相之谜 趣历史首页 |  讲述历史上那些有趣的事 人物 - 专...</td>\n",
       "      <td>揭开古埃及法老王图坦卡蒙死亡真相之谜</td>\n",
       "      <td>1564486876554854400</td>\n",
       "      <td>NaN</td>\n",
       "      <td>20170412122707</td>\n",
       "      <td>ddaf378964c62c0cdd668c318e5d3bc7</td>\n",
       "      <td>0.000176</td>\n",
       "      <td>2017-04-12T14:14:36.581Z</td>\n",
       "      <td>http://www.qulishi.com/news/201701/160186.html</td>\n",
       "      <td>qulishi.com</td>\n",
       "      <td>揭开 古埃及 法老王 图坦 卡蒙 死亡 真相 之谜   趣 历史 首页   |     讲述...</td>\n",
       "      <td>{u'汉宛': 0.00768049155146, u'公元': 0.00768049155...</td>\n",
       "      <td>[-0.00413135, 0.00971294, 0.0175999, -0.005211...</td>\n",
       "    </tr>\n",
       "    <tr>\n",
       "      <th>9</th>\n",
       "      <td>http://www.qulishi.com/news/201701/160485_3.html</td>\n",
       "      <td>人们常说的女大十八变具体是什么意思 趣历史首页 |  讲述历史上那些有趣的事 人物 - 专题...</td>\n",
       "      <td>人们常说的女大十八变具体是什么意思</td>\n",
       "      <td>1564486876567437312</td>\n",
       "      <td>NaN</td>\n",
       "      <td>20170412122707</td>\n",
       "      <td>41fb1c2800462b21a6d3bc724a5c918a</td>\n",
       "      <td>0.000177</td>\n",
       "      <td>2017-04-12T12:27:53.019Z</td>\n",
       "      <td>http://www.qulishi.com/news/201701/160485_3.html</td>\n",
       "      <td>qulishi.com</td>\n",
       "      <td>人们 常说 的 女大十八变 具体 是 什么 意思   趣 历史 首页   |     讲述 ...</td>\n",
       "      <td>{u'汉宛': 0.00841750841751, u'国家': 0.00673400673...</td>\n",
       "      <td>[-0.00560821, 0.00835114, 0.0162272, -0.006057...</td>\n",
       "    </tr>\n",
       "    <tr>\n",
       "      <th>10</th>\n",
       "      <td>http://www.qulishi.com/news/201701/160489.html</td>\n",
       "      <td>朝鲜半岛高丽王朝第一个专业的思想家是谁 趣历史首页 |  讲述历史上那些有趣的事 人物 - ...</td>\n",
       "      <td>朝鲜半岛高丽王朝第一个专业的思想家是谁</td>\n",
       "      <td>1564486876577923072</td>\n",
       "      <td>NaN</td>\n",
       "      <td>20170412122707</td>\n",
       "      <td>517aee68fd015db22b4eddd4e697d142</td>\n",
       "      <td>0.000183</td>\n",
       "      <td>2017-04-12T15:14:15.759Z</td>\n",
       "      <td>http://www.qulishi.com/news/201701/160489.html</td>\n",
       "      <td>qulishi.com</td>\n",
       "      <td>朝鲜半岛 高丽 王朝 第一个 专业 的 思想家 是 谁   趣 历史 首页   |     ...</td>\n",
       "      <td>{u'汉宛': 0.008, u'国家': 0.0048, u'公元': 0.0096, u...</td>\n",
       "      <td>[-0.00582833, 0.00950215, 0.014358, -0.0074552...</td>\n",
       "    </tr>\n",
       "    <tr>\n",
       "      <th>11</th>\n",
       "      <td>http://www.qulishi.com/news/201701/160701.html</td>\n",
       "      <td>李白才高八斗还是宰相的上门女婿，为何却一直窝囊 趣历史首页 |  讲述历史上那些有趣的事 人...</td>\n",
       "      <td>李白才高八斗还是宰相的上门女婿，为何却一直窝囊</td>\n",
       "      <td>1564486876591554560</td>\n",
       "      <td>NaN</td>\n",
       "      <td>20170412122707</td>\n",
       "      <td>b33e1585cc12cfc8e45742de75c2f599</td>\n",
       "      <td>0.000178</td>\n",
       "      <td>2017-04-12T12:42:28.934Z</td>\n",
       "      <td>http://www.qulishi.com/news/201701/160701.html</td>\n",
       "      <td>qulishi.com</td>\n",
       "      <td>李白 才高八斗 还是 宰相 的 上门 女婿 ， 为何 却 一直 窝囊   趣 历史 首页  ...</td>\n",
       "      <td>{u'汉宛': 0.00805152979066, u'国家': 0.00644122383...</td>\n",
       "      <td>[-0.00567938, 0.00748459, 0.013169, -0.0053535...</td>\n",
       "    </tr>\n",
       "    <tr>\n",
       "      <th>12</th>\n",
       "      <td>http://www.qulishi.com/news/201701/161155.html</td>\n",
       "      <td>唐太宗赐醋房玄龄 “吃醋”的典故来源 趣历史首页 |  讲述历史上那些有趣的事 人物 - 专...</td>\n",
       "      <td>唐太宗赐醋房玄龄 “吃醋”的典故来源</td>\n",
       "      <td>1564486876597846016</td>\n",
       "      <td>NaN</td>\n",
       "      <td>20170412122707</td>\n",
       "      <td>708bc89993532d6b14d461fc65e658e8</td>\n",
       "      <td>0.005656</td>\n",
       "      <td>2017-04-12T15:20:14.192Z</td>\n",
       "      <td>http://www.qulishi.com/news/201701/161155.html</td>\n",
       "      <td>qulishi.com</td>\n",
       "      <td>唐太宗 赐 醋 房玄龄   “ 吃醋 ” 的 典故 来源   趣 历史 首页   |    ...</td>\n",
       "      <td>{u'汉宛': 0.00869565217391, u'公元': 0.00869565217...</td>\n",
       "      <td>[-0.00678056, 0.00901503, 0.0177727, -0.006583...</td>\n",
       "    </tr>\n",
       "    <tr>\n",
       "      <th>13</th>\n",
       "      <td>http://www.qulishi.com/news/201701/161283.html</td>\n",
       "      <td>历史上的李白其实酒量小 一杯啤酒就倒 趣历史首页 |  讲述历史上那些有趣的事 人物 - 专...</td>\n",
       "      <td>历史上的李白其实酒量小 一杯啤酒就倒</td>\n",
       "      <td>1564486876610428928</td>\n",
       "      <td>NaN</td>\n",
       "      <td>20170412122707</td>\n",
       "      <td>31063598d93d288cb921c81f54c88f22</td>\n",
       "      <td>0.000178</td>\n",
       "      <td>2017-04-12T14:21:31.35Z</td>\n",
       "      <td>http://www.qulishi.com/news/201701/161283.html</td>\n",
       "      <td>qulishi.com</td>\n",
       "      <td>历史 上 的 李白 其实 酒量 小   一杯 啤酒 就 倒   趣 历史 首页   |   ...</td>\n",
       "      <td>{u'汉宛': 0.00796178343949, u'公元': 0.01433121019...</td>\n",
       "      <td>[-0.00306265, 0.00851821, 0.0148437, -0.006865...</td>\n",
       "    </tr>\n",
       "    <tr>\n",
       "      <th>14</th>\n",
       "      <td>http://www.qulishi.com/news/201701/161285.html</td>\n",
       "      <td>李白当官失败原因：个性独立 当不了能干奴才 趣历史首页 |  讲述历史上那些有趣的事 人物 ...</td>\n",
       "      <td>李白当官失败原因：个性独立 当不了能干奴才</td>\n",
       "      <td>1564486876615671808</td>\n",
       "      <td>NaN</td>\n",
       "      <td>20170412122707</td>\n",
       "      <td>26736f9ee1affdc9cace3bc63cf01857</td>\n",
       "      <td>0.000177</td>\n",
       "      <td>2017-04-12T14:32:09.472Z</td>\n",
       "      <td>http://www.qulishi.com/news/201701/161285.html</td>\n",
       "      <td>qulishi.com</td>\n",
       "      <td>李白 当官 失败 原因 ： 个性 独立   当不了 能干 奴才   趣 历史 首页   | ...</td>\n",
       "      <td>{u'汉宛': 0.00819672131148, u'公元': 0.00983606557...</td>\n",
       "      <td>[-0.00765387, 0.00990955, 0.0143104, -0.006362...</td>\n",
       "    </tr>\n",
       "    <tr>\n",
       "      <th>15</th>\n",
       "      <td>http://www.qulishi.com/news/201701/161299.html</td>\n",
       "      <td>李白父亲是窜谪西域的罪人 还是任侠杀人的侠客 趣历史首页 |  讲述历史上那些有趣的事 人物...</td>\n",
       "      <td>李白父亲是窜谪西域的罪人 还是任侠杀人的侠客</td>\n",
       "      <td>1564486876621963264</td>\n",
       "      <td>NaN</td>\n",
       "      <td>20170412122707</td>\n",
       "      <td>0a9010a701f6c09d6584106b500ea086</td>\n",
       "      <td>0.000176</td>\n",
       "      <td>2017-04-12T13:27:29.048Z</td>\n",
       "      <td>http://www.qulishi.com/news/201701/161299.html</td>\n",
       "      <td>qulishi.com</td>\n",
       "      <td>李白 父亲 是 窜 谪 西域 的 罪人   还是 任侠 杀人 的 侠客   趣 历史 首页 ...</td>\n",
       "      <td>{u'汉宛': 0.00765696784074, u'国家': 0.00612557427...</td>\n",
       "      <td>[-0.00630653, 0.00671958, 0.01212, -0.007468, ...</td>\n",
       "    </tr>\n",
       "    <tr>\n",
       "      <th>16</th>\n",
       "      <td>http://www.qulishi.com/news/201701/162234.html</td>\n",
       "      <td>揭秘后周君王郭威不传位给血亲李重进的原因 趣历史首页 |  讲述历史上那些有趣的事 人物 -...</td>\n",
       "      <td>揭秘后周君王郭威不传位给血亲李重进的原因</td>\n",
       "      <td>1564486876628254720</td>\n",
       "      <td>NaN</td>\n",
       "      <td>20170412122707</td>\n",
       "      <td>8e267acc355795c86bd250096ca5eabf</td>\n",
       "      <td>0.001119</td>\n",
       "      <td>2017-04-12T15:04:23.918Z</td>\n",
       "      <td>http://www.qulishi.com/news/201701/162234.html</td>\n",
       "      <td>qulishi.com</td>\n",
       "      <td>揭秘 后周 君王 郭威 不 传位 给 血亲 李重 进 的 原因   趣 历史 首页   | ...</td>\n",
       "      <td>{u'汉宛': 0.00787401574803, u'国家': 0.00629921259...</td>\n",
       "      <td>[-0.00544932, 0.00878584, 0.0139834, -0.004571...</td>\n",
       "    </tr>\n",
       "    <tr>\n",
       "      <th>17</th>\n",
       "      <td>http://www.qulishi.com/news/201701/162457.html</td>\n",
       "      <td>揭秘历史：宋徽宗赵佶死亡之谜 为何都闻之悚然 趣历史首页 |  讲述历史上那些有趣的事 人物...</td>\n",
       "      <td>揭秘历史：宋徽宗赵佶死亡之谜 为何都闻之悚然</td>\n",
       "      <td>1564486876635594752</td>\n",
       "      <td>NaN</td>\n",
       "      <td>20170412122707</td>\n",
       "      <td>6b631175b81b83e94954b74692517601</td>\n",
       "      <td>0.000176</td>\n",
       "      <td>2017-04-12T14:09:16.42Z</td>\n",
       "      <td>http://www.qulishi.com/news/201701/162457.html</td>\n",
       "      <td>qulishi.com</td>\n",
       "      <td>揭秘 历史 ： 宋徽 宗赵佶 死亡 之谜   为何 都 闻 之 悚然   趣 历史 首页  ...</td>\n",
       "      <td>{u'汉宛': 0.00853242320819, u'公元': 0.01023890784...</td>\n",
       "      <td>[-0.00770405, 0.011622, 0.0149821, -0.00598284...</td>\n",
       "    </tr>\n",
       "    <tr>\n",
       "      <th>18</th>\n",
       "      <td>http://www.qulishi.com/news/201702/163940.html</td>\n",
       "      <td>明宪宗野史：万贞儿与明宪宗感人的姐弟恋 趣历史首页 |  讲述历史上那些有趣的事 人物 - ...</td>\n",
       "      <td>明宪宗野史：万贞儿与明宪宗感人的姐弟恋</td>\n",
       "      <td>1564486876641886208</td>\n",
       "      <td>NaN</td>\n",
       "      <td>20170412122707</td>\n",
       "      <td>161176f150130ddc1378689d91cdb4c0</td>\n",
       "      <td>0.001319</td>\n",
       "      <td>2017-04-12T15:25:28.988Z</td>\n",
       "      <td>http://www.qulishi.com/news/201702/163940.html</td>\n",
       "      <td>qulishi.com</td>\n",
       "      <td>明宪宗 野史 ： 万贞儿 与 明宪宗 感人 的 姐弟恋   趣 历史 首页   |     ...</td>\n",
       "      <td>{u'汉宛': 0.00821018062397, u'公元': 0.00821018062...</td>\n",
       "      <td>[-0.00478922, 0.0102181, 0.015633, -0.00421988...</td>\n",
       "    </tr>\n",
       "    <tr>\n",
       "      <th>19</th>\n",
       "      <td>http://www.qulishi.com/news/201702/164166_2.html</td>\n",
       "      <td>皇太极长子豪格为何屡屡错失皇位最后竟惨死狱中 趣历史首页 |  讲述历史上那些有趣的事 人物...</td>\n",
       "      <td>皇太极长子豪格为何屡屡错失皇位最后竟惨死狱中</td>\n",
       "      <td>1564486876649226240</td>\n",
       "      <td>NaN</td>\n",
       "      <td>20170412122707</td>\n",
       "      <td>2f2e4135d9ae194e474966fb9b526524</td>\n",
       "      <td>0.000200</td>\n",
       "      <td>2017-04-12T14:58:33.813Z</td>\n",
       "      <td>http://www.qulishi.com/news/201702/164166_2.html</td>\n",
       "      <td>qulishi.com</td>\n",
       "      <td>皇太极 长子 豪格 为何 屡屡 错失 皇位 最后 竟 惨死 狱中   趣 历史 首页   |...</td>\n",
       "      <td>{u'汉宛': 0.00821018062397, u'公元': 0.00821018062...</td>\n",
       "      <td>[-0.00397337, 0.00791137, 0.0170362, -0.004120...</td>\n",
       "    </tr>\n",
       "    <tr>\n",
       "      <th>20</th>\n",
       "      <td>http://www.qulishi.com/news/201702/164382.html</td>\n",
       "      <td>揭秘坤宁宫的主子为何没有一个能善终? 趣历史首页 |  讲述历史上那些有趣的事 人物 - 专...</td>\n",
       "      <td>揭秘坤宁宫的主子为何没有一个能善终?</td>\n",
       "      <td>1564486876655517696</td>\n",
       "      <td>NaN</td>\n",
       "      <td>20170412122707</td>\n",
       "      <td>d29797fa8d50d0c3aa2c81bd3357dcb2</td>\n",
       "      <td>0.000358</td>\n",
       "      <td>2017-04-12T15:13:17.866Z</td>\n",
       "      <td>http://www.qulishi.com/news/201702/164382.html</td>\n",
       "      <td>qulishi.com</td>\n",
       "      <td>揭秘 坤宁宫 的 主子 为何 没有 一个 能 善终 ?   趣 历史 首页   |     ...</td>\n",
       "      <td>{u'汉宛': 0.00807754442649, u'公元': 0.00807754442...</td>\n",
       "      <td>[-0.00453651, 0.0107319, 0.0172655, -0.0039523...</td>\n",
       "    </tr>\n",
       "    <tr>\n",
       "      <th>21</th>\n",
       "      <td>http://www.qulishi.com/news/201702/164817.html</td>\n",
       "      <td>为什么武则天墓是千年古墓中第一奇葩? 趣历史首页 |  讲述历史上那些有趣的事 人物 - 专...</td>\n",
       "      <td>为什么武则天墓是千年古墓中第一奇葩?</td>\n",
       "      <td>1564486876661809152</td>\n",
       "      <td>NaN</td>\n",
       "      <td>20170412122707</td>\n",
       "      <td>790b02dd349ea6ed097c3768a51e5016</td>\n",
       "      <td>0.000226</td>\n",
       "      <td>2017-04-12T15:18:38.994Z</td>\n",
       "      <td>http://www.qulishi.com/news/201702/164817.html</td>\n",
       "      <td>qulishi.com</td>\n",
       "      <td>为什么 武则天 墓 是 千年 古墓 中 第一 奇葩 ?   趣 历史 首页   |     ...</td>\n",
       "      <td>{u'汉宛': 0.00805152979066, u'国家': 0.00483091787...</td>\n",
       "      <td>[-0.00372505, 0.00745107, 0.0178409, -0.005212...</td>\n",
       "    </tr>\n",
       "    <tr>\n",
       "      <th>22</th>\n",
       "      <td>http://www.qulishi.com/news/201702/165066.html</td>\n",
       "      <td>慈禧太后：靠选秀发家 竟主宰大清朝长达一甲子 趣历史首页 |  讲述历史上那些有趣的事 人物...</td>\n",
       "      <td>慈禧太后：靠选秀发家 竟主宰大清朝长达一甲子</td>\n",
       "      <td>1564486876669149184</td>\n",
       "      <td>NaN</td>\n",
       "      <td>20170412122707</td>\n",
       "      <td>4b5dbbb9ec67e1366a599e749f921c2d</td>\n",
       "      <td>0.000193</td>\n",
       "      <td>2017-04-12T13:53:22.694Z</td>\n",
       "      <td>http://www.qulishi.com/news/201702/165066.html</td>\n",
       "      <td>qulishi.com</td>\n",
       "      <td>慈禧太后 ： 靠 选秀 发家   竟 主宰 大 清朝 长 达 一甲子   趣 历史 首页  ...</td>\n",
       "      <td>{u'汉宛': 0.00851788756388, u'公元': 0.00851788756...</td>\n",
       "      <td>[-0.00563335, 0.0111019, 0.0162757, -0.0044294...</td>\n",
       "    </tr>\n",
       "    <tr>\n",
       "      <th>23</th>\n",
       "      <td>http://www.qulishi.com/news/201702/165461.html</td>\n",
       "      <td>宋朝著名大臣赵抃为何连皇帝都要敬重三分 趣历史首页 |  讲述历史上那些有趣的事 人物 - ...</td>\n",
       "      <td>宋朝著名大臣赵抃为何连皇帝都要敬重三分</td>\n",
       "      <td>1564486876675440640</td>\n",
       "      <td>NaN</td>\n",
       "      <td>20170412122707</td>\n",
       "      <td>e19f34fb19e4180083a9034e6830575b</td>\n",
       "      <td>0.000582</td>\n",
       "      <td>2017-04-12T14:58:27.675Z</td>\n",
       "      <td>http://www.qulishi.com/news/201702/165461.html</td>\n",
       "      <td>qulishi.com</td>\n",
       "      <td>宋朝 著名 大臣 赵 抃 为何 连皇帝 都 要 敬重 三分   趣 历史 首页   |   ...</td>\n",
       "      <td>{u'抃': 0.0195439739414, u'公元': 0.0081433224755...</td>\n",
       "      <td>[-0.00633983, 0.00855267, 0.0143502, -0.005216...</td>\n",
       "    </tr>\n",
       "    <tr>\n",
       "      <th>24</th>\n",
       "      <td>http://www.qulishi.com/news/201702/165682.html</td>\n",
       "      <td>剿灭黄巾悍将皇甫嵩为何对董卓束手无策? 趣历史首页 |  讲述历史上那些有趣的事 人物 - ...</td>\n",
       "      <td>剿灭黄巾悍将皇甫嵩为何对董卓束手无策?</td>\n",
       "      <td>1564486876681732096</td>\n",
       "      <td>NaN</td>\n",
       "      <td>20170412122707</td>\n",
       "      <td>4480c99ef73a7b22bdf87a4ed0dd95b4</td>\n",
       "      <td>0.000398</td>\n",
       "      <td>2017-04-12T13:57:56.919Z</td>\n",
       "      <td>http://www.qulishi.com/news/201702/165682.html</td>\n",
       "      <td>qulishi.com</td>\n",
       "      <td>剿灭 黄巾 悍将 皇甫嵩 为何 对 董卓 束手无策 ?   趣 历史 首页   |     ...</td>\n",
       "      <td>{u'平定': 0.00635930047695, u'汉宛': 0.00794912559...</td>\n",
       "      <td>[-0.00445729, 0.00700998, 0.0154221, -0.005574...</td>\n",
       "    </tr>\n",
       "    <tr>\n",
       "      <th>25</th>\n",
       "      <td>http://www.qulishi.com/news/201702/166664.html</td>\n",
       "      <td>宋徽宗赵佶因何缘故要在除夕之夜考试才女若兰？ 趣历史首页 |  讲述历史上那些有趣的事 人物...</td>\n",
       "      <td>宋徽宗赵佶因何缘故要在除夕之夜考试才女若兰？</td>\n",
       "      <td>1564486876689072128</td>\n",
       "      <td>NaN</td>\n",
       "      <td>20170412122707</td>\n",
       "      <td>b63455721710247713bf61463d960b81</td>\n",
       "      <td>0.000177</td>\n",
       "      <td>2017-04-12T13:09:28.513Z</td>\n",
       "      <td>http://www.qulishi.com/news/201702/166664.html</td>\n",
       "      <td>qulishi.com</td>\n",
       "      <td>宋徽 宗赵佶 因何 缘故 要 在 除夕之夜 考试 才女 若兰 ？   趣 历史 首页   |...</td>\n",
       "      <td>{u'汉宛': 0.00837520938023, u'国家': 0.00670016750...</td>\n",
       "      <td>[-0.00664001, 0.0103549, 0.014601, -0.00577923...</td>\n",
       "    </tr>\n",
       "    <tr>\n",
       "      <th>26</th>\n",
       "      <td>http://www.qulishi.com/news/201702/166887.html</td>\n",
       "      <td>揭秘：清朝历史上纪晓岚为何会如此仇视蒲松龄 趣历史首页 |  讲述历史上那些有趣的事 人物 ...</td>\n",
       "      <td>揭秘：清朝历史上纪晓岚为何会如此仇视蒲松龄</td>\n",
       "      <td>1564486876694315008</td>\n",
       "      <td>NaN</td>\n",
       "      <td>20170412122707</td>\n",
       "      <td>aee67d2ad7594bb334a70d006e557781</td>\n",
       "      <td>0.000195</td>\n",
       "      <td>2017-04-12T12:47:22.327Z</td>\n",
       "      <td>http://www.qulishi.com/news/201702/166887.html</td>\n",
       "      <td>qulishi.com</td>\n",
       "      <td>揭秘 ： 清朝 历史 上 纪晓岚 为何 会 如此 仇视 蒲松龄   趣 历史 首页   | ...</td>\n",
       "      <td>{u'汉宛': 0.00830564784053, u'国家': 0.00664451827...</td>\n",
       "      <td>[-0.00426474, 0.00745741, 0.0158049, -0.002661...</td>\n",
       "    </tr>\n",
       "    <tr>\n",
       "      <th>27</th>\n",
       "      <td>http://www.qulishi.com/news/201702/166914.html</td>\n",
       "      <td>清朝乾隆皇帝：中国历史上最高产的垃圾写手 趣历史首页 |  讲述历史上那些有趣的事 人物 -...</td>\n",
       "      <td>清朝乾隆皇帝：中国历史上最高产的垃圾写手</td>\n",
       "      <td>1564486876701655040</td>\n",
       "      <td>NaN</td>\n",
       "      <td>20170412122707</td>\n",
       "      <td>53d3b43346f337085166b6f65900c74e</td>\n",
       "      <td>0.000193</td>\n",
       "      <td>2017-04-12T14:01:40.843Z</td>\n",
       "      <td>http://www.qulishi.com/news/201702/166914.html</td>\n",
       "      <td>qulishi.com</td>\n",
       "      <td>清朝 乾隆皇帝 ： 中国 历史 上 最高 产 的 垃圾 写手   趣 历史 首页   |  ...</td>\n",
       "      <td>{u'汉宛': 0.00827814569536, u'国家': 0.00496688741...</td>\n",
       "      <td>[-0.00663031, 0.0102423, 0.0160876, -0.0040105...</td>\n",
       "    </tr>\n",
       "    <tr>\n",
       "      <th>28</th>\n",
       "      <td>http://www.qulishi.com/news/201702/167096.html</td>\n",
       "      <td>岳飞在明代被封神 清朝为何要将其赶出武庙？ 趣历史首页 |  讲述历史上那些有趣的事 人物 ...</td>\n",
       "      <td>岳飞在明代被封神 清朝为何要将其赶出武庙？</td>\n",
       "      <td>1564486876704800768</td>\n",
       "      <td>NaN</td>\n",
       "      <td>20170412122707</td>\n",
       "      <td>4640532f12889f2e9c730be9b36fb79b</td>\n",
       "      <td>0.000191</td>\n",
       "      <td>2017-04-12T15:08:46.987Z</td>\n",
       "      <td>http://www.qulishi.com/news/201702/167096.html</td>\n",
       "      <td>qulishi.com</td>\n",
       "      <td>岳飞 在 明代 被 封神   清朝 为何 要 将 其 赶出 武庙 ？   趣 历史 首页  ...</td>\n",
       "      <td>{u'汉宛': 0.00798722044728, u'公元': 0.00798722044...</td>\n",
       "      <td>[-0.00880803, 0.00920082, 0.0168396, -0.009692...</td>\n",
       "    </tr>\n",
       "    <tr>\n",
       "      <th>29</th>\n",
       "      <td>http://www.qulishi.com/news/201702/167251_2.html</td>\n",
       "      <td>清朝覆灭之后 没有了庇佑满族人都何去何从 趣历史首页 |  讲述历史上那些有趣的事 人物 -...</td>\n",
       "      <td>清朝覆灭之后 没有了庇佑满族人都何去何从</td>\n",
       "      <td>1564486876711092224</td>\n",
       "      <td>NaN</td>\n",
       "      <td>20170412122707</td>\n",
       "      <td>1847a33e62850f15c8c99bf7ddffb9ac</td>\n",
       "      <td>0.000268</td>\n",
       "      <td>2017-04-12T15:13:24.508Z</td>\n",
       "      <td>http://www.qulishi.com/news/201702/167251_2.html</td>\n",
       "      <td>qulishi.com</td>\n",
       "      <td>清朝 覆灭 之后   没有 了 庇佑 满族 人 都 何去何从   趣 历史 首页   |  ...</td>\n",
       "      <td>{u'汉宛': 0.00841750841751, u'公元': 0.00841750841...</td>\n",
       "      <td>[-0.00681482, 0.0103409, 0.0176077, -0.0045925...</td>\n",
       "    </tr>\n",
       "    <tr>\n",
       "      <th>...</th>\n",
       "      <td>...</td>\n",
       "      <td>...</td>\n",
       "      <td>...</td>\n",
       "      <td>...</td>\n",
       "      <td>...</td>\n",
       "      <td>...</td>\n",
       "      <td>...</td>\n",
       "      <td>...</td>\n",
       "      <td>...</td>\n",
       "      <td>...</td>\n",
       "      <td>...</td>\n",
       "      <td>...</td>\n",
       "      <td>...</td>\n",
       "      <td>...</td>\n",
       "    </tr>\n",
       "    <tr>\n",
       "      <th>70</th>\n",
       "      <td>http://www.qulishi.com/news/201703/180448_2.html</td>\n",
       "      <td>因为爱情：后周皇帝郭威让柴荣继位 趣历史首页 |  讲述历史上那些有趣的事 人物 - 专题 ...</td>\n",
       "      <td>因为爱情：后周皇帝郭威让柴荣继位</td>\n",
       "      <td>1564486876840067072</td>\n",
       "      <td>NaN</td>\n",
       "      <td>20170412122707</td>\n",
       "      <td>436eb5b542fb176ae2413e6aaedec3ab</td>\n",
       "      <td>0.000200</td>\n",
       "      <td>2017-04-12T15:08:08.76Z</td>\n",
       "      <td>http://www.qulishi.com/news/201703/180448_2.html</td>\n",
       "      <td>qulishi.com</td>\n",
       "      <td>因为 爱情 ： 后周 皇帝 郭威 让 柴荣 继位   趣 历史 首页   |     讲述 ...</td>\n",
       "      <td>{u'汉宛': 0.00806451612903, u'公元': 0.00806451612...</td>\n",
       "      <td>[-0.00480898, 0.00886112, 0.0150157, -0.005415...</td>\n",
       "    </tr>\n",
       "    <tr>\n",
       "      <th>71</th>\n",
       "      <td>http://www.qulishi.com/news/201703/180472.html</td>\n",
       "      <td>西施一心只爱吴王夫差 何曾爱过范蠡? 趣历史首页 |  讲述历史上那些有趣的事 人物 - 专...</td>\n",
       "      <td>西施一心只爱吴王夫差 何曾爱过范蠡?</td>\n",
       "      <td>1564486876843212800</td>\n",
       "      <td>NaN</td>\n",
       "      <td>20170412122707</td>\n",
       "      <td>e09a706c40444623ca7e5fb4c9a1cd16</td>\n",
       "      <td>0.001021</td>\n",
       "      <td>2017-04-12T13:59:17.426Z</td>\n",
       "      <td>http://www.qulishi.com/news/201703/180472.html</td>\n",
       "      <td>qulishi.com</td>\n",
       "      <td>西施 一心 只爱 吴王夫 差   何曾 爱过 范蠡 ?   趣 历史 首页   |     ...</td>\n",
       "      <td>{u'西施': 0.046511627907, u'公元': 0.0083056478405...</td>\n",
       "      <td>[-0.00658611, 0.0100232, 0.0172469, -0.0058646...</td>\n",
       "    </tr>\n",
       "    <tr>\n",
       "      <th>72</th>\n",
       "      <td>http://www.qulishi.com/news/201703/180503_2.html</td>\n",
       "      <td>三国奇闻：诸葛亮为何娶一个丑女做老婆 趣历史首页 |  讲述历史上那些有趣的事 人物 - 专...</td>\n",
       "      <td>三国奇闻：诸葛亮为何娶一个丑女做老婆</td>\n",
       "      <td>1564486876846358528</td>\n",
       "      <td>NaN</td>\n",
       "      <td>20170412122707</td>\n",
       "      <td>14c10ee85e58b11ae65c211ad4a8c6a9</td>\n",
       "      <td>0.000200</td>\n",
       "      <td>2017-04-12T14:58:39.954Z</td>\n",
       "      <td>http://www.qulishi.com/news/201703/180503_2.html</td>\n",
       "      <td>qulishi.com</td>\n",
       "      <td>三国 奇闻 ： 诸葛亮 为何 娶 一个 丑女 做 老婆   趣 历史 首页   |     ...</td>\n",
       "      <td>{u'汉宛': 0.00818330605565, u'公元': 0.00818330605...</td>\n",
       "      <td>[-0.00351092, 0.00766363, 0.0139113, -0.006979...</td>\n",
       "    </tr>\n",
       "    <tr>\n",
       "      <th>73</th>\n",
       "      <td>http://www.qulishi.com/news/201703/180520.html</td>\n",
       "      <td>七仙女其实只是玉帝派下来帮助董永还债的? 趣历史首页 |  讲述历史上那些有趣的事 人物 -...</td>\n",
       "      <td>七仙女其实只是玉帝派下来帮助董永还债的?</td>\n",
       "      <td>1564486876848455680</td>\n",
       "      <td>NaN</td>\n",
       "      <td>20170412122707</td>\n",
       "      <td>c88dde83da9c52b88dcd90373f0d5cc9</td>\n",
       "      <td>0.000187</td>\n",
       "      <td>2017-04-12T12:34:47.793Z</td>\n",
       "      <td>http://www.qulishi.com/news/201703/180520.html</td>\n",
       "      <td>qulishi.com</td>\n",
       "      <td>七仙女 其实 只是 玉帝 派 下来 帮助 董永 还债 的 ?   趣 历史 首页   |  ...</td>\n",
       "      <td>{u'汉宛': 0.00798722044728, u'国家': 0.00638977635...</td>\n",
       "      <td>[-0.00657816, 0.00712045, 0.015386, -0.0083775...</td>\n",
       "    </tr>\n",
       "    <tr>\n",
       "      <th>74</th>\n",
       "      <td>http://www.qulishi.com/news/201703/180664.html</td>\n",
       "      <td>《大唐荣耀2》李佖怎样识破张皇后的诡计的？ 趣历史首页 |  讲述历史上那些有趣的事 人物 ...</td>\n",
       "      <td>《大唐荣耀2》李佖怎样识破张皇后的诡计的？</td>\n",
       "      <td>1564486876851601408</td>\n",
       "      <td>NaN</td>\n",
       "      <td>20170412122707</td>\n",
       "      <td>22c89d1c62ad00d265bcab8cc8a0fd73</td>\n",
       "      <td>0.000202</td>\n",
       "      <td>2017-04-12T15:24:43.928Z</td>\n",
       "      <td>http://www.qulishi.com/news/201703/180664.html</td>\n",
       "      <td>qulishi.com</td>\n",
       "      <td>《 大唐 荣耀 2 》 李 佖 怎样 识破 张皇后 的 诡计 的 ？   趣 历史 首页  ...</td>\n",
       "      <td>{u'汉宛': 0.00796178343949, u'公元': 0.00796178343...</td>\n",
       "      <td>[-0.00269, 0.0071276, 0.0148612, -0.0064997, -...</td>\n",
       "    </tr>\n",
       "    <tr>\n",
       "      <th>75</th>\n",
       "      <td>http://www.qulishi.com/news/201703/180970.html</td>\n",
       "      <td>揭秘隋末反王王世充为何不能一统天下? 趣历史首页 |  讲述历史上那些有趣的事 人物 - 专...</td>\n",
       "      <td>揭秘隋末反王王世充为何不能一统天下?</td>\n",
       "      <td>1564486876854747136</td>\n",
       "      <td>NaN</td>\n",
       "      <td>20170412122707</td>\n",
       "      <td>2860e072ab699ffffb7cd87644b924a0</td>\n",
       "      <td>0.000176</td>\n",
       "      <td>2017-04-12T12:54:34.299Z</td>\n",
       "      <td>http://www.qulishi.com/news/201703/180970.html</td>\n",
       "      <td>qulishi.com</td>\n",
       "      <td>揭秘 隋末 反王 王世充 为何 不能 一统天下 ?   趣 历史 首页   |     讲述...</td>\n",
       "      <td>{u'汉宛': 0.00818330605565, u'国家': 0.00654664484...</td>\n",
       "      <td>[-0.00395976, 0.00818255, 0.0152735, -0.006760...</td>\n",
       "    </tr>\n",
       "    <tr>\n",
       "      <th>76</th>\n",
       "      <td>http://www.qulishi.com/news/201703/181000_2.html</td>\n",
       "      <td>唐太宗李世民：父亲和母亲的爱情 趣历史首页 |  讲述历史上那些有趣的事 人物 - 专题 -...</td>\n",
       "      <td>唐太宗李世民：父亲和母亲的爱情</td>\n",
       "      <td>1564486876857892864</td>\n",
       "      <td>NaN</td>\n",
       "      <td>20170412122707</td>\n",
       "      <td>bed08edc7e34de8c665903f72fc25d0c</td>\n",
       "      <td>0.001421</td>\n",
       "      <td>2017-04-12T14:37:41.289Z</td>\n",
       "      <td>http://www.qulishi.com/news/201703/181000_2.html</td>\n",
       "      <td>qulishi.com</td>\n",
       "      <td>唐太宗 李世民 ： 父亲 和 母亲 的 爱情   趣 历史 首页   |     讲述 历史...</td>\n",
       "      <td>{u'汉宛': 0.00854700854701, u'公元': 0.01025641025...</td>\n",
       "      <td>[-0.00550266, 0.00828602, 0.0168884, -0.006843...</td>\n",
       "    </tr>\n",
       "    <tr>\n",
       "      <th>77</th>\n",
       "      <td>http://www.qulishi.com/news/201703/181059.html</td>\n",
       "      <td>看绝色美女西施如何用美貌灭掉两个国家 趣历史首页 |  讲述历史上那些有趣的事 人物 - 专...</td>\n",
       "      <td>看绝色美女西施如何用美貌灭掉两个国家</td>\n",
       "      <td>1564486876859990016</td>\n",
       "      <td>NaN</td>\n",
       "      <td>20170412122707</td>\n",
       "      <td>10a3f2091f03a558646c36719eb293dd</td>\n",
       "      <td>0.000175</td>\n",
       "      <td>2017-04-12T12:33:45.269Z</td>\n",
       "      <td>http://www.qulishi.com/news/201703/181059.html</td>\n",
       "      <td>qulishi.com</td>\n",
       "      <td>看 绝色美女 西施 如何 用 美貌 灭掉 两个 国家   趣 历史 首页   |     讲...</td>\n",
       "      <td>{u'西施': 0.032414910859, u'国家': 0.0145867098865...</td>\n",
       "      <td>[-0.00573457, 0.00918302, 0.0171532, -0.005624...</td>\n",
       "    </tr>\n",
       "    <tr>\n",
       "      <th>78</th>\n",
       "      <td>http://www.qulishi.com/news/201703/181130.html</td>\n",
       "      <td>他失街亭致蜀汉陨落：却助孔明擒孟获 趣历史首页 |  讲述历史上那些有趣的事 人物 - 专题...</td>\n",
       "      <td>他失街亭致蜀汉陨落：却助孔明擒孟获</td>\n",
       "      <td>1564486876863135744</td>\n",
       "      <td>NaN</td>\n",
       "      <td>20170412122707</td>\n",
       "      <td>2e07e7bf8fafa5a5dcd7bb8ead4ca7b6</td>\n",
       "      <td>0.000178</td>\n",
       "      <td>2017-04-12T12:29:59.593Z</td>\n",
       "      <td>http://www.qulishi.com/news/201703/181130.html</td>\n",
       "      <td>qulishi.com</td>\n",
       "      <td>他 失街亭 致 蜀汉 陨落 ： 却助 孔明 擒孟获   趣 历史 首页   |     讲述...</td>\n",
       "      <td>{u'汉宛': 0.00819672131148, u'国家': 0.00655737704...</td>\n",
       "      <td>[-0.00443658, 0.00698037, 0.0147676, -0.009071...</td>\n",
       "    </tr>\n",
       "    <tr>\n",
       "      <th>79</th>\n",
       "      <td>http://www.qulishi.com/news/201703/181195.html</td>\n",
       "      <td>李白杜甫的神奇友情 算得上门当户对 趣历史首页 |  讲述历史上那些有趣的事 人物 - 专题...</td>\n",
       "      <td>李白杜甫的神奇友情 算得上门当户对</td>\n",
       "      <td>1564486876866281472</td>\n",
       "      <td>NaN</td>\n",
       "      <td>20170412122707</td>\n",
       "      <td>5db1fd8fd4d90bdbe60d4ddf9e76dfa8</td>\n",
       "      <td>0.000177</td>\n",
       "      <td>2017-04-12T13:50:52.362Z</td>\n",
       "      <td>http://www.qulishi.com/news/201703/181195.html</td>\n",
       "      <td>qulishi.com</td>\n",
       "      <td>李白杜甫 的 神奇 友情   算得 上 门当户对   趣 历史 首页   |     讲述 ...</td>\n",
       "      <td>{u'汉宛': 0.00833333333333, u'公元': 0.00833333333...</td>\n",
       "      <td>[-0.00756755, 0.00773128, 0.012872, -0.0051998...</td>\n",
       "    </tr>\n",
       "    <tr>\n",
       "      <th>80</th>\n",
       "      <td>http://www.qulishi.com/news/201703/181388.html</td>\n",
       "      <td>历史揭秘：诸葛孔明为何叫诸葛村夫？ 趣历史首页 |  讲述历史上那些有趣的事 人物 - 专题...</td>\n",
       "      <td>历史揭秘：诸葛孔明为何叫诸葛村夫？</td>\n",
       "      <td>1564486876871524352</td>\n",
       "      <td>NaN</td>\n",
       "      <td>20170412122707</td>\n",
       "      <td>43dbe63f3476937e0ebd4543a1b9b2f6</td>\n",
       "      <td>0.000176</td>\n",
       "      <td>2017-04-12T14:30:31.049Z</td>\n",
       "      <td>http://www.qulishi.com/news/201703/181388.html</td>\n",
       "      <td>qulishi.com</td>\n",
       "      <td>历史 揭秘 ： 诸葛孔明 为何 叫 诸葛村 夫 ？   趣 历史 首页   |     讲述...</td>\n",
       "      <td>{u'汉宛': 0.00826446280992, u'公元': 0.00826446280...</td>\n",
       "      <td>[-0.00672547, 0.00914145, 0.0146179, -0.007516...</td>\n",
       "    </tr>\n",
       "    <tr>\n",
       "      <th>81</th>\n",
       "      <td>http://www.qulishi.com/news/201703/181472.html</td>\n",
       "      <td>演义趣闻：孔明挥剑砍石 清泉涌出拯救三军！ 趣历史首页 |  讲述历史上那些有趣的事 人物 ...</td>\n",
       "      <td>演义趣闻：孔明挥剑砍石 清泉涌出拯救三军！</td>\n",
       "      <td>1564486876876767232</td>\n",
       "      <td>NaN</td>\n",
       "      <td>20170412122707</td>\n",
       "      <td>bcc710a90880fc371084031ee2f22fcf</td>\n",
       "      <td>0.000175</td>\n",
       "      <td>2017-04-12T13:16:53.754Z</td>\n",
       "      <td>http://www.qulishi.com/news/201703/181472.html</td>\n",
       "      <td>qulishi.com</td>\n",
       "      <td>演义 趣闻 ： 孔明 挥剑 砍石   清泉 涌出 拯救 三军 ！   趣 历史 首页   |...</td>\n",
       "      <td>{u'汉宛': 0.00838926174497, u'国家': 0.00671140939...</td>\n",
       "      <td>[-0.0042089, 0.00797763, 0.01615, -0.00824487,...</td>\n",
       "    </tr>\n",
       "    <tr>\n",
       "      <th>82</th>\n",
       "      <td>http://www.qulishi.com/news/201703/181517.html</td>\n",
       "      <td>亚当斯密有什么贡献 亚当斯密的主要观点介绍 趣历史首页 |  讲述历史上那些有趣的事 人物 ...</td>\n",
       "      <td>亚当斯密有什么贡献 亚当斯密的主要观点介绍</td>\n",
       "      <td>1564486876882010112</td>\n",
       "      <td>NaN</td>\n",
       "      <td>20170412122707</td>\n",
       "      <td>d4cf8829ddbab8bd9dfbf878d7b5d2ef</td>\n",
       "      <td>0.000627</td>\n",
       "      <td>2017-04-12T13:54:13.522Z</td>\n",
       "      <td>http://www.qulishi.com/news/201703/181517.html</td>\n",
       "      <td>qulishi.com</td>\n",
       "      <td>亚当斯 密有 什么 贡献   亚当斯 密 的 主要 观点 介绍   趣 历史 首页   | ...</td>\n",
       "      <td>{u'汉宛': 0.008038585209, u'公元': 0.008038585209,...</td>\n",
       "      <td>[-0.00576598, 0.00911119, 0.0140224, -0.007610...</td>\n",
       "    </tr>\n",
       "    <tr>\n",
       "      <th>83</th>\n",
       "      <td>http://www.qulishi.com/news/201703/181533_2.html</td>\n",
       "      <td>清朝选妃奇葩多，秀女没有最丑只有更丑！ 趣历史首页 |  讲述历史上那些有趣的事 人物 - ...</td>\n",
       "      <td>清朝选妃奇葩多，秀女没有最丑只有更丑！</td>\n",
       "      <td>1564486876887252992</td>\n",
       "      <td>NaN</td>\n",
       "      <td>20170412122707</td>\n",
       "      <td>0a45e73438036a67135caec77a7c78b9</td>\n",
       "      <td>0.000267</td>\n",
       "      <td>2017-04-12T12:50:10.749Z</td>\n",
       "      <td>http://www.qulishi.com/news/201703/181533_2.html</td>\n",
       "      <td>qulishi.com</td>\n",
       "      <td>清朝 选妃 奇葩 多 ， 秀女 没有 最丑 只有 更丑 ！   趣 历史 首页   |   ...</td>\n",
       "      <td>{u'汉宛': 0.00831946755408, u'国家': 0.00831946755...</td>\n",
       "      <td>[-0.00517399, 0.00927429, 0.0162592, -0.004517...</td>\n",
       "    </tr>\n",
       "    <tr>\n",
       "      <th>84</th>\n",
       "      <td>http://www.qulishi.com/news/201703/181601.html</td>\n",
       "      <td>苏秦的故事：罕有其匹的纵横大家被五马分尸 趣历史首页 |  讲述历史上那些有趣的事 人物 -...</td>\n",
       "      <td>苏秦的故事：罕有其匹的纵横大家被五马分尸</td>\n",
       "      <td>1564486876892495872</td>\n",
       "      <td>NaN</td>\n",
       "      <td>20170412122707</td>\n",
       "      <td>58f234c4821c43d950ef8948d0501019</td>\n",
       "      <td>0.000179</td>\n",
       "      <td>2017-04-12T12:44:00.97Z</td>\n",
       "      <td>http://www.qulishi.com/news/201703/181601.html</td>\n",
       "      <td>qulishi.com</td>\n",
       "      <td>苏秦 的 故事 ： 罕有 其匹 的 纵横 大家 被 五马分尸   趣 历史 首页   |  ...</td>\n",
       "      <td>{u'汉宛': 0.00814332247557, u'国家': 0.00651465798...</td>\n",
       "      <td>[-0.00596934, 0.00874316, 0.0146956, -0.007401...</td>\n",
       "    </tr>\n",
       "    <tr>\n",
       "      <th>85</th>\n",
       "      <td>http://www.qulishi.com/news/201703/182032.html</td>\n",
       "      <td>揭秘张之洞与梁启超的关系居然如此恶劣 趣历史首页 |  讲述历史上那些有趣的事 人物 - 专...</td>\n",
       "      <td>揭秘张之洞与梁启超的关系居然如此恶劣</td>\n",
       "      <td>1564486876894593024</td>\n",
       "      <td>NaN</td>\n",
       "      <td>20170412122707</td>\n",
       "      <td>02961d1e9569b61a485c791592790dcb</td>\n",
       "      <td>0.000391</td>\n",
       "      <td>2017-04-12T14:01:21.919Z</td>\n",
       "      <td>http://www.qulishi.com/news/201703/182032.html</td>\n",
       "      <td>qulishi.com</td>\n",
       "      <td>揭秘 张之洞 与 梁启超 的 关系 居然 如此 恶劣   趣 历史 首页   |     讲...</td>\n",
       "      <td>{u'汉宛': 0.00748502994012, u'公元': 0.00748502994...</td>\n",
       "      <td>[-0.0077487, 0.0116059, 0.013722, -0.00517865,...</td>\n",
       "    </tr>\n",
       "    <tr>\n",
       "      <th>86</th>\n",
       "      <td>http://www.qulishi.com/news/201703/182033.html</td>\n",
       "      <td>李白因为写诗触怒了杨贵妃才怀才不遇的吗？ 趣历史首页 |  讲述历史上那些有趣的事 人物 -...</td>\n",
       "      <td>李白因为写诗触怒了杨贵妃才怀才不遇的吗？</td>\n",
       "      <td>1564486876898787328</td>\n",
       "      <td>NaN</td>\n",
       "      <td>20170412122707</td>\n",
       "      <td>351d60729ccdf20a97106ea6501c445c</td>\n",
       "      <td>0.000218</td>\n",
       "      <td>2017-04-12T14:07:22.034Z</td>\n",
       "      <td>http://www.qulishi.com/news/201703/182033.html</td>\n",
       "      <td>qulishi.com</td>\n",
       "      <td>李白 因为 写诗 触怒 了 杨贵妃 才 怀才不遇 的 吗 ？   趣 历史 首页   |  ...</td>\n",
       "      <td>{u'汉宛': 0.00792393026941, u'公元': 0.00792393026...</td>\n",
       "      <td>[-0.00534255, 0.00820793, 0.0106604, -0.006195...</td>\n",
       "    </tr>\n",
       "    <tr>\n",
       "      <th>87</th>\n",
       "      <td>http://www.qulishi.com/news/201703/182286.html</td>\n",
       "      <td>史上杨贵妃究竟有多胖：杨贵妃真的有狐臭吗 趣历史首页 |  讲述历史上那些有趣的事 人物 -...</td>\n",
       "      <td>史上杨贵妃究竟有多胖：杨贵妃真的有狐臭吗</td>\n",
       "      <td>1564486876900884480</td>\n",
       "      <td>NaN</td>\n",
       "      <td>20170412122707</td>\n",
       "      <td>6d80c1dbe31e0a52e5702296f8265ad4</td>\n",
       "      <td>0.000217</td>\n",
       "      <td>2017-04-12T12:37:44.008Z</td>\n",
       "      <td>http://www.qulishi.com/news/201703/182286.html</td>\n",
       "      <td>qulishi.com</td>\n",
       "      <td>史上 杨贵妃 究竟 有 多 胖 ： 杨贵妃 真的 有 狐臭 吗   趣 历史 首页   | ...</td>\n",
       "      <td>{u'汉宛': 0.00805152979066, u'国家': 0.00644122383...</td>\n",
       "      <td>[-0.00312936, 0.00815369, 0.0160532, -0.006353...</td>\n",
       "    </tr>\n",
       "    <tr>\n",
       "      <th>88</th>\n",
       "      <td>http://www.qulishi.com/news/201703/182506_2.html</td>\n",
       "      <td>杨贵妃为干儿子安禄山洗澡搓背是真是假？ 趣历史首页 |  讲述历史上那些有趣的事 人物 - ...</td>\n",
       "      <td>杨贵妃为干儿子安禄山洗澡搓背是真是假？</td>\n",
       "      <td>1564486876904030208</td>\n",
       "      <td>NaN</td>\n",
       "      <td>20170412122707</td>\n",
       "      <td>e66ce993f9a3c46abd630fe5c570a3b0</td>\n",
       "      <td>0.000304</td>\n",
       "      <td>2017-04-12T13:28:12.133Z</td>\n",
       "      <td>http://www.qulishi.com/news/201703/182506_2.html</td>\n",
       "      <td>qulishi.com</td>\n",
       "      <td>杨贵妃 为 干儿子 安禄山 洗澡 搓 背 是 真是假 ？   趣 历史 首页   |    ...</td>\n",
       "      <td>{u'汉宛': 0.00826446280992, u'国家': 0.00661157024...</td>\n",
       "      <td>[-0.002813, 0.00807835, 0.015083, -0.00590684,...</td>\n",
       "    </tr>\n",
       "    <tr>\n",
       "      <th>89</th>\n",
       "      <td>http://www.qulishi.com/news/201703/182506_3.html</td>\n",
       "      <td>杨贵妃为干儿子安禄山洗澡搓背是真是假？ 趣历史首页 |  讲述历史上那些有趣的事 人物 - ...</td>\n",
       "      <td>杨贵妃为干儿子安禄山洗澡搓背是真是假？</td>\n",
       "      <td>1564486876907175936</td>\n",
       "      <td>NaN</td>\n",
       "      <td>20170412122707</td>\n",
       "      <td>e1519b8f1fd7626ec779ba8077e2c61e</td>\n",
       "      <td>0.000218</td>\n",
       "      <td>2017-04-12T12:47:29.408Z</td>\n",
       "      <td>http://www.qulishi.com/news/201703/182506_3.html</td>\n",
       "      <td>qulishi.com</td>\n",
       "      <td>杨贵妃 为 干儿子 安禄山 洗澡 搓 背 是 真是假 ？   趣 历史 首页   |    ...</td>\n",
       "      <td>{u'汉宛': 0.00816993464052, u'国家': 0.00653594771...</td>\n",
       "      <td>[-0.00239254, 0.00781804, 0.015681, -0.0068223...</td>\n",
       "    </tr>\n",
       "    <tr>\n",
       "      <th>90</th>\n",
       "      <td>http://www.qulishi.com/news/201703/182664_3.html</td>\n",
       "      <td>成吉思汗是怎么死的 揭秘成吉思汗死因 趣历史首页 |  讲述历史上那些有趣的事 人物 - 专...</td>\n",
       "      <td>成吉思汗是怎么死的 揭秘成吉思汗死因</td>\n",
       "      <td>1564486876909273088</td>\n",
       "      <td>NaN</td>\n",
       "      <td>20170412122707</td>\n",
       "      <td>536e9b848330090baa03bd7bc1314c22</td>\n",
       "      <td>0.001000</td>\n",
       "      <td>2017-04-12T14:36:34.054Z</td>\n",
       "      <td>http://www.qulishi.com/news/201703/182664_3.html</td>\n",
       "      <td>qulishi.com</td>\n",
       "      <td>成吉思汗 是 怎么 死 的   揭秘 成吉思汗 死因   趣 历史 首页   |     讲...</td>\n",
       "      <td>{u'汉宛': 0.00813008130081, u'这位': 0.00487804878...</td>\n",
       "      <td>[-0.00258822, 0.0100223, 0.016516, -0.0068219,...</td>\n",
       "    </tr>\n",
       "    <tr>\n",
       "      <th>91</th>\n",
       "      <td>http://www.qulishi.com/news/201703/182966.html</td>\n",
       "      <td>汉惠帝刘盈：没人看好但他仍是好皇帝 趣历史首页 |  讲述历史上那些有趣的事 人物 - 专题...</td>\n",
       "      <td>汉惠帝刘盈：没人看好但他仍是好皇帝</td>\n",
       "      <td>1564486876912418816</td>\n",
       "      <td>NaN</td>\n",
       "      <td>20170412122707</td>\n",
       "      <td>c383b4774a0c2d3ee174c117bda091ed</td>\n",
       "      <td>0.000177</td>\n",
       "      <td>2017-04-12T13:25:44.468Z</td>\n",
       "      <td>http://www.qulishi.com/news/201703/182966.html</td>\n",
       "      <td>qulishi.com</td>\n",
       "      <td>汉惠帝 刘盈 ： 没 人 看好 但 他 仍 是 好 皇帝   趣 历史 首页   |    ...</td>\n",
       "      <td>{u'汉宛': 0.00784929356358, u'国家': 0.00784929356...</td>\n",
       "      <td>[-0.00173197, 0.0104099, 0.017248, -0.004965, ...</td>\n",
       "    </tr>\n",
       "    <tr>\n",
       "      <th>92</th>\n",
       "      <td>http://www.qulishi.com/news/201703/183117.html</td>\n",
       "      <td>夏启继位，夏启是如何夺得天下的？ 趣历史首页 |  讲述历史上那些有趣的事 人物 - 专题 ...</td>\n",
       "      <td>夏启继位，夏启是如何夺得天下的？</td>\n",
       "      <td>1564486876915564544</td>\n",
       "      <td>NaN</td>\n",
       "      <td>20170412122707</td>\n",
       "      <td>e8e352c6a69044240f245166d2baeb92</td>\n",
       "      <td>0.011533</td>\n",
       "      <td>2017-04-12T14:41:08.501Z</td>\n",
       "      <td>http://www.qulishi.com/news/201703/183117.html</td>\n",
       "      <td>qulishi.com</td>\n",
       "      <td>夏启 继位 ， 夏启 是 如何 夺得 天下 的 ？   趣 历史 首页   |     讲述...</td>\n",
       "      <td>{u'汉宛': 0.00830564784053, u'伯益': 0.01328903654...</td>\n",
       "      <td>[-0.00675474, 0.00873287, 0.0151236, -0.003566...</td>\n",
       "    </tr>\n",
       "    <tr>\n",
       "      <th>93</th>\n",
       "      <td>http://www.qulishi.com/news/201703/183264.html</td>\n",
       "      <td>四大美女王昭君的悲剧 竟被迫嫁给丈夫的孙子 趣历史首页 |  讲述历史上那些有趣的事 人物 ...</td>\n",
       "      <td>四大美女王昭君的悲剧 竟被迫嫁给丈夫的孙子</td>\n",
       "      <td>1564486876918710272</td>\n",
       "      <td>NaN</td>\n",
       "      <td>20170412122707</td>\n",
       "      <td>5245df89536586c5de0097686b80e80f</td>\n",
       "      <td>0.007878</td>\n",
       "      <td>2017-04-12T14:43:09.316Z</td>\n",
       "      <td>http://www.qulishi.com/news/201703/183264.html</td>\n",
       "      <td>qulishi.com</td>\n",
       "      <td>四大美女 王昭君 的 悲剧   竟 被迫 嫁给 丈夫 的 孙子   趣 历史 首页   | ...</td>\n",
       "      <td>{u'汉宛': 0.00827814569536, u'公元': 0.00827814569...</td>\n",
       "      <td>[-0.00496181, 0.0100943, 0.0179654, -0.0059911...</td>\n",
       "    </tr>\n",
       "    <tr>\n",
       "      <th>94</th>\n",
       "      <td>http://www.qulishi.com/news/201703/183291.html</td>\n",
       "      <td>晚清名臣张之洞记性差：时常会忘记自己所下的命令 趣历史首页 |  讲述历史上那些有趣的事 人...</td>\n",
       "      <td>晚清名臣张之洞记性差：时常会忘记自己所下的命令</td>\n",
       "      <td>1564486876920807424</td>\n",
       "      <td>NaN</td>\n",
       "      <td>20170412122707</td>\n",
       "      <td>f4787abdfab3b0b60ed0d80c45fabd39</td>\n",
       "      <td>0.000537</td>\n",
       "      <td>2017-04-12T13:10:41.131Z</td>\n",
       "      <td>http://www.qulishi.com/news/201703/183291.html</td>\n",
       "      <td>qulishi.com</td>\n",
       "      <td>晚清 名臣 张之洞 记性差 ： 时常 会 忘记 自己 所下 的 命令   趣 历史 首页  ...</td>\n",
       "      <td>{u'汉宛': 0.00818330605565, u'国家': 0.00654664484...</td>\n",
       "      <td>[-0.00555628, 0.00941711, 0.0146267, -0.004219...</td>\n",
       "    </tr>\n",
       "    <tr>\n",
       "      <th>95</th>\n",
       "      <td>http://www.qulishi.com/news/201703/183533_2.html</td>\n",
       "      <td>慕容冲为何会由养尊处优的皇子变为他人娈童 趣历史首页 |  讲述历史上那些有趣的事 人物 -...</td>\n",
       "      <td>慕容冲为何会由养尊处优的皇子变为他人娈童</td>\n",
       "      <td>1564486876923953152</td>\n",
       "      <td>NaN</td>\n",
       "      <td>20170412122707</td>\n",
       "      <td>986833d7b5f247e789289b49d76f5ce1</td>\n",
       "      <td>0.000200</td>\n",
       "      <td>2017-04-12T15:24:50.862Z</td>\n",
       "      <td>http://www.qulishi.com/news/201703/183533_2.html</td>\n",
       "      <td>qulishi.com</td>\n",
       "      <td>慕容冲 为何 会 由 养尊处优 的 皇子 变为 他人 娈童   趣 历史 首页   |   ...</td>\n",
       "      <td>{u'汉宛': 0.00786163522013, u'养尊处优': 0.004716981...</td>\n",
       "      <td>[-0.00313268, 0.0112653, 0.0147795, -0.0046298...</td>\n",
       "    </tr>\n",
       "    <tr>\n",
       "      <th>96</th>\n",
       "      <td>http://www.qulishi.com/news/201703/183732_2.html</td>\n",
       "      <td>戚夫人：活着惨不忍睹，死后被称为厕神的女人！ 趣历史首页 |  讲述历史上那些有趣的事 人物...</td>\n",
       "      <td>戚夫人：活着惨不忍睹，死后被称为厕神的女人！</td>\n",
       "      <td>1564486876927098880</td>\n",
       "      <td>NaN</td>\n",
       "      <td>20170412122707</td>\n",
       "      <td>b94af7074522c097dca3f613dce1d9ae</td>\n",
       "      <td>0.000409</td>\n",
       "      <td>2017-04-12T13:27:10.166Z</td>\n",
       "      <td>http://www.qulishi.com/news/201703/183732_2.html</td>\n",
       "      <td>qulishi.com</td>\n",
       "      <td>戚夫人 ： 活着 惨不忍睹 ， 死后 被 称为 厕神 的 女人 ！   趣 历史 首页   ...</td>\n",
       "      <td>{u'汉宛': 0.00787401574803, u'国家': 0.00629921259...</td>\n",
       "      <td>[3.34558e-05, 0.0110554, 0.0151889, -0.0040126...</td>\n",
       "    </tr>\n",
       "    <tr>\n",
       "      <th>97</th>\n",
       "      <td>http://www.qulishi.com/news/201703/183732_3.html</td>\n",
       "      <td>戚夫人：活着惨不忍睹，死后被称为厕神的女人！ 趣历史首页 |  讲述历史上那些有趣的事 人物...</td>\n",
       "      <td>戚夫人：活着惨不忍睹，死后被称为厕神的女人！</td>\n",
       "      <td>1564486876930244608</td>\n",
       "      <td>NaN</td>\n",
       "      <td>20170412122707</td>\n",
       "      <td>cd0129c97383c4f9144999c38a3e6dec</td>\n",
       "      <td>0.000293</td>\n",
       "      <td>2017-04-12T12:46:50.601Z</td>\n",
       "      <td>http://www.qulishi.com/news/201703/183732_3.html</td>\n",
       "      <td>qulishi.com</td>\n",
       "      <td>戚夫人 ： 活着 惨不忍睹 ， 死后 被 称为 厕神 的 女人 ！   趣 历史 首页   ...</td>\n",
       "      <td>{u'汉宛': 0.008, u'国家': 0.0064, u'公元': 0.0112, u...</td>\n",
       "      <td>[-0.000350701, 0.0106564, 0.0153291, -0.003861...</td>\n",
       "    </tr>\n",
       "    <tr>\n",
       "      <th>98</th>\n",
       "      <td>http://www.qulishi.com/news/201703/184006.html</td>\n",
       "      <td>世人是如何评定苏秦和张仪谁更加厉害的 趣历史首页 |  讲述历史上那些有趣的事 人物 - 专...</td>\n",
       "      <td>世人是如何评定苏秦和张仪谁更加厉害的</td>\n",
       "      <td>1564486876932341760</td>\n",
       "      <td>NaN</td>\n",
       "      <td>20170412122707</td>\n",
       "      <td>2a16448104d2e7fed012c554f42350bb</td>\n",
       "      <td>0.000180</td>\n",
       "      <td>2017-04-12T14:08:52.035Z</td>\n",
       "      <td>http://www.qulishi.com/news/201703/184006.html</td>\n",
       "      <td>qulishi.com</td>\n",
       "      <td>世人 是 如何 评定 苏秦 和 张仪 谁 更加 厉害 的   趣 历史 首页   |    ...</td>\n",
       "      <td>{u'汉宛': 0.00806451612903, u'国家': 0.00483870967...</td>\n",
       "      <td>[-0.00701828, 0.00887943, 0.0151447, -0.007571...</td>\n",
       "    </tr>\n",
       "    <tr>\n",
       "      <th>99</th>\n",
       "      <td>http://www.qulishi.com/news/201703/184128.html</td>\n",
       "      <td>苏秦为何要去齐国做卧底？与燕易王母亲私通暴露 趣历史首页 |  讲述历史上那些有趣的事 人物...</td>\n",
       "      <td>苏秦为何要去齐国做卧底？与燕易王母亲私通暴露</td>\n",
       "      <td>1564486876935487488</td>\n",
       "      <td>NaN</td>\n",
       "      <td>20170412122707</td>\n",
       "      <td>501ae701bef2b2cc76db127d62a3952d</td>\n",
       "      <td>0.000177</td>\n",
       "      <td>2017-04-12T12:36:07.422Z</td>\n",
       "      <td>http://www.qulishi.com/news/201703/184128.html</td>\n",
       "      <td>qulishi.com</td>\n",
       "      <td>苏秦 为何 要 去 齐国 做 卧底 ？ 与 燕易王 母亲 私通 暴露   趣 历史 首页  ...</td>\n",
       "      <td>{u'汉宛': 0.00784929356358, u'国家': 0.00941915227...</td>\n",
       "      <td>[-0.00448175, 0.00917667, 0.0145709, -0.007084...</td>\n",
       "    </tr>\n",
       "  </tbody>\n",
       "</table>\n",
       "<p>100 rows × 14 columns</p>\n",
       "</div>"
      ],
      "text/plain": [
       "                                                  id  \\\n",
       "0     http://www.qulishi.com/news/201701/157485.html   \n",
       "1     http://www.qulishi.com/news/201701/157540.html   \n",
       "2     http://www.qulishi.com/news/201701/157669.html   \n",
       "3     http://www.qulishi.com/news/201701/157806.html   \n",
       "4     http://www.qulishi.com/news/201701/158004.html   \n",
       "5     http://www.qulishi.com/news/201701/158206.html   \n",
       "6     http://www.qulishi.com/news/201701/159061.html   \n",
       "7     http://www.qulishi.com/news/201701/159230.html   \n",
       "8     http://www.qulishi.com/news/201701/160186.html   \n",
       "9   http://www.qulishi.com/news/201701/160485_3.html   \n",
       "10    http://www.qulishi.com/news/201701/160489.html   \n",
       "11    http://www.qulishi.com/news/201701/160701.html   \n",
       "12    http://www.qulishi.com/news/201701/161155.html   \n",
       "13    http://www.qulishi.com/news/201701/161283.html   \n",
       "14    http://www.qulishi.com/news/201701/161285.html   \n",
       "15    http://www.qulishi.com/news/201701/161299.html   \n",
       "16    http://www.qulishi.com/news/201701/162234.html   \n",
       "17    http://www.qulishi.com/news/201701/162457.html   \n",
       "18    http://www.qulishi.com/news/201702/163940.html   \n",
       "19  http://www.qulishi.com/news/201702/164166_2.html   \n",
       "20    http://www.qulishi.com/news/201702/164382.html   \n",
       "21    http://www.qulishi.com/news/201702/164817.html   \n",
       "22    http://www.qulishi.com/news/201702/165066.html   \n",
       "23    http://www.qulishi.com/news/201702/165461.html   \n",
       "24    http://www.qulishi.com/news/201702/165682.html   \n",
       "25    http://www.qulishi.com/news/201702/166664.html   \n",
       "26    http://www.qulishi.com/news/201702/166887.html   \n",
       "27    http://www.qulishi.com/news/201702/166914.html   \n",
       "28    http://www.qulishi.com/news/201702/167096.html   \n",
       "29  http://www.qulishi.com/news/201702/167251_2.html   \n",
       "..                                               ...   \n",
       "70  http://www.qulishi.com/news/201703/180448_2.html   \n",
       "71    http://www.qulishi.com/news/201703/180472.html   \n",
       "72  http://www.qulishi.com/news/201703/180503_2.html   \n",
       "73    http://www.qulishi.com/news/201703/180520.html   \n",
       "74    http://www.qulishi.com/news/201703/180664.html   \n",
       "75    http://www.qulishi.com/news/201703/180970.html   \n",
       "76  http://www.qulishi.com/news/201703/181000_2.html   \n",
       "77    http://www.qulishi.com/news/201703/181059.html   \n",
       "78    http://www.qulishi.com/news/201703/181130.html   \n",
       "79    http://www.qulishi.com/news/201703/181195.html   \n",
       "80    http://www.qulishi.com/news/201703/181388.html   \n",
       "81    http://www.qulishi.com/news/201703/181472.html   \n",
       "82    http://www.qulishi.com/news/201703/181517.html   \n",
       "83  http://www.qulishi.com/news/201703/181533_2.html   \n",
       "84    http://www.qulishi.com/news/201703/181601.html   \n",
       "85    http://www.qulishi.com/news/201703/182032.html   \n",
       "86    http://www.qulishi.com/news/201703/182033.html   \n",
       "87    http://www.qulishi.com/news/201703/182286.html   \n",
       "88  http://www.qulishi.com/news/201703/182506_2.html   \n",
       "89  http://www.qulishi.com/news/201703/182506_3.html   \n",
       "90  http://www.qulishi.com/news/201703/182664_3.html   \n",
       "91    http://www.qulishi.com/news/201703/182966.html   \n",
       "92    http://www.qulishi.com/news/201703/183117.html   \n",
       "93    http://www.qulishi.com/news/201703/183264.html   \n",
       "94    http://www.qulishi.com/news/201703/183291.html   \n",
       "95  http://www.qulishi.com/news/201703/183533_2.html   \n",
       "96  http://www.qulishi.com/news/201703/183732_2.html   \n",
       "97  http://www.qulishi.com/news/201703/183732_3.html   \n",
       "98    http://www.qulishi.com/news/201703/184006.html   \n",
       "99    http://www.qulishi.com/news/201703/184128.html   \n",
       "\n",
       "                                              content  \\\n",
       "0   隋炀帝的萧皇后生性风流：暗中与宇文化及通奸 趣历史首页 |  讲述历史上那些有趣的事 人物 ...   \n",
       "1   文宣宗高洋：怀揣着爱妃的头颅去赴宴 趣历史首页 |  讲述历史上那些有趣的事 人物 - 专题...   \n",
       "2   元朝皇帝成吉思汗死后为何没有留下一座陵墓 趣历史首页 |  讲述历史上那些有趣的事 人物 -...   \n",
       "3   贞观之治背后真相：隋朝遗产养肥李世民？ 趣历史首页 |  讲述历史上那些有趣的事 人物 - ...   \n",
       "4   欧阳修的治学之道：身为文坛宗主为何不多读书？ 趣历史首页 |  讲述历史上那些有趣的事 人物...   \n",
       "5   揭秘天下第一名将狄青的成长之路 趣历史首页 |  讲述历史上那些有趣的事 人物 - 专题 -...   \n",
       "6   揭秘五代第一猛将李存孝：和项羽相提并论的人 趣历史首页 |  讲述历史上那些有趣的事 人物 ...   \n",
       "7   三国时期鲜有“高富帅” 曹操1米6刘备是小贩 趣历史首页 |  讲述历史上那些有趣的事 人物...   \n",
       "8   揭开古埃及法老王图坦卡蒙死亡真相之谜 趣历史首页 |  讲述历史上那些有趣的事 人物 - 专...   \n",
       "9   人们常说的女大十八变具体是什么意思 趣历史首页 |  讲述历史上那些有趣的事 人物 - 专题...   \n",
       "10  朝鲜半岛高丽王朝第一个专业的思想家是谁 趣历史首页 |  讲述历史上那些有趣的事 人物 - ...   \n",
       "11  李白才高八斗还是宰相的上门女婿，为何却一直窝囊 趣历史首页 |  讲述历史上那些有趣的事 人...   \n",
       "12  唐太宗赐醋房玄龄 “吃醋”的典故来源 趣历史首页 |  讲述历史上那些有趣的事 人物 - 专...   \n",
       "13  历史上的李白其实酒量小 一杯啤酒就倒 趣历史首页 |  讲述历史上那些有趣的事 人物 - 专...   \n",
       "14  李白当官失败原因：个性独立 当不了能干奴才 趣历史首页 |  讲述历史上那些有趣的事 人物 ...   \n",
       "15  李白父亲是窜谪西域的罪人 还是任侠杀人的侠客 趣历史首页 |  讲述历史上那些有趣的事 人物...   \n",
       "16  揭秘后周君王郭威不传位给血亲李重进的原因 趣历史首页 |  讲述历史上那些有趣的事 人物 -...   \n",
       "17  揭秘历史：宋徽宗赵佶死亡之谜 为何都闻之悚然 趣历史首页 |  讲述历史上那些有趣的事 人物...   \n",
       "18  明宪宗野史：万贞儿与明宪宗感人的姐弟恋 趣历史首页 |  讲述历史上那些有趣的事 人物 - ...   \n",
       "19  皇太极长子豪格为何屡屡错失皇位最后竟惨死狱中 趣历史首页 |  讲述历史上那些有趣的事 人物...   \n",
       "20  揭秘坤宁宫的主子为何没有一个能善终? 趣历史首页 |  讲述历史上那些有趣的事 人物 - 专...   \n",
       "21  为什么武则天墓是千年古墓中第一奇葩? 趣历史首页 |  讲述历史上那些有趣的事 人物 - 专...   \n",
       "22  慈禧太后：靠选秀发家 竟主宰大清朝长达一甲子 趣历史首页 |  讲述历史上那些有趣的事 人物...   \n",
       "23  宋朝著名大臣赵抃为何连皇帝都要敬重三分 趣历史首页 |  讲述历史上那些有趣的事 人物 - ...   \n",
       "24  剿灭黄巾悍将皇甫嵩为何对董卓束手无策? 趣历史首页 |  讲述历史上那些有趣的事 人物 - ...   \n",
       "25  宋徽宗赵佶因何缘故要在除夕之夜考试才女若兰？ 趣历史首页 |  讲述历史上那些有趣的事 人物...   \n",
       "26  揭秘：清朝历史上纪晓岚为何会如此仇视蒲松龄 趣历史首页 |  讲述历史上那些有趣的事 人物 ...   \n",
       "27  清朝乾隆皇帝：中国历史上最高产的垃圾写手 趣历史首页 |  讲述历史上那些有趣的事 人物 -...   \n",
       "28  岳飞在明代被封神 清朝为何要将其赶出武庙？ 趣历史首页 |  讲述历史上那些有趣的事 人物 ...   \n",
       "29  清朝覆灭之后 没有了庇佑满族人都何去何从 趣历史首页 |  讲述历史上那些有趣的事 人物 -...   \n",
       "..                                                ...   \n",
       "70  因为爱情：后周皇帝郭威让柴荣继位 趣历史首页 |  讲述历史上那些有趣的事 人物 - 专题 ...   \n",
       "71  西施一心只爱吴王夫差 何曾爱过范蠡? 趣历史首页 |  讲述历史上那些有趣的事 人物 - 专...   \n",
       "72  三国奇闻：诸葛亮为何娶一个丑女做老婆 趣历史首页 |  讲述历史上那些有趣的事 人物 - 专...   \n",
       "73  七仙女其实只是玉帝派下来帮助董永还债的? 趣历史首页 |  讲述历史上那些有趣的事 人物 -...   \n",
       "74  《大唐荣耀2》李佖怎样识破张皇后的诡计的？ 趣历史首页 |  讲述历史上那些有趣的事 人物 ...   \n",
       "75  揭秘隋末反王王世充为何不能一统天下? 趣历史首页 |  讲述历史上那些有趣的事 人物 - 专...   \n",
       "76  唐太宗李世民：父亲和母亲的爱情 趣历史首页 |  讲述历史上那些有趣的事 人物 - 专题 -...   \n",
       "77  看绝色美女西施如何用美貌灭掉两个国家 趣历史首页 |  讲述历史上那些有趣的事 人物 - 专...   \n",
       "78  他失街亭致蜀汉陨落：却助孔明擒孟获 趣历史首页 |  讲述历史上那些有趣的事 人物 - 专题...   \n",
       "79  李白杜甫的神奇友情 算得上门当户对 趣历史首页 |  讲述历史上那些有趣的事 人物 - 专题...   \n",
       "80  历史揭秘：诸葛孔明为何叫诸葛村夫？ 趣历史首页 |  讲述历史上那些有趣的事 人物 - 专题...   \n",
       "81  演义趣闻：孔明挥剑砍石 清泉涌出拯救三军！ 趣历史首页 |  讲述历史上那些有趣的事 人物 ...   \n",
       "82  亚当斯密有什么贡献 亚当斯密的主要观点介绍 趣历史首页 |  讲述历史上那些有趣的事 人物 ...   \n",
       "83  清朝选妃奇葩多，秀女没有最丑只有更丑！ 趣历史首页 |  讲述历史上那些有趣的事 人物 - ...   \n",
       "84  苏秦的故事：罕有其匹的纵横大家被五马分尸 趣历史首页 |  讲述历史上那些有趣的事 人物 -...   \n",
       "85  揭秘张之洞与梁启超的关系居然如此恶劣 趣历史首页 |  讲述历史上那些有趣的事 人物 - 专...   \n",
       "86  李白因为写诗触怒了杨贵妃才怀才不遇的吗？ 趣历史首页 |  讲述历史上那些有趣的事 人物 -...   \n",
       "87  史上杨贵妃究竟有多胖：杨贵妃真的有狐臭吗 趣历史首页 |  讲述历史上那些有趣的事 人物 -...   \n",
       "88  杨贵妃为干儿子安禄山洗澡搓背是真是假？ 趣历史首页 |  讲述历史上那些有趣的事 人物 - ...   \n",
       "89  杨贵妃为干儿子安禄山洗澡搓背是真是假？ 趣历史首页 |  讲述历史上那些有趣的事 人物 - ...   \n",
       "90  成吉思汗是怎么死的 揭秘成吉思汗死因 趣历史首页 |  讲述历史上那些有趣的事 人物 - 专...   \n",
       "91  汉惠帝刘盈：没人看好但他仍是好皇帝 趣历史首页 |  讲述历史上那些有趣的事 人物 - 专题...   \n",
       "92  夏启继位，夏启是如何夺得天下的？ 趣历史首页 |  讲述历史上那些有趣的事 人物 - 专题 ...   \n",
       "93  四大美女王昭君的悲剧 竟被迫嫁给丈夫的孙子 趣历史首页 |  讲述历史上那些有趣的事 人物 ...   \n",
       "94  晚清名臣张之洞记性差：时常会忘记自己所下的命令 趣历史首页 |  讲述历史上那些有趣的事 人...   \n",
       "95  慕容冲为何会由养尊处优的皇子变为他人娈童 趣历史首页 |  讲述历史上那些有趣的事 人物 -...   \n",
       "96  戚夫人：活着惨不忍睹，死后被称为厕神的女人！ 趣历史首页 |  讲述历史上那些有趣的事 人物...   \n",
       "97  戚夫人：活着惨不忍睹，死后被称为厕神的女人！ 趣历史首页 |  讲述历史上那些有趣的事 人物...   \n",
       "98  世人是如何评定苏秦和张仪谁更加厉害的 趣历史首页 |  讲述历史上那些有趣的事 人物 - 专...   \n",
       "99  苏秦为何要去齐国做卧底？与燕易王母亲私通暴露 趣历史首页 |  讲述历史上那些有趣的事 人物...   \n",
       "\n",
       "                      title            _version_ cache         segment  \\\n",
       "0     隋炀帝的萧皇后生性风流：暗中与宇文化及通奸  1564486876469919744   NaN  20170412122707   \n",
       "1         文宣宗高洋：怀揣着爱妃的头颅去赴宴  1564486876479356928   NaN  20170412122707   \n",
       "2      元朝皇帝成吉思汗死后为何没有留下一座陵墓  1564486876490891264   NaN  20170412122707   \n",
       "3       贞观之治背后真相：隋朝遗产养肥李世民？  1564486876501377024   NaN  20170412122707   \n",
       "4    欧阳修的治学之道：身为文坛宗主为何不多读书？  1564486876511862784   NaN  20170412122707   \n",
       "5           揭秘天下第一名将狄青的成长之路  1564486876523397120   NaN  20170412122707   \n",
       "6     揭秘五代第一猛将李存孝：和项羽相提并论的人  1564486876532834304   NaN  20170412122707   \n",
       "7    三国时期鲜有“高富帅” 曹操1米6刘备是小贩  1564486876543320064   NaN  20170412122707   \n",
       "8        揭开古埃及法老王图坦卡蒙死亡真相之谜  1564486876554854400   NaN  20170412122707   \n",
       "9         人们常说的女大十八变具体是什么意思  1564486876567437312   NaN  20170412122707   \n",
       "10      朝鲜半岛高丽王朝第一个专业的思想家是谁  1564486876577923072   NaN  20170412122707   \n",
       "11  李白才高八斗还是宰相的上门女婿，为何却一直窝囊  1564486876591554560   NaN  20170412122707   \n",
       "12       唐太宗赐醋房玄龄 “吃醋”的典故来源  1564486876597846016   NaN  20170412122707   \n",
       "13       历史上的李白其实酒量小 一杯啤酒就倒  1564486876610428928   NaN  20170412122707   \n",
       "14    李白当官失败原因：个性独立 当不了能干奴才  1564486876615671808   NaN  20170412122707   \n",
       "15   李白父亲是窜谪西域的罪人 还是任侠杀人的侠客  1564486876621963264   NaN  20170412122707   \n",
       "16     揭秘后周君王郭威不传位给血亲李重进的原因  1564486876628254720   NaN  20170412122707   \n",
       "17   揭秘历史：宋徽宗赵佶死亡之谜 为何都闻之悚然  1564486876635594752   NaN  20170412122707   \n",
       "18      明宪宗野史：万贞儿与明宪宗感人的姐弟恋  1564486876641886208   NaN  20170412122707   \n",
       "19   皇太极长子豪格为何屡屡错失皇位最后竟惨死狱中  1564486876649226240   NaN  20170412122707   \n",
       "20       揭秘坤宁宫的主子为何没有一个能善终?  1564486876655517696   NaN  20170412122707   \n",
       "21       为什么武则天墓是千年古墓中第一奇葩?  1564486876661809152   NaN  20170412122707   \n",
       "22   慈禧太后：靠选秀发家 竟主宰大清朝长达一甲子  1564486876669149184   NaN  20170412122707   \n",
       "23      宋朝著名大臣赵抃为何连皇帝都要敬重三分  1564486876675440640   NaN  20170412122707   \n",
       "24      剿灭黄巾悍将皇甫嵩为何对董卓束手无策?  1564486876681732096   NaN  20170412122707   \n",
       "25   宋徽宗赵佶因何缘故要在除夕之夜考试才女若兰？  1564486876689072128   NaN  20170412122707   \n",
       "26    揭秘：清朝历史上纪晓岚为何会如此仇视蒲松龄  1564486876694315008   NaN  20170412122707   \n",
       "27     清朝乾隆皇帝：中国历史上最高产的垃圾写手  1564486876701655040   NaN  20170412122707   \n",
       "28    岳飞在明代被封神 清朝为何要将其赶出武庙？  1564486876704800768   NaN  20170412122707   \n",
       "29     清朝覆灭之后 没有了庇佑满族人都何去何从  1564486876711092224   NaN  20170412122707   \n",
       "..                      ...                  ...   ...             ...   \n",
       "70         因为爱情：后周皇帝郭威让柴荣继位  1564486876840067072   NaN  20170412122707   \n",
       "71       西施一心只爱吴王夫差 何曾爱过范蠡?  1564486876843212800   NaN  20170412122707   \n",
       "72       三国奇闻：诸葛亮为何娶一个丑女做老婆  1564486876846358528   NaN  20170412122707   \n",
       "73     七仙女其实只是玉帝派下来帮助董永还债的?  1564486876848455680   NaN  20170412122707   \n",
       "74    《大唐荣耀2》李佖怎样识破张皇后的诡计的？  1564486876851601408   NaN  20170412122707   \n",
       "75       揭秘隋末反王王世充为何不能一统天下?  1564486876854747136   NaN  20170412122707   \n",
       "76          唐太宗李世民：父亲和母亲的爱情  1564486876857892864   NaN  20170412122707   \n",
       "77       看绝色美女西施如何用美貌灭掉两个国家  1564486876859990016   NaN  20170412122707   \n",
       "78        他失街亭致蜀汉陨落：却助孔明擒孟获  1564486876863135744   NaN  20170412122707   \n",
       "79        李白杜甫的神奇友情 算得上门当户对  1564486876866281472   NaN  20170412122707   \n",
       "80        历史揭秘：诸葛孔明为何叫诸葛村夫？  1564486876871524352   NaN  20170412122707   \n",
       "81    演义趣闻：孔明挥剑砍石 清泉涌出拯救三军！  1564486876876767232   NaN  20170412122707   \n",
       "82    亚当斯密有什么贡献 亚当斯密的主要观点介绍  1564486876882010112   NaN  20170412122707   \n",
       "83      清朝选妃奇葩多，秀女没有最丑只有更丑！  1564486876887252992   NaN  20170412122707   \n",
       "84     苏秦的故事：罕有其匹的纵横大家被五马分尸  1564486876892495872   NaN  20170412122707   \n",
       "85       揭秘张之洞与梁启超的关系居然如此恶劣  1564486876894593024   NaN  20170412122707   \n",
       "86     李白因为写诗触怒了杨贵妃才怀才不遇的吗？  1564486876898787328   NaN  20170412122707   \n",
       "87     史上杨贵妃究竟有多胖：杨贵妃真的有狐臭吗  1564486876900884480   NaN  20170412122707   \n",
       "88      杨贵妃为干儿子安禄山洗澡搓背是真是假？  1564486876904030208   NaN  20170412122707   \n",
       "89      杨贵妃为干儿子安禄山洗澡搓背是真是假？  1564486876907175936   NaN  20170412122707   \n",
       "90       成吉思汗是怎么死的 揭秘成吉思汗死因  1564486876909273088   NaN  20170412122707   \n",
       "91        汉惠帝刘盈：没人看好但他仍是好皇帝  1564486876912418816   NaN  20170412122707   \n",
       "92         夏启继位，夏启是如何夺得天下的？  1564486876915564544   NaN  20170412122707   \n",
       "93    四大美女王昭君的悲剧 竟被迫嫁给丈夫的孙子  1564486876918710272   NaN  20170412122707   \n",
       "94  晚清名臣张之洞记性差：时常会忘记自己所下的命令  1564486876920807424   NaN  20170412122707   \n",
       "95     慕容冲为何会由养尊处优的皇子变为他人娈童  1564486876923953152   NaN  20170412122707   \n",
       "96   戚夫人：活着惨不忍睹，死后被称为厕神的女人！  1564486876927098880   NaN  20170412122707   \n",
       "97   戚夫人：活着惨不忍睹，死后被称为厕神的女人！  1564486876930244608   NaN  20170412122707   \n",
       "98       世人是如何评定苏秦和张仪谁更加厉害的  1564486876932341760   NaN  20170412122707   \n",
       "99   苏秦为何要去齐国做卧底？与燕易王母亲私通暴露  1564486876935487488   NaN  20170412122707   \n",
       "\n",
       "                              digest     boost                    tstamp  \\\n",
       "0   ecd2712cad80f2f7ba385735b16cabc7  0.000215  2017-04-12T15:17:54.992Z   \n",
       "1   af9404764d79eab086f9bb94f01881eb  0.000557  2017-04-12T15:06:42.749Z   \n",
       "2   0812de487aaaf822cd7c17bceafcdc12  0.000175  2017-04-12T13:35:59.291Z   \n",
       "3   bbfb992815a03543f78ee13ae88e4ba9  0.001001    2017-04-12T14:45:41.4Z   \n",
       "4   b682dc31d36e8d542f69be23dcbfc20c  0.000191  2017-04-12T15:21:46.147Z   \n",
       "5   b1d9ceb4ef7e744d9f29c5ae88281b1e  0.000244  2017-04-12T13:44:53.417Z   \n",
       "6   b1f2eae0da0b37ab083540ab3a8939c8  0.010000  2017-04-12T14:41:14.438Z   \n",
       "7   7905674ecfaffaaec4d36f13e8c50ff5  0.000209  2017-04-12T15:07:43.994Z   \n",
       "8   ddaf378964c62c0cdd668c318e5d3bc7  0.000176  2017-04-12T14:14:36.581Z   \n",
       "9   41fb1c2800462b21a6d3bc724a5c918a  0.000177  2017-04-12T12:27:53.019Z   \n",
       "10  517aee68fd015db22b4eddd4e697d142  0.000183  2017-04-12T15:14:15.759Z   \n",
       "11  b33e1585cc12cfc8e45742de75c2f599  0.000178  2017-04-12T12:42:28.934Z   \n",
       "12  708bc89993532d6b14d461fc65e658e8  0.005656  2017-04-12T15:20:14.192Z   \n",
       "13  31063598d93d288cb921c81f54c88f22  0.000178   2017-04-12T14:21:31.35Z   \n",
       "14  26736f9ee1affdc9cace3bc63cf01857  0.000177  2017-04-12T14:32:09.472Z   \n",
       "15  0a9010a701f6c09d6584106b500ea086  0.000176  2017-04-12T13:27:29.048Z   \n",
       "16  8e267acc355795c86bd250096ca5eabf  0.001119  2017-04-12T15:04:23.918Z   \n",
       "17  6b631175b81b83e94954b74692517601  0.000176   2017-04-12T14:09:16.42Z   \n",
       "18  161176f150130ddc1378689d91cdb4c0  0.001319  2017-04-12T15:25:28.988Z   \n",
       "19  2f2e4135d9ae194e474966fb9b526524  0.000200  2017-04-12T14:58:33.813Z   \n",
       "20  d29797fa8d50d0c3aa2c81bd3357dcb2  0.000358  2017-04-12T15:13:17.866Z   \n",
       "21  790b02dd349ea6ed097c3768a51e5016  0.000226  2017-04-12T15:18:38.994Z   \n",
       "22  4b5dbbb9ec67e1366a599e749f921c2d  0.000193  2017-04-12T13:53:22.694Z   \n",
       "23  e19f34fb19e4180083a9034e6830575b  0.000582  2017-04-12T14:58:27.675Z   \n",
       "24  4480c99ef73a7b22bdf87a4ed0dd95b4  0.000398  2017-04-12T13:57:56.919Z   \n",
       "25  b63455721710247713bf61463d960b81  0.000177  2017-04-12T13:09:28.513Z   \n",
       "26  aee67d2ad7594bb334a70d006e557781  0.000195  2017-04-12T12:47:22.327Z   \n",
       "27  53d3b43346f337085166b6f65900c74e  0.000193  2017-04-12T14:01:40.843Z   \n",
       "28  4640532f12889f2e9c730be9b36fb79b  0.000191  2017-04-12T15:08:46.987Z   \n",
       "29  1847a33e62850f15c8c99bf7ddffb9ac  0.000268  2017-04-12T15:13:24.508Z   \n",
       "..                               ...       ...                       ...   \n",
       "70  436eb5b542fb176ae2413e6aaedec3ab  0.000200   2017-04-12T15:08:08.76Z   \n",
       "71  e09a706c40444623ca7e5fb4c9a1cd16  0.001021  2017-04-12T13:59:17.426Z   \n",
       "72  14c10ee85e58b11ae65c211ad4a8c6a9  0.000200  2017-04-12T14:58:39.954Z   \n",
       "73  c88dde83da9c52b88dcd90373f0d5cc9  0.000187  2017-04-12T12:34:47.793Z   \n",
       "74  22c89d1c62ad00d265bcab8cc8a0fd73  0.000202  2017-04-12T15:24:43.928Z   \n",
       "75  2860e072ab699ffffb7cd87644b924a0  0.000176  2017-04-12T12:54:34.299Z   \n",
       "76  bed08edc7e34de8c665903f72fc25d0c  0.001421  2017-04-12T14:37:41.289Z   \n",
       "77  10a3f2091f03a558646c36719eb293dd  0.000175  2017-04-12T12:33:45.269Z   \n",
       "78  2e07e7bf8fafa5a5dcd7bb8ead4ca7b6  0.000178  2017-04-12T12:29:59.593Z   \n",
       "79  5db1fd8fd4d90bdbe60d4ddf9e76dfa8  0.000177  2017-04-12T13:50:52.362Z   \n",
       "80  43dbe63f3476937e0ebd4543a1b9b2f6  0.000176  2017-04-12T14:30:31.049Z   \n",
       "81  bcc710a90880fc371084031ee2f22fcf  0.000175  2017-04-12T13:16:53.754Z   \n",
       "82  d4cf8829ddbab8bd9dfbf878d7b5d2ef  0.000627  2017-04-12T13:54:13.522Z   \n",
       "83  0a45e73438036a67135caec77a7c78b9  0.000267  2017-04-12T12:50:10.749Z   \n",
       "84  58f234c4821c43d950ef8948d0501019  0.000179   2017-04-12T12:44:00.97Z   \n",
       "85  02961d1e9569b61a485c791592790dcb  0.000391  2017-04-12T14:01:21.919Z   \n",
       "86  351d60729ccdf20a97106ea6501c445c  0.000218  2017-04-12T14:07:22.034Z   \n",
       "87  6d80c1dbe31e0a52e5702296f8265ad4  0.000217  2017-04-12T12:37:44.008Z   \n",
       "88  e66ce993f9a3c46abd630fe5c570a3b0  0.000304  2017-04-12T13:28:12.133Z   \n",
       "89  e1519b8f1fd7626ec779ba8077e2c61e  0.000218  2017-04-12T12:47:29.408Z   \n",
       "90  536e9b848330090baa03bd7bc1314c22  0.001000  2017-04-12T14:36:34.054Z   \n",
       "91  c383b4774a0c2d3ee174c117bda091ed  0.000177  2017-04-12T13:25:44.468Z   \n",
       "92  e8e352c6a69044240f245166d2baeb92  0.011533  2017-04-12T14:41:08.501Z   \n",
       "93  5245df89536586c5de0097686b80e80f  0.007878  2017-04-12T14:43:09.316Z   \n",
       "94  f4787abdfab3b0b60ed0d80c45fabd39  0.000537  2017-04-12T13:10:41.131Z   \n",
       "95  986833d7b5f247e789289b49d76f5ce1  0.000200  2017-04-12T15:24:50.862Z   \n",
       "96  b94af7074522c097dca3f613dce1d9ae  0.000409  2017-04-12T13:27:10.166Z   \n",
       "97  cd0129c97383c4f9144999c38a3e6dec  0.000293  2017-04-12T12:46:50.601Z   \n",
       "98  2a16448104d2e7fed012c554f42350bb  0.000180  2017-04-12T14:08:52.035Z   \n",
       "99  501ae701bef2b2cc76db127d62a3952d  0.000177  2017-04-12T12:36:07.422Z   \n",
       "\n",
       "                                                 url       domain  \\\n",
       "0     http://www.qulishi.com/news/201701/157485.html  qulishi.com   \n",
       "1     http://www.qulishi.com/news/201701/157540.html  qulishi.com   \n",
       "2     http://www.qulishi.com/news/201701/157669.html  qulishi.com   \n",
       "3     http://www.qulishi.com/news/201701/157806.html  qulishi.com   \n",
       "4     http://www.qulishi.com/news/201701/158004.html  qulishi.com   \n",
       "5     http://www.qulishi.com/news/201701/158206.html  qulishi.com   \n",
       "6     http://www.qulishi.com/news/201701/159061.html  qulishi.com   \n",
       "7     http://www.qulishi.com/news/201701/159230.html  qulishi.com   \n",
       "8     http://www.qulishi.com/news/201701/160186.html  qulishi.com   \n",
       "9   http://www.qulishi.com/news/201701/160485_3.html  qulishi.com   \n",
       "10    http://www.qulishi.com/news/201701/160489.html  qulishi.com   \n",
       "11    http://www.qulishi.com/news/201701/160701.html  qulishi.com   \n",
       "12    http://www.qulishi.com/news/201701/161155.html  qulishi.com   \n",
       "13    http://www.qulishi.com/news/201701/161283.html  qulishi.com   \n",
       "14    http://www.qulishi.com/news/201701/161285.html  qulishi.com   \n",
       "15    http://www.qulishi.com/news/201701/161299.html  qulishi.com   \n",
       "16    http://www.qulishi.com/news/201701/162234.html  qulishi.com   \n",
       "17    http://www.qulishi.com/news/201701/162457.html  qulishi.com   \n",
       "18    http://www.qulishi.com/news/201702/163940.html  qulishi.com   \n",
       "19  http://www.qulishi.com/news/201702/164166_2.html  qulishi.com   \n",
       "20    http://www.qulishi.com/news/201702/164382.html  qulishi.com   \n",
       "21    http://www.qulishi.com/news/201702/164817.html  qulishi.com   \n",
       "22    http://www.qulishi.com/news/201702/165066.html  qulishi.com   \n",
       "23    http://www.qulishi.com/news/201702/165461.html  qulishi.com   \n",
       "24    http://www.qulishi.com/news/201702/165682.html  qulishi.com   \n",
       "25    http://www.qulishi.com/news/201702/166664.html  qulishi.com   \n",
       "26    http://www.qulishi.com/news/201702/166887.html  qulishi.com   \n",
       "27    http://www.qulishi.com/news/201702/166914.html  qulishi.com   \n",
       "28    http://www.qulishi.com/news/201702/167096.html  qulishi.com   \n",
       "29  http://www.qulishi.com/news/201702/167251_2.html  qulishi.com   \n",
       "..                                               ...          ...   \n",
       "70  http://www.qulishi.com/news/201703/180448_2.html  qulishi.com   \n",
       "71    http://www.qulishi.com/news/201703/180472.html  qulishi.com   \n",
       "72  http://www.qulishi.com/news/201703/180503_2.html  qulishi.com   \n",
       "73    http://www.qulishi.com/news/201703/180520.html  qulishi.com   \n",
       "74    http://www.qulishi.com/news/201703/180664.html  qulishi.com   \n",
       "75    http://www.qulishi.com/news/201703/180970.html  qulishi.com   \n",
       "76  http://www.qulishi.com/news/201703/181000_2.html  qulishi.com   \n",
       "77    http://www.qulishi.com/news/201703/181059.html  qulishi.com   \n",
       "78    http://www.qulishi.com/news/201703/181130.html  qulishi.com   \n",
       "79    http://www.qulishi.com/news/201703/181195.html  qulishi.com   \n",
       "80    http://www.qulishi.com/news/201703/181388.html  qulishi.com   \n",
       "81    http://www.qulishi.com/news/201703/181472.html  qulishi.com   \n",
       "82    http://www.qulishi.com/news/201703/181517.html  qulishi.com   \n",
       "83  http://www.qulishi.com/news/201703/181533_2.html  qulishi.com   \n",
       "84    http://www.qulishi.com/news/201703/181601.html  qulishi.com   \n",
       "85    http://www.qulishi.com/news/201703/182032.html  qulishi.com   \n",
       "86    http://www.qulishi.com/news/201703/182033.html  qulishi.com   \n",
       "87    http://www.qulishi.com/news/201703/182286.html  qulishi.com   \n",
       "88  http://www.qulishi.com/news/201703/182506_2.html  qulishi.com   \n",
       "89  http://www.qulishi.com/news/201703/182506_3.html  qulishi.com   \n",
       "90  http://www.qulishi.com/news/201703/182664_3.html  qulishi.com   \n",
       "91    http://www.qulishi.com/news/201703/182966.html  qulishi.com   \n",
       "92    http://www.qulishi.com/news/201703/183117.html  qulishi.com   \n",
       "93    http://www.qulishi.com/news/201703/183264.html  qulishi.com   \n",
       "94    http://www.qulishi.com/news/201703/183291.html  qulishi.com   \n",
       "95  http://www.qulishi.com/news/201703/183533_2.html  qulishi.com   \n",
       "96  http://www.qulishi.com/news/201703/183732_2.html  qulishi.com   \n",
       "97  http://www.qulishi.com/news/201703/183732_3.html  qulishi.com   \n",
       "98    http://www.qulishi.com/news/201703/184006.html  qulishi.com   \n",
       "99    http://www.qulishi.com/news/201703/184128.html  qulishi.com   \n",
       "\n",
       "                                          content_seg  \\\n",
       "0   隋炀帝 的 萧皇后 生性 风流 ： 暗中 与 宇文化及 通奸   趣 历史 首页   |  ...   \n",
       "1   文宣宗 高洋 ： 怀揣 着 爱妃 的 头颅 去 赴宴   趣 历史 首页   |     讲...   \n",
       "2   元朝 皇帝 成吉思汗 死后 为何 没有 留下 一座 陵墓   趣 历史 首页   |    ...   \n",
       "3   贞观之治 背后 真相 ： 隋朝 遗产 养肥 李世民 ？   趣 历史 首页   |     ...   \n",
       "4   欧阳修 的 治学 之道 ： 身为 文坛 宗主 为何 不 多 读书 ？   趣 历史 首页  ...   \n",
       "5   揭秘 天下第一 名将 狄青 的 成长 之 路   趣 历史 首页   |     讲述 历史...   \n",
       "6   揭秘 五代 第一 猛将 李存孝 ： 和 项羽 相提并论 的 人   趣 历史 首页   | ...   \n",
       "7   三国 时期 鲜有 “ 高富帅 ”   曹操 1 米 6 刘备 是 小贩   趣 历史 首页 ...   \n",
       "8   揭开 古埃及 法老王 图坦 卡蒙 死亡 真相 之谜   趣 历史 首页   |     讲述...   \n",
       "9   人们 常说 的 女大十八变 具体 是 什么 意思   趣 历史 首页   |     讲述 ...   \n",
       "10  朝鲜半岛 高丽 王朝 第一个 专业 的 思想家 是 谁   趣 历史 首页   |     ...   \n",
       "11  李白 才高八斗 还是 宰相 的 上门 女婿 ， 为何 却 一直 窝囊   趣 历史 首页  ...   \n",
       "12  唐太宗 赐 醋 房玄龄   “ 吃醋 ” 的 典故 来源   趣 历史 首页   |    ...   \n",
       "13  历史 上 的 李白 其实 酒量 小   一杯 啤酒 就 倒   趣 历史 首页   |   ...   \n",
       "14  李白 当官 失败 原因 ： 个性 独立   当不了 能干 奴才   趣 历史 首页   | ...   \n",
       "15  李白 父亲 是 窜 谪 西域 的 罪人   还是 任侠 杀人 的 侠客   趣 历史 首页 ...   \n",
       "16  揭秘 后周 君王 郭威 不 传位 给 血亲 李重 进 的 原因   趣 历史 首页   | ...   \n",
       "17  揭秘 历史 ： 宋徽 宗赵佶 死亡 之谜   为何 都 闻 之 悚然   趣 历史 首页  ...   \n",
       "18  明宪宗 野史 ： 万贞儿 与 明宪宗 感人 的 姐弟恋   趣 历史 首页   |     ...   \n",
       "19  皇太极 长子 豪格 为何 屡屡 错失 皇位 最后 竟 惨死 狱中   趣 历史 首页   |...   \n",
       "20  揭秘 坤宁宫 的 主子 为何 没有 一个 能 善终 ?   趣 历史 首页   |     ...   \n",
       "21  为什么 武则天 墓 是 千年 古墓 中 第一 奇葩 ?   趣 历史 首页   |     ...   \n",
       "22  慈禧太后 ： 靠 选秀 发家   竟 主宰 大 清朝 长 达 一甲子   趣 历史 首页  ...   \n",
       "23  宋朝 著名 大臣 赵 抃 为何 连皇帝 都 要 敬重 三分   趣 历史 首页   |   ...   \n",
       "24  剿灭 黄巾 悍将 皇甫嵩 为何 对 董卓 束手无策 ?   趣 历史 首页   |     ...   \n",
       "25  宋徽 宗赵佶 因何 缘故 要 在 除夕之夜 考试 才女 若兰 ？   趣 历史 首页   |...   \n",
       "26  揭秘 ： 清朝 历史 上 纪晓岚 为何 会 如此 仇视 蒲松龄   趣 历史 首页   | ...   \n",
       "27  清朝 乾隆皇帝 ： 中国 历史 上 最高 产 的 垃圾 写手   趣 历史 首页   |  ...   \n",
       "28  岳飞 在 明代 被 封神   清朝 为何 要 将 其 赶出 武庙 ？   趣 历史 首页  ...   \n",
       "29  清朝 覆灭 之后   没有 了 庇佑 满族 人 都 何去何从   趣 历史 首页   |  ...   \n",
       "..                                                ...   \n",
       "70  因为 爱情 ： 后周 皇帝 郭威 让 柴荣 继位   趣 历史 首页   |     讲述 ...   \n",
       "71  西施 一心 只爱 吴王夫 差   何曾 爱过 范蠡 ?   趣 历史 首页   |     ...   \n",
       "72  三国 奇闻 ： 诸葛亮 为何 娶 一个 丑女 做 老婆   趣 历史 首页   |     ...   \n",
       "73  七仙女 其实 只是 玉帝 派 下来 帮助 董永 还债 的 ?   趣 历史 首页   |  ...   \n",
       "74  《 大唐 荣耀 2 》 李 佖 怎样 识破 张皇后 的 诡计 的 ？   趣 历史 首页  ...   \n",
       "75  揭秘 隋末 反王 王世充 为何 不能 一统天下 ?   趣 历史 首页   |     讲述...   \n",
       "76  唐太宗 李世民 ： 父亲 和 母亲 的 爱情   趣 历史 首页   |     讲述 历史...   \n",
       "77  看 绝色美女 西施 如何 用 美貌 灭掉 两个 国家   趣 历史 首页   |     讲...   \n",
       "78  他 失街亭 致 蜀汉 陨落 ： 却助 孔明 擒孟获   趣 历史 首页   |     讲述...   \n",
       "79  李白杜甫 的 神奇 友情   算得 上 门当户对   趣 历史 首页   |     讲述 ...   \n",
       "80  历史 揭秘 ： 诸葛孔明 为何 叫 诸葛村 夫 ？   趣 历史 首页   |     讲述...   \n",
       "81  演义 趣闻 ： 孔明 挥剑 砍石   清泉 涌出 拯救 三军 ！   趣 历史 首页   |...   \n",
       "82  亚当斯 密有 什么 贡献   亚当斯 密 的 主要 观点 介绍   趣 历史 首页   | ...   \n",
       "83  清朝 选妃 奇葩 多 ， 秀女 没有 最丑 只有 更丑 ！   趣 历史 首页   |   ...   \n",
       "84  苏秦 的 故事 ： 罕有 其匹 的 纵横 大家 被 五马分尸   趣 历史 首页   |  ...   \n",
       "85  揭秘 张之洞 与 梁启超 的 关系 居然 如此 恶劣   趣 历史 首页   |     讲...   \n",
       "86  李白 因为 写诗 触怒 了 杨贵妃 才 怀才不遇 的 吗 ？   趣 历史 首页   |  ...   \n",
       "87  史上 杨贵妃 究竟 有 多 胖 ： 杨贵妃 真的 有 狐臭 吗   趣 历史 首页   | ...   \n",
       "88  杨贵妃 为 干儿子 安禄山 洗澡 搓 背 是 真是假 ？   趣 历史 首页   |    ...   \n",
       "89  杨贵妃 为 干儿子 安禄山 洗澡 搓 背 是 真是假 ？   趣 历史 首页   |    ...   \n",
       "90  成吉思汗 是 怎么 死 的   揭秘 成吉思汗 死因   趣 历史 首页   |     讲...   \n",
       "91  汉惠帝 刘盈 ： 没 人 看好 但 他 仍 是 好 皇帝   趣 历史 首页   |    ...   \n",
       "92  夏启 继位 ， 夏启 是 如何 夺得 天下 的 ？   趣 历史 首页   |     讲述...   \n",
       "93  四大美女 王昭君 的 悲剧   竟 被迫 嫁给 丈夫 的 孙子   趣 历史 首页   | ...   \n",
       "94  晚清 名臣 张之洞 记性差 ： 时常 会 忘记 自己 所下 的 命令   趣 历史 首页  ...   \n",
       "95  慕容冲 为何 会 由 养尊处优 的 皇子 变为 他人 娈童   趣 历史 首页   |   ...   \n",
       "96  戚夫人 ： 活着 惨不忍睹 ， 死后 被 称为 厕神 的 女人 ！   趣 历史 首页   ...   \n",
       "97  戚夫人 ： 活着 惨不忍睹 ， 死后 被 称为 厕神 的 女人 ！   趣 历史 首页   ...   \n",
       "98  世人 是 如何 评定 苏秦 和 张仪 谁 更加 厉害 的   趣 历史 首页   |    ...   \n",
       "99  苏秦 为何 要 去 齐国 做 卧底 ？ 与 燕易王 母亲 私通 暴露   趣 历史 首页  ...   \n",
       "\n",
       "                                             words_fq  \\\n",
       "0   {u'汉宛': 0.00846023688663, u'国家': 0.00676818950...   \n",
       "1   {u'汉宛': 0.00834724540902, u'国家': 0.00667779632...   \n",
       "2   {u'汉宛': 0.00802568218299, u'公元': 0.00802568218...   \n",
       "3   {u'汉宛': 0.00809061488673, u'国家': 0.00485436893...   \n",
       "4   {u'汉宛': 0.00816993464052, u'公元': 0.00816993464...   \n",
       "5   {u'宋代': 0.00641025641026, u'汉宛': 0.00801282051...   \n",
       "6   {u'汉宛': 0.00831946755408, u'公元': 0.00831946755...   \n",
       "7   {u'汉宛': 0.00807754442649, u'公元': 0.00807754442...   \n",
       "8   {u'汉宛': 0.00768049155146, u'公元': 0.00768049155...   \n",
       "9   {u'汉宛': 0.00841750841751, u'国家': 0.00673400673...   \n",
       "10  {u'汉宛': 0.008, u'国家': 0.0048, u'公元': 0.0096, u...   \n",
       "11  {u'汉宛': 0.00805152979066, u'国家': 0.00644122383...   \n",
       "12  {u'汉宛': 0.00869565217391, u'公元': 0.00869565217...   \n",
       "13  {u'汉宛': 0.00796178343949, u'公元': 0.01433121019...   \n",
       "14  {u'汉宛': 0.00819672131148, u'公元': 0.00983606557...   \n",
       "15  {u'汉宛': 0.00765696784074, u'国家': 0.00612557427...   \n",
       "16  {u'汉宛': 0.00787401574803, u'国家': 0.00629921259...   \n",
       "17  {u'汉宛': 0.00853242320819, u'公元': 0.01023890784...   \n",
       "18  {u'汉宛': 0.00821018062397, u'公元': 0.00821018062...   \n",
       "19  {u'汉宛': 0.00821018062397, u'公元': 0.00821018062...   \n",
       "20  {u'汉宛': 0.00807754442649, u'公元': 0.00807754442...   \n",
       "21  {u'汉宛': 0.00805152979066, u'国家': 0.00483091787...   \n",
       "22  {u'汉宛': 0.00851788756388, u'公元': 0.00851788756...   \n",
       "23  {u'抃': 0.0195439739414, u'公元': 0.0081433224755...   \n",
       "24  {u'平定': 0.00635930047695, u'汉宛': 0.00794912559...   \n",
       "25  {u'汉宛': 0.00837520938023, u'国家': 0.00670016750...   \n",
       "26  {u'汉宛': 0.00830564784053, u'国家': 0.00664451827...   \n",
       "27  {u'汉宛': 0.00827814569536, u'国家': 0.00496688741...   \n",
       "28  {u'汉宛': 0.00798722044728, u'公元': 0.00798722044...   \n",
       "29  {u'汉宛': 0.00841750841751, u'公元': 0.00841750841...   \n",
       "..                                                ...   \n",
       "70  {u'汉宛': 0.00806451612903, u'公元': 0.00806451612...   \n",
       "71  {u'西施': 0.046511627907, u'公元': 0.0083056478405...   \n",
       "72  {u'汉宛': 0.00818330605565, u'公元': 0.00818330605...   \n",
       "73  {u'汉宛': 0.00798722044728, u'国家': 0.00638977635...   \n",
       "74  {u'汉宛': 0.00796178343949, u'公元': 0.00796178343...   \n",
       "75  {u'汉宛': 0.00818330605565, u'国家': 0.00654664484...   \n",
       "76  {u'汉宛': 0.00854700854701, u'公元': 0.01025641025...   \n",
       "77  {u'西施': 0.032414910859, u'国家': 0.0145867098865...   \n",
       "78  {u'汉宛': 0.00819672131148, u'国家': 0.00655737704...   \n",
       "79  {u'汉宛': 0.00833333333333, u'公元': 0.00833333333...   \n",
       "80  {u'汉宛': 0.00826446280992, u'公元': 0.00826446280...   \n",
       "81  {u'汉宛': 0.00838926174497, u'国家': 0.00671140939...   \n",
       "82  {u'汉宛': 0.008038585209, u'公元': 0.008038585209,...   \n",
       "83  {u'汉宛': 0.00831946755408, u'国家': 0.00831946755...   \n",
       "84  {u'汉宛': 0.00814332247557, u'国家': 0.00651465798...   \n",
       "85  {u'汉宛': 0.00748502994012, u'公元': 0.00748502994...   \n",
       "86  {u'汉宛': 0.00792393026941, u'公元': 0.00792393026...   \n",
       "87  {u'汉宛': 0.00805152979066, u'国家': 0.00644122383...   \n",
       "88  {u'汉宛': 0.00826446280992, u'国家': 0.00661157024...   \n",
       "89  {u'汉宛': 0.00816993464052, u'国家': 0.00653594771...   \n",
       "90  {u'汉宛': 0.00813008130081, u'这位': 0.00487804878...   \n",
       "91  {u'汉宛': 0.00784929356358, u'国家': 0.00784929356...   \n",
       "92  {u'汉宛': 0.00830564784053, u'伯益': 0.01328903654...   \n",
       "93  {u'汉宛': 0.00827814569536, u'公元': 0.00827814569...   \n",
       "94  {u'汉宛': 0.00818330605565, u'国家': 0.00654664484...   \n",
       "95  {u'汉宛': 0.00786163522013, u'养尊处优': 0.004716981...   \n",
       "96  {u'汉宛': 0.00787401574803, u'国家': 0.00629921259...   \n",
       "97  {u'汉宛': 0.008, u'国家': 0.0064, u'公元': 0.0112, u...   \n",
       "98  {u'汉宛': 0.00806451612903, u'国家': 0.00483870967...   \n",
       "99  {u'汉宛': 0.00784929356358, u'国家': 0.00941915227...   \n",
       "\n",
       "                                         w2v_centroid  \n",
       "0   [-0.00550028, 0.00962862, 0.015543, -0.0054416...  \n",
       "1   [-0.00458366, 0.0089833, 0.016924, -0.00645338...  \n",
       "2   [-0.00312534, 0.0116819, 0.0175653, -0.0057949...  \n",
       "3   [-0.00667041, 0.00735783, 0.0161599, -0.004355...  \n",
       "4   [-0.00617676, 0.00843672, 0.0131406, -0.007655...  \n",
       "5   [-0.00729075, 0.00910093, 0.0168313, -0.006738...  \n",
       "6   [-0.00611293, 0.00742639, 0.0170876, -0.005018...  \n",
       "7   [-0.00498954, 0.00862879, 0.0159221, -0.007592...  \n",
       "8   [-0.00413135, 0.00971294, 0.0175999, -0.005211...  \n",
       "9   [-0.00560821, 0.00835114, 0.0162272, -0.006057...  \n",
       "10  [-0.00582833, 0.00950215, 0.014358, -0.0074552...  \n",
       "11  [-0.00567938, 0.00748459, 0.013169, -0.0053535...  \n",
       "12  [-0.00678056, 0.00901503, 0.0177727, -0.006583...  \n",
       "13  [-0.00306265, 0.00851821, 0.0148437, -0.006865...  \n",
       "14  [-0.00765387, 0.00990955, 0.0143104, -0.006362...  \n",
       "15  [-0.00630653, 0.00671958, 0.01212, -0.007468, ...  \n",
       "16  [-0.00544932, 0.00878584, 0.0139834, -0.004571...  \n",
       "17  [-0.00770405, 0.011622, 0.0149821, -0.00598284...  \n",
       "18  [-0.00478922, 0.0102181, 0.015633, -0.00421988...  \n",
       "19  [-0.00397337, 0.00791137, 0.0170362, -0.004120...  \n",
       "20  [-0.00453651, 0.0107319, 0.0172655, -0.0039523...  \n",
       "21  [-0.00372505, 0.00745107, 0.0178409, -0.005212...  \n",
       "22  [-0.00563335, 0.0111019, 0.0162757, -0.0044294...  \n",
       "23  [-0.00633983, 0.00855267, 0.0143502, -0.005216...  \n",
       "24  [-0.00445729, 0.00700998, 0.0154221, -0.005574...  \n",
       "25  [-0.00664001, 0.0103549, 0.014601, -0.00577923...  \n",
       "26  [-0.00426474, 0.00745741, 0.0158049, -0.002661...  \n",
       "27  [-0.00663031, 0.0102423, 0.0160876, -0.0040105...  \n",
       "28  [-0.00880803, 0.00920082, 0.0168396, -0.009692...  \n",
       "29  [-0.00681482, 0.0103409, 0.0176077, -0.0045925...  \n",
       "..                                                ...  \n",
       "70  [-0.00480898, 0.00886112, 0.0150157, -0.005415...  \n",
       "71  [-0.00658611, 0.0100232, 0.0172469, -0.0058646...  \n",
       "72  [-0.00351092, 0.00766363, 0.0139113, -0.006979...  \n",
       "73  [-0.00657816, 0.00712045, 0.015386, -0.0083775...  \n",
       "74  [-0.00269, 0.0071276, 0.0148612, -0.0064997, -...  \n",
       "75  [-0.00395976, 0.00818255, 0.0152735, -0.006760...  \n",
       "76  [-0.00550266, 0.00828602, 0.0168884, -0.006843...  \n",
       "77  [-0.00573457, 0.00918302, 0.0171532, -0.005624...  \n",
       "78  [-0.00443658, 0.00698037, 0.0147676, -0.009071...  \n",
       "79  [-0.00756755, 0.00773128, 0.012872, -0.0051998...  \n",
       "80  [-0.00672547, 0.00914145, 0.0146179, -0.007516...  \n",
       "81  [-0.0042089, 0.00797763, 0.01615, -0.00824487,...  \n",
       "82  [-0.00576598, 0.00911119, 0.0140224, -0.007610...  \n",
       "83  [-0.00517399, 0.00927429, 0.0162592, -0.004517...  \n",
       "84  [-0.00596934, 0.00874316, 0.0146956, -0.007401...  \n",
       "85  [-0.0077487, 0.0116059, 0.013722, -0.00517865,...  \n",
       "86  [-0.00534255, 0.00820793, 0.0106604, -0.006195...  \n",
       "87  [-0.00312936, 0.00815369, 0.0160532, -0.006353...  \n",
       "88  [-0.002813, 0.00807835, 0.015083, -0.00590684,...  \n",
       "89  [-0.00239254, 0.00781804, 0.015681, -0.0068223...  \n",
       "90  [-0.00258822, 0.0100223, 0.016516, -0.0068219,...  \n",
       "91  [-0.00173197, 0.0104099, 0.017248, -0.004965, ...  \n",
       "92  [-0.00675474, 0.00873287, 0.0151236, -0.003566...  \n",
       "93  [-0.00496181, 0.0100943, 0.0179654, -0.0059911...  \n",
       "94  [-0.00555628, 0.00941711, 0.0146267, -0.004219...  \n",
       "95  [-0.00313268, 0.0112653, 0.0147795, -0.0046298...  \n",
       "96  [3.34558e-05, 0.0110554, 0.0151889, -0.0040126...  \n",
       "97  [-0.000350701, 0.0106564, 0.0153291, -0.003861...  \n",
       "98  [-0.00701828, 0.00887943, 0.0151447, -0.007571...  \n",
       "99  [-0.00448175, 0.00917667, 0.0145709, -0.007084...  \n",
       "\n",
       "[100 rows x 14 columns]"
      ]
     },
     "execution_count": 19,
     "metadata": {},
     "output_type": "execute_result"
    }
   ],
   "source": [
    "df.head(100)"
   ]
  },
  {
   "cell_type": "code",
   "execution_count": 20,
   "metadata": {
    "collapsed": true
   },
   "outputs": [],
   "source": [
    "df['content_len'] = df['content'].str.len()"
   ]
  },
  {
   "cell_type": "code",
   "execution_count": 21,
   "metadata": {
    "collapsed": true
   },
   "outputs": [],
   "source": [
    "import matplotlib \n",
    "import matplotlib.pyplot as plt\n",
    "%matplotlib inline "
   ]
  },
  {
   "cell_type": "code",
   "execution_count": 22,
   "metadata": {},
   "outputs": [
    {
     "data": {
      "text/plain": [
       "<matplotlib.text.Text at 0x1c4dea310>"
      ]
     },
     "execution_count": 22,
     "metadata": {},
     "output_type": "execute_result"
    },
    {
     "data": {
      "image/png": "[encoded data removed]",
      "text/plain": [
       "<matplotlib.figure.Figure at 0x1c4d5f0d0>"
      ]
     },
     "metadata": {},
     "output_type": "display_data"
    }
   ],
   "source": [
    "df['content_len'].hist(bins=500, figsize= (16, 6))\n",
    "plt.title('Content Length Histogram')\n",
    "plt.xlabel('Length')\n",
    "plt.ylabel('Count')"
   ]
  },
  {
   "cell_type": "code",
   "execution_count": 23,
   "metadata": {
    "collapsed": true
   },
   "outputs": [],
   "source": [
    "test = df[df['content_len'] < 150]"
   ]
  },
  {
   "cell_type": "code",
   "execution_count": 24,
   "metadata": {
    "collapsed": true
   },
   "outputs": [],
   "source": [
    "test.info()"
   ]
  },
  {
   "cell_type": "code",
   "execution_count": 25,
   "metadata": {
    "collapsed": true
   },
   "outputs": [],
   "source": [
    "for t in test['content']:\n",
    "    print t"
   ]
  },
  {
   "cell_type": "code",
   "execution_count": 26,
   "metadata": {
    "collapsed": true
   },
   "outputs": [],
   "source": [
    "df = df[df['content_len'] >= 150]"
   ]
  },
  {
   "cell_type": "code",
   "execution_count": 27,
   "metadata": {
    "collapsed": true
   },
   "outputs": [],
   "source": [
    "df.info()"
   ]
  },
  {
   "cell_type": "code",
   "execution_count": 28,
   "metadata": {
    "collapsed": true
   },
   "outputs": [],
   "source": [
    "def get_cosine2(vec1, vec2):\n",
    "    \n",
    "    sum1 = np.sum([vec1**2])\n",
    "    sum2 = np.sum([vec2**2])\n",
    "    numerator = np.sum([a*b for a,b in zip(vec1,vec2)])\n",
    "    denominator = math.sqrt(sum1) * math.sqrt(sum2)\n",
    "\n",
    "    if not denominator:\n",
    "        return 0.0\n",
    "    else:\n",
    "        return float(numerator) / denominator"
   ]
  },
  {
   "cell_type": "markdown",
   "metadata": {
    "collapsed": true
   },
   "source": [
    "docs = df['content_seg']"
   ]
  },
  {
   "cell_type": "markdown",
   "metadata": {
    "collapsed": true
   },
   "source": [
    "ch_words_fq = map_words_fq(' '.join(docs))"
   ]
  },
  {
   "cell_type": "markdown",
   "metadata": {
    "collapsed": true
   },
   "source": [
    "print ' '.join(ch_words_fq.keys())"
   ]
  },
  {
   "cell_type": "code",
   "execution_count": null,
   "metadata": {
    "collapsed": true
   },
   "outputs": [],
   "source": []
  },
  {
   "cell_type": "code",
   "execution_count": 28,
   "metadata": {
    "collapsed": true
   },
   "outputs": [],
   "source": [
    "t0 = time()\n",
    "ch_vec = model[u'国学']*0.5 + model[u'文化']*0.5 \n",
    "df['gxwh_w2v_sim'] = df.w2v_centroid.map(lambda x: get_cosine2(ch_vec, x))\n",
    "print time() - t0"
   ]
  },
  {
   "cell_type": "code",
   "execution_count": 40,
   "metadata": {},
   "outputs": [
    {
     "data": {
      "text/plain": [
       "<matplotlib.text.Text at 0x1568c7d50>"
      ]
     },
     "execution_count": 40,
     "metadata": {},
     "output_type": "execute_result"
    },
    {
     "data": {
      "image/png": "[encoded data removed]",
      "text/plain": [
       "<matplotlib.figure.Figure at 0x15594d990>"
      ]
     },
     "metadata": {},
     "output_type": "display_data"
    }
   ],
   "source": [
    "df['gxwh_w2v_sim'].hist(bins=500, figsize= (16, 6))\n",
    "plt.title('Chinese W2V Similiarity Histogram')\n",
    "plt.xlabel('Similarity')\n",
    "plt.ylabel('Count')"
   ]
  },
  {
   "cell_type": "code",
   "execution_count": 61,
   "metadata": {},
   "outputs": [
    {
     "ename": "KeyError",
     "evalue": "'gxwh_w2v_sim'",
     "output_type": "error",
     "traceback": [
      "\u001b[0;31m---------------------------------------------------------------------------\u001b[0m",
      "\u001b[0;31mKeyError\u001b[0m                                  Traceback (most recent call last)",
      "\u001b[0;32m<ipython-input-61-3a05b5544863>\u001b[0m in \u001b[0;36m<module>\u001b[0;34m()\u001b[0m\n\u001b[0;32m----> 1\u001b[0;31m \u001b[0mch_sim\u001b[0m \u001b[0;34m=\u001b[0m \u001b[0mdf\u001b[0m\u001b[0;34m[\u001b[0m\u001b[0;34m'gxwh_w2v_sim'\u001b[0m\u001b[0;34m]\u001b[0m\u001b[0;34m.\u001b[0m\u001b[0mvalues\u001b[0m\u001b[0;34m.\u001b[0m\u001b[0margsort\u001b[0m\u001b[0;34m(\u001b[0m\u001b[0;34m)\u001b[0m\u001b[0;34m[\u001b[0m\u001b[0;34m:\u001b[0m\u001b[0;34m:\u001b[0m\u001b[0;34m-\u001b[0m\u001b[0;36m1\u001b[0m\u001b[0;34m]\u001b[0m\u001b[0;34m\u001b[0m\u001b[0m\n\u001b[0m",
      "\u001b[0;32m/Library/Python/2.7/site-packages/pandas/core/frame.pyc\u001b[0m in \u001b[0;36m__getitem__\u001b[0;34m(self, key)\u001b[0m\n\u001b[1;32m   2057\u001b[0m             \u001b[0;32mreturn\u001b[0m \u001b[0mself\u001b[0m\u001b[0;34m.\u001b[0m\u001b[0m_getitem_multilevel\u001b[0m\u001b[0;34m(\u001b[0m\u001b[0mkey\u001b[0m\u001b[0;34m)\u001b[0m\u001b[0;34m\u001b[0m\u001b[0m\n\u001b[1;32m   2058\u001b[0m         \u001b[0;32melse\u001b[0m\u001b[0;34m:\u001b[0m\u001b[0;34m\u001b[0m\u001b[0m\n\u001b[0;32m-> 2059\u001b[0;31m             \u001b[0;32mreturn\u001b[0m \u001b[0mself\u001b[0m\u001b[0;34m.\u001b[0m\u001b[0m_getitem_column\u001b[0m\u001b[0;34m(\u001b[0m\u001b[0mkey\u001b[0m\u001b[0;34m)\u001b[0m\u001b[0;34m\u001b[0m\u001b[0m\n\u001b[0m\u001b[1;32m   2060\u001b[0m \u001b[0;34m\u001b[0m\u001b[0m\n\u001b[1;32m   2061\u001b[0m     \u001b[0;32mdef\u001b[0m \u001b[0m_getitem_column\u001b[0m\u001b[0;34m(\u001b[0m\u001b[0mself\u001b[0m\u001b[0;34m,\u001b[0m \u001b[0mkey\u001b[0m\u001b[0;34m)\u001b[0m\u001b[0;34m:\u001b[0m\u001b[0;34m\u001b[0m\u001b[0m\n",
      "\u001b[0;32m/Library/Python/2.7/site-packages/pandas/core/frame.pyc\u001b[0m in \u001b[0;36m_getitem_column\u001b[0;34m(self, key)\u001b[0m\n\u001b[1;32m   2064\u001b[0m         \u001b[0;31m# get column\u001b[0m\u001b[0;34m\u001b[0m\u001b[0;34m\u001b[0m\u001b[0m\n\u001b[1;32m   2065\u001b[0m         \u001b[0;32mif\u001b[0m \u001b[0mself\u001b[0m\u001b[0;34m.\u001b[0m\u001b[0mcolumns\u001b[0m\u001b[0;34m.\u001b[0m\u001b[0mis_unique\u001b[0m\u001b[0;34m:\u001b[0m\u001b[0;34m\u001b[0m\u001b[0m\n\u001b[0;32m-> 2066\u001b[0;31m             \u001b[0;32mreturn\u001b[0m \u001b[0mself\u001b[0m\u001b[0;34m.\u001b[0m\u001b[0m_get_item_cache\u001b[0m\u001b[0;34m(\u001b[0m\u001b[0mkey\u001b[0m\u001b[0;34m)\u001b[0m\u001b[0;34m\u001b[0m\u001b[0m\n\u001b[0m\u001b[1;32m   2067\u001b[0m \u001b[0;34m\u001b[0m\u001b[0m\n\u001b[1;32m   2068\u001b[0m         \u001b[0;31m# duplicate columns & possible reduce dimensionality\u001b[0m\u001b[0;34m\u001b[0m\u001b[0;34m\u001b[0m\u001b[0m\n",
      "\u001b[0;32m/Library/Python/2.7/site-packages/pandas/core/generic.pyc\u001b[0m in \u001b[0;36m_get_item_cache\u001b[0;34m(self, item)\u001b[0m\n\u001b[1;32m   1384\u001b[0m         \u001b[0mres\u001b[0m \u001b[0;34m=\u001b[0m \u001b[0mcache\u001b[0m\u001b[0;34m.\u001b[0m\u001b[0mget\u001b[0m\u001b[0;34m(\u001b[0m\u001b[0mitem\u001b[0m\u001b[0;34m)\u001b[0m\u001b[0;34m\u001b[0m\u001b[0m\n\u001b[1;32m   1385\u001b[0m         \u001b[0;32mif\u001b[0m \u001b[0mres\u001b[0m \u001b[0;32mis\u001b[0m \u001b[0mNone\u001b[0m\u001b[0;34m:\u001b[0m\u001b[0;34m\u001b[0m\u001b[0m\n\u001b[0;32m-> 1386\u001b[0;31m             \u001b[0mvalues\u001b[0m \u001b[0;34m=\u001b[0m \u001b[0mself\u001b[0m\u001b[0;34m.\u001b[0m\u001b[0m_data\u001b[0m\u001b[0;34m.\u001b[0m\u001b[0mget\u001b[0m\u001b[0;34m(\u001b[0m\u001b[0mitem\u001b[0m\u001b[0;34m)\u001b[0m\u001b[0;34m\u001b[0m\u001b[0m\n\u001b[0m\u001b[1;32m   1387\u001b[0m             \u001b[0mres\u001b[0m \u001b[0;34m=\u001b[0m \u001b[0mself\u001b[0m\u001b[0;34m.\u001b[0m\u001b[0m_box_item_values\u001b[0m\u001b[0;34m(\u001b[0m\u001b[0mitem\u001b[0m\u001b[0;34m,\u001b[0m \u001b[0mvalues\u001b[0m\u001b[0;34m)\u001b[0m\u001b[0;34m\u001b[0m\u001b[0m\n\u001b[1;32m   1388\u001b[0m             \u001b[0mcache\u001b[0m\u001b[0;34m[\u001b[0m\u001b[0mitem\u001b[0m\u001b[0;34m]\u001b[0m \u001b[0;34m=\u001b[0m \u001b[0mres\u001b[0m\u001b[0;34m\u001b[0m\u001b[0m\n",
      "\u001b[0;32m/Library/Python/2.7/site-packages/pandas/core/internals.pyc\u001b[0m in \u001b[0;36mget\u001b[0;34m(self, item, fastpath)\u001b[0m\n\u001b[1;32m   3541\u001b[0m \u001b[0;34m\u001b[0m\u001b[0m\n\u001b[1;32m   3542\u001b[0m             \u001b[0;32mif\u001b[0m \u001b[0;32mnot\u001b[0m \u001b[0misnull\u001b[0m\u001b[0;34m(\u001b[0m\u001b[0mitem\u001b[0m\u001b[0;34m)\u001b[0m\u001b[0;34m:\u001b[0m\u001b[0;34m\u001b[0m\u001b[0m\n\u001b[0;32m-> 3543\u001b[0;31m                 \u001b[0mloc\u001b[0m \u001b[0;34m=\u001b[0m \u001b[0mself\u001b[0m\u001b[0;34m.\u001b[0m\u001b[0mitems\u001b[0m\u001b[0;34m.\u001b[0m\u001b[0mget_loc\u001b[0m\u001b[0;34m(\u001b[0m\u001b[0mitem\u001b[0m\u001b[0;34m)\u001b[0m\u001b[0;34m\u001b[0m\u001b[0m\n\u001b[0m\u001b[1;32m   3544\u001b[0m             \u001b[0;32melse\u001b[0m\u001b[0;34m:\u001b[0m\u001b[0;34m\u001b[0m\u001b[0m\n\u001b[1;32m   3545\u001b[0m                 \u001b[0mindexer\u001b[0m \u001b[0;34m=\u001b[0m \u001b[0mnp\u001b[0m\u001b[0;34m.\u001b[0m\u001b[0marange\u001b[0m\u001b[0;34m(\u001b[0m\u001b[0mlen\u001b[0m\u001b[0;34m(\u001b[0m\u001b[0mself\u001b[0m\u001b[0;34m.\u001b[0m\u001b[0mitems\u001b[0m\u001b[0;34m)\u001b[0m\u001b[0;34m)\u001b[0m\u001b[0;34m[\u001b[0m\u001b[0misnull\u001b[0m\u001b[0;34m(\u001b[0m\u001b[0mself\u001b[0m\u001b[0;34m.\u001b[0m\u001b[0mitems\u001b[0m\u001b[0;34m)\u001b[0m\u001b[0;34m]\u001b[0m\u001b[0;34m\u001b[0m\u001b[0m\n",
      "\u001b[0;32m/Library/Python/2.7/site-packages/pandas/indexes/base.pyc\u001b[0m in \u001b[0;36mget_loc\u001b[0;34m(self, key, method, tolerance)\u001b[0m\n\u001b[1;32m   2134\u001b[0m                 \u001b[0;32mreturn\u001b[0m \u001b[0mself\u001b[0m\u001b[0;34m.\u001b[0m\u001b[0m_engine\u001b[0m\u001b[0;34m.\u001b[0m\u001b[0mget_loc\u001b[0m\u001b[0;34m(\u001b[0m\u001b[0mkey\u001b[0m\u001b[0;34m)\u001b[0m\u001b[0;34m\u001b[0m\u001b[0m\n\u001b[1;32m   2135\u001b[0m             \u001b[0;32mexcept\u001b[0m \u001b[0mKeyError\u001b[0m\u001b[0;34m:\u001b[0m\u001b[0;34m\u001b[0m\u001b[0m\n\u001b[0;32m-> 2136\u001b[0;31m                 \u001b[0;32mreturn\u001b[0m \u001b[0mself\u001b[0m\u001b[0;34m.\u001b[0m\u001b[0m_engine\u001b[0m\u001b[0;34m.\u001b[0m\u001b[0mget_loc\u001b[0m\u001b[0;34m(\u001b[0m\u001b[0mself\u001b[0m\u001b[0;34m.\u001b[0m\u001b[0m_maybe_cast_indexer\u001b[0m\u001b[0;34m(\u001b[0m\u001b[0mkey\u001b[0m\u001b[0;34m)\u001b[0m\u001b[0;34m)\u001b[0m\u001b[0;34m\u001b[0m\u001b[0m\n\u001b[0m\u001b[1;32m   2137\u001b[0m \u001b[0;34m\u001b[0m\u001b[0m\n\u001b[1;32m   2138\u001b[0m         \u001b[0mindexer\u001b[0m \u001b[0;34m=\u001b[0m \u001b[0mself\u001b[0m\u001b[0;34m.\u001b[0m\u001b[0mget_indexer\u001b[0m\u001b[0;34m(\u001b[0m\u001b[0;34m[\u001b[0m\u001b[0mkey\u001b[0m\u001b[0;34m]\u001b[0m\u001b[0;34m,\u001b[0m \u001b[0mmethod\u001b[0m\u001b[0;34m=\u001b[0m\u001b[0mmethod\u001b[0m\u001b[0;34m,\u001b[0m \u001b[0mtolerance\u001b[0m\u001b[0;34m=\u001b[0m\u001b[0mtolerance\u001b[0m\u001b[0;34m)\u001b[0m\u001b[0;34m\u001b[0m\u001b[0m\n",
      "\u001b[0;32mpandas/index.pyx\u001b[0m in \u001b[0;36mpandas.index.IndexEngine.get_loc (pandas/index.c:4433)\u001b[0;34m()\u001b[0m\n",
      "\u001b[0;32mpandas/index.pyx\u001b[0m in \u001b[0;36mpandas.index.IndexEngine.get_loc (pandas/index.c:4279)\u001b[0;34m()\u001b[0m\n",
      "\u001b[0;32mpandas/src/hashtable_class_helper.pxi\u001b[0m in \u001b[0;36mpandas.hashtable.PyObjectHashTable.get_item (pandas/hashtable.c:13742)\u001b[0;34m()\u001b[0m\n",
      "\u001b[0;32mpandas/src/hashtable_class_helper.pxi\u001b[0m in \u001b[0;36mpandas.hashtable.PyObjectHashTable.get_item (pandas/hashtable.c:13696)\u001b[0;34m()\u001b[0m\n",
      "\u001b[0;31mKeyError\u001b[0m: 'gxwh_w2v_sim'"
     ]
    }
   ],
   "source": [
    "ch_sim = df['gxwh_w2v_sim'].values.argsort()[::-1]"
   ]
  },
  {
   "cell_type": "code",
   "execution_count": 32,
   "metadata": {
    "collapsed": true
   },
   "outputs": [],
   "source": [
    "idx = 0\n",
    "for i in ch_sim:\n",
    "    if df.iloc[i]['gxwh_w2v_sim'] > 0.50 and idx < 10:\n",
    "        title = df.iloc[i]['title']\n",
    "        content = df.iloc[i]['content']\n",
    "        sim_val = df.iloc[i]['gxwh_w2v_sim']\n",
    "        idx += 1\n",
    "        print idx, i, title, sim_val\n",
    "        print  df.iloc[i]['url']\n",
    "        print content\n",
    "        print '--------------'"
   ]
  },
  {
   "cell_type": "code",
   "execution_count": 82,
   "metadata": {
    "collapsed": true
   },
   "outputs": [],
   "source": [
    "msk1 = df['content'].str.contains('国学') \n",
    "msk2 = df['content'].str.contains('文化') \n",
    "msk = msk1 & msk2\n",
    "df_check = df[msk]"
   ]
  },
  {
   "cell_type": "code",
   "execution_count": 83,
   "metadata": {
    "collapsed": true
   },
   "outputs": [],
   "source": [
    "df_check.info()"
   ]
  },
  {
   "cell_type": "code",
   "execution_count": 84,
   "metadata": {
    "collapsed": true
   },
   "outputs": [],
   "source": [
    "docs = df_check['content_seg']"
   ]
  },
  {
   "cell_type": "code",
   "execution_count": 85,
   "metadata": {
    "collapsed": true
   },
   "outputs": [],
   "source": [
    "ch_words_fq = map_words_fq(' '.join(docs))"
   ]
  },
  {
   "cell_type": "code",
   "execution_count": 86,
   "metadata": {
    "collapsed": true
   },
   "outputs": [],
   "source": [
    "print ' '.join(ch_words_fq.keys())"
   ]
  },
  {
   "cell_type": "code",
   "execution_count": 92,
   "metadata": {
    "collapsed": true
   },
   "outputs": [],
   "source": [
    "ch_vec = map_word2vec_centroid(ch_words_fq)"
   ]
  },
  {
   "cell_type": "code",
   "execution_count": 93,
   "metadata": {
    "collapsed": true
   },
   "outputs": [],
   "source": [
    "t0 = time()\n",
    "df['gxwh_w2vs_sim'] = df.w2v_centroid.map(lambda x: get_cosine2(ch_vec, x))\n",
    "print time() - t0"
   ]
  },
  {
   "cell_type": "code",
   "execution_count": 94,
   "metadata": {},
   "outputs": [
    {
     "data": {
      "text/plain": [
       "<matplotlib.text.Text at 0x1bfbd68d0>"
      ]
     },
     "execution_count": 94,
     "metadata": {},
     "output_type": "execute_result"
    },
    {
     "data": {
      "image/png": "[encoded data removed]",
      "text/plain": [
       "<matplotlib.figure.Figure at 0x1c0533890>"
      ]
     },
     "metadata": {},
     "output_type": "display_data"
    }
   ],
   "source": [
    "df['gxwh_w2vs_sim'].hist(bins=500, figsize= (16, 6))\n",
    "plt.title('Chinese W2V Similiarity Histogram')\n",
    "plt.xlabel('Similarity')\n",
    "plt.ylabel('Count')"
   ]
  },
  {
   "cell_type": "code",
   "execution_count": 45,
   "metadata": {
    "collapsed": true
   },
   "outputs": [],
   "source": [
    "ch_sim = df['gxwh_w2vs_sim'].values.argsort()[::-1]"
   ]
  },
  {
   "cell_type": "code",
   "execution_count": 46,
   "metadata": {
    "collapsed": true
   },
   "outputs": [],
   "source": [
    "idx = 0\n",
    "for i in ch_sim:\n",
    "    if df.iloc[i]['gxwh_w2vs_sim'] > 0.80 and idx < 10:\n",
    "        title = df.iloc[i]['title']\n",
    "        content = df.iloc[i]['content']\n",
    "        sim_val = df.iloc[i]['gxwh_w2vs_sim']\n",
    "        idx += 1\n",
    "        print idx, i, title, sim_val\n",
    "        print  df.iloc[i]['url']\n",
    "        print content\n",
    "        print '--------------'"
   ]
  },
  {
   "cell_type": "code",
   "execution_count": null,
   "metadata": {
    "collapsed": true
   },
   "outputs": [],
   "source": []
  },
  {
   "cell_type": "code",
   "execution_count": 95,
   "metadata": {
    "collapsed": true
   },
   "outputs": [],
   "source": [
    "t0 = time()\n",
    "ch_vec = model[u'历史']\n",
    "df['lishi_w2v_sim'] = df.w2v_centroid.map(lambda x: get_cosine2(ch_vec, x))\n",
    "print time() - t0"
   ]
  },
  {
   "cell_type": "code",
   "execution_count": 96,
   "metadata": {
    "collapsed": true
   },
   "outputs": [],
   "source": [
    "ch_sim = df['lishi_w2v_sim'].values.argsort()[::-1]"
   ]
  },
  {
   "cell_type": "code",
   "execution_count": 97,
   "metadata": {},
   "outputs": [
    {
     "data": {
      "text/plain": [
       "0.8768459078106674"
      ]
     },
     "execution_count": 97,
     "metadata": {},
     "output_type": "execute_result"
    }
   ],
   "source": [
    "df['lishi_w2v_sim'].max()"
   ]
  },
  {
   "cell_type": "code",
   "execution_count": 51,
   "metadata": {
    "collapsed": true
   },
   "outputs": [],
   "source": [
    "idx = 0\n",
    "for i in ch_sim:\n",
    "    if df.iloc[i]['lishi_w2v_sim'] > 0.80 and idx < 10:\n",
    "        title = df.iloc[i]['title']\n",
    "        content = df.iloc[i]['content']\n",
    "        sim_val = df.iloc[i]['lishi_w2v_sim']\n",
    "        idx += 1\n",
    "        print idx, i, title, sim_val\n",
    "        print  df.iloc[i]['url']\n",
    "        print content\n",
    "        print '--------------'"
   ]
  },
  {
   "cell_type": "code",
   "execution_count": null,
   "metadata": {
    "collapsed": true
   },
   "outputs": [],
   "source": []
  },
  {
   "cell_type": "code",
   "execution_count": 98,
   "metadata": {
    "collapsed": true
   },
   "outputs": [],
   "source": [
    "msk1 = df['content'].str.contains('历史') \n",
    "\n",
    "msk = msk1\n",
    "df_check = df[msk]"
   ]
  },
  {
   "cell_type": "code",
   "execution_count": 99,
   "metadata": {
    "collapsed": true
   },
   "outputs": [],
   "source": [
    "df_check.info()"
   ]
  },
  {
   "cell_type": "code",
   "execution_count": null,
   "metadata": {
    "collapsed": true
   },
   "outputs": [],
   "source": [
    "docs = df_check['content_seg']"
   ]
  },
  {
   "cell_type": "code",
   "execution_count": null,
   "metadata": {
    "collapsed": true
   },
   "outputs": [],
   "source": [
    "ch_words_fq = map_words_fq(' '.join(docs))"
   ]
  },
  {
   "cell_type": "code",
   "execution_count": null,
   "metadata": {
    "collapsed": true
   },
   "outputs": [],
   "source": [
    "print ' '.join(ch_words_fq.keys())"
   ]
  },
  {
   "cell_type": "code",
   "execution_count": null,
   "metadata": {
    "collapsed": true
   },
   "outputs": [],
   "source": [
    "ch_vec = map_word2vec_centroid(ch_words_fq)"
   ]
  },
  {
   "cell_type": "code",
   "execution_count": null,
   "metadata": {
    "collapsed": true
   },
   "outputs": [],
   "source": [
    "t0 = time()\n",
    "df['lishi_w2vs_sim'] = df.w2v_centroid.map(lambda x: get_cosine2(ch_vec, x))\n",
    "print time() - t0"
   ]
  },
  {
   "cell_type": "code",
   "execution_count": 57,
   "metadata": {
    "collapsed": true
   },
   "outputs": [],
   "source": [
    "ch_sim = df['lishi_w2vs_sim'].values.argsort()[::-1]"
   ]
  },
  {
   "cell_type": "code",
   "execution_count": 58,
   "metadata": {
    "collapsed": true
   },
   "outputs": [],
   "source": [
    "idx = 0\n",
    "for i in ch_sim:\n",
    "    if df.iloc[i]['lishi_w2vs_sim'] > 0.80 and idx < 10:\n",
    "        title = df.iloc[i]['title']\n",
    "        content = df.iloc[i]['content']\n",
    "        sim_val = df.iloc[i]['lishi_w2vs_sim']\n",
    "        idx += 1\n",
    "        print idx, i, title, sim_val\n",
    "        print  df.iloc[i]['url']\n",
    "        print content\n",
    "        print '--------------'"
   ]
  },
  {
   "cell_type": "code",
   "execution_count": null,
   "metadata": {
    "collapsed": true
   },
   "outputs": [],
   "source": []
  },
  {
   "cell_type": "code",
   "execution_count": 62,
   "metadata": {
    "collapsed": true
   },
   "outputs": [],
   "source": [
    "t0 = time()\n",
    "ch_vec = model[u'艺术']\n",
    "df['yishu_w2v_sim'] = df.w2v_centroid.map(lambda x: get_cosine2(ch_vec, x))\n",
    "print time() - t0"
   ]
  },
  {
   "cell_type": "code",
   "execution_count": 63,
   "metadata": {},
   "outputs": [
    {
     "data": {
      "text/plain": [
       "0.81327134130479406"
      ]
     },
     "execution_count": 63,
     "metadata": {},
     "output_type": "execute_result"
    }
   ],
   "source": [
    "df['yishu_w2v_sim'].max()"
   ]
  },
  {
   "cell_type": "code",
   "execution_count": 77,
   "metadata": {
    "collapsed": true
   },
   "outputs": [],
   "source": [
    "ch_sim = df['yishu_w2v_sim'].values.argsort()[::-1]"
   ]
  },
  {
   "cell_type": "code",
   "execution_count": 78,
   "metadata": {
    "collapsed": true
   },
   "outputs": [],
   "source": [
    "idx = 0\n",
    "for i in ch_sim:\n",
    "    if df.iloc[i]['yishu_w2v_sim'] > 0.50 and idx < 10:\n",
    "        title = df.iloc[i]['title']\n",
    "        content = df.iloc[i]['content']\n",
    "        sim_val = df.iloc[i]['yishu_w2v_sim']\n",
    "        idx += 1\n",
    "        print idx, i, title, sim_val\n",
    "        print  df.iloc[i]['url']\n",
    "        print content\n",
    "        print '--------------'"
   ]
  },
  {
   "cell_type": "code",
   "execution_count": 67,
   "metadata": {},
   "outputs": [
    {
     "data": {
      "text/plain": [
       "<matplotlib.text.Text at 0x4c17d6bd0>"
      ]
     },
     "execution_count": 67,
     "metadata": {},
     "output_type": "execute_result"
    },
    {
     "data": {
      "image/png": "[encoded data removed]",
      "text/plain": [
       "<matplotlib.figure.Figure at 0x694e93390>"
      ]
     },
     "metadata": {},
     "output_type": "display_data"
    }
   ],
   "source": [
    "df['yishu_w2v_sim'].hist(bins=500, figsize= (16, 6))\n",
    "plt.title('Chinese W2V Similiarity Histogram')\n",
    "plt.xlabel('Similarity')\n",
    "plt.ylabel('Count')"
   ]
  },
  {
   "cell_type": "code",
   "execution_count": null,
   "metadata": {
    "collapsed": true
   },
   "outputs": [],
   "source": [
    "msk1 = df['content'].str.contains('艺术') \n",
    "\n",
    "msk = msk1\n",
    "df_check = df[msk]"
   ]
  },
  {
   "cell_type": "code",
   "execution_count": null,
   "metadata": {
    "collapsed": true
   },
   "outputs": [],
   "source": [
    "docs = df_check['content_seg']"
   ]
  },
  {
   "cell_type": "code",
   "execution_count": null,
   "metadata": {
    "collapsed": true
   },
   "outputs": [],
   "source": [
    "ch_words_fq = map_words_fq(' '.join(docs))"
   ]
  },
  {
   "cell_type": "code",
   "execution_count": null,
   "metadata": {
    "collapsed": true
   },
   "outputs": [],
   "source": [
    "print ' '.join(ch_words_fq.keys())"
   ]
  },
  {
   "cell_type": "code",
   "execution_count": null,
   "metadata": {
    "collapsed": true
   },
   "outputs": [],
   "source": [
    "ch_vec = map_word2vec_centroid(ch_words_fq)"
   ]
  },
  {
   "cell_type": "code",
   "execution_count": null,
   "metadata": {
    "collapsed": true
   },
   "outputs": [],
   "source": [
    "t0 = time()\n",
    "df['yishu_w2vs_sim'] = df.w2v_centroid.map(lambda x: get_cosine2(ch_vec, x))\n",
    "print time() - t0"
   ]
  },
  {
   "cell_type": "code",
   "execution_count": null,
   "metadata": {
    "collapsed": true
   },
   "outputs": [],
   "source": [
    "ch_sim = df['yishu_w2vs_sim'].values.argsort()[::-1]"
   ]
  },
  {
   "cell_type": "code",
   "execution_count": 134,
   "metadata": {
    "collapsed": true
   },
   "outputs": [],
   "source": [
    "idx = 0\n",
    "for i in ch_sim:\n",
    "    if df.iloc[i]['yishu_w2vs_sim'] > 0.80 and idx < 10:\n",
    "        title = df.iloc[i]['title']\n",
    "        content = df.iloc[i]['content']\n",
    "        sim_val = df.iloc[i]['yishu_w2vs_sim']\n",
    "        idx += 1\n",
    "        print idx, i, title, sim_val\n",
    "        print  df.iloc[i]['url']\n",
    "        print content\n",
    "        print '--------------'"
   ]
  },
  {
   "cell_type": "code",
   "execution_count": null,
   "metadata": {
    "collapsed": true
   },
   "outputs": [],
   "source": []
  },
  {
   "cell_type": "code",
   "execution_count": null,
   "metadata": {
    "collapsed": true
   },
   "outputs": [],
   "source": []
  },
  {
   "cell_type": "code",
   "execution_count": 68,
   "metadata": {
    "collapsed": true
   },
   "outputs": [],
   "source": [
    "t0 = time()\n",
    "ch_vec = model[u'人物']\n",
    "df['renwu_w2v_sim'] = df.w2v_centroid.map(lambda x: get_cosine2(ch_vec, x))\n",
    "print time() - t0"
   ]
  },
  {
   "cell_type": "code",
   "execution_count": 69,
   "metadata": {
    "collapsed": true
   },
   "outputs": [],
   "source": [
    "ch_sim = df['renwu_w2v_sim'].values.argsort()[::-1]"
   ]
  },
  {
   "cell_type": "code",
   "execution_count": 70,
   "metadata": {
    "collapsed": true
   },
   "outputs": [],
   "source": [
    "idx = 0\n",
    "for i in ch_sim:\n",
    "    if df.iloc[i]['renwu_w2v_sim'] > 0.50 and idx < 10:\n",
    "        title = df.iloc[i]['title']\n",
    "        content = df.iloc[i]['content']\n",
    "        sim_val = df.iloc[i]['renwu_w2v_sim']\n",
    "        idx += 1\n",
    "        print idx, i, title, sim_val\n",
    "        print  df.iloc[i]['url']\n",
    "        print content\n",
    "        print '--------------'"
   ]
  },
  {
   "cell_type": "code",
   "execution_count": 71,
   "metadata": {},
   "outputs": [
    {
     "data": {
      "text/plain": [
       "<matplotlib.text.Text at 0x2993e90d0>"
      ]
     },
     "execution_count": 71,
     "metadata": {},
     "output_type": "execute_result"
    },
    {
     "data": {
      "image/png": "[encoded data removed]",
      "text/plain": [
       "<matplotlib.figure.Figure at 0x693f14210>"
      ]
     },
     "metadata": {},
     "output_type": "display_data"
    }
   ],
   "source": [
    "df['renwu_w2v_sim'].hist(bins=500, figsize= (16, 6))\n",
    "plt.title('Chinese W2V Similiarity Histogram')\n",
    "plt.xlabel('Similarity')\n",
    "plt.ylabel('Count')"
   ]
  },
  {
   "cell_type": "code",
   "execution_count": null,
   "metadata": {
    "collapsed": true
   },
   "outputs": [],
   "source": [
    "msk1 = df['content'].str.contains('人物') \n",
    "\n",
    "msk = msk1\n",
    "df_check = df[msk]"
   ]
  },
  {
   "cell_type": "code",
   "execution_count": null,
   "metadata": {
    "collapsed": true
   },
   "outputs": [],
   "source": [
    "docs = df_check['content_seg']"
   ]
  },
  {
   "cell_type": "code",
   "execution_count": null,
   "metadata": {
    "collapsed": true
   },
   "outputs": [],
   "source": [
    "ch_words_fq = map_words_fq(' '.join(docs))"
   ]
  },
  {
   "cell_type": "code",
   "execution_count": null,
   "metadata": {
    "collapsed": true
   },
   "outputs": [],
   "source": [
    "print ' '.join(ch_words_fq.keys())"
   ]
  },
  {
   "cell_type": "code",
   "execution_count": null,
   "metadata": {
    "collapsed": true
   },
   "outputs": [],
   "source": [
    "ch_vec = map_word2vec_centroid(ch_words_fq)"
   ]
  },
  {
   "cell_type": "code",
   "execution_count": null,
   "metadata": {
    "collapsed": true
   },
   "outputs": [],
   "source": [
    "t0 = time()\n",
    "df['renwu_w2vs_sim'] = df.w2v_centroid.map(lambda x: get_cosine2(ch_vec, x))\n",
    "print time() - t0"
   ]
  },
  {
   "cell_type": "code",
   "execution_count": 151,
   "metadata": {
    "collapsed": true
   },
   "outputs": [],
   "source": [
    "ch_sim = df['renwu_w2vs_sim'].values.argsort()[::-1]"
   ]
  },
  {
   "cell_type": "code",
   "execution_count": 152,
   "metadata": {
    "collapsed": true
   },
   "outputs": [],
   "source": [
    "idx = 0\n",
    "for i in ch_sim:\n",
    "    if df.iloc[i]['renwu_w2vs_sim'] > 0.50 and idx < 10:\n",
    "        title = df.iloc[i]['title']\n",
    "        content = df.iloc[i]['content']\n",
    "        sim_val = df.iloc[i]['renwu_w2vs_sim']\n",
    "        idx += 1\n",
    "        print idx, i, title, sim_val\n",
    "        print  df.iloc[i]['url']\n",
    "        print content\n",
    "        print '--------------'"
   ]
  },
  {
   "cell_type": "code",
   "execution_count": null,
   "metadata": {
    "collapsed": true
   },
   "outputs": [],
   "source": []
  },
  {
   "cell_type": "code",
   "execution_count": 72,
   "metadata": {
    "collapsed": true
   },
   "outputs": [],
   "source": [
    "t0 = time()\n",
    "ch_vec = model[u'故事']\n",
    "df['gushi_w2v_sim'] = df.w2v_centroid.map(lambda x: get_cosine2(ch_vec, x))\n",
    "print time() - t0"
   ]
  },
  {
   "cell_type": "code",
   "execution_count": 73,
   "metadata": {
    "collapsed": true
   },
   "outputs": [],
   "source": [
    "ch_sim = df['gushi_w2v_sim'].values.argsort()[::-1]"
   ]
  },
  {
   "cell_type": "code",
   "execution_count": 74,
   "metadata": {
    "collapsed": true
   },
   "outputs": [],
   "source": [
    "idx = 0\n",
    "for i in ch_sim:\n",
    "    if df.iloc[i]['gushi_w2v_sim'] > 0.50 and idx < 10:\n",
    "        title = df.iloc[i]['title']\n",
    "        content = df.iloc[i]['content']\n",
    "        sim_val = df.iloc[i]['gushi_w2v_sim']\n",
    "        idx += 1\n",
    "        print idx, i, title, sim_val\n",
    "        print  df.iloc[i]['url']\n",
    "        print content\n",
    "        print '--------------'"
   ]
  },
  {
   "cell_type": "code",
   "execution_count": 75,
   "metadata": {},
   "outputs": [
    {
     "data": {
      "text/plain": [
       "<matplotlib.text.Text at 0x15673d090>"
      ]
     },
     "execution_count": 75,
     "metadata": {},
     "output_type": "execute_result"
    },
    {
     "data": {
      "image/png": "[encoded data removed]",
      "text/plain": [
       "<matplotlib.figure.Figure at 0x1bd1c4d10>"
      ]
     },
     "metadata": {},
     "output_type": "display_data"
    }
   ],
   "source": [
    "df['gushi_w2v_sim'].hist(bins=500, figsize= (16, 6))\n",
    "plt.title('Gushi W2V Similiarity Histogram')\n",
    "plt.xlabel('Similarity')\n",
    "plt.ylabel('Count')"
   ]
  },
  {
   "cell_type": "code",
   "execution_count": null,
   "metadata": {
    "collapsed": true
   },
   "outputs": [],
   "source": []
  },
  {
   "cell_type": "code",
   "execution_count": null,
   "metadata": {
    "collapsed": true
   },
   "outputs": [],
   "source": [
    "msk1 = df['content'].str.contains('故事') \n",
    "\n",
    "msk = msk1\n",
    "df_check = df[msk]"
   ]
  },
  {
   "cell_type": "code",
   "execution_count": null,
   "metadata": {
    "collapsed": true
   },
   "outputs": [],
   "source": [
    "docs = df_check['content_seg']"
   ]
  },
  {
   "cell_type": "code",
   "execution_count": null,
   "metadata": {
    "collapsed": true
   },
   "outputs": [],
   "source": [
    "ch_words_fq = map_words_fq(' '.join(docs))"
   ]
  },
  {
   "cell_type": "code",
   "execution_count": null,
   "metadata": {
    "collapsed": true
   },
   "outputs": [],
   "source": [
    "ch_vec = map_word2vec_centroid(ch_words_fq)"
   ]
  },
  {
   "cell_type": "code",
   "execution_count": null,
   "metadata": {
    "collapsed": true
   },
   "outputs": [],
   "source": [
    "print ' '.join(ch_words_fq.keys())"
   ]
  },
  {
   "cell_type": "code",
   "execution_count": null,
   "metadata": {
    "collapsed": true
   },
   "outputs": [],
   "source": [
    "t0 = time()\n",
    "df['gushi_w2vs_sim'] = df.w2v_centroid.map(lambda x: get_cosine2(hz_vec, x))\n",
    "print time() - t0"
   ]
  },
  {
   "cell_type": "code",
   "execution_count": null,
   "metadata": {
    "collapsed": true
   },
   "outputs": [],
   "source": [
    "ch_sim = df['gushi_w2vs_sim'].values.argsort()[::-1]"
   ]
  },
  {
   "cell_type": "code",
   "execution_count": 174,
   "metadata": {
    "collapsed": true
   },
   "outputs": [],
   "source": [
    "idx = 0\n",
    "for i in ch_sim:\n",
    "    if df.iloc[i]['gushi_w2vs_sim'] > 0.50 and idx < 10:\n",
    "        title = df.iloc[i]['title']\n",
    "        content = df.iloc[i]['content']\n",
    "        sim_val = df.iloc[i]['gushi_w2vs_sim']\n",
    "        idx += 1\n",
    "        print idx, i, title, sim_val\n",
    "        print  df.iloc[i]['url']\n",
    "        print content\n",
    "        print '--------------'"
   ]
  },
  {
   "cell_type": "code",
   "execution_count": null,
   "metadata": {
    "collapsed": true
   },
   "outputs": [],
   "source": []
  },
  {
   "cell_type": "markdown",
   "metadata": {
    "collapsed": true
   },
   "source": [
    "import math\n",
    "from textblob import TextBlob as tb\n",
    "\n",
    "def tf(word, blob):\n",
    "    return blob.words.count(word) / len(blob.words)\n",
    "\n",
    "def n_containing(word, bloblist):\n",
    "    return sum(1 for blob in bloblist if word in blob.words)\n",
    "\n",
    "def idf(word, bloblist):\n",
    "    return math.log(len(bloblist) / (1 + n_containing(word, bloblist)))\n",
    "\n",
    "def tfidf(word, blob, bloblist):\n",
    "    return tf(word, blob) * idf(word, bloblist)"
   ]
  },
  {
   "cell_type": "markdown",
   "metadata": {
    "collapsed": true
   },
   "source": [
    "df_check['content_tb'] = df_check.content_seg.map(lambda x: tb(x.decode('utf-8')))"
   ]
  },
  {
   "cell_type": "markdown",
   "metadata": {
    "collapsed": true
   },
   "source": [
    "bloblist = df_check['content_tb']"
   ]
  },
  {
   "cell_type": "markdown",
   "metadata": {},
   "source": [
    "for i, blob in enumerate(bloblist):\n",
    "    print(\"Top words in document {}\".format(i + 1))\n",
    "    scores = {word: tfidf(word, blob, bloblist) for word in blob.words}\n",
    "    sorted_words = sorted(scores.items(), key=lambda x: x[1], reverse=True)\n",
    "    for word, score in sorted_words[:3]:\n",
    "        #print(\"\\tWord: {}, TF-IDF: {}\".format(word, round(score, 20)))\n",
    "        print(\"\\tWord: {}, TF-IDF: {}\".format(word, score))        "
   ]
  },
  {
   "cell_type": "code",
   "execution_count": null,
   "metadata": {
    "collapsed": true
   },
   "outputs": [],
   "source": []
  },
  {
   "cell_type": "code",
   "execution_count": 158,
   "metadata": {
    "collapsed": true
   },
   "outputs": [],
   "source": [
    "def map_serialize(x):\n",
    "    #print len(x)\n",
    "    ret = []\n",
    "    idx = 0\n",
    "    for v in x:\n",
    "        #print idx, v\n",
    "        ret.append(str(v))\n",
    "        idx += 1\n",
    "    #print ret\n",
    "    return ','.join(ret)"
   ]
  },
  {
   "cell_type": "code",
   "execution_count": 159,
   "metadata": {
    "collapsed": true
   },
   "outputs": [],
   "source": [
    "df['w2v_centroid_s'] = df.w2v_centroid.map(lambda x: map_serialize(x))"
   ]
  },
  {
   "cell_type": "code",
   "execution_count": 171,
   "metadata": {},
   "outputs": [
    {
     "data": {
      "text/html": [
       "<div>\n",
       "<table border=\"1\" class=\"dataframe\">\n",
       "  <thead>\n",
       "    <tr style=\"text-align: right;\">\n",
       "      <th></th>\n",
       "      <th>url</th>\n",
       "      <th>title</th>\n",
       "      <th>summary</th>\n",
       "      <th>content</th>\n",
       "      <th>content_seg</th>\n",
       "      <th>s_vec</th>\n",
       "      <th>domain</th>\n",
       "      <th>words_fq</th>\n",
       "      <th>w2v_centroid</th>\n",
       "      <th>content_len</th>\n",
       "      <th>...</th>\n",
       "      <th>hzwh_w2v_sim</th>\n",
       "      <th>hzjz_w2v_sim</th>\n",
       "      <th>ycjc_w2v_sim</th>\n",
       "      <th>hzdk_w2v_sim</th>\n",
       "      <th>hpys_w2v_sim</th>\n",
       "      <th>hjhc_w2v_sim</th>\n",
       "      <th>hs_w2v_sim</th>\n",
       "      <th>xalx_w2v_sim</th>\n",
       "      <th>hxyj_w2v_sim</th>\n",
       "      <th>w2v_centroid_s</th>\n",
       "    </tr>\n",
       "  </thead>\n",
       "  <tbody>\n",
       "    <tr>\n",
       "      <th>0</th>\n",
       "      <td>http://cul.anhuinews.com/system/2016/11/28/007...</td>\n",
       "      <td>洪建华夫妇的竹刻人生</td>\n",
       "      <td>。不久前，我们几名政协委员应邀到正在建设中的黄山市徽派雕刻博物馆参观考察时，洪建华一边介绍新...</td>\n",
       "      <td>谁能想到，洪建华夫妇这对一无学历、二无家传、三无师承的“三无大师”成了省级非物质文化遗产·徽...</td>\n",
       "      <td>谁 能 想到 ， 洪 建华 夫妇 这 对 一 无 学历 、 二 无 家传 、 三无 师承 的...</td>\n",
       "      <td>{u'竹木': 0.0114285714286, u'洪': 0.0571428571429...</td>\n",
       "      <td>anhuinews.com</td>\n",
       "      <td>{u'竹木': 0.0114285714286, u'洪': 0.0571428571429...</td>\n",
       "      <td>[-0.0060236, -0.0103621, 0.00755846, -0.000569...</td>\n",
       "      <td>10703</td>\n",
       "      <td>...</td>\n",
       "      <td>0.463720</td>\n",
       "      <td>0.567314</td>\n",
       "      <td>0.573373</td>\n",
       "      <td>0.633446</td>\n",
       "      <td>0.680938</td>\n",
       "      <td>0.424617</td>\n",
       "      <td>0.311315</td>\n",
       "      <td>0.397321</td>\n",
       "      <td>0.291379</td>\n",
       "      <td>-0.0060236,-0.0103621,0.00755846,-0.000569638,...</td>\n",
       "    </tr>\n",
       "    <tr>\n",
       "      <th>1</th>\n",
       "      <td>http://cul.anhuinews.com/system/2016/11/21/007...</td>\n",
       "      <td>徽州民歌传人操明花校园授艺</td>\n",
       "      <td>。“磨米磨麦，磨米磨麦……”随着教室里传来一阵阵悦耳动听的方言民歌声，操明花正兴致勃勃地教同...</td>\n",
       "      <td>近日，省非物质文化遗产徽州民歌传承人操明花前往休宁县海阳二小、歙县城关小学和徽州区岩寺镇中心...</td>\n",
       "      <td>近日 ， 省非 物质 文化遗产 徽州 民歌 传承 人操 明花 前往 休宁县 海阳 二小 、 ...</td>\n",
       "      <td>{u'它': 0.0123456790123, u'原生态': 0.012345679012...</td>\n",
       "      <td>anhuinews.com</td>\n",
       "      <td>{u'它': 0.0123456790123, u'原生态': 0.012345679012...</td>\n",
       "      <td>[-0.0107781, 0.0129855, 0.00413211, 0.00171845...</td>\n",
       "      <td>1264</td>\n",
       "      <td>...</td>\n",
       "      <td>0.565720</td>\n",
       "      <td>0.358653</td>\n",
       "      <td>0.557331</td>\n",
       "      <td>0.468289</td>\n",
       "      <td>0.517698</td>\n",
       "      <td>0.438723</td>\n",
       "      <td>0.306038</td>\n",
       "      <td>0.308822</td>\n",
       "      <td>0.250730</td>\n",
       "      <td>-0.0107781,0.0129855,0.00413211,0.00171845,-0....</td>\n",
       "    </tr>\n",
       "    <tr>\n",
       "      <th>2</th>\n",
       "      <td>http://cul.anhuinews.com/system/2016/11/03/007...</td>\n",
       "      <td>黄山楹联漫谈</td>\n",
       "      <td>。黄山雄伟奇丽、气势非凡，原省文联主席赖少其说，非有大手笔，不能画黄山。有“二联”站得高，看...</td>\n",
       "      <td>黄山楹联第一人当推明朝诗人余绍祉。他遍历祖国名山大川，见到无数奇峰怪石，却感到抵不上黄山峰林...</td>\n",
       "      <td>黄山 楹联 第一 人当 推 明朝 诗人 余绍祉 。 他 遍历 祖国 名山大川 ， 见到 无数...</td>\n",
       "      <td>{u'气派': 0.0123456790123, u'名句': 0.012345679012...</td>\n",
       "      <td>anhuinews.com</td>\n",
       "      <td>{u'气派': 0.0123456790123, u'名句': 0.012345679012...</td>\n",
       "      <td>[-0.0120081, -0.0145887, 0.0144744, -0.0120817...</td>\n",
       "      <td>2028</td>\n",
       "      <td>...</td>\n",
       "      <td>0.255002</td>\n",
       "      <td>0.260202</td>\n",
       "      <td>0.269191</td>\n",
       "      <td>0.340901</td>\n",
       "      <td>0.296441</td>\n",
       "      <td>0.235815</td>\n",
       "      <td>0.191698</td>\n",
       "      <td>0.246864</td>\n",
       "      <td>0.182968</td>\n",
       "      <td>-0.0120081,-0.0145887,0.0144744,-0.0120817,-0....</td>\n",
       "    </tr>\n",
       "    <tr>\n",
       "      <th>3</th>\n",
       "      <td>http://cul.anhuinews.com/system/2016/01/26/007...</td>\n",
       "      <td>徽派雕刻——徽州木雕艺术</td>\n",
       "      <td>徽州民居、家具木板和圆木雕刻艺术的简称。木雕在旧属徽州各县分布之广在全国屈指可数，宅院内的屏...</td>\n",
       "      <td>徽州民居、家具木板和圆木雕刻艺术的简称。木雕在旧属徽州各县分布之广在全国屈指可数，宅院内的屏...</td>\n",
       "      <td>徽州 民居 、 家具 木板 和 圆木 雕刻 艺术 的 简称 。 木雕 在 旧属 徽州 各县 ...</td>\n",
       "      <td>{u'吉祥图案': 0.0172413793103, u'少数': 0.0172413793...</td>\n",
       "      <td>anhuinews.com</td>\n",
       "      <td>{u'吉祥图案': 0.0172413793103, u'少数': 0.0172413793...</td>\n",
       "      <td>[-0.0134407, -0.0106611, 0.0100197, -0.0117281...</td>\n",
       "      <td>721</td>\n",
       "      <td>...</td>\n",
       "      <td>0.463754</td>\n",
       "      <td>0.588129</td>\n",
       "      <td>0.565690</td>\n",
       "      <td>0.765616</td>\n",
       "      <td>0.544592</td>\n",
       "      <td>0.325793</td>\n",
       "      <td>0.382593</td>\n",
       "      <td>0.354244</td>\n",
       "      <td>0.263324</td>\n",
       "      <td>-0.0134407,-0.0106611,0.0100197,-0.0117281,-0....</td>\n",
       "    </tr>\n",
       "    <tr>\n",
       "      <th>4</th>\n",
       "      <td>http://cul.anhuinews.com/system/2016/01/26/007...</td>\n",
       "      <td>徽派雕刻——徽州砖雕艺术</td>\n",
       "      <td>。从早期的简单粗犷、朴素的纹样，逐步演变到后期的繁腹、细致华丽的结构，形成了自己独特的艺术风...</td>\n",
       "      <td>徽州砖雕徽州砖雕的造型，来源于汉画象砖。汉画象砖大都是模印砖坯刻画后入密烧制，嵌窃时再进行修...</td>\n",
       "      <td>徽州 砖雕 徽州 砖雕 的 造型 ， 来源于 汉 画象 砖 。 汉 画象 砖 大都 是 模印...</td>\n",
       "      <td>{u'一': 0.0106382978723, u'它': 0.0212765957447,...</td>\n",
       "      <td>anhuinews.com</td>\n",
       "      <td>{u'一': 0.0106382978723, u'它': 0.0212765957447,...</td>\n",
       "      <td>[-0.0147771, -0.0149903, 0.0132143, -0.0146898...</td>\n",
       "      <td>2852</td>\n",
       "      <td>...</td>\n",
       "      <td>0.426712</td>\n",
       "      <td>0.555901</td>\n",
       "      <td>0.473556</td>\n",
       "      <td>0.605832</td>\n",
       "      <td>0.577255</td>\n",
       "      <td>0.312113</td>\n",
       "      <td>0.289483</td>\n",
       "      <td>0.315999</td>\n",
       "      <td>0.203333</td>\n",
       "      <td>-0.0147771,-0.0149903,0.0132143,-0.0146898,-0....</td>\n",
       "    </tr>\n",
       "  </tbody>\n",
       "</table>\n",
       "<p>5 rows × 22 columns</p>\n",
       "</div>"
      ],
      "text/plain": [
       "                                                 url          title  \\\n",
       "0  http://cul.anhuinews.com/system/2016/11/28/007...     洪建华夫妇的竹刻人生   \n",
       "1  http://cul.anhuinews.com/system/2016/11/21/007...  徽州民歌传人操明花校园授艺   \n",
       "2  http://cul.anhuinews.com/system/2016/11/03/007...         黄山楹联漫谈   \n",
       "3  http://cul.anhuinews.com/system/2016/01/26/007...   徽派雕刻——徽州木雕艺术   \n",
       "4  http://cul.anhuinews.com/system/2016/01/26/007...   徽派雕刻——徽州砖雕艺术   \n",
       "\n",
       "                                             summary  \\\n",
       "0  。不久前，我们几名政协委员应邀到正在建设中的黄山市徽派雕刻博物馆参观考察时，洪建华一边介绍新...   \n",
       "1  。“磨米磨麦，磨米磨麦……”随着教室里传来一阵阵悦耳动听的方言民歌声，操明花正兴致勃勃地教同...   \n",
       "2  。黄山雄伟奇丽、气势非凡，原省文联主席赖少其说，非有大手笔，不能画黄山。有“二联”站得高，看...   \n",
       "3  徽州民居、家具木板和圆木雕刻艺术的简称。木雕在旧属徽州各县分布之广在全国屈指可数，宅院内的屏...   \n",
       "4  。从早期的简单粗犷、朴素的纹样，逐步演变到后期的繁腹、细致华丽的结构，形成了自己独特的艺术风...   \n",
       "\n",
       "                                             content  \\\n",
       "0  谁能想到，洪建华夫妇这对一无学历、二无家传、三无师承的“三无大师”成了省级非物质文化遗产·徽...   \n",
       "1  近日，省非物质文化遗产徽州民歌传承人操明花前往休宁县海阳二小、歙县城关小学和徽州区岩寺镇中心...   \n",
       "2  黄山楹联第一人当推明朝诗人余绍祉。他遍历祖国名山大川，见到无数奇峰怪石，却感到抵不上黄山峰林...   \n",
       "3  徽州民居、家具木板和圆木雕刻艺术的简称。木雕在旧属徽州各县分布之广在全国屈指可数，宅院内的屏...   \n",
       "4  徽州砖雕徽州砖雕的造型，来源于汉画象砖。汉画象砖大都是模印砖坯刻画后入密烧制，嵌窃时再进行修...   \n",
       "\n",
       "                                         content_seg  \\\n",
       "0  谁 能 想到 ， 洪 建华 夫妇 这 对 一 无 学历 、 二 无 家传 、 三无 师承 的...   \n",
       "1  近日 ， 省非 物质 文化遗产 徽州 民歌 传承 人操 明花 前往 休宁县 海阳 二小 、 ...   \n",
       "2  黄山 楹联 第一 人当 推 明朝 诗人 余绍祉 。 他 遍历 祖国 名山大川 ， 见到 无数...   \n",
       "3  徽州 民居 、 家具 木板 和 圆木 雕刻 艺术 的 简称 。 木雕 在 旧属 徽州 各县 ...   \n",
       "4  徽州 砖雕 徽州 砖雕 的 造型 ， 来源于 汉 画象 砖 。 汉 画象 砖 大都 是 模印...   \n",
       "\n",
       "                                               s_vec         domain  \\\n",
       "0  {u'竹木': 0.0114285714286, u'洪': 0.0571428571429...  anhuinews.com   \n",
       "1  {u'它': 0.0123456790123, u'原生态': 0.012345679012...  anhuinews.com   \n",
       "2  {u'气派': 0.0123456790123, u'名句': 0.012345679012...  anhuinews.com   \n",
       "3  {u'吉祥图案': 0.0172413793103, u'少数': 0.0172413793...  anhuinews.com   \n",
       "4  {u'一': 0.0106382978723, u'它': 0.0212765957447,...  anhuinews.com   \n",
       "\n",
       "                                            words_fq  \\\n",
       "0  {u'竹木': 0.0114285714286, u'洪': 0.0571428571429...   \n",
       "1  {u'它': 0.0123456790123, u'原生态': 0.012345679012...   \n",
       "2  {u'气派': 0.0123456790123, u'名句': 0.012345679012...   \n",
       "3  {u'吉祥图案': 0.0172413793103, u'少数': 0.0172413793...   \n",
       "4  {u'一': 0.0106382978723, u'它': 0.0212765957447,...   \n",
       "\n",
       "                                        w2v_centroid  content_len  \\\n",
       "0  [-0.0060236, -0.0103621, 0.00755846, -0.000569...        10703   \n",
       "1  [-0.0107781, 0.0129855, 0.00413211, 0.00171845...         1264   \n",
       "2  [-0.0120081, -0.0145887, 0.0144744, -0.0120817...         2028   \n",
       "3  [-0.0134407, -0.0106611, 0.0100197, -0.0117281...          721   \n",
       "4  [-0.0147771, -0.0149903, 0.0132143, -0.0146898...         2852   \n",
       "\n",
       "                         ...                          hzwh_w2v_sim  \\\n",
       "0                        ...                              0.463720   \n",
       "1                        ...                              0.565720   \n",
       "2                        ...                              0.255002   \n",
       "3                        ...                              0.463754   \n",
       "4                        ...                              0.426712   \n",
       "\n",
       "   hzjz_w2v_sim  ycjc_w2v_sim  hzdk_w2v_sim  hpys_w2v_sim  hjhc_w2v_sim  \\\n",
       "0      0.567314      0.573373      0.633446      0.680938      0.424617   \n",
       "1      0.358653      0.557331      0.468289      0.517698      0.438723   \n",
       "2      0.260202      0.269191      0.340901      0.296441      0.235815   \n",
       "3      0.588129      0.565690      0.765616      0.544592      0.325793   \n",
       "4      0.555901      0.473556      0.605832      0.577255      0.312113   \n",
       "\n",
       "   hs_w2v_sim  xalx_w2v_sim  hxyj_w2v_sim  \\\n",
       "0    0.311315      0.397321      0.291379   \n",
       "1    0.306038      0.308822      0.250730   \n",
       "2    0.191698      0.246864      0.182968   \n",
       "3    0.382593      0.354244      0.263324   \n",
       "4    0.289483      0.315999      0.203333   \n",
       "\n",
       "                                      w2v_centroid_s  \n",
       "0  -0.0060236,-0.0103621,0.00755846,-0.000569638,...  \n",
       "1  -0.0107781,0.0129855,0.00413211,0.00171845,-0....  \n",
       "2  -0.0120081,-0.0145887,0.0144744,-0.0120817,-0....  \n",
       "3  -0.0134407,-0.0106611,0.0100197,-0.0117281,-0....  \n",
       "4  -0.0147771,-0.0149903,0.0132143,-0.0146898,-0....  \n",
       "\n",
       "[5 rows x 22 columns]"
      ]
     },
     "execution_count": 171,
     "metadata": {},
     "output_type": "execute_result"
    }
   ],
   "source": [
    "df.head()"
   ]
  },
  {
   "cell_type": "code",
   "execution_count": 172,
   "metadata": {
    "collapsed": true
   },
   "outputs": [],
   "source": [
    "df.to_csv('../data/clean/huizhou_web_v1.csv', encoding='utf-8', index=False)"
   ]
  },
  {
   "cell_type": "code",
   "execution_count": 165,
   "metadata": {
    "collapsed": true
   },
   "outputs": [],
   "source": [
    "df_out = df[['url', 'title', 'summary', 'w2v_centroid_s', 'hzwh_w2v_sim', 'hzjz_w2v_sim', 'ycjc_w2v_sim', 'hzdk_w2v_sim',\n",
    "             'hpys_w2v_sim', 'hjhc_w2v_sim', 'hs_w2v_sim', 'xalx_w2v_sim', 'hxyj_w2v_sim']]"
   ]
  },
  {
   "cell_type": "code",
   "execution_count": null,
   "metadata": {
    "collapsed": true
   },
   "outputs": [],
   "source": []
  },
  {
   "cell_type": "code",
   "execution_count": 166,
   "metadata": {
    "collapsed": true
   },
   "outputs": [],
   "source": [
    "df_out.to_csv('../data/clean/huizhou-web-slim_v2.csv', encoding='utf-8', index=False)"
   ]
  },
  {
   "cell_type": "code",
   "execution_count": 170,
   "metadata": {
    "collapsed": true
   },
   "outputs": [],
   "source": [
    "df_out.info()"
   ]
  },
  {
   "cell_type": "code",
   "execution_count": 211,
   "metadata": {
    "collapsed": true
   },
   "outputs": [],
   "source": [
    "df.info()"
   ]
  },
  {
   "cell_type": "code",
   "execution_count": 212,
   "metadata": {
    "collapsed": true
   },
   "outputs": [],
   "source": [
    "df_full_out = df[['url', 'title', 'summary', 's_vec_cnt', 'content', 'content_seg']]"
   ]
  },
  {
   "cell_type": "code",
   "execution_count": 213,
   "metadata": {
    "collapsed": true
   },
   "outputs": [],
   "source": [
    "df_full_out.to_csv('/Users/nhu2000/projects/SimilarSearch/data/clean/huizhou_full_v1.1.csv', encoding='utf-8', index=False)"
   ]
  },
  {
   "cell_type": "code",
   "execution_count": 173,
   "metadata": {},
   "outputs": [
    {
     "data": {
      "text/plain": [
       "array([ -7.58834004e-01,   6.37849987e-01,   2.37314200e+00,\n",
       "         3.93233001e-01,  -2.31934994e-01,  -4.19292003e-01,\n",
       "         2.77810004e-02,  -6.70256019e-01,   1.31282401e+00,\n",
       "        -2.81661004e-01,   1.56625605e+00,   1.19458902e+00,\n",
       "         9.28260028e-01,   2.15436292e+00,   3.43926013e-01,\n",
       "         7.05360025e-02,   1.01993299e+00,   1.49849200e+00,\n",
       "         1.05655801e+00,   6.64417982e-01,  -1.83514905e+00,\n",
       "        -9.82640028e-01,  -4.84759986e-01,   3.44781011e-01,\n",
       "         2.77079999e-01,   3.39015990e-01,  -2.10096002e-01,\n",
       "         4.17811006e-01,  -1.15651500e+00,   7.45559990e-01,\n",
       "         2.34702206e+00,   5.76422989e-01,  -9.99136984e-01,\n",
       "        -2.25249410e+00,   1.89790297e+00,  -1.52401996e+00,\n",
       "        -8.07019994e-02,   7.10281014e-01,   6.56597972e-01,\n",
       "         5.92401981e-01,   8.31799954e-03,  -6.80337012e-01,\n",
       "        -3.36429000e-01,   7.28859976e-02,  -7.02839017e-01,\n",
       "        -1.14953303e+00,   2.14949799e+00,  -1.44978094e+00,\n",
       "         2.21020997e-01,  -3.96232009e-01,  -2.87344009e-01,\n",
       "         2.03455001e-01,   2.86186993e-01,   1.18734896e+00,\n",
       "        -7.47153997e-01,  -8.78050983e-01,  -1.58097997e-01,\n",
       "        -1.89780995e-01,  -8.32053006e-01,  -1.60302401e+00,\n",
       "        -2.01757002e+00,   1.34080899e+00,  -9.56588984e-01,\n",
       "        -2.89802015e-01,   7.35687971e-01,  -3.00853997e-01,\n",
       "         1.75437003e-01,  -1.78050399e+00,   3.62372994e-01,\n",
       "        -2.83133101e+00,   1.95390105e+00,   1.12549998e-01,\n",
       "        -4.20592010e-01,  -2.03469706e+00,   1.59564900e+00,\n",
       "        -2.81680003e-02,  -9.65047002e-01,   2.00257897e+00,\n",
       "        -2.85647005e-01,  -1.58332002e+00,   6.99508011e-01,\n",
       "         4.28139001e-01,  -9.39530015e-01,   1.03047001e+00,\n",
       "        -6.04385972e-01,   9.03117001e-01,   3.31676990e-01,\n",
       "        -1.00377999e-01,  -3.44940014e-02,  -8.00944984e-01,\n",
       "        -1.03385305e+00,  -1.14508998e+00,  -8.79880011e-01,\n",
       "        -1.52777195e+00,   1.44000002e-03,  -1.00831002e-01,\n",
       "         5.71909010e-01,   1.65697503e+00,   1.38917997e-01,\n",
       "         1.04475997e-01,  -1.14555395e+00,   1.85523999e+00,\n",
       "        -6.07077003e-01,   2.55779696e+00,  -5.24564028e-01,\n",
       "         1.19275796e+00,   8.32810998e-01,   7.82463014e-01,\n",
       "         1.25500001e-02,   5.66340029e-01,   8.27497005e-01,\n",
       "         2.42862001e-01,  -1.49676895e+00,  -1.50093806e+00,\n",
       "         4.68870014e-01,   1.61249995e-01,   4.61881012e-01,\n",
       "        -5.22750974e-01,  -7.32469976e-01,  -1.39812195e+00,\n",
       "        -1.95644701e+00,  -1.26533103e+00,   1.63259602e+00,\n",
       "        -1.26724899e+00,   1.80714905e+00,  -4.15538013e-01,\n",
       "         5.24411976e-01,  -1.13188195e+00,  -1.42141199e+00,\n",
       "        -1.05179405e+00,   6.71508014e-01,  -4.46586996e-01,\n",
       "        -9.37363029e-01,  -1.17774002e-01,  -1.93442002e-01,\n",
       "        -8.91888022e-01,   6.32211030e-01,  -1.44788599e+00,\n",
       "        -4.17860001e-02,   4.09388989e-01,  -8.70087981e-01,\n",
       "         1.03659797e+00,  -1.19257998e+00,   3.06603998e-01,\n",
       "        -4.18800004e-02,   3.20749998e-01,  -1.89246997e-01,\n",
       "        -9.51039016e-01,  -1.81537700e+00,  -1.47251993e-01,\n",
       "         2.47467995e-01,   4.82010990e-01,   5.42312026e-01,\n",
       "         2.42501006e-01,  -1.28196394e+00,   1.13958001e+00,\n",
       "         7.15004027e-01,  -1.02102399e+00,  -6.37750030e-02,\n",
       "         3.05981010e-01,  -7.19866991e-01,  -2.81677991e-01,\n",
       "        -1.46291399e+00,   1.41345894e+00,   2.16922212e+00,\n",
       "        -9.64290977e-01,  -1.42116904e+00,   1.99597001e-01,\n",
       "         1.59250700e+00,   1.06767702e+00,   3.40440989e-01,\n",
       "        -1.07353497e+00,   1.41358003e-01,   1.29981697e+00,\n",
       "        -9.64561999e-01,   2.45176002e-01,  -5.52556992e-01,\n",
       "        -1.54333603e+00,   9.52421010e-01,  -5.81119001e-01,\n",
       "         1.63255405e+00,   1.93214998e-01,  -2.67768312e+00,\n",
       "        -2.04905009e+00,  -8.36760998e-01,  -1.22809899e+00,\n",
       "        -1.47950196e+00,  -8.37199986e-02,   1.61685598e+00,\n",
       "        -6.55907989e-01,   1.08266003e-01,   3.14134985e-01,\n",
       "         1.05211997e+00,   6.68540001e-01,   7.98385978e-01,\n",
       "        -5.15039027e-01,   7.44288027e-01,   1.07028306e+00,\n",
       "        -1.66279003e-01,  -2.12022007e-01,  -3.37280005e-01,\n",
       "         2.15586996e+00,  -7.07485020e-01,  -1.04692304e+00,\n",
       "         9.30118978e-01,   1.11433399e+00,  -1.11606300e+00,\n",
       "         8.75294983e-01,  -2.19449711e+00,  -4.40881997e-01,\n",
       "         7.70169973e-01,  -3.73086989e-01,   4.74395990e-01,\n",
       "        -8.67004991e-01,  -8.83149981e-01,   1.70919299e+00,\n",
       "        -4.37624007e-01,  -2.18045995e-01,  -3.03292006e-01,\n",
       "         8.98528993e-01,  -1.52537596e+00,  -1.11459398e+00,\n",
       "        -3.72090004e-02,   2.09471989e+00,   9.58724022e-01,\n",
       "         3.58633995e-01,   1.31893206e+00,  -6.42580017e-02,\n",
       "        -1.07216299e+00,   1.67768395e+00,   9.83232975e-01,\n",
       "         6.55699968e-02,   2.66399998e-02,  -6.16896987e-01,\n",
       "         1.38325596e+00,  -8.42317998e-01,   5.59058011e-01,\n",
       "         1.65786600e+00,   2.80225009e-01,   1.54165101e+00,\n",
       "        -4.79609013e-01,  -2.50305104e+00,   5.55916011e-01,\n",
       "        -5.18589020e-01,  -9.97087002e-01,   7.07202017e-01,\n",
       "        -1.64930001e-02,  -1.29352403e+00,   2.75767589e+00,\n",
       "         1.43620998e-01], dtype=float32)"
      ]
     },
     "execution_count": 173,
     "metadata": {},
     "output_type": "execute_result"
    }
   ],
   "source": [
    "model[u'许村']"
   ]
  },
  {
   "cell_type": "code",
   "execution_count": null,
   "metadata": {
    "collapsed": true
   },
   "outputs": [],
   "source": []
  }
 ],
 "metadata": {
  "kernelspec": {
   "display_name": "Python 2",
   "language": "python",
   "name": "python2"
  },
  "language_info": {
   "codemirror_mode": {
    "name": "ipython",
    "version": 2
   },
   "file_extension": ".py",
   "mimetype": "text/x-python",
   "name": "python",
   "nbconvert_exporter": "python",
   "pygments_lexer": "ipython2",
   "version": "2.7.10"
  }
 },
 "nbformat": 4,
 "nbformat_minor": 2
}
