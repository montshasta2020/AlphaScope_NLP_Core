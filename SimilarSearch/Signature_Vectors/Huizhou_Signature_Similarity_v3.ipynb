{
 "cells": [
  {
   "cell_type": "code",
   "execution_count": 1,
   "metadata": {
    "collapsed": true
   },
   "outputs": [],
   "source": [
    "import sys\n",
    "reload(sys)\n",
    "sys.setdefaultencoding('utf-8')"
   ]
  },
  {
   "cell_type": "code",
   "execution_count": 2,
   "metadata": {
    "collapsed": true
   },
   "outputs": [],
   "source": [
    "import pandas as pd\n",
    "from urlparse import urlparse\n",
    "import tldextract\n",
    "from collections import Counter\n",
    "import jieba\n",
    "import json\n",
    "import math\n",
    "import numpy as np\n",
    "from time import time"
   ]
  },
  {
   "cell_type": "code",
   "execution_count": null,
   "metadata": {
    "collapsed": true
   },
   "outputs": [],
   "source": [
    "from gensim.models import Word2Vec, KeyedVectors\n",
    "model = KeyedVectors.load_word2vec_format('../data/w2v/huizhou_model_format_v1.bin', binary=False)"
   ]
  },
  {
   "cell_type": "code",
   "execution_count": 7,
   "metadata": {
    "collapsed": true
   },
   "outputs": [],
   "source": [
    "import fasttext\n",
    "sk_model = fasttext.load_model('../data/fasttext/hz_sk_model.bin')"
   ]
  },
  {
   "cell_type": "code",
   "execution_count": 8,
   "metadata": {
    "collapsed": true
   },
   "outputs": [],
   "source": [
    "df = pd.read_csv('../data/final/huizhou-final-v2.csv')"
   ]
  },
  {
   "cell_type": "code",
   "execution_count": 9,
   "metadata": {
    "collapsed": true
   },
   "outputs": [],
   "source": [
    "df.info()"
   ]
  },
  {
   "cell_type": "code",
   "execution_count": 10,
   "metadata": {
    "collapsed": true
   },
   "outputs": [],
   "source": [
    "from urlparse import urlparse\n",
    "df['domain']  = df.url.map(lambda x:tldextract.extract(x).domain + str('.') + tldextract.extract(x).suffix)"
   ]
  },
  {
   "cell_type": "code",
   "execution_count": 11,
   "metadata": {
    "collapsed": true
   },
   "outputs": [],
   "source": [
    "df = df[df['domain'] != 'huaxia.com']"
   ]
  },
  {
   "cell_type": "code",
   "execution_count": 12,
   "metadata": {
    "collapsed": true
   },
   "outputs": [],
   "source": [
    "import re\n",
    "match = re.compile('([a-zA-Z_0-9_=_#_&_/])') #remove letters, numbers, and special characters in the article body\n",
    "#match = re.compile('([a-zA-Z_0-9])') #remove all of english letters and numbers\n",
    "def classifier_filters(s):\n",
    "    return match.sub(r' ', s) "
   ]
  },
  {
   "cell_type": "code",
   "execution_count": 13,
   "metadata": {
    "collapsed": true
   },
   "outputs": [],
   "source": [
    "def filter_combined(x):\n",
    "    s = x.split()\n",
    "    r = [t for t in s if (t.strip()) > 0 and t.strip() not in keyword_stop_words]\n",
    "    t = ' '.join(r)\n",
    "    ret = classifier_filters(t)\n",
    "    #print 'before -----', t\n",
    "    #print 'after ------', ret\n",
    "    return ret   "
   ]
  },
  {
   "cell_type": "code",
   "execution_count": 14,
   "metadata": {
    "collapsed": true
   },
   "outputs": [],
   "source": [
    "huizhou_stop_words = [u'的', u'了', u'在', u'是', u'安徽', u'和', u'有', u'我', u'年', u'上', u'他', u'我们', u'及',\n",
    "                      u'为', u'与', u'人', u'也', u'于', u'中', u'就', u'都', u'在线', u'等', u'不', u'网站', u'你', \n",
    "                      u'一个', u'到', u'之', u'对', u'说', u'进入', u'后', u'月', u'将', u'时', u'又', u'被', u'会员'\n",
    "                     u'版权', u'论坛', u'以', u'而', u'着', u'下', u'这', u'但', u'要', u'或', u'首页', u'这', u'更',\n",
    "                     u'地', u'从', u'卡', u'来', '多', u'日', u'她', u'还', u'联系', u'那', u'一处', u'一直', u'个', \n",
    "                     u'向', u'并', u'曾', u'这样', u'里', u'合肥', u'推荐', u'专栏', u'相关', u'当前', u'所有', u'中心'\n",
    "                     u'频道', u'编辑', u'位置', u'第一', u'社区', u'看', '中安', u'安徽省', u'大', u'许可证', u'许可',\n",
    "                     u'让', u'没有', u'什么', u'其', '请', '该', '用', '积分', u'凤阳', u'一篇', u'版权', u'县', u'这里',\n",
    "                      u'就是', u'生于', u'他们', u'它', u'男', u'去', u'会', u'由', u'一', u'做', u'所', u'毕业', u'一种',\n",
    "                     u'协会会员', u'把', u'能', u'至', u'这个', u'自己', u'黄山市', u'出', u'如', u'如',u'可以', u'很',\n",
    "                     u'成为', u'好', u'先生', u'中国', u'集团', u'江淮', u'网', u'特色', u'全国', u'新', u'作为', u'师专',\n",
    "                     u'则', u'重要', u'们', u'给', u'这些', u'过', u'安', u'最', u'现在', u'得', u'国家']"
   ]
  },
  {
   "cell_type": "markdown",
   "metadata": {},
   "source": [
    "s = ' '.join(huizhou_stop_words)\n",
    "#s = u'444 （）'"
   ]
  },
  {
   "cell_type": "code",
   "execution_count": 15,
   "metadata": {
    "collapsed": true
   },
   "outputs": [],
   "source": [
    "import unicodedata\n",
    "def remove_non_chinese(s):\n",
    "    r = [c for c in s if unicodedata.category(c).startswith('L')]\n",
    "#print r\n",
    "    return ''.join(r)\n",
    "#print remove_non_chinese(s)"
   ]
  },
  {
   "cell_type": "markdown",
   "metadata": {
    "collapsed": true
   },
   "source": [
    "hz_dict = dict(zip(words, fq))"
   ]
  },
  {
   "cell_type": "code",
   "execution_count": 16,
   "metadata": {
    "collapsed": true
   },
   "outputs": [],
   "source": [
    "def ch_title_letters_removal(x):\n",
    "    #print 'coming', x\n",
    "    t = x.strip('  ')\n",
    "    if(len(t)) == 0:\n",
    "        return None\n",
    "    \n",
    "    if(len(x) > 0):\n",
    "        #s = x.strip()\n",
    "        s = remove_non_chinese(x)\n",
    "        if len(s) > 0 and s not in huizhou_stop_words:\n",
    "            return s.strip()\n",
    "        else:\n",
    "            return None\n",
    "    return None"
   ]
  },
  {
   "cell_type": "code",
   "execution_count": null,
   "metadata": {
    "collapsed": true
   },
   "outputs": [],
   "source": []
  },
  {
   "cell_type": "code",
   "execution_count": 17,
   "metadata": {
    "collapsed": true
   },
   "outputs": [],
   "source": [
    "#calculate count using Counter\n",
    "def map_document_word_cnt(x):\n",
    "    n = 800\n",
    "    del_cnt = 0\n",
    "    count = Counter(x.decode('utf-8').split())\n",
    "    top_n = count.most_common (n)\n",
    "    words, cnt = zip(*top_n)\n",
    "    for word in words:\n",
    "        ret = ch_title_letters_removal(word)\n",
    "        if ret == None or len(ret) == 0:\n",
    "            del count[word]\n",
    "            del_cnt +=1\n",
    "\n",
    "    print 'deleted cnt', del_cnt\n",
    "    top_n = count.most_common (200)\n",
    "    return top_n"
   ]
  },
  {
   "cell_type": "code",
   "execution_count": 17,
   "metadata": {
    "collapsed": true
   },
   "outputs": [],
   "source": [
    "ret = map_document_word_cnt(df.iloc[2]['content_seg'])\n",
    "\n",
    "for t in ret:\n",
    "    print t[0], t[1]"
   ]
  },
  {
   "cell_type": "code",
   "execution_count": 177,
   "metadata": {
    "collapsed": true
   },
   "outputs": [],
   "source": [
    "top_n = count.most_common(400)\n",
    "print dict(top_n)"
   ]
  },
  {
   "cell_type": "code",
   "execution_count": 18,
   "metadata": {
    "collapsed": true
   },
   "outputs": [],
   "source": [
    "global idx\n",
    "idx = 0\n",
    "def map_words_fq(x, normalize=True): \n",
    "    global idx\n",
    "    print idx\n",
    "    idx += 1\n",
    "    s = x.decode('utf-8').split()\n",
    "    #print 'vect ---', len(s), s\n",
    "    ret = [ch_title_letters_removal(item) for item in s if len(item) > 0 and ch_title_letters_removal(item) != None]\n",
    "    #print 'ret ---', ret, len(ret)\n",
    "    count = Counter(ret)\n",
    "    \n",
    "    #print 'count', len(count)\n",
    "\n",
    "    if len(count) > 1:\n",
    "        top_N = count.most_common(100)\n",
    "        \n",
    "        words, cnt = zip(*top_N)\n",
    "        tot = sum(cnt)\n",
    "        hz_fq = [float(i)*1.0/tot for i in cnt]\n",
    "        dictionary = dict(zip(words, hz_fq))\n",
    "        \n",
    "        #print 'going ---'\n",
    "        #*words, cnt = zip(*top_200)\n",
    "        #return dict(zip(words, cnt))\n",
    "        return dictionary\n",
    "    else:\n",
    "        #print 'warning'\n",
    "        return None"
   ]
  },
  {
   "cell_type": "code",
   "execution_count": 21,
   "metadata": {
    "collapsed": true
   },
   "outputs": [],
   "source": [
    "def map_word2vec_centroid(x):\n",
    "    global model\n",
    "    x = x.items() #dict to tuple\n",
    "    # remove out-of-vocabulary words\n",
    "    doc = [(word, fq) for word, fq in x if word in model.vocab]   \n",
    "    if len(doc) == 0:\n",
    "        #print x\n",
    "        return None\n",
    "    #words, fq = zip(*doc)\n",
    "    ret = [model[x] * y for x, y in doc]\n",
    "    \n",
    "    val = np.mean(ret, axis=0)\n",
    "    #print ret\n",
    "    \n",
    "    #doc = [word for word in doc if word in word2vec_model.vocab]\n",
    "    return val"
   ]
  },
  {
   "cell_type": "code",
   "execution_count": 35,
   "metadata": {
    "collapsed": true
   },
   "outputs": [],
   "source": [
    "def map_ft_sk_centroid(x):\n",
    "    global sk_model\n",
    "    x = x.items() #dict to tuple\n",
    "    # remove out-of-vocabulary words\n",
    "    doc = [(word, fq) for word, fq in x if word in sk_model.words]   \n",
    "    if len(doc) == 0:\n",
    "        #print x\n",
    "        return None\n",
    "    #words, fq = zip(*doc)\n",
    "    ret = [np.array(sk_model[x]) * y for x, y in doc]\n",
    "    \n",
    "    val = np.mean(ret, axis=0)\n",
    "    #print ret\n",
    "    \n",
    "    #doc = [word for word in doc if word in word2vec_model.vocab]\n",
    "    return val"
   ]
  },
  {
   "cell_type": "code",
   "execution_count": 36,
   "metadata": {
    "collapsed": true
   },
   "outputs": [],
   "source": [
    "def map_sk_cb_centroid(x):\n",
    "    global cb_model\n",
    "    x = x.items() #dict to tuple\n",
    "    # remove out-of-vocabulary words\n",
    "    doc = [(word, fq) for word, fq in x if word in cb_model.words]   \n",
    "    if len(doc) == 0:\n",
    "        #print x\n",
    "        return None\n",
    "    #words, fq = zip(*doc)\n",
    "    ret = [np.array(cb_model[x]) * y for x, y in doc]\n",
    "    \n",
    "    val = np.mean(ret, axis=0)\n",
    "    #print ret\n",
    "    \n",
    "    #doc = [word for word in doc if word in word2vec_model.vocab]\n",
    "    return val"
   ]
  },
  {
   "cell_type": "code",
   "execution_count": 26,
   "metadata": {
    "collapsed": true
   },
   "outputs": [],
   "source": [
    "def map_unserialize (x, eval_val = False):\n",
    "    #print '----- in'\n",
    "    #print x\n",
    "    d = dict()\n",
    "    s = x.strip('{}')\n",
    "    #s = s.strip('[]')\n",
    "    ret = s.split(',')\n",
    "    \n",
    "    #print ret\n",
    "    for t in ret:\n",
    "        r = t.split(':')\n",
    "        #print r[0], r[1]\n",
    "        key = eval(r[0].decode('utf-8'))\n",
    "        d[key] = float(r[1])\n",
    "    #print len(ret)\n",
    "    #print 'split -----'\n",
    "    #print ' '.join(ret)\n",
    "    return d"
   ]
  },
  {
   "cell_type": "code",
   "execution_count": 27,
   "metadata": {
    "collapsed": true
   },
   "outputs": [],
   "source": [
    "df.info()"
   ]
  },
  {
   "cell_type": "code",
   "execution_count": 28,
   "metadata": {
    "collapsed": true
   },
   "outputs": [],
   "source": [
    "t0 = time()\n",
    "df['words_fq'] = df.content_seg.map(lambda x: map_words_fq(x))\n",
    "#df['words_fq'] = df.s_vec.map(lambda x: map_unserialize(x))\n",
    "print time() - t0 "
   ]
  },
  {
   "cell_type": "code",
   "execution_count": 29,
   "metadata": {
    "collapsed": true
   },
   "outputs": [],
   "source": [
    "df = df.dropna(subset =['words_fq'])"
   ]
  },
  {
   "cell_type": "code",
   "execution_count": 30,
   "metadata": {},
   "outputs": [
    {
     "data": {
      "text/plain": [
       "28.701828002929688"
      ]
     },
     "execution_count": 30,
     "metadata": {},
     "output_type": "execute_result"
    }
   ],
   "source": [
    "t0 = time()\n",
    "df['w2v_centroid'] = df.words_fq.map(lambda x: map_word2vec_centroid(x))\n",
    "time() - t0"
   ]
  },
  {
   "cell_type": "code",
   "execution_count": 37,
   "metadata": {},
   "outputs": [
    {
     "data": {
      "text/plain": [
       "95.03109502792358"
      ]
     },
     "execution_count": 37,
     "metadata": {},
     "output_type": "execute_result"
    }
   ],
   "source": [
    "t0 = time()\n",
    "df['sk_centroid'] = df.words_fq.map(lambda x: map_ft_sk_centroid(x))\n",
    "time() - t0"
   ]
  },
  {
   "cell_type": "code",
   "execution_count": null,
   "metadata": {
    "collapsed": true
   },
   "outputs": [],
   "source": []
  },
  {
   "cell_type": "code",
   "execution_count": 26,
   "metadata": {},
   "outputs": [
    {
     "data": {
      "text/html": [
       "<div>\n",
       "<table border=\"1\" class=\"dataframe\">\n",
       "  <thead>\n",
       "    <tr style=\"text-align: right;\">\n",
       "      <th></th>\n",
       "      <th>url</th>\n",
       "      <th>domain</th>\n",
       "      <th>title</th>\n",
       "      <th>content</th>\n",
       "      <th>content_seg</th>\n",
       "      <th>words_fq</th>\n",
       "      <th>w2v_centroid</th>\n",
       "    </tr>\n",
       "  </thead>\n",
       "  <tbody>\n",
       "    <tr>\n",
       "      <th>0</th>\n",
       "      <td>http://cul.anhuinews.com/system/2016/11/28/007...</td>\n",
       "      <td>anhuinews.com</td>\n",
       "      <td>洪建华夫妇的竹刻人生</td>\n",
       "      <td>谁能想到，洪建华夫妇这对一无学历、二无家传、三无师承的“三无大师”成了省级非物质文化遗产·徽...</td>\n",
       "      <td>谁 能 想到 ， 洪 建华 夫妇 这 对 一 无 学历 、 二 无 家传 、 三无 师承 的...</td>\n",
       "      <td>{u'艺术馆': 0.00445434298441, u'以来': 0.0066815144...</td>\n",
       "      <td>[-0.00344339, -0.00581077, 0.00216269, -0.0011...</td>\n",
       "    </tr>\n",
       "    <tr>\n",
       "      <th>1</th>\n",
       "      <td>http://cul.anhuinews.com/system/2016/11/21/007...</td>\n",
       "      <td>anhuinews.com</td>\n",
       "      <td>徽州民歌传人操明花校园授艺</td>\n",
       "      <td>近日，省非物质文化遗产徽州民歌传承人操明花前往休宁县海阳二小、歙县城关小学和徽州区岩寺镇中心...</td>\n",
       "      <td>近日 ， 省非 物质 文化遗产 徽州 民歌 传承 人操 明花 前往 休宁县 海阳 二小 、 ...</td>\n",
       "      <td>{u'传来': 0.00806451612903, u'小学': 0.00806451612...</td>\n",
       "      <td>[-0.00463216, 0.00496158, 0.00203924, 0.000965...</td>\n",
       "    </tr>\n",
       "    <tr>\n",
       "      <th>2</th>\n",
       "      <td>http://cul.anhuinews.com/system/2016/11/03/007...</td>\n",
       "      <td>anhuinews.com</td>\n",
       "      <td>黄山楹联漫谈</td>\n",
       "      <td>黄山楹联第一人当推明朝诗人余绍祉。他遍历祖国名山大川，见到无数奇峰怪石，却感到抵不上黄山峰林...</td>\n",
       "      <td>黄山 楹联 第一 人当 推 明朝 诗人 余绍祉 。 他 遍历 祖国 名山大川 ， 见到 无数...</td>\n",
       "      <td>{u'气派': 0.00763358778626, u'名句': 0.00763358778...</td>\n",
       "      <td>[-0.00371836, -0.00609779, 0.00594129, -0.0041...</td>\n",
       "    </tr>\n",
       "    <tr>\n",
       "      <th>3</th>\n",
       "      <td>http://cul.anhuinews.com/system/2016/01/26/007...</td>\n",
       "      <td>anhuinews.com</td>\n",
       "      <td>徽派雕刻——徽州木雕艺术</td>\n",
       "      <td>徽州民居、家具木板和圆木雕刻艺术的简称。木雕在旧属徽州各县分布之广在全国屈指可数，宅院内的屏...</td>\n",
       "      <td>徽州 民居 、 家具 木板 和 圆木 雕刻 艺术 的 简称 。 木雕 在 旧属 徽州 各县 ...</td>\n",
       "      <td>{u'吉祥图案': 0.0131578947368, u'少数': 0.0131578947...</td>\n",
       "      <td>[-0.0105879, -0.00692919, 0.00676165, -0.00754...</td>\n",
       "    </tr>\n",
       "    <tr>\n",
       "      <th>4</th>\n",
       "      <td>http://cul.anhuinews.com/system/2016/01/26/007...</td>\n",
       "      <td>anhuinews.com</td>\n",
       "      <td>徽派雕刻——徽州砖雕艺术</td>\n",
       "      <td>徽州砖雕徽州砖雕的造型，来源于汉画象砖。汉画象砖大都是模印砖坯刻画后入密烧制，嵌窃时再进行修...</td>\n",
       "      <td>徽州 砖雕 徽州 砖雕 的 造型 ， 来源于 汉 画象 砖 。 汉 画象 砖 大都 是 模印...</td>\n",
       "      <td>{u'要求': 0.00704225352113, u'厅': 0.007042253521...</td>\n",
       "      <td>[-0.00440875, -0.00674634, 0.00619312, -0.0053...</td>\n",
       "    </tr>\n",
       "    <tr>\n",
       "      <th>5</th>\n",
       "      <td>http://cul.anhuinews.com/system/2016/01/26/007...</td>\n",
       "      <td>anhuinews.com</td>\n",
       "      <td>徽派雕刻——徽州石雕艺术</td>\n",
       "      <td>传统“徽州四雕”之一。在徽州城乡布很广，类别亦多，主要用于寺宅的廊柱、门墙、牌坊、墓葬等处的...</td>\n",
       "      <td>传统 “ 徽州 四雕 ” 之一 。 在 徽州 城乡 布 很 广 ， 类别 亦 多 ， 主要 ...</td>\n",
       "      <td>{u'内': 0.00574712643678, u'旁有': 0.005747126436...</td>\n",
       "      <td>[-0.00890975, -0.00571684, 0.00625852, -0.0064...</td>\n",
       "    </tr>\n",
       "    <tr>\n",
       "      <th>6</th>\n",
       "      <td>http://cul.anhuinews.com/system/2016/01/26/007...</td>\n",
       "      <td>anhuinews.com</td>\n",
       "      <td>徽州古民居雕刻装饰研究</td>\n",
       "      <td>徽州因明清两朝的繁盛而在历史上留下浓墨重彩的一笔，建筑就是那个时代的重要表现之一。当时的徽商...</td>\n",
       "      <td>徽州 因 明清 两朝 的 繁盛 而 在历史上 留下 浓墨重彩 的 一笔 ， 建筑 就是 那个...</td>\n",
       "      <td>{u'三绝': 0.0045871559633, u'三回': 0.004587155963...</td>\n",
       "      <td>[-0.00875431, -0.00461302, 0.00975966, -0.0066...</td>\n",
       "    </tr>\n",
       "    <tr>\n",
       "      <th>7</th>\n",
       "      <td>http://cul.anhuinews.com/system/2016/01/26/007...</td>\n",
       "      <td>anhuinews.com</td>\n",
       "      <td>徽派雕刻——忆千年沧桑，探秘西递牌楼</td>\n",
       "      <td>西递位于安徽省黄山市黟县城东8公里处，因地处古徽州府之西，曾设驿站“铺递所”而得名。作为唐李...</td>\n",
       "      <td>西递 位于 安徽省 黄山市 黟县 城东 8 公里 处 ， 因 地处 古 徽州 府 之西 ， ...</td>\n",
       "      <td>{u'融入': 0.00444444444444, u'退': 0.004444444444...</td>\n",
       "      <td>[-0.00429807, -0.00572776, 0.00395334, -0.0065...</td>\n",
       "    </tr>\n",
       "    <tr>\n",
       "      <th>8</th>\n",
       "      <td>http://cul.anhuinews.com/system/2014/07/16/006...</td>\n",
       "      <td>anhuinews.com</td>\n",
       "      <td>谭笔戏墨</td>\n",
       "      <td>文房四宝之一的毛笔品类中，宣笔自然是大名鼎鼎。可你知道吗，安徽还有一个地方的毛笔丝毫不亚于宣...</td>\n",
       "      <td>文房四宝 之一 的 毛笔 品类 中 ， 宣笔 自然 是 大名鼎鼎 。 可 你 知道 吗 ， ...</td>\n",
       "      <td>{u'好几百年': 0.00666666666667, u'自然': 0.006666666...</td>\n",
       "      <td>[-0.00279577, -0.000962309, -0.00243313, -0.00...</td>\n",
       "    </tr>\n",
       "    <tr>\n",
       "      <th>9</th>\n",
       "      <td>http://cul.anhuinews.com/system/2014/07/16/006...</td>\n",
       "      <td>anhuinews.com</td>\n",
       "      <td>飞虹横卧庐州城（二）</td>\n",
       "      <td>那时人们要想从大东门出城，必须要守城的兵勇放下吊桥，来来往往煞是费事。到了清朝晚期，李鸿章的...</td>\n",
       "      <td>那时 人们 要 想 从 大 东门 出 城 ， 必须 要 守城 的 兵勇 放下 吊桥 ， 来来...</td>\n",
       "      <td>{u'买卖': 0.00793650793651, u'胞弟': 0.00793650793...</td>\n",
       "      <td>[-0.00264663, -0.0061449, -0.00528977, -0.0031...</td>\n",
       "    </tr>\n",
       "    <tr>\n",
       "      <th>10</th>\n",
       "      <td>http://cul.anhuinews.com/system/2014/07/15/006...</td>\n",
       "      <td>anhuinews.com</td>\n",
       "      <td>体古法之功具时法之新——吴前琪书法漫谈</td>\n",
       "      <td>吴前琪是近来在书坛崛起的一位实力派青年书法家。近几年来，他持续的在各类“国展”中获奖、入展，...</td>\n",
       "      <td>吴前琪 是 近来 在 书坛 崛起 的 一位 实力派 青年 书法家 。 近几年来 ， 他 持续...</td>\n",
       "      <td>{u'青年': 0.00769230769231, u'特别': 0.01538461538...</td>\n",
       "      <td>[-0.00387532, -0.00239613, 0.0038881, -0.00198...</td>\n",
       "    </tr>\n",
       "    <tr>\n",
       "      <th>11</th>\n",
       "      <td>http://cul.anhuinews.com/system/2014/07/14/006...</td>\n",
       "      <td>anhuinews.com</td>\n",
       "      <td>松萝茶被窃秘史</td>\n",
       "      <td>1842-1845年间，福钧曾作为伦敦园艺会领导人在中国待过一段时间。在旅居中国的日子里，他...</td>\n",
       "      <td>1842 - 1845 年间 ， 福钧 曾 作为 伦敦 园艺 会 领导人 在 中国 待过 一...</td>\n",
       "      <td>{u'一切': 0.00645161290323, u'西方': 0.00645161290...</td>\n",
       "      <td>[-0.00136587, -0.00202945, -0.00360785, 4.7713...</td>\n",
       "    </tr>\n",
       "    <tr>\n",
       "      <th>12</th>\n",
       "      <td>http://cul.anhuinews.com/system/2014/07/14/006...</td>\n",
       "      <td>anhuinews.com</td>\n",
       "      <td>徽派雕刻——古老徽州明清建筑中木雕艺术</td>\n",
       "      <td>近年来国内及欧美、日本、东南亚等地建筑学界的学者和其他方面的专家来徽州考察三雕艺术与古建筑者...</td>\n",
       "      <td>近年来 国内 及 欧美 、 日本 、 东南亚 等 地 建筑 学界 的 学者 和 其他 方面 ...</td>\n",
       "      <td>{u'遐想': 0.00862068965517, u'形式': 0.00862068965...</td>\n",
       "      <td>[-0.0031122, 0.000730394, 0.00168395, -0.00203...</td>\n",
       "    </tr>\n",
       "    <tr>\n",
       "      <th>13</th>\n",
       "      <td>http://cul.anhuinews.com/system/2014/07/11/006...</td>\n",
       "      <td>anhuinews.com</td>\n",
       "      <td>徽州为什么称为“文献之邦”</td>\n",
       "      <td>徽州作为极具特色的地域文化区，在宋代就已经基本形成。明代以来徽商迅速崛起，更加有力的推动了教...</td>\n",
       "      <td>徽州 作为 极具 特色 的 地域 文化区 ， 在 宋代 就 已经 基本 形成 。 明代 以来...</td>\n",
       "      <td>{u'宋代': 0.00990099009901, u'孤本': 0.00990099009...</td>\n",
       "      <td>[-0.00642567, -0.0134675, 0.00301548, -0.00521...</td>\n",
       "    </tr>\n",
       "    <tr>\n",
       "      <th>14</th>\n",
       "      <td>http://cul.anhuinews.com/system/2014/07/10/006...</td>\n",
       "      <td>anhuinews.com</td>\n",
       "      <td>飞虹横卧庐州城(一)</td>\n",
       "      <td>古庐州从地理位置上看，雄踞长江、淮河之间，历史上是河汊密布，小桥流水。城里是百步一桥，城外是...</td>\n",
       "      <td>古 庐州 从 地理位置 上 看 ， 雄踞 长江 、 淮河 之间 ， 历史 上 是 河 汊 密...</td>\n",
       "      <td>{u'城门': 0.00561797752809, u'平定': 0.00561797752...</td>\n",
       "      <td>[-0.000876358, -0.00515002, 0.00196757, -0.001...</td>\n",
       "    </tr>\n",
       "    <tr>\n",
       "      <th>15</th>\n",
       "      <td>http://cul.anhuinews.com/system/2014/07/10/006...</td>\n",
       "      <td>anhuinews.com</td>\n",
       "      <td>新安医学：新安郑氏喉科学术著作学术特色</td>\n",
       "      <td>新安郑氏喉科，指《中医大辞典》收载的郑梅涧、郑枢扶等8位新安郑氏医家为代表的家族医学人才链，...</td>\n",
       "      <td>新安 郑氏 喉科 ， 指 《 中医 大辞典 》 收载 的 郑梅 涧 、 郑枢 扶 等 8 位...</td>\n",
       "      <td>{u'双桥': 0.00606060606061, u'轻以': 0.00606060606...</td>\n",
       "      <td>[-0.00398206, -0.00591254, 0.00425047, -0.0020...</td>\n",
       "    </tr>\n",
       "    <tr>\n",
       "      <th>16</th>\n",
       "      <td>http://cul.anhuinews.com/system/2014/07/07/006...</td>\n",
       "      <td>anhuinews.com</td>\n",
       "      <td>徽州文化:全国唯一的女祠堂——清懿堂</td>\n",
       "      <td>祠堂作为封建宗法制度下同族人共同祭祀祖先的房屋，向为男人的圣殿。他们在这里决议族中大事、惩罚...</td>\n",
       "      <td>祠堂 作为 封建 宗法制度 下同 族人 共同 祭祀 祖先 的 房屋 ， 向 为 男人 的 圣...</td>\n",
       "      <td>{u'两全': 0.0078125, u'如同': 0.0078125, u'圣殿': 0....</td>\n",
       "      <td>[-0.00503494, -0.00639154, 0.00770621, -0.0081...</td>\n",
       "    </tr>\n",
       "    <tr>\n",
       "      <th>17</th>\n",
       "      <td>http://cul.anhuinews.com/system/2014/07/07/006...</td>\n",
       "      <td>anhuinews.com</td>\n",
       "      <td>华夏文明的圣火——皋陶文化</td>\n",
       "      <td>“五帝、三王、皋陶、孔子，人之圣也。”皋陶与尧、舜、禹齐名被后人尊为“上古四圣”。唐玄宗以李...</td>\n",
       "      <td>“ 五帝 、 三王 、 皋陶 、 孔子 ， 人之圣 也 。 ” 皋陶 与 尧 、 舜 、 禹...</td>\n",
       "      <td>{u'虽然': 0.00613496932515, u'仁者': 0.00613496932...</td>\n",
       "      <td>[-0.00859574, -0.00844349, 0.0023106, -0.00575...</td>\n",
       "    </tr>\n",
       "    <tr>\n",
       "      <th>18</th>\n",
       "      <td>http://cul.anhuinews.com/system/2014/07/02/006...</td>\n",
       "      <td>anhuinews.com</td>\n",
       "      <td>桐城派的三个时期——初创、兴盛、末流</td>\n",
       "      <td>初创时期时间为清康熙、乾隆年间，代表人物有戴名世、方苞、刘大櫆。明代中叶以后，桐城学术兴起，...</td>\n",
       "      <td>初创 时期 时间 为 清康熙 、 乾隆年间 ， 代表 人物 有 戴名世 、 方苞 、 刘大 ...</td>\n",
       "      <td>{u'统统': 0.00714285714286, u'岁': 0.007142857142...</td>\n",
       "      <td>[0.000849688, -0.0104446, 0.00760046, -0.00826...</td>\n",
       "    </tr>\n",
       "    <tr>\n",
       "      <th>19</th>\n",
       "      <td>http://cul.anhuinews.com/system/2014/06/30/006...</td>\n",
       "      <td>anhuinews.com</td>\n",
       "      <td>漫漫古皖道</td>\n",
       "      <td>千百年来，皖山皖水之间，蜿蜒着一条南北交通要道——古皖道。它是连接安庆府与六安州的一条官道、...</td>\n",
       "      <td>千百年来 ， 皖山皖 水 之间 ， 蜿蜒 着 一条 南北 交通要道 — — 古皖 道 。 它...</td>\n",
       "      <td>{u'诗篇': 0.00657894736842, u'非凡地': 0.0065789473...</td>\n",
       "      <td>[-0.00301125, -0.00525619, -0.00106887, -0.002...</td>\n",
       "    </tr>\n",
       "    <tr>\n",
       "      <th>20</th>\n",
       "      <td>http://cul.anhuinews.com/system/2014/06/26/006...</td>\n",
       "      <td>anhuinews.com</td>\n",
       "      <td>安徽省非物质文化遗产：砖雕、石雕、木雕</td>\n",
       "      <td>古代徽州辖地包括今天的安徽省黄山市和江西省婺源县。\"徽州三雕\"为古代徽州地区明清建筑的装饰性...</td>\n",
       "      <td>古代 徽州 辖 地 包括 今天 的 安徽省 黄山市 和 江西省 婺源县 。 \" 徽州 三雕 ...</td>\n",
       "      <td>{u'三雕': 0.03125, u'庙宇': 0.0078125, u'园林': 0.00...</td>\n",
       "      <td>[-0.0111073, -0.00874724, 0.003553, -0.0059979...</td>\n",
       "    </tr>\n",
       "    <tr>\n",
       "      <th>21</th>\n",
       "      <td>http://cul.anhuinews.com/system/2014/06/26/006...</td>\n",
       "      <td>anhuinews.com</td>\n",
       "      <td>徽州文化中的烟文化</td>\n",
       "      <td>徽州文化的内容包罗万象，如徽州土地制度、徽商、徽州历史名人、徽州科技、新安理学、新安医学、徽...</td>\n",
       "      <td>徽州 文化 的 内容 包罗万象 ， 如 徽州 土地 制度 、 徽商 、 徽州 历史名人 、 ...</td>\n",
       "      <td>{u'理应': 0.00662251655629, u'加工': 0.01324503311...</td>\n",
       "      <td>[-0.008026, -0.00875263, 0.00268622, -0.006319...</td>\n",
       "    </tr>\n",
       "    <tr>\n",
       "      <th>22</th>\n",
       "      <td>http://cul.anhuinews.com/system/2014/06/26/006...</td>\n",
       "      <td>anhuinews.com</td>\n",
       "      <td>合肥火笔画</td>\n",
       "      <td>\"火笔画\"，又称烙画、烫画，起源于西汉，兴盛于东汉宫廷，距今已有两千多年的历史。后来由于连年...</td>\n",
       "      <td>\" 火 笔画 \" ， 又称 烙画 、 烫 画 ， 起源于 西汉 ， 兴盛 于 东汉 宫廷 ，...</td>\n",
       "      <td>{u'作笔': 0.0077519379845, u'国内外': 0.00775193798...</td>\n",
       "      <td>[-0.00288183, -0.00493614, 0.000161223, -0.003...</td>\n",
       "    </tr>\n",
       "    <tr>\n",
       "      <th>23</th>\n",
       "      <td>http://cul.anhuinews.com/system/2014/06/24/006...</td>\n",
       "      <td>anhuinews.com</td>\n",
       "      <td>论“桐城派”</td>\n",
       "      <td>古云师法，无所谓宗派者，有之，自宋吕居仁江西宗派图始。然?蛔嫒??之说，山谷、后山、简斋，尚...</td>\n",
       "      <td>古云 师法 ， 无所谓 宗派 者 ， 有 之 ， 自宋 吕居仁 江西 宗派 图始 。 然 ?...</td>\n",
       "      <td>{u'愈甚': 0.00793650793651, u'不知': 0.00793650793...</td>\n",
       "      <td>[0.00163146, -0.00550071, 0.00572871, -0.00531...</td>\n",
       "    </tr>\n",
       "    <tr>\n",
       "      <th>24</th>\n",
       "      <td>http://cul.anhuinews.com/system/2014/06/19/006...</td>\n",
       "      <td>anhuinews.com</td>\n",
       "      <td>徽州的天井文化</td>\n",
       "      <td>走进徽州静谧的古村落，仰看峰头丛林滴翠，俯听涧底细语泉声，脚踏流金岁月蚀磨的石板，穿过似乎与...</td>\n",
       "      <td>走进 徽州 静谧 的 古村落 ， 仰看 峰头 丛林 滴翠 ， 俯听 涧 底细 语泉声 ， 脚...</td>\n",
       "      <td>{u'排水': 0.00793650793651, u'显示': 0.00793650793...</td>\n",
       "      <td>[-0.00399345, -0.00308989, 0.00210756, -0.0011...</td>\n",
       "    </tr>\n",
       "    <tr>\n",
       "      <th>25</th>\n",
       "      <td>http://cul.anhuinews.com/system/2014/06/19/006...</td>\n",
       "      <td>anhuinews.com</td>\n",
       "      <td>马头墙内外的徽州女人</td>\n",
       "      <td>安徽南端的徽州地域，黄山白岳新安江山水秀美，在蓝天白云绿水青山掩映之中，徽州古村落高低起伏、...</td>\n",
       "      <td>安徽 南端 的 徽州 地域 ， 黄山 白岳 新安江 山水 秀美 ， 在 蓝天白云 绿水青山 ...</td>\n",
       "      <td>{u'信条': 0.00625, u'丰碑': 0.00625, u'坚守': 0.0062...</td>\n",
       "      <td>[-0.011566, -0.00234759, 0.00967347, -0.002854...</td>\n",
       "    </tr>\n",
       "    <tr>\n",
       "      <th>26</th>\n",
       "      <td>http://cul.anhuinews.com/system/2014/06/17/006...</td>\n",
       "      <td>anhuinews.com</td>\n",
       "      <td>精雕细刻铸华章——记徽雕艺术家曹篁生</td>\n",
       "      <td>年近40的曹篁生出生于古徽州的一个徽雕世家。初见面时，视线便被他那一双手所吸引：修长，但有力...</td>\n",
       "      <td>年近 40 的 曹篁 生出 生于 古 徽州 的 一个 徽雕 世家 。 初 见面 时 ， 视线...</td>\n",
       "      <td>{u'娴熟': 0.00680272108844, u'眉毛': 0.00680272108...</td>\n",
       "      <td>[-0.00407168, -0.00157674, 0.000820663, 0.0010...</td>\n",
       "    </tr>\n",
       "    <tr>\n",
       "      <th>27</th>\n",
       "      <td>http://cul.anhuinews.com/system/2014/06/17/006...</td>\n",
       "      <td>anhuinews.com</td>\n",
       "      <td>徽派版画：镌印艺术传奇</td>\n",
       "      <td>徽派版画发端于中唐，崛起于明清，作为受到刻书影响而形成的艺术流派，徽派版画文人意趣与民间装饰...</td>\n",
       "      <td>徽派 版画 发端 于 中 唐 ， 崛起 于 明清 ， 作为 受到 刻书 影响 而 形成 的 ...</td>\n",
       "      <td>{u'为什么': 0.0054347826087, u'认可': 0.00543478260...</td>\n",
       "      <td>[-0.00706249, -0.00872592, 0.00498708, -0.0064...</td>\n",
       "    </tr>\n",
       "    <tr>\n",
       "      <th>28</th>\n",
       "      <td>http://cul.anhuinews.com/system/2014/06/17/006...</td>\n",
       "      <td>anhuinews.com</td>\n",
       "      <td>新安理学</td>\n",
       "      <td>新安理学是中国思想史上曾起过重大影响的学派，而在新安的传播和影响尤深，世称“新安理学”。其奠...</td>\n",
       "      <td>新安 理学 是 中国 思想史 上 曾 起过 重大 影响 的 学派 ， 而 在 新安 的 传播...</td>\n",
       "      <td>{u'成就': 0.0062893081761, u'书传纂': 0.00628930817...</td>\n",
       "      <td>[-0.00830154, -0.00808976, 0.00841902, -0.0082...</td>\n",
       "    </tr>\n",
       "    <tr>\n",
       "      <th>29</th>\n",
       "      <td>http://cul.anhuinews.com/system/2014/06/12/006...</td>\n",
       "      <td>anhuinews.com</td>\n",
       "      <td>文脉蜿蜒拓徽州</td>\n",
       "      <td>流经皖南山区，长度不足300公里的新安江，是中国大地颇具传奇色彩的河流。由于重视文化教育，这...</td>\n",
       "      <td>流经 皖南 山区 ， 长度 不足 300 公里 的 新安江 ， 是 中国 大地 颇具 传奇色...</td>\n",
       "      <td>{u'明清': 0.0125, u'徽州': 0.0125, u'建筑': 0.0125, ...</td>\n",
       "      <td>[-0.0127515, -0.00901786, 0.00444339, -0.00764...</td>\n",
       "    </tr>\n",
       "    <tr>\n",
       "      <th>...</th>\n",
       "      <td>...</td>\n",
       "      <td>...</td>\n",
       "      <td>...</td>\n",
       "      <td>...</td>\n",
       "      <td>...</td>\n",
       "      <td>...</td>\n",
       "      <td>...</td>\n",
       "    </tr>\n",
       "    <tr>\n",
       "      <th>70</th>\n",
       "      <td>http://cul.anhuinews.com/system/2016/02/05/007...</td>\n",
       "      <td>anhuinews.com</td>\n",
       "      <td>安徽各地年夜饭风俗</td>\n",
       "      <td>大年三十晚上十二点后，“守岁”的人们都关上了大门。当地风俗是，关上大门后就不能再开了，即使外...</td>\n",
       "      <td>大年三十 晚上 十二点 后 ， “ 守岁 ” 的 人们 都 关上 了 大门 。 当地 风俗 ...</td>\n",
       "      <td>{u'宿松': 0.0188679245283, u'一切': 0.003773584905...</td>\n",
       "      <td>[-0.00555932, 0.00186753, -0.00339953, 0.00394...</td>\n",
       "    </tr>\n",
       "    <tr>\n",
       "      <th>71</th>\n",
       "      <td>http://cul.anhuinews.com/system/2016/02/05/007...</td>\n",
       "      <td>anhuinews.com</td>\n",
       "      <td>过去的年味：腊月说“腊”</td>\n",
       "      <td>腊月，我国农历第十二个月的别称。农历十二月为何又叫“腊月”？这里面可是名堂多多，说起来都与祭...</td>\n",
       "      <td>腊月 ， 我国 农历 第十二个 月 的 别称 。 农历 十二月 为何 又 叫 “ 腊月 ” ...</td>\n",
       "      <td>{u'豆子': 0.00531914893617, u'晒干': 0.00531914893...</td>\n",
       "      <td>[-0.00349209, -0.00447343, 0.0021861, -0.00499...</td>\n",
       "    </tr>\n",
       "    <tr>\n",
       "      <th>72</th>\n",
       "      <td>http://cul.anhuinews.com/system/2016/02/05/007...</td>\n",
       "      <td>anhuinews.com</td>\n",
       "      <td>人趋似堵墙 归来寻坠珥——老婆歌</td>\n",
       "      <td>上世纪二三十年代在我县庄墓以及寿县大顺、邵店、李山、炎刘的乡间小道村头稻场常可看到两个头扎青...</td>\n",
       "      <td>上 世纪 二三十 年代 在 我 县 庄墓 以及 寿县 大顺 、 邵店 、 李山 、 炎 刘 ...</td>\n",
       "      <td>{u'二三十': 0.0062893081761, u'事': 0.006289308176...</td>\n",
       "      <td>[-0.000460201, -0.000448291, -0.000678325, 0.0...</td>\n",
       "    </tr>\n",
       "    <tr>\n",
       "      <th>73</th>\n",
       "      <td>http://cul.anhuinews.com/system/2016/02/05/007...</td>\n",
       "      <td>anhuinews.com</td>\n",
       "      <td>那些远去的庐阳端午习俗</td>\n",
       "      <td>端午节是中国古老的传统节日，因此民间过端午节是颇为隆重的，除去赛龙舟、悬艾草、佩香囊、吃粽子...</td>\n",
       "      <td>端午节 是 中国 古老 的 传统节日 ， 因此 民间 过 端午节 是 颇为 隆重 的 ， 除...</td>\n",
       "      <td>{u'旧时': 0.0118577075099, u'悬挂': 0.003952569169...</td>\n",
       "      <td>[-0.00531869, 0.0013019, 6.02074e-05, -0.00291...</td>\n",
       "    </tr>\n",
       "    <tr>\n",
       "      <th>74</th>\n",
       "      <td>http://cul.anhuinews.com/system/2016/02/05/007...</td>\n",
       "      <td>anhuinews.com</td>\n",
       "      <td>供奉灶君：“过小年”的思考</td>\n",
       "      <td>进入农历腊月，大年已近在咫尺。常言道：“二十三，过小年”，从二十三开始，到除夕也就一周时间，...</td>\n",
       "      <td>进入 农历 腊月 ， 大年 已 近在咫尺 。 常言道 ： “ 二十三 ， 过小年 ” ， 从...</td>\n",
       "      <td>{u'言': 0.00558659217877, u'特别': 0.005586592178...</td>\n",
       "      <td>[-0.00283209, 0.00115915, 0.00124625, -0.00171...</td>\n",
       "    </tr>\n",
       "    <tr>\n",
       "      <th>75</th>\n",
       "      <td>http://cul.anhuinews.com/system/2016/02/05/007...</td>\n",
       "      <td>anhuinews.com</td>\n",
       "      <td>旧记忆：灰青色的瓦屋</td>\n",
       "      <td>每回一次老家，总会有些感叹。感叹最多的是村中一栋栋陈旧瓦屋渐渐减少，取而代之的是幢幢红砖平顶...</td>\n",
       "      <td>每回 一次 老家 ， 总会 有些 感叹 。 感叹 最多 的 是 村 中 一栋栋 陈旧 瓦屋 ...</td>\n",
       "      <td>{u'不知': 0.00568181818182, u'肌肤': 0.00568181818...</td>\n",
       "      <td>[-0.000163541, 0.00226543, -0.00261312, 0.0026...</td>\n",
       "    </tr>\n",
       "    <tr>\n",
       "      <th>76</th>\n",
       "      <td>http://cul.anhuinews.com/system/2016/02/05/007...</td>\n",
       "      <td>anhuinews.com</td>\n",
       "      <td>徽州老风俗：过年听说书</td>\n",
       "      <td>儿时，过年说书是一道丰盛的文化大餐。那时候，乡下没有电影，更没有电视，也没有如今的送电影送戏...</td>\n",
       "      <td>儿时 ， 过年 说书 是 一道 丰盛 的 文化 大餐 。 那 时候 ， 乡下 没有 电影 ，...</td>\n",
       "      <td>{u'瞅': 0.0155642023346, u'悄悄': 0.0038910505836...</td>\n",
       "      <td>[0.000990584, 0.00486641, 0.00247087, 0.003682...</td>\n",
       "    </tr>\n",
       "    <tr>\n",
       "      <th>77</th>\n",
       "      <td>http://cul.anhuinews.com/system/2016/02/03/007...</td>\n",
       "      <td>anhuinews.com</td>\n",
       "      <td>老手艺：定远花布印染</td>\n",
       "      <td>由于池河是我县古镇之一，水陆交通便利，是手工业巧匠聚集之地。花布印染历史悠久，具体传入我县已...</td>\n",
       "      <td>由于 池河 是 我 县 古镇 之一 ， 水陆交通 便利 ， 是 手工业 巧匠 聚集 之地 。...</td>\n",
       "      <td>{u'白地': 0.024, u'传入': 0.008, u'成': 0.008, u'后人...</td>\n",
       "      <td>[-0.00228636, -0.00313868, 0.00142134, -0.0018...</td>\n",
       "    </tr>\n",
       "    <tr>\n",
       "      <th>78</th>\n",
       "      <td>http://cul.anhuinews.com/system/2016/02/03/007...</td>\n",
       "      <td>anhuinews.com</td>\n",
       "      <td>老风俗：定远令狐塔庙会</td>\n",
       "      <td>藕塘令狐山位于定远县东南的皇甫山西麓，历史悠久，后汉时期这里亦有寺庙。据说令狐子伯青年时避难...</td>\n",
       "      <td>藕 塘 令狐 山 位于 定远县 东南 的 皇甫 山西 麓 ， 历史悠久 ， 后汉 时期 这里...</td>\n",
       "      <td>{u'东南': 0.00666666666667, u'受观': 0.00666666666...</td>\n",
       "      <td>[-0.00663463, -0.00314137, 0.00021092, -0.0031...</td>\n",
       "    </tr>\n",
       "    <tr>\n",
       "      <th>79</th>\n",
       "      <td>http://cul.anhuinews.com/system/2016/02/03/007...</td>\n",
       "      <td>anhuinews.com</td>\n",
       "      <td>老习俗：明光三界庙会</td>\n",
       "      <td>三界“都天庙”建于清同治年间，第祭祀唐代大将军张巡而设。“都天”民间意为专祭历急，保一方平安...</td>\n",
       "      <td>三界 “ 都 天庙 ” 建于 清同治 年间 ， 第 祭祀 唐代 大将军 张 巡而设 。 “ ...</td>\n",
       "      <td>{u'便捷': 0.00757575757576, u'黄罗伞': 0.0075757575...</td>\n",
       "      <td>[-0.0045664, -0.000449004, -0.00187076, -0.004...</td>\n",
       "    </tr>\n",
       "    <tr>\n",
       "      <th>80</th>\n",
       "      <td>http://cul.anhuinews.com/system/2016/02/03/007...</td>\n",
       "      <td>anhuinews.com</td>\n",
       "      <td>老手艺：滁菊制作工艺</td>\n",
       "      <td>滁菊，俗称甘菊、白菊，在滁州已有上千年历史，原产滁州市南谯区大柳镇。光绪二十年出版的《滁州志...</td>\n",
       "      <td>滁菊 ， 俗称 甘菊 、 白菊 ， 在 滁州 已有 上千年 历史 ， 原产 滁州市 南谯区 ...</td>\n",
       "      <td>{u'甘菊': 0.018018018018, u'佳': 0.00900900900901...</td>\n",
       "      <td>[-0.0021163, -0.00517277, -0.00231306, -0.0049...</td>\n",
       "    </tr>\n",
       "    <tr>\n",
       "      <th>81</th>\n",
       "      <td>http://cul.anhuinews.com/system/2016/02/03/007...</td>\n",
       "      <td>anhuinews.com</td>\n",
       "      <td>关于宿松民歌《打铁歌》</td>\n",
       "      <td>《打铁歌》是宿松民歌中最有代表性的是一首。它流行范围最广，时间跨度最长，全县男女老少几乎人人...</td>\n",
       "      <td>《 打铁 歌 》 是 宿松 民歌 中 最 有 代表性 的 是 一首 。 它 流行 范围 最广...</td>\n",
       "      <td>{u'宿松': 0.0167364016736, u'薅': 0.0041841004184...</td>\n",
       "      <td>[-0.00266018, -0.00128835, -0.000559221, 0.002...</td>\n",
       "    </tr>\n",
       "    <tr>\n",
       "      <th>82</th>\n",
       "      <td>http://cul.anhuinews.com/system/2016/02/03/007...</td>\n",
       "      <td>anhuinews.com</td>\n",
       "      <td>老物件之木叉：过去摊场翻场堆垛都少不了</td>\n",
       "      <td>在传统的农作物收获季节，广大的农民伯伯把割倒的农作物装上车，把拉到场上的作物摊开晾晒，把碾压...</td>\n",
       "      <td>在 传统 的 农作物 收获 季节 ， 广大 的 农民 伯伯 把 割 倒 的 农作物 装 上车...</td>\n",
       "      <td>{u'趁': 0.00793650793651, u'打场': 0.007936507936...</td>\n",
       "      <td>[-0.000404139, -0.000223079, -0.00142625, 0.00...</td>\n",
       "    </tr>\n",
       "    <tr>\n",
       "      <th>83</th>\n",
       "      <td>http://cul.anhuinews.com/system/2016/02/03/007...</td>\n",
       "      <td>anhuinews.com</td>\n",
       "      <td>老物件之木锨：曾经是脱粒时的必备工具</td>\n",
       "      <td>以前，人们形容收获越来越多、重量越来越大、状态越来越好等情景时，常常使用一条歇后语，叫做“老...</td>\n",
       "      <td>以前 ， 人们 形容 收获 越来越 多 、 重量 越来越 大 、 状态 越来越 好 等 情景...</td>\n",
       "      <td>{u'打场': 0.00735294117647, u'一堆': 0.00735294117...</td>\n",
       "      <td>[-0.00239752, -9.35015e-05, 0.000654194, 0.000...</td>\n",
       "    </tr>\n",
       "    <tr>\n",
       "      <th>84</th>\n",
       "      <td>http://cul.anhuinews.com/system/2016/02/03/007...</td>\n",
       "      <td>anhuinews.com</td>\n",
       "      <td>与棋盘山两两相望的解愠台</td>\n",
       "      <td>与棋盘山两两相望的解愠台，是有十几平方米的两块巨石重叠放置在一起，依稀还能看见解愠台上的古代...</td>\n",
       "      <td>与 棋盘山 两 两 相望 的 解 愠 台 ， 是 有 十几平方米 的 两块 巨石 重叠 放置...</td>\n",
       "      <td>{u'不知': 0.00384615384615, u'风雨': 0.00384615384...</td>\n",
       "      <td>[0.000290299, -0.00345799, 0.00276718, 0.00081...</td>\n",
       "    </tr>\n",
       "    <tr>\n",
       "      <th>85</th>\n",
       "      <td>http://cul.anhuinews.com/system/2016/02/03/007...</td>\n",
       "      <td>anhuinews.com</td>\n",
       "      <td>花山谜窟 古徽州的巨大悬疑</td>\n",
       "      <td>安徽省黄山市拥有众多风景名胜，“天下第一奇山”黄山享誉世界。但是，你可能不知道，就在黄山市屯...</td>\n",
       "      <td>安徽省 黄山市 拥有 众多 风景名胜 ， “ 天下第一 奇山 ” 黄山 享誉 世界 。 但是...</td>\n",
       "      <td>{u'为什么': 0.00887573964497, u'内': 0.01183431952...</td>\n",
       "      <td>[-0.00369413, -0.0140159, -0.000742634, -0.005...</td>\n",
       "    </tr>\n",
       "    <tr>\n",
       "      <th>86</th>\n",
       "      <td>http://cul.anhuinews.com/system/2017/01/04/007...</td>\n",
       "      <td>anhuinews.com</td>\n",
       "      <td>徽州竹刻艺人陈照军 “以刀代笔”在竹皮1毫米下刻神奇</td>\n",
       "      <td>中安在线讯据黄山新闻网报道，在徽州，但凡地名里带有“坞”字的村庄，都是一个最不起眼的地方。黄...</td>\n",
       "      <td>中安 在线 讯 据 黄山 新闻网 报道 ， 在 徽州 ， 但凡 地名 里 带有 “ 坞 ” ...</td>\n",
       "      <td>{u'找出': 0.00881057268722, u'坚守': 0.00440528634...</td>\n",
       "      <td>[-0.00382614, -0.000750982, 0.000841585, 0.002...</td>\n",
       "    </tr>\n",
       "    <tr>\n",
       "      <th>87</th>\n",
       "      <td>http://cul.anhuinews.com/system/2016/12/29/007...</td>\n",
       "      <td>anhuinews.com</td>\n",
       "      <td>韵继八代罗经</td>\n",
       "      <td>位于休宁万安的罗经文化博物馆主人吴兆光是非物质文化遗产万安罗盘制作技艺的省级代表性传承人。吴...</td>\n",
       "      <td>位于 休宁 万安 的 罗经 文化 博物馆 主人 吴兆光 是非 物质 文化遗产 万安 罗盘 制...</td>\n",
       "      <td>{u'要求': 0.0110619469027, u'颇': 0.0044247787610...</td>\n",
       "      <td>[0.000207257, 0.00115816, 0.00165924, -0.00339...</td>\n",
       "    </tr>\n",
       "    <tr>\n",
       "      <th>88</th>\n",
       "      <td>http://cul.anhuinews.com/system/2016/12/23/007...</td>\n",
       "      <td>anhuinews.com</td>\n",
       "      <td>徽州茶人小传：汪序昭</td>\n",
       "      <td>汪序昭（1848～1930）又名礼，字鸣球，号薇垣；徽州婺源大畈人。汪序昭自幼家贫，年四十仍...</td>\n",
       "      <td>汪序 昭 （ 1848 ～ 1930 ） 又名 礼 ， 字鸣球 ， 号薇垣 ； 徽州 婺源 ...</td>\n",
       "      <td>{u'四角': 0.0049504950495, u'一一': 0.004950495049...</td>\n",
       "      <td>[-0.00241528, -0.00139119, 0.000414003, -0.003...</td>\n",
       "    </tr>\n",
       "    <tr>\n",
       "      <th>89</th>\n",
       "      <td>http://cul.anhuinews.com/system/2016/11/22/007...</td>\n",
       "      <td>anhuinews.com</td>\n",
       "      <td>探秘“超级宣纸”制作工艺</td>\n",
       "      <td>11月21日，在“超级宣纸”生产车间，工人在进行放帘作业。近日，位于“中国宣纸之乡”安徽泾县...</td>\n",
       "      <td>11 月 21 日 ， 在 “ 超级 宣纸 ” 生产 车间 ， 工人 在 进行 放帘 作业 ...</td>\n",
       "      <td>{u'二帘水': 0.02, u'超': 0.02, u'三': 0.06, u'工人': ...</td>\n",
       "      <td>[-0.00817295, 0.0042216, -0.00942775, -0.02331...</td>\n",
       "    </tr>\n",
       "    <tr>\n",
       "      <th>90</th>\n",
       "      <td>http://cul.anhuinews.com/system/2016/11/17/007...</td>\n",
       "      <td>anhuinews.com</td>\n",
       "      <td>贾道儒行竹雕人</td>\n",
       "      <td>几年前，就在央视等多家媒体的聚焦之下，“竹艺轩”逐渐走进了人们的视野，绚丽的光环里有朱氏两兄...</td>\n",
       "      <td>几年 前 ， 就 在 央视 等 多家 媒体 的 聚焦 之下 ， “ 竹艺轩 ” 逐渐 走进 ...</td>\n",
       "      <td>{u'融入': 0.00344827586207, u'国宴': 0.01034482758...</td>\n",
       "      <td>[-0.00671959, -0.00264691, 0.00145401, -0.0050...</td>\n",
       "    </tr>\n",
       "    <tr>\n",
       "      <th>91</th>\n",
       "      <td>http://cul.anhuinews.com/system/2016/11/03/007...</td>\n",
       "      <td>anhuinews.com</td>\n",
       "      <td>吴成林让徽墨飘香四海</td>\n",
       "      <td>一豆灯火，一缕青烟，覆碗收烟，集烟制墨。来到位于205国道徽州区与歙县交界处附近的徽州曹素功...</td>\n",
       "      <td>一豆 灯火 ， 一缕 青烟 ， 覆碗 收烟 ， 集烟 制墨 。 来到 位于 205 国道 徽...</td>\n",
       "      <td>{u'虽然': 0.00710900473934, u'古墨': 0.01184834123...</td>\n",
       "      <td>[-0.00533124, 0.00167441, 0.00335488, -0.00368...</td>\n",
       "    </tr>\n",
       "    <tr>\n",
       "      <th>92</th>\n",
       "      <td>http://cul.anhuinews.com/system/2016/10/19/007...</td>\n",
       "      <td>anhuinews.com</td>\n",
       "      <td>剪纸技艺一枝梅——记非遗徽州剪纸代表性传承人吴笑梅</td>\n",
       "      <td>在徽州的传统中，剪纸这一民间喜闻乐见的艺术，在徽州的各种传统文化中，却是鲜见有名家出现，更少...</td>\n",
       "      <td>在 徽州 的 传统 中 ， 剪纸 这一 民间 喜闻乐见 的 艺术 ， 在 徽州 的 各种 传...</td>\n",
       "      <td>{u'荣誉称号': 0.00438596491228, u'剪纸': 0.105263157...</td>\n",
       "      <td>[-0.0101716, -0.00106161, 0.00529623, -0.00278...</td>\n",
       "    </tr>\n",
       "    <tr>\n",
       "      <th>93</th>\n",
       "      <td>http://cul.anhuinews.com/system/2016/09/27/007...</td>\n",
       "      <td>anhuinews.com</td>\n",
       "      <td>墨都小天地 人生大舞台</td>\n",
       "      <td>清乾隆时制墨名手、“胡开文”墨业创始人胡天柱是绩溪上庄镇上庄村人；位于城东的歙县老胡开文墨厂...</td>\n",
       "      <td>清乾隆 时制 墨 名手 、 “ 胡开文 ” 墨业 创始人 胡 天柱 是 绩溪 上 庄 镇上 ...</td>\n",
       "      <td>{u'职工': 0.0197183098592, u'各': 0.0084507042253...</td>\n",
       "      <td>[-0.00163945, 0.00414896, -0.00109746, -0.0020...</td>\n",
       "    </tr>\n",
       "    <tr>\n",
       "      <th>94</th>\n",
       "      <td>http://cul.anhuinews.com/system/2016/02/01/007...</td>\n",
       "      <td>anhuinews.com</td>\n",
       "      <td>歙县境内主要书法刻石</td>\n",
       "      <td>《余清斋》、《清鉴堂》丛帖现藏新安碑园壁龛。《余清斋帖》刻于明万历二十四年。本县西溪南收藏家...</td>\n",
       "      <td>《 余清斋 》 、 《 清鉴堂 》 丛帖 现藏 新安 碑园 壁龛 。 《 余清斋 帖 》 刻...</td>\n",
       "      <td>{u'王珣': 0.00502512562814, u'言': 0.005025125628...</td>\n",
       "      <td>[-0.00308964, -0.00606062, 0.00643999, -0.0026...</td>\n",
       "    </tr>\n",
       "    <tr>\n",
       "      <th>95</th>\n",
       "      <td>http://cul.anhuinews.com/system/2016/01/28/007...</td>\n",
       "      <td>anhuinews.com</td>\n",
       "      <td>徽州人的和谐思维及实践</td>\n",
       "      <td>和：和谐，和睦，和平，和善，祥和，中和……，这是中华传统文化中中国人的核心价值观。中华先人早...</td>\n",
       "      <td>和 ： 和谐 ， 和睦 ， 和平 ， 和善 ， 祥和 ， 中 和 … … ， 这是 中华 传...</td>\n",
       "      <td>{u'王茂荫': 0.010101010101, u'特别': 0.010101010101...</td>\n",
       "      <td>[-0.00768568, -0.00137426, 0.00816411, -0.0045...</td>\n",
       "    </tr>\n",
       "    <tr>\n",
       "      <th>96</th>\n",
       "      <td>http://cul.anhuinews.com/system/2016/01/28/007...</td>\n",
       "      <td>anhuinews.com</td>\n",
       "      <td>徽学的界定及其研究方法</td>\n",
       "      <td>徽学研究可以采取进化论的历史方法、理学的历史方法、社会学的历史方法、功能论的历史方法，以及解...</td>\n",
       "      <td>徽学 研究 可以 采取 进化论 的 历史 方法 、 理学 的 历史 方法 、 社会学 的 历...</td>\n",
       "      <td>{u'定义': 0.00790513833992, u'根据': 0.00395256916...</td>\n",
       "      <td>[-0.0117931, -0.0107063, 0.0104949, -0.0063693...</td>\n",
       "    </tr>\n",
       "    <tr>\n",
       "      <th>97</th>\n",
       "      <td>http://cul.anhuinews.com/system/2016/01/26/007...</td>\n",
       "      <td>anhuinews.com</td>\n",
       "      <td>徽派雕刻——徽州竹雕艺术</td>\n",
       "      <td>徽派雕刻最为著名的是砖雕、石雕、木雕。明清之际是徽州雕刻艺术发展史上的黄金时代。徽州众多的雕...</td>\n",
       "      <td>徽派 雕刻 最为 著名 的 是 砖雕 、 石雕 、 木雕 。 明清 之际 是 徽州 雕刻 艺...</td>\n",
       "      <td>{u'极': 0.00578034682081, u'长达': 0.005780346820...</td>\n",
       "      <td>[-0.00872403, -0.00708676, 0.00468417, -0.0046...</td>\n",
       "    </tr>\n",
       "    <tr>\n",
       "      <th>98</th>\n",
       "      <td>http://cul.anhuinews.com/system/2016/01/26/007...</td>\n",
       "      <td>anhuinews.com</td>\n",
       "      <td>技艺高超的黄氏刻工</td>\n",
       "      <td>明代是雕版印刷最为活跃的时期，明代的徽州又是全国四大刻书中心之一，因而涌现出大批的雕版人才。...</td>\n",
       "      <td>明代 是 雕版 印刷 最为 活跃 的 时期 ， 明代 的 徽州 又 是 全国 四大 刻书 中...</td>\n",
       "      <td>{u'不知': 0.0054347826087, u'刀': 0.0108695652174...</td>\n",
       "      <td>[-0.00299321, -0.0077911, 0.00690019, -0.00447...</td>\n",
       "    </tr>\n",
       "    <tr>\n",
       "      <th>99</th>\n",
       "      <td>http://cul.anhuinews.com/system/2016/01/26/007...</td>\n",
       "      <td>anhuinews.com</td>\n",
       "      <td>方氏墨谱——墨模雕刻图谱集</td>\n",
       "      <td>方氏墨谱，凡6卷8册，明朝万历年间徽州制墨名家方于鲁编撰，著名画家丁云鹏、吴廷羽绘图，徽派木...</td>\n",
       "      <td>方氏 墨谱 ， 凡 6 卷 8 册 ， 明朝 万历 年间 徽州 制墨 名家 方于鲁 编撰 ，...</td>\n",
       "      <td>{u'汪道昆': 0.00952380952381, u'初刊': 0.0095238095...</td>\n",
       "      <td>[-0.00412601, -0.00730112, 0.00432363, -0.0036...</td>\n",
       "    </tr>\n",
       "  </tbody>\n",
       "</table>\n",
       "<p>100 rows × 7 columns</p>\n",
       "</div>"
      ],
      "text/plain": [
       "                                                  url         domain  \\\n",
       "0   http://cul.anhuinews.com/system/2016/11/28/007...  anhuinews.com   \n",
       "1   http://cul.anhuinews.com/system/2016/11/21/007...  anhuinews.com   \n",
       "2   http://cul.anhuinews.com/system/2016/11/03/007...  anhuinews.com   \n",
       "3   http://cul.anhuinews.com/system/2016/01/26/007...  anhuinews.com   \n",
       "4   http://cul.anhuinews.com/system/2016/01/26/007...  anhuinews.com   \n",
       "5   http://cul.anhuinews.com/system/2016/01/26/007...  anhuinews.com   \n",
       "6   http://cul.anhuinews.com/system/2016/01/26/007...  anhuinews.com   \n",
       "7   http://cul.anhuinews.com/system/2016/01/26/007...  anhuinews.com   \n",
       "8   http://cul.anhuinews.com/system/2014/07/16/006...  anhuinews.com   \n",
       "9   http://cul.anhuinews.com/system/2014/07/16/006...  anhuinews.com   \n",
       "10  http://cul.anhuinews.com/system/2014/07/15/006...  anhuinews.com   \n",
       "11  http://cul.anhuinews.com/system/2014/07/14/006...  anhuinews.com   \n",
       "12  http://cul.anhuinews.com/system/2014/07/14/006...  anhuinews.com   \n",
       "13  http://cul.anhuinews.com/system/2014/07/11/006...  anhuinews.com   \n",
       "14  http://cul.anhuinews.com/system/2014/07/10/006...  anhuinews.com   \n",
       "15  http://cul.anhuinews.com/system/2014/07/10/006...  anhuinews.com   \n",
       "16  http://cul.anhuinews.com/system/2014/07/07/006...  anhuinews.com   \n",
       "17  http://cul.anhuinews.com/system/2014/07/07/006...  anhuinews.com   \n",
       "18  http://cul.anhuinews.com/system/2014/07/02/006...  anhuinews.com   \n",
       "19  http://cul.anhuinews.com/system/2014/06/30/006...  anhuinews.com   \n",
       "20  http://cul.anhuinews.com/system/2014/06/26/006...  anhuinews.com   \n",
       "21  http://cul.anhuinews.com/system/2014/06/26/006...  anhuinews.com   \n",
       "22  http://cul.anhuinews.com/system/2014/06/26/006...  anhuinews.com   \n",
       "23  http://cul.anhuinews.com/system/2014/06/24/006...  anhuinews.com   \n",
       "24  http://cul.anhuinews.com/system/2014/06/19/006...  anhuinews.com   \n",
       "25  http://cul.anhuinews.com/system/2014/06/19/006...  anhuinews.com   \n",
       "26  http://cul.anhuinews.com/system/2014/06/17/006...  anhuinews.com   \n",
       "27  http://cul.anhuinews.com/system/2014/06/17/006...  anhuinews.com   \n",
       "28  http://cul.anhuinews.com/system/2014/06/17/006...  anhuinews.com   \n",
       "29  http://cul.anhuinews.com/system/2014/06/12/006...  anhuinews.com   \n",
       "..                                                ...            ...   \n",
       "70  http://cul.anhuinews.com/system/2016/02/05/007...  anhuinews.com   \n",
       "71  http://cul.anhuinews.com/system/2016/02/05/007...  anhuinews.com   \n",
       "72  http://cul.anhuinews.com/system/2016/02/05/007...  anhuinews.com   \n",
       "73  http://cul.anhuinews.com/system/2016/02/05/007...  anhuinews.com   \n",
       "74  http://cul.anhuinews.com/system/2016/02/05/007...  anhuinews.com   \n",
       "75  http://cul.anhuinews.com/system/2016/02/05/007...  anhuinews.com   \n",
       "76  http://cul.anhuinews.com/system/2016/02/05/007...  anhuinews.com   \n",
       "77  http://cul.anhuinews.com/system/2016/02/03/007...  anhuinews.com   \n",
       "78  http://cul.anhuinews.com/system/2016/02/03/007...  anhuinews.com   \n",
       "79  http://cul.anhuinews.com/system/2016/02/03/007...  anhuinews.com   \n",
       "80  http://cul.anhuinews.com/system/2016/02/03/007...  anhuinews.com   \n",
       "81  http://cul.anhuinews.com/system/2016/02/03/007...  anhuinews.com   \n",
       "82  http://cul.anhuinews.com/system/2016/02/03/007...  anhuinews.com   \n",
       "83  http://cul.anhuinews.com/system/2016/02/03/007...  anhuinews.com   \n",
       "84  http://cul.anhuinews.com/system/2016/02/03/007...  anhuinews.com   \n",
       "85  http://cul.anhuinews.com/system/2016/02/03/007...  anhuinews.com   \n",
       "86  http://cul.anhuinews.com/system/2017/01/04/007...  anhuinews.com   \n",
       "87  http://cul.anhuinews.com/system/2016/12/29/007...  anhuinews.com   \n",
       "88  http://cul.anhuinews.com/system/2016/12/23/007...  anhuinews.com   \n",
       "89  http://cul.anhuinews.com/system/2016/11/22/007...  anhuinews.com   \n",
       "90  http://cul.anhuinews.com/system/2016/11/17/007...  anhuinews.com   \n",
       "91  http://cul.anhuinews.com/system/2016/11/03/007...  anhuinews.com   \n",
       "92  http://cul.anhuinews.com/system/2016/10/19/007...  anhuinews.com   \n",
       "93  http://cul.anhuinews.com/system/2016/09/27/007...  anhuinews.com   \n",
       "94  http://cul.anhuinews.com/system/2016/02/01/007...  anhuinews.com   \n",
       "95  http://cul.anhuinews.com/system/2016/01/28/007...  anhuinews.com   \n",
       "96  http://cul.anhuinews.com/system/2016/01/28/007...  anhuinews.com   \n",
       "97  http://cul.anhuinews.com/system/2016/01/26/007...  anhuinews.com   \n",
       "98  http://cul.anhuinews.com/system/2016/01/26/007...  anhuinews.com   \n",
       "99  http://cul.anhuinews.com/system/2016/01/26/007...  anhuinews.com   \n",
       "\n",
       "                         title  \\\n",
       "0                   洪建华夫妇的竹刻人生   \n",
       "1                徽州民歌传人操明花校园授艺   \n",
       "2                       黄山楹联漫谈   \n",
       "3                 徽派雕刻——徽州木雕艺术   \n",
       "4                 徽派雕刻——徽州砖雕艺术   \n",
       "5                 徽派雕刻——徽州石雕艺术   \n",
       "6                  徽州古民居雕刻装饰研究   \n",
       "7           徽派雕刻——忆千年沧桑，探秘西递牌楼   \n",
       "8                         谭笔戏墨   \n",
       "9                   飞虹横卧庐州城（二）   \n",
       "10         体古法之功具时法之新——吴前琪书法漫谈   \n",
       "11                     松萝茶被窃秘史   \n",
       "12         徽派雕刻——古老徽州明清建筑中木雕艺术   \n",
       "13               徽州为什么称为“文献之邦”   \n",
       "14                  飞虹横卧庐州城(一)   \n",
       "15         新安医学：新安郑氏喉科学术著作学术特色   \n",
       "16          徽州文化:全国唯一的女祠堂——清懿堂   \n",
       "17               华夏文明的圣火——皋陶文化   \n",
       "18          桐城派的三个时期——初创、兴盛、末流   \n",
       "19                       漫漫古皖道   \n",
       "20         安徽省非物质文化遗产：砖雕、石雕、木雕   \n",
       "21                   徽州文化中的烟文化   \n",
       "22                       合肥火笔画   \n",
       "23                      论“桐城派”   \n",
       "24                     徽州的天井文化   \n",
       "25                  马头墙内外的徽州女人   \n",
       "26          精雕细刻铸华章——记徽雕艺术家曹篁生   \n",
       "27                 徽派版画：镌印艺术传奇   \n",
       "28                        新安理学   \n",
       "29                     文脉蜿蜒拓徽州   \n",
       "..                         ...   \n",
       "70                   安徽各地年夜饭风俗   \n",
       "71                过去的年味：腊月说“腊”   \n",
       "72            人趋似堵墙 归来寻坠珥——老婆歌   \n",
       "73                 那些远去的庐阳端午习俗   \n",
       "74               供奉灶君：“过小年”的思考   \n",
       "75                  旧记忆：灰青色的瓦屋   \n",
       "76                 徽州老风俗：过年听说书   \n",
       "77                  老手艺：定远花布印染   \n",
       "78                 老风俗：定远令狐塔庙会   \n",
       "79                  老习俗：明光三界庙会   \n",
       "80                  老手艺：滁菊制作工艺   \n",
       "81                 关于宿松民歌《打铁歌》   \n",
       "82         老物件之木叉：过去摊场翻场堆垛都少不了   \n",
       "83          老物件之木锨：曾经是脱粒时的必备工具   \n",
       "84                与棋盘山两两相望的解愠台   \n",
       "85               花山谜窟 古徽州的巨大悬疑   \n",
       "86  徽州竹刻艺人陈照军 “以刀代笔”在竹皮1毫米下刻神奇   \n",
       "87                      韵继八代罗经   \n",
       "88                  徽州茶人小传：汪序昭   \n",
       "89                探秘“超级宣纸”制作工艺   \n",
       "90                     贾道儒行竹雕人   \n",
       "91                  吴成林让徽墨飘香四海   \n",
       "92   剪纸技艺一枝梅——记非遗徽州剪纸代表性传承人吴笑梅   \n",
       "93                 墨都小天地 人生大舞台   \n",
       "94                  歙县境内主要书法刻石   \n",
       "95                 徽州人的和谐思维及实践   \n",
       "96                 徽学的界定及其研究方法   \n",
       "97                徽派雕刻——徽州竹雕艺术   \n",
       "98                   技艺高超的黄氏刻工   \n",
       "99               方氏墨谱——墨模雕刻图谱集   \n",
       "\n",
       "                                              content  \\\n",
       "0   谁能想到，洪建华夫妇这对一无学历、二无家传、三无师承的“三无大师”成了省级非物质文化遗产·徽...   \n",
       "1   近日，省非物质文化遗产徽州民歌传承人操明花前往休宁县海阳二小、歙县城关小学和徽州区岩寺镇中心...   \n",
       "2   黄山楹联第一人当推明朝诗人余绍祉。他遍历祖国名山大川，见到无数奇峰怪石，却感到抵不上黄山峰林...   \n",
       "3   徽州民居、家具木板和圆木雕刻艺术的简称。木雕在旧属徽州各县分布之广在全国屈指可数，宅院内的屏...   \n",
       "4   徽州砖雕徽州砖雕的造型，来源于汉画象砖。汉画象砖大都是模印砖坯刻画后入密烧制，嵌窃时再进行修...   \n",
       "5   传统“徽州四雕”之一。在徽州城乡布很广，类别亦多，主要用于寺宅的廊柱、门墙、牌坊、墓葬等处的...   \n",
       "6   徽州因明清两朝的繁盛而在历史上留下浓墨重彩的一笔，建筑就是那个时代的重要表现之一。当时的徽商...   \n",
       "7   西递位于安徽省黄山市黟县城东8公里处，因地处古徽州府之西，曾设驿站“铺递所”而得名。作为唐李...   \n",
       "8   文房四宝之一的毛笔品类中，宣笔自然是大名鼎鼎。可你知道吗，安徽还有一个地方的毛笔丝毫不亚于宣...   \n",
       "9   那时人们要想从大东门出城，必须要守城的兵勇放下吊桥，来来往往煞是费事。到了清朝晚期，李鸿章的...   \n",
       "10  吴前琪是近来在书坛崛起的一位实力派青年书法家。近几年来，他持续的在各类“国展”中获奖、入展，...   \n",
       "11  1842-1845年间，福钧曾作为伦敦园艺会领导人在中国待过一段时间。在旅居中国的日子里，他...   \n",
       "12  近年来国内及欧美、日本、东南亚等地建筑学界的学者和其他方面的专家来徽州考察三雕艺术与古建筑者...   \n",
       "13  徽州作为极具特色的地域文化区，在宋代就已经基本形成。明代以来徽商迅速崛起，更加有力的推动了教...   \n",
       "14  古庐州从地理位置上看，雄踞长江、淮河之间，历史上是河汊密布，小桥流水。城里是百步一桥，城外是...   \n",
       "15  新安郑氏喉科，指《中医大辞典》收载的郑梅涧、郑枢扶等8位新安郑氏医家为代表的家族医学人才链，...   \n",
       "16  祠堂作为封建宗法制度下同族人共同祭祀祖先的房屋，向为男人的圣殿。他们在这里决议族中大事、惩罚...   \n",
       "17  “五帝、三王、皋陶、孔子，人之圣也。”皋陶与尧、舜、禹齐名被后人尊为“上古四圣”。唐玄宗以李...   \n",
       "18  初创时期时间为清康熙、乾隆年间，代表人物有戴名世、方苞、刘大櫆。明代中叶以后，桐城学术兴起，...   \n",
       "19  千百年来，皖山皖水之间，蜿蜒着一条南北交通要道——古皖道。它是连接安庆府与六安州的一条官道、...   \n",
       "20  古代徽州辖地包括今天的安徽省黄山市和江西省婺源县。\"徽州三雕\"为古代徽州地区明清建筑的装饰性...   \n",
       "21  徽州文化的内容包罗万象，如徽州土地制度、徽商、徽州历史名人、徽州科技、新安理学、新安医学、徽...   \n",
       "22  \"火笔画\"，又称烙画、烫画，起源于西汉，兴盛于东汉宫廷，距今已有两千多年的历史。后来由于连年...   \n",
       "23  古云师法，无所谓宗派者，有之，自宋吕居仁江西宗派图始。然?蛔嫒??之说，山谷、后山、简斋，尚...   \n",
       "24  走进徽州静谧的古村落，仰看峰头丛林滴翠，俯听涧底细语泉声，脚踏流金岁月蚀磨的石板，穿过似乎与...   \n",
       "25  安徽南端的徽州地域，黄山白岳新安江山水秀美，在蓝天白云绿水青山掩映之中，徽州古村落高低起伏、...   \n",
       "26  年近40的曹篁生出生于古徽州的一个徽雕世家。初见面时，视线便被他那一双手所吸引：修长，但有力...   \n",
       "27  徽派版画发端于中唐，崛起于明清，作为受到刻书影响而形成的艺术流派，徽派版画文人意趣与民间装饰...   \n",
       "28  新安理学是中国思想史上曾起过重大影响的学派，而在新安的传播和影响尤深，世称“新安理学”。其奠...   \n",
       "29  流经皖南山区，长度不足300公里的新安江，是中国大地颇具传奇色彩的河流。由于重视文化教育，这...   \n",
       "..                                                ...   \n",
       "70  大年三十晚上十二点后，“守岁”的人们都关上了大门。当地风俗是，关上大门后就不能再开了，即使外...   \n",
       "71  腊月，我国农历第十二个月的别称。农历十二月为何又叫“腊月”？这里面可是名堂多多，说起来都与祭...   \n",
       "72  上世纪二三十年代在我县庄墓以及寿县大顺、邵店、李山、炎刘的乡间小道村头稻场常可看到两个头扎青...   \n",
       "73  端午节是中国古老的传统节日，因此民间过端午节是颇为隆重的，除去赛龙舟、悬艾草、佩香囊、吃粽子...   \n",
       "74  进入农历腊月，大年已近在咫尺。常言道：“二十三，过小年”，从二十三开始，到除夕也就一周时间，...   \n",
       "75  每回一次老家，总会有些感叹。感叹最多的是村中一栋栋陈旧瓦屋渐渐减少，取而代之的是幢幢红砖平顶...   \n",
       "76  儿时，过年说书是一道丰盛的文化大餐。那时候，乡下没有电影，更没有电视，也没有如今的送电影送戏...   \n",
       "77  由于池河是我县古镇之一，水陆交通便利，是手工业巧匠聚集之地。花布印染历史悠久，具体传入我县已...   \n",
       "78  藕塘令狐山位于定远县东南的皇甫山西麓，历史悠久，后汉时期这里亦有寺庙。据说令狐子伯青年时避难...   \n",
       "79  三界“都天庙”建于清同治年间，第祭祀唐代大将军张巡而设。“都天”民间意为专祭历急，保一方平安...   \n",
       "80  滁菊，俗称甘菊、白菊，在滁州已有上千年历史，原产滁州市南谯区大柳镇。光绪二十年出版的《滁州志...   \n",
       "81  《打铁歌》是宿松民歌中最有代表性的是一首。它流行范围最广，时间跨度最长，全县男女老少几乎人人...   \n",
       "82  在传统的农作物收获季节，广大的农民伯伯把割倒的农作物装上车，把拉到场上的作物摊开晾晒，把碾压...   \n",
       "83  以前，人们形容收获越来越多、重量越来越大、状态越来越好等情景时，常常使用一条歇后语，叫做“老...   \n",
       "84  与棋盘山两两相望的解愠台，是有十几平方米的两块巨石重叠放置在一起，依稀还能看见解愠台上的古代...   \n",
       "85  安徽省黄山市拥有众多风景名胜，“天下第一奇山”黄山享誉世界。但是，你可能不知道，就在黄山市屯...   \n",
       "86  中安在线讯据黄山新闻网报道，在徽州，但凡地名里带有“坞”字的村庄，都是一个最不起眼的地方。黄...   \n",
       "87  位于休宁万安的罗经文化博物馆主人吴兆光是非物质文化遗产万安罗盘制作技艺的省级代表性传承人。吴...   \n",
       "88  汪序昭（1848～1930）又名礼，字鸣球，号薇垣；徽州婺源大畈人。汪序昭自幼家贫，年四十仍...   \n",
       "89  11月21日，在“超级宣纸”生产车间，工人在进行放帘作业。近日，位于“中国宣纸之乡”安徽泾县...   \n",
       "90  几年前，就在央视等多家媒体的聚焦之下，“竹艺轩”逐渐走进了人们的视野，绚丽的光环里有朱氏两兄...   \n",
       "91  一豆灯火，一缕青烟，覆碗收烟，集烟制墨。来到位于205国道徽州区与歙县交界处附近的徽州曹素功...   \n",
       "92  在徽州的传统中，剪纸这一民间喜闻乐见的艺术，在徽州的各种传统文化中，却是鲜见有名家出现，更少...   \n",
       "93  清乾隆时制墨名手、“胡开文”墨业创始人胡天柱是绩溪上庄镇上庄村人；位于城东的歙县老胡开文墨厂...   \n",
       "94  《余清斋》、《清鉴堂》丛帖现藏新安碑园壁龛。《余清斋帖》刻于明万历二十四年。本县西溪南收藏家...   \n",
       "95  和：和谐，和睦，和平，和善，祥和，中和……，这是中华传统文化中中国人的核心价值观。中华先人早...   \n",
       "96  徽学研究可以采取进化论的历史方法、理学的历史方法、社会学的历史方法、功能论的历史方法，以及解...   \n",
       "97  徽派雕刻最为著名的是砖雕、石雕、木雕。明清之际是徽州雕刻艺术发展史上的黄金时代。徽州众多的雕...   \n",
       "98  明代是雕版印刷最为活跃的时期，明代的徽州又是全国四大刻书中心之一，因而涌现出大批的雕版人才。...   \n",
       "99  方氏墨谱，凡6卷8册，明朝万历年间徽州制墨名家方于鲁编撰，著名画家丁云鹏、吴廷羽绘图，徽派木...   \n",
       "\n",
       "                                          content_seg  \\\n",
       "0   谁 能 想到 ， 洪 建华 夫妇 这 对 一 无 学历 、 二 无 家传 、 三无 师承 的...   \n",
       "1   近日 ， 省非 物质 文化遗产 徽州 民歌 传承 人操 明花 前往 休宁县 海阳 二小 、 ...   \n",
       "2   黄山 楹联 第一 人当 推 明朝 诗人 余绍祉 。 他 遍历 祖国 名山大川 ， 见到 无数...   \n",
       "3   徽州 民居 、 家具 木板 和 圆木 雕刻 艺术 的 简称 。 木雕 在 旧属 徽州 各县 ...   \n",
       "4   徽州 砖雕 徽州 砖雕 的 造型 ， 来源于 汉 画象 砖 。 汉 画象 砖 大都 是 模印...   \n",
       "5   传统 “ 徽州 四雕 ” 之一 。 在 徽州 城乡 布 很 广 ， 类别 亦 多 ， 主要 ...   \n",
       "6   徽州 因 明清 两朝 的 繁盛 而 在历史上 留下 浓墨重彩 的 一笔 ， 建筑 就是 那个...   \n",
       "7   西递 位于 安徽省 黄山市 黟县 城东 8 公里 处 ， 因 地处 古 徽州 府 之西 ， ...   \n",
       "8   文房四宝 之一 的 毛笔 品类 中 ， 宣笔 自然 是 大名鼎鼎 。 可 你 知道 吗 ， ...   \n",
       "9   那时 人们 要 想 从 大 东门 出 城 ， 必须 要 守城 的 兵勇 放下 吊桥 ， 来来...   \n",
       "10  吴前琪 是 近来 在 书坛 崛起 的 一位 实力派 青年 书法家 。 近几年来 ， 他 持续...   \n",
       "11  1842 - 1845 年间 ， 福钧 曾 作为 伦敦 园艺 会 领导人 在 中国 待过 一...   \n",
       "12  近年来 国内 及 欧美 、 日本 、 东南亚 等 地 建筑 学界 的 学者 和 其他 方面 ...   \n",
       "13  徽州 作为 极具 特色 的 地域 文化区 ， 在 宋代 就 已经 基本 形成 。 明代 以来...   \n",
       "14  古 庐州 从 地理位置 上 看 ， 雄踞 长江 、 淮河 之间 ， 历史 上 是 河 汊 密...   \n",
       "15  新安 郑氏 喉科 ， 指 《 中医 大辞典 》 收载 的 郑梅 涧 、 郑枢 扶 等 8 位...   \n",
       "16  祠堂 作为 封建 宗法制度 下同 族人 共同 祭祀 祖先 的 房屋 ， 向 为 男人 的 圣...   \n",
       "17  “ 五帝 、 三王 、 皋陶 、 孔子 ， 人之圣 也 。 ” 皋陶 与 尧 、 舜 、 禹...   \n",
       "18  初创 时期 时间 为 清康熙 、 乾隆年间 ， 代表 人物 有 戴名世 、 方苞 、 刘大 ...   \n",
       "19  千百年来 ， 皖山皖 水 之间 ， 蜿蜒 着 一条 南北 交通要道 — — 古皖 道 。 它...   \n",
       "20  古代 徽州 辖 地 包括 今天 的 安徽省 黄山市 和 江西省 婺源县 。 \" 徽州 三雕 ...   \n",
       "21  徽州 文化 的 内容 包罗万象 ， 如 徽州 土地 制度 、 徽商 、 徽州 历史名人 、 ...   \n",
       "22  \" 火 笔画 \" ， 又称 烙画 、 烫 画 ， 起源于 西汉 ， 兴盛 于 东汉 宫廷 ，...   \n",
       "23  古云 师法 ， 无所谓 宗派 者 ， 有 之 ， 自宋 吕居仁 江西 宗派 图始 。 然 ?...   \n",
       "24  走进 徽州 静谧 的 古村落 ， 仰看 峰头 丛林 滴翠 ， 俯听 涧 底细 语泉声 ， 脚...   \n",
       "25  安徽 南端 的 徽州 地域 ， 黄山 白岳 新安江 山水 秀美 ， 在 蓝天白云 绿水青山 ...   \n",
       "26  年近 40 的 曹篁 生出 生于 古 徽州 的 一个 徽雕 世家 。 初 见面 时 ， 视线...   \n",
       "27  徽派 版画 发端 于 中 唐 ， 崛起 于 明清 ， 作为 受到 刻书 影响 而 形成 的 ...   \n",
       "28  新安 理学 是 中国 思想史 上 曾 起过 重大 影响 的 学派 ， 而 在 新安 的 传播...   \n",
       "29  流经 皖南 山区 ， 长度 不足 300 公里 的 新安江 ， 是 中国 大地 颇具 传奇色...   \n",
       "..                                                ...   \n",
       "70  大年三十 晚上 十二点 后 ， “ 守岁 ” 的 人们 都 关上 了 大门 。 当地 风俗 ...   \n",
       "71  腊月 ， 我国 农历 第十二个 月 的 别称 。 农历 十二月 为何 又 叫 “ 腊月 ” ...   \n",
       "72  上 世纪 二三十 年代 在 我 县 庄墓 以及 寿县 大顺 、 邵店 、 李山 、 炎 刘 ...   \n",
       "73  端午节 是 中国 古老 的 传统节日 ， 因此 民间 过 端午节 是 颇为 隆重 的 ， 除...   \n",
       "74  进入 农历 腊月 ， 大年 已 近在咫尺 。 常言道 ： “ 二十三 ， 过小年 ” ， 从...   \n",
       "75  每回 一次 老家 ， 总会 有些 感叹 。 感叹 最多 的 是 村 中 一栋栋 陈旧 瓦屋 ...   \n",
       "76  儿时 ， 过年 说书 是 一道 丰盛 的 文化 大餐 。 那 时候 ， 乡下 没有 电影 ，...   \n",
       "77  由于 池河 是 我 县 古镇 之一 ， 水陆交通 便利 ， 是 手工业 巧匠 聚集 之地 。...   \n",
       "78  藕 塘 令狐 山 位于 定远县 东南 的 皇甫 山西 麓 ， 历史悠久 ， 后汉 时期 这里...   \n",
       "79  三界 “ 都 天庙 ” 建于 清同治 年间 ， 第 祭祀 唐代 大将军 张 巡而设 。 “ ...   \n",
       "80  滁菊 ， 俗称 甘菊 、 白菊 ， 在 滁州 已有 上千年 历史 ， 原产 滁州市 南谯区 ...   \n",
       "81  《 打铁 歌 》 是 宿松 民歌 中 最 有 代表性 的 是 一首 。 它 流行 范围 最广...   \n",
       "82  在 传统 的 农作物 收获 季节 ， 广大 的 农民 伯伯 把 割 倒 的 农作物 装 上车...   \n",
       "83  以前 ， 人们 形容 收获 越来越 多 、 重量 越来越 大 、 状态 越来越 好 等 情景...   \n",
       "84  与 棋盘山 两 两 相望 的 解 愠 台 ， 是 有 十几平方米 的 两块 巨石 重叠 放置...   \n",
       "85  安徽省 黄山市 拥有 众多 风景名胜 ， “ 天下第一 奇山 ” 黄山 享誉 世界 。 但是...   \n",
       "86  中安 在线 讯 据 黄山 新闻网 报道 ， 在 徽州 ， 但凡 地名 里 带有 “ 坞 ” ...   \n",
       "87  位于 休宁 万安 的 罗经 文化 博物馆 主人 吴兆光 是非 物质 文化遗产 万安 罗盘 制...   \n",
       "88  汪序 昭 （ 1848 ～ 1930 ） 又名 礼 ， 字鸣球 ， 号薇垣 ； 徽州 婺源 ...   \n",
       "89  11 月 21 日 ， 在 “ 超级 宣纸 ” 生产 车间 ， 工人 在 进行 放帘 作业 ...   \n",
       "90  几年 前 ， 就 在 央视 等 多家 媒体 的 聚焦 之下 ， “ 竹艺轩 ” 逐渐 走进 ...   \n",
       "91  一豆 灯火 ， 一缕 青烟 ， 覆碗 收烟 ， 集烟 制墨 。 来到 位于 205 国道 徽...   \n",
       "92  在 徽州 的 传统 中 ， 剪纸 这一 民间 喜闻乐见 的 艺术 ， 在 徽州 的 各种 传...   \n",
       "93  清乾隆 时制 墨 名手 、 “ 胡开文 ” 墨业 创始人 胡 天柱 是 绩溪 上 庄 镇上 ...   \n",
       "94  《 余清斋 》 、 《 清鉴堂 》 丛帖 现藏 新安 碑园 壁龛 。 《 余清斋 帖 》 刻...   \n",
       "95  和 ： 和谐 ， 和睦 ， 和平 ， 和善 ， 祥和 ， 中 和 … … ， 这是 中华 传...   \n",
       "96  徽学 研究 可以 采取 进化论 的 历史 方法 、 理学 的 历史 方法 、 社会学 的 历...   \n",
       "97  徽派 雕刻 最为 著名 的 是 砖雕 、 石雕 、 木雕 。 明清 之际 是 徽州 雕刻 艺...   \n",
       "98  明代 是 雕版 印刷 最为 活跃 的 时期 ， 明代 的 徽州 又 是 全国 四大 刻书 中...   \n",
       "99  方氏 墨谱 ， 凡 6 卷 8 册 ， 明朝 万历 年间 徽州 制墨 名家 方于鲁 编撰 ，...   \n",
       "\n",
       "                                             words_fq  \\\n",
       "0   {u'艺术馆': 0.00445434298441, u'以来': 0.0066815144...   \n",
       "1   {u'传来': 0.00806451612903, u'小学': 0.00806451612...   \n",
       "2   {u'气派': 0.00763358778626, u'名句': 0.00763358778...   \n",
       "3   {u'吉祥图案': 0.0131578947368, u'少数': 0.0131578947...   \n",
       "4   {u'要求': 0.00704225352113, u'厅': 0.007042253521...   \n",
       "5   {u'内': 0.00574712643678, u'旁有': 0.005747126436...   \n",
       "6   {u'三绝': 0.0045871559633, u'三回': 0.004587155963...   \n",
       "7   {u'融入': 0.00444444444444, u'退': 0.004444444444...   \n",
       "8   {u'好几百年': 0.00666666666667, u'自然': 0.006666666...   \n",
       "9   {u'买卖': 0.00793650793651, u'胞弟': 0.00793650793...   \n",
       "10  {u'青年': 0.00769230769231, u'特别': 0.01538461538...   \n",
       "11  {u'一切': 0.00645161290323, u'西方': 0.00645161290...   \n",
       "12  {u'遐想': 0.00862068965517, u'形式': 0.00862068965...   \n",
       "13  {u'宋代': 0.00990099009901, u'孤本': 0.00990099009...   \n",
       "14  {u'城门': 0.00561797752809, u'平定': 0.00561797752...   \n",
       "15  {u'双桥': 0.00606060606061, u'轻以': 0.00606060606...   \n",
       "16  {u'两全': 0.0078125, u'如同': 0.0078125, u'圣殿': 0....   \n",
       "17  {u'虽然': 0.00613496932515, u'仁者': 0.00613496932...   \n",
       "18  {u'统统': 0.00714285714286, u'岁': 0.007142857142...   \n",
       "19  {u'诗篇': 0.00657894736842, u'非凡地': 0.0065789473...   \n",
       "20  {u'三雕': 0.03125, u'庙宇': 0.0078125, u'园林': 0.00...   \n",
       "21  {u'理应': 0.00662251655629, u'加工': 0.01324503311...   \n",
       "22  {u'作笔': 0.0077519379845, u'国内外': 0.00775193798...   \n",
       "23  {u'愈甚': 0.00793650793651, u'不知': 0.00793650793...   \n",
       "24  {u'排水': 0.00793650793651, u'显示': 0.00793650793...   \n",
       "25  {u'信条': 0.00625, u'丰碑': 0.00625, u'坚守': 0.0062...   \n",
       "26  {u'娴熟': 0.00680272108844, u'眉毛': 0.00680272108...   \n",
       "27  {u'为什么': 0.0054347826087, u'认可': 0.00543478260...   \n",
       "28  {u'成就': 0.0062893081761, u'书传纂': 0.00628930817...   \n",
       "29  {u'明清': 0.0125, u'徽州': 0.0125, u'建筑': 0.0125, ...   \n",
       "..                                                ...   \n",
       "70  {u'宿松': 0.0188679245283, u'一切': 0.003773584905...   \n",
       "71  {u'豆子': 0.00531914893617, u'晒干': 0.00531914893...   \n",
       "72  {u'二三十': 0.0062893081761, u'事': 0.006289308176...   \n",
       "73  {u'旧时': 0.0118577075099, u'悬挂': 0.003952569169...   \n",
       "74  {u'言': 0.00558659217877, u'特别': 0.005586592178...   \n",
       "75  {u'不知': 0.00568181818182, u'肌肤': 0.00568181818...   \n",
       "76  {u'瞅': 0.0155642023346, u'悄悄': 0.0038910505836...   \n",
       "77  {u'白地': 0.024, u'传入': 0.008, u'成': 0.008, u'后人...   \n",
       "78  {u'东南': 0.00666666666667, u'受观': 0.00666666666...   \n",
       "79  {u'便捷': 0.00757575757576, u'黄罗伞': 0.0075757575...   \n",
       "80  {u'甘菊': 0.018018018018, u'佳': 0.00900900900901...   \n",
       "81  {u'宿松': 0.0167364016736, u'薅': 0.0041841004184...   \n",
       "82  {u'趁': 0.00793650793651, u'打场': 0.007936507936...   \n",
       "83  {u'打场': 0.00735294117647, u'一堆': 0.00735294117...   \n",
       "84  {u'不知': 0.00384615384615, u'风雨': 0.00384615384...   \n",
       "85  {u'为什么': 0.00887573964497, u'内': 0.01183431952...   \n",
       "86  {u'找出': 0.00881057268722, u'坚守': 0.00440528634...   \n",
       "87  {u'要求': 0.0110619469027, u'颇': 0.0044247787610...   \n",
       "88  {u'四角': 0.0049504950495, u'一一': 0.004950495049...   \n",
       "89  {u'二帘水': 0.02, u'超': 0.02, u'三': 0.06, u'工人': ...   \n",
       "90  {u'融入': 0.00344827586207, u'国宴': 0.01034482758...   \n",
       "91  {u'虽然': 0.00710900473934, u'古墨': 0.01184834123...   \n",
       "92  {u'荣誉称号': 0.00438596491228, u'剪纸': 0.105263157...   \n",
       "93  {u'职工': 0.0197183098592, u'各': 0.0084507042253...   \n",
       "94  {u'王珣': 0.00502512562814, u'言': 0.005025125628...   \n",
       "95  {u'王茂荫': 0.010101010101, u'特别': 0.010101010101...   \n",
       "96  {u'定义': 0.00790513833992, u'根据': 0.00395256916...   \n",
       "97  {u'极': 0.00578034682081, u'长达': 0.005780346820...   \n",
       "98  {u'不知': 0.0054347826087, u'刀': 0.0108695652174...   \n",
       "99  {u'汪道昆': 0.00952380952381, u'初刊': 0.0095238095...   \n",
       "\n",
       "                                         w2v_centroid  \n",
       "0   [-0.00344339, -0.00581077, 0.00216269, -0.0011...  \n",
       "1   [-0.00463216, 0.00496158, 0.00203924, 0.000965...  \n",
       "2   [-0.00371836, -0.00609779, 0.00594129, -0.0041...  \n",
       "3   [-0.0105879, -0.00692919, 0.00676165, -0.00754...  \n",
       "4   [-0.00440875, -0.00674634, 0.00619312, -0.0053...  \n",
       "5   [-0.00890975, -0.00571684, 0.00625852, -0.0064...  \n",
       "6   [-0.00875431, -0.00461302, 0.00975966, -0.0066...  \n",
       "7   [-0.00429807, -0.00572776, 0.00395334, -0.0065...  \n",
       "8   [-0.00279577, -0.000962309, -0.00243313, -0.00...  \n",
       "9   [-0.00264663, -0.0061449, -0.00528977, -0.0031...  \n",
       "10  [-0.00387532, -0.00239613, 0.0038881, -0.00198...  \n",
       "11  [-0.00136587, -0.00202945, -0.00360785, 4.7713...  \n",
       "12  [-0.0031122, 0.000730394, 0.00168395, -0.00203...  \n",
       "13  [-0.00642567, -0.0134675, 0.00301548, -0.00521...  \n",
       "14  [-0.000876358, -0.00515002, 0.00196757, -0.001...  \n",
       "15  [-0.00398206, -0.00591254, 0.00425047, -0.0020...  \n",
       "16  [-0.00503494, -0.00639154, 0.00770621, -0.0081...  \n",
       "17  [-0.00859574, -0.00844349, 0.0023106, -0.00575...  \n",
       "18  [0.000849688, -0.0104446, 0.00760046, -0.00826...  \n",
       "19  [-0.00301125, -0.00525619, -0.00106887, -0.002...  \n",
       "20  [-0.0111073, -0.00874724, 0.003553, -0.0059979...  \n",
       "21  [-0.008026, -0.00875263, 0.00268622, -0.006319...  \n",
       "22  [-0.00288183, -0.00493614, 0.000161223, -0.003...  \n",
       "23  [0.00163146, -0.00550071, 0.00572871, -0.00531...  \n",
       "24  [-0.00399345, -0.00308989, 0.00210756, -0.0011...  \n",
       "25  [-0.011566, -0.00234759, 0.00967347, -0.002854...  \n",
       "26  [-0.00407168, -0.00157674, 0.000820663, 0.0010...  \n",
       "27  [-0.00706249, -0.00872592, 0.00498708, -0.0064...  \n",
       "28  [-0.00830154, -0.00808976, 0.00841902, -0.0082...  \n",
       "29  [-0.0127515, -0.00901786, 0.00444339, -0.00764...  \n",
       "..                                                ...  \n",
       "70  [-0.00555932, 0.00186753, -0.00339953, 0.00394...  \n",
       "71  [-0.00349209, -0.00447343, 0.0021861, -0.00499...  \n",
       "72  [-0.000460201, -0.000448291, -0.000678325, 0.0...  \n",
       "73  [-0.00531869, 0.0013019, 6.02074e-05, -0.00291...  \n",
       "74  [-0.00283209, 0.00115915, 0.00124625, -0.00171...  \n",
       "75  [-0.000163541, 0.00226543, -0.00261312, 0.0026...  \n",
       "76  [0.000990584, 0.00486641, 0.00247087, 0.003682...  \n",
       "77  [-0.00228636, -0.00313868, 0.00142134, -0.0018...  \n",
       "78  [-0.00663463, -0.00314137, 0.00021092, -0.0031...  \n",
       "79  [-0.0045664, -0.000449004, -0.00187076, -0.004...  \n",
       "80  [-0.0021163, -0.00517277, -0.00231306, -0.0049...  \n",
       "81  [-0.00266018, -0.00128835, -0.000559221, 0.002...  \n",
       "82  [-0.000404139, -0.000223079, -0.00142625, 0.00...  \n",
       "83  [-0.00239752, -9.35015e-05, 0.000654194, 0.000...  \n",
       "84  [0.000290299, -0.00345799, 0.00276718, 0.00081...  \n",
       "85  [-0.00369413, -0.0140159, -0.000742634, -0.005...  \n",
       "86  [-0.00382614, -0.000750982, 0.000841585, 0.002...  \n",
       "87  [0.000207257, 0.00115816, 0.00165924, -0.00339...  \n",
       "88  [-0.00241528, -0.00139119, 0.000414003, -0.003...  \n",
       "89  [-0.00817295, 0.0042216, -0.00942775, -0.02331...  \n",
       "90  [-0.00671959, -0.00264691, 0.00145401, -0.0050...  \n",
       "91  [-0.00533124, 0.00167441, 0.00335488, -0.00368...  \n",
       "92  [-0.0101716, -0.00106161, 0.00529623, -0.00278...  \n",
       "93  [-0.00163945, 0.00414896, -0.00109746, -0.0020...  \n",
       "94  [-0.00308964, -0.00606062, 0.00643999, -0.0026...  \n",
       "95  [-0.00768568, -0.00137426, 0.00816411, -0.0045...  \n",
       "96  [-0.0117931, -0.0107063, 0.0104949, -0.0063693...  \n",
       "97  [-0.00872403, -0.00708676, 0.00468417, -0.0046...  \n",
       "98  [-0.00299321, -0.0077911, 0.00690019, -0.00447...  \n",
       "99  [-0.00412601, -0.00730112, 0.00432363, -0.0036...  \n",
       "\n",
       "[100 rows x 7 columns]"
      ]
     },
     "execution_count": 26,
     "metadata": {},
     "output_type": "execute_result"
    }
   ],
   "source": [
    "df.head(100)"
   ]
  },
  {
   "cell_type": "code",
   "execution_count": 41,
   "metadata": {
    "collapsed": true
   },
   "outputs": [],
   "source": [
    "df['content_len'] = df['content'].str.len()"
   ]
  },
  {
   "cell_type": "code",
   "execution_count": 42,
   "metadata": {
    "collapsed": true
   },
   "outputs": [],
   "source": [
    "import matplotlib \n",
    "import matplotlib.pyplot as plt\n",
    "%matplotlib inline "
   ]
  },
  {
   "cell_type": "code",
   "execution_count": 43,
   "metadata": {},
   "outputs": [
    {
     "data": {
      "text/plain": [
       "<matplotlib.text.Text at 0x16b592650>"
      ]
     },
     "execution_count": 43,
     "metadata": {},
     "output_type": "execute_result"
    },
    {
     "data": {
      "image/png": "[encoded data removed]",
      "text/plain": [
       "<matplotlib.figure.Figure at 0x164114450>"
      ]
     },
     "metadata": {},
     "output_type": "display_data"
    }
   ],
   "source": [
    "df['content_len'].hist(bins=500, figsize= (16, 6))\n",
    "plt.title('Content Length Histogram')\n",
    "plt.xlabel('Length')\n",
    "plt.ylabel('Count')"
   ]
  },
  {
   "cell_type": "code",
   "execution_count": 44,
   "metadata": {
    "collapsed": true
   },
   "outputs": [],
   "source": [
    "test = df[df['content_len'] < 150]"
   ]
  },
  {
   "cell_type": "code",
   "execution_count": 45,
   "metadata": {
    "collapsed": true
   },
   "outputs": [],
   "source": [
    "test.info()"
   ]
  },
  {
   "cell_type": "code",
   "execution_count": 46,
   "metadata": {
    "collapsed": true
   },
   "outputs": [],
   "source": [
    "for t in test['content']:\n",
    "    print t"
   ]
  },
  {
   "cell_type": "code",
   "execution_count": 47,
   "metadata": {
    "collapsed": true
   },
   "outputs": [],
   "source": [
    "df = df[df['content_len'] >= 150]"
   ]
  },
  {
   "cell_type": "code",
   "execution_count": 48,
   "metadata": {
    "collapsed": true
   },
   "outputs": [],
   "source": [
    "df.info()"
   ]
  },
  {
   "cell_type": "code",
   "execution_count": 49,
   "metadata": {
    "collapsed": true
   },
   "outputs": [],
   "source": [
    "def get_cosine2(vec1, vec2):\n",
    "    \n",
    "    sum1 = np.sum([vec1**2])\n",
    "    sum2 = np.sum([vec2**2])\n",
    "    numerator = np.sum([a*b for a,b in zip(vec1,vec2)])\n",
    "    denominator = math.sqrt(sum1) * math.sqrt(sum2)\n",
    "\n",
    "    if not denominator:\n",
    "        return 0.0\n",
    "    else:\n",
    "        return float(numerator) / denominator"
   ]
  },
  {
   "cell_type": "code",
   "execution_count": 289,
   "metadata": {},
   "outputs": [
    {
     "data": {
      "text/plain": [
       "782"
      ]
     },
     "execution_count": 289,
     "metadata": {},
     "output_type": "execute_result"
    }
   ],
   "source": [
    "len(df.iloc[47075]['content'])"
   ]
  },
  {
   "cell_type": "code",
   "execution_count": 50,
   "metadata": {
    "collapsed": true
   },
   "outputs": [],
   "source": [
    "df.info()"
   ]
  },
  {
   "cell_type": "code",
   "execution_count": 51,
   "metadata": {
    "collapsed": true
   },
   "outputs": [],
   "source": [
    "docs = df['content_seg']"
   ]
  },
  {
   "cell_type": "code",
   "execution_count": 52,
   "metadata": {
    "collapsed": true
   },
   "outputs": [],
   "source": [
    "hz_words_fq = map_words_fq(' '.join(docs))"
   ]
  },
  {
   "cell_type": "code",
   "execution_count": 39,
   "metadata": {
    "collapsed": true
   },
   "outputs": [],
   "source": [
    "print ' '.join(hz_words_fq.keys())"
   ]
  },
  {
   "cell_type": "code",
   "execution_count": null,
   "metadata": {
    "collapsed": true
   },
   "outputs": [],
   "source": []
  },
  {
   "cell_type": "code",
   "execution_count": 53,
   "metadata": {
    "collapsed": true
   },
   "outputs": [],
   "source": [
    "t0 = time()\n",
    "hz_vec = model[u'徽州']*0.3 + model[u'文化']*0.3 + model[u'徽文化']*0.4\n",
    "df['hzwh_w2v_sim'] = df.w2v_centroid.map(lambda x: get_cosine2(hz_vec, x))\n",
    "print time() - t0"
   ]
  },
  {
   "cell_type": "code",
   "execution_count": 66,
   "metadata": {},
   "outputs": [
    {
     "data": {
      "text/plain": [
       "<matplotlib.text.Text at 0x24c5b8610>"
      ]
     },
     "execution_count": 66,
     "metadata": {},
     "output_type": "execute_result"
    },
    {
     "data": {
      "image/png": "[encoded data removed]",
      "text/plain": [
       "<matplotlib.figure.Figure at 0x18710ff50>"
      ]
     },
     "metadata": {},
     "output_type": "display_data"
    }
   ],
   "source": [
    "df['hzwh_w2v_sim'].hist(bins=500, figsize= (16, 6))\n",
    "plt.title('Huizhou W2V Similiarity Histogram')\n",
    "plt.xlabel('Similarity')\n",
    "plt.ylabel('Count')"
   ]
  },
  {
   "cell_type": "code",
   "execution_count": 54,
   "metadata": {
    "collapsed": true
   },
   "outputs": [],
   "source": [
    "hz_sim = df['hzwh_w2v_sim'].values.argsort()[::-1]"
   ]
  },
  {
   "cell_type": "code",
   "execution_count": 55,
   "metadata": {
    "collapsed": true
   },
   "outputs": [],
   "source": [
    "idx = 0\n",
    "for i in hz_sim:\n",
    "    if df.iloc[i]['hzwh_w2v_sim'] > 0.80 and idx < 10:\n",
    "        title = df.iloc[i]['title']\n",
    "        content = df.iloc[i]['content']\n",
    "        sim_val = df.iloc[i]['hzwh_w2v_sim']\n",
    "        idx += 1\n",
    "        print idx, i, title, sim_val\n",
    "        print  df.iloc[i]['url']\n",
    "        print content\n",
    "        print '--------------'"
   ]
  },
  {
   "cell_type": "code",
   "execution_count": 58,
   "metadata": {
    "collapsed": true
   },
   "outputs": [],
   "source": [
    "msk1 = df['content'].str.contains('徽州') \n",
    "msk2 = df['content'].str.contains('徽文化') \n",
    "msk = msk1 | msk2\n",
    "df_check = df[msk]"
   ]
  },
  {
   "cell_type": "code",
   "execution_count": 59,
   "metadata": {
    "collapsed": true
   },
   "outputs": [],
   "source": [
    "df_check.info()"
   ]
  },
  {
   "cell_type": "code",
   "execution_count": 60,
   "metadata": {
    "collapsed": true
   },
   "outputs": [],
   "source": [
    "docs = df_check['content_seg']"
   ]
  },
  {
   "cell_type": "code",
   "execution_count": 61,
   "metadata": {
    "collapsed": true
   },
   "outputs": [],
   "source": [
    "hz_words_fq = map_words_fq(' '.join(docs))"
   ]
  },
  {
   "cell_type": "code",
   "execution_count": 62,
   "metadata": {
    "collapsed": true
   },
   "outputs": [],
   "source": [
    "print ' '.join(hz_words_fq.keys())"
   ]
  },
  {
   "cell_type": "code",
   "execution_count": 63,
   "metadata": {
    "collapsed": true
   },
   "outputs": [],
   "source": [
    "hz_vec = map_word2vec_centroid(hz_words_fq)"
   ]
  },
  {
   "cell_type": "code",
   "execution_count": 64,
   "metadata": {
    "collapsed": true
   },
   "outputs": [],
   "source": [
    "t0 = time()\n",
    "df['dsi_w2v_sim'] = df.w2v_centroid.map(lambda x: get_cosine2(hz_vec, x))\n",
    "print time() - t0"
   ]
  },
  {
   "cell_type": "code",
   "execution_count": 65,
   "metadata": {},
   "outputs": [
    {
     "data": {
      "text/plain": [
       "<matplotlib.text.Text at 0x18693e790>"
      ]
     },
     "execution_count": 65,
     "metadata": {},
     "output_type": "execute_result"
    },
    {
     "data": {
      "image/png": "[encoded data removed]",
      "text/plain": [
       "<matplotlib.figure.Figure at 0x1addd7610>"
      ]
     },
     "metadata": {},
     "output_type": "display_data"
    }
   ],
   "source": [
    "df['dsi_w2v_sim'].hist(bins=500, figsize= (16, 6))\n",
    "plt.title('Huizhou W2V Similiarity Histogram')\n",
    "plt.xlabel('Similarity')\n",
    "plt.ylabel('Count')"
   ]
  },
  {
   "cell_type": "code",
   "execution_count": 67,
   "metadata": {
    "collapsed": true
   },
   "outputs": [],
   "source": [
    "hz_sim = df['dsi_w2v_sim'].values.argsort()[::-1]"
   ]
  },
  {
   "cell_type": "code",
   "execution_count": 68,
   "metadata": {
    "collapsed": true
   },
   "outputs": [],
   "source": [
    "idx = 0\n",
    "for i in hz_sim:\n",
    "    if df.iloc[i]['dsi_w2v_sim'] > 0.80 and idx < 10:\n",
    "        title = df.iloc[i]['title']\n",
    "        content = df.iloc[i]['content']\n",
    "        sim_val = df.iloc[i]['dsi_w2v_sim']\n",
    "        idx += 1\n",
    "        print idx, i, title, sim_val\n",
    "        print  df.iloc[i]['url']\n",
    "        print content\n",
    "        print '--------------'"
   ]
  },
  {
   "cell_type": "code",
   "execution_count": null,
   "metadata": {
    "collapsed": true
   },
   "outputs": [],
   "source": []
  },
  {
   "cell_type": "code",
   "execution_count": 70,
   "metadata": {
    "collapsed": true
   },
   "outputs": [],
   "source": [
    "t0 = time()\n",
    "hz_vec = np.array(sk_model[u'徽州'])*0.3 + np.array(sk_model[u'文化'])*0.3 + np.array(sk_model[u'徽文化'])*0.4\n",
    "df['hzwh_sk_sim'] = df.sk_centroid.map(lambda x: get_cosine2(hz_vec, x))\n",
    "print time() - t0"
   ]
  },
  {
   "cell_type": "code",
   "execution_count": 71,
   "metadata": {},
   "outputs": [
    {
     "data": {
      "text/plain": [
       "<matplotlib.text.Text at 0x186083190>"
      ]
     },
     "execution_count": 71,
     "metadata": {},
     "output_type": "execute_result"
    },
    {
     "data": {
      "image/png": "[encoded data removed]",
      "text/plain": [
       "<matplotlib.figure.Figure at 0x1872d0050>"
      ]
     },
     "metadata": {},
     "output_type": "display_data"
    }
   ],
   "source": [
    "df['hzwh_sk_sim'].hist(bins=500, figsize= (16, 6))\n",
    "plt.title('Huizhou Fasttext SK Similiarity Histogram')\n",
    "plt.xlabel('Similarity')\n",
    "plt.ylabel('Count')"
   ]
  },
  {
   "cell_type": "code",
   "execution_count": 72,
   "metadata": {
    "collapsed": true
   },
   "outputs": [],
   "source": [
    "hz_sim = df['hzwh_sk_sim'].values.argsort()[::-1]"
   ]
  },
  {
   "cell_type": "code",
   "execution_count": 74,
   "metadata": {
    "collapsed": true
   },
   "outputs": [],
   "source": [
    "idx = 0\n",
    "for i in hz_sim:\n",
    "    if df.iloc[i]['hzwh_sk_sim'] > 0.80 and idx < 10:\n",
    "        title = df.iloc[i]['title']\n",
    "        content = df.iloc[i]['content']\n",
    "        sim_val = df.iloc[i]['hzwh_sk_sim']\n",
    "        idx += 1\n",
    "        print idx, i, title, sim_val\n",
    "        print  df.iloc[i]['url']\n",
    "        print content\n",
    "        print '--------------'"
   ]
  },
  {
   "cell_type": "code",
   "execution_count": 75,
   "metadata": {
    "collapsed": true
   },
   "outputs": [],
   "source": [
    "hz_vec = map_ft_sk_centroid(hz_words_fq)"
   ]
  },
  {
   "cell_type": "code",
   "execution_count": 76,
   "metadata": {
    "collapsed": true
   },
   "outputs": [],
   "source": [
    "t0 = time()\n",
    "df['dsi_sk_sim'] = df.sk_centroid.map(lambda x: get_cosine2(hz_vec, x))\n",
    "print time() - t0"
   ]
  },
  {
   "cell_type": "code",
   "execution_count": 77,
   "metadata": {},
   "outputs": [
    {
     "data": {
      "text/plain": [
       "<matplotlib.text.Text at 0x18c635290>"
      ]
     },
     "execution_count": 77,
     "metadata": {},
     "output_type": "execute_result"
    },
    {
     "data": {
      "image/png": "[encoded data removed]",
      "text/plain": [
       "<matplotlib.figure.Figure at 0x18beb3710>"
      ]
     },
     "metadata": {},
     "output_type": "display_data"
    }
   ],
   "source": [
    "df['dsi_sk_sim'].hist(bins=500, figsize= (16, 6))\n",
    "plt.title('Huizhou Fasttext SK Similiarity Histogram')\n",
    "plt.xlabel('Similarity')\n",
    "plt.ylabel('Count')"
   ]
  },
  {
   "cell_type": "code",
   "execution_count": 78,
   "metadata": {
    "collapsed": true
   },
   "outputs": [],
   "source": [
    "hz_sim = df['dsi_sk_sim'].values.argsort()[::-1]"
   ]
  },
  {
   "cell_type": "code",
   "execution_count": 79,
   "metadata": {
    "collapsed": true
   },
   "outputs": [],
   "source": [
    "idx = 0\n",
    "for i in hz_sim:\n",
    "    if df.iloc[i]['dsi_sk_sim'] > 0.80 and idx < 10:\n",
    "        title = df.iloc[i]['title']\n",
    "        content = df.iloc[i]['content']\n",
    "        sim_val = df.iloc[i]['dsi_sk_sim']\n",
    "        idx += 1\n",
    "        print idx, i, title, sim_val\n",
    "        print  df.iloc[i]['url']\n",
    "        print content\n",
    "        print '--------------'"
   ]
  },
  {
   "cell_type": "code",
   "execution_count": null,
   "metadata": {
    "collapsed": true
   },
   "outputs": [],
   "source": []
  },
  {
   "cell_type": "code",
   "execution_count": null,
   "metadata": {
    "collapsed": true
   },
   "outputs": [],
   "source": []
  },
  {
   "cell_type": "code",
   "execution_count": 59,
   "metadata": {},
   "outputs": [
    {
     "data": {
      "text/plain": [
       "numpy.ndarray"
      ]
     },
     "execution_count": 59,
     "metadata": {},
     "output_type": "execute_result"
    }
   ],
   "source": [
    "type(model[u'徽州'])"
   ]
  },
  {
   "cell_type": "code",
   "execution_count": 64,
   "metadata": {},
   "outputs": [
    {
     "data": {
      "text/plain": [
       "numpy.ndarray"
      ]
     },
     "execution_count": 64,
     "metadata": {},
     "output_type": "execute_result"
    }
   ],
   "source": [
    "type(np.array(f_model['徽州']))"
   ]
  },
  {
   "cell_type": "code",
   "execution_count": null,
   "metadata": {
    "collapsed": true
   },
   "outputs": [],
   "source": []
  },
  {
   "cell_type": "code",
   "execution_count": 80,
   "metadata": {
    "collapsed": true
   },
   "outputs": [],
   "source": [
    "t0 = time()\n",
    "hz_vec = model[u'徽派']*0.5 + model[u'建筑']*0.5\n",
    "df['hzjz_w2v_sim'] = df.w2v_centroid.map(lambda x: get_cosine2(hz_vec, x))\n",
    "print time() - t0"
   ]
  },
  {
   "cell_type": "code",
   "execution_count": 81,
   "metadata": {
    "collapsed": true
   },
   "outputs": [],
   "source": [
    "hz_sim = df['hzjz_w2v_sim'].values.argsort()[::-1]"
   ]
  },
  {
   "cell_type": "code",
   "execution_count": 83,
   "metadata": {},
   "outputs": [
    {
     "data": {
      "text/plain": [
       "0.83613564865291601"
      ]
     },
     "execution_count": 83,
     "metadata": {},
     "output_type": "execute_result"
    }
   ],
   "source": [
    "df['hzjz_w2v_sim'].max()"
   ]
  },
  {
   "cell_type": "code",
   "execution_count": 86,
   "metadata": {
    "collapsed": true
   },
   "outputs": [],
   "source": [
    "idx = 0\n",
    "for i in hz_sim:\n",
    "    if df.iloc[i]['hzjz_w2v_sim'] > 0.80 and idx < 10:\n",
    "        title = df.iloc[i]['title']\n",
    "        content = df.iloc[i]['content']\n",
    "        sim_val = df.iloc[i]['hzjz_w2v_sim']\n",
    "        idx += 1\n",
    "        print idx, i, title, sim_val\n",
    "        print  df.iloc[i]['url']\n",
    "        print content\n",
    "        print '--------------'"
   ]
  },
  {
   "cell_type": "code",
   "execution_count": null,
   "metadata": {
    "collapsed": true
   },
   "outputs": [],
   "source": []
  },
  {
   "cell_type": "code",
   "execution_count": 103,
   "metadata": {
    "collapsed": true
   },
   "outputs": [],
   "source": [
    "msk1 = df['content'].str.contains('徽派') \n",
    "msk2 = df['content'].str.contains('建筑') \n",
    "msk = msk1 | msk2\n",
    "df_check = df[msk]"
   ]
  },
  {
   "cell_type": "code",
   "execution_count": 104,
   "metadata": {
    "collapsed": true
   },
   "outputs": [],
   "source": [
    "docs = df_check['content_seg']"
   ]
  },
  {
   "cell_type": "code",
   "execution_count": 105,
   "metadata": {
    "collapsed": true
   },
   "outputs": [],
   "source": [
    "hz_words_fq = map_words_fq(' '.join(docs))"
   ]
  },
  {
   "cell_type": "code",
   "execution_count": 106,
   "metadata": {
    "collapsed": true
   },
   "outputs": [],
   "source": [
    "hz_vec = map_word2vec_centroid(hz_words_fq)"
   ]
  },
  {
   "cell_type": "code",
   "execution_count": 107,
   "metadata": {
    "collapsed": true
   },
   "outputs": [],
   "source": [
    "t0 = time()\n",
    "df['hzjz_w2vs_sim'] = df.w2v_centroid.map(lambda x: get_cosine2(hz_vec, x))\n",
    "print time() - t0"
   ]
  },
  {
   "cell_type": "code",
   "execution_count": 108,
   "metadata": {
    "collapsed": true
   },
   "outputs": [],
   "source": [
    "hz_sim = df['hzjz_w2vs_sim'].values.argsort()[::-1]"
   ]
  },
  {
   "cell_type": "code",
   "execution_count": 109,
   "metadata": {
    "collapsed": true
   },
   "outputs": [],
   "source": [
    "idx = 0\n",
    "for i in hz_sim:\n",
    "    if df.iloc[i]['hzjz_w2vs_sim'] > 0.80 and idx < 10:\n",
    "        title = df.iloc[i]['title']\n",
    "        content = df.iloc[i]['content']\n",
    "        sim_val = df.iloc[i]['hzjz_w2vs_sim']\n",
    "        idx += 1\n",
    "        print idx, i, title, sim_val\n",
    "        print  df.iloc[i]['url']\n",
    "        print content\n",
    "        print '--------------'"
   ]
  },
  {
   "cell_type": "code",
   "execution_count": null,
   "metadata": {
    "collapsed": true
   },
   "outputs": [],
   "source": []
  },
  {
   "cell_type": "code",
   "execution_count": 110,
   "metadata": {
    "collapsed": true
   },
   "outputs": [],
   "source": [
    "t0 = time()\n",
    "hz_vec = np.array(sk_model[u'徽派'])*0.5 + np.array(sk_model[u'建筑'])*0.5\n",
    "df['hzjz_sk_sim'] = df.sk_centroid.map(lambda x: get_cosine2(hz_vec, x))\n",
    "print time() - t0"
   ]
  },
  {
   "cell_type": "code",
   "execution_count": 111,
   "metadata": {
    "collapsed": true
   },
   "outputs": [],
   "source": [
    "hz_sim = df['hzjz_sk_sim'].values.argsort()[::-1]"
   ]
  },
  {
   "cell_type": "code",
   "execution_count": 112,
   "metadata": {
    "collapsed": true
   },
   "outputs": [],
   "source": [
    "idx = 0\n",
    "for i in hz_sim:\n",
    "    if df.iloc[i]['hzjz_sk_sim'] > 0.80 and idx < 10:\n",
    "        title = df.iloc[i]['title']\n",
    "        content = df.iloc[i]['content']\n",
    "        sim_val = df.iloc[i]['hzjz_sk_sim']\n",
    "        idx += 1\n",
    "        print idx, i, title, sim_val\n",
    "        print  df.iloc[i]['url']\n",
    "        print content\n",
    "        print '--------------'"
   ]
  },
  {
   "cell_type": "code",
   "execution_count": 117,
   "metadata": {
    "collapsed": true
   },
   "outputs": [],
   "source": [
    "hz_vec = map_ft_sk_centroid(hz_words_fq)"
   ]
  },
  {
   "cell_type": "code",
   "execution_count": 118,
   "metadata": {
    "collapsed": true
   },
   "outputs": [],
   "source": [
    "t0 = time()\n",
    "df['hzjz_sks_sim'] = df.sk_centroid.map(lambda x: get_cosine2(hz_vec, x))\n",
    "print time() - t0"
   ]
  },
  {
   "cell_type": "code",
   "execution_count": 119,
   "metadata": {
    "collapsed": true
   },
   "outputs": [],
   "source": [
    "hz_sim = df['hzjz_sks_sim'].values.argsort()[::-1]"
   ]
  },
  {
   "cell_type": "code",
   "execution_count": 120,
   "metadata": {
    "collapsed": true
   },
   "outputs": [],
   "source": [
    "idx = 0\n",
    "for i in hz_sim:\n",
    "    if df.iloc[i]['hzjz_sks_sim'] > 0.80 and idx < 10:\n",
    "        title = df.iloc[i]['title']\n",
    "        content = df.iloc[i]['content']\n",
    "        sim_val = df.iloc[i]['hzjz_sks_sim']\n",
    "        idx += 1\n",
    "        print idx, i, title, sim_val\n",
    "        print  df.iloc[i]['url']\n",
    "        print content\n",
    "        print '--------------'"
   ]
  },
  {
   "cell_type": "code",
   "execution_count": null,
   "metadata": {
    "collapsed": true
   },
   "outputs": [],
   "source": []
  },
  {
   "cell_type": "code",
   "execution_count": null,
   "metadata": {
    "collapsed": true
   },
   "outputs": [],
   "source": []
  },
  {
   "cell_type": "code",
   "execution_count": 121,
   "metadata": {
    "collapsed": true
   },
   "outputs": [],
   "source": [
    "t0 = time()\n",
    "hz_vec = model[u'徽州']*0.4 + model[u'继承']*0.3 + model[u'遗产']*0.3\n",
    "df['ycjc_w2v_sim'] = df.w2v_centroid.map(lambda x: get_cosine2(hz_vec, x))\n",
    "print time() - t0"
   ]
  },
  {
   "cell_type": "code",
   "execution_count": 122,
   "metadata": {},
   "outputs": [
    {
     "data": {
      "text/plain": [
       "0.87122242418664209"
      ]
     },
     "execution_count": 122,
     "metadata": {},
     "output_type": "execute_result"
    }
   ],
   "source": [
    "df['ycjc_w2v_sim'].max()"
   ]
  },
  {
   "cell_type": "code",
   "execution_count": 123,
   "metadata": {
    "collapsed": true
   },
   "outputs": [],
   "source": [
    "hz_sim = df['ycjc_w2v_sim'].values.argsort()[::-1]"
   ]
  },
  {
   "cell_type": "code",
   "execution_count": 125,
   "metadata": {
    "collapsed": true
   },
   "outputs": [],
   "source": [
    "idx = 0\n",
    "for i in hz_sim:\n",
    "    if df.iloc[i]['ycjc_w2v_sim'] > 0.50 and idx < 10:\n",
    "        title = df.iloc[i]['title']\n",
    "        content = df.iloc[i]['content']\n",
    "        sim_val = df.iloc[i]['ycjc_w2v_sim']\n",
    "        idx += 1\n",
    "        print idx, i, title, sim_val\n",
    "        print  df.iloc[i]['url']\n",
    "        print content\n",
    "        print '--------------'"
   ]
  },
  {
   "cell_type": "code",
   "execution_count": 126,
   "metadata": {},
   "outputs": [
    {
     "data": {
      "text/plain": [
       "<matplotlib.text.Text at 0x1b7c27810>"
      ]
     },
     "execution_count": 126,
     "metadata": {},
     "output_type": "execute_result"
    },
    {
     "data": {
      "image/png": "[encoded data removed]",
      "text/plain": [
       "<matplotlib.figure.Figure at 0x18dc95a50>"
      ]
     },
     "metadata": {},
     "output_type": "display_data"
    }
   ],
   "source": [
    "df['ycjc_w2v_sim'].hist(bins=500, figsize= (16, 6))\n",
    "plt.title('Huizhou W2V Similiarity Histogram')\n",
    "plt.xlabel('Similarity')\n",
    "plt.ylabel('Count')"
   ]
  },
  {
   "cell_type": "code",
   "execution_count": 127,
   "metadata": {
    "collapsed": true
   },
   "outputs": [],
   "source": [
    "msk1 = df['content'].str.contains('徽州') \n",
    "msk2 = df['content'].str.contains('继承') \n",
    "msk3 = df['content'].str.contains('遗产') \n",
    "\n",
    "msk = msk1 | msk2 | msk3\n",
    "df_check = df[msk]"
   ]
  },
  {
   "cell_type": "code",
   "execution_count": 128,
   "metadata": {
    "collapsed": true
   },
   "outputs": [],
   "source": [
    "docs = df_check['content_seg']"
   ]
  },
  {
   "cell_type": "code",
   "execution_count": 130,
   "metadata": {
    "collapsed": true
   },
   "outputs": [],
   "source": [
    "hz_words_fq = map_words_fq(' '.join(docs))"
   ]
  },
  {
   "cell_type": "code",
   "execution_count": 131,
   "metadata": {
    "collapsed": true
   },
   "outputs": [],
   "source": [
    "hz_vec = map_word2vec_centroid(hz_words_fq)"
   ]
  },
  {
   "cell_type": "code",
   "execution_count": 132,
   "metadata": {
    "collapsed": true
   },
   "outputs": [],
   "source": [
    "t0 = time()\n",
    "df['ycjc_w2vs_sim'] = df.w2v_centroid.map(lambda x: get_cosine2(hz_vec, x))\n",
    "print time() - t0"
   ]
  },
  {
   "cell_type": "code",
   "execution_count": 133,
   "metadata": {
    "collapsed": true
   },
   "outputs": [],
   "source": [
    "hz_sim = df['ycjc_w2vs_sim'].values.argsort()[::-1]"
   ]
  },
  {
   "cell_type": "code",
   "execution_count": 134,
   "metadata": {
    "collapsed": true
   },
   "outputs": [],
   "source": [
    "idx = 0\n",
    "for i in hz_sim:\n",
    "    if df.iloc[i]['ycjc_w2vs_sim'] > 0.80 and idx < 10:\n",
    "        title = df.iloc[i]['title']\n",
    "        content = df.iloc[i]['content']\n",
    "        sim_val = df.iloc[i]['ycjc_w2vs_sim']\n",
    "        idx += 1\n",
    "        print idx, i, title, sim_val\n",
    "        print  df.iloc[i]['url']\n",
    "        print content\n",
    "        print '--------------'"
   ]
  },
  {
   "cell_type": "code",
   "execution_count": null,
   "metadata": {
    "collapsed": true
   },
   "outputs": [],
   "source": []
  },
  {
   "cell_type": "code",
   "execution_count": 153,
   "metadata": {
    "collapsed": true
   },
   "outputs": [],
   "source": [
    "t0 = time()\n",
    "hz_vec = np.array(sk_model[u'徽州'])*0.4 + np.array(sk_model[u'继承'])*0.3 + np.array(sk_model[u'遗产'])*0.3\n",
    "df['ycjc_sk_sim'] = df.sk_centroid.map(lambda x: get_cosine2(hz_vec, x))\n",
    "print time() - t0"
   ]
  },
  {
   "cell_type": "code",
   "execution_count": 154,
   "metadata": {
    "collapsed": true
   },
   "outputs": [],
   "source": [
    "hz_sim = df['ycjc_sk_sim'].values.argsort()[::-1]"
   ]
  },
  {
   "cell_type": "code",
   "execution_count": 155,
   "metadata": {
    "collapsed": true
   },
   "outputs": [],
   "source": [
    "idx = 0\n",
    "for i in hz_sim:\n",
    "    if df.iloc[i]['ycjc_sk_sim'] > 0.50 and idx < 10:\n",
    "        title = df.iloc[i]['title']\n",
    "        content = df.iloc[i]['content']\n",
    "        sim_val = df.iloc[i]['ycjc_sk_sim']\n",
    "        idx += 1\n",
    "        print idx, i, title, sim_val\n",
    "        print  df.iloc[i]['url']\n",
    "        print content\n",
    "        print '--------------'"
   ]
  },
  {
   "cell_type": "code",
   "execution_count": 138,
   "metadata": {
    "collapsed": true
   },
   "outputs": [],
   "source": [
    "hz_vec = map_ft_sk_centroid(hz_words_fq)"
   ]
  },
  {
   "cell_type": "code",
   "execution_count": 139,
   "metadata": {
    "collapsed": true
   },
   "outputs": [],
   "source": [
    "t0 = time()\n",
    "df['ycjc_sks_sim'] = df.sk_centroid.map(lambda x: get_cosine2(hz_vec, x))\n",
    "print time() - t0"
   ]
  },
  {
   "cell_type": "code",
   "execution_count": 140,
   "metadata": {
    "collapsed": true
   },
   "outputs": [],
   "source": [
    "hz_sim = df['ycjc_sks_sim'].values.argsort()[::-1]"
   ]
  },
  {
   "cell_type": "code",
   "execution_count": 141,
   "metadata": {
    "collapsed": true
   },
   "outputs": [],
   "source": [
    "idx = 0\n",
    "for i in hz_sim:\n",
    "    if df.iloc[i]['ycjc_sks_sim'] > 0.50 and idx < 10:\n",
    "        title = df.iloc[i]['title']\n",
    "        content = df.iloc[i]['content']\n",
    "        sim_val = df.iloc[i]['ycjc_sks_sim']\n",
    "        idx += 1\n",
    "        print idx, i, title, sim_val\n",
    "        print  df.iloc[i]['url']\n",
    "        print content\n",
    "        print '--------------'"
   ]
  },
  {
   "cell_type": "code",
   "execution_count": null,
   "metadata": {
    "collapsed": true
   },
   "outputs": [],
   "source": []
  },
  {
   "cell_type": "code",
   "execution_count": null,
   "metadata": {
    "collapsed": true
   },
   "outputs": [],
   "source": []
  },
  {
   "cell_type": "code",
   "execution_count": 142,
   "metadata": {
    "collapsed": true
   },
   "outputs": [],
   "source": [
    "t0 = time()\n",
    "hz_vec = model[u'徽州']*0.5 + model[u'雕刻']*0.5\n",
    "df['hzdk_w2v_sim'] = df.w2v_centroid.map(lambda x: get_cosine2(hz_vec, x))\n",
    "print time() - t0"
   ]
  },
  {
   "cell_type": "code",
   "execution_count": 143,
   "metadata": {
    "collapsed": true
   },
   "outputs": [],
   "source": [
    "hz_sim = df['hzdk_w2v_sim'].values.argsort()[::-1]"
   ]
  },
  {
   "cell_type": "code",
   "execution_count": 144,
   "metadata": {
    "collapsed": true
   },
   "outputs": [],
   "source": [
    "idx = 0\n",
    "for i in hz_sim:\n",
    "    if df.iloc[i]['hzdk_w2v_sim'] > 0.50 and idx < 10:\n",
    "        title = df.iloc[i]['title']\n",
    "        content = df.iloc[i]['content']\n",
    "        sim_val = df.iloc[i]['hzdk_w2v_sim']\n",
    "        idx += 1\n",
    "        print idx, i, title, sim_val\n",
    "        print  df.iloc[i]['url']\n",
    "        print content\n",
    "        print '--------------'"
   ]
  },
  {
   "cell_type": "code",
   "execution_count": 145,
   "metadata": {},
   "outputs": [
    {
     "data": {
      "text/plain": [
       "<matplotlib.text.Text at 0x1aa576d90>"
      ]
     },
     "execution_count": 145,
     "metadata": {},
     "output_type": "execute_result"
    },
    {
     "data": {
      "image/png": "[encoded data removed]",
      "text/plain": [
       "<matplotlib.figure.Figure at 0x18dc957d0>"
      ]
     },
     "metadata": {},
     "output_type": "display_data"
    }
   ],
   "source": [
    "df['hzdk_w2v_sim'].hist(bins=500, figsize= (16, 6))\n",
    "plt.title('Huizhou W2V Similiarity Histogram')\n",
    "plt.xlabel('Similarity')\n",
    "plt.ylabel('Count')"
   ]
  },
  {
   "cell_type": "code",
   "execution_count": 146,
   "metadata": {
    "collapsed": true
   },
   "outputs": [],
   "source": [
    "msk1 = df['content'].str.contains('徽州') \n",
    "msk2 = df['content'].str.contains('雕刻') \n",
    "\n",
    "msk = msk1 | msk2\n",
    "df_check = df[msk]"
   ]
  },
  {
   "cell_type": "code",
   "execution_count": 147,
   "metadata": {
    "collapsed": true
   },
   "outputs": [],
   "source": [
    "docs = df_check['content_seg']"
   ]
  },
  {
   "cell_type": "code",
   "execution_count": 148,
   "metadata": {
    "collapsed": true
   },
   "outputs": [],
   "source": [
    "hz_words_fq = map_words_fq(' '.join(docs))"
   ]
  },
  {
   "cell_type": "code",
   "execution_count": 149,
   "metadata": {
    "collapsed": true
   },
   "outputs": [],
   "source": [
    "hz_vec = map_word2vec_centroid(hz_words_fq)"
   ]
  },
  {
   "cell_type": "code",
   "execution_count": 150,
   "metadata": {
    "collapsed": true
   },
   "outputs": [],
   "source": [
    "t0 = time()\n",
    "df['hzdk_w2vs_sim'] = df.w2v_centroid.map(lambda x: get_cosine2(hz_vec, x))\n",
    "print time() - t0"
   ]
  },
  {
   "cell_type": "code",
   "execution_count": 151,
   "metadata": {
    "collapsed": true
   },
   "outputs": [],
   "source": [
    "hz_sim = df['hzdk_w2vs_sim'].values.argsort()[::-1]"
   ]
  },
  {
   "cell_type": "code",
   "execution_count": 152,
   "metadata": {
    "collapsed": true
   },
   "outputs": [],
   "source": [
    "idx = 0\n",
    "for i in hz_sim:\n",
    "    if df.iloc[i]['hzdk_w2vs_sim'] > 0.50 and idx < 10:\n",
    "        title = df.iloc[i]['title']\n",
    "        content = df.iloc[i]['content']\n",
    "        sim_val = df.iloc[i]['hzdk_w2vs_sim']\n",
    "        idx += 1\n",
    "        print idx, i, title, sim_val\n",
    "        print  df.iloc[i]['url']\n",
    "        print content\n",
    "        print '--------------'"
   ]
  },
  {
   "cell_type": "code",
   "execution_count": 156,
   "metadata": {
    "collapsed": true
   },
   "outputs": [],
   "source": [
    "t0 = time()\n",
    "hz_vec = np.array(sk_model[u'徽州'])*0.5 + np.array(sk_model[u'雕刻'])*0.5 \n",
    "df['hzdk_sk_sim'] = df.sk_centroid.map(lambda x: get_cosine2(hz_vec, x))\n",
    "print time() - t0"
   ]
  },
  {
   "cell_type": "code",
   "execution_count": 157,
   "metadata": {
    "collapsed": true
   },
   "outputs": [],
   "source": [
    "hz_sim = df['hzdk_sk_sim'].values.argsort()[::-1]"
   ]
  },
  {
   "cell_type": "code",
   "execution_count": 158,
   "metadata": {
    "collapsed": true
   },
   "outputs": [],
   "source": [
    "idx = 0\n",
    "for i in hz_sim:\n",
    "    if df.iloc[i]['hzdk_sk_sim'] > 0.50 and idx < 10:\n",
    "        title = df.iloc[i]['title']\n",
    "        content = df.iloc[i]['content']\n",
    "        sim_val = df.iloc[i]['hzdk_sk_sim']\n",
    "        idx += 1\n",
    "        print idx, i, title, sim_val\n",
    "        print  df.iloc[i]['url']\n",
    "        print content\n",
    "        print '--------------'"
   ]
  },
  {
   "cell_type": "code",
   "execution_count": 159,
   "metadata": {
    "collapsed": true
   },
   "outputs": [],
   "source": [
    "hz_vec = map_ft_sk_centroid(hz_words_fq)"
   ]
  },
  {
   "cell_type": "code",
   "execution_count": 160,
   "metadata": {
    "collapsed": true
   },
   "outputs": [],
   "source": [
    "t0 = time()\n",
    "df['hzdk_sks_sim'] = df.sk_centroid.map(lambda x: get_cosine2(hz_vec, x))\n",
    "print time() - t0"
   ]
  },
  {
   "cell_type": "code",
   "execution_count": 162,
   "metadata": {
    "collapsed": true
   },
   "outputs": [],
   "source": [
    "hz_sim = df['hzdk_sks_sim'].values.argsort()[::-1]"
   ]
  },
  {
   "cell_type": "code",
   "execution_count": 163,
   "metadata": {
    "collapsed": true
   },
   "outputs": [],
   "source": [
    "idx = 0\n",
    "for i in hz_sim:\n",
    "    if df.iloc[i]['hzdk_sks_sim'] > 0.50 and idx < 10:\n",
    "        title = df.iloc[i]['title']\n",
    "        content = df.iloc[i]['content']\n",
    "        sim_val = df.iloc[i]['hzdk_sks_sim']\n",
    "        idx += 1\n",
    "        print idx, i, title, sim_val\n",
    "        print  df.iloc[i]['url']\n",
    "        print content\n",
    "        print '--------------'"
   ]
  },
  {
   "cell_type": "code",
   "execution_count": null,
   "metadata": {
    "collapsed": true
   },
   "outputs": [],
   "source": []
  },
  {
   "cell_type": "code",
   "execution_count": 164,
   "metadata": {
    "collapsed": true
   },
   "outputs": [],
   "source": [
    "t0 = time()\n",
    "hz_vec = model[u'徽派']*0.5 + model[u'艺术']*0.5\n",
    "df['hpys_w2v_sim'] = df.w2v_centroid.map(lambda x: get_cosine2(hz_vec, x))\n",
    "print time() - t0"
   ]
  },
  {
   "cell_type": "code",
   "execution_count": 165,
   "metadata": {
    "collapsed": true
   },
   "outputs": [],
   "source": [
    "hz_sim = df['hpys_w2v_sim'].values.argsort()[::-1]"
   ]
  },
  {
   "cell_type": "code",
   "execution_count": 167,
   "metadata": {
    "collapsed": true
   },
   "outputs": [],
   "source": [
    "idx = 0\n",
    "for i in hz_sim:\n",
    "    if df.iloc[i]['hpys_w2v_sim'] > 0.50 and idx < 10:\n",
    "        title = df.iloc[i]['title']\n",
    "        content = df.iloc[i]['content']\n",
    "        sim_val = df.iloc[i]['hpys_w2v_sim']\n",
    "        idx += 1\n",
    "        print idx, i, title, sim_val\n",
    "        print  df.iloc[i]['url']\n",
    "        print content\n",
    "        print '--------------'"
   ]
  },
  {
   "cell_type": "code",
   "execution_count": null,
   "metadata": {
    "collapsed": true
   },
   "outputs": [],
   "source": [
    "df['hpys_w2v_sim'].hist(bins=500, figsize= (16, 6))\n",
    "plt.title('Huizhou W2V Similiarity Histogram')\n",
    "plt.xlabel('Similarity')\n",
    "plt.ylabel('Count')"
   ]
  },
  {
   "cell_type": "code",
   "execution_count": 168,
   "metadata": {
    "collapsed": true
   },
   "outputs": [],
   "source": [
    "msk1 = df['content'].str.contains('徽派') \n",
    "msk2 = df['content'].str.contains('艺术') \n",
    "\n",
    "msk = msk1 | msk2\n",
    "df_check = df[msk]"
   ]
  },
  {
   "cell_type": "code",
   "execution_count": 169,
   "metadata": {
    "collapsed": true
   },
   "outputs": [],
   "source": [
    "docs = df_check['content_seg']"
   ]
  },
  {
   "cell_type": "code",
   "execution_count": 170,
   "metadata": {
    "collapsed": true
   },
   "outputs": [],
   "source": [
    "hz_words_fq = map_words_fq(' '.join(docs))"
   ]
  },
  {
   "cell_type": "code",
   "execution_count": 171,
   "metadata": {
    "collapsed": true
   },
   "outputs": [],
   "source": [
    "hz_vec = map_word2vec_centroid(hz_words_fq)"
   ]
  },
  {
   "cell_type": "code",
   "execution_count": 172,
   "metadata": {
    "collapsed": true
   },
   "outputs": [],
   "source": [
    "t0 = time()\n",
    "df['hpys_w2vs_sim'] = df.w2v_centroid.map(lambda x: get_cosine2(hz_vec, x))\n",
    "print time() - t0"
   ]
  },
  {
   "cell_type": "code",
   "execution_count": 173,
   "metadata": {
    "collapsed": true
   },
   "outputs": [],
   "source": [
    "hz_sim = df['hpys_w2vs_sim'].values.argsort()[::-1]"
   ]
  },
  {
   "cell_type": "code",
   "execution_count": 174,
   "metadata": {
    "collapsed": true
   },
   "outputs": [],
   "source": [
    "idx = 0\n",
    "for i in hz_sim:\n",
    "    if df.iloc[i]['hpys_w2vs_sim'] > 0.50 and idx < 10:\n",
    "        title = df.iloc[i]['title']\n",
    "        content = df.iloc[i]['content']\n",
    "        sim_val = df.iloc[i]['hpys_w2vs_sim']\n",
    "        idx += 1\n",
    "        print idx, i, title, sim_val\n",
    "        print  df.iloc[i]['url']\n",
    "        print content\n",
    "        print '--------------'"
   ]
  },
  {
   "cell_type": "code",
   "execution_count": 175,
   "metadata": {
    "collapsed": true
   },
   "outputs": [],
   "source": [
    "t0 = time()\n",
    "hz_vec = np.array(sk_model[u'徽派'])*0.5 + np.array(sk_model[u'艺术'])*0.5 \n",
    "df['hpys_sk_sim'] = df.sk_centroid.map(lambda x: get_cosine2(hz_vec, x))\n",
    "print time() - t0"
   ]
  },
  {
   "cell_type": "code",
   "execution_count": 176,
   "metadata": {
    "collapsed": true
   },
   "outputs": [],
   "source": [
    "hz_sim = df['hpys_sk_sim'].values.argsort()[::-1]"
   ]
  },
  {
   "cell_type": "code",
   "execution_count": 177,
   "metadata": {
    "collapsed": true
   },
   "outputs": [],
   "source": [
    "idx = 0\n",
    "for i in hz_sim:\n",
    "    if df.iloc[i]['hpys_sk_sim'] > 0.50 and idx < 10:\n",
    "        title = df.iloc[i]['title']\n",
    "        content = df.iloc[i]['content']\n",
    "        sim_val = df.iloc[i]['hpys_sk_sim']\n",
    "        idx += 1\n",
    "        print idx, i, title, sim_val\n",
    "        print  df.iloc[i]['url']\n",
    "        print content\n",
    "        print '--------------'"
   ]
  },
  {
   "cell_type": "code",
   "execution_count": 178,
   "metadata": {
    "collapsed": true
   },
   "outputs": [],
   "source": [
    "hz_vec = map_ft_sk_centroid(hz_words_fq)"
   ]
  },
  {
   "cell_type": "code",
   "execution_count": 179,
   "metadata": {
    "collapsed": true
   },
   "outputs": [],
   "source": [
    "t0 = time()\n",
    "df['hpys_sks_sim'] = df.sk_centroid.map(lambda x: get_cosine2(hz_vec, x))\n",
    "print time() - t0"
   ]
  },
  {
   "cell_type": "code",
   "execution_count": 180,
   "metadata": {
    "collapsed": true
   },
   "outputs": [],
   "source": [
    "hz_sim = df['hpys_sks_sim'].values.argsort()[::-1]"
   ]
  },
  {
   "cell_type": "code",
   "execution_count": 181,
   "metadata": {
    "collapsed": true
   },
   "outputs": [],
   "source": [
    "idx = 0\n",
    "for i in hz_sim:\n",
    "    if df.iloc[i]['hpys_sks_sim'] > 0.50 and idx < 10:\n",
    "        title = df.iloc[i]['title']\n",
    "        content = df.iloc[i]['content']\n",
    "        sim_val = df.iloc[i]['hpys_sks_sim']\n",
    "        idx += 1\n",
    "        print idx, i, title, sim_val\n",
    "        print  df.iloc[i]['url']\n",
    "        print content\n",
    "        print '--------------'"
   ]
  },
  {
   "cell_type": "code",
   "execution_count": null,
   "metadata": {
    "collapsed": true
   },
   "outputs": [],
   "source": []
  },
  {
   "cell_type": "code",
   "execution_count": null,
   "metadata": {
    "collapsed": true
   },
   "outputs": [],
   "source": []
  },
  {
   "cell_type": "code",
   "execution_count": 182,
   "metadata": {
    "collapsed": true
   },
   "outputs": [],
   "source": [
    "t0 = time()\n",
    "hz_vec = model[u'徽剧']*0.5 + model[u'徽菜']*0.5\n",
    "df['hjhc_w2v_sim'] = df.w2v_centroid.map(lambda x: get_cosine2(hz_vec, x))\n",
    "print time() - t0"
   ]
  },
  {
   "cell_type": "code",
   "execution_count": 183,
   "metadata": {
    "collapsed": true
   },
   "outputs": [],
   "source": [
    "hz_sim = df['hjhc_w2v_sim'].values.argsort()[::-1]"
   ]
  },
  {
   "cell_type": "code",
   "execution_count": 185,
   "metadata": {
    "collapsed": true
   },
   "outputs": [],
   "source": [
    "idx = 0\n",
    "for i in hz_sim:\n",
    "    if df.iloc[i]['hjhc_w2v_sim'] > 0.50 and idx < 10:\n",
    "        title = df.iloc[i]['title']\n",
    "        content = df.iloc[i]['content']\n",
    "        sim_val = df.iloc[i]['hjhc_w2v_sim']\n",
    "        idx += 1\n",
    "        print idx, i, title, sim_val\n",
    "        print  df.iloc[i]['url']\n",
    "        print content\n",
    "        print '--------------'"
   ]
  },
  {
   "cell_type": "code",
   "execution_count": 186,
   "metadata": {},
   "outputs": [
    {
     "data": {
      "text/plain": [
       "<matplotlib.text.Text at 0x1fde1a110>"
      ]
     },
     "execution_count": 186,
     "metadata": {},
     "output_type": "execute_result"
    },
    {
     "data": {
      "image/png": "[encoded data removed]",
      "text/plain": [
       "<matplotlib.figure.Figure at 0x18dc95310>"
      ]
     },
     "metadata": {},
     "output_type": "display_data"
    }
   ],
   "source": [
    "df['hjhc_w2v_sim'].hist(bins=500, figsize= (16, 6))\n",
    "plt.title('Huizhou W2V Similiarity Histogram')\n",
    "plt.xlabel('Similarity')\n",
    "plt.ylabel('Count')"
   ]
  },
  {
   "cell_type": "code",
   "execution_count": 187,
   "metadata": {
    "collapsed": true
   },
   "outputs": [],
   "source": [
    "msk1 = df['content'].str.contains('徽剧') \n",
    "msk2 = df['content'].str.contains('徽菜') \n",
    "\n",
    "msk = msk1 | msk2\n",
    "df_check = df[msk]"
   ]
  },
  {
   "cell_type": "code",
   "execution_count": 188,
   "metadata": {
    "collapsed": true
   },
   "outputs": [],
   "source": [
    "docs = df_check['content_seg']"
   ]
  },
  {
   "cell_type": "code",
   "execution_count": 189,
   "metadata": {
    "collapsed": true
   },
   "outputs": [],
   "source": [
    "hz_words_fq = map_words_fq(' '.join(docs))"
   ]
  },
  {
   "cell_type": "code",
   "execution_count": 190,
   "metadata": {
    "collapsed": true
   },
   "outputs": [],
   "source": [
    "hz_vec = map_word2vec_centroid(hz_words_fq)"
   ]
  },
  {
   "cell_type": "code",
   "execution_count": 191,
   "metadata": {
    "collapsed": true
   },
   "outputs": [],
   "source": [
    "t0 = time()\n",
    "df['hjhc_w2vs_sim'] = df.w2v_centroid.map(lambda x: get_cosine2(hz_vec, x))\n",
    "print time() - t0"
   ]
  },
  {
   "cell_type": "code",
   "execution_count": 192,
   "metadata": {
    "collapsed": true
   },
   "outputs": [],
   "source": [
    "hz_sim = df['hjhc_w2vs_sim'].values.argsort()[::-1]"
   ]
  },
  {
   "cell_type": "code",
   "execution_count": 193,
   "metadata": {
    "collapsed": true
   },
   "outputs": [],
   "source": [
    "idx = 0\n",
    "for i in hz_sim:\n",
    "    if df.iloc[i]['hjhc_w2vs_sim'] > 0.50 and idx < 10:\n",
    "        title = df.iloc[i]['title']\n",
    "        content = df.iloc[i]['content']\n",
    "        sim_val = df.iloc[i]['hjhc_w2vs_sim']\n",
    "        idx += 1\n",
    "        print idx, i, title, sim_val\n",
    "        print  df.iloc[i]['url']\n",
    "        print content\n",
    "        print '--------------'"
   ]
  },
  {
   "cell_type": "code",
   "execution_count": 197,
   "metadata": {
    "collapsed": true
   },
   "outputs": [],
   "source": [
    "t0 = time()\n",
    "hz_vec = np.array(sk_model[u'徽剧'])*0.5 + np.array(sk_model[u'徽菜'])*0.5 \n",
    "df['hjhc_sk_sim'] = df.sk_centroid.map(lambda x: get_cosine2(hz_vec, x))\n",
    "print time() - t0"
   ]
  },
  {
   "cell_type": "code",
   "execution_count": 198,
   "metadata": {
    "collapsed": true
   },
   "outputs": [],
   "source": [
    "hz_sim = df['hjhc_sk_sim'].values.argsort()[::-1]"
   ]
  },
  {
   "cell_type": "code",
   "execution_count": 199,
   "metadata": {
    "collapsed": true
   },
   "outputs": [],
   "source": [
    "idx = 0\n",
    "for i in hz_sim:\n",
    "    if df.iloc[i]['hjhc_sk_sim'] > 0.50 and idx < 10:\n",
    "        title = df.iloc[i]['title']\n",
    "        content = df.iloc[i]['content']\n",
    "        sim_val = df.iloc[i]['hjhc_sk_sim']\n",
    "        idx += 1\n",
    "        print idx, i, title, sim_val\n",
    "        print  df.iloc[i]['url']\n",
    "        print content\n",
    "        print '--------------'"
   ]
  },
  {
   "cell_type": "code",
   "execution_count": 200,
   "metadata": {
    "collapsed": true
   },
   "outputs": [],
   "source": [
    "hz_vec = map_ft_sk_centroid(hz_words_fq)"
   ]
  },
  {
   "cell_type": "code",
   "execution_count": 201,
   "metadata": {
    "collapsed": true
   },
   "outputs": [],
   "source": [
    "t0 = time()\n",
    "df['hjhc_sks_sim'] = df.sk_centroid.map(lambda x: get_cosine2(hz_vec, x))\n",
    "print time() - t0"
   ]
  },
  {
   "cell_type": "code",
   "execution_count": 202,
   "metadata": {
    "collapsed": true
   },
   "outputs": [],
   "source": [
    "hz_sim = df['hjhc_sks_sim'].values.argsort()[::-1]"
   ]
  },
  {
   "cell_type": "code",
   "execution_count": 203,
   "metadata": {
    "collapsed": true
   },
   "outputs": [],
   "source": [
    "idx = 0\n",
    "for i in hz_sim:\n",
    "    if df.iloc[i]['hjhc_sks_sim'] > 0.50 and idx < 10:\n",
    "        title = df.iloc[i]['title']\n",
    "        content = df.iloc[i]['content']\n",
    "        sim_val = df.iloc[i]['hjhc_w2vs_sim']\n",
    "        idx += 1\n",
    "        print idx, i, title, sim_val\n",
    "        print  df.iloc[i]['url']\n",
    "        print content\n",
    "        print '--------------'"
   ]
  },
  {
   "cell_type": "code",
   "execution_count": null,
   "metadata": {
    "collapsed": true
   },
   "outputs": [],
   "source": []
  },
  {
   "cell_type": "code",
   "execution_count": 204,
   "metadata": {
    "collapsed": true
   },
   "outputs": [],
   "source": [
    "t0 = time()\n",
    "hz_vec = model[u'徽商']\n",
    "df['hs_w2v_sim'] = df.w2v_centroid.map(lambda x: get_cosine2(hz_vec, x))\n",
    "print time() - t0"
   ]
  },
  {
   "cell_type": "code",
   "execution_count": 205,
   "metadata": {
    "collapsed": true
   },
   "outputs": [],
   "source": [
    "hz_sim = df['hs_w2v_sim'].values.argsort()[::-1]"
   ]
  },
  {
   "cell_type": "code",
   "execution_count": 208,
   "metadata": {
    "collapsed": true
   },
   "outputs": [],
   "source": [
    "idx = 0\n",
    "for i in hz_sim:\n",
    "    if df.iloc[i]['hs_w2v_sim'] > 0.50 and idx < 10:\n",
    "        title = df.iloc[i]['title']\n",
    "        content = df.iloc[i]['content']\n",
    "        sim_val = df.iloc[i]['hs_w2v_sim']\n",
    "        idx += 1\n",
    "        print idx, i, title, sim_val\n",
    "        print  df.iloc[i]['url']\n",
    "        print content\n",
    "        print '--------------'"
   ]
  },
  {
   "cell_type": "code",
   "execution_count": 209,
   "metadata": {},
   "outputs": [
    {
     "data": {
      "text/plain": [
       "<matplotlib.text.Text at 0x1b6e21850>"
      ]
     },
     "execution_count": 209,
     "metadata": {},
     "output_type": "execute_result"
    },
    {
     "data": {
      "image/png": "[encoded data removed]",
      "text/plain": [
       "<matplotlib.figure.Figure at 0x193937650>"
      ]
     },
     "metadata": {},
     "output_type": "display_data"
    }
   ],
   "source": [
    "df['hs_w2v_sim'].hist(bins=500, figsize= (16, 6))\n",
    "plt.title('Huizhou W2V Similiarity Histogram')\n",
    "plt.xlabel('Similarity')\n",
    "plt.ylabel('Count')"
   ]
  },
  {
   "cell_type": "code",
   "execution_count": 210,
   "metadata": {
    "collapsed": true
   },
   "outputs": [],
   "source": [
    "msk1 = df['content'].str.contains('徽商') \n",
    "\n",
    "msk = msk1\n",
    "df_check = df[msk]"
   ]
  },
  {
   "cell_type": "code",
   "execution_count": 211,
   "metadata": {
    "collapsed": true
   },
   "outputs": [],
   "source": [
    "docs = df_check['content_seg']"
   ]
  },
  {
   "cell_type": "code",
   "execution_count": 212,
   "metadata": {
    "collapsed": true
   },
   "outputs": [],
   "source": [
    "hz_words_fq = map_words_fq(' '.join(docs))"
   ]
  },
  {
   "cell_type": "code",
   "execution_count": 213,
   "metadata": {
    "collapsed": true
   },
   "outputs": [],
   "source": [
    "hz_vec = map_word2vec_centroid(hz_words_fq)"
   ]
  },
  {
   "cell_type": "code",
   "execution_count": 214,
   "metadata": {
    "collapsed": true
   },
   "outputs": [],
   "source": [
    "t0 = time()\n",
    "df['hs_w2vs_sim'] = df.w2v_centroid.map(lambda x: get_cosine2(hz_vec, x))\n",
    "print time() - t0"
   ]
  },
  {
   "cell_type": "code",
   "execution_count": 215,
   "metadata": {
    "collapsed": true
   },
   "outputs": [],
   "source": [
    "hz_sim = df['hs_w2vs_sim'].values.argsort()[::-1]"
   ]
  },
  {
   "cell_type": "code",
   "execution_count": 216,
   "metadata": {
    "collapsed": true
   },
   "outputs": [],
   "source": [
    "idx = 0\n",
    "for i in hz_sim:\n",
    "    if df.iloc[i]['hs_w2vs_sim'] > 0.50 and idx < 10:\n",
    "        title = df.iloc[i]['title']\n",
    "        content = df.iloc[i]['content']\n",
    "        sim_val = df.iloc[i]['hs_w2vs_sim']\n",
    "        idx += 1\n",
    "        print idx, i, title, sim_val\n",
    "        print  df.iloc[i]['url']\n",
    "        print content\n",
    "        print '--------------'"
   ]
  },
  {
   "cell_type": "code",
   "execution_count": 236,
   "metadata": {
    "collapsed": true
   },
   "outputs": [],
   "source": [
    "t0 = time()\n",
    "hz_vec = np.array(sk_model[u'徽商']) \n",
    "df['hs_sk_sim'] = df.sk_centroid.map(lambda x: get_cosine2(hz_vec, x))\n",
    "print time() - t0"
   ]
  },
  {
   "cell_type": "code",
   "execution_count": 237,
   "metadata": {
    "collapsed": true
   },
   "outputs": [],
   "source": [
    "hz_sim = df['hs_sk_sim'].values.argsort()[::-1]"
   ]
  },
  {
   "cell_type": "code",
   "execution_count": 238,
   "metadata": {
    "collapsed": true
   },
   "outputs": [],
   "source": [
    "idx = 0\n",
    "for i in hz_sim:\n",
    "    if df.iloc[i]['hs_sk_sim'] > 0.50 and idx < 10:\n",
    "        title = df.iloc[i]['title']\n",
    "        content = df.iloc[i]['content']\n",
    "        sim_val = df.iloc[i]['hs_sk_sim']\n",
    "        idx += 1\n",
    "        print idx, i, title, sim_val\n",
    "        print  df.iloc[i]['url']\n",
    "        print content\n",
    "        print '--------------'"
   ]
  },
  {
   "cell_type": "code",
   "execution_count": 220,
   "metadata": {
    "collapsed": true
   },
   "outputs": [],
   "source": [
    "hz_vec = map_ft_sk_centroid(hz_words_fq)"
   ]
  },
  {
   "cell_type": "code",
   "execution_count": 221,
   "metadata": {
    "collapsed": true
   },
   "outputs": [],
   "source": [
    "t0 = time()\n",
    "df['hs_sks_sim'] = df.sk_centroid.map(lambda x: get_cosine2(hz_vec, x))\n",
    "print time() - t0"
   ]
  },
  {
   "cell_type": "code",
   "execution_count": 222,
   "metadata": {
    "collapsed": true
   },
   "outputs": [],
   "source": [
    "hz_sim = df['hs_sks_sim'].values.argsort()[::-1]"
   ]
  },
  {
   "cell_type": "code",
   "execution_count": 223,
   "metadata": {
    "collapsed": true
   },
   "outputs": [],
   "source": [
    "idx = 0\n",
    "for i in hz_sim:\n",
    "    if df.iloc[i]['hs_sks_sim'] > 0.50 and idx < 10:\n",
    "        title = df.iloc[i]['title']\n",
    "        content = df.iloc[i]['content']\n",
    "        sim_val = df.iloc[i]['hs_sks_sim']\n",
    "        idx += 1\n",
    "        print idx, i, title, sim_val\n",
    "        print  df.iloc[i]['url']\n",
    "        print content\n",
    "        print '--------------'"
   ]
  },
  {
   "cell_type": "code",
   "execution_count": null,
   "metadata": {
    "collapsed": true
   },
   "outputs": [],
   "source": []
  },
  {
   "cell_type": "code",
   "execution_count": null,
   "metadata": {
    "collapsed": true
   },
   "outputs": [],
   "source": []
  },
  {
   "cell_type": "code",
   "execution_count": 224,
   "metadata": {
    "collapsed": true
   },
   "outputs": [],
   "source": [
    "t0 = time()\n",
    "hz_vec = model[u'新安']*0.5 + model[u'理学']*0.5\n",
    "df['xalx_w2v_sim'] = df.w2v_centroid.map(lambda x: get_cosine2(hz_vec, x))\n",
    "print time() - t0"
   ]
  },
  {
   "cell_type": "code",
   "execution_count": 225,
   "metadata": {
    "collapsed": true
   },
   "outputs": [],
   "source": [
    "hz_sim = df['xalx_w2v_sim'].values.argsort()[::-1]"
   ]
  },
  {
   "cell_type": "code",
   "execution_count": 228,
   "metadata": {
    "collapsed": true
   },
   "outputs": [],
   "source": [
    "idx = 0\n",
    "for i in hz_sim:\n",
    "    if df.iloc[i]['xalx_w2v_sim'] > 0.50 and idx < 10:\n",
    "        title = df.iloc[i]['title']\n",
    "        content = df.iloc[i]['content']\n",
    "        sim_val = df.iloc[i]['xalx_w2v_sim']\n",
    "        idx += 1\n",
    "        print idx, i, title, sim_val\n",
    "        print  df.iloc[i]['url']\n",
    "        print content\n",
    "        print '--------------'"
   ]
  },
  {
   "cell_type": "code",
   "execution_count": 227,
   "metadata": {},
   "outputs": [
    {
     "data": {
      "text/plain": [
       "<matplotlib.text.Text at 0x19261a990>"
      ]
     },
     "execution_count": 227,
     "metadata": {},
     "output_type": "execute_result"
    },
    {
     "data": {
      "image/png": "[encoded data removed]",
      "text/plain": [
       "<matplotlib.figure.Figure at 0x109893450>"
      ]
     },
     "metadata": {},
     "output_type": "display_data"
    }
   ],
   "source": [
    "df['xalx_w2v_sim'].hist(bins=500, figsize= (16, 6))\n",
    "plt.title('Huizhou W2V Similiarity Histogram')\n",
    "plt.xlabel('Similarity')\n",
    "plt.ylabel('Count')"
   ]
  },
  {
   "cell_type": "code",
   "execution_count": 229,
   "metadata": {
    "collapsed": true
   },
   "outputs": [],
   "source": [
    "msk1 = df['content'].str.contains('新安') \n",
    "msk2 = df['content'].str.contains('理学') \n",
    "\n",
    "msk = msk1 | msk2\n",
    "df_check = df[msk]"
   ]
  },
  {
   "cell_type": "code",
   "execution_count": 230,
   "metadata": {
    "collapsed": true
   },
   "outputs": [],
   "source": [
    "docs = df_check['content_seg']"
   ]
  },
  {
   "cell_type": "code",
   "execution_count": 231,
   "metadata": {
    "collapsed": true
   },
   "outputs": [],
   "source": [
    "hz_words_fq = map_words_fq(' '.join(docs))"
   ]
  },
  {
   "cell_type": "code",
   "execution_count": 232,
   "metadata": {
    "collapsed": true
   },
   "outputs": [],
   "source": [
    "hz_vec = map_word2vec_centroid(hz_words_fq)"
   ]
  },
  {
   "cell_type": "code",
   "execution_count": 233,
   "metadata": {
    "collapsed": true
   },
   "outputs": [],
   "source": [
    "t0 = time()\n",
    "df['xalx_w2vs_sim'] = df.w2v_centroid.map(lambda x: get_cosine2(hz_vec, x))\n",
    "print time() - t0"
   ]
  },
  {
   "cell_type": "code",
   "execution_count": 234,
   "metadata": {
    "collapsed": true
   },
   "outputs": [],
   "source": [
    "hz_sim = df['xalx_w2vs_sim'].values.argsort()[::-1]"
   ]
  },
  {
   "cell_type": "code",
   "execution_count": 235,
   "metadata": {
    "collapsed": true
   },
   "outputs": [],
   "source": [
    "idx = 0\n",
    "for i in hz_sim:\n",
    "    if df.iloc[i]['xalx_w2vs_sim'] > 0.50 and idx < 10:\n",
    "        title = df.iloc[i]['title']\n",
    "        content = df.iloc[i]['content']\n",
    "        sim_val = df.iloc[i]['xalx_w2vs_sim']\n",
    "        idx += 1\n",
    "        print idx, i, title, sim_val\n",
    "        print  df.iloc[i]['url']\n",
    "        print content\n",
    "        print '--------------'"
   ]
  },
  {
   "cell_type": "code",
   "execution_count": 266,
   "metadata": {
    "collapsed": true
   },
   "outputs": [],
   "source": [
    "t0 = time()\n",
    "hz_vec = np.array(sk_model[u'新安'])*0.5 + np.array(sk_model[u'理学'])*0.5\n",
    "df['xalx_sk_sim'] = df.sk_centroid.map(lambda x: get_cosine2(hz_vec, x))\n",
    "print time() - t0"
   ]
  },
  {
   "cell_type": "code",
   "execution_count": 241,
   "metadata": {
    "collapsed": true
   },
   "outputs": [],
   "source": [
    "hz_sim = df['xalx_sk_sim'].values.argsort()[::-1]"
   ]
  },
  {
   "cell_type": "code",
   "execution_count": 242,
   "metadata": {
    "collapsed": true
   },
   "outputs": [],
   "source": [
    "idx = 0\n",
    "for i in hz_sim:\n",
    "    if df.iloc[i]['xalx_sk_sim'] > 0.50 and idx < 10:\n",
    "        title = df.iloc[i]['title']\n",
    "        content = df.iloc[i]['content']\n",
    "        sim_val = df.iloc[i]['xalx_sk_sim']\n",
    "        idx += 1\n",
    "        print idx, i, title, sim_val\n",
    "        print  df.iloc[i]['url']\n",
    "        print content\n",
    "        print '--------------'"
   ]
  },
  {
   "cell_type": "code",
   "execution_count": 243,
   "metadata": {
    "collapsed": true
   },
   "outputs": [],
   "source": [
    "hz_vec = map_ft_sk_centroid(hz_words_fq)"
   ]
  },
  {
   "cell_type": "code",
   "execution_count": 267,
   "metadata": {
    "collapsed": true
   },
   "outputs": [],
   "source": [
    "t0 = time()\n",
    "df['xalx_sks_sim'] = df.sk_centroid.map(lambda x: get_cosine2(hz_vec, x))\n",
    "print time() - t0"
   ]
  },
  {
   "cell_type": "code",
   "execution_count": 245,
   "metadata": {
    "collapsed": true
   },
   "outputs": [],
   "source": [
    "hz_sim = df['xalx_sks_sim'].values.argsort()[::-1]"
   ]
  },
  {
   "cell_type": "code",
   "execution_count": 246,
   "metadata": {
    "collapsed": true
   },
   "outputs": [],
   "source": [
    "idx = 0\n",
    "for i in hz_sim:\n",
    "    if df.iloc[i]['xalx_sks_sim'] > 0.50 and idx < 10:\n",
    "        title = df.iloc[i]['title']\n",
    "        content = df.iloc[i]['content']\n",
    "        sim_val = df.iloc[i]['xalx_sks_sim']\n",
    "        idx += 1\n",
    "        print idx, i, title, sim_val\n",
    "        print  df.iloc[i]['url']\n",
    "        print content\n",
    "        print '--------------'"
   ]
  },
  {
   "cell_type": "code",
   "execution_count": null,
   "metadata": {
    "collapsed": true
   },
   "outputs": [],
   "source": []
  },
  {
   "cell_type": "code",
   "execution_count": 265,
   "metadata": {
    "collapsed": true
   },
   "outputs": [],
   "source": [
    "t0 = time()\n",
    "hz_vec = model[u'徽学']*0.5 + model[u'研究']*0.5\n",
    "df['hxyj_w2v_sim'] = df.w2v_centroid.map(lambda x: get_cosine2(hz_vec, x))\n",
    "print time() - t0"
   ]
  },
  {
   "cell_type": "code",
   "execution_count": 248,
   "metadata": {
    "collapsed": true
   },
   "outputs": [],
   "source": [
    "hz_sim = df['hxyj_w2v_sim'].values.argsort()[::-1]"
   ]
  },
  {
   "cell_type": "code",
   "execution_count": 251,
   "metadata": {
    "collapsed": true
   },
   "outputs": [],
   "source": [
    "idx = 0\n",
    "for i in hz_sim:\n",
    "    if df.iloc[i]['hxyj_w2v_sim'] > 0.50 and idx < 10:\n",
    "        title = df.iloc[i]['title']\n",
    "        content = df.iloc[i]['content']\n",
    "        sim_val = df.iloc[i]['hxyj_w2v_sim']\n",
    "        idx += 1\n",
    "        print idx, i, title, sim_val\n",
    "        print  df.iloc[i]['url']\n",
    "        print content\n",
    "        print '--------------'"
   ]
  },
  {
   "cell_type": "code",
   "execution_count": 250,
   "metadata": {},
   "outputs": [
    {
     "data": {
      "text/plain": [
       "<matplotlib.text.Text at 0x19d792510>"
      ]
     },
     "execution_count": 250,
     "metadata": {},
     "output_type": "execute_result"
    },
    {
     "data": {
      "image/png": "[encoded data removed]",
      "text/plain": [
       "<matplotlib.figure.Figure at 0x189f47890>"
      ]
     },
     "metadata": {},
     "output_type": "display_data"
    }
   ],
   "source": [
    "df['hxyj_w2v_sim'].hist(bins=500, figsize= (16, 6))\n",
    "plt.title('Huizhou W2V Similiarity Histogram')\n",
    "plt.xlabel('Similarity')\n",
    "plt.ylabel('Count')"
   ]
  },
  {
   "cell_type": "code",
   "execution_count": 252,
   "metadata": {
    "collapsed": true
   },
   "outputs": [],
   "source": [
    "msk1 = df['content'].str.contains('徽学') \n",
    "msk2 = df['content'].str.contains('研究') \n",
    "\n",
    "msk = msk1 | msk2\n",
    "df_check = df[msk]"
   ]
  },
  {
   "cell_type": "code",
   "execution_count": 253,
   "metadata": {
    "collapsed": true
   },
   "outputs": [],
   "source": [
    "docs = df_check['content_seg']"
   ]
  },
  {
   "cell_type": "code",
   "execution_count": 254,
   "metadata": {
    "collapsed": true
   },
   "outputs": [],
   "source": [
    "hz_words_fq = map_words_fq(' '.join(docs))"
   ]
  },
  {
   "cell_type": "code",
   "execution_count": 255,
   "metadata": {
    "collapsed": true
   },
   "outputs": [],
   "source": [
    "hz_vec = map_word2vec_centroid(hz_words_fq)"
   ]
  },
  {
   "cell_type": "code",
   "execution_count": 257,
   "metadata": {
    "collapsed": true
   },
   "outputs": [],
   "source": [
    "t0 = time()\n",
    "df['hxyj_w2vs_sim'] = df.w2v_centroid.map(lambda x: get_cosine2(hz_vec, x))\n",
    "print time() - t0"
   ]
  },
  {
   "cell_type": "code",
   "execution_count": 258,
   "metadata": {
    "collapsed": true
   },
   "outputs": [],
   "source": [
    "hz_sim = df['hxyj_w2vs_sim'].values.argsort()[::-1]"
   ]
  },
  {
   "cell_type": "code",
   "execution_count": 259,
   "metadata": {
    "collapsed": true
   },
   "outputs": [],
   "source": [
    "idx = 0\n",
    "for i in hz_sim:\n",
    "    if df.iloc[i]['hxyj_w2vs_sim'] > 0.50 and idx < 10:\n",
    "        title = df.iloc[i]['title']\n",
    "        content = df.iloc[i]['content']\n",
    "        sim_val = df.iloc[i]['hxyj_w2vs_sim']\n",
    "        idx += 1\n",
    "        print idx, i, title, sim_val\n",
    "        print  df.iloc[i]['url']\n",
    "        print content\n",
    "        print '--------------'"
   ]
  },
  {
   "cell_type": "code",
   "execution_count": 268,
   "metadata": {
    "collapsed": true
   },
   "outputs": [],
   "source": [
    "t0 = time()\n",
    "hz_vec = np.array(sk_model[u'徽学'])*0.5 + np.array(sk_model[u'研究'])*0.5\n",
    "df['hxyj_sk_sim'] = df.sk_centroid.map(lambda x: get_cosine2(hz_vec, x))\n",
    "print time() - t0"
   ]
  },
  {
   "cell_type": "code",
   "execution_count": 269,
   "metadata": {
    "collapsed": true
   },
   "outputs": [],
   "source": [
    "hz_sim = df['hxyj_sk_sim'].values.argsort()[::-1]"
   ]
  },
  {
   "cell_type": "code",
   "execution_count": 270,
   "metadata": {
    "collapsed": true
   },
   "outputs": [],
   "source": [
    "idx = 0\n",
    "for i in hz_sim:\n",
    "    if df.iloc[i]['hxyj_sk_sim'] > 0.50 and idx < 10:\n",
    "        title = df.iloc[i]['title']\n",
    "        content = df.iloc[i]['content']\n",
    "        sim_val = df.iloc[i]['hxyj_sk_sim']\n",
    "        idx += 1\n",
    "        print idx, i, title, sim_val\n",
    "        print  df.iloc[i]['url']\n",
    "        print content\n",
    "        print '--------------'"
   ]
  },
  {
   "cell_type": "code",
   "execution_count": null,
   "metadata": {
    "collapsed": true
   },
   "outputs": [],
   "source": []
  },
  {
   "cell_type": "code",
   "execution_count": 271,
   "metadata": {
    "collapsed": true
   },
   "outputs": [],
   "source": [
    "hz_vec = map_ft_sk_centroid(hz_words_fq)"
   ]
  },
  {
   "cell_type": "code",
   "execution_count": 272,
   "metadata": {
    "collapsed": true
   },
   "outputs": [],
   "source": [
    "t0 = time()\n",
    "df['hxyj_sks_sim'] = df.sk_centroid.map(lambda x: get_cosine2(hz_vec, x))\n",
    "print time() - t0"
   ]
  },
  {
   "cell_type": "code",
   "execution_count": 273,
   "metadata": {
    "collapsed": true
   },
   "outputs": [],
   "source": [
    "hz_sim = df['hxyj_sks_sim'].values.argsort()[::-1]"
   ]
  },
  {
   "cell_type": "code",
   "execution_count": 274,
   "metadata": {
    "collapsed": true
   },
   "outputs": [],
   "source": [
    "idx = 0\n",
    "for i in hz_sim:\n",
    "    if df.iloc[i]['hxyj_sks_sim'] > 0.50 and idx < 10:\n",
    "        title = df.iloc[i]['title']\n",
    "        content = df.iloc[i]['content']\n",
    "        sim_val = df.iloc[i]['hxyj_sks_sim']\n",
    "        idx += 1\n",
    "        print idx, i, title, sim_val\n",
    "        print  df.iloc[i]['url']\n",
    "        print content\n",
    "        print '--------------'"
   ]
  },
  {
   "cell_type": "code",
   "execution_count": null,
   "metadata": {
    "collapsed": true
   },
   "outputs": [],
   "source": []
  },
  {
   "cell_type": "code",
   "execution_count": 277,
   "metadata": {
    "collapsed": true
   },
   "outputs": [],
   "source": [
    "t0 = time()\n",
    "hz_vec = model[u'许村']\n",
    "df['check_w2v_sim'] = df.w2v_centroid.map(lambda x: get_cosine2(hz_vec, x))\n",
    "print time() - t0"
   ]
  },
  {
   "cell_type": "code",
   "execution_count": 278,
   "metadata": {
    "collapsed": true
   },
   "outputs": [],
   "source": [
    "hz_sim = df['check_w2v_sim'].values.argsort()[::-1]"
   ]
  },
  {
   "cell_type": "code",
   "execution_count": 280,
   "metadata": {
    "collapsed": true
   },
   "outputs": [],
   "source": [
    "idx = 0\n",
    "for i in hz_sim:\n",
    "    if df.iloc[i]['check_w2v_sim'] > 0.50 and idx < 50:\n",
    "        title = df.iloc[i]['title']\n",
    "        content = df.iloc[i]['content']\n",
    "        sim_val = df.iloc[i]['check_w2v_sim']\n",
    "        idx += 1\n",
    "        print idx, i, title, sim_val\n",
    "        print  df.iloc[i]['url']\n",
    "        print content\n",
    "        print '--------------'"
   ]
  },
  {
   "cell_type": "code",
   "execution_count": 293,
   "metadata": {
    "collapsed": true
   },
   "outputs": [],
   "source": [
    "msk1 = df['content'].str.contains('许村') \n",
    "\n",
    "msk = msk1\n",
    "df_check = df[msk]"
   ]
  },
  {
   "cell_type": "code",
   "execution_count": 294,
   "metadata": {
    "collapsed": true
   },
   "outputs": [],
   "source": [
    "df_check.info()"
   ]
  },
  {
   "cell_type": "code",
   "execution_count": 295,
   "metadata": {
    "collapsed": true
   },
   "outputs": [],
   "source": [
    "docs = df_check['content_seg']"
   ]
  },
  {
   "cell_type": "code",
   "execution_count": 296,
   "metadata": {
    "collapsed": true
   },
   "outputs": [],
   "source": [
    "hz_words_fq = map_words_fq(' '.join(docs))"
   ]
  },
  {
   "cell_type": "code",
   "execution_count": 298,
   "metadata": {
    "collapsed": true
   },
   "outputs": [],
   "source": [
    "print ' '.join(hz_words_fq.keys())"
   ]
  },
  {
   "cell_type": "code",
   "execution_count": 284,
   "metadata": {
    "collapsed": true
   },
   "outputs": [],
   "source": [
    "t0 = time()\n",
    "df['check_w2v_sim'] = df.w2v_centroid.map(lambda x: get_cosine2(hz_vec, x))\n",
    "print time() - t0"
   ]
  },
  {
   "cell_type": "code",
   "execution_count": 285,
   "metadata": {
    "collapsed": true
   },
   "outputs": [],
   "source": [
    "hz_sim = df['check_w2v_sim'].values.argsort()[::-1]"
   ]
  },
  {
   "cell_type": "code",
   "execution_count": 286,
   "metadata": {
    "collapsed": true
   },
   "outputs": [],
   "source": [
    "idx = 0\n",
    "for i in hz_sim:\n",
    "    if df.iloc[i]['check_w2v_sim'] > 0.50 and idx < 50:\n",
    "        title = df.iloc[i]['title']\n",
    "        content = df.iloc[i]['content']\n",
    "        sim_val = df.iloc[i]['check_w2v_sim']\n",
    "        idx += 1\n",
    "        print idx, i, title, sim_val\n",
    "        print  df.iloc[i]['url']\n",
    "        print content\n",
    "        print '--------------'"
   ]
  },
  {
   "cell_type": "code",
   "execution_count": null,
   "metadata": {
    "collapsed": true
   },
   "outputs": [],
   "source": []
  },
  {
   "cell_type": "code",
   "execution_count": 291,
   "metadata": {
    "collapsed": true
   },
   "outputs": [],
   "source": [
    "hz_sim = df_check['content_len'].values.argsort()[::-1]"
   ]
  },
  {
   "cell_type": "code",
   "execution_count": 292,
   "metadata": {
    "collapsed": true
   },
   "outputs": [],
   "source": [
    "idx = 0\n",
    "for i in hz_sim:\n",
    "    if df_check.iloc[i]['content_len'] > 0:\n",
    "        title = df_check.iloc[i]['title']\n",
    "        content = df_check.iloc[i]['content']\n",
    "        sim_val = df_check.iloc[i]['content_len']\n",
    "        idx += 1\n",
    "        print idx, i, title, sim_val\n",
    "        print  df.iloc[i]['url']\n",
    "        print content\n",
    "        print '--------------'"
   ]
  },
  {
   "cell_type": "code",
   "execution_count": null,
   "metadata": {
    "collapsed": true
   },
   "outputs": [],
   "source": []
  },
  {
   "cell_type": "code",
   "execution_count": 299,
   "metadata": {
    "collapsed": true
   },
   "outputs": [],
   "source": [
    "import math\n",
    "from textblob import TextBlob as tb\n",
    "\n",
    "def tf(word, blob):\n",
    "    return blob.words.count(word) / len(blob.words)\n",
    "\n",
    "def n_containing(word, bloblist):\n",
    "    return sum(1 for blob in bloblist if word in blob.words)\n",
    "\n",
    "def idf(word, bloblist):\n",
    "    return math.log(len(bloblist) / (1 + n_containing(word, bloblist)))\n",
    "\n",
    "def tfidf(word, blob, bloblist):\n",
    "    return tf(word, blob) * idf(word, bloblist)"
   ]
  },
  {
   "cell_type": "code",
   "execution_count": 305,
   "metadata": {
    "collapsed": true
   },
   "outputs": [],
   "source": [
    "df_check['content_tb'] = df_check.content_seg.map(lambda x: tb(x.decode('utf-8')))"
   ]
  },
  {
   "cell_type": "code",
   "execution_count": 306,
   "metadata": {
    "collapsed": true
   },
   "outputs": [],
   "source": [
    "bloblist = df_check['content_tb']"
   ]
  },
  {
   "cell_type": "code",
   "execution_count": 309,
   "metadata": {},
   "outputs": [
    {
     "ename": "KeyboardInterrupt",
     "evalue": "",
     "output_type": "error",
     "traceback": [
      "\u001b[0;31m---------------------------------------------------------------------------\u001b[0m",
      "\u001b[0;31mKeyboardInterrupt\u001b[0m                         Traceback (most recent call last)",
      "\u001b[0;32m<ipython-input-309-32519a8f4987>\u001b[0m in \u001b[0;36m<module>\u001b[0;34m()\u001b[0m\n\u001b[1;32m      1\u001b[0m \u001b[0;32mfor\u001b[0m \u001b[0mi\u001b[0m\u001b[0;34m,\u001b[0m \u001b[0mblob\u001b[0m \u001b[0;32min\u001b[0m \u001b[0menumerate\u001b[0m\u001b[0;34m(\u001b[0m\u001b[0mbloblist\u001b[0m\u001b[0;34m)\u001b[0m\u001b[0;34m:\u001b[0m\u001b[0;34m\u001b[0m\u001b[0m\n\u001b[1;32m      2\u001b[0m     \u001b[0;32mprint\u001b[0m\u001b[0;34m(\u001b[0m\u001b[0;34m\"Top words in document {}\"\u001b[0m\u001b[0;34m.\u001b[0m\u001b[0mformat\u001b[0m\u001b[0;34m(\u001b[0m\u001b[0mi\u001b[0m \u001b[0;34m+\u001b[0m \u001b[0;36m1\u001b[0m\u001b[0;34m)\u001b[0m\u001b[0;34m)\u001b[0m\u001b[0;34m\u001b[0m\u001b[0m\n\u001b[0;32m----> 3\u001b[0;31m     \u001b[0mscores\u001b[0m \u001b[0;34m=\u001b[0m \u001b[0;34m{\u001b[0m\u001b[0mword\u001b[0m\u001b[0;34m:\u001b[0m \u001b[0mtfidf\u001b[0m\u001b[0;34m(\u001b[0m\u001b[0mword\u001b[0m\u001b[0;34m,\u001b[0m \u001b[0mblob\u001b[0m\u001b[0;34m,\u001b[0m \u001b[0mbloblist\u001b[0m\u001b[0;34m)\u001b[0m \u001b[0;32mfor\u001b[0m \u001b[0mword\u001b[0m \u001b[0;32min\u001b[0m \u001b[0mblob\u001b[0m\u001b[0;34m.\u001b[0m\u001b[0mwords\u001b[0m\u001b[0;34m}\u001b[0m\u001b[0;34m\u001b[0m\u001b[0m\n\u001b[0m\u001b[1;32m      4\u001b[0m     \u001b[0msorted_words\u001b[0m \u001b[0;34m=\u001b[0m \u001b[0msorted\u001b[0m\u001b[0;34m(\u001b[0m\u001b[0mscores\u001b[0m\u001b[0;34m.\u001b[0m\u001b[0mitems\u001b[0m\u001b[0;34m(\u001b[0m\u001b[0;34m)\u001b[0m\u001b[0;34m,\u001b[0m \u001b[0mkey\u001b[0m\u001b[0;34m=\u001b[0m\u001b[0;32mlambda\u001b[0m \u001b[0mx\u001b[0m\u001b[0;34m:\u001b[0m \u001b[0mx\u001b[0m\u001b[0;34m[\u001b[0m\u001b[0;36m1\u001b[0m\u001b[0;34m]\u001b[0m\u001b[0;34m,\u001b[0m \u001b[0mreverse\u001b[0m\u001b[0;34m=\u001b[0m\u001b[0mTrue\u001b[0m\u001b[0;34m)\u001b[0m\u001b[0;34m\u001b[0m\u001b[0m\n\u001b[1;32m      5\u001b[0m     \u001b[0;32mfor\u001b[0m \u001b[0mword\u001b[0m\u001b[0;34m,\u001b[0m \u001b[0mscore\u001b[0m \u001b[0;32min\u001b[0m \u001b[0msorted_words\u001b[0m\u001b[0;34m[\u001b[0m\u001b[0;34m:\u001b[0m\u001b[0;36m3\u001b[0m\u001b[0;34m]\u001b[0m\u001b[0;34m:\u001b[0m\u001b[0;34m\u001b[0m\u001b[0m\n",
      "\u001b[0;32m<ipython-input-309-32519a8f4987>\u001b[0m in \u001b[0;36m<dictcomp>\u001b[0;34m((word,))\u001b[0m\n\u001b[1;32m      1\u001b[0m \u001b[0;32mfor\u001b[0m \u001b[0mi\u001b[0m\u001b[0;34m,\u001b[0m \u001b[0mblob\u001b[0m \u001b[0;32min\u001b[0m \u001b[0menumerate\u001b[0m\u001b[0;34m(\u001b[0m\u001b[0mbloblist\u001b[0m\u001b[0;34m)\u001b[0m\u001b[0;34m:\u001b[0m\u001b[0;34m\u001b[0m\u001b[0m\n\u001b[1;32m      2\u001b[0m     \u001b[0;32mprint\u001b[0m\u001b[0;34m(\u001b[0m\u001b[0;34m\"Top words in document {}\"\u001b[0m\u001b[0;34m.\u001b[0m\u001b[0mformat\u001b[0m\u001b[0;34m(\u001b[0m\u001b[0mi\u001b[0m \u001b[0;34m+\u001b[0m \u001b[0;36m1\u001b[0m\u001b[0;34m)\u001b[0m\u001b[0;34m)\u001b[0m\u001b[0;34m\u001b[0m\u001b[0m\n\u001b[0;32m----> 3\u001b[0;31m     \u001b[0mscores\u001b[0m \u001b[0;34m=\u001b[0m \u001b[0;34m{\u001b[0m\u001b[0mword\u001b[0m\u001b[0;34m:\u001b[0m \u001b[0mtfidf\u001b[0m\u001b[0;34m(\u001b[0m\u001b[0mword\u001b[0m\u001b[0;34m,\u001b[0m \u001b[0mblob\u001b[0m\u001b[0;34m,\u001b[0m \u001b[0mbloblist\u001b[0m\u001b[0;34m)\u001b[0m \u001b[0;32mfor\u001b[0m \u001b[0mword\u001b[0m \u001b[0;32min\u001b[0m \u001b[0mblob\u001b[0m\u001b[0;34m.\u001b[0m\u001b[0mwords\u001b[0m\u001b[0;34m}\u001b[0m\u001b[0;34m\u001b[0m\u001b[0m\n\u001b[0m\u001b[1;32m      4\u001b[0m     \u001b[0msorted_words\u001b[0m \u001b[0;34m=\u001b[0m \u001b[0msorted\u001b[0m\u001b[0;34m(\u001b[0m\u001b[0mscores\u001b[0m\u001b[0;34m.\u001b[0m\u001b[0mitems\u001b[0m\u001b[0;34m(\u001b[0m\u001b[0;34m)\u001b[0m\u001b[0;34m,\u001b[0m \u001b[0mkey\u001b[0m\u001b[0;34m=\u001b[0m\u001b[0;32mlambda\u001b[0m \u001b[0mx\u001b[0m\u001b[0;34m:\u001b[0m \u001b[0mx\u001b[0m\u001b[0;34m[\u001b[0m\u001b[0;36m1\u001b[0m\u001b[0;34m]\u001b[0m\u001b[0;34m,\u001b[0m \u001b[0mreverse\u001b[0m\u001b[0;34m=\u001b[0m\u001b[0mTrue\u001b[0m\u001b[0;34m)\u001b[0m\u001b[0;34m\u001b[0m\u001b[0m\n\u001b[1;32m      5\u001b[0m     \u001b[0;32mfor\u001b[0m \u001b[0mword\u001b[0m\u001b[0;34m,\u001b[0m \u001b[0mscore\u001b[0m \u001b[0;32min\u001b[0m \u001b[0msorted_words\u001b[0m\u001b[0;34m[\u001b[0m\u001b[0;34m:\u001b[0m\u001b[0;36m3\u001b[0m\u001b[0;34m]\u001b[0m\u001b[0;34m:\u001b[0m\u001b[0;34m\u001b[0m\u001b[0m\n",
      "\u001b[0;32m<ipython-input-299-259047f705ba>\u001b[0m in \u001b[0;36mtfidf\u001b[0;34m(word, blob, bloblist)\u001b[0m\n\u001b[1;32m     12\u001b[0m \u001b[0;34m\u001b[0m\u001b[0m\n\u001b[1;32m     13\u001b[0m \u001b[0;32mdef\u001b[0m \u001b[0mtfidf\u001b[0m\u001b[0;34m(\u001b[0m\u001b[0mword\u001b[0m\u001b[0;34m,\u001b[0m \u001b[0mblob\u001b[0m\u001b[0;34m,\u001b[0m \u001b[0mbloblist\u001b[0m\u001b[0;34m)\u001b[0m\u001b[0;34m:\u001b[0m\u001b[0;34m\u001b[0m\u001b[0m\n\u001b[0;32m---> 14\u001b[0;31m     \u001b[0;32mreturn\u001b[0m \u001b[0mtf\u001b[0m\u001b[0;34m(\u001b[0m\u001b[0mword\u001b[0m\u001b[0;34m,\u001b[0m \u001b[0mblob\u001b[0m\u001b[0;34m)\u001b[0m \u001b[0;34m*\u001b[0m \u001b[0midf\u001b[0m\u001b[0;34m(\u001b[0m\u001b[0mword\u001b[0m\u001b[0;34m,\u001b[0m \u001b[0mbloblist\u001b[0m\u001b[0;34m)\u001b[0m\u001b[0;34m\u001b[0m\u001b[0m\n\u001b[0m",
      "\u001b[0;32m<ipython-input-299-259047f705ba>\u001b[0m in \u001b[0;36midf\u001b[0;34m(word, bloblist)\u001b[0m\n\u001b[1;32m      9\u001b[0m \u001b[0;34m\u001b[0m\u001b[0m\n\u001b[1;32m     10\u001b[0m \u001b[0;32mdef\u001b[0m \u001b[0midf\u001b[0m\u001b[0;34m(\u001b[0m\u001b[0mword\u001b[0m\u001b[0;34m,\u001b[0m \u001b[0mbloblist\u001b[0m\u001b[0;34m)\u001b[0m\u001b[0;34m:\u001b[0m\u001b[0;34m\u001b[0m\u001b[0m\n\u001b[0;32m---> 11\u001b[0;31m     \u001b[0;32mreturn\u001b[0m \u001b[0mmath\u001b[0m\u001b[0;34m.\u001b[0m\u001b[0mlog\u001b[0m\u001b[0;34m(\u001b[0m\u001b[0mlen\u001b[0m\u001b[0;34m(\u001b[0m\u001b[0mbloblist\u001b[0m\u001b[0;34m)\u001b[0m \u001b[0;34m/\u001b[0m \u001b[0;34m(\u001b[0m\u001b[0;36m1\u001b[0m \u001b[0;34m+\u001b[0m \u001b[0mn_containing\u001b[0m\u001b[0;34m(\u001b[0m\u001b[0mword\u001b[0m\u001b[0;34m,\u001b[0m \u001b[0mbloblist\u001b[0m\u001b[0;34m)\u001b[0m\u001b[0;34m)\u001b[0m\u001b[0;34m)\u001b[0m\u001b[0;34m\u001b[0m\u001b[0m\n\u001b[0m\u001b[1;32m     12\u001b[0m \u001b[0;34m\u001b[0m\u001b[0m\n\u001b[1;32m     13\u001b[0m \u001b[0;32mdef\u001b[0m \u001b[0mtfidf\u001b[0m\u001b[0;34m(\u001b[0m\u001b[0mword\u001b[0m\u001b[0;34m,\u001b[0m \u001b[0mblob\u001b[0m\u001b[0;34m,\u001b[0m \u001b[0mbloblist\u001b[0m\u001b[0;34m)\u001b[0m\u001b[0;34m:\u001b[0m\u001b[0;34m\u001b[0m\u001b[0m\n",
      "\u001b[0;32m<ipython-input-299-259047f705ba>\u001b[0m in \u001b[0;36mn_containing\u001b[0;34m(word, bloblist)\u001b[0m\n\u001b[1;32m      6\u001b[0m \u001b[0;34m\u001b[0m\u001b[0m\n\u001b[1;32m      7\u001b[0m \u001b[0;32mdef\u001b[0m \u001b[0mn_containing\u001b[0m\u001b[0;34m(\u001b[0m\u001b[0mword\u001b[0m\u001b[0;34m,\u001b[0m \u001b[0mbloblist\u001b[0m\u001b[0;34m)\u001b[0m\u001b[0;34m:\u001b[0m\u001b[0;34m\u001b[0m\u001b[0m\n\u001b[0;32m----> 8\u001b[0;31m     \u001b[0;32mreturn\u001b[0m \u001b[0msum\u001b[0m\u001b[0;34m(\u001b[0m\u001b[0;36m1\u001b[0m \u001b[0;32mfor\u001b[0m \u001b[0mblob\u001b[0m \u001b[0;32min\u001b[0m \u001b[0mbloblist\u001b[0m \u001b[0;32mif\u001b[0m \u001b[0mword\u001b[0m \u001b[0;32min\u001b[0m \u001b[0mblob\u001b[0m\u001b[0;34m.\u001b[0m\u001b[0mwords\u001b[0m\u001b[0;34m)\u001b[0m\u001b[0;34m\u001b[0m\u001b[0m\n\u001b[0m\u001b[1;32m      9\u001b[0m \u001b[0;34m\u001b[0m\u001b[0m\n\u001b[1;32m     10\u001b[0m \u001b[0;32mdef\u001b[0m \u001b[0midf\u001b[0m\u001b[0;34m(\u001b[0m\u001b[0mword\u001b[0m\u001b[0;34m,\u001b[0m \u001b[0mbloblist\u001b[0m\u001b[0;34m)\u001b[0m\u001b[0;34m:\u001b[0m\u001b[0;34m\u001b[0m\u001b[0m\n",
      "\u001b[0;32m<ipython-input-299-259047f705ba>\u001b[0m in \u001b[0;36m<genexpr>\u001b[0;34m((blob,))\u001b[0m\n\u001b[1;32m      6\u001b[0m \u001b[0;34m\u001b[0m\u001b[0m\n\u001b[1;32m      7\u001b[0m \u001b[0;32mdef\u001b[0m \u001b[0mn_containing\u001b[0m\u001b[0;34m(\u001b[0m\u001b[0mword\u001b[0m\u001b[0;34m,\u001b[0m \u001b[0mbloblist\u001b[0m\u001b[0;34m)\u001b[0m\u001b[0;34m:\u001b[0m\u001b[0;34m\u001b[0m\u001b[0m\n\u001b[0;32m----> 8\u001b[0;31m     \u001b[0;32mreturn\u001b[0m \u001b[0msum\u001b[0m\u001b[0;34m(\u001b[0m\u001b[0;36m1\u001b[0m \u001b[0;32mfor\u001b[0m \u001b[0mblob\u001b[0m \u001b[0;32min\u001b[0m \u001b[0mbloblist\u001b[0m \u001b[0;32mif\u001b[0m \u001b[0mword\u001b[0m \u001b[0;32min\u001b[0m \u001b[0mblob\u001b[0m\u001b[0;34m.\u001b[0m\u001b[0mwords\u001b[0m\u001b[0;34m)\u001b[0m\u001b[0;34m\u001b[0m\u001b[0m\n\u001b[0m\u001b[1;32m      9\u001b[0m \u001b[0;34m\u001b[0m\u001b[0m\n\u001b[1;32m     10\u001b[0m \u001b[0;32mdef\u001b[0m \u001b[0midf\u001b[0m\u001b[0;34m(\u001b[0m\u001b[0mword\u001b[0m\u001b[0;34m,\u001b[0m \u001b[0mbloblist\u001b[0m\u001b[0;34m)\u001b[0m\u001b[0;34m:\u001b[0m\u001b[0;34m\u001b[0m\u001b[0m\n",
      "\u001b[0;31mKeyboardInterrupt\u001b[0m: "
     ]
    }
   ],
   "source": [
    "for i, blob in enumerate(bloblist):\n",
    "    print(\"Top words in document {}\".format(i + 1))\n",
    "    scores = {word: tfidf(word, blob, bloblist) for word in blob.words}\n",
    "    sorted_words = sorted(scores.items(), key=lambda x: x[1], reverse=True)\n",
    "    for word, score in sorted_words[:3]:\n",
    "        #print(\"\\tWord: {}, TF-IDF: {}\".format(word, round(score, 20)))\n",
    "        print(\"\\tWord: {}, TF-IDF: {}\".format(word, score))        "
   ]
  },
  {
   "cell_type": "code",
   "execution_count": null,
   "metadata": {
    "collapsed": true
   },
   "outputs": [],
   "source": []
  },
  {
   "cell_type": "code",
   "execution_count": null,
   "metadata": {
    "collapsed": true
   },
   "outputs": [],
   "source": []
  },
  {
   "cell_type": "code",
   "execution_count": 169,
   "metadata": {
    "collapsed": true
   },
   "outputs": [],
   "source": [
    "df.info()"
   ]
  },
  {
   "cell_type": "code",
   "execution_count": 168,
   "metadata": {
    "collapsed": true
   },
   "outputs": [],
   "source": [
    "df = df.drop_duplicates(['s_vec'])"
   ]
  },
  {
   "cell_type": "code",
   "execution_count": null,
   "metadata": {
    "collapsed": true
   },
   "outputs": [],
   "source": []
  },
  {
   "cell_type": "code",
   "execution_count": 158,
   "metadata": {
    "collapsed": true
   },
   "outputs": [],
   "source": [
    "def map_serialize(x):\n",
    "    #print len(x)\n",
    "    ret = []\n",
    "    idx = 0\n",
    "    for v in x:\n",
    "        #print idx, v\n",
    "        ret.append(str(v))\n",
    "        idx += 1\n",
    "    #print ret\n",
    "    return ','.join(ret)"
   ]
  },
  {
   "cell_type": "code",
   "execution_count": 159,
   "metadata": {
    "collapsed": true
   },
   "outputs": [],
   "source": [
    "df['w2v_centroid_s'] = df.w2v_centroid.map(lambda x: map_serialize(x))"
   ]
  },
  {
   "cell_type": "code",
   "execution_count": 171,
   "metadata": {},
   "outputs": [
    {
     "data": {
      "text/html": [
       "<div>\n",
       "<table border=\"1\" class=\"dataframe\">\n",
       "  <thead>\n",
       "    <tr style=\"text-align: right;\">\n",
       "      <th></th>\n",
       "      <th>url</th>\n",
       "      <th>title</th>\n",
       "      <th>summary</th>\n",
       "      <th>content</th>\n",
       "      <th>content_seg</th>\n",
       "      <th>s_vec</th>\n",
       "      <th>domain</th>\n",
       "      <th>words_fq</th>\n",
       "      <th>w2v_centroid</th>\n",
       "      <th>content_len</th>\n",
       "      <th>...</th>\n",
       "      <th>hzwh_w2v_sim</th>\n",
       "      <th>hzjz_w2v_sim</th>\n",
       "      <th>ycjc_w2v_sim</th>\n",
       "      <th>hzdk_w2v_sim</th>\n",
       "      <th>hpys_w2v_sim</th>\n",
       "      <th>hjhc_w2v_sim</th>\n",
       "      <th>hs_w2v_sim</th>\n",
       "      <th>xalx_w2v_sim</th>\n",
       "      <th>hxyj_w2v_sim</th>\n",
       "      <th>w2v_centroid_s</th>\n",
       "    </tr>\n",
       "  </thead>\n",
       "  <tbody>\n",
       "    <tr>\n",
       "      <th>0</th>\n",
       "      <td>http://cul.anhuinews.com/system/2016/11/28/007...</td>\n",
       "      <td>洪建华夫妇的竹刻人生</td>\n",
       "      <td>。不久前，我们几名政协委员应邀到正在建设中的黄山市徽派雕刻博物馆参观考察时，洪建华一边介绍新...</td>\n",
       "      <td>谁能想到，洪建华夫妇这对一无学历、二无家传、三无师承的“三无大师”成了省级非物质文化遗产·徽...</td>\n",
       "      <td>谁 能 想到 ， 洪 建华 夫妇 这 对 一 无 学历 、 二 无 家传 、 三无 师承 的...</td>\n",
       "      <td>{u'竹木': 0.0114285714286, u'洪': 0.0571428571429...</td>\n",
       "      <td>anhuinews.com</td>\n",
       "      <td>{u'竹木': 0.0114285714286, u'洪': 0.0571428571429...</td>\n",
       "      <td>[-0.0060236, -0.0103621, 0.00755846, -0.000569...</td>\n",
       "      <td>10703</td>\n",
       "      <td>...</td>\n",
       "      <td>0.463720</td>\n",
       "      <td>0.567314</td>\n",
       "      <td>0.573373</td>\n",
       "      <td>0.633446</td>\n",
       "      <td>0.680938</td>\n",
       "      <td>0.424617</td>\n",
       "      <td>0.311315</td>\n",
       "      <td>0.397321</td>\n",
       "      <td>0.291379</td>\n",
       "      <td>-0.0060236,-0.0103621,0.00755846,-0.000569638,...</td>\n",
       "    </tr>\n",
       "    <tr>\n",
       "      <th>1</th>\n",
       "      <td>http://cul.anhuinews.com/system/2016/11/21/007...</td>\n",
       "      <td>徽州民歌传人操明花校园授艺</td>\n",
       "      <td>。“磨米磨麦，磨米磨麦……”随着教室里传来一阵阵悦耳动听的方言民歌声，操明花正兴致勃勃地教同...</td>\n",
       "      <td>近日，省非物质文化遗产徽州民歌传承人操明花前往休宁县海阳二小、歙县城关小学和徽州区岩寺镇中心...</td>\n",
       "      <td>近日 ， 省非 物质 文化遗产 徽州 民歌 传承 人操 明花 前往 休宁县 海阳 二小 、 ...</td>\n",
       "      <td>{u'它': 0.0123456790123, u'原生态': 0.012345679012...</td>\n",
       "      <td>anhuinews.com</td>\n",
       "      <td>{u'它': 0.0123456790123, u'原生态': 0.012345679012...</td>\n",
       "      <td>[-0.0107781, 0.0129855, 0.00413211, 0.00171845...</td>\n",
       "      <td>1264</td>\n",
       "      <td>...</td>\n",
       "      <td>0.565720</td>\n",
       "      <td>0.358653</td>\n",
       "      <td>0.557331</td>\n",
       "      <td>0.468289</td>\n",
       "      <td>0.517698</td>\n",
       "      <td>0.438723</td>\n",
       "      <td>0.306038</td>\n",
       "      <td>0.308822</td>\n",
       "      <td>0.250730</td>\n",
       "      <td>-0.0107781,0.0129855,0.00413211,0.00171845,-0....</td>\n",
       "    </tr>\n",
       "    <tr>\n",
       "      <th>2</th>\n",
       "      <td>http://cul.anhuinews.com/system/2016/11/03/007...</td>\n",
       "      <td>黄山楹联漫谈</td>\n",
       "      <td>。黄山雄伟奇丽、气势非凡，原省文联主席赖少其说，非有大手笔，不能画黄山。有“二联”站得高，看...</td>\n",
       "      <td>黄山楹联第一人当推明朝诗人余绍祉。他遍历祖国名山大川，见到无数奇峰怪石，却感到抵不上黄山峰林...</td>\n",
       "      <td>黄山 楹联 第一 人当 推 明朝 诗人 余绍祉 。 他 遍历 祖国 名山大川 ， 见到 无数...</td>\n",
       "      <td>{u'气派': 0.0123456790123, u'名句': 0.012345679012...</td>\n",
       "      <td>anhuinews.com</td>\n",
       "      <td>{u'气派': 0.0123456790123, u'名句': 0.012345679012...</td>\n",
       "      <td>[-0.0120081, -0.0145887, 0.0144744, -0.0120817...</td>\n",
       "      <td>2028</td>\n",
       "      <td>...</td>\n",
       "      <td>0.255002</td>\n",
       "      <td>0.260202</td>\n",
       "      <td>0.269191</td>\n",
       "      <td>0.340901</td>\n",
       "      <td>0.296441</td>\n",
       "      <td>0.235815</td>\n",
       "      <td>0.191698</td>\n",
       "      <td>0.246864</td>\n",
       "      <td>0.182968</td>\n",
       "      <td>-0.0120081,-0.0145887,0.0144744,-0.0120817,-0....</td>\n",
       "    </tr>\n",
       "    <tr>\n",
       "      <th>3</th>\n",
       "      <td>http://cul.anhuinews.com/system/2016/01/26/007...</td>\n",
       "      <td>徽派雕刻——徽州木雕艺术</td>\n",
       "      <td>徽州民居、家具木板和圆木雕刻艺术的简称。木雕在旧属徽州各县分布之广在全国屈指可数，宅院内的屏...</td>\n",
       "      <td>徽州民居、家具木板和圆木雕刻艺术的简称。木雕在旧属徽州各县分布之广在全国屈指可数，宅院内的屏...</td>\n",
       "      <td>徽州 民居 、 家具 木板 和 圆木 雕刻 艺术 的 简称 。 木雕 在 旧属 徽州 各县 ...</td>\n",
       "      <td>{u'吉祥图案': 0.0172413793103, u'少数': 0.0172413793...</td>\n",
       "      <td>anhuinews.com</td>\n",
       "      <td>{u'吉祥图案': 0.0172413793103, u'少数': 0.0172413793...</td>\n",
       "      <td>[-0.0134407, -0.0106611, 0.0100197, -0.0117281...</td>\n",
       "      <td>721</td>\n",
       "      <td>...</td>\n",
       "      <td>0.463754</td>\n",
       "      <td>0.588129</td>\n",
       "      <td>0.565690</td>\n",
       "      <td>0.765616</td>\n",
       "      <td>0.544592</td>\n",
       "      <td>0.325793</td>\n",
       "      <td>0.382593</td>\n",
       "      <td>0.354244</td>\n",
       "      <td>0.263324</td>\n",
       "      <td>-0.0134407,-0.0106611,0.0100197,-0.0117281,-0....</td>\n",
       "    </tr>\n",
       "    <tr>\n",
       "      <th>4</th>\n",
       "      <td>http://cul.anhuinews.com/system/2016/01/26/007...</td>\n",
       "      <td>徽派雕刻——徽州砖雕艺术</td>\n",
       "      <td>。从早期的简单粗犷、朴素的纹样，逐步演变到后期的繁腹、细致华丽的结构，形成了自己独特的艺术风...</td>\n",
       "      <td>徽州砖雕徽州砖雕的造型，来源于汉画象砖。汉画象砖大都是模印砖坯刻画后入密烧制，嵌窃时再进行修...</td>\n",
       "      <td>徽州 砖雕 徽州 砖雕 的 造型 ， 来源于 汉 画象 砖 。 汉 画象 砖 大都 是 模印...</td>\n",
       "      <td>{u'一': 0.0106382978723, u'它': 0.0212765957447,...</td>\n",
       "      <td>anhuinews.com</td>\n",
       "      <td>{u'一': 0.0106382978723, u'它': 0.0212765957447,...</td>\n",
       "      <td>[-0.0147771, -0.0149903, 0.0132143, -0.0146898...</td>\n",
       "      <td>2852</td>\n",
       "      <td>...</td>\n",
       "      <td>0.426712</td>\n",
       "      <td>0.555901</td>\n",
       "      <td>0.473556</td>\n",
       "      <td>0.605832</td>\n",
       "      <td>0.577255</td>\n",
       "      <td>0.312113</td>\n",
       "      <td>0.289483</td>\n",
       "      <td>0.315999</td>\n",
       "      <td>0.203333</td>\n",
       "      <td>-0.0147771,-0.0149903,0.0132143,-0.0146898,-0....</td>\n",
       "    </tr>\n",
       "  </tbody>\n",
       "</table>\n",
       "<p>5 rows × 22 columns</p>\n",
       "</div>"
      ],
      "text/plain": [
       "                                                 url          title  \\\n",
       "0  http://cul.anhuinews.com/system/2016/11/28/007...     洪建华夫妇的竹刻人生   \n",
       "1  http://cul.anhuinews.com/system/2016/11/21/007...  徽州民歌传人操明花校园授艺   \n",
       "2  http://cul.anhuinews.com/system/2016/11/03/007...         黄山楹联漫谈   \n",
       "3  http://cul.anhuinews.com/system/2016/01/26/007...   徽派雕刻——徽州木雕艺术   \n",
       "4  http://cul.anhuinews.com/system/2016/01/26/007...   徽派雕刻——徽州砖雕艺术   \n",
       "\n",
       "                                             summary  \\\n",
       "0  。不久前，我们几名政协委员应邀到正在建设中的黄山市徽派雕刻博物馆参观考察时，洪建华一边介绍新...   \n",
       "1  。“磨米磨麦，磨米磨麦……”随着教室里传来一阵阵悦耳动听的方言民歌声，操明花正兴致勃勃地教同...   \n",
       "2  。黄山雄伟奇丽、气势非凡，原省文联主席赖少其说，非有大手笔，不能画黄山。有“二联”站得高，看...   \n",
       "3  徽州民居、家具木板和圆木雕刻艺术的简称。木雕在旧属徽州各县分布之广在全国屈指可数，宅院内的屏...   \n",
       "4  。从早期的简单粗犷、朴素的纹样，逐步演变到后期的繁腹、细致华丽的结构，形成了自己独特的艺术风...   \n",
       "\n",
       "                                             content  \\\n",
       "0  谁能想到，洪建华夫妇这对一无学历、二无家传、三无师承的“三无大师”成了省级非物质文化遗产·徽...   \n",
       "1  近日，省非物质文化遗产徽州民歌传承人操明花前往休宁县海阳二小、歙县城关小学和徽州区岩寺镇中心...   \n",
       "2  黄山楹联第一人当推明朝诗人余绍祉。他遍历祖国名山大川，见到无数奇峰怪石，却感到抵不上黄山峰林...   \n",
       "3  徽州民居、家具木板和圆木雕刻艺术的简称。木雕在旧属徽州各县分布之广在全国屈指可数，宅院内的屏...   \n",
       "4  徽州砖雕徽州砖雕的造型，来源于汉画象砖。汉画象砖大都是模印砖坯刻画后入密烧制，嵌窃时再进行修...   \n",
       "\n",
       "                                         content_seg  \\\n",
       "0  谁 能 想到 ， 洪 建华 夫妇 这 对 一 无 学历 、 二 无 家传 、 三无 师承 的...   \n",
       "1  近日 ， 省非 物质 文化遗产 徽州 民歌 传承 人操 明花 前往 休宁县 海阳 二小 、 ...   \n",
       "2  黄山 楹联 第一 人当 推 明朝 诗人 余绍祉 。 他 遍历 祖国 名山大川 ， 见到 无数...   \n",
       "3  徽州 民居 、 家具 木板 和 圆木 雕刻 艺术 的 简称 。 木雕 在 旧属 徽州 各县 ...   \n",
       "4  徽州 砖雕 徽州 砖雕 的 造型 ， 来源于 汉 画象 砖 。 汉 画象 砖 大都 是 模印...   \n",
       "\n",
       "                                               s_vec         domain  \\\n",
       "0  {u'竹木': 0.0114285714286, u'洪': 0.0571428571429...  anhuinews.com   \n",
       "1  {u'它': 0.0123456790123, u'原生态': 0.012345679012...  anhuinews.com   \n",
       "2  {u'气派': 0.0123456790123, u'名句': 0.012345679012...  anhuinews.com   \n",
       "3  {u'吉祥图案': 0.0172413793103, u'少数': 0.0172413793...  anhuinews.com   \n",
       "4  {u'一': 0.0106382978723, u'它': 0.0212765957447,...  anhuinews.com   \n",
       "\n",
       "                                            words_fq  \\\n",
       "0  {u'竹木': 0.0114285714286, u'洪': 0.0571428571429...   \n",
       "1  {u'它': 0.0123456790123, u'原生态': 0.012345679012...   \n",
       "2  {u'气派': 0.0123456790123, u'名句': 0.012345679012...   \n",
       "3  {u'吉祥图案': 0.0172413793103, u'少数': 0.0172413793...   \n",
       "4  {u'一': 0.0106382978723, u'它': 0.0212765957447,...   \n",
       "\n",
       "                                        w2v_centroid  content_len  \\\n",
       "0  [-0.0060236, -0.0103621, 0.00755846, -0.000569...        10703   \n",
       "1  [-0.0107781, 0.0129855, 0.00413211, 0.00171845...         1264   \n",
       "2  [-0.0120081, -0.0145887, 0.0144744, -0.0120817...         2028   \n",
       "3  [-0.0134407, -0.0106611, 0.0100197, -0.0117281...          721   \n",
       "4  [-0.0147771, -0.0149903, 0.0132143, -0.0146898...         2852   \n",
       "\n",
       "                         ...                          hzwh_w2v_sim  \\\n",
       "0                        ...                              0.463720   \n",
       "1                        ...                              0.565720   \n",
       "2                        ...                              0.255002   \n",
       "3                        ...                              0.463754   \n",
       "4                        ...                              0.426712   \n",
       "\n",
       "   hzjz_w2v_sim  ycjc_w2v_sim  hzdk_w2v_sim  hpys_w2v_sim  hjhc_w2v_sim  \\\n",
       "0      0.567314      0.573373      0.633446      0.680938      0.424617   \n",
       "1      0.358653      0.557331      0.468289      0.517698      0.438723   \n",
       "2      0.260202      0.269191      0.340901      0.296441      0.235815   \n",
       "3      0.588129      0.565690      0.765616      0.544592      0.325793   \n",
       "4      0.555901      0.473556      0.605832      0.577255      0.312113   \n",
       "\n",
       "   hs_w2v_sim  xalx_w2v_sim  hxyj_w2v_sim  \\\n",
       "0    0.311315      0.397321      0.291379   \n",
       "1    0.306038      0.308822      0.250730   \n",
       "2    0.191698      0.246864      0.182968   \n",
       "3    0.382593      0.354244      0.263324   \n",
       "4    0.289483      0.315999      0.203333   \n",
       "\n",
       "                                      w2v_centroid_s  \n",
       "0  -0.0060236,-0.0103621,0.00755846,-0.000569638,...  \n",
       "1  -0.0107781,0.0129855,0.00413211,0.00171845,-0....  \n",
       "2  -0.0120081,-0.0145887,0.0144744,-0.0120817,-0....  \n",
       "3  -0.0134407,-0.0106611,0.0100197,-0.0117281,-0....  \n",
       "4  -0.0147771,-0.0149903,0.0132143,-0.0146898,-0....  \n",
       "\n",
       "[5 rows x 22 columns]"
      ]
     },
     "execution_count": 171,
     "metadata": {},
     "output_type": "execute_result"
    }
   ],
   "source": [
    "df.head()"
   ]
  },
  {
   "cell_type": "code",
   "execution_count": 172,
   "metadata": {
    "collapsed": true
   },
   "outputs": [],
   "source": [
    "df.to_csv('../data/clean/huizhou_web_v1.csv', encoding='utf-8', index=False)"
   ]
  },
  {
   "cell_type": "code",
   "execution_count": 165,
   "metadata": {
    "collapsed": true
   },
   "outputs": [],
   "source": [
    "df_out = df[['url', 'title', 'summary', 'w2v_centroid_s', 'hzwh_w2v_sim', 'hzjz_w2v_sim', 'ycjc_w2v_sim', 'hzdk_w2v_sim',\n",
    "             'hpys_w2v_sim', 'hjhc_w2v_sim', 'hs_w2v_sim', 'xalx_w2v_sim', 'hxyj_w2v_sim']]"
   ]
  },
  {
   "cell_type": "code",
   "execution_count": null,
   "metadata": {
    "collapsed": true
   },
   "outputs": [],
   "source": []
  },
  {
   "cell_type": "code",
   "execution_count": 166,
   "metadata": {
    "collapsed": true
   },
   "outputs": [],
   "source": [
    "df_out.to_csv('../data/clean/huizhou-web-slim_v2.csv', encoding='utf-8', index=False)"
   ]
  },
  {
   "cell_type": "code",
   "execution_count": 170,
   "metadata": {
    "collapsed": true
   },
   "outputs": [],
   "source": [
    "df_out.info()"
   ]
  },
  {
   "cell_type": "code",
   "execution_count": 211,
   "metadata": {
    "collapsed": true
   },
   "outputs": [],
   "source": [
    "df.info()"
   ]
  },
  {
   "cell_type": "code",
   "execution_count": 212,
   "metadata": {
    "collapsed": true
   },
   "outputs": [],
   "source": [
    "df_full_out = df[['url', 'title', 'summary', 's_vec_cnt', 'content', 'content_seg']]"
   ]
  },
  {
   "cell_type": "code",
   "execution_count": 213,
   "metadata": {
    "collapsed": true
   },
   "outputs": [],
   "source": [
    "df_full_out.to_csv('/Users/nhu2000/projects/SimilarSearch/data/clean/huizhou_full_v1.1.csv', encoding='utf-8', index=False)"
   ]
  },
  {
   "cell_type": "code",
   "execution_count": 173,
   "metadata": {},
   "outputs": [
    {
     "data": {
      "text/plain": [
       "array([ -7.58834004e-01,   6.37849987e-01,   2.37314200e+00,\n",
       "         3.93233001e-01,  -2.31934994e-01,  -4.19292003e-01,\n",
       "         2.77810004e-02,  -6.70256019e-01,   1.31282401e+00,\n",
       "        -2.81661004e-01,   1.56625605e+00,   1.19458902e+00,\n",
       "         9.28260028e-01,   2.15436292e+00,   3.43926013e-01,\n",
       "         7.05360025e-02,   1.01993299e+00,   1.49849200e+00,\n",
       "         1.05655801e+00,   6.64417982e-01,  -1.83514905e+00,\n",
       "        -9.82640028e-01,  -4.84759986e-01,   3.44781011e-01,\n",
       "         2.77079999e-01,   3.39015990e-01,  -2.10096002e-01,\n",
       "         4.17811006e-01,  -1.15651500e+00,   7.45559990e-01,\n",
       "         2.34702206e+00,   5.76422989e-01,  -9.99136984e-01,\n",
       "        -2.25249410e+00,   1.89790297e+00,  -1.52401996e+00,\n",
       "        -8.07019994e-02,   7.10281014e-01,   6.56597972e-01,\n",
       "         5.92401981e-01,   8.31799954e-03,  -6.80337012e-01,\n",
       "        -3.36429000e-01,   7.28859976e-02,  -7.02839017e-01,\n",
       "        -1.14953303e+00,   2.14949799e+00,  -1.44978094e+00,\n",
       "         2.21020997e-01,  -3.96232009e-01,  -2.87344009e-01,\n",
       "         2.03455001e-01,   2.86186993e-01,   1.18734896e+00,\n",
       "        -7.47153997e-01,  -8.78050983e-01,  -1.58097997e-01,\n",
       "        -1.89780995e-01,  -8.32053006e-01,  -1.60302401e+00,\n",
       "        -2.01757002e+00,   1.34080899e+00,  -9.56588984e-01,\n",
       "        -2.89802015e-01,   7.35687971e-01,  -3.00853997e-01,\n",
       "         1.75437003e-01,  -1.78050399e+00,   3.62372994e-01,\n",
       "        -2.83133101e+00,   1.95390105e+00,   1.12549998e-01,\n",
       "        -4.20592010e-01,  -2.03469706e+00,   1.59564900e+00,\n",
       "        -2.81680003e-02,  -9.65047002e-01,   2.00257897e+00,\n",
       "        -2.85647005e-01,  -1.58332002e+00,   6.99508011e-01,\n",
       "         4.28139001e-01,  -9.39530015e-01,   1.03047001e+00,\n",
       "        -6.04385972e-01,   9.03117001e-01,   3.31676990e-01,\n",
       "        -1.00377999e-01,  -3.44940014e-02,  -8.00944984e-01,\n",
       "        -1.03385305e+00,  -1.14508998e+00,  -8.79880011e-01,\n",
       "        -1.52777195e+00,   1.44000002e-03,  -1.00831002e-01,\n",
       "         5.71909010e-01,   1.65697503e+00,   1.38917997e-01,\n",
       "         1.04475997e-01,  -1.14555395e+00,   1.85523999e+00,\n",
       "        -6.07077003e-01,   2.55779696e+00,  -5.24564028e-01,\n",
       "         1.19275796e+00,   8.32810998e-01,   7.82463014e-01,\n",
       "         1.25500001e-02,   5.66340029e-01,   8.27497005e-01,\n",
       "         2.42862001e-01,  -1.49676895e+00,  -1.50093806e+00,\n",
       "         4.68870014e-01,   1.61249995e-01,   4.61881012e-01,\n",
       "        -5.22750974e-01,  -7.32469976e-01,  -1.39812195e+00,\n",
       "        -1.95644701e+00,  -1.26533103e+00,   1.63259602e+00,\n",
       "        -1.26724899e+00,   1.80714905e+00,  -4.15538013e-01,\n",
       "         5.24411976e-01,  -1.13188195e+00,  -1.42141199e+00,\n",
       "        -1.05179405e+00,   6.71508014e-01,  -4.46586996e-01,\n",
       "        -9.37363029e-01,  -1.17774002e-01,  -1.93442002e-01,\n",
       "        -8.91888022e-01,   6.32211030e-01,  -1.44788599e+00,\n",
       "        -4.17860001e-02,   4.09388989e-01,  -8.70087981e-01,\n",
       "         1.03659797e+00,  -1.19257998e+00,   3.06603998e-01,\n",
       "        -4.18800004e-02,   3.20749998e-01,  -1.89246997e-01,\n",
       "        -9.51039016e-01,  -1.81537700e+00,  -1.47251993e-01,\n",
       "         2.47467995e-01,   4.82010990e-01,   5.42312026e-01,\n",
       "         2.42501006e-01,  -1.28196394e+00,   1.13958001e+00,\n",
       "         7.15004027e-01,  -1.02102399e+00,  -6.37750030e-02,\n",
       "         3.05981010e-01,  -7.19866991e-01,  -2.81677991e-01,\n",
       "        -1.46291399e+00,   1.41345894e+00,   2.16922212e+00,\n",
       "        -9.64290977e-01,  -1.42116904e+00,   1.99597001e-01,\n",
       "         1.59250700e+00,   1.06767702e+00,   3.40440989e-01,\n",
       "        -1.07353497e+00,   1.41358003e-01,   1.29981697e+00,\n",
       "        -9.64561999e-01,   2.45176002e-01,  -5.52556992e-01,\n",
       "        -1.54333603e+00,   9.52421010e-01,  -5.81119001e-01,\n",
       "         1.63255405e+00,   1.93214998e-01,  -2.67768312e+00,\n",
       "        -2.04905009e+00,  -8.36760998e-01,  -1.22809899e+00,\n",
       "        -1.47950196e+00,  -8.37199986e-02,   1.61685598e+00,\n",
       "        -6.55907989e-01,   1.08266003e-01,   3.14134985e-01,\n",
       "         1.05211997e+00,   6.68540001e-01,   7.98385978e-01,\n",
       "        -5.15039027e-01,   7.44288027e-01,   1.07028306e+00,\n",
       "        -1.66279003e-01,  -2.12022007e-01,  -3.37280005e-01,\n",
       "         2.15586996e+00,  -7.07485020e-01,  -1.04692304e+00,\n",
       "         9.30118978e-01,   1.11433399e+00,  -1.11606300e+00,\n",
       "         8.75294983e-01,  -2.19449711e+00,  -4.40881997e-01,\n",
       "         7.70169973e-01,  -3.73086989e-01,   4.74395990e-01,\n",
       "        -8.67004991e-01,  -8.83149981e-01,   1.70919299e+00,\n",
       "        -4.37624007e-01,  -2.18045995e-01,  -3.03292006e-01,\n",
       "         8.98528993e-01,  -1.52537596e+00,  -1.11459398e+00,\n",
       "        -3.72090004e-02,   2.09471989e+00,   9.58724022e-01,\n",
       "         3.58633995e-01,   1.31893206e+00,  -6.42580017e-02,\n",
       "        -1.07216299e+00,   1.67768395e+00,   9.83232975e-01,\n",
       "         6.55699968e-02,   2.66399998e-02,  -6.16896987e-01,\n",
       "         1.38325596e+00,  -8.42317998e-01,   5.59058011e-01,\n",
       "         1.65786600e+00,   2.80225009e-01,   1.54165101e+00,\n",
       "        -4.79609013e-01,  -2.50305104e+00,   5.55916011e-01,\n",
       "        -5.18589020e-01,  -9.97087002e-01,   7.07202017e-01,\n",
       "        -1.64930001e-02,  -1.29352403e+00,   2.75767589e+00,\n",
       "         1.43620998e-01], dtype=float32)"
      ]
     },
     "execution_count": 173,
     "metadata": {},
     "output_type": "execute_result"
    }
   ],
   "source": [
    "model[u'许村']"
   ]
  },
  {
   "cell_type": "code",
   "execution_count": null,
   "metadata": {
    "collapsed": true
   },
   "outputs": [],
   "source": []
  }
 ],
 "metadata": {
  "kernelspec": {
   "display_name": "Python 2",
   "language": "python",
   "name": "python2"
  },
  "language_info": {
   "codemirror_mode": {
    "name": "ipython",
    "version": 2
   },
   "file_extension": ".py",
   "mimetype": "text/x-python",
   "name": "python",
   "nbconvert_exporter": "python",
   "pygments_lexer": "ipython2",
   "version": "2.7.10"
  }
 },
 "nbformat": 4,
 "nbformat_minor": 2
}
