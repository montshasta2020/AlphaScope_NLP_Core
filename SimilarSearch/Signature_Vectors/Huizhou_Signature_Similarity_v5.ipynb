{
 "cells": [
  {
   "cell_type": "code",
   "execution_count": 1,
   "metadata": {
    "collapsed": true
   },
   "outputs": [],
   "source": [
    "import sys\n",
    "reload(sys)\n",
    "sys.setdefaultencoding('utf-8')"
   ]
  },
  {
   "cell_type": "code",
   "execution_count": 2,
   "metadata": {
    "collapsed": true
   },
   "outputs": [],
   "source": [
    "import pandas as pd\n",
    "from urlparse import urlparse\n",
    "import tldextract\n",
    "from collections import Counter\n",
    "import jieba\n",
    "import json\n",
    "import math\n",
    "import numpy as np\n",
    "from time import time"
   ]
  },
  {
   "cell_type": "code",
   "execution_count": 3,
   "metadata": {
    "collapsed": true
   },
   "outputs": [],
   "source": [
    "from gensim.models import Word2Vec, KeyedVectors\n",
    "model = KeyedVectors.load_word2vec_format('../data/w2v/huizhou_model_format_v2.bin', binary=False)"
   ]
  },
  {
   "cell_type": "code",
   "execution_count": null,
   "metadata": {
    "collapsed": true
   },
   "outputs": [],
   "source": []
  },
  {
   "cell_type": "code",
   "execution_count": 4,
   "metadata": {
    "collapsed": true
   },
   "outputs": [],
   "source": [
    "df = pd.read_csv('../data/clean/huizhou-web_v3.csv')"
   ]
  },
  {
   "cell_type": "code",
   "execution_count": 5,
   "metadata": {
    "collapsed": true
   },
   "outputs": [],
   "source": [
    "df.info()"
   ]
  },
  {
   "cell_type": "code",
   "execution_count": 6,
   "metadata": {
    "collapsed": true
   },
   "outputs": [],
   "source": [
    "import re\n",
    "match = re.compile('([a-zA-Z_0-9_=_#_&_/])') #remove letters, numbers, and special characters in the article body\n",
    "#match = re.compile('([a-zA-Z_0-9])') #remove all of english letters and numbers\n",
    "def classifier_filters(s):\n",
    "    return match.sub(r' ', s) "
   ]
  },
  {
   "cell_type": "code",
   "execution_count": 7,
   "metadata": {
    "collapsed": true
   },
   "outputs": [],
   "source": [
    "def filter_combined(x):\n",
    "    s = x.split()\n",
    "    r = [t for t in s if (t.strip()) > 0 and t.strip() not in keyword_stop_words]\n",
    "    t = ' '.join(r)\n",
    "    ret = classifier_filters(t)\n",
    "    #print 'before -----', t\n",
    "    #print 'after ------', ret\n",
    "    return ret   "
   ]
  },
  {
   "cell_type": "code",
   "execution_count": 8,
   "metadata": {
    "collapsed": true
   },
   "outputs": [],
   "source": [
    "huizhou_stop_words = [u'的', u'了', u'在', u'是', u'安徽', u'和', u'有', u'我', u'年', u'上', u'他', u'我们', u'及',\n",
    "                      u'为', u'与', u'人', u'也', u'于', u'中', u'就', u'都', u'在线', u'等', u'不', u'网站', u'你', \n",
    "                      u'一个', u'到', u'之', u'对', u'说', u'进入', u'后', u'月', u'将', u'时', u'又', u'被', u'会员'\n",
    "                     u'版权', u'论坛', u'以', u'而', u'着', u'下', u'这', u'但', u'要', u'或', u'首页', u'这', u'更',\n",
    "                     u'地', u'从', u'卡', u'来', '多', u'日', u'她', u'还', u'联系', u'那', u'一处', u'一直', u'个', \n",
    "                     u'向', u'并', u'曾', u'这样', u'里', u'合肥', u'推荐', u'专栏', u'相关', u'当前', u'所有', u'中心'\n",
    "                     u'频道', u'编辑', u'位置', u'第一', u'社区', u'看', '中安', u'安徽省', u'大', u'许可证', u'许可',\n",
    "                     u'让', u'没有', u'什么', u'其', '请', '该', '用', '积分', u'凤阳', u'一篇', u'版权', u'县', u'这里',\n",
    "                      u'就是', u'生于', u'他们', u'它', u'男', u'去', u'会', u'由', u'一', u'做', u'所', u'毕业', u'一种',\n",
    "                     u'协会会员', u'把', u'能', u'至', u'这个', u'自己', u'黄山市', u'出', u'如', u'如',u'可以', u'很',\n",
    "                     u'成为', u'好', u'先生', u'中国', u'集团', u'江淮', u'网', u'特色', u'全国', u'新', u'作为', u'师专',\n",
    "                     u'则', u'重要', u'们', u'给', u'这些', u'过', u'安', u'最', u'现在', u'得', u'国家']"
   ]
  },
  {
   "cell_type": "markdown",
   "metadata": {},
   "source": [
    "s = ' '.join(huizhou_stop_words)\n",
    "#s = u'444 （）'"
   ]
  },
  {
   "cell_type": "code",
   "execution_count": 9,
   "metadata": {
    "collapsed": true
   },
   "outputs": [],
   "source": [
    "import unicodedata\n",
    "def remove_non_chinese(s):\n",
    "    r = [c for c in s if unicodedata.category(c).startswith('L')]\n",
    "#print r\n",
    "    return ''.join(r)\n",
    "#print remove_non_chinese(s)"
   ]
  },
  {
   "cell_type": "markdown",
   "metadata": {
    "collapsed": true
   },
   "source": [
    "hz_dict = dict(zip(words, fq))"
   ]
  },
  {
   "cell_type": "code",
   "execution_count": 10,
   "metadata": {
    "collapsed": true
   },
   "outputs": [],
   "source": [
    "def ch_title_letters_removal(x):\n",
    "    #print 'coming', x\n",
    "    t = x.strip('  ')\n",
    "    if(len(t)) == 0:\n",
    "        return None\n",
    "    \n",
    "    if(len(x) > 0):\n",
    "        #s = x.strip()\n",
    "        s = remove_non_chinese(x)\n",
    "        if len(s) > 0 and s not in huizhou_stop_words:\n",
    "            return s.strip()\n",
    "        else:\n",
    "            return None\n",
    "    return None"
   ]
  },
  {
   "cell_type": "code",
   "execution_count": null,
   "metadata": {
    "collapsed": true
   },
   "outputs": [],
   "source": []
  },
  {
   "cell_type": "code",
   "execution_count": 11,
   "metadata": {
    "collapsed": true
   },
   "outputs": [],
   "source": [
    "#calculate count using Counter\n",
    "def map_document_word_cnt(x):\n",
    "    n = 800\n",
    "    del_cnt = 0\n",
    "    count = Counter(x.decode('utf-8').split())\n",
    "    top_n = count.most_common (n)\n",
    "    words, cnt = zip(*top_n)\n",
    "    for word in words:\n",
    "        ret = ch_title_letters_removal(word)\n",
    "        if ret == None or len(ret) == 0:\n",
    "            del count[word]\n",
    "            del_cnt +=1\n",
    "\n",
    "    print 'deleted cnt', del_cnt\n",
    "    top_n = count.most_common (200)\n",
    "    return top_n"
   ]
  },
  {
   "cell_type": "code",
   "execution_count": 12,
   "metadata": {
    "collapsed": true
   },
   "outputs": [],
   "source": [
    "global idx\n",
    "idx = 0\n",
    "def map_words_fq(x, normalize=True): \n",
    "    global idx\n",
    "    print idx\n",
    "    idx += 1\n",
    "    s = x.decode('utf-8').split()\n",
    "    #print 'vect ---', len(s), s\n",
    "    ret = [ch_title_letters_removal(item) for item in s if len(item) > 0 and ch_title_letters_removal(item) != None]\n",
    "    #print 'ret ---', ret, len(ret)\n",
    "    count = Counter(ret)\n",
    "    \n",
    "    #print 'count', len(count)\n",
    "\n",
    "    if len(count) > 1:\n",
    "        top_N = count.most_common(100)\n",
    "        \n",
    "        words, cnt = zip(*top_N)\n",
    "        tot = sum(cnt)\n",
    "        hz_fq = [float(i)*1.0/tot for i in cnt]\n",
    "        dictionary = dict(zip(words, hz_fq))\n",
    "        \n",
    "        #print 'going ---'\n",
    "        #*words, cnt = zip(*top_200)\n",
    "        #return dict(zip(words, cnt))\n",
    "        return dictionary\n",
    "    else:\n",
    "        #print 'warning'\n",
    "        return None"
   ]
  },
  {
   "cell_type": "code",
   "execution_count": 28,
   "metadata": {
    "collapsed": true
   },
   "outputs": [],
   "source": [
    "def map_word2vec_centroid(x):\n",
    "    global model\n",
    "    x = x.items() #dict to tuple\n",
    "    # remove out-of-vocabulary words\n",
    "    doc = [(word, fq) for word, fq in x if word in model.vocab]   \n",
    "    if len(doc) == 0:\n",
    "        #print x\n",
    "        return None\n",
    "    #words, fq = zip(*doc)\n",
    "    ret = [model[x] * y for x, y in doc]\n",
    "    \n",
    "    val = np.mean(ret, axis=0)\n",
    "    sum1 = np.sum([val**2])\n",
    "    \n",
    "    r = val/math.sqrt(sum1)\n",
    "        \n",
    "    #print ret\n",
    "    \n",
    "    #doc = [word for word in doc if word in word2vec_model.vocab]\n",
    "    return r"
   ]
  },
  {
   "cell_type": "code",
   "execution_count": 16,
   "metadata": {
    "collapsed": true
   },
   "outputs": [],
   "source": [
    "def map_unserialize (x, eval_val = False):\n",
    "    #print '----- in'\n",
    "    #print x\n",
    "    d = dict()\n",
    "    s = x.strip('{}')\n",
    "    #s = s.strip('[]')\n",
    "    ret = s.split(',')\n",
    "    \n",
    "    #print ret\n",
    "    for t in ret:\n",
    "        r = t.split(':')\n",
    "        #print r[0], r[1]\n",
    "        key = eval(r[0].decode('utf-8'))\n",
    "        d[key] = float(r[1])\n",
    "    #print len(ret)\n",
    "    #print 'split -----'\n",
    "    #print ' '.join(ret)\n",
    "    return d"
   ]
  },
  {
   "cell_type": "code",
   "execution_count": 27,
   "metadata": {
    "collapsed": true
   },
   "outputs": [],
   "source": [
    "df.info()"
   ]
  },
  {
   "cell_type": "code",
   "execution_count": 17,
   "metadata": {
    "collapsed": true
   },
   "outputs": [],
   "source": [
    "t0 = time()\n",
    "df['words_fq'] = df.content_seg.map(lambda x: map_words_fq(x))\n",
    "#df['words_fq'] = df.s_vec.map(lambda x: map_unserialize(x))\n",
    "print time() - t0 "
   ]
  },
  {
   "cell_type": "code",
   "execution_count": 18,
   "metadata": {
    "collapsed": true
   },
   "outputs": [],
   "source": [
    "df = df.dropna(subset =['words_fq'])"
   ]
  },
  {
   "cell_type": "code",
   "execution_count": 29,
   "metadata": {},
   "outputs": [
    {
     "data": {
      "text/plain": [
       "30.456953048706055"
      ]
     },
     "execution_count": 29,
     "metadata": {},
     "output_type": "execute_result"
    }
   ],
   "source": [
    "t0 = time()\n",
    "df['w2v_centroid'] = df.words_fq.map(lambda x: map_word2vec_centroid(x))\n",
    "time() - t0"
   ]
  },
  {
   "cell_type": "code",
   "execution_count": null,
   "metadata": {
    "collapsed": true
   },
   "outputs": [],
   "source": []
  },
  {
   "cell_type": "code",
   "execution_count": 20,
   "metadata": {
    "collapsed": true
   },
   "outputs": [],
   "source": [
    "df['content_len'] = df['content'].str.len()"
   ]
  },
  {
   "cell_type": "code",
   "execution_count": 21,
   "metadata": {
    "collapsed": true
   },
   "outputs": [],
   "source": [
    "import matplotlib \n",
    "import matplotlib.pyplot as plt\n",
    "%matplotlib inline "
   ]
  },
  {
   "cell_type": "code",
   "execution_count": 22,
   "metadata": {},
   "outputs": [
    {
     "data": {
      "text/plain": [
       "<matplotlib.text.Text at 0x144324110>"
      ]
     },
     "execution_count": 22,
     "metadata": {},
     "output_type": "execute_result"
    },
    {
     "data": {
      "image/png": "[encoded data removed]",
      "text/plain": [
       "<matplotlib.figure.Figure at 0x1442e2dd0>"
      ]
     },
     "metadata": {},
     "output_type": "display_data"
    }
   ],
   "source": [
    "df['content_len'].hist(bins=500, figsize= (16, 6))\n",
    "plt.title('Content Length Histogram')\n",
    "plt.xlabel('Length')\n",
    "plt.ylabel('Count')"
   ]
  },
  {
   "cell_type": "code",
   "execution_count": 23,
   "metadata": {
    "collapsed": true
   },
   "outputs": [],
   "source": [
    "test = df[df['content_len'] < 150]"
   ]
  },
  {
   "cell_type": "code",
   "execution_count": 24,
   "metadata": {
    "collapsed": true
   },
   "outputs": [],
   "source": [
    "test.info()"
   ]
  },
  {
   "cell_type": "code",
   "execution_count": 30,
   "metadata": {
    "collapsed": true
   },
   "outputs": [],
   "source": [
    "df = df[df['content_len'] >= 150]"
   ]
  },
  {
   "cell_type": "code",
   "execution_count": 31,
   "metadata": {
    "collapsed": true
   },
   "outputs": [],
   "source": [
    "df.info()"
   ]
  },
  {
   "cell_type": "code",
   "execution_count": 32,
   "metadata": {
    "collapsed": true
   },
   "outputs": [],
   "source": [
    "def get_cosine2(vec1, vec2):    \n",
    "    numerator = np.sum([a*b for a,b in zip(vec1,vec2)]) \n",
    "    return float(numerator)"
   ]
  },
  {
   "cell_type": "code",
   "execution_count": null,
   "metadata": {
    "collapsed": true
   },
   "outputs": [],
   "source": []
  },
  {
   "cell_type": "code",
   "execution_count": 34,
   "metadata": {},
   "outputs": [],
   "source": [
    "t0 = time()\n",
    "hz_vec = model[u'徽州']*0.3 + model[u'文化']*0.3 + model[u'徽文化']*0.4\n",
    "sum1 = np.sum([hz_vec**2])    \n",
    "hz_vec = hz_vec/math.sqrt(sum1)\n",
    "    \n",
    "df['hzwh_w2v_sim'] = df.w2v_centroid.map(lambda x: get_cosine2(hz_vec, x))\n",
    "print time() - t0"
   ]
  },
  {
   "cell_type": "code",
   "execution_count": 35,
   "metadata": {},
   "outputs": [
    {
     "data": {
      "text/plain": [
       "<matplotlib.text.Text at 0x126d818d0>"
      ]
     },
     "execution_count": 35,
     "metadata": {},
     "output_type": "execute_result"
    },
    {
     "data": {
      "image/png": "[encoded data removed]",
      "text/plain": [
       "<matplotlib.figure.Figure at 0x144781690>"
      ]
     },
     "metadata": {},
     "output_type": "display_data"
    }
   ],
   "source": [
    "df['hzwh_w2v_sim'].hist(bins=500, figsize= (16, 6))\n",
    "plt.title('Huizhou W2V Similiarity Histogram')\n",
    "plt.xlabel('Similarity')\n",
    "plt.ylabel('Count')"
   ]
  },
  {
   "cell_type": "code",
   "execution_count": 36,
   "metadata": {
    "collapsed": true
   },
   "outputs": [],
   "source": [
    "hz_sim = df['hzwh_w2v_sim'].values.argsort()[::-1]"
   ]
  },
  {
   "cell_type": "code",
   "execution_count": 38,
   "metadata": {},
   "outputs": [],
   "source": [
    "idx = 0\n",
    "for i in hz_sim:\n",
    "    if df.iloc[i]['hzwh_w2v_sim'] > 0.80 and idx < 10:\n",
    "        title = df.iloc[i]['title_c']\n",
    "        content = df.iloc[i]['content']\n",
    "        sim_val = df.iloc[i]['hzwh_w2v_sim']\n",
    "        idx += 1\n",
    "        print idx, i, title, sim_val\n",
    "        print  df.iloc[i]['url']\n",
    "        print content\n",
    "        print '--------------'"
   ]
  },
  {
   "cell_type": "code",
   "execution_count": 39,
   "metadata": {
    "collapsed": true
   },
   "outputs": [],
   "source": [
    "msk1 = df['content'].str.contains('徽州') \n",
    "msk2 = df['content'].str.contains('徽文化') \n",
    "msk = msk1 | msk2\n",
    "df_check = df[msk]"
   ]
  },
  {
   "cell_type": "code",
   "execution_count": 40,
   "metadata": {
    "collapsed": true
   },
   "outputs": [],
   "source": [
    "df_check.info()"
   ]
  },
  {
   "cell_type": "code",
   "execution_count": 41,
   "metadata": {
    "collapsed": true
   },
   "outputs": [],
   "source": [
    "docs = df_check['content_seg']"
   ]
  },
  {
   "cell_type": "code",
   "execution_count": 42,
   "metadata": {
    "collapsed": true
   },
   "outputs": [],
   "source": [
    "hz_words_fq = map_words_fq(' '.join(docs))"
   ]
  },
  {
   "cell_type": "code",
   "execution_count": 43,
   "metadata": {
    "collapsed": true
   },
   "outputs": [],
   "source": [
    "print ' '.join(hz_words_fq.keys())"
   ]
  },
  {
   "cell_type": "code",
   "execution_count": 46,
   "metadata": {
    "collapsed": true
   },
   "outputs": [],
   "source": [
    "hz_vec = map_word2vec_centroid(hz_words_fq)\n",
    "sum1 = np.sum([hz_vec**2])    \n",
    "hz_vec = hz_vec/math.sqrt(sum1)"
   ]
  },
  {
   "cell_type": "code",
   "execution_count": 47,
   "metadata": {
    "collapsed": true
   },
   "outputs": [],
   "source": [
    "t0 = time()\n",
    "df['hzwh_w2vs_sim'] = df.w2v_centroid.map(lambda x: get_cosine2(hz_vec, x))\n",
    "print time() - t0"
   ]
  },
  {
   "cell_type": "code",
   "execution_count": 48,
   "metadata": {},
   "outputs": [
    {
     "data": {
      "text/plain": [
       "<matplotlib.text.Text at 0x145d665d0>"
      ]
     },
     "execution_count": 48,
     "metadata": {},
     "output_type": "execute_result"
    },
    {
     "data": {
      "image/png": "[encoded data removed]",
      "text/plain": [
       "<matplotlib.figure.Figure at 0x145b43710>"
      ]
     },
     "metadata": {},
     "output_type": "display_data"
    }
   ],
   "source": [
    "df['hzwh_w2vs_sim'].hist(bins=500, figsize= (16, 6))\n",
    "plt.title('Huizhou W2V Similiarity Histogram')\n",
    "plt.xlabel('Similarity')\n",
    "plt.ylabel('Count')"
   ]
  },
  {
   "cell_type": "code",
   "execution_count": 49,
   "metadata": {
    "collapsed": true
   },
   "outputs": [],
   "source": [
    "hz_sim = df['hzwh_w2vs_sim'].values.argsort()[::-1]"
   ]
  },
  {
   "cell_type": "code",
   "execution_count": 50,
   "metadata": {
    "collapsed": true
   },
   "outputs": [],
   "source": [
    "idx = 0\n",
    "for i in hz_sim:\n",
    "    if df.iloc[i]['hzwh_w2vs_sim'] > 0.80 and idx < 10:\n",
    "        title = df.iloc[i]['title_c']\n",
    "        content = df.iloc[i]['content']\n",
    "        sim_val = df.iloc[i]['hzwh_w2vs_sim']\n",
    "        idx += 1\n",
    "        print idx, i, title, sim_val\n",
    "        print  df.iloc[i]['url']\n",
    "        print content\n",
    "        print '--------------'"
   ]
  },
  {
   "cell_type": "code",
   "execution_count": null,
   "metadata": {
    "collapsed": true
   },
   "outputs": [],
   "source": []
  },
  {
   "cell_type": "code",
   "execution_count": 52,
   "metadata": {
    "collapsed": true
   },
   "outputs": [],
   "source": [
    "t0 = time()\n",
    "hz_vec = model[u'徽派']*0.5 + model[u'建筑']*0.5\n",
    "sum1 = np.sum([hz_vec**2])    \n",
    "hz_vec = hz_vec/math.sqrt(sum1)\n",
    "df['hzjz_w2v_sim'] = df.w2v_centroid.map(lambda x: get_cosine2(hz_vec, x))\n",
    "print time() - t0"
   ]
  },
  {
   "cell_type": "code",
   "execution_count": 53,
   "metadata": {
    "collapsed": true
   },
   "outputs": [],
   "source": [
    "hz_sim = df['hzjz_w2v_sim'].values.argsort()[::-1]"
   ]
  },
  {
   "cell_type": "code",
   "execution_count": 54,
   "metadata": {},
   "outputs": [
    {
     "data": {
      "text/plain": [
       "0.82953476905822754"
      ]
     },
     "execution_count": 54,
     "metadata": {},
     "output_type": "execute_result"
    }
   ],
   "source": [
    "df['hzjz_w2v_sim'].max()"
   ]
  },
  {
   "cell_type": "code",
   "execution_count": 56,
   "metadata": {},
   "outputs": [],
   "source": [
    "idx = 0\n",
    "for i in hz_sim:\n",
    "    if df.iloc[i]['hzjz_w2v_sim'] > 0.80 and idx < 10:\n",
    "        title = df.iloc[i]['title_c']\n",
    "        content = df.iloc[i]['content']\n",
    "        sim_val = df.iloc[i]['hzjz_w2v_sim']\n",
    "        idx += 1\n",
    "        print idx, i, title, sim_val\n",
    "        print  df.iloc[i]['url']\n",
    "        print content\n",
    "        print '--------------'"
   ]
  },
  {
   "cell_type": "code",
   "execution_count": null,
   "metadata": {
    "collapsed": true
   },
   "outputs": [],
   "source": []
  },
  {
   "cell_type": "code",
   "execution_count": 57,
   "metadata": {
    "collapsed": true
   },
   "outputs": [],
   "source": [
    "msk1 = df['content'].str.contains('徽派') \n",
    "msk2 = df['content'].str.contains('建筑') \n",
    "msk = msk1 | msk2\n",
    "df_check = df[msk]"
   ]
  },
  {
   "cell_type": "code",
   "execution_count": 58,
   "metadata": {
    "collapsed": true
   },
   "outputs": [],
   "source": [
    "docs = df_check['content_seg']"
   ]
  },
  {
   "cell_type": "code",
   "execution_count": 59,
   "metadata": {
    "collapsed": true
   },
   "outputs": [],
   "source": [
    "hz_words_fq = map_words_fq(' '.join(docs))"
   ]
  },
  {
   "cell_type": "code",
   "execution_count": 60,
   "metadata": {
    "collapsed": true
   },
   "outputs": [],
   "source": [
    "hz_vec = map_word2vec_centroid(hz_words_fq)\n",
    "sum1 = np.sum([hz_vec**2])    \n",
    "hz_vec = hz_vec/math.sqrt(sum1)"
   ]
  },
  {
   "cell_type": "code",
   "execution_count": 61,
   "metadata": {
    "collapsed": true
   },
   "outputs": [],
   "source": [
    "t0 = time()\n",
    "df['hzjz_w2vs_sim'] = df.w2v_centroid.map(lambda x: get_cosine2(hz_vec, x))\n",
    "print time() - t0"
   ]
  },
  {
   "cell_type": "code",
   "execution_count": 62,
   "metadata": {
    "collapsed": true
   },
   "outputs": [],
   "source": [
    "hz_sim = df['hzjz_w2vs_sim'].values.argsort()[::-1]"
   ]
  },
  {
   "cell_type": "code",
   "execution_count": 63,
   "metadata": {
    "collapsed": true
   },
   "outputs": [],
   "source": [
    "idx = 0\n",
    "for i in hz_sim:\n",
    "    if df.iloc[i]['hzjz_w2vs_sim'] > 0.80 and idx < 10:\n",
    "        title = df.iloc[i]['title_c']\n",
    "        content = df.iloc[i]['content']\n",
    "        sim_val = df.iloc[i]['hzjz_w2vs_sim']\n",
    "        idx += 1\n",
    "        print idx, i, title, sim_val\n",
    "        print  df.iloc[i]['url']\n",
    "        print content\n",
    "        print '--------------'"
   ]
  },
  {
   "cell_type": "code",
   "execution_count": null,
   "metadata": {
    "collapsed": true
   },
   "outputs": [],
   "source": []
  },
  {
   "cell_type": "code",
   "execution_count": 64,
   "metadata": {
    "collapsed": true
   },
   "outputs": [],
   "source": [
    "t0 = time()\n",
    "hz_vec = model[u'徽州']*0.4 + model[u'继承']*0.3 + model[u'遗产']*0.3\n",
    "sum1 = np.sum([hz_vec**2])    \n",
    "hz_vec = hz_vec/math.sqrt(sum1)\n",
    "df['ycjc_w2v_sim'] = df.w2v_centroid.map(lambda x: get_cosine2(hz_vec, x))\n",
    "print time() - t0"
   ]
  },
  {
   "cell_type": "code",
   "execution_count": 65,
   "metadata": {},
   "outputs": [
    {
     "data": {
      "text/plain": [
       "0.87996810674667358"
      ]
     },
     "execution_count": 65,
     "metadata": {},
     "output_type": "execute_result"
    }
   ],
   "source": [
    "df['ycjc_w2v_sim'].max()"
   ]
  },
  {
   "cell_type": "code",
   "execution_count": 66,
   "metadata": {
    "collapsed": true
   },
   "outputs": [],
   "source": [
    "hz_sim = df['ycjc_w2v_sim'].values.argsort()[::-1]"
   ]
  },
  {
   "cell_type": "code",
   "execution_count": 67,
   "metadata": {
    "collapsed": true
   },
   "outputs": [],
   "source": [
    "idx = 0\n",
    "for i in hz_sim:\n",
    "    if df.iloc[i]['ycjc_w2v_sim'] > 0.50 and idx < 10:\n",
    "        title = df.iloc[i]['title_c']\n",
    "        content = df.iloc[i]['content']\n",
    "        sim_val = df.iloc[i]['ycjc_w2v_sim']\n",
    "        idx += 1\n",
    "        print idx, i, title, sim_val\n",
    "        print  df.iloc[i]['url']\n",
    "        print content\n",
    "        print '--------------'"
   ]
  },
  {
   "cell_type": "code",
   "execution_count": 68,
   "metadata": {},
   "outputs": [
    {
     "data": {
      "text/plain": [
       "<matplotlib.text.Text at 0x1443ed610>"
      ]
     },
     "execution_count": 68,
     "metadata": {},
     "output_type": "execute_result"
    },
    {
     "data": {
      "image/png": "[encoded data removed]",
      "text/plain": [
       "<matplotlib.figure.Figure at 0x145ba7490>"
      ]
     },
     "metadata": {},
     "output_type": "display_data"
    }
   ],
   "source": [
    "df['ycjc_w2v_sim'].hist(bins=500, figsize= (16, 6))\n",
    "plt.title('Huizhou W2V Similiarity Histogram')\n",
    "plt.xlabel('Similarity')\n",
    "plt.ylabel('Count')"
   ]
  },
  {
   "cell_type": "code",
   "execution_count": null,
   "metadata": {
    "collapsed": true
   },
   "outputs": [],
   "source": []
  },
  {
   "cell_type": "code",
   "execution_count": 69,
   "metadata": {
    "collapsed": true
   },
   "outputs": [],
   "source": [
    "msk1 = df['content'].str.contains('徽州') \n",
    "msk2 = df['content'].str.contains('继承') \n",
    "msk3 = df['content'].str.contains('遗产') \n",
    "\n",
    "msk = msk1 | msk2 | msk3\n",
    "df_check = df[msk]"
   ]
  },
  {
   "cell_type": "code",
   "execution_count": 70,
   "metadata": {
    "collapsed": true
   },
   "outputs": [],
   "source": [
    "docs = df_check['content_seg']"
   ]
  },
  {
   "cell_type": "code",
   "execution_count": 71,
   "metadata": {
    "collapsed": true
   },
   "outputs": [],
   "source": [
    "hz_words_fq = map_words_fq(' '.join(docs))"
   ]
  },
  {
   "cell_type": "code",
   "execution_count": 72,
   "metadata": {
    "collapsed": true
   },
   "outputs": [],
   "source": [
    "hz_vec = map_word2vec_centroid(hz_words_fq)\n",
    "sum1 = np.sum([hz_vec**2])    \n",
    "hz_vec = hz_vec/math.sqrt(sum1)"
   ]
  },
  {
   "cell_type": "code",
   "execution_count": 73,
   "metadata": {
    "collapsed": true
   },
   "outputs": [],
   "source": [
    "t0 = time()\n",
    "df['ycjc_w2vs_sim'] = df.w2v_centroid.map(lambda x: get_cosine2(hz_vec, x))\n",
    "print time() - t0"
   ]
  },
  {
   "cell_type": "code",
   "execution_count": 74,
   "metadata": {
    "collapsed": true
   },
   "outputs": [],
   "source": [
    "hz_sim = df['ycjc_w2vs_sim'].values.argsort()[::-1]"
   ]
  },
  {
   "cell_type": "code",
   "execution_count": 75,
   "metadata": {
    "collapsed": true
   },
   "outputs": [],
   "source": [
    "idx = 0\n",
    "for i in hz_sim:\n",
    "    if df.iloc[i]['ycjc_w2vs_sim'] > 0.80 and idx < 10:\n",
    "        title = df.iloc[i]['title_c']\n",
    "        content = df.iloc[i]['content']\n",
    "        sim_val = df.iloc[i]['ycjc_w2vs_sim']\n",
    "        idx += 1\n",
    "        print idx, i, title, sim_val\n",
    "        print  df.iloc[i]['url']\n",
    "        print content\n",
    "        print '--------------'"
   ]
  },
  {
   "cell_type": "code",
   "execution_count": null,
   "metadata": {
    "collapsed": true
   },
   "outputs": [],
   "source": []
  },
  {
   "cell_type": "code",
   "execution_count": 76,
   "metadata": {
    "collapsed": true
   },
   "outputs": [],
   "source": [
    "t0 = time()\n",
    "hz_vec = model[u'徽州']*0.5 + model[u'雕刻']*0.5\n",
    "sum1 = np.sum([hz_vec**2])    \n",
    "hz_vec = hz_vec/math.sqrt(sum1)\n",
    "df['hzdk_w2v_sim'] = df.w2v_centroid.map(lambda x: get_cosine2(hz_vec, x))\n",
    "print time() - t0"
   ]
  },
  {
   "cell_type": "code",
   "execution_count": 77,
   "metadata": {
    "collapsed": true
   },
   "outputs": [],
   "source": [
    "hz_sim = df['hzdk_w2v_sim'].values.argsort()[::-1]"
   ]
  },
  {
   "cell_type": "code",
   "execution_count": 78,
   "metadata": {
    "collapsed": true
   },
   "outputs": [],
   "source": [
    "idx = 0\n",
    "for i in hz_sim:\n",
    "    if df.iloc[i]['hzdk_w2v_sim'] > 0.50 and idx < 10:\n",
    "        title = df.iloc[i]['title_c']\n",
    "        content = df.iloc[i]['content']\n",
    "        sim_val = df.iloc[i]['hzdk_w2v_sim']\n",
    "        idx += 1\n",
    "        print idx, i, title, sim_val\n",
    "        print  df.iloc[i]['url']\n",
    "        print content\n",
    "        print '--------------'"
   ]
  },
  {
   "cell_type": "code",
   "execution_count": 79,
   "metadata": {},
   "outputs": [
    {
     "data": {
      "text/plain": [
       "<matplotlib.text.Text at 0x14366bc50>"
      ]
     },
     "execution_count": 79,
     "metadata": {},
     "output_type": "execute_result"
    },
    {
     "data": {
      "image/png": "[encoded data removed]",
      "text/plain": [
       "<matplotlib.figure.Figure at 0x142d1bf10>"
      ]
     },
     "metadata": {},
     "output_type": "display_data"
    }
   ],
   "source": [
    "df['hzdk_w2v_sim'].hist(bins=500, figsize= (16, 6))\n",
    "plt.title('Huizhou W2V Similiarity Histogram')\n",
    "plt.xlabel('Similarity')\n",
    "plt.ylabel('Count')"
   ]
  },
  {
   "cell_type": "code",
   "execution_count": 80,
   "metadata": {
    "collapsed": true
   },
   "outputs": [],
   "source": [
    "msk1 = df['content'].str.contains('徽州') \n",
    "msk2 = df['content'].str.contains('雕刻') \n",
    "\n",
    "msk = msk1 | msk2\n",
    "df_check = df[msk]"
   ]
  },
  {
   "cell_type": "code",
   "execution_count": 81,
   "metadata": {
    "collapsed": true
   },
   "outputs": [],
   "source": [
    "docs = df_check['content_seg']"
   ]
  },
  {
   "cell_type": "code",
   "execution_count": 82,
   "metadata": {
    "collapsed": true
   },
   "outputs": [],
   "source": [
    "hz_words_fq = map_words_fq(' '.join(docs))"
   ]
  },
  {
   "cell_type": "code",
   "execution_count": 83,
   "metadata": {
    "collapsed": true
   },
   "outputs": [],
   "source": [
    "hz_vec = map_word2vec_centroid(hz_words_fq)\n",
    "sum1 = np.sum([hz_vec**2])    \n",
    "hz_vec = hz_vec/math.sqrt(sum1)"
   ]
  },
  {
   "cell_type": "code",
   "execution_count": 84,
   "metadata": {
    "collapsed": true
   },
   "outputs": [],
   "source": [
    "t0 = time()\n",
    "df['hzdk_w2vs_sim'] = df.w2v_centroid.map(lambda x: get_cosine2(hz_vec, x))\n",
    "print time() - t0"
   ]
  },
  {
   "cell_type": "code",
   "execution_count": 85,
   "metadata": {
    "collapsed": true
   },
   "outputs": [],
   "source": [
    "hz_sim = df['hzdk_w2vs_sim'].values.argsort()[::-1]"
   ]
  },
  {
   "cell_type": "code",
   "execution_count": 86,
   "metadata": {
    "collapsed": true
   },
   "outputs": [],
   "source": [
    "idx = 0\n",
    "for i in hz_sim:\n",
    "    if df.iloc[i]['hzdk_w2vs_sim'] > 0.50 and idx < 10:\n",
    "        title = df.iloc[i]['title_c']\n",
    "        content = df.iloc[i]['content']\n",
    "        sim_val = df.iloc[i]['hzdk_w2vs_sim']\n",
    "        idx += 1\n",
    "        print idx, i, title, sim_val\n",
    "        print  df.iloc[i]['url']\n",
    "        print content\n",
    "        print '--------------'"
   ]
  },
  {
   "cell_type": "code",
   "execution_count": null,
   "metadata": {
    "collapsed": true
   },
   "outputs": [],
   "source": []
  },
  {
   "cell_type": "code",
   "execution_count": 87,
   "metadata": {
    "collapsed": true
   },
   "outputs": [],
   "source": [
    "t0 = time()\n",
    "hz_vec = model[u'徽派']*0.5 + model[u'艺术']*0.5\n",
    "sum1 = np.sum([hz_vec**2])    \n",
    "hz_vec = hz_vec/math.sqrt(sum1)\n",
    "df['hpys_w2v_sim'] = df.w2v_centroid.map(lambda x: get_cosine2(hz_vec, x))\n",
    "print time() - t0"
   ]
  },
  {
   "cell_type": "code",
   "execution_count": 88,
   "metadata": {
    "collapsed": true
   },
   "outputs": [],
   "source": [
    "hz_sim = df['hpys_w2v_sim'].values.argsort()[::-1]"
   ]
  },
  {
   "cell_type": "code",
   "execution_count": 89,
   "metadata": {
    "collapsed": true
   },
   "outputs": [],
   "source": [
    "idx = 0\n",
    "for i in hz_sim:\n",
    "    if df.iloc[i]['hpys_w2v_sim'] > 0.50 and idx < 10:\n",
    "        title = df.iloc[i]['title_c']\n",
    "        content = df.iloc[i]['content']\n",
    "        sim_val = df.iloc[i]['hpys_w2v_sim']\n",
    "        idx += 1\n",
    "        print idx, i, title, sim_val\n",
    "        print  df.iloc[i]['url']\n",
    "        print content\n",
    "        print '--------------'"
   ]
  },
  {
   "cell_type": "code",
   "execution_count": 90,
   "metadata": {},
   "outputs": [
    {
     "data": {
      "text/plain": [
       "<matplotlib.text.Text at 0x188f40290>"
      ]
     },
     "execution_count": 90,
     "metadata": {},
     "output_type": "execute_result"
    },
    {
     "data": {
      "image/png": "[encoded data removed]",
      "text/plain": [
       "<matplotlib.figure.Figure at 0x14ad5d810>"
      ]
     },
     "metadata": {},
     "output_type": "display_data"
    }
   ],
   "source": [
    "df['hpys_w2v_sim'].hist(bins=500, figsize= (16, 6))\n",
    "plt.title('Huizhou W2V Similiarity Histogram')\n",
    "plt.xlabel('Similarity')\n",
    "plt.ylabel('Count')"
   ]
  },
  {
   "cell_type": "code",
   "execution_count": 91,
   "metadata": {
    "collapsed": true
   },
   "outputs": [],
   "source": [
    "msk1 = df['content'].str.contains('徽派') \n",
    "msk2 = df['content'].str.contains('艺术') \n",
    "\n",
    "msk = msk1 | msk2\n",
    "df_check = df[msk]"
   ]
  },
  {
   "cell_type": "code",
   "execution_count": 92,
   "metadata": {
    "collapsed": true
   },
   "outputs": [],
   "source": [
    "docs = df_check['content_seg']"
   ]
  },
  {
   "cell_type": "code",
   "execution_count": 93,
   "metadata": {
    "collapsed": true
   },
   "outputs": [],
   "source": [
    "hz_words_fq = map_words_fq(' '.join(docs))"
   ]
  },
  {
   "cell_type": "code",
   "execution_count": 94,
   "metadata": {
    "collapsed": true
   },
   "outputs": [],
   "source": [
    "hz_vec = map_word2vec_centroid(hz_words_fq)\n",
    "sum1 = np.sum([hz_vec**2])    \n",
    "hz_vec = hz_vec/math.sqrt(sum1)"
   ]
  },
  {
   "cell_type": "code",
   "execution_count": 95,
   "metadata": {
    "collapsed": true
   },
   "outputs": [],
   "source": [
    "t0 = time()\n",
    "df['hpys_w2vs_sim'] = df.w2v_centroid.map(lambda x: get_cosine2(hz_vec, x))\n",
    "print time() - t0"
   ]
  },
  {
   "cell_type": "code",
   "execution_count": 96,
   "metadata": {
    "collapsed": true
   },
   "outputs": [],
   "source": [
    "hz_sim = df['hpys_w2vs_sim'].values.argsort()[::-1]"
   ]
  },
  {
   "cell_type": "code",
   "execution_count": 97,
   "metadata": {
    "collapsed": true
   },
   "outputs": [],
   "source": [
    "idx = 0\n",
    "for i in hz_sim:\n",
    "    if df.iloc[i]['hpys_w2vs_sim'] > 0.50 and idx < 10:\n",
    "        title = df.iloc[i]['title_c']\n",
    "        content = df.iloc[i]['content']\n",
    "        sim_val = df.iloc[i]['hpys_w2vs_sim']\n",
    "        idx += 1\n",
    "        print idx, i, title, sim_val\n",
    "        print  df.iloc[i]['url']\n",
    "        print content\n",
    "        print '--------------'"
   ]
  },
  {
   "cell_type": "code",
   "execution_count": null,
   "metadata": {
    "collapsed": true
   },
   "outputs": [],
   "source": []
  },
  {
   "cell_type": "code",
   "execution_count": 98,
   "metadata": {
    "collapsed": true
   },
   "outputs": [],
   "source": [
    "t0 = time()\n",
    "hz_vec = model[u'徽剧']*0.5 + model[u'徽菜']*0.5\n",
    "sum1 = np.sum([hz_vec**2])    \n",
    "hz_vec = hz_vec/math.sqrt(sum1)\n",
    "df['hjhc_w2v_sim'] = df.w2v_centroid.map(lambda x: get_cosine2(hz_vec, x))\n",
    "print time() - t0"
   ]
  },
  {
   "cell_type": "code",
   "execution_count": 99,
   "metadata": {
    "collapsed": true
   },
   "outputs": [],
   "source": [
    "hz_sim = df['hjhc_w2v_sim'].values.argsort()[::-1]"
   ]
  },
  {
   "cell_type": "code",
   "execution_count": 100,
   "metadata": {
    "collapsed": true
   },
   "outputs": [],
   "source": [
    "idx = 0\n",
    "for i in hz_sim:\n",
    "    if df.iloc[i]['hjhc_w2v_sim'] > 0.50 and idx < 10:\n",
    "        title = df.iloc[i]['title_c']\n",
    "        content = df.iloc[i]['content']\n",
    "        sim_val = df.iloc[i]['hjhc_w2v_sim']\n",
    "        idx += 1\n",
    "        print idx, i, title, sim_val\n",
    "        print  df.iloc[i]['url']\n",
    "        print content\n",
    "        print '--------------'"
   ]
  },
  {
   "cell_type": "code",
   "execution_count": 101,
   "metadata": {},
   "outputs": [
    {
     "data": {
      "text/plain": [
       "<matplotlib.text.Text at 0x1768f6a10>"
      ]
     },
     "execution_count": 101,
     "metadata": {},
     "output_type": "execute_result"
    },
    {
     "data": {
      "image/png": "[encoded data removed]",
      "text/plain": [
       "<matplotlib.figure.Figure at 0x146ab50d0>"
      ]
     },
     "metadata": {},
     "output_type": "display_data"
    }
   ],
   "source": [
    "df['hjhc_w2v_sim'].hist(bins=500, figsize= (16, 6))\n",
    "plt.title('Huizhou W2V Similiarity Histogram')\n",
    "plt.xlabel('Similarity')\n",
    "plt.ylabel('Count')"
   ]
  },
  {
   "cell_type": "code",
   "execution_count": 102,
   "metadata": {
    "collapsed": true
   },
   "outputs": [],
   "source": [
    "msk1 = df['content'].str.contains('徽剧') \n",
    "msk2 = df['content'].str.contains('徽菜') \n",
    "\n",
    "msk = msk1 | msk2\n",
    "df_check = df[msk]"
   ]
  },
  {
   "cell_type": "code",
   "execution_count": 103,
   "metadata": {
    "collapsed": true
   },
   "outputs": [],
   "source": [
    "docs = df_check['content_seg']"
   ]
  },
  {
   "cell_type": "code",
   "execution_count": 104,
   "metadata": {
    "collapsed": true
   },
   "outputs": [],
   "source": [
    "hz_words_fq = map_words_fq(' '.join(docs))"
   ]
  },
  {
   "cell_type": "code",
   "execution_count": 105,
   "metadata": {
    "collapsed": true
   },
   "outputs": [],
   "source": [
    "hz_vec = map_word2vec_centroid(hz_words_fq)\n",
    "sum1 = np.sum([hz_vec**2])    \n",
    "hz_vec = hz_vec/math.sqrt(sum1)"
   ]
  },
  {
   "cell_type": "code",
   "execution_count": 106,
   "metadata": {
    "collapsed": true
   },
   "outputs": [],
   "source": [
    "t0 = time()\n",
    "df['hjhc_w2vs_sim'] = df.w2v_centroid.map(lambda x: get_cosine2(hz_vec, x))\n",
    "print time() - t0"
   ]
  },
  {
   "cell_type": "code",
   "execution_count": 107,
   "metadata": {
    "collapsed": true
   },
   "outputs": [],
   "source": [
    "hz_sim = df['hjhc_w2vs_sim'].values.argsort()[::-1]"
   ]
  },
  {
   "cell_type": "code",
   "execution_count": 108,
   "metadata": {
    "collapsed": true
   },
   "outputs": [],
   "source": [
    "idx = 0\n",
    "for i in hz_sim:\n",
    "    if df.iloc[i]['hjhc_w2vs_sim'] > 0.50 and idx < 10:\n",
    "        title = df.iloc[i]['title_c']\n",
    "        content = df.iloc[i]['content']\n",
    "        sim_val = df.iloc[i]['hjhc_w2vs_sim']\n",
    "        idx += 1\n",
    "        print idx, i, title, sim_val\n",
    "        print  df.iloc[i]['url']\n",
    "        print content\n",
    "        print '--------------'"
   ]
  },
  {
   "cell_type": "code",
   "execution_count": null,
   "metadata": {
    "collapsed": true
   },
   "outputs": [],
   "source": []
  },
  {
   "cell_type": "code",
   "execution_count": 109,
   "metadata": {
    "collapsed": true
   },
   "outputs": [],
   "source": [
    "t0 = time()\n",
    "hz_vec = model[u'徽商']\n",
    "sum1 = np.sum([hz_vec**2])    \n",
    "hz_vec = hz_vec/math.sqrt(sum1)\n",
    "df['hs_w2v_sim'] = df.w2v_centroid.map(lambda x: get_cosine2(hz_vec, x))\n",
    "print time() - t0"
   ]
  },
  {
   "cell_type": "code",
   "execution_count": 110,
   "metadata": {
    "collapsed": true
   },
   "outputs": [],
   "source": [
    "hz_sim = df['hs_w2v_sim'].values.argsort()[::-1]"
   ]
  },
  {
   "cell_type": "code",
   "execution_count": 111,
   "metadata": {
    "collapsed": true
   },
   "outputs": [],
   "source": [
    "idx = 0\n",
    "for i in hz_sim:\n",
    "    if df.iloc[i]['hs_w2v_sim'] > 0.50 and idx < 10:\n",
    "        title = df.iloc[i]['title_c']\n",
    "        content = df.iloc[i]['content']\n",
    "        sim_val = df.iloc[i]['hs_w2v_sim']\n",
    "        idx += 1\n",
    "        print idx, i, title, sim_val\n",
    "        print  df.iloc[i]['url']\n",
    "        print content\n",
    "        print '--------------'"
   ]
  },
  {
   "cell_type": "code",
   "execution_count": 112,
   "metadata": {},
   "outputs": [
    {
     "data": {
      "text/plain": [
       "<matplotlib.text.Text at 0x171986110>"
      ]
     },
     "execution_count": 112,
     "metadata": {},
     "output_type": "execute_result"
    },
    {
     "data": {
      "image/png": "[encoded data removed]",
      "text/plain": [
       "<matplotlib.figure.Figure at 0x14ad87d50>"
      ]
     },
     "metadata": {},
     "output_type": "display_data"
    }
   ],
   "source": [
    "df['hs_w2v_sim'].hist(bins=500, figsize= (16, 6))\n",
    "plt.title('Huizhou W2V Similiarity Histogram')\n",
    "plt.xlabel('Similarity')\n",
    "plt.ylabel('Count')"
   ]
  },
  {
   "cell_type": "code",
   "execution_count": 113,
   "metadata": {
    "collapsed": true
   },
   "outputs": [],
   "source": [
    "msk1 = df['content'].str.contains('徽商') \n",
    "\n",
    "msk = msk1\n",
    "df_check = df[msk]"
   ]
  },
  {
   "cell_type": "code",
   "execution_count": 114,
   "metadata": {
    "collapsed": true
   },
   "outputs": [],
   "source": [
    "docs = df_check['content_seg']"
   ]
  },
  {
   "cell_type": "code",
   "execution_count": 115,
   "metadata": {
    "collapsed": true
   },
   "outputs": [],
   "source": [
    "hz_words_fq = map_words_fq(' '.join(docs))"
   ]
  },
  {
   "cell_type": "code",
   "execution_count": 116,
   "metadata": {
    "collapsed": true
   },
   "outputs": [],
   "source": [
    "hz_vec = map_word2vec_centroid(hz_words_fq)\n",
    "sum1 = np.sum([hz_vec**2])    \n",
    "hz_vec = hz_vec/math.sqrt(sum1)"
   ]
  },
  {
   "cell_type": "code",
   "execution_count": 117,
   "metadata": {
    "collapsed": true
   },
   "outputs": [],
   "source": [
    "t0 = time()\n",
    "df['hs_w2vs_sim'] = df.w2v_centroid.map(lambda x: get_cosine2(hz_vec, x))\n",
    "print time() - t0"
   ]
  },
  {
   "cell_type": "code",
   "execution_count": 118,
   "metadata": {
    "collapsed": true
   },
   "outputs": [],
   "source": [
    "hz_sim = df['hs_w2vs_sim'].values.argsort()[::-1]"
   ]
  },
  {
   "cell_type": "code",
   "execution_count": 119,
   "metadata": {
    "collapsed": true
   },
   "outputs": [],
   "source": [
    "idx = 0\n",
    "for i in hz_sim:\n",
    "    if df.iloc[i]['hs_w2vs_sim'] > 0.50 and idx < 10:\n",
    "        title = df.iloc[i]['title_c']\n",
    "        content = df.iloc[i]['content']\n",
    "        sim_val = df.iloc[i]['hs_w2vs_sim']\n",
    "        idx += 1\n",
    "        print idx, i, title, sim_val\n",
    "        print  df.iloc[i]['url']\n",
    "        print content\n",
    "        print '--------------'"
   ]
  },
  {
   "cell_type": "code",
   "execution_count": null,
   "metadata": {
    "collapsed": true
   },
   "outputs": [],
   "source": []
  },
  {
   "cell_type": "code",
   "execution_count": 120,
   "metadata": {
    "collapsed": true
   },
   "outputs": [],
   "source": [
    "t0 = time()\n",
    "hz_vec = model[u'新安']*0.5 + model[u'理学']*0.5\n",
    "sum1 = np.sum([hz_vec**2])    \n",
    "hz_vec = hz_vec/math.sqrt(sum1)\n",
    "df['xalx_w2v_sim'] = df.w2v_centroid.map(lambda x: get_cosine2(hz_vec, x))\n",
    "print time() - t0"
   ]
  },
  {
   "cell_type": "code",
   "execution_count": 121,
   "metadata": {
    "collapsed": true
   },
   "outputs": [],
   "source": [
    "hz_sim = df['xalx_w2v_sim'].values.argsort()[::-1]"
   ]
  },
  {
   "cell_type": "code",
   "execution_count": 122,
   "metadata": {
    "collapsed": true
   },
   "outputs": [],
   "source": [
    "idx = 0\n",
    "for i in hz_sim:\n",
    "    if df.iloc[i]['xalx_w2v_sim'] > 0.50 and idx < 10:\n",
    "        title = df.iloc[i]['title_c']\n",
    "        content = df.iloc[i]['content']\n",
    "        sim_val = df.iloc[i]['xalx_w2v_sim']\n",
    "        idx += 1\n",
    "        print idx, i, title, sim_val\n",
    "        print  df.iloc[i]['url']\n",
    "        print content\n",
    "        print '--------------'"
   ]
  },
  {
   "cell_type": "code",
   "execution_count": 123,
   "metadata": {},
   "outputs": [
    {
     "data": {
      "text/plain": [
       "<matplotlib.text.Text at 0x14ddae5d0>"
      ]
     },
     "execution_count": 123,
     "metadata": {},
     "output_type": "execute_result"
    },
    {
     "data": {
      "image/png": "[encoded data removed]",
      "text/plain": [
       "<matplotlib.figure.Figure at 0x1490a1fd0>"
      ]
     },
     "metadata": {},
     "output_type": "display_data"
    }
   ],
   "source": [
    "df['xalx_w2v_sim'].hist(bins=500, figsize= (16, 6))\n",
    "plt.title('Huizhou W2V Similiarity Histogram')\n",
    "plt.xlabel('Similarity')\n",
    "plt.ylabel('Count')"
   ]
  },
  {
   "cell_type": "code",
   "execution_count": 124,
   "metadata": {
    "collapsed": true
   },
   "outputs": [],
   "source": [
    "msk1 = df['content'].str.contains('新安') \n",
    "msk2 = df['content'].str.contains('理学') \n",
    "\n",
    "msk = msk1 | msk2\n",
    "df_check = df[msk]"
   ]
  },
  {
   "cell_type": "code",
   "execution_count": 125,
   "metadata": {
    "collapsed": true
   },
   "outputs": [],
   "source": [
    "docs = df_check['content_seg']"
   ]
  },
  {
   "cell_type": "code",
   "execution_count": 126,
   "metadata": {
    "collapsed": true
   },
   "outputs": [],
   "source": [
    "hz_words_fq = map_words_fq(' '.join(docs))"
   ]
  },
  {
   "cell_type": "code",
   "execution_count": 127,
   "metadata": {
    "collapsed": true
   },
   "outputs": [],
   "source": [
    "hz_vec = map_word2vec_centroid(hz_words_fq)\n",
    "sum1 = np.sum([hz_vec**2])    \n",
    "hz_vec = hz_vec/math.sqrt(sum1)"
   ]
  },
  {
   "cell_type": "code",
   "execution_count": 128,
   "metadata": {
    "collapsed": true
   },
   "outputs": [],
   "source": [
    "t0 = time()\n",
    "df['xalx_w2vs_sim'] = df.w2v_centroid.map(lambda x: get_cosine2(hz_vec, x))\n",
    "print time() - t0"
   ]
  },
  {
   "cell_type": "code",
   "execution_count": 129,
   "metadata": {
    "collapsed": true
   },
   "outputs": [],
   "source": [
    "hz_sim = df['xalx_w2vs_sim'].values.argsort()[::-1]"
   ]
  },
  {
   "cell_type": "code",
   "execution_count": 130,
   "metadata": {
    "collapsed": true
   },
   "outputs": [],
   "source": [
    "idx = 0\n",
    "for i in hz_sim:\n",
    "    if df.iloc[i]['xalx_w2vs_sim'] > 0.50 and idx < 10:\n",
    "        title = df.iloc[i]['title_c']\n",
    "        content = df.iloc[i]['content']\n",
    "        sim_val = df.iloc[i]['xalx_w2vs_sim']\n",
    "        idx += 1\n",
    "        print idx, i, title, sim_val\n",
    "        print  df.iloc[i]['url']\n",
    "        print content\n",
    "        print '--------------'"
   ]
  },
  {
   "cell_type": "code",
   "execution_count": null,
   "metadata": {
    "collapsed": true
   },
   "outputs": [],
   "source": []
  },
  {
   "cell_type": "code",
   "execution_count": 131,
   "metadata": {
    "collapsed": true
   },
   "outputs": [],
   "source": [
    "t0 = time()\n",
    "hz_vec = model[u'徽学']*0.5 + model[u'研究']*0.5\n",
    "sum1 = np.sum([hz_vec**2])    \n",
    "hz_vec = hz_vec/math.sqrt(sum1)\n",
    "df['hxyj_w2v_sim'] = df.w2v_centroid.map(lambda x: get_cosine2(hz_vec, x))\n",
    "print time() - t0"
   ]
  },
  {
   "cell_type": "code",
   "execution_count": 132,
   "metadata": {
    "collapsed": true
   },
   "outputs": [],
   "source": [
    "hz_sim = df['hxyj_w2v_sim'].values.argsort()[::-1]"
   ]
  },
  {
   "cell_type": "code",
   "execution_count": 133,
   "metadata": {
    "collapsed": true
   },
   "outputs": [],
   "source": [
    "idx = 0\n",
    "for i in hz_sim:\n",
    "    if df.iloc[i]['hxyj_w2v_sim'] > 0.50 and idx < 10:\n",
    "        title = df.iloc[i]['title_c']\n",
    "        content = df.iloc[i]['content']\n",
    "        sim_val = df.iloc[i]['hxyj_w2v_sim']\n",
    "        idx += 1\n",
    "        print idx, i, title, sim_val\n",
    "        print  df.iloc[i]['url']\n",
    "        print content\n",
    "        print '--------------'"
   ]
  },
  {
   "cell_type": "code",
   "execution_count": 134,
   "metadata": {},
   "outputs": [
    {
     "data": {
      "text/plain": [
       "<matplotlib.text.Text at 0x15b1cbc10>"
      ]
     },
     "execution_count": 134,
     "metadata": {},
     "output_type": "execute_result"
    },
    {
     "data": {
      "image/png": "[encoded data removed]",
      "text/plain": [
       "<matplotlib.figure.Figure at 0x1490a1850>"
      ]
     },
     "metadata": {},
     "output_type": "display_data"
    }
   ],
   "source": [
    "df['hxyj_w2v_sim'].hist(bins=500, figsize= (16, 6))\n",
    "plt.title('Huizhou W2V Similiarity Histogram')\n",
    "plt.xlabel('Similarity')\n",
    "plt.ylabel('Count')"
   ]
  },
  {
   "cell_type": "code",
   "execution_count": 135,
   "metadata": {
    "collapsed": true
   },
   "outputs": [],
   "source": [
    "msk1 = df['content'].str.contains('徽学') \n",
    "msk2 = df['content'].str.contains('研究') \n",
    "\n",
    "msk = msk1 | msk2\n",
    "df_check = df[msk]"
   ]
  },
  {
   "cell_type": "code",
   "execution_count": 136,
   "metadata": {
    "collapsed": true
   },
   "outputs": [],
   "source": [
    "docs = df_check['content_seg']"
   ]
  },
  {
   "cell_type": "code",
   "execution_count": 137,
   "metadata": {
    "collapsed": true
   },
   "outputs": [],
   "source": [
    "hz_words_fq = map_words_fq(' '.join(docs))"
   ]
  },
  {
   "cell_type": "code",
   "execution_count": 138,
   "metadata": {
    "collapsed": true
   },
   "outputs": [],
   "source": [
    "hz_vec = map_word2vec_centroid(hz_words_fq)\n",
    "sum1 = np.sum([hz_vec**2])    \n",
    "hz_vec = hz_vec/math.sqrt(sum1)"
   ]
  },
  {
   "cell_type": "code",
   "execution_count": 139,
   "metadata": {
    "collapsed": true
   },
   "outputs": [],
   "source": [
    "t0 = time()\n",
    "df['hxyj_w2vs_sim'] = df.w2v_centroid.map(lambda x: get_cosine2(hz_vec, x))\n",
    "print time() - t0"
   ]
  },
  {
   "cell_type": "code",
   "execution_count": 140,
   "metadata": {
    "collapsed": true
   },
   "outputs": [],
   "source": [
    "hz_sim = df['hxyj_w2vs_sim'].values.argsort()[::-1]"
   ]
  },
  {
   "cell_type": "code",
   "execution_count": 141,
   "metadata": {
    "collapsed": true
   },
   "outputs": [],
   "source": [
    "idx = 0\n",
    "for i in hz_sim:\n",
    "    if df.iloc[i]['hxyj_w2vs_sim'] > 0.50 and idx < 10:\n",
    "        title = df.iloc[i]['title_c']\n",
    "        content = df.iloc[i]['content']\n",
    "        sim_val = df.iloc[i]['hxyj_w2vs_sim']\n",
    "        idx += 1\n",
    "        print idx, i, title, sim_val\n",
    "        print  df.iloc[i]['url']\n",
    "        print content\n",
    "        print '--------------'"
   ]
  },
  {
   "cell_type": "code",
   "execution_count": null,
   "metadata": {
    "collapsed": true
   },
   "outputs": [],
   "source": []
  },
  {
   "cell_type": "code",
   "execution_count": 142,
   "metadata": {
    "collapsed": true
   },
   "outputs": [],
   "source": [
    "def map_serialize(x):\n",
    "    #print len(x)\n",
    "    ret = []\n",
    "    idx = 0\n",
    "    for v in x:\n",
    "        #print idx, v\n",
    "        ret.append(str(v))\n",
    "        idx += 1\n",
    "    #print ret\n",
    "    return ','.join(ret)"
   ]
  },
  {
   "cell_type": "code",
   "execution_count": 143,
   "metadata": {
    "collapsed": true
   },
   "outputs": [],
   "source": [
    "df['w2v_centroid_s'] = df.w2v_centroid.map(lambda x: map_serialize(x))"
   ]
  },
  {
   "cell_type": "code",
   "execution_count": 151,
   "metadata": {
    "collapsed": true
   },
   "outputs": [],
   "source": [
    "df['title'] = df['title_c']"
   ]
  },
  {
   "cell_type": "code",
   "execution_count": 144,
   "metadata": {
    "collapsed": true
   },
   "outputs": [],
   "source": [
    "df.to_csv('../data/clean/huizhou_web_v4.csv', encoding='utf-8', index=False)"
   ]
  },
  {
   "cell_type": "code",
   "execution_count": 263,
   "metadata": {
    "collapsed": true
   },
   "outputs": [],
   "source": [
    "df_out = df[['url', 'title', 'summary', 'key_words', 'w2v_centroid_s', 'hzwh_w2v_sim', 'hzjz_w2v_sim', \n",
    "             'ycjc_w2v_sim', 'hzdk_w2v_sim', 'hpys_w2v_sim', 'hjhc_w2v_sim', 'hs_w2v_sim', 'xalx_w2v_sim', \n",
    "             'hxyj_w2v_sim', 'hzwh_w2vs_sim', 'hzjz_w2vs_sim', 'ycjc_w2vs_sim', 'hzdk_w2vs_sim',\n",
    "             'hpys_w2vs_sim', 'hjhc_w2vs_sim', 'hs_w2vs_sim', 'xalx_w2vs_sim', 'hxyj_w2vs_sim']]"
   ]
  },
  {
   "cell_type": "code",
   "execution_count": null,
   "metadata": {
    "collapsed": true
   },
   "outputs": [],
   "source": []
  },
  {
   "cell_type": "code",
   "execution_count": 264,
   "metadata": {
    "collapsed": true
   },
   "outputs": [],
   "source": [
    "df_out.to_csv('../data/clean/huizhou-web-slim_v4.csv', encoding='utf-8', index=False)"
   ]
  },
  {
   "cell_type": "code",
   "execution_count": 262,
   "metadata": {
    "collapsed": true
   },
   "outputs": [],
   "source": [
    "df_out.info()"
   ]
  },
  {
   "cell_type": "code",
   "execution_count": 147,
   "metadata": {
    "collapsed": true
   },
   "outputs": [],
   "source": [
    "df.info()"
   ]
  },
  {
   "cell_type": "code",
   "execution_count": 149,
   "metadata": {},
   "outputs": [],
   "source": [
    "df_full_out = df[['url', 'title_c', 'summary', 'key_words', 'content', 'content_seg']]"
   ]
  },
  {
   "cell_type": "code",
   "execution_count": 150,
   "metadata": {
    "collapsed": true
   },
   "outputs": [],
   "source": [
    "df_full_out.to_csv('/Users/nhu2000/projects/SimilarSearch/data/clean/huizhou_full_v4.csv', encoding='utf-8', index=False)"
   ]
  },
  {
   "cell_type": "code",
   "execution_count": 160,
   "metadata": {},
   "outputs": [],
   "source": [
    "t0 = time()\n",
    "hz_vec = model[u'许村']\n",
    "print hz_vec\n",
    "df['check_w2v_sim'] = df.w2v_centroid.map(lambda x: get_cosine2(hz_vec, x))\n",
    "print time() - t0"
   ]
  },
  {
   "cell_type": "code",
   "execution_count": 155,
   "metadata": {
    "collapsed": true
   },
   "outputs": [],
   "source": [
    "hz_sim = df['check_w2v_sim'].values.argsort()[::-1]"
   ]
  },
  {
   "cell_type": "code",
   "execution_count": 157,
   "metadata": {
    "collapsed": true
   },
   "outputs": [],
   "source": [
    "idx = 0\n",
    "for i in hz_sim:\n",
    "    if df.iloc[i]['check_w2v_sim'] > 0.50 and idx < 10:\n",
    "        title = df.iloc[i]['title']\n",
    "        content = df.iloc[i]['content']\n",
    "        sim_val = df.iloc[i]['check_w2v_sim']\n",
    "        idx += 1\n",
    "        print idx, i, title, sim_val\n",
    "        print  df.iloc[i]['url']\n",
    "        print content\n",
    "        print '--------------'"
   ]
  },
  {
   "cell_type": "code",
   "execution_count": null,
   "metadata": {
    "collapsed": true
   },
   "outputs": [],
   "source": [
    "[-1.12238002 -1.091061    1.76988399  2.66827297  0.96279502 -0.73301703\n",
    " -0.45821801  0.97046399 -2.26986504 -0.80264401  0.24297599  0.88782603\n",
    "  0.48647001 -0.090728    1.18117297 -0.96079302  2.11178207 -1.61561203\n",
    "  0.022533   -0.86853999  1.86277795 -1.89101303 -0.95839    -0.68978101\n",
    " -2.32177806  2.43449092  1.62260997  1.20086801  1.22544503 -2.38687992\n",
    " -0.75809199  1.32871306  0.90218502 -0.732602   -1.50391495 -1.72873795\n",
    " -0.88549203 -0.43183199  1.11181498 -2.14988303 -1.00682294  0.566414\n",
    "  0.72636998 -2.11114693  1.08733106  0.704458   -0.50669301 -1.81752002\n",
    " -0.24684601  0.96173197  2.01574898  0.09849    -0.29390901  1.90128398\n",
    "  0.072904    2.53772092 -0.244515   -1.42193401  0.66484702 -1.11893797\n",
    " -0.300937   -1.06850398 -1.60321796 -0.140315   -0.73214197  0.52109802\n",
    " -0.028737    0.55364001  0.60184997 -1.44752896  1.29442799  0.199036\n",
    " -0.74549901 -0.214762    0.15526    -1.36657906 -0.058014   -0.087662\n",
    " -0.36995399 -0.57150602 -1.34059894 -0.248257   -0.205272    1.17129898\n",
    " -0.792395    0.95963401 -1.90589595 -2.03502488  0.73571002  0.87167102\n",
    " -1.45685303 -0.048016   -0.371903   -2.23889303 -1.07460201  0.170486\n",
    "  0.49401     0.633663   -1.43831503  1.25879502  0.88857198  0.681306\n",
    "  1.44569302  0.94104701 -0.091744    1.27197802 -0.16035201 -0.883829\n",
    " -1.31371498  0.29662299  0.017848    0.56527698 -0.233027   -0.155526\n",
    " -1.91576004  0.75709802 -0.53403401 -0.17742001 -0.011314   -1.43560696\n",
    " -0.556198    0.543571   -1.23906696 -1.49058902 -1.11923003  0.59723002\n",
    "  0.74503201 -1.72788799 -1.23964906 -0.194857    0.73088801  0.74381399\n",
    "  2.16396308 -0.226349    1.51989698  0.85970598 -0.35181701 -1.48268998\n",
    "  0.53765899 -1.00849295 -1.72479701  1.28866804 -1.59591305  0.57403702\n",
    " -0.744178    0.50365299 -1.47585106 -2.09577298 -0.62940198  0.167358\n",
    " -0.90899402  0.65579301  0.12551001  0.77650797  0.51483899  0.38927299\n",
    " -0.155497   -0.55383497 -2.4271121  -1.34285998  0.41503301  0.45621699\n",
    " -3.232831   -0.55843002  0.086357   -0.24434599 -2.04667902  0.043751\n",
    " -0.73951697  0.1424      0.028633   -0.230287    1.55961597  0.39443201\n",
    "  2.22905707  0.05424     0.140956    0.7744     -0.139376   -1.13157105\n",
    " -0.95656103 -1.07728195 -0.90918398 -0.99539798  1.03669906  0.246252\n",
    " -0.175658    1.00055397  0.52675301 -0.285106    1.59659505  0.023983\n",
    "  2.07109094 -1.49172795 -0.94966102 -0.60499197 -0.47167     1.13505602\n",
    " -0.020553    1.18562305  1.10967696 -0.89797199  0.249042   -0.73155898\n",
    "  0.41376999  1.07701302 -0.52958202  0.18081699  1.41122305  2.01281691\n",
    "  1.636693   -0.418356    0.55608898 -0.40656301 -1.40620005  0.733046\n",
    "  0.585347   -1.69993496  0.44282201 -0.42479801  0.148413   -1.24951601\n",
    " -0.81971002 -0.19271301 -1.35247898  0.37108299  1.81439698 -1.07865095\n",
    " -0.20172     1.11864603 -0.353769    0.087251    0.37276    -0.52506697\n",
    "  0.13840701  0.555493   -0.21189    -0.044087   -0.57734603  0.994331\n",
    " -0.84407198  0.274432    1.57023597 -0.96654701  0.280958    0.94766599\n",
    "  0.46625799 -1.47628105 -0.079783   -0.49992499]\n"
   ]
  },
  {
   "cell_type": "code",
   "execution_count": null,
   "metadata": {
    "collapsed": true
   },
   "outputs": [],
   "source": [
    "[  1.02237701e+00  -1.67339396e+00   3.91308010e-01   3.34244013e-01\n",
    "  -6.12609029e-01  -8.46727014e-01  -9.15831983e-01  -1.29991198e+00\n",
    "  -1.74890697e+00  -6.61952019e-01  -1.07439601e+00  -9.74385023e-01\n",
    "   2.58098990e-01  -8.58017981e-01   2.50804007e-01   3.63673002e-01\n",
    "   1.09893298e+00  -1.48361194e+00   7.43502975e-01  -1.61937997e-01\n",
    "   1.48006201e+00   3.55480015e-02   1.38853705e+00   8.76326025e-01\n",
    "  -8.82704020e-01  -1.24500997e-01   1.01193404e+00  -7.36069977e-02\n",
    "  -8.09651017e-01  -5.31211019e-01   9.03407991e-01   1.17097998e+00\n",
    "  -1.32983997e-01   3.38652015e-01  -5.25985003e-01   1.36269796e+00\n",
    "  -4.48615015e-01  -1.71028495e+00  -2.47743994e-01  -1.20759702e+00\n",
    "   2.10997009e+00   1.04938999e-01  -4.28097010e-01  -5.16819000e-01\n",
    "  -4.70481992e-01   4.27829996e-02  -8.29012990e-01  -4.70300019e-03\n",
    "   6.68197989e-01  -1.27283597e+00  -4.34854001e-01   3.93573999e-01\n",
    "   1.73997000e-01  -4.79241997e-01  -5.14405012e-01   2.30348110e+00\n",
    "  -1.14912105e+00  -1.01199998e-02   2.94209003e-01  -1.57068998e-01\n",
    "   7.67136991e-01  -1.25421798e+00  -8.04129988e-02   1.26225400e+00\n",
    "  -5.96516013e-01  -9.67853010e-01   3.29194993e-01  -4.63350005e-02\n",
    "  -1.24161196e+00  -9.33125019e-01  -9.16698992e-01  -5.56528986e-01\n",
    "   1.73736006e-01  -1.06776702e+00   7.94884980e-01  -1.57056904e+00\n",
    "   2.60380004e-02   8.41284990e-01   2.85526991e-01   1.16607106e+00\n",
    "  -1.42430103e+00  -1.34706295e+00  -8.86101007e-01   1.26703405e+00\n",
    "   2.13632488e+00  -1.92745000e-01   1.16062000e-01  -9.39574003e-01\n",
    "  -1.78815401e+00   1.00964105e+00  -9.89745021e-01   1.88449895e+00\n",
    "   5.99527001e-01  -2.66000986e-01  -9.10674989e-01  -1.87860001e-02\n",
    "  -7.40032971e-01   1.36497402e+00  -1.28735006e-01   1.13375103e+00\n",
    "   6.94899976e-01   6.74407005e-01   1.34590900e+00  -1.87096998e-01\n",
    "   4.91961986e-01   4.99588996e-01  -1.06178796e+00   4.98876989e-01\n",
    "  -2.45030999e-01   2.12014008e+00  -6.91884995e-01   1.57765999e-01\n",
    "   2.79785991e-01   7.31347024e-01   9.31860983e-01   1.08867800e+00\n",
    "   1.13986504e+00   2.36891001e-01   3.88979986e-02  -3.79666001e-01\n",
    "  -8.53528023e-01   7.43327022e-01  -1.11029100e+00   8.15855026e-01\n",
    "  -8.40149969e-02   1.79833996e+00   8.86862993e-01   3.08113009e-01\n",
    "  -6.23512983e-01   8.23189989e-02  -6.81229979e-02   1.37455001e-01\n",
    "   1.13449705e+00  -1.75228798e+00   6.81420028e-01   2.22911999e-01\n",
    "   4.02307004e-01   4.90099013e-01  -8.93335998e-01  -1.86712694e+00\n",
    "   8.12456012e-01  -8.78736019e-01  -3.21137011e-01   7.21530020e-02\n",
    "   5.89435995e-01   1.15009797e+00   4.52012002e-01  -1.66953194e+00\n",
    "  -4.69956994e-01   1.51497805e+00   3.76639999e-02  -3.76004994e-01\n",
    "   6.57123029e-01   7.89188981e-01  -1.06055701e+00   1.09399995e-03\n",
    "  -1.32889003e-01   5.55432975e-01  -1.46594906e+00  -6.53221011e-01\n",
    "  -8.69921982e-01   4.42099990e-03  -4.22087997e-01  -3.12815011e-01\n",
    "   1.42602801e+00  -3.34408998e-01   5.64866006e-01   9.97946024e-01\n",
    "   1.55599105e+00   1.55024397e+00   5.21346986e-01  -3.40034992e-01\n",
    "   1.31729007e-01  -1.14307001e-01  -8.85438025e-01  -1.25351095e+00\n",
    "   4.27599996e-02  -2.44195998e-01  -7.23330021e-01  -9.98890027e-02\n",
    "  -7.00668991e-01  -9.06394005e-01  -8.53187025e-01  -1.67692304e+00\n",
    "  -2.16877997e-01  -1.94913000e-01  -2.40841001e-01   8.43295991e-01\n",
    "  -3.34174007e-01  -8.68043005e-01   9.45591986e-01   4.04920995e-01\n",
    "   9.84381974e-01  -6.93006992e-01  -2.08018708e+00   1.06885898e+00\n",
    "   1.57918799e+00   5.72302997e-01  -1.30590007e-01  -2.83517003e-01\n",
    "   1.62122905e+00   1.34472203e+00   4.96414989e-01   1.21211004e+00\n",
    "  -4.99727011e-01   1.54541999e-01  -8.69675994e-01   1.88752994e-01\n",
    "  -5.34532011e-01   3.25154006e-01   1.06633000e-01  -4.00245994e-01\n",
    "  -6.39917016e-01  -3.38950008e-02  -3.16294014e-01   6.77442014e-01\n",
    "  -2.68027008e-01  -6.29384995e-01  -2.37830997e-01   6.00488007e-01\n",
    "  -1.72675997e-01  -7.05222011e-01   5.22464991e-01   6.48080036e-02\n",
    "  -1.77991003e-01  -6.99427009e-01   3.04441005e-01   1.15340698e+00\n",
    "   1.16450000e+00  -4.20560986e-01   1.26380098e+00  -9.35006976e-01\n",
    "  -4.08950001e-01   4.08663988e-01  -1.87417495e+00   1.43563002e-01\n",
    "  -1.06211495e+00  -4.67079014e-01  -7.10090995e-01  -1.97276103e+00\n",
    "  -8.49883020e-01  -8.99540007e-01  -1.46384704e+00  -6.33799016e-01\n",
    "  -1.61783993e-01   1.37459600e+00   4.65478987e-01  -1.54368305e+00\n",
    "   4.81635988e-01  -7.16584027e-01]"
   ]
  },
  {
   "cell_type": "code",
   "execution_count": 162,
   "metadata": {
    "collapsed": true
   },
   "outputs": [],
   "source": [
    "tt = '许村'\n",
    "for t in tt.decode('utf-8'):\n",
    "    print t"
   ]
  },
  {
   "cell_type": "code",
   "execution_count": 164,
   "metadata": {},
   "outputs": [
    {
     "data": {
      "text/plain": [
       "array([-1.12238002, -1.091061  ,  1.76988399,  2.66827297,  0.96279502,\n",
       "       -0.73301703, -0.45821801,  0.97046399, -2.26986504, -0.80264401,\n",
       "        0.24297599,  0.88782603,  0.48647001, -0.090728  ,  1.18117297,\n",
       "       -0.96079302,  2.11178207, -1.61561203,  0.022533  , -0.86853999,\n",
       "        1.86277795, -1.89101303, -0.95839   , -0.68978101, -2.32177806,\n",
       "        2.43449092,  1.62260997,  1.20086801,  1.22544503, -2.38687992,\n",
       "       -0.75809199,  1.32871306,  0.90218502, -0.732602  , -1.50391495,\n",
       "       -1.72873795, -0.88549203, -0.43183199,  1.11181498, -2.14988303,\n",
       "       -1.00682294,  0.566414  ,  0.72636998, -2.11114693,  1.08733106,\n",
       "        0.704458  , -0.50669301, -1.81752002, -0.24684601,  0.96173197,\n",
       "        2.01574898,  0.09849   , -0.29390901,  1.90128398,  0.072904  ,\n",
       "        2.53772092, -0.244515  , -1.42193401,  0.66484702, -1.11893797,\n",
       "       -0.300937  , -1.06850398, -1.60321796, -0.140315  , -0.73214197,\n",
       "        0.52109802, -0.028737  ,  0.55364001,  0.60184997, -1.44752896,\n",
       "        1.29442799,  0.199036  , -0.74549901, -0.214762  ,  0.15526   ,\n",
       "       -1.36657906, -0.058014  , -0.087662  , -0.36995399, -0.57150602,\n",
       "       -1.34059894, -0.248257  , -0.205272  ,  1.17129898, -0.792395  ,\n",
       "        0.95963401, -1.90589595, -2.03502488,  0.73571002,  0.87167102,\n",
       "       -1.45685303, -0.048016  , -0.371903  , -2.23889303, -1.07460201,\n",
       "        0.170486  ,  0.49401   ,  0.633663  , -1.43831503,  1.25879502,\n",
       "        0.88857198,  0.681306  ,  1.44569302,  0.94104701, -0.091744  ,\n",
       "        1.27197802, -0.16035201, -0.883829  , -1.31371498,  0.29662299,\n",
       "        0.017848  ,  0.56527698, -0.233027  , -0.155526  , -1.91576004,\n",
       "        0.75709802, -0.53403401, -0.17742001, -0.011314  , -1.43560696,\n",
       "       -0.556198  ,  0.543571  , -1.23906696, -1.49058902, -1.11923003,\n",
       "        0.59723002,  0.74503201, -1.72788799, -1.23964906, -0.194857  ,\n",
       "        0.73088801,  0.74381399,  2.16396308, -0.226349  ,  1.51989698,\n",
       "        0.85970598, -0.35181701, -1.48268998,  0.53765899, -1.00849295,\n",
       "       -1.72479701,  1.28866804, -1.59591305,  0.57403702, -0.744178  ,\n",
       "        0.50365299, -1.47585106, -2.09577298, -0.62940198,  0.167358  ,\n",
       "       -0.90899402,  0.65579301,  0.12551001,  0.77650797,  0.51483899,\n",
       "        0.38927299, -0.155497  , -0.55383497, -2.4271121 , -1.34285998,\n",
       "        0.41503301,  0.45621699, -3.232831  , -0.55843002,  0.086357  ,\n",
       "       -0.24434599, -2.04667902,  0.043751  , -0.73951697,  0.1424    ,\n",
       "        0.028633  , -0.230287  ,  1.55961597,  0.39443201,  2.22905707,\n",
       "        0.05424   ,  0.140956  ,  0.7744    , -0.139376  , -1.13157105,\n",
       "       -0.95656103, -1.07728195, -0.90918398, -0.99539798,  1.03669906,\n",
       "        0.246252  , -0.175658  ,  1.00055397,  0.52675301, -0.285106  ,\n",
       "        1.59659505,  0.023983  ,  2.07109094, -1.49172795, -0.94966102,\n",
       "       -0.60499197, -0.47167   ,  1.13505602, -0.020553  ,  1.18562305,\n",
       "        1.10967696, -0.89797199,  0.249042  , -0.73155898,  0.41376999,\n",
       "        1.07701302, -0.52958202,  0.18081699,  1.41122305,  2.01281691,\n",
       "        1.636693  , -0.418356  ,  0.55608898, -0.40656301, -1.40620005,\n",
       "        0.733046  ,  0.585347  , -1.69993496,  0.44282201, -0.42479801,\n",
       "        0.148413  , -1.24951601, -0.81971002, -0.19271301, -1.35247898,\n",
       "        0.37108299,  1.81439698, -1.07865095, -0.20172   ,  1.11864603,\n",
       "       -0.353769  ,  0.087251  ,  0.37276   , -0.52506697,  0.13840701,\n",
       "        0.555493  , -0.21189   , -0.044087  , -0.57734603,  0.994331  ,\n",
       "       -0.84407198,  0.274432  ,  1.57023597, -0.96654701,  0.280958  ,\n",
       "        0.94766599,  0.46625799, -1.47628105, -0.079783  , -0.49992499], dtype=float32)"
      ]
     },
     "execution_count": 164,
     "metadata": {},
     "output_type": "execute_result"
    }
   ],
   "source": [
    "model[tt.decode('utf-8')]"
   ]
  },
  {
   "cell_type": "code",
   "execution_count": 244,
   "metadata": {
    "collapsed": true
   },
   "outputs": [],
   "source": [
    "msk = df['content'].str.contains('许村')"
   ]
  },
  {
   "cell_type": "code",
   "execution_count": 249,
   "metadata": {},
   "outputs": [],
   "source": [
    "d = df[msk]"
   ]
  },
  {
   "cell_type": "code",
   "execution_count": 250,
   "metadata": {
    "collapsed": true
   },
   "outputs": [],
   "source": [
    "d.info()"
   ]
  },
  {
   "cell_type": "code",
   "execution_count": 251,
   "metadata": {},
   "outputs": [],
   "source": [
    "for t in d['content']:\n",
    "    if u'许村' in t:\n",
    "        print t"
   ]
  },
  {
   "cell_type": "code",
   "execution_count": 238,
   "metadata": {
    "collapsed": true
   },
   "outputs": [],
   "source": [
    "df.info()"
   ]
  },
  {
   "cell_type": "code",
   "execution_count": 199,
   "metadata": {
    "collapsed": true
   },
   "outputs": [],
   "source": [
    "def map_check(x):\n",
    "    if u'许村人报到帖' in x:\n",
    "        return None\n",
    "    else:\n",
    "        return True"
   ]
  },
  {
   "cell_type": "code",
   "execution_count": 200,
   "metadata": {
    "collapsed": true
   },
   "outputs": [],
   "source": [
    "df['check'] = df.title.map(lambda x: map_check(x))"
   ]
  },
  {
   "cell_type": "code",
   "execution_count": 227,
   "metadata": {
    "collapsed": true
   },
   "outputs": [],
   "source": [
    "df.info()"
   ]
  },
  {
   "cell_type": "code",
   "execution_count": 202,
   "metadata": {
    "collapsed": true
   },
   "outputs": [],
   "source": [
    "df = df.dropna(subset =['check'])"
   ]
  },
  {
   "cell_type": "code",
   "execution_count": 226,
   "metadata": {
    "collapsed": true
   },
   "outputs": [],
   "source": [
    "df = df.dropna(subset =['summary'])"
   ]
  },
  {
   "cell_type": "code",
   "execution_count": 260,
   "metadata": {
    "collapsed": true
   },
   "outputs": [],
   "source": [
    "df = df.drop_duplicates(['summary'])"
   ]
  },
  {
   "cell_type": "code",
   "execution_count": 253,
   "metadata": {
    "collapsed": true
   },
   "outputs": [],
   "source": [
    "df0.info()"
   ]
  },
  {
   "cell_type": "code",
   "execution_count": 254,
   "metadata": {
    "collapsed": true
   },
   "outputs": [],
   "source": [
    "df.info()"
   ]
  },
  {
   "cell_type": "code",
   "execution_count": 258,
   "metadata": {},
   "outputs": [],
   "source": [
    "df2 = df.drop_duplicates(['key_words'])"
   ]
  },
  {
   "cell_type": "code",
   "execution_count": 259,
   "metadata": {
    "collapsed": true
   },
   "outputs": [],
   "source": [
    "df2.info()"
   ]
  },
  {
   "cell_type": "code",
   "execution_count": 274,
   "metadata": {
    "collapsed": true
   },
   "outputs": [],
   "source": [
    "msk = df['key_words'].str.contains('许村')"
   ]
  },
  {
   "cell_type": "code",
   "execution_count": 275,
   "metadata": {
    "collapsed": true
   },
   "outputs": [],
   "source": [
    "check = df[msk]"
   ]
  },
  {
   "cell_type": "code",
   "execution_count": 276,
   "metadata": {
    "collapsed": true
   },
   "outputs": [],
   "source": [
    "check.info()"
   ]
  },
  {
   "cell_type": "code",
   "execution_count": 289,
   "metadata": {
    "collapsed": true
   },
   "outputs": [],
   "source": [
    "for t in check['key_words']:\n",
    "    print t"
   ]
  },
  {
   "cell_type": "code",
   "execution_count": 277,
   "metadata": {
    "collapsed": true
   },
   "outputs": [],
   "source": [
    "for t in check['key_words']:\n",
    "    print t"
   ]
  },
  {
   "cell_type": "code",
   "execution_count": 292,
   "metadata": {
    "collapsed": true
   },
   "outputs": [],
   "source": [
    "def key_words_dict(x):\n",
    "    ret = dict()\n",
    "    for t in x:\n",
    "        print t\n",
    "        ret[t[0]] = t[1]\n",
    "    return ret"
   ]
  },
  {
   "cell_type": "code",
   "execution_count": 330,
   "metadata": {},
   "outputs": [],
   "source": [
    "check['key_words_dict'] = check.key_words_s.map(lambda x: key_words_dict(x))"
   ]
  },
  {
   "cell_type": "code",
   "execution_count": 331,
   "metadata": {
    "collapsed": true
   },
   "outputs": [],
   "source": [
    "kw_dict = check['key_words_dict']"
   ]
  },
  {
   "cell_type": "code",
   "execution_count": null,
   "metadata": {
    "collapsed": true
   },
   "outputs": [],
   "source": []
  },
  {
   "cell_type": "code",
   "execution_count": 327,
   "metadata": {},
   "outputs": [
    {
     "data": {
      "text/plain": [
       "{u'\\u4e00\\u5b57\\u6392\\u5f00': 0.1016183538592233,\n",
       " u'\\u4e00\\u6ce2': 0.07433505583796117,\n",
       " u'\\u4e00\\u8d77': 0.04730076764941747,\n",
       " u'\\u4e0d\\u5c11': 0.04897656890019418,\n",
       " u'\\u4e24\\u4eba': 0.11607871995650486,\n",
       " u'\\u4e24\\u961f': 0.09241408754660194,\n",
       " u'\\u4e2d\\u592e': 0.050133073463300974,\n",
       " u'\\u4e2d\\u95f4': 0.05705310840970874,\n",
       " u'\\u4e4b\\u4e0b': 0.06016279070252427,\n",
       " u'\\u4ea2\\u8fdb': 0.09278516728271845,\n",
       " u'\\u4f17\\u4eba': 0.05649111042524272,\n",
       " u'\\u4f17\\u5200': 0.11606570391165048,\n",
       " u'\\u4f17\\u591a': 0.057333699336699025,\n",
       " u'\\u4f20\\u7edf': 0.05197609110864078,\n",
       " u'\\u4fa7\\u76ee': 0.09678497106067963,\n",
       " u'\\u5217\\u961f': 0.09488876958184465,\n",
       " u'\\u524d\\u53bb': 0.06693186820524272,\n",
       " u'\\u5355\\u4eba': 0.08864070900495145,\n",
       " u'\\u53d8\\u6362': 0.07422259815747573,\n",
       " u'\\u53ea\\u89c1': 0.055351586935533985,\n",
       " u'\\u5408\\u529b': 0.0792631587815534,\n",
       " u'\\u549a\\u549a': 0.08670742089708738,\n",
       " u'\\u559c\\u5e86': 0.08839696219786407,\n",
       " u'\\u559d\\u5f69': 0.09343700517436893,\n",
       " u'\\u56db\\u5c81': 0.09623003500398059,\n",
       " u'\\u56f4\\u89c2': 0.08586827035563106,\n",
       " u'\\u5730\\u9762': 0.05766317912873787,\n",
       " u'\\u573a\\u9762': 0.07169402500902913,\n",
       " u'\\u5927\\u5200': 0.8515319356359223,\n",
       " u'\\u5973\\u513f': 0.05840509423514564,\n",
       " u'\\u5a01\\u98ce': 0.1628592020545631,\n",
       " u'\\u5de1\\u6f14': 0.11606570391165048,\n",
       " u'\\u5e02\\u6c11': 0.12113941928291262,\n",
       " u'\\u5e73\\u884c': 0.07129999316330098,\n",
       " u'\\u5e7f\\u573a': 0.0690785437569903,\n",
       " u'\\u5f15\\u5f97': 0.08538574930174758,\n",
       " u'\\u5f53\\u5929': 0.061294826659708736,\n",
       " u'\\u5fbd\\u5dde': 0.2704531204406796,\n",
       " u'\\u6062\\u5b8f': 0.1037068138553398,\n",
       " u'\\u610f\\u72b9\\u672a\\u5c3d': 0.09844152947864077,\n",
       " u'\\u62cd\\u624b\\u53eb\\u597d': 0.11260284037864077,\n",
       " u'\\u6380\\u8d77': 0.0716510342176699,\n",
       " u'\\u6392\\u706f': 0.23213140782330097,\n",
       " u'\\u6574\\u9f50': 0.07360883046825242,\n",
       " u'\\u65f6\\u800c': 0.16415418020019418,\n",
       " u'\\u665a\\u4e0a': 0.057885748551553394,\n",
       " u'\\u66f4\\u662f': 0.05667587126844661,\n",
       " u'\\u6700\\u5927': 0.04346446704601942,\n",
       " u'\\u6709\\u529b': 0.06487153344038835,\n",
       " u'\\u6731\\u4e3d\\u5a1f': 0.11606570391165048,\n",
       " u'\\u6765\\u4e2a': 0.08220345289728156,\n",
       " u'\\u6765\\u5230': 0.052288222175825246,\n",
       " u'\\u6a2a\\u626b\\u5343\\u519b': 0.1282284511786408,\n",
       " u'\\u6b47\\u606f': 0.08064044924631068,\n",
       " u'\\u6c11\\u4fd7': 0.0881591853045631,\n",
       " u'\\u6e56\\u5357': 0.06403387802504855,\n",
       " u'\\u706f\\u7b3c': 0.07984392087097086,\n",
       " u'\\u70ed\\u8840\\u6cb8\\u817e': 0.09757796165339806,\n",
       " u'\\u70ed\\u95f9': 0.06898030948349514,\n",
       " u'\\u767d\\u5929': 0.06873369106524271,\n",
       " u'\\u771f\\u662f\\u592a': 0.09095221513417476,\n",
       " u'\\u79f0\\u53f9': 0.11606570391165048,\n",
       " u'\\u7b2c\\u4e00\\u6b21': 0.05543733952495145,\n",
       " u'\\u7ec6\\u7ec6': 0.07822459451398059,\n",
       " u'\\u7ed3\\u675f': 0.05182092746281554,\n",
       " u'\\u7fa4\\u4f17': 0.058485817388349515,\n",
       " u'\\u821e\\u5f00': 0.11606570391165048,\n",
       " u'\\u821e\\u5f97': 0.11606570391165048,\n",
       " u'\\u864e\\u864e\\u751f\\u98ce': 0.12149886690194174,\n",
       " u'\\u8857\\u533a': 0.09488876958184465,\n",
       " u'\\u8868\\u6f14': 0.06729929391873786,\n",
       " u'\\u89c2\\u770b': 0.1394029505085437,\n",
       " u'\\u8bb8\\u6751': 0.23213140782330097,\n",
       " u'\\u8fd1\\u8ddd\\u79bb': 0.08712062103708738,\n",
       " u'\\u961f\\u4f0d': 0.12791179155126214,\n",
       " u'\\u9a7b\\u8db3': 0.1897775391636893,\n",
       " u'\\u9ad8\\u4e3e': 0.0858066273684466,\n",
       " u'\\u9ad8\\u6f6e': 0.07383894806349514,\n",
       " u'\\u9ece\\u9633': 0.1982873436485437,\n",
       " u'\\u9f13\\u52b2': 0.10332603023300971,\n",
       " u'\\u9f13\\u70b9': 0.20665206046601942}"
      ]
     },
     "execution_count": 327,
     "metadata": {},
     "output_type": "execute_result"
    }
   ],
   "source": [
    "key_words_dict(check.iloc[0]['key_words_s'])"
   ]
  },
  {
   "cell_type": "code",
   "execution_count": 348,
   "metadata": {},
   "outputs": [],
   "source": [
    "res = model.most_similar(u'许村', topn=100)"
   ]
  },
  {
   "cell_type": "code",
   "execution_count": 351,
   "metadata": {},
   "outputs": [],
   "source": [
    "\n",
    "for t in res:\n",
    "    print t[0], t[1]"
   ]
  },
  {
   "cell_type": "code",
   "execution_count": 319,
   "metadata": {
    "collapsed": true
   },
   "outputs": [],
   "source": [
    "def map_unserialize_kw (x, eval_val = False):\n",
    "    #print '----- in'\n",
    "    #print x\n",
    "    d = dict()\n",
    "    #s = x.strip('{}')\n",
    "    s = x.strip('[]')\n",
    "    ret = s.split(',')\n",
    "    \n",
    "    print len(ret)\n",
    "    print ret\n",
    "    for t in ret:\n",
    "        s = t.strip('(')\n",
    "        print \n",
    "        r = t.split(',')\n",
    "        #print r[0], r[1]\n",
    "        key = eval(r[0].decode('utf-8'))\n",
    "        d[key] = float(r[1])\n",
    "    #print len(ret)\n",
    "    #print 'split -----'\n",
    "    #print ' '.join(ret)\n",
    "    return d"
   ]
  },
  {
   "cell_type": "code",
   "execution_count": 320,
   "metadata": {},
   "outputs": [
    {
     "ename": "SyntaxError",
     "evalue": "invalid syntax (<string>, line 1)",
     "output_type": "error",
     "traceback": [
      "\u001b[0;36m  File \u001b[0;32m\"<string>\"\u001b[0;36m, line \u001b[0;32m1\u001b[0m\n\u001b[0;31m    (大刀\u001b[0m\n\u001b[0m     ^\u001b[0m\n\u001b[0;31mSyntaxError\u001b[0m\u001b[0;31m:\u001b[0m invalid syntax\n"
     ]
    }
   ],
   "source": [
    "map_unserialize_kw(check.iloc[0]['key_words'])"
   ]
  },
  {
   "cell_type": "code",
   "execution_count": 325,
   "metadata": {
    "collapsed": true
   },
   "outputs": [],
   "source": [
    "import jieba.analyse\n",
    "jieba.analyse.set_stop_words('../data/stop_words/chinese_stops.txt')"
   ]
  },
  {
   "cell_type": "code",
   "execution_count": 323,
   "metadata": {
    "collapsed": true
   },
   "outputs": [],
   "source": [
    "def map_get_key_words(t, x, norm=True):\n",
    "    s0 = t.decode('utf-8')\n",
    "    s1 = x.encode('utf-8').decode('utf-8')\n",
    "    s2 = [s0, s1]\n",
    "    s3 = ' '.join(s2)\n",
    "    return jieba.analyse.extract_tags(s3, topK=100, withWeight=True)"
   ]
  },
  {
   "cell_type": "code",
   "execution_count": 326,
   "metadata": {},
   "outputs": [],
   "source": [
    "check['key_words_s'] =  map(map_get_key_words, check['title'],check['summary'])"
   ]
  },
  {
   "cell_type": "code",
   "execution_count": 332,
   "metadata": {
    "collapsed": true
   },
   "outputs": [],
   "source": [
    "class Toolbox (object):\n",
    "    def __init__(self):\n",
    "        self.init = 1\n",
    "        \n",
    "    def sort_dict (self, d, max=50):\n",
    "        t = sorted(d.items(), key=lambda x: (-x[1], x[0]))\n",
    "        return t[:max]\n",
    "    \n",
    "    def add_dict (self, x, y):\n",
    "        d = { k: x.get(k, 0) + y.get(k, 0) for k in set(x) | set(y) }\n",
    "        return d\n",
    "    \n",
    "    def create_dict(self, k1, v1, filters = True):\n",
    "        if filters == True:\n",
    "            k1_list0 = k1.strip('()').split(',')\n",
    "            v1_list0 = v1.strip('()').split(',')\n",
    "            #print v1_list0\n",
    "            #print k1_list0\n",
    "            k1_list1 = filter(None, k1_list0)        \n",
    "            v1_list1 = filter(None, v1_list0)\n",
    "        else:\n",
    "            k1_list1 = k1\n",
    "            v1_list1 = v1\n",
    "        \n",
    "        #print ' '.join(k1_list1)\n",
    "        k2_list1 = [item.decode('utf-8') for item in k1_list1]\n",
    "        v2_list1 = [float(item) for item in v1_list1]\n",
    "\n",
    "    def create_vec(self, k1, v1):\n",
    "        return (zip(k1, v1))\n",
    "    \n",
    "    def get_dict_top_n(self, d, max=50):\n",
    "        ret = self.sort_dict(d, max)\n",
    "        words, fq = zip(*ret)\n",
    "        sum_up = sum(fq)\n",
    "        fq_normalized = tuple(item/sum_up for item in fq)\n",
    "        \n",
    "        return dict(zip(words, fq_normalized))\n",
    "    \n",
    "    #calculate cosine between two dictionaries\n",
    "    def get_sim(self, vec1, vec2):\n",
    "        \n",
    "        #get intersection\n",
    "        intersection = set(vec1.keys()) & set(vec2.keys())\n",
    "        \n",
    "        #print intersection\n",
    "        numerator = sum([vec1[x] * vec2[x] for x in intersection])\n",
    "\n",
    "        #print 'num ---', numerator\n",
    "        #print vec1.keys()\n",
    "        #print vec1.values()\n",
    "        #print vec2.keys()\n",
    "        #print vec2.values()        \n",
    "        \n",
    "        sum1 = sum([vec1[x]**2 for x in vec1.keys()])\n",
    "        sum2 = sum([vec2[x]**2 for x in vec2.keys()])\n",
    "        denominator = math.sqrt(sum1) * math.sqrt(sum2)\n",
    "\n",
    "        if not denominator:\n",
    "            return 0.0\n",
    "        else:\n",
    "            return float(numerator) / denominator\n",
    "        \n",
    "    def sum_vects(self, vects):\n",
    "        sum_vects = None\n",
    "        for vec in vects:\n",
    "            if sum_vects == None:\n",
    "                sum_vects = vec\n",
    "            else:\n",
    "                sum_vects = self.add_dict(sum_vects, vec)\n",
    "        #only return first 100 after additions\n",
    "        #print type(sum_vecs)\n",
    "        return self.get_dict_top_n(sum_vects)\n",
    "    \n",
    "    def unserialized(self, x, eval_val=True):\n",
    "        #print '----- in'\n",
    "        #print x\n",
    "        d = dict()\n",
    "        s = x.strip('{}')\n",
    "        #s = s.strip('[]')\n",
    "        ret = s.split(',')\n",
    "\n",
    "        #print ret\n",
    "        for t in ret:\n",
    "            r = t.split(':')\n",
    "            #print r[0], r[1]\n",
    "            key = eval(r[0].decode('utf-8'))\n",
    "            if eval_val == True:\n",
    "                d[key] = float(r[1])\n",
    "            else:\n",
    "                d[key] = r[1]\n",
    "        #print len(ret)\n",
    "        #print 'split -----'\n",
    "        #print ' '.join(ret)\n",
    "        return d\n",
    "        \n",
    "    def get_centroid_df(self, check, t_sim, num=2000):        \n",
    "        if len(check) > num:\n",
    "            #sampling     \n",
    "            ratio = num*1.0/len(check)\n",
    "            print 'ratio ---', ratio \n",
    "            msk = np.random.rand(len(check)) < ratio\n",
    "            tmp = check[msk]\n",
    "            check = tmp\n",
    "    \n",
    "        check.info()\n",
    "        check_vecs = check['s_vec']\n",
    "        return self.sum_vects(check_vecs) \n",
    "    \n",
    "    def set_contained_flag(self, x, y):\n",
    "        x_keys = x.keys()\n",
    "        y_keys = y.keys()\n",
    "        for s in y_keys:\n",
    "            if s in x_keys:\n",
    "                return True\n",
    "        return False"
   ]
  },
  {
   "cell_type": "code",
   "execution_count": 333,
   "metadata": {
    "collapsed": true
   },
   "outputs": [],
   "source": [
    "aT = Toolbox()"
   ]
  },
  {
   "cell_type": "code",
   "execution_count": 335,
   "metadata": {},
   "outputs": [],
   "source": [
    "dict_ret = None\n",
    "for d in kw_dict:\n",
    "    if dict_ret == None:\n",
    "        dict_ret = d\n",
    "    else:\n",
    "        dict_ret = aT.add_dict(dict_ret, d)"
   ]
  },
  {
   "cell_type": "code",
   "execution_count": 336,
   "metadata": {
    "collapsed": true
   },
   "outputs": [],
   "source": [
    "print dict_ret"
   ]
  },
  {
   "cell_type": "code",
   "execution_count": 341,
   "metadata": {},
   "outputs": [],
   "source": [
    "print ' '.join(aT.get_dict_top_n(aT.sort_dict(dict_ret), 100).keys())"
   ]
  },
  {
   "cell_type": "code",
   "execution_count": 378,
   "metadata": {},
   "outputs": [],
   "source": [
    "idx = 0\n",
    "for t in aT.sort_dict(dict_ret):\n",
    "    #print idx, t[0], t[1]\n",
    "    if idx < 10:\n",
    "        if t[0] in model.vocab:\n",
    "            if idx == 0:\n",
    "                print idx, t[0], t[1]\n",
    "                vec = model[t[0]]*t[1]\n",
    "            else:\n",
    "                print idx, t[0], t[1]\n",
    "                v = model[t[0]]*t[1]\n",
    "                vec = vec + v\n",
    "    idx += 1"
   ]
  },
  {
   "cell_type": "code",
   "execution_count": 388,
   "metadata": {},
   "outputs": [],
   "source": [
    "#print vec\n",
    "check['check_w2v_sim'] = check.w2v_centroid.map(lambda x: get_cosine2(vec, x))\n",
    "print time() - t0"
   ]
  },
  {
   "cell_type": "code",
   "execution_count": 393,
   "metadata": {},
   "outputs": [
    {
     "ename": "AttributeError",
     "evalue": "'KeyedVectors' object has no attribute 'score'",
     "output_type": "error",
     "traceback": [
      "\u001b[0;31m---------------------------------------------------------------------------\u001b[0m",
      "\u001b[0;31mAttributeError\u001b[0m                            Traceback (most recent call last)",
      "\u001b[0;32m<ipython-input-393-98990675f34d>\u001b[0m in \u001b[0;36m<module>\u001b[0;34m()\u001b[0m\n\u001b[1;32m      1\u001b[0m \u001b[0;31m#print vec\u001b[0m\u001b[0;34m\u001b[0m\u001b[0;34m\u001b[0m\u001b[0m\n\u001b[0;32m----> 2\u001b[0;31m \u001b[0mcheck\u001b[0m\u001b[0;34m[\u001b[0m\u001b[0;34m'check_w2v_sim'\u001b[0m\u001b[0;34m]\u001b[0m \u001b[0;34m=\u001b[0m \u001b[0mcheck\u001b[0m\u001b[0;34m.\u001b[0m\u001b[0mkey_words\u001b[0m\u001b[0;34m.\u001b[0m\u001b[0mmap\u001b[0m\u001b[0;34m(\u001b[0m\u001b[0;32mlambda\u001b[0m \u001b[0mx\u001b[0m\u001b[0;34m:\u001b[0m \u001b[0mmodel\u001b[0m\u001b[0;34m.\u001b[0m\u001b[0mscore\u001b[0m\u001b[0;34m(\u001b[0m\u001b[0mx\u001b[0m\u001b[0;34m)\u001b[0m\u001b[0;34m)\u001b[0m\u001b[0;34m\u001b[0m\u001b[0m\n\u001b[0m\u001b[1;32m      3\u001b[0m \u001b[0;32mprint\u001b[0m \u001b[0mtime\u001b[0m\u001b[0;34m(\u001b[0m\u001b[0;34m)\u001b[0m \u001b[0;34m-\u001b[0m \u001b[0mt0\u001b[0m\u001b[0;34m\u001b[0m\u001b[0m\n",
      "\u001b[0;32m/Library/Python/2.7/site-packages/pandas/core/series.pyc\u001b[0m in \u001b[0;36mmap\u001b[0;34m(self, arg, na_action)\u001b[0m\n\u001b[1;32m   2175\u001b[0m             \u001b[0mnew_values\u001b[0m \u001b[0;34m=\u001b[0m \u001b[0malgos\u001b[0m\u001b[0;34m.\u001b[0m\u001b[0mtake_1d\u001b[0m\u001b[0;34m(\u001b[0m\u001b[0marg\u001b[0m\u001b[0;34m.\u001b[0m\u001b[0m_values\u001b[0m\u001b[0;34m,\u001b[0m \u001b[0mindexer\u001b[0m\u001b[0;34m)\u001b[0m\u001b[0;34m\u001b[0m\u001b[0m\n\u001b[1;32m   2176\u001b[0m         \u001b[0;32melse\u001b[0m\u001b[0;34m:\u001b[0m\u001b[0;34m\u001b[0m\u001b[0m\n\u001b[0;32m-> 2177\u001b[0;31m             \u001b[0mnew_values\u001b[0m \u001b[0;34m=\u001b[0m \u001b[0mmap_f\u001b[0m\u001b[0;34m(\u001b[0m\u001b[0mvalues\u001b[0m\u001b[0;34m,\u001b[0m \u001b[0marg\u001b[0m\u001b[0;34m)\u001b[0m\u001b[0;34m\u001b[0m\u001b[0m\n\u001b[0m\u001b[1;32m   2178\u001b[0m \u001b[0;34m\u001b[0m\u001b[0m\n\u001b[1;32m   2179\u001b[0m         return self._constructor(new_values,\n",
      "\u001b[0;32mpandas/src/inference.pyx\u001b[0m in \u001b[0;36mpandas.lib.map_infer (pandas/lib.c:66124)\u001b[0;34m()\u001b[0m\n",
      "\u001b[0;32m<ipython-input-393-98990675f34d>\u001b[0m in \u001b[0;36m<lambda>\u001b[0;34m(x)\u001b[0m\n\u001b[1;32m      1\u001b[0m \u001b[0;31m#print vec\u001b[0m\u001b[0;34m\u001b[0m\u001b[0;34m\u001b[0m\u001b[0m\n\u001b[0;32m----> 2\u001b[0;31m \u001b[0mcheck\u001b[0m\u001b[0;34m[\u001b[0m\u001b[0;34m'check_w2v_sim'\u001b[0m\u001b[0;34m]\u001b[0m \u001b[0;34m=\u001b[0m \u001b[0mcheck\u001b[0m\u001b[0;34m.\u001b[0m\u001b[0mkey_words\u001b[0m\u001b[0;34m.\u001b[0m\u001b[0mmap\u001b[0m\u001b[0;34m(\u001b[0m\u001b[0;32mlambda\u001b[0m \u001b[0mx\u001b[0m\u001b[0;34m:\u001b[0m \u001b[0mmodel\u001b[0m\u001b[0;34m.\u001b[0m\u001b[0mscore\u001b[0m\u001b[0;34m(\u001b[0m\u001b[0mx\u001b[0m\u001b[0;34m)\u001b[0m\u001b[0;34m)\u001b[0m\u001b[0;34m\u001b[0m\u001b[0m\n\u001b[0m\u001b[1;32m      3\u001b[0m \u001b[0;32mprint\u001b[0m \u001b[0mtime\u001b[0m\u001b[0;34m(\u001b[0m\u001b[0;34m)\u001b[0m \u001b[0;34m-\u001b[0m \u001b[0mt0\u001b[0m\u001b[0;34m\u001b[0m\u001b[0m\n",
      "\u001b[0;31mAttributeError\u001b[0m: 'KeyedVectors' object has no attribute 'score'"
     ]
    }
   ],
   "source": [
    "#print vec\n",
    "check['check_w2v_sim'] = check.key_words.map(lambda x: model.score(x))\n",
    "print time() - t0"
   ]
  },
  {
   "cell_type": "code",
   "execution_count": 389,
   "metadata": {
    "collapsed": true
   },
   "outputs": [],
   "source": [
    "hz_sim = check['check_w2v_sim'].values.argsort()[::-1]"
   ]
  },
  {
   "cell_type": "code",
   "execution_count": 390,
   "metadata": {},
   "outputs": [
    {
     "data": {
      "text/plain": [
       "132"
      ]
     },
     "execution_count": 390,
     "metadata": {},
     "output_type": "execute_result"
    }
   ],
   "source": [
    "len(hz_sim)"
   ]
  },
  {
   "cell_type": "code",
   "execution_count": 392,
   "metadata": {},
   "outputs": [],
   "source": [
    "idx = 0\n",
    "for i in hz_sim:\n",
    "    if check.iloc[i]['check_w2v_sim'] > 0.50 and idx < 100:\n",
    "        title = check.iloc[i]['title']\n",
    "        content = check.iloc[i]['content']\n",
    "        sim_val = check.iloc[i]['check_w2v_sim']\n",
    "        idx += 1\n",
    "        print idx, i, title, sim_val\n",
    "        print  check.iloc[i]['url']\n",
    "        #print content\n",
    "        print '--------------'"
   ]
  },
  {
   "cell_type": "code",
   "execution_count": 385,
   "metadata": {},
   "outputs": [
    {
     "ename": "IndexError",
     "evalue": "single positional indexer is out-of-bounds",
     "output_type": "error",
     "traceback": [
      "\u001b[0;31m---------------------------------------------------------------------------\u001b[0m",
      "\u001b[0;31mIndexError\u001b[0m                                Traceback (most recent call last)",
      "\u001b[0;32m<ipython-input-385-d9f60c663a27>\u001b[0m in \u001b[0;36m<module>\u001b[0;34m()\u001b[0m\n\u001b[0;32m----> 1\u001b[0;31m \u001b[0;32mprint\u001b[0m \u001b[0mi\u001b[0m\u001b[0;34m,\u001b[0m \u001b[0mcheck\u001b[0m\u001b[0;34m.\u001b[0m\u001b[0miloc\u001b[0m\u001b[0;34m[\u001b[0m\u001b[0;36m18989\u001b[0m\u001b[0;34m]\u001b[0m\u001b[0;34m[\u001b[0m\u001b[0;34m'title'\u001b[0m\u001b[0;34m]\u001b[0m\u001b[0;34m\u001b[0m\u001b[0m\n\u001b[0m",
      "\u001b[0;32m/Library/Python/2.7/site-packages/pandas/core/indexing.pyc\u001b[0m in \u001b[0;36m__getitem__\u001b[0;34m(self, key)\u001b[0m\n\u001b[1;32m   1310\u001b[0m             \u001b[0;32mreturn\u001b[0m \u001b[0mself\u001b[0m\u001b[0;34m.\u001b[0m\u001b[0m_getitem_tuple\u001b[0m\u001b[0;34m(\u001b[0m\u001b[0mkey\u001b[0m\u001b[0;34m)\u001b[0m\u001b[0;34m\u001b[0m\u001b[0m\n\u001b[1;32m   1311\u001b[0m         \u001b[0;32melse\u001b[0m\u001b[0;34m:\u001b[0m\u001b[0;34m\u001b[0m\u001b[0m\n\u001b[0;32m-> 1312\u001b[0;31m             \u001b[0;32mreturn\u001b[0m \u001b[0mself\u001b[0m\u001b[0;34m.\u001b[0m\u001b[0m_getitem_axis\u001b[0m\u001b[0;34m(\u001b[0m\u001b[0mkey\u001b[0m\u001b[0;34m,\u001b[0m \u001b[0maxis\u001b[0m\u001b[0;34m=\u001b[0m\u001b[0;36m0\u001b[0m\u001b[0;34m)\u001b[0m\u001b[0;34m\u001b[0m\u001b[0m\n\u001b[0m\u001b[1;32m   1313\u001b[0m \u001b[0;34m\u001b[0m\u001b[0m\n\u001b[1;32m   1314\u001b[0m     \u001b[0;32mdef\u001b[0m \u001b[0m_getitem_axis\u001b[0m\u001b[0;34m(\u001b[0m\u001b[0mself\u001b[0m\u001b[0;34m,\u001b[0m \u001b[0mkey\u001b[0m\u001b[0;34m,\u001b[0m \u001b[0maxis\u001b[0m\u001b[0;34m=\u001b[0m\u001b[0;36m0\u001b[0m\u001b[0;34m)\u001b[0m\u001b[0;34m:\u001b[0m\u001b[0;34m\u001b[0m\u001b[0m\n",
      "\u001b[0;32m/Library/Python/2.7/site-packages/pandas/core/indexing.pyc\u001b[0m in \u001b[0;36m_getitem_axis\u001b[0;34m(self, key, axis)\u001b[0m\n\u001b[1;32m   1626\u001b[0m \u001b[0;34m\u001b[0m\u001b[0m\n\u001b[1;32m   1627\u001b[0m                 \u001b[0;31m# validate the location\u001b[0m\u001b[0;34m\u001b[0m\u001b[0;34m\u001b[0m\u001b[0m\n\u001b[0;32m-> 1628\u001b[0;31m                 \u001b[0mself\u001b[0m\u001b[0;34m.\u001b[0m\u001b[0m_is_valid_integer\u001b[0m\u001b[0;34m(\u001b[0m\u001b[0mkey\u001b[0m\u001b[0;34m,\u001b[0m \u001b[0maxis\u001b[0m\u001b[0;34m)\u001b[0m\u001b[0;34m\u001b[0m\u001b[0m\n\u001b[0m\u001b[1;32m   1629\u001b[0m \u001b[0;34m\u001b[0m\u001b[0m\n\u001b[1;32m   1630\u001b[0m             \u001b[0;32mreturn\u001b[0m \u001b[0mself\u001b[0m\u001b[0;34m.\u001b[0m\u001b[0m_get_loc\u001b[0m\u001b[0;34m(\u001b[0m\u001b[0mkey\u001b[0m\u001b[0;34m,\u001b[0m \u001b[0maxis\u001b[0m\u001b[0;34m=\u001b[0m\u001b[0maxis\u001b[0m\u001b[0;34m)\u001b[0m\u001b[0;34m\u001b[0m\u001b[0m\n",
      "\u001b[0;32m/Library/Python/2.7/site-packages/pandas/core/indexing.pyc\u001b[0m in \u001b[0;36m_is_valid_integer\u001b[0;34m(self, key, axis)\u001b[0m\n\u001b[1;32m   1540\u001b[0m         \u001b[0ml\u001b[0m \u001b[0;34m=\u001b[0m \u001b[0mlen\u001b[0m\u001b[0;34m(\u001b[0m\u001b[0max\u001b[0m\u001b[0;34m)\u001b[0m\u001b[0;34m\u001b[0m\u001b[0m\n\u001b[1;32m   1541\u001b[0m         \u001b[0;32mif\u001b[0m \u001b[0mkey\u001b[0m \u001b[0;34m>=\u001b[0m \u001b[0ml\u001b[0m \u001b[0;32mor\u001b[0m \u001b[0mkey\u001b[0m \u001b[0;34m<\u001b[0m \u001b[0;34m-\u001b[0m\u001b[0ml\u001b[0m\u001b[0;34m:\u001b[0m\u001b[0;34m\u001b[0m\u001b[0m\n\u001b[0;32m-> 1542\u001b[0;31m             \u001b[0;32mraise\u001b[0m \u001b[0mIndexError\u001b[0m\u001b[0;34m(\u001b[0m\u001b[0;34m\"single positional indexer is out-of-bounds\"\u001b[0m\u001b[0;34m)\u001b[0m\u001b[0;34m\u001b[0m\u001b[0m\n\u001b[0m\u001b[1;32m   1543\u001b[0m         \u001b[0;32mreturn\u001b[0m \u001b[0mTrue\u001b[0m\u001b[0;34m\u001b[0m\u001b[0m\n\u001b[1;32m   1544\u001b[0m \u001b[0;34m\u001b[0m\u001b[0m\n",
      "\u001b[0;31mIndexError\u001b[0m: single positional indexer is out-of-bounds"
     ]
    }
   ],
   "source": [
    "print i, check.iloc[18989]['title']"
   ]
  },
  {
   "cell_type": "code",
   "execution_count": 379,
   "metadata": {
    "collapsed": true
   },
   "outputs": [],
   "source": [
    "check.info()"
   ]
  },
  {
   "cell_type": "code",
   "execution_count": null,
   "metadata": {
    "collapsed": true
   },
   "outputs": [],
   "source": []
  }
 ],
 "metadata": {
  "kernelspec": {
   "display_name": "Python 2",
   "language": "python",
   "name": "python2"
  },
  "language_info": {
   "codemirror_mode": {
    "name": "ipython",
    "version": 2
   },
   "file_extension": ".py",
   "mimetype": "text/x-python",
   "name": "python",
   "nbconvert_exporter": "python",
   "pygments_lexer": "ipython2",
   "version": "2.7.10"
  }
 },
 "nbformat": 4,
 "nbformat_minor": 2
}
