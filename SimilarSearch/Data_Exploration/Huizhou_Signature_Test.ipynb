{
 "cells": [
  {
   "cell_type": "code",
   "execution_count": 1,
   "metadata": {
    "collapsed": true
   },
   "outputs": [],
   "source": [
    "import sys\n",
    "reload(sys)\n",
    "sys.setdefaultencoding('utf-8')"
   ]
  },
  {
   "cell_type": "code",
   "execution_count": 2,
   "metadata": {
    "collapsed": true
   },
   "outputs": [],
   "source": [
    "import pandas as pd\n",
    "from urlparse import urlparse\n",
    "import tldextract\n",
    "from collections import Counter\n",
    "import jieba\n",
    "import json\n",
    "import math\n",
    "import numpy as np\n",
    "from time import time"
   ]
  },
  {
   "cell_type": "code",
   "execution_count": 3,
   "metadata": {
    "collapsed": true
   },
   "outputs": [],
   "source": [
    "df = pd.read_csv('/Users/nhu2000/projects/SimilarSearch/data/clean/huizhou-content-v1.csv')"
   ]
  },
  {
   "cell_type": "code",
   "execution_count": 4,
   "metadata": {
    "collapsed": true
   },
   "outputs": [],
   "source": [
    "df.info()"
   ]
  },
  {
   "cell_type": "code",
   "execution_count": 5,
   "metadata": {
    "collapsed": true
   },
   "outputs": [],
   "source": [
    "import re\n",
    "match = re.compile('([a-zA-Z_0-9_=_#_&_/])') #remove letters, numbers, and special characters in the article body\n",
    "#match = re.compile('([a-zA-Z_0-9])') #remove all of english letters and numbers\n",
    "def classifier_filters(s):\n",
    "    return match.sub(r' ', s) "
   ]
  },
  {
   "cell_type": "code",
   "execution_count": 6,
   "metadata": {
    "collapsed": true
   },
   "outputs": [],
   "source": [
    "def filter_combined(x):\n",
    "    s = x.split()\n",
    "    r = [t for t in s if (t.strip()) > 0 and t.strip() not in keyword_stop_words]\n",
    "    t = ' '.join(r)\n",
    "    ret = classifier_filters(t)\n",
    "    #print 'before -----', t\n",
    "    #print 'after ------', ret\n",
    "    return ret   "
   ]
  },
  {
   "cell_type": "code",
   "execution_count": 7,
   "metadata": {
    "collapsed": true
   },
   "outputs": [],
   "source": [
    "huizhou_stop_words = [u'的', u'了', u'在', u'是', u'安徽', u'和', u'有', u'我', u'年', u'上', u'他', u'我们', \n",
    "                      u'为', u'与', u'人', u'也', u'于', u'中', u'就', u'都', u'在线', u'等', u'不', u'网站', u'你', \n",
    "                      u'一个', u'到', u'之', u'对', u'说', u'进入', u'后', u'月', u'将', u'时', u'又', u'被', u'会员'\n",
    "                     u'版权', u'论坛', u'以', u'而', u'着', u'下', u'这', u'但', u'要', u'或', u'首页', u'这',\n",
    "                     u'地', u'从', u'卡', u'来', '多', u'日', u'她', u'还', u'联系', u'那', u'一处', u'一直', u'个', \n",
    "                     u'向', u'并', u'曾', u'这样', u'里', u'合肥', u'推荐', u'专栏', u'相关', u'当前', u'所有', u'中心'\n",
    "                     u'频道', u'编辑', u'位置', u'第一', u'社区', u'看', '中安', u'安徽省', u'大', u'许可证', u'许可',\n",
    "                     u'让', u'没有', u'什么', u'其', '请', '该', '用', '积分', u'凤阳', u'一篇', u'版权', u'县',\n",
    "                     ]"
   ]
  },
  {
   "cell_type": "markdown",
   "metadata": {},
   "source": [
    "s = ' '.join(huizhou_stop_words)\n",
    "#s = u'444 （）'"
   ]
  },
  {
   "cell_type": "code",
   "execution_count": 15,
   "metadata": {},
   "outputs": [],
   "source": [
    "import unicodedata\n",
    "def remove_non_chinese(s):\n",
    "    r = [c for c in s if unicodedata.category(c).startswith('L')]\n",
    "#print r\n",
    "    return ''.join(r)\n",
    "#print remove_non_chinese(s)"
   ]
  },
  {
   "cell_type": "markdown",
   "metadata": {
    "collapsed": true
   },
   "source": [
    "hz_dict = dict(zip(words, fq))"
   ]
  },
  {
   "cell_type": "code",
   "execution_count": 16,
   "metadata": {
    "collapsed": true
   },
   "outputs": [],
   "source": [
    "def ch_title_letters_removal(x):\n",
    "    #print 'coming', x\n",
    "    t = x.strip('  ')\n",
    "    if(len(t)) == 0:\n",
    "        return None\n",
    "    \n",
    "    if(len(x) > 0):\n",
    "        #s = x.strip()\n",
    "        s = remove_non_chinese(x)\n",
    "        if len(s) > 0 and s not in huizhou_stop_words:\n",
    "            return s.strip()\n",
    "        else:\n",
    "            return None\n",
    "    return None"
   ]
  },
  {
   "cell_type": "code",
   "execution_count": 17,
   "metadata": {
    "collapsed": true
   },
   "outputs": [],
   "source": [
    "class Toolbox (object):\n",
    "    def __init__(self):\n",
    "        self.init = 1\n",
    "        \n",
    "    def sort_dict (self, d, max=50):\n",
    "        t = sorted(d.items(), key=lambda x: (-x[1], x[0]))\n",
    "        return t[:max]\n",
    "    \n",
    "    def add_dict (self, x, y):\n",
    "        d = { k: x.get(k, 0) + y.get(k, 0) for k in set(x) | set(y) }\n",
    "        return d\n",
    "    \n",
    "    def create_dict(self, k1, v1, filters = True):\n",
    "        if filters == True:\n",
    "            k1_list0 = k1.strip('()').split(',')\n",
    "            v1_list0 = v1.strip('()').split(',')\n",
    "            #print v1_list0\n",
    "            #print k1_list0\n",
    "            k1_list1 = filter(None, k1_list0)        \n",
    "            v1_list1 = filter(None, v1_list0)\n",
    "        else:\n",
    "            k1_list1 = k1\n",
    "            v1_list1 = v1\n",
    "        \n",
    "        #print ' '.join(k1_list1)\n",
    "        k2_list1 = [item.decode('utf-8') for item in k1_list1]\n",
    "        v2_list1 = [float(item) for item in v1_list1]\n",
    "\n",
    "    def create_vec(self, k1, v1):\n",
    "        return (zip(k1, v1))\n",
    "    \n",
    "    def get_dict_top_n(self, d, max=50):\n",
    "        ret = self.sort_dict(d, max)\n",
    "        words, fq = zip(*ret)\n",
    "        sum_up = sum(fq)\n",
    "        fq_normalized = tuple(item/sum_up for item in fq)\n",
    "        \n",
    "        return dict(zip(words, fq_normalized))\n",
    "    \n",
    "    #calculate cosine between two dictionaries\n",
    "    def get_sim(self, vec1, vec2):\n",
    "        \n",
    "        #get intersection\n",
    "        intersection = set(vec1.keys()) & set(vec2.keys())\n",
    "        \n",
    "        #print intersection\n",
    "        numerator = sum([vec1[x] * vec2[x] for x in intersection])\n",
    "\n",
    "        #print 'num ---', numerator\n",
    "        #print vec1.keys()\n",
    "        #print vec1.values()\n",
    "        #print vec2.keys()\n",
    "        #print vec2.values()        \n",
    "        \n",
    "        sum1 = sum([vec1[x]**2 for x in vec1.keys()])\n",
    "        sum2 = sum([vec2[x]**2 for x in vec2.keys()])\n",
    "        denominator = math.sqrt(sum1) * math.sqrt(sum2)\n",
    "\n",
    "        if not denominator:\n",
    "            return 0.0\n",
    "        else:\n",
    "            return float(numerator) / denominator\n",
    "        \n",
    "    def sum_vects(self, vects):\n",
    "        sum_vects = None\n",
    "        for vec in vects:\n",
    "            if sum_vects == None:\n",
    "                sum_vects = vec\n",
    "            else:\n",
    "                sum_vects = self.add_dict(sum_vects, vec)\n",
    "        #only return first 100 after additions\n",
    "        return self.get_dict_top_n(sum_vects)\n",
    "    \n",
    "    def unserailzed_list(x, eval_val=False):\n",
    "        #print '----- in'\n",
    "        #print x\n",
    "        s = x.strip('()')\n",
    "        #s = s.strip('[]')\n",
    "        ret = s.split(',')\n",
    "        #print len(ret)\n",
    "        #print 'split -----'\n",
    "        #print ' '.join(ret)\n",
    "        if eval_val == True:\n",
    "            return tuple(float(item) for item in ret if len(item) > 0)        \n",
    "        else:\n",
    "            return tuple(item.strip().decode('utf-8') for item in ret if len(item) > 0)"
   ]
  },
  {
   "cell_type": "code",
   "execution_count": 18,
   "metadata": {
    "collapsed": true
   },
   "outputs": [],
   "source": [
    "global idx\n",
    "idx = 0\n",
    "def map_signature_vect(x): \n",
    "    global idx\n",
    "    print idx\n",
    "    idx += 1\n",
    "    s = x.decode('utf-8').split()\n",
    "    #print 'vect ---', len(s), s\n",
    "    ret = [ch_title_letters_removal(item) for item in s if len(item) > 0 and ch_title_letters_removal(item) != None]\n",
    "    #print 'ret ---', ret, len(ret)\n",
    "    count = Counter(ret)\n",
    "    \n",
    "    #print 'count', len(count)\n",
    "    \n",
    "    top_50 = count.most_common(50)\n",
    "    \n",
    "    #print 'top_100', len(top_100)\n",
    "    \n",
    "    if len(top_50) > 0:\n",
    "        #print 'going ---'\n",
    "        words, cnt = zip(*top_50)\n",
    "        return words, cnt\n",
    "    else:\n",
    "        #print 'warning'\n",
    "        return None, None"
   ]
  },
  {
   "cell_type": "code",
   "execution_count": 19,
   "metadata": {
    "collapsed": true
   },
   "outputs": [],
   "source": [
    "def get_summary(x):\n",
    "    s = x.split()\n",
    "    ret = ' '.join(s[:50]) + '...'\n",
    "    return ret"
   ]
  },
  {
   "cell_type": "code",
   "execution_count": 20,
   "metadata": {
    "collapsed": true
   },
   "outputs": [],
   "source": [
    "#calculte similarity\n",
    "def calculate_sim(x, in_dict):\n",
    "    #print in_dict\n",
    "    tb = Toolbox()\n",
    "    return tb.get_sim(x, in_dict)"
   ]
  },
  {
   "cell_type": "code",
   "execution_count": null,
   "metadata": {
    "collapsed": true
   },
   "outputs": [],
   "source": []
  },
  {
   "cell_type": "code",
   "execution_count": 21,
   "metadata": {
    "collapsed": true
   },
   "outputs": [],
   "source": [
    "#merge the dict\n",
    "def map_merge_vec(k, v):\n",
    "    return zip(k, v)"
   ]
  },
  {
   "cell_type": "code",
   "execution_count": 22,
   "metadata": {
    "collapsed": true
   },
   "outputs": [],
   "source": [
    "#merge the dict\n",
    "def map_merge_dict(k, v):\n",
    "    return dict(zip(k, v))"
   ]
  },
  {
   "cell_type": "code",
   "execution_count": 23,
   "metadata": {
    "collapsed": true
   },
   "outputs": [],
   "source": [
    "#create a signature\n",
    "def map_signature(k, v):\n",
    "    return zip(k, v)"
   ]
  },
  {
   "cell_type": "code",
   "execution_count": 24,
   "metadata": {
    "collapsed": true
   },
   "outputs": [],
   "source": [
    "#normalize the cnt\n",
    "def map_normalize_cnt(x):\n",
    "    tot = sum(x)\n",
    "    return tuple(float(item)/tot for item in x)"
   ]
  },
  {
   "cell_type": "code",
   "execution_count": null,
   "metadata": {
    "collapsed": true
   },
   "outputs": [],
   "source": []
  },
  {
   "cell_type": "code",
   "execution_count": 17,
   "metadata": {
    "collapsed": true
   },
   "outputs": [],
   "source": [
    "new_df= df[:2000]\n",
    "new_df.info()\n",
    "df = new_df"
   ]
  },
  {
   "cell_type": "code",
   "execution_count": 21,
   "metadata": {
    "collapsed": true
   },
   "outputs": [],
   "source": [
    "check = df['content_seg'].map(map_signature_vect)    \n",
    "df['s_words'], df['s_cnt'] = zip(*check)"
   ]
  },
  {
   "cell_type": "code",
   "execution_count": 260,
   "metadata": {
    "collapsed": true
   },
   "outputs": [],
   "source": [
    "df['s_vec'] = (map(map_merge_vec, df['s_words'],df['s_cnt']))"
   ]
  },
  {
   "cell_type": "code",
   "execution_count": 22,
   "metadata": {
    "collapsed": true
   },
   "outputs": [],
   "source": [
    "df['s_fq'] = df.s_cnt.map(lambda x: map_normalize_cnt(x))"
   ]
  },
  {
   "cell_type": "code",
   "execution_count": 353,
   "metadata": {
    "collapsed": true
   },
   "outputs": [],
   "source": [
    "df['s_dict'] = (map(map_merge_dict, df['s_words'],df['s_fq']))"
   ]
  },
  {
   "cell_type": "code",
   "execution_count": 23,
   "metadata": {
    "collapsed": true
   },
   "outputs": [],
   "source": [
    "df['s_signature'] = (map(map_signature, df['s_words'],df['s_cnt']))\n",
    "df['s_sig'] = (map(map_signature, df['s_words'],df['s_fq']))"
   ]
  },
  {
   "cell_type": "code",
   "execution_count": 24,
   "metadata": {
    "collapsed": true
   },
   "outputs": [],
   "source": [
    "df['s_sig_serial'] = df.s_sig.map(lambda x: str(x) )"
   ]
  },
  {
   "cell_type": "code",
   "execution_count": 26,
   "metadata": {},
   "outputs": [
    {
     "data": {
      "text/plain": [
       "str"
      ]
     },
     "execution_count": 26,
     "metadata": {},
     "output_type": "execute_result"
    }
   ],
   "source": [
    "type(df.iloc[0]['s_sig_serial'])"
   ]
  },
  {
   "cell_type": "code",
   "execution_count": 406,
   "metadata": {
    "collapsed": true
   },
   "outputs": [],
   "source": [
    "new_df = df[['url', 'title','summary', 's_words', 's_cnt', 's_fq', 's_vec']]"
   ]
  },
  {
   "cell_type": "code",
   "execution_count": 407,
   "metadata": {
    "collapsed": true
   },
   "outputs": [],
   "source": [
    "new_df.to_csv('../data/svc/huizhou_signature_vec_v1.csv', encoding='utf-8', index=False)"
   ]
  },
  {
   "cell_type": "code",
   "execution_count": 266,
   "metadata": {},
   "outputs": [
    {
     "data": {
      "text/html": [
       "<div>\n",
       "<table border=\"1\" class=\"dataframe\">\n",
       "  <thead>\n",
       "    <tr style=\"text-align: right;\">\n",
       "      <th></th>\n",
       "      <th>url</th>\n",
       "      <th>title</th>\n",
       "      <th>summary</th>\n",
       "      <th>s_words</th>\n",
       "      <th>s_cnt</th>\n",
       "      <th>s_fq</th>\n",
       "    </tr>\n",
       "  </thead>\n",
       "  <tbody>\n",
       "    <tr>\n",
       "      <th>0</th>\n",
       "      <td>http://cul.anhuinews.com/system/2016/11/28/007...</td>\n",
       "      <td>洪建华夫妇的竹刻人生</td>\n",
       "      <td>谁能想到，洪建华夫妇这对一无学历、二无家传、三无师承的“三无大师”成了省级非物质...</td>\n",
       "      <td>(竹刻, 建华, 雕刻, 洪, 文化, 作品, 非, 传承, 工艺, 收藏, 徽派, 他们,...</td>\n",
       "      <td>(31, 22, 21, 20, 17, 16, 12, 12, 11, 11, 10, 1...</td>\n",
       "      <td>[0.0756097560976, 0.0536585365854, 0.051219512...</td>\n",
       "    </tr>\n",
       "    <tr>\n",
       "      <th>1</th>\n",
       "      <td>http://cul.anhuinews.com/system/2016/11/21/007...</td>\n",
       "      <td>徽州民歌传人操明花校园授艺</td>\n",
       "      <td>近日，省非物质文化遗产徽州民歌传承人操明花前往休宁县海阳二小、歙县城关小学和徽州...</td>\n",
       "      <td>(民歌, 徽州, 们, 磨麦, 文化, 会员, 中国, 磨米, 传承, 同学, 徽文化, 方...</td>\n",
       "      <td>(8, 6, 5, 3, 3, 3, 3, 3, 3, 2, 2, 2, 2, 2, 2, ...</td>\n",
       "      <td>[0.0909090909091, 0.0681818181818, 0.056818181...</td>\n",
       "    </tr>\n",
       "    <tr>\n",
       "      <th>2</th>\n",
       "      <td>http://cul.anhuinews.com/system/2016/11/03/007...</td>\n",
       "      <td>黄山楹联漫谈</td>\n",
       "      <td>黄山楹联第一人当推明朝诗人余绍祉。他遍历祖国名山大川，见到无数奇峰怪石，却感到抵...</td>\n",
       "      <td>(黄山, 笔者, 文联, 才, 怪石, 旅游, 一联, 编写, 画, 奇峰怪石, 赖少, 后...</td>\n",
       "      <td>(10, 4, 3, 3, 2, 2, 2, 2, 2, 2, 2, 2, 2, 2, 2,...</td>\n",
       "      <td>[0.119047619048, 0.047619047619, 0.03571428571...</td>\n",
       "    </tr>\n",
       "    <tr>\n",
       "      <th>3</th>\n",
       "      <td>http://cul.anhuinews.com/system/2016/01/26/007...</td>\n",
       "      <td>徽派雕刻——徽州木雕艺术</td>\n",
       "      <td>徽州民居、家具木板和圆木雕刻艺术的简称。木雕在旧属徽州各县分布之广在...</td>\n",
       "      <td>(木雕, 徽州, 艺术, 家具, 吉祥图案, 少数, 显示, 内, 木板, 雕刻, 宅第, ...</td>\n",
       "      <td>(6, 3, 2, 2, 1, 1, 1, 1, 1, 1, 1, 1, 1, 1, 1, ...</td>\n",
       "      <td>[0.101694915254, 0.0508474576271, 0.0338983050...</td>\n",
       "    </tr>\n",
       "    <tr>\n",
       "      <th>4</th>\n",
       "      <td>http://cul.anhuinews.com/system/2016/01/26/007...</td>\n",
       "      <td>徽派雕刻——徽州砖雕艺术</td>\n",
       "      <td>徽州砖雕徽州砖雕的造型，来源于汉画象砖。汉画象砖大都是模印砖坯刻画后入...</td>\n",
       "      <td>(砖雕, 艺术, 题材, 风格, 狮子, 民间, 砖, 图案, 画象, 美术, 为主, 徽州...</td>\n",
       "      <td>(10, 5, 4, 4, 3, 3, 3, 3, 3, 2, 2, 2, 2, 2, 2,...</td>\n",
       "      <td>[0.0961538461538, 0.0480769230769, 0.038461538...</td>\n",
       "    </tr>\n",
       "  </tbody>\n",
       "</table>\n",
       "</div>"
      ],
      "text/plain": [
       "                                                 url          title  \\\n",
       "0  http://cul.anhuinews.com/system/2016/11/28/007...     洪建华夫妇的竹刻人生   \n",
       "1  http://cul.anhuinews.com/system/2016/11/21/007...  徽州民歌传人操明花校园授艺   \n",
       "2  http://cul.anhuinews.com/system/2016/11/03/007...         黄山楹联漫谈   \n",
       "3  http://cul.anhuinews.com/system/2016/01/26/007...   徽派雕刻——徽州木雕艺术   \n",
       "4  http://cul.anhuinews.com/system/2016/01/26/007...   徽派雕刻——徽州砖雕艺术   \n",
       "\n",
       "                                             summary  \\\n",
       "0        谁能想到，洪建华夫妇这对一无学历、二无家传、三无师承的“三无大师”成了省级非物质...   \n",
       "1        近日，省非物质文化遗产徽州民歌传承人操明花前往休宁县海阳二小、歙县城关小学和徽州...   \n",
       "2        黄山楹联第一人当推明朝诗人余绍祉。他遍历祖国名山大川，见到无数奇峰怪石，却感到抵...   \n",
       "3              徽州民居、家具木板和圆木雕刻艺术的简称。木雕在旧属徽州各县分布之广在...   \n",
       "4             徽州砖雕徽州砖雕的造型，来源于汉画象砖。汉画象砖大都是模印砖坯刻画后入...   \n",
       "\n",
       "                                             s_words  \\\n",
       "0  (竹刻, 建华, 雕刻, 洪, 文化, 作品, 非, 传承, 工艺, 收藏, 徽派, 他们,...   \n",
       "1  (民歌, 徽州, 们, 磨麦, 文化, 会员, 中国, 磨米, 传承, 同学, 徽文化, 方...   \n",
       "2  (黄山, 笔者, 文联, 才, 怪石, 旅游, 一联, 编写, 画, 奇峰怪石, 赖少, 后...   \n",
       "3  (木雕, 徽州, 艺术, 家具, 吉祥图案, 少数, 显示, 内, 木板, 雕刻, 宅第, ...   \n",
       "4  (砖雕, 艺术, 题材, 风格, 狮子, 民间, 砖, 图案, 画象, 美术, 为主, 徽州...   \n",
       "\n",
       "                                               s_cnt  \\\n",
       "0  (31, 22, 21, 20, 17, 16, 12, 12, 11, 11, 10, 1...   \n",
       "1  (8, 6, 5, 3, 3, 3, 3, 3, 3, 2, 2, 2, 2, 2, 2, ...   \n",
       "2  (10, 4, 3, 3, 2, 2, 2, 2, 2, 2, 2, 2, 2, 2, 2,...   \n",
       "3  (6, 3, 2, 2, 1, 1, 1, 1, 1, 1, 1, 1, 1, 1, 1, ...   \n",
       "4  (10, 5, 4, 4, 3, 3, 3, 3, 3, 2, 2, 2, 2, 2, 2,...   \n",
       "\n",
       "                                                s_fq  \n",
       "0  [0.0756097560976, 0.0536585365854, 0.051219512...  \n",
       "1  [0.0909090909091, 0.0681818181818, 0.056818181...  \n",
       "2  [0.119047619048, 0.047619047619, 0.03571428571...  \n",
       "3  [0.101694915254, 0.0508474576271, 0.0338983050...  \n",
       "4  [0.0961538461538, 0.0480769230769, 0.038461538...  "
      ]
     },
     "execution_count": 266,
     "metadata": {},
     "output_type": "execute_result"
    }
   ],
   "source": [
    "new_df.head()"
   ]
  },
  {
   "cell_type": "code",
   "execution_count": 126,
   "metadata": {
    "collapsed": true
   },
   "outputs": [],
   "source": [
    "new_df.info()"
   ]
  },
  {
   "cell_type": "code",
   "execution_count": 275,
   "metadata": {
    "collapsed": true
   },
   "outputs": [],
   "source": [
    "df_slim = pd.read_csv('../data/svc/huizhou_signature_vec_v1.csv')"
   ]
  },
  {
   "cell_type": "code",
   "execution_count": 276,
   "metadata": {
    "collapsed": true
   },
   "outputs": [],
   "source": [
    "df_slim.info()"
   ]
  },
  {
   "cell_type": "code",
   "execution_count": 277,
   "metadata": {
    "collapsed": true
   },
   "outputs": [],
   "source": [
    "df_slim_no_dup = df_slim.drop_duplicates(['s_vec'])"
   ]
  },
  {
   "cell_type": "code",
   "execution_count": 278,
   "metadata": {
    "collapsed": true
   },
   "outputs": [],
   "source": [
    "df_slim_no_dup.info()"
   ]
  },
  {
   "cell_type": "code",
   "execution_count": 279,
   "metadata": {
    "collapsed": true
   },
   "outputs": [],
   "source": [
    "df_slim_no_dup.to_csv('../data/svc/huizhou_signature_vec_no_dup_v1.csv', encoding='utf-8', index=False)"
   ]
  },
  {
   "cell_type": "code",
   "execution_count": 4,
   "metadata": {
    "collapsed": true
   },
   "outputs": [],
   "source": [
    "df_open = pd.read_csv('../data/svc/huizhou_signature_vec_no_dup_v1.csv')"
   ]
  },
  {
   "cell_type": "markdown",
   "metadata": {},
   "source": [
    "from ast import literal_eval\n",
    "df_open['s_cnt'] = df_open.s_cnt.map(lambda x: eval(x))"
   ]
  },
  {
   "cell_type": "code",
   "execution_count": 5,
   "metadata": {
    "collapsed": true
   },
   "outputs": [],
   "source": [
    "def eval_utf8 (x, eval_val = False):\n",
    "    #print '----- in'\n",
    "    #print x\n",
    "    s = x.strip('()')\n",
    "    s = s.strip('[]')\n",
    "    ret = s.split(',')\n",
    "    #print len(ret)\n",
    "    #print 'split -----'\n",
    "    #print ' '.join(ret)\n",
    "    if eval_val == True:\n",
    "        return tuple(float(item) for item in ret if len(item) > 0)        \n",
    "    else:\n",
    "        return tuple(item.strip().decode('utf-8') for item in ret if len(item) > 0)"
   ]
  },
  {
   "cell_type": "code",
   "execution_count": 238,
   "metadata": {
    "collapsed": true
   },
   "outputs": [],
   "source": [
    "print type(eval_utf8(df_open.iloc[1]['s_cnt']))"
   ]
  },
  {
   "cell_type": "code",
   "execution_count": 6,
   "metadata": {
    "collapsed": true
   },
   "outputs": [],
   "source": [
    "df_open['s_words'] = df_open.s_words.map(lambda x: eval_utf8(x))"
   ]
  },
  {
   "cell_type": "code",
   "execution_count": 7,
   "metadata": {
    "collapsed": true
   },
   "outputs": [],
   "source": [
    "df_open['s_cnt'] = df_open.s_cnt.map(lambda x: eval_utf8(x), True)"
   ]
  },
  {
   "cell_type": "code",
   "execution_count": 8,
   "metadata": {
    "collapsed": true
   },
   "outputs": [],
   "source": [
    "df_open['s_fq'] = df_open.s_fq.map(lambda x: eval_utf8(x, True))"
   ]
  },
  {
   "cell_type": "code",
   "execution_count": 16,
   "metadata": {
    "collapsed": true
   },
   "outputs": [],
   "source": [
    "df_open['s_dict'] = (map(map_merge_dict, df_open['s_words'],df_open['s_fq']))"
   ]
  },
  {
   "cell_type": "code",
   "execution_count": 359,
   "metadata": {},
   "outputs": [
    {
     "data": {
      "text/html": [
       "<div>\n",
       "<table border=\"1\" class=\"dataframe\">\n",
       "  <thead>\n",
       "    <tr style=\"text-align: right;\">\n",
       "      <th></th>\n",
       "      <th>url</th>\n",
       "      <th>title</th>\n",
       "      <th>summary</th>\n",
       "      <th>s_words</th>\n",
       "      <th>s_cnt</th>\n",
       "      <th>s_fq</th>\n",
       "      <th>s_vec</th>\n",
       "      <th>s_dict</th>\n",
       "      <th>s_sim</th>\n",
       "    </tr>\n",
       "  </thead>\n",
       "  <tbody>\n",
       "    <tr>\n",
       "      <th>0</th>\n",
       "      <td>http://cul.anhuinews.com/system/2016/11/28/007...</td>\n",
       "      <td>洪建华夫妇的竹刻人生</td>\n",
       "      <td>谁能想到，洪建华夫妇这对一无学历、二无家传、三无师承的“三无大师”成了省级非物质...</td>\n",
       "      <td>(竹刻,  建华,  雕刻,  洪,  文化,  作品,  非,  传承,  工艺,  收藏...</td>\n",
       "      <td>(31,  22,  21,  20,  17,  16,  12,  12,  11,  ...</td>\n",
       "      <td>(0.0756097560976, 0.0536585365854, 0.051219512...</td>\n",
       "      <td>[(竹刻, 31), (建华, 22), (雕刻, 21), (洪, 20), (文化, 1...</td>\n",
       "      <td>{u' 金奖': 0.00975609756098, u' 藏家': 0.007317073...</td>\n",
       "      <td>0.0</td>\n",
       "    </tr>\n",
       "    <tr>\n",
       "      <th>1</th>\n",
       "      <td>http://cul.anhuinews.com/system/2016/11/21/007...</td>\n",
       "      <td>徽州民歌传人操明花校园授艺</td>\n",
       "      <td>近日，省非物质文化遗产徽州民歌传承人操明花前往休宁县海阳二小、歙县城关小学和徽州...</td>\n",
       "      <td>(民歌,  徽州,  们,  磨麦,  文化,  会员,  中国,  磨米,  传承,  同...</td>\n",
       "      <td>(8,  6,  5,  3,  3,  3,  3,  3,  3,  2,  2,  2...</td>\n",
       "      <td>(0.0909090909091, 0.0681818181818, 0.056818181...</td>\n",
       "      <td>[(民歌, 8), (徽州, 6), (们, 5), (磨麦, 3), (文化, 3), (...</td>\n",
       "      <td>{u' 进校园': 0.0113636363636, u' 越': 0.0113636363...</td>\n",
       "      <td>0.0</td>\n",
       "    </tr>\n",
       "    <tr>\n",
       "      <th>2</th>\n",
       "      <td>http://cul.anhuinews.com/system/2016/11/03/007...</td>\n",
       "      <td>黄山楹联漫谈</td>\n",
       "      <td>黄山楹联第一人当推明朝诗人余绍祉。他遍历祖国名山大川，见到无数奇峰怪石，却感到抵...</td>\n",
       "      <td>(黄山,  笔者,  文联,  才,  怪石,  旅游,  一联,  编写,  画,  奇峰...</td>\n",
       "      <td>(10,  4,  3,  3,  2,  2,  2,  2,  2,  2,  2,  ...</td>\n",
       "      <td>(0.119047619048, 0.047619047619, 0.03571428571...</td>\n",
       "      <td>[(黄山, 10), (笔者, 4), (文联, 3), (才, 3), (怪石, 2), ...</td>\n",
       "      <td>{u' 赖少': 0.0238095238095, u' 下联': 0.0119047619...</td>\n",
       "      <td>0.0</td>\n",
       "    </tr>\n",
       "    <tr>\n",
       "      <th>3</th>\n",
       "      <td>http://cul.anhuinews.com/system/2016/01/26/007...</td>\n",
       "      <td>徽派雕刻——徽州木雕艺术</td>\n",
       "      <td>徽州民居、家具木板和圆木雕刻艺术的简称。木雕在旧属徽州各县分布之广在...</td>\n",
       "      <td>(木雕,  徽州,  艺术,  家具,  吉祥图案,  少数,  显示,  内,  木板, ...</td>\n",
       "      <td>(6,  3,  2,  2,  1,  1,  1,  1,  1,  1,  1,  1...</td>\n",
       "      <td>(0.101694915254, 0.0508474576271, 0.0338983050...</td>\n",
       "      <td>[(木雕, 6), (徽州, 3), (艺术, 2), (家具, 2), (吉祥图案, 1)...</td>\n",
       "      <td>{u' 梓': 0.0169491525424, u' 则': 0.016949152542...</td>\n",
       "      <td>0.0</td>\n",
       "    </tr>\n",
       "    <tr>\n",
       "      <th>4</th>\n",
       "      <td>http://cul.anhuinews.com/system/2016/01/26/007...</td>\n",
       "      <td>徽派雕刻——徽州砖雕艺术</td>\n",
       "      <td>徽州砖雕徽州砖雕的造型，来源于汉画象砖。汉画象砖大都是模印砖坯刻画后入...</td>\n",
       "      <td>(砖雕,  艺术,  题材,  风格,  狮子,  民间,  砖,  图案,  画象,  美...</td>\n",
       "      <td>(10,  5,  4,  4,  3,  3,  3,  3,  3,  2,  2,  ...</td>\n",
       "      <td>(0.0961538461538, 0.0480769230769, 0.038461538...</td>\n",
       "      <td>[(砖雕, 10), (艺术, 5), (题材, 4), (风格, 4), (狮子, 3),...</td>\n",
       "      <td>{u' 厅': 0.00961538461538, u' 严谨': 0.0096153846...</td>\n",
       "      <td>0.0</td>\n",
       "    </tr>\n",
       "  </tbody>\n",
       "</table>\n",
       "</div>"
      ],
      "text/plain": [
       "                                                 url          title  \\\n",
       "0  http://cul.anhuinews.com/system/2016/11/28/007...     洪建华夫妇的竹刻人生   \n",
       "1  http://cul.anhuinews.com/system/2016/11/21/007...  徽州民歌传人操明花校园授艺   \n",
       "2  http://cul.anhuinews.com/system/2016/11/03/007...         黄山楹联漫谈   \n",
       "3  http://cul.anhuinews.com/system/2016/01/26/007...   徽派雕刻——徽州木雕艺术   \n",
       "4  http://cul.anhuinews.com/system/2016/01/26/007...   徽派雕刻——徽州砖雕艺术   \n",
       "\n",
       "                                             summary  \\\n",
       "0        谁能想到，洪建华夫妇这对一无学历、二无家传、三无师承的“三无大师”成了省级非物质...   \n",
       "1        近日，省非物质文化遗产徽州民歌传承人操明花前往休宁县海阳二小、歙县城关小学和徽州...   \n",
       "2        黄山楹联第一人当推明朝诗人余绍祉。他遍历祖国名山大川，见到无数奇峰怪石，却感到抵...   \n",
       "3              徽州民居、家具木板和圆木雕刻艺术的简称。木雕在旧属徽州各县分布之广在...   \n",
       "4             徽州砖雕徽州砖雕的造型，来源于汉画象砖。汉画象砖大都是模印砖坯刻画后入...   \n",
       "\n",
       "                                             s_words  \\\n",
       "0  (竹刻,  建华,  雕刻,  洪,  文化,  作品,  非,  传承,  工艺,  收藏...   \n",
       "1  (民歌,  徽州,  们,  磨麦,  文化,  会员,  中国,  磨米,  传承,  同...   \n",
       "2  (黄山,  笔者,  文联,  才,  怪石,  旅游,  一联,  编写,  画,  奇峰...   \n",
       "3  (木雕,  徽州,  艺术,  家具,  吉祥图案,  少数,  显示,  内,  木板, ...   \n",
       "4  (砖雕,  艺术,  题材,  风格,  狮子,  民间,  砖,  图案,  画象,  美...   \n",
       "\n",
       "                                               s_cnt  \\\n",
       "0  (31,  22,  21,  20,  17,  16,  12,  12,  11,  ...   \n",
       "1  (8,  6,  5,  3,  3,  3,  3,  3,  3,  2,  2,  2...   \n",
       "2  (10,  4,  3,  3,  2,  2,  2,  2,  2,  2,  2,  ...   \n",
       "3  (6,  3,  2,  2,  1,  1,  1,  1,  1,  1,  1,  1...   \n",
       "4  (10,  5,  4,  4,  3,  3,  3,  3,  3,  2,  2,  ...   \n",
       "\n",
       "                                                s_fq  \\\n",
       "0  (0.0756097560976, 0.0536585365854, 0.051219512...   \n",
       "1  (0.0909090909091, 0.0681818181818, 0.056818181...   \n",
       "2  (0.119047619048, 0.047619047619, 0.03571428571...   \n",
       "3  (0.101694915254, 0.0508474576271, 0.0338983050...   \n",
       "4  (0.0961538461538, 0.0480769230769, 0.038461538...   \n",
       "\n",
       "                                               s_vec  \\\n",
       "0  [(竹刻, 31), (建华, 22), (雕刻, 21), (洪, 20), (文化, 1...   \n",
       "1  [(民歌, 8), (徽州, 6), (们, 5), (磨麦, 3), (文化, 3), (...   \n",
       "2  [(黄山, 10), (笔者, 4), (文联, 3), (才, 3), (怪石, 2), ...   \n",
       "3  [(木雕, 6), (徽州, 3), (艺术, 2), (家具, 2), (吉祥图案, 1)...   \n",
       "4  [(砖雕, 10), (艺术, 5), (题材, 4), (风格, 4), (狮子, 3),...   \n",
       "\n",
       "                                              s_dict  s_sim  \n",
       "0  {u' 金奖': 0.00975609756098, u' 藏家': 0.007317073...    0.0  \n",
       "1  {u' 进校园': 0.0113636363636, u' 越': 0.0113636363...    0.0  \n",
       "2  {u' 赖少': 0.0238095238095, u' 下联': 0.0119047619...    0.0  \n",
       "3  {u' 梓': 0.0169491525424, u' 则': 0.016949152542...    0.0  \n",
       "4  {u' 厅': 0.00961538461538, u' 严谨': 0.0096153846...    0.0  "
      ]
     },
     "execution_count": 359,
     "metadata": {},
     "output_type": "execute_result"
    }
   ],
   "source": [
    "df_open.head()"
   ]
  },
  {
   "cell_type": "code",
   "execution_count": 27,
   "metadata": {},
   "outputs": [
    {
     "name": "stdout",
     "output_type": "stream",
     "text": [
      "<class 'pandas.core.frame.DataFrame'>\n",
      "RangeIndex: 190283 entries, 0 to 190282\n",
      "Data columns (total 9 columns):\n",
      "url        190283 non-null object\n",
      "title      190283 non-null object\n",
      "summary    190283 non-null object\n",
      "s_words    190283 non-null object\n",
      "s_cnt      190283 non-null object\n",
      "s_fq       190283 non-null object\n",
      "s_vec      190283 non-null object\n",
      "s_dict     190283 non-null object\n",
      "s_sim      190283 non-null float64\n",
      "dtypes: float64(1), object(8)\n",
      "memory usage: 13.1+ MB\n"
     ]
    }
   ],
   "source": [
    "df_open.info()"
   ]
  },
  {
   "cell_type": "code",
   "execution_count": 17,
   "metadata": {
    "collapsed": true
   },
   "outputs": [],
   "source": [
    "#Get contents for '徽州'\n",
    "test_dict = dict()\n",
    "test_dict[u'徽州'] = 0.5\n",
    "test_dict[u'徽文化'] = 0.5\n",
    "t_sim = 's_sim'"
   ]
  },
  {
   "cell_type": "code",
   "execution_count": 18,
   "metadata": {},
   "outputs": [
    {
     "name": "stdout",
     "output_type": "stream",
     "text": [
      "吉祥图案 少数 显示 内 木板 雕刻 杉树 选材 楠木 床 用具 情调 梓 分布 使用 则 为贵 题材 宅院 戏曲 栏柱 民间 图案 以柏 故事 榧 之广在 旧属 徽州 木雕 由 各县 民居 艺术家 圆木 吉祥 著名 椿 艺术 人物 均 全国 案 参与 花鸟 家具 宗教 宅第 椅 术家\n"
     ]
    }
   ],
   "source": [
    "d = df_open.iloc[3]['s_dict']\n",
    "print ' '.join(d.keys())"
   ]
  },
  {
   "cell_type": "code",
   "execution_count": 19,
   "metadata": {},
   "outputs": [
    {
     "ename": "NameError",
     "evalue": "global name 'Toolbox' is not defined",
     "output_type": "error",
     "traceback": [
      "\u001b[0;31m---------------------------------------------------------------------------\u001b[0m",
      "\u001b[0;31mNameError\u001b[0m                                 Traceback (most recent call last)",
      "\u001b[0;32m<ipython-input-19-d8f8d8744f31>\u001b[0m in \u001b[0;36m<module>\u001b[0;34m()\u001b[0m\n\u001b[0;32m----> 1\u001b[0;31m \u001b[0mcalculate_sim\u001b[0m\u001b[0;34m(\u001b[0m\u001b[0mdf_open\u001b[0m\u001b[0;34m.\u001b[0m\u001b[0miloc\u001b[0m\u001b[0;34m[\u001b[0m\u001b[0;36m3\u001b[0m\u001b[0;34m]\u001b[0m\u001b[0;34m[\u001b[0m\u001b[0;34m's_dict'\u001b[0m\u001b[0;34m]\u001b[0m\u001b[0;34m,\u001b[0m \u001b[0mtest_dict\u001b[0m\u001b[0;34m)\u001b[0m\u001b[0;34m\u001b[0m\u001b[0m\n\u001b[0m",
      "\u001b[0;32m<ipython-input-11-e1f5aa6e7bbf>\u001b[0m in \u001b[0;36mcalculate_sim\u001b[0;34m(x, in_dict)\u001b[0m\n\u001b[1;32m      2\u001b[0m \u001b[0;32mdef\u001b[0m \u001b[0mcalculate_sim\u001b[0m\u001b[0;34m(\u001b[0m\u001b[0mx\u001b[0m\u001b[0;34m,\u001b[0m \u001b[0min_dict\u001b[0m\u001b[0;34m)\u001b[0m\u001b[0;34m:\u001b[0m\u001b[0;34m\u001b[0m\u001b[0m\n\u001b[1;32m      3\u001b[0m     \u001b[0;31m#print in_dict\u001b[0m\u001b[0;34m\u001b[0m\u001b[0;34m\u001b[0m\u001b[0m\n\u001b[0;32m----> 4\u001b[0;31m     \u001b[0mtb\u001b[0m \u001b[0;34m=\u001b[0m \u001b[0mToolbox\u001b[0m\u001b[0;34m(\u001b[0m\u001b[0;34m)\u001b[0m\u001b[0;34m\u001b[0m\u001b[0m\n\u001b[0m\u001b[1;32m      5\u001b[0m     \u001b[0;32mreturn\u001b[0m \u001b[0mtb\u001b[0m\u001b[0;34m.\u001b[0m\u001b[0mget_sim\u001b[0m\u001b[0;34m(\u001b[0m\u001b[0mx\u001b[0m\u001b[0;34m,\u001b[0m \u001b[0min_dict\u001b[0m\u001b[0;34m)\u001b[0m\u001b[0;34m\u001b[0m\u001b[0m\n",
      "\u001b[0;31mNameError\u001b[0m: global name 'Toolbox' is not defined"
     ]
    }
   ],
   "source": [
    "calculate_sim(df_open.iloc[3]['s_dict'], test_dict)"
   ]
  },
  {
   "cell_type": "code",
   "execution_count": 299,
   "metadata": {
    "collapsed": true
   },
   "outputs": [],
   "source": [
    "#let us find the cetroid for given data set of 'huizhou'"
   ]
  },
  {
   "cell_type": "code",
   "execution_count": 22,
   "metadata": {},
   "outputs": [
    {
     "name": "stdout",
     "output_type": "stream",
     "text": [
      "after s_sim 2.7563829422\n",
      "<class 'pandas.core.frame.DataFrame'>\n",
      "Int64Index: 1983 entries, 5 to 190165\n",
      "Data columns (total 9 columns):\n",
      "url        1983 non-null object\n",
      "title      1983 non-null object\n",
      "summary    1983 non-null object\n",
      "s_words    1983 non-null object\n",
      "s_cnt      1983 non-null object\n",
      "s_fq       1983 non-null object\n",
      "s_vec      1983 non-null object\n",
      "s_dict     1983 non-null object\n",
      "s_sim      1983 non-null float64\n",
      "dtypes: float64(1), object(8)\n",
      "memory usage: 154.9+ KB\n",
      "after centroid 13.5589950085\n",
      "18.4071319103\n"
     ]
    }
   ],
   "source": [
    "t0 = time()\n",
    "df_open[t_sim] = df_open.s_dict.map(lambda x: calculate_sim(x, test_dict))\n",
    "check = df_open[df_open[t_sim] > 0.01]\n",
    "print 'after s_sim', time() - t0\n",
    "\n",
    "if len(check) > 2000:\n",
    "    #sampling \n",
    "    ratio = 2000*1.0/len(check)\n",
    "    msk = np.random.rand(len(check)) < ratio\n",
    "    tmp = check[msk]\n",
    "    check = tmp\n",
    "\n",
    "check.info()\n",
    "\n",
    "check_vecs = check['s_dict']\n",
    "tb = Toolbox()\n",
    "centroid_vec = tb.sum_vects(check_vecs) \n",
    "print 'after centroid', time() - t0\n",
    "#only work on non duplicated ones\n",
    "df_open[t_sim] = df_open.s_dict.map(lambda x: calculate_sim(x, centroid_vec))\n",
    "s_sim = df_open[t_sim].values.argsort()[::-1]\n",
    "print time() - t0"
   ]
  },
  {
   "cell_type": "code",
   "execution_count": 23,
   "metadata": {},
   "outputs": [
    {
     "data": {
      "text/plain": [
       "0.85913767352080439"
      ]
     },
     "execution_count": 23,
     "metadata": {},
     "output_type": "execute_result"
    }
   ],
   "source": [
    "df_open['s_sim'].max()"
   ]
  },
  {
   "cell_type": "code",
   "execution_count": 302,
   "metadata": {},
   "outputs": [
    {
     "data": {
      "text/html": [
       "<div>\n",
       "<table border=\"1\" class=\"dataframe\">\n",
       "  <thead>\n",
       "    <tr style=\"text-align: right;\">\n",
       "      <th></th>\n",
       "      <th>url</th>\n",
       "      <th>title</th>\n",
       "      <th>summary</th>\n",
       "      <th>s_words</th>\n",
       "      <th>s_cnt</th>\n",
       "      <th>s_fq</th>\n",
       "      <th>s_vec</th>\n",
       "      <th>s_dict</th>\n",
       "      <th>s_sim</th>\n",
       "    </tr>\n",
       "  </thead>\n",
       "  <tbody>\n",
       "    <tr>\n",
       "      <th>0</th>\n",
       "      <td>http://cul.anhuinews.com/system/2016/11/28/007...</td>\n",
       "      <td>洪建华夫妇的竹刻人生</td>\n",
       "      <td>谁能想到，洪建华夫妇这对一无学历、二无家传、三无师承的“三无大师”成了省级非物质...</td>\n",
       "      <td>(竹刻,  建华,  雕刻,  洪,  文化,  作品,  非,  传承,  工艺,  收藏...</td>\n",
       "      <td>(31, 22, 21, 20, 17, 16, 12, 12, 11, 11, 10, 1...</td>\n",
       "      <td>[0.0756097560976, 0.0536585365854, 0.051219512...</td>\n",
       "      <td>[(竹刻, 31), (建华, 22), (雕刻, 21), (洪, 20), (文化, 1...</td>\n",
       "      <td>{u' 金奖': 4, u' 藏家': 3, u' 因为': 4, u' 十多': 5, u...</td>\n",
       "      <td>0.0</td>\n",
       "    </tr>\n",
       "    <tr>\n",
       "      <th>1</th>\n",
       "      <td>http://cul.anhuinews.com/system/2016/11/21/007...</td>\n",
       "      <td>徽州民歌传人操明花校园授艺</td>\n",
       "      <td>近日，省非物质文化遗产徽州民歌传承人操明花前往休宁县海阳二小、歙县城关小学和徽州...</td>\n",
       "      <td>(民歌,  徽州,  们,  磨麦,  文化,  会员,  中国,  磨米,  传承,  同...</td>\n",
       "      <td>(8, 6, 5, 3, 3, 3, 3, 3, 3, 2, 2, 2, 2, 2, 2, ...</td>\n",
       "      <td>[0.0909090909091, 0.0681818181818, 0.056818181...</td>\n",
       "      <td>[(民歌, 8), (徽州, 6), (们, 5), (磨麦, 3), (文化, 3), (...</td>\n",
       "      <td>{u' 进校园': 1, u' 越': 1, u' 原汁': 1, u' 上口': 1, u...</td>\n",
       "      <td>0.0</td>\n",
       "    </tr>\n",
       "    <tr>\n",
       "      <th>2</th>\n",
       "      <td>http://cul.anhuinews.com/system/2016/11/03/007...</td>\n",
       "      <td>黄山楹联漫谈</td>\n",
       "      <td>黄山楹联第一人当推明朝诗人余绍祉。他遍历祖国名山大川，见到无数奇峰怪石，却感到抵...</td>\n",
       "      <td>(黄山,  笔者,  文联,  才,  怪石,  旅游,  一联,  编写,  画,  奇峰...</td>\n",
       "      <td>(10, 4, 3, 3, 2, 2, 2, 2, 2, 2, 2, 2, 2, 2, 2,...</td>\n",
       "      <td>[0.119047619048, 0.047619047619, 0.03571428571...</td>\n",
       "      <td>[(黄山, 10), (笔者, 4), (文联, 3), (才, 3), (怪石, 2), ...</td>\n",
       "      <td>{u' 赖少': 2, u' 下联': 1, u' 见到': 2, u' 其下': 2, u...</td>\n",
       "      <td>0.0</td>\n",
       "    </tr>\n",
       "    <tr>\n",
       "      <th>3</th>\n",
       "      <td>http://cul.anhuinews.com/system/2016/01/26/007...</td>\n",
       "      <td>徽派雕刻——徽州木雕艺术</td>\n",
       "      <td>徽州民居、家具木板和圆木雕刻艺术的简称。木雕在旧属徽州各县分布之广在...</td>\n",
       "      <td>(木雕,  徽州,  艺术,  家具,  吉祥图案,  少数,  显示,  内,  木板, ...</td>\n",
       "      <td>(6, 3, 2, 2, 1, 1, 1, 1, 1, 1, 1, 1, 1, 1, 1, ...</td>\n",
       "      <td>[0.101694915254, 0.0508474576271, 0.0338983050...</td>\n",
       "      <td>[(木雕, 6), (徽州, 3), (艺术, 2), (家具, 2), (吉祥图案, 1)...</td>\n",
       "      <td>{u' 梓': 1, u' 则': 1, u' 图案': 1, u' 情调': 1, u' ...</td>\n",
       "      <td>0.0</td>\n",
       "    </tr>\n",
       "    <tr>\n",
       "      <th>4</th>\n",
       "      <td>http://cul.anhuinews.com/system/2016/01/26/007...</td>\n",
       "      <td>徽派雕刻——徽州砖雕艺术</td>\n",
       "      <td>徽州砖雕徽州砖雕的造型，来源于汉画象砖。汉画象砖大都是模印砖坯刻画后入...</td>\n",
       "      <td>(砖雕,  艺术,  题材,  风格,  狮子,  民间,  砖,  图案,  画象,  美...</td>\n",
       "      <td>(10, 5, 4, 4, 3, 3, 3, 3, 3, 2, 2, 2, 2, 2, 2,...</td>\n",
       "      <td>[0.0961538461538, 0.0480769230769, 0.038461538...</td>\n",
       "      <td>[(砖雕, 10), (艺术, 5), (题材, 4), (风格, 4), (狮子, 3),...</td>\n",
       "      <td>{u' 厅': 1, u' 严谨': 1, u' 狮子': 3, u' 内容': 2, u'...</td>\n",
       "      <td>0.0</td>\n",
       "    </tr>\n",
       "  </tbody>\n",
       "</table>\n",
       "</div>"
      ],
      "text/plain": [
       "                                                 url          title  \\\n",
       "0  http://cul.anhuinews.com/system/2016/11/28/007...     洪建华夫妇的竹刻人生   \n",
       "1  http://cul.anhuinews.com/system/2016/11/21/007...  徽州民歌传人操明花校园授艺   \n",
       "2  http://cul.anhuinews.com/system/2016/11/03/007...         黄山楹联漫谈   \n",
       "3  http://cul.anhuinews.com/system/2016/01/26/007...   徽派雕刻——徽州木雕艺术   \n",
       "4  http://cul.anhuinews.com/system/2016/01/26/007...   徽派雕刻——徽州砖雕艺术   \n",
       "\n",
       "                                             summary  \\\n",
       "0        谁能想到，洪建华夫妇这对一无学历、二无家传、三无师承的“三无大师”成了省级非物质...   \n",
       "1        近日，省非物质文化遗产徽州民歌传承人操明花前往休宁县海阳二小、歙县城关小学和徽州...   \n",
       "2        黄山楹联第一人当推明朝诗人余绍祉。他遍历祖国名山大川，见到无数奇峰怪石，却感到抵...   \n",
       "3              徽州民居、家具木板和圆木雕刻艺术的简称。木雕在旧属徽州各县分布之广在...   \n",
       "4             徽州砖雕徽州砖雕的造型，来源于汉画象砖。汉画象砖大都是模印砖坯刻画后入...   \n",
       "\n",
       "                                             s_words  \\\n",
       "0  (竹刻,  建华,  雕刻,  洪,  文化,  作品,  非,  传承,  工艺,  收藏...   \n",
       "1  (民歌,  徽州,  们,  磨麦,  文化,  会员,  中国,  磨米,  传承,  同...   \n",
       "2  (黄山,  笔者,  文联,  才,  怪石,  旅游,  一联,  编写,  画,  奇峰...   \n",
       "3  (木雕,  徽州,  艺术,  家具,  吉祥图案,  少数,  显示,  内,  木板, ...   \n",
       "4  (砖雕,  艺术,  题材,  风格,  狮子,  民间,  砖,  图案,  画象,  美...   \n",
       "\n",
       "                                               s_cnt  \\\n",
       "0  (31, 22, 21, 20, 17, 16, 12, 12, 11, 11, 10, 1...   \n",
       "1  (8, 6, 5, 3, 3, 3, 3, 3, 3, 2, 2, 2, 2, 2, 2, ...   \n",
       "2  (10, 4, 3, 3, 2, 2, 2, 2, 2, 2, 2, 2, 2, 2, 2,...   \n",
       "3  (6, 3, 2, 2, 1, 1, 1, 1, 1, 1, 1, 1, 1, 1, 1, ...   \n",
       "4  (10, 5, 4, 4, 3, 3, 3, 3, 3, 2, 2, 2, 2, 2, 2,...   \n",
       "\n",
       "                                                s_fq  \\\n",
       "0  [0.0756097560976, 0.0536585365854, 0.051219512...   \n",
       "1  [0.0909090909091, 0.0681818181818, 0.056818181...   \n",
       "2  [0.119047619048, 0.047619047619, 0.03571428571...   \n",
       "3  [0.101694915254, 0.0508474576271, 0.0338983050...   \n",
       "4  [0.0961538461538, 0.0480769230769, 0.038461538...   \n",
       "\n",
       "                                               s_vec  \\\n",
       "0  [(竹刻, 31), (建华, 22), (雕刻, 21), (洪, 20), (文化, 1...   \n",
       "1  [(民歌, 8), (徽州, 6), (们, 5), (磨麦, 3), (文化, 3), (...   \n",
       "2  [(黄山, 10), (笔者, 4), (文联, 3), (才, 3), (怪石, 2), ...   \n",
       "3  [(木雕, 6), (徽州, 3), (艺术, 2), (家具, 2), (吉祥图案, 1)...   \n",
       "4  [(砖雕, 10), (艺术, 5), (题材, 4), (风格, 4), (狮子, 3),...   \n",
       "\n",
       "                                              s_dict  s_sim  \n",
       "0  {u' 金奖': 4, u' 藏家': 3, u' 因为': 4, u' 十多': 5, u...    0.0  \n",
       "1  {u' 进校园': 1, u' 越': 1, u' 原汁': 1, u' 上口': 1, u...    0.0  \n",
       "2  {u' 赖少': 2, u' 下联': 1, u' 见到': 2, u' 其下': 2, u...    0.0  \n",
       "3  {u' 梓': 1, u' 则': 1, u' 图案': 1, u' 情调': 1, u' ...    0.0  \n",
       "4  {u' 厅': 1, u' 严谨': 1, u' 狮子': 3, u' 内容': 2, u'...    0.0  "
      ]
     },
     "execution_count": 302,
     "metadata": {},
     "output_type": "execute_result"
    }
   ],
   "source": [
    "df_open.head()"
   ]
  },
  {
   "cell_type": "code",
   "execution_count": 174,
   "metadata": {
    "collapsed": true
   },
   "outputs": [],
   "source": []
  },
  {
   "cell_type": "code",
   "execution_count": 397,
   "metadata": {
    "collapsed": true
   },
   "outputs": [],
   "source": [
    "dsi_centroid = centroid_vec\n",
    "#save centroid\n",
    "import json\n",
    "with open('../data/centroids/dsi_centroid.json', 'w') as fp:\n",
    "    json.dump(dsi_centroid, fp)"
   ]
  },
  {
   "cell_type": "code",
   "execution_count": 24,
   "metadata": {},
   "outputs": [
    {
     "name": "stdout",
     "output_type": "stream",
     "text": [
      "0 文化 0.140679077091\n",
      "1 徽州 0.128655915232\n",
      "2 婺源 0.0393812507091\n",
      "3 中国 0.037581546178\n",
      "4 名人 0.0341781989495\n",
      "5 徽文化 0.0332302878834\n",
      "6 历史 0.0293176299789\n",
      "7 照片 0.0277366346702\n",
      "8 研究 0.0257577358725\n",
      "9 老照片 0.0246818780733\n",
      "10 黄山 0.0227673735535\n",
      "11 版权 0.0215068797318\n",
      "12 徽商 0.0211181170094\n",
      "13 休宁 0.0208601704393\n",
      "14 状元 0.019451783451\n",
      "15 旅游 0.0182395254341\n",
      "16 作家 0.0174310538887\n",
      "17 建筑 0.0174018711144\n",
      "18 频道 0.0164269421371\n",
      "19 详细 0.0156404014333\n",
      "20 臺 0.0137204247014\n",
      "21 黄梅 0.0131095640318\n",
      "22 专题 0.0128213430832\n",
      "23 毕业 0.0121858331822\n",
      "24 手艺 0.0117159231714\n",
      "25 信息 0.0112732802438\n",
      "26 艺术 0.0112204911481\n",
      "27 新闻 0.0111970898641\n",
      "28 中心 0.0110257479898\n",
      "29 发展 0.0110176887115\n",
      "30 人民 0.0106120798718\n",
      "31 歙县 0.0104890846324\n",
      "32 徽派 0.0103187171123\n",
      "33 女人 0.0102532261543\n",
      "34 戏曲 0.009102929669\n",
      "35 新安 0.00893903219872\n",
      "36 安庆 0.00883776911621\n",
      "37 文学 0.00877192497846\n",
      "38 保护 0.00856499825144\n",
      "39 作者 0.00826604621256\n",
      "40 屯溪 0.00805151451874\n",
      "41 奥运 0.00791533203958\n",
      "42 徽学 0.00780151180449\n",
      "43 原创 0.00736573521306\n",
      "44 回复 0.00731832692569\n",
      "45 吃 0.00731441375336\n",
      "46 老 0.00729033257848\n",
      "47 茶 0.00727331764516\n",
      "48 教育 0.00711168286669\n",
      "49 工作 0.00707036550028\n"
     ]
    }
   ],
   "source": [
    "#print out centroid \n",
    "ret = tb.sort_dict(centroid_vec)\n",
    "words, cnt = zip(*ret)\n",
    "for i in range(0, len(words)):\n",
    "    print i, words[i], cnt[i]"
   ]
  },
  {
   "cell_type": "code",
   "execution_count": 412,
   "metadata": {
    "collapsed": true
   },
   "outputs": [],
   "source": [
    "ratio = 0.50\n",
    "df_out = df_open[df_open[t_sim] > ratio]\n",
    "df_out.info()"
   ]
  },
  {
   "cell_type": "code",
   "execution_count": 25,
   "metadata": {
    "collapsed": true
   },
   "outputs": [],
   "source": [
    "nlp = df_open[df_open[t_sim] == 0.0]"
   ]
  },
  {
   "cell_type": "code",
   "execution_count": 26,
   "metadata": {},
   "outputs": [
    {
     "name": "stdout",
     "output_type": "stream",
     "text": [
      "<class 'pandas.core.frame.DataFrame'>\n",
      "Int64Index: 36063 entries, 9 to 190103\n",
      "Data columns (total 9 columns):\n",
      "url        36063 non-null object\n",
      "title      36063 non-null object\n",
      "summary    36063 non-null object\n",
      "s_words    36063 non-null object\n",
      "s_cnt      36063 non-null object\n",
      "s_fq       36063 non-null object\n",
      "s_vec      36063 non-null object\n",
      "s_dict     36063 non-null object\n",
      "s_sim      36063 non-null float64\n",
      "dtypes: float64(1), object(8)\n",
      "memory usage: 2.8+ MB\n"
     ]
    }
   ],
   "source": [
    "nlp.info()"
   ]
  },
  {
   "cell_type": "code",
   "execution_count": 418,
   "metadata": {
    "collapsed": true
   },
   "outputs": [],
   "source": [
    "s_sim = df_out['s_sim'].values.argsort()[::-1]"
   ]
  },
  {
   "cell_type": "code",
   "execution_count": 419,
   "metadata": {
    "collapsed": true
   },
   "outputs": [],
   "source": [
    "idx = 0\n",
    "for i in s_sim:\n",
    "    if df_out.iloc[i]['s_sim'] > ratio:\n",
    "        title = df_out.iloc[i]['title']\n",
    "        sim_val = df_out.iloc[i][t_sim]\n",
    "        idx += 1\n",
    "        print idx, i, title, sim_val"
   ]
  },
  {
   "cell_type": "code",
   "execution_count": 420,
   "metadata": {
    "collapsed": true
   },
   "outputs": [],
   "source": [
    "def get_centroid_df(df, t_sim, ratio):\n",
    "    check = df[df[t_sim] > ratio]\n",
    "\n",
    "    check.info()\n",
    "    check_vecs = check['s_dict']\n",
    "    tb = Toolbox()\n",
    "    return tb.sum_vects(check_vecs) "
   ]
  },
  {
   "cell_type": "code",
   "execution_count": 433,
   "metadata": {
    "collapsed": true
   },
   "outputs": [],
   "source": [
    "centroid_vec = get_centroid_df(df_out, t_sim, 0.50)"
   ]
  },
  {
   "cell_type": "code",
   "execution_count": 430,
   "metadata": {
    "collapsed": true
   },
   "outputs": [],
   "source": [
    "print sum(ret_df.values())"
   ]
  },
  {
   "cell_type": "code",
   "execution_count": null,
   "metadata": {
    "collapsed": true
   },
   "outputs": [],
   "source": [
    "check = df_open[df_open[t_sim] > 0.01]\n",
    "print 'after s_sim', time() - t0\n",
    "\n",
    "if len(check) > 2000:\n",
    "    #sampling \n",
    "    ratio = 2000*1.0/len(check)\n",
    "    msk = np.random.rand(len(check)) < ratio\n",
    "    tmp = check[msk]\n",
    "    check = tmp\n",
    "\n",
    "check.info()\n",
    "\n",
    "check_vecs = check['s_dict']\n",
    "tb = Toolbox()\n",
    "centroid_vec = tb.sum_vects(check_vecs) \n",
    "print 'after centroid', time() - t0\n",
    "#only work on non duplicated ones\n",
    "df_open[t_sim] = df_open.s_dict.map(lambda x: calculate_sim(x, centroid_vec))\n",
    "s_sim = df_open[t_sim].values.argsort()[::-1]\n",
    "print time() - t0"
   ]
  },
  {
   "cell_type": "code",
   "execution_count": null,
   "metadata": {
    "collapsed": true
   },
   "outputs": [],
   "source": []
  }
 ],
 "metadata": {
  "kernelspec": {
   "display_name": "Python 2",
   "language": "python",
   "name": "python2"
  },
  "language_info": {
   "codemirror_mode": {
    "name": "ipython",
    "version": 2
   },
   "file_extension": ".py",
   "mimetype": "text/x-python",
   "name": "python",
   "nbconvert_exporter": "python",
   "pygments_lexer": "ipython2",
   "version": "2.7.10"
  }
 },
 "nbformat": 4,
 "nbformat_minor": 2
}
