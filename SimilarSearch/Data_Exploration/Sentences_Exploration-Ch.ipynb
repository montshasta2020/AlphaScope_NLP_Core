{
 "cells": [
  {
   "cell_type": "code",
   "execution_count": 1,
   "metadata": {
    "collapsed": true
   },
   "outputs": [],
   "source": [
    "import sys\n",
    "reload(sys)\n",
    "sys.setdefaultencoding('utf-8')"
   ]
  },
  {
   "cell_type": "code",
   "execution_count": 6,
   "metadata": {
    "collapsed": true
   },
   "outputs": [],
   "source": [
    "import pandas as pd\n",
    "from collections import Counter\n",
    "import numpy as np"
   ]
  },
  {
   "cell_type": "code",
   "execution_count": null,
   "metadata": {
    "collapsed": true
   },
   "outputs": [],
   "source": []
  },
  {
   "cell_type": "code",
   "execution_count": 12,
   "metadata": {
    "collapsed": true
   },
   "outputs": [],
   "source": [
    "df = pd.read_csv('../data/raw/huizhou-merged-v1.csv')"
   ]
  },
  {
   "cell_type": "code",
   "execution_count": 4,
   "metadata": {
    "collapsed": true
   },
   "outputs": [],
   "source": [
    "df.info()"
   ]
  },
  {
   "cell_type": "code",
   "execution_count": 13,
   "metadata": {},
   "outputs": [],
   "source": [
    "#sampling \n",
    "#sampling\n",
    "msk = np.random.rand(len(df)) < 0.01\n",
    "df = df[msk]"
   ]
  },
  {
   "cell_type": "code",
   "execution_count": 14,
   "metadata": {
    "collapsed": true
   },
   "outputs": [],
   "source": [
    "df.info()"
   ]
  },
  {
   "cell_type": "code",
   "execution_count": 15,
   "metadata": {
    "collapsed": true
   },
   "outputs": [],
   "source": [
    "sentences = df['content'].str.decode('utf-8').str.split('  ')"
   ]
  },
  {
   "cell_type": "code",
   "execution_count": 16,
   "metadata": {
    "collapsed": true
   },
   "outputs": [],
   "source": [
    "flatten = [item for sublist in sentences for item in sublist if len(item) > 0]"
   ]
  },
  {
   "cell_type": "code",
   "execution_count": 17,
   "metadata": {
    "collapsed": true
   },
   "outputs": [],
   "source": [
    "print len(flatten)"
   ]
  },
  {
   "cell_type": "code",
   "execution_count": 19,
   "metadata": {
    "collapsed": true
   },
   "outputs": [],
   "source": [
    "sentences_more = [s.split(u'。') for s in flatten]\n",
    "sentences_flatten = [item for sublist in sentences_more for item in sublist]\n",
    "print len(sentences_flatten)"
   ]
  },
  {
   "cell_type": "code",
   "execution_count": 20,
   "metadata": {
    "collapsed": true
   },
   "outputs": [],
   "source": [
    "count = Counter(flatten)"
   ]
  },
  {
   "cell_type": "code",
   "execution_count": 21,
   "metadata": {
    "collapsed": true
   },
   "outputs": [],
   "source": [
    "top_200 = count.most_common(200)"
   ]
  },
  {
   "cell_type": "code",
   "execution_count": 22,
   "metadata": {
    "collapsed": true
   },
   "outputs": [],
   "source": [
    "for t in top_200:\n",
    "    print t[0], t[1]"
   ]
  },
  {
   "cell_type": "code",
   "execution_count": 10,
   "metadata": {
    "collapsed": true
   },
   "outputs": [],
   "source": [
    "cnt = 0\n",
    "ret = []\n",
    "for item in count.iteritems():\n",
    "    if item[1] == 1:\n",
    "        ret.append(item[0])\n",
    "        cnt += 1"
   ]
  },
  {
   "cell_type": "code",
   "execution_count": 11,
   "metadata": {
    "collapsed": true
   },
   "outputs": [],
   "source": [
    "import jieba\n",
    "jieba.load_userdict(\"../data/dict/huizhou_dict.txt\")"
   ]
  },
  {
   "cell_type": "code",
   "execution_count": 12,
   "metadata": {
    "collapsed": true
   },
   "outputs": [],
   "source": [
    "def jiba_words_separation(x):\n",
    "    t20 = jieba.cut(x) #搜索引擎模式\n",
    "    t2 = \" \".join(t20)\n",
    "    return t2"
   ]
  },
  {
   "cell_type": "code",
   "execution_count": null,
   "metadata": {
    "collapsed": true
   },
   "outputs": [],
   "source": [
    "cut = [jiba_words_separation(item) for item in ret]"
   ]
  },
  {
   "cell_type": "code",
   "execution_count": null,
   "metadata": {
    "collapsed": true
   },
   "outputs": [],
   "source": [
    "cut_flatten = [item for sublist in cut for item in sublist]"
   ]
  },
  {
   "cell_type": "code",
   "execution_count": 10,
   "metadata": {},
   "outputs": [
    {
     "data": {
      "text/plain": [
       "387277"
      ]
     },
     "execution_count": 10,
     "metadata": {},
     "output_type": "execute_result"
    }
   ],
   "source": []
  },
  {
   "cell_type": "code",
   "execution_count": null,
   "metadata": {
    "collapsed": true
   },
   "outputs": [],
   "source": []
  },
  {
   "cell_type": "code",
   "execution_count": 299,
   "metadata": {
    "collapsed": true
   },
   "outputs": [],
   "source": [
    "top_200 = count.most_common(200)"
   ]
  },
  {
   "cell_type": "code",
   "execution_count": 300,
   "metadata": {
    "collapsed": true
   },
   "outputs": [],
   "source": [
    "for t in top_200:\n",
    "    print '----------', t[1]\n",
    "    print t[0]"
   ]
  },
  {
   "cell_type": "code",
   "execution_count": 271,
   "metadata": {
    "collapsed": true
   },
   "outputs": [],
   "source": [
    "cnt = 0\n",
    "for i in range(0, len(df)):\n",
    "    docs = df.iloc[i]['body']\n",
    "    url = df.iloc[i]['url']\n",
    "    title = df.iloc[i]['title']\n",
    "    for t in docs:\n",
    "        if u'网上，仅供试看，不提供下载' in t:\n",
    "            print 'found one', cnt\n",
    "            print title\n",
    "            print url\n",
    "            cnt += 1"
   ]
  },
  {
   "cell_type": "code",
   "execution_count": 306,
   "metadata": {
    "collapsed": true
   },
   "outputs": [],
   "source": [
    "def body_filters(s):\n",
    "    s = s.replace('手艺只是吸附于一定的社会发展阶段，这个道理人人都能感受，但放在身处变革时代的手艺人身上，就多出了一份切肤之痛', '')\n",
    "    s = s.replace('有着丰富的文化资源。自宋嘉定十年（1217）至清光绪六年（1880），休宁出了19名文武状元', '')\n",
    "    s = s.replace('Powered by Discuz!', '')\n",
    "    s = s.replace('本站部分内容来源于网络，若有侵权之处，请联系管理员。凡标为原创的文章，未经许可不得随意转载或引用。  皖ICP备07011545号', '')\n",
    "    s = s.replace('本站大部分照片留有原图，需要索取者，请登陆安徽文化论坛', '')\n",
    "    s = s.replace('(只显示最新评论10条.评论内容只代表网友观点,与本站立场无关!)', '')\n",
    "    s = s.replace('请自觉遵守互联网相关的政策法规，严禁发布色情、暴力、反动的言论。', '')\n",
    "    s = s.replace('金桥网络义乌办公地址：浙江省义乌市福田市场国贸大厦1151号', '')\n",
    "    s = s.replace('醉美婺源旅游网是一家公益性质的民间旅游网站，我们尊重并保护知识产权，根据《信息网络传播权保护条例》，如果我们转载的作品侵犯了您的权利,请通知我们，我们会及时删除。联系方式：13486168999', '')\n",
    "    s = s.replace('本站由金桥网络（叶光明）提供技术支持,网站制作和广告推广服务，请联系洪老师或联系站长：邮箱', '')\n",
    "    s = s.replace('各地驴友如需旅游行程定制，交通，住宿，及包车相关咨询服务请到论坛发帖咨询(', '')\n",
    "    s = s.replace('安徽文化人的网上家园，网上最大的安徽历史文化资料中心', '')\n",
    "    s = s.replace('本站部分内容来源于网络，若有侵权之处，请联系管理员。凡标为原创的文章，未经许可不得随意转载或引用。', '')\n",
    "    s = s.replace('http://v.youku.com/v_show/id_XNjg4NzQxMDMy.html?firsttime=21', '')\n",
    "    s = s.replace('当您在拥有【金币】的前提下，选择您所喜欢的商品，可以点击【出价】按钮参与竞拍，在点击【出价】后信息服务立即生效，一旦确认就会消耗老家金币；', '')\n",
    "    s = s.replace('二、当商品显示倒数计时时，表示该商品可以参与出价竞拍，当计数器归零时，停止出价，价高者得到该商品；', '')\n",
    "    s = s.replace('三、领取充值卡方式（我们会把充值卡密码以短信方式发给你，请次日到我的消息中心领取）', '')\n",
    "    s = s.replace('拨打13800138000这个电话，根据语音提示，按照下图各品牌充值流程操作，将充值卡的钱冲进你的手机。', '')\n",
    "    s = s.replace('http://v.youku.com/v_show/id_XNDg2OTI3NzI4.html', '')\n",
    "    s = s.replace('(只显示最新评论10条.评论内容只代表网友观点,与本站立场无关!)', '')\n",
    "    s = s.replace('本文为作者独家授权，未经允许禁止转载。近来一些公众号未按要求标注来源，如若继续违规转载将予以追究法律责任！', '')\n",
    "    s = s.replace('皖ICP备07011545号', '')\n",
    "    s = s.replace('ahage.net', '')\n",
    "    s = s.replace('-,yyyy-MM-dd HH:mm,class=font10,) parse begin-->', '')\n",
    "    s = s.replace('-,yyyy-MM-dd HH:mm,class=font10,) parse end', '')\n",
    "    s = s.replace('2014年婺源油菜花情报（更新中、、、、、、）', '')\n",
    "    s = s.replace('徽州大论坛 -', '')\n",
    "    s = s.replace('0ms cost! -->', '')\n",
    "    s = s.replace('休宁县是“中国第一状元县”', '')\n",
    "    s = s.replace('醉美婺源旅游网是一家公益性质的民间旅游网站，我们尊重并保护知识产权，根据《信息网络传播权保护条例》，如果我们转载的作品侵犯了您的权利,请通知我们，我们会及时删除。联系方式：手机13486168999', '')\n",
    "    s = s.replace('“谁不说我家乡好”大赛落下帷幕恭喜以下会员获奖', '')\n",
    "    s = s.replace('2010年张家界自驾游的路线/费用/攻略/游记宝典大全', '')\n",
    "    s = s.replace('本站所提供的信息和链接均来源于互联网，相关链接内容版权归原网站所有', '')\n",
    "    s = s.replace('客服热线：电话：0793-7370999　传真：0793-7370039　24小时热线：13946833111中文版权所有：', '')\n",
    "    s = s.replace('本站老照片大部分由编辑搜集整理，并非原创作者，版权归原作者所有，若有侵犯您的所有权或其他权利之处，请在本站留言，或联系站长QQ78530461', '')\n",
    "    s = s.replace('2010年张家界自驾游的路线/费用/攻略/游记宝典大全', '')\n",
    "    s = s.replace('各商家如需做广告，请联系洪老师或联系站长,本站提供免费上门拍照以及文章撰写服务，洪老师电话：15079395222', '')\n",
    "    s = s.replace('评论内容只代表网友观点，与本站立场无关！', '')\n",
    "    s = s.replace('江西婺源金桥网络地址：义乌市福田市场国贸大厦1151号', '')\n",
    "    s = s.replace('QQ:531684128(点击咨询)婺源老家官方500人交流①群:73121398', '')\n",
    "    s = s.replace('婺源李坑光明茶楼，提供住宿，品茶，吃农家饭预定电话：07937370999', '')\n",
    "    s = s.replace('如果我们转载的作品侵犯了您的权利,请通知我们，我们会及时删除', '')\n",
    "    s = s.replace('客服热线：电话：0793-7370999　传真：0793-7370039　24小时热线：13946833111中文版权所有', '')\n",
    "    s = s.replace('只显示最新10条', '')\n",
    "    s = s.replace('如果喜欢，请支持正版！', '')\n",
    "    s = s.replace('本站所提供的信息和链接均来源于互联网，相关链接内容版权归原网站所有', '')\n",
    "    s = s.replace('网上，仅供试看，不提供下载', '')\n",
    "    s = s.replace('联系电话：13097082876', '')\n",
    "    s = s.replace('醉美婺源旅游网由金桥网络：叶光明提供技术支持,', '')\n",
    "    s = s.replace('安徽省作协副主席，1980年毕业于徽州师专中文系，1991年又毕业于鲁迅文学院', '')\n",
    "    s = s.replace('甘臻，原名甘社会，1963年生，桐城人，研究生毕业，安徽省作家协会会员，现为安徽日报报业集团江淮时', '')\n",
    "    s = s.replace('夏余才，男，1973年11月出生于安徽潜山', '')\n",
    "    s = s.replace('安徽省作家协会会员', '')\n",
    "    s = s.replace('联系电话：15979338359', '')\n",
    "    s = s.replace('于继勇，男，生于1977年，先后寄身于杂志社、电视台和报社，写字自娱，卖文维', '')\n",
    "    s = s.replace('李平易，安徽黄山人', '')\n",
    "    s = s.replace('中国华文教育网版权所有，未经授权禁止复制或建立镜像', '')\n",
    "    s = s.replace('《中国近现代著名书画家――萧龙士作品集》征稿启事', '')\n",
    "    s = s.replace('曾出版散文集《...', '')\n",
    "\n",
    "    \n",
    "    #s = s.replace('15079395222', '')\n",
    "    #s = ''.join(i for i in s if not i.isdigit())\n",
    "    return s"
   ]
  },
  {
   "cell_type": "code",
   "execution_count": 307,
   "metadata": {
    "collapsed": true
   },
   "outputs": [],
   "source": [
    "\n",
    "df['body'] = df.body.map(lambda x: body_filters(x))"
   ]
  },
  {
   "cell_type": "code",
   "execution_count": 206,
   "metadata": {},
   "outputs": [
    {
     "data": {
      "text/html": [
       "<div>\n",
       "<table border=\"1\" class=\"dataframe\">\n",
       "  <thead>\n",
       "    <tr style=\"text-align: right;\">\n",
       "      <th></th>\n",
       "      <th>url</th>\n",
       "      <th>domain</th>\n",
       "      <th>title</th>\n",
       "      <th>segment</th>\n",
       "      <th>key_words</th>\n",
       "      <th>summary</th>\n",
       "      <th>body</th>\n",
       "      <th>target</th>\n",
       "      <th>combined</th>\n",
       "      <th>topic</th>\n",
       "    </tr>\n",
       "  </thead>\n",
       "  <tbody>\n",
       "    <tr>\n",
       "      <th>0</th>\n",
       "      <td>www.hzwh.com/article.asp?id=1316</td>\n",
       "      <td>hzwh.com</td>\n",
       "      <td>用心灵感悟徽文化的博大精深</td>\n",
       "      <td>用 心灵 感悟 文化 徽文化 的 博大 精深 博大精深</td>\n",
       "      <td>文化 文脉 古村落 万善 古民居 可视性 亭榭 统一性 儒家思想 无处不在 昭示 明清两代 ...</td>\n",
       "      <td>宋代兴起的理学是儒家思想的一个流派，明清两代达到巅峰，与中国几千年的文化具有统一性，又呈现多...</td>\n",
       "      <td>徽州自古人文荟萃，丰厚的人文遗产，几乎涵盖了哲学、社会、教育、艺术、宗教、建筑、医...</td>\n",
       "      <td>1</td>\n",
       "      <td>用 心灵 感悟 文化 徽文化 的 博大 精深 博大精深文化 文脉 古村落 万善 古民居 可视...</td>\n",
       "      <td>6</td>\n",
       "    </tr>\n",
       "    <tr>\n",
       "      <th>1</th>\n",
       "      <td>www.hzwh.com/article.asp?id=1203</td>\n",
       "      <td>hzwh.com</td>\n",
       "      <td>清末民初徽商兴办实业教育</td>\n",
       "      <td>清末 民初 徽商 兴办 实业 教育</td>\n",
       "      <td>徽州 绩溪 创办 茶商 蚕桑 学堂 农业 朱里 邹等 戴琴泉 吴俊德 六县 周协恭 传技 汪...</td>\n",
       "      <td>清光绪末年，休宁茶商戴琴泉等在屯溪朱里成立农业公司，栽桑养蚕，同时创办了初等农业学堂，培养蚕...</td>\n",
       "      <td>清末，称雄商界几百年的徽商，已是日薄西山，渐呈衰败。当时徽商中的部分有识之士已经看到...</td>\n",
       "      <td>1</td>\n",
       "      <td>清末 民初 徽商 兴办 实业 教育徽州 绩溪 创办 茶商 蚕桑 学堂 农业 朱里 邹等 戴琴...</td>\n",
       "      <td>17</td>\n",
       "    </tr>\n",
       "    <tr>\n",
       "      <th>2</th>\n",
       "      <td>www.hzwh.com/article.asp?id=907</td>\n",
       "      <td>hzwh.com</td>\n",
       "      <td>新安画派的绘画风格</td>\n",
       "      <td>新安 画派 的 绘画 风格</td>\n",
       "      <td>新安 画派 山水 画家 创作 观察 学养 篆刻家 范本 熏陶 徽州 灵感 大好 汲取 素材 ...</td>\n",
       "      <td>新安大好山水为当地画家提供了很好的范本，更是他们从中汲取创作灵感的源泉 新安画派注重对自然的...</td>\n",
       "      <td>一、绘画技法上崇尚元四家，推倪瓒为宗师。构图上讲求疏密相衬、山水相生，动与静、远与近...</td>\n",
       "      <td>1</td>\n",
       "      <td>新安 画派 的 绘画 风格新安 画派 山水 画家 创作 观察 学养 篆刻家 范本 熏陶 徽州...</td>\n",
       "      <td>14</td>\n",
       "    </tr>\n",
       "    <tr>\n",
       "      <th>3</th>\n",
       "      <td>http://www.xinhs.cn/article.asp?id=38700</td>\n",
       "      <td>xinhs.cn</td>\n",
       "      <td>安徽大学研究生在茗洲村开展徽州人生仪礼课题调查活动</td>\n",
       "      <td>安徽 大学 安徽大学 研究 研究生 在 茗 洲 村 开展 徽州 人生 仪礼 课题 调查 活动</td>\n",
       "      <td>徽州 村落 礼仪 了解 习俗 婚丧 吴氏家典 学生 吴氏 婚庆 礼教 文化 座谈 仪礼 民居...</td>\n",
       "      <td>实地考察中，民俗专业的学生与村中  多岁的老人座谈，详细地了解了这个古老村落的婚庆、丧葬习俗...</td>\n",
       "      <td>实地考察中，民俗专业的学生与村中80多岁的老人座谈，详细地了解了这个古老村落...</td>\n",
       "      <td>1</td>\n",
       "      <td>安徽 大学 安徽大学 研究 研究生 在 茗 洲 村 开展 徽州 人生 仪礼 课题 调查 活动...</td>\n",
       "      <td>15</td>\n",
       "    </tr>\n",
       "    <tr>\n",
       "      <th>4</th>\n",
       "      <td>http://www.xinhs.cn/article.asp?id=80495</td>\n",
       "      <td>xinhs.cn</td>\n",
       "      <td>新安地理练江上的古歙三桥</td>\n",
       "      <td>新安 地理 练江 上 的 古 歙 三桥</td>\n",
       "      <td>太平桥 练江 渔梁坝 三桥 紫阳 浮桥 横跨 惊涛拍岸 冲坏 卧波 刘炳 石拱桥 端平 庆丰...</td>\n",
       "      <td>其中著名的要算建于明朝的太平桥、万年桥和紫阳桥了，三座桥又合称古歙三桥，如长虹卧波一样，横跨...</td>\n",
       "      <td>春天的新安江，美丽如画。站在岸边，我们不住地轻声而叹。歙县县城一带的新安江，...</td>\n",
       "      <td>1</td>\n",
       "      <td>新安 地理 练江 上 的 古 歙 三桥太平桥 练江 渔梁坝 三桥 紫阳 浮桥 横跨 惊涛拍岸...</td>\n",
       "      <td>14</td>\n",
       "    </tr>\n",
       "  </tbody>\n",
       "</table>\n",
       "</div>"
      ],
      "text/plain": [
       "                                        url    domain  \\\n",
       "0          www.hzwh.com/article.asp?id=1316  hzwh.com   \n",
       "1          www.hzwh.com/article.asp?id=1203  hzwh.com   \n",
       "2           www.hzwh.com/article.asp?id=907  hzwh.com   \n",
       "3  http://www.xinhs.cn/article.asp?id=38700  xinhs.cn   \n",
       "4  http://www.xinhs.cn/article.asp?id=80495  xinhs.cn   \n",
       "\n",
       "                       title                                         segment  \\\n",
       "0              用心灵感悟徽文化的博大精深                     用 心灵 感悟 文化 徽文化 的 博大 精深 博大精深   \n",
       "1               清末民初徽商兴办实业教育                               清末 民初 徽商 兴办 实业 教育   \n",
       "2                  新安画派的绘画风格                                   新安 画派 的 绘画 风格   \n",
       "3  安徽大学研究生在茗洲村开展徽州人生仪礼课题调查活动  安徽 大学 安徽大学 研究 研究生 在 茗 洲 村 开展 徽州 人生 仪礼 课题 调查 活动   \n",
       "4               新安地理练江上的古歙三桥                             新安 地理 练江 上 的 古 歙 三桥   \n",
       "\n",
       "                                           key_words  \\\n",
       "0  文化 文脉 古村落 万善 古民居 可视性 亭榭 统一性 儒家思想 无处不在 昭示 明清两代 ...   \n",
       "1  徽州 绩溪 创办 茶商 蚕桑 学堂 农业 朱里 邹等 戴琴泉 吴俊德 六县 周协恭 传技 汪...   \n",
       "2  新安 画派 山水 画家 创作 观察 学养 篆刻家 范本 熏陶 徽州 灵感 大好 汲取 素材 ...   \n",
       "3  徽州 村落 礼仪 了解 习俗 婚丧 吴氏家典 学生 吴氏 婚庆 礼教 文化 座谈 仪礼 民居...   \n",
       "4  太平桥 练江 渔梁坝 三桥 紫阳 浮桥 横跨 惊涛拍岸 冲坏 卧波 刘炳 石拱桥 端平 庆丰...   \n",
       "\n",
       "                                             summary  \\\n",
       "0  宋代兴起的理学是儒家思想的一个流派，明清两代达到巅峰，与中国几千年的文化具有统一性，又呈现多...   \n",
       "1  清光绪末年，休宁茶商戴琴泉等在屯溪朱里成立农业公司，栽桑养蚕，同时创办了初等农业学堂，培养蚕...   \n",
       "2  新安大好山水为当地画家提供了很好的范本，更是他们从中汲取创作灵感的源泉 新安画派注重对自然的...   \n",
       "3  实地考察中，民俗专业的学生与村中  多岁的老人座谈，详细地了解了这个古老村落的婚庆、丧葬习俗...   \n",
       "4  其中著名的要算建于明朝的太平桥、万年桥和紫阳桥了，三座桥又合称古歙三桥，如长虹卧波一样，横跨...   \n",
       "\n",
       "                                                body  target  \\\n",
       "0       徽州自古人文荟萃，丰厚的人文遗产，几乎涵盖了哲学、社会、教育、艺术、宗教、建筑、医...       1   \n",
       "1      清末，称雄商界几百年的徽商，已是日薄西山，渐呈衰败。当时徽商中的部分有识之士已经看到...       1   \n",
       "2      一、绘画技法上崇尚元四家，推倪瓒为宗师。构图上讲求疏密相衬、山水相生，动与静、远与近...       1   \n",
       "3          实地考察中，民俗专业的学生与村中80多岁的老人座谈，详细地了解了这个古老村落...       1   \n",
       "4          春天的新安江，美丽如画。站在岸边，我们不住地轻声而叹。歙县县城一带的新安江，...       1   \n",
       "\n",
       "                                            combined  topic  \n",
       "0  用 心灵 感悟 文化 徽文化 的 博大 精深 博大精深文化 文脉 古村落 万善 古民居 可视...      6  \n",
       "1  清末 民初 徽商 兴办 实业 教育徽州 绩溪 创办 茶商 蚕桑 学堂 农业 朱里 邹等 戴琴...     17  \n",
       "2  新安 画派 的 绘画 风格新安 画派 山水 画家 创作 观察 学养 篆刻家 范本 熏陶 徽州...     14  \n",
       "3  安徽 大学 安徽大学 研究 研究生 在 茗 洲 村 开展 徽州 人生 仪礼 课题 调查 活动...     15  \n",
       "4  新安 地理 练江 上 的 古 歙 三桥太平桥 练江 渔梁坝 三桥 紫阳 浮桥 横跨 惊涛拍岸...     14  "
      ]
     },
     "execution_count": 206,
     "metadata": {},
     "output_type": "execute_result"
    }
   ],
   "source": [
    "df.head()"
   ]
  },
  {
   "cell_type": "code",
   "execution_count": 308,
   "metadata": {
    "collapsed": true
   },
   "outputs": [],
   "source": [
    "df.to_csv('/Users/nhu2000/Desktop/huizhou/data/huiwenhua/huizhou_web_contentv2-6.csv', encoding='utf-8', index=False)"
   ]
  },
  {
   "cell_type": "code",
   "execution_count": null,
   "metadata": {
    "collapsed": true
   },
   "outputs": [],
   "source": []
  }
 ],
 "metadata": {
  "kernelspec": {
   "display_name": "Python 2",
   "language": "python",
   "name": "python2"
  },
  "language_info": {
   "codemirror_mode": {
    "name": "ipython",
    "version": 2
   },
   "file_extension": ".py",
   "mimetype": "text/x-python",
   "name": "python",
   "nbconvert_exporter": "python",
   "pygments_lexer": "ipython2",
   "version": "2.7.10"
  }
 },
 "nbformat": 4,
 "nbformat_minor": 2
}
