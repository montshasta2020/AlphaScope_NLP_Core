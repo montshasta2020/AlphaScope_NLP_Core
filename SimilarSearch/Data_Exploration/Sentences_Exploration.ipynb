{
 "cells": [
  {
   "cell_type": "code",
   "execution_count": 1,
   "metadata": {
    "collapsed": true
   },
   "outputs": [],
   "source": [
    "import pandas as pd\n",
    "from collections import Counter\n",
    "import re"
   ]
  },
  {
   "cell_type": "code",
   "execution_count": 4,
   "metadata": {
    "collapsed": true
   },
   "outputs": [],
   "source": [
    "df = pd.read_csv('/Users/nhu2000/projects/SimilarSearch/data/clean/Solr-dsi-final_v1.csv')"
   ]
  },
  {
   "cell_type": "code",
   "execution_count": 2,
   "metadata": {
    "collapsed": true
   },
   "outputs": [],
   "source": [
    "df = pd.read_csv('/Users/nhu2000/projects/SimilarSearch/data/raw/solr-dsi-domain_only-04-05-2017-cleaned.csv')"
   ]
  },
  {
   "cell_type": "code",
   "execution_count": 3,
   "metadata": {},
   "outputs": [
    {
     "name": "stdout",
     "output_type": "stream",
     "text": [
      "<class 'pandas.core.frame.DataFrame'>\n",
      "RangeIndex: 292147 entries, 0 to 292146\n",
      "Data columns (total 12 columns):\n",
      "_version_    292147 non-null int64\n",
      "cache        3956 non-null object\n",
      "segment      292147 non-null int64\n",
      "digest       292147 non-null object\n",
      "tstamp       292147 non-null object\n",
      "url          292147 non-null object\n",
      "anchor       31946 non-null object\n",
      "content      292147 non-null object\n",
      "id           292147 non-null object\n",
      "title        292147 non-null object\n",
      "boost        292147 non-null float64\n",
      "domain       292147 non-null object\n",
      "dtypes: float64(1), int64(2), object(9)\n",
      "memory usage: 26.7+ MB\n"
     ]
    }
   ],
   "source": [
    "df.info()"
   ]
  },
  {
   "cell_type": "code",
   "execution_count": 7,
   "metadata": {
    "collapsed": true
   },
   "outputs": [],
   "source": [
    "df = df.dropna(subset =['content'])"
   ]
  },
  {
   "cell_type": "code",
   "execution_count": 356,
   "metadata": {
    "collapsed": true
   },
   "outputs": [],
   "source": [
    "msk = np.random.rand(len(df)) < 0.2\n",
    "train = df[msk]\n",
    "test = df[~msk]"
   ]
  },
  {
   "cell_type": "code",
   "execution_count": 357,
   "metadata": {},
   "outputs": [
    {
     "name": "stdout",
     "output_type": "stream",
     "text": [
      "<class 'pandas.core.frame.DataFrame'>\n",
      "Int64Index: 69856 entries, 0 to 89752\n",
      "Data columns (total 12 columns):\n",
      "Unnamed: 0    69856 non-null int64\n",
      "_version_     69856 non-null int64\n",
      "cache         755 non-null object\n",
      "segment       69856 non-null int64\n",
      "digest        69856 non-null object\n",
      "tstamp        69856 non-null object\n",
      "url           69856 non-null object\n",
      "anchor        16322 non-null object\n",
      "content       69856 non-null object\n",
      "id            69856 non-null object\n",
      "title         69081 non-null object\n",
      "boost         69856 non-null float64\n",
      "dtypes: float64(1), int64(3), object(8)\n",
      "memory usage: 6.9+ MB\n"
     ]
    }
   ],
   "source": [
    "train.info()"
   ]
  },
  {
   "cell_type": "code",
   "execution_count": 358,
   "metadata": {},
   "outputs": [
    {
     "name": "stdout",
     "output_type": "stream",
     "text": [
      "<class 'pandas.core.frame.DataFrame'>\n",
      "Int64Index: 17602 entries, 5 to 89749\n",
      "Data columns (total 12 columns):\n",
      "Unnamed: 0    17602 non-null int64\n",
      "_version_     17602 non-null int64\n",
      "cache         197 non-null object\n",
      "segment       17602 non-null int64\n",
      "digest        17602 non-null object\n",
      "tstamp        17602 non-null object\n",
      "url           17602 non-null object\n",
      "anchor        4174 non-null object\n",
      "content       17602 non-null object\n",
      "id            17602 non-null object\n",
      "title         17368 non-null object\n",
      "boost         17602 non-null float64\n",
      "dtypes: float64(1), int64(3), object(8)\n",
      "memory usage: 1.7+ MB\n"
     ]
    }
   ],
   "source": [
    "test.info()"
   ]
  },
  {
   "cell_type": "code",
   "execution_count": 347,
   "metadata": {
    "collapsed": true
   },
   "outputs": [],
   "source": [
    "articles = df['content']"
   ]
  },
  {
   "cell_type": "code",
   "execution_count": 359,
   "metadata": {
    "collapsed": true
   },
   "outputs": [],
   "source": [
    "articles = test['content']"
   ]
  },
  {
   "cell_type": "code",
   "execution_count": 360,
   "metadata": {
    "collapsed": true
   },
   "outputs": [],
   "source": [
    "articles_split = [re.split(r'(?<!\\w\\.\\w.)(?<![A-Z][a-z]\\.)(?<=\\.|\\?)\\s', item) for item in articles]"
   ]
  },
  {
   "cell_type": "code",
   "execution_count": 361,
   "metadata": {
    "collapsed": true
   },
   "outputs": [],
   "source": [
    "sentences = [item for sublist in articles_split for item in sublist]"
   ]
  },
  {
   "cell_type": "code",
   "execution_count": 362,
   "metadata": {},
   "outputs": [
    {
     "data": {
      "text/plain": [
       "481592"
      ]
     },
     "execution_count": 362,
     "metadata": {},
     "output_type": "execute_result"
    }
   ],
   "source": [
    "len(sentences)"
   ]
  },
  {
   "cell_type": "markdown",
   "metadata": {},
   "source": [
    "import re\n",
    "text = \"Mr. Smith bought cheapsite.com for 1.5 million dollars, i.e. he paid a lot for it. Did he mind? Adam Jones Jr. thinks he didn't. In any case, this isn't true... Well, with a probability of .9 it isn't.\"\n",
    "t = re.split(r'(?<!\\w\\.\\w.)(?<![A-Z][a-z]\\.)(?<=\\.|\\?)\\s', text)\n",
    "\n",
    "for r in t:\n",
    "    print r"
   ]
  },
  {
   "cell_type": "code",
   "execution_count": 363,
   "metadata": {
    "collapsed": true
   },
   "outputs": [],
   "source": [
    "count = Counter(sentences)"
   ]
  },
  {
   "cell_type": "markdown",
   "metadata": {},
   "source": [
    "top_200 = count.most_common(200)\n",
    "dsi_words, cnt = zip(*top_200)\n",
    "tot = sum(cnt)\n",
    "dsi_fq = [float(i)*1.0/tot for i in cnt]\n",
    "dsi_dict_org = dict(zip(dsi_words, dsi_fq))"
   ]
  },
  {
   "cell_type": "code",
   "execution_count": 364,
   "metadata": {
    "collapsed": true
   },
   "outputs": [],
   "source": [
    "top_200 = count.most_common(200)\n",
    "dsi_words, cnt = zip(*top_200)\n",
    "tot = sum(cnt)\n",
    "dsi_fq = [float(i)*1.0/tot for i in cnt]\n",
    "dsi_dict_org1 = dict(zip(dsi_words, dsi_fq))"
   ]
  },
  {
   "cell_type": "code",
   "execution_count": 301,
   "metadata": {
    "collapsed": true
   },
   "outputs": [],
   "source": [
    "top_200 = count.most_common(200)\n",
    "dsi_words, cnt = zip(*top_200)\n",
    "tot = sum(cnt)\n",
    "dsi_fq = [float(i)*1.0/tot for i in cnt]\n",
    "dsi_dict_org2 = dict(zip(dsi_words, dsi_fq))"
   ]
  },
  {
   "cell_type": "code",
   "execution_count": 365,
   "metadata": {},
   "outputs": [
    {
     "data": {
      "text/plain": [
       "0.9903353619035669"
      ]
     },
     "execution_count": 365,
     "metadata": {},
     "output_type": "execute_result"
    }
   ],
   "source": [
    "get_cosine(dsi_dict_org, dsi_dict_org1)"
   ]
  },
  {
   "cell_type": "code",
   "execution_count": 302,
   "metadata": {},
   "outputs": [
    {
     "data": {
      "text/plain": [
       "1.0"
      ]
     },
     "execution_count": 302,
     "metadata": {},
     "output_type": "execute_result"
    }
   ],
   "source": [
    "get_cosine(dsi_dict_org, dsi_dict_org2)"
   ]
  },
  {
   "cell_type": "code",
   "execution_count": 233,
   "metadata": {
    "collapsed": true
   },
   "outputs": [],
   "source": [
    "sort = count.most_common(len(count))"
   ]
  },
  {
   "cell_type": "code",
   "execution_count": 234,
   "metadata": {},
   "outputs": [
    {
     "name": "stdout",
     "output_type": "stream",
     "text": [
      ". 1 48421\n",
      "Please check your browser settings or contact your system administrator. 72 4946\n",
      "All rights reserved. 20 4117\n",
      "All Rights Reserved. 20 2196\n",
      "New to Twitter? 15 1821\n",
      "Remember me · Forgot password? 31 1772\n",
      "Log in Have an account? 23 1772\n",
      "9 Must-Have Skills You Need to Become a Data Scientist - Nov 22, 2014. 70 1645\n",
      "R vs Python for Data Science: The Winner is ... 47 1640\n",
      "- May 26, 2015 . 16 1623\n",
      "Top 10 Machine Learning Projects on Github - Dec 14, 2015. 58 1343\n",
      "More Data Science Humor and Cartoons - Dec 23, 2015. 52 1341\n",
      "2. 2 1320\n",
      "Data Exploration in Preparation for Modeling A Concise Overview of Recent Advances in Chat... 93 1287\n",
      "AbsolutData: Data Analyst (must be proficient... 48 1287\n",
      "About KDnuggets   Subscribe to KDnuggets News X 48 1285\n",
      "The Star Wars social networks - who is the central character? 61 1205\n",
      "- Dec 25, 2015 . 16 1205\n",
      "The Art of Data Science: The Skills You Need and How to Get Them - Dec 28, 2015 . 81 1204\n",
      "3. 2 1113\n",
      "Public Knowledge Graph – small guys unite CEOs Pursue Data and Analytics for Stakeholder Engagement Data Scientist – best job in America SanDisk: Senior Staff Hadoop Developer Three Simple Resolutions to Design Better DataViz 12 Data Analytics Thought Leaders on Twitter American Family Insurance: Change Analyst The Unreasonable Reputation of Neural Networks Anthony Goldbloom gives you the Secret to winning Kaggle compe... 429 1083\n",
      "KDnuggets 16:n02, Jan 20: Research Leaders on Key Advances,... 62 1082\n",
      "Big Data Bootcamp, Santa Clara, Jan 20-22 SMU Online MS In Data Science Introducing Quora’s Machine Learning Sessions Series FlyElephant scientific computing platform – new features... 188 1082\n",
      "Webinar: Text Mining Along the Drug Development Pipeline, Jan 28 Sears: Marketplace Account Manager – Consumer Electronics 7 Essential Elements in a Real-time Streaming Analytics Platform 5 ways to master uplift modeling Yahoo Releases the Largest-ever Machine Learning Dataset for R... 288 1081\n",
      "What questions can data science answer? 39 1080\n",
      "About KDnuggets   Subscribe to KDnuggets News  | Follow @kdnuggets (48K)   (6K)   (14K) X 94 1080\n",
      "- Jan 1, 2016. 14 1079\n",
      "TensorFlow Disappoints - Google Deep Learning falls shallow - Nov 16, 2015 . 76 1079\n",
      "- Jan 14, 2016. 15 1079\n",
      "What Is Machine Intelligence Vs. Machine Learning Vs. Deep Learning Vs. Artificial Intelligence (AI)? 101 1078\n",
      "TensorFlow is Terrific - A Sober Take on Deep Learning Acceleration 7 Steps to Mastering Machine Learning With Python - Nov 19, 2015 . 134 1077\n",
      "Most shared 20 Questions to Detect Fake Data Scientists - Jan 1, 2016 . 71 1077\n",
      "TensorFlow is Terrific - A Sober Take on Deep Learning Acceleration - Dec 30, 2015. 83 1076\n",
      "Signal Ocean: Quantitative/Data Scientist Clean Data Science: Evaluating The Cleanlines... 90 1069\n",
      "About KDnuggets   Subscribe to KDnuggets News  | Follow @kdnuggets (46K)   (6K)   (13K) X 94 975\n",
      "5 5 Machine Learning Research Studies To Understand & Predict Length of Stay in Hospitals 6 12 Algorithms Every Data Scientist Should Know RSS View All Announcements Southern Methodist University's Online M.S. in Data Science Northwestern's Online MS in Analytics Supercharge Your Data Science Team with AnacondaCON Team Discount 3 Interactive Dashboards You Can Build before the New Year Big Data Analytics Simplified Top 10 Business Intelligence Trends for 2017 NYU Stern: Make Decisions with Clarity \"The one event I look forward to each year\" New Online Data Science Bootcamp is Here: Save 30% The State of Analytics Education Videos Optimizing Analytical Insights, Data Security and Visualization Added by Tim Matteson 0 Comments 0 Likes Fastest Growing Open Source SQL on Hadoop Added by Tim Matteson 0 Comments 2 Likes Add Videos View All Resources Top Categories Machine Learning   R Programming     Python for Data Science     Visualization, Dashboards   NoSQL and NewSQL   Big Data   Cheat Sheets Internet of Things   Excel   © 2017   Data Science Central   Powered by Badges  |  Report an Issue  |  Privacy Policy  |  Terms of Service Hello, you need to enable JavaScript to use Data Science Central. 1238 869\n",
      "Creating a methodology for Data Science for IoT (IoT Analytics) Climate Change, Clearly Visualized The Data Awakens: Star Wars Sentiment Analysis Top 10 Deep Learning Projects on Github A Look Back on the 1st Three Months of Becoming a Data Scientist KDnuggets 16:n01, Jan 13: Detect Fake Data Scientists; Tens... 313 842\n",
      "New KDnuggets Podcasts Page Plausibility vs. 44 842\n",
      "Delaware Business Analyst Certificate – Info Session ... 58 842\n",
      "probability, prior distributions, and the gar... 48 842\n",
      "What Is Machine Intelligence Vs. Machine Learning Vs. Deep Lea... 65 842\n",
      "IoT Data Science Strategy InformationWeek Top Data Science, Analytics, and BI experts on... 91 842\n",
      "4. 2 793\n",
      "Please try again. 17 773\n",
      "More Recent Stories Airbnb: Lessons on Digital, Startups, Big Data and Disrupting ... 85 723\n",
      "1. 2 716\n",
      "... 3 684\n",
      "Optional comment for Retweet Saved searches Remove Verified account @ Suggested users Verified account @ Verified account @ 140 Retweet Tweet Close Are you sure you want to delete this Tweet? 191 646\n",
      "Camelyon16 – Machine Learning Challenge in cancer detection Scikit-learn and Python Stack Tutorials: Introduction & I... 122 644\n",
      "Data Science Humor: Google Analytics, if Applied in Real Life Top 100 Big Data Experts to Follow ICCV 2015: Twenty one hottest research papers Hitchhikers Guide to Azure Machine Learning Studio Spark 2015 Year In Review U. 222 641\n",
      "Cancel Delete Close Promote this Tweet Close Block Cancel Block Add a location to your Tweets When you tweet with a location, Twitter stores that location. 155 628\n",
      "You can switch location on/off before each Tweet and always have the option to delete your location history. 108 627\n",
      "5. 2 614\n",
      "3 Ways to Improve your Regression, Jan 20 & 27 Webinars, ... 60 582\n",
      "2 So You Want to be a Data Scientist 3 The seven people you need on your Big Data team 4 How to Become a Data Scientist for Free 5 \"You need an algorithm, not a Data Scientist\". 177 577\n",
      "Um...not quite 6 How To Identify A Good/Bad Data Scientist In A Job Interview? 78 576\n",
      "7 Origin of Techniques used in Data Science 8 Tell us: as a data scientist, what is your super power? 101 573\n",
      "Top 10 Machine Learning Videos on YouTube - Jun 23, 2015. 57 567\n",
      "Deep Learning and the Triumph of Empiricism - Jul 7, 2015. 58 565\n",
      "<br> Defines a single line break <hr> Defines a horizontal line Matching tags These require an ending tag - e.g. <i>italic text</i> <a> Defines an anchor <b> Defines bold text <big> Defines big text <blockquote> Defines a long quotation <caption> Defines a table caption <cite> Defines a citation <code> Defines computer code text <em> Defines emphasized text <fieldset> Defines a border around elements in a form <h1> This is heading 1 <h2> This is heading 2 <h3> This is heading 3 <h4> This is heading 4 <h5> This is heading 5 <h6> This is heading 6 <i> Defines italic text <p> Defines a paragraph <pre> Defines preformatted text <q> Defines a short quotation <samp> Defines sample computer code text <small> Defines small text <span> Defines a section in a document <s> Defines strikethrough text <strike> Defines strikethrough text <strong> Defines strong text <sub> Defines subscripted text <sup> Defines superscripted text <u> Defines underlined text Dr. Dobb's encourages readers to engage in spirited, healthy debate, including taking us to task. 1054 558\n",
      "Top 20 Python Machine Learning Open Source Projects - Jun 1, 2015 . 67 553\n",
      "J. 2 553\n",
      "Let us know. 12 552\n",
      "However, Dr. Dobb's moderates all comments posted to our site, and reserves the right to modify or remove any content that it determines to be derogatory, offensive, inflammatory, vulgar, irrelevant/off-topic, racist or obvious marketing or spam. 246 548\n",
      "Dr. Dobb's further reserves the right to disable the profile of any commenter participating in said activities. 111 544\n",
      "[ View Context ]. 17 537\n",
      "  To upload an avatar photo, first complete your Disqus profile. 65 536\n",
      "P. 2 528\n",
      "| View the list of supported HTML tags you can use to style comments. 69 527\n",
      "| Please read our commenting policy. 36 525\n",
      "9 NoSQL and RDBMS are on a Collision Course 10 Getting a Data Science Education RSS View All Resources Videos IoT: How Data Science-Driven Software is Eating the Connected World Added by Tim Matteson 0 Comments 0 Likes DSC Webinar Series: Faster Predictive Insight with Data Blending Added by Tim Matteson 0 Comments 0 Likes Add Videos View All Announcements When is the right time for real-time analytics? 406 524\n",
      "TMA Predictive Analytics Data Mining Training, [Orlando, Feb 1... 65 519\n",
      "A. 2 506\n",
      "- DSC Webinar Series Integrating Customer Data at Scale | July Webinar Bill Vorhies promoted to Editorial Director of DSC Network How measurement drives behavior - Tableau whitepaper Jumpstarting your Big Data Strategies Resolve identity conflicts within your data - IBM Webinar William Sonoma increased revenue with on-site search - learn how Internet of Things Summit, Boston September 9 & 10 Embracing the Internet of Things - Conference Online Master of Science in Predictive Analytics © 2015   Data Science Central Badges  |  Report an Issue  |  Terms of Service Hello, you need to enable JavaScript to use Data Science Central. 639 501\n",
      "M. 2 484\n",
      "    Check Paperity, our new web service for scientists... 60 462\n",
      "Don't have an account? 22 457\n",
      "  2 456\n",
      "1 Add a comment... 18 447\n",
      "6. 2 420\n",
      "Previous post Next post Most popular last 30 days Most viewed 20 Questions to Detect Fake Data Scientists - Jan 1, 2016 . 121 416\n",
      "Try again? 10 406\n",
      "Copyright © 1995–2014 Association for the Advancement of Artificial Intelligence. 84 400\n",
      "Your use of this site is subject to our Terms and Conditions and Privacy Policy  |  Home  |  About AAAI  |  Search  |  Contact AAAI AAAI Conferences  |  AI Magazine  |  AITopics  |  Awards  |  Calendar  |  Digital Library  |  Jobs  |  Meetings  |  Membership  |  Press  |  Press Room  |  Publications  |  Resources  |  Symposia  |  Workshops ABOUT SSL CERTIFICATES 401 398\n",
      "Notify me of new posts by email. 32 398\n",
      "Sign up, tune into the things you care about, and get updates as they happen. 77 387\n",
      "Sign up Have an account? 24 387\n",
      "Learn more Hmm, there was a problem reaching the server. 56 387\n",
      "Sign up » Close Sign up for Twitter Not on Twitter? 52 387\n",
      "Learn more Add this video to your website by copying the code below. 68 387\n",
      "Close Embed this Tweet Embed this Video Add this Tweet to your website by copying the code below. 97 387\n",
      "Learn more Turn location on Not now Turn off location Close Profile summary Close Your lists Close Create a new list List name Description Under 100 characters, optional Privacy Public · Anyone can follow this list Private · Only you can access this list Save list Close Close Copy link to Tweet The URL of this tweet is below. 329 387\n",
      "Copy it to easily share with friends. 37 387\n",
      "Include parent Tweet Include media Preview Close Log in to Twitter Remember me · Forgot password? 98 387\n",
      "C. 2 370\n",
      "S. 2 353\n",
      "This pricing is for PDFs that are purchased and downloaded from our website and printed copies that ship from our warehouse to your requested shipping location. 160 352\n",
      "Top stories for Jan 10-16: 20 Questions to Detect Fake Data Sc... 65 351\n",
      "7. 2 329\n",
      "Rept. 5 328\n",
      "Research Leaders on Data Mining, Data Science and Big Data key... 65 326\n",
      "6 Data Science Dictionary 7 Morning Analytic Coffee Blog 8 Make it Simple, Stupid! 9 Time issue in creating a huge data frame from MongoDB collection 10 Free eBook: Practical Data Cleaning RSS View All © 2015   AnalyticBridge.com is a subsidiary and dedicated channel of Data Science Central LLC Badges  |  Report an Issue  |  Terms of Service Hello, you need to enable JavaScript to use AnalyticBridge. 409 326\n",
      "  Sign up for the free insideBIGDATA  newsletter . 52 325\n",
      "| About KDnuggets 17 325\n",
      "H. 2 324\n",
      "See complete profile Would you like to contribute to this site? 63 323\n",
      "MassiveAnalytic: Scala/Python Data Scientist Kickstart Your Data Initiatives in 2016 – KDnuggets disc... 106 323\n",
      "L. 2 318\n",
      "Why? 4 314\n",
      "Conf. 5 310\n",
      "Prof. 5 305\n",
      "If you continue browsing the site, you agree to the use of cookies on this website. 83 298\n",
      "  In anticipation of his upcoming Predictive Analytics World for... 69 292\n",
      "- Jun 23, 2015. 15 291\n",
      "Which Big Data, Data Mining, and Data Science Tools go together? 64 290\n",
      "Top 20 R Machine Learning and Data Science packages - Jun 24, 2015. 67 287\n",
      "- Jun 11, 2015 . 16 287\n",
      "50+ Data Science and Machine Learning Cheat Sheets - Jul 14, 2015. 66 286\n",
      "Deep Learning Adversarial Examples - Clarifying Misconceptions - Jul 15, 2015. 78 285\n",
      "Popular Deep Learning Tools - a review - Jun 18, 2015 . 55 284\n",
      "Data Science and Big Data: Two very Different Beasts - Jul 6, 2015. 67 284\n",
      "We were unable to fetch any videos at this time. 48 284\n",
      "Can deep learning help find the perfect date? 45 284\n",
      "Videos are visible only to people they've been shared with. 59 284\n",
      "- Jul 10, 2015 . 16 283\n",
      "    Most shared last 30 days Why Does Deep Learning Work? 59 282\n",
      "Realize all the benefits Box offers IBM and start your own transformation with Box. 83 281\n",
      "50 Useful Machine Learning, Prediction APIs - Dec 7, 2015. 58 277\n",
      "It is a Mistake to…. 22 276\n",
      "Big Data Smart Data Cloud Social Data Unstructured Data Data in the Cloud Business Intelligence Analytics   Social Media Today LLC © 2012  Terms of Use | Community Guidelines | Privacy Policy | Get a Badge | Help | About & Contact 233 274\n",
      "Text is available under the Creative Commons Attribution-ShareAlike License ; additional terms may apply. 105 269\n",
      "More Loading... 15 268\n",
      "7 Steps to Mastering Machine Learning With Python - Nov 19, 2015 . 66 267\n",
      "7 Essential Resources, Tips To Get Started With Data Science - Dec 9, 2015. 75 263\n",
      "Most shared Top 10 Machine Learning Projects on Github - Dec 14, 2015. 70 263\n",
      "8. 2 262\n",
      "Wikipedia® is a registered trademark of the Wikimedia Foundation, Inc. 71 260\n",
      "By using this site, you agree to the Terms of Use and Privacy Policy . 70 260\n",
      ", a non-profit organization. 28 260\n",
      "Read more... 12 258\n",
      "Learn more... 13 257\n",
      "Fill in your details below or click an icon to log in: Email (required) (Address never made public) Name (required) Website You are commenting using your WordPress.com account. 176 257\n",
      "(  Log Out  /  Change  ) You are commenting using your Twitter account. 76 254\n",
      "Yes. 4 254\n",
      "20 Questions to Detect Fake Data Scientists - Jan 1, 2016 . 59 253\n",
      "R. 2 253\n",
      "(  Log Out  /  Change  ) You are commenting using your Facebook account. 77 248\n",
      "Learn how in our exlcusive ebook, \"Bad Data Need Not Apply: Designing the Modern Data Warehouse Environment.\" Download here . 125 243\n",
      "Twitter RSS RSS as XML Email Get our best posts in your inbox weekly First name Last name Email address How do you innovate effectively and maintain a competive edge? 166 243\n",
      "(  Log Out  /  Change  ) You are commenting using your Google+ account. 76 241\n",
      "Loading... 10 240\n",
      " | SUBSCRIBE to KDnuggets News email  | Twitter | Facebook | RSS | About KDnuggets 84 234\n",
      "Latest Network Activity No activity from this range Followers: See all » Following: Login or register to see who this user is following. 137 233\n",
      "(  Log Out  /  Change  ) Cancel Connecting to %s Notify me of new comments via email. 90 231\n",
      "Check. 6 229\n",
      "AAAI Press Ordering Information Conference Reports EAAI Symposium Reports Fall Symposium Reports Spring Symposium Reports Workshop Reports Press Books Press Proceedings Journals For Authors Permissions Requests Other Links AAAI Home Page Awards Calendar Jobs Meetings AAAI Press Resources AAAI Workshops This site is protected by copyright and trademark laws under US and International law. 390 227\n",
      "View Infographic Podcast Finance in Focus: Rethinking insurance with cognitive approaches, part 2 Presentation Advantages of an integrated governance, risk and compliance environment Video DataFirst Method: Closing the gap Video DataFirst Method: Data science is the new IT Video DataFirst Method: Making data science a team sport Blog Taking another look at in-database analytics Blog 10 expert tips to boost agility with Hadoop as a service Podcast Finance in Focus: Cognitive technology for Financial Advisors Presentation Sales performance management and C-level goals Blog 2017 outlook for CDOs and CIOs Blog How to build an all-purpose big data engine with Hadoop and Spark Blog The Big Data Dudes and the Lost in Las Vegas Mystery feature film View the discussion thread. 778 227\n",
      "Following: Login or register to see who this user is following. 63 224\n",
      "Latest Network Activity No activity from this range Followers: This member has no followers ... 95 224\n",
      "Previous post Next post Top Stories Past 30 Days Most Popular The 10 Algorithms Machine Learning Engineers Need to Know 50+ Data Science, Machine Learning Cheat Sheets, updated Machine Learning & Artificial Intelligence: Main Developments in 2016 and Key Trends in 2017 5 Machine Learning Projects You Can No Longer Overlook, January Bayesian Basics, Explained Why Deep Learning is Radically Different From Machine Learning Data Science Trends To Look Out For In 2017 Most Shared Machine Learning & Artificial Intelligence: Main Developments in 2016 and Key Trends in 2017 50+ Data Science, Machine Learning Cheat Sheets, updated Data Science, Predictive Analytics Main Developments in 2016 and Key Trends for 2017 5 Machine Learning Projects You Can No Longer Overlook, January 4 Reasons Your Machine Learning Model is Wrong (and How to Fix It) Game Theory Reveals the Future of Deep Learning Machine Learning and Cyber Security Resources Latest News Exclusive: Interview with Jeremy Howard on De... 1000 218\n",
      "Predictive Analytics World San Francisco &#82... 48 218\n",
      "Data Hoarding and Alternative Data In Finance... 48 216\n",
      "Feedback? 9 212\n",
      "B. 2 212\n",
      "Learn more. 11 208\n",
      "9. 2 206\n",
      "More info . 11 204\n",
      "Jan. 4 203\n",
      "G. 2 202\n",
      "The Most Popular Language For Machine Learning and Data Scienc... 65 201\n",
      "Top tweets, Jan 04-10: Cartoon: When Self-Driving Car takes... 62 201\n",
      "Big Data and the Internet of Things don’t make business smar... 65 201\n",
      "6 Steps to Effective Data Preparation for Quality Conclusions Doctor of Business Administration/Data Analytics, Online at Gr... 127 201\n",
      "Aetna: Principal Data Scientist A Concise Overview of Recent Advances in the Internet of Thing... 97 201\n",
      "4 ways to learn about Deep Learning, Anomaly Detection and mor... 65 201\n",
      "KDnuggets 17:n01, Jan 11: 5 Machine Learning Projects You C... 62 201\n",
      "Deep Learning in Healthcare Summit in London, 28 February – ... 65 201\n",
      "Prepare for Growing Data Field with Merrimack College Text Mining Amazon Mobile Phone Reviews: Interesting Insights A Non-comprehensive List of Awesome Things Other People Did in... 181 201\n",
      "A Concise Overview of Recent Advances in Vehicle Technologies Top /r/MachineLearning Posts, 2016: Google Brain AMA; Google M... 127 201\n",
      "ACI Worldwide: Analytics Expert History Meets Innovation: Big Data Hackathon with Yad Vashem Free audiobook – Revised & Updated “Predictive An... 149 196\n",
      "? 1 192\n",
      "  Subscribe to KDnuggets News! 31 192\n",
      "INTERNATIONAL CONFERENCE. 25 192\n",
      "1-9 = list price 10-49 = 20% off list price 50-499 = 30% off list price 500+ Contact Customer Service customerservice@harvardbusiness.org Note: Quantity pricing discounts will be reflected at Checkout, prior to submitting your order. 233 192\n",
      "Read more. 10 192\n",
      "E. 2 191\n",
      "Global NoSQL Market Predictions 2023: North America The Collective Definition of Data Lake by Big Data Community Now That You’ve Gone Swimming in the Data Lake – Then What? 176 189\n",
      "All rights reserved Privacy Policy    |    Terms and Conditions 67 189\n",
      "D. 2 189\n",
      "38 Seminal Articles Every Data Scientist Should Read © 2016   AnalyticBridge.com is a subsidiary and dedicated channel of Data Science Central LLC   Powered by Badges  |  Report an Issue  |  Terms of Service Hello, you need to enable JavaScript to use AnalyticBridge. 274 188\n",
      "Last Name * Please enter last name. 35 187\n",
      "Email * Please enter valid E-mail. 34 187\n",
      "People are more likely to share with you if you add them to your circles. 73 185\n",
      "Big Data Smart Data Cloud Social Data Unstructured Data Data in the Cloud Business Intelligence Analytics   Industry Dive, Inc © 2016  Terms of Use | Community Guidelines | Privacy Policy | Takedown Policy | Get a Badge | Help | About & Contact 247 183\n",
      "Log in » Close Two-way (sending and receiving) short codes: Country Code For customers of United States 40404 (any) Canada 21212 (any) United Kingdom 86444 Vodafone, Orange, 3, O2 Brazil 40404 Nextel, TIM Haiti 40404 Digicel, Voila Ireland 51210 Vodafone, O2 India 53000 Bharti Airtel, Videocon, Reliance Indonesia 89887 AXIS, 3, Telkomsel, Indosat, XL Axiata Italy 4880804 Wind 3424486444 Vodafone » See SMS short codes for other countries Close Confirmation 461 182\n",
      "Questions? 10 181\n",
      "This in turn causes the finance industry to face a fluctuating business trend. 78 181\n",
      "Liên hệ Xem chi tiết Xe tải Hyundai ... 46 177\n",
      "Sign In  [New User? 20 177\n",
      "10. 3 176\n"
     ]
    }
   ],
   "source": [
    "for t in sort[:200]:\n",
    "    print t[0], len(t[0]), t[1]"
   ]
  },
  {
   "cell_type": "code",
   "execution_count": 71,
   "metadata": {
    "collapsed": true
   },
   "outputs": [],
   "source": [
    "cnt = 0\n",
    "cnt_list = []\n",
    "prev_cnt = 0\n",
    "for t in sort:\n",
    "    if prev_cnt == 0:\n",
    "        prev_cnt = t[1]\n",
    "        cnt = 1\n",
    "    elif prev_cnt != t[1]:\n",
    "        cnt_list.append((prev_cnt, cnt))\n",
    "        prev_cnt = t[1]\n",
    "        cnt = 1\n",
    "    else:        \n",
    "        cnt += 1\n",
    "cnt_list.append((prev_cnt, cnt))"
   ]
  },
  {
   "cell_type": "markdown",
   "metadata": {},
   "source": [
    "print len(cnt_list)\n",
    "print cnt_list"
   ]
  },
  {
   "cell_type": "code",
   "execution_count": 235,
   "metadata": {
    "collapsed": true
   },
   "outputs": [],
   "source": [
    "sen, cnt = zip(*sort)"
   ]
  },
  {
   "cell_type": "code",
   "execution_count": 236,
   "metadata": {
    "collapsed": true
   },
   "outputs": [],
   "source": [
    "sentences_counted = [item for item in sen if len(item.split()) > 1]"
   ]
  },
  {
   "cell_type": "code",
   "execution_count": 237,
   "metadata": {
    "collapsed": true
   },
   "outputs": [],
   "source": [
    "words = [item.split() for item in sentences_counted]"
   ]
  },
  {
   "cell_type": "code",
   "execution_count": 238,
   "metadata": {
    "collapsed": true
   },
   "outputs": [],
   "source": [
    "from sklearn.feature_extraction import stop_words"
   ]
  },
  {
   "cell_type": "code",
   "execution_count": 239,
   "metadata": {
    "collapsed": true
   },
   "outputs": [],
   "source": [
    "import re\n",
    "def dsi_title_letters_removal(x):\n",
    "    s = re.sub('[^a-zA-Z]+', '', x)\n",
    "    if(len(s) > 0):\n",
    "        s = s.strip().lower()\n",
    "        if s not in stop_words.ENGLISH_STOP_WORDS:\n",
    "            return s\n",
    "        else:\n",
    "            return None\n",
    "    return None"
   ]
  },
  {
   "cell_type": "code",
   "execution_count": 240,
   "metadata": {
    "collapsed": true
   },
   "outputs": [],
   "source": [
    "flatten = [dsi_title_letters_removal(item) for sublist in words for item in sublist if dsi_title_letters_removal(item) != None ]"
   ]
  },
  {
   "cell_type": "code",
   "execution_count": 241,
   "metadata": {},
   "outputs": [
    {
     "name": "stdout",
     "output_type": "stream",
     "text": [
      "25989433\n"
     ]
    }
   ],
   "source": [
    "print len(flatten)"
   ]
  },
  {
   "cell_type": "code",
   "execution_count": 242,
   "metadata": {
    "collapsed": true
   },
   "outputs": [],
   "source": [
    "count = Counter(flatten)"
   ]
  },
  {
   "cell_type": "code",
   "execution_count": 243,
   "metadata": {
    "collapsed": true
   },
   "outputs": [],
   "source": [
    "top_200 = count.most_common(200)"
   ]
  },
  {
   "cell_type": "code",
   "execution_count": 194,
   "metadata": {
    "collapsed": true
   },
   "outputs": [],
   "source": [
    "dsi_stop_words = ['the', 'new', 'i', 'in', 'contact', 'use', 'home', 'about', 'us', 'a', 'it', 'this', 'blog'\n",
    "                 'more', 'l', 'all', 'for', 'using', 'like', 'sign', 'view', 'web', 'best', 'how', 'support',\n",
    "                 'help', 'marketing', 'you', 'we', 'need', 'time', 'university', 'social', 'content', 'online',\n",
    "                 'media', 'post', 'service', 'program', 'work', 'video', 'people', 'email', 'comments', 'resources',\n",
    "                 'read', 'company', 'google', 'open', 'customer', 'mobile']"
   ]
  },
  {
   "cell_type": "code",
   "execution_count": 244,
   "metadata": {
    "collapsed": true
   },
   "outputs": [],
   "source": [
    "dsi_words, cnt = zip(*top_200)\n",
    "tot = sum(cnt)\n",
    "dsi_fq = [float(i)*1.0/tot for i in cnt]\n",
    "dsi_dict2 = dict(zip(dsi_words, dsi_fq))"
   ]
  },
  {
   "cell_type": "code",
   "execution_count": 222,
   "metadata": {
    "collapsed": true
   },
   "outputs": [],
   "source": [
    "dsi_words, cnt = zip(*top_200)\n",
    "tot = sum(cnt)\n",
    "dsi_fq = [float(i)*1.0/tot for i in cnt]\n",
    "dsi_dict1 = dict(zip(dsi_words, dsi_fq))"
   ]
  },
  {
   "cell_type": "code",
   "execution_count": 206,
   "metadata": {
    "collapsed": true
   },
   "outputs": [],
   "source": [
    "dsi_words, cnt = zip(*top_200)\n",
    "tot = sum(cnt)\n",
    "dsi_fq = [float(i)*1.0/tot for i in cnt]\n",
    "dsi_dict = dict(zip(dsi_words, dsi_fq))"
   ]
  },
  {
   "cell_type": "code",
   "execution_count": 226,
   "metadata": {
    "collapsed": true
   },
   "outputs": [],
   "source": [
    "import math\n",
    "def get_cosine(vec1, vec2):\n",
    "    intersection = set(vec1.keys()) & set(vec2.keys())\n",
    "    #print intersection\n",
    "    numerator = sum([vec1[x] * vec2[x] for x in intersection])\n",
    "\n",
    "    sum1 = sum([vec1[x]**2 for x in vec1.keys()])\n",
    "    sum2 = sum([vec2[x]**2 for x in vec2.keys()])\n",
    "    denominator = math.sqrt(sum1) * math.sqrt(sum2)\n",
    "\n",
    "    if not denominator:\n",
    "        return 0.0\n",
    "    else:\n",
    "        return float(numerator) / denominator"
   ]
  },
  {
   "cell_type": "code",
   "execution_count": 227,
   "metadata": {},
   "outputs": [
    {
     "data": {
      "text/plain": [
       "0.9966335188115738"
      ]
     },
     "execution_count": 227,
     "metadata": {},
     "output_type": "execute_result"
    }
   ],
   "source": [
    "get_cosine(dsi_dict, dsi_dict1)"
   ]
  },
  {
   "cell_type": "code",
   "execution_count": 245,
   "metadata": {},
   "outputs": [
    {
     "data": {
      "text/plain": [
       "0.9999926088359031"
      ]
     },
     "execution_count": 245,
     "metadata": {},
     "output_type": "execute_result"
    }
   ],
   "source": [
    "get_cosine(dsi_dict, dsi_dict2)"
   ]
  },
  {
   "cell_type": "code",
   "execution_count": null,
   "metadata": {
    "collapsed": true
   },
   "outputs": [],
   "source": []
  }
 ],
 "metadata": {
  "kernelspec": {
   "display_name": "Python 2",
   "language": "python",
   "name": "python2"
  },
  "language_info": {
   "codemirror_mode": {
    "name": "ipython",
    "version": 2
   },
   "file_extension": ".py",
   "mimetype": "text/x-python",
   "name": "python",
   "nbconvert_exporter": "python",
   "pygments_lexer": "ipython2",
   "version": "2.7.10"
  }
 },
 "nbformat": 4,
 "nbformat_minor": 2
}
