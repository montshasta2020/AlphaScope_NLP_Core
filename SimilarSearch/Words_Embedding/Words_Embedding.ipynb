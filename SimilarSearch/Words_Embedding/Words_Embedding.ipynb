{
 "cells": [
  {
   "cell_type": "code",
   "execution_count": 1,
   "metadata": {
    "collapsed": true
   },
   "outputs": [],
   "source": [
    "from gensim.models import word2vec"
   ]
  },
  {
   "cell_type": "code",
   "execution_count": 2,
   "metadata": {
    "collapsed": true
   },
   "outputs": [],
   "source": [
    "import pandas as pd"
   ]
  },
  {
   "cell_type": "code",
   "execution_count": 3,
   "metadata": {
    "collapsed": true
   },
   "outputs": [],
   "source": [
    "df = pd.read_csv('../data/raw/solr-dsi-domain_only-04-28-2017-cleaned.csv')"
   ]
  },
  {
   "cell_type": "code",
   "execution_count": 4,
   "metadata": {},
   "outputs": [
    {
     "name": "stdout",
     "output_type": "stream",
     "text": [
      "<class 'pandas.core.frame.DataFrame'>\n",
      "RangeIndex: 524062 entries, 0 to 524061\n",
      "Data columns (total 13 columns):\n",
      "_version_    524062 non-null int64\n",
      "cache        11882 non-null object\n",
      "segment      524062 non-null int64\n",
      "digest       524062 non-null object\n",
      "tstamp       524062 non-null object\n",
      "url          524062 non-null object\n",
      "anchor       45801 non-null object\n",
      "content      524062 non-null object\n",
      "id           524062 non-null object\n",
      "title        524062 non-null object\n",
      "boost        524062 non-null float64\n",
      "domain       524062 non-null object\n",
      "title_c      518067 non-null object\n",
      "dtypes: float64(1), int64(2), object(10)\n",
      "memory usage: 52.0+ MB\n"
     ]
    }
   ],
   "source": [
    "df.info()"
   ]
  },
  {
   "cell_type": "code",
   "execution_count": 5,
   "metadata": {
    "collapsed": true
   },
   "outputs": [],
   "source": [
    "df = df.dropna(subset =['content'])"
   ]
  },
  {
   "cell_type": "code",
   "execution_count": 6,
   "metadata": {
    "collapsed": true
   },
   "outputs": [],
   "source": [
    "dsi_stop_words = ['the', 'blog', 'i', 'in', 'new', 'use', 'a', 'how', 'it', 'like', 'need', 'sign', 'for', \n",
    "                  'rss', 'videos', 'view', 'using', 'interview', 'follow', 'read', 'make', 'video',\n",
    "                  'post', 'comment', 'comments', 'subscribe', 'things', 'just', 'add', 'wise', 'know', 'upcoming', \n",
    "                  'people', 'practitioner', 'used', 'developers', 'events', 'companies', 'better', 'terms', 'time',\n",
    "                  'customer', 'conference', 'tags', 'contact', 'years', 'type', 'value', 'march', 'best', 'does',\n",
    "                 'live', 'cases', 'way', 'privacy']"
   ]
  },
  {
   "cell_type": "code",
   "execution_count": 9,
   "metadata": {},
   "outputs": [],
   "source": [
    "from sklearn.feature_extraction import stop_words\n",
    "import re\n",
    "def dsi_title_letters_removal(x):\n",
    "    #print len(x)\n",
    "    #print x\n",
    "    s = re.sub('[^a-zA-Z]+', '', x)\n",
    "    #print s\n",
    "    if(len(s) > 0):\n",
    "        s = s.strip().lower()\n",
    "        if s not in stop_words.ENGLISH_STOP_WORDS: # and s not in dsi_stop_words:\n",
    "            return s\n",
    "        else:\n",
    "            return None\n",
    "    return None"
   ]
  },
  {
   "cell_type": "code",
   "execution_count": 67,
   "metadata": {},
   "outputs": [
    {
     "data": {
      "text/plain": [
       "['organization',\n",
       " 'committee',\n",
       " 'ecmlpkdd',\n",
       " 'skip',\n",
       " 'main',\n",
       " 'content',\n",
       " 'toggle',\n",
       " 'navigation',\n",
       " 'global',\n",
       " 'info',\n",
       " 'key',\n",
       " 'dates',\n",
       " 'organization',\n",
       " 'committee',\n",
       " 'sponsorship',\n",
       " 'discovery',\n",
       " 'challenges',\n",
       " 'past',\n",
       " 'conferences',\n",
       " 'ecmlpkdd',\n",
       " 'program',\n",
       " 'preliminary',\n",
       " 'schedule',\n",
       " 'invited',\n",
       " 'speakers',\n",
       " 'workshop',\n",
       " 'list',\n",
       " 'tutorial',\n",
       " 'list',\n",
       " 'accepted',\n",
       " 'papers',\n",
       " 'submission',\n",
       " 'publication',\n",
       " 'model',\n",
       " 'journal',\n",
       " 'track',\n",
       " 'scientific',\n",
       " 'proceedings',\n",
       " 'track',\n",
       " 'industrial',\n",
       " 'proceedings',\n",
       " 'track',\n",
       " 'tutorials',\n",
       " 'workshops',\n",
       " 'nectar',\n",
       " 'track',\n",
       " 'demos',\n",
       " 'track',\n",
       " 'doctoral',\n",
       " 'consortium',\n",
       " 'copyright',\n",
       " 'form',\n",
       " 'attending',\n",
       " 'registration',\n",
       " 'venue',\n",
       " 'accommodation',\n",
       " 'porto',\n",
       " 'travel',\n",
       " 'info',\n",
       " 'summer',\n",
       " 'school',\n",
       " 'search',\n",
       " 'home',\n",
       " 'global',\n",
       " 'info',\n",
       " 'organization',\n",
       " 'committee',\n",
       " 'organization',\n",
       " 'committee',\n",
       " 'person',\n",
       " 'chairs',\n",
       " 'program',\n",
       " 'chairs',\n",
       " 'journal',\n",
       " 'track',\n",
       " 'chairs',\n",
       " 'industrial',\n",
       " 'track',\n",
       " 'chairs',\n",
       " 'local',\n",
       " 'organization',\n",
       " 'chairs',\n",
       " 'tutorial',\n",
       " 'chairs',\n",
       " 'workshop',\n",
       " 'chairs',\n",
       " 'awards',\n",
       " 'committee',\n",
       " 'chairs',\n",
       " 'nectar',\n",
       " 'track',\n",
       " 'chairs',\n",
       " 'demonstration',\n",
       " 'chairs',\n",
       " 'phd',\n",
       " 'chairs',\n",
       " 'proceedings',\n",
       " 'chairs',\n",
       " 'discovery',\n",
       " 'challenge',\n",
       " 'chairs',\n",
       " 'sponsorship',\n",
       " 'chairs',\n",
       " 'publicity',\n",
       " 'chairs',\n",
       " 'social',\n",
       " 'media',\n",
       " 'chairs',\n",
       " 'web',\n",
       " 'chairs',\n",
       " 'apply',\n",
       " 'chairs',\n",
       " 'chairsecmlpkddorg',\n",
       " 'joo',\n",
       " 'gama',\n",
       " 'homepage',\n",
       " 'university',\n",
       " 'porto',\n",
       " 'inesc',\n",
       " 'tec',\n",
       " 'alipio',\n",
       " 'jorge',\n",
       " 'homepage',\n",
       " 'university',\n",
       " 'porto',\n",
       " 'inesc',\n",
       " 'tec',\n",
       " 'program',\n",
       " 'chairs',\n",
       " 'pcchairsecmlpkddorg',\n",
       " 'annalisa',\n",
       " 'appice',\n",
       " 'homepage',\n",
       " 'university',\n",
       " 'bari',\n",
       " 'pedro',\n",
       " 'pereira',\n",
       " 'rodrigues',\n",
       " 'homepage',\n",
       " 'university',\n",
       " 'porto',\n",
       " 'vitor',\n",
       " 'santos',\n",
       " 'costa',\n",
       " 'homepage',\n",
       " 'university',\n",
       " 'porto',\n",
       " 'inesc',\n",
       " 'tec',\n",
       " 'carlos',\n",
       " 'soares',\n",
       " 'homepage',\n",
       " 'university',\n",
       " 'porto',\n",
       " 'journal',\n",
       " 'track',\n",
       " 'chairs',\n",
       " 'editorsecmlpkddorg',\n",
       " 'concha',\n",
       " 'bielza',\n",
       " 'homepage',\n",
       " 'technical',\n",
       " 'university',\n",
       " 'madrid',\n",
       " 'joo',\n",
       " 'gama',\n",
       " 'homepage',\n",
       " 'university',\n",
       " 'porto',\n",
       " 'inesc',\n",
       " 'tec',\n",
       " 'alipio',\n",
       " 'jorge',\n",
       " 'homepage',\n",
       " 'university',\n",
       " 'porto',\n",
       " 'inesc',\n",
       " 'tec',\n",
       " 'indr',\n",
       " 'liobait',\n",
       " 'homepage',\n",
       " 'aalto',\n",
       " 'university',\n",
       " 'university',\n",
       " 'helsinki',\n",
       " 'industrial',\n",
       " 'track',\n",
       " 'chairs',\n",
       " 'industrychairsecmlpkddorg',\n",
       " 'albert',\n",
       " 'bifet',\n",
       " 'homepage',\n",
       " 'huawei',\n",
       " 'noahs',\n",
       " 'ark',\n",
       " 'lab',\n",
       " 'michael',\n",
       " 'homepage',\n",
       " 'siemens',\n",
       " 'bianca',\n",
       " 'zadrozny',\n",
       " 'homepage',\n",
       " 'ibm',\n",
       " 'local',\n",
       " 'organization',\n",
       " 'chairs',\n",
       " 'localecmlpkddorg',\n",
       " 'carlos',\n",
       " 'ferreira',\n",
       " 'homepage',\n",
       " 'oporto',\n",
       " 'polytechnic',\n",
       " 'institute',\n",
       " 'inesc',\n",
       " 'tec',\n",
       " 'joo',\n",
       " 'moreira',\n",
       " 'university',\n",
       " 'porto',\n",
       " 'inesc',\n",
       " 'tec',\n",
       " 'rita',\n",
       " 'ribeiro',\n",
       " 'homepage',\n",
       " 'university',\n",
       " 'porto',\n",
       " 'inesc',\n",
       " 'tec',\n",
       " 'tutorial',\n",
       " 'chairs',\n",
       " 'tutorialsecmlpkddorg',\n",
       " 'fazel',\n",
       " 'famili',\n",
       " 'homepage',\n",
       " 'cnrc',\n",
       " 'mykola',\n",
       " 'pechenizkiy',\n",
       " 'homepage',\n",
       " 'tu',\n",
       " 'eindhoven',\n",
       " 'nikolaj',\n",
       " 'tatti',\n",
       " 'homepage',\n",
       " 'aalto',\n",
       " 'university',\n",
       " 'workshop',\n",
       " 'chairs',\n",
       " 'workshopsecmlpkddorg',\n",
       " 'stan',\n",
       " 'matwin',\n",
       " 'homepage',\n",
       " 'dalhousie',\n",
       " 'university',\n",
       " 'bernhard',\n",
       " 'pfahringer',\n",
       " 'homepage',\n",
       " 'university',\n",
       " 'waikato',\n",
       " 'luis',\n",
       " 'torgo',\n",
       " 'homepage',\n",
       " 'university',\n",
       " 'porto',\n",
       " 'inesc',\n",
       " 'tec',\n",
       " 'awards',\n",
       " 'committee',\n",
       " 'chairs',\n",
       " 'pavel',\n",
       " 'brazdil',\n",
       " 'homepage',\n",
       " 'inesc',\n",
       " 'tec',\n",
       " 'saso',\n",
       " 'dzeroski',\n",
       " 'homepage',\n",
       " 'jozef',\n",
       " 'stefan',\n",
       " 'international',\n",
       " 'postgraduate',\n",
       " 'school',\n",
       " 'hiroshi',\n",
       " 'motoda',\n",
       " 'homepage',\n",
       " 'osaka',\n",
       " 'university',\n",
       " 'michelle',\n",
       " 'sebag',\n",
       " 'homepage',\n",
       " 'universite',\n",
       " 'paris',\n",
       " 'sud',\n",
       " 'nectar',\n",
       " 'track',\n",
       " 'chairs',\n",
       " 'ricard',\n",
       " 'gavald',\n",
       " 'homepage',\n",
       " 'upc',\n",
       " 'dino',\n",
       " 'pedreschi',\n",
       " 'homepage',\n",
       " 'universita',\n",
       " 'di',\n",
       " 'pisa',\n",
       " 'demonstration',\n",
       " 'chairs',\n",
       " 'francesco',\n",
       " 'bonchi',\n",
       " 'yahoo',\n",
       " 'labs',\n",
       " 'jaime',\n",
       " 'cardoso',\n",
       " 'homepage',\n",
       " 'university',\n",
       " 'porto',\n",
       " 'inesc',\n",
       " 'tec',\n",
       " 'myra',\n",
       " 'spiliopoulou',\n",
       " 'homepage',\n",
       " 'university',\n",
       " 'magdeburg',\n",
       " 'phd',\n",
       " 'chairs',\n",
       " 'jaakko',\n",
       " 'hollmen',\n",
       " 'homepage',\n",
       " 'aalto',\n",
       " 'university',\n",
       " 'panagiotis',\n",
       " 'papapetrou',\n",
       " 'homepage',\n",
       " 'stockholm',\n",
       " 'university',\n",
       " 'proceedings',\n",
       " 'chairs',\n",
       " 'michelangelo',\n",
       " 'ceci',\n",
       " 'homepage',\n",
       " 'university',\n",
       " 'bari',\n",
       " 'paulo',\n",
       " 'cortez',\n",
       " 'homepage',\n",
       " 'university',\n",
       " 'minho',\n",
       " 'discovery',\n",
       " 'challenge',\n",
       " 'chairs',\n",
       " 'michel',\n",
       " 'ferreira',\n",
       " 'homepage',\n",
       " 'university',\n",
       " 'porto',\n",
       " 'inesc',\n",
       " 'tec',\n",
       " 'geolink',\n",
       " 'hillol',\n",
       " 'kargupta',\n",
       " 'homepage',\n",
       " 'agnik',\n",
       " 'lus',\n",
       " 'moreiramatias',\n",
       " 'homepage',\n",
       " 'nec',\n",
       " 'research',\n",
       " 'labs',\n",
       " 'joo',\n",
       " 'moreira',\n",
       " 'university',\n",
       " 'porto',\n",
       " 'inesc',\n",
       " 'tec',\n",
       " 'sponsorship',\n",
       " 'chairs',\n",
       " 'sponsorshipecmlpkddorg',\n",
       " 'albert',\n",
       " 'bifet',\n",
       " 'homepage',\n",
       " 'huawei',\n",
       " 'noahs',\n",
       " 'ark',\n",
       " 'lab',\n",
       " 'andr',\n",
       " 'carvalho',\n",
       " 'homepage',\n",
       " 'university',\n",
       " 'paulo',\n",
       " 'pedro',\n",
       " 'pereira',\n",
       " 'rodrigues',\n",
       " 'homepage',\n",
       " 'university',\n",
       " 'porto',\n",
       " 'publicity',\n",
       " 'chairs',\n",
       " 'publicityecmlpkddorg',\n",
       " 'ricardo',\n",
       " 'campos',\n",
       " 'homepage',\n",
       " 'polytechnic',\n",
       " 'institute',\n",
       " 'tomar',\n",
       " 'inesc',\n",
       " 'tec',\n",
       " 'carlos',\n",
       " 'ferreira',\n",
       " 'homepage',\n",
       " 'oporto',\n",
       " 'polytechnic',\n",
       " 'institute',\n",
       " 'inesc',\n",
       " 'tec',\n",
       " 'social',\n",
       " 'media',\n",
       " 'chairs',\n",
       " 'socialmediaecmlpkddorg',\n",
       " 'dunja',\n",
       " 'mladenic',\n",
       " 'homepage',\n",
       " 'jsi',\n",
       " 'mrcia',\n",
       " 'oliveira',\n",
       " 'homepage',\n",
       " 'university',\n",
       " 'porto',\n",
       " 'inesc',\n",
       " 'tec',\n",
       " 'web',\n",
       " 'chairs',\n",
       " 'webch']"
      ]
     },
     "execution_count": 67,
     "metadata": {},
     "output_type": "execute_result"
    }
   ],
   "source": [
    "map_content2words(df.iloc[0]['content'])"
   ]
  },
  {
   "cell_type": "code",
   "execution_count": 10,
   "metadata": {
    "collapsed": true
   },
   "outputs": [],
   "source": [
    "def map_content2words(x):\n",
    "    s = x.split()\n",
    "    #print s\n",
    "    return [dsi_title_letters_removal(item) for item in s if dsi_title_letters_removal(item) != None]"
   ]
  },
  {
   "cell_type": "code",
   "execution_count": 11,
   "metadata": {},
   "outputs": [
    {
     "data": {
      "text/plain": [
       "13.029299020767212"
      ]
     },
     "execution_count": 11,
     "metadata": {},
     "output_type": "execute_result"
    }
   ],
   "source": [
    "from time import time\n",
    "t0 = time()\n",
    "df['title_w'] = df.title.map(lambda x: map_content2words(x))\n",
    "time() - t0"
   ]
  },
  {
   "cell_type": "code",
   "execution_count": 12,
   "metadata": {},
   "outputs": [
    {
     "data": {
      "text/plain": [
       "1166.5438408851624"
      ]
     },
     "execution_count": 12,
     "metadata": {},
     "output_type": "execute_result"
    }
   ],
   "source": [
    "from time import time\n",
    "t0 = time()\n",
    "df['content_w'] = df.content.map(lambda x: map_content2words(x))\n",
    "time() - t0"
   ]
  },
  {
   "cell_type": "code",
   "execution_count": 10,
   "metadata": {},
   "outputs": [
    {
     "name": "stdout",
     "output_type": "stream",
     "text": [
      "<class 'pandas.core.frame.DataFrame'>\n",
      "Int64Index: 524062 entries, 0 to 524061\n",
      "Data columns (total 13 columns):\n",
      "_version_    524062 non-null int64\n",
      "cache        11882 non-null object\n",
      "segment      524062 non-null int64\n",
      "digest       524062 non-null object\n",
      "tstamp       524062 non-null object\n",
      "url          524062 non-null object\n",
      "anchor       45801 non-null object\n",
      "content      524062 non-null object\n",
      "id           524062 non-null object\n",
      "title        524062 non-null object\n",
      "boost        524062 non-null float64\n",
      "domain       524062 non-null object\n",
      "words        524062 non-null object\n",
      "dtypes: float64(1), int64(2), object(10)\n",
      "memory usage: 56.0+ MB\n"
     ]
    }
   ],
   "source": [
    "df.info()"
   ]
  },
  {
   "cell_type": "code",
   "execution_count": 13,
   "metadata": {
    "collapsed": true
   },
   "outputs": [],
   "source": [
    "title_w = df['title_w']\n",
    "word_w = df['content_w']\n",
    "words = title_w + word_w"
   ]
  },
  {
   "cell_type": "code",
   "execution_count": 14,
   "metadata": {
    "collapsed": true
   },
   "outputs": [],
   "source": [
    "from time import time"
   ]
  },
  {
   "cell_type": "code",
   "execution_count": 15,
   "metadata": {},
   "outputs": [
    {
     "data": {
      "text/plain": [
       "2575.600515127182"
      ]
     },
     "execution_count": 15,
     "metadata": {},
     "output_type": "execute_result"
    }
   ],
   "source": [
    "t0 = time()\n",
    "model = word2vec.Word2Vec(words, size=250, hs=1)\n",
    "time() - t0"
   ]
  },
  {
   "cell_type": "code",
   "execution_count": 17,
   "metadata": {},
   "outputs": [],
   "source": [
    "model.save(\"dsi_model_v5.bin\")\n",
    "#model = word2vec.Word2Vec.load('dsi_model_format_v2.bin')"
   ]
  },
  {
   "cell_type": "code",
   "execution_count": 18,
   "metadata": {
    "collapsed": true
   },
   "outputs": [],
   "source": [
    "model.wv.save_word2vec_format('dsi_model_format_v5.bin')\n",
    "\n",
    "#from gensim.models import Word2Vec, KeyedVectors\n",
    "#model = KeyedVectors.load_word2vec_format('../Words_Embedding/dsi_model_format_v1.bin', binary=True)"
   ]
  },
  {
   "cell_type": "code",
   "execution_count": 23,
   "metadata": {
    "collapsed": true
   },
   "outputs": [],
   "source": [
    "from gensim.models import Word2Vec, KeyedVectors\n",
    "model2 = KeyedVectors.load_word2vec_format('../Words_Embedding/dsi_model_format_v4.bin', binary=True)"
   ]
  },
  {
   "cell_type": "code",
   "execution_count": 31,
   "metadata": {
    "collapsed": true
   },
   "outputs": [],
   "source": [
    "if 'science' in model2.vocab:\n",
    "    print 'found it'"
   ]
  },
  {
   "cell_type": "code",
   "execution_count": 32,
   "metadata": {},
   "outputs": [
    {
     "name": "stdout",
     "output_type": "stream",
     "text": [
      "found it\n"
     ]
    }
   ],
   "source": [
    "if 'science' in model.wv.vocab:\n",
    "    print 'found it'"
   ]
  },
  {
   "cell_type": "code",
   "execution_count": 27,
   "metadata": {
    "collapsed": true
   },
   "outputs": [],
   "source": [
    "model3 = word2vec.Word2Vec.load('dsi_model_v2.bin')"
   ]
  },
  {
   "cell_type": "code",
   "execution_count": 19,
   "metadata": {
    "collapsed": true
   },
   "outputs": [],
   "source": [
    "res = model.most_similar('analyst',topn = 100)"
   ]
  },
  {
   "cell_type": "code",
   "execution_count": 20,
   "metadata": {},
   "outputs": [
    {
     "name": "stdout",
     "output_type": "stream",
     "text": [
      "consultant 0.561897516251\n",
      "analysts 0.547333776951\n",
      "scientist 0.530964612961\n",
      "senior 0.503260552883\n",
      "specialist 0.462088912725\n",
      "manager 0.459483802319\n",
      "sr 0.455553233624\n",
      "consultantmanager 0.454231858253\n",
      "consulting 0.448589742184\n",
      "engineer 0.447730690241\n",
      "analytics 0.440532177687\n",
      "expert 0.434696137905\n",
      "architect 0.434682279825\n",
      "modelersenior 0.42735761404\n",
      "director 0.417966097593\n",
      "forrester 0.416917920113\n",
      "statistician 0.416605740786\n",
      "strategist 0.414440482855\n",
      "gartner 0.409624248743\n",
      "actuary 0.403312206268\n",
      "researcher 0.397170811892\n",
      "developer 0.397039532661\n",
      "technologist 0.394302219152\n",
      "modeler 0.387651234865\n",
      "marketer 0.387158095837\n",
      "vp 0.386842906475\n",
      "advisor 0.386717766523\n",
      "administrativeassistant 0.386606991291\n",
      "svp 0.376260757446\n",
      "pricewaterhousecoopers 0.374213129282\n",
      "avp 0.374102324247\n",
      "professionalsfrom 0.373046368361\n",
      "errorhits 0.370910733938\n",
      "intelligencestudents 0.363914638758\n",
      "executives 0.361212491989\n",
      "programmer 0.358302205801\n",
      "deloitte 0.357511281967\n",
      "sogetis 0.356489658356\n",
      "officer 0.355938315392\n",
      "rjmetrics 0.353372126818\n",
      "quant 0.351347833872\n",
      "thefibrechannelcom 0.347698688507\n",
      "cfo 0.347001641989\n",
      "consultants 0.346754461527\n",
      "harwinder 0.346209228039\n",
      "econometrician 0.345641940832\n",
      "modelerdata 0.345186710358\n",
      "ovum 0.343591243029\n",
      "usertype 0.343588680029\n",
      "analytst 0.341966569424\n",
      "leader 0.341616034508\n",
      "accountant 0.341250896454\n",
      "mgr 0.340112358332\n",
      "firm 0.340055525303\n",
      "dimensionalize 0.33993306756\n",
      "affiancamento 0.338639974594\n",
      "researchcompanies 0.336815416813\n",
      "modeller 0.336735337973\n",
      "jupiterresearch 0.336508482695\n",
      "integrator 0.335863679647\n",
      "management 0.335060030222\n",
      "cdo 0.334297984838\n",
      "generalist 0.334003090858\n",
      "celent 0.333925157785\n",
      "bi 0.332213670015\n",
      "architectdata 0.332123607397\n",
      "ceb 0.331864416599\n",
      "forresters 0.331157684326\n",
      "intelligence 0.331112831831\n",
      "idcs 0.330721855164\n",
      "businessdata 0.330528557301\n",
      "collica 0.330231428146\n",
      "quotdo 0.328919529915\n",
      "modelers 0.328776866198\n",
      "engineanyone 0.328147530556\n",
      "cfib 0.325350016356\n",
      "principal 0.324344605207\n",
      "idc 0.324197053909\n",
      "marketing 0.324172616005\n",
      "researchs 0.323924213648\n",
      "mckinseys 0.323869854212\n",
      "innovator 0.321638226509\n",
      "katanguri 0.321189761162\n",
      "roles 0.321123570204\n",
      "quantitative 0.319627046585\n",
      "forrestercomgoobjectidre 0.319508314133\n",
      "telecommute 0.319217175245\n",
      "clevel 0.318173706532\n",
      "suggestedjobs 0.318124860525\n",
      "quantitiative 0.317853301764\n",
      "executivelevel 0.317584097385\n",
      "kratchounova 0.317535698414\n",
      "vice 0.317218929529\n",
      "netapps 0.316630542278\n",
      "scientistproduct 0.315797954798\n",
      "advertisingpublic 0.315612375736\n",
      "akronym 0.315093636513\n",
      "chief 0.314962714911\n",
      "estimize 0.314208745956\n",
      "securosis 0.313785433769\n"
     ]
    }
   ],
   "source": [
    "for t in res:\n",
    "    print t[0], t[1]"
   ]
  },
  {
   "cell_type": "code",
   "execution_count": null,
   "metadata": {
    "collapsed": true
   },
   "outputs": [],
   "source": []
  }
 ],
 "metadata": {
  "kernelspec": {
   "display_name": "Python 2",
   "language": "python",
   "name": "python2"
  },
  "language_info": {
   "codemirror_mode": {
    "name": "ipython",
    "version": 2
   },
   "file_extension": ".py",
   "mimetype": "text/x-python",
   "name": "python",
   "nbconvert_exporter": "python",
   "pygments_lexer": "ipython2",
   "version": "2.7.10"
  }
 },
 "nbformat": 4,
 "nbformat_minor": 2
}
