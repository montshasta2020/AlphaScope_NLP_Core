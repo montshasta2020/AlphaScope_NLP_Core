{
 "cells": [
  {
   "cell_type": "code",
   "execution_count": null,
   "metadata": {
    "collapsed": true
   },
   "outputs": [],
   "source": [
    "#https://pypi.python.org/pypi/fasttext"
   ]
  },
  {
   "cell_type": "code",
   "execution_count": 4,
   "metadata": {},
   "outputs": [],
   "source": [
    "import fasttext"
   ]
  },
  {
   "cell_type": "code",
   "execution_count": 5,
   "metadata": {
    "collapsed": true
   },
   "outputs": [],
   "source": [
    "import pandas as pd"
   ]
  },
  {
   "cell_type": "code",
   "execution_count": 6,
   "metadata": {},
   "outputs": [],
   "source": [
    "#df = pd.read_csv('../data/solr-dsi-domain_only-04-05-2017-cleaned.csv')\n",
    "df = pd.read_csv('../data/raw/solr-dsi-domain_only-04-28-2017-cleaned.csv')"
   ]
  },
  {
   "cell_type": "code",
   "execution_count": 7,
   "metadata": {},
   "outputs": [
    {
     "name": "stdout",
     "output_type": "stream",
     "text": [
      "<class 'pandas.core.frame.DataFrame'>\n",
      "RangeIndex: 524062 entries, 0 to 524061\n",
      "Data columns (total 12 columns):\n",
      "_version_    524062 non-null int64\n",
      "cache        11882 non-null object\n",
      "segment      524062 non-null int64\n",
      "digest       524062 non-null object\n",
      "tstamp       524062 non-null object\n",
      "url          524062 non-null object\n",
      "anchor       45801 non-null object\n",
      "content      524062 non-null object\n",
      "id           524062 non-null object\n",
      "title        524062 non-null object\n",
      "boost        524062 non-null float64\n",
      "domain       524062 non-null object\n",
      "dtypes: float64(1), int64(2), object(9)\n",
      "memory usage: 48.0+ MB\n"
     ]
    }
   ],
   "source": [
    "df.info()"
   ]
  },
  {
   "cell_type": "code",
   "execution_count": 8,
   "metadata": {
    "collapsed": true
   },
   "outputs": [],
   "source": [
    "df = df.dropna(subset =['content'])"
   ]
  },
  {
   "cell_type": "markdown",
   "metadata": {
    "collapsed": true
   },
   "source": [
    "dsi_stop_words = ['the', 'blog', 'i', 'in', 'new', 'use', 'a', 'how', 'it', 'like', 'need', 'sign', 'for', \n",
    "                  'rss', 'videos', 'view', 'using', 'interview', 'follow', 'read', 'make', 'video',\n",
    "                  'post', 'comment', 'comments', 'subscribe', 'things', 'just', 'add', 'wise', 'know', 'upcoming', \n",
    "                  'people', 'practitioner', 'used', 'developers', 'events', 'companies', 'better', 'terms', 'time',\n",
    "                  'customer', 'conference', 'tags', 'contact', 'years', 'type', 'value', 'march', 'best', 'does',\n",
    "                 'live', 'cases', 'way', 'privacy']"
   ]
  },
  {
   "cell_type": "code",
   "execution_count": 12,
   "metadata": {
    "collapsed": true
   },
   "outputs": [],
   "source": [
    "from sklearn.feature_extraction import stop_words\n",
    "import re\n",
    "def non_ascii_removal(x):\n",
    "    #print len(x)\n",
    "    #print x\n",
    "    s = re.sub('[^a-zA-Z]+', '', x)\n",
    "    #print s\n",
    "    if(len(s) > 0):\n",
    "        s = s.strip().lower()\n",
    "        if s not in stop_words.ENGLISH_STOP_WORDS:\n",
    "            return s\n",
    "        else:\n",
    "            return None\n",
    "    return None"
   ]
  },
  {
   "cell_type": "code",
   "execution_count": 10,
   "metadata": {
    "collapsed": true
   },
   "outputs": [],
   "source": [
    "from time import time"
   ]
  },
  {
   "cell_type": "code",
   "execution_count": 11,
   "metadata": {
    "collapsed": true
   },
   "outputs": [],
   "source": [
    "doc_df = df[['content']]"
   ]
  },
  {
   "cell_type": "code",
   "execution_count": 13,
   "metadata": {},
   "outputs": [
    {
     "name": "stdout",
     "output_type": "stream",
     "text": [
      "<class 'pandas.core.frame.DataFrame'>\n",
      "Int64Index: 524062 entries, 0 to 524061\n",
      "Data columns (total 1 columns):\n",
      "content    524062 non-null object\n",
      "dtypes: object(1)\n",
      "memory usage: 8.0+ MB\n"
     ]
    }
   ],
   "source": [
    "doc_df.info()"
   ]
  },
  {
   "cell_type": "markdown",
   "metadata": {},
   "source": [
    "df_out = doc_df[:1000]\n",
    "#df_out['content_seg'] = df_out['content_seg'].str.lower()"
   ]
  },
  {
   "cell_type": "code",
   "execution_count": 14,
   "metadata": {
    "collapsed": true
   },
   "outputs": [],
   "source": [
    "doc_df.to_csv(r'docs.txt', header=None, index=None, encoding='utf-8', sep='\\n', mode='a')"
   ]
  },
  {
   "cell_type": "code",
   "execution_count": 15,
   "metadata": {
    "collapsed": true
   },
   "outputs": [],
   "source": [
    "from time import time"
   ]
  },
  {
   "cell_type": "code",
   "execution_count": 16,
   "metadata": {},
   "outputs": [
    {
     "data": {
      "text/plain": [
       "16492.667560100555"
      ]
     },
     "execution_count": 16,
     "metadata": {},
     "output_type": "execute_result"
    }
   ],
   "source": [
    "t0 = time()\n",
    "# Skipgram model\n",
    "model_sk = fasttext.skipgram('docs.txt', 'model_sk')\n",
    "#print model.words # list of words in dictionary\n",
    "time() - t0"
   ]
  },
  {
   "cell_type": "code",
   "execution_count": 17,
   "metadata": {},
   "outputs": [
    {
     "data": {
      "text/plain": [
       "11457.6148519516"
      ]
     },
     "execution_count": 17,
     "metadata": {},
     "output_type": "execute_result"
    }
   ],
   "source": [
    "t0 = time()\n",
    "# CBOW model\n",
    "model_cbow = fasttext.cbow('docs.txt', 'model_cb')\n",
    "#print model.words # list of words in dictionary\n",
    "time() - t0"
   ]
  },
  {
   "cell_type": "code",
   "execution_count": null,
   "metadata": {
    "collapsed": true
   },
   "outputs": [],
   "source": []
  }
 ],
 "metadata": {
  "kernelspec": {
   "display_name": "Python 2",
   "language": "python",
   "name": "python2"
  },
  "language_info": {
   "codemirror_mode": {
    "name": "ipython",
    "version": 2
   },
   "file_extension": ".py",
   "mimetype": "text/x-python",
   "name": "python",
   "nbconvert_exporter": "python",
   "pygments_lexer": "ipython2",
   "version": "2.7.10"
  }
 },
 "nbformat": 4,
 "nbformat_minor": 2
}
