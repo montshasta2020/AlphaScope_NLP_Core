{
 "cells": [
  {
   "cell_type": "code",
   "execution_count": null,
   "metadata": {
    "collapsed": true
   },
   "outputs": [],
   "source": [
    "#https://pypi.python.org/pypi/fasttext"
   ]
  },
  {
   "cell_type": "code",
   "execution_count": 1,
   "metadata": {
    "collapsed": true
   },
   "outputs": [],
   "source": [
    "import fasttext"
   ]
  },
  {
   "cell_type": "code",
   "execution_count": 2,
   "metadata": {
    "collapsed": true
   },
   "outputs": [],
   "source": [
    "import pandas as pd"
   ]
  },
  {
   "cell_type": "code",
   "execution_count": 4,
   "metadata": {},
   "outputs": [],
   "source": [
    "df = pd.read_csv('../data/final/huizhou-final-v2.csv')"
   ]
  },
  {
   "cell_type": "code",
   "execution_count": 9,
   "metadata": {},
   "outputs": [
    {
     "name": "stdout",
     "output_type": "stream",
     "text": [
      "<class 'pandas.core.frame.DataFrame'>\n",
      "Int64Index: 85361 entries, 0 to 169085\n",
      "Data columns (total 5 columns):\n",
      "url            85361 non-null object\n",
      "domain         85361 non-null object\n",
      "title          85361 non-null object\n",
      "content        85361 non-null object\n",
      "content_seg    85361 non-null object\n",
      "dtypes: object(5)\n",
      "memory usage: 3.9+ MB\n"
     ]
    }
   ],
   "source": [
    "df.info()"
   ]
  },
  {
   "cell_type": "code",
   "execution_count": 6,
   "metadata": {},
   "outputs": [
    {
     "name": "stderr",
     "output_type": "stream",
     "text": [
      "No handlers could be found for logger \"tldextract\"\n"
     ]
    }
   ],
   "source": [
    "import tldextract\n",
    "df['domain']  = df.url.map(lambda x:tldextract.extract(x).domain + str('.') + tldextract.extract(x).suffix)"
   ]
  },
  {
   "cell_type": "code",
   "execution_count": 7,
   "metadata": {
    "collapsed": true
   },
   "outputs": [],
   "source": [
    "df = df[df['domain'] != 'huaxia.com']"
   ]
  },
  {
   "cell_type": "code",
   "execution_count": 8,
   "metadata": {
    "collapsed": true
   },
   "outputs": [],
   "source": [
    "df = df.dropna(subset =['content'])"
   ]
  },
  {
   "cell_type": "code",
   "execution_count": 10,
   "metadata": {
    "collapsed": true
   },
   "outputs": [],
   "source": [
    "dsi_stop_words = ['the', 'blog', 'i', 'in', 'new', 'use', 'a', 'how', 'it', 'like', 'need', 'sign', 'for', \n",
    "                  'rss', 'videos', 'view', 'using', 'interview', 'follow', 'read', 'make', 'video',\n",
    "                  'post', 'comment', 'comments', 'subscribe', 'things', 'just', 'add', 'wise', 'know', 'upcoming', \n",
    "                  'people', 'practitioner', 'used', 'developers', 'events', 'companies', 'better', 'terms', 'time',\n",
    "                  'customer', 'conference', 'tags', 'contact', 'years', 'type', 'value', 'march', 'best', 'does',\n",
    "                 'live', 'cases', 'way', 'privacy']"
   ]
  },
  {
   "cell_type": "code",
   "execution_count": 11,
   "metadata": {
    "collapsed": true
   },
   "outputs": [],
   "source": [
    "from sklearn.feature_extraction import stop_words\n",
    "import re\n",
    "def dsi_title_letters_removal(x):\n",
    "    #print len(x)\n",
    "    #print x\n",
    "    s = re.sub('[^a-zA-Z]+', '', x)\n",
    "    #print s\n",
    "    if(len(s) > 0):\n",
    "        s = s.strip().lower()\n",
    "        if s not in stop_words.ENGLISH_STOP_WORDS and s not in dsi_stop_words:\n",
    "            return s\n",
    "        else:\n",
    "            return None\n",
    "    return None"
   ]
  },
  {
   "cell_type": "code",
   "execution_count": 12,
   "metadata": {
    "collapsed": true
   },
   "outputs": [],
   "source": [
    "def map_content2words(x):\n",
    "    s = x.split()\n",
    "    #print s\n",
    "    return [dsi_title_letters_removal(item) for item in s if dsi_title_letters_removal(item) != None]"
   ]
  },
  {
   "cell_type": "code",
   "execution_count": 13,
   "metadata": {
    "collapsed": true
   },
   "outputs": [],
   "source": [
    "doc_df = df[['content_seg']]"
   ]
  },
  {
   "cell_type": "code",
   "execution_count": 14,
   "metadata": {},
   "outputs": [
    {
     "name": "stdout",
     "output_type": "stream",
     "text": [
      "<class 'pandas.core.frame.DataFrame'>\n",
      "Int64Index: 85361 entries, 0 to 169085\n",
      "Data columns (total 1 columns):\n",
      "content_seg    85361 non-null object\n",
      "dtypes: object(1)\n",
      "memory usage: 1.3+ MB\n"
     ]
    }
   ],
   "source": [
    "doc_df.info()"
   ]
  },
  {
   "cell_type": "code",
   "execution_count": 15,
   "metadata": {
    "collapsed": true
   },
   "outputs": [],
   "source": [
    "df_out = doc_df   #[:1000]\n",
    "#df_out['content_seg'] = df_out['content_seg'].str.lower()"
   ]
  },
  {
   "cell_type": "code",
   "execution_count": 16,
   "metadata": {
    "collapsed": true
   },
   "outputs": [],
   "source": [
    "df_out.to_csv(r'docs3.txt', header=None, index=None, encoding='utf-8', sep='\\n', mode='a')"
   ]
  },
  {
   "cell_type": "code",
   "execution_count": 4,
   "metadata": {
    "collapsed": true
   },
   "outputs": [],
   "source": [
    "from time import time"
   ]
  },
  {
   "cell_type": "code",
   "execution_count": 5,
   "metadata": {},
   "outputs": [
    {
     "data": {
      "text/plain": [
       "915.0696079730988"
      ]
     },
     "execution_count": 5,
     "metadata": {},
     "output_type": "execute_result"
    }
   ],
   "source": [
    "t0 = time()\n",
    "# Skipgram model\n",
    "model_sk = fasttext.skipgram('docs3.txt', 'sk_hz_model')\n",
    "#print model.words # list of words in dictionary\n",
    "time() - t0"
   ]
  },
  {
   "cell_type": "code",
   "execution_count": 21,
   "metadata": {},
   "outputs": [
    {
     "data": {
      "text/plain": [
       "234472"
      ]
     },
     "execution_count": 21,
     "metadata": {},
     "output_type": "execute_result"
    }
   ],
   "source": [
    "len(model_sk.words)"
   ]
  },
  {
   "cell_type": "code",
   "execution_count": null,
   "metadata": {
    "collapsed": true
   },
   "outputs": [],
   "source": []
  },
  {
   "cell_type": "code",
   "execution_count": 40,
   "metadata": {},
   "outputs": [
    {
     "name": "stdout",
     "output_type": "stream",
     "text": [
      "\"\n",
      "\"歙县论坛www.shexianbbs.com官方微信，发送活动及论坛主要信息的平台，及时了解论坛的动态。请大家积极关注！\n",
      "\"热门的旅游景点、精彩的游记攻略、美味的美食小吃、还有住宿、交通资讯，囊括大徽州全面的吃住行游购娱信息。\n",
      "\"徽州大论坛以继承和弘扬徽州文化为己任，以促进徽州乡友交流沟通为目标，为古徽州地区以及泛徽州文化圈的海内外网民创造一个平等，开放和自由的精神家园。\n",
      "徽商经营行业以盐、典当、茶木为最著，其次为米、谷、棉布、丝绸、纸、墨、瓷器等。其中婺源人多茶、木商，歙县人多盐商，绩溪人多菜馆业，休宁人多典当商，祁门、黟县人以经营布匹、杂货为多。\n",
      "\"弘扬徽州传统文化，分享徽州人文，徽商，艺术，徽派建筑民居古村落；自由行走，独立思考：揭示徽州传统文化延绵至今的内在力量。\n",
      "\"本公众号（原名屏风山）由省作协会员、高级经济师、徽文化研究学者屏风等人打造，旨在用探索的精神破解徽州之谜，用独特的视觉弘扬徽州文化，用平实的文风贴近微文受众。\n",
      "\"我是潘成，安徽日报驻皖南片摄影记者，安徽日报黄山记者站副站长，安徽省摄影家协会副主席，黄山市摄影家协会主席。我将以专业摄影记者的眼光和视角去反映皖南地区独特的风光，民俗和新闻事件。欢迎提供线索。\n",
      "</s>\n"
     ]
    }
   ],
   "source": [
    "for t in model_sk.words:\n",
    "    print t"
   ]
  },
  {
   "cell_type": "code",
   "execution_count": 6,
   "metadata": {},
   "outputs": [
    {
     "data": {
      "text/plain": [
       "405.34811210632324"
      ]
     },
     "execution_count": 6,
     "metadata": {},
     "output_type": "execute_result"
    }
   ],
   "source": [
    "t0 = time()\n",
    "# CBOW model\n",
    "model_cbow = fasttext.cbow('docs3.txt', 'cb_hz_model')\n",
    "#print model.words # list of words in dictionary\n",
    "time() - t0"
   ]
  },
  {
   "cell_type": "code",
   "execution_count": 26,
   "metadata": {},
   "outputs": [
    {
     "data": {
      "text/plain": [
       "234472"
      ]
     },
     "execution_count": 26,
     "metadata": {},
     "output_type": "execute_result"
    }
   ],
   "source": [
    "len(model_cbow.words)"
   ]
  },
  {
   "cell_type": "code",
   "execution_count": null,
   "metadata": {
    "collapsed": true
   },
   "outputs": [],
   "source": []
  }
 ],
 "metadata": {
  "kernelspec": {
   "display_name": "Python 2",
   "language": "python",
   "name": "python2"
  },
  "language_info": {
   "codemirror_mode": {
    "name": "ipython",
    "version": 2
   },
   "file_extension": ".py",
   "mimetype": "text/x-python",
   "name": "python",
   "nbconvert_exporter": "python",
   "pygments_lexer": "ipython2",
   "version": "2.7.10"
  }
 },
 "nbformat": 4,
 "nbformat_minor": 2
}
