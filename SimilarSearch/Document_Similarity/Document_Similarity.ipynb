{
 "cells": [
  {
   "cell_type": "code",
   "execution_count": 1,
   "metadata": {
    "collapsed": true
   },
   "outputs": [],
   "source": [
    "import pandas as pd\n",
    "import numpy as np\n",
    "from collections import Counter"
   ]
  },
  {
   "cell_type": "code",
   "execution_count": 2,
   "metadata": {
    "collapsed": true
   },
   "outputs": [],
   "source": [
    "from time import time"
   ]
  },
  {
   "cell_type": "code",
   "execution_count": 3,
   "metadata": {},
   "outputs": [],
   "source": [
    "df = pd.read_csv('../data/clean/Solr_dsi_final_v1_words.csv')"
   ]
  },
  {
   "cell_type": "code",
   "execution_count": 4,
   "metadata": {
    "collapsed": true
   },
   "outputs": [],
   "source": [
    "df = df.dropna(subset =['content'])"
   ]
  },
  {
   "cell_type": "code",
   "execution_count": 5,
   "metadata": {},
   "outputs": [
    {
     "name": "stdout",
     "output_type": "stream",
     "text": [
      "<class 'pandas.core.frame.DataFrame'>\n",
      "Int64Index: 87458 entries, 0 to 87457\n",
      "Data columns (total 13 columns):\n",
      "Unnamed: 0    87458 non-null int64\n",
      "_version_     87458 non-null int64\n",
      "cache         952 non-null object\n",
      "segment       87458 non-null int64\n",
      "digest        87458 non-null object\n",
      "tstamp        87458 non-null object\n",
      "url           87458 non-null object\n",
      "anchor        20496 non-null object\n",
      "content       87458 non-null object\n",
      "id            87458 non-null object\n",
      "title         86449 non-null object\n",
      "boost         87458 non-null float64\n",
      "words         87458 non-null object\n",
      "dtypes: float64(1), int64(3), object(9)\n",
      "memory usage: 9.3+ MB\n"
     ]
    }
   ],
   "source": [
    "df.info()"
   ]
  },
  {
   "cell_type": "code",
   "execution_count": 6,
   "metadata": {
    "collapsed": true
   },
   "outputs": [],
   "source": [
    "dsi_stop_words = ['the', 'blog', 'i', 'in', 'new', 'use', 'a', 'how', 'it', 'like', 'need', 'sign', 'for', \n",
    "                  'rss', 'videos', 'view', 'using', 'interview', 'follow', 'read', 'make', 'video',\n",
    "                  'post', 'comment', 'comments', 'subscribe', 'things', 'just', 'add', 'wise', 'know', 'upcoming', \n",
    "                  'people', 'practitioner', 'used', 'developers', 'events', 'companies', 'better', 'terms', 'time',\n",
    "                  'customer', 'conference', 'tags', 'contact', 'years', 'type', 'value', 'march', 'best', 'does',\n",
    "                 'live', 'cases', 'way', 'privacy']"
   ]
  },
  {
   "cell_type": "code",
   "execution_count": 7,
   "metadata": {
    "collapsed": true
   },
   "outputs": [],
   "source": [
    "from sklearn.datasets import fetch_20newsgroups\n",
    "\n",
    "from nltk import word_tokenize\n",
    "from nltk import download\n",
    "from nltk.corpus import stopwords"
   ]
  },
  {
   "cell_type": "code",
   "execution_count": 8,
   "metadata": {
    "collapsed": true
   },
   "outputs": [],
   "source": [
    "stop_words = stopwords.words('english')"
   ]
  },
  {
   "cell_type": "code",
   "execution_count": 13,
   "metadata": {
    "collapsed": true
   },
   "outputs": [],
   "source": [
    "import re\n",
    "def preprocess(text):\n",
    "    s = text.split()\n",
    "    text_s = [re.sub('[^a-zA-Z]+', '', t) for t in s]\n",
    "    text = ' '.join(text_s)\n",
    "    text = text.lower()\n",
    "    #print len(text), text\n",
    "    doc = word_tokenize(text)\n",
    "    doc = [word for word in doc if word not in stop_words]\n",
    "    doc = [word for word in doc if word.isalpha()]\n",
    "    return doc"
   ]
  },
  {
   "cell_type": "code",
   "execution_count": 10,
   "metadata": {
    "collapsed": true
   },
   "outputs": [],
   "source": [
    "#samples = df[:100]\n",
    "texts = df['content']"
   ]
  },
  {
   "cell_type": "code",
   "execution_count": 11,
   "metadata": {
    "collapsed": true
   },
   "outputs": [],
   "source": [
    "y = np.zeros(len(texts))"
   ]
  },
  {
   "cell_type": "code",
   "execution_count": 14,
   "metadata": {},
   "outputs": [],
   "source": [
    "corpus = [preprocess(text) for text in texts]"
   ]
  },
  {
   "cell_type": "code",
   "execution_count": 49,
   "metadata": {
    "collapsed": true
   },
   "outputs": [],
   "source": [
    "import json\n",
    "with open('dsi_corpus.json', 'w') as fp:\n",
    "    json.dump(corpus, fp)"
   ]
  },
  {
   "cell_type": "code",
   "execution_count": 15,
   "metadata": {},
   "outputs": [],
   "source": [
    "def filter_docs(corpus, texts, labels, condition_on_doc):\n",
    "    \"\"\"\n",
    "    Filter corpus, texts and labels given the function condition_on_doc which takes\n",
    "    a doc.\n",
    "    The document doc is kept if condition_on_doc(doc) is true.\n",
    "    \"\"\"\n",
    "    number_of_docs = len(corpus)\n",
    "\n",
    "    if texts is not None:\n",
    "        texts = [text for (text, doc) in zip(texts, corpus)\n",
    "                 if condition_on_doc(doc)]\n",
    "\n",
    "    labels = [i for (i, doc) in zip(labels, corpus) if condition_on_doc(doc)]\n",
    "    corpus = [doc for doc in corpus if condition_on_doc(doc)]\n",
    "\n",
    "    print(\"{} docs removed\".format(number_of_docs - len(corpus)))\n",
    "\n",
    "    return (corpus, texts, labels)"
   ]
  },
  {
   "cell_type": "code",
   "execution_count": 16,
   "metadata": {},
   "outputs": [
    {
     "name": "stdout",
     "output_type": "stream",
     "text": [
      "32 docs removed\n"
     ]
    }
   ],
   "source": [
    "corpus, texts, y = filter_docs(corpus, texts, y, lambda doc: (len(doc) != 0))"
   ]
  },
  {
   "cell_type": "code",
   "execution_count": 24,
   "metadata": {
    "collapsed": true
   },
   "outputs": [],
   "source": [
    "sims = {'dsi': {}}"
   ]
  },
  {
   "cell_type": "code",
   "execution_count": null,
   "metadata": {
    "collapsed": true
   },
   "outputs": [],
   "source": [
    "#First method: Latent Semantic Indexing"
   ]
  },
  {
   "cell_type": "code",
   "execution_count": null,
   "metadata": {
    "collapsed": true
   },
   "outputs": [],
   "source": [
    "import numpy as np\n",
    "from gensim import corpora\n",
    "from gensim.models import TfidfModel\n",
    "from gensim.models import LsiModel\n",
    "from gensim.similarities import MatrixSimilarity\n",
    "\n",
    "t0 =time()\n",
    "dictionary = corpora.Dictionary(corpus)\n",
    "corpus_gensim = [dictionary.doc2bow(doc) for doc in corpus]\n",
    "tfidf = TfidfModel(corpus_gensim)\n",
    "corpus_tfidf = tfidf[corpus_gensim]\n",
    "lsi = LsiModel(corpus_tfidf, id2word=dictionary, num_topics=200)\n",
    "lsi_index = MatrixSimilarity(lsi[corpus_tfidf])\n",
    "sims['dsi']['LSI'] = np.array([lsi_index[lsi[corpus_tfidf[i]]]\n",
    "                                for i in range(len(corpus))])\n",
    "time() - t0"
   ]
  },
  {
   "cell_type": "code",
   "execution_count": null,
   "metadata": {
    "collapsed": true
   },
   "outputs": [],
   "source": []
  },
  {
   "cell_type": "code",
   "execution_count": null,
   "metadata": {
    "collapsed": true
   },
   "outputs": [],
   "source": [
    "#Second method: centroid of the word vectors"
   ]
  },
  {
   "cell_type": "code",
   "execution_count": 17,
   "metadata": {},
   "outputs": [],
   "source": [
    "from gensim.models import Word2Vec, KeyedVectors\n",
    "word2vec_model = KeyedVectors.load_word2vec_format('../Words_Embedding/dsi_model_format_v1.bin', binary=True)\n",
    "#word2vec_model = Word2Vec.load_word2vec_format(filename, binary=True)"
   ]
  },
  {
   "cell_type": "code",
   "execution_count": 104,
   "metadata": {},
   "outputs": [
    {
     "data": {
      "text/plain": [
       "array([  4.24171844e-08,   1.74701971e-04,   4.05572109e-08,\n",
       "         1.07802842e-08,   4.00463586e-11,   1.76642905e-04,\n",
       "         9.10765213e-12,   2.68017786e-09,   2.64071787e-06,\n",
       "         4.00578459e-11,   1.65965361e-07,   9.10565026e-12,\n",
       "         1.06042979e-08,   6.74993601e-07,   6.33692210e-10,\n",
       "         6.41068698e-10,   4.00463655e-11,   1.70887273e-04,\n",
       "         5.82776050e-10,   1.72484505e-07,   1.50097570e-19,\n",
       "         4.05563476e-08,   1.07213936e-08,   4.00463829e-11,\n",
       "         2.57859956e-09,   5.82860982e-10,   6.70172251e-10,\n",
       "         1.52632103e-19,   4.10202006e-08,   1.04303579e-08,\n",
       "         4.00578459e-11,   1.74705638e-04,   2.33138686e-09,\n",
       "         2.63669220e-09,   1.49253859e-19,   6.33721353e-10,\n",
       "         2.70032297e-06,   6.29827801e-10,   2.66573918e-09,\n",
       "         1.50947964e-19,   6.82400241e-07,   6.75081083e-07,\n",
       "         4.02852196e-11,   1.05628715e-05,   9.10720197e-12,\n",
       "         1.73740787e-04,   4.36820046e-05,   4.00578459e-11,\n",
       "         4.39195028e-05,   2.33144526e-09,   6.40997366e-10,\n",
       "         1.50947899e-19,   4.05563476e-08,   4.39157775e-05,\n",
       "         2.51931098e-09,   6.75109618e-07,   1.56860547e-19,\n",
       "         2.62529306e-06,   2.66591060e-09,   4.02852196e-11,\n",
       "         1.07407559e-05,   9.10675788e-12,   1.02550510e-08,\n",
       "         1.07421592e-05,   4.05572109e-08,   1.08604327e-05,\n",
       "         4.05011094e-11,   4.10284180e-08,   5.82875470e-10,\n",
       "         2.75969387e-06,   1.49260399e-19,   1.66122525e-04,\n",
       "         2.66585354e-09,   6.29828245e-10,   1.68748301e-07,\n",
       "         1.49257116e-19,   6.48901562e-07,   4.24917816e-05,\n",
       "         4.00463690e-11,   2.71505041e-06,   9.10609609e-12,\n",
       "         4.24815225e-05,   2.69997395e-06,   2.53482568e-09,\n",
       "         6.66548927e-10,   6.29828079e-10,   2.62225397e-09,\n",
       "         1.51808128e-19,   4.15297000e-05,   6.82487723e-07,\n",
       "         4.02737531e-11,   1.05037343e-05,   9.10765213e-12,\n",
       "         2.60741850e-09,   4.10265955e-08,   4.02852196e-11,\n",
       "         6.78806430e-07,   5.82790149e-10,   4.12575716e-08,\n",
       "         1.53479136e-19,   1.07395908e-05,   4.20149372e-05,\n",
       "         2.53488253e-09,   1.74728048e-04,   6.29827746e-10,\n",
       "         4.32060842e-05,   1.50934729e-19,   2.53482857e-09,\n",
       "         1.71567834e-07,   4.00463863e-11,   4.10256717e-08,\n",
       "         9.10742662e-12,   6.74949661e-07,   4.28919549e-08,\n",
       "         4.00578459e-11,   1.09193434e-05,   2.33132980e-09,\n",
       "         2.69507039e-09,   1.52638630e-19,   1.03824250e-05,\n",
       "         1.07409915e-05,   1.00772457e-08,   6.48330167e-10,\n",
       "         1.51791636e-19,   1.65012139e-07,   4.34454450e-05,\n",
       "         4.00578459e-11,   4.10284144e-08,   2.33127340e-09,\n",
       "         1.72480867e-07,   1.56020171e-19,   4.05581666e-08,\n",
       "         2.67011342e-06,   6.29828134e-10,   1.74720510e-04,\n",
       "         1.52635399e-19,   4.22431040e-05,   4.22524281e-05,\n",
       "         2.59566150e-06,   6.78733556e-07,   4.00463725e-11,\n",
       "         1.73770677e-04,   9.10653497e-12,   4.24815262e-05,\n",
       "         2.63692002e-09,   4.15305840e-05,   6.73824718e-10,\n",
       "         4.00463621e-11,   1.68037441e-04,   9.10720457e-12,\n",
       "         6.60048499e-07,   4.14885974e-08,   1.62228844e-07,\n",
       "         1.05612480e-05,   4.00463725e-11,   4.26527507e-08,\n",
       "         9.10676309e-12,   4.22431040e-05,   6.44735099e-10,\n",
       "         4.00578459e-11,   2.68029221e-09,   9.10675702e-12,\n",
       "         6.71224427e-07,   2.68029332e-09,   6.48929927e-07,\n",
       "         1.04894795e-08,   6.29828079e-10,   2.65538574e-06,\n",
       "         1.50934729e-19,   2.64019400e-06,   6.75008323e-07,\n",
       "         1.01390754e-08,   6.70087430e-10,   6.29827801e-10,\n",
       "         1.03155298e-08,   1.51788327e-19,   2.53477173e-09,\n",
       "         6.44735376e-10,   4.00463794e-11,   1.05472262e-08,\n",
       "         9.10631379e-12,   6.60048556e-07,   4.21870929e-08,\n",
       "         2.59560329e-06,   1.69694331e-07,   6.29828023e-10,\n",
       "         1.10387755e-05,   1.51781684e-19,   2.53482857e-09,\n",
       "         6.82546158e-07,   2.51931143e-09,   1.06640936e-08,\n",
       "         1.50107432e-19,   1.06042961e-08,   1.07407568e-05,\n",
       "         4.00578459e-11,   1.66896641e-07,   2.33121655e-09,\n",
       "         2.68029110e-09,   1.56883786e-19,   4.05572571e-08,\n",
       "         4.17223447e-08,   6.29827857e-10,   6.89879812e-07,\n",
       "         1.56873886e-19,   6.48901562e-07,   1.70636554e-07,\n",
       "         2.51931209e-09,   1.07798268e-08,   1.50957825e-19,\n",
       "         6.48901562e-07,   1.07421565e-05,   4.02737600e-11,\n",
       "         4.14895283e-08,   2.33150144e-09,   6.62825239e-10,\n",
       "         1.55176459e-19,   1.62229028e-07,   2.66608269e-09,\n",
       "         1.00772519e-08,   6.56424959e-07,   1.49253794e-19,\n",
       "         1.62225390e-07,   2.62541130e-06,   4.02737496e-11,\n",
       "         4.31986518e-05,   9.10764606e-12,   2.69472977e-09,\n",
       "         2.63675104e-09,   1.62225206e-07,   4.41579359e-05,\n",
       "         4.00463863e-11,   6.56352540e-07,   9.10609869e-12,\n",
       "         1.65012125e-07,   4.31211546e-08,   4.00578459e-11,\n",
       "         6.86184251e-07,   5.82860982e-10,   4.14913117e-08,\n",
       "         1.49267068e-19,   6.48216592e-10,   1.69959749e-04,\n",
       "         2.53482568e-09,   1.03732916e-08,   4.05011268e-11,\n",
       "         1.05612417e-05,   9.10720804e-12,   6.62768507e-10,\n",
       "         4.36773589e-05], dtype=float32)"
      ]
     },
     "execution_count": 104,
     "metadata": {},
     "output_type": "execute_result"
    }
   ],
   "source": [
    "word2vec_model['data']"
   ]
  },
  {
   "cell_type": "code",
   "execution_count": 19,
   "metadata": {},
   "outputs": [
    {
     "name": "stderr",
     "output_type": "stream",
     "text": [
      "/Library/Python/2.7/site-packages/gensim/models/keyedvectors.py:808: RuntimeWarning: invalid value encountered in true_divide\n",
      "  self.syn0[i, :] /= sqrt((self.syn0[i, :] ** 2).sum(-1))\n"
     ]
    }
   ],
   "source": [
    "word2vec_model.init_sims(replace=True)"
   ]
  },
  {
   "cell_type": "code",
   "execution_count": 20,
   "metadata": {
    "collapsed": true
   },
   "outputs": [],
   "source": [
    "def document_vector(word2vec_model, doc):\n",
    "    # remove out-of-vocabulary words\n",
    "    doc = [word for word in doc if word in word2vec_model.vocab]\n",
    "    return np.mean(word2vec_model[doc], axis=0)"
   ]
  },
  {
   "cell_type": "code",
   "execution_count": 21,
   "metadata": {
    "collapsed": true
   },
   "outputs": [],
   "source": [
    "def has_vector_representation(word2vec_model, doc):\n",
    "    \"\"\"check if at least one word of the document is in the\n",
    "    word2vec dictionary\"\"\"\n",
    "    return not all(word not in word2vec_model.vocab for word in doc)"
   ]
  },
  {
   "cell_type": "code",
   "execution_count": 22,
   "metadata": {},
   "outputs": [
    {
     "name": "stdout",
     "output_type": "stream",
     "text": [
      "5071 docs removed\n"
     ]
    }
   ],
   "source": [
    "t0 = time()\n",
    "corpus, texts, y = filter_docs(corpus, texts, y,\n",
    "                               lambda doc: has_vector_representation(word2vec_model, doc))"
   ]
  },
  {
   "cell_type": "code",
   "execution_count": 25,
   "metadata": {},
   "outputs": [
    {
     "data": {
      "text/plain": [
       "384.0005340576172"
      ]
     },
     "execution_count": 25,
     "metadata": {},
     "output_type": "execute_result"
    }
   ],
   "source": [
    "from sklearn.metrics.pairwise import cosine_similarity\n",
    "sims['dsi']['centroid'] = cosine_similarity(np.array([document_vector(word2vec_model, doc)\n",
    "                                                       for doc in corpus]))\n",
    "time() - t0"
   ]
  },
  {
   "cell_type": "code",
   "execution_count": 29,
   "metadata": {},
   "outputs": [
    {
     "data": {
      "text/plain": [
       "82355"
      ]
     },
     "execution_count": 29,
     "metadata": {},
     "output_type": "execute_result"
    }
   ],
   "source": [
    "len(sims['dsi']['centroid'])"
   ]
  },
  {
   "cell_type": "code",
   "execution_count": null,
   "metadata": {
    "collapsed": true
   },
   "outputs": [],
   "source": [
    "#Third method: Word Mover's Distance (WMD)"
   ]
  },
  {
   "cell_type": "code",
   "execution_count": null,
   "metadata": {
    "collapsed": true
   },
   "outputs": [],
   "source": [
    "from sklearn.metrics.pairwise import pairwise_distances\n",
    "\n",
    "A = np.array([[i] for i in range(len(snippets))])\n",
    "\n",
    "def f(x, y):\n",
    "    return word2vec_model.wmdistance(snippets[int(x)], snippets[int(y)])\n",
    "\n",
    "X_wmd_distance_snippets = pairwise_distances(A, metric=f, n_jobs=-1)"
   ]
  },
  {
   "cell_type": "code",
   "execution_count": null,
   "metadata": {
    "collapsed": true
   },
   "outputs": [],
   "source": []
  },
  {
   "cell_type": "code",
   "execution_count": 30,
   "metadata": {
    "collapsed": true
   },
   "outputs": [],
   "source": [
    "def most_similar(i, X_sims, topn=None):\n",
    "    \"\"\"return the indices of the topn most similar documents with document i\n",
    "    given the similarity matrix X_sims\"\"\"\n",
    "\n",
    "    r = np.argsort(X_sims[i])[::-1]\n",
    "    if r is None:\n",
    "        return r\n",
    "    else:\n",
    "        return r[:topn]"
   ]
  },
  {
   "cell_type": "code",
   "execution_count": 44,
   "metadata": {},
   "outputs": [],
   "source": [
    "ret = most_similar(15200, sims['dsi']['centroid'], 20)"
   ]
  },
  {
   "cell_type": "code",
   "execution_count": 41,
   "metadata": {},
   "outputs": [
    {
     "name": "stdout",
     "output_type": "stream",
     "text": [
      "Data Science 101: Deep Learning - Theory and Applications - insideBIGDATA\n"
     ]
    }
   ],
   "source": [
    "k = 15200\n",
    "print df.iloc[k]['title']"
   ]
  },
  {
   "cell_type": "code",
   "execution_count": 45,
   "metadata": {},
   "outputs": [
    {
     "name": "stdout",
     "output_type": "stream",
     "text": [
      "Data Science 101: Deep Learning - Theory and Applications - insideBIGDATA\n",
      "Quantum Computing\n",
      "How You Can Use Big Data in Your Small Business | SmartData Collective\n",
      "client reference | The Big Data Hub\n",
      "About | IoTivity\n",
      "Data Surveillance and Prediction - Wizsoft\n",
      "Telemarketing - Call Centers - Wizsoft\n",
      "Kumar Vishwas Poem on Pagli Ladki » iShayari\n",
      "government | FlowingData\n",
      "Undergraduate Study - School of Operations Research and Information Engineering - Cornell Engineerin\n",
      "Cisco: White Papers & Case Studies by Cisco - Brand Republic\n",
      "Legal Information - Wizsoft\n",
      "Sign in -- Sage\n",
      "How I Cut The Cable (And How You Can Too!)\n",
      "AlterWind Log Analyzers comparison. Reports for search engine optimization, web site promotion, web \n",
      "Origin | Just another WordPress.com weblog\n",
      "Maximum Flow implementation on Spark GraphX and Raspberry Pi Spark cluster demo - Data Science & Bus\n",
      "horizon graph | FlowingData\n",
      "Comments on: insideBIGDATA Guide to the Retail Industry: Sponsored by Dell and Intel\n",
      "Database Solutions for Risk Management - MemSQL\n"
     ]
    }
   ],
   "source": [
    "for j in ret:\n",
    "    print df.iloc[j]['title']"
   ]
  },
  {
   "cell_type": "code",
   "execution_count": 51,
   "metadata": {},
   "outputs": [
    {
     "name": "stdout",
     "output_type": "stream",
     "text": [
      "Data Science 101: Deep Learning - Theory and Applications - insideBIGDATA About Advertise Contact Search: News Companies Topics Big Data Cloud Analytics Data Science Data Storage Hadoop Infrastructure Machine Learning HPC Visualization White Papers Industry Segments Academic Energy Entertainment Financial Government Healthcare Life Sciences Manufacturing Media Retail Travel Special Sections inside Hadoop inside SPARK Data Science 101 Interviews Use Cases Field Reports Visualization of the Week Big Data Humor Book Review Resources Events Events Calendar Industry Perspectives Jobs Board Job Postings Podcast Research / Reports Video Special Reports Sign up for our newsletter and get the latest big data news and analysis. Email Address Home » Topics » Data Science » Data Science 101: Deep Learning – Theory and Applications Data Science 101: Deep Learning – Theory and Applications December 22, 2015 by Daniel Gutierrez Leave a Comment Deep Learning is a hot topic in statistical learning and many data scientists are seeking a place to start. Here is a presentation from the July 23rd SF Machine Learning Meetup at the Workday Inc. San Francisco office. The featured speaker is Ilya Sutskever. Ilya received his PhD in 2012 from the University of Toronto working with Geoffrey Hinton. He was also a post-doc with Andrew Ng at Stanford University. After completing his PhD, he co-founded DNNResearch with Geoffrey Hinton and Alex Krizhevsky which was acquired by Google. He is interested in all aspects of neural networks and their applications. Ilya makes major contribution to both the academia and the industry in popularizing deep learning.     Download insideBIGDATA: An Insider’s Guide to Apache Spark Share: Twitter Facebook LinkedIn Google More Email Print Tumblr Related Content: Data Science 101: Recursive Deep Learning Data Science 101: Deep Learning for Language Understanding Data Science 101: Fireside Chat with Andrew Ng Deep Learning, Self-Taught Learning and Unsupervised Feature Learning Data Science 101: How Deep Learning Powers Flickr Filed Under: Data Science , Data Science 101 , Machine Learning , Main Feature , Uncategorized , Video Tagged With: Weekly Newsletter Articles Leave a Comment Cancel reply Name * Email * Website Notify me of follow-up comments by email. Notify me of new posts by email. Resource Links: Industry Perspectives Analytics, Meet Operations; Operations, Say Hello to Analytics In this special guest feature, Manish Sood, CEO of Reltio, examines how business operations and data analytics can meet to obtain competitive advantage. [Read More...] Find us on: Copyright © 2016 About insideBIGDATA Contact Advertise with insideBIGDATA Visit Our Other Site – insideHPC Terms of Service & Copyright Privacy Policy\n",
      "--------------\n",
      "Quantum Computing KDnuggets Data Mining, Analytics, Big Data, and Data Science Subscribe to KDnuggets News  | Follow  |  Contact Data Mining Software News Top stories Opinions Jobs Academic Companies Courses Datasets Education Meetings Polls Webcasts   KDnuggets Home » News » Tags » Quantum Computing Latest News, Stories Research Leaders on Data Mining, Data Science and Big Data key... Camelyon16 – Machine Learning Challenge in cancer detection Scikit-learn and Python Stack Tutorials: Introduction & I... MassiveAnalytic: Scala/Python Data Scientist Kickstart Your Data Initiatives in 2016 – KDnuggets disc... More News & Stories | Top Stories Tag: Quantum Computing            Tweet D-Wave Systems (Quantum Computing): Machine Learning Researcher - Mar 14, 2015. The science fiction future is here. Help design and implement novel machine learning and deep learning algorithms that leverage the power of the D-Wave quantum computer. Tags: BC , Burnaby , Canada , D-Wave Systems , Deep Learning , Machine Learning , Quantum Computing , Researcher Juergen Schmidhuber AMA: The Principles of Intelligence and Machine Learning - Mar 9, 2015. Jürgen Schmidhuber, pioneer in innovating Deep Neural Networks, answers questions on open code, general problem solvers, quantum computing, PhD students, online courses, and the neural network research community in this Reddit AMA. Tags: AI , Deep Learning , Deep Neural Network , Human Intelligence , Jurgen Schmidhuber , PhD , Python , Quantum Computing , Reddit Top KDnuggets tweets, May 28-29: SAS University Edition free software; Google Quantum Computing Playground - May 30, 2014. SAS University Edition offers free #SAS software for higher education, teaching; Ultra-cool! Google \"Quantum Computing Playground\" - fiddle with quantum algorithms; Thomson Reuters: Data Scientist ; Realtime Personalization and Recommendation with Stream Mining. Tags: Google , Quantum Computing , SAS , Stream Mining , Thomson Reuters More Recent Stories Top stories for Jan 10-16: 20 Questions to Detect Fake Data Sc... Data Science Humor: Google Analytics, if Applied in Real Life Top 100 Big Data Experts to Follow ICCV 2015: Twenty one hottest research papers Hitchhikers Guide to Azure Machine Learning Studio Spark 2015 Year In Review U. Delaware Business Analyst Certificate – Info Session ... What Is Machine Intelligence Vs. Machine Learning Vs. Deep Lea... New KDnuggets Podcasts Page Plausibility vs. probability, prior distributions, and the gar... IoT Data Science Strategy InformationWeek Top Data Science, Analytics, and BI experts on... Creating a methodology for Data Science for IoT (IoT Analytics) Climate Change, Clearly Visualized The Data Awakens: Star Wars Sentiment Analysis Top 10 Deep Learning Projects on Github A Look Back on the 1st Three Months of Becoming a Data Scientist KDnuggets 16:n01, Jan 13: Detect Fake Data Scientists; Tens... 3 Ways to Improve your Regression, Jan 20 & 27 Webinars, ... TMA Predictive Analytics Data Mining Training, [Orlando, Feb 1... KDnuggets Home » News » Tags » Quantum Computing © 2016 KDnuggets. About KDnuggets   Subscribe to KDnuggets News  | Follow @kdnuggets (46K)   (6K)   (13K) X\n",
      "--------------\n",
      "How You Can Use Big Data in Your Small Business | SmartData Collective Sign up | Login with →   The World's Best Thinkers on Data Home About Us & Contact Work With Us Follow Us Twitter Post Here Analytics Social Media Analytics Text Analytics Sentiment Analytics Predictive Analytics Modeling Web Analytics Workforce Analytics Big Data Social Data Data Warehousing Visualization Workforce Data Data Mining Data Quality Business Intel Business Rules Decision Management Knowledge Management Market Research CRM Data Management Risk Management Transparency Culture & Leadership Policy & Governance Best Practices Privacy IT Mobility Security Hardware Location Cloud Computing Software Hadoop MapReduce SQL Open Source Marketing Automation R Programming Language How To Post Help FAQ Posted by: Ryan Kh Posts Profile Comments Follow Please login or register to follow this user. How You Can Use Big Data in Your Small Business Like it? 792 comments 2 Posted December 8, 2015 Keywords : Big Data According to reports, approximately 90% of all data in the world was created in the last two year. This total amount is expected to double yearly - it's estimated that the world will have generated about 5,200 gigabytes of data per human being on earth. It's practically impossible to comprehend the amount of data which is produced every single day - and how so little of it is actually used. 'Big Data' is a buzzword in business with a definition that varies constantly. Many like to define it as a vast amount of data which comes from various sources and is unstructured and large enough that you can't manage it in a standard relational database. Crucially, we should strive to make big data useful. It's daunting to collect and analyse data from so many sources - such as transactional information, website activity, customer service interactions, social media accounts and other forms of communications. Analytical data of all sorts, however, is able to inform and support operational decisions as well as the direction your business follows - so it's best to start mall, and keep building up over time. There's no need to worry about 'Big Data' from day one, but you should make sure you have a plan that'll adapt and change your business processes so they'll be data driven. This will likely help increasing your market share and outmanoeuvring the competitors. Make Sure Data Is Useful Some companies have adopted highly effective and comprehensive big data strategies - e-commerce giants like Amazon, for instance, or maybe Tesco's Clubcard . Others, however, failed to make the most of them. Remember that collecting data is merely one step in the process - you need to be able to sort the data and analyse it, and your findings should bring value to your business somehow. If you can't transform your data into useful recommendations and information which will help you take action and improve the customer experience and business efficiency of your company. Small Business And Big Data                   Remember - as a small business with limited IT resources, it's an excellent idea to simply prepare your business to collect, store, analyze and utilize the data in an effective manner, in order to improve the customer experience and/or profitability of your business. For instance, if you have an e-commerce business, it may be a good idea to work on the targeting of your marketing e-mails, by analyzing your user's browsing patterns and how it relates to purchasing history. You may also consider response rates to previous e-mails, and the sort of content, layout and offers which gets the most conversions out of each type of user. According to Robert Carter of Virtual Office provider Your Virtual Office London , “Managing data growth is just the beginning for SMEs. However, having never handled such volumes of data, SMEs need to be able to identify the most important and relevant information for business growth; effectively, to deepen it.” Personalization is important for basically any business - especially when you operate online, it's essential that you treat customers as individuals whenever you can. Big data helps a lot with this - but the most important aspect is making sure you get accurate data and use it intelligently. Make sure you understand the sort of thing your customers would like to buy, and you'll be able to serve them with relevant content and offers. Software and Hardware The cost of storing data has recently plummeted, and now with cloud technology, SMEs don't even need hardware in order to analyse information on a small scale - the entire work can be done remotely. As Big Data becomes an integral part of basically any business, applications which help managing data tend to become more and more user-friendly as well as affordable. It remains a challenge, but nowadays it's a lot easier for a small firm to take big data into account to achieve big results - embrace this technology, and you're sure to get large benefits in the future. Login or register to post comments Connect: Authored by: Ryan Kh Ryan Kh is an experienced blogger, digital content & social marketer. Founder of Catalyst For Business and contributor to search giants like Yahoo Finance, MSN. He is passionate on covering topics like big data, business intelligence, startups & entrepreneurship. Follow his latest posts on Clear World Finance & blog .  See complete profile Would you like to contribute to this site? Get started » Other Posts by Ryan Kh In a World Full of Data, Can Analytics See the Market Trends? - March 13, 2016 How Does Big Data Change Social Media Marketing Strategies? - March 8, 2016 3 Major Reasons VPN Can Improve Data Security - February 26, 2016 Using Big Data to Win and Influence Customers - February 25, 2016 The Role of Big Data in the Travel Industry in 2016 - February 16, 2016 Related Posts 3 Sweet Big Data Lies January 13, 2017 by patrickkoeck Essential Measures to Manage Big Data From Security Perspective January 13, 2017 by Elianna hyde GE CIO out to prove benefits of company's industrial cloud platform January 12, 2017 by CIO Dive Big Data's Effect on Marketing in the Future January 12, 2017 by Rick Delgado 3 Lessons for enterprise Businesses After Yahoo's Admission of a Massive Data Breach January 11, 2017 by sean.mallon91 » Already a member? Login now to comment! » Not a member? Register to comment! Like it? 736 December 10, 2015 Data H says: Ryan very informative approach when using Big Data. Many uses of big data have a measurable positive impact on outcomes and productivity. Areas such as record linkage, graph analytics deep learning and machine learning have demonstrated being critical to help in the operational ways you mention as well as to fight crime, reduce fraud, waste and abuse in the tax and healthcare systems, combat identity theft and fraud, and many other aspects that help society as a whole. It is worth mentioning the HPCC Systems open source offering which provides a single platform that is easy to install, manage and code. The built-in analytics libraries for Machine Learning make it easy for users to analyze Big Data. The free online introductory courses allow for students, academia and other developers to quickly get started. For more info visit:  hpccsystems.com   Share this comment: Twitter Facebook LinkedIn Login or register to post comments Like it? 754 December 9, 2015 Earl Griffin says: Big data is clearly a relative term. While each organization has a tipping point, most of them – in spite of their size – may eventually reach a point where the volume, velocity, and variety of their data can be something that they have to address. So, let your mind refresh by considering the new notion for big data as simpler and more accurate: When volume, variety, and velocity of data exceed, an organization's storage or compute capacity for exact and timely decision making. Share this comment: Twitter Facebook LinkedIn Login or register to post comments Please note: Your first comment as a registered user will be held for moderation up to 24 hours (usually less). For more information about comments on our site, please read our FAQ and terms of use . stay informed Get a daily email with the latest news about IT strategy, infrastructure, software, security, big data, and more. Learn more about the newsletter Latest News brief FTC chair to step down in February brief 'Political uncertainty' causes Gartner to clip its expected tech spending forecast brief WhatsApp reportedly will allow businesses to message users this year brief Tech CEOs want to help the federal govt. save $1 trillion on IT brief Containers will be a $2.7B market by 2020, research firm says     Comments Featured Popular Recent “Huba, explicit feedback is a great start for improving the relationships between marketers and online users. But the word \"feedback\" betrays the current adtech working assumption about online marketing. The idea central to the adtech industry is the online marketing is mass media to be shoved in the faces of as many behaviourally targeted prospects as possible. This working assumption ...” May 4th, 2016 by Bill Ratcliffe “The final aim of MCC is to allow implementation of rich smartphone web apps on an excess of cell phone devices, with a gorgeous user experience.” January 7th, 2016 by jamesmartin057 “The role of HR department is really appreciable, we never deny their presence and importance in the recruitment process. They are ultimately contributing their best towards employment process, they used to study the current market structure and hiring suitable candidates with effective skills and ...” January 4th, 2017 by edwardmiller “The role of HR department is really appreciable, we never deny their presence and importance in the recruitment process. They are ultimately contributing their best towards employment process, they used to study the current market structure and hiring suitable candidates with effective skills and ...” January 4th, 2017 by edwardmiller “For business growth, we need suitable data, planning, and strategies. ...” December 28th, 2016 by alstairbates “In a perfect world, there would be seamless communication between all the ...” December 8th, 2016 by webbrowan “I think that most companies would do well to do a little bit of number ...” December 8th, 2016 by webbrowan “I'm thinking that the whole connected car system while exciting and really ...” December 8th, 2016 by webbrowan “This is really a great question for every business man that what is the ...” December 1st, 2016 by alstairbates “ Philip, big data and marketing is a great match. We definitely are seeing ...” November 29th, 2016 by DataH “Measuring business performance is completely depending upon management ...” November 3rd, 2016 by edwardmiller “For a successful business, we need to follow strict plans and strategies. A ...” November 1st, 2016 by alstairbates “Great collection!To cut a long story short most of these points are essential ...” October 20th, 2016 by Antal Sofalvy show more Popular Read Commented Authors H Z - points John Staunton - points jan rubio - points Sarma Ranga - points Dawn Bronkema - points Top 5 Analytics trends in Fashion Retail (0) 1/2/2017 by Ajith Nayar The Healthy Data Revolution – How Biometrics Impact our Life & Fitness (0) 1/3/2017 by Paco Darcey Data Devils Snapping At Your Heals (0) 1/6/2017 by Damian Mingle Is your New Year’s Resolution to Improve your CRM Data? (0) 1/9/2017 by Martin Doyle Sensor market boom suggests rise of Big Data in manufacturing (0) 1/10/2017 by Supply Chain Dive Big Data, Analytics, and the Changing Face of Supply Chain Management 1/10/2017 by Larry Alton Sensor market boom suggests rise of Big Data in manufacturing 1/10/2017 by Supply Chain Dive Big Data's Effect on Marketing in the Future 1/12/2017 by Rick Delgado 3 Sweet Big Data Lies 1/13/2017 by Patrick Koeck Is your New Year’s Resolution to Improve your CRM Data? 1/9/2017 by Martin Doyle Categories » Analytics » Best Practices » Big Data » Book Review » Business Intelligence » Business Rules » Cloud Computing » Collaborative Data » Commentary » CRM » Culture/Leadership » Data Management » Data Mining » Data Quality » Data Visualization » Data Warehousing » Decision Management » eBook » Hadoop » Hardware » Inside Companies » IT » Jobs » Knowledge Management » Location » MapReduce » Market Research » Marketing » Marketing Automation » Mobility » Modeling » New Products » News » Open Source » Podcasts » Policy and Governance » Predictive Analytics » Privacy » R Programming Language » Risk Management » Security » Sentiment Analytics » SmartData Collective Exclusive » Social Data » Social Media Analytics » Software » SQL » Statistics » Text Analytics » Transparency » Unstructured Data » Web Analytics » Webcasts » Workforce Analytics » Workforce Data show more Big Data Smart Data Cloud Social Data Unstructured Data Data in the Cloud Business Intelligence Analytics   Industry Dive, Inc © 2016  Terms of Use | Community Guidelines | Privacy Policy | Takedown Policy | Get a Badge | Help | About & Contact\n",
      "--------------\n",
      "client reference | The Big Data Hub Jump to navigation Twitter LinkedIn Facebook About Contact Content By Type Blogs Videos All Videos IBM Big Data In A Minute Video Chats Analytics Video Chats Big Data Bytes Big Data Developers Streaming Meetups Podcasts White Papers & Reports Infographics & Animations Presentations Galleries Subscribe       × client reference Filter Content All Content All Content Blogs Videos Infographics & Animations Watch Video Analytics Video | 2:39 Telefonica Argentina uses IBM PureData for... Telefonica Argentina uses IBM PureData for Analytics to uncover insights With more than two hundred million customers in twenty countries, Telefonica de Argentina needed more than an old-... With more than two hundred million customers in twenty countries, Telefonica de Argentina needed more than an old-fashioned repository as a data warehouse. With IBM PureData System for Analytics, Telefonica was able to gather all the knowledge within the company to create a... Watch Video Analytics Video | 2:59 RIMAC uses IBM Analytics and GBS to find hundreds... RIMAC uses IBM Analytics and GBS to find hundreds of millions of dollars in fraud and leakage RIMAC uses IBM Analytics and IBM Global Business Services to make more money out of the same insurance premiums, while... RIMAC uses IBM Analytics and IBM Global Business Services to make more money out of the same insurance premiums, while remaining customer-centric and discovering hundreds of millions of dollars in fraud and leakage. Learn more about IBM Analytics Watch Video Analytics Video | 2:04 John Wiley & Sons brings publishing industry... John Wiley & Sons brings publishing industry to digital world John Wiley & Sons leverages predictive analytics to build better decision making while saving millions of dollars... John Wiley & Sons leverages predictive analytics to build better decision making while saving millions of dollars with IBM PureData for Analytics. Watch Video Analytics Video | 2:39 Understanding and retaining customers made easy... Understanding and retaining customers made easy with IBM Safety Insurance has a better view of its customer base with IBM PureData for Analytics, while saving time and money... Safety Insurance has a better view of its customer base with IBM PureData for Analytics, while saving time and money with IBM Cognos. Watch Video Analytics Video | 3:33 Grupo Financiero Banorte relies on IBM PureData... Grupo Financiero Banorte relies on IBM PureData for tailor made customer service Grupo Financiero Banorte on its way to generating real time, tailored, value offered campaigns to each customer with... Grupo Financiero Banorte on its way to generating real time, tailored, value offered campaigns to each customer with IBM PureData for Analytics. Watch Video Analytics Video | 4:58 Dubai Statistics Center plays a key role in... Dubai Statistics Center plays a key role in national development IBM Big Data & Analytics has enabled Dubai Statistics Center to provide government officials, researchers,... IBM Big Data & Analytics has enabled Dubai Statistics Center to provide government officials, researchers, businesses and public sector organizations with accurate and deep insight about the region’s economic growth, social development and evolving global business... View Infographic Big Data Use Cases Infographic Big data in healthcare: Tapping new insight to... Big data in healthcare: Tapping new insight to save lives Infographic: Healthcare is challenged by large amounts of data in motion that is diverse, unstructured and growing... Infographic: Healthcare is challenged by large amounts of data in motion that is diverse, unstructured and growing exponentially. Data constantly streams in through interconnected sensors, monitors and instruments in real-time faster than a physician or nurse can keep up. Read Blog Big Data Use Cases Blog | by Bob Palmer Big Data for Banking: Depends on a Scalable,... Big Data for Banking: Depends on a Scalable, Extensible Information Foundation The promise of achieving significant, measurable business value from big data can only be realized if organizations put... The promise of achieving significant, measurable business value from big data can only be realized if organizations put into place an information foundation that supports the rapidly growing volume, variety and velocity of data. As part of the recently published global... Watch Video Big Data Use Cases Video | 2:15 Datameer Identifies $2B in Fraud, Increases... Datameer Identifies $2B in Fraud, Increases Revenue, Cuts Costs Datameer, Inc. CEO Stefan Groschupf discusses how Datameer's big data analytics solution for self-service data... Datameer, Inc. CEO Stefan Groschupf discusses how Datameer's big data analytics solution for self-service data integration, analytics and visualization tools delivers dramatic business impact. Datameer sits on top of any distribution of Hadoop, including IBM BigInsights to... Read Blog Big Data Use Cases Blog | by Gaurav Deshpande Every Second Counts for CSPs Every Second Counts for CSPs How CSPs are Transforming Call Centers to Lower Churn, Costs and Stress The day in the life of a call center agent... How CSPs are Transforming Call Centers to Lower Churn, Costs and Stress The day in the life of a call center agent can be very stressful, especially when information needed to solve the customer problem is not accurate, not up-to-date, not consolidated and not immediately... Watch Video Video | 1:50 BNSF Runs on Big Data with BLU Acceleration BNSF Runs on Big Data with BLU Acceleration Kent Collins, database solutions architect at BNSF Railways, talks about how IBM DB2 with BLU Acceleration offers... Kent Collins, database solutions architect at BNSF Railways, talks about how IBM DB2 with BLU Acceleration offers simplicity, superior performance and significant compression. www.ibm.com/bigdata Watch Video Big Data Use Cases Video | 1:42 NCSU Helps Businesses Unlock Value from Big Data NCSU Helps Businesses Unlock Value from Big Data Dr. Michael Kowolenko, Principal Research Scholar, shares how North Carolina State University helps businesses make... Dr. Michael Kowolenko, Principal Research Scholar, shares how North Carolina State University helps businesses make better decisions and gain insight using IBM big data solutions.  Subscribe to the IBM Big Data channel on YouTube. Read Blog Blog | by Rima Mukherjee 3 Telcos Call On Big Data 3 Telcos Call On Big Data Across industries, companies are finding that a critical factor in their success is the ability to analyze massive... Across industries, companies are finding that a critical factor in their success is the ability to analyze massive amounts of data in near real time. Telecommunications is one of the leading industries that not only creates a lot of data but is also tasked with...\n",
      "--------------\n",
      "About | IoTivity Jump to Navigation Linux Foundation Collaborative Projects Search form Search About Downloads Documentation Blog Get Involved You are here Home » About About Each day more and more devices are coming online, adding to the ever-growing Internet of Things (IoT). Analysts agree the IoT will grow to many billions of devices over the next decade. The challenge for the IoT ecosystem is to ensure these emerging IoT devices can connect securely and reliably to the Internet and to each other. The IoTivity project was created to bring together the open source community to accelerate the development of the framework and services required to connect these billions of devices. The IoTivity project is sponsored by the Open Interconnect Consortium (OIC), a group of industry leaders who will be developing a standard specification and certification program to address these challenges. IoTivity will deliver an open source reference implementation of the OIC standard specifications, yet will not be limited to those requirements. We invite you to explore the site, download the code and start participating today . Open Source License IoTivity code contributions are shared under the Apache 2.0 license. LEARN MORE Project Governance Learn how IoTivity is governed and how it interacts with the OIC open standards effort. LEARN MORE IoTivity Steering Group The IoTivity Steering Group manages IoTivity project. LEARN MORE Open Source License Project Governance IoTivity Steering Group Home Downloads Documentation Blog Get Involved Gerrit Code Review JIRA Mailing Lists Wiki Twitter Google+ Facebook Linkedin Log in © 2016 IoTivity, a Linux Foundation Collaborative Project. All Rights Reserved. Linux Foundation is a registered trademark of The Linux Foundation. Linux is a registered trademark of Linus Torvalds. Please see our terms of use and privacy policy .\n",
      "--------------\n",
      "Data Surveillance and Prediction - Wizsoft Wizsoft Sophisticated Software Applications Home About About Our Company Locations Partners Our Technology Products WizSoft Search WizWhy WizRule WizSame Industries & Solutions Auditors Financial Government Healthcare Insurance IT Scientific Research Support Overview Download Brochures Download User Manuals Training Videos Courses Case Studies WizWhy WizRule Contact & Demo Contact Us Download Demo MENU CLOSE back   Data Surveillance and Prediction You are here: Home Case Studies , WizWhy Data Surveillance and Predicti… Goal:  Cracking the Knowledge Acquisition Bottleneck One of WizWhy’s users, a branch of the U.S. Navy, develops intelligent applications for planning, discovery, and knowledge acquisition, and recently received a grant from the Office of Naval Research. The grant gave this branch not only the ability to study new data surveillance and prediction software tools available in the market and to determine their price/performance capabilities, but also by choosing leading edge software tools, they acquired the ability to attract new talent. Specifically, the department could investigate a way to fuse volumes of data in a meaningful way in order to permit data cleansing, analysis, modeling, and prediction. However, the grant provided only a modest budget and this department needed to be ‘up and running’ very quickly with these new capabilities. This meant they needed to source a COTS product – the Navy’s term for a “commercial off-the-shelf” product. Data mining is useful for condensing and extrapolating military information. Data mining helped them to make sense out of arrays of complex distributed heterogeneous sensors. Their project began by collecting data and creating a database. Then a data mining application was applied to reveal hidden patterns and relationships within the database. A set of rules was revealed explaining the data and issuing predictions for new cases. Based on the discovered rules, unexpected phenomena in the data were pointed out as interesting phenomena. The system was used to study features towards cracking the knowledge acquisition bottleneck. WizWhy  was used to mine those features and to explore, by feedback, the most important features. This in turn provided a better understanding of their working domain and thereby permitted the evolution of more complex systems than would otherwise have been possible. WizWhy  allowed its user to significantly increase the amount of knowledge it can bring to bear on the decision-making process.  Tools such as  WizWhy  will serve to crack the knowledge acquisition bottleneck, which has impeded the growth and dissemination of knowledge-based technologies.  WizWhy  facilitates the evolution of feature sets, since it ranks the variables in terms of their significance. WizWhy cracked the knowledge acquisition bottleneck without cracking the budget! Copyright 2013 WizSoft, Inc. All rights reserved | Privacy Policy | Legal Information | WizSoft, WizWhy, WizRule and WizSame are registered trademarks of WizSoft, Inc.\n",
      "--------------\n",
      "Telemarketing - Call Centers - Wizsoft Wizsoft Sophisticated Software Applications Home About About Our Company Locations Partners Our Technology Products WizSoft Search WizWhy WizRule WizSame Industries & Solutions Auditors Financial Government Healthcare Insurance IT Scientific Research Support Overview Download Brochures Download User Manuals Training Videos Courses Case Studies WizWhy WizRule Contact & Demo Contact Us Download Demo MENU CLOSE back   Telemarketing - Call Centers You are here: Home Case Studies , WizWhy Telemarketing – Call Cen… Goal:  Increasing Sales in Inbound Call Centers Telemarketing companies face some huge stress factors (more competitors, more aggressive competition, demanding customers and less spending power) while they need to maximize the commercial potential of customer contacts and to maintain high levels of customer satisfaction. As limitations on outbound calling campaigns increase and customers become progressively more resistant to unsolicited contacts,  companies are looking for ways to leverage inbound customer contacts. The inbound call center offers a great potential to generate sales and leads. By collecting customers information, inbound contact centers offer great opportunities for cross-selling, lead generation, customer retention. In order to make inbound contact centers serve this purpose, it’s imperative that agents know exactly which offer to make to each customer and when not to make an offer. Thus, contact center agents must be supported by intelligent, real-time recommendations. The real-time marketing system capabilities enable the agents to determine which offers are most likely to appeal to a particular customer. Such system provides an intelligent recommendation based on historical and interaction data, customer’s preferences, demographic data. WizWhy Predictor provides real-time predictive intelligence solutions for calling centers. Advantages of WizWhy Predictor: Real-time recommendation Not all the data-fields are necessary to get a recommendation Automatic decision-making Creates predictive models efficiently No IT development and/or courses are necessary Best cost/performance (starts at US $3,995/license) How does it work? For example, a company markets 200 goods and analyzes their sales with WizWhy software. WizWhy reveals all the behavior rules based on 100 variables and discovers the main patterns of those customers more likely to purchase and those customers less inclined to purchase. When a potential customer makes an incoming call and shares only partial information with the agent, let say only 15 elements out of 100 (e.g. gender, age, education, previous product, spending power), the agent types these on a simple application form of WizWhy Predictor.  Then, by the click of a button, the agent gets the relevant ‘prediction’ as the best offer. WizWhy Predictor, a stand-alone software, determines which offer is most likely to appeal to the potential customer as well as presents the relevant rules to explain the prediction. WizWhy users can install an eternal “consultant” for every agent in their calling center.     Copyright 2013 WizSoft, Inc. All rights reserved | Privacy Policy | Legal Information | WizSoft, WizWhy, WizRule and WizSame are registered trademarks of WizSoft, Inc.\n",
      "--------------\n",
      "Kumar Vishwas Poem on Pagli Ladki » iShayari iShayari Hindi Love Romantic Shayari Privacy Policy contact us About Us Shayari Hindi Shayari Love Shayari Romantic Shayari Sad Shayari Kumar Vishwas Poem on Pagli Ladki admin March 11, 2015 Trending Shayari Comments Kumar Vishwas is one of greatest poet and shayar in current time of India .His poem on Pagli ladki and koi diwana kehta hai make him a big name in terms of shayari and poem india. These two poem  Pagli ladki and koi diwana kehta  is reflect as best poem in hindi in modern era of literature. Kumar Vishwas Poem on Pagli Ladki Photo me hi uski good morning boli jati hai Jab kamre mein suraj ki kiran aane lagti hai fir yaadon mein uski subha suhani lagti hai hawaon mein bhi uski khusbu aane lagti hai Tab us pagli ladki ki yaad bahut aati hai . Saari raat facebook par guzrane lagti hai Nind puri nahi hoti aankhe sujne lagti hai Sara –sara din jab udas –udas sa rehta hun Mujhe bhuk nahi ,har baar maa se jab ye kehta hun Ghar mein fir mere rishte ki baat chalayi jati hain tab uss pagli ladki ki yaaad bahut aati hai. Ghar mein jab roz rishte vale aate hai Aisa lagta hai jaise mujhe niglene aate hai Maa-baap jab unse milne mujhe bulaate hai Unke bhole bhale chehre mujhe saitaan nazar aate hai Jab mujhe ladki ki tasveer dikhayi jaati hai Tab uss pagli ladki ki yaad bahut aati hai. Bada bhai jab kehta hai ki shadi kar ke ghar basa le Kisi ka vishwas naa kar duniya ke hai khel nirale  hai Mai kehta hun ki mujhe pehle apna jivan banana hai Choti-choti khushiyon ke liye apna sapna nahi jalana hai Tab uss pagli ladki ki yaad bahut aati hai. Read more  Best Hindi Love Shayari Quote Updated: March 11, 2015 — 5:24 pm ← Previous Post Next Post → Leave a Reply Cancel reply Your email address will not be published. Required fields are marked * Comment Name * Email * Website Search for: Recent Posts Happy New Year & Happy New Year Wishes New sad dard bhari Shayari for boyfriend and girlfriend in Hindi Christmas SMS, Christmas Status Messages Funny Shayari Collection Latest Marathi Shayari For Valentine Day Special Collection Categories Ahmad Faraz Dard Shayari Bewafai dard Shayari Broken relationship Cute Love Shayari Dard bhari Shayari Diwali Shayari Diwali Sms English Love Shayari English Poem English Sms Eyes Shayari Famous Poet friendship shayari Funny Jokes Funny Shayari Galib mirza shayari Galib Urdu Shayari happy new year shayari Hindi Jokes Hindi Love Shayari hindi shayari Hindi Sms Latest Hindi SMS Shayari Ishq Shayari Ishq Shayri Jokes Jokes In Mix Latest Joke life shayari Love Jokes Love Shayari Love Sms Marathi Jokes Marathi Shayari Marathi Sms Poems Punjabi Sad Shayari quotes Romantic Love Sms Romantic Shayari Sad Jokes Sad Shayari Sad Sms Shayari Shayari New Edition Shayari With Gazal sher o shayari Shero Shayari sms Trending Shayari Uncategorized Urdu Shayari Urdu Sms Whatsapp status whatsapp status in hindi whatsapp status hindi love shayari iShayari © 2015\n",
      "--------------\n",
      "government | FlowingData Membership Tutorials Guides Books Features Become a Member  |  Log in government How various demographic groups can change the election result December 4 2015  |  Statistics  |  Tags: government , elections , FiveThirtyEight Does your vote matter? Aaron Bycoffe and David Wasserman for FiveThirtyEight provide an interactive that shows what states might switch sides if you changed turnout rate and party preference for… Missing votes in Congress November 13 2015  |  Infographics  |  Tags: government , ProPublica When members of the House of Representatives miss a vote, it is customary to provide a reason. ProPublica put together a database of these reasons, going back to 2007. The… Decent presidential candidate options. August 21 2015  |  Miscellaneous  |  Tags: government , humor I have no idea what's going on here, and I prefer to keep it that way.… Surveillance selfie with cell phone metadata August 17 2015  |  Self-surveillance  |  Tags: privacy , government , mobile Just because there's no content that comes with the metadata doesn't make the latter useless. The Statistical Atlas that Keeps On Going I already revived the first Statistical Atlas of the United States from 1870 with modern data, but there's still more data to look at. So I kept on going. Why government sites are outdated and very much not fun to use August 6 2015  |  Software  |  Tags: government , Reply All Government data sites are typically sluggish and a pain to use. So many forms. So slow. So much cruft in the way of what you really want. We went over… Reviving the Statistical Atlas of the United States with New Data Due to budget cuts, there is no plan for an updated atlas. So I recreated the original 1870 Atlas using today's publicly available data. More presidential candidates please June 8 2015  |  Infographics  |  Tags: government , New York Times , elections \"If it seems as if the list of presidential candidates for 2016 is growing by the day, that is because it is, at least on the Republican side.\" Alicia Parlapiano… White House appoints first US Chief Data Scientist February 23 2015  |  News  |  Tags: government , data science Did you hear the news? The White House officially appointed DJ Patil as the federal government's first ever Chief Data Scientist. Awesome. Here's Patil, with an introduction by President Barack… Voter approval rates as butt plugs July 23 2014  |  Data Art  |  Tags: government , butt plugs From a couple of years ago, but still relevant, I think. Matthew Epler took candidate approval ratings (again, this is from a little while ago), tossed them in a 3-D… How to Make Government Data Sites Better Accessing government data from the source is frustrating. If you've done it, or at least tried to, you know the pain that is oddly formatted files, search that doesn't work,… Strava Metro aims to help cities improve biking routes May 23 2014  |  Data Sharing  |  Tags: government , Strava , cycling Last month, Strava, which allows users to track their bike rides and runs, launched an interactive map that shows where people move worldwide. That seems to be a lead-in to… Lawmaking through the House and Senate visualized April 28 2014  |  Network Visualization  |  Tags: government , lawmaking Researchers at the University of Washington's Center for American Politics and Public Policy built the Legislative Explorer to show the lawmaking process in action. The visualization allows you to watch… Furloughed employees during shutdown October 9 2013  |  Statistical Visualization  |  Tags: government , finance , treemap Dan Delany took a simple look at furloughed employees due to the government shutdown. There are tickers for duration, estimated unpaid salary, and estimated food vouchers unpaid, but the main… Government data shutdown October 2 2013  |  Data Sources  |  Tags: government When you go to the United States Census site, Data.gov, or similar government-run sites, you see this. \"Due to the lapse in government funding, census.gov sites, services, and all online… Data.gov revamp July 31 2013  |  Data Sources  |  Tags: government After budget cuts a couple of years ago, I assumed Data.gov was all but dead, but apparently there's a new site in the works. The original version of Data.gov was… Learn about politics in your state with Open States February 26 2013  |  Online Applications  |  Tags: government , Sunlight Foundation It's not especially straightforward to know or find out what's going on with your state's government. Sites aren't maintained, are unusable, or just don't provide much information. Open States, a… Redrawn United States of electoral votes February 14 2013  |  Maps  |  Tags: government , electoral Neil Freeman reimagined state boundary lines based on population. He started with an algorithm and the fifty largest cities, considered proximity, urban area, and commuting patterns, and then hand-tweaked boundary… Ridiculous but real charts from the U.S. Congress floor November 20 2012  |  Ugly Charts  |  Tags: government , presentation The Floor Charts tumblr shows actual charts used on the United States Congress floor. Some of the paper signs aren't so flashy, but then there are ones like the Republican… Incredibly divided nation in a map November 9 2012  |  Mistaken Data  |  Tags: government I knew things were bad, but I didn't know they were this bad. Obama has his work cut out for him. [Thanks, @adamsinger]… How Silver predictions performed November 7 2012  |  Statistics  |  Tags: government , prediction , Nate Silver By way of Rafa Irizarry from Simply Statistics, a plot of Nate Silver's probabilities for Barack Obama winning a state versus the percentage of vote in each state, as of… Tracking the election tonight November 6 2012  |  Visualization  |  Tags: election , government As the results roll in tonight, you have plenty of options to keep track of who won what and where. These should cover all of your bases. New York Times… 2012 political donations mapped over time November 5 2012  |  Maps  |  Tags: government , animation Following their animated and narrated visualization on political contributions over time, VisPolitics maps Boston political donations in MoneyBombs. This video of the Boston metropolitan area reveals the geographic distribution of… All possible paths to the White House November 5 2012  |  Infographics  |  Tags: interactive , government , New York Times With the election tomorrow, Mike Bostock and Shan Carter for the New York Times map the 512 possible paths to the White House. Select state wins, and the paths update… A quick lesson on making predictions October 31 2012  |  Statistics  |  Tags: government , prediction , Nate Silver Political analyst and statistician Nate Silver has gotten some flack lately for consistently projecting a 70-plus percent chance of a Barack Obama win this election. But as Jeff Leek explains,… Browse elections data back to 1976 with Electionary app October 30 2012  |  Maps  |  Tags: government , iPad , elections Electionary, the new iPad app from TargetPoint Consulting, lets you browse national election data, from 1976 through 2008. Electionary is an election resource center that grants users access to over… ReConstitution recreates debates through transcripts and language processing October 17 2012  |  Data Art  |  Tags: government ReConstitution 2012, a fun experiment by Sosolimited, processes transcripts from the presidential debates, and recreates them with animated words and charts. Part data visualization, part experimental typography, ReConstitution 2012 is… Shifting states over the decades, between Democrat and Republican October 16 2012  |  Network Visualization  |  Tags: government , Mike Bostock , Shan Carter , New York Times Mike Bostock and Shan Carter visualized how states have shifted parties over the years, going back to 1952. Recent elections have placed a heavy emphasis on \"swing states\" — Ohio,… Quick sites tell you if Obama or Romney are president September 27 2012  |  Visualization  |  Tags: government , Guardian In the same spirit of the quick update site on Olympic records a couple of months ago, the Guardian and Real Clear Politics tell you if Obama is still president… Presidential campaign finance explorer September 26 2012  |  Statistical Visualization  |  Tags: interactive , government , Washington Post Hey, I think it's election season, and you know what that means. It's time to dig into campaign finance data from the Federal Election Commission. The Washington Post gives you… Page 1 of 2 1 2 > Become a member. Learn to visualize your data. Support FlowingData. What you get Categories Visualization Seeing data Maps Seeing geographic data Infographics Explaining data Networks Connecting data Statistics Analyzing data Software Working with data Sources Getting data Design Making data readable Favorites How We Spend Our Money, a Breakdown Reviving the Statistical Atlas of the United States with New Data The Best Data Visualization Projects of 2011 A Day in the Life of Americans Interactive: When Do Americans Leave For Work? About Contact Sponsorship Twitter Facebook Newsletter RSS Copyright © 2007-Present FlowingData. All rights reserved. Be cool.\n",
      "--------------\n",
      "Undergraduate Study - School of Operations Research and Information Engineering - Cornell Engineering Skip to main content SEARCH: ORIE Cornell more options Search MSE Cornell Engineering School of Operations Research and Information Engineering menu Home About Academics Research People News & Events Alumni Home Academics Undergraduate Study in this section Section Navigation In This Section: Undergraduate Study Degree Requirements Program Objectives & Outcomes OR&E Affiliation Academic Standards OR&E Honors OR&E Minors Research Project Highlights Undergraduate Resources FAQ Undergrad Student Spotlights Student Organizations See also: College of Engineering Admissions Cornell Undergraduate Admissions Undergraduate Study in Operations Research and Engineering The Operations Research and Engineering (OR&E) major provides a broad education in the techniques and modeling concepts used to analyze and design complex systems. It provides an introduction to the technical and professional areas with which operations researchers and information engineers are concerned. The foundation of the major is the development of basic skills in calculus, statistics, probability, optimization, mathematical programming, and computer science which provide the fundamental tools used in the field. The basic courses in the undergraduate program major in Operations Research and Engineering provide students with a solid background in these subjects. Additional required courses in the major cover the topics of cost accounting, manufacturing systems, and simulation. In the senior year, our program is quite flexible. Students select a total of at least nine credit hours of ORIE electives. These serve to broaden and deepen their experience in the major. These electives are chosen from the areas of applied probability and applied statistics, industrial systems, optimization, information technology, or financial engineering. Nine credits of major-approved electives are also required; this requirement provides students with the flexibility to study topics closely related to Operations Research, such as information technology, quantitative management, and economics. For detailed information about the undergraduate curriculum, refer to the Undergraduate Handbook (PDF). Student Spotlight Ojus Patil \"To see the problem solving skills that would lead you to be successful within that major, that's a very smart idea.\" read more See all spotlights Quick Links: College of Engineering Site Map About this Site Contact us Intranet Facebook Twitter YouTube LinkedIn ©2016 Cornell University\n",
      "--------------\n",
      "Cisco: White Papers & Case Studies by Cisco - Brand Republic About Advertise Contact Search: News / Analysis Topics Big Data Hardware Big Data Services Big Data Software Analytics Cloud Machine Learning Data Storage High Performance Computing Visualization Industry Segments Enterprise Financial Government Healthcare Manufacturing Pharmaceuticals Research / Education Retail Utilities White Papers Resources Companies Education / Training Events Job Postings Jobs Board Podcast Research / Reports Video Industry Perspectives Sign up for our newsletter and get the latest big data news and analysis. Email Address > White Papers > Vendors > Cisco   Cisco At Cisco, customers come first and an integral part of our DNA is creating long-lasting customer partnerships and working with them to identify their needs and provide solutions that support their successes. Cisco has shaped the future of the Internet by creating unprecedented value and opportunity for our customers, employees, investors and ecosystem partners and has become the worldwide leader in networking - transforming how people connect, communicate and collaborate. Research from this company : Making the Connection: How Top Sellers Leverage Web Conferencing to Win Selling Tools of the Trade: What are the Must-Haves? Network Readiness Guide The Digital Revolution in Higher Education Success Factors of a Digitally Connected Community Enabling Bring Your Own Device Next Generation Firewall (NGFW) Security Value Map Cisco Intelligent WAN Design Guide Summary (in French) - Résumé de guide de conception Cisco Intelligent WAN Design Guide (in English) Technology Migration Program  Connected Factory Accelerator Manufacturing Thought Leadership The Hyper-Relevant Retailer: Around the World, Insight Is Currency, Context Is King Implement Video Banking To Drive Digital Sales Security for Financial Services: Addressing the Perception Gaps in a Dynamic Landscape Next Gen buyer's Guide Feeling the Pain of Scaling on AWS? There’s a Private Cloud alternative your developers will love. Cisco Metapod Tapjoy: Prioritizing big data agility and scalability Cloud must-haves for developers The Business Case for Deploying Cisco Metapod Getting Started with DevOps Automation The Case for OpenStack in the Enterprise Private Cloud Workplaces That Work Ebook Single Offer LP: IDC InfoBrief: Don’t Get Left Behind Single Offer LP: Don’t Get Left Behind - The Business Benefits of Achieving Greater Cloud Adoption Campus Wireless LAN Cisco Enterprise Mobility Landscape Survey 2015 Anticipate What Your Customers Want Gartner MQ WAN Optimization ZK Research: Cisco’s Branch Infrastructure Powers the Hybrid WAN The 2015 Guide to WAN Architecture and Design Catalyst Switching Miercom  Securing Your Branches for Direct Internet Access TWTV: Campus Switching Network Security Cisco Validated Design Summary for BYOD (in English) Cisco Intelligent WAN Design Guide Summary Simplify Your Network 2015 Gardner Magic Quadrant: Group Video Systems Offer Forbes Insights: Boost Innovation with Video Exceptional Video Topic Page Differentiate your Business with a Cloud Contact Center Miercom - Cisco Catalyst 3650 Miercom - Cisco Catalyst 4500E and Brocade FastIron SX 1600 2015 Gartner Magic Quadrant for Contact Center Infrastructure Workplaces that Work Transforming the Way People Work ZK WiFi Evolution Drives Need for Multigigabit Networks – Plan Your Path to 802.11 ac Cisco Enterprise Mobility Landscape Survey 2015 Cisco Validated Design Summary for BYOD Magic Quadrant for Contact Center Infrastructure, Worldwide Transform the Workspace with Cisco Catalyst Multigigabit Ethernet Switches Public Safety, Justice, and IoE WP and Infographic Connected Public Safety Agency WP IDC: Public Safety and the Internet of Things eRepublic: Connect and Protect GovLoop: Big Data Playbook Internet of Everything Transformation in Defense ZK WiFi Evolution Drives Need for Multigigabit Networks – Plan Your Path to 802.11 ac Cisco Validated Design Summary for BYOD-NEW MORGAN IDC: How your Small to Midsize Business Can Embrace Mobility Now Cisco Enterprise Mobility Landscape Survey 2015 Cisco Intelligent WAN Design Guide and Summary Simplify Your Network Catalyst Switching Miercom  The 2015 Guide to WAN Architecture and Design Gartner MQ WAN Optimization ZK Research: Cisco’s Branch Infrastructure Powers the Hybrid WAN TEI of Cisco TrustSEC Ovum White Paper 2015 Gartner Magic Quadrant for Contact Center Infrastructure Forrester: Top Unified Communications Trends For Midsize Businesses To Cloud or Not to Cloud: Which Communication Deployment Options is Best for Your Business 2015 Gartner Magic Quadrant: Unified Communications for Midsize Enterprises Forbes Insights: 8 Advantages of Video Conferencing 2015 Gartner Magic Quadrant: Group Video Systems Offer Workplaces That Work Ebook Forrester: TEI of UCS Top 5 Reasons to Deploy Cisco UCS IDC: Business Value of UCS for SAP Hana Unleashing IT MSFT Edition Hybrid Cloud Forrester Webinar Unleashing IT: ACI Special Issue SDN for Dummies eBook Design Guide: Migrate from Cisco Catalyst 6500 Series Switches to Cisco Nexus 9000 Switches WP: Migrate to a 40-Gbps Data Center with Cisco IDC Business Value Brief: Cisco ACI TWTV Open NX-OS: Programmability (22min.) Cisco Connected Factory Renaissance Manufacturing - IoT Manufacturing Net Webinar Services - IoT TechWiseTV How To Benefit Factory Plant Network - IoT Lopez Research: An Introduction to the Internet of Things TWTV: The Technical Reality of the Internet of Things Connected Factory Starter Kit Visibility and Control to Prevent, Detect, and Remediate Advanced Malware Everywhere Cisco 2015 Midyear Security Report Cisco Advanced Malware Protection Leads Again in NSS Test Security Everywhere: A Growth Engine for the Digital Economy Requirements When Considering a Next- Generation Firewall Cisco Mobility Solutions Overview For Large and Midsize Organizations Gartner MQ Transforming Customer Care with the Cisco Collaboration Cloud Mr. Spock and the New Customer Engagement Outcomes: From Carbon to Silicon Cisco Virtual Expertise Business Offer The Omnichannel Experience Cisco Mobile Experience Business Offer IDC ROI: Symantec Delivering on Its Strategic Vision with Next-GenSecure DC Powered by Cisco ACI Cisco ACI: Your Business Will Soar infographic IDC Business Value of SDN DC Security Solutions ZK Research: Understanding Acquisition Costs of Cisco ACI vs VMware NSX GovLoop: Convergence - First Step to IoE Smart City Readiness WP The Importance of IoT for Elected Officials Attaining IoT Value The Cisco Connected Factory: Powering a Renaissance in Manufactuing Design Guide: Virtualized Multi-Tenant Data Center (VMDC) Virtual Services Architecture (VSA) 1.0 WP: Migrate to a 40-Gbps Data Center with Cisco QSFP BiDi Technology Lippis Report: Nexus 9000 Stanley Black and Decker Case Study Forrester: TEI of Cisco Secure Data Center Solution Mitigate Risk for Data Center Network Migration Top 5 Things to Know about Cisco BiDi Optical Technology Migrate Your Data Center to an ACI IDC 40G wp for the Data Center Miercom 100G performance test for Nexus 7718 Public Safety and the Internet of Things Gartner: Hybrid Will Be the New Normal for Next Generation Enterprise WAN The 2015 Guide to Wan Architecture and Design Internet of Everything Transformation in Defense GovLoop: Big Data Playbook eRepublic: Connect and Protect 802.11ac Migration and Best Practices: Cheatsheet & Webcasts Top 10 Reasons to Switch to Cisco UCS when Migrating from Windows 2003 The Total Economic Impact™ Of Cisco Data Virtualization ESG: Microsoft SQL Server on Cisco UCS Feb 2015 IDC: Unified Infrastructure and Cloud Management: The Future of Data Center Operations UIT: Integrated Infrastructure UIT: Big Data IDC: Building Data Center to Support Your Big Data Plans Optimizing Data Engineering For The Internet of Everything Era Ovum: Connected Analytics for the Enterprise CIO Perspectives Report Unleashing IT: Cloud Special Issue IDC Report: Optimizing the Data Center Network Unleashing IT: ACI Special Issue Webcast: Is Your Data Center Ready for the Application Economy? ZK Research Report: An ACI Will Enable Business Agility SDN for Dummies eBook Forrester: Myth of White Box Switches WP Moor: Pay Attention IT WP Public Safety, Justice, and IoE WP and Infographic The Connected Public Safety Agency Forrester: TEI of UCS Exceptional Offices Ebook Workplace Transformation Topic Page (and blades) Top 5 Reasons to Deploy Cisco UCS Hybrid Cloud Forrester webinar IDC: Business Value of UCS for SAP Hana Unleashing IT MSFT edition Campus Switching Network Security TEI of Cisco TrustSEC Catalyst Switching Miercom  Technology Migration Program  IDC Business Value Brief: Cisco ACI Data Center Network Evolution WP Network Evolution Hub ZK Research: Cisco and Akamai Elevate the Customer Digital Experience Elevate the Branch Office Experience with an Application-Centric Platform Cisco Intelligent WAN Design Guide Summary Gartner MQ WAN Optimization IDC Hybrid Cloud Report ESG Microsoft Hybrid Cloud Report CIO Perspectives Report IDC Spotlight: OpenStack in the Enterprise: A Potential Foundation for Your Cloud Strategy Lopez Research Building Smarter Manufacturing - IoT Cisco Connected Factory Renaissance Manufacturing - IoT Manufacturing Net Webinar Services - IoT TechWiseTV How To Benefit Factory Plant Network - IoT Lopez Research: An Introduction to the Internet of Things TWTV: The Technical Reality of the Internet of Things The Internet of Things: Opportunities And Momentum in Manufacturing Webcast ZK WiFi Evolution Drives Need for Multigigabit Networks – Plan Your Path to 802.11 ac Connected Factory Starter Kit Campus Switching Design Guide  Techwise 802.11.ac Five Secrets of Highly Effective Data Centers Forrester - Top Unified Communication Trends For Midsize Businesses ZK Research WP: A Data Center Fabric is Critical to a Next-Generation Data To Cloud or Not to Cloud: Which Communication Deployment Options is Best for Your Business 2015 Gartner Magic Quadrant: Unified Communications for Midsize Enterprises Design Guide: Migrate from Cisco Catalyst 6500 Series Switches to Cisco Nexus 9000 Switches Design Guide: Virtualized Multi-Tenant Data Center (VMDC) Virtual Services Architecture (VSA) 1.0 De Exceptional Video Topic Page (and blades) Forbes Insights: 8 Advantages of Video Conferencing-NEW MORGAN PAGE Ovum White Paper 2015 Gartner Magic Quadrant for Contact Center Infrastructure Cisco Validated Design Guide for Campus Wireless Cisco Validated Design Summary for BYOD-NEW MORGAN IDC: Right sized for Midsize: Leverage the Network Infrastructure for Competitive Success Best Practices for Building a Mobility Strategy Cisco and Akamai Elevate the Customer Digital Experience Workplaces that Work Cisco's Branch Infrastructure Powers the Hybrid WAN A Connected Culture wins Top Talent A day in the life if the Modern Executive IDC: Business Value of UCS for SAP Hana How Engaged are your People? How-To-Guide: Workplace Collaboration 5 Essential for the Digital Workplace ZK Research White Paper: Best Practices for Building a Mobility Strategy Forbes Insights: Boost Innovation with Video IDC White Paper: Right sized for Midsize: Leverage the Network Infrastructure for Competitive Succe Video Forrester Wave IDC Video Marketscape Cisco Validated Design Guide for Campus Wireless Healthcare Giant Accelerates into Future of Wireless Pinellas County Integrates Wired and Wireless Networks Cisco Mobility Solutions Overview BYOD Design Overview Lopez Research Building Smarter Manufacturing - IoT Cisco Catalyst 3650 Test Results and Business Outcomes Attaining IoT Value Comparative Analysis: Cisco Catalyst 4500E Brocade FastIron SX 1600 Cisco Enterprise Campus Infrastructure Cisco Connected Factory Renaissance Manufacturing - IoT Miercom 2690-X Report Lopez Research: An Introduction to the Internet of Things\n",
      "--------------\n",
      "Legal Information - Wizsoft Wizsoft Sophisticated Software Applications Home About About Our Company Locations Partners Our Technology Products WizSoft Search WizWhy WizRule WizSame Industries & Solutions Auditors Financial Government Healthcare Insurance IT Scientific Research Support Overview Download Brochures Download User Manuals Training Videos Courses Case Studies WizWhy WizRule Contact & Demo Contact Us Download Demo MENU CLOSE back   Legal Information You are here: Home Legal Information WELCOME to the WizSoft Inc. (“WizSoft”) website. Please review the following terms and conditions concerning your use of this website. By accessing, using or downloading any materials from this website, you agree to follow and be bound by these terms and conditions. If you do not agree with these terms do not use this website. Copyright & Trademark Information All of the content contained on our website (www.wizsoft.com) is protected by copyright and no part of our website may be reproduced or adapted in whole or in part without our prior consent. Warranties and Disclaimers This website is provided “as is” without warranty of any kind, either expressed or implied. We disclaim, to the extent permitted by law, all liability or responsibility to anyone for any direct or indirect loss or damage that may result from the action or failure to act by anyone in reliance on the content of our website. WizSoft assumes no responsibility for errors or omissions in this website or other documents which are referenced by or linked to this website. References to third parties, their services and products, are provided “as is” without warranty of any kind either expressed or implied. In no event shall WizSoft be liable for any special, incidental, indirect, consequential, or punitive damages of any kind, or any damages whatsoever. This website could include technical or other inaccuracies or typographical errors. Changes are periodically added to the information herein; WizSoft may make improvements and/or changes in the product(s) and/or the program(s) described in this website at any time. Should you or any viewer of this website respond with information, feedback, data, questions, comments, suggestions, or the like regarding the content of any WizSoft website, any such response shall be deemed not to be confidential and WizSoft shall be free to reproduce, use, disclose, and distribute the response to others without limitation. You agree that WizSoft shall be free to use any ideas, concepts, or techniques contained in your response for any purpose. This website is distributed internationally and may contain references to WizSoft products, services, and programs that have not been announced in your country. These references do not imply that WizSoft intends to announce such products, services, or programs in your country. Trademarks WizSoft, WizCount, WizDoc, WizRule, WizSame and WizWhy are trademarks of WizSoft Ltd. in the United States and/or other countries. All other brand and product names are trademarks, registered trademarks, or service marks of their respective holders. Links to Third Party Sites Some hyperlinks in this website take visitors away from WizSoft’s registered domain – i.e., www.WizSoft.com. The linked sites are not under the control of WizSoft, and WizSoft is not responsible for the contents of any linked site or any link contained in a linked site. WizSoft is providing these links to visitors only as a convenience. Copyright 2013 WizSoft, Inc. All rights reserved | Privacy Policy | Legal Information | WizSoft, WizWhy, WizRule and WizSame are registered trademarks of WizSoft, Inc.\n",
      "--------------\n",
      "Sign in -- Sage The Sage Notebook Searching for Sage server... Version 5.11 This Sage notebook server will be shut down April 17, 2015 . Please download any work you'd like to preserve before then. You can download a zip archive of all of your active worksheets by clicking the \"Download All Active\" link at the top left of your worksheet listing page. We encourage users to migrate to SageMathCloud , the next generation web interface for Sage. You can upload Sage worksheets or a zip archive of downloaded worksheets to SageMathCloud to migrate your worksheets to SageMathCloud. Other options besides migrating to SageMathCloud are downloading and running a local Sage Notebook from your own computer, using the SageMathCell server, or setting up your own hosted Sage Notebook server . The new Sagemath Cloud is available. Work with Sage, or run Python, R, GAP, M2 and more in the Cloud . Welcome! Sage is a different approach to mathematics software. The Sage Notebook With the Sage Notebook anyone can create, collaborate on, and publish interactive worksheets. In a worksheet, one can write code using Sage, Python, and other software included in Sage. General and Advanced Pure and Applied Mathematics Use Sage for studying calculus, elementary to very advanced number theory, cryptography, commutative algebra, group theory, graph theory, numerical and exact linear algebra, and more. Use an Open Source Alternative By using Sage you help to support a viable open source alternative to Magma, Maple, Mathematica, and MATLAB. Sage includes many high-quality open source math packages. Use Most Mathematics Software from Within Sage Sage makes it easy for you to use most mathematics software together. Sage includes GAP, GP/PARI, Maxima, and Singular, and dozens of other open packages. Use a Mainstream Programming Language You work with Sage using the highly regarded scripting language Python. You can write programs that combine serious mathematics with anything else. Acknowledgement The Sage Notebook is based upon work supported by the National Science Foundation under grants DMS-0821725, DMS-1020378, DMS-0713225, DMS-0555776, DMS-0545904, DMS-0838212, DMS-0757627, DUE-1020378, DUE-1022574, DMS-1015114, etc. Any opinions, findings, and conclusions or recommendations expressed in this material are those of the author(s) and do not necessarily reflect the views of the National Science Foundation. See also http://sagemath.org/development-ack.html . Sign into the Sage Notebook v5.11 Username Password Remember me Sign in Browse published Sage worksheets (no login required) Note: If you are a returning user, please use the exact same URL for this notebook server as you used to log in previously. For example, do not use www.sagenb.org if you used sagenb.org earlier. Error: Javascript must be enabled in order to use the Sage Notebook.\n",
      "--------------\n",
      "How I Cut The Cable (And How You Can Too!) false\n",
      "--------------\n",
      "AlterWind Log Analyzers comparison. Reports for search engine optimization, web site promotion, web site marketing     AlterWind Log Analyzer Professional     AlterWind Log Analyzer Standard     AlterWind Log Analyzer Lite     Search Engine Optimization     Website Promotion     Website Marketing     Pay-Per-Click Log Analyzers Comparison Feature AlterWind Log Analyzer Professional AlterWind Log Analyzer Standard AlterWind Log Analyzer Lite Search engines over 430 over 430 over 430 Catalogs over 120 - - Filters 20 20 - Number of Report Templates Not limited 1 - Custom log format Yes Yes Yes Automatically detects standard log format Yes Yes Yes Command line mode Yes Yes - Automatically log adding into Log List Yes Yes - Fake referrers filtration Yes Yes - Sorting the reports on any field Yes Yes - Reports   Total 52 33 23 General Statistics 1 1 1 Summary Yes Yes Yes Activity Statistics 4 4 4 Daily Yes Yes Yes Average by Hour of Day Yes Yes Yes Average by Day of Week Yes Yes Yes Average by Month Yes Yes Yes Access Statistics 24 13 8 Pages Yes Yes Yes Pages Not Visited from Search Engines   Unique! Yes - - Entry Pages Yes Yes Yes Exit Pages Yes Yes Yes Single Viewing Yes Yes Yes Time of Viewing Pages Yes Yes - Images Yes Yes Yes Files Yes Yes Yes Other Resources Yes Yes - Directories Yes Yes Yes File Types Yes Yes Yes Entry Sources from Search Engines   Unique! Yes - - Paths Yes Yes - Paths by Search Phrases   Unique! Yes - - Paths by Referring Sites   Unique! Yes - - Paths by Referring URLs   Unique! Yes - - View Depth Yes Yes - View Depth by Search Phrases   Unique! Yes - - View Depth by Referring Sites   Unique! Yes - - View Depth by Referring URLs   Unique! Yes - - Time of Viewing Site Yes Yes - Time of Viewing Site by Search Phrases   Unique! Yes - - Time of Viewing Site by Referring Sites   Unique! Yes - - Time of Viewing Site by Referring URLs   Unique! Yes - - Visitors 2 2 1 Hosts Yes Yes Yes Countries Yes Yes - Referrers 15 7 5 Summary by Referrers Yes Yes Yes Referring Sites Yes Yes Limited Referring URLs Yes Yes Limited Tops and Catalogs   Unique! Yes - - Mail Services   Unique! Yes - - Search Engines Yes Yes Yes Search Phrases Yes Yes Yes Phrases By Engines Yes Yes - Engines By Phrases Yes Yes - Search Engines by Entry Resources   Unique! Yes - - Search Phrases by Entry Resources   Unique! Yes - - Search URLs by Search Engines Yes - - Search URLs by Search Phrases Yes - - URLs for Entry Resources by Search Engines   Unique! Yes - - URLs for Entry Resources by Search Phrases   Unique! Yes - - Browsers and Platforms 4 4 2 Browsers Yes Yes Yes Operating Systems Yes Yes Yes Spiders Yes Yes - Other User Agents Yes Yes - Errors 2 2 2 404 Errors Yes Yes Limited Other Errors Yes Yes Limited  \n",
      "--------------\n",
      "Origin | Just another WordPress.com weblog Origin Just another WordPress.com weblog Not Found Sorry, but you are looking for something that isn’t here. Search: The Kubrick Theme . Blog at WordPress.com . Entries (RSS) and Comments (RSS) . Follow Follow “Origin” Get every new post delivered to your Inbox. Join 299 other followers Build a website with WordPress.com\n",
      "--------------\n",
      "Maximum Flow implementation on Spark GraphX and Raspberry Pi Spark cluster demo - Data Science & Business Analytics (Denver, CO) - Meetup align-top arrow-left arrow-right back bell block calendar camera chat chevron-left chevron-right chevron-small-down chevron-up circle-with-cross cross edit facebook globe google images instagram location-pin mail more muplabel Shape 3 + Rectangle 1 outlook person plus Imported Layers Imported Layers Imported Layers shield star twitter yahoo Find a Meetup Group 50 % OFF Start a Meetup Group English Deutsch Español Français Italiano Português 日本語 Log in Sign up Data Science & Business Analytics Home Members Sponsors Photos Pages Discussions Message Board Mailing List More Polls Files Report this group Join us! Featured Meetup Maximum Flow implementation on Spark GraphX and Raspberry Pi Spark cluster demo Tell a friend Share Wednesday, January 27, 2016 6:00 PM Oracle 500 Eldorado Boulevard, Broomfield , CO ( map ) 39.922585 -105.131821 IMPORTANT: If your Meetup.com name is not your real first AND LAST NAME, please e-mail that info to [masked] Security at Oracle is requiring us to provide a list of attendees in advance. Also bring with you a GOVERNMENT PHOTO ID (drivers license, or passport, etc). You may be turned away if they do not have your full name in advance or if you don't bring an ID. RSVPs will close Monday, January 25, 2016 , in order that I can provide the attendee list to security at Oracle. On the evening of the event, just come to building 1 and check in with security, then proceed down the hall to the \"conference center\". We'll be in the nice 75-person conference/training room this time (instead of the 300-person cafeteria which had a terrible echo last time). Agenda 6:00pm Pizza and networking 6:30pm Announcements 6:40pm Maximum Flow algorithm implementation on Spark GraphX, by Ryan Langewisch 7:50pm Demo of 4-node Raspberry Pi Spark cluster, by Andrew Weekley 8:15pm adjourn This event is being held in cooperation wi\n",
      "--------------\n",
      "horizon graph | FlowingData Membership Tutorials Guides Books Features Become a Member  |  Log in horizon graph Horizon Graphs, with a Food Pricing Example The rarely used chart type for time series data is actually quite nice, once you get the hang of it. Although it does have its limitations. Become a member. Learn to visualize your data. Support FlowingData. What you get Categories Visualization Seeing data Maps Seeing geographic data Infographics Explaining data Networks Connecting data Statistics Analyzing data Software Working with data Sources Getting data Design Making data readable Favorites Life expectancy changes Top Brewery Road Trip, Routed Algorithmically Where Bars Outnumber Grocery Stores Jobs Charted by State and Salary Most popular porn searches, by state About Contact Sponsorship Twitter Facebook Newsletter RSS Copyright © 2007-Present FlowingData. All rights reserved. Be cool.\n",
      "--------------\n",
      "Comments on: insideBIGDATA Guide to the Retail Industry: Sponsored by Dell and Intel Comments on: insideBIGDATA Guide to the Retail Industry: Sponsored by Dell and Intel insideBIGDATA: Clear, Concise Insights on Big Data Strategies\n",
      "--------------\n",
      "Database Solutions for Risk Management - MemSQL Product Solutions Case Studies Company Community Edition Blog Partners Resources Documentation Contact Community Edition Blog Partners Resources Documentation Contact Product Overview What's New Features Demos Integration Ops Streamliner Solutions Industries Applications Technology Solutions Case Studies Company Company Leadership Investors Careers News and Events Download Now Download Database Solutions for Risk Management Growth and longevity in the enterprise require quantifying and planning around risk. Risk calculations aggregate data from many sources across an organization. Enterprise risk aversion demands not only the ability to calculate present risk, but to run hypothetical \"what if\" scenarios to improve planning for the future. MemSQL Benefits for Risk Management Use Cases Calculate volatile metrics frequently for more granular risk assessment Ingest millions of records per second without blocking analytical queries Serve the results of risk calculations to hundreds or thousands of concurrent users Novus Gives Investors Peace of Mind Find out how Novus Partners allows their customers to manage portfolios and make risk assessments in real-time. Watch the Video → Get Started with MemSQL Community Edition Unlimited scale and capacity. Free forever. Download Community Edition Additional Resources Ziff Davis Case Study CPXi Case Study Overlap Ad Targeting with MemSQL Gartner Market Guide for In-Memory DBMS MemSQL Blog MemSQL Documentation × Comcast Presentation at Strata + Hadoop World Product Overview What's New Features Demos Integration Ops Community Edition Solutions Industries Applications Technology Company Company Leadership Investors Careers News Events Resources Resource Library Blog Case Studies Documentation © Copyright 2016. MemSQL Inc. All Rights Reserved. Privacy Policy Terms of Service Contact Us\n",
      "--------------\n"
     ]
    }
   ],
   "source": [
    "for j in ret:\n",
    "    print df.iloc[j]['content']\n",
    "    print '--------------'"
   ]
  },
  {
   "cell_type": "code",
   "execution_count": null,
   "metadata": {
    "collapsed": true
   },
   "outputs": [],
   "source": []
  }
 ],
 "metadata": {
  "kernelspec": {
   "display_name": "Python 2",
   "language": "python",
   "name": "python2"
  },
  "language_info": {
   "codemirror_mode": {
    "name": "ipython",
    "version": 2
   },
   "file_extension": ".py",
   "mimetype": "text/x-python",
   "name": "python",
   "nbconvert_exporter": "python",
   "pygments_lexer": "ipython2",
   "version": "2.7.10"
  }
 },
 "nbformat": 4,
 "nbformat_minor": 2
}
