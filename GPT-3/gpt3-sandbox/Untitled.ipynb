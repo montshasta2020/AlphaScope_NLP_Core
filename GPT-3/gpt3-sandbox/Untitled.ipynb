{
 "cells": [
  {
   "cell_type": "code",
   "execution_count": 1,
   "id": "c2ebe204",
   "metadata": {},
   "outputs": [],
   "source": [
    "import os\n",
    "import sys\n",
    "#sys.path.append(os.path.dirname(os.path.dirname(os.path.realpath(__file__))))\n",
    "\n",
    "from api import demo_web_app\n",
    "from api import GPT, Example, UIConfig"
   ]
  },
  {
   "cell_type": "code",
   "execution_count": 2,
   "id": "1e30cf3c",
   "metadata": {},
   "outputs": [],
   "source": [
    "question_prefix = 'Q: '\n",
    "question_suffix = \"\\n\"\n",
    "answer_prefix = \"A: \"\n",
    "answer_suffix = \"\\n\\n\""
   ]
  },
  {
   "cell_type": "code",
   "execution_count": 3,
   "id": "55067562",
   "metadata": {},
   "outputs": [],
   "source": [
    "# Construct GPT object and show some examples\n",
    "gpt = GPT(engine=\"davinci\",\n",
    "          temperature=0.5,\n",
    "          max_tokens=100,\n",
    "          input_prefix=question_prefix,\n",
    "          input_suffix=question_suffix,\n",
    "          output_prefix=answer_prefix,\n",
    "          output_suffix=answer_suffix,\n",
    "          append_output_prefix_to_query=True)"
   ]
  },
  {
   "cell_type": "code",
   "execution_count": 4,
   "id": "e7055003",
   "metadata": {},
   "outputs": [],
   "source": [
    "gpt.add_example(Example('What is human life expectancy in the United States?',\n",
    "                        'Human life expectancy in the United States is 78 years.'))\n",
    "gpt.add_example(\n",
    "    Example('Who was president of the United States in 1955?', 'Dwight D. Eisenhower was president of the United States in 1955.'))\n",
    "gpt.add_example(Example(\n",
    "    'What party did he belong to?', 'He belonged to the Republican Party.'))\n",
    "gpt.add_example(Example('Who was president of the United States before George W. Bush?',\n",
    "                        'Bill Clinton was president of the United States before George W. Bush.'))\n",
    "gpt.add_example(Example('In what year was the Coronation of Queen Elizabeth?',\n",
    "                        'The Coronation of Queen Elizabeth was in 1953.'))\n"
   ]
  },
  {
   "cell_type": "code",
   "execution_count": 5,
   "id": "1cd94a9e",
   "metadata": {},
   "outputs": [],
   "source": [
    "# Define UI configuration\n",
    "config = UIConfig(description=\"Question to Answer\",\n",
    "                  button_text=\"Answer\",\n",
    "                  placeholder=\"Who wrote the song 'Hey Jude'?\")"
   ]
  },
  {
   "cell_type": "code",
   "execution_count": 6,
   "id": "b4578637",
   "metadata": {},
   "outputs": [
    {
     "ename": "RuntimeError",
     "evalue": "The environment variable 'OPENAI_CONFIG' is not set and as such configuration could not be loaded.  Set this variable and make it point to a configuration file",
     "output_type": "error",
     "traceback": [
      "\u001b[0;31m---------------------------------------------------------------------------\u001b[0m",
      "\u001b[0;31mRuntimeError\u001b[0m                              Traceback (most recent call last)",
      "Input \u001b[0;32mIn [6]\u001b[0m, in \u001b[0;36m<cell line: 1>\u001b[0;34m()\u001b[0m\n\u001b[0;32m----> 1\u001b[0m \u001b[43mdemo_web_app\u001b[49m\u001b[43m(\u001b[49m\u001b[43mgpt\u001b[49m\u001b[43m,\u001b[49m\u001b[43m \u001b[49m\u001b[43mconfig\u001b[49m\u001b[43m)\u001b[49m\n",
      "File \u001b[0;32m~/Projects/Stocks/AlphaScope_NLP_Core/gpt3-sandbox/api/demo_web_app.py:21\u001b[0m, in \u001b[0;36mdemo_web_app\u001b[0;34m(gpt, config)\u001b[0m\n\u001b[1;32m     18\u001b[0m \u001b[38;5;124;03m\"\"\"Creates Flask app to serve the React app.\"\"\"\u001b[39;00m\n\u001b[1;32m     19\u001b[0m app \u001b[38;5;241m=\u001b[39m Flask(\u001b[38;5;18m__name__\u001b[39m)\n\u001b[0;32m---> 21\u001b[0m \u001b[43mapp\u001b[49m\u001b[38;5;241;43m.\u001b[39;49m\u001b[43mconfig\u001b[49m\u001b[38;5;241;43m.\u001b[39;49m\u001b[43mfrom_envvar\u001b[49m\u001b[43m(\u001b[49m\u001b[43mCONFIG_VAR\u001b[49m\u001b[43m)\u001b[49m\n\u001b[1;32m     22\u001b[0m set_openai_key(app\u001b[38;5;241m.\u001b[39mconfig[KEY_NAME])\n\u001b[1;32m     24\u001b[0m \u001b[38;5;129m@app\u001b[39m\u001b[38;5;241m.\u001b[39mroute(\u001b[38;5;124m\"\u001b[39m\u001b[38;5;124m/params\u001b[39m\u001b[38;5;124m\"\u001b[39m, methods\u001b[38;5;241m=\u001b[39m[\u001b[38;5;124m\"\u001b[39m\u001b[38;5;124mGET\u001b[39m\u001b[38;5;124m\"\u001b[39m])\n\u001b[1;32m     25\u001b[0m \u001b[38;5;28;01mdef\u001b[39;00m \u001b[38;5;21mget_params\u001b[39m():\n\u001b[1;32m     26\u001b[0m     \u001b[38;5;66;03m# pylint: disable=unused-variable\u001b[39;00m\n",
      "File \u001b[0;32m~/.local/lib/python3.8/site-packages/flask/config.py:105\u001b[0m, in \u001b[0;36mConfig.from_envvar\u001b[0;34m(self, variable_name, silent)\u001b[0m\n\u001b[1;32m    103\u001b[0m     \u001b[38;5;28;01mif\u001b[39;00m silent:\n\u001b[1;32m    104\u001b[0m         \u001b[38;5;28;01mreturn\u001b[39;00m \u001b[38;5;28;01mFalse\u001b[39;00m\n\u001b[0;32m--> 105\u001b[0m     \u001b[38;5;28;01mraise\u001b[39;00m \u001b[38;5;167;01mRuntimeError\u001b[39;00m(\n\u001b[1;32m    106\u001b[0m         \u001b[38;5;124m\"\u001b[39m\u001b[38;5;124mThe environment variable \u001b[39m\u001b[38;5;132;01m%r\u001b[39;00m\u001b[38;5;124m is not set \u001b[39m\u001b[38;5;124m\"\u001b[39m\n\u001b[1;32m    107\u001b[0m         \u001b[38;5;124m\"\u001b[39m\u001b[38;5;124mand as such configuration could not be \u001b[39m\u001b[38;5;124m\"\u001b[39m\n\u001b[1;32m    108\u001b[0m         \u001b[38;5;124m\"\u001b[39m\u001b[38;5;124mloaded.  Set this variable and make it \u001b[39m\u001b[38;5;124m\"\u001b[39m\n\u001b[1;32m    109\u001b[0m         \u001b[38;5;124m\"\u001b[39m\u001b[38;5;124mpoint to a configuration file\u001b[39m\u001b[38;5;124m\"\u001b[39m \u001b[38;5;241m%\u001b[39m variable_name\n\u001b[1;32m    110\u001b[0m     )\n\u001b[1;32m    111\u001b[0m \u001b[38;5;28;01mreturn\u001b[39;00m \u001b[38;5;28mself\u001b[39m\u001b[38;5;241m.\u001b[39mfrom_pyfile(rv, silent\u001b[38;5;241m=\u001b[39msilent)\n",
      "\u001b[0;31mRuntimeError\u001b[0m: The environment variable 'OPENAI_CONFIG' is not set and as such configuration could not be loaded.  Set this variable and make it point to a configuration file"
     ]
    }
   ],
   "source": [
    "demo_web_app(gpt, config)"
   ]
  },
  {
   "cell_type": "code",
   "execution_count": null,
   "id": "25cf4c75",
   "metadata": {},
   "outputs": [],
   "source": []
  }
 ],
 "metadata": {
  "kernelspec": {
   "display_name": "Python 3 (ipykernel)",
   "language": "python",
   "name": "python3"
  },
  "language_info": {
   "codemirror_mode": {
    "name": "ipython",
    "version": 3
   },
   "file_extension": ".py",
   "mimetype": "text/x-python",
   "name": "python",
   "nbconvert_exporter": "python",
   "pygments_lexer": "ipython3",
   "version": "3.8.10"
  }
 },
 "nbformat": 4,
 "nbformat_minor": 5
}
