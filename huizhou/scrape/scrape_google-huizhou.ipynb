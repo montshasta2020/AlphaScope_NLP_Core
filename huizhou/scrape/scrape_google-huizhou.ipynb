{
 "cells": [
  {
   "cell_type": "code",
   "execution_count": 1,
   "metadata": {
    "collapsed": false
   },
   "outputs": [],
   "source": [
    "import pandas as pd\n",
    "from selenium import webdriver \n",
    "from bs4 import BeautifulSoup\n",
    "import time"
   ]
  },
  {
   "cell_type": "code",
   "execution_count": 2,
   "metadata": {
    "collapsed": true
   },
   "outputs": [],
   "source": [
    "from datetime import date, timedelta, datetime\n",
    "import os.path"
   ]
  },
  {
   "cell_type": "code",
   "execution_count": 3,
   "metadata": {
    "collapsed": false
   },
   "outputs": [],
   "source": [
    "t0 =  date.today()"
   ]
  },
  {
   "cell_type": "code",
   "execution_count": 6,
   "metadata": {
    "collapsed": false
   },
   "outputs": [],
   "source": [
    "#news_url = 'https://www.google.com/search?hl=en&gl=us&tbm=nws&authuser=0&q=徽文化'\n",
    "news_url=\"https://www.google.com/#q=%E5%BE%BD%E6%96%87%E5%8C%96&tbm=nws&num=100\"\n",
    "datetime_str = t0\n",
    "fname1 = './data/news/' + 'google-huizhou-news' + '.csv'\n"
   ]
  },
  {
   "cell_type": "code",
   "execution_count": 7,
   "metadata": {
    "collapsed": true
   },
   "outputs": [],
   "source": [
    "def get_columns():\n",
    "    return ('dt', 'source', 'domain', 'url', 'title', 'summary', 'image', 'brief', 'body', 'raw_page', 'from') \n",
    "def get_empty_columns():\n",
    "    return ('', '', '', '', '', '', '', '', '', '', '') \n",
    "def get_empty_columns1():\n",
    "    return ('', '', '', '', '', '', '', '', '', '', '','') \n",
    "\n"
   ]
  },
  {
   "cell_type": "code",
   "execution_count": 8,
   "metadata": {
    "collapsed": false
   },
   "outputs": [],
   "source": [
    "browser = webdriver.Firefox() \n",
    "#browser = webdriver.Chrome('/Users/nhu2000/Downloads/Chromedriver')"
   ]
  },
  {
   "cell_type": "code",
   "execution_count": 9,
   "metadata": {
    "collapsed": false
   },
   "outputs": [],
   "source": [
    "if os.path.isfile(fname1): \n",
    "    df = pd.read_csv(fname1)\n",
    "    idx = len(df.index)\n",
    "else:\n",
    "    df = pd.DataFrame(columns = get_columns())\n",
    "    idx = 0"
   ]
  },
  {
   "cell_type": "code",
   "execution_count": 10,
   "metadata": {
    "collapsed": false
   },
   "outputs": [
    {
     "name": "stdout",
     "output_type": "stream",
     "text": [
      "dt          629\n",
      "source      629\n",
      "domain        0\n",
      "url         629\n",
      "title       629\n",
      "summary       0\n",
      "image       469\n",
      "brief       629\n",
      "body          0\n",
      "raw_page      0\n",
      "from        629\n",
      "dtype: int64\n"
     ]
    }
   ],
   "source": [
    "print df.count()"
   ]
  },
  {
   "cell_type": "code",
   "execution_count": 11,
   "metadata": {
    "collapsed": true
   },
   "outputs": [],
   "source": [
    "\n",
    "browser.get(news_url)\n",
    "time.sleep(5)\n"
   ]
  },
  {
   "cell_type": "code",
   "execution_count": 12,
   "metadata": {
    "collapsed": false
   },
   "outputs": [
    {
     "data": {
      "text/html": [
       "<div>\n",
       "<table border=\"1\" class=\"dataframe\">\n",
       "  <thead>\n",
       "    <tr style=\"text-align: right;\">\n",
       "      <th></th>\n",
       "      <th>dt</th>\n",
       "      <th>source</th>\n",
       "      <th>domain</th>\n",
       "      <th>url</th>\n",
       "      <th>title</th>\n",
       "      <th>summary</th>\n",
       "      <th>image</th>\n",
       "      <th>brief</th>\n",
       "      <th>body</th>\n",
       "      <th>raw_page</th>\n",
       "      <th>from</th>\n",
       "    </tr>\n",
       "  </thead>\n",
       "  <tbody>\n",
       "    <tr>\n",
       "      <th>0</th>\n",
       "      <td>2017-01-01</td>\n",
       "      <td>人民网</td>\n",
       "      <td>NaN</td>\n",
       "      <td>http://culture.people.com.cn/n1/2017/0101/c101...</td>\n",
       "      <td>徽州古建筑保护遇窘境专家建言防“建设性破坏”</td>\n",
       "      <td>NaN</td>\n",
       "      <td>NaN</td>\n",
       "      <td>安徽省文史研究馆馆员方利山近日在谈到徽州古建筑保护时表示。 徽派建筑是中国传统建筑最重要的流...</td>\n",
       "      <td>NaN</td>\n",
       "      <td>NaN</td>\n",
       "      <td>google</td>\n",
       "    </tr>\n",
       "    <tr>\n",
       "      <th>1</th>\n",
       "      <td>2016-12-09</td>\n",
       "      <td>中国新闻网</td>\n",
       "      <td>NaN</td>\n",
       "      <td>http://www.chinanews.com/cul/2016/12-10/808973...</td>\n",
       "      <td>30余位中外书画家皖南体验“徽文化”</td>\n",
       "      <td>NaN</td>\n",
       "      <td>NaN</td>\n",
       "      <td>中新社黄山12月10日电(赵强)“我对皖南一直很向往，'徽文化'作为中华传统文化重要组成部分...</td>\n",
       "      <td>NaN</td>\n",
       "      <td>NaN</td>\n",
       "      <td>google</td>\n",
       "    </tr>\n",
       "    <tr>\n",
       "      <th>2</th>\n",
       "      <td>2016-12-31</td>\n",
       "      <td>搜狐</td>\n",
       "      <td>NaN</td>\n",
       "      <td>http://travel.sohu.com/20161231/n477476185.shtml</td>\n",
       "      <td>石川坞-千年古徽杭宗亲的联络线</td>\n",
       "      <td>NaN</td>\n",
       "      <td>https://encrypted-tbn1.gstatic.com/images?q=tb...</td>\n",
       "      <td>梓桐镇是一座历史文化古镇,受到千年古徽州文化的影响,其文化底蕴颇为深厚。 因此来到这里旅行首...</td>\n",
       "      <td>NaN</td>\n",
       "      <td>NaN</td>\n",
       "      <td>google</td>\n",
       "    </tr>\n",
       "    <tr>\n",
       "      <th>3</th>\n",
       "      <td>2016-12-31</td>\n",
       "      <td>搜狐</td>\n",
       "      <td>NaN</td>\n",
       "      <td>http://sports.sohu.com/20161231/n477491596.shtml</td>\n",
       "      <td>叶长荫：竞与赛把人气聚学与鉴中促宣传</td>\n",
       "      <td>NaN</td>\n",
       "      <td>data:image/jpeg;base64,/9j/4AAQSkZJRgABAQAAAQA...</td>\n",
       "      <td>作为徽商故里、徽文化的发祥地黄山市不仅文化灿烂，而且生态优质，森林覆盖率高达82.9%，地表...</td>\n",
       "      <td>NaN</td>\n",
       "      <td>NaN</td>\n",
       "      <td>google</td>\n",
       "    </tr>\n",
       "    <tr>\n",
       "      <th>4</th>\n",
       "      <td>2017-01-01</td>\n",
       "      <td>中国网</td>\n",
       "      <td>NaN</td>\n",
       "      <td>http://travel.china.com.cn/txt/2017-01/01/cont...</td>\n",
       "      <td>名山名园携手美丽黄山时隔55年再入颐和园</td>\n",
       "      <td>NaN</td>\n",
       "      <td>data:image/jpeg;base64,/9j/4AAQSkZJRgABAQAAAQA...</td>\n",
       "      <td>2017年1月1日至2月12日（从元旦到元宵）， “梦幻黄山礼仪徽州”摄影作品 ... 象征...</td>\n",
       "      <td>NaN</td>\n",
       "      <td>NaN</td>\n",
       "      <td>google</td>\n",
       "    </tr>\n",
       "  </tbody>\n",
       "</table>\n",
       "</div>"
      ],
      "text/plain": [
       "           dt source  domain  \\\n",
       "0  2017-01-01    人民网     NaN   \n",
       "1  2016-12-09  中国新闻网     NaN   \n",
       "2  2016-12-31     搜狐     NaN   \n",
       "3  2016-12-31     搜狐     NaN   \n",
       "4  2017-01-01    中国网     NaN   \n",
       "\n",
       "                                                 url                   title  \\\n",
       "0  http://culture.people.com.cn/n1/2017/0101/c101...  徽州古建筑保护遇窘境专家建言防“建设性破坏”   \n",
       "1  http://www.chinanews.com/cul/2016/12-10/808973...      30余位中外书画家皖南体验“徽文化”   \n",
       "2   http://travel.sohu.com/20161231/n477476185.shtml         石川坞-千年古徽杭宗亲的联络线   \n",
       "3   http://sports.sohu.com/20161231/n477491596.shtml      叶长荫：竞与赛把人气聚学与鉴中促宣传   \n",
       "4  http://travel.china.com.cn/txt/2017-01/01/cont...    名山名园携手美丽黄山时隔55年再入颐和园   \n",
       "\n",
       "   summary                                              image  \\\n",
       "0      NaN                                                NaN   \n",
       "1      NaN                                                NaN   \n",
       "2      NaN  https://encrypted-tbn1.gstatic.com/images?q=tb...   \n",
       "3      NaN  data:image/jpeg;base64,/9j/4AAQSkZJRgABAQAAAQA...   \n",
       "4      NaN  data:image/jpeg;base64,/9j/4AAQSkZJRgABAQAAAQA...   \n",
       "\n",
       "                                               brief  body  raw_page    from  \n",
       "0  安徽省文史研究馆馆员方利山近日在谈到徽州古建筑保护时表示。 徽派建筑是中国传统建筑最重要的流...   NaN       NaN  google  \n",
       "1  中新社黄山12月10日电(赵强)“我对皖南一直很向往，'徽文化'作为中华传统文化重要组成部分...   NaN       NaN  google  \n",
       "2  梓桐镇是一座历史文化古镇,受到千年古徽州文化的影响,其文化底蕴颇为深厚。 因此来到这里旅行首...   NaN       NaN  google  \n",
       "3  作为徽商故里、徽文化的发祥地黄山市不仅文化灿烂，而且生态优质，森林覆盖率高达82.9%，地表...   NaN       NaN  google  \n",
       "4  2017年1月1日至2月12日（从元旦到元宵）， “梦幻黄山礼仪徽州”摄影作品 ... 象征...   NaN       NaN  google  "
      ]
     },
     "execution_count": 12,
     "metadata": {},
     "output_type": "execute_result"
    }
   ],
   "source": [
    "df.head()"
   ]
  },
  {
   "cell_type": "code",
   "execution_count": 13,
   "metadata": {
    "collapsed": false
   },
   "outputs": [],
   "source": [
    "#print browser.page_source"
   ]
  },
  {
   "cell_type": "code",
   "execution_count": 36,
   "metadata": {
    "collapsed": false
   },
   "outputs": [
    {
     "name": "stdout",
     "output_type": "stream",
     "text": [
      "新版《水浒》潘金莲很纯\n",
      "天津文交所打造徽韵艺术品资产包\n",
      "《菊豆》道具进祠堂千年古村靠“垃圾”捧场?\n",
      "建设文化桐城桐城市市政府市委为文博馆搬家\n",
      "任程伟做客BTV再创奇迹转身再拍《徽骆驼》\n",
      "仙境婺源入画来——首都采风团探访中国最美乡村图记\n",
      "安徽旅游新规划频闪新亮点首次提出\"旅游功能区\"\n",
      "安徽文化现象:新文化运动最初参与者多半为徽人\n",
      "海外华裔青少年“中国寻根之旅”夏令营安徽营开营\n",
      "沿着“合福”高铁看风景带给你最完整的徽州体验\n",
      "休宁县史上曾有19名文武状元故居大多保存较好\n",
      "“爱辉”恢复“瑷珲”：地名变更背后的政经逻辑\n",
      "百余外国留学生河北展示中国范儿(图)\n",
      "源泉博物馆将展古徽州饼模合肥市民可手工做\n",
      "即将到来的G20 在钱塘江畔享受国宾规格的待客之道\n",
      "新安江畔“一枝梅”\n",
      "一生癡絕處，無夢到徽州\n",
      "\"挑担徽茶雾里青徒步北京庆奥运\"顺利抵京[组图]\n",
      "世界知名乡村旅游国际品牌首次正式落户中国\n",
      "阳产土楼坡山云海歙县自驾2日游\n",
      "无锡童谣也科普-- 说说古代童谣当中的防火经验\n",
      "中国5A级景区门票均价112元高于欧美日韩\n",
      "天井：“家族精神”的反映\n",
      "视频：2012安徽卫视春晚全程回顾(7)\n",
      "九江营造校园足球文化小学生比赛设计队徽（图）\n",
      "姚安娜：建设“三位一体”国际旅游城市\n",
      "徽州行：及第登科呈坎游水口荷叶无穷碧\n",
      "车展专访北京星徽旗舰汽车总经理鞠革\n",
      "第5届世界传统武术锦标赛将于11月5日在黄山举办\n",
      "包公园之清风阁：弘扬包公精神融汇徽州文化精义\n",
      "“匠心时刻YOGA艺术周”12月29日走进苏州诚品书店\n",
      "十大美丽乡村：黄山市黄村（组图）\n",
      "理解讲道德有品行的含义\n",
      "爱摄家︱草根婺剧酸甜苦辣戏班人\n",
      "【网聚美好安徽】锦绣山河筑梦美好安徽\n",
      "独家访问：中国版《花木兰》诞生记\n",
      "安徽黄山市中国旅行社荣获“全国地接社20强”\n",
      "民俗文化现身祥源金港湾文化碰撞全新感受\n",
      "安徽黄山市金瓶梅遗址公园黄金周开张遭冷遇\n",
      "合肥家长骑车接孩子爱“反穿衣” 交警：要温\n",
      "航展观察:歼-10系列战机,中华民族的\"争气机\"\n",
      "首届德懋堂TED沙龙举行(图)\n",
      "人型站板“yandao”警员结婚了！\n",
      "徽州黄山纪游之四：屯溪老街\n",
      "安徽将启动建设“大黄山国家公园”\n",
      "古朴精致徽州四雕之“木雕”\n",
      "《徽州往事》上演旧时代题材传达前卫精神\n",
      "长三角规划宁杭城市等级之辩:杭州真不如南京？\n",
      "收藏实用两相宜古代徽风木雕家\n",
      "项德胜：为了徽墨制作技艺的传承\n",
      "泰皇在位70年病逝一個時代的結束\n",
      "传承玉德，自律律人——玩玉当重德\n",
      "安徽12幢徽派古宅将整体搬迁至上海\n",
      "《徽腔京调交响演唱会》沪上唱响传承徽京文化\n",
      "壮美震撼感人全国网台记者评《梦里老家》远超张艺谋手笔\n",
      "如何让你的阅读更高效？——1700本书阅读总结\n",
      "安徽春晚吴亦凡上演T台秀蔡依林劲歌热舞\n",
      "北现文化之旅美设计师解析流体雕塑\n",
      "[文娱]《新安家族》讲述徽商再掀商旅大戏热潮\n",
      "水墨婺源亮彩不唯油菜花晒秋人家晒\"活\"篁岭古村落\n",
      "梦寻徽州尽享新安江水置身画廊中的航行\n",
      "中学生感受传统文化魅力\n",
      "各地第二批游览参观点及5A景区门票降价名单公布\n"
     ]
    }
   ],
   "source": [
    "soup = BeautifulSoup(browser.page_source)\n",
    "sub_texts = soup.findAll('div', {'class':'g _cy'})\n",
    "\n",
    "#print len(sub_texts)\n",
    "for txt in sub_texts:\n",
    "\n",
    "    #set title and url    \n",
    "    link = txt.find('div', {'class': '_cnc'})\n",
    "    \n",
    "    #check if it is already existed\n",
    "    t0 = abs(sum(df['url'].str.find(str(link.a['href'])))) \n",
    "    if(t0 == len(df)):       \n",
    "        print link.a.text\n",
    "        df.loc[idx] = get_empty_columns()\n",
    "\n",
    "        #set title and url    \n",
    "        df.loc[idx]['url'] = link.a['href']\n",
    "        df.loc[idx]['title'] = link.a.text\n",
    "\n",
    "        #set image source\n",
    "        if txt.a.img:\n",
    "            df.loc[idx]['image'] = txt.a.img['src'] \n",
    "        \n",
    "        #split between source and time with '-'\n",
    "        t1 = link.div.text\n",
    "        t2 = t1.split('-')\n",
    "\n",
    "\n",
    "        if \"ago\" in t2[len(t2)-1]:\n",
    "            df.loc[idx]['dt'] = t0\n",
    "        else:                    \n",
    "            df.loc[idx]['dt'] = pd.to_datetime(t2[len(t2)-1]).to_pydatetime().date()\n",
    "    \n",
    "        df.loc[idx]['source'] = t2[0]\n",
    "    \n",
    "        t3 = link.find('div', {'class': 'st'})\n",
    "        df.loc[idx]['brief'] = t3.text\n",
    "\n",
    "        #print txt, t2\n",
    "        df.loc[idx]['from'] = 'google'\n",
    "            \n",
    "        #load_one_page(df, idx, link.a['href'])\n",
    "        idx += 1 \n"
   ]
  },
  {
   "cell_type": "code",
   "execution_count": 20,
   "metadata": {
    "collapsed": false
   },
   "outputs": [
    {
     "name": "stdout",
     "output_type": "stream",
     "text": [
      "攀枝花日报\n"
     ]
    }
   ],
   "source": [
    "print t2[1]"
   ]
  },
  {
   "cell_type": "code",
   "execution_count": 38,
   "metadata": {
    "collapsed": false
   },
   "outputs": [],
   "source": [
    "df.to_csv(fname1, encoding='utf-8', index=False)"
   ]
  },
  {
   "cell_type": "code",
   "execution_count": 39,
   "metadata": {
    "collapsed": false
   },
   "outputs": [],
   "source": [
    "if(browser):\n",
    "    browser.quit()"
   ]
  },
  {
   "cell_type": "code",
   "execution_count": 37,
   "metadata": {
    "collapsed": false
   },
   "outputs": [
    {
     "name": "stdout",
     "output_type": "stream",
     "text": [
      "1158\n"
     ]
    }
   ],
   "source": [
    "print len(df)"
   ]
  },
  {
   "cell_type": "code",
   "execution_count": null,
   "metadata": {
    "collapsed": true
   },
   "outputs": [],
   "source": []
  }
 ],
 "metadata": {
  "kernelspec": {
   "display_name": "Python 2",
   "language": "python",
   "name": "python2"
  },
  "language_info": {
   "codemirror_mode": {
    "name": "ipython",
    "version": 2
   },
   "file_extension": ".py",
   "mimetype": "text/x-python",
   "name": "python",
   "nbconvert_exporter": "python",
   "pygments_lexer": "ipython2",
   "version": "2.7.10"
  }
 },
 "nbformat": 4,
 "nbformat_minor": 0
}
