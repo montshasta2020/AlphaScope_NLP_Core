{
 "cells": [
  {
   "cell_type": "code",
   "execution_count": 1,
   "metadata": {
    "collapsed": true
   },
   "outputs": [],
   "source": [
    "import sys  \n",
    "reload(sys)  \n",
    "sys.setdefaultencoding('utf-8')"
   ]
  },
  {
   "cell_type": "code",
   "execution_count": 2,
   "metadata": {
    "collapsed": false
   },
   "outputs": [],
   "source": [
    "import pandas as pd\n",
    "from selenium import webdriver \n",
    "from bs4 import BeautifulSoup\n",
    "import time\n",
    "import re\n",
    "import string, urllib2"
   ]
  },
  {
   "cell_type": "code",
   "execution_count": 3,
   "metadata": {
    "collapsed": true
   },
   "outputs": [],
   "source": [
    "from datetime import date, timedelta, datetime\n",
    "import os.path\n",
    "import tldextract\n",
    "from collections import Counter"
   ]
  },
  {
   "cell_type": "code",
   "execution_count": 4,
   "metadata": {
    "collapsed": false
   },
   "outputs": [],
   "source": [
    "t0 =  date.today()"
   ]
  },
  {
   "cell_type": "code",
   "execution_count": 5,
   "metadata": {
    "collapsed": true
   },
   "outputs": [],
   "source": [
    "def get_columns():\n",
    "    return ('dt', 'source', 'domain', 'url', 'title', 'summary', 'image', 'brief', 'body', 'raw_page', 'from') \n",
    "def get_empty_columns():\n",
    "    return ('', '', '', '', '', '', '', '', '', '', '') \n",
    "\n"
   ]
  },
  {
   "cell_type": "code",
   "execution_count": 6,
   "metadata": {
    "collapsed": true
   },
   "outputs": [],
   "source": [
    "def get_columns2():\n",
    "    return ('url', 'domain', 'title', 'key_words', 'summary',  'segment', 'content', 'content_short',  'target') \n",
    "def get_empty_columns2():\n",
    "    return ('', '', '', '', '', '', '', '', '') "
   ]
  },
  {
   "cell_type": "code",
   "execution_count": 7,
   "metadata": {
    "collapsed": false
   },
   "outputs": [],
   "source": [
    "#complete\n",
    "import glob\n",
    "all_files = glob.glob(\"../data/complete/\" + \"/*.csv\")\n",
    "\n",
    "init = 0\n",
    "#print all_files\n",
    "for file_ in all_files:\n",
    "    print file_\n",
    "    with open(file_) as data_file:  \n",
    "        df = pd.read_csv(data_file)\n",
    "        if init == 0:\n",
    "            joined = df\n",
    "            init = 1\n",
    "        else:\n",
    "            joined = joined.append(df)"
   ]
  },
  {
   "cell_type": "code",
   "execution_count": 8,
   "metadata": {
    "collapsed": false
   },
   "outputs": [],
   "source": [
    "joined.info()"
   ]
  },
  {
   "cell_type": "code",
   "execution_count": 9,
   "metadata": {
    "collapsed": false
   },
   "outputs": [],
   "source": [
    "#News\n",
    "import glob\n",
    "all_files = glob.glob(\"../scrape/data/news/\" + \"/*.csv\")\n",
    "\n",
    "init = 0\n",
    "#print all_files\n",
    "for file_ in all_files:\n",
    "    print file_\n",
    "    with open(file_) as data_file:  \n",
    "        df = pd.read_csv(data_file)\n",
    "        joined = joined.append(df)"
   ]
  },
  {
   "cell_type": "code",
   "execution_count": 10,
   "metadata": {
    "collapsed": false
   },
   "outputs": [],
   "source": [
    "joined.info()"
   ]
  },
  {
   "cell_type": "code",
   "execution_count": 11,
   "metadata": {
    "collapsed": false
   },
   "outputs": [],
   "source": [
    "#general\n",
    "import glob\n",
    "all_files = glob.glob(\"../scrape/data/general/\" + \"/*.csv\")\n",
    "\n",
    "init = 0\n",
    "#print all_files\n",
    "for file_ in all_files:\n",
    "    print file_\n",
    "    with open(file_) as data_file:  \n",
    "        df = pd.read_csv(data_file)\n",
    "        joined = joined.append(df)"
   ]
  },
  {
   "cell_type": "code",
   "execution_count": 12,
   "metadata": {
    "collapsed": false
   },
   "outputs": [],
   "source": [
    "joined.info()"
   ]
  },
  {
   "cell_type": "code",
   "execution_count": 13,
   "metadata": {
    "collapsed": false
   },
   "outputs": [],
   "source": [
    "#CSE\n",
    "import glob\n",
    "all_files = glob.glob(\"../scrape/data/google/cse/\" + \"/*.csv\")\n",
    "\n",
    "#print all_files\n",
    "for file_ in all_files:\n",
    "    print file_\n",
    "    with open(file_) as data_file:  \n",
    "        df = pd.read_csv(data_file)\n",
    "        joined = joined.append(df)"
   ]
  },
  {
   "cell_type": "code",
   "execution_count": 14,
   "metadata": {
    "collapsed": false
   },
   "outputs": [],
   "source": [
    "joined.info()"
   ]
  },
  {
   "cell_type": "code",
   "execution_count": null,
   "metadata": {
    "collapsed": true
   },
   "outputs": [],
   "source": []
  },
  {
   "cell_type": "code",
   "execution_count": null,
   "metadata": {
    "collapsed": true
   },
   "outputs": [],
   "source": []
  },
  {
   "cell_type": "code",
   "execution_count": 15,
   "metadata": {
    "collapsed": false
   },
   "outputs": [],
   "source": [
    "no_body_df = joined[joined['raw_page'].isnull()]"
   ]
  },
  {
   "cell_type": "code",
   "execution_count": 16,
   "metadata": {
    "collapsed": false
   },
   "outputs": [],
   "source": [
    "body_df = joined.dropna(subset =['raw_page']) "
   ]
  },
  {
   "cell_type": "code",
   "execution_count": 17,
   "metadata": {
    "collapsed": false
   },
   "outputs": [],
   "source": [
    "#load body\n",
    "import glob\n",
    "all_files = glob.glob(\"./temp/\" + \"/*.csv\")\n",
    "\n",
    "init = 0\n",
    "#print all_files\n",
    "for file_ in all_files:\n",
    "    print file_\n",
    "    with open(file_) as data_file: \n",
    "        df = pd.read_csv(data_file)\n",
    "        if init == 0:\n",
    "            tmp_df = df\n",
    "            init = 1\n",
    "        else:\n",
    "            tmp_df = tmp_df.append(df)"
   ]
  },
  {
   "cell_type": "code",
   "execution_count": 28,
   "metadata": {
    "collapsed": true
   },
   "outputs": [],
   "source": [
    "tmp_df.to_csv('temp.csv', encoding='utf-8', index=False)"
   ]
  },
  {
   "cell_type": "code",
   "execution_count": 31,
   "metadata": {
    "collapsed": true
   },
   "outputs": [],
   "source": [
    "tmp_df = pd.read_csv('temp.csv')"
   ]
  },
  {
   "cell_type": "code",
   "execution_count": 20,
   "metadata": {
    "collapsed": false
   },
   "outputs": [],
   "source": [
    "tmp_df.info()"
   ]
  },
  {
   "cell_type": "code",
   "execution_count": 21,
   "metadata": {
    "collapsed": false
   },
   "outputs": [
    {
     "data": {
      "text/html": [
       "<div>\n",
       "<table border=\"1\" class=\"dataframe\">\n",
       "  <thead>\n",
       "    <tr style=\"text-align: right;\">\n",
       "      <th></th>\n",
       "      <th>dt</th>\n",
       "      <th>source</th>\n",
       "      <th>domain</th>\n",
       "      <th>url</th>\n",
       "      <th>title</th>\n",
       "      <th>summary</th>\n",
       "      <th>image</th>\n",
       "      <th>brief</th>\n",
       "      <th>body</th>\n",
       "      <th>raw_page</th>\n",
       "      <th>from</th>\n",
       "    </tr>\n",
       "  </thead>\n",
       "  <tbody>\n",
       "    <tr>\n",
       "      <th>0</th>\n",
       "      <td>NaN</td>\n",
       "      <td>NaN</td>\n",
       "      <td>NaN</td>\n",
       "      <td>http://ah.anhuinews.com/system/2016/11/09/0075...</td>\n",
       "      <td>NaN</td>\n",
       "      <td>NaN</td>\n",
       "      <td>NaN</td>\n",
       "      <td>NaN</td>\n",
       "      <td>NaN</td>\n",
       "      <td>&lt;html&gt;&lt;head&gt;\\n\\n&lt;title&gt;绩溪举办中国徽菜美食文化旅游节&lt;/title&gt;...</td>\n",
       "      <td>NaN</td>\n",
       "    </tr>\n",
       "    <tr>\n",
       "      <th>1</th>\n",
       "      <td>NaN</td>\n",
       "      <td>NaN</td>\n",
       "      <td>NaN</td>\n",
       "      <td>http://epaper.anhuinews.com/html/ahsb/20160725...</td>\n",
       "      <td>NaN</td>\n",
       "      <td>NaN</td>\n",
       "      <td>NaN</td>\n",
       "      <td>NaN</td>\n",
       "      <td>NaN</td>\n",
       "      <td>&lt;html xmlns=\"http://www.w3.org/1999/xhtml\"&gt;&lt;he...</td>\n",
       "      <td>NaN</td>\n",
       "    </tr>\n",
       "    <tr>\n",
       "      <th>2</th>\n",
       "      <td>NaN</td>\n",
       "      <td>NaN</td>\n",
       "      <td>NaN</td>\n",
       "      <td>http://ah.anhuinews.com/system/2016/11/09/0075...</td>\n",
       "      <td>NaN</td>\n",
       "      <td>NaN</td>\n",
       "      <td>NaN</td>\n",
       "      <td>NaN</td>\n",
       "      <td>NaN</td>\n",
       "      <td>&lt;html&gt;&lt;head&gt;\\n\\n&lt;title&gt;绩溪举办中国徽菜美食文化旅游节&lt;/title&gt;...</td>\n",
       "      <td>NaN</td>\n",
       "    </tr>\n",
       "    <tr>\n",
       "      <th>3</th>\n",
       "      <td>NaN</td>\n",
       "      <td>NaN</td>\n",
       "      <td>NaN</td>\n",
       "      <td>http://epaper.anhuinews.com/html/ahsb/20160725...</td>\n",
       "      <td>NaN</td>\n",
       "      <td>NaN</td>\n",
       "      <td>NaN</td>\n",
       "      <td>NaN</td>\n",
       "      <td>NaN</td>\n",
       "      <td>&lt;html xmlns=\"http://www.w3.org/1999/xhtml\"&gt;&lt;he...</td>\n",
       "      <td>NaN</td>\n",
       "    </tr>\n",
       "    <tr>\n",
       "      <th>4</th>\n",
       "      <td>NaN</td>\n",
       "      <td>NaN</td>\n",
       "      <td>NaN</td>\n",
       "      <td>http://ah.anhuinews.com/system/2016/08/22/0074...</td>\n",
       "      <td>NaN</td>\n",
       "      <td>NaN</td>\n",
       "      <td>NaN</td>\n",
       "      <td>NaN</td>\n",
       "      <td>NaN</td>\n",
       "      <td>&lt;html&gt;&lt;head&gt;\\n\\n&lt;title&gt;王信出席“文化中国之旅”安徽行启动仪式&lt;/ti...</td>\n",
       "      <td>NaN</td>\n",
       "    </tr>\n",
       "  </tbody>\n",
       "</table>\n",
       "</div>"
      ],
      "text/plain": [
       "   dt  source  domain                                                url  \\\n",
       "0 NaN     NaN     NaN  http://ah.anhuinews.com/system/2016/11/09/0075...   \n",
       "1 NaN     NaN     NaN  http://epaper.anhuinews.com/html/ahsb/20160725...   \n",
       "2 NaN     NaN     NaN  http://ah.anhuinews.com/system/2016/11/09/0075...   \n",
       "3 NaN     NaN     NaN  http://epaper.anhuinews.com/html/ahsb/20160725...   \n",
       "4 NaN     NaN     NaN  http://ah.anhuinews.com/system/2016/08/22/0074...   \n",
       "\n",
       "   title  summary  image  brief  body  \\\n",
       "0    NaN      NaN    NaN    NaN   NaN   \n",
       "1    NaN      NaN    NaN    NaN   NaN   \n",
       "2    NaN      NaN    NaN    NaN   NaN   \n",
       "3    NaN      NaN    NaN    NaN   NaN   \n",
       "4    NaN      NaN    NaN    NaN   NaN   \n",
       "\n",
       "                                            raw_page  from  \n",
       "0  <html><head>\\n\\n<title>绩溪举办中国徽菜美食文化旅游节</title>...   NaN  \n",
       "1  <html xmlns=\"http://www.w3.org/1999/xhtml\"><he...   NaN  \n",
       "2  <html><head>\\n\\n<title>绩溪举办中国徽菜美食文化旅游节</title>...   NaN  \n",
       "3  <html xmlns=\"http://www.w3.org/1999/xhtml\"><he...   NaN  \n",
       "4  <html><head>\\n\\n<title>王信出席“文化中国之旅”安徽行启动仪式</ti...   NaN  "
      ]
     },
     "execution_count": 21,
     "metadata": {},
     "output_type": "execute_result"
    }
   ],
   "source": [
    "tmp_df.head()"
   ]
  },
  {
   "cell_type": "code",
   "execution_count": 22,
   "metadata": {
    "collapsed": true
   },
   "outputs": [],
   "source": [
    "def html_get_content(html, cut = 0):\n",
    "    soup = BeautifulSoup(html.decode('utf-8'))\n",
    "    [script.extract() for script in soup.findAll('script')]\n",
    "    [style.extract() for style in soup.findAll('style')]\n",
    "    soup.prettify()\n",
    "    reg1 = re.compile(\"<[^>]*>\")\n",
    "    #content = soup\n",
    "    content = reg1.sub('',soup.prettify())\n",
    "    s = content.split('\\n')\n",
    "    ret = [a for a in s if len(a) > cut]\n",
    "    return '\\n'.join(ret)"
   ]
  },
  {
   "cell_type": "code",
   "execution_count": 23,
   "metadata": {
    "collapsed": true
   },
   "outputs": [],
   "source": [
    "new_df = pd.DataFrame(columns = get_columns2())"
   ]
  },
  {
   "cell_type": "code",
   "execution_count": 24,
   "metadata": {
    "collapsed": true
   },
   "outputs": [],
   "source": [
    "idx = 0"
   ]
  },
  {
   "cell_type": "code",
   "execution_count": 156,
   "metadata": {
    "collapsed": false
   },
   "outputs": [
    {
     "data": {
      "text/html": [
       "<div>\n",
       "<table border=\"1\" class=\"dataframe\">\n",
       "  <thead>\n",
       "    <tr style=\"text-align: right;\">\n",
       "      <th></th>\n",
       "      <th>url</th>\n",
       "      <th>domain</th>\n",
       "      <th>title</th>\n",
       "      <th>key_words</th>\n",
       "      <th>summary</th>\n",
       "      <th>segment</th>\n",
       "      <th>content</th>\n",
       "      <th>content_short</th>\n",
       "      <th>target</th>\n",
       "    </tr>\n",
       "  </thead>\n",
       "  <tbody>\n",
       "  </tbody>\n",
       "</table>\n",
       "</div>"
      ],
      "text/plain": [
       "Empty DataFrame\n",
       "Columns: [url, domain, title, key_words, summary, segment, content, content_short, target]\n",
       "Index: []"
      ]
     },
     "execution_count": 156,
     "metadata": {},
     "output_type": "execute_result"
    }
   ],
   "source": [
    "new_df.head()"
   ]
  },
  {
   "cell_type": "code",
   "execution_count": 132,
   "metadata": {
    "collapsed": true
   },
   "outputs": [],
   "source": [
    "for i in range(0, len(tmp_df)):\n",
    "    url = tmp_df.loc[i]['url']\n",
    "    print url\n",
    "    #raw = tmp_df.loc[i]['raw_page']"
   ]
  },
  {
   "cell_type": "code",
   "execution_count": 25,
   "metadata": {
    "collapsed": true
   },
   "outputs": [],
   "source": [
    "from bosonnlp import BosonNLP"
   ]
  },
  {
   "cell_type": "code",
   "execution_count": 26,
   "metadata": {
    "collapsed": true
   },
   "outputs": [],
   "source": [
    "nlp = BosonNLP('9UKerw8k.13445.iKi57Vd-7oP3')\n",
    "#nlp = BosonNLP('M6WKd8MT.13569.peZIQDEGBh9e')"
   ]
  },
  {
   "cell_type": "code",
   "execution_count": 58,
   "metadata": {
    "collapsed": false
   },
   "outputs": [],
   "source": [
    "for i in range(4003, len(tmp_df)):\n",
    "    url = tmp_df.loc[i]['url']\n",
    "    print i, url\n",
    "    raw = tmp_df.loc[i]['raw_page']\n",
    "    \n",
    "    doc_short = html_get_content(raw, 60)\n",
    "    doc = html_get_content(raw, 0)\n",
    "    \n",
    "    df_0 = joined[joined['url'] == url]\n",
    "    if len(df_0) != 0 and len(doc_short) != 0:\n",
    "        title = df_0.iloc[0]['title']\n",
    "        \n",
    "        tt20 = nlp.tag(doc_short)\n",
    "        #time.sleep(5)\n",
    "        tt2 = ' '.join(['%s' % it for it in tt20[0]['word']])\n",
    "\n",
    "        res = nlp.extract_keywords(doc_short, top_k = 10)\n",
    "        keys, values = zip(*res)\n",
    "        if i == 686 or i == 1853 or i == 1882 or i == 1895:\n",
    "            st = doc_short\n",
    "        elif i == 1914 or i == 1939 or i == 1956 or i == 1977 or i == 2165:\n",
    "            st = doc_short\n",
    "        elif i == 2190 or i == 2222 or i == 3491:\n",
    "            st = doc_short\n",
    "        else:\n",
    "            st = nlp.summary(title, doc_short)\n",
    "        new_df.loc[idx] = get_empty_columns2()\n",
    "        new_df.loc[idx]['url'] = url\n",
    "        new_df.loc[idx]['title'] = title\n",
    "        new_df.loc[idx]['key_words'] = values\n",
    "        new_df.loc[idx]['summary'] = st\n",
    "        new_df.loc[idx]['segment'] = tt2\n",
    "        new_df.loc[idx]['content'] = doc\n",
    "        new_df.loc[idx]['content_short'] = doc_short\n",
    "        new_df.loc[idx]['target'] = 1\n",
    "        idx += 1\n",
    "    else:\n",
    "        print 'cannot find it.........'"
   ]
  },
  {
   "cell_type": "code",
   "execution_count": 66,
   "metadata": {
    "collapsed": false
   },
   "outputs": [],
   "source": [
    "i = 1895\n",
    "raw = tmp_df.loc[i]['raw_page']\n",
    "doc_short = html_get_content(raw, 60)\n",
    "#st = nlp.summary(title, doc_short)\n",
    "new_df.loc[i]['summary'] = doc_short "
   ]
  },
  {
   "cell_type": "code",
   "execution_count": 54,
   "metadata": {
    "collapsed": true
   },
   "outputs": [],
   "source": [
    "print len(doc_short), len(res)"
   ]
  },
  {
   "cell_type": "code",
   "execution_count": 57,
   "metadata": {
    "collapsed": true
   },
   "outputs": [],
   "source": [
    "print doc_short"
   ]
  },
  {
   "cell_type": "code",
   "execution_count": 53,
   "metadata": {
    "collapsed": false
   },
   "outputs": [
    {
     "data": {
      "text/plain": [
       "(None, 0)"
      ]
     },
     "execution_count": 53,
     "metadata": {},
     "output_type": "execute_result"
    }
   ],
   "source": [
    "new_df.info(), len(res)"
   ]
  },
  {
   "cell_type": "code",
   "execution_count": 60,
   "metadata": {
    "collapsed": false
   },
   "outputs": [
    {
     "data": {
      "text/html": [
       "<div>\n",
       "<table border=\"1\" class=\"dataframe\">\n",
       "  <thead>\n",
       "    <tr style=\"text-align: right;\">\n",
       "      <th></th>\n",
       "      <th>url</th>\n",
       "      <th>domain</th>\n",
       "      <th>title</th>\n",
       "      <th>key_words</th>\n",
       "      <th>summary</th>\n",
       "      <th>segment</th>\n",
       "      <th>content</th>\n",
       "      <th>content_short</th>\n",
       "      <th>target</th>\n",
       "    </tr>\n",
       "  </thead>\n",
       "  <tbody>\n",
       "    <tr>\n",
       "      <th>0</th>\n",
       "      <td>http://ah.anhuinews.com/system/2016/11/09/0075...</td>\n",
       "      <td></td>\n",
       "      <td>绩溪举办中国徽菜美食文化旅游节</td>\n",
       "      <td>(旅游节, 徽菜, 文化, 美食, 绩溪, 张冬云, 品味, 严琛, 王为明, 出席)</td>\n",
       "      <td>据宣城新闻网报道，11月7日晚，中国绩溪徽菜美食文化旅游节隆重开幕。\\n    ...</td>\n",
       "      <td>据 宣城 新闻网 报道 ， 11月 7日 晚 ， 中国 绩溪徽菜 美食 文化 旅游节 隆重 ...</td>\n",
       "      <td>\\n  \\n   绩溪举办中国徽菜美食文化旅游节\\n  \\n  \\n  \\n  \\n  \\...</td>\n",
       "      <td>据宣城新闻网报道，11月7日晚，中国绩溪徽菜美食文化旅游节隆重开幕。省政协副主席...</td>\n",
       "      <td>1</td>\n",
       "    </tr>\n",
       "    <tr>\n",
       "      <th>1</th>\n",
       "      <td>http://epaper.anhuinews.com/html/ahsb/20160725...</td>\n",
       "      <td></td>\n",
       "      <td>创文旅新格局传中华徽文化</td>\n",
       "      <td>(万达, 合肥, 乐园, 欢乐, 城门, 业态, 游客, 华东, 旅游, 购票者)</td>\n",
       "      <td>集聚欢乐的人群，传递欢乐的业态，点燃欢乐的灯光，开售欢乐的门票。\\n  ...</td>\n",
       "      <td>集聚 欢乐 的 人群 ， 传递 欢乐 的 业态 ， 点燃 欢乐 的 灯光 ， 开 售 欢乐 ...</td>\n",
       "      <td>\\n  \\n   创文旅新格局传中华徽文化 安徽商报\\n  \\n  \\n  \\n  \\n ...</td>\n",
       "      <td>集聚欢乐的人群，传递欢乐的业态，点燃欢乐的灯光，开售欢乐的门票。仲夏夜的...</td>\n",
       "      <td>1</td>\n",
       "    </tr>\n",
       "    <tr>\n",
       "      <th>2</th>\n",
       "      <td>http://ah.anhuinews.com/system/2016/11/09/0075...</td>\n",
       "      <td></td>\n",
       "      <td>绩溪举办中国徽菜美食文化旅游节</td>\n",
       "      <td>(旅游节, 徽菜, 文化, 美食, 绩溪, 张冬云, 品味, 严琛, 王为明, 出席)</td>\n",
       "      <td>据宣城新闻网报道，11月7日晚，中国绩溪徽菜美食文化旅游节隆重开幕。\\n    ...</td>\n",
       "      <td>据 宣城 新闻网 报道 ， 11月 7日 晚 ， 中国 绩溪徽菜 美食 文化 旅游节 隆重 ...</td>\n",
       "      <td>\\n  \\n   绩溪举办中国徽菜美食文化旅游节\\n  \\n  \\n  \\n  \\n  \\...</td>\n",
       "      <td>据宣城新闻网报道，11月7日晚，中国绩溪徽菜美食文化旅游节隆重开幕。省政协副主席...</td>\n",
       "      <td>1</td>\n",
       "    </tr>\n",
       "    <tr>\n",
       "      <th>3</th>\n",
       "      <td>http://epaper.anhuinews.com/html/ahsb/20160725...</td>\n",
       "      <td></td>\n",
       "      <td>创文旅新格局传中华徽文化</td>\n",
       "      <td>(万达, 合肥, 乐园, 欢乐, 城门, 业态, 游客, 华东, 旅游, 购票者)</td>\n",
       "      <td>集聚欢乐的人群，传递欢乐的业态，点燃欢乐的灯光，开售欢乐的门票。\\n  ...</td>\n",
       "      <td>集聚 欢乐 的 人群 ， 传递 欢乐 的 业态 ， 点燃 欢乐 的 灯光 ， 开 售 欢乐 ...</td>\n",
       "      <td>\\n  \\n   创文旅新格局传中华徽文化 安徽商报\\n  \\n  \\n  \\n  \\n ...</td>\n",
       "      <td>集聚欢乐的人群，传递欢乐的业态，点燃欢乐的灯光，开售欢乐的门票。仲夏夜的...</td>\n",
       "      <td>1</td>\n",
       "    </tr>\n",
       "    <tr>\n",
       "      <th>4</th>\n",
       "      <td>http://ah.anhuinews.com/system/2016/08/22/0074...</td>\n",
       "      <td></td>\n",
       "      <td>王信出席“文化中国之旅”安徽行启动仪式</td>\n",
       "      <td>(文化, 侨办, 政府和市, 徽, 黄山市, 代表团, 侨团, 徽州, 王信, 徽墨)</td>\n",
       "      <td>8月20日，由国侨办宣传司主办、安徽省侨办承办的第21期“文化中国之旅”安徽行于...</td>\n",
       "      <td>8月 20日 ， 由 国侨办 宣传司 主办 、 安徽省 侨办 承办 的 第21 期 “ 文化...</td>\n",
       "      <td>\\n  \\n   王信出席“文化中国之旅”安徽行启动仪式\\n  \\n  \\n  \\n  \\...</td>\n",
       "      <td>8月20日，由国侨办宣传司主办、安徽省侨办承办的第21期“文化中国之旅”安徽行于...</td>\n",
       "      <td>1</td>\n",
       "    </tr>\n",
       "  </tbody>\n",
       "</table>\n",
       "</div>"
      ],
      "text/plain": [
       "                                                 url domain  \\\n",
       "0  http://ah.anhuinews.com/system/2016/11/09/0075...          \n",
       "1  http://epaper.anhuinews.com/html/ahsb/20160725...          \n",
       "2  http://ah.anhuinews.com/system/2016/11/09/0075...          \n",
       "3  http://epaper.anhuinews.com/html/ahsb/20160725...          \n",
       "4  http://ah.anhuinews.com/system/2016/08/22/0074...          \n",
       "\n",
       "                 title                                    key_words  \\\n",
       "0      绩溪举办中国徽菜美食文化旅游节  (旅游节, 徽菜, 文化, 美食, 绩溪, 张冬云, 品味, 严琛, 王为明, 出席)   \n",
       "1         创文旅新格局传中华徽文化    (万达, 合肥, 乐园, 欢乐, 城门, 业态, 游客, 华东, 旅游, 购票者)   \n",
       "2      绩溪举办中国徽菜美食文化旅游节  (旅游节, 徽菜, 文化, 美食, 绩溪, 张冬云, 品味, 严琛, 王为明, 出席)   \n",
       "3         创文旅新格局传中华徽文化    (万达, 合肥, 乐园, 欢乐, 城门, 业态, 游客, 华东, 旅游, 购票者)   \n",
       "4  王信出席“文化中国之旅”安徽行启动仪式  (文化, 侨办, 政府和市, 徽, 黄山市, 代表团, 侨团, 徽州, 王信, 徽墨)   \n",
       "\n",
       "                                             summary  \\\n",
       "0        据宣城新闻网报道，11月7日晚，中国绩溪徽菜美食文化旅游节隆重开幕。\\n    ...   \n",
       "1            集聚欢乐的人群，传递欢乐的业态，点燃欢乐的灯光，开售欢乐的门票。\\n  ...   \n",
       "2        据宣城新闻网报道，11月7日晚，中国绩溪徽菜美食文化旅游节隆重开幕。\\n    ...   \n",
       "3            集聚欢乐的人群，传递欢乐的业态，点燃欢乐的灯光，开售欢乐的门票。\\n  ...   \n",
       "4        8月20日，由国侨办宣传司主办、安徽省侨办承办的第21期“文化中国之旅”安徽行于...   \n",
       "\n",
       "                                             segment  \\\n",
       "0  据 宣城 新闻网 报道 ， 11月 7日 晚 ， 中国 绩溪徽菜 美食 文化 旅游节 隆重 ...   \n",
       "1  集聚 欢乐 的 人群 ， 传递 欢乐 的 业态 ， 点燃 欢乐 的 灯光 ， 开 售 欢乐 ...   \n",
       "2  据 宣城 新闻网 报道 ， 11月 7日 晚 ， 中国 绩溪徽菜 美食 文化 旅游节 隆重 ...   \n",
       "3  集聚 欢乐 的 人群 ， 传递 欢乐 的 业态 ， 点燃 欢乐 的 灯光 ， 开 售 欢乐 ...   \n",
       "4  8月 20日 ， 由 国侨办 宣传司 主办 、 安徽省 侨办 承办 的 第21 期 “ 文化...   \n",
       "\n",
       "                                             content  \\\n",
       "0   \\n  \\n   绩溪举办中国徽菜美食文化旅游节\\n  \\n  \\n  \\n  \\n  \\...   \n",
       "1   \\n  \\n   创文旅新格局传中华徽文化 安徽商报\\n  \\n  \\n  \\n  \\n ...   \n",
       "2   \\n  \\n   绩溪举办中国徽菜美食文化旅游节\\n  \\n  \\n  \\n  \\n  \\...   \n",
       "3   \\n  \\n   创文旅新格局传中华徽文化 安徽商报\\n  \\n  \\n  \\n  \\n ...   \n",
       "4   \\n  \\n   王信出席“文化中国之旅”安徽行启动仪式\\n  \\n  \\n  \\n  \\...   \n",
       "\n",
       "                                       content_short target  \n",
       "0        据宣城新闻网报道，11月7日晚，中国绩溪徽菜美食文化旅游节隆重开幕。省政协副主席...      1  \n",
       "1            集聚欢乐的人群，传递欢乐的业态，点燃欢乐的灯光，开售欢乐的门票。仲夏夜的...      1  \n",
       "2        据宣城新闻网报道，11月7日晚，中国绩溪徽菜美食文化旅游节隆重开幕。省政协副主席...      1  \n",
       "3            集聚欢乐的人群，传递欢乐的业态，点燃欢乐的灯光，开售欢乐的门票。仲夏夜的...      1  \n",
       "4        8月20日，由国侨办宣传司主办、安徽省侨办承办的第21期“文化中国之旅”安徽行于...      1  "
      ]
     },
     "execution_count": 60,
     "metadata": {},
     "output_type": "execute_result"
    }
   ],
   "source": [
    "new_df.head()"
   ]
  },
  {
   "cell_type": "code",
   "execution_count": 71,
   "metadata": {
    "collapsed": true
   },
   "outputs": [],
   "source": [
    "new_df.to_csv('../data/segments/docs/bosonNLP/non-solr-bosonNLP-segment-4010.csv', encoding='utf-8', index=False)"
   ]
  },
  {
   "cell_type": "code",
   "execution_count": 69,
   "metadata": {
    "collapsed": false
   },
   "outputs": [],
   "source": [
    "new_df = pd.read_csv('../got_body-1.csv')"
   ]
  },
  {
   "cell_type": "code",
   "execution_count": 70,
   "metadata": {
    "collapsed": true
   },
   "outputs": [],
   "source": [
    "new_df.info()"
   ]
  },
  {
   "cell_type": "code",
   "execution_count": 131,
   "metadata": {
    "collapsed": false
   },
   "outputs": [],
   "source": [
    "no_body_df.info()"
   ]
  },
  {
   "cell_type": "code",
   "execution_count": 142,
   "metadata": {
    "collapsed": true
   },
   "outputs": [],
   "source": [
    "print raw"
   ]
  },
  {
   "cell_type": "code",
   "execution_count": 149,
   "metadata": {
    "collapsed": true
   },
   "outputs": [],
   "source": [
    "body_df['domain']  = body_df.url.map(lambda x:tldextract.extract(x).domain + str('.') + tldextract.extract(x).suffix)"
   ]
  },
  {
   "cell_type": "code",
   "execution_count": 151,
   "metadata": {
    "collapsed": false
   },
   "outputs": [],
   "source": [
    "count = Counter(body_df['domain'])"
   ]
  },
  {
   "cell_type": "code",
   "execution_count": 152,
   "metadata": {
    "collapsed": true
   },
   "outputs": [],
   "source": [
    "print count"
   ]
  },
  {
   "cell_type": "code",
   "execution_count": null,
   "metadata": {
    "collapsed": true
   },
   "outputs": [],
   "source": [
    "df0 = body_df[body_df['']]"
   ]
  },
  {
   "cell_type": "code",
   "execution_count": 81,
   "metadata": {
    "collapsed": false
   },
   "outputs": [
    {
     "name": "stdout",
     "output_type": "stream",
     "text": [
      "<class 'pandas.core.frame.DataFrame'>\n",
      "Int64Index: 8925 entries, 0 to 104\n",
      "Data columns (total 11 columns):\n",
      "dt          8869 non-null object\n",
      "source      8925 non-null object\n",
      "domain      1125 non-null object\n",
      "url         8925 non-null object\n",
      "title       8925 non-null object\n",
      "summary     0 non-null float64\n",
      "image       0 non-null object\n",
      "brief       3365 non-null object\n",
      "body        6515 non-null object\n",
      "raw_page    8925 non-null object\n",
      "from        205 non-null object\n",
      "dtypes: float64(1), object(10)\n",
      "memory usage: 836.7+ KB\n"
     ]
    }
   ],
   "source": [
    "body_df.info()"
   ]
  },
  {
   "cell_type": "code",
   "execution_count": 82,
   "metadata": {
    "collapsed": true
   },
   "outputs": [],
   "source": [
    "body_df.to_csv('temp/content.csv', encoding='utf-8', index=False)"
   ]
  },
  {
   "cell_type": "code",
   "execution_count": 17,
   "metadata": {
    "collapsed": false
   },
   "outputs": [
    {
     "name": "stdout",
     "output_type": "stream",
     "text": [
      "(8925, 11) (5720, 11)\n"
     ]
    }
   ],
   "source": [
    "print body_df.shape, no_body_df.shape"
   ]
  },
  {
   "cell_type": "code",
   "execution_count": 18,
   "metadata": {
    "collapsed": true
   },
   "outputs": [],
   "source": [
    "no_body_df.to_csv('temp0.csv', encoding='utf-8', index=False)\n",
    "no_body_df = pd.read_csv('temp0.csv')"
   ]
  },
  {
   "cell_type": "code",
   "execution_count": 19,
   "metadata": {
    "collapsed": false
   },
   "outputs": [],
   "source": [
    "no_body_df['domain']  = no_body_df.url.map(lambda x:tldextract.extract(x).domain + str('.') + tldextract.extract(x).suffix)"
   ]
  },
  {
   "cell_type": "code",
   "execution_count": 20,
   "metadata": {
    "collapsed": false
   },
   "outputs": [
    {
     "name": "stdout",
     "output_type": "stream",
     "text": [
      "<class 'pandas.core.frame.DataFrame'>\n",
      "Int64Index: 5720 entries, 0 to 5719\n",
      "Data columns (total 11 columns):\n",
      "dt          4585 non-null object\n",
      "source      5707 non-null object\n",
      "domain      5720 non-null object\n",
      "url         5720 non-null object\n",
      "title       5717 non-null object\n",
      "summary     0 non-null float64\n",
      "image       1625 non-null object\n",
      "brief       5538 non-null object\n",
      "body        0 non-null float64\n",
      "raw_page    0 non-null float64\n",
      "from        2049 non-null object\n",
      "dtypes: float64(3), object(8)\n",
      "memory usage: 536.2+ KB\n"
     ]
    }
   ],
   "source": [
    "no_body_df.info()"
   ]
  },
  {
   "cell_type": "code",
   "execution_count": 21,
   "metadata": {
    "collapsed": false
   },
   "outputs": [],
   "source": [
    "count = Counter(no_body_df['domain'])"
   ]
  },
  {
   "cell_type": "code",
   "execution_count": 66,
   "metadata": {
    "collapsed": false
   },
   "outputs": [
    {
     "name": "stdout",
     "output_type": "stream",
     "text": [
      "[('anhuinews.com', 941), ('sina.com.cn', 842), ('chinanews.com', 465), ('360doc.com', 462), ('xinhuanet.com', 303), ('517huizhou.com', 294), ('sohu.com', 158), ('chinanews.com.cn', 148), ('163.com', 138), ('people.com.cn', 135), ('ifeng.com', 133), ('hf365.com', 126), ('xinhs.cn', 124), ('hzwh.com', 117), ('99huizhou.com', 97), ('newshs.com', 80), ('365jia.cn', 67), ('china.com.cn', 53), ('qq.com', 49), ('epochtimes.com', 44), ('kaixian.tv', 38), ('ahwang.cn', 32), ('eastday.com', 29), ('chinaqw.com', 28), ('ah.gov.cn', 26), ('gmw.cn', 24), ('chinadaily.com.cn', 23), ('zjol.com.cn', 19), ('china.com', 18), ('hfhouse.com', 17), ('sina.com.tw', 17), ('ce.cn', 16), ('radiovaticana.va', 13), ('cri.cn', 13), ('huaxia.com', 12), ('xinmin.cn', 11), ('hangzhou.com.cn', 11), ('huanqiu.com', 11), ('dwnews.com', 10), ('ahshuhua.net', 10), ('wehefei.com', 10), ('house365.com', 10), ('ntdtv.com', 9), ('cntv.cn', 9), ('srxww.com', 9), ('sciencenet.cn', 9), ('winshang.com', 9), ('cnr.cn', 8), ('hefei.cc', 8), ('southcn.com', 8)]\n"
     ]
    }
   ],
   "source": [
    "print count.most_common(50)"
   ]
  },
  {
   "cell_type": "markdown",
   "metadata": {
    "collapsed": true
   },
   "source": [
    "def urllib_get_page_with_retry(url):\n",
    "    stuff=None\n",
    "    max_attempts=5\n",
    "    #print idx, url\n",
    "    r=0\n",
    "    while stuff is None and r<max_attempts:\n",
    "        try:\n",
    "            response = urllib2.urlopen(url, timeout=2000)\n",
    "            stuff = response.read()\n",
    "        except urllib2.URLError:\n",
    "            r=r+1\n",
    "            print \"Re-trying, attempt -- \",r\n",
    "            time.sleep(5)\n",
    "            pass\n",
    "    return stuff\n"
   ]
  },
  {
   "cell_type": "code",
   "execution_count": 300,
   "metadata": {
    "collapsed": false
   },
   "outputs": [],
   "source": [
    "k = 17\n",
    "url0 = count.most_common(50)[k][0]"
   ]
  },
  {
   "cell_type": "code",
   "execution_count": 301,
   "metadata": {
    "collapsed": false
   },
   "outputs": [],
   "source": [
    "temp_df = no_body_df[no_body_df['domain'] == url0]"
   ]
  },
  {
   "cell_type": "code",
   "execution_count": 302,
   "metadata": {
    "collapsed": false
   },
   "outputs": [
    {
     "data": {
      "text/html": [
       "<div>\n",
       "<table border=\"1\" class=\"dataframe\">\n",
       "  <thead>\n",
       "    <tr style=\"text-align: right;\">\n",
       "      <th></th>\n",
       "      <th>dt</th>\n",
       "      <th>source</th>\n",
       "      <th>domain</th>\n",
       "      <th>url</th>\n",
       "      <th>title</th>\n",
       "      <th>summary</th>\n",
       "      <th>image</th>\n",
       "      <th>brief</th>\n",
       "      <th>body</th>\n",
       "      <th>raw_page</th>\n",
       "      <th>from</th>\n",
       "    </tr>\n",
       "  </thead>\n",
       "  <tbody>\n",
       "    <tr>\n",
       "      <th>12</th>\n",
       "      <td>2016-11-29</td>\n",
       "      <td>中国网福建频道</td>\n",
       "      <td>china.com.cn</td>\n",
       "      <td>http://fj.china.com.cn/p/251971.html</td>\n",
       "      <td>行走徽杭古道 体验徽州文化</td>\n",
       "      <td>NaN</td>\n",
       "      <td>NaN</td>\n",
       "      <td>徽杭古道始称逍遥岩古道,初建于唐代,至今已有一千多年历史,与丝绸之路、茶马古道一起被称为“中...</td>\n",
       "      <td>NaN</td>\n",
       "      <td>NaN</td>\n",
       "      <td>NaN</td>\n",
       "    </tr>\n",
       "    <tr>\n",
       "      <th>62</th>\n",
       "      <td>2016-06-03</td>\n",
       "      <td>中国网</td>\n",
       "      <td>china.com.cn</td>\n",
       "      <td>http://cul.china.com.cn/2016-06/03/content_881...</td>\n",
       "      <td>古民居保护的黄山“模式”:守住徽文化“筋骨肉”</td>\n",
       "      <td>NaN</td>\n",
       "      <td>NaN</td>\n",
       "      <td>黄山市是徽文化的发祥地、皖南民居集聚区,也是皖南国际文化旅游示范区和徽州文化生态保护...</td>\n",
       "      <td>NaN</td>\n",
       "      <td>NaN</td>\n",
       "      <td>NaN</td>\n",
       "    </tr>\n",
       "    <tr>\n",
       "      <th>63</th>\n",
       "      <td>2016-06-01</td>\n",
       "      <td>东海资讯</td>\n",
       "      <td>china.com.cn</td>\n",
       "      <td>http://jiangsu.china.com.cn/html/2016/ahnews_0...</td>\n",
       "      <td>街口镇传承徽文化,徽剧进校园</td>\n",
       "      <td>NaN</td>\n",
       "      <td>NaN</td>\n",
       "      <td>徽剧为国粹京剧的起源奠定了坚实的基础,是徽文化的重要组成部分,而街源地区是徽剧的发祥地。街口...</td>\n",
       "      <td>NaN</td>\n",
       "      <td>NaN</td>\n",
       "      <td>NaN</td>\n",
       "    </tr>\n",
       "    <tr>\n",
       "      <th>95</th>\n",
       "      <td>2016-01-29</td>\n",
       "      <td>中国视窗</td>\n",
       "      <td>china.com.cn</td>\n",
       "      <td>http://zgsc.china.com.cn/jianghuai/whys/2016-0...</td>\n",
       "      <td>黄山推动徽文化保护传承 继续推进徽州古建筑保护工程</td>\n",
       "      <td>NaN</td>\n",
       "      <td>NaN</td>\n",
       "      <td>从日前召开的黄山市六届人大六次会议上了解到,“十三五”期间,黄山市在继续推进徽州古建筑保护利...</td>\n",
       "      <td>NaN</td>\n",
       "      <td>NaN</td>\n",
       "      <td>NaN</td>\n",
       "    </tr>\n",
       "    <tr>\n",
       "      <th>158</th>\n",
       "      <td>2015-10-15</td>\n",
       "      <td>中国视窗</td>\n",
       "      <td>china.com.cn</td>\n",
       "      <td>http://zgsc.china.com.cn/jixi/tswh/2015-10-15/...</td>\n",
       "      <td>绩溪——沉甸甸的“徽文化博物馆”</td>\n",
       "      <td>NaN</td>\n",
       "      <td>NaN</td>\n",
       "      <td>正所谓“无徽无成镇,无绩不成街”,作为徽州六县的绩溪是徽州文化的发源地之一。高铁绩溪北站,是...</td>\n",
       "      <td>NaN</td>\n",
       "      <td>NaN</td>\n",
       "      <td>NaN</td>\n",
       "    </tr>\n",
       "  </tbody>\n",
       "</table>\n",
       "</div>"
      ],
      "text/plain": [
       "             dt    source        domain  \\\n",
       "12   2016-11-29  中国网福建频道   china.com.cn   \n",
       "62   2016-06-03      中国网   china.com.cn   \n",
       "63   2016-06-01     东海资讯   china.com.cn   \n",
       "95   2016-01-29     中国视窗   china.com.cn   \n",
       "158  2015-10-15     中国视窗   china.com.cn   \n",
       "\n",
       "                                                   url  \\\n",
       "12                http://fj.china.com.cn/p/251971.html   \n",
       "62   http://cul.china.com.cn/2016-06/03/content_881...   \n",
       "63   http://jiangsu.china.com.cn/html/2016/ahnews_0...   \n",
       "95   http://zgsc.china.com.cn/jianghuai/whys/2016-0...   \n",
       "158  http://zgsc.china.com.cn/jixi/tswh/2015-10-15/...   \n",
       "\n",
       "                         title  summary image  \\\n",
       "12               行走徽杭古道 体验徽州文化      NaN   NaN   \n",
       "62     古民居保护的黄山“模式”:守住徽文化“筋骨肉”      NaN   NaN   \n",
       "63              街口镇传承徽文化,徽剧进校园      NaN   NaN   \n",
       "95   黄山推动徽文化保护传承 继续推进徽州古建筑保护工程      NaN   NaN   \n",
       "158           绩溪——沉甸甸的“徽文化博物馆”      NaN   NaN   \n",
       "\n",
       "                                                 brief  body  raw_page from  \n",
       "12   徽杭古道始称逍遥岩古道,初建于唐代,至今已有一千多年历史,与丝绸之路、茶马古道一起被称为“中...   NaN       NaN  NaN  \n",
       "62       黄山市是徽文化的发祥地、皖南民居集聚区,也是皖南国际文化旅游示范区和徽州文化生态保护...   NaN       NaN  NaN  \n",
       "63   徽剧为国粹京剧的起源奠定了坚实的基础,是徽文化的重要组成部分,而街源地区是徽剧的发祥地。街口...   NaN       NaN  NaN  \n",
       "95   从日前召开的黄山市六届人大六次会议上了解到,“十三五”期间,黄山市在继续推进徽州古建筑保护利...   NaN       NaN  NaN  \n",
       "158  正所谓“无徽无成镇,无绩不成街”,作为徽州六县的绩溪是徽州文化的发源地之一。高铁绩溪北站,是...   NaN       NaN  NaN  "
      ]
     },
     "execution_count": 302,
     "metadata": {},
     "output_type": "execute_result"
    }
   ],
   "source": [
    "temp_df.head()"
   ]
  },
  {
   "cell_type": "code",
   "execution_count": 303,
   "metadata": {
    "collapsed": false
   },
   "outputs": [
    {
     "name": "stdout",
     "output_type": "stream",
     "text": [
      "<class 'pandas.core.frame.DataFrame'>\n",
      "Int64Index: 53 entries, 12 to 2812\n",
      "Data columns (total 11 columns):\n",
      "dt          45 non-null object\n",
      "source      53 non-null object\n",
      "domain      53 non-null object\n",
      "url         53 non-null object\n",
      "title       53 non-null object\n",
      "summary     0 non-null float64\n",
      "image       30 non-null object\n",
      "brief       53 non-null object\n",
      "body        0 non-null float64\n",
      "raw_page    0 non-null float64\n",
      "from        37 non-null object\n",
      "dtypes: float64(3), object(8)\n",
      "memory usage: 5.0+ KB\n"
     ]
    }
   ],
   "source": [
    "temp_df.info()"
   ]
  },
  {
   "cell_type": "code",
   "execution_count": 304,
   "metadata": {
    "collapsed": true
   },
   "outputs": [],
   "source": [
    "temp_df.to_csv('temp.csv', encoding='utf-8', index=False)"
   ]
  },
  {
   "cell_type": "code",
   "execution_count": 305,
   "metadata": {
    "collapsed": false
   },
   "outputs": [],
   "source": [
    "#no_body_df.to_csv('temp.csv', encoding='utf-8', index=False)\n",
    "df = pd.read_csv('temp.csv')"
   ]
  },
  {
   "cell_type": "code",
   "execution_count": 306,
   "metadata": {
    "collapsed": false
   },
   "outputs": [
    {
     "name": "stdout",
     "output_type": "stream",
     "text": [
      "<class 'pandas.core.frame.DataFrame'>\n",
      "Int64Index: 53 entries, 0 to 52\n",
      "Data columns (total 11 columns):\n",
      "dt          45 non-null object\n",
      "source      53 non-null object\n",
      "domain      53 non-null object\n",
      "url         53 non-null object\n",
      "title       53 non-null object\n",
      "summary     0 non-null float64\n",
      "image       30 non-null object\n",
      "brief       53 non-null object\n",
      "body        0 non-null float64\n",
      "raw_page    0 non-null float64\n",
      "from        37 non-null object\n",
      "dtypes: float64(3), object(8)\n",
      "memory usage: 5.0+ KB\n"
     ]
    }
   ],
   "source": [
    "df.info()"
   ]
  },
  {
   "cell_type": "code",
   "execution_count": 307,
   "metadata": {
    "collapsed": true
   },
   "outputs": [],
   "source": [
    "browser = webdriver.Firefox() "
   ]
  },
  {
   "cell_type": "code",
   "execution_count": 295,
   "metadata": {
    "collapsed": true
   },
   "outputs": [],
   "source": [
    "start = 0\n",
    "idx = 0"
   ]
  },
  {
   "cell_type": "code",
   "execution_count": 255,
   "metadata": {
    "collapsed": false
   },
   "outputs": [
    {
     "name": "stdout",
     "output_type": "stream",
     "text": [
      "http://www.hzwh.com/goto.asp?topicid=231\n"
     ]
    }
   ],
   "source": [
    "print df.loc[102]['url']"
   ]
  },
  {
   "cell_type": "code",
   "execution_count": 308,
   "metadata": {
    "collapsed": true
   },
   "outputs": [],
   "source": [
    "new_df = pd.DataFrame(columns = get_columns())"
   ]
  },
  {
   "cell_type": "code",
   "execution_count": 309,
   "metadata": {
    "collapsed": false
   },
   "outputs": [
    {
     "name": "stdout",
     "output_type": "stream",
     "text": [
      "0 http://fj.china.com.cn/p/251971.html\n"
     ]
    },
    {
     "ename": "TimeoutException",
     "evalue": "Message: Error loading page, timed out (onDOMContentLoaded)\n",
     "output_type": "error",
     "traceback": [
      "\u001b[0;31m---------------------------------------------------------------------------\u001b[0m",
      "\u001b[0;31mTimeoutException\u001b[0m                          Traceback (most recent call last)",
      "\u001b[0;32m<ipython-input-309-e5feee09fa2f>\u001b[0m in \u001b[0;36m<module>\u001b[0;34m()\u001b[0m\n\u001b[1;32m      7\u001b[0m     \u001b[0;31m#urllib_get_page_with_retry(url)\u001b[0m\u001b[0;34m\u001b[0m\u001b[0;34m\u001b[0m\u001b[0m\n\u001b[1;32m      8\u001b[0m     \u001b[0;32mif\u001b[0m \u001b[0mstuff\u001b[0m \u001b[0;34m==\u001b[0m \u001b[0mNone\u001b[0m\u001b[0;34m:\u001b[0m\u001b[0;34m\u001b[0m\u001b[0m\n\u001b[0;32m----> 9\u001b[0;31m             \u001b[0mbrowser\u001b[0m\u001b[0;34m.\u001b[0m\u001b[0mget\u001b[0m\u001b[0;34m(\u001b[0m\u001b[0murl\u001b[0m\u001b[0;34m)\u001b[0m\u001b[0;34m\u001b[0m\u001b[0m\n\u001b[0m\u001b[1;32m     10\u001b[0m             \u001b[0mtime\u001b[0m\u001b[0;34m.\u001b[0m\u001b[0msleep\u001b[0m\u001b[0;34m(\u001b[0m\u001b[0;36m5\u001b[0m\u001b[0;34m)\u001b[0m\u001b[0;34m\u001b[0m\u001b[0m\n\u001b[1;32m     11\u001b[0m             \u001b[0mstuff\u001b[0m \u001b[0;34m=\u001b[0m \u001b[0mbrowser\u001b[0m\u001b[0;34m.\u001b[0m\u001b[0mpage_source\u001b[0m\u001b[0;34m\u001b[0m\u001b[0m\n",
      "\u001b[0;32m/usr/local/lib/python2.7/site-packages/selenium/webdriver/remote/webdriver.pyc\u001b[0m in \u001b[0;36mget\u001b[0;34m(self, url)\u001b[0m\n\u001b[1;32m    246\u001b[0m         \u001b[0mLoads\u001b[0m \u001b[0ma\u001b[0m \u001b[0mweb\u001b[0m \u001b[0mpage\u001b[0m \u001b[0;32min\u001b[0m \u001b[0mthe\u001b[0m \u001b[0mcurrent\u001b[0m \u001b[0mbrowser\u001b[0m \u001b[0msession\u001b[0m\u001b[0;34m.\u001b[0m\u001b[0;34m\u001b[0m\u001b[0m\n\u001b[1;32m    247\u001b[0m         \"\"\"\n\u001b[0;32m--> 248\u001b[0;31m         \u001b[0mself\u001b[0m\u001b[0;34m.\u001b[0m\u001b[0mexecute\u001b[0m\u001b[0;34m(\u001b[0m\u001b[0mCommand\u001b[0m\u001b[0;34m.\u001b[0m\u001b[0mGET\u001b[0m\u001b[0;34m,\u001b[0m \u001b[0;34m{\u001b[0m\u001b[0;34m'url'\u001b[0m\u001b[0;34m:\u001b[0m \u001b[0murl\u001b[0m\u001b[0;34m}\u001b[0m\u001b[0;34m)\u001b[0m\u001b[0;34m\u001b[0m\u001b[0m\n\u001b[0m\u001b[1;32m    249\u001b[0m \u001b[0;34m\u001b[0m\u001b[0m\n\u001b[1;32m    250\u001b[0m     \u001b[0;34m@\u001b[0m\u001b[0mproperty\u001b[0m\u001b[0;34m\u001b[0m\u001b[0m\n",
      "\u001b[0;32m/usr/local/lib/python2.7/site-packages/selenium/webdriver/remote/webdriver.pyc\u001b[0m in \u001b[0;36mexecute\u001b[0;34m(self, driver_command, params)\u001b[0m\n\u001b[1;32m    234\u001b[0m         \u001b[0mresponse\u001b[0m \u001b[0;34m=\u001b[0m \u001b[0mself\u001b[0m\u001b[0;34m.\u001b[0m\u001b[0mcommand_executor\u001b[0m\u001b[0;34m.\u001b[0m\u001b[0mexecute\u001b[0m\u001b[0;34m(\u001b[0m\u001b[0mdriver_command\u001b[0m\u001b[0;34m,\u001b[0m \u001b[0mparams\u001b[0m\u001b[0;34m)\u001b[0m\u001b[0;34m\u001b[0m\u001b[0m\n\u001b[1;32m    235\u001b[0m         \u001b[0;32mif\u001b[0m \u001b[0mresponse\u001b[0m\u001b[0;34m:\u001b[0m\u001b[0;34m\u001b[0m\u001b[0m\n\u001b[0;32m--> 236\u001b[0;31m             \u001b[0mself\u001b[0m\u001b[0;34m.\u001b[0m\u001b[0merror_handler\u001b[0m\u001b[0;34m.\u001b[0m\u001b[0mcheck_response\u001b[0m\u001b[0;34m(\u001b[0m\u001b[0mresponse\u001b[0m\u001b[0;34m)\u001b[0m\u001b[0;34m\u001b[0m\u001b[0m\n\u001b[0m\u001b[1;32m    237\u001b[0m             response['value'] = self._unwrap_value(\n\u001b[1;32m    238\u001b[0m                 response.get('value', None))\n",
      "\u001b[0;32m/usr/local/lib/python2.7/site-packages/selenium/webdriver/remote/errorhandler.pyc\u001b[0m in \u001b[0;36mcheck_response\u001b[0;34m(self, response)\u001b[0m\n\u001b[1;32m    190\u001b[0m         \u001b[0;32melif\u001b[0m \u001b[0mexception_class\u001b[0m \u001b[0;34m==\u001b[0m \u001b[0mUnexpectedAlertPresentException\u001b[0m \u001b[0;32mand\u001b[0m \u001b[0;34m'alert'\u001b[0m \u001b[0;32min\u001b[0m \u001b[0mvalue\u001b[0m\u001b[0;34m:\u001b[0m\u001b[0;34m\u001b[0m\u001b[0m\n\u001b[1;32m    191\u001b[0m             \u001b[0;32mraise\u001b[0m \u001b[0mexception_class\u001b[0m\u001b[0;34m(\u001b[0m\u001b[0mmessage\u001b[0m\u001b[0;34m,\u001b[0m \u001b[0mscreen\u001b[0m\u001b[0;34m,\u001b[0m \u001b[0mstacktrace\u001b[0m\u001b[0;34m,\u001b[0m \u001b[0mvalue\u001b[0m\u001b[0;34m[\u001b[0m\u001b[0;34m'alert'\u001b[0m\u001b[0;34m]\u001b[0m\u001b[0;34m.\u001b[0m\u001b[0mget\u001b[0m\u001b[0;34m(\u001b[0m\u001b[0;34m'text'\u001b[0m\u001b[0;34m)\u001b[0m\u001b[0;34m)\u001b[0m\u001b[0;34m\u001b[0m\u001b[0m\n\u001b[0;32m--> 192\u001b[0;31m         \u001b[0;32mraise\u001b[0m \u001b[0mexception_class\u001b[0m\u001b[0;34m(\u001b[0m\u001b[0mmessage\u001b[0m\u001b[0;34m,\u001b[0m \u001b[0mscreen\u001b[0m\u001b[0;34m,\u001b[0m \u001b[0mstacktrace\u001b[0m\u001b[0;34m)\u001b[0m\u001b[0;34m\u001b[0m\u001b[0m\n\u001b[0m\u001b[1;32m    193\u001b[0m \u001b[0;34m\u001b[0m\u001b[0m\n\u001b[1;32m    194\u001b[0m     \u001b[0;32mdef\u001b[0m \u001b[0m_value_or_default\u001b[0m\u001b[0;34m(\u001b[0m\u001b[0mself\u001b[0m\u001b[0;34m,\u001b[0m \u001b[0mobj\u001b[0m\u001b[0;34m,\u001b[0m \u001b[0mkey\u001b[0m\u001b[0;34m,\u001b[0m \u001b[0mdefault\u001b[0m\u001b[0;34m)\u001b[0m\u001b[0;34m:\u001b[0m\u001b[0;34m\u001b[0m\u001b[0m\n",
      "\u001b[0;31mTimeoutException\u001b[0m: Message: Error loading page, timed out (onDOMContentLoaded)\n"
     ]
    }
   ],
   "source": [
    "for i in range(0, len(df)):\n",
    "    \n",
    "    url = df.loc[i]['url']\n",
    "    print i, url\n",
    "    \n",
    "    stuff = None\n",
    "    #urllib_get_page_with_retry(url)\n",
    "    if stuff == None:\n",
    "            browser.get(url)\n",
    "            time.sleep(5)\n",
    "            stuff = browser.page_source \n",
    "    #urllib_get_page_with_retry(url)\n",
    "    #time.sleep(5)\n",
    "    \n",
    "    new_df.loc[idx] = get_empty_columns()        \n",
    "    new_df.loc[idx]['url'] = url\n",
    "    new_df.loc[idx]['raw_page'] = stuff\n",
    "    idx += 1\n",
    "    "
   ]
  },
  {
   "cell_type": "code",
   "execution_count": 158,
   "metadata": {
    "collapsed": false
   },
   "outputs": [
    {
     "name": "stdout",
     "output_type": "stream",
     "text": [
      "<class 'pandas.core.frame.DataFrame'>\n",
      "Int64Index: 138 entries, 0 to 137\n",
      "Data columns (total 11 columns):\n",
      "dt          138 non-null object\n",
      "source      138 non-null object\n",
      "domain      138 non-null object\n",
      "url         138 non-null object\n",
      "title       138 non-null object\n",
      "summary     138 non-null object\n",
      "image       138 non-null object\n",
      "brief       138 non-null object\n",
      "body        138 non-null object\n",
      "raw_page    138 non-null object\n",
      "from        138 non-null object\n",
      "dtypes: object(11)\n",
      "memory usage: 12.9+ KB\n"
     ]
    }
   ],
   "source": [
    "new_df.info()"
   ]
  },
  {
   "cell_type": "code",
   "execution_count": 232,
   "metadata": {
    "collapsed": false
   },
   "outputs": [
    {
     "data": {
      "text/html": [
       "<div>\n",
       "<table border=\"1\" class=\"dataframe\">\n",
       "  <thead>\n",
       "    <tr style=\"text-align: right;\">\n",
       "      <th></th>\n",
       "      <th>dt</th>\n",
       "      <th>source</th>\n",
       "      <th>domain</th>\n",
       "      <th>url</th>\n",
       "      <th>title</th>\n",
       "      <th>summary</th>\n",
       "      <th>image</th>\n",
       "      <th>brief</th>\n",
       "      <th>body</th>\n",
       "      <th>raw_page</th>\n",
       "      <th>from</th>\n",
       "    </tr>\n",
       "  </thead>\n",
       "  <tbody>\n",
       "    <tr>\n",
       "      <th>0</th>\n",
       "      <td></td>\n",
       "      <td></td>\n",
       "      <td></td>\n",
       "      <td>http://epaper.hf365.com/sqb/gxxw/html/2016-07/...</td>\n",
       "      <td></td>\n",
       "      <td></td>\n",
       "      <td></td>\n",
       "      <td></td>\n",
       "      <td></td>\n",
       "      <td>&lt;html xmlns=\"http://www.w3.org/1999/xhtml\"&gt;&lt;he...</td>\n",
       "      <td></td>\n",
       "    </tr>\n",
       "    <tr>\n",
       "      <th>1</th>\n",
       "      <td></td>\n",
       "      <td></td>\n",
       "      <td></td>\n",
       "      <td>http://epaper.hf365.com/jhcb/html/2016-04/10/c...</td>\n",
       "      <td></td>\n",
       "      <td></td>\n",
       "      <td></td>\n",
       "      <td></td>\n",
       "      <td></td>\n",
       "      <td>&lt;html xmlns=\"http://www.w3.org/1999/xhtml\"&gt;&lt;he...</td>\n",
       "      <td></td>\n",
       "    </tr>\n",
       "    <tr>\n",
       "      <th>2</th>\n",
       "      <td></td>\n",
       "      <td></td>\n",
       "      <td></td>\n",
       "      <td>http://epaper.hf365.com/hfrb/html/2015-05/05/c...</td>\n",
       "      <td></td>\n",
       "      <td></td>\n",
       "      <td></td>\n",
       "      <td></td>\n",
       "      <td></td>\n",
       "      <td>&lt;html xmlns=\"http://www.w3.org/1999/xhtml\"&gt;&lt;he...</td>\n",
       "      <td></td>\n",
       "    </tr>\n",
       "    <tr>\n",
       "      <th>3</th>\n",
       "      <td></td>\n",
       "      <td></td>\n",
       "      <td></td>\n",
       "      <td>http://epaper.hf365.com/hfrb/html/2015-04/03/c...</td>\n",
       "      <td></td>\n",
       "      <td></td>\n",
       "      <td></td>\n",
       "      <td></td>\n",
       "      <td></td>\n",
       "      <td>&lt;html xmlns=\"http://www.w3.org/1999/xhtml\"&gt;&lt;he...</td>\n",
       "      <td></td>\n",
       "    </tr>\n",
       "    <tr>\n",
       "      <th>4</th>\n",
       "      <td></td>\n",
       "      <td></td>\n",
       "      <td></td>\n",
       "      <td>http://epaper.hf365.com/hfwb/html/2015-03/16/c...</td>\n",
       "      <td></td>\n",
       "      <td></td>\n",
       "      <td></td>\n",
       "      <td></td>\n",
       "      <td></td>\n",
       "      <td>&lt;html xmlns=\"http://www.w3.org/1999/xhtml\"&gt;&lt;he...</td>\n",
       "      <td></td>\n",
       "    </tr>\n",
       "  </tbody>\n",
       "</table>\n",
       "</div>"
      ],
      "text/plain": [
       "  dt source domain                                                url title  \\\n",
       "0                   http://epaper.hf365.com/sqb/gxxw/html/2016-07/...         \n",
       "1                   http://epaper.hf365.com/jhcb/html/2016-04/10/c...         \n",
       "2                   http://epaper.hf365.com/hfrb/html/2015-05/05/c...         \n",
       "3                   http://epaper.hf365.com/hfrb/html/2015-04/03/c...         \n",
       "4                   http://epaper.hf365.com/hfwb/html/2015-03/16/c...         \n",
       "\n",
       "  summary image brief body                                           raw_page  \\\n",
       "0                           <html xmlns=\"http://www.w3.org/1999/xhtml\"><he...   \n",
       "1                           <html xmlns=\"http://www.w3.org/1999/xhtml\"><he...   \n",
       "2                           <html xmlns=\"http://www.w3.org/1999/xhtml\"><he...   \n",
       "3                           <html xmlns=\"http://www.w3.org/1999/xhtml\"><he...   \n",
       "4                           <html xmlns=\"http://www.w3.org/1999/xhtml\"><he...   \n",
       "\n",
       "  from  \n",
       "0       \n",
       "1       \n",
       "2       \n",
       "3       \n",
       "4       "
      ]
     },
     "execution_count": 232,
     "metadata": {},
     "output_type": "execute_result"
    }
   ],
   "source": [
    "new_df.head()"
   ]
  },
  {
   "cell_type": "code",
   "execution_count": 90,
   "metadata": {
    "collapsed": true
   },
   "outputs": [],
   "source": [
    "print stuff"
   ]
  },
  {
   "cell_type": "code",
   "execution_count": 287,
   "metadata": {
    "collapsed": false
   },
   "outputs": [],
   "source": [
    "new_df.to_csv('temp/temp13.csv', encoding='utf-8', index=False)"
   ]
  },
  {
   "cell_type": "code",
   "execution_count": 35,
   "metadata": {
    "collapsed": false
   },
   "outputs": [
    {
     "name": "stdout",
     "output_type": "stream",
     "text": [
      "\n",
      "创文旅新格局传中华徽文化 安徽商报\n",
      "\n",
      "\n",
      "\n",
      "\n",
      "\n",
      "\n",
      "\n",
      "分享到一键分享QQ空间新浪微博百度云收藏人人网腾讯微博百度相册开心网腾讯朋友百度贴吧豆瓣网搜狐微博百度新首页QQ好友和讯微博更多...百度分享\n",
      "\n",
      "\t\n",
      "\t\t\n",
      "\t\t\t\n",
      "\n",
      "\n",
      "\n",
      "\n",
      "\n",
      "\n",
      "\n",
      "\n",
      "\n",
      "\t\t\t09 民生新闻·资讯\n",
      "\n",
      "var str=window.location.href;\n",
      "if(str.indexOf(\"ahrb\")>0||str.indexOf(\"wjzk\")>0||str.indexOf(\"jrng\")>0||str.indexOf(\"ngnews\")>0||str.indexOf(\"dzxw\")>0||str.indexOf(\"sszk\")>0||str.indexOf(\"tdjs\")>0||str.indexOf(\"crec4\")>0||str.indexOf(\"zyzk\")>0||str.indexOf(\"zyxw\")>0){document.write('<div style=\"margin-top:10px;text-align:center;display:none\">')}else{document.write('<div style=\"margin-top:10px;text-align:center;\">')}\n",
      "//安徽日报不显示广告\n",
      "\n",
      "\n",
      "\n",
      "/*数字报内容*/\n",
      "var cpro_id = \"u1455815\";\n",
      "\n",
      "\n",
      "\n",
      "document.write('</div>');\n",
      "\t\t\n",
      "\t\t\n",
      "\t\t\t2016年07月25日 星期一国内统一刊号:CN34-0044\n",
      "\t\t\t\n",
      "\t\t\t\n",
      "\t\t\t\t安徽日报报业集团报系：\n",
      "\t\t\t\t\t\t\t\t\n",
      "\t\t\t\t\n",
      "\t\t\t\t\t请选择报纸安徽日报新安晚报安徽商报安徽日报农村版安徽法制报江淮时报世界报新闻世界徽商\n",
      "\t\t\t\t 日期 \n",
      "\t\t\t\t\t\t\t\n",
      "\t\t\t\t更多\n",
      "\t\t\t\n",
      "\t\t\t订阅安徽手机报　发送hah到10658000即可随身阅读每天早晚报　5元/月\n",
      "\t\t\t\n",
      "\t\t\t\t\n",
      "\t\t\t\t\t\n",
      "\t\t\t\t\t\t\n",
      "\t\t\t\t\t\t分享到：\n",
      "\t\t\t\t\t\t\n",
      "\t\t\t\t\t\t\n",
      "\t\t\t\t\t\t\n",
      "\t\t\t\t\t\t\n",
      "\t\t\t\t\t\t\n",
      "\t\t\t\t\t\t0\n",
      "\t\t\t\t\t\t\n",
      "\t\t\t\t\t\t\n",
      "\t\t\t\t\t\t\n",
      "\t\t\t\t\t\t\n",
      "\t\t\t\t\t\tdocument.getElementById(\"bdshell_js\").src = \"http://bdimg.share.baidu.com/static/js/shell_v2.js?cdnversion=\" + Math.ceil(new Date()/3600000)\n",
      "\t\t\t\t\t\t\n",
      "\t\t\t\t\t\t\n",
      "\t\t\t\t\t\n",
      "\t\t\t\t\t\n",
      "\t\t\t\t\t\t\n",
      "\t\t\t\t\t\t创文旅新格局传中华徽文化\n",
      "\t\t\t\t\t\t合肥万达城门票7月23日正式开售全业态亮灯让华东无眠\n",
      "\t\t\t\t\t\t集聚欢乐的人群，传递欢乐的业态，点燃欢乐的灯光，开售欢乐的门票。仲夏夜的巢湖畔，合肥万达城开票盛典及全业态亮灯仪式奏响欢乐的乐章，愉悦的节奏从这里传遍华东、覆盖全国、影响全球。 7月23日晚间，合肥万达城门票正式开售。 9月24日开园首日票，一小时内被抢两万余张。当晚，一场全球共享的盛大欢乐趴正式开启，超值乐园门票、炫彩灯光秀、超萌吉祥物、荧光夜跑、音乐派对、露天电影和数万市民一起成为欢乐趴的主角。作为华东地区最大的文化旅游项目，合肥万达城在这一夜，向世界展现了中国独创、全球唯一的文化旅游新品牌的魅力与实力。合肥市旅游局、包河区商务和旅游局相关领导出席了此次活动。[欢乐潮]万达城首日门票开售一小时疯抢两万余张　　从2013年深秋奠基开始，合肥万达城的模样就被想象期待着；三年过去了，这种等待终于成为眼前的现实。 7月23日晚8点多，合肥万达城首次向市民开放核心的乐园区域，数万人潮从脸谱广场出发、经徽州古镇、到达梨园春秋等多个景点。　　合肥万达城门票自7月11日公布价格后，就被各方期待，最低75元的定价让人惊呼“实在”，358元玩转“水陆电”三大乐园也让大家十分过瘾。项目相关负责人现场演示了合肥万达城门票三大官方购票平台：合肥万达乐园官方网站、合肥万达乐园官方微信和合肥万达乐园新浪微博，及线上、线下销售渠道。同时，为了回馈游客对于合肥万达城的热情，通过指定三方平台购票的游客可享受立减18元的优惠，前100名购票者更可获赠价值2888元的华东唯一六星级新中式酒店——合肥万达文华酒店一晚住宿的惊喜，让欢乐无限升级。　　当晚8点28分，合肥万达城门票正式开售，成功购票者的信息不断通过大屏幕涌入，一小时内售出了23719张门票，足见游客对合肥万达城开业的翘首期待。[欢乐式]全业态集体亮灯世界旅游新品牌点亮全球　　当晚的巢湖北岸，被闪耀的灯光和欢乐的人群点燃，在合肥入夏最高温的周末，合肥万达城用自己的方式和千万市民一起，把这座城市推向欢乐的沸点，并传递至全球。　　万达茂、银座、星级酒店群、新天地商业街和酒吧街、住宅、室外主题乐园同步亮灯，展示了合肥万达城顶级业态；酒店群前的人工湖上漂浮起朵朵莲花灯温婉柔美；最后，主题乐园脸谱大门的璀璨灯光秀点亮万达城的中心、也将全场氛围推向顶点。[欢乐派]文化旅游新模式将中华文化的博大精深传递全球万达城7月23日举行的欢乐趴只是开始，欢乐的顶级盛况将在9月24日全部展现。合肥万达城三大乐园——徽文化室外乐园，恒温水乐园、高科技电影乐园，是世界NO.1设计公司最新力作、数百种顶级先进的娱乐设备、融合徽州文化精髓和世界尖端科技元素，带游客体验最新潮的旅游模式，找寻欢乐的本源、文化的根源。“万达城是中国人自己的乐园，这里的一草一木一花一树都是中国故事的现代演义，我们可以四季在这里感受万达城带来的欢乐。”现场，万达集团总裁助理、合肥万达城投资有限公司总经理朋汪勤向所有人发出邀约：来万达城体验快乐的一天，从星级酒店的温馨住所，到三大乐园的尽情欢乐、万达茂里的愉悦购物，再到夜晚绚烂的歌舞和烟火，万达城将为游客度假的好去处。　　从此，全球旅游文化中，融入了中国独创、世界唯一的新模式。做有内涵的旅游业态，让玩乐多一层精神意义。一小时两万余张首日门票被疯抢，足以证明大众对于中式文化的推崇。　　中国式、世界级文化旅游新品牌——合肥万达城，让23日这一夜，华东无眠、全球沸腾。华灯下熠熠生辉的合肥万达城，留给世界无限期待，等待9月24日盛大开幕。 张沛\n",
      "\t\t\t\t\t\n",
      "\t\t\t\t\t\t\t\t\n",
      "\t\t\t\n",
      "\t\t\t\n",
      "var str=window.location.href;\n",
      "if(str.indexOf(\"ahrb\")>0||str.indexOf(\"wjzk\")>0||str.indexOf(\"jrng\")>0||str.indexOf(\"ngnews\")>0||str.indexOf(\"dzxw\")>0||str.indexOf(\"sszk\")>0||str.indexOf(\"tdjs\")>0||str.indexOf(\"crec4\")>0){document.write('<div style=\"margin:0 auto;display:none\">')}else{document.write('<div style=\"margin:0 auto;\">')}\n",
      "//安徽日报不显示广告\n",
      "\n",
      "\n",
      "\n",
      "/*数字版面顶部*/\n",
      "var cpro_id = \"u1455814\";\n",
      "\n",
      "\n",
      "\n",
      "document.write('</div>');\n",
      "\t\t\n",
      "\t\t\n",
      "\t\n",
      "\n",
      "\n",
      "\t中国安徽在线网站(中安在线)版权所有 未经允许 请勿复制或镜像皖ICP证 08007183号 信息网络传播视听节目许可证:1208228 var cnzz_protocol = ((\"https:\" == document.location.protocol) ? \" https://\" : \" http://\");document.write(unescape(\"%3Cspan id='cnzz_stat_icon_2457051'%3E%3C/span%3E%3Cscript src='\" + cnzz_protocol + \"s9.cnzz.com/stat.php%3Fid%3D2457051' type='text/javascript'%3E%3C/script%3E\"));\n",
      "站长统计 联系电话：0551-65179860\n",
      "\n",
      "\n",
      "\n",
      "\n",
      "\n",
      "\n"
     ]
    },
    {
     "name": "stderr",
     "output_type": "stream",
     "text": [
      "/usr/local/lib/python2.7/site-packages/bs4/__init__.py:181: UserWarning: No parser was explicitly specified, so I'm using the best available HTML parser for this system (\"html5lib\"). This usually isn't a problem, but if you run this code on another system, or in a different virtual environment, it may use a different parser and behave differently.\n",
      "\n",
      "The code that caused this warning is on line 162 of the file /usr/local/Cellar/python/2.7.10_2/Frameworks/Python.framework/Versions/2.7/lib/python2.7/runpy.py. To get rid of this warning, change code that looks like this:\n",
      "\n",
      " BeautifulSoup([your markup])\n",
      "\n",
      "to this:\n",
      "\n",
      " BeautifulSoup([your markup], \"html5lib\")\n",
      "\n",
      "  markup_type=markup_type))\n"
     ]
    }
   ],
   "source": [
    "m = new_df.loc[1]['raw_page']\n",
    "soup = BeautifulSoup(m)\n",
    "print soup.text"
   ]
  },
  {
   "cell_type": "code",
   "execution_count": 68,
   "metadata": {
    "collapsed": false
   },
   "outputs": [
    {
     "name": "stdout",
     "output_type": "stream",
     "text": [
      "None\n"
     ]
    }
   ],
   "source": [
    "print m"
   ]
  },
  {
   "cell_type": "code",
   "execution_count": 162,
   "metadata": {
    "collapsed": false
   },
   "outputs": [
    {
     "name": "stdout",
     "output_type": "stream",
     "text": [
      "<class 'pandas.core.frame.DataFrame'>\n",
      "Int64Index: 4496 entries, 0 to 4495\n",
      "Data columns (total 11 columns):\n",
      "dt          4496 non-null object\n",
      "source      4496 non-null object\n",
      "domain      4496 non-null object\n",
      "url         4496 non-null object\n",
      "title       4496 non-null object\n",
      "summary     4496 non-null object\n",
      "image       4496 non-null object\n",
      "brief       4496 non-null object\n",
      "body        4496 non-null object\n",
      "raw_page    4496 non-null object\n",
      "from        4496 non-null object\n",
      "dtypes: object(11)\n",
      "memory usage: 421.5+ KB\n"
     ]
    }
   ],
   "source": [
    "df.info()"
   ]
  },
  {
   "cell_type": "code",
   "execution_count": null,
   "metadata": {
    "collapsed": true
   },
   "outputs": [],
   "source": []
  },
  {
   "cell_type": "code",
   "execution_count": 12,
   "metadata": {
    "collapsed": false
   },
   "outputs": [
    {
     "name": "stdout",
     "output_type": "stream",
     "text": [
      "http://www.hzwh.com/toplistb.asp?id=229&page=0\n",
      "传统徽州仁商义贾践行商君子之道的历史启示\n",
      "《阅读徽州》第七编“徽州科技”\n",
      "传统徽商的诚信为本和仁义向善\n",
      "传统徽商的诚信为本和仁义向善\n",
      "黟县古城改造重要的是务须保住文教根脉\n",
      "推动徽州传统文化的普及宣传\n",
      "徽学与当代学术 \n",
      "“儒学与地域文化：徽学国际学术研讨会”综述\n",
      "洪经纶墓葬地点的疏证\n",
      "徽州乡镇志中所见明清民间救荒措施\n",
      "徽州文化全书\n",
      "论文化生产力与中部地区的经济发展\n",
      "徽州书院的讲会\n",
      "明代海上徽帮与宁波海上丝绸之路\n",
      "徽州昌溪周氏家族与宁波近代商业发展史\n",
      "徽商历史的文化价值批判 \n",
      "徽商\n",
      "徽商文化及特点\n",
      "婺源徽剧音乐研究\n",
      "古徽州和谐乡村社会建设的经验\n"
     ]
    },
    {
     "name": "stderr",
     "output_type": "stream",
     "text": [
      "/usr/local/lib/python2.7/site-packages/bs4/__init__.py:181: UserWarning: No parser was explicitly specified, so I'm using the best available HTML parser for this system (\"html5lib\"). This usually isn't a problem, but if you run this code on another system, or in a different virtual environment, it may use a different parser and behave differently.\n",
      "\n",
      "The code that caused this warning is on line 162 of the file /usr/local/Cellar/python/2.7.10_2/Frameworks/Python.framework/Versions/2.7/lib/python2.7/runpy.py. To get rid of this warning, change code that looks like this:\n",
      "\n",
      " BeautifulSoup([your markup])\n",
      "\n",
      "to this:\n",
      "\n",
      " BeautifulSoup([your markup], \"html5lib\")\n",
      "\n",
      "  markup_type=markup_type))\n"
     ]
    }
   ],
   "source": [
    "for i in range(0, 1):\n",
    "    url_0 = news_url\n",
    "    print url_0\n",
    "    browser.get(url_0)\n",
    "    time.sleep(5)\n",
    "\n",
    "    soup = BeautifulSoup(browser.page_source)\n",
    "    sub_text = soup.findAll('div', {'class':'listA_title'})\n",
    "\n",
    "    for item in sub_text:\n",
    "        t1 = item.find('div', {'class':'listA_Time'})\n",
    "        #print 'www.hzwh.com/' + item.a['href']\n",
    "        #print t1.text\n",
    "        print item.a.text\n",
    "        url = 'www.hzwh.com/' + item.a['href']\n",
    "        \n",
    "        not_existed = True\n",
    "        #check if in cleaned set\n",
    "        if t1 != None and len(df_check) != 0:\n",
    "            t0 = abs(sum(df_check['url'].str.find(url))) \n",
    "            if t0 != len(df_check):\n",
    "                not_existed = False\n",
    "\n",
    "        #check if in dynamic set\n",
    "        if t1 != None and len(df) != 0 and not_existed == True:\n",
    "            t0 = abs(sum(df['url'].str.find(str(url)))) \n",
    "            if t0 != len(df):\n",
    "                not_existed = False\n",
    "\n",
    "        #print t0, len(df), t1\n",
    "\n",
    "        if not_existed == True and t1 != None:   \n",
    "            print \"-------- add\"\n",
    "            df.loc[idx] = get_empty_columns()        \n",
    "            df.loc[idx]['url'] = url\n",
    "            df.loc[idx]['title'] = item.a.text\n",
    "            df.loc[idx]['source'] = '徽州文化网'\n",
    "            df.loc[idx]['dt'] = t1.text\n",
    "            idx += 1"
   ]
  },
  {
   "cell_type": "code",
   "execution_count": 13,
   "metadata": {
    "collapsed": false
   },
   "outputs": [
    {
     "name": "stdout",
     "output_type": "stream",
     "text": [
      "0\n"
     ]
    }
   ],
   "source": [
    "print len(df)"
   ]
  },
  {
   "cell_type": "code",
   "execution_count": 12,
   "metadata": {
    "collapsed": false
   },
   "outputs": [
    {
     "data": {
      "text/html": [
       "<div>\n",
       "<table border=\"1\" class=\"dataframe\">\n",
       "  <thead>\n",
       "    <tr style=\"text-align: right;\">\n",
       "      <th></th>\n",
       "      <th>dt</th>\n",
       "      <th>source</th>\n",
       "      <th>domain</th>\n",
       "      <th>url</th>\n",
       "      <th>title</th>\n",
       "      <th>summary</th>\n",
       "      <th>image</th>\n",
       "      <th>brief</th>\n",
       "      <th>body</th>\n",
       "      <th>raw_page</th>\n",
       "      <th>from</th>\n",
       "    </tr>\n",
       "  </thead>\n",
       "  <tbody>\n",
       "    <tr>\n",
       "      <th>0</th>\n",
       "      <td>2004-03-03</td>\n",
       "      <td>徽州文化网</td>\n",
       "      <td></td>\n",
       "      <td>www.hzwh.com/article.asp?id=533</td>\n",
       "      <td>旧时徽州税票名称种种</td>\n",
       "      <td></td>\n",
       "      <td></td>\n",
       "      <td></td>\n",
       "      <td></td>\n",
       "      <td></td>\n",
       "      <td></td>\n",
       "    </tr>\n",
       "    <tr>\n",
       "      <th>1</th>\n",
       "      <td>2004-03-03</td>\n",
       "      <td>徽州文化网</td>\n",
       "      <td></td>\n",
       "      <td>www.hzwh.com/article.asp?id=532</td>\n",
       "      <td>小小大阜村 爷孙宰相俩</td>\n",
       "      <td></td>\n",
       "      <td></td>\n",
       "      <td></td>\n",
       "      <td></td>\n",
       "      <td></td>\n",
       "      <td></td>\n",
       "    </tr>\n",
       "    <tr>\n",
       "      <th>2</th>\n",
       "      <td>2004-03-09</td>\n",
       "      <td>徽州文化网</td>\n",
       "      <td></td>\n",
       "      <td>www.hzwh.com/article.asp?id=530</td>\n",
       "      <td>李良春与《惯痴文集》</td>\n",
       "      <td></td>\n",
       "      <td></td>\n",
       "      <td></td>\n",
       "      <td></td>\n",
       "      <td></td>\n",
       "      <td></td>\n",
       "    </tr>\n",
       "    <tr>\n",
       "      <th>3</th>\n",
       "      <td>2004-03-22</td>\n",
       "      <td>徽州文化网</td>\n",
       "      <td></td>\n",
       "      <td>www.hzwh.com/article.asp?id=528</td>\n",
       "      <td>古老的石林</td>\n",
       "      <td></td>\n",
       "      <td></td>\n",
       "      <td></td>\n",
       "      <td></td>\n",
       "      <td></td>\n",
       "      <td></td>\n",
       "    </tr>\n",
       "    <tr>\n",
       "      <th>4</th>\n",
       "      <td>2004-03-31</td>\n",
       "      <td>徽州文化网</td>\n",
       "      <td></td>\n",
       "      <td>www.hzwh.com/article.asp?id=527</td>\n",
       "      <td>洪钧行书联</td>\n",
       "      <td></td>\n",
       "      <td></td>\n",
       "      <td></td>\n",
       "      <td></td>\n",
       "      <td></td>\n",
       "      <td></td>\n",
       "    </tr>\n",
       "    <tr>\n",
       "      <th>5</th>\n",
       "      <td>2004-04-02</td>\n",
       "      <td>徽州文化网</td>\n",
       "      <td></td>\n",
       "      <td>www.hzwh.com/article.asp?id=525</td>\n",
       "      <td>万安“中国罗盘之乡”</td>\n",
       "      <td></td>\n",
       "      <td></td>\n",
       "      <td></td>\n",
       "      <td></td>\n",
       "      <td></td>\n",
       "      <td></td>\n",
       "    </tr>\n",
       "    <tr>\n",
       "      <th>6</th>\n",
       "      <td>2004-04-11</td>\n",
       "      <td>徽州文化网</td>\n",
       "      <td></td>\n",
       "      <td>www.hzwh.com/article.asp?id=523</td>\n",
       "      <td>吕仙宫</td>\n",
       "      <td></td>\n",
       "      <td></td>\n",
       "      <td></td>\n",
       "      <td></td>\n",
       "      <td></td>\n",
       "      <td></td>\n",
       "    </tr>\n",
       "    <tr>\n",
       "      <th>7</th>\n",
       "      <td>2004-04-12</td>\n",
       "      <td>徽州文化网</td>\n",
       "      <td></td>\n",
       "      <td>www.hzwh.com/article.asp?id=521</td>\n",
       "      <td>溪 头 探 古</td>\n",
       "      <td></td>\n",
       "      <td></td>\n",
       "      <td></td>\n",
       "      <td></td>\n",
       "      <td></td>\n",
       "      <td></td>\n",
       "    </tr>\n",
       "    <tr>\n",
       "      <th>8</th>\n",
       "      <td>2004-04-15</td>\n",
       "      <td>徽州文化网</td>\n",
       "      <td></td>\n",
       "      <td>www.hzwh.com/article.asp?id=520</td>\n",
       "      <td>五绝《小桃源》中否李白所作？</td>\n",
       "      <td></td>\n",
       "      <td></td>\n",
       "      <td></td>\n",
       "      <td></td>\n",
       "      <td></td>\n",
       "      <td></td>\n",
       "    </tr>\n",
       "    <tr>\n",
       "      <th>9</th>\n",
       "      <td>2004-04-15</td>\n",
       "      <td>徽州文化网</td>\n",
       "      <td></td>\n",
       "      <td>www.hzwh.com/article.asp?id=518</td>\n",
       "      <td>解读戴震诗一首</td>\n",
       "      <td></td>\n",
       "      <td></td>\n",
       "      <td></td>\n",
       "      <td></td>\n",
       "      <td></td>\n",
       "      <td></td>\n",
       "    </tr>\n",
       "    <tr>\n",
       "      <th>10</th>\n",
       "      <td>2004-05-11</td>\n",
       "      <td>徽州文化网</td>\n",
       "      <td></td>\n",
       "      <td>www.hzwh.com/article.asp?id=517</td>\n",
       "      <td>安徽休宁——中国第一状元县</td>\n",
       "      <td></td>\n",
       "      <td></td>\n",
       "      <td></td>\n",
       "      <td></td>\n",
       "      <td></td>\n",
       "      <td></td>\n",
       "    </tr>\n",
       "    <tr>\n",
       "      <th>11</th>\n",
       "      <td>2004-05-13</td>\n",
       "      <td>徽州文化网</td>\n",
       "      <td></td>\n",
       "      <td>www.hzwh.com/article.asp?id=516</td>\n",
       "      <td>独树一帜的徽州税文化</td>\n",
       "      <td></td>\n",
       "      <td></td>\n",
       "      <td></td>\n",
       "      <td></td>\n",
       "      <td></td>\n",
       "      <td></td>\n",
       "    </tr>\n",
       "    <tr>\n",
       "      <th>12</th>\n",
       "      <td>2009-04-28</td>\n",
       "      <td>徽州文化网</td>\n",
       "      <td></td>\n",
       "      <td>www.hzwh.com/article.asp?id=505</td>\n",
       "      <td>扬弃古徽州廉政文化 促进新黄山廉政建设</td>\n",
       "      <td></td>\n",
       "      <td></td>\n",
       "      <td></td>\n",
       "      <td></td>\n",
       "      <td></td>\n",
       "      <td></td>\n",
       "    </tr>\n",
       "  </tbody>\n",
       "</table>\n",
       "</div>"
      ],
      "text/plain": [
       "            dt source domain                              url  \\\n",
       "0   2004-03-03  徽州文化网         www.hzwh.com/article.asp?id=533   \n",
       "1   2004-03-03  徽州文化网         www.hzwh.com/article.asp?id=532   \n",
       "2   2004-03-09  徽州文化网         www.hzwh.com/article.asp?id=530   \n",
       "3   2004-03-22  徽州文化网         www.hzwh.com/article.asp?id=528   \n",
       "4   2004-03-31  徽州文化网         www.hzwh.com/article.asp?id=527   \n",
       "5   2004-04-02  徽州文化网         www.hzwh.com/article.asp?id=525   \n",
       "6   2004-04-11  徽州文化网         www.hzwh.com/article.asp?id=523   \n",
       "7   2004-04-12  徽州文化网         www.hzwh.com/article.asp?id=521   \n",
       "8   2004-04-15  徽州文化网         www.hzwh.com/article.asp?id=520   \n",
       "9   2004-04-15  徽州文化网         www.hzwh.com/article.asp?id=518   \n",
       "10  2004-05-11  徽州文化网         www.hzwh.com/article.asp?id=517   \n",
       "11  2004-05-13  徽州文化网         www.hzwh.com/article.asp?id=516   \n",
       "12  2009-04-28  徽州文化网         www.hzwh.com/article.asp?id=505   \n",
       "\n",
       "                  title summary image brief body raw_page from  \n",
       "0            旧时徽州税票名称种种                                         \n",
       "1           小小大阜村 爷孙宰相俩                                         \n",
       "2            李良春与《惯痴文集》                                         \n",
       "3                 古老的石林                                         \n",
       "4                 洪钧行书联                                         \n",
       "5            万安“中国罗盘之乡”                                         \n",
       "6                   吕仙宫                                         \n",
       "7               溪 头 探 古                                         \n",
       "8        五绝《小桃源》中否李白所作？                                         \n",
       "9               解读戴震诗一首                                         \n",
       "10        安徽休宁——中国第一状元县                                         \n",
       "11           独树一帜的徽州税文化                                         \n",
       "12  扬弃古徽州廉政文化 促进新黄山廉政建设                                         "
      ]
     },
     "execution_count": 12,
     "metadata": {},
     "output_type": "execute_result"
    }
   ],
   "source": [
    "df.head(50)"
   ]
  },
  {
   "cell_type": "code",
   "execution_count": 28,
   "metadata": {
    "collapsed": false
   },
   "outputs": [
    {
     "name": "stdout",
     "output_type": "stream",
     "text": [
      "0\n"
     ]
    }
   ],
   "source": [
    "print len(df)"
   ]
  },
  {
   "cell_type": "code",
   "execution_count": 163,
   "metadata": {
    "collapsed": true
   },
   "outputs": [],
   "source": [
    "def url_get(url):\n",
    "    browser.get(url)\n",
    "    print url\n",
    "    time.sleep(5)\n",
    "    return browser.page_source"
   ]
  },
  {
   "cell_type": "code",
   "execution_count": 164,
   "metadata": {
    "collapsed": false
   },
   "outputs": [
    {
     "name": "stdout",
     "output_type": "stream",
     "text": [
      "http://www.hzwh.com/article.asp?id=2538\n",
      "http://www.hzwh.com/article.asp?id=2537\n",
      "http://www.hzwh.com/article.asp?id=2536\n",
      "http://www.hzwh.com/article.asp?id=2535\n",
      "http://www.hzwh.com/article.asp?id=2534\n",
      "http://www.hzwh.com/article.asp?id=2533\n",
      "http://www.hzwh.com/article.asp?id=2099\n",
      "http://www.hzwh.com/article.asp?id=2098\n",
      "http://www.hzwh.com/article.asp?id=1848\n",
      "http://www.hzwh.com/article.asp?id=1847\n",
      "http://www.hzwh.com/article.asp?id=1846\n",
      "http://www.hzwh.com/article.asp?id=1794\n",
      "http://www.hzwh.com/article.asp?id=1695\n",
      "http://www.hzwh.com/article.asp?id=1694\n",
      "http://www.hzwh.com/article.asp?id=1693\n",
      "http://www.hzwh.com/article.asp?id=1624\n",
      "http://www.hzwh.com/article.asp?id=1623\n",
      "http://www.hzwh.com/article.asp?id=1622\n",
      "http://www.hzwh.com/article.asp?id=1455\n",
      "http://www.hzwh.com/article.asp?id=1418\n",
      "http://www.hzwh.com/article.asp?id=1417\n",
      "http://www.hzwh.com/article.asp?id=1416\n",
      "http://www.hzwh.com/article.asp?id=1415\n",
      "http://www.hzwh.com/article.asp?id=1414\n",
      "http://www.hzwh.com/article.asp?id=1347\n",
      "http://www.hzwh.com/article.asp?id=1346\n",
      "http://www.hzwh.com/article.asp?id=1342\n",
      "http://www.hzwh.com/article.asp?id=1341\n",
      "http://www.hzwh.com/article.asp?id=1337\n",
      "http://www.hzwh.com/article.asp?id=1336\n",
      "http://www.hzwh.com/article.asp?id=1335\n",
      "http://www.hzwh.com/article.asp?id=1334\n",
      "http://www.hzwh.com/article.asp?id=1333\n",
      "http://www.hzwh.com/article.asp?id=1331\n",
      "http://www.hzwh.com/article.asp?id=1330\n",
      "http://www.hzwh.com/article.asp?id=1329\n",
      "http://www.hzwh.com/article.asp?id=1328\n",
      "http://www.hzwh.com/article.asp?id=1327\n",
      "http://www.hzwh.com/article.asp?id=1326\n",
      "http://www.hzwh.com/article.asp?id=1325\n",
      "http://www.hzwh.com/article.asp?id=1323\n",
      "http://www.hzwh.com/article.asp?id=1322\n",
      "http://www.hzwh.com/article.asp?id=1321\n",
      "http://www.hzwh.com/article.asp?id=1320\n",
      "http://www.hzwh.com/article.asp?id=1319\n",
      "http://www.hzwh.com/article.asp?id=1318\n",
      "http://www.hzwh.com/article.asp?id=1317\n",
      "http://www.hzwh.com/article.asp?id=1316\n",
      "http://www.hzwh.com/article.asp?id=1315\n",
      "http://www.hzwh.com/article.asp?id=1314\n",
      "http://www.hzwh.com/article.asp?id=1313\n",
      "http://www.hzwh.com/article.asp?id=1312\n",
      "http://www.hzwh.com/article.asp?id=1311\n",
      "http://www.hzwh.com/article.asp?id=1310\n",
      "http://www.hzwh.com/article.asp?id=1309\n",
      "http://www.hzwh.com/article.asp?id=1308\n",
      "http://www.hzwh.com/article.asp?id=1307\n",
      "http://www.hzwh.com/article.asp?id=1306\n",
      "http://www.hzwh.com/article.asp?id=1305\n",
      "http://www.hzwh.com/article.asp?id=1304\n",
      "http://www.hzwh.com/article.asp?id=1303\n",
      "http://www.hzwh.com/article.asp?id=1302\n",
      "http://www.hzwh.com/article.asp?id=1301\n",
      "http://www.hzwh.com/article.asp?id=1300\n",
      "http://www.hzwh.com/article.asp?id=1299\n",
      "http://www.hzwh.com/article.asp?id=1298\n",
      "http://www.hzwh.com/article.asp?id=1297\n",
      "http://www.hzwh.com/article.asp?id=1271\n",
      "http://www.hzwh.com/article.asp?id=1270\n",
      "http://www.hzwh.com/article.asp?id=1267\n",
      "http://www.hzwh.com/article.asp?id=1264\n",
      "http://www.hzwh.com/article.asp?id=1263\n",
      "http://www.hzwh.com/article.asp?id=1261\n",
      "http://www.hzwh.com/article.asp?id=1260\n",
      "http://www.hzwh.com/article.asp?id=1259\n",
      "http://www.hzwh.com/article.asp?id=1258\n",
      "http://www.hzwh.com/article.asp?id=1257\n",
      "http://www.hzwh.com/article.asp?id=1256\n",
      "http://www.hzwh.com/article.asp?id=1255\n",
      "http://www.hzwh.com/article.asp?id=1254\n",
      "http://www.hzwh.com/article.asp?id=1253\n",
      "http://www.hzwh.com/article.asp?id=1252\n",
      "http://www.hzwh.com/article.asp?id=1251\n",
      "http://www.hzwh.com/article.asp?id=1250\n",
      "http://www.hzwh.com/article.asp?id=1249\n",
      "http://www.hzwh.com/article.asp?id=1248\n",
      "http://www.hzwh.com/article.asp?id=1247\n",
      "http://www.hzwh.com/article.asp?id=1246\n",
      "http://www.hzwh.com/article.asp?id=1245\n",
      "http://www.hzwh.com/article.asp?id=1244\n",
      "http://www.hzwh.com/article.asp?id=1243\n",
      "http://www.hzwh.com/article.asp?id=1242\n"
     ]
    },
    {
     "ename": "TimeoutException",
     "evalue": "Message: Error loading page, timed out (onDOMContentLoaded)\n",
     "output_type": "error",
     "traceback": [
      "\u001b[0;31m---------------------------------------------------------------------------\u001b[0m",
      "\u001b[0;31mTimeoutException\u001b[0m                          Traceback (most recent call last)",
      "\u001b[0;32m<ipython-input-164-358563e4bc3a>\u001b[0m in \u001b[0;36m<module>\u001b[0;34m()\u001b[0m\n\u001b[1;32m      3\u001b[0m \u001b[0mdf\u001b[0m\u001b[0;34m[\u001b[0m\u001b[0;34m'url'\u001b[0m\u001b[0;34m]\u001b[0m \u001b[0;34m=\u001b[0m \u001b[0mdf_check\u001b[0m\u001b[0;34m[\u001b[0m\u001b[0;34m'url'\u001b[0m\u001b[0;34m]\u001b[0m\u001b[0;34m\u001b[0m\u001b[0m\n\u001b[1;32m      4\u001b[0m \u001b[0mdf\u001b[0m\u001b[0;34m[\u001b[0m\u001b[0;34m'title'\u001b[0m\u001b[0;34m]\u001b[0m \u001b[0;34m=\u001b[0m \u001b[0mdf_check\u001b[0m\u001b[0;34m[\u001b[0m\u001b[0;34m'title'\u001b[0m\u001b[0;34m]\u001b[0m\u001b[0;34m\u001b[0m\u001b[0m\n\u001b[0;32m----> 5\u001b[0;31m \u001b[0mdf\u001b[0m\u001b[0;34m[\u001b[0m\u001b[0;34m'raw_page'\u001b[0m\u001b[0;34m]\u001b[0m \u001b[0;34m=\u001b[0m \u001b[0mdf_check\u001b[0m\u001b[0;34m.\u001b[0m\u001b[0murl\u001b[0m\u001b[0;34m.\u001b[0m\u001b[0mmap\u001b[0m\u001b[0;34m(\u001b[0m\u001b[0;32mlambda\u001b[0m \u001b[0mx\u001b[0m\u001b[0;34m:\u001b[0m \u001b[0murl_get\u001b[0m\u001b[0;34m(\u001b[0m\u001b[0;34m'http://'\u001b[0m \u001b[0;34m+\u001b[0m \u001b[0mx\u001b[0m\u001b[0;34m)\u001b[0m \u001b[0;34m)\u001b[0m\u001b[0;34m\u001b[0m\u001b[0m\n\u001b[0m",
      "\u001b[0;32m/Library/Python/2.7/site-packages/pandas/core/series.pyc\u001b[0m in \u001b[0;36mmap\u001b[0;34m(self, arg, na_action)\u001b[0m\n\u001b[1;32m   2043\u001b[0m                                      index=self.index).__finalize__(self)\n\u001b[1;32m   2044\u001b[0m         \u001b[0;32melse\u001b[0m\u001b[0;34m:\u001b[0m\u001b[0;34m\u001b[0m\u001b[0m\n\u001b[0;32m-> 2045\u001b[0;31m             \u001b[0mmapped\u001b[0m \u001b[0;34m=\u001b[0m \u001b[0mmap_f\u001b[0m\u001b[0;34m(\u001b[0m\u001b[0mvalues\u001b[0m\u001b[0;34m,\u001b[0m \u001b[0marg\u001b[0m\u001b[0;34m)\u001b[0m\u001b[0;34m\u001b[0m\u001b[0m\n\u001b[0m\u001b[1;32m   2046\u001b[0m             return self._constructor(mapped,\n\u001b[1;32m   2047\u001b[0m                                      index=self.index).__finalize__(self)\n",
      "\u001b[0;32mpandas/src/inference.pyx\u001b[0m in \u001b[0;36mpandas.lib.map_infer (pandas/lib.c:62187)\u001b[0;34m()\u001b[0m\n",
      "\u001b[0;32m<ipython-input-164-358563e4bc3a>\u001b[0m in \u001b[0;36m<lambda>\u001b[0;34m(x)\u001b[0m\n\u001b[1;32m      3\u001b[0m \u001b[0mdf\u001b[0m\u001b[0;34m[\u001b[0m\u001b[0;34m'url'\u001b[0m\u001b[0;34m]\u001b[0m \u001b[0;34m=\u001b[0m \u001b[0mdf_check\u001b[0m\u001b[0;34m[\u001b[0m\u001b[0;34m'url'\u001b[0m\u001b[0;34m]\u001b[0m\u001b[0;34m\u001b[0m\u001b[0m\n\u001b[1;32m      4\u001b[0m \u001b[0mdf\u001b[0m\u001b[0;34m[\u001b[0m\u001b[0;34m'title'\u001b[0m\u001b[0;34m]\u001b[0m \u001b[0;34m=\u001b[0m \u001b[0mdf_check\u001b[0m\u001b[0;34m[\u001b[0m\u001b[0;34m'title'\u001b[0m\u001b[0;34m]\u001b[0m\u001b[0;34m\u001b[0m\u001b[0m\n\u001b[0;32m----> 5\u001b[0;31m \u001b[0mdf\u001b[0m\u001b[0;34m[\u001b[0m\u001b[0;34m'raw_page'\u001b[0m\u001b[0;34m]\u001b[0m \u001b[0;34m=\u001b[0m \u001b[0mdf_check\u001b[0m\u001b[0;34m.\u001b[0m\u001b[0murl\u001b[0m\u001b[0;34m.\u001b[0m\u001b[0mmap\u001b[0m\u001b[0;34m(\u001b[0m\u001b[0;32mlambda\u001b[0m \u001b[0mx\u001b[0m\u001b[0;34m:\u001b[0m \u001b[0murl_get\u001b[0m\u001b[0;34m(\u001b[0m\u001b[0;34m'http://'\u001b[0m \u001b[0;34m+\u001b[0m \u001b[0mx\u001b[0m\u001b[0;34m)\u001b[0m \u001b[0;34m)\u001b[0m\u001b[0;34m\u001b[0m\u001b[0m\n\u001b[0m",
      "\u001b[0;32m<ipython-input-163-99c375afb9a4>\u001b[0m in \u001b[0;36murl_get\u001b[0;34m(url)\u001b[0m\n\u001b[1;32m      1\u001b[0m \u001b[0;32mdef\u001b[0m \u001b[0murl_get\u001b[0m\u001b[0;34m(\u001b[0m\u001b[0murl\u001b[0m\u001b[0;34m)\u001b[0m\u001b[0;34m:\u001b[0m\u001b[0;34m\u001b[0m\u001b[0m\n\u001b[0;32m----> 2\u001b[0;31m     \u001b[0mbrowser\u001b[0m\u001b[0;34m.\u001b[0m\u001b[0mget\u001b[0m\u001b[0;34m(\u001b[0m\u001b[0murl\u001b[0m\u001b[0;34m)\u001b[0m\u001b[0;34m\u001b[0m\u001b[0m\n\u001b[0m\u001b[1;32m      3\u001b[0m     \u001b[0;32mprint\u001b[0m \u001b[0murl\u001b[0m\u001b[0;34m\u001b[0m\u001b[0m\n\u001b[1;32m      4\u001b[0m     \u001b[0mtime\u001b[0m\u001b[0;34m.\u001b[0m\u001b[0msleep\u001b[0m\u001b[0;34m(\u001b[0m\u001b[0;36m5\u001b[0m\u001b[0;34m)\u001b[0m\u001b[0;34m\u001b[0m\u001b[0m\n\u001b[1;32m      5\u001b[0m     \u001b[0;32mreturn\u001b[0m \u001b[0mbrowser\u001b[0m\u001b[0;34m.\u001b[0m\u001b[0mpage_source\u001b[0m\u001b[0;34m\u001b[0m\u001b[0m\n",
      "\u001b[0;32m/usr/local/lib/python2.7/site-packages/selenium/webdriver/remote/webdriver.pyc\u001b[0m in \u001b[0;36mget\u001b[0;34m(self, url)\u001b[0m\n\u001b[1;32m    246\u001b[0m         \u001b[0mLoads\u001b[0m \u001b[0ma\u001b[0m \u001b[0mweb\u001b[0m \u001b[0mpage\u001b[0m \u001b[0;32min\u001b[0m \u001b[0mthe\u001b[0m \u001b[0mcurrent\u001b[0m \u001b[0mbrowser\u001b[0m \u001b[0msession\u001b[0m\u001b[0;34m.\u001b[0m\u001b[0;34m\u001b[0m\u001b[0m\n\u001b[1;32m    247\u001b[0m         \"\"\"\n\u001b[0;32m--> 248\u001b[0;31m         \u001b[0mself\u001b[0m\u001b[0;34m.\u001b[0m\u001b[0mexecute\u001b[0m\u001b[0;34m(\u001b[0m\u001b[0mCommand\u001b[0m\u001b[0;34m.\u001b[0m\u001b[0mGET\u001b[0m\u001b[0;34m,\u001b[0m \u001b[0;34m{\u001b[0m\u001b[0;34m'url'\u001b[0m\u001b[0;34m:\u001b[0m \u001b[0murl\u001b[0m\u001b[0;34m}\u001b[0m\u001b[0;34m)\u001b[0m\u001b[0;34m\u001b[0m\u001b[0m\n\u001b[0m\u001b[1;32m    249\u001b[0m \u001b[0;34m\u001b[0m\u001b[0m\n\u001b[1;32m    250\u001b[0m     \u001b[0;34m@\u001b[0m\u001b[0mproperty\u001b[0m\u001b[0;34m\u001b[0m\u001b[0m\n",
      "\u001b[0;32m/usr/local/lib/python2.7/site-packages/selenium/webdriver/remote/webdriver.pyc\u001b[0m in \u001b[0;36mexecute\u001b[0;34m(self, driver_command, params)\u001b[0m\n\u001b[1;32m    234\u001b[0m         \u001b[0mresponse\u001b[0m \u001b[0;34m=\u001b[0m \u001b[0mself\u001b[0m\u001b[0;34m.\u001b[0m\u001b[0mcommand_executor\u001b[0m\u001b[0;34m.\u001b[0m\u001b[0mexecute\u001b[0m\u001b[0;34m(\u001b[0m\u001b[0mdriver_command\u001b[0m\u001b[0;34m,\u001b[0m \u001b[0mparams\u001b[0m\u001b[0;34m)\u001b[0m\u001b[0;34m\u001b[0m\u001b[0m\n\u001b[1;32m    235\u001b[0m         \u001b[0;32mif\u001b[0m \u001b[0mresponse\u001b[0m\u001b[0;34m:\u001b[0m\u001b[0;34m\u001b[0m\u001b[0m\n\u001b[0;32m--> 236\u001b[0;31m             \u001b[0mself\u001b[0m\u001b[0;34m.\u001b[0m\u001b[0merror_handler\u001b[0m\u001b[0;34m.\u001b[0m\u001b[0mcheck_response\u001b[0m\u001b[0;34m(\u001b[0m\u001b[0mresponse\u001b[0m\u001b[0;34m)\u001b[0m\u001b[0;34m\u001b[0m\u001b[0m\n\u001b[0m\u001b[1;32m    237\u001b[0m             response['value'] = self._unwrap_value(\n\u001b[1;32m    238\u001b[0m                 response.get('value', None))\n",
      "\u001b[0;32m/usr/local/lib/python2.7/site-packages/selenium/webdriver/remote/errorhandler.pyc\u001b[0m in \u001b[0;36mcheck_response\u001b[0;34m(self, response)\u001b[0m\n\u001b[1;32m    190\u001b[0m         \u001b[0;32melif\u001b[0m \u001b[0mexception_class\u001b[0m \u001b[0;34m==\u001b[0m \u001b[0mUnexpectedAlertPresentException\u001b[0m \u001b[0;32mand\u001b[0m \u001b[0;34m'alert'\u001b[0m \u001b[0;32min\u001b[0m \u001b[0mvalue\u001b[0m\u001b[0;34m:\u001b[0m\u001b[0;34m\u001b[0m\u001b[0m\n\u001b[1;32m    191\u001b[0m             \u001b[0;32mraise\u001b[0m \u001b[0mexception_class\u001b[0m\u001b[0;34m(\u001b[0m\u001b[0mmessage\u001b[0m\u001b[0;34m,\u001b[0m \u001b[0mscreen\u001b[0m\u001b[0;34m,\u001b[0m \u001b[0mstacktrace\u001b[0m\u001b[0;34m,\u001b[0m \u001b[0mvalue\u001b[0m\u001b[0;34m[\u001b[0m\u001b[0;34m'alert'\u001b[0m\u001b[0;34m]\u001b[0m\u001b[0;34m.\u001b[0m\u001b[0mget\u001b[0m\u001b[0;34m(\u001b[0m\u001b[0;34m'text'\u001b[0m\u001b[0;34m)\u001b[0m\u001b[0;34m)\u001b[0m\u001b[0;34m\u001b[0m\u001b[0m\n\u001b[0;32m--> 192\u001b[0;31m         \u001b[0;32mraise\u001b[0m \u001b[0mexception_class\u001b[0m\u001b[0;34m(\u001b[0m\u001b[0mmessage\u001b[0m\u001b[0;34m,\u001b[0m \u001b[0mscreen\u001b[0m\u001b[0;34m,\u001b[0m \u001b[0mstacktrace\u001b[0m\u001b[0;34m)\u001b[0m\u001b[0;34m\u001b[0m\u001b[0m\n\u001b[0m\u001b[1;32m    193\u001b[0m \u001b[0;34m\u001b[0m\u001b[0m\n\u001b[1;32m    194\u001b[0m     \u001b[0;32mdef\u001b[0m \u001b[0m_value_or_default\u001b[0m\u001b[0;34m(\u001b[0m\u001b[0mself\u001b[0m\u001b[0;34m,\u001b[0m \u001b[0mobj\u001b[0m\u001b[0;34m,\u001b[0m \u001b[0mkey\u001b[0m\u001b[0;34m,\u001b[0m \u001b[0mdefault\u001b[0m\u001b[0;34m)\u001b[0m\u001b[0;34m:\u001b[0m\u001b[0;34m\u001b[0m\u001b[0m\n",
      "\u001b[0;31mTimeoutException\u001b[0m: Message: Error loading page, timed out (onDOMContentLoaded)\n"
     ]
    }
   ],
   "source": [
    "df['dt'] = df_check['dt']\n",
    "df['source'] = df_check['source']\n",
    "df['url'] = df_check['url']\n",
    "df['title'] = df_check['title']\n",
    "df['raw_page'] = df_check.url.map(lambda x: url_get('http://' + x) )  "
   ]
  },
  {
   "cell_type": "code",
   "execution_count": 165,
   "metadata": {
    "collapsed": true
   },
   "outputs": [],
   "source": [
    "df['url'] = 'http://' + df['url']"
   ]
  },
  {
   "cell_type": "code",
   "execution_count": 119,
   "metadata": {
    "collapsed": false
   },
   "outputs": [
    {
     "data": {
      "text/html": [
       "<div>\n",
       "<table border=\"1\" class=\"dataframe\">\n",
       "  <thead>\n",
       "    <tr style=\"text-align: right;\">\n",
       "      <th></th>\n",
       "      <th>dt</th>\n",
       "      <th>source</th>\n",
       "      <th>domain</th>\n",
       "      <th>url</th>\n",
       "      <th>title</th>\n",
       "      <th>summary</th>\n",
       "      <th>image</th>\n",
       "      <th>brief</th>\n",
       "      <th>body</th>\n",
       "      <th>raw_page</th>\n",
       "      <th>from</th>\n",
       "    </tr>\n",
       "  </thead>\n",
       "  <tbody>\n",
       "    <tr>\n",
       "      <th>0</th>\n",
       "      <td>2017-2-9</td>\n",
       "      <td>故园徽州</td>\n",
       "      <td></td>\n",
       "      <td>forum.php?mod=viewthread&amp;tid=195025&amp;extra=page...</td>\n",
       "      <td>【春节民俗活动预告】——中云镇桃溪坑头“抬汪公”民俗</td>\n",
       "      <td></td>\n",
       "      <td></td>\n",
       "      <td></td>\n",
       "      <td>\\n\\n\\n\\n\\n马上注册成为会员，享用更多功能，让你轻松玩转徽州\\n您需要 登录 才可以...</td>\n",
       "      <td>&lt;html xmlns=\"http://www.w3.org/1999/xhtml\"&gt;&lt;he...</td>\n",
       "      <td></td>\n",
       "    </tr>\n",
       "    <tr>\n",
       "      <th>1</th>\n",
       "      <td>2017-1-1</td>\n",
       "      <td>故园徽州</td>\n",
       "      <td></td>\n",
       "      <td>forum.php?mod=viewthread&amp;tid=194254&amp;extra=page...</td>\n",
       "      <td>2017.01.01的早上</td>\n",
       "      <td></td>\n",
       "      <td></td>\n",
       "      <td></td>\n",
       "      <td>\\n\\n\\n\\n\\n马上注册成为会员，享用更多功能，让你轻松玩转徽州\\n您需要 登录 才可以...</td>\n",
       "      <td>&lt;html xmlns=\"http://www.w3.org/1999/xhtml\"&gt;&lt;he...</td>\n",
       "      <td></td>\n",
       "    </tr>\n",
       "    <tr>\n",
       "      <th>2</th>\n",
       "      <td>2016-11-23</td>\n",
       "      <td>故园徽州</td>\n",
       "      <td></td>\n",
       "      <td>forum.php?mod=viewthread&amp;tid=192264&amp;extra=page...</td>\n",
       "      <td>上学去喽！</td>\n",
       "      <td></td>\n",
       "      <td></td>\n",
       "      <td></td>\n",
       "      <td>\\n\\n\\n\\n\\n马上注册成为会员，享用更多功能，让你轻松玩转徽州\\n您需要 登录 才可以...</td>\n",
       "      <td>&lt;html xmlns=\"http://www.w3.org/1999/xhtml\"&gt;&lt;he...</td>\n",
       "      <td></td>\n",
       "    </tr>\n",
       "    <tr>\n",
       "      <th>3</th>\n",
       "      <td>2016-10-25</td>\n",
       "      <td>故园徽州</td>\n",
       "      <td></td>\n",
       "      <td>forum.php?mod=viewthread&amp;tid=189658&amp;extra=page...</td>\n",
       "      <td>流淌的登源河（29）：老造反成了普通看客</td>\n",
       "      <td></td>\n",
       "      <td></td>\n",
       "      <td></td>\n",
       "      <td>\\n\\n\\n\\n\\n马上注册成为会员，享用更多功能，让你轻松玩转徽州\\n您需要 登录 才可以...</td>\n",
       "      <td>&lt;html xmlns=\"http://www.w3.org/1999/xhtml\"&gt;&lt;he...</td>\n",
       "      <td></td>\n",
       "    </tr>\n",
       "    <tr>\n",
       "      <th>4</th>\n",
       "      <td>2016-10-17</td>\n",
       "      <td>故园徽州</td>\n",
       "      <td></td>\n",
       "      <td>forum.php?mod=viewthread&amp;tid=189555&amp;extra=page...</td>\n",
       "      <td>沙溪“淩”姓来由</td>\n",
       "      <td></td>\n",
       "      <td></td>\n",
       "      <td></td>\n",
       "      <td>\\n\\n\\n\\n\\n马上注册成为会员，享用更多功能，让你轻松玩转徽州\\n您需要 登录 才可以...</td>\n",
       "      <td>&lt;html xmlns=\"http://www.w3.org/1999/xhtml\"&gt;&lt;he...</td>\n",
       "      <td></td>\n",
       "    </tr>\n",
       "  </tbody>\n",
       "</table>\n",
       "</div>"
      ],
      "text/plain": [
       "           dt source domain  \\\n",
       "0    2017-2-9   故园徽州          \n",
       "1    2017-1-1   故园徽州          \n",
       "2  2016-11-23   故园徽州          \n",
       "3  2016-10-25   故园徽州          \n",
       "4  2016-10-17   故园徽州          \n",
       "\n",
       "                                                 url  \\\n",
       "0  forum.php?mod=viewthread&tid=195025&extra=page...   \n",
       "1  forum.php?mod=viewthread&tid=194254&extra=page...   \n",
       "2  forum.php?mod=viewthread&tid=192264&extra=page...   \n",
       "3  forum.php?mod=viewthread&tid=189658&extra=page...   \n",
       "4  forum.php?mod=viewthread&tid=189555&extra=page...   \n",
       "\n",
       "                        title summary image brief  \\\n",
       "0  【春节民俗活动预告】——中云镇桃溪坑头“抬汪公”民俗                       \n",
       "1               2017.01.01的早上                       \n",
       "2                       上学去喽！                       \n",
       "3        流淌的登源河（29）：老造反成了普通看客                       \n",
       "4                    沙溪“淩”姓来由                       \n",
       "\n",
       "                                                body  \\\n",
       "0  \\n\\n\\n\\n\\n马上注册成为会员，享用更多功能，让你轻松玩转徽州\\n您需要 登录 才可以...   \n",
       "1  \\n\\n\\n\\n\\n马上注册成为会员，享用更多功能，让你轻松玩转徽州\\n您需要 登录 才可以...   \n",
       "2  \\n\\n\\n\\n\\n马上注册成为会员，享用更多功能，让你轻松玩转徽州\\n您需要 登录 才可以...   \n",
       "3  \\n\\n\\n\\n\\n马上注册成为会员，享用更多功能，让你轻松玩转徽州\\n您需要 登录 才可以...   \n",
       "4  \\n\\n\\n\\n\\n马上注册成为会员，享用更多功能，让你轻松玩转徽州\\n您需要 登录 才可以...   \n",
       "\n",
       "                                            raw_page from  \n",
       "0  <html xmlns=\"http://www.w3.org/1999/xhtml\"><he...       \n",
       "1  <html xmlns=\"http://www.w3.org/1999/xhtml\"><he...       \n",
       "2  <html xmlns=\"http://www.w3.org/1999/xhtml\"><he...       \n",
       "3  <html xmlns=\"http://www.w3.org/1999/xhtml\"><he...       \n",
       "4  <html xmlns=\"http://www.w3.org/1999/xhtml\"><he...       "
      ]
     },
     "execution_count": 119,
     "metadata": {},
     "output_type": "execute_result"
    }
   ],
   "source": [
    "df.head()"
   ]
  },
  {
   "cell_type": "code",
   "execution_count": 152,
   "metadata": {
    "collapsed": true
   },
   "outputs": [],
   "source": [
    "characters_num = 40\n",
    "def get_brief(txt):\n",
    "    soup = BeautifulSoup(txt)\n",
    "    sub_text = soup.findAll('div', {'class':'article_contents'})\n",
    "    for item in sub_text:\n",
    "        t20 = item.text\n",
    "\n",
    "    idx = 2\n",
    "    t30 = t20.split(u'\\n')\n",
    "    \n",
    "    cnt = 0\n",
    "    tt = ''\n",
    "    idx = 0\n",
    "    for k in range(0, len(t30)):\n",
    "        if (len(t30[k]) > 40 and len(tt) < 40):\n",
    "            idx = k\n",
    "            tt = t30[k].strip()\n",
    "    \n",
    "    if len(tt) == 0:\n",
    "        tt = t20.strip()\n",
    "                \n",
    "    #print idx\n",
    "\n",
    "    t40 = tt[0:characters_num]\n",
    "    t50 = t40.encode('utf-8') + '..'\n",
    "    #print idx, t40\n",
    "    return t50"
   ]
  },
  {
   "cell_type": "code",
   "execution_count": 158,
   "metadata": {
    "collapsed": false
   },
   "outputs": [],
   "source": [
    "df['brief'] = df.raw_page.map(lambda x: get_brief(x) )  "
   ]
  },
  {
   "cell_type": "code",
   "execution_count": 154,
   "metadata": {
    "collapsed": true
   },
   "outputs": [],
   "source": [
    "def get_body(txt):\n",
    "    soup = BeautifulSoup(txt)\n",
    "    sub_text = soup.findAll('div', {'class':'article_contents'})\n",
    "    for item in sub_text:\n",
    "        t20 = item.text\n",
    "\n",
    "    return t20"
   ]
  },
  {
   "cell_type": "code",
   "execution_count": 159,
   "metadata": {
    "collapsed": true
   },
   "outputs": [],
   "source": [
    "df['body'] = df.raw_page.map(lambda x: get_body(x) )  "
   ]
  },
  {
   "cell_type": "markdown",
   "metadata": {},
   "source": [
    "cnt = 0\n",
    "for item in df['brief']:\n",
    "    print cnt, item\n",
    "    cnt += 1"
   ]
  },
  {
   "cell_type": "markdown",
   "metadata": {},
   "source": [
    "cnt = 0\n",
    "for item in df['body']:\n",
    "    print cnt, item\n",
    "    cnt += 1"
   ]
  },
  {
   "cell_type": "markdown",
   "metadata": {},
   "source": [
    "soup = BeautifulSoup(df.loc[527]['raw_page'])\n",
    "sub_text = soup.findAll('div', {'class':'article_contents'})\n",
    "for item in sub_text:\n",
    "    t20 = item.text\n",
    "t30 = t20.split(u'\\n')\n",
    "\n",
    "tt = t20.strip()\n",
    "print len(t30), tt[0:40], t20"
   ]
  },
  {
   "cell_type": "code",
   "execution_count": 161,
   "metadata": {
    "collapsed": false
   },
   "outputs": [
    {
     "data": {
      "text/html": [
       "<div>\n",
       "<table border=\"1\" class=\"dataframe\">\n",
       "  <thead>\n",
       "    <tr style=\"text-align: right;\">\n",
       "      <th></th>\n",
       "      <th>dt</th>\n",
       "      <th>source</th>\n",
       "      <th>domain</th>\n",
       "      <th>url</th>\n",
       "      <th>title</th>\n",
       "      <th>summary</th>\n",
       "      <th>image</th>\n",
       "      <th>brief</th>\n",
       "      <th>body</th>\n",
       "      <th>raw_page</th>\n",
       "      <th>from</th>\n",
       "    </tr>\n",
       "  </thead>\n",
       "  <tbody>\n",
       "    <tr>\n",
       "      <th>0</th>\n",
       "      <td>2016-04-08</td>\n",
       "      <td>徽州文化网</td>\n",
       "      <td>NaN</td>\n",
       "      <td>www.hzwh.com/article.asp?id=2538</td>\n",
       "      <td>传统徽州仁商义贾践行商君子之道的历史启示</td>\n",
       "      <td>NaN</td>\n",
       "      <td>NaN</td>\n",
       "      <td>全国人大代表、民盟安徽省委副主委、安徽省文联副主席钱念孙先生在《光明日报》201..</td>\n",
       "      <td>传统徽州仁商义贾践行商君子之道的历史启示\\n郗延红\\n全国人大代表、民盟安徽省委副主委、安徽...</td>\n",
       "      <td>&lt;html xmlns=\"http://www.w3.org/1999/xhtml\"&gt;&lt;he...</td>\n",
       "      <td>NaN</td>\n",
       "    </tr>\n",
       "    <tr>\n",
       "      <th>1</th>\n",
       "      <td>2016-04-08</td>\n",
       "      <td>徽州文化网</td>\n",
       "      <td>NaN</td>\n",
       "      <td>www.hzwh.com/article.asp?id=2537</td>\n",
       "      <td>《阅读徽州》第七编“徽州科技”</td>\n",
       "      <td>NaN</td>\n",
       "      <td>NaN</td>\n",
       "      <td>长期以来，得益于灵山秀水自然环境的滋养、兴学重教社会风气的熏染、经世致用治学风格..</td>\n",
       "      <td>《阅读徽州》第七编“徽州科技”（市委市政府通过市社科联组织编写）\\n中国科学技术学大出版社出...</td>\n",
       "      <td>&lt;html xmlns=\"http://www.w3.org/1999/xhtml\"&gt;&lt;he...</td>\n",
       "      <td>NaN</td>\n",
       "    </tr>\n",
       "    <tr>\n",
       "      <th>2</th>\n",
       "      <td>2016-04-08</td>\n",
       "      <td>徽州文化网</td>\n",
       "      <td>NaN</td>\n",
       "      <td>www.hzwh.com/article.asp?id=2536</td>\n",
       "      <td>传统徽商的诚信为本和仁义向善</td>\n",
       "      <td>NaN</td>\n",
       "      <td>NaN</td>\n",
       "      <td>徽州古楹联云“仁中取利真君子/义内求财大丈夫”。这是对传统徽商群体中那些仁商义贾..</td>\n",
       "      <td>传统徽商的诚信为本和仁义向善\\n\\n郗延红\\n徽州古楹联云“仁中取利真君子/义内求财大丈夫”...</td>\n",
       "      <td>&lt;html xmlns=\"http://www.w3.org/1999/xhtml\"&gt;&lt;he...</td>\n",
       "      <td>NaN</td>\n",
       "    </tr>\n",
       "    <tr>\n",
       "      <th>3</th>\n",
       "      <td>2016-04-08</td>\n",
       "      <td>徽州文化网</td>\n",
       "      <td>NaN</td>\n",
       "      <td>www.hzwh.com/article.asp?id=2535</td>\n",
       "      <td>传统徽商的诚信为本和仁义向善</td>\n",
       "      <td>NaN</td>\n",
       "      <td>NaN</td>\n",
       "      <td>徽州古楹联云“仁中取利真君子/义内求财大丈夫”。这是对传统徽商群体中那些仁商义贾..</td>\n",
       "      <td>传统徽商的诚信为本和仁义向善\\n \\n郗延红\\n徽州古楹联云“仁中取利真君子/义内求财大丈夫...</td>\n",
       "      <td>&lt;html xmlns=\"http://www.w3.org/1999/xhtml\"&gt;&lt;he...</td>\n",
       "      <td>NaN</td>\n",
       "    </tr>\n",
       "    <tr>\n",
       "      <th>4</th>\n",
       "      <td>2016-04-08</td>\n",
       "      <td>徽州文化网</td>\n",
       "      <td>NaN</td>\n",
       "      <td>www.hzwh.com/article.asp?id=2534</td>\n",
       "      <td>黟县古城改造重要的是务须保住文教根脉</td>\n",
       "      <td>NaN</td>\n",
       "      <td>NaN</td>\n",
       "      <td>黟县进行古城改造并申报国家级历史文化名城总体方案正在逐步完善，各项工作正在有条不..</td>\n",
       "      <td>黟县古城改造重要的是务须保住文教根脉\\n                         郗...</td>\n",
       "      <td>&lt;html xmlns=\"http://www.w3.org/1999/xhtml\"&gt;&lt;he...</td>\n",
       "      <td>NaN</td>\n",
       "    </tr>\n",
       "  </tbody>\n",
       "</table>\n",
       "</div>"
      ],
      "text/plain": [
       "           dt source domain                               url  \\\n",
       "0  2016-04-08  徽州文化网    NaN  www.hzwh.com/article.asp?id=2538   \n",
       "1  2016-04-08  徽州文化网    NaN  www.hzwh.com/article.asp?id=2537   \n",
       "2  2016-04-08  徽州文化网    NaN  www.hzwh.com/article.asp?id=2536   \n",
       "3  2016-04-08  徽州文化网    NaN  www.hzwh.com/article.asp?id=2535   \n",
       "4  2016-04-08  徽州文化网    NaN  www.hzwh.com/article.asp?id=2534   \n",
       "\n",
       "                  title summary image  \\\n",
       "0  传统徽州仁商义贾践行商君子之道的历史启示     NaN   NaN   \n",
       "1       《阅读徽州》第七编“徽州科技”     NaN   NaN   \n",
       "2        传统徽商的诚信为本和仁义向善     NaN   NaN   \n",
       "3        传统徽商的诚信为本和仁义向善     NaN   NaN   \n",
       "4    黟县古城改造重要的是务须保住文教根脉     NaN   NaN   \n",
       "\n",
       "                                        brief  \\\n",
       "0  全国人大代表、民盟安徽省委副主委、安徽省文联副主席钱念孙先生在《光明日报》201..   \n",
       "1  长期以来，得益于灵山秀水自然环境的滋养、兴学重教社会风气的熏染、经世致用治学风格..   \n",
       "2  徽州古楹联云“仁中取利真君子/义内求财大丈夫”。这是对传统徽商群体中那些仁商义贾..   \n",
       "3  徽州古楹联云“仁中取利真君子/义内求财大丈夫”。这是对传统徽商群体中那些仁商义贾..   \n",
       "4  黟县进行古城改造并申报国家级历史文化名城总体方案正在逐步完善，各项工作正在有条不..   \n",
       "\n",
       "                                                body  \\\n",
       "0  传统徽州仁商义贾践行商君子之道的历史启示\\n郗延红\\n全国人大代表、民盟安徽省委副主委、安徽...   \n",
       "1  《阅读徽州》第七编“徽州科技”（市委市政府通过市社科联组织编写）\\n中国科学技术学大出版社出...   \n",
       "2  传统徽商的诚信为本和仁义向善\\n\\n郗延红\\n徽州古楹联云“仁中取利真君子/义内求财大丈夫”...   \n",
       "3  传统徽商的诚信为本和仁义向善\\n \\n郗延红\\n徽州古楹联云“仁中取利真君子/义内求财大丈夫...   \n",
       "4  黟县古城改造重要的是务须保住文教根脉\\n                         郗...   \n",
       "\n",
       "                                            raw_page from  \n",
       "0  <html xmlns=\"http://www.w3.org/1999/xhtml\"><he...  NaN  \n",
       "1  <html xmlns=\"http://www.w3.org/1999/xhtml\"><he...  NaN  \n",
       "2  <html xmlns=\"http://www.w3.org/1999/xhtml\"><he...  NaN  \n",
       "3  <html xmlns=\"http://www.w3.org/1999/xhtml\"><he...  NaN  \n",
       "4  <html xmlns=\"http://www.w3.org/1999/xhtml\"><he...  NaN  "
      ]
     },
     "execution_count": 161,
     "metadata": {},
     "output_type": "execute_result"
    }
   ],
   "source": [
    "df.head()"
   ]
  },
  {
   "cell_type": "code",
   "execution_count": 127,
   "metadata": {
    "collapsed": false
   },
   "outputs": [
    {
     "data": {
      "text/plain": [
       "'www.hzwh.com/article.asp?id=1347'"
      ]
     },
     "execution_count": 127,
     "metadata": {},
     "output_type": "execute_result"
    }
   ],
   "source": [
    "df.loc[24]['url']"
   ]
  },
  {
   "cell_type": "code",
   "execution_count": 121,
   "metadata": {
    "collapsed": true
   },
   "outputs": [],
   "source": [
    "if(len(df) != 0):\n",
    "    df.to_csv('../data/complete/hzwh_huixueyuanpu.csv', encoding='utf-8', index=False)"
   ]
  },
  {
   "cell_type": "code",
   "execution_count": 30,
   "metadata": {
    "collapsed": false
   },
   "outputs": [],
   "source": [
    "if(browser):\n",
    "    browser.quit()"
   ]
  },
  {
   "cell_type": "code",
   "execution_count": 31,
   "metadata": {
    "collapsed": false
   },
   "outputs": [],
   "source": [
    "for item in df['title']:\n",
    "    print item"
   ]
  },
  {
   "cell_type": "code",
   "execution_count": 32,
   "metadata": {
    "collapsed": false
   },
   "outputs": [
    {
     "name": "stdout",
     "output_type": "stream",
     "text": [
      "<class 'pandas.core.frame.DataFrame'>\n",
      "Index: 0 entries\n",
      "Data columns (total 11 columns):\n",
      "dt          0 non-null object\n",
      "source      0 non-null object\n",
      "domain      0 non-null object\n",
      "url         0 non-null object\n",
      "title       0 non-null object\n",
      "summary     0 non-null object\n",
      "image       0 non-null object\n",
      "brief       0 non-null object\n",
      "body        0 non-null object\n",
      "raw_page    0 non-null object\n",
      "from        0 non-null object\n",
      "dtypes: object(11)\n",
      "memory usage: 0.0+ bytes\n"
     ]
    }
   ],
   "source": [
    "df.info()"
   ]
  },
  {
   "cell_type": "code",
   "execution_count": 173,
   "metadata": {
    "collapsed": true
   },
   "outputs": [],
   "source": [
    "df2 = pd.read_csv('../data/complete/hzwh_huixueyuanpu.csv')"
   ]
  },
  {
   "cell_type": "code",
   "execution_count": 174,
   "metadata": {
    "collapsed": false
   },
   "outputs": [
    {
     "data": {
      "text/html": [
       "<div>\n",
       "<table border=\"1\" class=\"dataframe\">\n",
       "  <thead>\n",
       "    <tr style=\"text-align: right;\">\n",
       "      <th></th>\n",
       "      <th>dt</th>\n",
       "      <th>source</th>\n",
       "      <th>domain</th>\n",
       "      <th>url</th>\n",
       "      <th>title</th>\n",
       "      <th>summary</th>\n",
       "      <th>image</th>\n",
       "      <th>brief</th>\n",
       "      <th>body</th>\n",
       "      <th>raw_page</th>\n",
       "      <th>from</th>\n",
       "    </tr>\n",
       "  </thead>\n",
       "  <tbody>\n",
       "    <tr>\n",
       "      <th>0</th>\n",
       "      <td>2016-04-08</td>\n",
       "      <td>徽州文化网</td>\n",
       "      <td>NaN</td>\n",
       "      <td>http://www.hzwh.com/article.asp?id=2538</td>\n",
       "      <td>传统徽州仁商义贾践行商君子之道的历史启示</td>\n",
       "      <td>NaN</td>\n",
       "      <td>NaN</td>\n",
       "      <td>全国人大代表、民盟安徽省委副主委、安徽省文联副主席钱念孙先生在《光明日报》201..</td>\n",
       "      <td>传统徽州仁商义贾践行商君子之道的历史启示\\n郗延红\\n全国人大代表、民盟安徽省委副主委、安徽...</td>\n",
       "      <td>&lt;html xmlns=\"http://www.w3.org/1999/xhtml\"&gt;&lt;he...</td>\n",
       "      <td>NaN</td>\n",
       "    </tr>\n",
       "    <tr>\n",
       "      <th>1</th>\n",
       "      <td>2016-04-08</td>\n",
       "      <td>徽州文化网</td>\n",
       "      <td>NaN</td>\n",
       "      <td>http://www.hzwh.com/article.asp?id=2537</td>\n",
       "      <td>《阅读徽州》第七编“徽州科技”</td>\n",
       "      <td>NaN</td>\n",
       "      <td>NaN</td>\n",
       "      <td>长期以来，得益于灵山秀水自然环境的滋养、兴学重教社会风气的熏染、经世致用治学风格..</td>\n",
       "      <td>《阅读徽州》第七编“徽州科技”（市委市政府通过市社科联组织编写）\\n中国科学技术学大出版社出...</td>\n",
       "      <td>&lt;html xmlns=\"http://www.w3.org/1999/xhtml\"&gt;&lt;he...</td>\n",
       "      <td>NaN</td>\n",
       "    </tr>\n",
       "    <tr>\n",
       "      <th>2</th>\n",
       "      <td>2016-04-08</td>\n",
       "      <td>徽州文化网</td>\n",
       "      <td>NaN</td>\n",
       "      <td>http://www.hzwh.com/article.asp?id=2536</td>\n",
       "      <td>传统徽商的诚信为本和仁义向善</td>\n",
       "      <td>NaN</td>\n",
       "      <td>NaN</td>\n",
       "      <td>徽州古楹联云“仁中取利真君子/义内求财大丈夫”。这是对传统徽商群体中那些仁商义贾..</td>\n",
       "      <td>传统徽商的诚信为本和仁义向善\\n\\n郗延红\\n徽州古楹联云“仁中取利真君子/义内求财大丈夫”...</td>\n",
       "      <td>&lt;html xmlns=\"http://www.w3.org/1999/xhtml\"&gt;&lt;he...</td>\n",
       "      <td>NaN</td>\n",
       "    </tr>\n",
       "    <tr>\n",
       "      <th>3</th>\n",
       "      <td>2016-04-08</td>\n",
       "      <td>徽州文化网</td>\n",
       "      <td>NaN</td>\n",
       "      <td>http://www.hzwh.com/article.asp?id=2535</td>\n",
       "      <td>传统徽商的诚信为本和仁义向善</td>\n",
       "      <td>NaN</td>\n",
       "      <td>NaN</td>\n",
       "      <td>徽州古楹联云“仁中取利真君子/义内求财大丈夫”。这是对传统徽商群体中那些仁商义贾..</td>\n",
       "      <td>传统徽商的诚信为本和仁义向善\\n \\n郗延红\\n徽州古楹联云“仁中取利真君子/义内求财大丈夫...</td>\n",
       "      <td>&lt;html xmlns=\"http://www.w3.org/1999/xhtml\"&gt;&lt;he...</td>\n",
       "      <td>NaN</td>\n",
       "    </tr>\n",
       "    <tr>\n",
       "      <th>4</th>\n",
       "      <td>2016-04-08</td>\n",
       "      <td>徽州文化网</td>\n",
       "      <td>NaN</td>\n",
       "      <td>http://www.hzwh.com/article.asp?id=2534</td>\n",
       "      <td>黟县古城改造重要的是务须保住文教根脉</td>\n",
       "      <td>NaN</td>\n",
       "      <td>NaN</td>\n",
       "      <td>黟县进行古城改造并申报国家级历史文化名城总体方案正在逐步完善，各项工作正在有条不..</td>\n",
       "      <td>黟县古城改造重要的是务须保住文教根脉\\n                         郗...</td>\n",
       "      <td>&lt;html xmlns=\"http://www.w3.org/1999/xhtml\"&gt;&lt;he...</td>\n",
       "      <td>NaN</td>\n",
       "    </tr>\n",
       "  </tbody>\n",
       "</table>\n",
       "</div>"
      ],
      "text/plain": [
       "           dt source  domain                                      url  \\\n",
       "0  2016-04-08  徽州文化网     NaN  http://www.hzwh.com/article.asp?id=2538   \n",
       "1  2016-04-08  徽州文化网     NaN  http://www.hzwh.com/article.asp?id=2537   \n",
       "2  2016-04-08  徽州文化网     NaN  http://www.hzwh.com/article.asp?id=2536   \n",
       "3  2016-04-08  徽州文化网     NaN  http://www.hzwh.com/article.asp?id=2535   \n",
       "4  2016-04-08  徽州文化网     NaN  http://www.hzwh.com/article.asp?id=2534   \n",
       "\n",
       "                  title  summary  image  \\\n",
       "0  传统徽州仁商义贾践行商君子之道的历史启示      NaN    NaN   \n",
       "1       《阅读徽州》第七编“徽州科技”      NaN    NaN   \n",
       "2        传统徽商的诚信为本和仁义向善      NaN    NaN   \n",
       "3        传统徽商的诚信为本和仁义向善      NaN    NaN   \n",
       "4    黟县古城改造重要的是务须保住文教根脉      NaN    NaN   \n",
       "\n",
       "                                        brief  \\\n",
       "0  全国人大代表、民盟安徽省委副主委、安徽省文联副主席钱念孙先生在《光明日报》201..   \n",
       "1  长期以来，得益于灵山秀水自然环境的滋养、兴学重教社会风气的熏染、经世致用治学风格..   \n",
       "2  徽州古楹联云“仁中取利真君子/义内求财大丈夫”。这是对传统徽商群体中那些仁商义贾..   \n",
       "3  徽州古楹联云“仁中取利真君子/义内求财大丈夫”。这是对传统徽商群体中那些仁商义贾..   \n",
       "4  黟县进行古城改造并申报国家级历史文化名城总体方案正在逐步完善，各项工作正在有条不..   \n",
       "\n",
       "                                                body  \\\n",
       "0  传统徽州仁商义贾践行商君子之道的历史启示\\n郗延红\\n全国人大代表、民盟安徽省委副主委、安徽...   \n",
       "1  《阅读徽州》第七编“徽州科技”（市委市政府通过市社科联组织编写）\\n中国科学技术学大出版社出...   \n",
       "2  传统徽商的诚信为本和仁义向善\\n\\n郗延红\\n徽州古楹联云“仁中取利真君子/义内求财大丈夫”...   \n",
       "3  传统徽商的诚信为本和仁义向善\\n \\n郗延红\\n徽州古楹联云“仁中取利真君子/义内求财大丈夫...   \n",
       "4  黟县古城改造重要的是务须保住文教根脉\\n                         郗...   \n",
       "\n",
       "                                            raw_page  from  \n",
       "0  <html xmlns=\"http://www.w3.org/1999/xhtml\"><he...   NaN  \n",
       "1  <html xmlns=\"http://www.w3.org/1999/xhtml\"><he...   NaN  \n",
       "2  <html xmlns=\"http://www.w3.org/1999/xhtml\"><he...   NaN  \n",
       "3  <html xmlns=\"http://www.w3.org/1999/xhtml\"><he...   NaN  \n",
       "4  <html xmlns=\"http://www.w3.org/1999/xhtml\"><he...   NaN  "
      ]
     },
     "execution_count": 174,
     "metadata": {},
     "output_type": "execute_result"
    }
   ],
   "source": [
    "df2.head()"
   ]
  },
  {
   "cell_type": "code",
   "execution_count": 83,
   "metadata": {
    "collapsed": true
   },
   "outputs": [],
   "source": [
    "t_df = pd.read_csv('temp/temp01.csv')"
   ]
  },
  {
   "cell_type": "code",
   "execution_count": 86,
   "metadata": {
    "collapsed": false
   },
   "outputs": [
    {
     "ename": "AttributeError",
     "evalue": "'str' object has no attribute 'text'",
     "output_type": "error",
     "traceback": [
      "\u001b[0;31m---------------------------------------------------------------------------\u001b[0m",
      "\u001b[0;31mAttributeError\u001b[0m                            Traceback (most recent call last)",
      "\u001b[0;32m<ipython-input-86-0a1598dd0927>\u001b[0m in \u001b[0;36m<module>\u001b[0;34m()\u001b[0m\n\u001b[0;32m----> 1\u001b[0;31m \u001b[0mt_df\u001b[0m\u001b[0;34m.\u001b[0m\u001b[0mloc\u001b[0m\u001b[0;34m[\u001b[0m\u001b[0;36m0\u001b[0m\u001b[0;34m]\u001b[0m\u001b[0;34m[\u001b[0m\u001b[0;34m'raw_page'\u001b[0m\u001b[0;34m]\u001b[0m\u001b[0;34m.\u001b[0m\u001b[0mtext\u001b[0m\u001b[0;34m\u001b[0m\u001b[0m\n\u001b[0m",
      "\u001b[0;31mAttributeError\u001b[0m: 'str' object has no attribute 'text'"
     ]
    }
   ],
   "source": [
    "t_df.loc[0]['raw_page']"
   ]
  },
  {
   "cell_type": "code",
   "execution_count": null,
   "metadata": {
    "collapsed": true
   },
   "outputs": [],
   "source": []
  }
 ],
 "metadata": {
  "kernelspec": {
   "display_name": "Python 2",
   "language": "python",
   "name": "python2"
  },
  "language_info": {
   "codemirror_mode": {
    "name": "ipython",
    "version": 2
   },
   "file_extension": ".py",
   "mimetype": "text/x-python",
   "name": "python",
   "nbconvert_exporter": "python",
   "pygments_lexer": "ipython2",
   "version": "2.7.10"
  }
 },
 "nbformat": 4,
 "nbformat_minor": 0
}
