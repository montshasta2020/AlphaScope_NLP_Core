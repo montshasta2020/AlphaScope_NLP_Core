{
 "cells": [
  {
   "cell_type": "code",
   "execution_count": 1,
   "metadata": {
    "collapsed": false
   },
   "outputs": [],
   "source": [
    "import pandas as pd\n",
    "from selenium import webdriver \n",
    "from bs4 import BeautifulSoup\n",
    "import time\n",
    "import re"
   ]
  },
  {
   "cell_type": "code",
   "execution_count": 2,
   "metadata": {
    "collapsed": true
   },
   "outputs": [],
   "source": [
    "from datetime import date, timedelta, datetime\n",
    "import os.path"
   ]
  },
  {
   "cell_type": "code",
   "execution_count": 3,
   "metadata": {
    "collapsed": false
   },
   "outputs": [],
   "source": [
    "t0 =  date.today()"
   ]
  },
  {
   "cell_type": "code",
   "execution_count": 4,
   "metadata": {
    "collapsed": false
   },
   "outputs": [],
   "source": [
    "news_url='https://cse.google.com:443/cse/publicurl?cx=014023457988588298976:z0kus_eezw8'\n",
    "datetime_str = t0\n",
    "fname1 = './data/google/cse/' + 'xinhs-huizhou' + '.csv'\n"
   ]
  },
  {
   "cell_type": "code",
   "execution_count": 5,
   "metadata": {
    "collapsed": true
   },
   "outputs": [],
   "source": [
    "def get_columns():\n",
    "    return ('dt', 'source', 'domain', 'url', 'title', 'summary', 'image', 'brief', 'body', 'raw_page', 'from') \n",
    "def get_empty_columns():\n",
    "    return ('', '', '', '', '', '', '', '', '', '', '') \n",
    "def get_empty_columns1():\n",
    "    return ('', '', '', '', '', '', '', '', '', '', '','') \n",
    "\n"
   ]
  },
  {
   "cell_type": "code",
   "execution_count": 6,
   "metadata": {
    "collapsed": false
   },
   "outputs": [],
   "source": [
    "browser = webdriver.Firefox() \n",
    "#browser = webdriver.Chrome('/Users/nhu2000/Downloads/Chromedriver')"
   ]
  },
  {
   "cell_type": "code",
   "execution_count": 7,
   "metadata": {
    "collapsed": false
   },
   "outputs": [],
   "source": [
    "if os.path.isfile(fname1): \n",
    "    df = pd.read_csv(fname1)\n",
    "    idx = len(df.index)\n",
    "else:\n",
    "    df = pd.DataFrame(columns = get_columns())\n",
    "    idx = 0"
   ]
  },
  {
   "cell_type": "code",
   "execution_count": 8,
   "metadata": {
    "collapsed": false
   },
   "outputs": [
    {
     "name": "stdout",
     "output_type": "stream",
     "text": [
      "111\n"
     ]
    }
   ],
   "source": [
    "print len(df)"
   ]
  },
  {
   "cell_type": "code",
   "execution_count": 33,
   "metadata": {
    "collapsed": false
   },
   "outputs": [
    {
     "name": "stdout",
     "output_type": "stream",
     "text": [
      "http://www.xinhs.cn/article.asp?id=82813\n",
      "http://www.xinhs.cn/article.asp?id=77994\n",
      "http://www.xinhs.cn/article.asp?id=82387\n",
      "http://www.xinhs.cn/Article.asp?id=77024\n",
      "http://www.xinhs.cn/article.asp?id=1835\n",
      "http://www.xinhs.cn/article.asp?id=80659\n",
      "http://www.xinhs.cn/article.asp?id=80672\n",
      "http://www.xinhs.cn/ebook_Article.asp?id=63812\n",
      "http://www.xinhs.cn/article.asp?id=80887\n",
      "http://www.xinhs.cn/article.asp?id=80682\n",
      "http://www.xinhs.cn/article.asp?id=82664\n",
      "http://www.xinhs.cn/article.asp?id=83043\n",
      "http://www.xinhs.cn/article.asp?id=81993\n",
      "http://www.xinhs.cn/Article.asp?id=3686\n",
      "http://www.xinhs.cn/article.asp?id=82731\n",
      "http://www.xinhs.cn/article.asp?id=80598\n",
      "http://www.xinhs.cn/article.asp?id=83182\n",
      "http://www.xinhs.cn/article.asp?id=83284\n",
      "http://www.xinhs.cn/article.asp?id=82911\n",
      "http://www.xinhs.cn/article.asp?id=81101\n",
      "http://www.xinhs.cn/article.asp?id=82395\n",
      "http://www.xinhs.cn/Article.asp?id=63343\n",
      "http://www.xinhs.cn/article.asp?id=82739\n",
      "http://www.xinhs.cn/article.asp?id=77981\n",
      "http://www.xinhs.cn/article.asp?id=75374\n",
      "http://www.xinhs.cn/article.asp?id=82665\n",
      "http://www.xinhs.cn/article.asp?id=82310\n",
      "http://www.xinhs.cn/article.asp?id=82854\n",
      "http://www.xinhs.cn/article.asp?id=83248\n",
      "http://www.xinhs.cn/article.asp?id=82988\n",
      "http://www.xinhs.cn/article.asp?id=76306\n",
      "http://www.xinhs.cn/goto.asp?topicid=872\n",
      "http://www.xinhs.cn/bbs/index.asp?id=459&s=default\n",
      "http://www.xinhs.cn/toplistb.asp?id=867&page=5\n",
      "http://www.xinhs.cn/article.asp?id=75683\n",
      "http://www.xinhs.cn/article.asp?id=3908\n",
      "http://www.xinhs.cn/article.asp?id=82633\n",
      "http://www.xinhs.cn/toplistb.asp?id=870\n",
      "http://www.xinhs.cn/article.asp?id=83304\n",
      "http://www.xinhs.cn/article.asp?id=83105\n",
      "http://www.xinhs.cn/article.asp?id=13018\n",
      "http://www.xinhs.cn/article.asp?id=81232\n",
      "http://www.xinhs.cn/article.asp?id=4433\n",
      "http://www.xinhs.cn/article.asp?id=82853\n",
      "http://www.xinhs.cn/article.asp?id=29977\n",
      "http://www.xinhs.cn/article.asp?id=83181\n",
      "http://www.xinhs.cn/article.asp?id=82951\n",
      "http://www.xinhs.cn/Article.asp?id=4272\n",
      "http://www.xinhs.cn/article.asp?id=81664\n",
      "http://www.xinhs.cn/Article.asp?id=63395\n",
      "http://www.xinhs.cn/article.asp?id=83203\n",
      "http://www.xinhs.cn/article.asp?id=15265\n",
      "http://www.xinhs.cn/ebook_bggg.asp\n",
      "http://www.xinhs.cn/goto.asp?topicid=867\n",
      "http://www.xinhs.cn/article.asp?id=22241\n",
      "http://www.xinhs.cn/Article.asp?id=72883\n",
      "http://www.xinhs.cn/article.asp?id=82880\n",
      "http://www.xinhs.cn/article.asp?id=80882\n",
      "http://www.xinhs.cn/Article.asp?id=62965\n",
      "http://www.xinhs.cn/article.asp?id=22977\n",
      "http://www.xinhs.cn/goto.asp?topicid=868\n",
      "http://www.xinhs.cn/article.asp?id=75994\n",
      "http://www.xinhs.cn/xq_Article.asp?id=70153\n",
      "http://www.xinhs.cn/article.asp?id=83153\n",
      "http://www.xinhs.cn/article.asp?id=82925\n",
      "http://www.xinhs.cn/article.asp?id=76739\n",
      "http://www.xinhs.cn/map.asp\n",
      "http://www.xinhs.cn/article.asp?id=55660\n",
      "http://www.xinhs.cn/article.asp?id=83328\n",
      "http://www.xinhs.cn/Article.asp?id=70451\n",
      "http://www.xinhs.cn/article.asp?id=75719\n",
      "http://www.xinhs.cn/article.asp?id=77521\n",
      "http://www.xinhs.cn/article.asp?id=79650\n",
      "http://www.xinhs.cn/article.asp?id=61030\n",
      "http://www.xinhs.cn/Article.asp?id=76833\n",
      "http://www.xinhs.cn/article.asp?id=83143\n",
      "http://www.xinhs.cn/article.asp?id=80923\n",
      "http://www.xinhs.cn/article.asp?id=80281\n",
      "http://www.xinhs.cn/article.asp?id=1990\n",
      "http://www.xinhs.cn/article.asp?id=83030\n",
      "http://www.xinhs.cn/article.asp?id=80805\n",
      "http://www.xinhs.cn/xq_hhxs.asp\n",
      "http://www.xinhs.cn/article.asp?id=83113\n",
      "http://www.xinhs.cn/article.asp?id=75541\n",
      "http://www.xinhs.cn/article.asp?id=77645\n",
      "http://www.xinhs.cn/article.asp?id=38426\n",
      "http://www.xinhs.cn/Article.asp?id=63147\n",
      "http://www.xinhs.cn/article.asp?id=81648\n",
      "http://www.xinhs.cn/article.asp?id=83270\n",
      "http://www.xinhs.cn/article.asp?id=82938\n",
      "http://www.xinhs.cn/article.asp?id=35920\n",
      "http://www.xinhs.cn/article.asp?id=83198\n",
      "http://www.xinhs.cn/article.asp?id=4426\n",
      "http://www.xinhs.cn/article.asp?id=82613\n",
      "http://www.xinhs.cn/ebook_Article.asp?id=63809\n",
      "http://www.xinhs.cn/article.asp?id=82180\n",
      "http://www.xinhs.cn/article.asp?id=80559\n",
      "http://www.xinhs.cn/Article.asp?id=22972\n",
      "http://www.xinhs.cn/article.asp?id=83168\n",
      "http://www.xinhs.cn/article.asp?id=51744\n",
      "http://www.xinhs.cn/article.asp?id=82140\n",
      "http://www.xinhs.cn/xq_Article.asp?id=42226\n",
      "http://www.xinhs.cn/Article.asp?id=37485\n",
      "http://www.xinhs.cn/article.asp?id=83246\n",
      "http://www.xinhs.cn/toplista.asp?id=866\n",
      "http://www.xinhs.cn/goto.asp?topicid=337\n",
      "http://www.xinhs.cn/goto.asp?topicid=912\n",
      "http://www.xinhs.cn/article.asp?id=8292\n",
      "http://www.xinhs.cn/\n",
      "http://www.xinhs.cn/article.asp?id=83214\n",
      "http://www.xinhs.cn/article.asp?id=83155\n"
     ]
    }
   ],
   "source": [
    "for item in df['url']:\n",
    "    print item"
   ]
  },
  {
   "cell_type": "markdown",
   "metadata": {},
   "source": [
    "def map_url(x):\n",
    "    if 'www.' not in x:\n",
    "        if '/s.cn/' in x:\n",
    "            t = 'http://www.xinhs.cn/' + x[12:]\n",
    "        else:\n",
    "            t = 'www.' + x\n",
    "    else:\n",
    "        t = x\n",
    "    \n",
    "    if 'http://' not in t:\n",
    "        return 'http://' + t\n",
    "    else:\n",
    "        return t"
   ]
  },
  {
   "cell_type": "markdown",
   "metadata": {},
   "source": [
    "df['url'] = df.url.map(lambda x: map_url(x))"
   ]
  },
  {
   "cell_type": "markdown",
   "metadata": {},
   "source": [
    "df_no_dup = df.drop_duplicates(['url'])"
   ]
  },
  {
   "cell_type": "markdown",
   "metadata": {},
   "source": [
    "df_no_dup.to_csv(fname1, encoding='utf-8', index=False)"
   ]
  },
  {
   "cell_type": "markdown",
   "metadata": {
    "collapsed": true
   },
   "source": [
    "if os.path.isfile(fname2): \n",
    "    df_0 = pd.read_csv(fname2)\n",
    "else:\n",
    "    df_0 = pd.DataFrame(columns = get_columns())"
   ]
  },
  {
   "cell_type": "code",
   "execution_count": 8,
   "metadata": {
    "collapsed": false
   },
   "outputs": [
    {
     "name": "stdout",
     "output_type": "stream",
     "text": [
      "100\n"
     ]
    }
   ],
   "source": [
    "print len(df)"
   ]
  },
  {
   "cell_type": "code",
   "execution_count": 9,
   "metadata": {
    "collapsed": false
   },
   "outputs": [],
   "source": [
    "browser.get(news_url)\n",
    "time.sleep(5)"
   ]
  },
  {
   "cell_type": "code",
   "execution_count": 19,
   "metadata": {
    "collapsed": false
   },
   "outputs": [
    {
     "name": "stdout",
     "output_type": "stream",
     "text": [
      "-------- add\n",
      "http://www.xinhs.cn/article.asp?id=83012\n",
      "-------- add\n",
      "http://www.xinhs.cn/Article.asp?id=46017\n",
      "-------- add\n",
      "http://www.xinhs.cn/Article.asp?id=7406\n",
      "-------- add\n",
      "http://www.xinhs.cn/article.asp?id=1902\n",
      "-------- add\n",
      "http://www.xinhs.cn/Article.asp?id=67573\n"
     ]
    }
   ],
   "source": [
    "soup = BeautifulSoup(browser.page_source)\n",
    "sub_text = soup.findAll('div', {'class':'gsc-webResult gsc-result'})\n",
    "for item in sub_text:\n",
    "    t10 = item.find('div', {'class':'gs-title'})\n",
    "    #t1 = t10.text.split('_')[0]\n",
    "    t1 = t10.text\n",
    "    t2 = item.find('div', {'class':'gsc-url-top'})\n",
    "    #t3 = item.find('table', {'class':'gsc-table-result'})\n",
    "    t3 = item.find('div', {'class':'gs-bidi-start-align gs-snippet'})\n",
    "    t4 = t3.text.split('...')\n",
    "    \n",
    "    #print t3.text\n",
    "    ss = re.findall(ur'(\\d+)年(\\d+)月(\\d+)日',t4[0])\n",
    "    if len(ss) == 0:\n",
    "        #print t4[1].encode('utf-8')\n",
    "        t40 = t3.text.split(' ')\n",
    "        if 'ago' in t4[0]:\n",
    "            date_N_days_ago = datetime.now() - timedelta(days=int(t40[0]))\n",
    "            t5 = date_N_days_ago.date()\n",
    "            t6 = t4[1]\n",
    "        elif(len(t40) == 1):\n",
    "            t5 = ''\n",
    "            t6 = t4[0]\n",
    "        else:\n",
    "            t5 = ''\n",
    "            t6 = t40[0]\n",
    "        #print t5, t6\n",
    "    else:\n",
    "        ss = re.findall(ur'(\\d+)年(\\d+)月(\\d+)日',t4[0])\n",
    "        t5 = str(ss[0][0]) + '-' + str(ss[0][1]) + '-' + str(ss[0][2])\n",
    "        t6 = t4[1]\n",
    "\n",
    "    #print t6    \n",
    "    #print item.text\n",
    "    #print t2.text\n",
    "\n",
    "    url = t10.a['href']\n",
    "    \n",
    "    not_existed = True\n",
    "    #check if in cleaned set\n",
    "    if len(df) != 0:\n",
    "        val_0 = abs(sum(df['url'].str.find(url))) \n",
    "        if val_0 != len(df):\n",
    "            not_existed = False\n",
    "\n",
    "    #print t0, len(df), t1\n",
    "\n",
    "    if not_existed == True:   \n",
    "        print \"-------- add\" \n",
    "        print url\n",
    "        df.loc[idx] = get_empty_columns()        \n",
    "        df.loc[idx]['url'] = url\n",
    "        df.loc[idx]['title'] = t1\n",
    "        df.loc[idx]['brief'] = t3.text\n",
    "        df.loc[idx]['dt'] = t5\n",
    "        df.loc[idx]['source'] = '新黄山'\n",
    "\n",
    "        idx += 1"
   ]
  },
  {
   "cell_type": "code",
   "execution_count": 20,
   "metadata": {
    "collapsed": false
   },
   "outputs": [
    {
     "name": "stdout",
     "output_type": "stream",
     "text": [
      "124\n"
     ]
    }
   ],
   "source": [
    "print len(df)"
   ]
  },
  {
   "cell_type": "code",
   "execution_count": 40,
   "metadata": {
    "collapsed": false
   },
   "outputs": [
    {
     "data": {
      "text/html": [
       "<div>\n",
       "<table border=\"1\" class=\"dataframe\">\n",
       "  <thead>\n",
       "    <tr style=\"text-align: right;\">\n",
       "      <th></th>\n",
       "      <th>dt</th>\n",
       "      <th>source</th>\n",
       "      <th>domain</th>\n",
       "      <th>url</th>\n",
       "      <th>title</th>\n",
       "      <th>summary</th>\n",
       "      <th>image</th>\n",
       "      <th>brief</th>\n",
       "      <th>body</th>\n",
       "      <th>raw_page</th>\n",
       "      <th>from</th>\n",
       "    </tr>\n",
       "  </thead>\n",
       "  <tbody>\n",
       "    <tr>\n",
       "      <th>0</th>\n",
       "      <td>2016-12-14</td>\n",
       "      <td>新黄山</td>\n",
       "      <td></td>\n",
       "      <td>http://www.xinhs.cn/article.asp?id=82813</td>\n",
       "      <td>30余位中外书画家安徽体验“徽文化”_新黄山网、黄山市干部在线学习城</td>\n",
       "      <td></td>\n",
       "      <td></td>\n",
       "      <td>2016年12月14日 ... 12月9日至10日，来自中国、俄罗斯、印度、印度尼西亚、意大...</td>\n",
       "      <td></td>\n",
       "      <td></td>\n",
       "      <td></td>\n",
       "    </tr>\n",
       "    <tr>\n",
       "      <th>1</th>\n",
       "      <td>2016-3-14</td>\n",
       "      <td>新黄山</td>\n",
       "      <td></td>\n",
       "      <td>http://www.xinhs.cn/article.asp?id=77994</td>\n",
       "      <td>我市2校开展徽文化传习活动_新黄山网、黄山市干部在线学习城</td>\n",
       "      <td></td>\n",
       "      <td></td>\n",
       "      <td>2016年3月14日 ... 近日，我市两所学校开展徽文化传习活动，将传统地域文化“请”进课...</td>\n",
       "      <td></td>\n",
       "      <td></td>\n",
       "      <td></td>\n",
       "    </tr>\n",
       "    <tr>\n",
       "      <th>2</th>\n",
       "      <td>2016-11-23</td>\n",
       "      <td>新黄山</td>\n",
       "      <td></td>\n",
       "      <td>http://www.xinhs.cn/article.asp?id=82387</td>\n",
       "      <td>匠人手中的徽州文化_新黄山网、黄山市干部在线学习城</td>\n",
       "      <td></td>\n",
       "      <td></td>\n",
       "      <td>2016年11月23日 ... 古徽州处在皖、浙、赣三省交界的山区，地理环境相对封闭，但随着...</td>\n",
       "      <td></td>\n",
       "      <td></td>\n",
       "      <td></td>\n",
       "    </tr>\n",
       "    <tr>\n",
       "      <th>3</th>\n",
       "      <td>2016-1-18</td>\n",
       "      <td>新黄山</td>\n",
       "      <td></td>\n",
       "      <td>http://www.xinhs.cn/Article.asp?id=77024</td>\n",
       "      <td>传承徽文化浓浓是乡愁——《千古一叹古坦头》新书首发暨赠书仪式 ...</td>\n",
       "      <td></td>\n",
       "      <td></td>\n",
       "      <td>2016年1月18日 ... 传承徽文化，浓浓是乡愁。元月15日上午，绩溪坦头村汪氏祠堂迎来...</td>\n",
       "      <td></td>\n",
       "      <td></td>\n",
       "      <td></td>\n",
       "    </tr>\n",
       "    <tr>\n",
       "      <th>4</th>\n",
       "      <td></td>\n",
       "      <td>新黄山</td>\n",
       "      <td></td>\n",
       "      <td>http://www.xinhs.cn/ebook_Article.asp?id=63812</td>\n",
       "      <td>论徽州文化的现代意义_中共黄山市委党校欢迎您！</td>\n",
       "      <td></td>\n",
       "      <td></td>\n",
       "      <td>我们认为徽州文化虽然是地域文化，但它代表着中华文化在南宋以后的发展，在一定\\n历史时期具有主...</td>\n",
       "      <td></td>\n",
       "      <td></td>\n",
       "      <td></td>\n",
       "    </tr>\n",
       "    <tr>\n",
       "      <th>5</th>\n",
       "      <td>2016-12-28</td>\n",
       "      <td>新黄山</td>\n",
       "      <td></td>\n",
       "      <td>http://www.xinhs.cn/article.asp?id=83043</td>\n",
       "      <td>明代学者程敏政《新安文献志》与徽州文化_新黄山网、黄山市干部在线 ...</td>\n",
       "      <td></td>\n",
       "      <td></td>\n",
       "      <td>2016年12月28日 ... 《新安文献志》是明代著名学者、理学家程敏政汇集南北朝以后新安...</td>\n",
       "      <td></td>\n",
       "      <td></td>\n",
       "      <td></td>\n",
       "    </tr>\n",
       "    <tr>\n",
       "      <th>6</th>\n",
       "      <td>2016-11-1</td>\n",
       "      <td>新黄山</td>\n",
       "      <td></td>\n",
       "      <td>http://www.xinhs.cn/article.asp?id=81993</td>\n",
       "      <td>台湾辜金良文化基金会安徽参访团来歙县参观_新黄山网、黄山市干部 ...</td>\n",
       "      <td></td>\n",
       "      <td></td>\n",
       "      <td>2016年11月1日 ... 新安江山水画廊以中国独特的徽文化与自然风光著称。参访团一行先后...</td>\n",
       "      <td></td>\n",
       "      <td></td>\n",
       "      <td></td>\n",
       "    </tr>\n",
       "    <tr>\n",
       "      <th>7</th>\n",
       "      <td>2007-6-18</td>\n",
       "      <td>新黄山</td>\n",
       "      <td></td>\n",
       "      <td>http://www.xinhs.cn/Article.asp?id=3686</td>\n",
       "      <td>徽州古城景区：徽文化引来八方客_新黄山网、黄山市干部在线学习城</td>\n",
       "      <td></td>\n",
       "      <td></td>\n",
       "      <td>2007年6月18日 ... 歙县徽州古城景区把爱国主义教育基地建设和旅游业发展紧密结合起来...</td>\n",
       "      <td></td>\n",
       "      <td></td>\n",
       "      <td></td>\n",
       "    </tr>\n",
       "    <tr>\n",
       "      <th>8</th>\n",
       "      <td>2005-10-4</td>\n",
       "      <td>新黄山</td>\n",
       "      <td></td>\n",
       "      <td>http://www.xinhs.cn/article.asp?id=1835</td>\n",
       "      <td>黄山节筹委会要求将徽文化大观园办出特色_新黄山网、黄山市干部 ...</td>\n",
       "      <td></td>\n",
       "      <td></td>\n",
       "      <td>2005年10月4日 ... 9月7日，第九届中国黄山国际旅游节暨徽文化节筹委会召集市直相关...</td>\n",
       "      <td></td>\n",
       "      <td></td>\n",
       "      <td></td>\n",
       "    </tr>\n",
       "    <tr>\n",
       "      <th>9</th>\n",
       "      <td>2017-1-12</td>\n",
       "      <td>新黄山</td>\n",
       "      <td></td>\n",
       "      <td>http://www.xinhs.cn/article.asp?id=83304</td>\n",
       "      <td>徽州传统建筑审美文化价值_新黄山网、黄山市干部在线学习城</td>\n",
       "      <td></td>\n",
       "      <td></td>\n",
       "      <td>2017年1月12日 ... 在徽州文化生态保护区范围内，遗存着大小不等的五千多个明清村落，...</td>\n",
       "      <td></td>\n",
       "      <td></td>\n",
       "      <td></td>\n",
       "    </tr>\n",
       "  </tbody>\n",
       "</table>\n",
       "</div>"
      ],
      "text/plain": [
       "           dt source domain                                             url  \\\n",
       "0  2016-12-14    新黄山               http://www.xinhs.cn/article.asp?id=82813   \n",
       "1   2016-3-14    新黄山               http://www.xinhs.cn/article.asp?id=77994   \n",
       "2  2016-11-23    新黄山               http://www.xinhs.cn/article.asp?id=82387   \n",
       "3   2016-1-18    新黄山               http://www.xinhs.cn/Article.asp?id=77024   \n",
       "4                新黄山         http://www.xinhs.cn/ebook_Article.asp?id=63812   \n",
       "5  2016-12-28    新黄山               http://www.xinhs.cn/article.asp?id=83043   \n",
       "6   2016-11-1    新黄山               http://www.xinhs.cn/article.asp?id=81993   \n",
       "7   2007-6-18    新黄山                http://www.xinhs.cn/Article.asp?id=3686   \n",
       "8   2005-10-4    新黄山                http://www.xinhs.cn/article.asp?id=1835   \n",
       "9   2017-1-12    新黄山               http://www.xinhs.cn/article.asp?id=83304   \n",
       "\n",
       "                                  title summary image  \\\n",
       "0    30余位中外书画家安徽体验“徽文化”_新黄山网、黄山市干部在线学习城                 \n",
       "1         我市2校开展徽文化传习活动_新黄山网、黄山市干部在线学习城                 \n",
       "2             匠人手中的徽州文化_新黄山网、黄山市干部在线学习城                 \n",
       "3    传承徽文化浓浓是乡愁——《千古一叹古坦头》新书首发暨赠书仪式 ...                 \n",
       "4               论徽州文化的现代意义_中共黄山市委党校欢迎您！                 \n",
       "5  明代学者程敏政《新安文献志》与徽州文化_新黄山网、黄山市干部在线 ...                 \n",
       "6   台湾辜金良文化基金会安徽参访团来歙县参观_新黄山网、黄山市干部 ...                 \n",
       "7       徽州古城景区：徽文化引来八方客_新黄山网、黄山市干部在线学习城                 \n",
       "8    黄山节筹委会要求将徽文化大观园办出特色_新黄山网、黄山市干部 ...                 \n",
       "9          徽州传统建筑审美文化价值_新黄山网、黄山市干部在线学习城                 \n",
       "\n",
       "                                               brief body raw_page from  \n",
       "0  2016年12月14日 ... 12月9日至10日，来自中国、俄罗斯、印度、印度尼西亚、意大...                     \n",
       "1  2016年3月14日 ... 近日，我市两所学校开展徽文化传习活动，将传统地域文化“请”进课...                     \n",
       "2  2016年11月23日 ... 古徽州处在皖、浙、赣三省交界的山区，地理环境相对封闭，但随着...                     \n",
       "3  2016年1月18日 ... 传承徽文化，浓浓是乡愁。元月15日上午，绩溪坦头村汪氏祠堂迎来...                     \n",
       "4  我们认为徽州文化虽然是地域文化，但它代表着中华文化在南宋以后的发展，在一定\\n历史时期具有主...                     \n",
       "5  2016年12月28日 ... 《新安文献志》是明代著名学者、理学家程敏政汇集南北朝以后新安...                     \n",
       "6  2016年11月1日 ... 新安江山水画廊以中国独特的徽文化与自然风光著称。参访团一行先后...                     \n",
       "7  2007年6月18日 ... 歙县徽州古城景区把爱国主义教育基地建设和旅游业发展紧密结合起来...                     \n",
       "8  2005年10月4日 ... 9月7日，第九届中国黄山国际旅游节暨徽文化节筹委会召集市直相关...                     \n",
       "9  2017年1月12日 ... 在徽州文化生态保护区范围内，遗存着大小不等的五千多个明清村落，...                     "
      ]
     },
     "execution_count": 40,
     "metadata": {},
     "output_type": "execute_result"
    }
   ],
   "source": [
    "df.head(50)"
   ]
  },
  {
   "cell_type": "code",
   "execution_count": 18,
   "metadata": {
    "collapsed": false
   },
   "outputs": [
    {
     "name": "stdout",
     "output_type": "stream",
     "text": [
      "20\n"
     ]
    }
   ],
   "source": [
    "print len(df)"
   ]
  },
  {
   "cell_type": "code",
   "execution_count": 21,
   "metadata": {
    "collapsed": true
   },
   "outputs": [],
   "source": [
    "if(len(df) != 0):\n",
    "    df.to_csv(fname1, encoding='utf-8', index=False)"
   ]
  },
  {
   "cell_type": "code",
   "execution_count": 22,
   "metadata": {
    "collapsed": false
   },
   "outputs": [],
   "source": [
    "if(browser):\n",
    "    browser.quit()"
   ]
  },
  {
   "cell_type": "code",
   "execution_count": null,
   "metadata": {
    "collapsed": true
   },
   "outputs": [],
   "source": []
  },
  {
   "cell_type": "markdown",
   "metadata": {
    "collapsed": true
   },
   "source": [
    "new_df = pd.DataFrame(columns = get_columns())\n",
    "for i in range(0, len(df)):\n",
    "    item = df.loc[i]['url']\n",
    "    new_df.loc[i] = get_empty_columns()  \n",
    "    t1 = 'http://' + item[12:]\n",
    "    new_df.loc[i]['url'] = 'http://' + item[12:]\n",
    "    new_df.loc[i]['title'] = df.loc[i]['title']\n",
    "    new_df.loc[i]['brief'] = df.loc[i]['brief']\n",
    "    new_df.loc[i]['dt'] = df.loc[i]['dt']    \n",
    "    new_df.loc[i]['source'] = '新黄山'"
   ]
  },
  {
   "cell_type": "markdown",
   "metadata": {},
   "source": [
    "new_df.head()"
   ]
  },
  {
   "cell_type": "markdown",
   "metadata": {},
   "source": [
    "if(len(new_df) != 0):\n",
    "    new_df.to_csv(fname1, encoding='utf-8', index=False)"
   ]
  },
  {
   "cell_type": "code",
   "execution_count": 26,
   "metadata": {
    "collapsed": false
   },
   "outputs": [
    {
     "data": {
      "text/plain": [
       "array(['http://www.xinhs.cn/article.asp?id=82813',\n",
       "       'http://www.xinhs.cn/article.asp?id=77994',\n",
       "       'http://www.xinhs.cn/article.asp?id=82387',\n",
       "       'http://www.xinhs.cn/Article.asp?id=77024',\n",
       "       'http://www.xinhs.cn/article.asp?id=1835',\n",
       "       'http://www.xinhs.cn/article.asp?id=80659',\n",
       "       'http://www.xinhs.cn/article.asp?id=80672',\n",
       "       'http://www.xinhs.cn/ebook_Article.asp?id=63812',\n",
       "       'http://www.xinhs.cn/article.asp?id=80887',\n",
       "       'http://www.xinhs.cn/article.asp?id=80682',\n",
       "       'http://www.xinhs.cn/article.asp?id=82664',\n",
       "       'http://www.xinhs.cn/article.asp?id=83043',\n",
       "       'http://www.xinhs.cn/article.asp?id=81993',\n",
       "       'http://www.xinhs.cn/Article.asp?id=3686',\n",
       "       'http://www.xinhs.cn/article.asp?id=82731',\n",
       "       'http://www.xinhs.cn/article.asp?id=80598',\n",
       "       'http://www.xinhs.cn/article.asp?id=83182',\n",
       "       'http://www.xinhs.cn/article.asp?id=83284',\n",
       "       'http://s.cn/article.asp?id=82911',\n",
       "       'http://www.xinhs.cn/article.asp?id=81101',\n",
       "       'http://www.xinhs.cn/article.asp?id=82395',\n",
       "       'http://www.xinhs.cn/Article.asp?id=63343',\n",
       "       'http://www.xinhs.cn/article.asp?id=82739',\n",
       "       'http://www.xinhs.cn/article.asp?id=77981',\n",
       "       'http://www.xinhs.cn/article.asp?id=75374',\n",
       "       'http://www.xinhs.cn/article.asp?id=82665',\n",
       "       'http://www.xinhs.cn/article.asp?id=82310',\n",
       "       'http://www.xinhs.cn/article.asp?id=82854',\n",
       "       'http://www.xinhs.cn/article.asp?id=83248',\n",
       "       'http://www.xinhs.cn/article.asp?id=82988',\n",
       "       'http://www.xinhs.cn/article.asp?id=76306',\n",
       "       'http://www.xinhs.cn/goto.asp?topicid=872',\n",
       "       'http://www.xinhs.cn/bbs/index.asp?id=459&s=default',\n",
       "       'http://www.xinhs.cn/toplistb.asp?id=867&page=5',\n",
       "       'http://www.xinhs.cn/article.asp?id=75683',\n",
       "       'http://www.xinhs.cn/article.asp?id=3908',\n",
       "       'http://www.xinhs.cn/article.asp?id=82633',\n",
       "       'http://www.xinhs.cn/toplistb.asp?id=870',\n",
       "       'http://www.xinhs.cn/article.asp?id=83304',\n",
       "       'http://www.xinhs.cn/article.asp?id=83105',\n",
       "       'http://www.xinhs.cn/article.asp?id=13018',\n",
       "       'http://www.xinhs.cn/article.asp?id=81232',\n",
       "       'http://www.xinhs.cn/article.asp?id=4433',\n",
       "       'http://www.xinhs.cn/article.asp?id=82853',\n",
       "       'http://www.xinhs.cn/article.asp?id=29977',\n",
       "       'http://www.xinhs.cn/article.asp?id=83181',\n",
       "       'http://www.xinhs.cn/article.asp?id=82951',\n",
       "       'http://www.xinhs.cn/Article.asp?id=4272',\n",
       "       'http://www.xinhs.cn/article.asp?id=81664',\n",
       "       'http://www.xinhs.cn/Article.asp?id=63395',\n",
       "       'http://s.cn/article.asp?id=83203',\n",
       "       'http://www.xinhs.cn/article.asp?id=15265',\n",
       "       'http://www.xinhs.cn/ebook_bggg.asp',\n",
       "       'http://www.xinhs.cn/goto.asp?topicid=867',\n",
       "       'http://www.xinhs.cn/article.asp?id=22241',\n",
       "       'http://www.xinhs.cn/Article.asp?id=72883',\n",
       "       'http://www.xinhs.cn/article.asp?id=82880',\n",
       "       'http://www.xinhs.cn/article.asp?id=80882',\n",
       "       'http://www.xinhs.cn/Article.asp?id=62965',\n",
       "       'http://www.xinhs.cn/article.asp?id=22977',\n",
       "       'http://www.xinhs.cn/goto.asp?topicid=868',\n",
       "       'http://www.xinhs.cn/article.asp?id=75994',\n",
       "       'http://www.xinhs.cn/xq_Article.asp?id=70153',\n",
       "       'http://www.xinhs.cn/article.asp?id=83153',\n",
       "       'http://www.xinhs.cn/article.asp?id=82925',\n",
       "       'http://www.xinhs.cn/article.asp?id=76739',\n",
       "       'http://www.xinhs.cn/map.asp',\n",
       "       'http://www.xinhs.cn/article.asp?id=55660',\n",
       "       'http://www.xinhs.cn/article.asp?id=83328',\n",
       "       'http://www.xinhs.cn/Article.asp?id=70451',\n",
       "       'http://www.xinhs.cn/article.asp?id=75719',\n",
       "       'http://www.xinhs.cn/article.asp?id=77521',\n",
       "       'http://www.xinhs.cn/article.asp?id=79650',\n",
       "       'http://www.xinhs.cn/article.asp?id=61030',\n",
       "       'http://www.xinhs.cn/Article.asp?id=76833',\n",
       "       'http://www.xinhs.cn/article.asp?id=83143',\n",
       "       'http://www.xinhs.cn/article.asp?id=80923',\n",
       "       'http://www.xinhs.cn/article.asp?id=80281',\n",
       "       'http://www.xinhs.cn/article.asp?id=1990',\n",
       "       'http://s.cn/article.asp?id=83030',\n",
       "       'http://www.xinhs.cn/article.asp?id=80805',\n",
       "       'http://www.xinhs.cn/xq_hhxs.asp',\n",
       "       'http://www.xinhs.cn/article.asp?id=83113',\n",
       "       'http://www.xinhs.cn/article.asp?id=75541',\n",
       "       'http://www.xinhs.cn/article.asp?id=77645',\n",
       "       'http://www.xinhs.cn/article.asp?id=38426',\n",
       "       'http://www.xinhs.cn/Article.asp?id=63147',\n",
       "       'http://www.xinhs.cn/article.asp?id=81648',\n",
       "       'http://www.xinhs.cn/article.asp?id=83270',\n",
       "       'http://s.cn/article.asp?id=82938',\n",
       "       'http://www.xinhs.cn/article.asp?id=35920',\n",
       "       'http://www.xinhs.cn/article.asp?id=83198',\n",
       "       'http://www.xinhs.cn/article.asp?id=4426',\n",
       "       'http://s.cn/article.asp?id=82613',\n",
       "       'http://www.xinhs.cn/ebook_Article.asp?id=63809',\n",
       "       'http://www.xinhs.cn/article.asp?id=82180',\n",
       "       'http://www.xinhs.cn/article.asp?id=80559',\n",
       "       'http://www.xinhs.cn/Article.asp?id=22972',\n",
       "       'http://www.xinhs.cn/article.asp?id=83168',\n",
       "       'http://www.xinhs.cn/article.asp?id=51744',\n",
       "       u'www.xinhs.cn/article.asp?id=82813',\n",
       "       u'www.xinhs.cn/article.asp?id=77994',\n",
       "       u'www.xinhs.cn/article.asp?id=82387',\n",
       "       u'www.xinhs.cn/Article.asp?id=77024',\n",
       "       u'www.xinhs.cn/ebook_Article.asp?id=63812',\n",
       "       u'www.xinhs.cn/article.asp?id=80682',\n",
       "       u'www.xinhs.cn/article.asp?id=83043',\n",
       "       u'www.xinhs.cn/article.asp?id=81993',\n",
       "       u'www.xinhs.cn/Article.asp?id=3686',\n",
       "       u'www.xinhs.cn/article.asp?id=1835',\n",
       "       u'www.xinhs.cn/article.asp?id=83304',\n",
       "       u'www.xinhs.cn/article.asp?id=83182',\n",
       "       u'www.xinhs.cn/article.asp?id=83284',\n",
       "       u'www.xinhs.cn/article.asp?id=80659',\n",
       "       u'xinhs.cn/article.asp?id=82911',\n",
       "       u'www.xinhs.cn/article.asp?id=80672',\n",
       "       u'www.xinhs.cn/article.asp?id=81101',\n",
       "       u'www.xinhs.cn/article.asp?id=82395',\n",
       "       u'www.xinhs.cn/Article.asp?id=63343',\n",
       "       u'www.xinhs.cn/article.asp?id=82739',\n",
       "       u'www.xinhs.cn/article.asp?id=77981',\n",
       "       u'www.xinhs.cn/article.asp?id=80887',\n",
       "       u'www.xinhs.cn/article.asp?id=75374',\n",
       "       u'www.xinhs.cn/article.asp?id=82665',\n",
       "       u'www.xinhs.cn/article.asp?id=82310',\n",
       "       u'www.xinhs.cn/article.asp?id=82854',\n",
       "       u'www.xinhs.cn/article.asp?id=80598',\n",
       "       u'www.xinhs.cn/article.asp?id=82988',\n",
       "       u'www.xinhs.cn/bbs/index.asp?id=459&s=default',\n",
       "       u'www.xinhs.cn/article.asp?id=83203',\n",
       "       u'www.xinhs.cn/toplistb.asp?id=867&page=5',\n",
       "       u'www.xinhs.cn/article.asp?id=75683',\n",
       "       u'www.xinhs.cn/article.asp?id=82633',\n",
       "       u'www.xinhs.cn/toplistb.asp?id=870',\n",
       "       u'www.xinhs.cn/goto.asp?topicid=872',\n",
       "       u'www.xinhs.cn/article.asp?id=83105',\n",
       "       u'www.xinhs.cn/article.asp?id=82853',\n",
       "       u'www.xinhs.cn/article.asp?id=4433',\n",
       "       u'www.xinhs.cn/article.asp?id=82951',\n",
       "       u'www.xinhs.cn/article.asp?id=29977',\n",
       "       u'www.xinhs.cn/article.asp?id=76306',\n",
       "       u'www.xinhs.cn/Article.asp?id=4272',\n",
       "       u'www.xinhs.cn/Article.asp?id=63395',\n",
       "       u'www.xinhs.cn/article.asp?id=3908',\n",
       "       u'www.xinhs.cn/article.asp?id=81664',\n",
       "       u'www.xinhs.cn/ebook_bggg.asp',\n",
       "       u'www.xinhs.cn/goto.asp?topicid=867',\n",
       "       u'www.xinhs.cn/article.asp?id=22241',\n",
       "       u'www.xinhs.cn/Article.asp?id=72883',\n",
       "       u'www.xinhs.cn/article.asp?id=82140',\n",
       "       u'www.xinhs.cn/article.asp?id=83328',\n",
       "       u'www.xinhs.cn/article.asp?id=81232',\n",
       "       u'www.xinhs.cn/article.asp?id=82880',\n",
       "       u'www.xinhs.cn/goto.asp?topicid=868',\n",
       "       u'www.xinhs.cn/article.asp?id=80882',\n",
       "       u'www.xinhs.cn/Article.asp?id=62965',\n",
       "       u'www.xinhs.cn/article.asp?id=77521',\n",
       "       u'www.xinhs.cn/article.asp?id=22977',\n",
       "       u'www.xinhs.cn/article.asp?id=82925',\n",
       "       u'www.xinhs.cn/article.asp?id=15265',\n",
       "       u'www.xinhs.cn/xq_Article.asp?id=70153',\n",
       "       u'www.xinhs.cn/article.asp?id=83153',\n",
       "       u'www.xinhs.cn/article.asp?id=76739',\n",
       "       u'www.xinhs.cn/article.asp?id=55660', u'www.xinhs.cn/map.asp',\n",
       "       u'www.xinhs.cn/article.asp?id=83030',\n",
       "       u'www.xinhs.cn/xq_Article.asp?id=42226',\n",
       "       u'www.xinhs.cn/Article.asp?id=70451',\n",
       "       u'www.xinhs.cn/article.asp?id=83143',\n",
       "       u'www.xinhs.cn/article.asp?id=75994',\n",
       "       u'www.xinhs.cn/article.asp?id=80923',\n",
       "       u'www.xinhs.cn/Article.asp?id=37485',\n",
       "       u'www.xinhs.cn/article.asp?id=83270', u'www.xinhs.cn/xq_hhxs.asp',\n",
       "       u'www.xinhs.cn/article.asp?id=75719',\n",
       "       u'www.xinhs.cn/article.asp?id=83246',\n",
       "       u'www.xinhs.cn/toplista.asp?id=866',\n",
       "       u'www.xinhs.cn/article.asp?id=79650',\n",
       "       u'www.xinhs.cn/article.asp?id=61030',\n",
       "       u'www.xinhs.cn/Article.asp?id=76833',\n",
       "       u'www.xinhs.cn/article.asp?id=80281',\n",
       "       u'www.xinhs.cn/goto.asp?topicid=337',\n",
       "       u'www.xinhs.cn/article.asp?id=1990',\n",
       "       u'www.xinhs.cn/article.asp?id=80805',\n",
       "       u'www.xinhs.cn/goto.asp?topicid=912',\n",
       "       u'www.xinhs.cn/article.asp?id=8292',\n",
       "       u'www.xinhs.cn/article.asp?id=83113',\n",
       "       u'www.xinhs.cn/article.asp?id=75541',\n",
       "       u'www.xinhs.cn/article.asp?id=38426', u'www.xinhs.cn/',\n",
       "       u'www.xinhs.cn/article.asp?id=83198',\n",
       "       u'www.xinhs.cn/Article.asp?id=63147',\n",
       "       u'www.xinhs.cn/article.asp?id=81648',\n",
       "       u'www.xinhs.cn/article.asp?id=83214',\n",
       "       u'www.xinhs.cn/article.asp?id=77645',\n",
       "       u'www.xinhs.cn/article.asp?id=83155',\n",
       "       u'xinhs.cn/article.asp?id=82938',\n",
       "       u'www.xinhs.cn/article.asp?id=35920',\n",
       "       u'www.xinhs.cn/ebook_Article.asp?id=63809',\n",
       "       u'www.xinhs.cn/article.asp?id=4426'], dtype=object)"
      ]
     },
     "execution_count": 26,
     "metadata": {},
     "output_type": "execute_result"
    }
   ],
   "source": [
    "df['url'].unique()"
   ]
  },
  {
   "cell_type": "code",
   "execution_count": 27,
   "metadata": {
    "collapsed": false
   },
   "outputs": [
    {
     "name": "stdout",
     "output_type": "stream",
     "text": [
      "200\n"
     ]
    }
   ],
   "source": [
    "print len(df['url'].unique())"
   ]
  },
  {
   "cell_type": "code",
   "execution_count": null,
   "metadata": {
    "collapsed": true
   },
   "outputs": [],
   "source": []
  }
 ],
 "metadata": {
  "kernelspec": {
   "display_name": "Python 2",
   "language": "python",
   "name": "python2"
  },
  "language_info": {
   "codemirror_mode": {
    "name": "ipython",
    "version": 2
   },
   "file_extension": ".py",
   "mimetype": "text/x-python",
   "name": "python",
   "nbconvert_exporter": "python",
   "pygments_lexer": "ipython2",
   "version": "2.7.11"
  }
 },
 "nbformat": 4,
 "nbformat_minor": 0
}
