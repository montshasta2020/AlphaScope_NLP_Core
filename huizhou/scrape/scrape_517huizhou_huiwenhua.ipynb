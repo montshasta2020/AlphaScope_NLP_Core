{
 "cells": [
  {
   "cell_type": "code",
   "execution_count": 1,
   "metadata": {
    "collapsed": false
   },
   "outputs": [],
   "source": [
    "import pandas as pd\n",
    "from selenium import webdriver \n",
    "from bs4 import BeautifulSoup\n",
    "import time\n",
    "import re"
   ]
  },
  {
   "cell_type": "code",
   "execution_count": 2,
   "metadata": {
    "collapsed": true
   },
   "outputs": [],
   "source": [
    "from datetime import date, timedelta, datetime\n",
    "import os.path"
   ]
  },
  {
   "cell_type": "code",
   "execution_count": 3,
   "metadata": {
    "collapsed": false
   },
   "outputs": [],
   "source": [
    "t0 =  date.today()"
   ]
  },
  {
   "cell_type": "code",
   "execution_count": 4,
   "metadata": {
    "collapsed": true
   },
   "outputs": [],
   "source": [
    "news_url='http://www.517huizhou.com/forum.php?mod=forumdisplay&fid=135'\n",
    "\n",
    "datetime_str = t0\n",
    "fname1 = './data/general/temp/' + '517huizhou-huiwenhua' + '.csv'\n",
    "fname2 = './data/general/' + '517huizhou-huiwenhua' + '.csv'\n"
   ]
  },
  {
   "cell_type": "code",
   "execution_count": 5,
   "metadata": {
    "collapsed": true
   },
   "outputs": [],
   "source": [
    "def get_columns():\n",
    "    return ('dt', 'source', 'domain', 'url', 'title', 'summary', 'image', 'brief', 'body', 'raw_page', 'from') \n",
    "def get_empty_columns():\n",
    "    return ('', '', '', '', '', '', '', '', '', '', '') \n",
    "def get_empty_columns1():\n",
    "    return ('', '', '', '', '', '', '', '', '', '', '','') \n",
    "\n"
   ]
  },
  {
   "cell_type": "code",
   "execution_count": 6,
   "metadata": {
    "collapsed": false
   },
   "outputs": [],
   "source": [
    "browser = webdriver.Firefox() \n",
    "#browser = webdriver.Chrome('/Users/nhu2000/Downloads/Chromedriver')"
   ]
  },
  {
   "cell_type": "code",
   "execution_count": 7,
   "metadata": {
    "collapsed": false
   },
   "outputs": [],
   "source": [
    "if os.path.isfile(fname1): \n",
    "    df = pd.read_csv(fname1)\n",
    "    idx = len(df.index)\n",
    "else:\n",
    "    df = pd.DataFrame(columns = get_columns())\n",
    "    idx = 0"
   ]
  },
  {
   "cell_type": "code",
   "execution_count": 8,
   "metadata": {
    "collapsed": false
   },
   "outputs": [],
   "source": [
    "if os.path.isfile(fname2): \n",
    "    df_check = pd.read_csv(fname2)\n",
    "    idx = len(df.index)\n",
    "else:\n",
    "    df_check = pd.DataFrame(columns = get_columns())\n",
    "    idx = 0"
   ]
  },
  {
   "cell_type": "markdown",
   "metadata": {
    "collapsed": true
   },
   "source": [
    "if os.path.isfile(fname2): \n",
    "    df_0 = pd.read_csv(fname2)\n",
    "else:\n",
    "    df_0 = pd.DataFrame(columns = get_columns())"
   ]
  },
  {
   "cell_type": "code",
   "execution_count": 9,
   "metadata": {
    "collapsed": false
   },
   "outputs": [
    {
     "name": "stdout",
     "output_type": "stream",
     "text": [
      "0\n"
     ]
    }
   ],
   "source": [
    "print len(df_check)"
   ]
  },
  {
   "cell_type": "code",
   "execution_count": 10,
   "metadata": {
    "collapsed": false
   },
   "outputs": [
    {
     "name": "stdout",
     "output_type": "stream",
     "text": [
      "0\n"
     ]
    }
   ],
   "source": [
    "print len(df)"
   ]
  },
  {
   "cell_type": "markdown",
   "metadata": {
    "collapsed": false
   },
   "source": [
    "browser.get(news_url)\n",
    "time.sleep(5)"
   ]
  },
  {
   "cell_type": "code",
   "execution_count": 7,
   "metadata": {
    "collapsed": false
   },
   "outputs": [
    {
     "name": "stdout",
     "output_type": "stream",
     "text": [
      "http://www.517huizhou.com/forum.php?mod=forumdisplay&fid=135\n"
     ]
    }
   ],
   "source": [
    "url_0 = news_url\n",
    "print url_0\n",
    "browser.get(url_0)\n",
    "time.sleep(5)"
   ]
  },
  {
   "cell_type": "code",
   "execution_count": 24,
   "metadata": {
    "collapsed": true
   },
   "outputs": [],
   "source": [
    "not_existed = True\n",
    "df = pd.DataFrame(columns = get_columns())\n",
    "idx = 0"
   ]
  },
  {
   "cell_type": "code",
   "execution_count": null,
   "metadata": {
    "collapsed": true
   },
   "outputs": [],
   "source": []
  },
  {
   "cell_type": "code",
   "execution_count": 25,
   "metadata": {
    "collapsed": false
   },
   "outputs": [
    {
     "name": "stdout",
     "output_type": "stream",
     "text": [
      "add --------\n",
      "这次有题目，谁第一个答对赠书一本。看图说徽州系列讲座第十一讲\n",
      "http://www.517huizhou.com/forum.php?mod=viewthread&tid=90595&extra=page%3D1\n",
      "2016-4-6\n",
      "add --------\n",
      "听老土讲徽州\n",
      "http://www.517huizhou.com/forum.php?mod=viewthread&tid=90951&extra=page%3D1\n",
      "2016-4-25\n",
      "add --------\n",
      "听老土讲徽州14讲\n",
      "http://www.517huizhou.com/forum.php?mod=viewthread&tid=91007&extra=page%3D1\n",
      "2016-4-29\n",
      "add --------\n",
      "图说徽州系列讲座第十二讲承志堂的元宝梁\n",
      "http://www.517huizhou.com/forum.php?mod=viewthread&tid=90726&extra=page%3D1\n",
      "2016-4-12\n",
      "add --------\n",
      "看图说徽州第九讲明代正德十一年砖雕\n",
      "http://www.517huizhou.com/forum.php?mod=viewthread&tid=90361&extra=page%3D1\n",
      "2016-3-25\n",
      "add --------\n",
      "宏村承志堂的宣传是对汪家人的摸黑，强烈要求把排山阁，吸鸦片烟的吞云轩的匾额拆除\n",
      "http://www.517huizhou.com/forum.php?mod=viewthread&tid=90527&extra=page%3D1\n",
      "2016-4-1\n",
      "add --------\n",
      "答题赠书\n",
      "http://www.517huizhou.com/forum.php?mod=viewthread&tid=90423&extra=page%3D1\n",
      "2016-3-28\n",
      "add --------\n",
      "看图说徽州第8讲\n",
      "http://www.517huizhou.com/forum.php?mod=viewthread&tid=90193&extra=page%3D1\n",
      "2016-3-17\n",
      "add --------\n",
      "看图说徽州第六讲隔扇门\n",
      "http://www.517huizhou.com/forum.php?mod=viewthread&tid=90089&extra=page%3D1\n",
      "2016-3-11\n",
      "add --------\n",
      "看图说徽州第七讲\n",
      "http://www.517huizhou.com/forum.php?mod=viewthread&tid=90127&extra=page%3D1\n",
      "2016-3-13\n",
      "add --------\n",
      "看图说徽州第五讲徽州五凤楼线的艺术\n",
      "http://www.517huizhou.com/forum.php?mod=viewthread&tid=90002&extra=page%3D1\n",
      "2016-3-7\n",
      "add --------\n",
      "看图说徽州第一讲徽州仿生村\n",
      "http://www.517huizhou.com/forum.php?mod=viewthread&tid=89964&extra=page%3D1\n",
      "2016-3-6\n",
      "add --------\n",
      "看图说徽州第二讲徽州水街\n",
      "http://www.517huizhou.com/forum.php?mod=viewthread&tid=89957&extra=page%3D1\n",
      "2016-3-6\n",
      "add --------\n",
      "看图说徽州第四讲徽州五凤楼\n",
      "http://www.517huizhou.com/forum.php?mod=viewthread&tid=89965&extra=page%3D1\n",
      "2016-3-6\n",
      "add --------\n",
      "看图说徽州第三讲徽州照壁\n",
      "http://www.517huizhou.com/forum.php?mod=viewthread&tid=89934&extra=page%3D1\n",
      "2016-3-4\n"
     ]
    }
   ],
   "source": [
    "soup = BeautifulSoup(browser.page_source)\n",
    "sub_text = soup.findAll('tbody', {'id': lambda L: L and L.startswith('normalthread')})\n",
    "\n",
    "#print sub_text\n",
    "\n",
    "for item in sub_text:\n",
    "    #print 'www.hzwh.com/' + item.a['href']\n",
    "    #print t1.text\n",
    "    #print item.text\n",
    "    t1 = item.find('a', {'class': 's xst'})\n",
    "    t2 = item.find('td', {'class': 'by'})\n",
    "    if t1 != None:\n",
    "        t3 = 'http://www.517huizhou.com/' + t1['href']\n",
    "\n",
    "    if not_existed == True and t1 != None:   \n",
    "        print 'add --------'\n",
    "        print t1.text\n",
    "        print t3\n",
    "        print t2.em.text\n",
    "        df.loc[idx] = get_empty_columns()        \n",
    "        df.loc[idx]['url'] = t3\n",
    "        df.loc[idx]['title'] = t1.text\n",
    "        df.loc[idx]['source'] = '徽州大论坛'\n",
    "        df.loc[idx]['dt'] = t2.em.text\n",
    "        idx += 1"
   ]
  },
  {
   "cell_type": "code",
   "execution_count": 21,
   "metadata": {
    "collapsed": false
   },
   "outputs": [
    {
     "name": "stdout",
     "output_type": "stream",
     "text": [
      "520\n"
     ]
    }
   ],
   "source": [
    "print idx"
   ]
  },
  {
   "cell_type": "code",
   "execution_count": 69,
   "metadata": {
    "collapsed": false
   },
   "outputs": [
    {
     "name": "stdout",
     "output_type": "stream",
     "text": [
      "<tbody id=\"normalthread_74385\">\n",
      "<tr>\n",
      "<td class=\"icn\">\n",
      "<a href=\"forum.php?mod=viewthread&amp;tid=74385&amp;extra=page%3D4\" target=\"_blank\" title=\"新窗口打开\">\n",
      "<img src=\"static/image/common/folder_common.gif\"/>\n",
      "</a>\n",
      "</td>\n",
      "<th class=\"common\">\n",
      "<a class=\"showcontent y\" href=\"javascript:;\" id=\"content_74385\" onclick=\"CONTENT_TID='74385';CONTENT_ID='normalthread_74385';showMenu({'ctrlid':this.id,'menuid':'content_menu'})\" title=\"更多操作\"></a>\n",
      "<a class=\"tdpre y\" href=\"javascript:void(0);\" onclick=\"previewThread('74385', 'normalthread_74385');\">预览</a>\n",
      " <a class=\"s xst\" href=\"forum.php?mod=viewthread&amp;tid=74385&amp;extra=page%3D4\" onclick=\"atarget(this)\">绩溪紫园</a>\n",
      "</th>\n",
      "<td class=\"by\">\n",
      "<cite>\n",
      "<a c=\"1\" href=\"home.php?mod=space&amp;uid=25800\" mid=\"card_7235\" style=\"color: #559955;\">清风溪水。</a></cite>\n",
      "<em><span>2014-8-11</span></em>\n",
      "</td>\n",
      "<td class=\"num\"><a class=\"xi2\" href=\"forum.php?mod=viewthread&amp;tid=74385&amp;extra=page%3D4\">3</a><em>525</em></td>\n",
      "<td class=\"by\">\n",
      "<cite><a c=\"1\" href=\"home.php?mod=space&amp;username=%C4%CF%C2%F9\" mid=\"card_9882\">南蛮</a></cite>\n",
      "<em><a href=\"forum.php?mod=redirect&amp;tid=74385&amp;goto=lastpost#lastpost\">2014-8-11 16:34</a></em>\n",
      "</td>\n",
      "</tr>\n",
      "</tbody>\n"
     ]
    }
   ],
   "source": [
    "print item"
   ]
  },
  {
   "cell_type": "code",
   "execution_count": 153,
   "metadata": {
    "collapsed": false
   },
   "outputs": [
    {
     "name": "stdout",
     "output_type": "stream",
     "text": [
      "<class 'pandas.core.frame.DataFrame'>\n",
      "Int64Index: 4496 entries, 0 to 4495\n",
      "Data columns (total 11 columns):\n",
      "dt          4496 non-null object\n",
      "source      4496 non-null object\n",
      "domain      4496 non-null object\n",
      "url         4496 non-null object\n",
      "title       4496 non-null object\n",
      "summary     4496 non-null object\n",
      "image       4496 non-null object\n",
      "brief       4496 non-null object\n",
      "body        4496 non-null object\n",
      "raw_page    4496 non-null object\n",
      "from        4496 non-null object\n",
      "dtypes: object(11)\n",
      "memory usage: 421.5+ KB\n"
     ]
    }
   ],
   "source": [
    "df.info()"
   ]
  },
  {
   "cell_type": "code",
   "execution_count": 148,
   "metadata": {
    "collapsed": false
   },
   "outputs": [
    {
     "data": {
      "text/html": [
       "<div>\n",
       "<table border=\"1\" class=\"dataframe\">\n",
       "  <thead>\n",
       "    <tr style=\"text-align: right;\">\n",
       "      <th></th>\n",
       "      <th>dt</th>\n",
       "      <th>source</th>\n",
       "      <th>domain</th>\n",
       "      <th>url</th>\n",
       "      <th>title</th>\n",
       "      <th>summary</th>\n",
       "      <th>image</th>\n",
       "      <th>brief</th>\n",
       "      <th>body</th>\n",
       "      <th>raw_page</th>\n",
       "      <th>from</th>\n",
       "    </tr>\n",
       "  </thead>\n",
       "  <tbody>\n",
       "    <tr>\n",
       "      <th>0</th>\n",
       "      <td>4 天前</td>\n",
       "      <td>徽州大论坛</td>\n",
       "      <td></td>\n",
       "      <td>http://www.517huizhou.com/forum.php?mod=viewth...</td>\n",
       "      <td>方利山：国宝级文物— 汪华墓“唐宋诰敕”碑</td>\n",
       "      <td></td>\n",
       "      <td></td>\n",
       "      <td></td>\n",
       "      <td></td>\n",
       "      <td></td>\n",
       "      <td></td>\n",
       "    </tr>\n",
       "    <tr>\n",
       "      <th>1</th>\n",
       "      <td>2017-2-25</td>\n",
       "      <td>徽州大论坛</td>\n",
       "      <td></td>\n",
       "      <td>http://www.517huizhou.com/forum.php?mod=viewth...</td>\n",
       "      <td>方利山文：为朱熹《朱子家训》正名</td>\n",
       "      <td></td>\n",
       "      <td></td>\n",
       "      <td></td>\n",
       "      <td></td>\n",
       "      <td></td>\n",
       "      <td></td>\n",
       "    </tr>\n",
       "    <tr>\n",
       "      <th>2</th>\n",
       "      <td>2017-2-23</td>\n",
       "      <td>徽州大论坛</td>\n",
       "      <td></td>\n",
       "      <td>http://www.517huizhou.com/forum.php?mod=viewth...</td>\n",
       "      <td>菲元：善用黄山“黄帝文化”资源，加劲打好黄山牌</td>\n",
       "      <td></td>\n",
       "      <td></td>\n",
       "      <td></td>\n",
       "      <td></td>\n",
       "      <td></td>\n",
       "      <td></td>\n",
       "    </tr>\n",
       "    <tr>\n",
       "      <th>3</th>\n",
       "      <td>2017-2-13</td>\n",
       "      <td>徽州大论坛</td>\n",
       "      <td></td>\n",
       "      <td>http://www.517huizhou.com/forum.php?mod=viewth...</td>\n",
       "      <td>盛世修谱~~</td>\n",
       "      <td></td>\n",
       "      <td></td>\n",
       "      <td></td>\n",
       "      <td></td>\n",
       "      <td></td>\n",
       "      <td></td>\n",
       "    </tr>\n",
       "    <tr>\n",
       "      <th>4</th>\n",
       "      <td>2017-2-15</td>\n",
       "      <td>徽州大论坛</td>\n",
       "      <td></td>\n",
       "      <td>http://www.517huizhou.com/forum.php?mod=viewth...</td>\n",
       "      <td>方利山：承续文脉 保护徽州文化生态——贺箬岭古道汪王总庙修复落成</td>\n",
       "      <td></td>\n",
       "      <td></td>\n",
       "      <td></td>\n",
       "      <td></td>\n",
       "      <td></td>\n",
       "      <td></td>\n",
       "    </tr>\n",
       "  </tbody>\n",
       "</table>\n",
       "</div>"
      ],
      "text/plain": [
       "          dt source domain                                                url  \\\n",
       "0       4 天前  徽州大论坛         http://www.517huizhou.com/forum.php?mod=viewth...   \n",
       "1  2017-2-25  徽州大论坛         http://www.517huizhou.com/forum.php?mod=viewth...   \n",
       "2  2017-2-23  徽州大论坛         http://www.517huizhou.com/forum.php?mod=viewth...   \n",
       "3  2017-2-13  徽州大论坛         http://www.517huizhou.com/forum.php?mod=viewth...   \n",
       "4  2017-2-15  徽州大论坛         http://www.517huizhou.com/forum.php?mod=viewth...   \n",
       "\n",
       "                              title summary image brief body raw_page from  \n",
       "0             方利山：国宝级文物— 汪华墓“唐宋诰敕”碑                                         \n",
       "1                  方利山文：为朱熹《朱子家训》正名                                         \n",
       "2           菲元：善用黄山“黄帝文化”资源，加劲打好黄山牌                                         \n",
       "3                            盛世修谱~~                                         \n",
       "4  方利山：承续文脉 保护徽州文化生态——贺箬岭古道汪王总庙修复落成                                         "
      ]
     },
     "execution_count": 148,
     "metadata": {},
     "output_type": "execute_result"
    }
   ],
   "source": [
    "df.head()"
   ]
  },
  {
   "cell_type": "code",
   "execution_count": 26,
   "metadata": {
    "collapsed": false
   },
   "outputs": [],
   "source": [
    "if(len(df) != 0):\n",
    "    df.to_csv('../data/topics/400/517huizhou.csv', encoding='utf-8', index=False)"
   ]
  },
  {
   "cell_type": "code",
   "execution_count": 158,
   "metadata": {
    "collapsed": true
   },
   "outputs": [],
   "source": [
    "idx = 4462"
   ]
  },
  {
   "cell_type": "code",
   "execution_count": 161,
   "metadata": {
    "collapsed": false
   },
   "outputs": [
    {
     "name": "stdout",
     "output_type": "stream",
     "text": [
      "4462 [原创]期盼，生活的至美\n",
      "4463 笑 的好处\n",
      "4464 论坛情（打油诗）\n",
      "4465 [原创]七律。汪口有感\n",
      "4466 [原创]徽州多有奇女子\n",
      "4467 [原创]五律。静坐养生莫迟疑！\n",
      "4468 [原创]题齐云山云岩湖\n",
      "4469 [原创]七律。酒品差，没办法！\n",
      "4470 不一样的夏天，朋友你的感觉和我一样吗？\n",
      "4471 随笔\n",
      "4472 [原创]七律。自辱\n",
      "4473 有些事，从心里泛起！\n",
      "4474 [原创]五律。夏夜乘凉\n",
      "4475 游陶辛！\n",
      "4476 很多事，让我忆起……\n",
      "4477 [原创]进县见友人空调有感\n",
      "4478 《天香》凤尾猴魁咏\n",
      "4479 漂浮\n",
      "4480 荷塘月色\n",
      "4481 黄山咏\n",
      "4482 [原创]乡村邻里情意醇\n",
      "4483 慧心读网\n",
      "4484 [原创]七律。忆水碓\n",
      "4485 菜场！\n",
      "4486 旋转木马\n",
      "4487 活着谁看\n",
      "4488 [原创]七律。凤山三宝之——西门井\n",
      "4489 [原创]“凤山三宝之——鱼塘”有感\n",
      "4490 [原创]七绝。欣闻安徽电视台来浙岭\n",
      "4491 [原创]七律。“小桥流水人家——李坑”印象\n",
      "4492 [原创]凤山八景之——花桥头\n",
      "4493 淡淡的老冰棍\n",
      "4494 闻香寻兰\n",
      "4495 午夜思绪\n"
     ]
    }
   ],
   "source": [
    "for i in range(4462, len(df)):\n",
    "    url = df.loc[i]['url']\n",
    "    browser.get(url)\n",
    "    time.sleep(15)\n",
    "    \n",
    "    soup = BeautifulSoup(browser.page_source)\n",
    "    sub_text = soup.findAll('div', {'class':'t_fsz'})\n",
    "    \n",
    "    fst = 0\n",
    "    for item in sub_text:\n",
    "        if fst == 0:\n",
    "            #print item.text\n",
    "            print i, df.loc[i]['title']\n",
    "            #print 'add --', item.text\n",
    "            df.loc[i]['body'] = item.text\n",
    "            df.loc[i]['raw_page'] = browser.page_source    \n",
    "            fst = 1\n"
   ]
  },
  {
   "cell_type": "code",
   "execution_count": 107,
   "metadata": {
    "collapsed": false
   },
   "outputs": [
    {
     "name": "stdout",
     "output_type": "stream",
     "text": [
      "forum.php?mod=viewthread&tid=195025&extra=page%3D1%26filter%3Dtypeid%26typeid%3D162\n"
     ]
    }
   ],
   "source": [
    "print url"
   ]
  },
  {
   "cell_type": "code",
   "execution_count": 162,
   "metadata": {
    "collapsed": false
   },
   "outputs": [
    {
     "name": "stdout",
     "output_type": "stream",
     "text": [
      "<class 'pandas.core.frame.DataFrame'>\n",
      "Int64Index: 4496 entries, 0 to 4495\n",
      "Data columns (total 11 columns):\n",
      "dt          4496 non-null object\n",
      "source      4496 non-null object\n",
      "domain      4496 non-null object\n",
      "url         4496 non-null object\n",
      "title       4496 non-null object\n",
      "summary     4496 non-null object\n",
      "image       4496 non-null object\n",
      "brief       4496 non-null object\n",
      "body        4496 non-null object\n",
      "raw_page    4496 non-null object\n",
      "from        4496 non-null object\n",
      "dtypes: object(11)\n",
      "memory usage: 421.5+ KB\n"
     ]
    }
   ],
   "source": [
    "df.info()"
   ]
  },
  {
   "cell_type": "code",
   "execution_count": null,
   "metadata": {
    "collapsed": true
   },
   "outputs": [],
   "source": []
  },
  {
   "cell_type": "code",
   "execution_count": 12,
   "metadata": {
    "collapsed": false
   },
   "outputs": [
    {
     "name": "stdout",
     "output_type": "stream",
     "text": [
      "http://www.hzwh.com/toplistb.asp?id=229&page=0\n",
      "传统徽州仁商义贾践行商君子之道的历史启示\n",
      "《阅读徽州》第七编“徽州科技”\n",
      "传统徽商的诚信为本和仁义向善\n",
      "传统徽商的诚信为本和仁义向善\n",
      "黟县古城改造重要的是务须保住文教根脉\n",
      "推动徽州传统文化的普及宣传\n",
      "徽学与当代学术 \n",
      "“儒学与地域文化：徽学国际学术研讨会”综述\n",
      "洪经纶墓葬地点的疏证\n",
      "徽州乡镇志中所见明清民间救荒措施\n",
      "徽州文化全书\n",
      "论文化生产力与中部地区的经济发展\n",
      "徽州书院的讲会\n",
      "明代海上徽帮与宁波海上丝绸之路\n",
      "徽州昌溪周氏家族与宁波近代商业发展史\n",
      "徽商历史的文化价值批判 \n",
      "徽商\n",
      "徽商文化及特点\n",
      "婺源徽剧音乐研究\n",
      "古徽州和谐乡村社会建设的经验\n"
     ]
    },
    {
     "name": "stderr",
     "output_type": "stream",
     "text": [
      "/usr/local/lib/python2.7/site-packages/bs4/__init__.py:181: UserWarning: No parser was explicitly specified, so I'm using the best available HTML parser for this system (\"html5lib\"). This usually isn't a problem, but if you run this code on another system, or in a different virtual environment, it may use a different parser and behave differently.\n",
      "\n",
      "The code that caused this warning is on line 162 of the file /usr/local/Cellar/python/2.7.10_2/Frameworks/Python.framework/Versions/2.7/lib/python2.7/runpy.py. To get rid of this warning, change code that looks like this:\n",
      "\n",
      " BeautifulSoup([your markup])\n",
      "\n",
      "to this:\n",
      "\n",
      " BeautifulSoup([your markup], \"html5lib\")\n",
      "\n",
      "  markup_type=markup_type))\n"
     ]
    }
   ],
   "source": [
    "for i in range(0, 1):\n",
    "    url_0 = news_url\n",
    "    print url_0\n",
    "    browser.get(url_0)\n",
    "    time.sleep(5)\n",
    "\n",
    "    soup = BeautifulSoup(browser.page_source)\n",
    "    sub_text = soup.findAll('div', {'class':'listA_title'})\n",
    "\n",
    "    for item in sub_text:\n",
    "        t1 = item.find('div', {'class':'listA_Time'})\n",
    "        #print 'www.hzwh.com/' + item.a['href']\n",
    "        #print t1.text\n",
    "        print item.a.text\n",
    "        url = 'www.hzwh.com/' + item.a['href']\n",
    "        \n",
    "        not_existed = True\n",
    "        #check if in cleaned set\n",
    "        if t1 != None and len(df_check) != 0:\n",
    "            t0 = abs(sum(df_check['url'].str.find(url))) \n",
    "            if t0 != len(df_check):\n",
    "                not_existed = False\n",
    "\n",
    "        #check if in dynamic set\n",
    "        if t1 != None and len(df) != 0 and not_existed == True:\n",
    "            t0 = abs(sum(df['url'].str.find(str(url)))) \n",
    "            if t0 != len(df):\n",
    "                not_existed = False\n",
    "\n",
    "        #print t0, len(df), t1\n",
    "\n",
    "        if not_existed == True and t1 != None:   \n",
    "            print \"-------- add\"\n",
    "            df.loc[idx] = get_empty_columns()        \n",
    "            df.loc[idx]['url'] = url\n",
    "            df.loc[idx]['title'] = item.a.text\n",
    "            df.loc[idx]['source'] = '徽州文化网'\n",
    "            df.loc[idx]['dt'] = t1.text\n",
    "            idx += 1"
   ]
  },
  {
   "cell_type": "code",
   "execution_count": 13,
   "metadata": {
    "collapsed": false
   },
   "outputs": [
    {
     "name": "stdout",
     "output_type": "stream",
     "text": [
      "0\n"
     ]
    }
   ],
   "source": [
    "print len(df)"
   ]
  },
  {
   "cell_type": "code",
   "execution_count": 12,
   "metadata": {
    "collapsed": false
   },
   "outputs": [
    {
     "data": {
      "text/html": [
       "<div>\n",
       "<table border=\"1\" class=\"dataframe\">\n",
       "  <thead>\n",
       "    <tr style=\"text-align: right;\">\n",
       "      <th></th>\n",
       "      <th>dt</th>\n",
       "      <th>source</th>\n",
       "      <th>domain</th>\n",
       "      <th>url</th>\n",
       "      <th>title</th>\n",
       "      <th>summary</th>\n",
       "      <th>image</th>\n",
       "      <th>brief</th>\n",
       "      <th>body</th>\n",
       "      <th>raw_page</th>\n",
       "      <th>from</th>\n",
       "    </tr>\n",
       "  </thead>\n",
       "  <tbody>\n",
       "    <tr>\n",
       "      <th>0</th>\n",
       "      <td>2004-03-03</td>\n",
       "      <td>徽州文化网</td>\n",
       "      <td></td>\n",
       "      <td>www.hzwh.com/article.asp?id=533</td>\n",
       "      <td>旧时徽州税票名称种种</td>\n",
       "      <td></td>\n",
       "      <td></td>\n",
       "      <td></td>\n",
       "      <td></td>\n",
       "      <td></td>\n",
       "      <td></td>\n",
       "    </tr>\n",
       "    <tr>\n",
       "      <th>1</th>\n",
       "      <td>2004-03-03</td>\n",
       "      <td>徽州文化网</td>\n",
       "      <td></td>\n",
       "      <td>www.hzwh.com/article.asp?id=532</td>\n",
       "      <td>小小大阜村 爷孙宰相俩</td>\n",
       "      <td></td>\n",
       "      <td></td>\n",
       "      <td></td>\n",
       "      <td></td>\n",
       "      <td></td>\n",
       "      <td></td>\n",
       "    </tr>\n",
       "    <tr>\n",
       "      <th>2</th>\n",
       "      <td>2004-03-09</td>\n",
       "      <td>徽州文化网</td>\n",
       "      <td></td>\n",
       "      <td>www.hzwh.com/article.asp?id=530</td>\n",
       "      <td>李良春与《惯痴文集》</td>\n",
       "      <td></td>\n",
       "      <td></td>\n",
       "      <td></td>\n",
       "      <td></td>\n",
       "      <td></td>\n",
       "      <td></td>\n",
       "    </tr>\n",
       "    <tr>\n",
       "      <th>3</th>\n",
       "      <td>2004-03-22</td>\n",
       "      <td>徽州文化网</td>\n",
       "      <td></td>\n",
       "      <td>www.hzwh.com/article.asp?id=528</td>\n",
       "      <td>古老的石林</td>\n",
       "      <td></td>\n",
       "      <td></td>\n",
       "      <td></td>\n",
       "      <td></td>\n",
       "      <td></td>\n",
       "      <td></td>\n",
       "    </tr>\n",
       "    <tr>\n",
       "      <th>4</th>\n",
       "      <td>2004-03-31</td>\n",
       "      <td>徽州文化网</td>\n",
       "      <td></td>\n",
       "      <td>www.hzwh.com/article.asp?id=527</td>\n",
       "      <td>洪钧行书联</td>\n",
       "      <td></td>\n",
       "      <td></td>\n",
       "      <td></td>\n",
       "      <td></td>\n",
       "      <td></td>\n",
       "      <td></td>\n",
       "    </tr>\n",
       "    <tr>\n",
       "      <th>5</th>\n",
       "      <td>2004-04-02</td>\n",
       "      <td>徽州文化网</td>\n",
       "      <td></td>\n",
       "      <td>www.hzwh.com/article.asp?id=525</td>\n",
       "      <td>万安“中国罗盘之乡”</td>\n",
       "      <td></td>\n",
       "      <td></td>\n",
       "      <td></td>\n",
       "      <td></td>\n",
       "      <td></td>\n",
       "      <td></td>\n",
       "    </tr>\n",
       "    <tr>\n",
       "      <th>6</th>\n",
       "      <td>2004-04-11</td>\n",
       "      <td>徽州文化网</td>\n",
       "      <td></td>\n",
       "      <td>www.hzwh.com/article.asp?id=523</td>\n",
       "      <td>吕仙宫</td>\n",
       "      <td></td>\n",
       "      <td></td>\n",
       "      <td></td>\n",
       "      <td></td>\n",
       "      <td></td>\n",
       "      <td></td>\n",
       "    </tr>\n",
       "    <tr>\n",
       "      <th>7</th>\n",
       "      <td>2004-04-12</td>\n",
       "      <td>徽州文化网</td>\n",
       "      <td></td>\n",
       "      <td>www.hzwh.com/article.asp?id=521</td>\n",
       "      <td>溪 头 探 古</td>\n",
       "      <td></td>\n",
       "      <td></td>\n",
       "      <td></td>\n",
       "      <td></td>\n",
       "      <td></td>\n",
       "      <td></td>\n",
       "    </tr>\n",
       "    <tr>\n",
       "      <th>8</th>\n",
       "      <td>2004-04-15</td>\n",
       "      <td>徽州文化网</td>\n",
       "      <td></td>\n",
       "      <td>www.hzwh.com/article.asp?id=520</td>\n",
       "      <td>五绝《小桃源》中否李白所作？</td>\n",
       "      <td></td>\n",
       "      <td></td>\n",
       "      <td></td>\n",
       "      <td></td>\n",
       "      <td></td>\n",
       "      <td></td>\n",
       "    </tr>\n",
       "    <tr>\n",
       "      <th>9</th>\n",
       "      <td>2004-04-15</td>\n",
       "      <td>徽州文化网</td>\n",
       "      <td></td>\n",
       "      <td>www.hzwh.com/article.asp?id=518</td>\n",
       "      <td>解读戴震诗一首</td>\n",
       "      <td></td>\n",
       "      <td></td>\n",
       "      <td></td>\n",
       "      <td></td>\n",
       "      <td></td>\n",
       "      <td></td>\n",
       "    </tr>\n",
       "    <tr>\n",
       "      <th>10</th>\n",
       "      <td>2004-05-11</td>\n",
       "      <td>徽州文化网</td>\n",
       "      <td></td>\n",
       "      <td>www.hzwh.com/article.asp?id=517</td>\n",
       "      <td>安徽休宁——中国第一状元县</td>\n",
       "      <td></td>\n",
       "      <td></td>\n",
       "      <td></td>\n",
       "      <td></td>\n",
       "      <td></td>\n",
       "      <td></td>\n",
       "    </tr>\n",
       "    <tr>\n",
       "      <th>11</th>\n",
       "      <td>2004-05-13</td>\n",
       "      <td>徽州文化网</td>\n",
       "      <td></td>\n",
       "      <td>www.hzwh.com/article.asp?id=516</td>\n",
       "      <td>独树一帜的徽州税文化</td>\n",
       "      <td></td>\n",
       "      <td></td>\n",
       "      <td></td>\n",
       "      <td></td>\n",
       "      <td></td>\n",
       "      <td></td>\n",
       "    </tr>\n",
       "    <tr>\n",
       "      <th>12</th>\n",
       "      <td>2009-04-28</td>\n",
       "      <td>徽州文化网</td>\n",
       "      <td></td>\n",
       "      <td>www.hzwh.com/article.asp?id=505</td>\n",
       "      <td>扬弃古徽州廉政文化 促进新黄山廉政建设</td>\n",
       "      <td></td>\n",
       "      <td></td>\n",
       "      <td></td>\n",
       "      <td></td>\n",
       "      <td></td>\n",
       "      <td></td>\n",
       "    </tr>\n",
       "  </tbody>\n",
       "</table>\n",
       "</div>"
      ],
      "text/plain": [
       "            dt source domain                              url  \\\n",
       "0   2004-03-03  徽州文化网         www.hzwh.com/article.asp?id=533   \n",
       "1   2004-03-03  徽州文化网         www.hzwh.com/article.asp?id=532   \n",
       "2   2004-03-09  徽州文化网         www.hzwh.com/article.asp?id=530   \n",
       "3   2004-03-22  徽州文化网         www.hzwh.com/article.asp?id=528   \n",
       "4   2004-03-31  徽州文化网         www.hzwh.com/article.asp?id=527   \n",
       "5   2004-04-02  徽州文化网         www.hzwh.com/article.asp?id=525   \n",
       "6   2004-04-11  徽州文化网         www.hzwh.com/article.asp?id=523   \n",
       "7   2004-04-12  徽州文化网         www.hzwh.com/article.asp?id=521   \n",
       "8   2004-04-15  徽州文化网         www.hzwh.com/article.asp?id=520   \n",
       "9   2004-04-15  徽州文化网         www.hzwh.com/article.asp?id=518   \n",
       "10  2004-05-11  徽州文化网         www.hzwh.com/article.asp?id=517   \n",
       "11  2004-05-13  徽州文化网         www.hzwh.com/article.asp?id=516   \n",
       "12  2009-04-28  徽州文化网         www.hzwh.com/article.asp?id=505   \n",
       "\n",
       "                  title summary image brief body raw_page from  \n",
       "0            旧时徽州税票名称种种                                         \n",
       "1           小小大阜村 爷孙宰相俩                                         \n",
       "2            李良春与《惯痴文集》                                         \n",
       "3                 古老的石林                                         \n",
       "4                 洪钧行书联                                         \n",
       "5            万安“中国罗盘之乡”                                         \n",
       "6                   吕仙宫                                         \n",
       "7               溪 头 探 古                                         \n",
       "8        五绝《小桃源》中否李白所作？                                         \n",
       "9               解读戴震诗一首                                         \n",
       "10        安徽休宁——中国第一状元县                                         \n",
       "11           独树一帜的徽州税文化                                         \n",
       "12  扬弃古徽州廉政文化 促进新黄山廉政建设                                         "
      ]
     },
     "execution_count": 12,
     "metadata": {},
     "output_type": "execute_result"
    }
   ],
   "source": [
    "df.head(50)"
   ]
  },
  {
   "cell_type": "code",
   "execution_count": 28,
   "metadata": {
    "collapsed": false
   },
   "outputs": [
    {
     "name": "stdout",
     "output_type": "stream",
     "text": [
      "0\n"
     ]
    }
   ],
   "source": [
    "print len(df)"
   ]
  },
  {
   "cell_type": "code",
   "execution_count": 163,
   "metadata": {
    "collapsed": true
   },
   "outputs": [],
   "source": [
    "def url_get(url):\n",
    "    browser.get(url)\n",
    "    print url\n",
    "    time.sleep(5)\n",
    "    return browser.page_source"
   ]
  },
  {
   "cell_type": "code",
   "execution_count": 164,
   "metadata": {
    "collapsed": false
   },
   "outputs": [
    {
     "name": "stdout",
     "output_type": "stream",
     "text": [
      "http://www.hzwh.com/article.asp?id=2538\n",
      "http://www.hzwh.com/article.asp?id=2537\n",
      "http://www.hzwh.com/article.asp?id=2536\n",
      "http://www.hzwh.com/article.asp?id=2535\n",
      "http://www.hzwh.com/article.asp?id=2534\n",
      "http://www.hzwh.com/article.asp?id=2533\n",
      "http://www.hzwh.com/article.asp?id=2099\n",
      "http://www.hzwh.com/article.asp?id=2098\n",
      "http://www.hzwh.com/article.asp?id=1848\n",
      "http://www.hzwh.com/article.asp?id=1847\n",
      "http://www.hzwh.com/article.asp?id=1846\n",
      "http://www.hzwh.com/article.asp?id=1794\n",
      "http://www.hzwh.com/article.asp?id=1695\n",
      "http://www.hzwh.com/article.asp?id=1694\n",
      "http://www.hzwh.com/article.asp?id=1693\n",
      "http://www.hzwh.com/article.asp?id=1624\n",
      "http://www.hzwh.com/article.asp?id=1623\n",
      "http://www.hzwh.com/article.asp?id=1622\n",
      "http://www.hzwh.com/article.asp?id=1455\n",
      "http://www.hzwh.com/article.asp?id=1418\n",
      "http://www.hzwh.com/article.asp?id=1417\n",
      "http://www.hzwh.com/article.asp?id=1416\n",
      "http://www.hzwh.com/article.asp?id=1415\n",
      "http://www.hzwh.com/article.asp?id=1414\n",
      "http://www.hzwh.com/article.asp?id=1347\n",
      "http://www.hzwh.com/article.asp?id=1346\n",
      "http://www.hzwh.com/article.asp?id=1342\n",
      "http://www.hzwh.com/article.asp?id=1341\n",
      "http://www.hzwh.com/article.asp?id=1337\n",
      "http://www.hzwh.com/article.asp?id=1336\n",
      "http://www.hzwh.com/article.asp?id=1335\n",
      "http://www.hzwh.com/article.asp?id=1334\n",
      "http://www.hzwh.com/article.asp?id=1333\n",
      "http://www.hzwh.com/article.asp?id=1331\n",
      "http://www.hzwh.com/article.asp?id=1330\n",
      "http://www.hzwh.com/article.asp?id=1329\n",
      "http://www.hzwh.com/article.asp?id=1328\n",
      "http://www.hzwh.com/article.asp?id=1327\n",
      "http://www.hzwh.com/article.asp?id=1326\n",
      "http://www.hzwh.com/article.asp?id=1325\n",
      "http://www.hzwh.com/article.asp?id=1323\n",
      "http://www.hzwh.com/article.asp?id=1322\n",
      "http://www.hzwh.com/article.asp?id=1321\n",
      "http://www.hzwh.com/article.asp?id=1320\n",
      "http://www.hzwh.com/article.asp?id=1319\n",
      "http://www.hzwh.com/article.asp?id=1318\n",
      "http://www.hzwh.com/article.asp?id=1317\n",
      "http://www.hzwh.com/article.asp?id=1316\n",
      "http://www.hzwh.com/article.asp?id=1315\n",
      "http://www.hzwh.com/article.asp?id=1314\n",
      "http://www.hzwh.com/article.asp?id=1313\n",
      "http://www.hzwh.com/article.asp?id=1312\n",
      "http://www.hzwh.com/article.asp?id=1311\n",
      "http://www.hzwh.com/article.asp?id=1310\n",
      "http://www.hzwh.com/article.asp?id=1309\n",
      "http://www.hzwh.com/article.asp?id=1308\n",
      "http://www.hzwh.com/article.asp?id=1307\n",
      "http://www.hzwh.com/article.asp?id=1306\n",
      "http://www.hzwh.com/article.asp?id=1305\n",
      "http://www.hzwh.com/article.asp?id=1304\n",
      "http://www.hzwh.com/article.asp?id=1303\n",
      "http://www.hzwh.com/article.asp?id=1302\n",
      "http://www.hzwh.com/article.asp?id=1301\n",
      "http://www.hzwh.com/article.asp?id=1300\n",
      "http://www.hzwh.com/article.asp?id=1299\n",
      "http://www.hzwh.com/article.asp?id=1298\n",
      "http://www.hzwh.com/article.asp?id=1297\n",
      "http://www.hzwh.com/article.asp?id=1271\n",
      "http://www.hzwh.com/article.asp?id=1270\n",
      "http://www.hzwh.com/article.asp?id=1267\n",
      "http://www.hzwh.com/article.asp?id=1264\n",
      "http://www.hzwh.com/article.asp?id=1263\n",
      "http://www.hzwh.com/article.asp?id=1261\n",
      "http://www.hzwh.com/article.asp?id=1260\n",
      "http://www.hzwh.com/article.asp?id=1259\n",
      "http://www.hzwh.com/article.asp?id=1258\n",
      "http://www.hzwh.com/article.asp?id=1257\n",
      "http://www.hzwh.com/article.asp?id=1256\n",
      "http://www.hzwh.com/article.asp?id=1255\n",
      "http://www.hzwh.com/article.asp?id=1254\n",
      "http://www.hzwh.com/article.asp?id=1253\n",
      "http://www.hzwh.com/article.asp?id=1252\n",
      "http://www.hzwh.com/article.asp?id=1251\n",
      "http://www.hzwh.com/article.asp?id=1250\n",
      "http://www.hzwh.com/article.asp?id=1249\n",
      "http://www.hzwh.com/article.asp?id=1248\n",
      "http://www.hzwh.com/article.asp?id=1247\n",
      "http://www.hzwh.com/article.asp?id=1246\n",
      "http://www.hzwh.com/article.asp?id=1245\n",
      "http://www.hzwh.com/article.asp?id=1244\n",
      "http://www.hzwh.com/article.asp?id=1243\n",
      "http://www.hzwh.com/article.asp?id=1242\n"
     ]
    },
    {
     "ename": "TimeoutException",
     "evalue": "Message: Error loading page, timed out (onDOMContentLoaded)\n",
     "output_type": "error",
     "traceback": [
      "\u001b[0;31m---------------------------------------------------------------------------\u001b[0m",
      "\u001b[0;31mTimeoutException\u001b[0m                          Traceback (most recent call last)",
      "\u001b[0;32m<ipython-input-164-358563e4bc3a>\u001b[0m in \u001b[0;36m<module>\u001b[0;34m()\u001b[0m\n\u001b[1;32m      3\u001b[0m \u001b[0mdf\u001b[0m\u001b[0;34m[\u001b[0m\u001b[0;34m'url'\u001b[0m\u001b[0;34m]\u001b[0m \u001b[0;34m=\u001b[0m \u001b[0mdf_check\u001b[0m\u001b[0;34m[\u001b[0m\u001b[0;34m'url'\u001b[0m\u001b[0;34m]\u001b[0m\u001b[0;34m\u001b[0m\u001b[0m\n\u001b[1;32m      4\u001b[0m \u001b[0mdf\u001b[0m\u001b[0;34m[\u001b[0m\u001b[0;34m'title'\u001b[0m\u001b[0;34m]\u001b[0m \u001b[0;34m=\u001b[0m \u001b[0mdf_check\u001b[0m\u001b[0;34m[\u001b[0m\u001b[0;34m'title'\u001b[0m\u001b[0;34m]\u001b[0m\u001b[0;34m\u001b[0m\u001b[0m\n\u001b[0;32m----> 5\u001b[0;31m \u001b[0mdf\u001b[0m\u001b[0;34m[\u001b[0m\u001b[0;34m'raw_page'\u001b[0m\u001b[0;34m]\u001b[0m \u001b[0;34m=\u001b[0m \u001b[0mdf_check\u001b[0m\u001b[0;34m.\u001b[0m\u001b[0murl\u001b[0m\u001b[0;34m.\u001b[0m\u001b[0mmap\u001b[0m\u001b[0;34m(\u001b[0m\u001b[0;32mlambda\u001b[0m \u001b[0mx\u001b[0m\u001b[0;34m:\u001b[0m \u001b[0murl_get\u001b[0m\u001b[0;34m(\u001b[0m\u001b[0;34m'http://'\u001b[0m \u001b[0;34m+\u001b[0m \u001b[0mx\u001b[0m\u001b[0;34m)\u001b[0m \u001b[0;34m)\u001b[0m\u001b[0;34m\u001b[0m\u001b[0m\n\u001b[0m",
      "\u001b[0;32m/Library/Python/2.7/site-packages/pandas/core/series.pyc\u001b[0m in \u001b[0;36mmap\u001b[0;34m(self, arg, na_action)\u001b[0m\n\u001b[1;32m   2043\u001b[0m                                      index=self.index).__finalize__(self)\n\u001b[1;32m   2044\u001b[0m         \u001b[0;32melse\u001b[0m\u001b[0;34m:\u001b[0m\u001b[0;34m\u001b[0m\u001b[0m\n\u001b[0;32m-> 2045\u001b[0;31m             \u001b[0mmapped\u001b[0m \u001b[0;34m=\u001b[0m \u001b[0mmap_f\u001b[0m\u001b[0;34m(\u001b[0m\u001b[0mvalues\u001b[0m\u001b[0;34m,\u001b[0m \u001b[0marg\u001b[0m\u001b[0;34m)\u001b[0m\u001b[0;34m\u001b[0m\u001b[0m\n\u001b[0m\u001b[1;32m   2046\u001b[0m             return self._constructor(mapped,\n\u001b[1;32m   2047\u001b[0m                                      index=self.index).__finalize__(self)\n",
      "\u001b[0;32mpandas/src/inference.pyx\u001b[0m in \u001b[0;36mpandas.lib.map_infer (pandas/lib.c:62187)\u001b[0;34m()\u001b[0m\n",
      "\u001b[0;32m<ipython-input-164-358563e4bc3a>\u001b[0m in \u001b[0;36m<lambda>\u001b[0;34m(x)\u001b[0m\n\u001b[1;32m      3\u001b[0m \u001b[0mdf\u001b[0m\u001b[0;34m[\u001b[0m\u001b[0;34m'url'\u001b[0m\u001b[0;34m]\u001b[0m \u001b[0;34m=\u001b[0m \u001b[0mdf_check\u001b[0m\u001b[0;34m[\u001b[0m\u001b[0;34m'url'\u001b[0m\u001b[0;34m]\u001b[0m\u001b[0;34m\u001b[0m\u001b[0m\n\u001b[1;32m      4\u001b[0m \u001b[0mdf\u001b[0m\u001b[0;34m[\u001b[0m\u001b[0;34m'title'\u001b[0m\u001b[0;34m]\u001b[0m \u001b[0;34m=\u001b[0m \u001b[0mdf_check\u001b[0m\u001b[0;34m[\u001b[0m\u001b[0;34m'title'\u001b[0m\u001b[0;34m]\u001b[0m\u001b[0;34m\u001b[0m\u001b[0m\n\u001b[0;32m----> 5\u001b[0;31m \u001b[0mdf\u001b[0m\u001b[0;34m[\u001b[0m\u001b[0;34m'raw_page'\u001b[0m\u001b[0;34m]\u001b[0m \u001b[0;34m=\u001b[0m \u001b[0mdf_check\u001b[0m\u001b[0;34m.\u001b[0m\u001b[0murl\u001b[0m\u001b[0;34m.\u001b[0m\u001b[0mmap\u001b[0m\u001b[0;34m(\u001b[0m\u001b[0;32mlambda\u001b[0m \u001b[0mx\u001b[0m\u001b[0;34m:\u001b[0m \u001b[0murl_get\u001b[0m\u001b[0;34m(\u001b[0m\u001b[0;34m'http://'\u001b[0m \u001b[0;34m+\u001b[0m \u001b[0mx\u001b[0m\u001b[0;34m)\u001b[0m \u001b[0;34m)\u001b[0m\u001b[0;34m\u001b[0m\u001b[0m\n\u001b[0m",
      "\u001b[0;32m<ipython-input-163-99c375afb9a4>\u001b[0m in \u001b[0;36murl_get\u001b[0;34m(url)\u001b[0m\n\u001b[1;32m      1\u001b[0m \u001b[0;32mdef\u001b[0m \u001b[0murl_get\u001b[0m\u001b[0;34m(\u001b[0m\u001b[0murl\u001b[0m\u001b[0;34m)\u001b[0m\u001b[0;34m:\u001b[0m\u001b[0;34m\u001b[0m\u001b[0m\n\u001b[0;32m----> 2\u001b[0;31m     \u001b[0mbrowser\u001b[0m\u001b[0;34m.\u001b[0m\u001b[0mget\u001b[0m\u001b[0;34m(\u001b[0m\u001b[0murl\u001b[0m\u001b[0;34m)\u001b[0m\u001b[0;34m\u001b[0m\u001b[0m\n\u001b[0m\u001b[1;32m      3\u001b[0m     \u001b[0;32mprint\u001b[0m \u001b[0murl\u001b[0m\u001b[0;34m\u001b[0m\u001b[0m\n\u001b[1;32m      4\u001b[0m     \u001b[0mtime\u001b[0m\u001b[0;34m.\u001b[0m\u001b[0msleep\u001b[0m\u001b[0;34m(\u001b[0m\u001b[0;36m5\u001b[0m\u001b[0;34m)\u001b[0m\u001b[0;34m\u001b[0m\u001b[0m\n\u001b[1;32m      5\u001b[0m     \u001b[0;32mreturn\u001b[0m \u001b[0mbrowser\u001b[0m\u001b[0;34m.\u001b[0m\u001b[0mpage_source\u001b[0m\u001b[0;34m\u001b[0m\u001b[0m\n",
      "\u001b[0;32m/usr/local/lib/python2.7/site-packages/selenium/webdriver/remote/webdriver.pyc\u001b[0m in \u001b[0;36mget\u001b[0;34m(self, url)\u001b[0m\n\u001b[1;32m    246\u001b[0m         \u001b[0mLoads\u001b[0m \u001b[0ma\u001b[0m \u001b[0mweb\u001b[0m \u001b[0mpage\u001b[0m \u001b[0;32min\u001b[0m \u001b[0mthe\u001b[0m \u001b[0mcurrent\u001b[0m \u001b[0mbrowser\u001b[0m \u001b[0msession\u001b[0m\u001b[0;34m.\u001b[0m\u001b[0;34m\u001b[0m\u001b[0m\n\u001b[1;32m    247\u001b[0m         \"\"\"\n\u001b[0;32m--> 248\u001b[0;31m         \u001b[0mself\u001b[0m\u001b[0;34m.\u001b[0m\u001b[0mexecute\u001b[0m\u001b[0;34m(\u001b[0m\u001b[0mCommand\u001b[0m\u001b[0;34m.\u001b[0m\u001b[0mGET\u001b[0m\u001b[0;34m,\u001b[0m \u001b[0;34m{\u001b[0m\u001b[0;34m'url'\u001b[0m\u001b[0;34m:\u001b[0m \u001b[0murl\u001b[0m\u001b[0;34m}\u001b[0m\u001b[0;34m)\u001b[0m\u001b[0;34m\u001b[0m\u001b[0m\n\u001b[0m\u001b[1;32m    249\u001b[0m \u001b[0;34m\u001b[0m\u001b[0m\n\u001b[1;32m    250\u001b[0m     \u001b[0;34m@\u001b[0m\u001b[0mproperty\u001b[0m\u001b[0;34m\u001b[0m\u001b[0m\n",
      "\u001b[0;32m/usr/local/lib/python2.7/site-packages/selenium/webdriver/remote/webdriver.pyc\u001b[0m in \u001b[0;36mexecute\u001b[0;34m(self, driver_command, params)\u001b[0m\n\u001b[1;32m    234\u001b[0m         \u001b[0mresponse\u001b[0m \u001b[0;34m=\u001b[0m \u001b[0mself\u001b[0m\u001b[0;34m.\u001b[0m\u001b[0mcommand_executor\u001b[0m\u001b[0;34m.\u001b[0m\u001b[0mexecute\u001b[0m\u001b[0;34m(\u001b[0m\u001b[0mdriver_command\u001b[0m\u001b[0;34m,\u001b[0m \u001b[0mparams\u001b[0m\u001b[0;34m)\u001b[0m\u001b[0;34m\u001b[0m\u001b[0m\n\u001b[1;32m    235\u001b[0m         \u001b[0;32mif\u001b[0m \u001b[0mresponse\u001b[0m\u001b[0;34m:\u001b[0m\u001b[0;34m\u001b[0m\u001b[0m\n\u001b[0;32m--> 236\u001b[0;31m             \u001b[0mself\u001b[0m\u001b[0;34m.\u001b[0m\u001b[0merror_handler\u001b[0m\u001b[0;34m.\u001b[0m\u001b[0mcheck_response\u001b[0m\u001b[0;34m(\u001b[0m\u001b[0mresponse\u001b[0m\u001b[0;34m)\u001b[0m\u001b[0;34m\u001b[0m\u001b[0m\n\u001b[0m\u001b[1;32m    237\u001b[0m             response['value'] = self._unwrap_value(\n\u001b[1;32m    238\u001b[0m                 response.get('value', None))\n",
      "\u001b[0;32m/usr/local/lib/python2.7/site-packages/selenium/webdriver/remote/errorhandler.pyc\u001b[0m in \u001b[0;36mcheck_response\u001b[0;34m(self, response)\u001b[0m\n\u001b[1;32m    190\u001b[0m         \u001b[0;32melif\u001b[0m \u001b[0mexception_class\u001b[0m \u001b[0;34m==\u001b[0m \u001b[0mUnexpectedAlertPresentException\u001b[0m \u001b[0;32mand\u001b[0m \u001b[0;34m'alert'\u001b[0m \u001b[0;32min\u001b[0m \u001b[0mvalue\u001b[0m\u001b[0;34m:\u001b[0m\u001b[0;34m\u001b[0m\u001b[0m\n\u001b[1;32m    191\u001b[0m             \u001b[0;32mraise\u001b[0m \u001b[0mexception_class\u001b[0m\u001b[0;34m(\u001b[0m\u001b[0mmessage\u001b[0m\u001b[0;34m,\u001b[0m \u001b[0mscreen\u001b[0m\u001b[0;34m,\u001b[0m \u001b[0mstacktrace\u001b[0m\u001b[0;34m,\u001b[0m \u001b[0mvalue\u001b[0m\u001b[0;34m[\u001b[0m\u001b[0;34m'alert'\u001b[0m\u001b[0;34m]\u001b[0m\u001b[0;34m.\u001b[0m\u001b[0mget\u001b[0m\u001b[0;34m(\u001b[0m\u001b[0;34m'text'\u001b[0m\u001b[0;34m)\u001b[0m\u001b[0;34m)\u001b[0m\u001b[0;34m\u001b[0m\u001b[0m\n\u001b[0;32m--> 192\u001b[0;31m         \u001b[0;32mraise\u001b[0m \u001b[0mexception_class\u001b[0m\u001b[0;34m(\u001b[0m\u001b[0mmessage\u001b[0m\u001b[0;34m,\u001b[0m \u001b[0mscreen\u001b[0m\u001b[0;34m,\u001b[0m \u001b[0mstacktrace\u001b[0m\u001b[0;34m)\u001b[0m\u001b[0;34m\u001b[0m\u001b[0m\n\u001b[0m\u001b[1;32m    193\u001b[0m \u001b[0;34m\u001b[0m\u001b[0m\n\u001b[1;32m    194\u001b[0m     \u001b[0;32mdef\u001b[0m \u001b[0m_value_or_default\u001b[0m\u001b[0;34m(\u001b[0m\u001b[0mself\u001b[0m\u001b[0;34m,\u001b[0m \u001b[0mobj\u001b[0m\u001b[0;34m,\u001b[0m \u001b[0mkey\u001b[0m\u001b[0;34m,\u001b[0m \u001b[0mdefault\u001b[0m\u001b[0;34m)\u001b[0m\u001b[0;34m:\u001b[0m\u001b[0;34m\u001b[0m\u001b[0m\n",
      "\u001b[0;31mTimeoutException\u001b[0m: Message: Error loading page, timed out (onDOMContentLoaded)\n"
     ]
    }
   ],
   "source": [
    "df['dt'] = df_check['dt']\n",
    "df['source'] = df_check['source']\n",
    "df['url'] = df_check['url']\n",
    "df['title'] = df_check['title']\n",
    "df['raw_page'] = df_check.url.map(lambda x: url_get('http://' + x) )  "
   ]
  },
  {
   "cell_type": "code",
   "execution_count": 165,
   "metadata": {
    "collapsed": true
   },
   "outputs": [],
   "source": [
    "df['url'] = 'http://' + df['url']"
   ]
  },
  {
   "cell_type": "code",
   "execution_count": 119,
   "metadata": {
    "collapsed": false
   },
   "outputs": [
    {
     "data": {
      "text/html": [
       "<div>\n",
       "<table border=\"1\" class=\"dataframe\">\n",
       "  <thead>\n",
       "    <tr style=\"text-align: right;\">\n",
       "      <th></th>\n",
       "      <th>dt</th>\n",
       "      <th>source</th>\n",
       "      <th>domain</th>\n",
       "      <th>url</th>\n",
       "      <th>title</th>\n",
       "      <th>summary</th>\n",
       "      <th>image</th>\n",
       "      <th>brief</th>\n",
       "      <th>body</th>\n",
       "      <th>raw_page</th>\n",
       "      <th>from</th>\n",
       "    </tr>\n",
       "  </thead>\n",
       "  <tbody>\n",
       "    <tr>\n",
       "      <th>0</th>\n",
       "      <td>2017-2-9</td>\n",
       "      <td>故园徽州</td>\n",
       "      <td></td>\n",
       "      <td>forum.php?mod=viewthread&amp;tid=195025&amp;extra=page...</td>\n",
       "      <td>【春节民俗活动预告】——中云镇桃溪坑头“抬汪公”民俗</td>\n",
       "      <td></td>\n",
       "      <td></td>\n",
       "      <td></td>\n",
       "      <td>\\n\\n\\n\\n\\n马上注册成为会员，享用更多功能，让你轻松玩转徽州\\n您需要 登录 才可以...</td>\n",
       "      <td>&lt;html xmlns=\"http://www.w3.org/1999/xhtml\"&gt;&lt;he...</td>\n",
       "      <td></td>\n",
       "    </tr>\n",
       "    <tr>\n",
       "      <th>1</th>\n",
       "      <td>2017-1-1</td>\n",
       "      <td>故园徽州</td>\n",
       "      <td></td>\n",
       "      <td>forum.php?mod=viewthread&amp;tid=194254&amp;extra=page...</td>\n",
       "      <td>2017.01.01的早上</td>\n",
       "      <td></td>\n",
       "      <td></td>\n",
       "      <td></td>\n",
       "      <td>\\n\\n\\n\\n\\n马上注册成为会员，享用更多功能，让你轻松玩转徽州\\n您需要 登录 才可以...</td>\n",
       "      <td>&lt;html xmlns=\"http://www.w3.org/1999/xhtml\"&gt;&lt;he...</td>\n",
       "      <td></td>\n",
       "    </tr>\n",
       "    <tr>\n",
       "      <th>2</th>\n",
       "      <td>2016-11-23</td>\n",
       "      <td>故园徽州</td>\n",
       "      <td></td>\n",
       "      <td>forum.php?mod=viewthread&amp;tid=192264&amp;extra=page...</td>\n",
       "      <td>上学去喽！</td>\n",
       "      <td></td>\n",
       "      <td></td>\n",
       "      <td></td>\n",
       "      <td>\\n\\n\\n\\n\\n马上注册成为会员，享用更多功能，让你轻松玩转徽州\\n您需要 登录 才可以...</td>\n",
       "      <td>&lt;html xmlns=\"http://www.w3.org/1999/xhtml\"&gt;&lt;he...</td>\n",
       "      <td></td>\n",
       "    </tr>\n",
       "    <tr>\n",
       "      <th>3</th>\n",
       "      <td>2016-10-25</td>\n",
       "      <td>故园徽州</td>\n",
       "      <td></td>\n",
       "      <td>forum.php?mod=viewthread&amp;tid=189658&amp;extra=page...</td>\n",
       "      <td>流淌的登源河（29）：老造反成了普通看客</td>\n",
       "      <td></td>\n",
       "      <td></td>\n",
       "      <td></td>\n",
       "      <td>\\n\\n\\n\\n\\n马上注册成为会员，享用更多功能，让你轻松玩转徽州\\n您需要 登录 才可以...</td>\n",
       "      <td>&lt;html xmlns=\"http://www.w3.org/1999/xhtml\"&gt;&lt;he...</td>\n",
       "      <td></td>\n",
       "    </tr>\n",
       "    <tr>\n",
       "      <th>4</th>\n",
       "      <td>2016-10-17</td>\n",
       "      <td>故园徽州</td>\n",
       "      <td></td>\n",
       "      <td>forum.php?mod=viewthread&amp;tid=189555&amp;extra=page...</td>\n",
       "      <td>沙溪“淩”姓来由</td>\n",
       "      <td></td>\n",
       "      <td></td>\n",
       "      <td></td>\n",
       "      <td>\\n\\n\\n\\n\\n马上注册成为会员，享用更多功能，让你轻松玩转徽州\\n您需要 登录 才可以...</td>\n",
       "      <td>&lt;html xmlns=\"http://www.w3.org/1999/xhtml\"&gt;&lt;he...</td>\n",
       "      <td></td>\n",
       "    </tr>\n",
       "  </tbody>\n",
       "</table>\n",
       "</div>"
      ],
      "text/plain": [
       "           dt source domain  \\\n",
       "0    2017-2-9   故园徽州          \n",
       "1    2017-1-1   故园徽州          \n",
       "2  2016-11-23   故园徽州          \n",
       "3  2016-10-25   故园徽州          \n",
       "4  2016-10-17   故园徽州          \n",
       "\n",
       "                                                 url  \\\n",
       "0  forum.php?mod=viewthread&tid=195025&extra=page...   \n",
       "1  forum.php?mod=viewthread&tid=194254&extra=page...   \n",
       "2  forum.php?mod=viewthread&tid=192264&extra=page...   \n",
       "3  forum.php?mod=viewthread&tid=189658&extra=page...   \n",
       "4  forum.php?mod=viewthread&tid=189555&extra=page...   \n",
       "\n",
       "                        title summary image brief  \\\n",
       "0  【春节民俗活动预告】——中云镇桃溪坑头“抬汪公”民俗                       \n",
       "1               2017.01.01的早上                       \n",
       "2                       上学去喽！                       \n",
       "3        流淌的登源河（29）：老造反成了普通看客                       \n",
       "4                    沙溪“淩”姓来由                       \n",
       "\n",
       "                                                body  \\\n",
       "0  \\n\\n\\n\\n\\n马上注册成为会员，享用更多功能，让你轻松玩转徽州\\n您需要 登录 才可以...   \n",
       "1  \\n\\n\\n\\n\\n马上注册成为会员，享用更多功能，让你轻松玩转徽州\\n您需要 登录 才可以...   \n",
       "2  \\n\\n\\n\\n\\n马上注册成为会员，享用更多功能，让你轻松玩转徽州\\n您需要 登录 才可以...   \n",
       "3  \\n\\n\\n\\n\\n马上注册成为会员，享用更多功能，让你轻松玩转徽州\\n您需要 登录 才可以...   \n",
       "4  \\n\\n\\n\\n\\n马上注册成为会员，享用更多功能，让你轻松玩转徽州\\n您需要 登录 才可以...   \n",
       "\n",
       "                                            raw_page from  \n",
       "0  <html xmlns=\"http://www.w3.org/1999/xhtml\"><he...       \n",
       "1  <html xmlns=\"http://www.w3.org/1999/xhtml\"><he...       \n",
       "2  <html xmlns=\"http://www.w3.org/1999/xhtml\"><he...       \n",
       "3  <html xmlns=\"http://www.w3.org/1999/xhtml\"><he...       \n",
       "4  <html xmlns=\"http://www.w3.org/1999/xhtml\"><he...       "
      ]
     },
     "execution_count": 119,
     "metadata": {},
     "output_type": "execute_result"
    }
   ],
   "source": [
    "df.head()"
   ]
  },
  {
   "cell_type": "code",
   "execution_count": 152,
   "metadata": {
    "collapsed": true
   },
   "outputs": [],
   "source": [
    "characters_num = 40\n",
    "def get_brief(txt):\n",
    "    soup = BeautifulSoup(txt)\n",
    "    sub_text = soup.findAll('div', {'class':'article_contents'})\n",
    "    for item in sub_text:\n",
    "        t20 = item.text\n",
    "\n",
    "    idx = 2\n",
    "    t30 = t20.split(u'\\n')\n",
    "    \n",
    "    cnt = 0\n",
    "    tt = ''\n",
    "    idx = 0\n",
    "    for k in range(0, len(t30)):\n",
    "        if (len(t30[k]) > 40 and len(tt) < 40):\n",
    "            idx = k\n",
    "            tt = t30[k].strip()\n",
    "    \n",
    "    if len(tt) == 0:\n",
    "        tt = t20.strip()\n",
    "                \n",
    "    #print idx\n",
    "\n",
    "    t40 = tt[0:characters_num]\n",
    "    t50 = t40.encode('utf-8') + '..'\n",
    "    #print idx, t40\n",
    "    return t50"
   ]
  },
  {
   "cell_type": "code",
   "execution_count": 158,
   "metadata": {
    "collapsed": false
   },
   "outputs": [],
   "source": [
    "df['brief'] = df.raw_page.map(lambda x: get_brief(x) )  "
   ]
  },
  {
   "cell_type": "code",
   "execution_count": 154,
   "metadata": {
    "collapsed": true
   },
   "outputs": [],
   "source": [
    "def get_body(txt):\n",
    "    soup = BeautifulSoup(txt)\n",
    "    sub_text = soup.findAll('div', {'class':'article_contents'})\n",
    "    for item in sub_text:\n",
    "        t20 = item.text\n",
    "\n",
    "    return t20"
   ]
  },
  {
   "cell_type": "code",
   "execution_count": 159,
   "metadata": {
    "collapsed": true
   },
   "outputs": [],
   "source": [
    "df['body'] = df.raw_page.map(lambda x: get_body(x) )  "
   ]
  },
  {
   "cell_type": "markdown",
   "metadata": {},
   "source": [
    "cnt = 0\n",
    "for item in df['brief']:\n",
    "    print cnt, item\n",
    "    cnt += 1"
   ]
  },
  {
   "cell_type": "markdown",
   "metadata": {},
   "source": [
    "cnt = 0\n",
    "for item in df['body']:\n",
    "    print cnt, item\n",
    "    cnt += 1"
   ]
  },
  {
   "cell_type": "markdown",
   "metadata": {},
   "source": [
    "soup = BeautifulSoup(df.loc[527]['raw_page'])\n",
    "sub_text = soup.findAll('div', {'class':'article_contents'})\n",
    "for item in sub_text:\n",
    "    t20 = item.text\n",
    "t30 = t20.split(u'\\n')\n",
    "\n",
    "tt = t20.strip()\n",
    "print len(t30), tt[0:40], t20"
   ]
  },
  {
   "cell_type": "code",
   "execution_count": 161,
   "metadata": {
    "collapsed": false
   },
   "outputs": [
    {
     "data": {
      "text/html": [
       "<div>\n",
       "<table border=\"1\" class=\"dataframe\">\n",
       "  <thead>\n",
       "    <tr style=\"text-align: right;\">\n",
       "      <th></th>\n",
       "      <th>dt</th>\n",
       "      <th>source</th>\n",
       "      <th>domain</th>\n",
       "      <th>url</th>\n",
       "      <th>title</th>\n",
       "      <th>summary</th>\n",
       "      <th>image</th>\n",
       "      <th>brief</th>\n",
       "      <th>body</th>\n",
       "      <th>raw_page</th>\n",
       "      <th>from</th>\n",
       "    </tr>\n",
       "  </thead>\n",
       "  <tbody>\n",
       "    <tr>\n",
       "      <th>0</th>\n",
       "      <td>2016-04-08</td>\n",
       "      <td>徽州文化网</td>\n",
       "      <td>NaN</td>\n",
       "      <td>www.hzwh.com/article.asp?id=2538</td>\n",
       "      <td>传统徽州仁商义贾践行商君子之道的历史启示</td>\n",
       "      <td>NaN</td>\n",
       "      <td>NaN</td>\n",
       "      <td>全国人大代表、民盟安徽省委副主委、安徽省文联副主席钱念孙先生在《光明日报》201..</td>\n",
       "      <td>传统徽州仁商义贾践行商君子之道的历史启示\\n郗延红\\n全国人大代表、民盟安徽省委副主委、安徽...</td>\n",
       "      <td>&lt;html xmlns=\"http://www.w3.org/1999/xhtml\"&gt;&lt;he...</td>\n",
       "      <td>NaN</td>\n",
       "    </tr>\n",
       "    <tr>\n",
       "      <th>1</th>\n",
       "      <td>2016-04-08</td>\n",
       "      <td>徽州文化网</td>\n",
       "      <td>NaN</td>\n",
       "      <td>www.hzwh.com/article.asp?id=2537</td>\n",
       "      <td>《阅读徽州》第七编“徽州科技”</td>\n",
       "      <td>NaN</td>\n",
       "      <td>NaN</td>\n",
       "      <td>长期以来，得益于灵山秀水自然环境的滋养、兴学重教社会风气的熏染、经世致用治学风格..</td>\n",
       "      <td>《阅读徽州》第七编“徽州科技”（市委市政府通过市社科联组织编写）\\n中国科学技术学大出版社出...</td>\n",
       "      <td>&lt;html xmlns=\"http://www.w3.org/1999/xhtml\"&gt;&lt;he...</td>\n",
       "      <td>NaN</td>\n",
       "    </tr>\n",
       "    <tr>\n",
       "      <th>2</th>\n",
       "      <td>2016-04-08</td>\n",
       "      <td>徽州文化网</td>\n",
       "      <td>NaN</td>\n",
       "      <td>www.hzwh.com/article.asp?id=2536</td>\n",
       "      <td>传统徽商的诚信为本和仁义向善</td>\n",
       "      <td>NaN</td>\n",
       "      <td>NaN</td>\n",
       "      <td>徽州古楹联云“仁中取利真君子/义内求财大丈夫”。这是对传统徽商群体中那些仁商义贾..</td>\n",
       "      <td>传统徽商的诚信为本和仁义向善\\n\\n郗延红\\n徽州古楹联云“仁中取利真君子/义内求财大丈夫”...</td>\n",
       "      <td>&lt;html xmlns=\"http://www.w3.org/1999/xhtml\"&gt;&lt;he...</td>\n",
       "      <td>NaN</td>\n",
       "    </tr>\n",
       "    <tr>\n",
       "      <th>3</th>\n",
       "      <td>2016-04-08</td>\n",
       "      <td>徽州文化网</td>\n",
       "      <td>NaN</td>\n",
       "      <td>www.hzwh.com/article.asp?id=2535</td>\n",
       "      <td>传统徽商的诚信为本和仁义向善</td>\n",
       "      <td>NaN</td>\n",
       "      <td>NaN</td>\n",
       "      <td>徽州古楹联云“仁中取利真君子/义内求财大丈夫”。这是对传统徽商群体中那些仁商义贾..</td>\n",
       "      <td>传统徽商的诚信为本和仁义向善\\n \\n郗延红\\n徽州古楹联云“仁中取利真君子/义内求财大丈夫...</td>\n",
       "      <td>&lt;html xmlns=\"http://www.w3.org/1999/xhtml\"&gt;&lt;he...</td>\n",
       "      <td>NaN</td>\n",
       "    </tr>\n",
       "    <tr>\n",
       "      <th>4</th>\n",
       "      <td>2016-04-08</td>\n",
       "      <td>徽州文化网</td>\n",
       "      <td>NaN</td>\n",
       "      <td>www.hzwh.com/article.asp?id=2534</td>\n",
       "      <td>黟县古城改造重要的是务须保住文教根脉</td>\n",
       "      <td>NaN</td>\n",
       "      <td>NaN</td>\n",
       "      <td>黟县进行古城改造并申报国家级历史文化名城总体方案正在逐步完善，各项工作正在有条不..</td>\n",
       "      <td>黟县古城改造重要的是务须保住文教根脉\\n                         郗...</td>\n",
       "      <td>&lt;html xmlns=\"http://www.w3.org/1999/xhtml\"&gt;&lt;he...</td>\n",
       "      <td>NaN</td>\n",
       "    </tr>\n",
       "  </tbody>\n",
       "</table>\n",
       "</div>"
      ],
      "text/plain": [
       "           dt source domain                               url  \\\n",
       "0  2016-04-08  徽州文化网    NaN  www.hzwh.com/article.asp?id=2538   \n",
       "1  2016-04-08  徽州文化网    NaN  www.hzwh.com/article.asp?id=2537   \n",
       "2  2016-04-08  徽州文化网    NaN  www.hzwh.com/article.asp?id=2536   \n",
       "3  2016-04-08  徽州文化网    NaN  www.hzwh.com/article.asp?id=2535   \n",
       "4  2016-04-08  徽州文化网    NaN  www.hzwh.com/article.asp?id=2534   \n",
       "\n",
       "                  title summary image  \\\n",
       "0  传统徽州仁商义贾践行商君子之道的历史启示     NaN   NaN   \n",
       "1       《阅读徽州》第七编“徽州科技”     NaN   NaN   \n",
       "2        传统徽商的诚信为本和仁义向善     NaN   NaN   \n",
       "3        传统徽商的诚信为本和仁义向善     NaN   NaN   \n",
       "4    黟县古城改造重要的是务须保住文教根脉     NaN   NaN   \n",
       "\n",
       "                                        brief  \\\n",
       "0  全国人大代表、民盟安徽省委副主委、安徽省文联副主席钱念孙先生在《光明日报》201..   \n",
       "1  长期以来，得益于灵山秀水自然环境的滋养、兴学重教社会风气的熏染、经世致用治学风格..   \n",
       "2  徽州古楹联云“仁中取利真君子/义内求财大丈夫”。这是对传统徽商群体中那些仁商义贾..   \n",
       "3  徽州古楹联云“仁中取利真君子/义内求财大丈夫”。这是对传统徽商群体中那些仁商义贾..   \n",
       "4  黟县进行古城改造并申报国家级历史文化名城总体方案正在逐步完善，各项工作正在有条不..   \n",
       "\n",
       "                                                body  \\\n",
       "0  传统徽州仁商义贾践行商君子之道的历史启示\\n郗延红\\n全国人大代表、民盟安徽省委副主委、安徽...   \n",
       "1  《阅读徽州》第七编“徽州科技”（市委市政府通过市社科联组织编写）\\n中国科学技术学大出版社出...   \n",
       "2  传统徽商的诚信为本和仁义向善\\n\\n郗延红\\n徽州古楹联云“仁中取利真君子/义内求财大丈夫”...   \n",
       "3  传统徽商的诚信为本和仁义向善\\n \\n郗延红\\n徽州古楹联云“仁中取利真君子/义内求财大丈夫...   \n",
       "4  黟县古城改造重要的是务须保住文教根脉\\n                         郗...   \n",
       "\n",
       "                                            raw_page from  \n",
       "0  <html xmlns=\"http://www.w3.org/1999/xhtml\"><he...  NaN  \n",
       "1  <html xmlns=\"http://www.w3.org/1999/xhtml\"><he...  NaN  \n",
       "2  <html xmlns=\"http://www.w3.org/1999/xhtml\"><he...  NaN  \n",
       "3  <html xmlns=\"http://www.w3.org/1999/xhtml\"><he...  NaN  \n",
       "4  <html xmlns=\"http://www.w3.org/1999/xhtml\"><he...  NaN  "
      ]
     },
     "execution_count": 161,
     "metadata": {},
     "output_type": "execute_result"
    }
   ],
   "source": [
    "df.head()"
   ]
  },
  {
   "cell_type": "code",
   "execution_count": 127,
   "metadata": {
    "collapsed": false
   },
   "outputs": [
    {
     "data": {
      "text/plain": [
       "'www.hzwh.com/article.asp?id=1347'"
      ]
     },
     "execution_count": 127,
     "metadata": {},
     "output_type": "execute_result"
    }
   ],
   "source": [
    "df.loc[24]['url']"
   ]
  },
  {
   "cell_type": "code",
   "execution_count": 121,
   "metadata": {
    "collapsed": true
   },
   "outputs": [],
   "source": [
    "if(len(df) != 0):\n",
    "    df.to_csv('../data/complete/hzwh_huixueyuanpu.csv', encoding='utf-8', index=False)"
   ]
  },
  {
   "cell_type": "code",
   "execution_count": 27,
   "metadata": {
    "collapsed": false
   },
   "outputs": [],
   "source": [
    "if(browser):\n",
    "    browser.quit()"
   ]
  },
  {
   "cell_type": "code",
   "execution_count": 31,
   "metadata": {
    "collapsed": false
   },
   "outputs": [],
   "source": [
    "for item in df['title']:\n",
    "    print item"
   ]
  },
  {
   "cell_type": "code",
   "execution_count": 32,
   "metadata": {
    "collapsed": false
   },
   "outputs": [
    {
     "name": "stdout",
     "output_type": "stream",
     "text": [
      "<class 'pandas.core.frame.DataFrame'>\n",
      "Index: 0 entries\n",
      "Data columns (total 11 columns):\n",
      "dt          0 non-null object\n",
      "source      0 non-null object\n",
      "domain      0 non-null object\n",
      "url         0 non-null object\n",
      "title       0 non-null object\n",
      "summary     0 non-null object\n",
      "image       0 non-null object\n",
      "brief       0 non-null object\n",
      "body        0 non-null object\n",
      "raw_page    0 non-null object\n",
      "from        0 non-null object\n",
      "dtypes: object(11)\n",
      "memory usage: 0.0+ bytes\n"
     ]
    }
   ],
   "source": [
    "df.info()"
   ]
  },
  {
   "cell_type": "code",
   "execution_count": 173,
   "metadata": {
    "collapsed": true
   },
   "outputs": [],
   "source": [
    "df2 = pd.read_csv('../data/complete/hzwh_huixueyuanpu.csv')"
   ]
  },
  {
   "cell_type": "code",
   "execution_count": 174,
   "metadata": {
    "collapsed": false
   },
   "outputs": [
    {
     "data": {
      "text/html": [
       "<div>\n",
       "<table border=\"1\" class=\"dataframe\">\n",
       "  <thead>\n",
       "    <tr style=\"text-align: right;\">\n",
       "      <th></th>\n",
       "      <th>dt</th>\n",
       "      <th>source</th>\n",
       "      <th>domain</th>\n",
       "      <th>url</th>\n",
       "      <th>title</th>\n",
       "      <th>summary</th>\n",
       "      <th>image</th>\n",
       "      <th>brief</th>\n",
       "      <th>body</th>\n",
       "      <th>raw_page</th>\n",
       "      <th>from</th>\n",
       "    </tr>\n",
       "  </thead>\n",
       "  <tbody>\n",
       "    <tr>\n",
       "      <th>0</th>\n",
       "      <td>2016-04-08</td>\n",
       "      <td>徽州文化网</td>\n",
       "      <td>NaN</td>\n",
       "      <td>http://www.hzwh.com/article.asp?id=2538</td>\n",
       "      <td>传统徽州仁商义贾践行商君子之道的历史启示</td>\n",
       "      <td>NaN</td>\n",
       "      <td>NaN</td>\n",
       "      <td>全国人大代表、民盟安徽省委副主委、安徽省文联副主席钱念孙先生在《光明日报》201..</td>\n",
       "      <td>传统徽州仁商义贾践行商君子之道的历史启示\\n郗延红\\n全国人大代表、民盟安徽省委副主委、安徽...</td>\n",
       "      <td>&lt;html xmlns=\"http://www.w3.org/1999/xhtml\"&gt;&lt;he...</td>\n",
       "      <td>NaN</td>\n",
       "    </tr>\n",
       "    <tr>\n",
       "      <th>1</th>\n",
       "      <td>2016-04-08</td>\n",
       "      <td>徽州文化网</td>\n",
       "      <td>NaN</td>\n",
       "      <td>http://www.hzwh.com/article.asp?id=2537</td>\n",
       "      <td>《阅读徽州》第七编“徽州科技”</td>\n",
       "      <td>NaN</td>\n",
       "      <td>NaN</td>\n",
       "      <td>长期以来，得益于灵山秀水自然环境的滋养、兴学重教社会风气的熏染、经世致用治学风格..</td>\n",
       "      <td>《阅读徽州》第七编“徽州科技”（市委市政府通过市社科联组织编写）\\n中国科学技术学大出版社出...</td>\n",
       "      <td>&lt;html xmlns=\"http://www.w3.org/1999/xhtml\"&gt;&lt;he...</td>\n",
       "      <td>NaN</td>\n",
       "    </tr>\n",
       "    <tr>\n",
       "      <th>2</th>\n",
       "      <td>2016-04-08</td>\n",
       "      <td>徽州文化网</td>\n",
       "      <td>NaN</td>\n",
       "      <td>http://www.hzwh.com/article.asp?id=2536</td>\n",
       "      <td>传统徽商的诚信为本和仁义向善</td>\n",
       "      <td>NaN</td>\n",
       "      <td>NaN</td>\n",
       "      <td>徽州古楹联云“仁中取利真君子/义内求财大丈夫”。这是对传统徽商群体中那些仁商义贾..</td>\n",
       "      <td>传统徽商的诚信为本和仁义向善\\n\\n郗延红\\n徽州古楹联云“仁中取利真君子/义内求财大丈夫”...</td>\n",
       "      <td>&lt;html xmlns=\"http://www.w3.org/1999/xhtml\"&gt;&lt;he...</td>\n",
       "      <td>NaN</td>\n",
       "    </tr>\n",
       "    <tr>\n",
       "      <th>3</th>\n",
       "      <td>2016-04-08</td>\n",
       "      <td>徽州文化网</td>\n",
       "      <td>NaN</td>\n",
       "      <td>http://www.hzwh.com/article.asp?id=2535</td>\n",
       "      <td>传统徽商的诚信为本和仁义向善</td>\n",
       "      <td>NaN</td>\n",
       "      <td>NaN</td>\n",
       "      <td>徽州古楹联云“仁中取利真君子/义内求财大丈夫”。这是对传统徽商群体中那些仁商义贾..</td>\n",
       "      <td>传统徽商的诚信为本和仁义向善\\n \\n郗延红\\n徽州古楹联云“仁中取利真君子/义内求财大丈夫...</td>\n",
       "      <td>&lt;html xmlns=\"http://www.w3.org/1999/xhtml\"&gt;&lt;he...</td>\n",
       "      <td>NaN</td>\n",
       "    </tr>\n",
       "    <tr>\n",
       "      <th>4</th>\n",
       "      <td>2016-04-08</td>\n",
       "      <td>徽州文化网</td>\n",
       "      <td>NaN</td>\n",
       "      <td>http://www.hzwh.com/article.asp?id=2534</td>\n",
       "      <td>黟县古城改造重要的是务须保住文教根脉</td>\n",
       "      <td>NaN</td>\n",
       "      <td>NaN</td>\n",
       "      <td>黟县进行古城改造并申报国家级历史文化名城总体方案正在逐步完善，各项工作正在有条不..</td>\n",
       "      <td>黟县古城改造重要的是务须保住文教根脉\\n                         郗...</td>\n",
       "      <td>&lt;html xmlns=\"http://www.w3.org/1999/xhtml\"&gt;&lt;he...</td>\n",
       "      <td>NaN</td>\n",
       "    </tr>\n",
       "  </tbody>\n",
       "</table>\n",
       "</div>"
      ],
      "text/plain": [
       "           dt source  domain                                      url  \\\n",
       "0  2016-04-08  徽州文化网     NaN  http://www.hzwh.com/article.asp?id=2538   \n",
       "1  2016-04-08  徽州文化网     NaN  http://www.hzwh.com/article.asp?id=2537   \n",
       "2  2016-04-08  徽州文化网     NaN  http://www.hzwh.com/article.asp?id=2536   \n",
       "3  2016-04-08  徽州文化网     NaN  http://www.hzwh.com/article.asp?id=2535   \n",
       "4  2016-04-08  徽州文化网     NaN  http://www.hzwh.com/article.asp?id=2534   \n",
       "\n",
       "                  title  summary  image  \\\n",
       "0  传统徽州仁商义贾践行商君子之道的历史启示      NaN    NaN   \n",
       "1       《阅读徽州》第七编“徽州科技”      NaN    NaN   \n",
       "2        传统徽商的诚信为本和仁义向善      NaN    NaN   \n",
       "3        传统徽商的诚信为本和仁义向善      NaN    NaN   \n",
       "4    黟县古城改造重要的是务须保住文教根脉      NaN    NaN   \n",
       "\n",
       "                                        brief  \\\n",
       "0  全国人大代表、民盟安徽省委副主委、安徽省文联副主席钱念孙先生在《光明日报》201..   \n",
       "1  长期以来，得益于灵山秀水自然环境的滋养、兴学重教社会风气的熏染、经世致用治学风格..   \n",
       "2  徽州古楹联云“仁中取利真君子/义内求财大丈夫”。这是对传统徽商群体中那些仁商义贾..   \n",
       "3  徽州古楹联云“仁中取利真君子/义内求财大丈夫”。这是对传统徽商群体中那些仁商义贾..   \n",
       "4  黟县进行古城改造并申报国家级历史文化名城总体方案正在逐步完善，各项工作正在有条不..   \n",
       "\n",
       "                                                body  \\\n",
       "0  传统徽州仁商义贾践行商君子之道的历史启示\\n郗延红\\n全国人大代表、民盟安徽省委副主委、安徽...   \n",
       "1  《阅读徽州》第七编“徽州科技”（市委市政府通过市社科联组织编写）\\n中国科学技术学大出版社出...   \n",
       "2  传统徽商的诚信为本和仁义向善\\n\\n郗延红\\n徽州古楹联云“仁中取利真君子/义内求财大丈夫”...   \n",
       "3  传统徽商的诚信为本和仁义向善\\n \\n郗延红\\n徽州古楹联云“仁中取利真君子/义内求财大丈夫...   \n",
       "4  黟县古城改造重要的是务须保住文教根脉\\n                         郗...   \n",
       "\n",
       "                                            raw_page  from  \n",
       "0  <html xmlns=\"http://www.w3.org/1999/xhtml\"><he...   NaN  \n",
       "1  <html xmlns=\"http://www.w3.org/1999/xhtml\"><he...   NaN  \n",
       "2  <html xmlns=\"http://www.w3.org/1999/xhtml\"><he...   NaN  \n",
       "3  <html xmlns=\"http://www.w3.org/1999/xhtml\"><he...   NaN  \n",
       "4  <html xmlns=\"http://www.w3.org/1999/xhtml\"><he...   NaN  "
      ]
     },
     "execution_count": 174,
     "metadata": {},
     "output_type": "execute_result"
    }
   ],
   "source": [
    "df2.head()"
   ]
  },
  {
   "cell_type": "code",
   "execution_count": null,
   "metadata": {
    "collapsed": true
   },
   "outputs": [],
   "source": []
  }
 ],
 "metadata": {
  "kernelspec": {
   "display_name": "Python 2",
   "language": "python",
   "name": "python2"
  },
  "language_info": {
   "codemirror_mode": {
    "name": "ipython",
    "version": 2
   },
   "file_extension": ".py",
   "mimetype": "text/x-python",
   "name": "python",
   "nbconvert_exporter": "python",
   "pygments_lexer": "ipython2",
   "version": "2.7.10"
  }
 },
 "nbformat": 4,
 "nbformat_minor": 0
}
