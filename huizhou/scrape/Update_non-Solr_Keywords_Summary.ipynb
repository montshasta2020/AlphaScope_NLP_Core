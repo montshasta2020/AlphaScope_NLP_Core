{
 "cells": [
  {
   "cell_type": "code",
   "execution_count": 1,
   "metadata": {
    "collapsed": true
   },
   "outputs": [],
   "source": [
    "import pandas as pd\n",
    "import numpy as np\n",
    "import re"
   ]
  },
  {
   "cell_type": "code",
   "execution_count": 2,
   "metadata": {
    "collapsed": true
   },
   "outputs": [],
   "source": [
    "from bs4 import BeautifulSoup"
   ]
  },
  {
   "cell_type": "code",
   "execution_count": 3,
   "metadata": {
    "collapsed": true
   },
   "outputs": [],
   "source": [
    "from textrank4zh import TextRank4Keyword, TextRank4Sentence"
   ]
  },
  {
   "cell_type": "code",
   "execution_count": 93,
   "metadata": {
    "collapsed": false
   },
   "outputs": [
    {
     "name": "stdout",
     "output_type": "stream",
     "text": [
      "../data/complete/anhuinews-huixue.csv\n",
      "../data/complete/hzwh-huixueyuanfu.csv\n",
      "../data/complete/tianxiahuizhou.csv\n",
      "../data/complete/weixin_huizhou.csv\n",
      "../data/complete/xinhs_huixueyuandi.csv\n"
     ]
    }
   ],
   "source": [
    "#General \n",
    "import glob\n",
    "all_files = glob.glob(\"../data/complete/\" + \"/*.csv\")\n",
    "init = 0\n",
    "#print all_files\n",
    "for file_ in all_files:\n",
    "    print file_\n",
    "    with open(file_) as data_file:  \n",
    "        df = pd.read_csv(data_file)\n",
    "        if init == 0:\n",
    "            joined = df\n",
    "            init = 1\n",
    "        else:\n",
    "            joined = joined.append(df)"
   ]
  },
  {
   "cell_type": "code",
   "execution_count": 91,
   "metadata": {
    "collapsed": true
   },
   "outputs": [],
   "source": [
    "#temp_df = pd.read_csv('../data/complete/xinhs_huixueyuandi.csv')\n",
    "#temp_df['url'] = 'http://www.xinhs.cn/' + temp_df['url']\n",
    "#temp_df.to_csv('../scrape/data/general/xinhs-huixueyuandi.csv', encoding='utf-8', index=False)"
   ]
  },
  {
   "cell_type": "code",
   "execution_count": 94,
   "metadata": {
    "collapsed": false
   },
   "outputs": [
    {
     "name": "stdout",
     "output_type": "stream",
     "text": [
      "../scrape/data/news/baidu-huizhou-news.csv\n",
      "../scrape/data/news/google-huizhou-news.csv\n",
      "../scrape/data/news/sina-huizhou-news.csv\n",
      "../scrape/data/news/zhongxin-huizhou-news.csv\n"
     ]
    }
   ],
   "source": [
    "#News \n",
    "import glob\n",
    "all_files = glob.glob(\"../scrape/data/news/\" + \"/*.csv\")\n",
    "\n",
    "#print all_files\n",
    "for file_ in all_files:\n",
    "    print file_\n",
    "    with open(file_) as data_file:  \n",
    "        df = pd.read_csv(data_file)\n",
    "        joined = joined.append(df)"
   ]
  },
  {
   "cell_type": "code",
   "execution_count": 95,
   "metadata": {
    "collapsed": false
   },
   "outputs": [
    {
     "name": "stdout",
     "output_type": "stream",
     "text": [
      "<class 'pandas.core.frame.DataFrame'>\n",
      "Int64Index: 5980 entries, 0 to 477\n",
      "Data columns (total 11 columns):\n",
      "dt          5183 non-null object\n",
      "source      5967 non-null object\n",
      "domain      1125 non-null object\n",
      "url         5980 non-null object\n",
      "title       5977 non-null object\n",
      "summary     0 non-null float64\n",
      "image       1625 non-null object\n",
      "brief       5810 non-null object\n",
      "body        1125 non-null object\n",
      "raw_page    1977 non-null object\n",
      "from        2254 non-null object\n",
      "dtypes: float64(1), object(10)\n",
      "memory usage: 560.6+ KB\n"
     ]
    }
   ],
   "source": [
    "joined.info()"
   ]
  },
  {
   "cell_type": "code",
   "execution_count": 96,
   "metadata": {
    "collapsed": false
   },
   "outputs": [
    {
     "name": "stdout",
     "output_type": "stream",
     "text": [
      "../scrape/data/google/cse/360doc-huizhou.csv\n",
      "../scrape/data/google/cse/517huizhou-huizhou.csv\n",
      "../scrape/data/google/cse/99huizhou-huizhou.csv\n",
      "../scrape/data/google/cse/ahage-huizhou.csv\n",
      "../scrape/data/google/cse/anhuinews-huizhou.csv\n",
      "../scrape/data/google/cse/hzwh-huizhou.csv\n",
      "../scrape/data/google/cse/xinhs-huizhou.csv\n"
     ]
    }
   ],
   "source": [
    "#CSE\n",
    "import glob\n",
    "all_files = glob.glob(\"../scrape/data/google/cse/\" + \"/*.csv\")\n",
    "\n",
    "init = 0\n",
    "#print all_files\n",
    "for file_ in all_files:\n",
    "    print file_\n",
    "    with open(file_) as data_file:  \n",
    "        df = pd.read_csv(data_file)\n",
    "        joined = joined.append(df)"
   ]
  },
  {
   "cell_type": "code",
   "execution_count": 97,
   "metadata": {
    "collapsed": false
   },
   "outputs": [
    {
     "name": "stdout",
     "output_type": "stream",
     "text": [
      "<class 'pandas.core.frame.DataFrame'>\n",
      "Int64Index: 6790 entries, 0 to 123\n",
      "Data columns (total 11 columns):\n",
      "dt          5599 non-null object\n",
      "source      6777 non-null object\n",
      "domain      1125 non-null object\n",
      "url         6790 non-null object\n",
      "title       6787 non-null object\n",
      "summary     0 non-null float64\n",
      "image       1625 non-null object\n",
      "brief       6620 non-null object\n",
      "body        1125 non-null object\n",
      "raw_page    2082 non-null object\n",
      "from        2254 non-null object\n",
      "dtypes: float64(1), object(10)\n",
      "memory usage: 636.6+ KB\n"
     ]
    }
   ],
   "source": [
    "joined.info()"
   ]
  },
  {
   "cell_type": "code",
   "execution_count": 98,
   "metadata": {
    "collapsed": false
   },
   "outputs": [
    {
     "name": "stdout",
     "output_type": "stream",
     "text": [
      "../scrape/data/general/360doc-huizhou.csv\n",
      "../scrape/data/general/517huizhou_huiwenhua.csv\n",
      "../scrape/data/general/99huizhou_huiwenhua.csv\n",
      "../scrape/data/general/anhuinews-huiwenhua.csv\n",
      "../scrape/data/general/hzwh-huixueyuanfu.csv\n",
      "../scrape/data/general/tianxiahuizhou.csv\n",
      "../scrape/data/general/xinhs-huixueyuandi.csv\n"
     ]
    }
   ],
   "source": [
    "#general\n",
    "import glob\n",
    "all_files = glob.glob(\"../scrape/data/general/\" + \"/*.csv\")\n",
    "\n",
    "init = 0\n",
    "#print all_files\n",
    "for file_ in all_files:\n",
    "    print file_\n",
    "    with open(file_) as data_file:  \n",
    "        df = pd.read_csv(data_file)\n",
    "        joined = joined.append(df)"
   ]
  },
  {
   "cell_type": "code",
   "execution_count": 88,
   "metadata": {
    "collapsed": true
   },
   "outputs": [],
   "source": [
    "#temp_df = pd.read_csv('../scrape/data/general/99huizhou_huiwenhua.csv')\n",
    "#temp_df['url'] = 'http://www.99huizhou.com/' + temp_df['url']\n",
    "#temp_df.to_csv('../scrape/data/general/99huizhou_huiwenhua.csv', encoding='utf-8', index=False)"
   ]
  },
  {
   "cell_type": "code",
   "execution_count": 99,
   "metadata": {
    "collapsed": false
   },
   "outputs": [
    {
     "name": "stdout",
     "output_type": "stream",
     "text": [
      "<class 'pandas.core.frame.DataFrame'>\n",
      "Int64Index: 14645 entries, 0 to 919\n",
      "Data columns (total 11 columns):\n",
      "dt          13454 non-null object\n",
      "source      14632 non-null object\n",
      "domain      1125 non-null object\n",
      "url         14645 non-null object\n",
      "title       14642 non-null object\n",
      "summary     0 non-null float64\n",
      "image       1625 non-null object\n",
      "brief       8903 non-null object\n",
      "body        6515 non-null object\n",
      "raw_page    8925 non-null object\n",
      "from        2254 non-null object\n",
      "dtypes: float64(1), object(10)\n",
      "memory usage: 1.3+ MB\n"
     ]
    }
   ],
   "source": [
    "joined.info()"
   ]
  },
  {
   "cell_type": "code",
   "execution_count": null,
   "metadata": {
    "collapsed": true
   },
   "outputs": [],
   "source": []
  },
  {
   "cell_type": "code",
   "execution_count": 100,
   "metadata": {
    "collapsed": true
   },
   "outputs": [],
   "source": [
    "#drop duplicates and NA\n",
    "df_no_dup = joined.drop_duplicates(['url'])\n",
    "df_no_dup = df_no_dup.dropna(subset =['raw_page'])"
   ]
  },
  {
   "cell_type": "code",
   "execution_count": 101,
   "metadata": {
    "collapsed": false
   },
   "outputs": [
    {
     "name": "stdout",
     "output_type": "stream",
     "text": [
      "<class 'pandas.core.frame.DataFrame'>\n",
      "Int64Index: 7471 entries, 0 to 898\n",
      "Data columns (total 11 columns):\n",
      "dt          7415 non-null object\n",
      "source      7471 non-null object\n",
      "domain      1125 non-null object\n",
      "url         7471 non-null object\n",
      "title       7471 non-null object\n",
      "summary     0 non-null float64\n",
      "image       0 non-null object\n",
      "brief       1912 non-null object\n",
      "body        6514 non-null object\n",
      "raw_page    7471 non-null object\n",
      "from        205 non-null object\n",
      "dtypes: float64(1), object(10)\n",
      "memory usage: 700.4+ KB\n"
     ]
    }
   ],
   "source": [
    "df_no_dup.info()"
   ]
  },
  {
   "cell_type": "code",
   "execution_count": 105,
   "metadata": {
    "collapsed": true
   },
   "outputs": [],
   "source": [
    "df_no_dup['domain']  = df_no_dup.url.map(lambda x:tldextract.extract(x).domain + str('.') + tldextract.extract(x).suffix)"
   ]
  },
  {
   "cell_type": "code",
   "execution_count": 106,
   "metadata": {
    "collapsed": true
   },
   "outputs": [],
   "source": [
    "count = Counter(df_no_dup['domain'])"
   ]
  },
  {
   "cell_type": "code",
   "execution_count": 107,
   "metadata": {
    "collapsed": false
   },
   "outputs": [
    {
     "name": "stdout",
     "output_type": "stream",
     "text": [
      "Counter({'517huizhou.com': 4490, 'xinhs.cn': 920, '99huizhou.com': 899, 'hzwh.com': 533, 'qq.com': 205, 'guhuizhou.com': 170, 'anhuinews.com': 149, 'ahage.net': 105})\n"
     ]
    }
   ],
   "source": [
    "print count"
   ]
  },
  {
   "cell_type": "code",
   "execution_count": 109,
   "metadata": {
    "collapsed": false
   },
   "outputs": [
    {
     "data": {
      "text/html": [
       "<div>\n",
       "<table border=\"1\" class=\"dataframe\">\n",
       "  <thead>\n",
       "    <tr style=\"text-align: right;\">\n",
       "      <th></th>\n",
       "      <th>dt</th>\n",
       "      <th>source</th>\n",
       "      <th>domain</th>\n",
       "      <th>url</th>\n",
       "      <th>title</th>\n",
       "      <th>summary</th>\n",
       "      <th>image</th>\n",
       "      <th>brief</th>\n",
       "      <th>body</th>\n",
       "      <th>raw_page</th>\n",
       "      <th>from</th>\n",
       "    </tr>\n",
       "  </thead>\n",
       "  <tbody>\n",
       "    <tr>\n",
       "      <th>0</th>\n",
       "      <td>2016-11-28</td>\n",
       "      <td>中安在线</td>\n",
       "      <td>anhuinews.com</td>\n",
       "      <td>http://cul.anhuinews.com/system/2016/11/28/007...</td>\n",
       "      <td>洪建华夫妇的竹刻人生</td>\n",
       "      <td>NaN</td>\n",
       "      <td>NaN</td>\n",
       "      <td>谁能想到，洪建华夫妇这对一无学历、二无家传、三无师承的“三无大师”成了省级非物质文化遗产·...</td>\n",
       "      <td>NaN</td>\n",
       "      <td>&lt;!DOCTYPE html&gt;\\n&lt;html xmlns=\"http://www.w3.or...</td>\n",
       "      <td>NaN</td>\n",
       "    </tr>\n",
       "    <tr>\n",
       "      <th>1</th>\n",
       "      <td>2016-11-21</td>\n",
       "      <td>中安在线</td>\n",
       "      <td>anhuinews.com</td>\n",
       "      <td>http://cul.anhuinews.com/system/2016/11/21/007...</td>\n",
       "      <td>徽州民歌传人操明花校园授艺</td>\n",
       "      <td>NaN</td>\n",
       "      <td>NaN</td>\n",
       "      <td>近日，省非物质文化遗产徽州民歌传承人操明花前往休宁县海阳二小、歙县城关小学和徽州区岩寺镇中...</td>\n",
       "      <td>NaN</td>\n",
       "      <td>&lt;!DOCTYPE html&gt;\\n&lt;html xmlns=\"http://www.w3.or...</td>\n",
       "      <td>NaN</td>\n",
       "    </tr>\n",
       "    <tr>\n",
       "      <th>2</th>\n",
       "      <td>2016-11-03</td>\n",
       "      <td>中安在线</td>\n",
       "      <td>anhuinews.com</td>\n",
       "      <td>http://cul.anhuinews.com/system/2016/11/03/007...</td>\n",
       "      <td>黄山楹联漫谈</td>\n",
       "      <td>NaN</td>\n",
       "      <td>NaN</td>\n",
       "      <td>黄山楹联第一人当推明朝诗人余绍祉。他遍历祖国名山大川，见到无数奇峰怪石，却感到抵不上黄山峰...</td>\n",
       "      <td>NaN</td>\n",
       "      <td>&lt;!DOCTYPE html&gt;\\n&lt;html xmlns=\"http://www.w3.or...</td>\n",
       "      <td>NaN</td>\n",
       "    </tr>\n",
       "    <tr>\n",
       "      <th>3</th>\n",
       "      <td>2016-01-26</td>\n",
       "      <td>中安在线</td>\n",
       "      <td>anhuinews.com</td>\n",
       "      <td>http://cul.anhuinews.com/system/2016/01/26/007...</td>\n",
       "      <td>徽派雕刻——徽州木雕艺术</td>\n",
       "      <td>NaN</td>\n",
       "      <td>NaN</td>\n",
       "      <td>徽州民居、家具木板和圆木雕刻艺术的简称。木雕在旧属徽州各县分布之广在全国屈指可数，宅院内的...</td>\n",
       "      <td>NaN</td>\n",
       "      <td>&lt;!DOCTYPE html PUBLIC \"-//W3C//DTD XHTML 1.0 T...</td>\n",
       "      <td>NaN</td>\n",
       "    </tr>\n",
       "    <tr>\n",
       "      <th>4</th>\n",
       "      <td>2016-01-26</td>\n",
       "      <td>中安在线</td>\n",
       "      <td>anhuinews.com</td>\n",
       "      <td>http://cul.anhuinews.com/system/2016/01/26/007...</td>\n",
       "      <td>徽派雕刻——徽州砖雕艺术</td>\n",
       "      <td>NaN</td>\n",
       "      <td>NaN</td>\n",
       "      <td>徽州砖雕徽州砖雕的造型，来源于汉画象砖。汉画象砖大都是模印砖坯刻画后入密烧制，嵌窃时再进行...</td>\n",
       "      <td>NaN</td>\n",
       "      <td>&lt;!DOCTYPE html PUBLIC \"-//W3C//DTD XHTML 1.0 T...</td>\n",
       "      <td>NaN</td>\n",
       "    </tr>\n",
       "  </tbody>\n",
       "</table>\n",
       "</div>"
      ],
      "text/plain": [
       "           dt source         domain  \\\n",
       "0  2016-11-28   中安在线  anhuinews.com   \n",
       "1  2016-11-21   中安在线  anhuinews.com   \n",
       "2  2016-11-03   中安在线  anhuinews.com   \n",
       "3  2016-01-26   中安在线  anhuinews.com   \n",
       "4  2016-01-26   中安在线  anhuinews.com   \n",
       "\n",
       "                                                 url          title  summary  \\\n",
       "0  http://cul.anhuinews.com/system/2016/11/28/007...     洪建华夫妇的竹刻人生      NaN   \n",
       "1  http://cul.anhuinews.com/system/2016/11/21/007...  徽州民歌传人操明花校园授艺      NaN   \n",
       "2  http://cul.anhuinews.com/system/2016/11/03/007...         黄山楹联漫谈      NaN   \n",
       "3  http://cul.anhuinews.com/system/2016/01/26/007...   徽派雕刻——徽州木雕艺术      NaN   \n",
       "4  http://cul.anhuinews.com/system/2016/01/26/007...   徽派雕刻——徽州砖雕艺术      NaN   \n",
       "\n",
       "  image                                              brief body  \\\n",
       "0   NaN   谁能想到，洪建华夫妇这对一无学历、二无家传、三无师承的“三无大师”成了省级非物质文化遗产·...  NaN   \n",
       "1   NaN   近日，省非物质文化遗产徽州民歌传承人操明花前往休宁县海阳二小、歙县城关小学和徽州区岩寺镇中...  NaN   \n",
       "2   NaN   黄山楹联第一人当推明朝诗人余绍祉。他遍历祖国名山大川，见到无数奇峰怪石，却感到抵不上黄山峰...  NaN   \n",
       "3   NaN   徽州民居、家具木板和圆木雕刻艺术的简称。木雕在旧属徽州各县分布之广在全国屈指可数，宅院内的...  NaN   \n",
       "4   NaN   徽州砖雕徽州砖雕的造型，来源于汉画象砖。汉画象砖大都是模印砖坯刻画后入密烧制，嵌窃时再进行...  NaN   \n",
       "\n",
       "                                            raw_page from  \n",
       "0  <!DOCTYPE html>\\n<html xmlns=\"http://www.w3.or...  NaN  \n",
       "1  <!DOCTYPE html>\\n<html xmlns=\"http://www.w3.or...  NaN  \n",
       "2  <!DOCTYPE html>\\n<html xmlns=\"http://www.w3.or...  NaN  \n",
       "3  <!DOCTYPE html PUBLIC \"-//W3C//DTD XHTML 1.0 T...  NaN  \n",
       "4  <!DOCTYPE html PUBLIC \"-//W3C//DTD XHTML 1.0 T...  NaN  "
      ]
     },
     "execution_count": 109,
     "metadata": {},
     "output_type": "execute_result"
    }
   ],
   "source": [
    "df_no_dup.head()"
   ]
  },
  {
   "cell_type": "code",
   "execution_count": 110,
   "metadata": {
    "collapsed": true
   },
   "outputs": [],
   "source": [
    "df_no_dup.to_csv('../data/non-Solr-huizhou.csv', encoding='utf-8', index=False)"
   ]
  },
  {
   "cell_type": "code",
   "execution_count": 4,
   "metadata": {
    "collapsed": true
   },
   "outputs": [],
   "source": [
    "non_solr_df = pd.read_csv('../data/non-Solr-huizhou.csv')"
   ]
  },
  {
   "cell_type": "code",
   "execution_count": 5,
   "metadata": {
    "collapsed": false
   },
   "outputs": [],
   "source": [
    "non_solr_df.info()"
   ]
  },
  {
   "cell_type": "code",
   "execution_count": 118,
   "metadata": {
    "collapsed": true
   },
   "outputs": [],
   "source": [
    "def html_get_content(html, cut = 0):\n",
    "    soup = BeautifulSoup(html.decode('utf-8'))\n",
    "    [script.extract() for script in soup.findAll('script')]\n",
    "    [style.extract() for style in soup.findAll('style')]\n",
    "    soup.prettify()\n",
    "    reg1 = re.compile(\"<[^>]*>\")\n",
    "    #content = soup\n",
    "    content = reg1.sub('',soup.prettify())\n",
    "    t0 = re.sub(r'\\(.+?\\)\\s*', '', content)\n",
    "    t1 = re.sub(r'\\[.+?\\]\\s*', '', t0)\n",
    "\n",
    "    t2 = t1.replace(u'违法和不良信息举报  举报电话：0559-2345177  13705595108  举报邮箱：395116330@qq.com', '')\n",
    "    s = t2.split('\\n')\n",
    "    ret = [a for a in s if len(a) > cut]\n",
    "    ret0 = '\\n'.join(ret)\n",
    "    #print ret0\n",
    "    return ret0"
   ]
  },
  {
   "cell_type": "code",
   "execution_count": 114,
   "metadata": {
    "collapsed": false
   },
   "outputs": [],
   "source": [
    "def html_get_content2(html, cut = 0):\n",
    "    print html\n",
    "    soup = BeautifulSoup(html.decode('utf-8'))\n",
    "    all_a = soup.findAll('a', 'html5lib')\n",
    "    all_p = soup.findAll('p', 'html5lib')\n",
    "    \n",
    "    for t in all_p:\n",
    "        print t\n",
    "    #return ret0"
   ]
  },
  {
   "cell_type": "code",
   "execution_count": 115,
   "metadata": {
    "collapsed": true
   },
   "outputs": [],
   "source": [
    "non_solr_df = non_solr_df.dropna(subset =['raw_page'])"
   ]
  },
  {
   "cell_type": "code",
   "execution_count": 116,
   "metadata": {
    "collapsed": false
   },
   "outputs": [
    {
     "name": "stdout",
     "output_type": "stream",
     "text": [
      "<class 'pandas.core.frame.DataFrame'>\n",
      "Int64Index: 7471 entries, 0 to 7470\n",
      "Data columns (total 11 columns):\n",
      "dt          7415 non-null object\n",
      "source      7471 non-null object\n",
      "domain      7471 non-null object\n",
      "url         7471 non-null object\n",
      "title       7471 non-null object\n",
      "summary     0 non-null float64\n",
      "image       0 non-null float64\n",
      "brief       1912 non-null object\n",
      "body        6514 non-null object\n",
      "raw_page    7471 non-null object\n",
      "from        205 non-null object\n",
      "dtypes: float64(2), object(9)\n",
      "memory usage: 700.4+ KB\n"
     ]
    }
   ],
   "source": [
    "non_solr_df.info()"
   ]
  },
  {
   "cell_type": "code",
   "execution_count": 119,
   "metadata": {
    "collapsed": false
   },
   "outputs": [],
   "source": [
    "non_solr_df['body'] = non_solr_df.raw_page.map(lambda x: html_get_content(x, 60))"
   ]
  },
  {
   "cell_type": "code",
   "execution_count": 120,
   "metadata": {
    "collapsed": true
   },
   "outputs": [],
   "source": [
    "non_solr_df['body_len'] =  non_solr_df['body'].str.len()"
   ]
  },
  {
   "cell_type": "code",
   "execution_count": 121,
   "metadata": {
    "collapsed": true
   },
   "outputs": [],
   "source": [
    "non_solr_df_clean = non_solr_df[non_solr_df['body_len'] > 50]"
   ]
  },
  {
   "cell_type": "code",
   "execution_count": 17,
   "metadata": {
    "collapsed": true
   },
   "outputs": [],
   "source": [
    "non_solr_df_clean.to_csv('../data/non-Solr-huizhou-clean.csv', encoding='utf-8', index=False)"
   ]
  },
  {
   "cell_type": "code",
   "execution_count": 6,
   "metadata": {
    "collapsed": true
   },
   "outputs": [],
   "source": [
    "non_solr_df_clean = pd.read_csv('../data/non-Solr-huizhou-clean.csv')"
   ]
  },
  {
   "cell_type": "code",
   "execution_count": 7,
   "metadata": {
    "collapsed": false
   },
   "outputs": [],
   "source": [
    "non_solr_df_clean.info()"
   ]
  },
  {
   "cell_type": "code",
   "execution_count": 18,
   "metadata": {
    "collapsed": false
   },
   "outputs": [
    {
     "data": {
      "text/html": [
       "<div>\n",
       "<table border=\"1\" class=\"dataframe\">\n",
       "  <thead>\n",
       "    <tr style=\"text-align: right;\">\n",
       "      <th></th>\n",
       "      <th>dt</th>\n",
       "      <th>source</th>\n",
       "      <th>domain</th>\n",
       "      <th>url</th>\n",
       "      <th>title</th>\n",
       "      <th>summary</th>\n",
       "      <th>image</th>\n",
       "      <th>brief</th>\n",
       "      <th>body</th>\n",
       "      <th>raw_page</th>\n",
       "      <th>from</th>\n",
       "      <th>body_len</th>\n",
       "      <th>key_words</th>\n",
       "    </tr>\n",
       "  </thead>\n",
       "  <tbody>\n",
       "    <tr>\n",
       "      <th>0</th>\n",
       "      <td>2016-11-28</td>\n",
       "      <td>中安在线</td>\n",
       "      <td>anhuinews.com</td>\n",
       "      <td>http://cul.anhuinews.com/system/2016/11/28/007...</td>\n",
       "      <td>洪建华夫妇的竹刻人生</td>\n",
       "      <td>洪建华介绍说，新馆占地16亩、总建筑面积达1万多平方米，明年6月开馆后，人们在这里可以看到明...</td>\n",
       "      <td>NaN</td>\n",
       "      <td>谁能想到，洪建华夫妇这对一无学历、二无家传、三无师承的“三无大师”成了省级非物质文化遗产·...</td>\n",
       "      <td>谁能想到，洪建华夫妇这对一无学历、二无家传、三无师承的“三无大师”成了省级非物质...</td>\n",
       "      <td>&lt;!DOCTYPE html&gt;\\n&lt;html xmlns=\"http://www.w3.or...</td>\n",
       "      <td>NaN</td>\n",
       "      <td>3129</td>\n",
       "      <td>中国,博物馆,文化,徽派,创作,安徽,保护,大师,收藏,传承,技艺,笔筒,精品,洪,说,建华...</td>\n",
       "    </tr>\n",
       "    <tr>\n",
       "      <th>1</th>\n",
       "      <td>2016-11-21</td>\n",
       "      <td>中安在线</td>\n",
       "      <td>anhuinews.com</td>\n",
       "      <td>http://cul.anhuinews.com/system/2016/11/21/007...</td>\n",
       "      <td>徽州民歌传人操明花校园授艺</td>\n",
       "      <td>近日，省非物质文化遗产徽州民歌传承人操明花前往休宁县海阳二小、歙县城关小学和徽州区岩寺镇中心...</td>\n",
       "      <td>NaN</td>\n",
       "      <td>近日，省非物质文化遗产徽州民歌传承人操明花前往休宁县海阳二小、歙县城关小学和徽州区岩寺镇中...</td>\n",
       "      <td>近日，省非物质文化遗产徽州民歌传承人操明花前往休宁县海阳二小、歙县城关小学和徽州...</td>\n",
       "      <td>&lt;!DOCTYPE html&gt;\\n&lt;html xmlns=\"http://www.w3.or...</td>\n",
       "      <td>NaN</td>\n",
       "      <td>382</td>\n",
       "      <td>学,泥土,歌声,高潮迭起,休宁县,人,同学,操明花,歙县,磨米磨麦,动听,文化,徽,声,方言...</td>\n",
       "    </tr>\n",
       "    <tr>\n",
       "      <th>2</th>\n",
       "      <td>2016-11-03</td>\n",
       "      <td>中安在线</td>\n",
       "      <td>anhuinews.com</td>\n",
       "      <td>http://cul.anhuinews.com/system/2016/11/03/007...</td>\n",
       "      <td>黄山楹联漫谈</td>\n",
       "      <td>他遍历祖国名山大川，见到无数奇峰怪石，却感到抵不上黄山峰林地貌之奇特怪异、千姿百态，于是高吟...</td>\n",
       "      <td>NaN</td>\n",
       "      <td>黄山楹联第一人当推明朝诗人余绍祉。他遍历祖国名山大川，见到无数奇峰怪石，却感到抵不上黄山峰...</td>\n",
       "      <td>黄山楹联第一人当推明朝诗人余绍祉。他遍历祖国名山大川，见到无数奇峰怪石，却感到抵...</td>\n",
       "      <td>&lt;!DOCTYPE html&gt;\\n&lt;html xmlns=\"http://www.w3.or...</td>\n",
       "      <td>NaN</td>\n",
       "      <td>598</td>\n",
       "      <td>楹联,联邀,祖国,见到,画,超群绝伦,自然风光,杜撰,用以,主席,诗人,赖少其,出,下,溪,...</td>\n",
       "    </tr>\n",
       "    <tr>\n",
       "      <th>3</th>\n",
       "      <td>2016-01-26</td>\n",
       "      <td>中安在线</td>\n",
       "      <td>anhuinews.com</td>\n",
       "      <td>http://cul.anhuinews.com/system/2016/01/26/007...</td>\n",
       "      <td>徽派雕刻——徽州木雕艺术</td>\n",
       "      <td>木雕在旧属徽州各县分布之广在全国屈指可数，宅院内的屏风、窗楹、栏柱，日常使用的床、桌、椅、案...</td>\n",
       "      <td>NaN</td>\n",
       "      <td>徽州民居、家具木板和圆木雕刻艺术的简称。木雕在旧属徽州各县分布之广在全国屈指可数，宅院内的...</td>\n",
       "      <td>徽州民居、家具木板和圆木雕刻艺术的简称。木雕在旧属徽州各县分布之广在...</td>\n",
       "      <td>&lt;!DOCTYPE html PUBLIC \"-//W3C//DTD XHTML 1.0 T...</td>\n",
       "      <td>NaN</td>\n",
       "      <td>211</td>\n",
       "      <td>文房,用具,无,宗教,乌木,杉树,人物,戏曲,雕刻,故事,楠木,银杏,艺术,山水,徽州,屈指...</td>\n",
       "    </tr>\n",
       "    <tr>\n",
       "      <th>4</th>\n",
       "      <td>2016-01-26</td>\n",
       "      <td>中安在线</td>\n",
       "      <td>anhuinews.com</td>\n",
       "      <td>http://cul.anhuinews.com/system/2016/01/26/007...</td>\n",
       "      <td>徽派雕刻——徽州砖雕艺术</td>\n",
       "      <td>在花鸟、动物为题材的砖雕里，较多出现的是狮子图案 从砖雕艺术风格来说，名代的风格比较叫古拙朴...</td>\n",
       "      <td>NaN</td>\n",
       "      <td>徽州砖雕徽州砖雕的造型，来源于汉画象砖。汉画象砖大都是模印砖坯刻画后入密烧制，嵌窃时再进行...</td>\n",
       "      <td>徽州砖雕徽州砖雕的造型，来源于汉画象砖。汉画象砖大都是模印砖坯刻画后入...</td>\n",
       "      <td>&lt;!DOCTYPE html PUBLIC \"-//W3C//DTD XHTML 1.0 T...</td>\n",
       "      <td>NaN</td>\n",
       "      <td>835</td>\n",
       "      <td>图案,工艺美术,事,亭台,砖,邓县,后期,结构,砖坯,注重,文明,传统,生活,造型,人民,装...</td>\n",
       "    </tr>\n",
       "  </tbody>\n",
       "</table>\n",
       "</div>"
      ],
      "text/plain": [
       "           dt source         domain  \\\n",
       "0  2016-11-28   中安在线  anhuinews.com   \n",
       "1  2016-11-21   中安在线  anhuinews.com   \n",
       "2  2016-11-03   中安在线  anhuinews.com   \n",
       "3  2016-01-26   中安在线  anhuinews.com   \n",
       "4  2016-01-26   中安在线  anhuinews.com   \n",
       "\n",
       "                                                 url          title  \\\n",
       "0  http://cul.anhuinews.com/system/2016/11/28/007...     洪建华夫妇的竹刻人生   \n",
       "1  http://cul.anhuinews.com/system/2016/11/21/007...  徽州民歌传人操明花校园授艺   \n",
       "2  http://cul.anhuinews.com/system/2016/11/03/007...         黄山楹联漫谈   \n",
       "3  http://cul.anhuinews.com/system/2016/01/26/007...   徽派雕刻——徽州木雕艺术   \n",
       "4  http://cul.anhuinews.com/system/2016/01/26/007...   徽派雕刻——徽州砖雕艺术   \n",
       "\n",
       "                                             summary  image  \\\n",
       "0  洪建华介绍说，新馆占地16亩、总建筑面积达1万多平方米，明年6月开馆后，人们在这里可以看到明...    NaN   \n",
       "1  近日，省非物质文化遗产徽州民歌传承人操明花前往休宁县海阳二小、歙县城关小学和徽州区岩寺镇中心...    NaN   \n",
       "2  他遍历祖国名山大川，见到无数奇峰怪石，却感到抵不上黄山峰林地貌之奇特怪异、千姿百态，于是高吟...    NaN   \n",
       "3  木雕在旧属徽州各县分布之广在全国屈指可数，宅院内的屏风、窗楹、栏柱，日常使用的床、桌、椅、案...    NaN   \n",
       "4  在花鸟、动物为题材的砖雕里，较多出现的是狮子图案 从砖雕艺术风格来说，名代的风格比较叫古拙朴...    NaN   \n",
       "\n",
       "                                               brief  \\\n",
       "0   谁能想到，洪建华夫妇这对一无学历、二无家传、三无师承的“三无大师”成了省级非物质文化遗产·...   \n",
       "1   近日，省非物质文化遗产徽州民歌传承人操明花前往休宁县海阳二小、歙县城关小学和徽州区岩寺镇中...   \n",
       "2   黄山楹联第一人当推明朝诗人余绍祉。他遍历祖国名山大川，见到无数奇峰怪石，却感到抵不上黄山峰...   \n",
       "3   徽州民居、家具木板和圆木雕刻艺术的简称。木雕在旧属徽州各县分布之广在全国屈指可数，宅院内的...   \n",
       "4   徽州砖雕徽州砖雕的造型，来源于汉画象砖。汉画象砖大都是模印砖坯刻画后入密烧制，嵌窃时再进行...   \n",
       "\n",
       "                                                body  \\\n",
       "0        谁能想到，洪建华夫妇这对一无学历、二无家传、三无师承的“三无大师”成了省级非物质...   \n",
       "1        近日，省非物质文化遗产徽州民歌传承人操明花前往休宁县海阳二小、歙县城关小学和徽州...   \n",
       "2        黄山楹联第一人当推明朝诗人余绍祉。他遍历祖国名山大川，见到无数奇峰怪石，却感到抵...   \n",
       "3              徽州民居、家具木板和圆木雕刻艺术的简称。木雕在旧属徽州各县分布之广在...   \n",
       "4             徽州砖雕徽州砖雕的造型，来源于汉画象砖。汉画象砖大都是模印砖坯刻画后入...   \n",
       "\n",
       "                                            raw_page from  body_len  \\\n",
       "0  <!DOCTYPE html>\\n<html xmlns=\"http://www.w3.or...  NaN      3129   \n",
       "1  <!DOCTYPE html>\\n<html xmlns=\"http://www.w3.or...  NaN       382   \n",
       "2  <!DOCTYPE html>\\n<html xmlns=\"http://www.w3.or...  NaN       598   \n",
       "3  <!DOCTYPE html PUBLIC \"-//W3C//DTD XHTML 1.0 T...  NaN       211   \n",
       "4  <!DOCTYPE html PUBLIC \"-//W3C//DTD XHTML 1.0 T...  NaN       835   \n",
       "\n",
       "                                           key_words  \n",
       "0  中国,博物馆,文化,徽派,创作,安徽,保护,大师,收藏,传承,技艺,笔筒,精品,洪,说,建华...  \n",
       "1  学,泥土,歌声,高潮迭起,休宁县,人,同学,操明花,歙县,磨米磨麦,动听,文化,徽,声,方言...  \n",
       "2  楹联,联邀,祖国,见到,画,超群绝伦,自然风光,杜撰,用以,主席,诗人,赖少其,出,下,溪,...  \n",
       "3  文房,用具,无,宗教,乌木,杉树,人物,戏曲,雕刻,故事,楠木,银杏,艺术,山水,徽州,屈指...  \n",
       "4  图案,工艺美术,事,亭台,砖,邓县,后期,结构,砖坯,注重,文明,传统,生活,造型,人民,装...  "
      ]
     },
     "execution_count": 18,
     "metadata": {},
     "output_type": "execute_result"
    }
   ],
   "source": [
    "non_solr_df_clean.head()"
   ]
  },
  {
   "cell_type": "code",
   "execution_count": 127,
   "metadata": {
    "collapsed": false
   },
   "outputs": [
    {
     "name": "stderr",
     "output_type": "stream",
     "text": [
      "/usr/local/lib/python2.7/site-packages/ipykernel/__main__.py:2: SettingWithCopyWarning: \n",
      "A value is trying to be set on a copy of a slice from a DataFrame.\n",
      "Try using .loc[row_indexer,col_indexer] = value instead\n",
      "\n",
      "See the caveats in the documentation: http://pandas.pydata.org/pandas-docs/stable/indexing.html#indexing-view-versus-copy\n",
      "  from ipykernel import kernelapp as app\n"
     ]
    }
   ],
   "source": [
    "import tldextract\n",
    "non_solr_df_clean['domain']  = non_solr_df_clean.url.map(lambda x:tldextract.extract(x).domain + str('.') + tldextract.extract(x).suffix)"
   ]
  },
  {
   "cell_type": "code",
   "execution_count": 124,
   "metadata": {
    "collapsed": false
   },
   "outputs": [],
   "source": [
    "from collections import Counter\n",
    "count = Counter(non_solr_df_clean['domain'])"
   ]
  },
  {
   "cell_type": "code",
   "execution_count": 125,
   "metadata": {
    "collapsed": false
   },
   "outputs": [
    {
     "name": "stdout",
     "output_type": "stream",
     "text": [
      "Counter({'517huizhou.com': 3090, 'xinhs.cn': 919, '99huizhou.com': 818, 'hzwh.com': 528, 'qq.com': 204, 'guhuizhou.com': 167, 'anhuinews.com': 149, 'ahage.net': 104})\n"
     ]
    }
   ],
   "source": [
    "print count"
   ]
  },
  {
   "cell_type": "code",
   "execution_count": 9,
   "metadata": {
    "collapsed": false
   },
   "outputs": [],
   "source": [
    "def get_clean_content(t, cut = 60):\n",
    "    s = t.split(' ')\n",
    "    \n",
    "    ret = [a for a in s if len(a) > cut]\n",
    "    ret0 = '\\n'.join(ret)\n",
    "    #print ret0\n",
    "    return ret0"
   ]
  },
  {
   "cell_type": "code",
   "execution_count": 10,
   "metadata": {
    "collapsed": false
   },
   "outputs": [],
   "source": [
    "def get_summary(s):\n",
    "    summary = []\n",
    "    #print '--------', i\n",
    "    #s = solr_df.loc[i]['content']\n",
    "    t = get_clean_content(s)\n",
    "\n",
    "    tr4s = TextRank4Sentence()\n",
    "    tr4s.analyze(text=t, lower=True, source = 'all_filters')\n",
    "    res = tr4s.get_key_sentences(num=3)\n",
    "    new_list = sorted(res, key=lambda k: k['index']) \n",
    "    for item in new_list: #tr4s.get_key_sentences(num=3):\n",
    "        #print '---------'\n",
    "        summary.append(item.sentence)\n",
    "        #print item.index, item.weight, item.sentence  # index是语句在文本中位置，weight是权重    \n",
    "    \n",
    "    #print '-------- summary',  ' '.join(summary)\n",
    "    return ' '.join(summary)"
   ]
  },
  {
   "cell_type": "code",
   "execution_count": 11,
   "metadata": {
    "collapsed": false
   },
   "outputs": [],
   "source": [
    "def get_keywords(s):\n",
    "    keywords = []\n",
    "    #print i\n",
    "    #s = solr_df.loc[i]['content']\n",
    "    t = get_clean_content(s)\n",
    "    tr4w = TextRank4Keyword()\n",
    "    tr4w.analyze(text=t, lower=True, window=2)\n",
    "    res = tr4w.get_keywords(20, word_min_len=1)\n",
    "    new_list = sorted(res, key=lambda k: k['weight']) \n",
    "\n",
    "    #print tr4w.get_keywords(20, word_min_len=1)\n",
    "    for item in new_list:\n",
    "        keywords.append(item.word)\n",
    "    \n",
    "    #print '-------keywords', ','.join(keywords)    \n",
    "    return ','.join(keywords)"
   ]
  },
  {
   "cell_type": "code",
   "execution_count": 12,
   "metadata": {
    "collapsed": false
   },
   "outputs": [],
   "source": [
    "non_solr_df_clean['summary'] = non_solr_df_clean.body.map(lambda x : get_summary(x))"
   ]
  },
  {
   "cell_type": "code",
   "execution_count": 15,
   "metadata": {
    "collapsed": false
   },
   "outputs": [],
   "source": [
    "non_solr_df_clean['key_words'] = non_solr_df_clean.body.map(lambda x : get_keywords(x))"
   ]
  },
  {
   "cell_type": "code",
   "execution_count": 16,
   "metadata": {
    "collapsed": false
   },
   "outputs": [
    {
     "data": {
      "text/html": [
       "<div>\n",
       "<table border=\"1\" class=\"dataframe\">\n",
       "  <thead>\n",
       "    <tr style=\"text-align: right;\">\n",
       "      <th></th>\n",
       "      <th>dt</th>\n",
       "      <th>source</th>\n",
       "      <th>domain</th>\n",
       "      <th>url</th>\n",
       "      <th>title</th>\n",
       "      <th>summary</th>\n",
       "      <th>image</th>\n",
       "      <th>brief</th>\n",
       "      <th>body</th>\n",
       "      <th>raw_page</th>\n",
       "      <th>from</th>\n",
       "      <th>body_len</th>\n",
       "      <th>key_words</th>\n",
       "    </tr>\n",
       "  </thead>\n",
       "  <tbody>\n",
       "    <tr>\n",
       "      <th>0</th>\n",
       "      <td>2016-11-28</td>\n",
       "      <td>中安在线</td>\n",
       "      <td>anhuinews.com</td>\n",
       "      <td>http://cul.anhuinews.com/system/2016/11/28/007...</td>\n",
       "      <td>洪建华夫妇的竹刻人生</td>\n",
       "      <td>洪建华介绍说，新馆占地16亩、总建筑面积达1万多平方米，明年6月开馆后，人们在这里可以看到明...</td>\n",
       "      <td>NaN</td>\n",
       "      <td>谁能想到，洪建华夫妇这对一无学历、二无家传、三无师承的“三无大师”成了省级非物质文化遗产·...</td>\n",
       "      <td>谁能想到，洪建华夫妇这对一无学历、二无家传、三无师承的“三无大师”成了省级非物质...</td>\n",
       "      <td>&lt;!DOCTYPE html&gt;\\n&lt;html xmlns=\"http://www.w3.or...</td>\n",
       "      <td>NaN</td>\n",
       "      <td>3129</td>\n",
       "      <td>中国,博物馆,文化,徽派,创作,安徽,保护,大师,收藏,传承,技艺,笔筒,精品,洪,说,建华...</td>\n",
       "    </tr>\n",
       "    <tr>\n",
       "      <th>1</th>\n",
       "      <td>2016-11-21</td>\n",
       "      <td>中安在线</td>\n",
       "      <td>anhuinews.com</td>\n",
       "      <td>http://cul.anhuinews.com/system/2016/11/21/007...</td>\n",
       "      <td>徽州民歌传人操明花校园授艺</td>\n",
       "      <td>近日，省非物质文化遗产徽州民歌传承人操明花前往休宁县海阳二小、歙县城关小学和徽州区岩寺镇中心...</td>\n",
       "      <td>NaN</td>\n",
       "      <td>近日，省非物质文化遗产徽州民歌传承人操明花前往休宁县海阳二小、歙县城关小学和徽州区岩寺镇中...</td>\n",
       "      <td>近日，省非物质文化遗产徽州民歌传承人操明花前往休宁县海阳二小、歙县城关小学和徽州...</td>\n",
       "      <td>&lt;!DOCTYPE html&gt;\\n&lt;html xmlns=\"http://www.w3.or...</td>\n",
       "      <td>NaN</td>\n",
       "      <td>382</td>\n",
       "      <td>学,泥土,歌声,高潮迭起,休宁县,人,同学,操明花,歙县,磨米磨麦,动听,文化,徽,声,方言...</td>\n",
       "    </tr>\n",
       "    <tr>\n",
       "      <th>2</th>\n",
       "      <td>2016-11-03</td>\n",
       "      <td>中安在线</td>\n",
       "      <td>anhuinews.com</td>\n",
       "      <td>http://cul.anhuinews.com/system/2016/11/03/007...</td>\n",
       "      <td>黄山楹联漫谈</td>\n",
       "      <td>他遍历祖国名山大川，见到无数奇峰怪石，却感到抵不上黄山峰林地貌之奇特怪异、千姿百态，于是高吟...</td>\n",
       "      <td>NaN</td>\n",
       "      <td>黄山楹联第一人当推明朝诗人余绍祉。他遍历祖国名山大川，见到无数奇峰怪石，却感到抵不上黄山峰...</td>\n",
       "      <td>黄山楹联第一人当推明朝诗人余绍祉。他遍历祖国名山大川，见到无数奇峰怪石，却感到抵...</td>\n",
       "      <td>&lt;!DOCTYPE html&gt;\\n&lt;html xmlns=\"http://www.w3.or...</td>\n",
       "      <td>NaN</td>\n",
       "      <td>598</td>\n",
       "      <td>楹联,联邀,祖国,见到,画,超群绝伦,自然风光,杜撰,用以,主席,诗人,赖少其,出,下,溪,...</td>\n",
       "    </tr>\n",
       "    <tr>\n",
       "      <th>3</th>\n",
       "      <td>2016-01-26</td>\n",
       "      <td>中安在线</td>\n",
       "      <td>anhuinews.com</td>\n",
       "      <td>http://cul.anhuinews.com/system/2016/01/26/007...</td>\n",
       "      <td>徽派雕刻——徽州木雕艺术</td>\n",
       "      <td>木雕在旧属徽州各县分布之广在全国屈指可数，宅院内的屏风、窗楹、栏柱，日常使用的床、桌、椅、案...</td>\n",
       "      <td>NaN</td>\n",
       "      <td>徽州民居、家具木板和圆木雕刻艺术的简称。木雕在旧属徽州各县分布之广在全国屈指可数，宅院内的...</td>\n",
       "      <td>徽州民居、家具木板和圆木雕刻艺术的简称。木雕在旧属徽州各县分布之广在...</td>\n",
       "      <td>&lt;!DOCTYPE html PUBLIC \"-//W3C//DTD XHTML 1.0 T...</td>\n",
       "      <td>NaN</td>\n",
       "      <td>211</td>\n",
       "      <td>文房,用具,无,宗教,乌木,杉树,人物,戏曲,雕刻,故事,楠木,银杏,艺术,山水,徽州,屈指...</td>\n",
       "    </tr>\n",
       "    <tr>\n",
       "      <th>4</th>\n",
       "      <td>2016-01-26</td>\n",
       "      <td>中安在线</td>\n",
       "      <td>anhuinews.com</td>\n",
       "      <td>http://cul.anhuinews.com/system/2016/01/26/007...</td>\n",
       "      <td>徽派雕刻——徽州砖雕艺术</td>\n",
       "      <td>在花鸟、动物为题材的砖雕里，较多出现的是狮子图案 从砖雕艺术风格来说，名代的风格比较叫古拙朴...</td>\n",
       "      <td>NaN</td>\n",
       "      <td>徽州砖雕徽州砖雕的造型，来源于汉画象砖。汉画象砖大都是模印砖坯刻画后入密烧制，嵌窃时再进行...</td>\n",
       "      <td>徽州砖雕徽州砖雕的造型，来源于汉画象砖。汉画象砖大都是模印砖坯刻画后入...</td>\n",
       "      <td>&lt;!DOCTYPE html PUBLIC \"-//W3C//DTD XHTML 1.0 T...</td>\n",
       "      <td>NaN</td>\n",
       "      <td>835</td>\n",
       "      <td>图案,工艺美术,事,亭台,砖,邓县,后期,结构,砖坯,注重,文明,传统,生活,造型,人民,装...</td>\n",
       "    </tr>\n",
       "  </tbody>\n",
       "</table>\n",
       "</div>"
      ],
      "text/plain": [
       "           dt source         domain  \\\n",
       "0  2016-11-28   中安在线  anhuinews.com   \n",
       "1  2016-11-21   中安在线  anhuinews.com   \n",
       "2  2016-11-03   中安在线  anhuinews.com   \n",
       "3  2016-01-26   中安在线  anhuinews.com   \n",
       "4  2016-01-26   中安在线  anhuinews.com   \n",
       "\n",
       "                                                 url          title  \\\n",
       "0  http://cul.anhuinews.com/system/2016/11/28/007...     洪建华夫妇的竹刻人生   \n",
       "1  http://cul.anhuinews.com/system/2016/11/21/007...  徽州民歌传人操明花校园授艺   \n",
       "2  http://cul.anhuinews.com/system/2016/11/03/007...         黄山楹联漫谈   \n",
       "3  http://cul.anhuinews.com/system/2016/01/26/007...   徽派雕刻——徽州木雕艺术   \n",
       "4  http://cul.anhuinews.com/system/2016/01/26/007...   徽派雕刻——徽州砖雕艺术   \n",
       "\n",
       "                                             summary  image  \\\n",
       "0  洪建华介绍说，新馆占地16亩、总建筑面积达1万多平方米，明年6月开馆后，人们在这里可以看到明...    NaN   \n",
       "1  近日，省非物质文化遗产徽州民歌传承人操明花前往休宁县海阳二小、歙县城关小学和徽州区岩寺镇中心...    NaN   \n",
       "2  他遍历祖国名山大川，见到无数奇峰怪石，却感到抵不上黄山峰林地貌之奇特怪异、千姿百态，于是高吟...    NaN   \n",
       "3  木雕在旧属徽州各县分布之广在全国屈指可数，宅院内的屏风、窗楹、栏柱，日常使用的床、桌、椅、案...    NaN   \n",
       "4  在花鸟、动物为题材的砖雕里，较多出现的是狮子图案 从砖雕艺术风格来说，名代的风格比较叫古拙朴...    NaN   \n",
       "\n",
       "                                               brief  \\\n",
       "0   谁能想到，洪建华夫妇这对一无学历、二无家传、三无师承的“三无大师”成了省级非物质文化遗产·...   \n",
       "1   近日，省非物质文化遗产徽州民歌传承人操明花前往休宁县海阳二小、歙县城关小学和徽州区岩寺镇中...   \n",
       "2   黄山楹联第一人当推明朝诗人余绍祉。他遍历祖国名山大川，见到无数奇峰怪石，却感到抵不上黄山峰...   \n",
       "3   徽州民居、家具木板和圆木雕刻艺术的简称。木雕在旧属徽州各县分布之广在全国屈指可数，宅院内的...   \n",
       "4   徽州砖雕徽州砖雕的造型，来源于汉画象砖。汉画象砖大都是模印砖坯刻画后入密烧制，嵌窃时再进行...   \n",
       "\n",
       "                                                body  \\\n",
       "0        谁能想到，洪建华夫妇这对一无学历、二无家传、三无师承的“三无大师”成了省级非物质...   \n",
       "1        近日，省非物质文化遗产徽州民歌传承人操明花前往休宁县海阳二小、歙县城关小学和徽州...   \n",
       "2        黄山楹联第一人当推明朝诗人余绍祉。他遍历祖国名山大川，见到无数奇峰怪石，却感到抵...   \n",
       "3              徽州民居、家具木板和圆木雕刻艺术的简称。木雕在旧属徽州各县分布之广在...   \n",
       "4             徽州砖雕徽州砖雕的造型，来源于汉画象砖。汉画象砖大都是模印砖坯刻画后入...   \n",
       "\n",
       "                                            raw_page from  body_len  \\\n",
       "0  <!DOCTYPE html>\\n<html xmlns=\"http://www.w3.or...  NaN      3129   \n",
       "1  <!DOCTYPE html>\\n<html xmlns=\"http://www.w3.or...  NaN       382   \n",
       "2  <!DOCTYPE html>\\n<html xmlns=\"http://www.w3.or...  NaN       598   \n",
       "3  <!DOCTYPE html PUBLIC \"-//W3C//DTD XHTML 1.0 T...  NaN       211   \n",
       "4  <!DOCTYPE html PUBLIC \"-//W3C//DTD XHTML 1.0 T...  NaN       835   \n",
       "\n",
       "                                           key_words  \n",
       "0  中国,博物馆,文化,徽派,创作,安徽,保护,大师,收藏,传承,技艺,笔筒,精品,洪,说,建华...  \n",
       "1  学,泥土,歌声,高潮迭起,休宁县,人,同学,操明花,歙县,磨米磨麦,动听,文化,徽,声,方言...  \n",
       "2  楹联,联邀,祖国,见到,画,超群绝伦,自然风光,杜撰,用以,主席,诗人,赖少其,出,下,溪,...  \n",
       "3  文房,用具,无,宗教,乌木,杉树,人物,戏曲,雕刻,故事,楠木,银杏,艺术,山水,徽州,屈指...  \n",
       "4  图案,工艺美术,事,亭台,砖,邓县,后期,结构,砖坯,注重,文明,传统,生活,造型,人民,装...  "
      ]
     },
     "execution_count": 16,
     "metadata": {},
     "output_type": "execute_result"
    }
   ],
   "source": [
    "non_solr_df_clean.head()"
   ]
  },
  {
   "cell_type": "code",
   "execution_count": 20,
   "metadata": {
    "collapsed": false
   },
   "outputs": [],
   "source": [
    "sub_solr_df = solr_df[['url', 'title']]"
   ]
  },
  {
   "cell_type": "code",
   "execution_count": 29,
   "metadata": {
    "collapsed": false
   },
   "outputs": [
    {
     "name": "stderr",
     "output_type": "stream",
     "text": [
      "/usr/local/lib/python2.7/site-packages/ipykernel/__main__.py:2: SettingWithCopyWarning: \n",
      "A value is trying to be set on a copy of a slice from a DataFrame.\n",
      "Try using .loc[row_indexer,col_indexer] = value instead\n",
      "\n",
      "See the caveats in the documentation: http://pandas.pydata.org/pandas-docs/stable/indexing.html#indexing-view-versus-copy\n",
      "  from ipykernel import kernelapp as app\n"
     ]
    }
   ],
   "source": [
    "import tldextract\n",
    "sub_solr_df['domain']  = sub_solr_df.url.map(lambda x:tldextract.extract(x).domain + str('.') + tldextract.extract(x).suffix)"
   ]
  },
  {
   "cell_type": "code",
   "execution_count": 23,
   "metadata": {
    "collapsed": false
   },
   "outputs": [
    {
     "name": "stderr",
     "output_type": "stream",
     "text": [
      "/usr/local/lib/python2.7/site-packages/ipykernel/__main__.py:1: SettingWithCopyWarning: \n",
      "A value is trying to be set on a copy of a slice from a DataFrame.\n",
      "Try using .loc[row_indexer,col_indexer] = value instead\n",
      "\n",
      "See the caveats in the documentation: http://pandas.pydata.org/pandas-docs/stable/indexing.html#indexing-view-versus-copy\n",
      "  if __name__ == '__main__':\n"
     ]
    }
   ],
   "source": [
    "sub_solr_df['body'] = solr_df['content']"
   ]
  },
  {
   "cell_type": "code",
   "execution_count": 7,
   "metadata": {
    "collapsed": false
   },
   "outputs": [],
   "source": [
    "for i in range(0, len(non_solr_df_clean)):\n",
    "    url = non_solr_df_clean.loc[i]['url']\n",
    "    body = non_solr_df_clean.loc[i]['body']\n",
    "    print '----', i, url\n",
    "    print body"
   ]
  },
  {
   "cell_type": "code",
   "execution_count": null,
   "metadata": {
    "collapsed": true
   },
   "outputs": [],
   "source": []
  }
 ],
 "metadata": {
  "kernelspec": {
   "display_name": "Python 2",
   "language": "python",
   "name": "python2"
  },
  "language_info": {
   "codemirror_mode": {
    "name": "ipython",
    "version": 2
   },
   "file_extension": ".py",
   "mimetype": "text/x-python",
   "name": "python",
   "nbconvert_exporter": "python",
   "pygments_lexer": "ipython2",
   "version": "2.7.10"
  }
 },
 "nbformat": 4,
 "nbformat_minor": 2
}
