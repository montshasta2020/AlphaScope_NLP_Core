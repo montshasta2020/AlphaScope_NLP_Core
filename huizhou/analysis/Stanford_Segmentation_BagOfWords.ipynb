{
 "cells": [
  {
   "cell_type": "code",
   "execution_count": 229,
   "metadata": {
    "collapsed": true
   },
   "outputs": [],
   "source": [
    "import sys  \n",
    "reload(sys)  \n",
    "sys.setdefaultencoding('utf-8')"
   ]
  },
  {
   "cell_type": "code",
   "execution_count": 230,
   "metadata": {
    "collapsed": true
   },
   "outputs": [],
   "source": [
    "from nltk.tokenize.stanford_segmenter import StanfordSegmenter"
   ]
  },
  {
   "cell_type": "code",
   "execution_count": 231,
   "metadata": {
    "collapsed": true
   },
   "outputs": [],
   "source": [
    "import pandas as pd\n",
    "from collections import Counter"
   ]
  },
  {
   "cell_type": "code",
   "execution_count": null,
   "metadata": {
    "collapsed": true
   },
   "outputs": [],
   "source": []
  },
  {
   "cell_type": "code",
   "execution_count": 232,
   "metadata": {
    "collapsed": false
   },
   "outputs": [],
   "source": [
    "tot1 = []"
   ]
  },
  {
   "cell_type": "code",
   "execution_count": 233,
   "metadata": {
    "collapsed": true
   },
   "outputs": [],
   "source": [
    "df1 = pd.read_csv('/Users/nhu2000/desktop/huizhou/data/complete/xinhs_huixueyuandi_segments.csv')"
   ]
  },
  {
   "cell_type": "code",
   "execution_count": 234,
   "metadata": {
    "collapsed": false
   },
   "outputs": [],
   "source": [
    "for t in df1['segments']:\n",
    "    t0 = t.split(' ')\n",
    "    #print typCe(t0), type(tot-1)\n",
    "    tot1.extend(t0)\n",
    "    print len(tot1)"
   ]
  },
  {
   "cell_type": "code",
   "execution_count": 235,
   "metadata": {
    "collapsed": false
   },
   "outputs": [],
   "source": [
    "count1 = Counter(tot1)"
   ]
  },
  {
   "cell_type": "code",
   "execution_count": 236,
   "metadata": {
    "collapsed": true
   },
   "outputs": [],
   "source": [
    "most_common_words1 = count1.most_common(500)"
   ]
  },
  {
   "cell_type": "code",
   "execution_count": 237,
   "metadata": {
    "collapsed": false
   },
   "outputs": [],
   "source": [
    "for i in range(0, len(most_common_words1)):\n",
    "    print most_common_words1[i][0], most_common_words1[i][1] "
   ]
  },
  {
   "cell_type": "code",
   "execution_count": 238,
   "metadata": {
    "collapsed": true
   },
   "outputs": [],
   "source": [
    "tot2 = []"
   ]
  },
  {
   "cell_type": "code",
   "execution_count": 239,
   "metadata": {
    "collapsed": true
   },
   "outputs": [],
   "source": [
    "df2 = pd.read_csv('/Users/nhu2000/desktop/huizhou/data/complete/hzwh_huixueyuanpu_segments.csv')"
   ]
  },
  {
   "cell_type": "code",
   "execution_count": 240,
   "metadata": {
    "collapsed": false
   },
   "outputs": [],
   "source": [
    "for t in df2['segments']:\n",
    "    t0 = t.split(' ')\n",
    "    #print typCe(t0), type(tot-1)\n",
    "    tot2.extend(t0)\n",
    "    print len(tot2)"
   ]
  },
  {
   "cell_type": "code",
   "execution_count": 241,
   "metadata": {
    "collapsed": true
   },
   "outputs": [],
   "source": [
    "count2 = Counter(tot2)"
   ]
  },
  {
   "cell_type": "code",
   "execution_count": 242,
   "metadata": {
    "collapsed": true
   },
   "outputs": [],
   "source": [
    "most_common_words2 = count2.most_common(500)"
   ]
  },
  {
   "cell_type": "code",
   "execution_count": 243,
   "metadata": {
    "collapsed": false
   },
   "outputs": [],
   "source": [
    "for i in range(0, len(most_common_words2)):\n",
    "    print most_common_words2[i][0], most_common_words2[i][1] "
   ]
  },
  {
   "cell_type": "code",
   "execution_count": 244,
   "metadata": {
    "collapsed": true
   },
   "outputs": [],
   "source": [
    "tot3 = []"
   ]
  },
  {
   "cell_type": "code",
   "execution_count": 245,
   "metadata": {
    "collapsed": true
   },
   "outputs": [],
   "source": [
    "df3 = pd.read_csv('/Users/nhu2000/desktop/huizhou/data/complete/weixin_huizhou_segments.csv')"
   ]
  },
  {
   "cell_type": "code",
   "execution_count": 246,
   "metadata": {
    "collapsed": false
   },
   "outputs": [],
   "source": [
    "for t in df3['segments']:\n",
    "    t0 = t.split(' ')\n",
    "    #print typCe(t0), type(tot-1)\n",
    "    tot3.extend(t0)\n",
    "    print len(tot3)"
   ]
  },
  {
   "cell_type": "code",
   "execution_count": 247,
   "metadata": {
    "collapsed": true
   },
   "outputs": [],
   "source": [
    "count3 = Counter(tot3)"
   ]
  },
  {
   "cell_type": "code",
   "execution_count": 248,
   "metadata": {
    "collapsed": true
   },
   "outputs": [],
   "source": [
    "most_common_words3 = count3.most_common(500)"
   ]
  },
  {
   "cell_type": "code",
   "execution_count": 249,
   "metadata": {
    "collapsed": false
   },
   "outputs": [],
   "source": [
    "for i in range(0, len(most_common_words3)):\n",
    "    print most_common_words3[i][0], most_common_words3[i][1] "
   ]
  },
  {
   "cell_type": "code",
   "execution_count": 250,
   "metadata": {
    "collapsed": true
   },
   "outputs": [],
   "source": [
    "Baidu_CH_Stopwords_list = ['按,按照,俺,俺们,阿', \n",
    "                      '别,别人,别处,别是,别的,别管,别说,不,不仅,不但,不光,不单,不只,不外乎,不如,不妨,不尽,不尽然,不得,不怕,不惟,不成,不拘,不料,不是,不比,不然,不特,不独,不管, 不至于, 不若, 不论, 不过, 不问, 比方, 比如, 比及, 比, 本身, 本着, 本地, 本人, 本, 巴巴, 巴, 并, 并且, 非彼, 彼时, 彼此, 便于, 把, 边, 鄙人, 罢了, 被, 般的',\n",
    "                     '此间,此次,此时,此外,此处,此地,此,才,才能,朝,朝着,从,从此,从而,除非,除此之外,除开,除外,除了,除,诚然,诚如,出来,出于,曾,趁着,趁,处在,乘,冲',\n",
    "                     '等等,等到,等,第,当着,当然,当地,当,多,多么,多少,对,对于,对待,对方,对比,得,得了,打,打从,的,的确,的话,但,但凡,但是,大家,大,地,待,都,到,叮咚',\n",
    "                     '而言,而是,而已,而外,而后,而况,而且,而,尔尔,尔后,尔,二来',\n",
    "                     '非独,非特,非徒,非但,否则,反过来说,反过来,反而,反之,分别,凡是,凡',\n",
    "                     '个,个别,固然,故,故此,故而,果然,果真,各,各个,各位,各种,各自,关于具体地说,归齐,归,根据,管,赶,跟,过,该,给,光是',\n",
    "                     '或者,或曰,或是,或则,或,何,何以,何况,何处,何时,还要,还有,还是,还,后者,很,换言之,换句话说,好,后,和',\n",
    "                     '即,即令,即使,即便,即如,即或,即若,继而,继后,继之,既然,既是,既往,既,尽管如此,尽管,尽,就要,就算,就是说,就是了,就是,就,据,据此,接着,经,经过,结果,及,及其,及至,加以,加之,例如,介于,几时,几,截至,极了,简言之,竟而,紧接着,距,较之,较,进而,鉴于,基于,具体说来,兼之,借傥然,今,叫,将',\n",
    "                     '可,可以,可是,可见,开始,开外,况且,靠,看',\n",
    "                     '来说,来自,来着,来,两者,临,类如,论,赖以,连,连同,离',\n",
    "                     '莫若,莫如,莫不然,假使,假如,假若,某,某个,某些,某某,漫说,没奈何,每当,每,慢说,冒',\n",
    "                     '哪个,哪些,哪儿,哪天,哪年,哪怕,哪样,哪边,哪里,那里,那边,那般,那样,那时,那儿,那会儿,那些,那么样,那么些,那么,那个,那,乃,乃至,乃至于,宁肯,宁愿,宁可,宁,能,能否,你,你们,您,拿,难道说,内,哪',\n",
    "                     '凭借,凭,旁人,譬如, 譬喻',\n",
    "                     '且,且不说,且说,其,其一,其中,其二,其他,其余,其它,其次,前后,前此,前者,起见,起,全部,全体,恰恰相反,岂但,却,去',\n",
    "                     '若非,若果,若是,若夫,若,另,另一方面,另外,另悉,如若,如此,如果,如是,如同,如其,如何,如下,如上所述,如上,如,然则,然后,然而,任,任何,任凭,仍,仍旧,人家,人们,人,让',\n",
    "                     '甚至于,甚至,甚而,甚或,甚么,甚且,什么,什么样,上,上下,虽说,虽然,虽则,虽,孰知,孰料,始而,所,所以,所在,所幸,所有,是,是以,是的,设使,设或,设若,谁,谁人,谁料,谁知,随着,随时,随后,随,顺着,顺,受到,使得,使,似的,尚且,庶几,庶乎,时候,省得,说来,首先',\n",
    "                     '倘,倘使,倘或,倘然,倘若,同,同时,他,他人,他们们,她们,她,它们,它,替代,替,通过,腾', \n",
    "                     '这里,这边,这般,这次,这样,这时,这就是说,这儿,这会儿,这些,这么点儿,这么样,这么些,这么,这个,这一来,这,正是,正巧,正如,正值',\n",
    "                     '万一,为,为了,为什么,为何,为止,为此,为着,无论,无宁,无,我们,我,往,望,惟其,唯有',\n",
    "                     '下,向着,向使,向,先不先,相对而言,许多,像,小,些',\n",
    "                     '一,一些,一何,一切,一则,一方面,一旦,一来,一样,一般,一转眼,,由此可见,由此,由是,由于,由,用来,因而,因着,因此,因了,因为,因,要是,要么,要不然,要不是,要不,要,与,与其,与其说,与否,与此同时,以,以上,以为,以便,以免,以及,以故,以期,以来,以至,以至于,以致,己,已,已矣,有,有些,有关,有及,有时,有的,沿,沿着,于,于是,于是乎,云云,云尔,依照,依据,依,余外,也罢,也好,也,又及,又,抑或,犹自,犹且,用,越是',\n",
    "                     '只当,只怕,只是,只有,只消,只要,只限,再,再其次,再则,再有,再者,再者说,再说,自身,自打,自己,自家,自后,自各儿,自从,自个儿,自,怎样,怎奈,怎么样,怎么办,怎么,怎,至若,至今,至于,至,纵然,纵使,纵令,纵,之,之一,之所以,之类,着呢,着,眨眼,总而言之,总的说来,总的来说,总的来看,总之,在于,在下,在,诸,诸位,诸如,咱们,咱,作为,只,最,照着,照,直到,综上所述,贼死,逐步,遵照,遵循,针对,致,者,则甚,则',\n",
    "                     '咳,哇,哈,哈哈,哉,哎,哎呀,哎哟,哗,哟,哦,哩,矣哉,矣乎,矣,焉,毋宁,欤,嘿嘿,嘿,嘻,嘛,嘘,嘎登,嘎,嗳,嗯,嗬,嗡嗡,嗡,喽,喔唷,喏,喂,啷当,啪达,啦,啥,啐,啊,唉,哼唷,哼,咧,咦,咚,咋,呼哧,呸,呵呵,呵,呢,呜呼,呜,呗,呕,呃,呀,吱,吧哒,吧,吗,吓,兮,儿,亦,了,乎']"
   ]
  },
  {
   "cell_type": "code",
   "execution_count": 252,
   "metadata": {
    "collapsed": false
   },
   "outputs": [],
   "source": [
    "Baidu_CH_Stopwords_list_ext = ['中', '年', '说', '一个', '个', '三', '两', '出', '时', '下', '四', '里', '更', '二', '第一',\n",
    "                               '十', '条', '五', '少', '千', '一直', '七', '次', '即', '便 ', '让', '则', '将', '种',\n",
    "                               '非常', '不同', '一定', '需要',\n",
    "                               '1', '2', '3', '4', '5', '6', '7', '8', '9', '10', \n",
    "                              '）', ',', '(', '？', ',', '。', ',', '’', ';', '‘', '！', '“', '\"', '……', '。',\n",
    "                              '】']"
   ]
  },
  {
   "cell_type": "code",
   "execution_count": 253,
   "metadata": {
    "collapsed": true
   },
   "outputs": [],
   "source": [
    "def is_not_chinese_symbol(token):\n",
    "    if token == u'\\u201c' or token == u'\\u201d':\n",
    "        return False\n",
    "    elif token == u'\\uff0c' or token == u'\\u3002':\n",
    "        return False\n",
    "    elif token == u'\\u3001' or token == u'\\u300b':\n",
    "        return False\n",
    "    elif token == u'\\u300a' or token == u'\\uff1a':\n",
    "        return False\n",
    "    elif token == u'\\uff1b' or token == u'\\uff09':\n",
    "        return False\n",
    "    elif token == u')' or token == u'(':\n",
    "        return False\n",
    "    elif token == ',':\n",
    "        return False\n",
    "    elif token == u'\\uff08' or token == u'\\u4e00':\n",
    "        return False\n",
    "    elif token == u'-' or token == u':':\n",
    "        return False\n",
    "    elif token == u'\\u548c' or  token == u'>': \n",
    "        return False\n",
    "    elif token == u'\\xb7' or  token == u'\\u2014\\u2014':         \n",
    "        return False\n",
    "\n",
    "    return True"
   ]
  },
  {
   "cell_type": "code",
   "execution_count": 254,
   "metadata": {
    "collapsed": true
   },
   "outputs": [],
   "source": [
    "combined_str = ''.decode('utf-8')\n",
    "for words in Baidu_CH_Stopwords_list:\n",
    "    combined_str = combined_str + words.decode('utf-8') "
   ]
  },
  {
   "cell_type": "code",
   "execution_count": 255,
   "metadata": {
    "collapsed": false
   },
   "outputs": [],
   "source": [
    "Baidu_CH_Stopwords0 = combined_str.split(',') + Baidu_CH_Stopwords_list_ext"
   ]
  },
  {
   "cell_type": "code",
   "execution_count": 256,
   "metadata": {
    "collapsed": true
   },
   "outputs": [],
   "source": [
    "for t in Baidu_CH_Stopwords0:\n",
    "    print t"
   ]
  },
  {
   "cell_type": "code",
   "execution_count": 257,
   "metadata": {
    "collapsed": true
   },
   "outputs": [],
   "source": [
    "Baidu_CH_Stopwords = [x.strip() for x in Baidu_CH_Stopwords0]"
   ]
  },
  {
   "cell_type": "code",
   "execution_count": 258,
   "metadata": {
    "collapsed": false
   },
   "outputs": [],
   "source": [
    "print len(Baidu_CH_Stopwords)\n",
    "print Baidu_CH_Stopwords"
   ]
  },
  {
   "cell_type": "code",
   "execution_count": 259,
   "metadata": {
    "collapsed": false
   },
   "outputs": [],
   "source": [
    "tokens_no_stopwords1 = [token for token in most_common_words1 if token[0] not in Baidu_CH_Stopwords and is_not_chinese_symbol(token[0])] "
   ]
  },
  {
   "cell_type": "code",
   "execution_count": 260,
   "metadata": {
    "collapsed": false
   },
   "outputs": [],
   "source": [
    "print len(tokens_no_stopwords1), len(a)"
   ]
  },
  {
   "cell_type": "code",
   "execution_count": 261,
   "metadata": {
    "collapsed": true
   },
   "outputs": [],
   "source": [
    "for i in range(0, len(tokens_no_stopwords1)):\n",
    "    print i, tokens_no_stopwords1[i][0], tokens_no_stopwords1[i][1]"
   ]
  },
  {
   "cell_type": "code",
   "execution_count": 262,
   "metadata": {
    "collapsed": false
   },
   "outputs": [],
   "source": [
    "tokens_no_stopwords2 = [token for token in most_common_words2 if token[0] not in Baidu_CH_Stopwords and is_not_chinese_symbol(token[0])] "
   ]
  },
  {
   "cell_type": "code",
   "execution_count": 263,
   "metadata": {
    "collapsed": true
   },
   "outputs": [],
   "source": [
    "print len(tokens_no_stopwords2), len(a)"
   ]
  },
  {
   "cell_type": "code",
   "execution_count": 264,
   "metadata": {
    "collapsed": true
   },
   "outputs": [],
   "source": [
    "for i in range(0, len(tokens_no_stopwords2)):\n",
    "    print i, tokens_no_stopwords2[i][0], tokens_no_stopwords2[i][1]"
   ]
  },
  {
   "cell_type": "code",
   "execution_count": 265,
   "metadata": {
    "collapsed": true
   },
   "outputs": [],
   "source": [
    "tokens_no_stopwords3 = [token for token in most_common_words3 if token[0] not in Baidu_CH_Stopwords and is_not_chinese_symbol(token[0])] "
   ]
  },
  {
   "cell_type": "code",
   "execution_count": 266,
   "metadata": {
    "collapsed": true
   },
   "outputs": [],
   "source": [
    "print len(tokens_no_stopwords3), len(a)"
   ]
  },
  {
   "cell_type": "code",
   "execution_count": 267,
   "metadata": {
    "collapsed": true
   },
   "outputs": [],
   "source": [
    "for i in range(0, len(tokens_no_stopwords3)):\n",
    "    print i, tokens_no_stopwords3[i][0], tokens_no_stopwords3[i][1]"
   ]
  },
  {
   "cell_type": "code",
   "execution_count": 268,
   "metadata": {
    "collapsed": true
   },
   "outputs": [],
   "source": [
    "tot = []\n",
    "tot.extend(tot1)\n",
    "tot.extend(tot2)\n",
    "tot.extend(tot3)"
   ]
  },
  {
   "cell_type": "code",
   "execution_count": 269,
   "metadata": {
    "collapsed": true
   },
   "outputs": [],
   "source": [
    "count = Counter(tot)"
   ]
  },
  {
   "cell_type": "code",
   "execution_count": 270,
   "metadata": {
    "collapsed": true
   },
   "outputs": [],
   "source": [
    "most_common_words = count.most_common()"
   ]
  },
  {
   "cell_type": "code",
   "execution_count": 271,
   "metadata": {
    "collapsed": true
   },
   "outputs": [],
   "source": [
    "print len(most_common_words)"
   ]
  },
  {
   "cell_type": "code",
   "execution_count": 272,
   "metadata": {
    "collapsed": true
   },
   "outputs": [],
   "source": [
    "tokens_no_stopwords = [token for token in most_common_words if token[0] not in Baidu_CH_Stopwords and is_not_chinese_symbol(token[0])] "
   ]
  },
  {
   "cell_type": "code",
   "execution_count": 273,
   "metadata": {
    "collapsed": false
   },
   "outputs": [],
   "source": [
    "s=0\n",
    "for s0 in tokens_no_stopwords:\n",
    "    s += s0[1]"
   ]
  },
  {
   "cell_type": "code",
   "execution_count": 274,
   "metadata": {
    "collapsed": true
   },
   "outputs": [],
   "source": [
    "print s, len(tot)"
   ]
  },
  {
   "cell_type": "code",
   "execution_count": 275,
   "metadata": {
    "collapsed": false
   },
   "outputs": [],
   "source": [
    "for i in range(0, len(tokens_no_stopwords)):\n",
    "    t = tokens_no_stopwords[i][1]\n",
    "    print i, tokens_no_stopwords[i][0], tokens_no_stopwords[i][1], t*100.0/s"
   ]
  },
  {
   "cell_type": "code",
   "execution_count": 276,
   "metadata": {
    "collapsed": true
   },
   "outputs": [],
   "source": [
    "def get_columns2():\n",
    "    return ('segments', 'count') \n",
    "def get_empty_columns2():\n",
    "    return ('', '') "
   ]
  },
  {
   "cell_type": "code",
   "execution_count": 277,
   "metadata": {
    "collapsed": true
   },
   "outputs": [],
   "source": [
    "new_df = pd.DataFrame(columns = get_columns2())"
   ]
  },
  {
   "cell_type": "markdown",
   "metadata": {},
   "source": [
    "idx = 0\n",
    "for t in tokens_no_stopwords:\n",
    "    new_df.loc[idx] = get_empty_columns2()\n",
    "    new_df.loc[idx]['segments'] = t[0]\n",
    "    new_df.loc[idx]['count'] = t[1]\n",
    "    idx += 1"
   ]
  },
  {
   "cell_type": "code",
   "execution_count": 279,
   "metadata": {
    "collapsed": false
   },
   "outputs": [],
   "source": [
    "new_df = pd.DataFrame(tokens_no_stopwords, columns=['segments', 'count'])"
   ]
  },
  {
   "cell_type": "code",
   "execution_count": 290,
   "metadata": {
    "collapsed": false
   },
   "outputs": [
    {
     "data": {
      "text/html": [
       "<div>\n",
       "<table border=\"1\" class=\"dataframe\">\n",
       "  <thead>\n",
       "    <tr style=\"text-align: right;\">\n",
       "      <th></th>\n",
       "      <th>segments</th>\n",
       "      <th>count</th>\n",
       "      <th>ratio</th>\n",
       "    </tr>\n",
       "  </thead>\n",
       "  <tbody>\n",
       "    <tr>\n",
       "      <th>0</th>\n",
       "      <td>徽州</td>\n",
       "      <td>12799</td>\n",
       "      <td>0.630706</td>\n",
       "    </tr>\n",
       "    <tr>\n",
       "      <th>1</th>\n",
       "      <td>文化</td>\n",
       "      <td>8661</td>\n",
       "      <td>0.426794</td>\n",
       "    </tr>\n",
       "    <tr>\n",
       "      <th>2</th>\n",
       "      <td>徽商</td>\n",
       "      <td>3755</td>\n",
       "      <td>0.185038</td>\n",
       "    </tr>\n",
       "    <tr>\n",
       "      <th>3</th>\n",
       "      <td>中国</td>\n",
       "      <td>3001</td>\n",
       "      <td>0.147882</td>\n",
       "    </tr>\n",
       "    <tr>\n",
       "      <th>4</th>\n",
       "      <td>徽</td>\n",
       "      <td>2927</td>\n",
       "      <td>0.144236</td>\n",
       "    </tr>\n",
       "    <tr>\n",
       "      <th>5</th>\n",
       "      <td>历史</td>\n",
       "      <td>2711</td>\n",
       "      <td>0.133592</td>\n",
       "    </tr>\n",
       "    <tr>\n",
       "      <th>6</th>\n",
       "      <td>发展</td>\n",
       "      <td>2565</td>\n",
       "      <td>0.126397</td>\n",
       "    </tr>\n",
       "    <tr>\n",
       "      <th>7</th>\n",
       "      <td>胡</td>\n",
       "      <td>2485</td>\n",
       "      <td>0.122455</td>\n",
       "    </tr>\n",
       "    <tr>\n",
       "      <th>8</th>\n",
       "      <td>村</td>\n",
       "      <td>2483</td>\n",
       "      <td>0.122357</td>\n",
       "    </tr>\n",
       "    <tr>\n",
       "      <th>9</th>\n",
       "      <td>古</td>\n",
       "      <td>2411</td>\n",
       "      <td>0.118809</td>\n",
       "    </tr>\n",
       "    <tr>\n",
       "      <th>10</th>\n",
       "      <td>汪</td>\n",
       "      <td>2268</td>\n",
       "      <td>0.111762</td>\n",
       "    </tr>\n",
       "    <tr>\n",
       "      <th>11</th>\n",
       "      <td>黄山</td>\n",
       "      <td>2192</td>\n",
       "      <td>0.108017</td>\n",
       "    </tr>\n",
       "    <tr>\n",
       "      <th>12</th>\n",
       "      <td>歙县</td>\n",
       "      <td>2172</td>\n",
       "      <td>0.107031</td>\n",
       "    </tr>\n",
       "    <tr>\n",
       "      <th>13</th>\n",
       "      <td>山</td>\n",
       "      <td>1971</td>\n",
       "      <td>0.097126</td>\n",
       "    </tr>\n",
       "    <tr>\n",
       "      <th>14</th>\n",
       "      <td>研究</td>\n",
       "      <td>1892</td>\n",
       "      <td>0.093233</td>\n",
       "    </tr>\n",
       "    <tr>\n",
       "      <th>15</th>\n",
       "      <td>家</td>\n",
       "      <td>1880</td>\n",
       "      <td>0.092642</td>\n",
       "    </tr>\n",
       "    <tr>\n",
       "      <th>16</th>\n",
       "      <td>他们</td>\n",
       "      <td>1801</td>\n",
       "      <td>0.088749</td>\n",
       "    </tr>\n",
       "    <tr>\n",
       "      <th>17</th>\n",
       "      <td>成</td>\n",
       "      <td>1712</td>\n",
       "      <td>0.084363</td>\n",
       "    </tr>\n",
       "    <tr>\n",
       "      <th>18</th>\n",
       "      <td>程</td>\n",
       "      <td>1709</td>\n",
       "      <td>0.084216</td>\n",
       "    </tr>\n",
       "    <tr>\n",
       "      <th>19</th>\n",
       "      <td>社会</td>\n",
       "      <td>1686</td>\n",
       "      <td>0.083082</td>\n",
       "    </tr>\n",
       "    <tr>\n",
       "      <th>20</th>\n",
       "      <td>名</td>\n",
       "      <td>1611</td>\n",
       "      <td>0.079386</td>\n",
       "    </tr>\n",
       "    <tr>\n",
       "      <th>21</th>\n",
       "      <td>新安</td>\n",
       "      <td>1490</td>\n",
       "      <td>0.073424</td>\n",
       "    </tr>\n",
       "    <tr>\n",
       "      <th>22</th>\n",
       "      <td>王</td>\n",
       "      <td>1473</td>\n",
       "      <td>0.072586</td>\n",
       "    </tr>\n",
       "    <tr>\n",
       "      <th>23</th>\n",
       "      <td>会</td>\n",
       "      <td>1461</td>\n",
       "      <td>0.071995</td>\n",
       "    </tr>\n",
       "    <tr>\n",
       "      <th>24</th>\n",
       "      <td>字</td>\n",
       "      <td>1456</td>\n",
       "      <td>0.071748</td>\n",
       "    </tr>\n",
       "    <tr>\n",
       "      <th>25</th>\n",
       "      <td>建筑</td>\n",
       "      <td>1434</td>\n",
       "      <td>0.070664</td>\n",
       "    </tr>\n",
       "    <tr>\n",
       "      <th>26</th>\n",
       "      <td>休宁</td>\n",
       "      <td>1401</td>\n",
       "      <td>0.069038</td>\n",
       "    </tr>\n",
       "    <tr>\n",
       "      <th>27</th>\n",
       "      <td>新</td>\n",
       "      <td>1393</td>\n",
       "      <td>0.068644</td>\n",
       "    </tr>\n",
       "    <tr>\n",
       "      <th>28</th>\n",
       "      <td>茶</td>\n",
       "      <td>1370</td>\n",
       "      <td>0.067510</td>\n",
       "    </tr>\n",
       "    <tr>\n",
       "      <th>29</th>\n",
       "      <td>传统</td>\n",
       "      <td>1347</td>\n",
       "      <td>0.066377</td>\n",
       "    </tr>\n",
       "    <tr>\n",
       "      <th>...</th>\n",
       "      <td>...</td>\n",
       "      <td>...</td>\n",
       "      <td>...</td>\n",
       "    </tr>\n",
       "    <tr>\n",
       "      <th>70</th>\n",
       "      <td>思想</td>\n",
       "      <td>971</td>\n",
       "      <td>0.047849</td>\n",
       "    </tr>\n",
       "    <tr>\n",
       "      <th>71</th>\n",
       "      <td>石</td>\n",
       "      <td>966</td>\n",
       "      <td>0.047602</td>\n",
       "    </tr>\n",
       "    <tr>\n",
       "      <th>72</th>\n",
       "      <td>村落</td>\n",
       "      <td>962</td>\n",
       "      <td>0.047405</td>\n",
       "    </tr>\n",
       "    <tr>\n",
       "      <th>73</th>\n",
       "      <td>黟县</td>\n",
       "      <td>954</td>\n",
       "      <td>0.047011</td>\n",
       "    </tr>\n",
       "    <tr>\n",
       "      <th>74</th>\n",
       "      <td>地方</td>\n",
       "      <td>950</td>\n",
       "      <td>0.046814</td>\n",
       "    </tr>\n",
       "    <tr>\n",
       "      <th>75</th>\n",
       "      <td>建</td>\n",
       "      <td>947</td>\n",
       "      <td>0.046666</td>\n",
       "    </tr>\n",
       "    <tr>\n",
       "      <th>76</th>\n",
       "      <td>水</td>\n",
       "      <td>942</td>\n",
       "      <td>0.046420</td>\n",
       "    </tr>\n",
       "    <tr>\n",
       "      <th>77</th>\n",
       "      <td>生活</td>\n",
       "      <td>939</td>\n",
       "      <td>0.046272</td>\n",
       "    </tr>\n",
       "    <tr>\n",
       "      <th>78</th>\n",
       "      <td>商人</td>\n",
       "      <td>936</td>\n",
       "      <td>0.046124</td>\n",
       "    </tr>\n",
       "    <tr>\n",
       "      <th>79</th>\n",
       "      <td>岁</td>\n",
       "      <td>934</td>\n",
       "      <td>0.046025</td>\n",
       "    </tr>\n",
       "    <tr>\n",
       "      <th>80</th>\n",
       "      <td>工作</td>\n",
       "      <td>927</td>\n",
       "      <td>0.045680</td>\n",
       "    </tr>\n",
       "    <tr>\n",
       "      <th>81</th>\n",
       "      <td>婺源</td>\n",
       "      <td>921</td>\n",
       "      <td>0.045385</td>\n",
       "    </tr>\n",
       "    <tr>\n",
       "      <th>82</th>\n",
       "      <td>进行</td>\n",
       "      <td>921</td>\n",
       "      <td>0.045385</td>\n",
       "    </tr>\n",
       "    <tr>\n",
       "      <th>83</th>\n",
       "      <td>主要</td>\n",
       "      <td>915</td>\n",
       "      <td>0.045089</td>\n",
       "    </tr>\n",
       "    <tr>\n",
       "      <th>84</th>\n",
       "      <td>族</td>\n",
       "      <td>913</td>\n",
       "      <td>0.044991</td>\n",
       "    </tr>\n",
       "    <tr>\n",
       "      <th>85</th>\n",
       "      <td>艺术</td>\n",
       "      <td>900</td>\n",
       "      <td>0.044350</td>\n",
       "    </tr>\n",
       "    <tr>\n",
       "      <th>86</th>\n",
       "      <td>全国</td>\n",
       "      <td>899</td>\n",
       "      <td>0.044301</td>\n",
       "    </tr>\n",
       "    <tr>\n",
       "      <th>87</th>\n",
       "      <td>进</td>\n",
       "      <td>899</td>\n",
       "      <td>0.044301</td>\n",
       "    </tr>\n",
       "    <tr>\n",
       "      <th>88</th>\n",
       "      <td>张</td>\n",
       "      <td>895</td>\n",
       "      <td>0.044104</td>\n",
       "    </tr>\n",
       "    <tr>\n",
       "      <th>89</th>\n",
       "      <td>看</td>\n",
       "      <td>879</td>\n",
       "      <td>0.043315</td>\n",
       "    </tr>\n",
       "    <tr>\n",
       "      <th>90</th>\n",
       "      <td>明清</td>\n",
       "      <td>873</td>\n",
       "      <td>0.043019</td>\n",
       "    </tr>\n",
       "    <tr>\n",
       "      <th>91</th>\n",
       "      <td>见</td>\n",
       "      <td>864</td>\n",
       "      <td>0.042576</td>\n",
       "    </tr>\n",
       "    <tr>\n",
       "      <th>92</th>\n",
       "      <td>卷</td>\n",
       "      <td>860</td>\n",
       "      <td>0.042379</td>\n",
       "    </tr>\n",
       "    <tr>\n",
       "      <th>93</th>\n",
       "      <td>方</td>\n",
       "      <td>835</td>\n",
       "      <td>0.041147</td>\n",
       "    </tr>\n",
       "    <tr>\n",
       "      <th>94</th>\n",
       "      <td>地区</td>\n",
       "      <td>833</td>\n",
       "      <td>0.041048</td>\n",
       "    </tr>\n",
       "    <tr>\n",
       "      <th>95</th>\n",
       "      <td>绩溪</td>\n",
       "      <td>830</td>\n",
       "      <td>0.040901</td>\n",
       "    </tr>\n",
       "    <tr>\n",
       "      <th>96</th>\n",
       "      <td>元</td>\n",
       "      <td>825</td>\n",
       "      <td>0.040654</td>\n",
       "    </tr>\n",
       "    <tr>\n",
       "      <th>97</th>\n",
       "      <td>正</td>\n",
       "      <td>825</td>\n",
       "      <td>0.040654</td>\n",
       "    </tr>\n",
       "    <tr>\n",
       "      <th>98</th>\n",
       "      <td>明代</td>\n",
       "      <td>825</td>\n",
       "      <td>0.040654</td>\n",
       "    </tr>\n",
       "    <tr>\n",
       "      <th>99</th>\n",
       "      <td>建设</td>\n",
       "      <td>824</td>\n",
       "      <td>0.040605</td>\n",
       "    </tr>\n",
       "  </tbody>\n",
       "</table>\n",
       "<p>100 rows × 3 columns</p>\n",
       "</div>"
      ],
      "text/plain": [
       "   segments  count     ratio\n",
       "0        徽州  12799  0.630706\n",
       "1        文化   8661  0.426794\n",
       "2        徽商   3755  0.185038\n",
       "3        中国   3001  0.147882\n",
       "4         徽   2927  0.144236\n",
       "5        历史   2711  0.133592\n",
       "6        发展   2565  0.126397\n",
       "7         胡   2485  0.122455\n",
       "8         村   2483  0.122357\n",
       "9         古   2411  0.118809\n",
       "10        汪   2268  0.111762\n",
       "11       黄山   2192  0.108017\n",
       "12       歙县   2172  0.107031\n",
       "13        山   1971  0.097126\n",
       "14       研究   1892  0.093233\n",
       "15        家   1880  0.092642\n",
       "16       他们   1801  0.088749\n",
       "17        成   1712  0.084363\n",
       "18        程   1709  0.084216\n",
       "19       社会   1686  0.083082\n",
       "20        名   1611  0.079386\n",
       "21       新安   1490  0.073424\n",
       "22        王   1473  0.072586\n",
       "23        会   1461  0.071995\n",
       "24        字   1456  0.071748\n",
       "25       建筑   1434  0.070664\n",
       "26       休宁   1401  0.069038\n",
       "27        新   1393  0.068644\n",
       "28        茶   1370  0.067510\n",
       "29       传统   1347  0.066377\n",
       "..      ...    ...       ...\n",
       "70       思想    971  0.047849\n",
       "71        石    966  0.047602\n",
       "72       村落    962  0.047405\n",
       "73       黟县    954  0.047011\n",
       "74       地方    950  0.046814\n",
       "75        建    947  0.046666\n",
       "76        水    942  0.046420\n",
       "77       生活    939  0.046272\n",
       "78       商人    936  0.046124\n",
       "79        岁    934  0.046025\n",
       "80       工作    927  0.045680\n",
       "81       婺源    921  0.045385\n",
       "82       进行    921  0.045385\n",
       "83       主要    915  0.045089\n",
       "84        族    913  0.044991\n",
       "85       艺术    900  0.044350\n",
       "86       全国    899  0.044301\n",
       "87        进    899  0.044301\n",
       "88        张    895  0.044104\n",
       "89        看    879  0.043315\n",
       "90       明清    873  0.043019\n",
       "91        见    864  0.042576\n",
       "92        卷    860  0.042379\n",
       "93        方    835  0.041147\n",
       "94       地区    833  0.041048\n",
       "95       绩溪    830  0.040901\n",
       "96        元    825  0.040654\n",
       "97        正    825  0.040654\n",
       "98       明代    825  0.040654\n",
       "99       建设    824  0.040605\n",
       "\n",
       "[100 rows x 3 columns]"
      ]
     },
     "execution_count": 290,
     "metadata": {},
     "output_type": "execute_result"
    }
   ],
   "source": [
    "new_df.info()\n",
    "new_df.head(100)"
   ]
  },
  {
   "cell_type": "code",
   "execution_count": 289,
   "metadata": {
    "collapsed": true
   },
   "outputs": [],
   "source": [
    "new_df['ratio'] = new_df['count']*100.0/(s*2)"
   ]
  },
  {
   "cell_type": "code",
   "execution_count": 291,
   "metadata": {
    "collapsed": true
   },
   "outputs": [],
   "source": [
    "new_df.to_csv('../data/huizhou-bagofwords.csv', encoding='utf-8', index=False)"
   ]
  },
  {
   "cell_type": "code",
   "execution_count": null,
   "metadata": {
    "collapsed": true
   },
   "outputs": [],
   "source": []
  }
 ],
 "metadata": {
  "kernelspec": {
   "display_name": "Python 2",
   "language": "python",
   "name": "python2"
  },
  "language_info": {
   "codemirror_mode": {
    "name": "ipython",
    "version": 2
   },
   "file_extension": ".py",
   "mimetype": "text/x-python",
   "name": "python",
   "nbconvert_exporter": "python",
   "pygments_lexer": "ipython2",
   "version": "2.7.10"
  }
 },
 "nbformat": 4,
 "nbformat_minor": 2
}
