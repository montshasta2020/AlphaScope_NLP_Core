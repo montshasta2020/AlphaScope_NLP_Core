{
 "cells": [
  {
   "cell_type": "code",
   "execution_count": 2,
   "metadata": {
    "collapsed": true
   },
   "outputs": [],
   "source": [
    "import sys  \n",
    "reload(sys)  \n",
    "sys.setdefaultencoding('utf-8')"
   ]
  },
  {
   "cell_type": "code",
   "execution_count": 3,
   "metadata": {
    "collapsed": false
   },
   "outputs": [],
   "source": [
    "from sklearn.tree import DecisionTreeRegressor\n",
    "from sklearn.ensemble import RandomForestRegressor\n",
    "import numpy as np\n",
    "import tldextract\n",
    "from collections import Counter"
   ]
  },
  {
   "cell_type": "code",
   "execution_count": 4,
   "metadata": {
    "collapsed": true
   },
   "outputs": [],
   "source": [
    "import pandas as pd\n",
    "import json"
   ]
  },
  {
   "cell_type": "code",
   "execution_count": 7,
   "metadata": {
    "collapsed": true
   },
   "outputs": [],
   "source": [
    "from sklearn.feature_extraction.text import TfidfVectorizer, CountVectorizer\n",
    "from sklearn.neural_network import MLPClassifier\n",
    "from sklearn import metrics\n",
    "from sklearn.ensemble import RandomForestClassifier"
   ]
  },
  {
   "cell_type": "code",
   "execution_count": 8,
   "metadata": {
    "collapsed": false
   },
   "outputs": [],
   "source": [
    "from sknn.mlp import Classifier, Layer\n"
   ]
  },
  {
   "cell_type": "code",
   "execution_count": 9,
   "metadata": {
    "collapsed": true
   },
   "outputs": [],
   "source": [
    "from my_pickle import my_pickle_dump, my_pickle_load "
   ]
  },
  {
   "cell_type": "code",
   "execution_count": 10,
   "metadata": {
    "collapsed": true
   },
   "outputs": [],
   "source": [
    "with open('../data/stop_words/Baidu_Stop_Words.json') as data_file:    \n",
    "    data = json.load(data_file)"
   ]
  },
  {
   "cell_type": "code",
   "execution_count": 11,
   "metadata": {
    "collapsed": true
   },
   "outputs": [],
   "source": [
    "bd_stop_words = list(data)"
   ]
  },
  {
   "cell_type": "code",
   "execution_count": 12,
   "metadata": {
    "collapsed": true
   },
   "outputs": [],
   "source": [
    "vectorizer = TfidfVectorizer(analyzer = 'word', stop_words = bd_stop_words)"
   ]
  },
  {
   "cell_type": "code",
   "execution_count": null,
   "metadata": {
    "collapsed": true
   },
   "outputs": [],
   "source": [
    "#Load MLP classifier (50/200 layers, score == 0.958/0.9621) \n",
    "#Load RandomForst (estimator = 50, score = 0.9806)\n",
    "#Keras scores  #0.79334\n",
    "#Logistical classifier #0.960\n",
    "#LinearSVC  classifier #0.976"
   ]
  },
  {
   "cell_type": "code",
   "execution_count": 13,
   "metadata": {
    "collapsed": true
   },
   "outputs": [],
   "source": [
    "mlp = my_pickle_load('../pkl/MLPClassifier_300Layers.pkl')"
   ]
  },
  {
   "cell_type": "code",
   "execution_count": 14,
   "metadata": {
    "collapsed": true
   },
   "outputs": [],
   "source": [
    "rf = my_pickle_load('../pkl/RandomForestClassifier.pkl')"
   ]
  },
  {
   "cell_type": "code",
   "execution_count": 11,
   "metadata": {
    "collapsed": true
   },
   "outputs": [],
   "source": [
    "df_no_dup = pd.read_csv('../data/classifier/bosonNLP/bosonNLP-classifier-tuned.csv')"
   ]
  },
  {
   "cell_type": "code",
   "execution_count": 13,
   "metadata": {
    "collapsed": true
   },
   "outputs": [],
   "source": [
    "# mask for train and test\n",
    "msk = np.random.rand(len(df_no_dup)) < 0.8\n",
    "train = df_no_dup[msk]\n",
    "test = df_no_dup[~msk]"
   ]
  },
  {
   "cell_type": "code",
   "execution_count": 14,
   "metadata": {
    "collapsed": true
   },
   "outputs": [],
   "source": [
    "train_articles = train['segment'].values\n",
    "test_articles = test['segment'].values"
   ]
  },
  {
   "cell_type": "code",
   "execution_count": 15,
   "metadata": {
    "collapsed": true
   },
   "outputs": [],
   "source": [
    "X_train = vectorizer.fit_transform(train_articles)\n",
    "X_test = vectorizer.transform(test_articles)"
   ]
  },
  {
   "cell_type": "code",
   "execution_count": 16,
   "metadata": {
    "collapsed": true
   },
   "outputs": [],
   "source": [
    "Y_train = train['target']\n",
    "Y_test = test['target']"
   ]
  },
  {
   "cell_type": "code",
   "execution_count": 35,
   "metadata": {
    "collapsed": false
   },
   "outputs": [],
   "source": [
    "Y_pred = mlp.predict(X_test)"
   ]
  },
  {
   "cell_type": "code",
   "execution_count": 36,
   "metadata": {
    "collapsed": true
   },
   "outputs": [],
   "source": [
    "scores = metrics.accuracy_score(Y_test, Y_pred)"
   ]
  },
  {
   "cell_type": "code",
   "execution_count": 37,
   "metadata": {
    "collapsed": true
   },
   "outputs": [],
   "source": [
    "print sum(Y_test), sum(Y_pred), scores"
   ]
  },
  {
   "cell_type": "code",
   "execution_count": null,
   "metadata": {
    "collapsed": true
   },
   "outputs": [],
   "source": []
  },
  {
   "cell_type": "code",
   "execution_count": null,
   "metadata": {
    "collapsed": true
   },
   "outputs": [],
   "source": []
  },
  {
   "cell_type": "code",
   "execution_count": null,
   "metadata": {
    "collapsed": true
   },
   "outputs": [],
   "source": []
  },
  {
   "cell_type": "code",
   "execution_count": null,
   "metadata": {
    "collapsed": true
   },
   "outputs": [],
   "source": []
  },
  {
   "cell_type": "code",
   "execution_count": null,
   "metadata": {
    "collapsed": true
   },
   "outputs": [],
   "source": []
  },
  {
   "cell_type": "code",
   "execution_count": 40,
   "metadata": {
    "collapsed": false
   },
   "outputs": [],
   "source": [
    "my_pickle_dump(\"../pkl/MLPClassifier_300Layers.pkl\", mlp)"
   ]
  },
  {
   "cell_type": "code",
   "execution_count": 32,
   "metadata": {
    "collapsed": true
   },
   "outputs": [],
   "source": [
    "cnt = 0\n",
    "for i in range(0, len(Y_pred)):\n",
    "    if (Y_test.values[i] != Y_pred[i]):\n",
    "    #if (Y_pred[i] == 0):\n",
    "        #if ('' in test_articles[i]):\n",
    "            #print test_articles[i]\n",
    "        print i, cnt, Y_test.values[i], Y_pred[i]\n",
    "        print test_articles[i]\n",
    "        cnt += 1"
   ]
  },
  {
   "cell_type": "code",
   "execution_count": null,
   "metadata": {
    "collapsed": true
   },
   "outputs": [],
   "source": [
    "for i in range(0, len(Y_pred)):\n",
    "    #if (Y_test.values[i] != Y_pred[i]):\n",
    "    if (Y_pred[i] == 0):\n",
    "        if i != 1 and i != 2 and i != 3 and i != 152 and i != 153 and i != 163:\n",
    "            Y_pred[i] = 1\n",
    "            #Y_test.values[i] = 1\n",
    "            print i, cnt, Y_test.values[i], Y_pred[i]\n",
    "            print test_articles[i]\n"
   ]
  },
  {
   "cell_type": "code",
   "execution_count": 310,
   "metadata": {
    "collapsed": true
   },
   "outputs": [],
   "source": [
    "def get_columns3():\n",
    "    return ('url', 'domain', 'title', 'segment',  'target', 'source') \n",
    "def get_empty_columns3():\n",
    "    return ('', '', '', '', '', '') "
   ]
  },
  {
   "cell_type": "code",
   "execution_count": 314,
   "metadata": {
    "collapsed": false
   },
   "outputs": [],
   "source": [
    "idx = 0\n",
    "new_df = pd.DataFrame(columns = get_columns3())"
   ]
  },
  {
   "cell_type": "code",
   "execution_count": 315,
   "metadata": {
    "collapsed": false
   },
   "outputs": [],
   "source": [
    "new_df['url'] = test['url']\n",
    "new_df['domain'] = test['domain']\n",
    "new_df['title'] = test['title']\n",
    "new_df['segment'] = test['segment']\n",
    "new_df['target'] = Y_pred\n",
    "new_df['source'] = ''"
   ]
  },
  {
   "cell_type": "code",
   "execution_count": 320,
   "metadata": {
    "collapsed": false
   },
   "outputs": [
    {
     "data": {
      "text/html": [
       "<div>\n",
       "<table border=\"1\" class=\"dataframe\">\n",
       "  <thead>\n",
       "    <tr style=\"text-align: right;\">\n",
       "      <th></th>\n",
       "      <th>url</th>\n",
       "      <th>domain</th>\n",
       "      <th>title</th>\n",
       "      <th>segment</th>\n",
       "      <th>target</th>\n",
       "      <th>source</th>\n",
       "    </tr>\n",
       "  </thead>\n",
       "  <tbody>\n",
       "    <tr>\n",
       "      <th>0</th>\n",
       "      <td>http://www.517huizhou.com/forum.php?mod=viewth...</td>\n",
       "      <td>NaN</td>\n",
       "      <td>给古建筑穿上隐形的铠甲</td>\n",
       "      <td>给 古建筑 穿 上 隐形 的 铠甲</td>\n",
       "      <td>1</td>\n",
       "      <td></td>\n",
       "    </tr>\n",
       "    <tr>\n",
       "      <th>1</th>\n",
       "      <td>http://www.517huizhou.com/forum.php?mod=viewth...</td>\n",
       "      <td>NaN</td>\n",
       "      <td>奈何我很无聊！</td>\n",
       "      <td>奈何 我 很 无聊 ！</td>\n",
       "      <td>0</td>\n",
       "      <td></td>\n",
       "    </tr>\n",
       "    <tr>\n",
       "      <th>2</th>\n",
       "      <td>http://www.517huizhou.com/forum.php?mod=viewth...</td>\n",
       "      <td>NaN</td>\n",
       "      <td>好无聊！</td>\n",
       "      <td>好 无聊 ！</td>\n",
       "      <td>0</td>\n",
       "      <td></td>\n",
       "    </tr>\n",
       "    <tr>\n",
       "      <th>3</th>\n",
       "      <td>http://www.517huizhou.com/forum.php?mod=viewth...</td>\n",
       "      <td>NaN</td>\n",
       "      <td>好无聊哦！</td>\n",
       "      <td>好 无聊 哦 ！</td>\n",
       "      <td>0</td>\n",
       "      <td></td>\n",
       "    </tr>\n",
       "    <tr>\n",
       "      <th>4</th>\n",
       "      <td>http://www.517huizhou.com/forum.php?mod=viewth...</td>\n",
       "      <td>NaN</td>\n",
       "      <td>浅析徽州明清民居天井与庭院文化特征(三)</td>\n",
       "      <td>浅析 徽州 明清 民居 天井 与 庭院 文化 特征 ( 三 )</td>\n",
       "      <td>1</td>\n",
       "      <td></td>\n",
       "    </tr>\n",
       "    <tr>\n",
       "      <th>5</th>\n",
       "      <td>http://www.517huizhou.com/forum.php?mod=viewth...</td>\n",
       "      <td>NaN</td>\n",
       "      <td>浅析徽州明清民居天井与庭院文化特征(二)</td>\n",
       "      <td>浅析 徽州 明清 民居 天井 与 庭院 文化 特征 ( 二 )</td>\n",
       "      <td>1</td>\n",
       "      <td></td>\n",
       "    </tr>\n",
       "    <tr>\n",
       "      <th>6</th>\n",
       "      <td>http://www.517huizhou.com/forum.php?mod=viewth...</td>\n",
       "      <td>NaN</td>\n",
       "      <td>浅析徽州明清民居天井与庭院文化特征(一）</td>\n",
       "      <td>浅析 徽州 明清 民居 天井 与 庭院 文化 特征 ( 一 ）</td>\n",
       "      <td>1</td>\n",
       "      <td></td>\n",
       "    </tr>\n",
       "    <tr>\n",
       "      <th>7</th>\n",
       "      <td>http://www.517huizhou.com/forum.php?mod=viewth...</td>\n",
       "      <td>NaN</td>\n",
       "      <td>徽州园林艺术简论(三)</td>\n",
       "      <td>徽州 园林 艺术 简论 ( 三 )</td>\n",
       "      <td>1</td>\n",
       "      <td></td>\n",
       "    </tr>\n",
       "    <tr>\n",
       "      <th>8</th>\n",
       "      <td>http://www.517huizhou.com/forum.php?mod=viewth...</td>\n",
       "      <td>NaN</td>\n",
       "      <td>徽州园林艺术简论(二)</td>\n",
       "      <td>徽州 园林 艺术 简论 ( 二 )</td>\n",
       "      <td>1</td>\n",
       "      <td></td>\n",
       "    </tr>\n",
       "    <tr>\n",
       "      <th>9</th>\n",
       "      <td>http://www.517huizhou.com/forum.php?mod=viewth...</td>\n",
       "      <td>NaN</td>\n",
       "      <td>徽州园林艺术简论(一)</td>\n",
       "      <td>徽州 园林 艺术 简论 ( 一 )</td>\n",
       "      <td>1</td>\n",
       "      <td></td>\n",
       "    </tr>\n",
       "    <tr>\n",
       "      <th>10</th>\n",
       "      <td>http://www.517huizhou.com/forum.php?mod=viewth...</td>\n",
       "      <td>NaN</td>\n",
       "      <td>徽派建筑与汉文化圈其它建筑流派之比较(五)</td>\n",
       "      <td>徽派 建筑 与 汉 文化 圈 其它 建筑 流派 之 比较 ( 五 )</td>\n",
       "      <td>1</td>\n",
       "      <td></td>\n",
       "    </tr>\n",
       "    <tr>\n",
       "      <th>11</th>\n",
       "      <td>http://www.517huizhou.com/forum.php?mod=viewth...</td>\n",
       "      <td>NaN</td>\n",
       "      <td>徽派建筑与汉文化圈其它建筑流派之比较(四)</td>\n",
       "      <td>徽派 建筑 与 汉 文化 圈 其它 建筑 流派 之 比较 ( 四 )</td>\n",
       "      <td>1</td>\n",
       "      <td></td>\n",
       "    </tr>\n",
       "    <tr>\n",
       "      <th>12</th>\n",
       "      <td>http://www.517huizhou.com/forum.php?mod=viewth...</td>\n",
       "      <td>NaN</td>\n",
       "      <td>徽派建筑与汉文化圈其它建筑流派之比较(三)</td>\n",
       "      <td>徽派 建筑 与 汉 文化 圈 其它 建筑 流派 之 比较 ( 三 )</td>\n",
       "      <td>1</td>\n",
       "      <td></td>\n",
       "    </tr>\n",
       "    <tr>\n",
       "      <th>13</th>\n",
       "      <td>http://www.517huizhou.com/forum.php?mod=viewth...</td>\n",
       "      <td>NaN</td>\n",
       "      <td>徽派建筑与汉文化圈其它建筑流派之比较(二)</td>\n",
       "      <td>徽派 建筑 与 汉 文化 圈 其它 建筑 流派 之 比较 ( 二 )</td>\n",
       "      <td>1</td>\n",
       "      <td></td>\n",
       "    </tr>\n",
       "    <tr>\n",
       "      <th>14</th>\n",
       "      <td>http://www.517huizhou.com/forum.php?mod=viewth...</td>\n",
       "      <td>NaN</td>\n",
       "      <td>徽派建筑与汉文化圈其它建筑流派之比较(一)</td>\n",
       "      <td>徽派 建筑 与 汉 文化 圈 其它 建筑 流派 之 比较 ( 一 )</td>\n",
       "      <td>1</td>\n",
       "      <td></td>\n",
       "    </tr>\n",
       "    <tr>\n",
       "      <th>15</th>\n",
       "      <td>http://www.517huizhou.com/forum.php?mod=viewth...</td>\n",
       "      <td>NaN</td>\n",
       "      <td>徽州桥名的由来</td>\n",
       "      <td>徽州桥 名 的 由来</td>\n",
       "      <td>1</td>\n",
       "      <td></td>\n",
       "    </tr>\n",
       "    <tr>\n",
       "      <th>16</th>\n",
       "      <td>http://www.517huizhou.com/forum.php?mod=viewth...</td>\n",
       "      <td>NaN</td>\n",
       "      <td>徽派建筑的文化意蕴与开发价值</td>\n",
       "      <td>徽派 建筑 的 文化 意蕴 与 开发 价值</td>\n",
       "      <td>1</td>\n",
       "      <td></td>\n",
       "    </tr>\n",
       "    <tr>\n",
       "      <th>17</th>\n",
       "      <td>http://www.517huizhou.com/forum.php?mod=viewth...</td>\n",
       "      <td>NaN</td>\n",
       "      <td>徽州水口及其园林</td>\n",
       "      <td>徽州 水口 及其 园林</td>\n",
       "      <td>1</td>\n",
       "      <td></td>\n",
       "    </tr>\n",
       "    <tr>\n",
       "      <th>18</th>\n",
       "      <td>http://www.517huizhou.com/forum.php?mod=viewth...</td>\n",
       "      <td>NaN</td>\n",
       "      <td>徽州“古建三绝”及其“三雕”艺术</td>\n",
       "      <td>徽州 “ 古建 三 绝 ” 及其 “ 三 雕 ” 艺术</td>\n",
       "      <td>1</td>\n",
       "      <td></td>\n",
       "    </tr>\n",
       "    <tr>\n",
       "      <th>19</th>\n",
       "      <td>http://www.517huizhou.com/forum.php?mod=viewth...</td>\n",
       "      <td>NaN</td>\n",
       "      <td>徽派建筑的形成及风格特点</td>\n",
       "      <td>徽派 建筑 的 形成 及 风格 特点</td>\n",
       "      <td>1</td>\n",
       "      <td></td>\n",
       "    </tr>\n",
       "    <tr>\n",
       "      <th>20</th>\n",
       "      <td>http://www.517huizhou.com/forum.php?mod=viewth...</td>\n",
       "      <td>NaN</td>\n",
       "      <td>徽派建筑</td>\n",
       "      <td>徽派 建筑</td>\n",
       "      <td>1</td>\n",
       "      <td></td>\n",
       "    </tr>\n",
       "    <tr>\n",
       "      <th>21</th>\n",
       "      <td>http://www.517huizhou.com/forum.php?mod=viewth...</td>\n",
       "      <td>NaN</td>\n",
       "      <td>徽州文化系列谈——徽州古牌坊</td>\n",
       "      <td>徽州 文化 系列谈 —— 徽州 古 牌坊</td>\n",
       "      <td>1</td>\n",
       "      <td></td>\n",
       "    </tr>\n",
       "    <tr>\n",
       "      <th>22</th>\n",
       "      <td>http://www.517huizhou.com/forum.php?mod=viewth...</td>\n",
       "      <td>NaN</td>\n",
       "      <td>徽州文化系列谈——徽派建筑特色与文化内涵</td>\n",
       "      <td>徽州 文化 系列谈 —— 徽 派 建筑 特色 与 文化 内涵</td>\n",
       "      <td>1</td>\n",
       "      <td></td>\n",
       "    </tr>\n",
       "    <tr>\n",
       "      <th>23</th>\n",
       "      <td>http://www.517huizhou.com/forum.php?mod=viewth...</td>\n",
       "      <td>NaN</td>\n",
       "      <td>徽州文化系列谈——徽州的祠堂</td>\n",
       "      <td>徽州 文化 系列谈 —— 徽州 的 祠堂</td>\n",
       "      <td>1</td>\n",
       "      <td></td>\n",
       "    </tr>\n",
       "    <tr>\n",
       "      <th>24</th>\n",
       "      <td>http://www.517huizhou.com/forum.php?mod=viewth...</td>\n",
       "      <td>NaN</td>\n",
       "      <td>绩溪冯村牌坊背后的故事</td>\n",
       "      <td>绩溪冯村 牌坊 背后 的 故事</td>\n",
       "      <td>1</td>\n",
       "      <td></td>\n",
       "    </tr>\n",
       "    <tr>\n",
       "      <th>25</th>\n",
       "      <td>http://www.517huizhou.com/forum.php?mod=viewth...</td>\n",
       "      <td>NaN</td>\n",
       "      <td>徽州一绝：深不可测的天井</td>\n",
       "      <td>徽州 一 绝 ： 深不可测 的 天井</td>\n",
       "      <td>1</td>\n",
       "      <td></td>\n",
       "    </tr>\n",
       "    <tr>\n",
       "      <th>26</th>\n",
       "      <td>http://www.517huizhou.com/forum.php?mod=viewth...</td>\n",
       "      <td>NaN</td>\n",
       "      <td>徽派民居的科技意识</td>\n",
       "      <td>徽派 民居 的 科技 意识</td>\n",
       "      <td>1</td>\n",
       "      <td></td>\n",
       "    </tr>\n",
       "    <tr>\n",
       "      <th>27</th>\n",
       "      <td>http://www.517huizhou.com/forum.php?mod=viewth...</td>\n",
       "      <td>NaN</td>\n",
       "      <td>徽州传统民居建筑空间的人性意识</td>\n",
       "      <td>徽州 传统 民居 建筑 空间 的 人性 意识</td>\n",
       "      <td>1</td>\n",
       "      <td></td>\n",
       "    </tr>\n",
       "    <tr>\n",
       "      <th>28</th>\n",
       "      <td>http://www.517huizhou.com/forum.php?mod=viewth...</td>\n",
       "      <td>NaN</td>\n",
       "      <td>略述祠堂(二)</td>\n",
       "      <td>略 述 祠堂 ( 二 )</td>\n",
       "      <td>1</td>\n",
       "      <td></td>\n",
       "    </tr>\n",
       "    <tr>\n",
       "      <th>29</th>\n",
       "      <td>http://www.517huizhou.com/forum.php?mod=viewth...</td>\n",
       "      <td>NaN</td>\n",
       "      <td>略述祠堂(一)</td>\n",
       "      <td>略 述 祠堂 ( 一 )</td>\n",
       "      <td>1</td>\n",
       "      <td></td>\n",
       "    </tr>\n",
       "    <tr>\n",
       "      <th>...</th>\n",
       "      <td>...</td>\n",
       "      <td>...</td>\n",
       "      <td>...</td>\n",
       "      <td>...</td>\n",
       "      <td>...</td>\n",
       "      <td>...</td>\n",
       "    </tr>\n",
       "    <tr>\n",
       "      <th>140</th>\n",
       "      <td>http://www.517huizhou.com/forum.php?mod=viewth...</td>\n",
       "      <td>NaN</td>\n",
       "      <td>新安医家主要学术观点及医著之影响</td>\n",
       "      <td>新安 医家 主要 学术 观点 及 医著 之 影响</td>\n",
       "      <td>1</td>\n",
       "      <td></td>\n",
       "    </tr>\n",
       "    <tr>\n",
       "      <th>141</th>\n",
       "      <td>http://www.517huizhou.com/forum.php?mod=viewth...</td>\n",
       "      <td>NaN</td>\n",
       "      <td>新安医学主要流派及代表医家</td>\n",
       "      <td>新安 医学 主要 流派 及 代表 医家</td>\n",
       "      <td>1</td>\n",
       "      <td></td>\n",
       "    </tr>\n",
       "    <tr>\n",
       "      <th>142</th>\n",
       "      <td>http://www.517huizhou.com/forum.php?mod=viewth...</td>\n",
       "      <td>NaN</td>\n",
       "      <td>新安医家和医籍</td>\n",
       "      <td>新安 医家 和 医籍</td>\n",
       "      <td>1</td>\n",
       "      <td></td>\n",
       "    </tr>\n",
       "    <tr>\n",
       "      <th>143</th>\n",
       "      <td>http://www.517huizhou.com/forum.php?mod=viewth...</td>\n",
       "      <td>NaN</td>\n",
       "      <td>新安医学的形成及其相关状况</td>\n",
       "      <td>新安 医学 的 形成 及其 相关 状况</td>\n",
       "      <td>1</td>\n",
       "      <td></td>\n",
       "    </tr>\n",
       "    <tr>\n",
       "      <th>144</th>\n",
       "      <td>http://www.517huizhou.com/forum.php?mod=viewth...</td>\n",
       "      <td>NaN</td>\n",
       "      <td>徽籍太医和他主编的御篆医书</td>\n",
       "      <td>徽籍太医 和 他 主编 的 御篆 医书</td>\n",
       "      <td>1</td>\n",
       "      <td></td>\n",
       "    </tr>\n",
       "    <tr>\n",
       "      <th>145</th>\n",
       "      <td>http://www.517huizhou.com/forum.php?mod=viewth...</td>\n",
       "      <td>NaN</td>\n",
       "      <td>新安名医王大东</td>\n",
       "      <td>新安 名医 王大东</td>\n",
       "      <td>1</td>\n",
       "      <td></td>\n",
       "    </tr>\n",
       "    <tr>\n",
       "      <th>146</th>\n",
       "      <td>http://www.517huizhou.com/forum.php?mod=viewth...</td>\n",
       "      <td>NaN</td>\n",
       "      <td>医学科普家——汪昂</td>\n",
       "      <td>医学 科普 家 —— 汪昂</td>\n",
       "      <td>1</td>\n",
       "      <td></td>\n",
       "    </tr>\n",
       "    <tr>\n",
       "      <th>147</th>\n",
       "      <td>http://www.517huizhou.com/forum.php?mod=viewth...</td>\n",
       "      <td>NaN</td>\n",
       "      <td>温热大师----叶天士</td>\n",
       "      <td>温热 大师 ---- 叶天士</td>\n",
       "      <td>1</td>\n",
       "      <td></td>\n",
       "    </tr>\n",
       "    <tr>\n",
       "      <th>148</th>\n",
       "      <td>http://www.517huizhou.com/forum.php?mod=viewth...</td>\n",
       "      <td>NaN</td>\n",
       "      <td>明代著名医家孙一奎</td>\n",
       "      <td>明代 著名 医家 孙一奎</td>\n",
       "      <td>1</td>\n",
       "      <td></td>\n",
       "    </tr>\n",
       "    <tr>\n",
       "      <th>149</th>\n",
       "      <td>http://www.517huizhou.com/forum.php?mod=viewth...</td>\n",
       "      <td>NaN</td>\n",
       "      <td>新安郑氏喉科学术著作学术特色述略</td>\n",
       "      <td>新安 郑氏 喉科 学术 著作 学术 特色 述略</td>\n",
       "      <td>1</td>\n",
       "      <td></td>\n",
       "    </tr>\n",
       "    <tr>\n",
       "      <th>150</th>\n",
       "      <td>http://www.517huizhou.com/forum.php?mod=viewth...</td>\n",
       "      <td>NaN</td>\n",
       "      <td>新安医家的医德医风</td>\n",
       "      <td>新安 医家 的 医德 医风</td>\n",
       "      <td>1</td>\n",
       "      <td></td>\n",
       "    </tr>\n",
       "    <tr>\n",
       "      <th>151</th>\n",
       "      <td>http://www.517huizhou.com/forum.php?mod=viewth...</td>\n",
       "      <td>NaN</td>\n",
       "      <td>新安医学促进古今中医教育发展的特征分析</td>\n",
       "      <td>新安 医学 促进 古今 中医 教育 发展 的 特征 分析</td>\n",
       "      <td>1</td>\n",
       "      <td></td>\n",
       "    </tr>\n",
       "    <tr>\n",
       "      <th>152</th>\n",
       "      <td>http://www.517huizhou.com/forum.php?mod=viewth...</td>\n",
       "      <td>NaN</td>\n",
       "      <td>景德镇种德堂药店</td>\n",
       "      <td>景德镇 种德堂 药店</td>\n",
       "      <td>0</td>\n",
       "      <td></td>\n",
       "    </tr>\n",
       "    <tr>\n",
       "      <th>153</th>\n",
       "      <td>http://www.517huizhou.com/forum.php?mod=viewth...</td>\n",
       "      <td>NaN</td>\n",
       "      <td>何谓“错简重订派”</td>\n",
       "      <td>何谓 “ 错 简 重订派 ”</td>\n",
       "      <td>0</td>\n",
       "      <td></td>\n",
       "    </tr>\n",
       "    <tr>\n",
       "      <th>154</th>\n",
       "      <td>http://www.517huizhou.com/forum.php?mod=viewth...</td>\n",
       "      <td>NaN</td>\n",
       "      <td>新安医学概述</td>\n",
       "      <td>新安 医学 概述</td>\n",
       "      <td>1</td>\n",
       "      <td></td>\n",
       "    </tr>\n",
       "    <tr>\n",
       "      <th>155</th>\n",
       "      <td>http://www.517huizhou.com/forum.php?mod=viewth...</td>\n",
       "      <td>NaN</td>\n",
       "      <td>新安医学的学派特点及开发利用</td>\n",
       "      <td>新安 医学 的 学派 特点 及 开发 利用</td>\n",
       "      <td>1</td>\n",
       "      <td></td>\n",
       "    </tr>\n",
       "    <tr>\n",
       "      <th>156</th>\n",
       "      <td>http://www.517huizhou.com/forum.php?mod=viewth...</td>\n",
       "      <td>NaN</td>\n",
       "      <td>新安医学是怎样形成的</td>\n",
       "      <td>新安 医学 是 怎样 形成 的</td>\n",
       "      <td>1</td>\n",
       "      <td></td>\n",
       "    </tr>\n",
       "    <tr>\n",
       "      <th>157</th>\n",
       "      <td>http://www.517huizhou.com/forum.php?mod=viewth...</td>\n",
       "      <td>NaN</td>\n",
       "      <td>“固本培元派”的医学主张</td>\n",
       "      <td>“ 固 本 培元派 ” 的 医学 主张</td>\n",
       "      <td>1</td>\n",
       "      <td></td>\n",
       "    </tr>\n",
       "    <tr>\n",
       "      <th>158</th>\n",
       "      <td>http://www.517huizhou.com/forum.php?mod=viewth...</td>\n",
       "      <td>NaN</td>\n",
       "      <td>徽商中的药商</td>\n",
       "      <td>徽商 中 的 药商</td>\n",
       "      <td>1</td>\n",
       "      <td></td>\n",
       "    </tr>\n",
       "    <tr>\n",
       "      <th>159</th>\n",
       "      <td>http://www.517huizhou.com/forum.php?mod=viewth...</td>\n",
       "      <td>NaN</td>\n",
       "      <td>汪昂，给予医学崇高地位的儒医</td>\n",
       "      <td>汪昂 ， 给予 医学 崇高 地位 的 儒医</td>\n",
       "      <td>1</td>\n",
       "      <td></td>\n",
       "    </tr>\n",
       "    <tr>\n",
       "      <th>160</th>\n",
       "      <td>http://www.517huizhou.com/forum.php?mod=viewth...</td>\n",
       "      <td>NaN</td>\n",
       "      <td>新安医学纵览（一）</td>\n",
       "      <td>新安 医学 纵览 （ 一 ）</td>\n",
       "      <td>1</td>\n",
       "      <td></td>\n",
       "    </tr>\n",
       "    <tr>\n",
       "      <th>161</th>\n",
       "      <td>http://www.517huizhou.com/forum.php?mod=viewth...</td>\n",
       "      <td>NaN</td>\n",
       "      <td>徽州新安医学的发展</td>\n",
       "      <td>徽州 新安 医学 的 发展</td>\n",
       "      <td>1</td>\n",
       "      <td></td>\n",
       "    </tr>\n",
       "    <tr>\n",
       "      <th>162</th>\n",
       "      <td>http://www.517huizhou.com/forum.php?mod=viewth...</td>\n",
       "      <td>NaN</td>\n",
       "      <td>大医精要—新安医学研究</td>\n",
       "      <td>大医精 要 — 新安 医学 研究</td>\n",
       "      <td>1</td>\n",
       "      <td></td>\n",
       "    </tr>\n",
       "    <tr>\n",
       "      <th>163</th>\n",
       "      <td>http://www.517huizhou.com/forum.php?mod=viewth...</td>\n",
       "      <td>NaN</td>\n",
       "      <td>黄山河螺丝</td>\n",
       "      <td>黄山 河 螺丝</td>\n",
       "      <td>0</td>\n",
       "      <td></td>\n",
       "    </tr>\n",
       "    <tr>\n",
       "      <th>164</th>\n",
       "      <td>http://www.517huizhou.com/forum.php?mod=viewth...</td>\n",
       "      <td>NaN</td>\n",
       "      <td>徽州裹粽</td>\n",
       "      <td>徽州 裹粽</td>\n",
       "      <td>1</td>\n",
       "      <td></td>\n",
       "    </tr>\n",
       "    <tr>\n",
       "      <th>165</th>\n",
       "      <td>http://www.517huizhou.com/forum.php?mod=viewth...</td>\n",
       "      <td>NaN</td>\n",
       "      <td>五城茶干</td>\n",
       "      <td>五城茶干</td>\n",
       "      <td>1</td>\n",
       "      <td></td>\n",
       "    </tr>\n",
       "    <tr>\n",
       "      <th>166</th>\n",
       "      <td>http://www.517huizhou.com/forum.php?mod=viewth...</td>\n",
       "      <td>NaN</td>\n",
       "      <td>徽菜的形成</td>\n",
       "      <td>徽菜 的 形成</td>\n",
       "      <td>1</td>\n",
       "      <td></td>\n",
       "    </tr>\n",
       "    <tr>\n",
       "      <th>167</th>\n",
       "      <td>http://www.517huizhou.com/forum.php?mod=viewth...</td>\n",
       "      <td>NaN</td>\n",
       "      <td>皖风徽韵间的山珍野味</td>\n",
       "      <td>皖 风徽韵 间 的 山珍 野味</td>\n",
       "      <td>1</td>\n",
       "      <td></td>\n",
       "    </tr>\n",
       "    <tr>\n",
       "      <th>168</th>\n",
       "      <td>http://www.517huizhou.com/forum.php?mod=viewth...</td>\n",
       "      <td>NaN</td>\n",
       "      <td>戏说徽菜“霸王别鸡”</td>\n",
       "      <td>戏说 徽菜 “ 霸王 别鸡 ”</td>\n",
       "      <td>1</td>\n",
       "      <td></td>\n",
       "    </tr>\n",
       "    <tr>\n",
       "      <th>169</th>\n",
       "      <td>http://www.517huizhou.com/forum.php?mod=viewth...</td>\n",
       "      <td>NaN</td>\n",
       "      <td>臭鳜鱼</td>\n",
       "      <td>臭鳜鱼</td>\n",
       "      <td>1</td>\n",
       "      <td></td>\n",
       "    </tr>\n",
       "  </tbody>\n",
       "</table>\n",
       "<p>170 rows × 6 columns</p>\n",
       "</div>"
      ],
      "text/plain": [
       "                                                   url  domain  \\\n",
       "0    http://www.517huizhou.com/forum.php?mod=viewth...     NaN   \n",
       "1    http://www.517huizhou.com/forum.php?mod=viewth...     NaN   \n",
       "2    http://www.517huizhou.com/forum.php?mod=viewth...     NaN   \n",
       "3    http://www.517huizhou.com/forum.php?mod=viewth...     NaN   \n",
       "4    http://www.517huizhou.com/forum.php?mod=viewth...     NaN   \n",
       "5    http://www.517huizhou.com/forum.php?mod=viewth...     NaN   \n",
       "6    http://www.517huizhou.com/forum.php?mod=viewth...     NaN   \n",
       "7    http://www.517huizhou.com/forum.php?mod=viewth...     NaN   \n",
       "8    http://www.517huizhou.com/forum.php?mod=viewth...     NaN   \n",
       "9    http://www.517huizhou.com/forum.php?mod=viewth...     NaN   \n",
       "10   http://www.517huizhou.com/forum.php?mod=viewth...     NaN   \n",
       "11   http://www.517huizhou.com/forum.php?mod=viewth...     NaN   \n",
       "12   http://www.517huizhou.com/forum.php?mod=viewth...     NaN   \n",
       "13   http://www.517huizhou.com/forum.php?mod=viewth...     NaN   \n",
       "14   http://www.517huizhou.com/forum.php?mod=viewth...     NaN   \n",
       "15   http://www.517huizhou.com/forum.php?mod=viewth...     NaN   \n",
       "16   http://www.517huizhou.com/forum.php?mod=viewth...     NaN   \n",
       "17   http://www.517huizhou.com/forum.php?mod=viewth...     NaN   \n",
       "18   http://www.517huizhou.com/forum.php?mod=viewth...     NaN   \n",
       "19   http://www.517huizhou.com/forum.php?mod=viewth...     NaN   \n",
       "20   http://www.517huizhou.com/forum.php?mod=viewth...     NaN   \n",
       "21   http://www.517huizhou.com/forum.php?mod=viewth...     NaN   \n",
       "22   http://www.517huizhou.com/forum.php?mod=viewth...     NaN   \n",
       "23   http://www.517huizhou.com/forum.php?mod=viewth...     NaN   \n",
       "24   http://www.517huizhou.com/forum.php?mod=viewth...     NaN   \n",
       "25   http://www.517huizhou.com/forum.php?mod=viewth...     NaN   \n",
       "26   http://www.517huizhou.com/forum.php?mod=viewth...     NaN   \n",
       "27   http://www.517huizhou.com/forum.php?mod=viewth...     NaN   \n",
       "28   http://www.517huizhou.com/forum.php?mod=viewth...     NaN   \n",
       "29   http://www.517huizhou.com/forum.php?mod=viewth...     NaN   \n",
       "..                                                 ...     ...   \n",
       "140  http://www.517huizhou.com/forum.php?mod=viewth...     NaN   \n",
       "141  http://www.517huizhou.com/forum.php?mod=viewth...     NaN   \n",
       "142  http://www.517huizhou.com/forum.php?mod=viewth...     NaN   \n",
       "143  http://www.517huizhou.com/forum.php?mod=viewth...     NaN   \n",
       "144  http://www.517huizhou.com/forum.php?mod=viewth...     NaN   \n",
       "145  http://www.517huizhou.com/forum.php?mod=viewth...     NaN   \n",
       "146  http://www.517huizhou.com/forum.php?mod=viewth...     NaN   \n",
       "147  http://www.517huizhou.com/forum.php?mod=viewth...     NaN   \n",
       "148  http://www.517huizhou.com/forum.php?mod=viewth...     NaN   \n",
       "149  http://www.517huizhou.com/forum.php?mod=viewth...     NaN   \n",
       "150  http://www.517huizhou.com/forum.php?mod=viewth...     NaN   \n",
       "151  http://www.517huizhou.com/forum.php?mod=viewth...     NaN   \n",
       "152  http://www.517huizhou.com/forum.php?mod=viewth...     NaN   \n",
       "153  http://www.517huizhou.com/forum.php?mod=viewth...     NaN   \n",
       "154  http://www.517huizhou.com/forum.php?mod=viewth...     NaN   \n",
       "155  http://www.517huizhou.com/forum.php?mod=viewth...     NaN   \n",
       "156  http://www.517huizhou.com/forum.php?mod=viewth...     NaN   \n",
       "157  http://www.517huizhou.com/forum.php?mod=viewth...     NaN   \n",
       "158  http://www.517huizhou.com/forum.php?mod=viewth...     NaN   \n",
       "159  http://www.517huizhou.com/forum.php?mod=viewth...     NaN   \n",
       "160  http://www.517huizhou.com/forum.php?mod=viewth...     NaN   \n",
       "161  http://www.517huizhou.com/forum.php?mod=viewth...     NaN   \n",
       "162  http://www.517huizhou.com/forum.php?mod=viewth...     NaN   \n",
       "163  http://www.517huizhou.com/forum.php?mod=viewth...     NaN   \n",
       "164  http://www.517huizhou.com/forum.php?mod=viewth...     NaN   \n",
       "165  http://www.517huizhou.com/forum.php?mod=viewth...     NaN   \n",
       "166  http://www.517huizhou.com/forum.php?mod=viewth...     NaN   \n",
       "167  http://www.517huizhou.com/forum.php?mod=viewth...     NaN   \n",
       "168  http://www.517huizhou.com/forum.php?mod=viewth...     NaN   \n",
       "169  http://www.517huizhou.com/forum.php?mod=viewth...     NaN   \n",
       "\n",
       "                     title                             segment  target source  \n",
       "0              给古建筑穿上隐形的铠甲                   给 古建筑 穿 上 隐形 的 铠甲       1         \n",
       "1                  奈何我很无聊！                         奈何 我 很 无聊 ！       0         \n",
       "2                     好无聊！                              好 无聊 ！       0         \n",
       "3                    好无聊哦！                            好 无聊 哦 ！       0         \n",
       "4     浅析徽州明清民居天井与庭院文化特征(三)     浅析 徽州 明清 民居 天井 与 庭院 文化 特征 ( 三 )       1         \n",
       "5     浅析徽州明清民居天井与庭院文化特征(二)     浅析 徽州 明清 民居 天井 与 庭院 文化 特征 ( 二 )       1         \n",
       "6     浅析徽州明清民居天井与庭院文化特征(一）     浅析 徽州 明清 民居 天井 与 庭院 文化 特征 ( 一 ）       1         \n",
       "7              徽州园林艺术简论(三)                   徽州 园林 艺术 简论 ( 三 )       1         \n",
       "8              徽州园林艺术简论(二)                   徽州 园林 艺术 简论 ( 二 )       1         \n",
       "9              徽州园林艺术简论(一)                   徽州 园林 艺术 简论 ( 一 )       1         \n",
       "10   徽派建筑与汉文化圈其它建筑流派之比较(五)  徽派 建筑 与 汉 文化 圈 其它 建筑 流派 之 比较 ( 五 )       1         \n",
       "11   徽派建筑与汉文化圈其它建筑流派之比较(四)  徽派 建筑 与 汉 文化 圈 其它 建筑 流派 之 比较 ( 四 )       1         \n",
       "12   徽派建筑与汉文化圈其它建筑流派之比较(三)  徽派 建筑 与 汉 文化 圈 其它 建筑 流派 之 比较 ( 三 )       1         \n",
       "13   徽派建筑与汉文化圈其它建筑流派之比较(二)  徽派 建筑 与 汉 文化 圈 其它 建筑 流派 之 比较 ( 二 )       1         \n",
       "14   徽派建筑与汉文化圈其它建筑流派之比较(一)  徽派 建筑 与 汉 文化 圈 其它 建筑 流派 之 比较 ( 一 )       1         \n",
       "15                 徽州桥名的由来                          徽州桥 名 的 由来       1         \n",
       "16          徽派建筑的文化意蕴与开发价值               徽派 建筑 的 文化 意蕴 与 开发 价值       1         \n",
       "17                徽州水口及其园林                         徽州 水口 及其 园林       1         \n",
       "18        徽州“古建三绝”及其“三雕”艺术         徽州 “ 古建 三 绝 ” 及其 “ 三 雕 ” 艺术       1         \n",
       "19            徽派建筑的形成及风格特点                  徽派 建筑 的 形成 及 风格 特点       1         \n",
       "20                    徽派建筑                               徽派 建筑       1         \n",
       "21          徽州文化系列谈——徽州古牌坊                徽州 文化 系列谈 —— 徽州 古 牌坊       1         \n",
       "22    徽州文化系列谈——徽派建筑特色与文化内涵      徽州 文化 系列谈 —— 徽 派 建筑 特色 与 文化 内涵       1         \n",
       "23          徽州文化系列谈——徽州的祠堂                徽州 文化 系列谈 —— 徽州 的 祠堂       1         \n",
       "24             绩溪冯村牌坊背后的故事                     绩溪冯村 牌坊 背后 的 故事       1         \n",
       "25            徽州一绝：深不可测的天井                  徽州 一 绝 ： 深不可测 的 天井       1         \n",
       "26               徽派民居的科技意识                       徽派 民居 的 科技 意识       1         \n",
       "27         徽州传统民居建筑空间的人性意识              徽州 传统 民居 建筑 空间 的 人性 意识       1         \n",
       "28                 略述祠堂(二)                        略 述 祠堂 ( 二 )       1         \n",
       "29                 略述祠堂(一)                        略 述 祠堂 ( 一 )       1         \n",
       "..                     ...                                 ...     ...    ...  \n",
       "140       新安医家主要学术观点及医著之影响            新安 医家 主要 学术 观点 及 医著 之 影响       1         \n",
       "141          新安医学主要流派及代表医家                 新安 医学 主要 流派 及 代表 医家       1         \n",
       "142                新安医家和医籍                          新安 医家 和 医籍       1         \n",
       "143          新安医学的形成及其相关状况                 新安 医学 的 形成 及其 相关 状况       1         \n",
       "144          徽籍太医和他主编的御篆医书                 徽籍太医 和 他 主编 的 御篆 医书       1         \n",
       "145                新安名医王大东                           新安 名医 王大东       1         \n",
       "146              医学科普家——汪昂                       医学 科普 家 —— 汪昂       1         \n",
       "147            温热大师----叶天士                      温热 大师 ---- 叶天士       1         \n",
       "148              明代著名医家孙一奎                        明代 著名 医家 孙一奎       1         \n",
       "149       新安郑氏喉科学术著作学术特色述略             新安 郑氏 喉科 学术 著作 学术 特色 述略       1         \n",
       "150              新安医家的医德医风                       新安 医家 的 医德 医风       1         \n",
       "151    新安医学促进古今中医教育发展的特征分析        新安 医学 促进 古今 中医 教育 发展 的 特征 分析       1         \n",
       "152               景德镇种德堂药店                          景德镇 种德堂 药店       0         \n",
       "153              何谓“错简重订派”                      何谓 “ 错 简 重订派 ”       0         \n",
       "154                 新安医学概述                            新安 医学 概述       1         \n",
       "155         新安医学的学派特点及开发利用               新安 医学 的 学派 特点 及 开发 利用       1         \n",
       "156             新安医学是怎样形成的                     新安 医学 是 怎样 形成 的       1         \n",
       "157           “固本培元派”的医学主张                 “ 固 本 培元派 ” 的 医学 主张       1         \n",
       "158                 徽商中的药商                           徽商 中 的 药商       1         \n",
       "159         汪昂，给予医学崇高地位的儒医               汪昂 ， 给予 医学 崇高 地位 的 儒医       1         \n",
       "160              新安医学纵览（一）                      新安 医学 纵览 （ 一 ）       1         \n",
       "161              徽州新安医学的发展                       徽州 新安 医学 的 发展       1         \n",
       "162            大医精要—新安医学研究                    大医精 要 — 新安 医学 研究       1         \n",
       "163                  黄山河螺丝                             黄山 河 螺丝       0         \n",
       "164                   徽州裹粽                               徽州 裹粽       1         \n",
       "165                   五城茶干                                五城茶干       1         \n",
       "166                  徽菜的形成                             徽菜 的 形成       1         \n",
       "167             皖风徽韵间的山珍野味                     皖 风徽韵 间 的 山珍 野味       1         \n",
       "168             戏说徽菜“霸王别鸡”                     戏说 徽菜 “ 霸王 别鸡 ”       1         \n",
       "169                    臭鳜鱼                                 臭鳜鱼       1         \n",
       "\n",
       "[170 rows x 6 columns]"
      ]
     },
     "execution_count": 320,
     "metadata": {},
     "output_type": "execute_result"
    }
   ],
   "source": [
    "new_df.head(200)"
   ]
  },
  {
   "cell_type": "code",
   "execution_count": 321,
   "metadata": {
    "collapsed": true
   },
   "outputs": [],
   "source": [
    "joined = train.append(new_df)"
   ]
  },
  {
   "cell_type": "code",
   "execution_count": 323,
   "metadata": {
    "collapsed": false
   },
   "outputs": [],
   "source": [
    "joined.info()"
   ]
  },
  {
   "cell_type": "code",
   "execution_count": 324,
   "metadata": {
    "collapsed": true
   },
   "outputs": [],
   "source": [
    "df_no_dup = joined.dropna(subset =['url']) \n",
    "df_no_dup = df_no_dup.drop_duplicates(['url'])"
   ]
  },
  {
   "cell_type": "code",
   "execution_count": 326,
   "metadata": {
    "collapsed": true
   },
   "outputs": [],
   "source": [
    "df_no_dup.info()"
   ]
  },
  {
   "cell_type": "code",
   "execution_count": 327,
   "metadata": {
    "collapsed": false
   },
   "outputs": [
    {
     "data": {
      "text/plain": [
       "7030"
      ]
     },
     "execution_count": 327,
     "metadata": {},
     "output_type": "execute_result"
    }
   ],
   "source": [
    "df_no_dup['target'].sum()"
   ]
  },
  {
   "cell_type": "code",
   "execution_count": 329,
   "metadata": {
    "collapsed": false
   },
   "outputs": [],
   "source": [
    "df_no_dup.to_csv('../data/classifier/NeuralNetwork-classifier-tuned.csv', encoding='utf-8', index=False)"
   ]
  },
  {
   "cell_type": "code",
   "execution_count": 51,
   "metadata": {
    "collapsed": false
   },
   "outputs": [],
   "source": [
    "print cnt, cnt*1.0/len(Y_pred)"
   ]
  },
  {
   "cell_type": "code",
   "execution_count": 307,
   "metadata": {
    "collapsed": true
   },
   "outputs": [],
   "source": [
    "print df_no_dup['flag'].sum()"
   ]
  },
  {
   "cell_type": "code",
   "execution_count": null,
   "metadata": {
    "collapsed": true
   },
   "outputs": [],
   "source": []
  }
 ],
 "metadata": {
  "kernelspec": {
   "display_name": "Python 2",
   "language": "python",
   "name": "python2"
  },
  "language_info": {
   "codemirror_mode": {
    "name": "ipython",
    "version": 2
   },
   "file_extension": ".py",
   "mimetype": "text/x-python",
   "name": "python",
   "nbconvert_exporter": "python",
   "pygments_lexer": "ipython2",
   "version": "2.7.10"
  }
 },
 "nbformat": 4,
 "nbformat_minor": 2
}
