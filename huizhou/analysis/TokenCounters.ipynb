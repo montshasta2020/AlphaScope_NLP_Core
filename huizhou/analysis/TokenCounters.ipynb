{
 "cells": [
  {
   "cell_type": "code",
   "execution_count": 1,
   "metadata": {
    "collapsed": true
   },
   "outputs": [],
   "source": [
    "import nltk\n",
    "import string\n",
    "from collections import Counter\n",
    "from nltk.corpus import stopwords\n",
    "from nltk.stem.porter import *\n",
    "\n",
    "import numpy as np\n",
    "import numpy.linalg as LA\n",
    "\n",
    "import pandas as pd\n",
    "\n",
    "import matplotlib.pyplot as plt\n",
    "\n",
    "from my_pickle import my_pickle_load"
   ]
  },
  {
   "cell_type": "code",
   "execution_count": 2,
   "metadata": {
    "collapsed": true
   },
   "outputs": [],
   "source": [
    "%matplotlib inline"
   ]
  },
  {
   "cell_type": "code",
   "execution_count": 3,
   "metadata": {
    "collapsed": false
   },
   "outputs": [],
   "source": [
    "df = my_pickle_load('pkl/ds_news_dec_2015.pkl')      "
   ]
  },
  {
   "cell_type": "code",
   "execution_count": 4,
   "metadata": {
    "collapsed": true
   },
   "outputs": [],
   "source": [
    "def clean_raw_data(df):\n",
    "    ret = []\n",
    "    for i in xrange(df.shape[0]):\n",
    "        if (df.iloc[i]['body_len'] > 10):\n",
    "            ret.append(df.iloc[i]['body'])\n",
    "    return ret"
   ]
  },
  {
   "cell_type": "code",
   "execution_count": 5,
   "metadata": {
    "collapsed": false
   },
   "outputs": [],
   "source": [
    "articles = clean_raw_data(df)"
   ]
  },
  {
   "cell_type": "code",
   "execution_count": 6,
   "metadata": {
    "collapsed": false
   },
   "outputs": [],
   "source": [
    "def get_tokens(doc):\n",
    "    lowers = doc.lower()\n",
    "    no_punctuation = lowers.translate(None, string.punctuation)\n",
    "\n",
    "    #remove the punctuation using the character deletion step of translate\n",
    "    no_punctuation = lowers.translate(None, string.punctuation)\n",
    "    tokens = nltk.word_tokenize(no_punctuation)\n",
    "    \n",
    "    filtered = [w for w in tokens if not w in stopwords.words('english')]\n",
    "    \n",
    "    #tokens_no_stopwords = [token for token in tokens if token not in stopwords.word('english')] \n",
    "    #return tokens_no_stopwords\n",
    "    \n",
    "#    print (len(filtered))\n",
    "    \n",
    "    return filtered"
   ]
  },
  {
   "cell_type": "code",
   "execution_count": 7,
   "metadata": {
    "collapsed": false
   },
   "outputs": [
    {
     "name": "stdout",
     "output_type": "stream",
     "text": [
      "3723\n"
     ]
    }
   ],
   "source": [
    "\n",
    "tot_tokens = [get_tokens(article) for article in articles]\n",
    "print len(tot_tokens)"
   ]
  },
  {
   "cell_type": "code",
   "execution_count": 8,
   "metadata": {
    "collapsed": false
   },
   "outputs": [
    {
     "name": "stdout",
     "output_type": "stream",
     "text": [
      "3723\n"
     ]
    }
   ],
   "source": [
    "print len(tot_tokens)"
   ]
  },
  {
   "cell_type": "code",
   "execution_count": 9,
   "metadata": {
    "collapsed": true
   },
   "outputs": [],
   "source": [
    "flatten = [ inner for sublist in tot_tokens for inner in sublist ]"
   ]
  },
  {
   "cell_type": "code",
   "execution_count": 10,
   "metadata": {
    "collapsed": false
   },
   "outputs": [
    {
     "name": "stdout",
     "output_type": "stream",
     "text": [
      "2124617\n"
     ]
    }
   ],
   "source": [
    "print len(flatten)"
   ]
  },
  {
   "cell_type": "code",
   "execution_count": 11,
   "metadata": {
    "collapsed": false
   },
   "outputs": [],
   "source": [
    "count = Counter(flatten)"
   ]
  },
  {
   "cell_type": "code",
   "execution_count": 12,
   "metadata": {
    "collapsed": false
   },
   "outputs": [
    {
     "name": "stdout",
     "output_type": "stream",
     "text": [
      "[('data', 83102), ('science', 26291), ('learning', 26079), ('2015', 23672), ('machine', 18332), ('top', 16032), ('analytics', 15177), ('big', 14771), ('kdnuggets', 12469), ('dec', 12123), ('business', 10413), ('python', 9630), ('news', 8959), ('projects', 8737), ('10', 8301), ('deep', 7596), ('need', 7088), ('7', 6995), ('one', 6747), ('new', 6590), ('scientist', 5958), ('post', 5915), ('scientists', 5844), ('skills', 5822), ('nov', 5783), ('open', 5685), ('r', 5279), ('github', 5250), ('mining', 5194), ('source', 5170), ('software', 4791), ('2016', 4772), ('also', 4747), ('many', 4698), ('time', 4619), ('may', 4595), ('use', 4366), ('predictive', 4208), ('companies', 4161), ('14', 4126), ('get', 4085), ('tensorflow', 4007), ('next', 3917), ('become', 3850), ('information', 3823), ('hadoop', 3798), ('like', 3766), ('analysis', 3753), ('google', 3723), ('help', 3633)]\n"
     ]
    }
   ],
   "source": [
    "most_common_words = count.most_common(50)\n",
    "print most_common_words"
   ]
  },
  {
   "cell_type": "code",
   "execution_count": 13,
   "metadata": {
    "collapsed": false
   },
   "outputs": [],
   "source": [
    "words, counts = zip(*most_common_words)"
   ]
  },
  {
   "cell_type": "code",
   "execution_count": 14,
   "metadata": {
    "collapsed": false
   },
   "outputs": [
    {
     "name": "stdout",
     "output_type": "stream",
     "text": [
      "50\n"
     ]
    }
   ],
   "source": [
    "print len(counts)"
   ]
  },
  {
   "cell_type": "code",
   "execution_count": 15,
   "metadata": {
    "collapsed": false
   },
   "outputs": [
    {
     "data": {
      "image/png": "[encoded data removed]",
      "text/plain": [
       "<matplotlib.figure.Figure at 0x108c08cd0>"
      ]
     },
     "metadata": {},
     "output_type": "display_data"
    }
   ],
   "source": [
    "pos = np.arange(len(words))\n",
    "width = 1.0     # gives histogram aspect to the bar diagram\n",
    "\n",
    "plt.figure(figsize=(20,8))\n",
    "\n",
    "ax = plt.axes()\n",
    "ax.set_xticks(pos + (width / 2))\n",
    "ax.set_xticklabels(words, rotation=90)\n",
    "\n",
    "plt.bar(pos, counts, width, color='b')\n",
    "plt.show()"
   ]
  },
  {
   "cell_type": "code",
   "execution_count": 16,
   "metadata": {
    "collapsed": false
   },
   "outputs": [
    {
     "name": "stdout",
     "output_type": "stream",
     "text": [
      "[(u'data', 83169), (u'learn', 28208), (u'scienc', 26830), (u'2015', 23681), (u'machin', 18849), (u'analyt', 16448), (u'top', 16046), (u'big', 14778), (u'use', 14616), (u'kdnugget', 12469), (u'dec', 12123), (u'scientist', 11802), (u'busi', 11401), (u'predict', 10356), (u'project', 10297), (u'python', 9645), (u'news', 8959), (u'need', 8889), (u'10', 8301), (u'deep', 7598), (u'one', 7286), (u'compani', 7121), (u'7', 6995), (u'model', 6810), (u'post', 6675), (u'new', 6593), (u'skill', 6311), (u'sourc', 6080), (u'open', 5941), (u'nov', 5783), (u'develop', 5671), (u'work', 5614), (u'make', 5601), (u'time', 5576), (u'year', 5533), (u'mine', 5372), (u'r', 5279), (u'github', 5253), (u'process', 5162), (u'get', 5033), (u'manag', 5000), (u'help', 4905), (u'like', 4808), (u'softwar', 4800), (u'import', 4782), (u'2016', 4773), (u'research', 4757), (u'also', 4747), (u'mani', 4698), (u'becom', 4638)]\n"
     ]
    }
   ],
   "source": [
    "def stem_tokens(tokens, stemmer):\n",
    "    stemmed = []\n",
    "    for item in tokens:\n",
    "        stemmed.append(stemmer.stem(item))\n",
    "    return stemmed\n",
    "\n",
    "stemmer = PorterStemmer()\n",
    "stemmed = stem_tokens(flatten, stemmer)\n",
    "most_common_words_stemmed = Counter(stemmed)\n",
    "print most_common_words_stemmed.most_common(50)"
   ]
  },
  {
   "cell_type": "code",
   "execution_count": 17,
   "metadata": {
    "collapsed": false
   },
   "outputs": [
    {
     "name": "stdout",
     "output_type": "stream",
     "text": [
      "69179\n"
     ]
    }
   ],
   "source": [
    "print len(most_common_words_stemmed)"
   ]
  },
  {
   "cell_type": "markdown",
   "metadata": {
    "collapsed": false
   },
   "source": [
    "df2 = pd.DataFrame(list(most_common_words_stemmed), columns=['stemmed', 'count'])\n",
    "words = df2['stemmed'].values\n",
    "counts = df2['count'].values\n"
   ]
  },
  {
   "cell_type": "markdown",
   "metadata": {},
   "source": [
    "pos = np.arange(len(words))\n",
    "width = 1.0     # gives histogram aspect to the bar diagram\n",
    "\n",
    "plt.figure(figsize=(20,8))\n",
    "\n",
    "ax = plt.axes()\n",
    "ax.set_xticks(pos + (width / 2))\n",
    "ax.set_xticklabels(words, rotation=90)\n",
    "\n",
    "plt.bar(pos, counts, width, color='b')\n",
    "plt.show()"
   ]
  },
  {
   "cell_type": "code",
   "execution_count": 18,
   "metadata": {
    "collapsed": false
   },
   "outputs": [],
   "source": [
    "\n",
    "#Create your bigrams\n",
    "bgs = nltk.bigrams(flatten)\n",
    "\n",
    "#compute frequency distribution for all the bigrams in the text\n",
    "fdist = nltk.FreqDist(bgs)\n",
    "\n",
    "# for k,v in fdist.items():\n",
    "#     print k,v"
   ]
  },
  {
   "cell_type": "code",
   "execution_count": 19,
   "metadata": {
    "collapsed": false
   },
   "outputs": [
    {
     "data": {
      "text/plain": [
       "963941"
      ]
     },
     "execution_count": 19,
     "metadata": {},
     "output_type": "execute_result"
    }
   ],
   "source": [
    "len(fdist)"
   ]
  },
  {
   "cell_type": "code",
   "execution_count": 20,
   "metadata": {
    "collapsed": false
   },
   "outputs": [
    {
     "name": "stdout",
     "output_type": "stream",
     "text": [
      "[(('data', 'science'), 23003), (('machine', 'learning'), 17638), (('big', 'data'), 13360), (('deep', 'learning'), 6832), (('data', 'scientist'), 5546), (('top', '10'), 5337), (('learning', 'projects'), 5082), (('10', 'machine'), 5079), (('projects', 'github'), 5071), (('data', 'scientists'), 4998), (('data', 'mining'), 4701), (('open', 'source'), 4529), (('data', 'data'), 3894), (('14', '2015'), 3823), (('dec', '14'), 3776), (('predictive', 'analytics'), 3071), (('top', 'stories'), 2913), (('become', 'data'), 2716), (('top', '20'), 2715), (('vs', 'python'), 2648), (('r', 'vs'), 2647), (('python', 'data'), 2641), (('python', 'machine'), 2634), (('learning', 'python'), 2610), (('source', 'projects'), 2587), (('7', '2015'), 2587), (('20', 'python'), 2586), (('science', 'iot'), 2585), (('skills', 'need'), 2578), (('learning', 'open'), 2575), (('need', 'become'), 2574), (('tensorflow', 'disappoints'), 2569), (('science', 'winner'), 2568), (('falls', 'shallow'), 2564), (('disappoints', 'google'), 2564), (('google', 'deep'), 2560), (('importance', 'data'), 2559), (('7', 'steps'), 2558), (('musthave', 'skills'), 2557), (('learning', 'falls'), 2557), (('steps', 'mastering'), 2547), (('previous', 'post'), 2547), (('mastering', 'machine'), 2543), (('iot', 'business'), 2537), (('next', 'post'), 2533), (('humor', 'cartoons'), 2531), (('science', 'humor'), 2529), (('learning', 'prediction'), 2525), (('news', 'follow'), 2524), (('2015', '7'), 2524)]\n"
     ]
    }
   ],
   "source": [
    "fds = fdist.most_common(50)\n",
    "print fds"
   ]
  },
  {
   "cell_type": "code",
   "execution_count": 21,
   "metadata": {
    "collapsed": true
   },
   "outputs": [],
   "source": [
    "words, counts = zip(*fds)"
   ]
  },
  {
   "cell_type": "code",
   "execution_count": 22,
   "metadata": {
    "collapsed": false
   },
   "outputs": [
    {
     "name": "stdout",
     "output_type": "stream",
     "text": [
      "(('data', 'science'), ('machine', 'learning'), ('big', 'data'), ('deep', 'learning'), ('data', 'scientist'), ('top', '10'), ('learning', 'projects'), ('10', 'machine'), ('projects', 'github'), ('data', 'scientists'), ('data', 'mining'), ('open', 'source'), ('data', 'data'), ('14', '2015'), ('dec', '14'), ('predictive', 'analytics'), ('top', 'stories'), ('become', 'data'), ('top', '20'), ('vs', 'python'), ('r', 'vs'), ('python', 'data'), ('python', 'machine'), ('learning', 'python'), ('source', 'projects'), ('7', '2015'), ('20', 'python'), ('science', 'iot'), ('skills', 'need'), ('learning', 'open'), ('need', 'become'), ('tensorflow', 'disappoints'), ('science', 'winner'), ('falls', 'shallow'), ('disappoints', 'google'), ('google', 'deep'), ('importance', 'data'), ('7', 'steps'), ('musthave', 'skills'), ('learning', 'falls'), ('steps', 'mastering'), ('previous', 'post'), ('mastering', 'machine'), ('iot', 'business'), ('next', 'post'), ('humor', 'cartoons'), ('science', 'humor'), ('learning', 'prediction'), ('news', 'follow'), ('2015', '7'))\n"
     ]
    }
   ],
   "source": [
    "print words"
   ]
  },
  {
   "cell_type": "code",
   "execution_count": 23,
   "metadata": {
    "collapsed": false
   },
   "outputs": [
    {
     "name": "stdout",
     "output_type": "stream",
     "text": [
      "['data science', 'machine learning', 'big data', 'deep learning', 'data scientist', 'top 10', 'learning projects', '10 machine', 'projects github', 'data scientists', 'data mining', 'open source', 'data data', '14 2015', 'dec 14', 'predictive analytics', 'top stories', 'become data', 'top 20', 'vs python', 'r vs', 'python data', 'python machine', 'learning python', 'source projects', '7 2015', '20 python', 'science iot', 'skills need', 'learning open', 'need become', 'tensorflow disappoints', 'science winner', 'falls shallow', 'disappoints google', 'google deep', 'importance data', '7 steps', 'musthave skills', 'learning falls', 'steps mastering', 'previous post', 'mastering machine', 'iot business', 'next post', 'humor cartoons', 'science humor', 'learning prediction', 'news follow', '2015 7']\n"
     ]
    }
   ],
   "source": [
    "words_zip = [' '.join(word) for word in words]\n",
    "print words_zip"
   ]
  },
  {
   "cell_type": "code",
   "execution_count": 24,
   "metadata": {
    "collapsed": false
   },
   "outputs": [
    {
     "name": "stdout",
     "output_type": "stream",
     "text": [
      "(23003, 17638, 13360, 6832, 5546, 5337, 5082, 5079, 5071, 4998, 4701, 4529, 3894, 3823, 3776, 3071, 2913, 2716, 2715, 2648, 2647, 2641, 2634, 2610, 2587, 2587, 2586, 2585, 2578, 2575, 2574, 2569, 2568, 2564, 2564, 2560, 2559, 2558, 2557, 2557, 2547, 2547, 2543, 2537, 2533, 2531, 2529, 2525, 2524, 2524)\n"
     ]
    }
   ],
   "source": [
    "print counts"
   ]
  },
  {
   "cell_type": "code",
   "execution_count": 25,
   "metadata": {
    "collapsed": false
   },
   "outputs": [
    {
     "data": {
      "image/png": "[encoded data removed]",
      "text/plain": [
       "<matplotlib.figure.Figure at 0x115090110>"
      ]
     },
     "metadata": {},
     "output_type": "display_data"
    }
   ],
   "source": [
    "pos = np.arange(len(words_zip))\n",
    "width = 1.0     # gives histogram aspect to the bar diagram\n",
    "\n",
    "plt.figure(figsize=(20,8))\n",
    "\n",
    "ax = plt.axes()\n",
    "ax.set_xticks(pos + (width / 2))\n",
    "ax.set_xticklabels(words_zip, rotation=90)\n",
    "\n",
    "plt.bar(pos, counts, width, color='b')\n",
    "plt.show()"
   ]
  },
  {
   "cell_type": "markdown",
   "metadata": {},
   "source": [
    "def plot_freqdist(fd, num = 0, cumulative = False, title = None):\n",
    "    import pylab\n",
    "    # Set up parameters\n",
    "    if num <= 0:\n",
    "        num = fd.B\n",
    "    # Get samples and frequencies\n",
    "    samples, freq, accu = [], [], 0\n",
    "    for s, f in fd.most_common(num):\n",
    "        accu = accu + f if cumulative else f\n",
    "        samples.append(s)\n",
    "        freq.append(accu)\n",
    "    # Create plot\n",
    "    pylab.grid(True, color = 'silver')\n",
    "    if title:\n",
    "        pylab.title(title)\n",
    "    pylab.plot(freq, linewidth = 2)\n",
    "    pylab.xticks(range(len(samples)), samples, rotation = 90)\n",
    "    pylab.xlabel('Samples')\n",
    "    pylab.ylabel('Cumulative Counts' if cumulative else 'Counts')\n",
    "    pylab.show()"
   ]
  },
  {
   "cell_type": "markdown",
   "metadata": {
    "collapsed": false
   },
   "source": [
    "plot_freqdist(fdist, 50)"
   ]
  },
  {
   "cell_type": "code",
   "execution_count": null,
   "metadata": {
    "collapsed": true
   },
   "outputs": [],
   "source": []
  }
 ],
 "metadata": {
  "kernelspec": {
   "display_name": "Python 2",
   "language": "python",
   "name": "python2"
  },
  "language_info": {
   "codemirror_mode": {
    "name": "ipython",
    "version": 2
   },
   "file_extension": ".py",
   "mimetype": "text/x-python",
   "name": "python",
   "nbconvert_exporter": "python",
   "pygments_lexer": "ipython2",
   "version": "2.7.10"
  }
 },
 "nbformat": 4,
 "nbformat_minor": 0
}
