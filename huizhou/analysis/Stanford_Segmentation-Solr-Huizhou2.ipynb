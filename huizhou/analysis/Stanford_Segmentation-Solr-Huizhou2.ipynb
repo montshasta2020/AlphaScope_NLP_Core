{
 "cells": [
  {
   "cell_type": "code",
   "execution_count": 86,
   "metadata": {
    "collapsed": true
   },
   "outputs": [],
   "source": [
    "import sys  \n",
    "reload(sys)  \n",
    "sys.setdefaultencoding('utf-8')"
   ]
  },
  {
   "cell_type": "code",
   "execution_count": 87,
   "metadata": {
    "collapsed": true
   },
   "outputs": [],
   "source": [
    "import pandas as pd\n",
    "from urlparse import urlparse\n",
    "import tldextract"
   ]
  },
  {
   "cell_type": "code",
   "execution_count": 88,
   "metadata": {
    "collapsed": true
   },
   "outputs": [],
   "source": [
    "from nltk.tokenize.stanford_segmenter import StanfordSegmenter"
   ]
  },
  {
   "cell_type": "code",
   "execution_count": 89,
   "metadata": {
    "collapsed": false
   },
   "outputs": [],
   "source": [
    "new_df = pd.read_csv('../data/nutch-crawl-huizhou-domain_only2-02-15-2017-cleaned.csv')"
   ]
  },
  {
   "cell_type": "code",
   "execution_count": 90,
   "metadata": {
    "collapsed": true
   },
   "outputs": [],
   "source": [
    "new_df.info()"
   ]
  },
  {
   "cell_type": "code",
   "execution_count": 91,
   "metadata": {
    "collapsed": false
   },
   "outputs": [
    {
     "data": {
      "text/html": [
       "<div>\n",
       "<table border=\"1\" class=\"dataframe\">\n",
       "  <thead>\n",
       "    <tr style=\"text-align: right;\">\n",
       "      <th></th>\n",
       "      <th>id</th>\n",
       "      <th>tstamp</th>\n",
       "      <th>url</th>\n",
       "      <th>domain</th>\n",
       "      <th>title</th>\n",
       "      <th>digest</th>\n",
       "      <th>content</th>\n",
       "    </tr>\n",
       "  </thead>\n",
       "  <tbody>\n",
       "    <tr>\n",
       "      <th>0</th>\n",
       "      <td>http://cul.anhuinews.com/system/2009/03/05/002...</td>\n",
       "      <td>2017-02-13T17:25:31.777Z</td>\n",
       "      <td>http://cul.anhuinews.com/system/2009/03/05/002...</td>\n",
       "      <td>anhuinews.com</td>\n",
       "      <td>第十六章(2)-月上重火,连载,阅读-中安在线-徽文化</td>\n",
       "      <td>306a2bbf507dca8af08ca26bdc835949</td>\n",
       "      <td>第十六章(2)-月上重火,连载,阅读-中安在线-徽文化 首页 　 新闻 　 安徽 　 网视 ...</td>\n",
       "    </tr>\n",
       "    <tr>\n",
       "      <th>1</th>\n",
       "      <td>http://cul.anhuinews.com/system/2009/03/05/002...</td>\n",
       "      <td>2017-02-13T17:47:03.783Z</td>\n",
       "      <td>http://cul.anhuinews.com/system/2009/03/05/002...</td>\n",
       "      <td>anhuinews.com</td>\n",
       "      <td>第十六章(1)-月上重火,连载,阅读-中安在线-徽文化</td>\n",
       "      <td>38d30b20526082bbcdfc2d911528da3a</td>\n",
       "      <td>第十六章(1)-月上重火,连载,阅读-中安在线-徽文化 首页 　 新闻 　 安徽 　 网视 ...</td>\n",
       "    </tr>\n",
       "    <tr>\n",
       "      <th>2</th>\n",
       "      <td>http://cul.anhuinews.com/system/2009/03/05/002...</td>\n",
       "      <td>2017-02-13T16:20:40.982Z</td>\n",
       "      <td>http://cul.anhuinews.com/system/2009/03/05/002...</td>\n",
       "      <td>anhuinews.com</td>\n",
       "      <td>第十五章(4)-月上重火,连载,阅读-中安在线-徽文化</td>\n",
       "      <td>c80267d57e6a8c6eecb593b2617e438c</td>\n",
       "      <td>第十五章(4)-月上重火,连载,阅读-中安在线-徽文化 首页 　 新闻 　 安徽 　 网视 ...</td>\n",
       "    </tr>\n",
       "    <tr>\n",
       "      <th>3</th>\n",
       "      <td>http://cul.anhuinews.com/system/2009/03/05/002...</td>\n",
       "      <td>2017-02-13T18:57:11.49Z</td>\n",
       "      <td>http://cul.anhuinews.com/system/2009/03/05/002...</td>\n",
       "      <td>anhuinews.com</td>\n",
       "      <td>第十五章(3)-月上重火,连载,阅读-中安在线-徽文化</td>\n",
       "      <td>31ea7eaa5e81e56ed3fc2a54e3978530</td>\n",
       "      <td>第十五章(3)-月上重火,连载,阅读-中安在线-徽文化 首页 　 新闻 　 安徽 　 网视 ...</td>\n",
       "    </tr>\n",
       "    <tr>\n",
       "      <th>4</th>\n",
       "      <td>http://cul.anhuinews.com/system/2009/03/05/002...</td>\n",
       "      <td>2017-02-13T16:40:17.225Z</td>\n",
       "      <td>http://cul.anhuinews.com/system/2009/03/05/002...</td>\n",
       "      <td>anhuinews.com</td>\n",
       "      <td>第十五章(2)-月上重火,连载,阅读-中安在线-徽文化</td>\n",
       "      <td>a22abfd3a1ed3d6065f9fb3ec2502e3f</td>\n",
       "      <td>第十五章(2)-月上重火,连载,阅读-中安在线-徽文化 首页 　 新闻 　 安徽 　 网视 ...</td>\n",
       "    </tr>\n",
       "  </tbody>\n",
       "</table>\n",
       "</div>"
      ],
      "text/plain": [
       "                                                  id  \\\n",
       "0  http://cul.anhuinews.com/system/2009/03/05/002...   \n",
       "1  http://cul.anhuinews.com/system/2009/03/05/002...   \n",
       "2  http://cul.anhuinews.com/system/2009/03/05/002...   \n",
       "3  http://cul.anhuinews.com/system/2009/03/05/002...   \n",
       "4  http://cul.anhuinews.com/system/2009/03/05/002...   \n",
       "\n",
       "                     tstamp  \\\n",
       "0  2017-02-13T17:25:31.777Z   \n",
       "1  2017-02-13T17:47:03.783Z   \n",
       "2  2017-02-13T16:20:40.982Z   \n",
       "3   2017-02-13T18:57:11.49Z   \n",
       "4  2017-02-13T16:40:17.225Z   \n",
       "\n",
       "                                                 url         domain  \\\n",
       "0  http://cul.anhuinews.com/system/2009/03/05/002...  anhuinews.com   \n",
       "1  http://cul.anhuinews.com/system/2009/03/05/002...  anhuinews.com   \n",
       "2  http://cul.anhuinews.com/system/2009/03/05/002...  anhuinews.com   \n",
       "3  http://cul.anhuinews.com/system/2009/03/05/002...  anhuinews.com   \n",
       "4  http://cul.anhuinews.com/system/2009/03/05/002...  anhuinews.com   \n",
       "\n",
       "                         title                            digest  \\\n",
       "0  第十六章(2)-月上重火,连载,阅读-中安在线-徽文化  306a2bbf507dca8af08ca26bdc835949   \n",
       "1  第十六章(1)-月上重火,连载,阅读-中安在线-徽文化  38d30b20526082bbcdfc2d911528da3a   \n",
       "2  第十五章(4)-月上重火,连载,阅读-中安在线-徽文化  c80267d57e6a8c6eecb593b2617e438c   \n",
       "3  第十五章(3)-月上重火,连载,阅读-中安在线-徽文化  31ea7eaa5e81e56ed3fc2a54e3978530   \n",
       "4  第十五章(2)-月上重火,连载,阅读-中安在线-徽文化  a22abfd3a1ed3d6065f9fb3ec2502e3f   \n",
       "\n",
       "                                             content  \n",
       "0  第十六章(2)-月上重火,连载,阅读-中安在线-徽文化 首页 　 新闻 　 安徽 　 网视 ...  \n",
       "1  第十六章(1)-月上重火,连载,阅读-中安在线-徽文化 首页 　 新闻 　 安徽 　 网视 ...  \n",
       "2  第十五章(4)-月上重火,连载,阅读-中安在线-徽文化 首页 　 新闻 　 安徽 　 网视 ...  \n",
       "3  第十五章(3)-月上重火,连载,阅读-中安在线-徽文化 首页 　 新闻 　 安徽 　 网视 ...  \n",
       "4  第十五章(2)-月上重火,连载,阅读-中安在线-徽文化 首页 　 新闻 　 安徽 　 网视 ...  "
      ]
     },
     "execution_count": 91,
     "metadata": {},
     "output_type": "execute_result"
    }
   ],
   "source": [
    "new_df.head()"
   ]
  },
  {
   "cell_type": "code",
   "execution_count": 92,
   "metadata": {
    "collapsed": true
   },
   "outputs": [],
   "source": [
    "df_no_dup = new_df.drop_duplicates(['title'])"
   ]
  },
  {
   "cell_type": "code",
   "execution_count": 93,
   "metadata": {
    "collapsed": true
   },
   "outputs": [],
   "source": [
    "df_no_dup = df_no_dup.drop_duplicates(['url'])"
   ]
  },
  {
   "cell_type": "code",
   "execution_count": 94,
   "metadata": {
    "collapsed": true
   },
   "outputs": [],
   "source": [
    "df_no_dup.info()"
   ]
  },
  {
   "cell_type": "code",
   "execution_count": 95,
   "metadata": {
    "collapsed": false
   },
   "outputs": [
    {
     "data": {
      "text/html": [
       "<div>\n",
       "<table border=\"1\" class=\"dataframe\">\n",
       "  <thead>\n",
       "    <tr style=\"text-align: right;\">\n",
       "      <th></th>\n",
       "      <th>id</th>\n",
       "      <th>tstamp</th>\n",
       "      <th>url</th>\n",
       "      <th>domain</th>\n",
       "      <th>title</th>\n",
       "      <th>digest</th>\n",
       "      <th>content</th>\n",
       "    </tr>\n",
       "  </thead>\n",
       "  <tbody>\n",
       "    <tr>\n",
       "      <th>0</th>\n",
       "      <td>http://cul.anhuinews.com/system/2009/03/05/002...</td>\n",
       "      <td>2017-02-13T17:25:31.777Z</td>\n",
       "      <td>http://cul.anhuinews.com/system/2009/03/05/002...</td>\n",
       "      <td>anhuinews.com</td>\n",
       "      <td>第十六章(2)-月上重火,连载,阅读-中安在线-徽文化</td>\n",
       "      <td>306a2bbf507dca8af08ca26bdc835949</td>\n",
       "      <td>第十六章(2)-月上重火,连载,阅读-中安在线-徽文化 首页 　 新闻 　 安徽 　 网视 ...</td>\n",
       "    </tr>\n",
       "    <tr>\n",
       "      <th>1</th>\n",
       "      <td>http://cul.anhuinews.com/system/2009/03/05/002...</td>\n",
       "      <td>2017-02-13T17:47:03.783Z</td>\n",
       "      <td>http://cul.anhuinews.com/system/2009/03/05/002...</td>\n",
       "      <td>anhuinews.com</td>\n",
       "      <td>第十六章(1)-月上重火,连载,阅读-中安在线-徽文化</td>\n",
       "      <td>38d30b20526082bbcdfc2d911528da3a</td>\n",
       "      <td>第十六章(1)-月上重火,连载,阅读-中安在线-徽文化 首页 　 新闻 　 安徽 　 网视 ...</td>\n",
       "    </tr>\n",
       "    <tr>\n",
       "      <th>2</th>\n",
       "      <td>http://cul.anhuinews.com/system/2009/03/05/002...</td>\n",
       "      <td>2017-02-13T16:20:40.982Z</td>\n",
       "      <td>http://cul.anhuinews.com/system/2009/03/05/002...</td>\n",
       "      <td>anhuinews.com</td>\n",
       "      <td>第十五章(4)-月上重火,连载,阅读-中安在线-徽文化</td>\n",
       "      <td>c80267d57e6a8c6eecb593b2617e438c</td>\n",
       "      <td>第十五章(4)-月上重火,连载,阅读-中安在线-徽文化 首页 　 新闻 　 安徽 　 网视 ...</td>\n",
       "    </tr>\n",
       "    <tr>\n",
       "      <th>3</th>\n",
       "      <td>http://cul.anhuinews.com/system/2009/03/05/002...</td>\n",
       "      <td>2017-02-13T18:57:11.49Z</td>\n",
       "      <td>http://cul.anhuinews.com/system/2009/03/05/002...</td>\n",
       "      <td>anhuinews.com</td>\n",
       "      <td>第十五章(3)-月上重火,连载,阅读-中安在线-徽文化</td>\n",
       "      <td>31ea7eaa5e81e56ed3fc2a54e3978530</td>\n",
       "      <td>第十五章(3)-月上重火,连载,阅读-中安在线-徽文化 首页 　 新闻 　 安徽 　 网视 ...</td>\n",
       "    </tr>\n",
       "    <tr>\n",
       "      <th>4</th>\n",
       "      <td>http://cul.anhuinews.com/system/2009/03/05/002...</td>\n",
       "      <td>2017-02-13T16:40:17.225Z</td>\n",
       "      <td>http://cul.anhuinews.com/system/2009/03/05/002...</td>\n",
       "      <td>anhuinews.com</td>\n",
       "      <td>第十五章(2)-月上重火,连载,阅读-中安在线-徽文化</td>\n",
       "      <td>a22abfd3a1ed3d6065f9fb3ec2502e3f</td>\n",
       "      <td>第十五章(2)-月上重火,连载,阅读-中安在线-徽文化 首页 　 新闻 　 安徽 　 网视 ...</td>\n",
       "    </tr>\n",
       "  </tbody>\n",
       "</table>\n",
       "</div>"
      ],
      "text/plain": [
       "                                                  id  \\\n",
       "0  http://cul.anhuinews.com/system/2009/03/05/002...   \n",
       "1  http://cul.anhuinews.com/system/2009/03/05/002...   \n",
       "2  http://cul.anhuinews.com/system/2009/03/05/002...   \n",
       "3  http://cul.anhuinews.com/system/2009/03/05/002...   \n",
       "4  http://cul.anhuinews.com/system/2009/03/05/002...   \n",
       "\n",
       "                     tstamp  \\\n",
       "0  2017-02-13T17:25:31.777Z   \n",
       "1  2017-02-13T17:47:03.783Z   \n",
       "2  2017-02-13T16:20:40.982Z   \n",
       "3   2017-02-13T18:57:11.49Z   \n",
       "4  2017-02-13T16:40:17.225Z   \n",
       "\n",
       "                                                 url         domain  \\\n",
       "0  http://cul.anhuinews.com/system/2009/03/05/002...  anhuinews.com   \n",
       "1  http://cul.anhuinews.com/system/2009/03/05/002...  anhuinews.com   \n",
       "2  http://cul.anhuinews.com/system/2009/03/05/002...  anhuinews.com   \n",
       "3  http://cul.anhuinews.com/system/2009/03/05/002...  anhuinews.com   \n",
       "4  http://cul.anhuinews.com/system/2009/03/05/002...  anhuinews.com   \n",
       "\n",
       "                         title                            digest  \\\n",
       "0  第十六章(2)-月上重火,连载,阅读-中安在线-徽文化  306a2bbf507dca8af08ca26bdc835949   \n",
       "1  第十六章(1)-月上重火,连载,阅读-中安在线-徽文化  38d30b20526082bbcdfc2d911528da3a   \n",
       "2  第十五章(4)-月上重火,连载,阅读-中安在线-徽文化  c80267d57e6a8c6eecb593b2617e438c   \n",
       "3  第十五章(3)-月上重火,连载,阅读-中安在线-徽文化  31ea7eaa5e81e56ed3fc2a54e3978530   \n",
       "4  第十五章(2)-月上重火,连载,阅读-中安在线-徽文化  a22abfd3a1ed3d6065f9fb3ec2502e3f   \n",
       "\n",
       "                                             content  \n",
       "0  第十六章(2)-月上重火,连载,阅读-中安在线-徽文化 首页 　 新闻 　 安徽 　 网视 ...  \n",
       "1  第十六章(1)-月上重火,连载,阅读-中安在线-徽文化 首页 　 新闻 　 安徽 　 网视 ...  \n",
       "2  第十五章(4)-月上重火,连载,阅读-中安在线-徽文化 首页 　 新闻 　 安徽 　 网视 ...  \n",
       "3  第十五章(3)-月上重火,连载,阅读-中安在线-徽文化 首页 　 新闻 　 安徽 　 网视 ...  \n",
       "4  第十五章(2)-月上重火,连载,阅读-中安在线-徽文化 首页 　 新闻 　 安徽 　 网视 ...  "
      ]
     },
     "execution_count": 95,
     "metadata": {},
     "output_type": "execute_result"
    }
   ],
   "source": [
    "df_no_dup.head()"
   ]
  },
  {
   "cell_type": "code",
   "execution_count": 96,
   "metadata": {
    "collapsed": true
   },
   "outputs": [],
   "source": [
    "segmenter = StanfordSegmenter(path_to_jar='/Users/nhu2000/desktop/nltk/stanford-segmenter-2014-08-27/stanford-segmenter-3.4.1.jar', \n",
    "                              path_to_slf4j='/Users/nhu2000/desktop/nltk/stanford-segmenter-2014-08-27/slf4j-api.jar',\n",
    "                              path_to_sihan_corpora_dict='/Users/nhu2000/desktop/nltk/stanford-segmenter-2014-08-27/data', \n",
    "                              path_to_model='/Users/nhu2000/desktop/nltk/stanford-segmenter-2014-08-27/data/pku.gz', \n",
    "                              path_to_dict='/Users/nhu2000/desktop/nltk/stanford-segmenter-2014-08-27/data/dict-chris6.ser.gz')"
   ]
  },
  {
   "cell_type": "code",
   "execution_count": 97,
   "metadata": {
    "collapsed": true
   },
   "outputs": [],
   "source": [
    "def get_columns2():\n",
    "    return ('token title', 'flag') \n",
    "def get_empty_columns2():\n",
    "    return ('', '') "
   ]
  },
  {
   "cell_type": "code",
   "execution_count": 98,
   "metadata": {
    "collapsed": true
   },
   "outputs": [],
   "source": [
    "new_df = pd.DataFrame(columns = get_columns2())"
   ]
  },
  {
   "cell_type": "code",
   "execution_count": 99,
   "metadata": {
    "collapsed": true
   },
   "outputs": [],
   "source": [
    "t0 =  df_no_dup.loc[13]['title'].decode('utf-8')\n",
    "t0 =  df_no_dup.loc[13]['domain'].decode('utf-8')\n",
    "print t0, t1\n",
    "if ' ' not in t0:\n",
    "    print 'yes'\n",
    "else:\n",
    "    print 'no'"
   ]
  },
  {
   "cell_type": "code",
   "execution_count": 100,
   "metadata": {
    "collapsed": false
   },
   "outputs": [],
   "source": [
    "idx = 0\n",
    "for i in range(0, len(df_no_dup)):\n",
    "    new_df.loc[idx] = get_empty_columns2()\n",
    "    t0 = df_no_dup.loc[i]['title'].decode('utf-8')\n",
    "    t1 = df_no_dup.loc[i]['domain']\n",
    "    if t1 == '99huizhou.com':\n",
    "        cnt = 0\n",
    "        #print '99huizhou.com ----'\n",
    "    elif '连载,' not in t0 and i > 0 and i < 1000:\n",
    "        print i, t1\n",
    "        if '-徽文化' in t0:\n",
    "            t0 = t0.replace('-徽文化', '') \n",
    "        if '徽文化频道' in t0:\n",
    "            t0 = t0.replace('徽文化频道', '') \n",
    "            #print t0[:-28]\n",
    "        if '中安在线' in t0 :\n",
    "            t0 = t0.replace('中安在线', '') \n",
    "            #print '中安在线----', t0[:-23]\n",
    "        elif 'www.ahage.net' in t0:\n",
    "            if '安徽文化网' in t0:\n",
    "                t0 = t0.replace('安徽文化网', '') \n",
    "            if 'www.ahage.net' in t0:\n",
    "                t0 = t0.replace('www.ahage.net', '') \n",
    "            if '我的网站' in t0:\n",
    "                t0 = t0.replace('我的网站', '') \n",
    "            #print 'www.ahage.net----', t0\n",
    "        elif 'ahage.net' in t0:\n",
    "            if '| 安徽文化人的网上家园，网上最大的安徽历史文化资料中心' in t0:\n",
    "                t0 = t0.replace('| 安徽文化人的网上家园，网上最大的安徽历史文化资料中心', '')\n",
    "            if '安徽文化网' in t0:\n",
    "                t0 = t0.replace('安徽文化网', '') \n",
    "            if 'ahage.net' in t0:\n",
    "                t0 = t0.replace('ahage.net', '') \n",
    "            if '_我的网站' in t0:\n",
    "                t0 = t0.replace('_我的网站', '') \n",
    "            print 'ahage.net----', t0\n",
    "        else:\n",
    "            if '我的网站' in t0:\n",
    "                t0 = t0.replace('我的网站', '')    \n",
    "\n",
    "        if '-- 徽 文化' in t0:\n",
    "            t0 = t0.replace('-- 徽 文化', '') \n",
    "                \n",
    "        t0 = t0.replace('_', '')\n",
    "        t1 = segmenter.segment(t0)\n",
    "        new_df.loc[idx]['token title'] = t1\n",
    "        new_df.loc[idx]['flag'] = 'neg'\n",
    "        print t1\n",
    "        idx += 1"
   ]
  },
  {
   "cell_type": "code",
   "execution_count": null,
   "metadata": {
    "collapsed": true
   },
   "outputs": [],
   "source": [
    "new_df.to_csv('../data/huizhou-solr.neg', encoding='utf-8', index=False)"
   ]
  },
  {
   "cell_type": "code",
   "execution_count": null,
   "metadata": {
    "collapsed": true
   },
   "outputs": [],
   "source": []
  },
  {
   "cell_type": "code",
   "execution_count": null,
   "metadata": {
    "collapsed": true
   },
   "outputs": [],
   "source": []
  }
 ],
 "metadata": {
  "kernelspec": {
   "display_name": "Python 2",
   "language": "python",
   "name": "python2"
  },
  "language_info": {
   "codemirror_mode": {
    "name": "ipython",
    "version": 2
   },
   "file_extension": ".py",
   "mimetype": "text/x-python",
   "name": "python",
   "nbconvert_exporter": "python",
   "pygments_lexer": "ipython2",
   "version": "2.7.10"
  }
 },
 "nbformat": 4,
 "nbformat_minor": 0
}
