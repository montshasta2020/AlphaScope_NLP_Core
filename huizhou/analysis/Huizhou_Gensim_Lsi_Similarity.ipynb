{
 "cells": [
  {
   "cell_type": "code",
   "execution_count": 30,
   "metadata": {
    "collapsed": true
   },
   "outputs": [],
   "source": [
    "import pandas as pd\n",
    "import json\n",
    "import numpy as np\n",
    "import pickle"
   ]
  },
  {
   "cell_type": "code",
   "execution_count": 2,
   "metadata": {
    "collapsed": true
   },
   "outputs": [],
   "source": [
    "import pandas as pd\n",
    "import os\n",
    "import cPickle\n",
    "from gensim import corpora, models, similarities\n",
    "#from db_config import engine"
   ]
  },
  {
   "cell_type": "code",
   "execution_count": 50,
   "metadata": {
    "collapsed": true
   },
   "outputs": [],
   "source": [
    "df = pd.read_csv('../data/classifier/bosonNLP/bosonNLP-classifier-tuned-huizhou.csv')"
   ]
  },
  {
   "cell_type": "code",
   "execution_count": 51,
   "metadata": {
    "collapsed": true
   },
   "outputs": [],
   "source": [
    "import re\n",
    "regex = re.compile(ur\"[^\\u4e00-\\u9f5aa-zA-Z0-9]\") # 中英文和数字"
   ]
  },
  {
   "cell_type": "code",
   "execution_count": 5,
   "metadata": {
    "collapsed": true
   },
   "outputs": [],
   "source": [
    "def jieba_cut(df):\n",
    "    \"\"\"\n",
    "    对标题和内容分词\n",
    "    :return:\n",
    "    \"\"\"\n",
    "    import jieba\n",
    "    #jieba.load_userdict('Data/userdict.txt')  # 自己准备用户词典，也可不指定  //TODO: ...\n",
    "\n",
    "    # 1，去掉标点和特殊字符\n",
    "    # 2，分词\n",
    "    #df['title_fenci'] = df['title'].apply(lambda x : '|'.join(jieba.cut(regex.sub('',x))))\n",
    "    df['title_fenci'] = df['title'].apply(lambda x : '|'.join(jieba.cut(x)))\n",
    "    "
   ]
  },
  {
   "cell_type": "code",
   "execution_count": 52,
   "metadata": {
    "collapsed": false
   },
   "outputs": [],
   "source": [
    "jieba_cut(df)"
   ]
  },
  {
   "cell_type": "code",
   "execution_count": 53,
   "metadata": {
    "collapsed": false
   },
   "outputs": [
    {
     "data": {
      "text/html": [
       "<div>\n",
       "<table border=\"1\" class=\"dataframe\">\n",
       "  <thead>\n",
       "    <tr style=\"text-align: right;\">\n",
       "      <th></th>\n",
       "      <th>url</th>\n",
       "      <th>domain</th>\n",
       "      <th>title</th>\n",
       "      <th>segment</th>\n",
       "      <th>target</th>\n",
       "      <th>source</th>\n",
       "      <th>title_fenci</th>\n",
       "    </tr>\n",
       "  </thead>\n",
       "  <tbody>\n",
       "    <tr>\n",
       "      <th>0</th>\n",
       "      <td>http://cul.anhuinews.com/system/2009/04/09/002...</td>\n",
       "      <td>anhuinews.com</td>\n",
       "      <td>汪氏后裔品披云徽府菜――越国公宴-徽菜-中安在线-徽文化</td>\n",
       "      <td>汪氏 后裔 品 披 云 徽府菜 ―― 越国 公宴-徽菜 -</td>\n",
       "      <td>1</td>\n",
       "      <td>solr</td>\n",
       "      <td>汪氏|后裔|品披|云徽府|菜|―|―|越国公|宴|-|徽菜|-|中安|在线|-|徽|文化</td>\n",
       "    </tr>\n",
       "    <tr>\n",
       "      <th>1</th>\n",
       "      <td>http://cul.anhuinews.com/system/2009/07/01/002...</td>\n",
       "      <td>anhuinews.com</td>\n",
       "      <td>李鸿章大杂烩与八公山豆腐排-徽菜-中安在线-徽文化</td>\n",
       "      <td>李鸿章 大杂烩 与 八 公山 豆腐 排 - 徽菜 -</td>\n",
       "      <td>1</td>\n",
       "      <td>solr</td>\n",
       "      <td>李鸿章|大杂烩|与|八|公山|豆腐|排|-|徽菜|-|中安|在线|-|徽|文化</td>\n",
       "    </tr>\n",
       "    <tr>\n",
       "      <th>2</th>\n",
       "      <td>http://cul.anhuinews.com/system/2009/07/14/002...</td>\n",
       "      <td>anhuinews.com</td>\n",
       "      <td>徽派版画雕刻-徽派版画,徽学流派-中安在线-徽文化</td>\n",
       "      <td>徽派 版画 雕刻-徽派 版画 , 徽学 流派 -</td>\n",
       "      <td>1</td>\n",
       "      <td>solr</td>\n",
       "      <td>徽派|版画|雕刻|-|徽派|版画|,|徽学|流派|-|中安|在线|-|徽|文化</td>\n",
       "    </tr>\n",
       "    <tr>\n",
       "      <th>3</th>\n",
       "      <td>http://cul.anhuinews.com/system/2009/10/20/002...</td>\n",
       "      <td>anhuinews.com</td>\n",
       "      <td>砚雕造神奇 访徽州民间工艺大师王祖伟-大师-中安在线-徽文化</td>\n",
       "      <td>砚雕 造 神奇 访 徽州 民间 工艺 大师 王祖伟 - 大师 -</td>\n",
       "      <td>1</td>\n",
       "      <td>solr</td>\n",
       "      <td>砚|雕造|神奇| |访|徽州|民间工艺|大师|王祖伟|-|大师|-|中安|在线|-|徽|文化</td>\n",
       "    </tr>\n",
       "    <tr>\n",
       "      <th>4</th>\n",
       "      <td>http://cul.anhuinews.com/system/2014/04/17/006...</td>\n",
       "      <td>anhuinews.com</td>\n",
       "      <td>徽州区民俗文物博物馆建成免费开放 徽文化频道 中安在线</td>\n",
       "      <td>徽州区 民俗 文物 博物馆 建成 免费 开放</td>\n",
       "      <td>1</td>\n",
       "      <td>solr</td>\n",
       "      <td>徽州区|民俗|文物|博物馆|建成|免费|开放| |徽|文化频道| |中安|在线</td>\n",
       "    </tr>\n",
       "  </tbody>\n",
       "</table>\n",
       "</div>"
      ],
      "text/plain": [
       "                                                 url         domain  \\\n",
       "0  http://cul.anhuinews.com/system/2009/04/09/002...  anhuinews.com   \n",
       "1  http://cul.anhuinews.com/system/2009/07/01/002...  anhuinews.com   \n",
       "2  http://cul.anhuinews.com/system/2009/07/14/002...  anhuinews.com   \n",
       "3  http://cul.anhuinews.com/system/2009/10/20/002...  anhuinews.com   \n",
       "4  http://cul.anhuinews.com/system/2014/04/17/006...  anhuinews.com   \n",
       "\n",
       "                            title                           segment  target  \\\n",
       "0    汪氏后裔品披云徽府菜――越国公宴-徽菜-中安在线-徽文化     汪氏 后裔 品 披 云 徽府菜 ―― 越国 公宴-徽菜 -       1   \n",
       "1       李鸿章大杂烩与八公山豆腐排-徽菜-中安在线-徽文化        李鸿章 大杂烩 与 八 公山 豆腐 排 - 徽菜 -       1   \n",
       "2       徽派版画雕刻-徽派版画,徽学流派-中安在线-徽文化          徽派 版画 雕刻-徽派 版画 , 徽学 流派 -       1   \n",
       "3  砚雕造神奇 访徽州民间工艺大师王祖伟-大师-中安在线-徽文化  砚雕 造 神奇 访 徽州 民间 工艺 大师 王祖伟 - 大师 -       1   \n",
       "4     徽州区民俗文物博物馆建成免费开放 徽文化频道 中安在线            徽州区 民俗 文物 博物馆 建成 免费 开放       1   \n",
       "\n",
       "  source                                     title_fenci  \n",
       "0   solr    汪氏|后裔|品披|云徽府|菜|―|―|越国公|宴|-|徽菜|-|中安|在线|-|徽|文化  \n",
       "1   solr         李鸿章|大杂烩|与|八|公山|豆腐|排|-|徽菜|-|中安|在线|-|徽|文化  \n",
       "2   solr         徽派|版画|雕刻|-|徽派|版画|,|徽学|流派|-|中安|在线|-|徽|文化  \n",
       "3   solr  砚|雕造|神奇| |访|徽州|民间工艺|大师|王祖伟|-|大师|-|中安|在线|-|徽|文化  \n",
       "4   solr         徽州区|民俗|文物|博物馆|建成|免费|开放| |徽|文化频道| |中安|在线  "
      ]
     },
     "execution_count": 53,
     "metadata": {},
     "output_type": "execute_result"
    }
   ],
   "source": [
    "df.head()"
   ]
  },
  {
   "cell_type": "code",
   "execution_count": 54,
   "metadata": {
    "collapsed": true
   },
   "outputs": [],
   "source": [
    "def remove_low_freq_word(texts, times=1):\n",
    "    \"\"\"\n",
    "    去掉低频词\n",
    "    :param times:出现次数\n",
    "    :return:\n",
    "    \"\"\"\n",
    "    all_tokens = sum(texts, [])\n",
    "    title_token_once = set(word for word in set(all_tokens) if all_tokens.count(word) == times)\n",
    "\n",
    "    texts_result = [[word for word in text if word not in title_token_once] for text in texts]\n",
    "    return texts_result\n"
   ]
  },
  {
   "cell_type": "code",
   "execution_count": 55,
   "metadata": {
    "collapsed": true
   },
   "outputs": [],
   "source": [
    "texts = []\n",
    "for ix, row in df.iterrows():\n",
    "    texts_cuts = row['title_fenci'].split('|')\n",
    "    texts.append(texts_cuts)\n",
    "\n",
    "texts = remove_low_freq_word(texts)"
   ]
  },
  {
   "cell_type": "code",
   "execution_count": 56,
   "metadata": {
    "collapsed": true
   },
   "outputs": [],
   "source": [
    "with open('../data/bag_of_words/huizou_classified_titles.txt', 'wb') as fp:\n",
    "    pickle.dump(texts, fp)"
   ]
  },
  {
   "cell_type": "code",
   "execution_count": 58,
   "metadata": {
    "collapsed": false
   },
   "outputs": [],
   "source": [
    "with open ('../data/bag_of_words/huizou_classified_titles.txt', 'rb') as fp:\n",
    "    texts_load = pickle.load(fp)"
   ]
  },
  {
   "cell_type": "code",
   "execution_count": 59,
   "metadata": {
    "collapsed": false
   },
   "outputs": [],
   "source": [
    "#bag of words and map token to id\n",
    "dictionary = corpora.Dictionary(texts_load)\n",
    "corpus = [dictionary.doc2bow(text) for text in texts_load]"
   ]
  },
  {
   "cell_type": "code",
   "execution_count": 60,
   "metadata": {
    "collapsed": true
   },
   "outputs": [],
   "source": [
    "#tfidf \n",
    "tfidf = models.TfidfModel(corpus)\n",
    "corpus_tfidf = tfidf[corpus]\n"
   ]
  },
  {
   "cell_type": "code",
   "execution_count": 61,
   "metadata": {
    "collapsed": false
   },
   "outputs": [],
   "source": [
    "# Lsi最核心的意义是将训练文档向量组成的矩阵SVD分解，并做了一个秩为2的近似SVD分解\n",
    "lsi = models.LsiModel(corpus_tfidf, id2word=dictionary, num_topics=10)"
   ]
  },
  {
   "cell_type": "code",
   "execution_count": 62,
   "metadata": {
    "collapsed": true
   },
   "outputs": [],
   "source": [
    "# 有了LSI模型，建立索引\n",
    "index = similarities.MatrixSimilarity(lsi[corpus])"
   ]
  },
  {
   "cell_type": "code",
   "execution_count": 64,
   "metadata": {
    "collapsed": false
   },
   "outputs": [
    {
     "name": "stdout",
     "output_type": "stream",
     "text": [
      "歙县太白楼 1.0\n",
      "歙县北岸 0.999969\n",
      "歙县小溪 0.999953\n",
      "歙县鲁人书画院画展 0.999937\n",
      "歙县南谯楼 0.999581\n",
      "航拍歙县宣传片 0.99958\n",
      "歙县千载渔梁坝 0.999333\n",
      "歙县深渡镇漳潭 0.99925\n",
      "歙县三阳乡叶村叠罗汉 0.998978\n",
      "歙县深渡码头 0.99897\n"
     ]
    }
   ],
   "source": [
    "# 计算某一篇文档的相似度\n",
    "tl_bow = dictionary.doc2bow(['' ])\n",
    "#tl_bow = dictionary.doc2bow(df.ix[5001, 'title_fenci'].split('|'))\n",
    "tl_lsi = lsi[tl_bow]\n",
    "# print tl_lsi\n",
    "sims = index[tl_lsi]\n",
    "# print sims\n",
    "\n",
    "sort_sims = sorted(enumerate(sims), key=lambda item: -item[1]) #\n",
    "\n",
    "for t in sort_sims[:10]:\n",
    "    print df.ix[t[0], 'title'], t[1]\n",
    "        \n"
   ]
  },
  {
   "cell_type": "code",
   "execution_count": 19,
   "metadata": {
    "collapsed": false
   },
   "outputs": [
    {
     "name": "stdout",
     "output_type": "stream",
     "text": [
      "割\n"
     ]
    }
   ],
   "source": [
    "print df.ix[5001, 'title_fenci'].split('|')[0]"
   ]
  },
  {
   "cell_type": "code",
   "execution_count": 67,
   "metadata": {
    "collapsed": false
   },
   "outputs": [
    {
     "name": "stdout",
     "output_type": "stream",
     "text": [
      "7020 (7020, 7)\n"
     ]
    }
   ],
   "source": [
    "print len(texts), df.shape"
   ]
  },
  {
   "cell_type": "code",
   "execution_count": 38,
   "metadata": {
    "collapsed": false
   },
   "outputs": [
    {
     "name": "stdout",
     "output_type": "stream",
     "text": [
      "16224 <class 'gensim.corpora.dictionary.Dictionary'>\n"
     ]
    }
   ],
   "source": [
    "print len(dictionary), type(dictionary)"
   ]
  },
  {
   "cell_type": "code",
   "execution_count": 65,
   "metadata": {
    "collapsed": false
   },
   "outputs": [
    {
     "name": "stdout",
     "output_type": "stream",
     "text": [
      "Dictionary(4350 unique tokens: [u'', u'\\u6302', u'\\u575a\\u5b88', u'\\u7a7f\\u8d8a\\u65f6\\u7a7a', u'\\u5982\\u540c']...)\n"
     ]
    }
   ],
   "source": [
    "print dictionary"
   ]
  },
  {
   "cell_type": "code",
   "execution_count": null,
   "metadata": {
    "collapsed": true
   },
   "outputs": [],
   "source": []
  }
 ],
 "metadata": {
  "kernelspec": {
   "display_name": "Python 2",
   "language": "python",
   "name": "python2"
  },
  "language_info": {
   "codemirror_mode": {
    "name": "ipython",
    "version": 2
   },
   "file_extension": ".py",
   "mimetype": "text/x-python",
   "name": "python",
   "nbconvert_exporter": "python",
   "pygments_lexer": "ipython2",
   "version": "2.7.10"
  }
 },
 "nbformat": 4,
 "nbformat_minor": 2
}
