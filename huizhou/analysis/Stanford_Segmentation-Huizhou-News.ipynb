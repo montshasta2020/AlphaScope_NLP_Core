{
 "cells": [
  {
   "cell_type": "code",
   "execution_count": 18,
   "metadata": {
    "collapsed": true
   },
   "outputs": [],
   "source": [
    "import sys  \n",
    "reload(sys)  \n",
    "sys.setdefaultencoding('utf-8')"
   ]
  },
  {
   "cell_type": "code",
   "execution_count": 19,
   "metadata": {
    "collapsed": false
   },
   "outputs": [],
   "source": [
    "import numpy.linalg as LA\n",
    "import matplotlib.pyplot as plt\n",
    "#from my_pickle import my_pickle_load, my_pickle_dump\n",
    "\n",
    "%matplotlib inline"
   ]
  },
  {
   "cell_type": "code",
   "execution_count": 20,
   "metadata": {
    "collapsed": true
   },
   "outputs": [],
   "source": [
    "from nltk.tokenize.stanford_segmenter import StanfordSegmenter"
   ]
  },
  {
   "cell_type": "markdown",
   "metadata": {
    "collapsed": false,
    "scrolled": true
   },
   "source": [
    "segmenter = StanfordSegmenter(path_to_jar='./stanford-segmenter-2014-08-27/stanford-segmenter-3.4.1.jar', \n",
    "                              path_to_slf4j='./stanford-segmenter-2014-08-27/slf4j-api.jar',\n",
    "                              path_to_sihan_corpora_dict='./stanford-segmenter-2014-08-27/data', \n",
    "                              path_to_model='./stanford-segmenter-2014-08-27/data/pku.gz', \n",
    "                              path_to_dict='./stanford-segmenter-2014-08-27/data/dict-chris6.ser.gz')"
   ]
  },
  {
   "cell_type": "code",
   "execution_count": 21,
   "metadata": {
    "collapsed": true
   },
   "outputs": [],
   "source": [
    "segmenter = StanfordSegmenter(path_to_jar='/Users/nhu2000/desktop/nltk/stanford-segmenter-2014-08-27/stanford-segmenter-3.4.1.jar', \n",
    "                              path_to_slf4j='/Users/nhu2000/desktop/nltk/stanford-segmenter-2014-08-27/slf4j-api.jar',\n",
    "                              path_to_sihan_corpora_dict='/Users/nhu2000/desktop/nltk/stanford-segmenter-2014-08-27/data', \n",
    "                              path_to_model='/Users/nhu2000/desktop/nltk/stanford-segmenter-2014-08-27/data/pku.gz', \n",
    "                              path_to_dict='/Users/nhu2000/desktop/nltk/stanford-segmenter-2014-08-27/data/dict-chris6.ser.gz')"
   ]
  },
  {
   "cell_type": "code",
   "execution_count": 22,
   "metadata": {
    "collapsed": true
   },
   "outputs": [],
   "source": [
    "\n",
    "import pandas as pd\n",
    "import numpy as np"
   ]
  },
  {
   "cell_type": "code",
   "execution_count": 72,
   "metadata": {
    "collapsed": false
   },
   "outputs": [],
   "source": [
    "df = pd.read_csv('/Users/nhu2000/desktop/huizhou/scrape/data/news/zhongxin-huizhou-news.csv')"
   ]
  },
  {
   "cell_type": "code",
   "execution_count": 73,
   "metadata": {
    "collapsed": true
   },
   "outputs": [],
   "source": [
    "df.info()"
   ]
  },
  {
   "cell_type": "code",
   "execution_count": 74,
   "metadata": {
    "collapsed": true
   },
   "outputs": [],
   "source": [
    "df_no_dup = df.drop_duplicates(['title'])"
   ]
  },
  {
   "cell_type": "code",
   "execution_count": 75,
   "metadata": {
    "collapsed": true
   },
   "outputs": [],
   "source": [
    "df_no_dup = df_no_dup.drop_duplicates(['url'])"
   ]
  },
  {
   "cell_type": "code",
   "execution_count": 76,
   "metadata": {
    "collapsed": true
   },
   "outputs": [],
   "source": [
    "df_no_dup = df_no_dup.dropna(subset =['title'])"
   ]
  },
  {
   "cell_type": "code",
   "execution_count": 78,
   "metadata": {
    "collapsed": true
   },
   "outputs": [],
   "source": [
    "df_no_dup.to_csv('temp00.csv', encoding='utf-8', index=False)"
   ]
  },
  {
   "cell_type": "code",
   "execution_count": 79,
   "metadata": {
    "collapsed": false
   },
   "outputs": [],
   "source": [
    "df_no_dup = pd.read_csv('temp00.csv')"
   ]
  },
  {
   "cell_type": "code",
   "execution_count": 80,
   "metadata": {
    "collapsed": false
   },
   "outputs": [],
   "source": [
    "df_no_dup.info()"
   ]
  },
  {
   "cell_type": "markdown",
   "metadata": {
    "collapsed": true
   },
   "source": [
    "df_no_dup1 = df_no_dup.drop_duplicates(['content'])\n"
   ]
  },
  {
   "cell_type": "markdown",
   "metadata": {
    "collapsed": false
   },
   "source": [
    "df_no_dup1.info()"
   ]
  },
  {
   "cell_type": "code",
   "execution_count": 62,
   "metadata": {
    "collapsed": false
   },
   "outputs": [
    {
     "data": {
      "text/html": [
       "<div>\n",
       "<table border=\"1\" class=\"dataframe\">\n",
       "  <thead>\n",
       "    <tr style=\"text-align: right;\">\n",
       "      <th></th>\n",
       "      <th>dt</th>\n",
       "      <th>source</th>\n",
       "      <th>domain</th>\n",
       "      <th>url</th>\n",
       "      <th>title</th>\n",
       "      <th>summary</th>\n",
       "      <th>image</th>\n",
       "      <th>brief</th>\n",
       "      <th>body</th>\n",
       "      <th>raw_page</th>\n",
       "      <th>from</th>\n",
       "    </tr>\n",
       "  </thead>\n",
       "  <tbody>\n",
       "    <tr>\n",
       "      <th>0</th>\n",
       "      <td>2017-01-05</td>\n",
       "      <td>经济日报</td>\n",
       "      <td>NaN</td>\n",
       "      <td>http://finance.sina.com.cn/roll/2017-01-05/doc...</td>\n",
       "      <td>发展很火爆 赚钱不容易</td>\n",
       "      <td>NaN</td>\n",
       "      <td>NaN</td>\n",
       "      <td>记者了解到，国内目前已形成了滇西北民宿群、川藏线民宿带、湘黔桂民宿群、海南岛民宿群、浙南闽北...</td>\n",
       "      <td>NaN</td>\n",
       "      <td>NaN</td>\n",
       "      <td>NaN</td>\n",
       "    </tr>\n",
       "    <tr>\n",
       "      <th>1</th>\n",
       "      <td>2017-01-01</td>\n",
       "      <td>中国新闻网</td>\n",
       "      <td>NaN</td>\n",
       "      <td>http://news.sina.com.cn/o/2017-01-01/doc-ifxzc...</td>\n",
       "      <td>徽州古建筑保护遇窘境 专家建言防“建设性破坏”</td>\n",
       "      <td>NaN</td>\n",
       "      <td>NaN</td>\n",
       "      <td>安徽省文史研究馆馆员方利山近日在谈到徽州古建筑保护时表示。徽派建筑是中国传统建筑最重要的流派...</td>\n",
       "      <td>NaN</td>\n",
       "      <td>NaN</td>\n",
       "      <td>NaN</td>\n",
       "    </tr>\n",
       "    <tr>\n",
       "      <th>2</th>\n",
       "      <td>2016-12-30</td>\n",
       "      <td>北京商报</td>\n",
       "      <td>NaN</td>\n",
       "      <td>http://finance.sina.com.cn/stock/t/2016-12-30/...</td>\n",
       "      <td>砚雕大师方韶：一生痴绝处 无梦到徽州</td>\n",
       "      <td>NaN</td>\n",
       "      <td>NaN</td>\n",
       "      <td>的经典诗句勾起了许多人的徽州情缘。博大精深的徽文化与藏文化、敦煌文化并称为中国三大地域文化，...</td>\n",
       "      <td>NaN</td>\n",
       "      <td>NaN</td>\n",
       "      <td>NaN</td>\n",
       "    </tr>\n",
       "    <tr>\n",
       "      <th>3</th>\n",
       "      <td>2016-12-29</td>\n",
       "      <td>国家旅游局网站</td>\n",
       "      <td>NaN</td>\n",
       "      <td>http://news.sina.com.cn/o/2016-12-29/doc-ifxzc...</td>\n",
       "      <td>加快推进中小学生研学旅行研学旅行迎来大利好 企业发展步入快车道——业界热议《关于推进中小学生...</td>\n",
       "      <td>NaN</td>\n",
       "      <td>NaN</td>\n",
       "      <td>即6个研学旅行目的地城市——兰州（敦煌文化）、西安（汉唐文化）、安阳（殷商文化）、曲阜（儒家...</td>\n",
       "      <td>NaN</td>\n",
       "      <td>NaN</td>\n",
       "      <td>NaN</td>\n",
       "    </tr>\n",
       "    <tr>\n",
       "      <th>4</th>\n",
       "      <td>2016-12-27</td>\n",
       "      <td>其他</td>\n",
       "      <td>NaN</td>\n",
       "      <td>http://slide.news.sina.com.cn/c/slide_1_2841_1...</td>\n",
       "      <td>图集：合肥地铁1号线正式开通 首日人气爆棚</td>\n",
       "      <td>NaN</td>\n",
       "      <td>NaN</td>\n",
       "      <td>来合肥万达乐园游玩的张先生告诉记者，他是做销售的，经常带客户来万达乐园玩，他认为在这里既能玩...</td>\n",
       "      <td>NaN</td>\n",
       "      <td>NaN</td>\n",
       "      <td>NaN</td>\n",
       "    </tr>\n",
       "  </tbody>\n",
       "</table>\n",
       "</div>"
      ],
      "text/plain": [
       "           dt   source  domain  \\\n",
       "0  2017-01-05     经济日报     NaN   \n",
       "1  2017-01-01    中国新闻网     NaN   \n",
       "2  2016-12-30     北京商报     NaN   \n",
       "3  2016-12-29  国家旅游局网站     NaN   \n",
       "4  2016-12-27       其他     NaN   \n",
       "\n",
       "                                                 url  \\\n",
       "0  http://finance.sina.com.cn/roll/2017-01-05/doc...   \n",
       "1  http://news.sina.com.cn/o/2017-01-01/doc-ifxzc...   \n",
       "2  http://finance.sina.com.cn/stock/t/2016-12-30/...   \n",
       "3  http://news.sina.com.cn/o/2016-12-29/doc-ifxzc...   \n",
       "4  http://slide.news.sina.com.cn/c/slide_1_2841_1...   \n",
       "\n",
       "                                               title  summary  image  \\\n",
       "0                                        发展很火爆 赚钱不容易      NaN    NaN   \n",
       "1                            徽州古建筑保护遇窘境 专家建言防“建设性破坏”      NaN    NaN   \n",
       "2                                 砚雕大师方韶：一生痴绝处 无梦到徽州      NaN    NaN   \n",
       "3  加快推进中小学生研学旅行研学旅行迎来大利好 企业发展步入快车道——业界热议《关于推进中小学生...      NaN    NaN   \n",
       "4                              图集：合肥地铁1号线正式开通 首日人气爆棚      NaN    NaN   \n",
       "\n",
       "                                               brief  body  raw_page  from  \n",
       "0  记者了解到，国内目前已形成了滇西北民宿群、川藏线民宿带、湘黔桂民宿群、海南岛民宿群、浙南闽北...   NaN       NaN   NaN  \n",
       "1  安徽省文史研究馆馆员方利山近日在谈到徽州古建筑保护时表示。徽派建筑是中国传统建筑最重要的流派...   NaN       NaN   NaN  \n",
       "2  的经典诗句勾起了许多人的徽州情缘。博大精深的徽文化与藏文化、敦煌文化并称为中国三大地域文化，...   NaN       NaN   NaN  \n",
       "3  即6个研学旅行目的地城市——兰州（敦煌文化）、西安（汉唐文化）、安阳（殷商文化）、曲阜（儒家...   NaN       NaN   NaN  \n",
       "4  来合肥万达乐园游玩的张先生告诉记者，他是做销售的，经常带客户来万达乐园玩，他认为在这里既能玩...   NaN       NaN   NaN  "
      ]
     },
     "execution_count": 62,
     "metadata": {},
     "output_type": "execute_result"
    }
   ],
   "source": [
    "df_no_dup.head()"
   ]
  },
  {
   "cell_type": "code",
   "execution_count": 81,
   "metadata": {
    "collapsed": true
   },
   "outputs": [],
   "source": [
    "from bs4 import BeautifulSoup"
   ]
  },
  {
   "cell_type": "code",
   "execution_count": 82,
   "metadata": {
    "collapsed": true
   },
   "outputs": [],
   "source": [
    "def get_columns3():\n",
    "    return ('url', 'segments') \n",
    "def get_empty_columns3():\n",
    "    return ('', '') "
   ]
  },
  {
   "cell_type": "code",
   "execution_count": 83,
   "metadata": {
    "collapsed": true
   },
   "outputs": [],
   "source": [
    "idx = 0\n",
    "new_df = pd.DataFrame(columns = get_columns3())"
   ]
  },
  {
   "cell_type": "code",
   "execution_count": 84,
   "metadata": {
    "collapsed": false
   },
   "outputs": [],
   "source": [
    "for i in range(0, len(df_no_dup)):\n",
    "    url = df_no_dup.loc[i]['url']\n",
    "    t1 = df_no_dup.loc[i]['title'].decode('utf-8')\n",
    "    print i, url\n",
    "    t0 = segmenter.segment(t1)\n",
    "    new_df.loc[i] = get_empty_columns3()\n",
    "    new_df.loc[i]['segments'] = t0\n",
    "    new_df.loc[i]['url'] = url\n",
    "    print t0"
   ]
  },
  {
   "cell_type": "code",
   "execution_count": 86,
   "metadata": {
    "collapsed": true
   },
   "outputs": [],
   "source": [
    "new_df.to_csv('/Users/nhu2000/desktop/huizhou/data/segments/news/zhongxin-huizhou-news_segments.csv', encoding='utf-8', index=False)"
   ]
  },
  {
   "cell_type": "code",
   "execution_count": 85,
   "metadata": {
    "collapsed": true
   },
   "outputs": [],
   "source": [
    "print len(df_no_dup), len(new_df)"
   ]
  },
  {
   "cell_type": "code",
   "execution_count": 68,
   "metadata": {
    "collapsed": true
   },
   "outputs": [],
   "source": [
    "print df_no_dup.loc[518]['title']"
   ]
  },
  {
   "cell_type": "code",
   "execution_count": null,
   "metadata": {
    "collapsed": true
   },
   "outputs": [],
   "source": []
  }
 ],
 "metadata": {
  "kernelspec": {
   "display_name": "Python 2",
   "language": "python",
   "name": "python2"
  },
  "language_info": {
   "codemirror_mode": {
    "name": "ipython",
    "version": 2
   },
   "file_extension": ".py",
   "mimetype": "text/x-python",
   "name": "python",
   "nbconvert_exporter": "python",
   "pygments_lexer": "ipython2",
   "version": "2.7.10"
  }
 },
 "nbformat": 4,
 "nbformat_minor": 2
}
