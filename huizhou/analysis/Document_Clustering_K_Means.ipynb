{
 "cells": [
  {
   "cell_type": "code",
   "execution_count": 1,
   "metadata": {
    "collapsed": true
   },
   "outputs": [],
   "source": [
    "from sklearn.feature_extraction.text import TfidfVectorizer\n",
    "import pandas as pd\n",
    "import json"
   ]
  },
  {
   "cell_type": "code",
   "execution_count": 13,
   "metadata": {
    "collapsed": true
   },
   "outputs": [],
   "source": [
    "with open('/Users/nhu2000/desktop/huizhou/data/stop_words/Baidu_Stop_Words.json') as data_file:    \n",
    "    data = json.load(data_file)\n",
    "bd_stop_words = list(data)"
   ]
  },
  {
   "cell_type": "code",
   "execution_count": 6,
   "metadata": {
    "collapsed": true
   },
   "outputs": [],
   "source": [
    "df = pd.read_csv('/Users/nhu2000/Desktop/huizhou/data/huiwenhua/huizhou_web_contentv5.csv')"
   ]
  },
  {
   "cell_type": "code",
   "execution_count": 7,
   "metadata": {
    "collapsed": false
   },
   "outputs": [
    {
     "name": "stdout",
     "output_type": "stream",
     "text": [
      "<class 'pandas.core.frame.DataFrame'>\n",
      "Int64Index: 8768 entries, 0 to 8767\n",
      "Data columns (total 9 columns):\n",
      "url          8768 non-null object\n",
      "domain       8768 non-null object\n",
      "title        8768 non-null object\n",
      "segment      8768 non-null object\n",
      "key_words    8768 non-null object\n",
      "summary      8768 non-null object\n",
      "body         8768 non-null object\n",
      "target       8768 non-null int64\n",
      "combined     8768 non-null object\n",
      "dtypes: int64(1), object(8)\n",
      "memory usage: 685.0+ KB\n"
     ]
    }
   ],
   "source": [
    "df.info()"
   ]
  },
  {
   "cell_type": "code",
   "execution_count": 8,
   "metadata": {
    "collapsed": true
   },
   "outputs": [],
   "source": [
    "df_final = df[df['domain'] != 'wuyuan168.com']\n",
    "df_final = df_final.dropna(subset =['key_words'])\n",
    "df_final = df_final[df_final['target'] == 1]"
   ]
  },
  {
   "cell_type": "code",
   "execution_count": 9,
   "metadata": {
    "collapsed": false
   },
   "outputs": [
    {
     "name": "stdout",
     "output_type": "stream",
     "text": [
      "<class 'pandas.core.frame.DataFrame'>\n",
      "Int64Index: 4979 entries, 1 to 8668\n",
      "Data columns (total 9 columns):\n",
      "url          4979 non-null object\n",
      "domain       4979 non-null object\n",
      "title        4979 non-null object\n",
      "segment      4979 non-null object\n",
      "key_words    4979 non-null object\n",
      "summary      4979 non-null object\n",
      "body         4979 non-null object\n",
      "target       4979 non-null int64\n",
      "combined     4979 non-null object\n",
      "dtypes: int64(1), object(8)\n",
      "memory usage: 389.0+ KB\n"
     ]
    }
   ],
   "source": [
    "df_final.info()"
   ]
  },
  {
   "cell_type": "code",
   "execution_count": 10,
   "metadata": {
    "collapsed": true
   },
   "outputs": [],
   "source": [
    "df_final['combined'] = df_final['segment'] + df_final['key_words']"
   ]
  },
  {
   "cell_type": "code",
   "execution_count": 11,
   "metadata": {
    "collapsed": true
   },
   "outputs": [],
   "source": [
    "train_articles = df_final['combined']"
   ]
  },
  {
   "cell_type": "code",
   "execution_count": 22,
   "metadata": {
    "collapsed": false
   },
   "outputs": [],
   "source": [
    "vectorizer = TfidfVectorizer(analyzer = 'word', stop_words = bd_stop_words)\n",
    "tfidf_matrix = vectorizer.fit_transform(train_articles)\n",
    "terms = vectorizer.get_feature_names()"
   ]
  },
  {
   "cell_type": "code",
   "execution_count": 33,
   "metadata": {
    "collapsed": false
   },
   "outputs": [
    {
     "name": "stdout",
     "output_type": "stream",
     "text": [
      "一经\n"
     ]
    }
   ],
   "source": [
    "print terms[520]"
   ]
  },
  {
   "cell_type": "code",
   "execution_count": 34,
   "metadata": {
    "collapsed": true
   },
   "outputs": [],
   "source": [
    "vocab_frame = pd.DataFrame({'words': terms})"
   ]
  },
  {
   "cell_type": "code",
   "execution_count": 36,
   "metadata": {
    "collapsed": false
   },
   "outputs": [
    {
     "data": {
      "text/html": [
       "<div>\n",
       "<table border=\"1\" class=\"dataframe\">\n",
       "  <thead>\n",
       "    <tr style=\"text-align: right;\">\n",
       "      <th></th>\n",
       "      <th>words</th>\n",
       "    </tr>\n",
       "  </thead>\n",
       "  <tbody>\n",
       "    <tr>\n",
       "      <th>0</th>\n",
       "      <td>10</td>\n",
       "    </tr>\n",
       "    <tr>\n",
       "      <th>1</th>\n",
       "      <td>100</td>\n",
       "    </tr>\n",
       "    <tr>\n",
       "      <th>2</th>\n",
       "      <td>1000</td>\n",
       "    </tr>\n",
       "    <tr>\n",
       "      <th>3</th>\n",
       "      <td>11</td>\n",
       "    </tr>\n",
       "    <tr>\n",
       "      <th>4</th>\n",
       "      <td>112</td>\n",
       "    </tr>\n",
       "    <tr>\n",
       "      <th>5</th>\n",
       "      <td>114</td>\n",
       "    </tr>\n",
       "    <tr>\n",
       "      <th>6</th>\n",
       "      <td>116</td>\n",
       "    </tr>\n",
       "    <tr>\n",
       "      <th>7</th>\n",
       "      <td>118</td>\n",
       "    </tr>\n",
       "    <tr>\n",
       "      <th>8</th>\n",
       "      <td>12</td>\n",
       "    </tr>\n",
       "    <tr>\n",
       "      <th>9</th>\n",
       "      <td>120</td>\n",
       "    </tr>\n",
       "    <tr>\n",
       "      <th>10</th>\n",
       "      <td>122</td>\n",
       "    </tr>\n",
       "    <tr>\n",
       "      <th>11</th>\n",
       "      <td>124</td>\n",
       "    </tr>\n",
       "    <tr>\n",
       "      <th>12</th>\n",
       "      <td>12520</td>\n",
       "    </tr>\n",
       "    <tr>\n",
       "      <th>13</th>\n",
       "      <td>13</td>\n",
       "    </tr>\n",
       "    <tr>\n",
       "      <th>14</th>\n",
       "      <td>14</td>\n",
       "    </tr>\n",
       "    <tr>\n",
       "      <th>15</th>\n",
       "      <td>15</td>\n",
       "    </tr>\n",
       "    <tr>\n",
       "      <th>16</th>\n",
       "      <td>150</td>\n",
       "    </tr>\n",
       "    <tr>\n",
       "      <th>17</th>\n",
       "      <td>1500</td>\n",
       "    </tr>\n",
       "    <tr>\n",
       "      <th>18</th>\n",
       "      <td>158</td>\n",
       "    </tr>\n",
       "    <tr>\n",
       "      <th>19</th>\n",
       "      <td>16</td>\n",
       "    </tr>\n",
       "    <tr>\n",
       "      <th>20</th>\n",
       "      <td>169</td>\n",
       "    </tr>\n",
       "    <tr>\n",
       "      <th>21</th>\n",
       "      <td>17</td>\n",
       "    </tr>\n",
       "    <tr>\n",
       "      <th>22</th>\n",
       "      <td>18</td>\n",
       "    </tr>\n",
       "    <tr>\n",
       "      <th>23</th>\n",
       "      <td>19</td>\n",
       "    </tr>\n",
       "    <tr>\n",
       "      <th>24</th>\n",
       "      <td>1907王茂荫</td>\n",
       "    </tr>\n",
       "    <tr>\n",
       "      <th>25</th>\n",
       "      <td>1923</td>\n",
       "    </tr>\n",
       "    <tr>\n",
       "      <th>26</th>\n",
       "      <td>1958</td>\n",
       "    </tr>\n",
       "    <tr>\n",
       "      <th>27</th>\n",
       "      <td>1962</td>\n",
       "    </tr>\n",
       "    <tr>\n",
       "      <th>28</th>\n",
       "      <td>1965</td>\n",
       "    </tr>\n",
       "    <tr>\n",
       "      <th>29</th>\n",
       "      <td>1980</td>\n",
       "    </tr>\n",
       "    <tr>\n",
       "      <th>...</th>\n",
       "      <td>...</td>\n",
       "    </tr>\n",
       "    <tr>\n",
       "      <th>170</th>\n",
       "      <td>一侧</td>\n",
       "    </tr>\n",
       "    <tr>\n",
       "      <th>171</th>\n",
       "      <td>一便</td>\n",
       "    </tr>\n",
       "    <tr>\n",
       "      <th>172</th>\n",
       "      <td>一信</td>\n",
       "    </tr>\n",
       "    <tr>\n",
       "      <th>173</th>\n",
       "      <td>一個</td>\n",
       "    </tr>\n",
       "    <tr>\n",
       "      <th>174</th>\n",
       "      <td>一共</td>\n",
       "    </tr>\n",
       "    <tr>\n",
       "      <th>175</th>\n",
       "      <td>一兵败</td>\n",
       "    </tr>\n",
       "    <tr>\n",
       "      <th>176</th>\n",
       "      <td>一具</td>\n",
       "    </tr>\n",
       "    <tr>\n",
       "      <th>177</th>\n",
       "      <td>一出戏</td>\n",
       "    </tr>\n",
       "    <tr>\n",
       "      <th>178</th>\n",
       "      <td>一击</td>\n",
       "    </tr>\n",
       "    <tr>\n",
       "      <th>179</th>\n",
       "      <td>一刀</td>\n",
       "    </tr>\n",
       "    <tr>\n",
       "      <th>180</th>\n",
       "      <td>一刀切</td>\n",
       "    </tr>\n",
       "    <tr>\n",
       "      <th>181</th>\n",
       "      <td>一分钟</td>\n",
       "    </tr>\n",
       "    <tr>\n",
       "      <th>182</th>\n",
       "      <td>一切</td>\n",
       "    </tr>\n",
       "    <tr>\n",
       "      <th>183</th>\n",
       "      <td>一切都在</td>\n",
       "    </tr>\n",
       "    <tr>\n",
       "      <th>184</th>\n",
       "      <td>一则</td>\n",
       "    </tr>\n",
       "    <tr>\n",
       "      <th>185</th>\n",
       "      <td>一到</td>\n",
       "    </tr>\n",
       "    <tr>\n",
       "      <th>186</th>\n",
       "      <td>一刻</td>\n",
       "    </tr>\n",
       "    <tr>\n",
       "      <th>187</th>\n",
       "      <td>一剑</td>\n",
       "    </tr>\n",
       "    <tr>\n",
       "      <th>188</th>\n",
       "      <td>一副</td>\n",
       "    </tr>\n",
       "    <tr>\n",
       "      <th>189</th>\n",
       "      <td>一副副</td>\n",
       "    </tr>\n",
       "    <tr>\n",
       "      <th>190</th>\n",
       "      <td>一办</td>\n",
       "    </tr>\n",
       "    <tr>\n",
       "      <th>191</th>\n",
       "      <td>一动不动</td>\n",
       "    </tr>\n",
       "    <tr>\n",
       "      <th>192</th>\n",
       "      <td>一北</td>\n",
       "    </tr>\n",
       "    <tr>\n",
       "      <th>193</th>\n",
       "      <td>一区</td>\n",
       "    </tr>\n",
       "    <tr>\n",
       "      <th>194</th>\n",
       "      <td>一十六岁</td>\n",
       "    </tr>\n",
       "    <tr>\n",
       "      <th>195</th>\n",
       "      <td>一千</td>\n",
       "    </tr>\n",
       "    <tr>\n",
       "      <th>196</th>\n",
       "      <td>一千七百</td>\n",
       "    </tr>\n",
       "    <tr>\n",
       "      <th>197</th>\n",
       "      <td>一千三百</td>\n",
       "    </tr>\n",
       "    <tr>\n",
       "      <th>198</th>\n",
       "      <td>一千余</td>\n",
       "    </tr>\n",
       "    <tr>\n",
       "      <th>199</th>\n",
       "      <td>一千余万两</td>\n",
       "    </tr>\n",
       "  </tbody>\n",
       "</table>\n",
       "<p>200 rows × 1 columns</p>\n",
       "</div>"
      ],
      "text/plain": [
       "       words\n",
       "0         10\n",
       "1        100\n",
       "2       1000\n",
       "3         11\n",
       "4        112\n",
       "5        114\n",
       "6        116\n",
       "7        118\n",
       "8         12\n",
       "9        120\n",
       "10       122\n",
       "11       124\n",
       "12     12520\n",
       "13        13\n",
       "14        14\n",
       "15        15\n",
       "16       150\n",
       "17      1500\n",
       "18       158\n",
       "19        16\n",
       "20       169\n",
       "21        17\n",
       "22        18\n",
       "23        19\n",
       "24   1907王茂荫\n",
       "25      1923\n",
       "26      1958\n",
       "27      1962\n",
       "28      1965\n",
       "29      1980\n",
       "..       ...\n",
       "170       一侧\n",
       "171       一便\n",
       "172       一信\n",
       "173       一個\n",
       "174       一共\n",
       "175      一兵败\n",
       "176       一具\n",
       "177      一出戏\n",
       "178       一击\n",
       "179       一刀\n",
       "180      一刀切\n",
       "181      一分钟\n",
       "182       一切\n",
       "183     一切都在\n",
       "184       一则\n",
       "185       一到\n",
       "186       一刻\n",
       "187       一剑\n",
       "188       一副\n",
       "189      一副副\n",
       "190       一办\n",
       "191     一动不动\n",
       "192       一北\n",
       "193       一区\n",
       "194     一十六岁\n",
       "195       一千\n",
       "196     一千七百\n",
       "197     一千三百\n",
       "198      一千余\n",
       "199    一千余万两\n",
       "\n",
       "[200 rows x 1 columns]"
      ]
     },
     "execution_count": 36,
     "metadata": {},
     "output_type": "execute_result"
    }
   ],
   "source": [
    "vocab_frame.head(200)"
   ]
  },
  {
   "cell_type": "code",
   "execution_count": 54,
   "metadata": {
    "collapsed": false
   },
   "outputs": [],
   "source": [
    "from sklearn.metrics.pairwise import cosine_similarity\n",
    "dist = 1 - cosine_similarity(tfidf_matrix)"
   ]
  },
  {
   "cell_type": "code",
   "execution_count": 56,
   "metadata": {
    "collapsed": true
   },
   "outputs": [],
   "source": [
    "from sklearn.cluster import KMeans\n",
    "num_clusters = 10\n",
    "km = KMeans(n_clusters=num_clusters)"
   ]
  },
  {
   "cell_type": "code",
   "execution_count": 57,
   "metadata": {
    "collapsed": false
   },
   "outputs": [],
   "source": [
    "km.fit(tfidf_matrix)\n",
    "clusters = km.labels_.tolist()"
   ]
  },
  {
   "cell_type": "code",
   "execution_count": 58,
   "metadata": {
    "collapsed": false
   },
   "outputs": [],
   "source": [
    "df_final['cluster'] = clusters"
   ]
  },
  {
   "cell_type": "code",
   "execution_count": 59,
   "metadata": {
    "collapsed": false
   },
   "outputs": [
    {
     "data": {
      "text/plain": [
       "2    1610\n",
       "3    1288\n",
       "1     518\n",
       "4     475\n",
       "6     353\n",
       "5     268\n",
       "8     192\n",
       "9     138\n",
       "0     101\n",
       "7      36\n",
       "Name: cluster, dtype: int64"
      ]
     },
     "execution_count": 59,
     "metadata": {},
     "output_type": "execute_result"
    }
   ],
   "source": [
    "#pd.value_counts(df_final['cluster'].values, sort=True)\n",
    "df_final['cluster'].value_counts()"
   ]
  },
  {
   "cell_type": "code",
   "execution_count": null,
   "metadata": {
    "collapsed": true
   },
   "outputs": [],
   "source": []
  },
  {
   "cell_type": "code",
   "execution_count": 60,
   "metadata": {
    "collapsed": false
   },
   "outputs": [
    {
     "name": "stdout",
     "output_type": "stream",
     "text": [
      "4979\n"
     ]
    }
   ],
   "source": [
    "print len(clusters)"
   ]
  },
  {
   "cell_type": "code",
   "execution_count": 61,
   "metadata": {
    "collapsed": false
   },
   "outputs": [
    {
     "name": "stdout",
     "output_type": "stream",
     "text": [
      "Cluster 0 words:\n",
      "徽剧\n",
      "徽班\n",
      "京剧\n",
      "徽调\n",
      "四喜\n",
      "进京\n",
      "戏曲\n",
      "春台\n",
      "艺术\n",
      "剧种\n",
      "戏剧\n",
      "京剧院\n",
      "声腔\n",
      "演出\n",
      "春班\n",
      "吹腔\n",
      "安徽\n",
      "青阳腔\n",
      "中国\n",
      "徽戏\n",
      "()\n",
      "()\n",
      "Cluster 1 words:\n",
      "文化\n",
      "徽州\n",
      "徽文化\n",
      "保护\n",
      "徽学\n",
      "研究\n",
      "黄山\n",
      "黄山市\n",
      "旅游\n",
      "生态\n",
      "历史\n",
      "徽派\n",
      "传承\n",
      "博物馆\n",
      "古民居\n",
      "古村落\n",
      "文化遗产\n",
      "发展\n",
      "学术\n",
      "安徽\n",
      "()\n",
      "()\n",
      "Cluster 2 words:\n",
      "歙县\n",
      "休宁\n",
      "黟县\n",
      "婺源\n",
      "新安\n",
      "休宁县\n",
      "屯溪\n",
      "黄山\n",
      "医学\n",
      "安徽\n",
      "宣城\n",
      "安徽省\n",
      "宣纸\n",
      "万安\n",
      "村落\n",
      "毛峰\n",
      "徽菜\n",
      "西递\n",
      "中国\n",
      "黄山市\n",
      "()\n",
      "()\n",
      "Cluster 3 words:\n",
      "徽州\n",
      "文化\n",
      "故园\n",
      "歙县\n",
      "黄山\n",
      "原创\n",
      "新安\n",
      "历史\n",
      "明清\n",
      "宗族\n",
      "屯溪\n",
      "黄山市\n",
      "休宁\n",
      "徽州区\n",
      "社会\n",
      "明代\n",
      "婺源\n",
      "女人\n",
      "徽文化\n",
      "文书\n",
      "()\n",
      "()\n",
      "Cluster 4 words:\n",
      "徽商\n",
      "经营\n",
      "大会\n",
      "徽州\n",
      "经商\n",
      "商人\n",
      "文化\n",
      "商业\n",
      "明清\n",
      "发展\n",
      "精神\n",
      "商帮\n",
      "银行\n",
      "歙县\n",
      "安徽\n",
      "中国\n",
      "儒商\n",
      "资本\n",
      "家族\n",
      "行业\n",
      "()\n",
      "()\n",
      "Cluster 5 words:\n",
      "徽派\n",
      "建筑\n",
      "木雕\n",
      "徽州\n",
      "雕刻\n",
      "艺术\n",
      "民居\n",
      "古建筑\n",
      "版画\n",
      "古建\n",
      "装饰\n",
      "砖雕\n",
      "古民居\n",
      "传承\n",
      "文化\n",
      "传统\n",
      "三雕\n",
      "石雕\n",
      "作品\n",
      "博古\n",
      "()\n",
      "()\n",
      "Cluster 6 words:\n",
      "绩溪\n",
      "胡适\n",
      "绩溪县\n",
      "徽州\n",
      "文化\n",
      "龙川\n",
      "徽菜\n",
      "先生\n",
      "历史\n",
      "胡氏\n",
      "徽商\n",
      "故居\n",
      "安徽\n",
      "中国\n",
      "徽墨\n",
      "陶行知\n",
      "婺源\n",
      "上庄\n",
      "西关\n",
      "思想\n",
      "()\n",
      "()\n",
      "Cluster 7 words:\n",
      "道理\n",
      "人人\n",
      "一份\n",
      "多出\n",
      "手艺\n",
      "吸附\n",
      "身处\n",
      "有着\n",
      "感受\n",
      "手艺人\n",
      "切肤之痛\n",
      "六年\n",
      "文武\n",
      "清光绪\n",
      "嘉定\n",
      "自宋\n",
      "十年\n",
      "状元\n",
      "休宁\n",
      "变革时代\n",
      "()\n",
      "()\n",
      "Cluster 8 words:\n",
      "祁门\n",
      "祁门县\n",
      "祁红\n",
      "祁门红\n",
      "芦溪\n",
      "芦溪乡\n",
      "红茶\n",
      "安徽\n",
      "历溪\n",
      "祠堂\n",
      "牯牛\n",
      "旅游\n",
      "徽州\n",
      "茶叶\n",
      "新局\n",
      "文化\n",
      "安茶\n",
      "景德镇\n",
      "瓷土\n",
      "黄山\n",
      "()\n",
      "()\n",
      "Cluster 9 words:\n",
      "民俗\n",
      "汪华\n",
      "汪公\n",
      "徽州\n",
      "汪王\n",
      "越国公\n",
      "文化\n",
      "歙县\n",
      "活动\n",
      "绩溪\n",
      "文化节\n",
      "正月\n",
      "诞辰\n",
      "徽菜\n",
      "周年\n",
      "赛琼碗\n",
      "百姓\n",
      "旅游节\n",
      "民间\n",
      "古城\n",
      "()\n",
      "()\n"
     ]
    }
   ],
   "source": [
    "order_centroids = km.cluster_centers_.argsort()[:, ::-1] \n",
    "\n",
    "for i in range(num_clusters):\n",
    "    print(\"Cluster %d words:\" % i)\n",
    "    \n",
    "    for ind in order_centroids[i, :20]: #replace 6 with n words per cluster\n",
    "        print terms[ind]       \n",
    "        #print(' %s' % vocab_frame.ix[terms[ind].split(' ')].values.tolist()[0][0].encode('utf-8', 'ignore'))\n",
    "    print() #add whitespace\n",
    "    print() #add whitespace\n",
    "    "
   ]
  },
  {
   "cell_type": "code",
   "execution_count": 45,
   "metadata": {
    "collapsed": false
   },
   "outputs": [
    {
     "name": "stdout",
     "output_type": "stream",
     "text": [
      " 17493 [[nan]]\n"
     ]
    }
   ],
   "source": [
    "print ind, vocab_frame.ix[terms[ind].split(' ')].values.tolist()"
   ]
  },
  {
   "cell_type": "code",
   "execution_count": 62,
   "metadata": {
    "collapsed": false
   },
   "outputs": [],
   "source": [
    "#Multidimensional scaling\n",
    "import os  # for os.path.basename\n",
    "\n",
    "import matplotlib.pyplot as plt\n",
    "import matplotlib as mpl\n",
    "\n",
    "from sklearn.manifold import MDS\n"
   ]
  },
  {
   "cell_type": "code",
   "execution_count": 63,
   "metadata": {
    "collapsed": false
   },
   "outputs": [
    {
     "name": "stdout",
     "output_type": "stream",
     "text": [
      "()\n",
      "()\n"
     ]
    }
   ],
   "source": [
    "MDS()\n",
    "\n",
    "# convert two components as we're plotting points in a two-dimensional plane\n",
    "# \"precomputed\" because we provide a distance matrix\n",
    "# we will also specify `random_state` so the plot is reproducible.\n",
    "mds = MDS(n_components=2, dissimilarity=\"precomputed\", random_state=1)\n",
    "\n",
    "pos = mds.fit_transform(dist)  # shape (n_components, n_samples)\n",
    "\n",
    "xs, ys = pos[:, 0], pos[:, 1]\n",
    "print()\n",
    "print()"
   ]
  },
  {
   "cell_type": "code",
   "execution_count": 67,
   "metadata": {
    "collapsed": true
   },
   "outputs": [],
   "source": [
    "#set up colors per clusters using a dict\n",
    "cluster_colors = {0: '#1b9e77', 1: '#d95f02', 2: '#7570b3', 3: '#e7298a', 4: '#66a61e',\n",
    "                  5: '#fb9e77', 6: '#f95f02', 7: '#f570b3', 8: '#f7298a', 9: '#a4a4a4',\n",
    "                 }\n",
    "\n",
    "#set up cluster names using a dict\n",
    "cluster_names = {0: 'Cluster 0', \n",
    "                 1: 'Cluster 1', \n",
    "                 2: 'Cluster 2', \n",
    "                 3: 'Cluster 3', \n",
    "                 4: 'Cluster 4',\n",
    "                 5: 'Cluster 5', \n",
    "                 6: 'Cluster 6', \n",
    "                 7: 'Cluster 7', \n",
    "                 8: 'Cluster 8',\n",
    "                 9: 'Cluster 9'\n",
    "                 }"
   ]
  },
  {
   "cell_type": "code",
   "execution_count": 89,
   "metadata": {
    "collapsed": false
   },
   "outputs": [
    {
     "data": {
      "image/png": "[encoded data removed]",
      "text/plain": [
       "<matplotlib.figure.Figure at 0x10f4a2910>"
      ]
     },
     "metadata": {},
     "output_type": "display_data"
    }
   ],
   "source": [
    "#some ipython magic to show the matplotlib plots inline\n",
    "%matplotlib inline \n",
    "\n",
    "#create data frame that has the result of the MDS plus the cluster numbers and titles\n",
    "#df = pd.DataFrame(dict(x=xs, y=ys, label=clusters, title=titles)) \n",
    "df = pd.DataFrame(dict(x=xs, y=ys, label=clusters)) \n",
    "\n",
    "#group by cluster\n",
    "groups = df.groupby('label')\n",
    "\n",
    "\n",
    "# set up plot\n",
    "fig, ax = plt.subplots(figsize=(17, 9)) # set size\n",
    "ax.margins(0.05) # Optional, just adds 5% padding to the autoscaling\n",
    "\n",
    "idx = 0\n",
    "#iterate through groups to layer the plot\n",
    "#note that I use the cluster_name and cluster_color dicts with the 'name' lookup to return the appropriate color/label\n",
    "for name, group in groups:\n",
    "    if idx == 7:\n",
    "        ax.plot(group.x, group.y, marker='o', linestyle='', ms=12, \n",
    "                label=cluster_names[name], color=cluster_colors[name], \n",
    "                mec='none')\n",
    "        ax.set_aspect('auto')\n",
    "        ax.tick_params(\\\n",
    "            axis= 'x',          # changes apply to the x-axis\n",
    "            which='both',      # both major and minor ticks are affected\n",
    "            bottom='off',      # ticks along the bottom edge are off\n",
    "            top='off',         # ticks along the top edge are off\n",
    "            labelbottom='off')\n",
    "        ax.tick_params(\\\n",
    "            axis= 'y',         # changes apply to the y-axis\n",
    "            which='both',      # both major and minor ticks are affected\n",
    "            left='off',      # ticks along the bottom edge are off\n",
    "            top='off',         # ticks along the top edge are off\n",
    "            labelleft='off')\n",
    "    idx += 1 \n",
    "ax.legend(numpoints=1)  #show legend with only 1 point\n",
    "\n",
    "#add label in x,y position with the label as the film title\n",
    "#for i in range(len(df)):\n",
    "#    ax.text(df.ix[i]['x'], df.ix[i]['y'], df.ix[i]['title'], size=8)  \n",
    "#    ax.text(df.ix[i]['x'], df.ix[i]['y'], size=8)  #Not draw the titles\n",
    "\n",
    "    \n",
    "    \n",
    "plt.show() #show the plot\n",
    "\n",
    "#uncomment the below to save the plot if need be\n",
    "#plt.savefig('clusters_small_noaxes.png', dpi=200)"
   ]
  },
  {
   "cell_type": "code",
   "execution_count": null,
   "metadata": {
    "collapsed": true
   },
   "outputs": [],
   "source": []
  }
 ],
 "metadata": {
  "kernelspec": {
   "display_name": "Python 2",
   "language": "python",
   "name": "python2"
  },
  "language_info": {
   "codemirror_mode": {
    "name": "ipython",
    "version": 2
   },
   "file_extension": ".py",
   "mimetype": "text/x-python",
   "name": "python",
   "nbconvert_exporter": "python",
   "pygments_lexer": "ipython2",
   "version": "2.7.10"
  }
 },
 "nbformat": 4,
 "nbformat_minor": 2
}
