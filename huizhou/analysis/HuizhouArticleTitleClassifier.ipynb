{
 "cells": [
  {
   "cell_type": "code",
   "execution_count": 1,
   "metadata": {
    "collapsed": true
   },
   "outputs": [],
   "source": [
    "import sys  \n",
    "reload(sys)  \n",
    "sys.setdefaultencoding('utf-8')"
   ]
  },
  {
   "cell_type": "code",
   "execution_count": 2,
   "metadata": {
    "collapsed": false
   },
   "outputs": [],
   "source": [
    "from sklearn.tree import DecisionTreeRegressor\n",
    "from sklearn.ensemble import RandomForestRegressor\n",
    "import numpy as np\n",
    "import tldextract\n",
    "from collections import Counter\n",
    "from my_pickle import my_pickle_dump "
   ]
  },
  {
   "cell_type": "code",
   "execution_count": 3,
   "metadata": {
    "collapsed": true
   },
   "outputs": [],
   "source": [
    "import pandas as pd\n",
    "import json"
   ]
  },
  {
   "cell_type": "markdown",
   "metadata": {},
   "source": [
    "from sklearn.datasets import load_boston\n",
    "boston = load_boston()\n",
    "rf = RandomForestRegressor()"
   ]
  },
  {
   "cell_type": "markdown",
   "metadata": {},
   "source": [
    "rf.fit(boston.data[:300], boston.target[:300])"
   ]
  },
  {
   "cell_type": "markdown",
   "metadata": {},
   "source": [
    "print boston.feature_names"
   ]
  },
  {
   "cell_type": "markdown",
   "metadata": {},
   "source": [
    "df = pd.DataFrame(boston.data, columns=boston.feature_names)"
   ]
  },
  {
   "cell_type": "markdown",
   "metadata": {},
   "source": [
    "df.head()"
   ]
  },
  {
   "cell_type": "markdown",
   "metadata": {},
   "source": [
    "boston.data[:300]"
   ]
  },
  {
   "cell_type": "markdown",
   "metadata": {},
   "source": [
    "boston.target[:300]"
   ]
  },
  {
   "cell_type": "code",
   "execution_count": 4,
   "metadata": {
    "collapsed": true
   },
   "outputs": [],
   "source": [
    "from sklearn.externals.six.moves import html_parser\n",
    "from sklearn.externals.six.moves import urllib\n",
    "from sklearn.datasets import get_data_home\n",
    "from sklearn.feature_extraction.text import HashingVectorizer\n",
    "from sklearn.linear_model import SGDClassifier\n",
    "from sklearn.linear_model import PassiveAggressiveClassifier\n",
    "from sklearn.linear_model import Perceptron\n",
    "from sklearn.linear_model import RidgeClassifier\n",
    "from sklearn.neighbors import KNeighborsClassifier\n",
    "from sklearn.feature_extraction.text import TfidfVectorizer, CountVectorizer\n",
    "from sklearn.decomposition import NMF\n",
    "from sklearn.naive_bayes import MultinomialNB"
   ]
  },
  {
   "cell_type": "code",
   "execution_count": 5,
   "metadata": {
    "collapsed": false
   },
   "outputs": [
    {
     "name": "stderr",
     "output_type": "stream",
     "text": [
      "/usr/local/lib/python2.7/site-packages/sklearn/cross_validation.py:44: DeprecationWarning: This module was deprecated in version 0.18 in favor of the model_selection module into which all the refactored classes and functions are moved. Also note that the interface of the new CV iterators are different from that of this module. This module will be removed in 0.20.\n",
      "  \"This module will be removed in 0.20.\", DeprecationWarning)\n"
     ]
    }
   ],
   "source": [
    "from sklearn.datasets import make_blobs\n",
    "from sklearn.ensemble import RandomForestClassifier\n",
    "from sklearn.ensemble import ExtraTreesClassifier\n",
    "from sklearn.tree import DecisionTreeClassifier\n",
    "from sklearn import metrics\n",
    "from sklearn.cross_validation import train_test_split"
   ]
  },
  {
   "cell_type": "code",
   "execution_count": 6,
   "metadata": {
    "collapsed": true
   },
   "outputs": [],
   "source": []
  },
  {
   "cell_type": "code",
   "execution_count": 6,
   "metadata": {
    "collapsed": false
   },
   "outputs": [
    {
     "ename": "NameError",
     "evalue": "name 'data' is not defined",
     "output_type": "error",
     "traceback": [
      "\u001b[0;31m---------------------------------------------------------------------------\u001b[0m",
      "\u001b[0;31mNameError\u001b[0m                                 Traceback (most recent call last)",
      "\u001b[0;32m<ipython-input-6-de78bf05c371>\u001b[0m in \u001b[0;36m<module>\u001b[0;34m()\u001b[0m\n\u001b[0;32m----> 1\u001b[0;31m \u001b[0mbd_stop_words\u001b[0m \u001b[0;34m=\u001b[0m \u001b[0mlist\u001b[0m\u001b[0;34m(\u001b[0m\u001b[0mdata\u001b[0m\u001b[0;34m)\u001b[0m\u001b[0;34m\u001b[0m\u001b[0m\n\u001b[0m",
      "\u001b[0;31mNameError\u001b[0m: name 'data' is not defined"
     ]
    }
   ],
   "source": [
    "bd_stop_words = list(data)"
   ]
  },
  {
   "cell_type": "markdown",
   "metadata": {
    "collapsed": true
   },
   "source": [
    "vectorizer = HashingVectorizer(decode_error='ignore', n_features=2 ** 18,\n",
    "                               non_negative=True)"
   ]
  },
  {
   "cell_type": "code",
   "execution_count": 8,
   "metadata": {
    "collapsed": true
   },
   "outputs": [],
   "source": [
    "#vectorizer = TfidfVectorizer(sublinear_tf=True, max_df=0.5, stop_words='english')\n",
    "vectorizer = TfidfVectorizer(analyzer = 'word', stop_words = bd_stop_words)"
   ]
  },
  {
   "cell_type": "code",
   "execution_count": 9,
   "metadata": {
    "collapsed": false
   },
   "outputs": [],
   "source": [
    "clf = RandomForestClassifier(n_estimators=50)  #0.960982747058\n",
    "#clf = RidgeClassifier(tol=1e-2, solver=\"lsqr\")  #0.936901786259\n",
    "#clf = Perceptron(n_iter=500)   #0.931597878437\n",
    "#clf = PassiveAggressiveClassifier(n_iter=500)   #0.952935438639\n",
    "#clf = KNeighborsClassifier(n_neighbors=200) #0.895506919466"
   ]
  },
  {
   "cell_type": "code",
   "execution_count": 1,
   "metadata": {
    "collapsed": false
   },
   "outputs": [
    {
     "ename": "NameError",
     "evalue": "name 'pd' is not defined",
     "output_type": "error",
     "traceback": [
      "\u001b[0;31m---------------------------------------------------------------------------\u001b[0m",
      "\u001b[0;31mNameError\u001b[0m                                 Traceback (most recent call last)",
      "\u001b[0;32m<ipython-input-1-73093ea1fe70>\u001b[0m in \u001b[0;36m<module>\u001b[0;34m()\u001b[0m\n\u001b[1;32m      1\u001b[0m \u001b[0;31m#df_no_dup = pd.read_csv('../data/segments/final/solr-huizhou-all.csv')\u001b[0m\u001b[0;34m\u001b[0m\u001b[0;34m\u001b[0m\u001b[0m\n\u001b[0;32m----> 2\u001b[0;31m \u001b[0mdf_no_dup\u001b[0m \u001b[0;34m=\u001b[0m \u001b[0mpd\u001b[0m\u001b[0;34m.\u001b[0m\u001b[0mread_csv\u001b[0m\u001b[0;34m(\u001b[0m\u001b[0;34m'/Users/nhu2000/Desktop/huizhou/data/huiwenhua/classifier/title-jiaba-segment_v1.csv'\u001b[0m\u001b[0;34m)\u001b[0m\u001b[0;34m\u001b[0m\u001b[0m\n\u001b[0m\u001b[1;32m      3\u001b[0m \u001b[0;31m#df_no_dup = pd.read_csv('../data/final/HuizhouTitleClassifier-3.csv')\u001b[0m\u001b[0;34m\u001b[0m\u001b[0;34m\u001b[0m\u001b[0m\n",
      "\u001b[0;31mNameError\u001b[0m: name 'pd' is not defined"
     ]
    }
   ],
   "source": [
    "#df_no_dup = pd.read_csv('../data/segments/final/solr-huizhou-all.csv')\n",
    "df_no_dup = pd.read_csv('/Users/nhu2000/Desktop/huizhou/data/huiwenhua/classifier/title-jiaba-segment_v1.csv')\n",
    "#df_no_dup = pd.read_csv('../data/final/HuizhouTitleClassifier-3.csv')\n"
   ]
  },
  {
   "cell_type": "code",
   "execution_count": 11,
   "metadata": {
    "collapsed": true
   },
   "outputs": [],
   "source": [
    "#df_no_dup['url'] = df_no_dup.url.map(lambda x: 'http://www.xinhs.cn/' + x)  #asp.\n",
    "#df_no_dup['url'] = df_no_dup.url.map(lambda x: 'http://www.xinhs.cn/' + x)  #php."
   ]
  },
  {
   "cell_type": "code",
   "execution_count": 12,
   "metadata": {
    "collapsed": false
   },
   "outputs": [],
   "source": [
    "df_no_dup.info()"
   ]
  },
  {
   "cell_type": "code",
   "execution_count": 13,
   "metadata": {
    "collapsed": false
   },
   "outputs": [],
   "source": [
    "df = df_no_dup\n",
    "df['domain']  = df.url.map(lambda x:tldextract.extract(x).domain + str('.') + tldextract.extract(x).suffix)"
   ]
  },
  {
   "cell_type": "code",
   "execution_count": 14,
   "metadata": {
    "collapsed": true
   },
   "outputs": [],
   "source": [
    "count = Counter(df['domain'])"
   ]
  },
  {
   "cell_type": "code",
   "execution_count": 15,
   "metadata": {
    "collapsed": true
   },
   "outputs": [],
   "source": [
    "print count.most_common(50)"
   ]
  },
  {
   "cell_type": "markdown",
   "metadata": {},
   "source": [
    "temp_df = df[df['domain'] == 'asp.']\n",
    "other_df = df[df['domain'] != 'asp.']\n",
    "temp_df['url'] = temp_df.url.map(lambda x: 'http://www.xinhs.cn/' + x)\n",
    "joined = other_df.append(temp_df)\n",
    "df_no_dup = joined.dropna(subset =['url']) \n",
    "df_no_dup = df_no_dup.drop_duplicates(['url'])\n",
    "df_no_dup.to_csv('../data/classifier/bosonNLP/bosonNLP-classifier-huizhouba.csv', encoding='utf-8', index=False)"
   ]
  },
  {
   "cell_type": "markdown",
   "metadata": {},
   "source": [
    "df_no_dup = df_no_dup.dropna(subset =['url'])\n",
    "df_no_dup = df_no_dup.drop_duplicates(['token title'])"
   ]
  },
  {
   "cell_type": "markdown",
   "metadata": {},
   "source": [
    "df_no_dup.to_csv('../data/final/HuizhouTitleClassifier-8.csv', encoding='utf-8', index=False)"
   ]
  },
  {
   "cell_type": "code",
   "execution_count": 16,
   "metadata": {
    "collapsed": false
   },
   "outputs": [
    {
     "data": {
      "text/html": [
       "<div>\n",
       "<table border=\"1\" class=\"dataframe\">\n",
       "  <thead>\n",
       "    <tr style=\"text-align: right;\">\n",
       "      <th></th>\n",
       "      <th>url</th>\n",
       "      <th>domain</th>\n",
       "      <th>title</th>\n",
       "      <th>segment</th>\n",
       "      <th>target</th>\n",
       "      <th>source</th>\n",
       "    </tr>\n",
       "  </thead>\n",
       "  <tbody>\n",
       "    <tr>\n",
       "      <th>0</th>\n",
       "      <td>http://cul.anhuinews.com/system/2009/03/09/002...</td>\n",
       "      <td>anhuinews.com</td>\n",
       "      <td>黄山银钩 徽文化频道 中安在线</td>\n",
       "      <td>黄山 银钩</td>\n",
       "      <td>0</td>\n",
       "      <td>solr</td>\n",
       "    </tr>\n",
       "    <tr>\n",
       "      <th>1</th>\n",
       "      <td>http://cul.anhuinews.com/system/2009/03/09/002...</td>\n",
       "      <td>anhuinews.com</td>\n",
       "      <td>“喜酒不醉人”的俗语由来-酒-中安在线-徽文化</td>\n",
       "      <td>“ 喜酒 不 醉 人 ” 的 俗语 由来 - 酒 -</td>\n",
       "      <td>0</td>\n",
       "      <td>solr</td>\n",
       "    </tr>\n",
       "    <tr>\n",
       "      <th>2</th>\n",
       "      <td>http://cul.anhuinews.com/system/2009/03/13/002...</td>\n",
       "      <td>anhuinews.com</td>\n",
       "      <td>最雄伟的塔：泾县大观塔-泾县大观塔-中安在线-徽文化</td>\n",
       "      <td>最 雄伟 的 塔 ： 泾县 大观 塔-泾 县 大 观塔 -</td>\n",
       "      <td>0</td>\n",
       "      <td>solr</td>\n",
       "    </tr>\n",
       "    <tr>\n",
       "      <th>3</th>\n",
       "      <td>http://cul.anhuinews.com/system/2009/03/13/002...</td>\n",
       "      <td>anhuinews.com</td>\n",
       "      <td>用新鲜茶叶做的美味茶菜-茶叶-中安在线-徽文化</td>\n",
       "      <td>用 新鲜 茶叶 做 的 美味 茶菜 - 茶叶 -</td>\n",
       "      <td>0</td>\n",
       "      <td>solr</td>\n",
       "    </tr>\n",
       "    <tr>\n",
       "      <th>4</th>\n",
       "      <td>http://cul.anhuinews.com/system/2009/03/24/002...</td>\n",
       "      <td>anhuinews.com</td>\n",
       "      <td>老吃客：梅雨与霉菜-梅雨-中安在线-徽文化</td>\n",
       "      <td>老 吃 客 ： 梅雨 与 霉菜-梅 雨 -</td>\n",
       "      <td>0</td>\n",
       "      <td>solr</td>\n",
       "    </tr>\n",
       "  </tbody>\n",
       "</table>\n",
       "</div>"
      ],
      "text/plain": [
       "                                                 url         domain  \\\n",
       "0  http://cul.anhuinews.com/system/2009/03/09/002...  anhuinews.com   \n",
       "1  http://cul.anhuinews.com/system/2009/03/09/002...  anhuinews.com   \n",
       "2  http://cul.anhuinews.com/system/2009/03/13/002...  anhuinews.com   \n",
       "3  http://cul.anhuinews.com/system/2009/03/13/002...  anhuinews.com   \n",
       "4  http://cul.anhuinews.com/system/2009/03/24/002...  anhuinews.com   \n",
       "\n",
       "                        title                        segment  target source  \n",
       "0             黄山银钩 徽文化频道 中安在线                          黄山 银钩       0   solr  \n",
       "1     “喜酒不醉人”的俗语由来-酒-中安在线-徽文化     “ 喜酒 不 醉 人 ” 的 俗语 由来 - 酒 -       0   solr  \n",
       "2  最雄伟的塔：泾县大观塔-泾县大观塔-中安在线-徽文化  最 雄伟 的 塔 ： 泾县 大观 塔-泾 县 大 观塔 -       0   solr  \n",
       "3     用新鲜茶叶做的美味茶菜-茶叶-中安在线-徽文化       用 新鲜 茶叶 做 的 美味 茶菜 - 茶叶 -       0   solr  \n",
       "4       老吃客：梅雨与霉菜-梅雨-中安在线-徽文化          老 吃 客 ： 梅雨 与 霉菜-梅 雨 -       0   solr  "
      ]
     },
     "execution_count": 16,
     "metadata": {},
     "output_type": "execute_result"
    }
   ],
   "source": [
    "df_no_dup.head()"
   ]
  },
  {
   "cell_type": "code",
   "execution_count": 17,
   "metadata": {
    "collapsed": false
   },
   "outputs": [
    {
     "data": {
      "text/plain": [
       "7020"
      ]
     },
     "execution_count": 17,
     "metadata": {},
     "output_type": "execute_result"
    }
   ],
   "source": [
    "df_no_dup['target'].sum()"
   ]
  },
  {
   "cell_type": "markdown",
   "metadata": {},
   "source": [
    "df_ref = pd.read_csv('../data/segments/solr-more/solr-series-segment.csv')"
   ]
  },
  {
   "cell_type": "markdown",
   "metadata": {},
   "source": [
    "df_ref.head()"
   ]
  },
  {
   "cell_type": "markdown",
   "metadata": {
    "collapsed": false
   },
   "source": [
    "len(df_no_dup[df_no_dup['flag'] == 'pos'])"
   ]
  },
  {
   "cell_type": "code",
   "execution_count": 18,
   "metadata": {
    "collapsed": false
   },
   "outputs": [],
   "source": [
    "#fine tune for Stanford segmenter\n",
    "#df_no_dup['token title'] = df_no_dup['token title'].map(lambda x: x.replace(u'徽 文化', u'徽文化') if u'徽 文化' in x else x)\n",
    "#df_no_dup['segment'] = df_no_dup['segment'].map(lambda x: x.replace(u'徽 文化', u'徽文化'))\n",
    "#df_no_dup['segment'] = df_no_dup['segment'].map(lambda x: x.replace(u'胡 适', u'胡适'))\n",
    "#df_no_dup['segment'] = df_no_dup['segment'].map(lambda x: x.replace(u'徽 茶', u'徽茶'))\n"
   ]
  },
  {
   "cell_type": "code",
   "execution_count": 19,
   "metadata": {
    "collapsed": false
   },
   "outputs": [],
   "source": [
    "X_articles = df_no_dup['segment'].values\n",
    "X = vectorizer.fit_transform(X_articles)"
   ]
  },
  {
   "cell_type": "code",
   "execution_count": 20,
   "metadata": {
    "collapsed": false
   },
   "outputs": [],
   "source": [
    "Y = df_no_dup['target'].values"
   ]
  },
  {
   "cell_type": "markdown",
   "metadata": {
    "collapsed": true
   },
   "source": [
    "X_train, X_test, Y_train, Y_test = train_test_split(X, Y,\n",
    "    test_size=0.8, random_state=0)"
   ]
  },
  {
   "cell_type": "markdown",
   "metadata": {
    "collapsed": true
   },
   "source": [
    "X_train = X\n",
    "Y_train = Y"
   ]
  },
  {
   "cell_type": "markdown",
   "metadata": {
    "collapsed": false
   },
   "source": [
    "test = pd.read_csv('../data/segments/titles/xinhs_huixueyuandi-all.csv')\n",
    "test['flag'] = 1\n",
    "test['segments'] = test.segments.map(lambda x: x.replace(u'徽 文化', u'徽文化'))\n",
    "test_articles = test['segments'].values"
   ]
  },
  {
   "cell_type": "markdown",
   "metadata": {
    "collapsed": true
   },
   "source": [
    "X_test = vectorizer.transform(test_articles)\n",
    "Y_test = test['target']"
   ]
  },
  {
   "cell_type": "code",
   "execution_count": 21,
   "metadata": {
    "collapsed": true
   },
   "outputs": [],
   "source": [
    "# mask for train and test\n",
    "msk = np.random.rand(len(df_no_dup)) < 0.8\n",
    "train = df_no_dup[msk]\n",
    "test = df_no_dup[~msk]"
   ]
  },
  {
   "cell_type": "markdown",
   "metadata": {
    "collapsed": false
   },
   "source": [
    "# use main data for train and incoming for test\n",
    "train = df_no_dup\n",
    "#test = pd.read_csv('../data/segments/news/google-huizhou-news_segments.csv')\n",
    "#test = pd.read_csv('../data/segments/news/baidu-huizhou-news_segments.csv')\n",
    "#test = pd.read_csv('../data/segments/news/sina-huizhou-news_segments.csv')\n",
    "test = pd.read_csv('../data/classifier/bosonNLP/tianxiahuizhou-bosonNLP-segment-170.csv')\n"
   ]
  },
  {
   "cell_type": "markdown",
   "metadata": {},
   "source": [
    "train['token title'] = train['token title'].map(lambda x: x.replace(u'徽 文化', u'徽文化'))\n",
    "train['token title'] = train['token title'].map(lambda x: x.replace(u'胡 适', u'胡适'))\n",
    "train['token title'] = train['token title'].map(lambda x: x.replace(u'徽 茶', u'徽茶'))"
   ]
  },
  {
   "cell_type": "markdown",
   "metadata": {},
   "source": [
    "#test['segments'] = test.segments.map(lambda x: x.replace(u'徽 文化', u'徽文化') if u'徽 文化' in x else x)\n",
    "test['token title'] = test['token title'].map(lambda x: x.replace(u'徽 文化', u'徽文化'))\n",
    "test['token title'] = test['token title'].map(lambda x: x.replace(u'胡 适', u'胡适'))\n",
    "test['token title'] = test['token title'].map(lambda x: x.replace(u'徽 茶', u'徽茶'))\n"
   ]
  },
  {
   "cell_type": "markdown",
   "metadata": {},
   "source": [
    "train['token title'] = train['token title'].map(lambda x: x.replace(u'徽 文化', u'徽文化') if u'徽 文化' in x else x)"
   ]
  },
  {
   "cell_type": "markdown",
   "metadata": {},
   "source": [
    "for t in train['token title']:\n",
    "    print t"
   ]
  },
  {
   "cell_type": "markdown",
   "metadata": {},
   "source": [
    "if u'徽 文化' in u'唤醒 徽 文化 “ 活化石 ”':\n",
    "    t = '唤醒 徽 文化 “ 活化石 ”'\n",
    "    t1 = t.replace('徽 文化', '徽文化')\n",
    "    print t1"
   ]
  },
  {
   "cell_type": "code",
   "execution_count": null,
   "metadata": {
    "collapsed": true
   },
   "outputs": [],
   "source": []
  },
  {
   "cell_type": "code",
   "execution_count": 22,
   "metadata": {
    "collapsed": false
   },
   "outputs": [],
   "source": [
    "Y_train = train['target']\n",
    "Y_test = test['target']"
   ]
  },
  {
   "cell_type": "markdown",
   "metadata": {
    "collapsed": false
   },
   "source": [
    "print len(Y_train)"
   ]
  },
  {
   "cell_type": "markdown",
   "metadata": {
    "collapsed": false
   },
   "source": [
    "train.head(100)"
   ]
  },
  {
   "cell_type": "markdown",
   "metadata": {},
   "source": [
    "test.head()"
   ]
  },
  {
   "cell_type": "markdown",
   "metadata": {
    "collapsed": false
   },
   "source": [
    "print len(train), len(test)"
   ]
  },
  {
   "cell_type": "code",
   "execution_count": 23,
   "metadata": {
    "collapsed": false
   },
   "outputs": [],
   "source": [
    "train_articles = train['segment'].values"
   ]
  },
  {
   "cell_type": "code",
   "execution_count": 24,
   "metadata": {
    "collapsed": false
   },
   "outputs": [],
   "source": [
    "test_articles = test['segment'].values\n",
    "#test_articles = test['segments'].values\n",
    "test_url = test['url'].values\n",
    "test_flag = test['target'].values"
   ]
  },
  {
   "cell_type": "markdown",
   "metadata": {
    "collapsed": false
   },
   "source": [
    "print len(train_articles), len(test_articles)"
   ]
  },
  {
   "cell_type": "code",
   "execution_count": 25,
   "metadata": {
    "collapsed": false
   },
   "outputs": [],
   "source": [
    "X_train = vectorizer.fit_transform(train_articles)"
   ]
  },
  {
   "cell_type": "code",
   "execution_count": 26,
   "metadata": {
    "collapsed": false
   },
   "outputs": [
    {
     "data": {
      "text/plain": [
       "RandomForestClassifier(bootstrap=True, class_weight=None, criterion='gini',\n",
       "            max_depth=None, max_features='auto', max_leaf_nodes=None,\n",
       "            min_impurity_split=1e-07, min_samples_leaf=1,\n",
       "            min_samples_split=2, min_weight_fraction_leaf=0.0,\n",
       "            n_estimators=50, n_jobs=1, oob_score=False, random_state=None,\n",
       "            verbose=0, warm_start=False)"
      ]
     },
     "execution_count": 26,
     "metadata": {},
     "output_type": "execute_result"
    }
   ],
   "source": [
    "clf.fit(X_train, Y_train)"
   ]
  },
  {
   "cell_type": "code",
   "execution_count": 30,
   "metadata": {
    "collapsed": true
   },
   "outputs": [],
   "source": [
    "X_test = vectorizer.transform(test_articles)"
   ]
  },
  {
   "cell_type": "markdown",
   "metadata": {},
   "source": [
    "vectorizer = TfidfVectorizer(analyzer = 'word', stop_words = Baidu_CH_Stopwords)\n",
    "document_term_mat = vectorizer.fit_transform(train_articles)\n",
    "words = vectorizer.get_feature_names()"
   ]
  },
  {
   "cell_type": "code",
   "execution_count": 53,
   "metadata": {
    "collapsed": false
   },
   "outputs": [],
   "source": [
    "Y_pred = clf.predict(X_test)"
   ]
  },
  {
   "cell_type": "code",
   "execution_count": 54,
   "metadata": {
    "collapsed": false
   },
   "outputs": [],
   "source": [
    "scores = metrics.accuracy_score(Y_test, Y_pred)"
   ]
  },
  {
   "cell_type": "code",
   "execution_count": 55,
   "metadata": {
    "collapsed": false
   },
   "outputs": [],
   "source": [
    "print scores"
   ]
  },
  {
   "cell_type": "code",
   "execution_count": 35,
   "metadata": {
    "collapsed": true
   },
   "outputs": [],
   "source": [
    "from sklearn.naive_bayes import GaussianNB\n",
    "from sklearn.linear_model import LogisticRegression\n",
    "from sklearn.ensemble import RandomForestClassifier\n",
    "from sklearn.svm import LinearSVC"
   ]
  },
  {
   "cell_type": "code",
   "execution_count": 36,
   "metadata": {
    "collapsed": true
   },
   "outputs": [],
   "source": [
    "lr = LogisticRegression()\n",
    "gnb = GaussianNB()\n",
    "svc = LinearSVC(C=1.0)\n",
    "rfc = RandomForestClassifier(n_estimators=50)"
   ]
  },
  {
   "cell_type": "code",
   "execution_count": 45,
   "metadata": {
    "collapsed": false
   },
   "outputs": [],
   "source": [
    "lr = LogisticRegression(max_iter=1000)"
   ]
  },
  {
   "cell_type": "code",
   "execution_count": 46,
   "metadata": {
    "collapsed": false
   },
   "outputs": [
    {
     "data": {
      "text/plain": [
       "LogisticRegression(C=1.0, class_weight=None, dual=False, fit_intercept=True,\n",
       "          intercept_scaling=1, max_iter=1000, multi_class='ovr', n_jobs=1,\n",
       "          penalty='l2', random_state=None, solver='liblinear', tol=0.0001,\n",
       "          verbose=0, warm_start=False)"
      ]
     },
     "execution_count": 46,
     "metadata": {},
     "output_type": "execute_result"
    }
   ],
   "source": [
    "lr.fit(X_train, Y_train)\n"
   ]
  },
  {
   "cell_type": "code",
   "execution_count": 56,
   "metadata": {
    "collapsed": false
   },
   "outputs": [],
   "source": [
    "Y_pred = lr.predict(X_test)\n",
    "scores = metrics.accuracy_score(Y_test, Y_pred)\n",
    "print scores"
   ]
  },
  {
   "cell_type": "code",
   "execution_count": 37,
   "metadata": {
    "collapsed": true
   },
   "outputs": [],
   "source": [
    "gnb = GaussianNB()\n",
    "gnb.fit()"
   ]
  },
  {
   "cell_type": "code",
   "execution_count": 50,
   "metadata": {
    "collapsed": true
   },
   "outputs": [],
   "source": [
    "\n",
    "svc = LinearSVC(C=1.0, max_iter=5000)"
   ]
  },
  {
   "cell_type": "code",
   "execution_count": 57,
   "metadata": {
    "collapsed": false
   },
   "outputs": [
    {
     "data": {
      "text/plain": [
       "LinearSVC(C=1.0, class_weight=None, dual=True, fit_intercept=True,\n",
       "     intercept_scaling=1, loss='squared_hinge', max_iter=5000,\n",
       "     multi_class='ovr', penalty='l2', random_state=None, tol=0.0001,\n",
       "     verbose=0)"
      ]
     },
     "execution_count": 57,
     "metadata": {},
     "output_type": "execute_result"
    }
   ],
   "source": [
    "svc.fit(X_train, Y_train)\n"
   ]
  },
  {
   "cell_type": "code",
   "execution_count": 58,
   "metadata": {
    "collapsed": true
   },
   "outputs": [],
   "source": [
    "Y_pred = svc.predict(X_test)\n",
    "scores = metrics.accuracy_score(Y_test, Y_pred)\n",
    "print scores"
   ]
  },
  {
   "cell_type": "code",
   "execution_count": 35,
   "metadata": {
    "collapsed": false
   },
   "outputs": [],
   "source": [
    "my_pickle_dump(\"../pkl/RandomForest.pkl\", clf)"
   ]
  },
  {
   "cell_type": "code",
   "execution_count": 309,
   "metadata": {
    "collapsed": false
   },
   "outputs": [],
   "source": [
    "print sum(Y_test), sum(Y_pred)"
   ]
  },
  {
   "cell_type": "markdown",
   "metadata": {},
   "source": [
    "if u'徽 文化' in u'唤醒 徽 文化 “ 活化石 ”':\n",
    "    t = '唤醒 徽 文化 “ 活化石 ”'\n",
    "    t1 = t.replace('徽 文化', '徽文化')\n",
    "    print t1"
   ]
  },
  {
   "cell_type": "code",
   "execution_count": 234,
   "metadata": {
    "collapsed": false
   },
   "outputs": [],
   "source": [
    "cnt = 0\n",
    "for i in range(0, len(Y_pred)):\n",
    "    #if (Y_test.values[i] != Y_pred[i]):\n",
    "    if (Y_pred[i] == 0):\n",
    "        #if ('' in test_articles[i]):\n",
    "            #print test_articles[i]\n",
    "        print i, cnt, Y_test.values[i], Y_pred[i]\n",
    "        print test_articles[i]\n",
    "        cnt += 1"
   ]
  },
  {
   "cell_type": "code",
   "execution_count": 116,
   "metadata": {
    "collapsed": false
   },
   "outputs": [],
   "source": [
    "print cnt"
   ]
  },
  {
   "cell_type": "code",
   "execution_count": 308,
   "metadata": {
    "collapsed": false
   },
   "outputs": [],
   "source": [
    "\n",
    "cnt = 0\n",
    "for i in range(0, len(Y_pred)):\n",
    "    #if (Y_test.values[i] != Y_pred[i]):\n",
    "    if (Y_pred[i] == 0):\n",
    "        if i != 1 and i != 2 and i != 3 and i != 152 and i != 153 and i != 163:\n",
    "            Y_pred[i] = 1\n",
    "            #Y_test.values[i] = 1\n",
    "            print i, cnt, Y_test.values[i], Y_pred[i]\n",
    "            print test_articles[i]\n"
   ]
  },
  {
   "cell_type": "code",
   "execution_count": 187,
   "metadata": {
    "collapsed": true
   },
   "outputs": [],
   "source": [
    "print cnt"
   ]
  },
  {
   "cell_type": "code",
   "execution_count": 310,
   "metadata": {
    "collapsed": true
   },
   "outputs": [],
   "source": [
    "def get_columns3():\n",
    "    return ('url', 'domain', 'title', 'segment',  'target', 'source') \n",
    "def get_empty_columns3():\n",
    "    return ('', '', '', '', '', '') "
   ]
  },
  {
   "cell_type": "code",
   "execution_count": 314,
   "metadata": {
    "collapsed": false
   },
   "outputs": [],
   "source": [
    "idx = 0\n",
    "new_df = pd.DataFrame(columns = get_columns3())"
   ]
  },
  {
   "cell_type": "code",
   "execution_count": 315,
   "metadata": {
    "collapsed": false
   },
   "outputs": [],
   "source": [
    "new_df['url'] = test['url']\n",
    "new_df['domain'] = test['domain']\n",
    "new_df['title'] = test['title']\n",
    "new_df['segment'] = test['segment']\n",
    "new_df['target'] = Y_pred\n",
    "new_df['source'] = ''"
   ]
  },
  {
   "cell_type": "code",
   "execution_count": 316,
   "metadata": {
    "collapsed": false
   },
   "outputs": [
    {
     "data": {
      "text/plain": [
       "(164, 164)"
      ]
     },
     "execution_count": 316,
     "metadata": {},
     "output_type": "execute_result"
    }
   ],
   "source": [
    "sum(Y_pred), sum(new_df['target'])"
   ]
  },
  {
   "cell_type": "code",
   "execution_count": 317,
   "metadata": {
    "collapsed": true
   },
   "outputs": [],
   "source": [
    "new_df.info()"
   ]
  },
  {
   "cell_type": "code",
   "execution_count": 318,
   "metadata": {
    "collapsed": true
   },
   "outputs": [],
   "source": [
    "train.info()"
   ]
  },
  {
   "cell_type": "code",
   "execution_count": 319,
   "metadata": {
    "collapsed": true
   },
   "outputs": [],
   "source": [
    "test.info()"
   ]
  },
  {
   "cell_type": "code",
   "execution_count": 320,
   "metadata": {
    "collapsed": false
   },
   "outputs": [
    {
     "data": {
      "text/html": [
       "<div>\n",
       "<table border=\"1\" class=\"dataframe\">\n",
       "  <thead>\n",
       "    <tr style=\"text-align: right;\">\n",
       "      <th></th>\n",
       "      <th>url</th>\n",
       "      <th>domain</th>\n",
       "      <th>title</th>\n",
       "      <th>segment</th>\n",
       "      <th>target</th>\n",
       "      <th>source</th>\n",
       "    </tr>\n",
       "  </thead>\n",
       "  <tbody>\n",
       "    <tr>\n",
       "      <th>0</th>\n",
       "      <td>http://www.517huizhou.com/forum.php?mod=viewth...</td>\n",
       "      <td>NaN</td>\n",
       "      <td>给古建筑穿上隐形的铠甲</td>\n",
       "      <td>给 古建筑 穿 上 隐形 的 铠甲</td>\n",
       "      <td>1</td>\n",
       "      <td></td>\n",
       "    </tr>\n",
       "    <tr>\n",
       "      <th>1</th>\n",
       "      <td>http://www.517huizhou.com/forum.php?mod=viewth...</td>\n",
       "      <td>NaN</td>\n",
       "      <td>奈何我很无聊！</td>\n",
       "      <td>奈何 我 很 无聊 ！</td>\n",
       "      <td>0</td>\n",
       "      <td></td>\n",
       "    </tr>\n",
       "    <tr>\n",
       "      <th>2</th>\n",
       "      <td>http://www.517huizhou.com/forum.php?mod=viewth...</td>\n",
       "      <td>NaN</td>\n",
       "      <td>好无聊！</td>\n",
       "      <td>好 无聊 ！</td>\n",
       "      <td>0</td>\n",
       "      <td></td>\n",
       "    </tr>\n",
       "    <tr>\n",
       "      <th>3</th>\n",
       "      <td>http://www.517huizhou.com/forum.php?mod=viewth...</td>\n",
       "      <td>NaN</td>\n",
       "      <td>好无聊哦！</td>\n",
       "      <td>好 无聊 哦 ！</td>\n",
       "      <td>0</td>\n",
       "      <td></td>\n",
       "    </tr>\n",
       "    <tr>\n",
       "      <th>4</th>\n",
       "      <td>http://www.517huizhou.com/forum.php?mod=viewth...</td>\n",
       "      <td>NaN</td>\n",
       "      <td>浅析徽州明清民居天井与庭院文化特征(三)</td>\n",
       "      <td>浅析 徽州 明清 民居 天井 与 庭院 文化 特征 ( 三 )</td>\n",
       "      <td>1</td>\n",
       "      <td></td>\n",
       "    </tr>\n",
       "    <tr>\n",
       "      <th>5</th>\n",
       "      <td>http://www.517huizhou.com/forum.php?mod=viewth...</td>\n",
       "      <td>NaN</td>\n",
       "      <td>浅析徽州明清民居天井与庭院文化特征(二)</td>\n",
       "      <td>浅析 徽州 明清 民居 天井 与 庭院 文化 特征 ( 二 )</td>\n",
       "      <td>1</td>\n",
       "      <td></td>\n",
       "    </tr>\n",
       "    <tr>\n",
       "      <th>6</th>\n",
       "      <td>http://www.517huizhou.com/forum.php?mod=viewth...</td>\n",
       "      <td>NaN</td>\n",
       "      <td>浅析徽州明清民居天井与庭院文化特征(一）</td>\n",
       "      <td>浅析 徽州 明清 民居 天井 与 庭院 文化 特征 ( 一 ）</td>\n",
       "      <td>1</td>\n",
       "      <td></td>\n",
       "    </tr>\n",
       "    <tr>\n",
       "      <th>7</th>\n",
       "      <td>http://www.517huizhou.com/forum.php?mod=viewth...</td>\n",
       "      <td>NaN</td>\n",
       "      <td>徽州园林艺术简论(三)</td>\n",
       "      <td>徽州 园林 艺术 简论 ( 三 )</td>\n",
       "      <td>1</td>\n",
       "      <td></td>\n",
       "    </tr>\n",
       "    <tr>\n",
       "      <th>8</th>\n",
       "      <td>http://www.517huizhou.com/forum.php?mod=viewth...</td>\n",
       "      <td>NaN</td>\n",
       "      <td>徽州园林艺术简论(二)</td>\n",
       "      <td>徽州 园林 艺术 简论 ( 二 )</td>\n",
       "      <td>1</td>\n",
       "      <td></td>\n",
       "    </tr>\n",
       "    <tr>\n",
       "      <th>9</th>\n",
       "      <td>http://www.517huizhou.com/forum.php?mod=viewth...</td>\n",
       "      <td>NaN</td>\n",
       "      <td>徽州园林艺术简论(一)</td>\n",
       "      <td>徽州 园林 艺术 简论 ( 一 )</td>\n",
       "      <td>1</td>\n",
       "      <td></td>\n",
       "    </tr>\n",
       "    <tr>\n",
       "      <th>10</th>\n",
       "      <td>http://www.517huizhou.com/forum.php?mod=viewth...</td>\n",
       "      <td>NaN</td>\n",
       "      <td>徽派建筑与汉文化圈其它建筑流派之比较(五)</td>\n",
       "      <td>徽派 建筑 与 汉 文化 圈 其它 建筑 流派 之 比较 ( 五 )</td>\n",
       "      <td>1</td>\n",
       "      <td></td>\n",
       "    </tr>\n",
       "    <tr>\n",
       "      <th>11</th>\n",
       "      <td>http://www.517huizhou.com/forum.php?mod=viewth...</td>\n",
       "      <td>NaN</td>\n",
       "      <td>徽派建筑与汉文化圈其它建筑流派之比较(四)</td>\n",
       "      <td>徽派 建筑 与 汉 文化 圈 其它 建筑 流派 之 比较 ( 四 )</td>\n",
       "      <td>1</td>\n",
       "      <td></td>\n",
       "    </tr>\n",
       "    <tr>\n",
       "      <th>12</th>\n",
       "      <td>http://www.517huizhou.com/forum.php?mod=viewth...</td>\n",
       "      <td>NaN</td>\n",
       "      <td>徽派建筑与汉文化圈其它建筑流派之比较(三)</td>\n",
       "      <td>徽派 建筑 与 汉 文化 圈 其它 建筑 流派 之 比较 ( 三 )</td>\n",
       "      <td>1</td>\n",
       "      <td></td>\n",
       "    </tr>\n",
       "    <tr>\n",
       "      <th>13</th>\n",
       "      <td>http://www.517huizhou.com/forum.php?mod=viewth...</td>\n",
       "      <td>NaN</td>\n",
       "      <td>徽派建筑与汉文化圈其它建筑流派之比较(二)</td>\n",
       "      <td>徽派 建筑 与 汉 文化 圈 其它 建筑 流派 之 比较 ( 二 )</td>\n",
       "      <td>1</td>\n",
       "      <td></td>\n",
       "    </tr>\n",
       "    <tr>\n",
       "      <th>14</th>\n",
       "      <td>http://www.517huizhou.com/forum.php?mod=viewth...</td>\n",
       "      <td>NaN</td>\n",
       "      <td>徽派建筑与汉文化圈其它建筑流派之比较(一)</td>\n",
       "      <td>徽派 建筑 与 汉 文化 圈 其它 建筑 流派 之 比较 ( 一 )</td>\n",
       "      <td>1</td>\n",
       "      <td></td>\n",
       "    </tr>\n",
       "    <tr>\n",
       "      <th>15</th>\n",
       "      <td>http://www.517huizhou.com/forum.php?mod=viewth...</td>\n",
       "      <td>NaN</td>\n",
       "      <td>徽州桥名的由来</td>\n",
       "      <td>徽州桥 名 的 由来</td>\n",
       "      <td>1</td>\n",
       "      <td></td>\n",
       "    </tr>\n",
       "    <tr>\n",
       "      <th>16</th>\n",
       "      <td>http://www.517huizhou.com/forum.php?mod=viewth...</td>\n",
       "      <td>NaN</td>\n",
       "      <td>徽派建筑的文化意蕴与开发价值</td>\n",
       "      <td>徽派 建筑 的 文化 意蕴 与 开发 价值</td>\n",
       "      <td>1</td>\n",
       "      <td></td>\n",
       "    </tr>\n",
       "    <tr>\n",
       "      <th>17</th>\n",
       "      <td>http://www.517huizhou.com/forum.php?mod=viewth...</td>\n",
       "      <td>NaN</td>\n",
       "      <td>徽州水口及其园林</td>\n",
       "      <td>徽州 水口 及其 园林</td>\n",
       "      <td>1</td>\n",
       "      <td></td>\n",
       "    </tr>\n",
       "    <tr>\n",
       "      <th>18</th>\n",
       "      <td>http://www.517huizhou.com/forum.php?mod=viewth...</td>\n",
       "      <td>NaN</td>\n",
       "      <td>徽州“古建三绝”及其“三雕”艺术</td>\n",
       "      <td>徽州 “ 古建 三 绝 ” 及其 “ 三 雕 ” 艺术</td>\n",
       "      <td>1</td>\n",
       "      <td></td>\n",
       "    </tr>\n",
       "    <tr>\n",
       "      <th>19</th>\n",
       "      <td>http://www.517huizhou.com/forum.php?mod=viewth...</td>\n",
       "      <td>NaN</td>\n",
       "      <td>徽派建筑的形成及风格特点</td>\n",
       "      <td>徽派 建筑 的 形成 及 风格 特点</td>\n",
       "      <td>1</td>\n",
       "      <td></td>\n",
       "    </tr>\n",
       "    <tr>\n",
       "      <th>20</th>\n",
       "      <td>http://www.517huizhou.com/forum.php?mod=viewth...</td>\n",
       "      <td>NaN</td>\n",
       "      <td>徽派建筑</td>\n",
       "      <td>徽派 建筑</td>\n",
       "      <td>1</td>\n",
       "      <td></td>\n",
       "    </tr>\n",
       "    <tr>\n",
       "      <th>21</th>\n",
       "      <td>http://www.517huizhou.com/forum.php?mod=viewth...</td>\n",
       "      <td>NaN</td>\n",
       "      <td>徽州文化系列谈——徽州古牌坊</td>\n",
       "      <td>徽州 文化 系列谈 —— 徽州 古 牌坊</td>\n",
       "      <td>1</td>\n",
       "      <td></td>\n",
       "    </tr>\n",
       "    <tr>\n",
       "      <th>22</th>\n",
       "      <td>http://www.517huizhou.com/forum.php?mod=viewth...</td>\n",
       "      <td>NaN</td>\n",
       "      <td>徽州文化系列谈——徽派建筑特色与文化内涵</td>\n",
       "      <td>徽州 文化 系列谈 —— 徽 派 建筑 特色 与 文化 内涵</td>\n",
       "      <td>1</td>\n",
       "      <td></td>\n",
       "    </tr>\n",
       "    <tr>\n",
       "      <th>23</th>\n",
       "      <td>http://www.517huizhou.com/forum.php?mod=viewth...</td>\n",
       "      <td>NaN</td>\n",
       "      <td>徽州文化系列谈——徽州的祠堂</td>\n",
       "      <td>徽州 文化 系列谈 —— 徽州 的 祠堂</td>\n",
       "      <td>1</td>\n",
       "      <td></td>\n",
       "    </tr>\n",
       "    <tr>\n",
       "      <th>24</th>\n",
       "      <td>http://www.517huizhou.com/forum.php?mod=viewth...</td>\n",
       "      <td>NaN</td>\n",
       "      <td>绩溪冯村牌坊背后的故事</td>\n",
       "      <td>绩溪冯村 牌坊 背后 的 故事</td>\n",
       "      <td>1</td>\n",
       "      <td></td>\n",
       "    </tr>\n",
       "    <tr>\n",
       "      <th>25</th>\n",
       "      <td>http://www.517huizhou.com/forum.php?mod=viewth...</td>\n",
       "      <td>NaN</td>\n",
       "      <td>徽州一绝：深不可测的天井</td>\n",
       "      <td>徽州 一 绝 ： 深不可测 的 天井</td>\n",
       "      <td>1</td>\n",
       "      <td></td>\n",
       "    </tr>\n",
       "    <tr>\n",
       "      <th>26</th>\n",
       "      <td>http://www.517huizhou.com/forum.php?mod=viewth...</td>\n",
       "      <td>NaN</td>\n",
       "      <td>徽派民居的科技意识</td>\n",
       "      <td>徽派 民居 的 科技 意识</td>\n",
       "      <td>1</td>\n",
       "      <td></td>\n",
       "    </tr>\n",
       "    <tr>\n",
       "      <th>27</th>\n",
       "      <td>http://www.517huizhou.com/forum.php?mod=viewth...</td>\n",
       "      <td>NaN</td>\n",
       "      <td>徽州传统民居建筑空间的人性意识</td>\n",
       "      <td>徽州 传统 民居 建筑 空间 的 人性 意识</td>\n",
       "      <td>1</td>\n",
       "      <td></td>\n",
       "    </tr>\n",
       "    <tr>\n",
       "      <th>28</th>\n",
       "      <td>http://www.517huizhou.com/forum.php?mod=viewth...</td>\n",
       "      <td>NaN</td>\n",
       "      <td>略述祠堂(二)</td>\n",
       "      <td>略 述 祠堂 ( 二 )</td>\n",
       "      <td>1</td>\n",
       "      <td></td>\n",
       "    </tr>\n",
       "    <tr>\n",
       "      <th>29</th>\n",
       "      <td>http://www.517huizhou.com/forum.php?mod=viewth...</td>\n",
       "      <td>NaN</td>\n",
       "      <td>略述祠堂(一)</td>\n",
       "      <td>略 述 祠堂 ( 一 )</td>\n",
       "      <td>1</td>\n",
       "      <td></td>\n",
       "    </tr>\n",
       "    <tr>\n",
       "      <th>...</th>\n",
       "      <td>...</td>\n",
       "      <td>...</td>\n",
       "      <td>...</td>\n",
       "      <td>...</td>\n",
       "      <td>...</td>\n",
       "      <td>...</td>\n",
       "    </tr>\n",
       "    <tr>\n",
       "      <th>140</th>\n",
       "      <td>http://www.517huizhou.com/forum.php?mod=viewth...</td>\n",
       "      <td>NaN</td>\n",
       "      <td>新安医家主要学术观点及医著之影响</td>\n",
       "      <td>新安 医家 主要 学术 观点 及 医著 之 影响</td>\n",
       "      <td>1</td>\n",
       "      <td></td>\n",
       "    </tr>\n",
       "    <tr>\n",
       "      <th>141</th>\n",
       "      <td>http://www.517huizhou.com/forum.php?mod=viewth...</td>\n",
       "      <td>NaN</td>\n",
       "      <td>新安医学主要流派及代表医家</td>\n",
       "      <td>新安 医学 主要 流派 及 代表 医家</td>\n",
       "      <td>1</td>\n",
       "      <td></td>\n",
       "    </tr>\n",
       "    <tr>\n",
       "      <th>142</th>\n",
       "      <td>http://www.517huizhou.com/forum.php?mod=viewth...</td>\n",
       "      <td>NaN</td>\n",
       "      <td>新安医家和医籍</td>\n",
       "      <td>新安 医家 和 医籍</td>\n",
       "      <td>1</td>\n",
       "      <td></td>\n",
       "    </tr>\n",
       "    <tr>\n",
       "      <th>143</th>\n",
       "      <td>http://www.517huizhou.com/forum.php?mod=viewth...</td>\n",
       "      <td>NaN</td>\n",
       "      <td>新安医学的形成及其相关状况</td>\n",
       "      <td>新安 医学 的 形成 及其 相关 状况</td>\n",
       "      <td>1</td>\n",
       "      <td></td>\n",
       "    </tr>\n",
       "    <tr>\n",
       "      <th>144</th>\n",
       "      <td>http://www.517huizhou.com/forum.php?mod=viewth...</td>\n",
       "      <td>NaN</td>\n",
       "      <td>徽籍太医和他主编的御篆医书</td>\n",
       "      <td>徽籍太医 和 他 主编 的 御篆 医书</td>\n",
       "      <td>1</td>\n",
       "      <td></td>\n",
       "    </tr>\n",
       "    <tr>\n",
       "      <th>145</th>\n",
       "      <td>http://www.517huizhou.com/forum.php?mod=viewth...</td>\n",
       "      <td>NaN</td>\n",
       "      <td>新安名医王大东</td>\n",
       "      <td>新安 名医 王大东</td>\n",
       "      <td>1</td>\n",
       "      <td></td>\n",
       "    </tr>\n",
       "    <tr>\n",
       "      <th>146</th>\n",
       "      <td>http://www.517huizhou.com/forum.php?mod=viewth...</td>\n",
       "      <td>NaN</td>\n",
       "      <td>医学科普家——汪昂</td>\n",
       "      <td>医学 科普 家 —— 汪昂</td>\n",
       "      <td>1</td>\n",
       "      <td></td>\n",
       "    </tr>\n",
       "    <tr>\n",
       "      <th>147</th>\n",
       "      <td>http://www.517huizhou.com/forum.php?mod=viewth...</td>\n",
       "      <td>NaN</td>\n",
       "      <td>温热大师----叶天士</td>\n",
       "      <td>温热 大师 ---- 叶天士</td>\n",
       "      <td>1</td>\n",
       "      <td></td>\n",
       "    </tr>\n",
       "    <tr>\n",
       "      <th>148</th>\n",
       "      <td>http://www.517huizhou.com/forum.php?mod=viewth...</td>\n",
       "      <td>NaN</td>\n",
       "      <td>明代著名医家孙一奎</td>\n",
       "      <td>明代 著名 医家 孙一奎</td>\n",
       "      <td>1</td>\n",
       "      <td></td>\n",
       "    </tr>\n",
       "    <tr>\n",
       "      <th>149</th>\n",
       "      <td>http://www.517huizhou.com/forum.php?mod=viewth...</td>\n",
       "      <td>NaN</td>\n",
       "      <td>新安郑氏喉科学术著作学术特色述略</td>\n",
       "      <td>新安 郑氏 喉科 学术 著作 学术 特色 述略</td>\n",
       "      <td>1</td>\n",
       "      <td></td>\n",
       "    </tr>\n",
       "    <tr>\n",
       "      <th>150</th>\n",
       "      <td>http://www.517huizhou.com/forum.php?mod=viewth...</td>\n",
       "      <td>NaN</td>\n",
       "      <td>新安医家的医德医风</td>\n",
       "      <td>新安 医家 的 医德 医风</td>\n",
       "      <td>1</td>\n",
       "      <td></td>\n",
       "    </tr>\n",
       "    <tr>\n",
       "      <th>151</th>\n",
       "      <td>http://www.517huizhou.com/forum.php?mod=viewth...</td>\n",
       "      <td>NaN</td>\n",
       "      <td>新安医学促进古今中医教育发展的特征分析</td>\n",
       "      <td>新安 医学 促进 古今 中医 教育 发展 的 特征 分析</td>\n",
       "      <td>1</td>\n",
       "      <td></td>\n",
       "    </tr>\n",
       "    <tr>\n",
       "      <th>152</th>\n",
       "      <td>http://www.517huizhou.com/forum.php?mod=viewth...</td>\n",
       "      <td>NaN</td>\n",
       "      <td>景德镇种德堂药店</td>\n",
       "      <td>景德镇 种德堂 药店</td>\n",
       "      <td>0</td>\n",
       "      <td></td>\n",
       "    </tr>\n",
       "    <tr>\n",
       "      <th>153</th>\n",
       "      <td>http://www.517huizhou.com/forum.php?mod=viewth...</td>\n",
       "      <td>NaN</td>\n",
       "      <td>何谓“错简重订派”</td>\n",
       "      <td>何谓 “ 错 简 重订派 ”</td>\n",
       "      <td>0</td>\n",
       "      <td></td>\n",
       "    </tr>\n",
       "    <tr>\n",
       "      <th>154</th>\n",
       "      <td>http://www.517huizhou.com/forum.php?mod=viewth...</td>\n",
       "      <td>NaN</td>\n",
       "      <td>新安医学概述</td>\n",
       "      <td>新安 医学 概述</td>\n",
       "      <td>1</td>\n",
       "      <td></td>\n",
       "    </tr>\n",
       "    <tr>\n",
       "      <th>155</th>\n",
       "      <td>http://www.517huizhou.com/forum.php?mod=viewth...</td>\n",
       "      <td>NaN</td>\n",
       "      <td>新安医学的学派特点及开发利用</td>\n",
       "      <td>新安 医学 的 学派 特点 及 开发 利用</td>\n",
       "      <td>1</td>\n",
       "      <td></td>\n",
       "    </tr>\n",
       "    <tr>\n",
       "      <th>156</th>\n",
       "      <td>http://www.517huizhou.com/forum.php?mod=viewth...</td>\n",
       "      <td>NaN</td>\n",
       "      <td>新安医学是怎样形成的</td>\n",
       "      <td>新安 医学 是 怎样 形成 的</td>\n",
       "      <td>1</td>\n",
       "      <td></td>\n",
       "    </tr>\n",
       "    <tr>\n",
       "      <th>157</th>\n",
       "      <td>http://www.517huizhou.com/forum.php?mod=viewth...</td>\n",
       "      <td>NaN</td>\n",
       "      <td>“固本培元派”的医学主张</td>\n",
       "      <td>“ 固 本 培元派 ” 的 医学 主张</td>\n",
       "      <td>1</td>\n",
       "      <td></td>\n",
       "    </tr>\n",
       "    <tr>\n",
       "      <th>158</th>\n",
       "      <td>http://www.517huizhou.com/forum.php?mod=viewth...</td>\n",
       "      <td>NaN</td>\n",
       "      <td>徽商中的药商</td>\n",
       "      <td>徽商 中 的 药商</td>\n",
       "      <td>1</td>\n",
       "      <td></td>\n",
       "    </tr>\n",
       "    <tr>\n",
       "      <th>159</th>\n",
       "      <td>http://www.517huizhou.com/forum.php?mod=viewth...</td>\n",
       "      <td>NaN</td>\n",
       "      <td>汪昂，给予医学崇高地位的儒医</td>\n",
       "      <td>汪昂 ， 给予 医学 崇高 地位 的 儒医</td>\n",
       "      <td>1</td>\n",
       "      <td></td>\n",
       "    </tr>\n",
       "    <tr>\n",
       "      <th>160</th>\n",
       "      <td>http://www.517huizhou.com/forum.php?mod=viewth...</td>\n",
       "      <td>NaN</td>\n",
       "      <td>新安医学纵览（一）</td>\n",
       "      <td>新安 医学 纵览 （ 一 ）</td>\n",
       "      <td>1</td>\n",
       "      <td></td>\n",
       "    </tr>\n",
       "    <tr>\n",
       "      <th>161</th>\n",
       "      <td>http://www.517huizhou.com/forum.php?mod=viewth...</td>\n",
       "      <td>NaN</td>\n",
       "      <td>徽州新安医学的发展</td>\n",
       "      <td>徽州 新安 医学 的 发展</td>\n",
       "      <td>1</td>\n",
       "      <td></td>\n",
       "    </tr>\n",
       "    <tr>\n",
       "      <th>162</th>\n",
       "      <td>http://www.517huizhou.com/forum.php?mod=viewth...</td>\n",
       "      <td>NaN</td>\n",
       "      <td>大医精要—新安医学研究</td>\n",
       "      <td>大医精 要 — 新安 医学 研究</td>\n",
       "      <td>1</td>\n",
       "      <td></td>\n",
       "    </tr>\n",
       "    <tr>\n",
       "      <th>163</th>\n",
       "      <td>http://www.517huizhou.com/forum.php?mod=viewth...</td>\n",
       "      <td>NaN</td>\n",
       "      <td>黄山河螺丝</td>\n",
       "      <td>黄山 河 螺丝</td>\n",
       "      <td>0</td>\n",
       "      <td></td>\n",
       "    </tr>\n",
       "    <tr>\n",
       "      <th>164</th>\n",
       "      <td>http://www.517huizhou.com/forum.php?mod=viewth...</td>\n",
       "      <td>NaN</td>\n",
       "      <td>徽州裹粽</td>\n",
       "      <td>徽州 裹粽</td>\n",
       "      <td>1</td>\n",
       "      <td></td>\n",
       "    </tr>\n",
       "    <tr>\n",
       "      <th>165</th>\n",
       "      <td>http://www.517huizhou.com/forum.php?mod=viewth...</td>\n",
       "      <td>NaN</td>\n",
       "      <td>五城茶干</td>\n",
       "      <td>五城茶干</td>\n",
       "      <td>1</td>\n",
       "      <td></td>\n",
       "    </tr>\n",
       "    <tr>\n",
       "      <th>166</th>\n",
       "      <td>http://www.517huizhou.com/forum.php?mod=viewth...</td>\n",
       "      <td>NaN</td>\n",
       "      <td>徽菜的形成</td>\n",
       "      <td>徽菜 的 形成</td>\n",
       "      <td>1</td>\n",
       "      <td></td>\n",
       "    </tr>\n",
       "    <tr>\n",
       "      <th>167</th>\n",
       "      <td>http://www.517huizhou.com/forum.php?mod=viewth...</td>\n",
       "      <td>NaN</td>\n",
       "      <td>皖风徽韵间的山珍野味</td>\n",
       "      <td>皖 风徽韵 间 的 山珍 野味</td>\n",
       "      <td>1</td>\n",
       "      <td></td>\n",
       "    </tr>\n",
       "    <tr>\n",
       "      <th>168</th>\n",
       "      <td>http://www.517huizhou.com/forum.php?mod=viewth...</td>\n",
       "      <td>NaN</td>\n",
       "      <td>戏说徽菜“霸王别鸡”</td>\n",
       "      <td>戏说 徽菜 “ 霸王 别鸡 ”</td>\n",
       "      <td>1</td>\n",
       "      <td></td>\n",
       "    </tr>\n",
       "    <tr>\n",
       "      <th>169</th>\n",
       "      <td>http://www.517huizhou.com/forum.php?mod=viewth...</td>\n",
       "      <td>NaN</td>\n",
       "      <td>臭鳜鱼</td>\n",
       "      <td>臭鳜鱼</td>\n",
       "      <td>1</td>\n",
       "      <td></td>\n",
       "    </tr>\n",
       "  </tbody>\n",
       "</table>\n",
       "<p>170 rows × 6 columns</p>\n",
       "</div>"
      ],
      "text/plain": [
       "                                                   url  domain  \\\n",
       "0    http://www.517huizhou.com/forum.php?mod=viewth...     NaN   \n",
       "1    http://www.517huizhou.com/forum.php?mod=viewth...     NaN   \n",
       "2    http://www.517huizhou.com/forum.php?mod=viewth...     NaN   \n",
       "3    http://www.517huizhou.com/forum.php?mod=viewth...     NaN   \n",
       "4    http://www.517huizhou.com/forum.php?mod=viewth...     NaN   \n",
       "5    http://www.517huizhou.com/forum.php?mod=viewth...     NaN   \n",
       "6    http://www.517huizhou.com/forum.php?mod=viewth...     NaN   \n",
       "7    http://www.517huizhou.com/forum.php?mod=viewth...     NaN   \n",
       "8    http://www.517huizhou.com/forum.php?mod=viewth...     NaN   \n",
       "9    http://www.517huizhou.com/forum.php?mod=viewth...     NaN   \n",
       "10   http://www.517huizhou.com/forum.php?mod=viewth...     NaN   \n",
       "11   http://www.517huizhou.com/forum.php?mod=viewth...     NaN   \n",
       "12   http://www.517huizhou.com/forum.php?mod=viewth...     NaN   \n",
       "13   http://www.517huizhou.com/forum.php?mod=viewth...     NaN   \n",
       "14   http://www.517huizhou.com/forum.php?mod=viewth...     NaN   \n",
       "15   http://www.517huizhou.com/forum.php?mod=viewth...     NaN   \n",
       "16   http://www.517huizhou.com/forum.php?mod=viewth...     NaN   \n",
       "17   http://www.517huizhou.com/forum.php?mod=viewth...     NaN   \n",
       "18   http://www.517huizhou.com/forum.php?mod=viewth...     NaN   \n",
       "19   http://www.517huizhou.com/forum.php?mod=viewth...     NaN   \n",
       "20   http://www.517huizhou.com/forum.php?mod=viewth...     NaN   \n",
       "21   http://www.517huizhou.com/forum.php?mod=viewth...     NaN   \n",
       "22   http://www.517huizhou.com/forum.php?mod=viewth...     NaN   \n",
       "23   http://www.517huizhou.com/forum.php?mod=viewth...     NaN   \n",
       "24   http://www.517huizhou.com/forum.php?mod=viewth...     NaN   \n",
       "25   http://www.517huizhou.com/forum.php?mod=viewth...     NaN   \n",
       "26   http://www.517huizhou.com/forum.php?mod=viewth...     NaN   \n",
       "27   http://www.517huizhou.com/forum.php?mod=viewth...     NaN   \n",
       "28   http://www.517huizhou.com/forum.php?mod=viewth...     NaN   \n",
       "29   http://www.517huizhou.com/forum.php?mod=viewth...     NaN   \n",
       "..                                                 ...     ...   \n",
       "140  http://www.517huizhou.com/forum.php?mod=viewth...     NaN   \n",
       "141  http://www.517huizhou.com/forum.php?mod=viewth...     NaN   \n",
       "142  http://www.517huizhou.com/forum.php?mod=viewth...     NaN   \n",
       "143  http://www.517huizhou.com/forum.php?mod=viewth...     NaN   \n",
       "144  http://www.517huizhou.com/forum.php?mod=viewth...     NaN   \n",
       "145  http://www.517huizhou.com/forum.php?mod=viewth...     NaN   \n",
       "146  http://www.517huizhou.com/forum.php?mod=viewth...     NaN   \n",
       "147  http://www.517huizhou.com/forum.php?mod=viewth...     NaN   \n",
       "148  http://www.517huizhou.com/forum.php?mod=viewth...     NaN   \n",
       "149  http://www.517huizhou.com/forum.php?mod=viewth...     NaN   \n",
       "150  http://www.517huizhou.com/forum.php?mod=viewth...     NaN   \n",
       "151  http://www.517huizhou.com/forum.php?mod=viewth...     NaN   \n",
       "152  http://www.517huizhou.com/forum.php?mod=viewth...     NaN   \n",
       "153  http://www.517huizhou.com/forum.php?mod=viewth...     NaN   \n",
       "154  http://www.517huizhou.com/forum.php?mod=viewth...     NaN   \n",
       "155  http://www.517huizhou.com/forum.php?mod=viewth...     NaN   \n",
       "156  http://www.517huizhou.com/forum.php?mod=viewth...     NaN   \n",
       "157  http://www.517huizhou.com/forum.php?mod=viewth...     NaN   \n",
       "158  http://www.517huizhou.com/forum.php?mod=viewth...     NaN   \n",
       "159  http://www.517huizhou.com/forum.php?mod=viewth...     NaN   \n",
       "160  http://www.517huizhou.com/forum.php?mod=viewth...     NaN   \n",
       "161  http://www.517huizhou.com/forum.php?mod=viewth...     NaN   \n",
       "162  http://www.517huizhou.com/forum.php?mod=viewth...     NaN   \n",
       "163  http://www.517huizhou.com/forum.php?mod=viewth...     NaN   \n",
       "164  http://www.517huizhou.com/forum.php?mod=viewth...     NaN   \n",
       "165  http://www.517huizhou.com/forum.php?mod=viewth...     NaN   \n",
       "166  http://www.517huizhou.com/forum.php?mod=viewth...     NaN   \n",
       "167  http://www.517huizhou.com/forum.php?mod=viewth...     NaN   \n",
       "168  http://www.517huizhou.com/forum.php?mod=viewth...     NaN   \n",
       "169  http://www.517huizhou.com/forum.php?mod=viewth...     NaN   \n",
       "\n",
       "                     title                             segment  target source  \n",
       "0              给古建筑穿上隐形的铠甲                   给 古建筑 穿 上 隐形 的 铠甲       1         \n",
       "1                  奈何我很无聊！                         奈何 我 很 无聊 ！       0         \n",
       "2                     好无聊！                              好 无聊 ！       0         \n",
       "3                    好无聊哦！                            好 无聊 哦 ！       0         \n",
       "4     浅析徽州明清民居天井与庭院文化特征(三)     浅析 徽州 明清 民居 天井 与 庭院 文化 特征 ( 三 )       1         \n",
       "5     浅析徽州明清民居天井与庭院文化特征(二)     浅析 徽州 明清 民居 天井 与 庭院 文化 特征 ( 二 )       1         \n",
       "6     浅析徽州明清民居天井与庭院文化特征(一）     浅析 徽州 明清 民居 天井 与 庭院 文化 特征 ( 一 ）       1         \n",
       "7              徽州园林艺术简论(三)                   徽州 园林 艺术 简论 ( 三 )       1         \n",
       "8              徽州园林艺术简论(二)                   徽州 园林 艺术 简论 ( 二 )       1         \n",
       "9              徽州园林艺术简论(一)                   徽州 园林 艺术 简论 ( 一 )       1         \n",
       "10   徽派建筑与汉文化圈其它建筑流派之比较(五)  徽派 建筑 与 汉 文化 圈 其它 建筑 流派 之 比较 ( 五 )       1         \n",
       "11   徽派建筑与汉文化圈其它建筑流派之比较(四)  徽派 建筑 与 汉 文化 圈 其它 建筑 流派 之 比较 ( 四 )       1         \n",
       "12   徽派建筑与汉文化圈其它建筑流派之比较(三)  徽派 建筑 与 汉 文化 圈 其它 建筑 流派 之 比较 ( 三 )       1         \n",
       "13   徽派建筑与汉文化圈其它建筑流派之比较(二)  徽派 建筑 与 汉 文化 圈 其它 建筑 流派 之 比较 ( 二 )       1         \n",
       "14   徽派建筑与汉文化圈其它建筑流派之比较(一)  徽派 建筑 与 汉 文化 圈 其它 建筑 流派 之 比较 ( 一 )       1         \n",
       "15                 徽州桥名的由来                          徽州桥 名 的 由来       1         \n",
       "16          徽派建筑的文化意蕴与开发价值               徽派 建筑 的 文化 意蕴 与 开发 价值       1         \n",
       "17                徽州水口及其园林                         徽州 水口 及其 园林       1         \n",
       "18        徽州“古建三绝”及其“三雕”艺术         徽州 “ 古建 三 绝 ” 及其 “ 三 雕 ” 艺术       1         \n",
       "19            徽派建筑的形成及风格特点                  徽派 建筑 的 形成 及 风格 特点       1         \n",
       "20                    徽派建筑                               徽派 建筑       1         \n",
       "21          徽州文化系列谈——徽州古牌坊                徽州 文化 系列谈 —— 徽州 古 牌坊       1         \n",
       "22    徽州文化系列谈——徽派建筑特色与文化内涵      徽州 文化 系列谈 —— 徽 派 建筑 特色 与 文化 内涵       1         \n",
       "23          徽州文化系列谈——徽州的祠堂                徽州 文化 系列谈 —— 徽州 的 祠堂       1         \n",
       "24             绩溪冯村牌坊背后的故事                     绩溪冯村 牌坊 背后 的 故事       1         \n",
       "25            徽州一绝：深不可测的天井                  徽州 一 绝 ： 深不可测 的 天井       1         \n",
       "26               徽派民居的科技意识                       徽派 民居 的 科技 意识       1         \n",
       "27         徽州传统民居建筑空间的人性意识              徽州 传统 民居 建筑 空间 的 人性 意识       1         \n",
       "28                 略述祠堂(二)                        略 述 祠堂 ( 二 )       1         \n",
       "29                 略述祠堂(一)                        略 述 祠堂 ( 一 )       1         \n",
       "..                     ...                                 ...     ...    ...  \n",
       "140       新安医家主要学术观点及医著之影响            新安 医家 主要 学术 观点 及 医著 之 影响       1         \n",
       "141          新安医学主要流派及代表医家                 新安 医学 主要 流派 及 代表 医家       1         \n",
       "142                新安医家和医籍                          新安 医家 和 医籍       1         \n",
       "143          新安医学的形成及其相关状况                 新安 医学 的 形成 及其 相关 状况       1         \n",
       "144          徽籍太医和他主编的御篆医书                 徽籍太医 和 他 主编 的 御篆 医书       1         \n",
       "145                新安名医王大东                           新安 名医 王大东       1         \n",
       "146              医学科普家——汪昂                       医学 科普 家 —— 汪昂       1         \n",
       "147            温热大师----叶天士                      温热 大师 ---- 叶天士       1         \n",
       "148              明代著名医家孙一奎                        明代 著名 医家 孙一奎       1         \n",
       "149       新安郑氏喉科学术著作学术特色述略             新安 郑氏 喉科 学术 著作 学术 特色 述略       1         \n",
       "150              新安医家的医德医风                       新安 医家 的 医德 医风       1         \n",
       "151    新安医学促进古今中医教育发展的特征分析        新安 医学 促进 古今 中医 教育 发展 的 特征 分析       1         \n",
       "152               景德镇种德堂药店                          景德镇 种德堂 药店       0         \n",
       "153              何谓“错简重订派”                      何谓 “ 错 简 重订派 ”       0         \n",
       "154                 新安医学概述                            新安 医学 概述       1         \n",
       "155         新安医学的学派特点及开发利用               新安 医学 的 学派 特点 及 开发 利用       1         \n",
       "156             新安医学是怎样形成的                     新安 医学 是 怎样 形成 的       1         \n",
       "157           “固本培元派”的医学主张                 “ 固 本 培元派 ” 的 医学 主张       1         \n",
       "158                 徽商中的药商                           徽商 中 的 药商       1         \n",
       "159         汪昂，给予医学崇高地位的儒医               汪昂 ， 给予 医学 崇高 地位 的 儒医       1         \n",
       "160              新安医学纵览（一）                      新安 医学 纵览 （ 一 ）       1         \n",
       "161              徽州新安医学的发展                       徽州 新安 医学 的 发展       1         \n",
       "162            大医精要—新安医学研究                    大医精 要 — 新安 医学 研究       1         \n",
       "163                  黄山河螺丝                             黄山 河 螺丝       0         \n",
       "164                   徽州裹粽                               徽州 裹粽       1         \n",
       "165                   五城茶干                                五城茶干       1         \n",
       "166                  徽菜的形成                             徽菜 的 形成       1         \n",
       "167             皖风徽韵间的山珍野味                     皖 风徽韵 间 的 山珍 野味       1         \n",
       "168             戏说徽菜“霸王别鸡”                     戏说 徽菜 “ 霸王 别鸡 ”       1         \n",
       "169                    臭鳜鱼                                 臭鳜鱼       1         \n",
       "\n",
       "[170 rows x 6 columns]"
      ]
     },
     "execution_count": 320,
     "metadata": {},
     "output_type": "execute_result"
    }
   ],
   "source": [
    "new_df.head(200)"
   ]
  },
  {
   "cell_type": "code",
   "execution_count": 321,
   "metadata": {
    "collapsed": true
   },
   "outputs": [],
   "source": [
    "joined = train.append(new_df)"
   ]
  },
  {
   "cell_type": "code",
   "execution_count": 322,
   "metadata": {
    "collapsed": false
   },
   "outputs": [],
   "source": [
    "joined.info()"
   ]
  },
  {
   "cell_type": "code",
   "execution_count": null,
   "metadata": {
    "collapsed": true
   },
   "outputs": [],
   "source": []
  },
  {
   "cell_type": "markdown",
   "metadata": {
    "collapsed": false
   },
   "source": [
    "final = joined[['url', 'domain', '', '', flag']]"
   ]
  },
  {
   "cell_type": "code",
   "execution_count": 323,
   "metadata": {
    "collapsed": false
   },
   "outputs": [],
   "source": [
    "joined.info()"
   ]
  },
  {
   "cell_type": "code",
   "execution_count": 324,
   "metadata": {
    "collapsed": true
   },
   "outputs": [],
   "source": [
    "df_no_dup = joined.dropna(subset =['url']) "
   ]
  },
  {
   "cell_type": "code",
   "execution_count": 289,
   "metadata": {
    "collapsed": false
   },
   "outputs": [],
   "source": [
    "\n",
    "df_no_dup = df_no_dup.dropna(subset =['segment']) "
   ]
  },
  {
   "cell_type": "code",
   "execution_count": 325,
   "metadata": {
    "collapsed": true
   },
   "outputs": [],
   "source": [
    "\n",
    "df_no_dup = df_no_dup.drop_duplicates(['url'])\n"
   ]
  },
  {
   "cell_type": "code",
   "execution_count": 79,
   "metadata": {
    "collapsed": true
   },
   "outputs": [],
   "source": [
    "\n",
    "df_no_dup = df_no_dup.drop_duplicates(['segment'])"
   ]
  },
  {
   "cell_type": "code",
   "execution_count": 326,
   "metadata": {
    "collapsed": true
   },
   "outputs": [],
   "source": [
    "df_no_dup.info()"
   ]
  },
  {
   "cell_type": "code",
   "execution_count": 327,
   "metadata": {
    "collapsed": false
   },
   "outputs": [
    {
     "data": {
      "text/plain": [
       "7030"
      ]
     },
     "execution_count": 327,
     "metadata": {},
     "output_type": "execute_result"
    }
   ],
   "source": [
    "df_no_dup['target'].sum()"
   ]
  },
  {
   "cell_type": "code",
   "execution_count": 329,
   "metadata": {
    "collapsed": false
   },
   "outputs": [],
   "source": [
    "df_no_dup.to_csv('../data/classifier/bosonNLP/bosonNLP-classifier-tuned.csv', encoding='utf-8', index=False)"
   ]
  },
  {
   "cell_type": "code",
   "execution_count": 51,
   "metadata": {
    "collapsed": false
   },
   "outputs": [],
   "source": [
    "print cnt, cnt*1.0/len(Y_pred)"
   ]
  },
  {
   "cell_type": "code",
   "execution_count": 307,
   "metadata": {
    "collapsed": true
   },
   "outputs": [],
   "source": [
    "print df_no_dup['flag'].sum()"
   ]
  },
  {
   "cell_type": "code",
   "execution_count": null,
   "metadata": {
    "collapsed": true
   },
   "outputs": [],
   "source": [
    "#Grid search"
   ]
  },
  {
   "cell_type": "code",
   "execution_count": null,
   "metadata": {
    "collapsed": true
   },
   "outputs": [],
   "source": [
    "from sklearn.datasets import make_classification\n",
    "from sklearn.grid_search import GridSearchCV\n",
    "from sklearn.metrics import precision_recall_fscore_support, accuracy_score, \\\n",
    "    matthews_corrcoef, make_scorer\n",
    "from sklearn.ensemble import RandomForestClassifier\n",
    "from sklearn.cross_validation import train_test_split"
   ]
  },
  {
   "cell_type": "code",
   "execution_count": null,
   "metadata": {
    "collapsed": true
   },
   "outputs": [],
   "source": [
    "def overall_average_score(actual,prediction):\n",
    "    precision, recall, f1_score, _ = precision_recall_fscore_support(\n",
    "        actual, prediction, average='binary')\n",
    "    total_score = (matthews_corrcoef(actual, prediction) +\n",
    "        accuracy_score(actual, prediction) + precision + recall + f1_score)\n",
    "    return total_score / 5"
   ]
  },
  {
   "cell_type": "code",
   "execution_count": null,
   "metadata": {
    "collapsed": true
   },
   "outputs": [],
   "source": [
    "X_train, X_test, y_train, y_test = train_test_split(X, y,\n",
    "    test_size=0.5, random_state=0)"
   ]
  },
  {
   "cell_type": "code",
   "execution_count": null,
   "metadata": {
    "collapsed": true
   },
   "outputs": [],
   "source": [
    "grid_scorer = make_scorer(overall_average_score, greater_is_better=True)"
   ]
  },
  {
   "cell_type": "code",
   "execution_count": null,
   "metadata": {
    "collapsed": true
   },
   "outputs": [],
   "source": [
    "parameters = {'n_estimators': [10,20,30],\n",
    "              'max_features': ['auto','sqrt','log2',0.5,0.3], }\n",
    "gs_rf = GridSearchCV(clf, parameters, cv=5, scoring=grid_scorer)\n",
    "gs_rf.fit(X_train,y_train)"
   ]
  },
  {
   "cell_type": "code",
   "execution_count": null,
   "metadata": {
    "collapsed": true
   },
   "outputs": [],
   "source": []
  }
 ],
 "metadata": {
  "kernelspec": {
   "display_name": "Python 2",
   "language": "python",
   "name": "python2"
  },
  "language_info": {
   "codemirror_mode": {
    "name": "ipython",
    "version": 2
   },
   "file_extension": ".py",
   "mimetype": "text/x-python",
   "name": "python",
   "nbconvert_exporter": "python",
   "pygments_lexer": "ipython2",
   "version": "2.7.10"
  }
 },
 "nbformat": 4,
 "nbformat_minor": 2
}
