{
 "cells": [
  {
   "cell_type": "code",
   "execution_count": 1,
   "metadata": {
    "collapsed": true
   },
   "outputs": [],
   "source": [
    "import pandas as pd\n",
    "from urlparse import urlparse\n",
    "import tldextract\n",
    "from collections import Counter"
   ]
  },
  {
   "cell_type": "code",
   "execution_count": 2,
   "metadata": {
    "collapsed": true
   },
   "outputs": [],
   "source": [
    "#url = 'http://52.10.84.130:8983/solr/collection1/select?q=*%3A*&rows=38364&wt=csv&indent=true'\n",
    "url = 'http://52.89.48.94:8983/solr/collection2/select?q=*%3A*&start=86016&rows=145893&wt=csv&indent=true'\n",
    "        "
   ]
  },
  {
   "cell_type": "code",
   "execution_count": 3,
   "metadata": {
    "collapsed": false
   },
   "outputs": [],
   "source": [
    "df = pd.read_csv(url)"
   ]
  },
  {
   "cell_type": "code",
   "execution_count": 4,
   "metadata": {
    "collapsed": false
   },
   "outputs": [
    {
     "name": "stdout",
     "output_type": "stream",
     "text": [
      "<class 'pandas.core.frame.DataFrame'>\n",
      "Int64Index: 59877 entries, 0 to 59876\n",
      "Data columns (total 10 columns):\n",
      "id           59877 non-null object\n",
      "content      59268 non-null object\n",
      "title        59226 non-null object\n",
      "_version_    59877 non-null int64\n",
      "cache        5 non-null object\n",
      "segment      59877 non-null int64\n",
      "digest       59877 non-null object\n",
      "boost        59877 non-null float64\n",
      "tstamp       59877 non-null object\n",
      "url          59877 non-null object\n",
      "dtypes: float64(1), int64(2), object(7)\n",
      "memory usage: 5.0+ MB\n"
     ]
    }
   ],
   "source": [
    "df.info()"
   ]
  },
  {
   "cell_type": "code",
   "execution_count": 13,
   "metadata": {
    "collapsed": true
   },
   "outputs": [],
   "source": [
    "df['domain']  = df.url.map(lambda x:tldextract.extract(x).domain + str('.') + tldextract.extract(x).suffix)"
   ]
  },
  {
   "cell_type": "code",
   "execution_count": 14,
   "metadata": {
    "collapsed": false
   },
   "outputs": [],
   "source": [
    "#df = pd.read_csv('./data/nutch-crawl-huizhou-only2-01-15-2017.csv')"
   ]
  },
  {
   "cell_type": "code",
   "execution_count": 15,
   "metadata": {
    "collapsed": false
   },
   "outputs": [
    {
     "name": "stdout",
     "output_type": "stream",
     "text": [
      "<class 'pandas.core.frame.DataFrame'>\n",
      "Int64Index: 59877 entries, 0 to 59876\n",
      "Data columns (total 11 columns):\n",
      "id           59877 non-null object\n",
      "content      59268 non-null object\n",
      "title        59226 non-null object\n",
      "_version_    59877 non-null int64\n",
      "cache        5 non-null object\n",
      "segment      59877 non-null int64\n",
      "digest       59877 non-null object\n",
      "boost        59877 non-null float64\n",
      "tstamp       59877 non-null object\n",
      "url          59877 non-null object\n",
      "domain       59877 non-null object\n",
      "dtypes: float64(1), int64(2), object(8)\n",
      "memory usage: 5.5+ MB\n"
     ]
    }
   ],
   "source": [
    "df.info()"
   ]
  },
  {
   "cell_type": "code",
   "execution_count": 5,
   "metadata": {
    "collapsed": true
   },
   "outputs": [],
   "source": [
    "def get_columns():\n",
    "    return ('segment', 'digest', 'tstamp', 'url', 'domain', 'content', 'id', 'title') \n",
    "def get_empty_columns():\n",
    "    return ('', '', '', '', '', '', '', '') "
   ]
  },
  {
   "cell_type": "code",
   "execution_count": 6,
   "metadata": {
    "collapsed": false
   },
   "outputs": [],
   "source": [
    "df_new = pd.DataFrame(columns = get_columns())\n",
    "\n",
    "for i in range(0, len(df)):\n",
    "    df_new.loc[i] = get_empty_columns()\n",
    "    df_new.loc[i]['domain']  = tldextract.extract(df.loc[i]['url']).domain + str('.') + \\\n",
    "                               tldextract.extract(df.loc[i]['url']).suffix"
   ]
  },
  {
   "cell_type": "code",
   "execution_count": 7,
   "metadata": {
    "collapsed": false
   },
   "outputs": [],
   "source": [
    "df_new['segment'] = df['segment']\n",
    "df_new['digest'] = df['digest']\n",
    "df_new['content'] = df['content']\n",
    "df_new['tstamp'] = df['tstamp']\n",
    "df_new['url'] = df['url']\n",
    "df_new['id'] = df['id']\n",
    "df_new['title'] = df['title']"
   ]
  },
  {
   "cell_type": "code",
   "execution_count": 8,
   "metadata": {
    "collapsed": false
   },
   "outputs": [
    {
     "data": {
      "text/html": [
       "<div>\n",
       "<table border=\"1\" class=\"dataframe\">\n",
       "  <thead>\n",
       "    <tr style=\"text-align: right;\">\n",
       "      <th></th>\n",
       "      <th>segment</th>\n",
       "      <th>digest</th>\n",
       "      <th>tstamp</th>\n",
       "      <th>url</th>\n",
       "      <th>domain</th>\n",
       "      <th>content</th>\n",
       "      <th>id</th>\n",
       "      <th>title</th>\n",
       "    </tr>\n",
       "  </thead>\n",
       "  <tbody>\n",
       "    <tr>\n",
       "      <th>0</th>\n",
       "      <td>20170213160703</td>\n",
       "      <td>306a2bbf507dca8af08ca26bdc835949</td>\n",
       "      <td>2017-02-13T17:25:31.777Z</td>\n",
       "      <td>http://cul.anhuinews.com/system/2009/03/05/002...</td>\n",
       "      <td>anhuinews.com</td>\n",
       "      <td>第十六章(2)-月上重火,连载,阅读-中安在线-徽文化 首页 　 新闻 　 安徽 　 网视 ...</td>\n",
       "      <td>http://cul.anhuinews.com/system/2009/03/05/002...</td>\n",
       "      <td>第十六章(2)-月上重火,连载,阅读-中安在线-徽文化</td>\n",
       "    </tr>\n",
       "    <tr>\n",
       "      <th>1</th>\n",
       "      <td>20170213160703</td>\n",
       "      <td>38d30b20526082bbcdfc2d911528da3a</td>\n",
       "      <td>2017-02-13T17:47:03.783Z</td>\n",
       "      <td>http://cul.anhuinews.com/system/2009/03/05/002...</td>\n",
       "      <td>anhuinews.com</td>\n",
       "      <td>第十六章(1)-月上重火,连载,阅读-中安在线-徽文化 首页 　 新闻 　 安徽 　 网视 ...</td>\n",
       "      <td>http://cul.anhuinews.com/system/2009/03/05/002...</td>\n",
       "      <td>第十六章(1)-月上重火,连载,阅读-中安在线-徽文化</td>\n",
       "    </tr>\n",
       "    <tr>\n",
       "      <th>2</th>\n",
       "      <td>20170213160703</td>\n",
       "      <td>c80267d57e6a8c6eecb593b2617e438c</td>\n",
       "      <td>2017-02-13T16:20:40.982Z</td>\n",
       "      <td>http://cul.anhuinews.com/system/2009/03/05/002...</td>\n",
       "      <td>anhuinews.com</td>\n",
       "      <td>第十五章(4)-月上重火,连载,阅读-中安在线-徽文化 首页 　 新闻 　 安徽 　 网视 ...</td>\n",
       "      <td>http://cul.anhuinews.com/system/2009/03/05/002...</td>\n",
       "      <td>第十五章(4)-月上重火,连载,阅读-中安在线-徽文化</td>\n",
       "    </tr>\n",
       "    <tr>\n",
       "      <th>3</th>\n",
       "      <td>20170213160703</td>\n",
       "      <td>31ea7eaa5e81e56ed3fc2a54e3978530</td>\n",
       "      <td>2017-02-13T18:57:11.49Z</td>\n",
       "      <td>http://cul.anhuinews.com/system/2009/03/05/002...</td>\n",
       "      <td>anhuinews.com</td>\n",
       "      <td>第十五章(3)-月上重火,连载,阅读-中安在线-徽文化 首页 　 新闻 　 安徽 　 网视 ...</td>\n",
       "      <td>http://cul.anhuinews.com/system/2009/03/05/002...</td>\n",
       "      <td>第十五章(3)-月上重火,连载,阅读-中安在线-徽文化</td>\n",
       "    </tr>\n",
       "    <tr>\n",
       "      <th>4</th>\n",
       "      <td>20170213160703</td>\n",
       "      <td>a22abfd3a1ed3d6065f9fb3ec2502e3f</td>\n",
       "      <td>2017-02-13T16:40:17.225Z</td>\n",
       "      <td>http://cul.anhuinews.com/system/2009/03/05/002...</td>\n",
       "      <td>anhuinews.com</td>\n",
       "      <td>第十五章(2)-月上重火,连载,阅读-中安在线-徽文化 首页 　 新闻 　 安徽 　 网视 ...</td>\n",
       "      <td>http://cul.anhuinews.com/system/2009/03/05/002...</td>\n",
       "      <td>第十五章(2)-月上重火,连载,阅读-中安在线-徽文化</td>\n",
       "    </tr>\n",
       "  </tbody>\n",
       "</table>\n",
       "</div>"
      ],
      "text/plain": [
       "          segment                            digest                    tstamp  \\\n",
       "0  20170213160703  306a2bbf507dca8af08ca26bdc835949  2017-02-13T17:25:31.777Z   \n",
       "1  20170213160703  38d30b20526082bbcdfc2d911528da3a  2017-02-13T17:47:03.783Z   \n",
       "2  20170213160703  c80267d57e6a8c6eecb593b2617e438c  2017-02-13T16:20:40.982Z   \n",
       "3  20170213160703  31ea7eaa5e81e56ed3fc2a54e3978530   2017-02-13T18:57:11.49Z   \n",
       "4  20170213160703  a22abfd3a1ed3d6065f9fb3ec2502e3f  2017-02-13T16:40:17.225Z   \n",
       "\n",
       "                                                 url         domain  \\\n",
       "0  http://cul.anhuinews.com/system/2009/03/05/002...  anhuinews.com   \n",
       "1  http://cul.anhuinews.com/system/2009/03/05/002...  anhuinews.com   \n",
       "2  http://cul.anhuinews.com/system/2009/03/05/002...  anhuinews.com   \n",
       "3  http://cul.anhuinews.com/system/2009/03/05/002...  anhuinews.com   \n",
       "4  http://cul.anhuinews.com/system/2009/03/05/002...  anhuinews.com   \n",
       "\n",
       "                                             content  \\\n",
       "0  第十六章(2)-月上重火,连载,阅读-中安在线-徽文化 首页 　 新闻 　 安徽 　 网视 ...   \n",
       "1  第十六章(1)-月上重火,连载,阅读-中安在线-徽文化 首页 　 新闻 　 安徽 　 网视 ...   \n",
       "2  第十五章(4)-月上重火,连载,阅读-中安在线-徽文化 首页 　 新闻 　 安徽 　 网视 ...   \n",
       "3  第十五章(3)-月上重火,连载,阅读-中安在线-徽文化 首页 　 新闻 　 安徽 　 网视 ...   \n",
       "4  第十五章(2)-月上重火,连载,阅读-中安在线-徽文化 首页 　 新闻 　 安徽 　 网视 ...   \n",
       "\n",
       "                                                  id  \\\n",
       "0  http://cul.anhuinews.com/system/2009/03/05/002...   \n",
       "1  http://cul.anhuinews.com/system/2009/03/05/002...   \n",
       "2  http://cul.anhuinews.com/system/2009/03/05/002...   \n",
       "3  http://cul.anhuinews.com/system/2009/03/05/002...   \n",
       "4  http://cul.anhuinews.com/system/2009/03/05/002...   \n",
       "\n",
       "                         title  \n",
       "0  第十六章(2)-月上重火,连载,阅读-中安在线-徽文化  \n",
       "1  第十六章(1)-月上重火,连载,阅读-中安在线-徽文化  \n",
       "2  第十五章(4)-月上重火,连载,阅读-中安在线-徽文化  \n",
       "3  第十五章(3)-月上重火,连载,阅读-中安在线-徽文化  \n",
       "4  第十五章(2)-月上重火,连载,阅读-中安在线-徽文化  "
      ]
     },
     "execution_count": 8,
     "metadata": {},
     "output_type": "execute_result"
    }
   ],
   "source": [
    "df_new.head()"
   ]
  },
  {
   "cell_type": "code",
   "execution_count": 16,
   "metadata": {
    "collapsed": true
   },
   "outputs": [],
   "source": [
    "df_new = df"
   ]
  },
  {
   "cell_type": "code",
   "execution_count": 17,
   "metadata": {
    "collapsed": true
   },
   "outputs": [],
   "source": [
    "df_no_dup = df_new.drop_duplicates(['url'])"
   ]
  },
  {
   "cell_type": "code",
   "execution_count": 18,
   "metadata": {
    "collapsed": false
   },
   "outputs": [
    {
     "name": "stdout",
     "output_type": "stream",
     "text": [
      "59876\n"
     ]
    }
   ],
   "source": [
    "print len(df_no_dup)"
   ]
  },
  {
   "cell_type": "code",
   "execution_count": 19,
   "metadata": {
    "collapsed": true
   },
   "outputs": [],
   "source": [
    "df_no_dup = df_no_dup.drop_duplicates(['title'])"
   ]
  },
  {
   "cell_type": "code",
   "execution_count": 20,
   "metadata": {
    "collapsed": false
   },
   "outputs": [
    {
     "name": "stdout",
     "output_type": "stream",
     "text": [
      "53554\n"
     ]
    }
   ],
   "source": [
    "print len(df_no_dup)"
   ]
  },
  {
   "cell_type": "code",
   "execution_count": 21,
   "metadata": {
    "collapsed": true
   },
   "outputs": [],
   "source": [
    "df_no_dup = df_no_dup.dropna(subset =['content'])"
   ]
  },
  {
   "cell_type": "code",
   "execution_count": null,
   "metadata": {
    "collapsed": true
   },
   "outputs": [],
   "source": []
  },
  {
   "cell_type": "code",
   "execution_count": 22,
   "metadata": {
    "collapsed": false
   },
   "outputs": [],
   "source": [
    "df_final = df_no_dup[['id', 'tstamp', 'url', 'domain', 'title', 'digest', 'content']]"
   ]
  },
  {
   "cell_type": "code",
   "execution_count": 23,
   "metadata": {
    "collapsed": false
   },
   "outputs": [
    {
     "name": "stdout",
     "output_type": "stream",
     "text": [
      "<class 'pandas.core.frame.DataFrame'>\n",
      "Int64Index: 53554 entries, 0 to 59876\n",
      "Data columns (total 7 columns):\n",
      "id         53554 non-null object\n",
      "tstamp     53554 non-null object\n",
      "url        53554 non-null object\n",
      "domain     53554 non-null object\n",
      "title      53553 non-null object\n",
      "digest     53554 non-null object\n",
      "content    53554 non-null object\n",
      "dtypes: object(7)\n",
      "memory usage: 3.3+ MB\n"
     ]
    }
   ],
   "source": [
    "df_final.info()"
   ]
  },
  {
   "cell_type": "code",
   "execution_count": 24,
   "metadata": {
    "collapsed": true
   },
   "outputs": [],
   "source": [
    "df.to_csv('../data/nutch-crawl-huizhou-domain_only2-3-30-2017.csv', encoding='utf-8', index=False)"
   ]
  },
  {
   "cell_type": "code",
   "execution_count": 25,
   "metadata": {
    "collapsed": false
   },
   "outputs": [],
   "source": [
    "df_final.to_csv('../data/nutch-crawl-huizhou-domain_only2-03-30-2017-cleaned.csv', encoding='utf-8', index=False)"
   ]
  },
  {
   "cell_type": "code",
   "execution_count": 134,
   "metadata": {
    "collapsed": false
   },
   "outputs": [],
   "source": [
    "new_df = pd.read_csv('../data/nutch-crawl-huizhou-domain_only2-02-15-2017-cleaned.csv')"
   ]
  },
  {
   "cell_type": "code",
   "execution_count": 26,
   "metadata": {
    "collapsed": false
   },
   "outputs": [
    {
     "data": {
      "text/html": [
       "<div>\n",
       "<table border=\"1\" class=\"dataframe\">\n",
       "  <thead>\n",
       "    <tr style=\"text-align: right;\">\n",
       "      <th></th>\n",
       "      <th>id</th>\n",
       "      <th>tstamp</th>\n",
       "      <th>url</th>\n",
       "      <th>domain</th>\n",
       "      <th>title</th>\n",
       "      <th>digest</th>\n",
       "      <th>content</th>\n",
       "    </tr>\n",
       "  </thead>\n",
       "  <tbody>\n",
       "    <tr>\n",
       "      <th>0</th>\n",
       "      <td>http://www.wuyuan168.com/html/youjigonglue/201...</td>\n",
       "      <td>2017-03-28T03:49:50.492Z</td>\n",
       "      <td>http://www.wuyuan168.com/html/youjigonglue/201...</td>\n",
       "      <td>wuyuan168.com</td>\n",
       "      <td>婺源小品---那鸡、那狗、那猫_醉美婺源旅游网</td>\n",
       "      <td>48888a5733123aeb56856346574fca75</td>\n",
       "      <td>婺源小品---那鸡、那狗、那猫_醉美婺源旅游网 会员中心 | 免费注册 | 登录 | 江西婺...</td>\n",
       "    </tr>\n",
       "    <tr>\n",
       "      <th>1</th>\n",
       "      <td>http://www.wuyuan168.com/html/youjigonglue/201...</td>\n",
       "      <td>2017-03-28T04:51:33.534Z</td>\n",
       "      <td>http://www.wuyuan168.com/html/youjigonglue/201...</td>\n",
       "      <td>wuyuan168.com</td>\n",
       "      <td>婺源农趣_醉美婺源旅游网</td>\n",
       "      <td>51b9778bee5d8c5134fc8a8218d50742</td>\n",
       "      <td>婺源农趣_醉美婺源旅游网 会员中心 | 免费注册 | 登录 | 江西婺源 | 设为首页 | ...</td>\n",
       "    </tr>\n",
       "    <tr>\n",
       "      <th>2</th>\n",
       "      <td>http://www.wuyuan168.com/html/youjigonglue/201...</td>\n",
       "      <td>2017-03-28T04:44:47.363Z</td>\n",
       "      <td>http://www.wuyuan168.com/html/youjigonglue/201...</td>\n",
       "      <td>wuyuan168.com</td>\n",
       "      <td>夏日婺源 乡村廊桥一步一景_醉美婺源旅游网</td>\n",
       "      <td>a8e808a7cb4d48f16e4f5a1b1785bffb</td>\n",
       "      <td>夏日婺源 乡村廊桥一步一景_醉美婺源旅游网 会员中心 | 免费注册 | 登录 | 江西婺源 ...</td>\n",
       "    </tr>\n",
       "    <tr>\n",
       "      <th>3</th>\n",
       "      <td>http://www.wuyuan168.com/html/youjigonglue/201...</td>\n",
       "      <td>2017-03-28T04:20:59.834Z</td>\n",
       "      <td>http://www.wuyuan168.com/html/youjigonglue/201...</td>\n",
       "      <td>wuyuan168.com</td>\n",
       "      <td>触摸婺源那惊艳春光_醉美婺源旅游网</td>\n",
       "      <td>b642c2dbe9ba31c83c0811f0e2f9f8e8</td>\n",
       "      <td>触摸婺源那惊艳春光_醉美婺源旅游网 会员中心 | 免费注册 | 登录 | 江西婺源 | 设为...</td>\n",
       "    </tr>\n",
       "    <tr>\n",
       "      <th>4</th>\n",
       "      <td>http://www.wuyuan168.com/html/youjigonglue/201...</td>\n",
       "      <td>2017-03-28T03:44:23.829Z</td>\n",
       "      <td>http://www.wuyuan168.com/html/youjigonglue/201...</td>\n",
       "      <td>wuyuan168.com</td>\n",
       "      <td>夏日婺源 天生丽质自难弃_醉美婺源旅游网</td>\n",
       "      <td>d6c59f001e84e230cc4931494a6f941a</td>\n",
       "      <td>夏日婺源 天生丽质自难弃_醉美婺源旅游网 会员中心 | 免费注册 | 登录 | 江西婺源 |...</td>\n",
       "    </tr>\n",
       "  </tbody>\n",
       "</table>\n",
       "</div>"
      ],
      "text/plain": [
       "                                                  id  \\\n",
       "0  http://www.wuyuan168.com/html/youjigonglue/201...   \n",
       "1  http://www.wuyuan168.com/html/youjigonglue/201...   \n",
       "2  http://www.wuyuan168.com/html/youjigonglue/201...   \n",
       "3  http://www.wuyuan168.com/html/youjigonglue/201...   \n",
       "4  http://www.wuyuan168.com/html/youjigonglue/201...   \n",
       "\n",
       "                     tstamp  \\\n",
       "0  2017-03-28T03:49:50.492Z   \n",
       "1  2017-03-28T04:51:33.534Z   \n",
       "2  2017-03-28T04:44:47.363Z   \n",
       "3  2017-03-28T04:20:59.834Z   \n",
       "4  2017-03-28T03:44:23.829Z   \n",
       "\n",
       "                                                 url         domain  \\\n",
       "0  http://www.wuyuan168.com/html/youjigonglue/201...  wuyuan168.com   \n",
       "1  http://www.wuyuan168.com/html/youjigonglue/201...  wuyuan168.com   \n",
       "2  http://www.wuyuan168.com/html/youjigonglue/201...  wuyuan168.com   \n",
       "3  http://www.wuyuan168.com/html/youjigonglue/201...  wuyuan168.com   \n",
       "4  http://www.wuyuan168.com/html/youjigonglue/201...  wuyuan168.com   \n",
       "\n",
       "                     title                            digest  \\\n",
       "0  婺源小品---那鸡、那狗、那猫_醉美婺源旅游网  48888a5733123aeb56856346574fca75   \n",
       "1             婺源农趣_醉美婺源旅游网  51b9778bee5d8c5134fc8a8218d50742   \n",
       "2    夏日婺源 乡村廊桥一步一景_醉美婺源旅游网  a8e808a7cb4d48f16e4f5a1b1785bffb   \n",
       "3        触摸婺源那惊艳春光_醉美婺源旅游网  b642c2dbe9ba31c83c0811f0e2f9f8e8   \n",
       "4     夏日婺源 天生丽质自难弃_醉美婺源旅游网  d6c59f001e84e230cc4931494a6f941a   \n",
       "\n",
       "                                             content  \n",
       "0  婺源小品---那鸡、那狗、那猫_醉美婺源旅游网 会员中心 | 免费注册 | 登录 | 江西婺...  \n",
       "1  婺源农趣_醉美婺源旅游网 会员中心 | 免费注册 | 登录 | 江西婺源 | 设为首页 | ...  \n",
       "2  夏日婺源 乡村廊桥一步一景_醉美婺源旅游网 会员中心 | 免费注册 | 登录 | 江西婺源 ...  \n",
       "3  触摸婺源那惊艳春光_醉美婺源旅游网 会员中心 | 免费注册 | 登录 | 江西婺源 | 设为...  \n",
       "4  夏日婺源 天生丽质自难弃_醉美婺源旅游网 会员中心 | 免费注册 | 登录 | 江西婺源 |...  "
      ]
     },
     "execution_count": 26,
     "metadata": {},
     "output_type": "execute_result"
    }
   ],
   "source": [
    "df_final.head()"
   ]
  },
  {
   "cell_type": "code",
   "execution_count": 147,
   "metadata": {
    "collapsed": false
   },
   "outputs": [
    {
     "name": "stdout",
     "output_type": "stream",
     "text": [
      "徽州收藏\n",
      "徽州文化生态保护区专版\n",
      "振兴徽州\n",
      "新安书画\n",
      "投诉建议\n",
      "石潭\n",
      "育才徽塾\n",
      "寻找抗日老兵\n",
      "媒体互动\n",
      "活动专题回顾\n",
      "徽州古村落\n",
      "寻徽之旅\n",
      "徽派赏石\n",
      "石屋坑\n",
      "磻溪\n",
      "萌坑\n",
      "徽州特色人才\n",
      "徽州建筑\n",
      "黄山行摄指南\n",
      "2017点亮徽州\n",
      "故园时评\n",
      "寻根徽州\n",
      "说鳖茶馆\n",
      "活动专题回顾\n",
      "提示信息 \n",
      "悠悠古琴绕齐云\n",
      "【视频】白岳笔会之座谈会\n",
      "找家谱 方姓的族人来帮忙\n",
      "踩点万安罗经博物馆\n",
      "热烈祝贺\n",
      "道教医药－癫痫偏方3则\n",
      "新安程姓出篁墩\n",
      "国家质检总局副局长魏传忠调研吴鲁衡罗经老店\n",
      "山西电视台公共新闻频道总监考察万安吴鲁衡博物馆\n",
      "左台吴氏后裔徽州寻根游\n",
      "菖蒲集结号\n",
      "以５Ａ景区规划横江\n",
      "从武杭的线路之争看有心人的分化之论\n",
      "【原创】<<享受暇湾时光>>\n",
      "【贴图】【原创】游遍西湖山水，名胜古迹．经常添加更新\n",
      "【关注】万安罗盘老店唯一的遗存——亟待保护的老吴鲁衡店旧址\n",
      "好吃会做，“徽菜展”\n",
      "【原创】“祁门目连戏资料整理”（人文徽州08\n",
      "【资料】老街印象（你是否也在这里留有脚印呢？）\n",
      "【资料】屯溪老街大事记\n",
      "《图述龙川》一书的导读\n",
      "查询洪姓祖先具体地址\n",
      "我只爱故园，无关促进会！\n",
      "随心一拍\n",
      "【新安十五大姓】——余姓的报道\n",
      "【讨论】打造旅游航母\n",
      "关于设立促进会分支机构和办事机构任命机构负责人的通知[201304号]\n",
      "詹洪星 3岁半患神经母细胞瘤家庭贫困向社会求助\n",
      "紧急求助：救救婺源患白血病的豆蔻少女詹泓！\n",
      "热烈祝贺俺小孩荣获优秀硕士毕业生\n",
      "余元昌盖缸\n",
      "清末徽州婺邑詹氏在四川酉陽开設\"詹信安钱庄\"的一千文钱票\n",
      "笔直的杭黄高铁通道为何拐个弯？\n",
      "“振兴徽州，寻徽之旅——走进古黟碧山、陶村守拙园”活动公告\n",
      "“振兴徽州，寻徽之旅——游瞻淇古村、品三潭枇杷”活动公告\n",
      "征集纪念抗日战争胜利七十周年书画展作品\n",
      "去岩寺参加黄山节\n",
      "姑娘，让我们为你的成人礼点赞！\n",
      "桃花潭水没有三千尺\n",
      "金秋十月故园徽州书画院笔会召集帖\n",
      "2017“点亮徽州，西街文化之夜”故园徽州新春盛典报名帖\n",
      "某些绩溪人要傻眼了\n",
      "观潮\n",
      "求年会图片\n",
      "流光溢彩三十晚\n",
      "饮茶渔梁坝\n",
      "正月初二拜年洪琴村\n",
      "长河落日\n",
      "故里行\n",
      "私人景点宏村西递什么时候对黟县人黄山人安徽人免费？\n",
      "上九庙会真热闹\n",
      "故园徽州2月10日签到记录贴\n",
      "故园徽州2月11日签到记录贴\n",
      "故园徽州2月12日签到记录贴\n",
      "故园徽州2月13日签到记录贴\n",
      "【求助】请问到石潭怎么走\n",
      "【原创】拍摄黄山日出的时间表\n",
      "假如故园没有促进会？\n",
      "2006－2010，从联谊会到促进会不得不说的传奇\n",
      "欣赏 鉴赏 鉴定 拍卖 ！！！\n",
      "徽州旅游攻略\n",
      "故园徽州网\n",
      "徽州姓氏\n",
      "徽州目连戏\n",
      "万安吴鲁衡罗盘\n",
      "屯溪老街保护与发展\n",
      "净水斋观察\n",
      "徽州三雕\n",
      "徽州左台吴氏\n",
      "程朱理学研究会\n",
      "白岳笔会\n",
      "民间徽商研究小组\n",
      "论坛办公室 \n",
      "◆鈺宇狂風◆ \n",
      "~*呆呆*~木鱼爱徽州 \n",
      "喜欢就加进来吧 \n",
      "徽商观察 \n",
      "山涧溪泉 \n",
      "无忧小天地 \n",
      "雪花儿 \n",
      "徽州摄影旅游群 \n",
      "忆江南 \n",
      "黑、白、灰 \n",
      "安徽自驾游 \n",
      "情断徽州 \n",
      "投资理财 \n",
      "汽车之家 \n",
      "铅弹模具15018797257 \n",
      "铅弹母鸡15018797257 \n",
      "4.5铅弹模15018797257 \n",
      "5.5铅弹模15018797257 \n",
      "狗粮模具15018797257 \n",
      "5.6弹头模15018797257 \n",
      "乡村旅游成为休宁农民增收新亮点\n",
      "汪加林：竹林里走出的竹雕大师\n",
      "徽州新闻|徽州资讯\n",
      "国内新闻\n",
      "国际新闻\n",
      "教育资讯\n",
      "体育新闻\n",
      "娱乐频道\n",
      "黄山生活\n",
      "活动中心 \n",
      "旅游户外\n",
      "摄影天地\n",
      "徽州收藏\n",
      "徽州文化生态保护区专版\n",
      "黄山美食\n",
      "振兴徽州\n",
      "新安书画\n",
      "协会专区\n",
      "育才徽塾\n",
      "媒体互动\n",
      "寻徽之旅\n",
      "花鸟虫鱼\n",
      "故园时评\n",
      "寻根徽州\n",
      "人文徽州\n",
      "天都文社\n",
      "说鳖茶馆\n",
      "倾城之爱\n",
      "故园徽州网\n",
      "群组\n",
      "黄山资讯|黄山新闻聚焦|黄山新闻网\n",
      "画里乡村，新安江上，梦里水乡，绵潭风光\n",
      "年会晚餐菜肴\n",
      "建议搞个鸟魚花虫版块\n",
      "【点赞徽友 祝福徽州】故园徽州2015新春盛典会场展示\n",
      "2015年会剪影（一）\n",
      "故园徽州，还是那么嗨——吴永泉\n",
      "2015年会花絮\n",
      "2015年会流水照片\n",
      "故园徽州 2016 迎春盛典活动公告[屯溪区]\n",
      "许晟：萌坑，观音壁上裁牡丹\n",
      "【原创】黎阳街纪实\n",
      "【原创】二十周年庆典\n",
      "【公告】铜黄高速全线通车仪式9月28日在黄山市进行\n",
      "【徽州区成立20周年】徽州区个私协会第四届“唱响徽州”歌手大赛圆满结束\n",
      "【原创】青春美少女组合演唱现场掠影\n",
      "【原创】谭晶— 梦幻黄山演出现场掠影\n",
      "【原创】二○○七年十月十四日，黎阳路七号\n",
      "【原创】最后的黎阳街\n",
      "死者长已矣，生者常戚戚\n",
      "支持灾区，重建校园倡议书\n",
      "赈灾义卖吴寒西书画家山水画一幅\n",
      "一千八 百岁的黎阳古城\n",
      "FM100.4民星飚歌会，全城唱记录\n",
      "民星飚歌会花絮\n",
      "K歌的风采\n",
      "迟到的民星飚歌会（卯版）\n",
      "【原创】由小平视察黄山引发的一些思考\n",
      "节前的世纪广场\n",
      "“故园徽州”杯纪念徽州得名888周年征文大赛获奖公告\n",
      "感谢徽州搁船尖景区年会上提供门票100张\n",
      "中奖啦！价值12520元，感谢故园徽州！\n",
      "不糊不行\n",
      "《 新安江之夜》2012故园徽州新春贺岁年会流程回眸\n",
      "故园建站二周年\n",
      "其他活动\n",
      "探访古徽州之瞻淇行\n",
      "第十届中国黄山国际旅游节暨徽文化节\n",
      "徽州姓氏\n",
      "婺源联谊专题\n",
      "2007新春晚会\n",
      "探访古徽州之西递行\n",
      "燕窝山庄（沧山源）\n",
      "金川行记\n",
      "柏树街记忆\n",
      "五城烧烤记\n",
      "黄村婚礼记\n",
      "万安古镇\n",
      "歙县许村行\n",
      "徽州目连戏\n",
      "黎阳街记忆\n",
      "徽杭古道环保行\n",
      "第十一届中国黄山国际旅游节暨徽文化节\n",
      "抗震救灾\n",
      "故园徽州四周年\n",
      "民星飙歌会\n",
      "首届赛宝大会\n",
      "万安吴鲁衡罗盘\n",
      "屯溪老街保护与发展\n",
      "小平同志视察黄山30周年\n",
      "走进旌德\n",
      "徽州三雕\n",
      "徽黄时代，我们一起飞\n",
      "第二届“高炉家—徽州印象杯”摄影大赛\n",
      "走进言坑\n",
      "故园徽州2012年新春年会\n",
      "走进春天活动专题\n",
      "故园徽州八周年庆\n",
      "故园徽州2013新春晚会\n",
      "2014新春晚会\n",
      "黄山市十大名人名居评选专版\n",
      "2015年会专版\n",
      "2016新春盛典\n",
      "黄山市建市二十周年\n",
      "黎阳街记忆\n",
      "抗震救灾\n",
      "民星飙歌会\n",
      "投诉建议\n",
      "徽州得名888周年专版\n",
      "小平同志视察黄山30周年\n",
      "第二届“高炉家—徽州印象杯”摄影大赛\n",
      "黄山市十二五规划\n",
      "故园徽州2012年新春年会\n",
      "故园徽州八周年庆\n",
      "围着安徽跑一圈\n",
      "第四届徽州摄影大赛\n",
      "寻找抗日老兵\n",
      "2014新春晚会\n",
      "石屋坑\n",
      "萌坑\n",
      "徽州建筑\n",
      "2015年会专版\n",
      "黄山行摄指南\n",
      "2016新春盛典\n",
      "故园建站二周年\n",
      "探访古徽州之瞻淇行\n",
      "第十届中国黄山国际旅游节暨徽文化节\n",
      "感受徽州征文\n",
      "婺源联谊专题\n",
      "2007新春晚会\n",
      "探访古徽州之西递行\n",
      "金川行记\n",
      "五城烧烤记\n",
      "黄村婚礼记\n",
      "歙县许村行\n",
      "故园三周年\n",
      "第十一届中国黄山国际旅游节暨徽文化节\n",
      "“紫霞杯”故园徽州第三届徽州印象摄影大赛\n",
      "走进春天活动专题\n",
      "“走进徽博”有奖征文\n",
      "老兵在风中，我们在路上——征集黄山老兵线索\n",
      "故园徽州2014新春盛典暨成立十周年庆典晚会召集及报名帖[屯溪区]\n",
      "征集：十年与一年，你记忆深刻的帖子与活动\n",
      "宁静致远（对联有奖）\n",
      "直播安徽广播电视台公共频道《走进春天》已添加视频\n",
      "原创：围着安徽跑一圈——走进天然氧吧流口\n",
      "【原创】偶也来发几张,看看都有谁\n",
      "【贴图】千斤镇宅缸\n",
      "【原创】相约2007' \\故园徽州走进公交新春联欢晚会（不断更新中）\n",
      "【原创】《金川行》之故园的兄弟姐妹篇\n",
      "【原创】西递风光\n",
      "关于举办“走进徽博”征文活动的公告\n",
      "【原创】故园徽州走进公交晚会\n",
      "【贴图】瞻淇、北岸活动\n",
      "【原创】图说去婺源途中的故事（不断更新中,不看后悔哈)\n",
      "【原创】关心婺源女子女儿小可可的朋友请进\n",
      "【原创】五城映像\n",
      "【贴图】婺源博物馆的“镇馆之宝”\n",
      "走进春天之柯村赏花\n",
      "走进2012古徽州的春天里\n",
      "与大牌作家同行新安源 感受异样的艺术熏陶\n",
      "【原创】恭贺“故园徽州”建网两周年！\n",
      "【公告】【祝福】祝贺与希望\n",
      "【感谢】我们真诚的感谢\n",
      "【原创】故园徽州建网两周年纪念活动点滴\n",
      "关于召开“走进徽博”征文活动颁奖座谈会的通知\n",
      "【祝福】感谢故园徽州举办探访古徽州(瞻淇之行)活动\n",
      "【原创】感谢大家对故园首次探询古徽州活动的大力支持！！！！\n",
      "【活动】故园徽州《探寻古徽州》活动集锦\n",
      "【贴图】老眼看瞻淇、北岸（完）\n",
      "【瞻淇影象】故园徽州网电子杂志——创刊号\n",
      "【公告】第十届黄山国际旅游暨徽文化节“毅成”杯感受徽州主题征文\n",
      "【原创】征文投稿确认贴！\n",
      "【公告】第十届黄山国际旅游暨徽文化节“毅成”杯感受徽州主题征文大赛获奖名单\n",
      "【原创】徽州民俗集锦\n",
      "【原创】婺源网开通1周年与故园徽州网联谊活动图片专题（更新中...)\n",
      "【原创】感谢你们\n",
      "【贴图】《感恩的心》排练现场之\n",
      "【公告】 我们的感谢\n",
      "【原创】黄山公交&故园徽州联合奉献——《感恩的心》MTV\n",
      "【原创】《金川行》之金川的父老乡亲篇\n",
      "【原创】《金山行》之金川的房屋建筑篇\n",
      "【原创】《金山行》之金川的自然风光篇\n",
      "【原创】《金川行》之金川的所见所闻篇\n",
      "故园徽州走进西递\n",
      "【原创】二月十日休宁黄村黄垚、李金霞婚礼亲历记\n",
      "【原创】黄垚先生和李金霞小姐复古婚礼图片纪实\n",
      "【原创】许村行——丫头片片\n",
      "【分享】兄弟网站恭贺故园徽州网创办三周年\n",
      "【原创】八零带伤参加七七聚会，这是什么精神？\n",
      "【原创】好好反醒吧，许村！\n",
      "【原创】故园婺源行\n",
      "【原创】故园守望者\n",
      "【建议】四周年活动\n",
      "【原创】许村旅游，路在何方？！（最近更新）\n",
      "【原创】许村的吴宝明\n",
      "【注意】19：30现场直播第十一届中国黄山国际旅游节暨徽文化节开幕式\n",
      "五城豆干 香飘万家\n",
      "“紫霞杯”故园徽州第三届徽州印象摄影大赛公告\n",
      "美不胜收\n",
      "抗战老兵潘贵璋\n",
      "【原创】二月十日休宁黄村黄垚、李金霞婚礼众生相之《舞者》\n",
      "感谢各企业、团体及个人给予故园徽州的大力支持\n",
      "2016故园徽州迎春年会直播专贴\n",
      "第二届“高炉家—徽州印象杯”摄影大赛参赛\n",
      "石潭集锦\n",
      "首届赛宝大会\n",
      "【原创】西递随拍\n",
      "黄山市十二五规划\n",
      "其他活动\n",
      "故园徽州“徽州定制馆杯”第一届赛宝大会评选启事\n",
      "赛宝——祁门《方氏族谱》册页\n",
      "汉代红宝石蝉\n",
      "一件仿品\n",
      "【赛宝】天地会“洪武天下太平”钱\n",
      "【分享】 文化衫随意放大缩小\n",
      "【真情呼唤】 敏敏回家吧！爸爸妈妈想死你了.....\n",
      "【公告】征集《屯溪区志》人物、文献资料\n",
      "【分享】故园三周年网友感言\n"
     ]
    }
   ],
   "source": [
    "cnt = 0\n",
    "for i in range(0, len(new_df)):\n",
    "    t0 = new_df.loc[i]['title']\n",
    "    t1 = new_df.loc[i]['domain']\n",
    "    if t1 == '99huizhou.com':\n",
    "        t2 = t0.split('-')\n",
    "        #print t2[0]\n",
    "        t3 = t2[0].split('_')\n",
    "        print t3[0]"
   ]
  },
  {
   "cell_type": "code",
   "execution_count": null,
   "metadata": {
    "collapsed": true
   },
   "outputs": [],
   "source": [
    "cnt = 0\n",
    "for i in range(0, len(new_df)):\n",
    "    t0 = new_df.loc[i]['title']\n",
    "    t1 = new_df.loc[i]['domain']\n",
    "    if t1 == '99huizhou.com':\n",
    "        if '故园徽州网' in t0:\n",
    "            t0 = t0.replace('故园徽州网', '')     \n",
    "        if '故园徽州' in t0:\n",
    "            t0 = t0.replace('故园徽州', '') \n",
    "        if '- Powered by Discuz! Archiver' in t0:\n",
    "            t0 = t0.replace('- Powered by Discuz! Archiver', '')                 \n",
    "        if '- Powered by Discuz!' in t0:\n",
    "            t0 = t0.replace('- Powered by Discuz!', '')     \n",
    "            print '99huizhou.com ----'\n",
    "        print t0"
   ]
  },
  {
   "cell_type": "code",
   "execution_count": 157,
   "metadata": {
    "collapsed": false
   },
   "outputs": [
    {
     "name": "stdout",
     "output_type": "stream",
     "text": [
      "9 anhuinews.com\n",
      "老人冬季少喝茶 喝茶最好放红枣-喝茶-\n",
      "10 anhuinews.com\n",
      "黄山银钩  \n",
      "11 anhuinews.com\n",
      "泾县特尖-名茶-\n",
      "12 anhuinews.com\n",
      "“喜酒不醉人”的俗语由来-酒-\n",
      "13 anhuinews.com\n",
      "徽雕技艺代代传-徽雕-\n",
      "39 anhuinews.com\n",
      "金寨革命烈士陵园被列为省级文化保护单位-金寨-\n",
      "61 anhuinews.com\n",
      "安徽最高的塔：安庆迎江寺振风塔-安庆迎江寺振风塔-\n",
      "62 anhuinews.com\n",
      "安徽最小的楼阁式古塔：利辛纪家塔-利辛纪家塔-\n",
      "63 anhuinews.com\n",
      "最雄伟的塔：泾县大观塔-泾县大观塔-\n",
      "64 anhuinews.com\n",
      "晚上喝茶 头茶需要倒掉-喝茶-\n",
      "65 anhuinews.com\n",
      "用新鲜茶叶做的美味茶菜-茶叶-\n",
      "66 anhuinews.com\n",
      "“粗茶淡饭”并非吃粗粮、素食-粗茶淡饭-\n",
      "89 anhuinews.com\n",
      "休宁发现169处古文物-休宁-\n",
      "90 anhuinews.com\n",
      "民俗庙会人气旺-庙会-\n",
      "91 anhuinews.com\n",
      "30余家酒店展徽菜宴中博会客商-徽菜-\n",
      "92 anhuinews.com\n",
      "新房子，旧鞋子-原创文学-\n",
      "93 anhuinews.com\n",
      "砀山“以摸代敬”的酒风俗 -酒-\n"
     ]
    }
   ],
   "source": [
    "cnt = 0\n",
    "for i in range(0, len(new_df)):\n",
    "    t0 = new_df.loc[i]['title']\n",
    "    t1 = new_df.loc[i]['domain']\n",
    "    if t1 == '99huizhou.com':\n",
    "        cnt = 0\n",
    "        #print '99huizhou.com ----'\n",
    "    elif ',连载' not in t0 and i > 0 and i < 100:\n",
    "        print i, new_df.loc[i]['domain']\n",
    "        t0 = new_df.loc[i]['title']\n",
    "        t1 = new_df.loc[i]['domain']\n",
    "        if '-徽文化' in t0:\n",
    "            t0 = t0.replace('-徽文化', '') \n",
    "        if '徽文化频道' in t0:\n",
    "            t0 = t0.replace('徽文化频道', '') \n",
    "            #print t0[:-28]\n",
    "        if '中安在线' in t0 :\n",
    "            t0 = t0.replace('中安在线', '') \n",
    "            #print '中安在线----', t0[:-23]\n",
    "        elif 'www.ahage.net' in t0:\n",
    "            if '安徽文化网' in t0:\n",
    "                t0 = t0.replace('安徽文化网', '') \n",
    "            if 'www.ahage.net' in t0:\n",
    "                t0 = t0.replace('www.ahage.net', '') \n",
    "            if '我的网站' in t0:\n",
    "                t0 = t0.replace('我的网站', '') \n",
    "            #print 'www.ahage.net----', t0\n",
    "        elif 'ahage.net' in t0:\n",
    "            if '| 安徽文化人的网上家园，网上最大的安徽历史文化资料中心' in t0:\n",
    "                t0 = t0.replace('| 安徽文化人的网上家园，网上最大的安徽历史文化资料中心', '')\n",
    "            if '安徽文化网' in t0:\n",
    "                t0 = t0.replace('安徽文化网', '') \n",
    "            if 'ahage.net' in t0:\n",
    "                t0 = t0.replace('ahage.net', '') \n",
    "            if '_我的网站' in t0:\n",
    "                t0 = t0.replace('_我的网站', '') \n",
    "            print 'ahage.net----', t0\n",
    "        else:\n",
    "            if '我的网站' in t0:\n",
    "                t0 = t0.replace('我的网站', '')             \n",
    "        t0 = t0.replace('_', '')\n",
    "        print t0"
   ]
  },
  {
   "cell_type": "code",
   "execution_count": null,
   "metadata": {
    "collapsed": true
   },
   "outputs": [],
   "source": []
  },
  {
   "cell_type": "code",
   "execution_count": null,
   "metadata": {
    "collapsed": true
   },
   "outputs": [],
   "source": []
  }
 ],
 "metadata": {
  "kernelspec": {
   "display_name": "Python 2",
   "language": "python",
   "name": "python2"
  },
  "language_info": {
   "codemirror_mode": {
    "name": "ipython",
    "version": 2
   },
   "file_extension": ".py",
   "mimetype": "text/x-python",
   "name": "python",
   "nbconvert_exporter": "python",
   "pygments_lexer": "ipython2",
   "version": "2.7.10"
  }
 },
 "nbformat": 4,
 "nbformat_minor": 0
}
