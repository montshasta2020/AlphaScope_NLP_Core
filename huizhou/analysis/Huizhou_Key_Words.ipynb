{
 "cells": [
  {
   "cell_type": "code",
   "execution_count": null,
   "metadata": {
    "collapsed": true
   },
   "outputs": [],
   "source": [
    "huizhou_pos_words = ['徽州'， '歙县', '婺源', '休宁', '黟县', '祁门', '绩溪', \\\n",
    "                     '西递', '宏村', '篁墩', '关麓', '屏山', '南屏', '渔梁', '棠樾', '许村', '昌溪', \\\n",
    "                     '龙川', '上庄', '呈坎', '唐模', '潜口', '江嶺', '李坑', '理坑', '鸡公尖', \\\n",
    "                     '理坑', '屯溪', '卢村', '雄村', '塔川', '查济', '碧山', '万安', '蜀源', \\\n",
    "                     '朱熹', '胡适', '胡开文', '汪华', '赛金花', \\\n",
    "                     '徽雕', '徽菜', '新安', '徽商', '徽派', '徽剧', '徽戏', '徽帮', '徽班', \\\n",
    "                    '三雕']"
   ]
  },
  {
   "cell_type": "code",
   "execution_count": null,
   "metadata": {
    "collapsed": true
   },
   "outputs": [],
   "source": [
    "huizhou_pos2_words = ['徽'， '文化', '村落', '水口', '民宅', '民居', '祠堂', '牌坊', \\\n",
    "                     '晒秋', '马头', '墙', '祠堂', \\\n",
    "                     '文化', '历史', '地域','风水', '建筑', '画派', '商人', '太平', '猴魁', \\\n",
    "                      '竹山', '书院', '罗盘', '典当', \\\n",
    "                     '砖雕', '木雕', '石雕']"
   ]
  }
 ],
 "metadata": {
  "kernelspec": {
   "display_name": "Python 2",
   "language": "python",
   "name": "python2"
  },
  "language_info": {
   "codemirror_mode": {
    "name": "ipython",
    "version": 2
   },
   "file_extension": ".py",
   "mimetype": "text/x-python",
   "name": "python",
   "nbconvert_exporter": "python",
   "pygments_lexer": "ipython2",
   "version": "2.7.10"
  }
 },
 "nbformat": 4,
 "nbformat_minor": 2
}
