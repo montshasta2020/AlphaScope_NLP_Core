{
 "cells": [
  {
   "cell_type": "code",
   "execution_count": 1,
   "metadata": {
    "collapsed": false
   },
   "outputs": [
    {
     "name": "stderr",
     "output_type": "stream",
     "text": [
      "/usr/local/lib/python2.7/site-packages/matplotlib/font_manager.py:273: UserWarning: Matplotlib is building the font cache using fc-list. This may take a moment.\n",
      "  warnings.warn('Matplotlib is building the font cache using fc-list. This may take a moment.')\n"
     ]
    }
   ],
   "source": [
    "\n",
    "\n",
    "import numpy.linalg as LA\n",
    "import matplotlib.pyplot as plt\n",
    "from my_pickle import my_pickle_load, my_pickle_dump\n",
    "\n",
    "%matplotlib inline"
   ]
  },
  {
   "cell_type": "code",
   "execution_count": 19,
   "metadata": {
    "collapsed": false
   },
   "outputs": [],
   "source": [
    "import cPickle as pickle\n",
    "import pandas as pd\n",
    "import numpy as np\n",
    "from textblob import TextBlob\n",
    "\n",
    "#from bs4 import BeautifulSoup\n",
    "#from sklearn.naive_bayes import MultinomialNB\n",
    "\n",
    "import string\n",
    "import math\n",
    "#import glob\n",
    "from collections import Counter\n",
    "\n",
    "from sklearn.feature_extraction.text import CountVectorizer, TfidfVectorizer\n",
    "\n",
    "import nltk\n",
    "from nltk import tokenize\n",
    "from nltk.stem.porter import *\n",
    "from nltk.corpus import stopwords\n",
    "\n",
    "from gensim import matutils\n",
    "from gensim.models.ldamodel import LdaModel\n",
    "from gensim.models.lsimodel import LsiModel\n",
    "\n",
    "from gensim import corpora, models, similarities\n",
    "from sklearn.metrics.pairwise import linear_kernel\n",
    "import tldextract"
   ]
  },
  {
   "cell_type": "code",
   "execution_count": 5,
   "metadata": {
    "collapsed": false
   },
   "outputs": [],
   "source": [
    "df = pd.read_csv('../data/nutch-crawl-huizhou-domain_only2-02-15-2017.csv')"
   ]
  },
  {
   "cell_type": "code",
   "execution_count": 16,
   "metadata": {
    "collapsed": false
   },
   "outputs": [
    {
     "data": {
      "text/html": [
       "<div>\n",
       "<table border=\"1\" class=\"dataframe\">\n",
       "  <thead>\n",
       "    <tr style=\"text-align: right;\">\n",
       "      <th></th>\n",
       "      <th>id</th>\n",
       "      <th>content</th>\n",
       "      <th>title</th>\n",
       "      <th>_version_</th>\n",
       "      <th>cache</th>\n",
       "      <th>segment</th>\n",
       "      <th>digest</th>\n",
       "      <th>boost</th>\n",
       "      <th>tstamp</th>\n",
       "      <th>url</th>\n",
       "      <th>doc_len</th>\n",
       "      <th>bucket</th>\n",
       "    </tr>\n",
       "  </thead>\n",
       "  <tbody>\n",
       "    <tr>\n",
       "      <th>0</th>\n",
       "      <td>http://cul.anhuinews.com/system/2009/03/05/002...</td>\n",
       "      <td>第十六章(2)-月上重火,连载,阅读-中安在线-徽文化 首页 　 新闻 　 安徽 　 网视 ...</td>\n",
       "      <td>第十六章(2)-月上重火,连载,阅读-中安在线-徽文化</td>\n",
       "      <td>1559246026098868224</td>\n",
       "      <td>NaN</td>\n",
       "      <td>20170213160703</td>\n",
       "      <td>306a2bbf507dca8af08ca26bdc835949</td>\n",
       "      <td>0.001681</td>\n",
       "      <td>2017-02-13T17:25:31.777Z</td>\n",
       "      <td>http://cul.anhuinews.com/system/2009/03/05/002...</td>\n",
       "      <td>6962</td>\n",
       "      <td>(5688.65, 7443.2]</td>\n",
       "    </tr>\n",
       "    <tr>\n",
       "      <th>1</th>\n",
       "      <td>http://cul.anhuinews.com/system/2009/03/05/002...</td>\n",
       "      <td>第十六章(1)-月上重火,连载,阅读-中安在线-徽文化 首页 　 新闻 　 安徽 　 网视 ...</td>\n",
       "      <td>第十六章(1)-月上重火,连载,阅读-中安在线-徽文化</td>\n",
       "      <td>1559246026107256832</td>\n",
       "      <td>NaN</td>\n",
       "      <td>20170213160703</td>\n",
       "      <td>38d30b20526082bbcdfc2d911528da3a</td>\n",
       "      <td>0.001665</td>\n",
       "      <td>2017-02-13T17:47:03.783Z</td>\n",
       "      <td>http://cul.anhuinews.com/system/2009/03/05/002...</td>\n",
       "      <td>10307</td>\n",
       "      <td>(9197.75, 10952.3]</td>\n",
       "    </tr>\n",
       "    <tr>\n",
       "      <th>2</th>\n",
       "      <td>http://cul.anhuinews.com/system/2009/03/05/002...</td>\n",
       "      <td>第十五章(4)-月上重火,连载,阅读-中安在线-徽文化 首页 　 新闻 　 安徽 　 网视 ...</td>\n",
       "      <td>第十五章(4)-月上重火,连载,阅读-中安在线-徽文化</td>\n",
       "      <td>1559246026110402560</td>\n",
       "      <td>NaN</td>\n",
       "      <td>20170213160703</td>\n",
       "      <td>c80267d57e6a8c6eecb593b2617e438c</td>\n",
       "      <td>0.001650</td>\n",
       "      <td>2017-02-13T16:20:40.982Z</td>\n",
       "      <td>http://cul.anhuinews.com/system/2009/03/05/002...</td>\n",
       "      <td>3698</td>\n",
       "      <td>(2179.55, 3934.1]</td>\n",
       "    </tr>\n",
       "    <tr>\n",
       "      <th>3</th>\n",
       "      <td>http://cul.anhuinews.com/system/2009/03/05/002...</td>\n",
       "      <td>第十五章(3)-月上重火,连载,阅读-中安在线-徽文化 首页 　 新闻 　 安徽 　 网视 ...</td>\n",
       "      <td>第十五章(3)-月上重火,连载,阅读-中安在线-徽文化</td>\n",
       "      <td>1559246026111451136</td>\n",
       "      <td>NaN</td>\n",
       "      <td>20170213160703</td>\n",
       "      <td>31ea7eaa5e81e56ed3fc2a54e3978530</td>\n",
       "      <td>0.001650</td>\n",
       "      <td>2017-02-13T18:57:11.49Z</td>\n",
       "      <td>http://cul.anhuinews.com/system/2009/03/05/002...</td>\n",
       "      <td>6943</td>\n",
       "      <td>(5688.65, 7443.2]</td>\n",
       "    </tr>\n",
       "    <tr>\n",
       "      <th>4</th>\n",
       "      <td>http://cul.anhuinews.com/system/2009/03/05/002...</td>\n",
       "      <td>第十五章(2)-月上重火,连载,阅读-中安在线-徽文化 首页 　 新闻 　 安徽 　 网视 ...</td>\n",
       "      <td>第十五章(2)-月上重火,连载,阅读-中安在线-徽文化</td>\n",
       "      <td>1559246026117742592</td>\n",
       "      <td>NaN</td>\n",
       "      <td>20170213160703</td>\n",
       "      <td>a22abfd3a1ed3d6065f9fb3ec2502e3f</td>\n",
       "      <td>0.001634</td>\n",
       "      <td>2017-02-13T16:40:17.225Z</td>\n",
       "      <td>http://cul.anhuinews.com/system/2009/03/05/002...</td>\n",
       "      <td>7078</td>\n",
       "      <td>(5688.65, 7443.2]</td>\n",
       "    </tr>\n",
       "  </tbody>\n",
       "</table>\n",
       "</div>"
      ],
      "text/plain": [
       "                                                  id  \\\n",
       "0  http://cul.anhuinews.com/system/2009/03/05/002...   \n",
       "1  http://cul.anhuinews.com/system/2009/03/05/002...   \n",
       "2  http://cul.anhuinews.com/system/2009/03/05/002...   \n",
       "3  http://cul.anhuinews.com/system/2009/03/05/002...   \n",
       "4  http://cul.anhuinews.com/system/2009/03/05/002...   \n",
       "\n",
       "                                             content  \\\n",
       "0  第十六章(2)-月上重火,连载,阅读-中安在线-徽文化 首页 　 新闻 　 安徽 　 网视 ...   \n",
       "1  第十六章(1)-月上重火,连载,阅读-中安在线-徽文化 首页 　 新闻 　 安徽 　 网视 ...   \n",
       "2  第十五章(4)-月上重火,连载,阅读-中安在线-徽文化 首页 　 新闻 　 安徽 　 网视 ...   \n",
       "3  第十五章(3)-月上重火,连载,阅读-中安在线-徽文化 首页 　 新闻 　 安徽 　 网视 ...   \n",
       "4  第十五章(2)-月上重火,连载,阅读-中安在线-徽文化 首页 　 新闻 　 安徽 　 网视 ...   \n",
       "\n",
       "                         title            _version_ cache         segment  \\\n",
       "0  第十六章(2)-月上重火,连载,阅读-中安在线-徽文化  1559246026098868224   NaN  20170213160703   \n",
       "1  第十六章(1)-月上重火,连载,阅读-中安在线-徽文化  1559246026107256832   NaN  20170213160703   \n",
       "2  第十五章(4)-月上重火,连载,阅读-中安在线-徽文化  1559246026110402560   NaN  20170213160703   \n",
       "3  第十五章(3)-月上重火,连载,阅读-中安在线-徽文化  1559246026111451136   NaN  20170213160703   \n",
       "4  第十五章(2)-月上重火,连载,阅读-中安在线-徽文化  1559246026117742592   NaN  20170213160703   \n",
       "\n",
       "                             digest     boost                    tstamp  \\\n",
       "0  306a2bbf507dca8af08ca26bdc835949  0.001681  2017-02-13T17:25:31.777Z   \n",
       "1  38d30b20526082bbcdfc2d911528da3a  0.001665  2017-02-13T17:47:03.783Z   \n",
       "2  c80267d57e6a8c6eecb593b2617e438c  0.001650  2017-02-13T16:20:40.982Z   \n",
       "3  31ea7eaa5e81e56ed3fc2a54e3978530  0.001650   2017-02-13T18:57:11.49Z   \n",
       "4  a22abfd3a1ed3d6065f9fb3ec2502e3f  0.001634  2017-02-13T16:40:17.225Z   \n",
       "\n",
       "                                                 url  doc_len  \\\n",
       "0  http://cul.anhuinews.com/system/2009/03/05/002...     6962   \n",
       "1  http://cul.anhuinews.com/system/2009/03/05/002...    10307   \n",
       "2  http://cul.anhuinews.com/system/2009/03/05/002...     3698   \n",
       "3  http://cul.anhuinews.com/system/2009/03/05/002...     6943   \n",
       "4  http://cul.anhuinews.com/system/2009/03/05/002...     7078   \n",
       "\n",
       "               bucket  \n",
       "0   (5688.65, 7443.2]  \n",
       "1  (9197.75, 10952.3]  \n",
       "2   (2179.55, 3934.1]  \n",
       "3   (5688.65, 7443.2]  \n",
       "4   (5688.65, 7443.2]  "
      ]
     },
     "execution_count": 16,
     "metadata": {},
     "output_type": "execute_result"
    }
   ],
   "source": [
    "df.head()"
   ]
  },
  {
   "cell_type": "code",
   "execution_count": 6,
   "metadata": {
    "collapsed": false
   },
   "outputs": [
    {
     "name": "stdout",
     "output_type": "stream",
     "text": [
      "<class 'pandas.core.frame.DataFrame'>\n",
      "Int64Index: 25291 entries, 0 to 25290\n",
      "Data columns (total 10 columns):\n",
      "id           25291 non-null object\n",
      "content      23145 non-null object\n",
      "title        23145 non-null object\n",
      "_version_    25291 non-null int64\n",
      "cache        4 non-null object\n",
      "segment      25291 non-null int64\n",
      "digest       25291 non-null object\n",
      "boost        25291 non-null float64\n",
      "tstamp       25291 non-null object\n",
      "url          25291 non-null object\n",
      "dtypes: float64(1), int64(2), object(7)\n",
      "memory usage: 2.1+ MB\n"
     ]
    }
   ],
   "source": [
    "df.info()"
   ]
  },
  {
   "cell_type": "code",
   "execution_count": 20,
   "metadata": {
    "collapsed": true
   },
   "outputs": [],
   "source": [
    "def map_domain(x):\n",
    "    tldextract.extract(df.loc[i]['url']).domain + str('.') + tldextract.extract(df.loc[i]['url']).suffix"
   ]
  },
  {
   "cell_type": "code",
   "execution_count": 21,
   "metadata": {
    "collapsed": false
   },
   "outputs": [],
   "source": [
    "#df['host'] = df.url.map(lambda x: x.split('://')[1].split('/')[0] )  \n",
    "df['domain']  = df.url.map(lambda x:tldextract.extract(x).domain + str('.') + tldextract.extract(x).suffix)"
   ]
  },
  {
   "cell_type": "code",
   "execution_count": 32,
   "metadata": {
    "collapsed": true
   },
   "outputs": [],
   "source": [
    "count = Counter(df['domain'])"
   ]
  },
  {
   "cell_type": "code",
   "execution_count": 33,
   "metadata": {
    "collapsed": false
   },
   "outputs": [
    {
     "name": "stdout",
     "output_type": "stream",
     "text": [
      "Counter({'ahage.net': 15827, 'anhuinews.com': 6037, '99huizhou.com': 3422, '517huizhou.com': 5})\n"
     ]
    }
   ],
   "source": [
    "print count"
   ]
  },
  {
   "cell_type": "code",
   "execution_count": 30,
   "metadata": {
    "collapsed": false
   },
   "outputs": [],
   "source": [
    "t = df[df['domain'] == ''].count()"
   ]
  },
  {
   "cell_type": "code",
   "execution_count": 31,
   "metadata": {
    "collapsed": false
   },
   "outputs": [
    {
     "name": "stdout",
     "output_type": "stream",
     "text": [
      "25291\n"
     ]
    }
   ],
   "source": [
    "print t"
   ]
  },
  {
   "cell_type": "code",
   "execution_count": 7,
   "metadata": {
    "collapsed": false
   },
   "outputs": [],
   "source": [
    "df['doc_len'] = df['content'].str.len()"
   ]
  },
  {
   "cell_type": "code",
   "execution_count": 8,
   "metadata": {
    "collapsed": false
   },
   "outputs": [
    {
     "data": {
      "text/plain": [
       "70607.0"
      ]
     },
     "execution_count": 8,
     "metadata": {},
     "output_type": "execute_result"
    }
   ],
   "source": [
    "df['doc_len'].max()"
   ]
  },
  {
   "cell_type": "code",
   "execution_count": 9,
   "metadata": {
    "collapsed": true
   },
   "outputs": [],
   "source": [
    "df_2000 = df[df['doc_len'] < 2000]"
   ]
  },
  {
   "cell_type": "code",
   "execution_count": 10,
   "metadata": {
    "collapsed": true
   },
   "outputs": [],
   "source": [
    "df['bucket'] = pd.cut(df.doc_len, 40)"
   ]
  },
  {
   "cell_type": "code",
   "execution_count": 11,
   "metadata": {
    "collapsed": true
   },
   "outputs": [],
   "source": [
    "newdf = df[['bucket','doc_len']].groupby('bucket').count()"
   ]
  },
  {
   "cell_type": "code",
   "execution_count": 12,
   "metadata": {
    "collapsed": false
   },
   "outputs": [
    {
     "data": {
      "text/html": [
       "<div>\n",
       "<table border=\"1\" class=\"dataframe\">\n",
       "  <thead>\n",
       "    <tr style=\"text-align: right;\">\n",
       "      <th></th>\n",
       "      <th>doc_len</th>\n",
       "    </tr>\n",
       "    <tr>\n",
       "      <th>bucket</th>\n",
       "      <th></th>\n",
       "    </tr>\n",
       "  </thead>\n",
       "  <tbody>\n",
       "    <tr>\n",
       "      <th>(354.818, 2179.55]</th>\n",
       "      <td>1140</td>\n",
       "    </tr>\n",
       "    <tr>\n",
       "      <th>(2179.55, 3934.1]</th>\n",
       "      <td>6067</td>\n",
       "    </tr>\n",
       "    <tr>\n",
       "      <th>(3934.1, 5688.65]</th>\n",
       "      <td>6596</td>\n",
       "    </tr>\n",
       "    <tr>\n",
       "      <th>(5688.65, 7443.2]</th>\n",
       "      <td>5125</td>\n",
       "    </tr>\n",
       "    <tr>\n",
       "      <th>(7443.2, 9197.75]</th>\n",
       "      <td>2972</td>\n",
       "    </tr>\n",
       "    <tr>\n",
       "      <th>(9197.75, 10952.3]</th>\n",
       "      <td>631</td>\n",
       "    </tr>\n",
       "    <tr>\n",
       "      <th>(10952.3, 12706.85]</th>\n",
       "      <td>250</td>\n",
       "    </tr>\n",
       "    <tr>\n",
       "      <th>(12706.85, 14461.4]</th>\n",
       "      <td>97</td>\n",
       "    </tr>\n",
       "    <tr>\n",
       "      <th>(14461.4, 16215.95]</th>\n",
       "      <td>73</td>\n",
       "    </tr>\n",
       "    <tr>\n",
       "      <th>(16215.95, 17970.5]</th>\n",
       "      <td>57</td>\n",
       "    </tr>\n",
       "    <tr>\n",
       "      <th>(17970.5, 19725.05]</th>\n",
       "      <td>27</td>\n",
       "    </tr>\n",
       "    <tr>\n",
       "      <th>(19725.05, 21479.6]</th>\n",
       "      <td>24</td>\n",
       "    </tr>\n",
       "    <tr>\n",
       "      <th>(21479.6, 23234.15]</th>\n",
       "      <td>21</td>\n",
       "    </tr>\n",
       "    <tr>\n",
       "      <th>(23234.15, 24988.7]</th>\n",
       "      <td>9</td>\n",
       "    </tr>\n",
       "    <tr>\n",
       "      <th>(24988.7, 26743.25]</th>\n",
       "      <td>14</td>\n",
       "    </tr>\n",
       "    <tr>\n",
       "      <th>(26743.25, 28497.8]</th>\n",
       "      <td>5</td>\n",
       "    </tr>\n",
       "    <tr>\n",
       "      <th>(28497.8, 30252.35]</th>\n",
       "      <td>9</td>\n",
       "    </tr>\n",
       "    <tr>\n",
       "      <th>(30252.35, 32006.9]</th>\n",
       "      <td>4</td>\n",
       "    </tr>\n",
       "    <tr>\n",
       "      <th>(32006.9, 33761.45]</th>\n",
       "      <td>3</td>\n",
       "    </tr>\n",
       "    <tr>\n",
       "      <th>(33761.45, 35516]</th>\n",
       "      <td>1</td>\n",
       "    </tr>\n",
       "    <tr>\n",
       "      <th>(35516, 37270.55]</th>\n",
       "      <td>3</td>\n",
       "    </tr>\n",
       "    <tr>\n",
       "      <th>(37270.55, 39025.1]</th>\n",
       "      <td>2</td>\n",
       "    </tr>\n",
       "    <tr>\n",
       "      <th>(39025.1, 40779.65]</th>\n",
       "      <td>1</td>\n",
       "    </tr>\n",
       "    <tr>\n",
       "      <th>(40779.65, 42534.2]</th>\n",
       "      <td>3</td>\n",
       "    </tr>\n",
       "    <tr>\n",
       "      <th>(42534.2, 44288.75]</th>\n",
       "      <td>1</td>\n",
       "    </tr>\n",
       "    <tr>\n",
       "      <th>(44288.75, 46043.3]</th>\n",
       "      <td>0</td>\n",
       "    </tr>\n",
       "    <tr>\n",
       "      <th>(46043.3, 47797.85]</th>\n",
       "      <td>1</td>\n",
       "    </tr>\n",
       "    <tr>\n",
       "      <th>(47797.85, 49552.4]</th>\n",
       "      <td>1</td>\n",
       "    </tr>\n",
       "    <tr>\n",
       "      <th>(49552.4, 51306.95]</th>\n",
       "      <td>0</td>\n",
       "    </tr>\n",
       "    <tr>\n",
       "      <th>(51306.95, 53061.5]</th>\n",
       "      <td>2</td>\n",
       "    </tr>\n",
       "    <tr>\n",
       "      <th>(53061.5, 54816.05]</th>\n",
       "      <td>4</td>\n",
       "    </tr>\n",
       "    <tr>\n",
       "      <th>(54816.05, 56570.6]</th>\n",
       "      <td>1</td>\n",
       "    </tr>\n",
       "    <tr>\n",
       "      <th>(56570.6, 58325.15]</th>\n",
       "      <td>0</td>\n",
       "    </tr>\n",
       "    <tr>\n",
       "      <th>(58325.15, 60079.7]</th>\n",
       "      <td>0</td>\n",
       "    </tr>\n",
       "    <tr>\n",
       "      <th>(60079.7, 61834.25]</th>\n",
       "      <td>0</td>\n",
       "    </tr>\n",
       "    <tr>\n",
       "      <th>(61834.25, 63588.8]</th>\n",
       "      <td>0</td>\n",
       "    </tr>\n",
       "    <tr>\n",
       "      <th>(63588.8, 65343.35]</th>\n",
       "      <td>0</td>\n",
       "    </tr>\n",
       "    <tr>\n",
       "      <th>(65343.35, 67097.9]</th>\n",
       "      <td>0</td>\n",
       "    </tr>\n",
       "    <tr>\n",
       "      <th>(67097.9, 68852.45]</th>\n",
       "      <td>0</td>\n",
       "    </tr>\n",
       "    <tr>\n",
       "      <th>(68852.45, 70607]</th>\n",
       "      <td>1</td>\n",
       "    </tr>\n",
       "  </tbody>\n",
       "</table>\n",
       "</div>"
      ],
      "text/plain": [
       "                     doc_len\n",
       "bucket                      \n",
       "(354.818, 2179.55]      1140\n",
       "(2179.55, 3934.1]       6067\n",
       "(3934.1, 5688.65]       6596\n",
       "(5688.65, 7443.2]       5125\n",
       "(7443.2, 9197.75]       2972\n",
       "(9197.75, 10952.3]       631\n",
       "(10952.3, 12706.85]      250\n",
       "(12706.85, 14461.4]       97\n",
       "(14461.4, 16215.95]       73\n",
       "(16215.95, 17970.5]       57\n",
       "(17970.5, 19725.05]       27\n",
       "(19725.05, 21479.6]       24\n",
       "(21479.6, 23234.15]       21\n",
       "(23234.15, 24988.7]        9\n",
       "(24988.7, 26743.25]       14\n",
       "(26743.25, 28497.8]        5\n",
       "(28497.8, 30252.35]        9\n",
       "(30252.35, 32006.9]        4\n",
       "(32006.9, 33761.45]        3\n",
       "(33761.45, 35516]          1\n",
       "(35516, 37270.55]          3\n",
       "(37270.55, 39025.1]        2\n",
       "(39025.1, 40779.65]        1\n",
       "(40779.65, 42534.2]        3\n",
       "(42534.2, 44288.75]        1\n",
       "(44288.75, 46043.3]        0\n",
       "(46043.3, 47797.85]        1\n",
       "(47797.85, 49552.4]        1\n",
       "(49552.4, 51306.95]        0\n",
       "(51306.95, 53061.5]        2\n",
       "(53061.5, 54816.05]        4\n",
       "(54816.05, 56570.6]        1\n",
       "(56570.6, 58325.15]        0\n",
       "(58325.15, 60079.7]        0\n",
       "(60079.7, 61834.25]        0\n",
       "(61834.25, 63588.8]        0\n",
       "(63588.8, 65343.35]        0\n",
       "(65343.35, 67097.9]        0\n",
       "(67097.9, 68852.45]        0\n",
       "(68852.45, 70607]          1"
      ]
     },
     "execution_count": 12,
     "metadata": {},
     "output_type": "execute_result"
    }
   ],
   "source": [
    "newdf.head(100)"
   ]
  },
  {
   "cell_type": "code",
   "execution_count": 13,
   "metadata": {
    "collapsed": false
   },
   "outputs": [
    {
     "data": {
      "text/plain": [
       "<matplotlib.axes._subplots.AxesSubplot at 0x10b355210>"
      ]
     },
     "execution_count": 13,
     "metadata": {},
     "output_type": "execute_result"
    },
    {
     "data": {
      "image/png": "[encoded data removed]",
      "text/plain": [
       "<matplotlib.figure.Figure at 0x10a131a10>"
      ]
     },
     "metadata": {},
     "output_type": "display_data"
    }
   ],
   "source": [
    "newdf.plot(kind='bar', figsize=(12, 6))"
   ]
  },
  {
   "cell_type": "code",
   "execution_count": 14,
   "metadata": {
    "collapsed": false
   },
   "outputs": [
    {
     "name": "stderr",
     "output_type": "stream",
     "text": [
      "/usr/local/lib/python2.7/site-packages/ipykernel/__main__.py:1: SettingWithCopyWarning: \n",
      "A value is trying to be set on a copy of a slice from a DataFrame.\n",
      "Try using .loc[row_indexer,col_indexer] = value instead\n",
      "\n",
      "See the caveats in the documentation: http://pandas.pydata.org/pandas-docs/stable/indexing.html#indexing-view-versus-copy\n",
      "  if __name__ == '__main__':\n"
     ]
    },
    {
     "data": {
      "text/plain": [
       "<matplotlib.axes._subplots.AxesSubplot at 0x10ad144d0>"
      ]
     },
     "execution_count": 14,
     "metadata": {},
     "output_type": "execute_result"
    },
    {
     "data": {
      "image/png": "[encoded data removed]",
      "text/plain": [
       "<matplotlib.figure.Figure at 0x10a3232d0>"
      ]
     },
     "metadata": {},
     "output_type": "display_data"
    }
   ],
   "source": [
    "df_2000['bucket'] = pd.cut(df_2000.doc_len, 40)\n",
    "newdf_2000 = df_2000[['bucket','doc_len']].groupby('bucket').count()\n",
    "newdf_2000.plot(kind='bar', figsize=(12, 8))"
   ]
  },
  {
   "cell_type": "code",
   "execution_count": 15,
   "metadata": {
    "collapsed": false
   },
   "outputs": [
    {
     "ename": "ValueError",
     "evalue": "Cannot cut empty array",
     "output_type": "error",
     "traceback": [
      "\u001b[0;31m---------------------------------------------------------------------------\u001b[0m",
      "\u001b[0;31mValueError\u001b[0m                                Traceback (most recent call last)",
      "\u001b[0;32m<ipython-input-15-93ccd9b75f7e>\u001b[0m in \u001b[0;36m<module>\u001b[0;34m()\u001b[0m\n\u001b[1;32m      1\u001b[0m \u001b[0mdf_50\u001b[0m \u001b[0;34m=\u001b[0m \u001b[0mdf\u001b[0m\u001b[0;34m[\u001b[0m\u001b[0mdf\u001b[0m\u001b[0;34m[\u001b[0m\u001b[0;34m'doc_len'\u001b[0m\u001b[0;34m]\u001b[0m \u001b[0;34m<\u001b[0m \u001b[0;36m50\u001b[0m\u001b[0;34m]\u001b[0m\u001b[0;34m\u001b[0m\u001b[0m\n\u001b[0;32m----> 2\u001b[0;31m \u001b[0mdf_50\u001b[0m\u001b[0;34m[\u001b[0m\u001b[0;34m'bucket'\u001b[0m\u001b[0;34m]\u001b[0m \u001b[0;34m=\u001b[0m \u001b[0mpd\u001b[0m\u001b[0;34m.\u001b[0m\u001b[0mcut\u001b[0m\u001b[0;34m(\u001b[0m\u001b[0mdf_50\u001b[0m\u001b[0;34m.\u001b[0m\u001b[0mdoc_len\u001b[0m\u001b[0;34m,\u001b[0m \u001b[0;36m40\u001b[0m\u001b[0;34m)\u001b[0m\u001b[0;34m\u001b[0m\u001b[0m\n\u001b[0m\u001b[1;32m      3\u001b[0m \u001b[0mnewdf_50\u001b[0m \u001b[0;34m=\u001b[0m \u001b[0mdf_50\u001b[0m\u001b[0;34m[\u001b[0m\u001b[0;34m[\u001b[0m\u001b[0;34m'bucket'\u001b[0m\u001b[0;34m,\u001b[0m\u001b[0;34m'doc_len'\u001b[0m\u001b[0;34m]\u001b[0m\u001b[0;34m]\u001b[0m\u001b[0;34m.\u001b[0m\u001b[0mgroupby\u001b[0m\u001b[0;34m(\u001b[0m\u001b[0;34m'bucket'\u001b[0m\u001b[0;34m)\u001b[0m\u001b[0;34m.\u001b[0m\u001b[0mcount\u001b[0m\u001b[0;34m(\u001b[0m\u001b[0;34m)\u001b[0m\u001b[0;34m\u001b[0m\u001b[0m\n\u001b[1;32m      4\u001b[0m \u001b[0mnewdf_50\u001b[0m\u001b[0;34m.\u001b[0m\u001b[0mplot\u001b[0m\u001b[0;34m(\u001b[0m\u001b[0mkind\u001b[0m\u001b[0;34m=\u001b[0m\u001b[0;34m'bar'\u001b[0m\u001b[0;34m,\u001b[0m \u001b[0mfigsize\u001b[0m\u001b[0;34m=\u001b[0m\u001b[0;34m(\u001b[0m\u001b[0;36m12\u001b[0m\u001b[0;34m,\u001b[0m \u001b[0;36m8\u001b[0m\u001b[0;34m)\u001b[0m\u001b[0;34m)\u001b[0m\u001b[0;34m\u001b[0m\u001b[0m\n",
      "\u001b[0;32m/Library/Python/2.7/site-packages/pandas/tools/tile.pyc\u001b[0m in \u001b[0;36mcut\u001b[0;34m(x, bins, right, labels, retbins, precision, include_lowest)\u001b[0m\n\u001b[1;32m     86\u001b[0m             \u001b[0msz\u001b[0m \u001b[0;34m=\u001b[0m \u001b[0mx\u001b[0m\u001b[0;34m.\u001b[0m\u001b[0msize\u001b[0m\u001b[0;34m\u001b[0m\u001b[0m\n\u001b[1;32m     87\u001b[0m         \u001b[0;32mif\u001b[0m \u001b[0msz\u001b[0m \u001b[0;34m==\u001b[0m \u001b[0;36m0\u001b[0m\u001b[0;34m:\u001b[0m\u001b[0;34m\u001b[0m\u001b[0m\n\u001b[0;32m---> 88\u001b[0;31m             \u001b[0;32mraise\u001b[0m \u001b[0mValueError\u001b[0m\u001b[0;34m(\u001b[0m\u001b[0;34m'Cannot cut empty array'\u001b[0m\u001b[0;34m)\u001b[0m\u001b[0;34m\u001b[0m\u001b[0m\n\u001b[0m\u001b[1;32m     89\u001b[0m             \u001b[0;31m# handle empty arrays. Can't determine range, so use 0-1.\u001b[0m\u001b[0;34m\u001b[0m\u001b[0;34m\u001b[0m\u001b[0m\n\u001b[1;32m     90\u001b[0m             \u001b[0;31m# rng = (0, 1)\u001b[0m\u001b[0;34m\u001b[0m\u001b[0;34m\u001b[0m\u001b[0m\n",
      "\u001b[0;31mValueError\u001b[0m: Cannot cut empty array"
     ]
    }
   ],
   "source": [
    "df_50 = df[df['doc_len'] < 50]\n",
    "df_50['bucket'] = pd.cut(df_50.doc_len, 40)\n",
    "newdf_50 = df_50[['bucket','doc_len']].groupby('bucket').count()\n",
    "newdf_50.plot(kind='bar', figsize=(12, 8))"
   ]
  },
  {
   "cell_type": "code",
   "execution_count": 16,
   "metadata": {
    "collapsed": true
   },
   "outputs": [],
   "source": [
    "df_dropped = df[df['doc_len'] > 100]"
   ]
  },
  {
   "cell_type": "code",
   "execution_count": 17,
   "metadata": {
    "collapsed": false
   },
   "outputs": [
    {
     "name": "stdout",
     "output_type": "stream",
     "text": [
      "<class 'pandas.core.frame.DataFrame'>\n",
      "Int64Index: 61809 entries, 0 to 62060\n",
      "Data columns (total 9 columns):\n",
      "id         61809 non-null object\n",
      "tstamp     61809 non-null object\n",
      "url        61809 non-null object\n",
      "domain     61809 non-null object\n",
      "title      61638 non-null object\n",
      "digest     61809 non-null object\n",
      "content    61809 non-null object\n",
      "doc_len    61809 non-null int64\n",
      "bucket     61809 non-null category\n",
      "dtypes: category(1), int64(1), object(7)\n",
      "memory usage: 4.3+ MB\n"
     ]
    }
   ],
   "source": [
    "df_dropped.info()"
   ]
  },
  {
   "cell_type": "code",
   "execution_count": 18,
   "metadata": {
    "collapsed": true
   },
   "outputs": [],
   "source": [
    "df_final = df_dropped[['tstamp', 'domain', 'url', 'content', 'title', 'doc_len']]"
   ]
  },
  {
   "cell_type": "code",
   "execution_count": 19,
   "metadata": {
    "collapsed": false
   },
   "outputs": [
    {
     "data": {
      "text/html": [
       "<div>\n",
       "<table border=\"1\" class=\"dataframe\">\n",
       "  <thead>\n",
       "    <tr style=\"text-align: right;\">\n",
       "      <th></th>\n",
       "      <th>tstamp</th>\n",
       "      <th>domain</th>\n",
       "      <th>url</th>\n",
       "      <th>content</th>\n",
       "      <th>title</th>\n",
       "      <th>doc_len</th>\n",
       "    </tr>\n",
       "  </thead>\n",
       "  <tbody>\n",
       "    <tr>\n",
       "      <th>0</th>\n",
       "      <td>2017-01-15T16:23:45.703Z</td>\n",
       "      <td>99huizhou.com</td>\n",
       "      <td>http://www.99huizhou.com/thread-102832-1-1.html</td>\n",
       "      <td>【视频】白岳笔会之座谈会-白岳笔会-故园徽州网 - Powered by Discuz! 故...</td>\n",
       "      <td>【视频】白岳笔会之座谈会-白岳笔会-故园徽州网 - Powered by Discuz!</td>\n",
       "      <td>3936</td>\n",
       "    </tr>\n",
       "    <tr>\n",
       "      <th>1</th>\n",
       "      <td>2017-01-15T16:32:56.699Z</td>\n",
       "      <td>99huizhou.com</td>\n",
       "      <td>http://www.99huizhou.com/thread-102832-3-1.html</td>\n",
       "      <td>【视频】白岳笔会之座谈会-白岳笔会-故园徽州网 - Powered by Discuz! 故...</td>\n",
       "      <td>【视频】白岳笔会之座谈会-白岳笔会-故园徽州网 - Powered by Discuz!</td>\n",
       "      <td>4721</td>\n",
       "    </tr>\n",
       "    <tr>\n",
       "      <th>2</th>\n",
       "      <td>2017-01-15T17:09:56.419Z</td>\n",
       "      <td>99huizhou.com</td>\n",
       "      <td>http://www.99huizhou.com/thread-108113-1-1.html</td>\n",
       "      <td>这个怎么用？ - 徽州摄影旅游群 - 故园徽州 - Powered by Discuz! 故...</td>\n",
       "      <td>这个怎么用？ - 徽州摄影旅游群 - 故园徽州 - Powered by Discuz!</td>\n",
       "      <td>3585</td>\n",
       "    </tr>\n",
       "    <tr>\n",
       "      <th>3</th>\n",
       "      <td>2017-01-15T19:00:55.159Z</td>\n",
       "      <td>99huizhou.com</td>\n",
       "      <td>http://www.99huizhou.com/thread-110501-1-1.html</td>\n",
       "      <td>黄山日报：石潭摄影基地建设快速推进 - 徽州摄影旅游群 - 故园徽州 - Powered b...</td>\n",
       "      <td>黄山日报：石潭摄影基地建设快速推进 - 徽州摄影旅游群 - 故园徽州 - Powered b...</td>\n",
       "      <td>6176</td>\n",
       "    </tr>\n",
       "    <tr>\n",
       "      <th>4</th>\n",
       "      <td>2017-01-15T16:19:47.112Z</td>\n",
       "      <td>99huizhou.com</td>\n",
       "      <td>http://www.99huizhou.com/thread-117056-1-1.html</td>\n",
       "      <td>故园徽州9月9日签到记录贴-说鳖茶馆-故园徽州网 - Powered by Discuz! ...</td>\n",
       "      <td>故园徽州9月9日签到记录贴-说鳖茶馆-故园徽州网 - Powered by Discuz!</td>\n",
       "      <td>4597</td>\n",
       "    </tr>\n",
       "  </tbody>\n",
       "</table>\n",
       "</div>"
      ],
      "text/plain": [
       "                     tstamp         domain  \\\n",
       "0  2017-01-15T16:23:45.703Z  99huizhou.com   \n",
       "1  2017-01-15T16:32:56.699Z  99huizhou.com   \n",
       "2  2017-01-15T17:09:56.419Z  99huizhou.com   \n",
       "3  2017-01-15T19:00:55.159Z  99huizhou.com   \n",
       "4  2017-01-15T16:19:47.112Z  99huizhou.com   \n",
       "\n",
       "                                               url  \\\n",
       "0  http://www.99huizhou.com/thread-102832-1-1.html   \n",
       "1  http://www.99huizhou.com/thread-102832-3-1.html   \n",
       "2  http://www.99huizhou.com/thread-108113-1-1.html   \n",
       "3  http://www.99huizhou.com/thread-110501-1-1.html   \n",
       "4  http://www.99huizhou.com/thread-117056-1-1.html   \n",
       "\n",
       "                                             content  \\\n",
       "0  【视频】白岳笔会之座谈会-白岳笔会-故园徽州网 - Powered by Discuz! 故...   \n",
       "1  【视频】白岳笔会之座谈会-白岳笔会-故园徽州网 - Powered by Discuz! 故...   \n",
       "2  这个怎么用？ - 徽州摄影旅游群 - 故园徽州 - Powered by Discuz! 故...   \n",
       "3  黄山日报：石潭摄影基地建设快速推进 - 徽州摄影旅游群 - 故园徽州 - Powered b...   \n",
       "4  故园徽州9月9日签到记录贴-说鳖茶馆-故园徽州网 - Powered by Discuz! ...   \n",
       "\n",
       "                                               title  doc_len  \n",
       "0       【视频】白岳笔会之座谈会-白岳笔会-故园徽州网 - Powered by Discuz!     3936  \n",
       "1       【视频】白岳笔会之座谈会-白岳笔会-故园徽州网 - Powered by Discuz!     4721  \n",
       "2       这个怎么用？ - 徽州摄影旅游群 - 故园徽州 - Powered by Discuz!     3585  \n",
       "3  黄山日报：石潭摄影基地建设快速推进 - 徽州摄影旅游群 - 故园徽州 - Powered b...     6176  \n",
       "4      故园徽州9月9日签到记录贴-说鳖茶馆-故园徽州网 - Powered by Discuz!     4597  "
      ]
     },
     "execution_count": 19,
     "metadata": {},
     "output_type": "execute_result"
    }
   ],
   "source": [
    "df_final.head()"
   ]
  },
  {
   "cell_type": "code",
   "execution_count": 20,
   "metadata": {
    "collapsed": true
   },
   "outputs": [],
   "source": [
    "articles = df_final['content']"
   ]
  },
  {
   "cell_type": "code",
   "execution_count": 21,
   "metadata": {
    "collapsed": true
   },
   "outputs": [],
   "source": [
    "titles = df_final['title']"
   ]
  },
  {
   "cell_type": "code",
   "execution_count": 22,
   "metadata": {
    "collapsed": false
   },
   "outputs": [
    {
     "data": {
      "text/plain": [
       "(61809,)"
      ]
     },
     "execution_count": 22,
     "metadata": {},
     "output_type": "execute_result"
    }
   ],
   "source": [
    "articles.shape"
   ]
  },
  {
   "cell_type": "code",
   "execution_count": 23,
   "metadata": {
    "collapsed": true
   },
   "outputs": [],
   "source": [
    "#articles_2000 = articles[:2000]"
   ]
  },
  {
   "cell_type": "code",
   "execution_count": 24,
   "metadata": {
    "collapsed": false
   },
   "outputs": [],
   "source": [
    "#articles_2000.shape"
   ]
  },
  {
   "cell_type": "code",
   "execution_count": 25,
   "metadata": {
    "collapsed": false
   },
   "outputs": [],
   "source": [
    "def get_tokens(doc):\n",
    "    lowers = doc.lower()\n",
    "    #no_punctuation = lowers.translate(None, string.punctuation)\n",
    "\n",
    "    #remove the punctuation using the character deletion step of translate\n",
    "    no_punctuation = lowers.translate(None, string.punctuation)\n",
    "    no_punctuation_decode = no_punctuation.decode('ascii', errors='ignore')\n",
    "\n",
    "    tokens = nltk.word_tokenize(no_punctuation_decode)\n",
    "    \n",
    "    filtered = [w for w in tokens if not w in stopwords.words('english') and len(w) > 1]\n",
    "    \n",
    "    #tokens_no_stopwords = [token for token in tokens if token not in stopwords.word('english')] \n",
    "    #return tokens_no_stopwords\n",
    "    \n",
    "#    print (len(filtered))\n",
    "    \n",
    "    return filtered"
   ]
  },
  {
   "cell_type": "code",
   "execution_count": 26,
   "metadata": {
    "collapsed": false
   },
   "outputs": [
    {
     "name": "stdout",
     "output_type": "stream",
     "text": [
      "61809\n"
     ]
    }
   ],
   "source": [
    "tot_tokens = [get_tokens(article) for article in articles]\n",
    "print len(tot_tokens)"
   ]
  },
  {
   "cell_type": "code",
   "execution_count": 28,
   "metadata": {
    "collapsed": false
   },
   "outputs": [],
   "source": [
    "my_pickle_dump('solr_tot_tokens.pkl', tot_tokens)"
   ]
  },
  {
   "cell_type": "code",
   "execution_count": 29,
   "metadata": {
    "collapsed": true
   },
   "outputs": [],
   "source": [
    "flatten = [ inner for sublist in tot_tokens for inner in sublist ]"
   ]
  },
  {
   "cell_type": "code",
   "execution_count": 30,
   "metadata": {
    "collapsed": true
   },
   "outputs": [],
   "source": [
    "my_pickle_dump('solr_tot_flatten.pkl', flatten)"
   ]
  },
  {
   "cell_type": "code",
   "execution_count": 30,
   "metadata": {
    "collapsed": false
   },
   "outputs": [],
   "source": [
    "# with open('solr_flatten.txt', 'w') as f:\n",
    "#     f.write(str(flatten))"
   ]
  },
  {
   "cell_type": "code",
   "execution_count": 31,
   "metadata": {
    "collapsed": true
   },
   "outputs": [],
   "source": [
    "# flatten_ascii = flatten.encode('ascii', igore)"
   ]
  },
  {
   "cell_type": "code",
   "execution_count": 3,
   "metadata": {
    "collapsed": true
   },
   "outputs": [],
   "source": [
    "flatten = my_pickle_load('solr_tot_flatten.pkl')"
   ]
  },
  {
   "cell_type": "code",
   "execution_count": 31,
   "metadata": {
    "collapsed": false
   },
   "outputs": [],
   "source": [
    "count = Counter(flatten)"
   ]
  },
  {
   "cell_type": "code",
   "execution_count": 32,
   "metadata": {
    "collapsed": false
   },
   "outputs": [
    {
     "name": "stdout",
     "output_type": "stream",
     "text": [
      "[(u'10', 33393), (u'1208228', 31707), (u'b220080023', 30086), (u'2016', 26701), (u'100', 23020), (u'24', 17858), (u'2017', 16507), (u'copyright', 16494), (u'div', 16387), (u'11', 14294), (u'dedecms', 14165), (u'12', 11846), (u'qq', 11201), (u'rights', 10358), (u'span', 10203), (u'20', 10148), (u'reserved', 10141), (u'2015', 9852), (u'30', 9219), (u'li', 8713), (u'15', 8308), (u'tag', 7899), (u'anhui', 7627), (u'16', 7476), (u'03', 7410), (u'20092010', 7230), (u'50', 7215), (u'1217188019', 7119), (u'13', 6702), (u'power', 6687), (u'20022011', 6574), (u'powered', 5900), (u'14', 5528), (u'01', 5451), (u'05', 5426), (u'21', 5380), (u'08', 5358), (u'02', 5321), (u'18', 5239), (u'09', 5231), (u'nba', 5227), (u'90', 5178), (u'dvd', 5074), (u'04', 5051), (u'06', 5003), (u'07', 5000), (u'25', 4972), (u'discuz', 4872), (u'17', 4804), (u'20170113', 4579)]\n"
     ]
    }
   ],
   "source": [
    "most_common_words = count.most_common(50)\n",
    "print most_common_words"
   ]
  },
  {
   "cell_type": "code",
   "execution_count": 33,
   "metadata": {
    "collapsed": true
   },
   "outputs": [],
   "source": [
    "words, counts = zip(*most_common_words)"
   ]
  },
  {
   "cell_type": "code",
   "execution_count": 34,
   "metadata": {
    "collapsed": false
   },
   "outputs": [
    {
     "data": {
      "image/png": "[encoded data removed]",
      "text/plain": [
       "<matplotlib.figure.Figure at 0x11ab4da90>"
      ]
     },
     "metadata": {},
     "output_type": "display_data"
    }
   ],
   "source": [
    "pos = np.arange(len(words))\n",
    "width = 1.0     # gives histogram aspect to the bar diagram\n",
    "\n",
    "plt.figure(figsize=(20,8))\n",
    "\n",
    "ax = plt.axes()\n",
    "ax.set_xticks(pos + (width / 2))\n",
    "ax.set_xticklabels(words, rotation=90)\n",
    "\n",
    "plt.bar(pos, counts, width, color='b')\n",
    "plt.show()"
   ]
  },
  {
   "cell_type": "code",
   "execution_count": 35,
   "metadata": {
    "collapsed": true
   },
   "outputs": [],
   "source": [
    "\n",
    "#Create your bigrams\n",
    "bgs = nltk.bigrams(flatten)\n",
    "\n",
    "#compute frequency distribution for all the bigrams in the text\n",
    "fdist = nltk.FreqDist(bgs)\n",
    "\n",
    "# for k,v in fdist.items():\n",
    "#     print k,v"
   ]
  },
  {
   "cell_type": "code",
   "execution_count": 36,
   "metadata": {
    "collapsed": false
   },
   "outputs": [
    {
     "name": "stdout",
     "output_type": "stream",
     "text": [
      "[((u'b220080023', u'1208228'), 28559), ((u'rights', u'reserved'), 10058), ((u'1208228', u'20092010'), 7199), ((u'20022011', u'dedecms'), 6572), ((u'copyright', u'20022011'), 6572), ((u'power', u'dedecms'), 6571), ((u'dedecms', u'power'), 6571), ((u'tag', u'copyright'), 6571), ((u'div', u'div'), 5554), ((u'10', u'b220080023'), 4410), ((u'powered', u'discuz'), 4179), ((u'1217188019', u'tag'), 4081), ((u'anhui', u'dvd'), 3848), ((u'occurred', u'processing'), 3832), ((u'processing', u'directive'), 3832), ((u'error', u'occurred'), 3832), ((u'alt', u'h2h2'), 3816), ((u'li', u'li'), 3784), ((u'2016', u'2016'), 3780), ((u'24', u'b220080023'), 3417), ((u'2016', u'24'), 3252), ((u'directive', u'error'), 2788), ((u'100', u'10'), 2777), ((u'100', u'1217188019'), 2765), ((u'10', u'11'), 2747), ((u'20161112', u'2016'), 2695), ((u'icp08007183', u'1208228'), 2568), ((u'2017', u'2017'), 2393), ((u'qq', u'qq'), 2384), ((u'reserved', u'b220080023'), 2321), ((u'010203040506', u'03'), 2252), ((u'h2h2', u'ppp'), 2072), ((u'span', u'div'), 2057), ((u'03', u'010203040506'), 2045), ((u'typehidden', u'input'), 2034), ((u'11', u'12'), 1981), ((u'01', u'100'), 1932), ((u'100', u'02'), 1927), ((u'02', u'100'), 1925), ((u'1208228', u'anhui'), 1923), ((u'100', u'03'), 1921), ((u'03', u'100'), 1910), ((u'100', u'04'), 1910), ((u'84000', u'100'), 1909), ((u'0115', u'0115'), 1874), ((u'10', u'10'), 1827), ((u'copyright', u'20062016'), 1823), ((u'1208228', u'anhuiu2008126com'), 1803), ((u'anhuinews', u'rights'), 1737), ((u'20062016', u'anhuinews'), 1736)]\n"
     ]
    }
   ],
   "source": [
    "fds = fdist.most_common(50)\n",
    "print fds"
   ]
  },
  {
   "cell_type": "code",
   "execution_count": 37,
   "metadata": {
    "collapsed": true
   },
   "outputs": [],
   "source": [
    "words, counts = zip(*fds)\n",
    "words_zip = [' '.join(word) for word in words]"
   ]
  },
  {
   "cell_type": "code",
   "execution_count": 38,
   "metadata": {
    "collapsed": false
   },
   "outputs": [
    {
     "data": {
      "image/png": "[encoded data removed]",
      "text/plain": [
       "<matplotlib.figure.Figure at 0x12d06d410>"
      ]
     },
     "metadata": {},
     "output_type": "display_data"
    }
   ],
   "source": [
    "pos = np.arange(len(words_zip))\n",
    "width = 1.0     # gives histogram aspect to the bar diagram\n",
    "\n",
    "plt.figure(figsize=(20,8))\n",
    "\n",
    "ax = plt.axes()\n",
    "ax.set_xticks(pos + (width / 2))\n",
    "ax.set_xticklabels(words_zip, rotation=90)\n",
    "\n",
    "plt.bar(pos, counts, width, color='b')\n",
    "plt.show()"
   ]
  },
  {
   "cell_type": "code",
   "execution_count": 39,
   "metadata": {
    "collapsed": true
   },
   "outputs": [],
   "source": [
    "#txt = '\\xc2\\xa0 this is a test'"
   ]
  },
  {
   "cell_type": "code",
   "execution_count": 40,
   "metadata": {
    "collapsed": false
   },
   "outputs": [],
   "source": [
    "#txt.decode('ascii', errors='ignore')"
   ]
  },
  {
   "cell_type": "code",
   "execution_count": 41,
   "metadata": {
    "collapsed": true
   },
   "outputs": [],
   "source": [
    "def tokenize_and_normalize(chunks):\n",
    "#     print 'doc size', len(chunks)\n",
    "    chunks_dec = chunks.decode('ascii', errors='ignore')\n",
    "    words = [ tokenize.word_tokenize(sent) for sent in tokenize.sent_tokenize(chunks_dec) ]\n",
    "    flatten = [ inner for sublist in words for inner in sublist ]\n",
    "    stripped = [] \n",
    "\n",
    "    for word in flatten:         \n",
    "        if word not in stopwords.words('english'):\n",
    "            try:\n",
    "                stripped.append(word.encode('latin-1').decode('utf8').lower())\n",
    "            except:\n",
    "                print \"Cannot encode: \" + word\n",
    "                pass\n",
    "    \n",
    "    s = [ word for word in stripped if len(word) > 1 ] \n",
    "    \n",
    "#     print 'word size', len(s)   \n",
    "#     print s\n",
    "    \n",
    "    return s"
   ]
  },
  {
   "cell_type": "code",
   "execution_count": 42,
   "metadata": {
    "collapsed": false
   },
   "outputs": [],
   "source": [
    "#parsed = [ tokenize_and_normalize(s) for s in articles]"
   ]
  },
  {
   "cell_type": "code",
   "execution_count": 43,
   "metadata": {
    "collapsed": true
   },
   "outputs": [],
   "source": [
    "#my_pickle_dump('solr_parsed.pkl', parsed)"
   ]
  },
  {
   "cell_type": "code",
   "execution_count": 44,
   "metadata": {
    "collapsed": true
   },
   "outputs": [],
   "source": [
    "#tot_tokens = my_pickle_load('solr_tot_tokens.pkl')"
   ]
  },
  {
   "cell_type": "code",
   "execution_count": 45,
   "metadata": {
    "collapsed": false
   },
   "outputs": [],
   "source": [
    "dictionary = corpora.Dictionary(tot_tokens)\n"
   ]
  },
  {
   "cell_type": "code",
   "execution_count": 46,
   "metadata": {
    "collapsed": false
   },
   "outputs": [],
   "source": [
    "my_pickle_dump('solr_dictionary.pkl', dictionary)"
   ]
  },
  {
   "cell_type": "code",
   "execution_count": 47,
   "metadata": {
    "collapsed": false
   },
   "outputs": [],
   "source": [
    "corpus = [dictionary.doc2bow(text) for text in tot_tokens]"
   ]
  },
  {
   "cell_type": "code",
   "execution_count": 48,
   "metadata": {
    "collapsed": true
   },
   "outputs": [],
   "source": [
    "my_pickle_dump('solr_corpus.pkl', corpus)"
   ]
  },
  {
   "cell_type": "code",
   "execution_count": 49,
   "metadata": {
    "collapsed": true
   },
   "outputs": [],
   "source": [
    "#corpus1 = my_pickle_load('solr_corpus.pkl')"
   ]
  },
  {
   "cell_type": "code",
   "execution_count": 50,
   "metadata": {
    "collapsed": true
   },
   "outputs": [],
   "source": [
    "tfidf = models.TfidfModel(corpus)"
   ]
  },
  {
   "cell_type": "code",
   "execution_count": 52,
   "metadata": {
    "collapsed": false
   },
   "outputs": [],
   "source": [
    "corpus_tfidf = tfidf[corpus]"
   ]
  },
  {
   "cell_type": "code",
   "execution_count": 59,
   "metadata": {
    "collapsed": false
   },
   "outputs": [
    {
     "name": "stdout",
     "output_type": "stream",
     "text": [
      "<class 'gensim.interfaces.TransformedCorpus'>\n"
     ]
    }
   ],
   "source": [
    "print type(corpus_tfidf)"
   ]
  },
  {
   "cell_type": "code",
   "execution_count": 54,
   "metadata": {
    "collapsed": false
   },
   "outputs": [],
   "source": [
    "corpus_np = np.array(corpus)"
   ]
  },
  {
   "cell_type": "code",
   "execution_count": 55,
   "metadata": {
    "collapsed": false
   },
   "outputs": [
    {
     "data": {
      "text/plain": [
       "(61809,)"
      ]
     },
     "execution_count": 55,
     "metadata": {},
     "output_type": "execute_result"
    }
   ],
   "source": [
    "corpus_np.shape"
   ]
  },
  {
   "cell_type": "code",
   "execution_count": 57,
   "metadata": {
    "collapsed": false
   },
   "outputs": [
    {
     "data": {
      "text/plain": [
       "[(0, 6),\n",
       " (3, 1),\n",
       " (8, 1),\n",
       " (9, 1),\n",
       " (11, 2),\n",
       " (12, 1),\n",
       " (16, 1),\n",
       " (17, 1),\n",
       " (19, 3),\n",
       " (21, 1),\n",
       " (30, 1),\n",
       " (41, 1),\n",
       " (42, 1),\n",
       " (44, 1),\n",
       " (45, 1),\n",
       " (47, 2),\n",
       " (48, 6),\n",
       " (54, 1),\n",
       " (57, 1),\n",
       " (59, 1),\n",
       " (60, 2),\n",
       " (64, 1),\n",
       " (65, 1),\n",
       " (87, 1),\n",
       " (140, 1),\n",
       " (168, 2),\n",
       " (189, 2),\n",
       " (228, 2),\n",
       " (317, 1),\n",
       " (318, 1),\n",
       " (319, 1),\n",
       " (320, 1),\n",
       " (321, 1),\n",
       " (322, 1),\n",
       " (323, 1),\n",
       " (324, 3),\n",
       " (325, 1),\n",
       " (326, 3),\n",
       " (327, 1),\n",
       " (328, 1),\n",
       " (329, 5),\n",
       " (330, 1),\n",
       " (331, 1),\n",
       " (332, 1),\n",
       " (333, 2),\n",
       " (334, 1),\n",
       " (335, 1),\n",
       " (336, 1),\n",
       " (337, 1),\n",
       " (338, 1),\n",
       " (339, 2),\n",
       " (340, 1)]"
      ]
     },
     "execution_count": 57,
     "metadata": {},
     "output_type": "execute_result"
    }
   ],
   "source": [
    "corpus[12]"
   ]
  },
  {
   "cell_type": "code",
   "execution_count": 58,
   "metadata": {
    "collapsed": true
   },
   "outputs": [],
   "source": [
    "my_pickle_dump('solr_corpus_tfidf.pkl', corpus_tfidf)"
   ]
  },
  {
   "cell_type": "code",
   "execution_count": 62,
   "metadata": {
    "collapsed": true
   },
   "outputs": [],
   "source": [
    "corpus_tfidf = my_pickle_load('solr_corpus_tfidf.pkl')\n"
   ]
  },
  {
   "cell_type": "code",
   "execution_count": 59,
   "metadata": {
    "collapsed": true
   },
   "outputs": [],
   "source": [
    "dictionary = my_pickle_load('solr_dictionary.pkl')"
   ]
  },
  {
   "cell_type": "code",
   "execution_count": 60,
   "metadata": {
    "collapsed": false
   },
   "outputs": [],
   "source": [
    "model = LsiModel(corpus_tfidf, id2word=dictionary, num_topics=300)"
   ]
  },
  {
   "cell_type": "code",
   "execution_count": 61,
   "metadata": {
    "collapsed": false
   },
   "outputs": [
    {
     "data": {
      "text/plain": [
       "[(u'directive', 0.47047995879164139),\n",
       " (u'occurred', 0.46924078497926441),\n",
       " (u'error', 0.4675630748359425),\n",
       " (u'processing', 0.46425408904026805),\n",
       " (u'cctv4', -0.20302559437613801)]"
      ]
     },
     "execution_count": 61,
     "metadata": {},
     "output_type": "execute_result"
    }
   ],
   "source": [
    "model.show_topic(10, topn=5)"
   ]
  },
  {
   "cell_type": "code",
   "execution_count": 62,
   "metadata": {
    "collapsed": false
   },
   "outputs": [
    {
     "data": {
      "text/plain": [
       "[(0,\n",
       "  u'0.624*\"dedecms\" + 0.319*\"1217188019\" + 0.315*\"20022011\" + 0.313*\"power\" + 0.313*\"tag\" + 0.221*\"100\" + 0.219*\"copyright\" + 0.077*\"2015\" + 0.073*\"10\" + 0.057*\"11\"'),\n",
       " (1,\n",
       "  u'0.346*\"discuz\" + 0.332*\"qq\" + 0.326*\"powered\" + 0.197*\"icp09029325\" + 0.197*\"34100202000037\" + 0.196*\"qr\" + 0.195*\"comsenz\" + 0.194*\"x32\" + 0.193*\"20012013\" + 0.186*\"code\"'),\n",
       " (2,\n",
       "  u'-0.255*\"03\" + -0.247*\"100\" + -0.228*\"01\" + -0.227*\"02\" + -0.222*\"04\" + -0.221*\"06\" + -0.220*\"2016\" + -0.218*\"07\" + -0.212*\"08\" + -0.211*\"05\"'),\n",
       " (3,\n",
       "  u'0.357*\"2016\" + 0.225*\"2017\" + -0.219*\"100\" + -0.206*\"03\" + -0.193*\"01\" + -0.193*\"02\" + -0.190*\"04\" + -0.189*\"06\" + -0.187*\"07\" + -0.178*\"09\"'),\n",
       " (4,\n",
       "  u'-0.777*\"div\" + -0.496*\"span\" + -0.211*\"input\" + -0.176*\"typehidden\" + -0.071*\"hrefjavascriptvoid0\" + -0.035*\"foreach\" + -0.035*\"typetext\" + -0.035*\"styledisplaynone\" + -0.035*\"classmsgfunc\" + -0.035*\"namevochannelid\"'),\n",
       " (5,\n",
       "  u'-0.355*\"20072010\" + -0.354*\"icp070115451\" + -0.354*\"ahwhnet\" + -0.350*\"ahagenet\" + -0.339*\"qq78530461\" + -0.218*\"reserved\" + -0.217*\"rights\" + 0.185*\"dedecms\" + -0.172*\"wwwahwhnet\" + 0.156*\"qq\"'),\n",
       " (6,\n",
       "  u'0.563*\"cctv\" + 0.471*\"cctv4\" + 0.244*\"cntv\" + 0.222*\"qq\" + 0.154*\"2017\" + 0.129*\"cctvcom\" + 0.117*\"directive\" + 0.117*\"occurred\" + 0.117*\"error\" + 0.116*\"processing\"'),\n",
       " (7,\n",
       "  u'0.534*\"2017\" + 0.257*\"7000\" + -0.168*\"cctv\" + 0.140*\"055165179865816\" + 0.140*\"80125o\" + 0.139*\"9700\" + 0.139*\"6400\" + 0.139*\"5900\" + 0.138*\"20982198\" + 0.137*\"817\"'),\n",
       " (8,\n",
       "  u'-0.534*\"2016\" + 0.163*\"21\" + -0.163*\"20092010\" + 0.149*\"15\" + 0.146*\"12\" + 0.146*\"14\" + 0.144*\"27\" + 0.144*\"13\" + -0.140*\"20161112\" + 0.136*\"22\"'),\n",
       " (9,\n",
       "  u'0.697*\"li\" + 0.380*\"hidefocustrueimg\" + 0.376*\"alt\" + 0.369*\"h2h2\" + 0.215*\"ppp\" + 0.061*\"pfont\" + 0.052*\"size3fontpp\" + 0.046*\"2013\" + 0.039*\"wwwanhuinewscom\" + 0.034*\"hrefp1\"'),\n",
       " (10,\n",
       "  u'0.470*\"directive\" + 0.469*\"occurred\" + 0.468*\"error\" + 0.464*\"processing\" + -0.203*\"cctv4\" + -0.167*\"cctv\" + -0.101*\"cntv\" + 0.072*\"20170115\" + 0.048*\"2016cctv\" + 0.043*\"cba115vs\"'),\n",
       " (11,\n",
       "  u'-0.335*\"2013\" + -0.280*\"wwwanhuinewscom\" + -0.237*\"404\" + -0.236*\"found\" + -0.189*\"2015\" + -0.186*\"rights\" + -0.186*\"reserved\" + -0.156*\"2012\" + -0.153*\"055165179886\" + -0.146*\"sina\"'),\n",
       " (12,\n",
       "  u'-0.451*\"010203040506\" + 0.320*\"404\" + 0.318*\"found\" + -0.281*\"03\" + -0.228*\"2013\" + -0.207*\"wwwanhuinewscom\" + 0.159*\"nginx1102\" + -0.152*\"sina\" + 0.150*\"055165179886\" + -0.145*\"msn\"'),\n",
       " (13,\n",
       "  u'0.599*\"010203040506\" + 0.383*\"03\" + 0.251*\"404\" + 0.250*\"found\" + -0.161*\"2013\" + -0.144*\"wwwanhuinewscom\" + 0.124*\"nginx1102\" + 0.112*\"055165179886\" + -0.110*\"sina\" + -0.106*\"100\"'),\n",
       " (14,\n",
       "  u'0.336*\"0115\" + 0.292*\"0124\" + 0.264*\"20170113\" + 0.243*\"0113\" + 0.225*\"0114\" + 0.187*\"qq\" + -0.187*\"dvd\" + -0.167*\"anhui\" + -0.153*\"archiver\" + 0.138*\"20170112\"'),\n",
       " (15,\n",
       "  u'-0.599*\"20110827\" + -0.399*\"20110829\" + -0.278*\"2016\" + -0.187*\"1910\" + -0.186*\"wwwahagenet\" + 0.154*\"84000\" + -0.149*\"32\" + 0.146*\"100\" + -0.141*\"70\" + -0.123*\"2013\"'),\n",
       " (16,\n",
       "  u'0.307*\"0115\" + 0.286*\"0124\" + 0.261*\"20110827\" + 0.209*\"dvd\" + 0.201*\"anhui\" + 0.186*\"0114\" + 0.174*\"20110829\" + -0.168*\"2016\" + -0.149*\"wwwanhuinewscom\" + 0.147*\"100\"'),\n",
       " (17,\n",
       "  u'-0.392*\"20170113\" + -0.241*\"20170112\" + 0.238*\"2016\" + -0.219*\"20110827\" + 0.217*\"0115\" + 0.206*\"0124\" + -0.170*\"gif\" + -0.160*\"20170111\" + -0.147*\"400\" + -0.147*\"20110829\"'),\n",
       " (18,\n",
       "  u'-0.302*\"qq\" + 0.284*\"archiver\" + 0.208*\"20170113\" + -0.207*\"84000\" + 0.186*\"cntv\" + 0.175*\"0113\" + -0.166*\"100\" + -0.156*\"10\" + 0.134*\"sina\" + 0.127*\"msn\"'),\n",
       " (19,\n",
       "  u'0.298*\"2015\" + -0.197*\"sina\" + -0.197*\"msn\" + -0.193*\"404\" + -0.192*\"found\" + -0.185*\"renren\" + -0.185*\"kaixing\" + -0.185*\"douban\" + -0.184*\"qzone\" + 0.182*\"84000\"'),\n",
       " (20,\n",
       "  u'-0.453*\"cctv4\" + 0.444*\"cntv\" + -0.184*\"2015\" + 0.178*\"cctv\" + 0.173*\"01088047123\" + -0.171*\"20170113\" + 0.162*\"icp060535\" + 0.151*\"20140383083\" + 0.132*\"gif\" + 0.131*\"0102004098\"'),\n",
       " (21,\n",
       "  u'-0.370*\"84000\" + 0.309*\"anhui\" + 0.299*\"dvd\" + -0.284*\"100\" + -0.240*\"10\" + 0.221*\"2015\" + 0.183*\"20092010\" + -0.169*\"30\" + -0.128*\"cctv4\" + 0.117*\"h7n9\"'),\n",
       " (22,\n",
       "  u'0.236*\"gif\" + 0.190*\"wwwanhuinewscom\" + -0.189*\"175\" + -0.187*\"037165795966\" + -0.185*\"newspapering\" + -0.181*\"network\" + -0.181*\"henan\" + -0.172*\"2016\" + -0.171*\"center\" + 0.170*\"2013\"'),\n",
       " (23,\n",
       "  u'0.409*\"archiver\" + -0.349*\"qq\" + 0.343*\"cctv4\" + -0.160*\"20170113\" + 0.142*\"0115\" + 0.140*\"gif\" + 0.135*\"discuz\" + 0.119*\"0124\" + 0.116*\"nba\" + 0.115*\"h7n9\"'),\n",
       " (24,\n",
       "  u'-0.423*\"2015\" + 0.270*\"anhui\" + 0.233*\"dvd\" + 0.202*\"404\" + 0.201*\"found\" + 0.165*\"wwwanhuinewscom\" + 0.158*\"nuonuo180sinacom\" + 0.155*\"1963\" + -0.146*\"055165179886\" + -0.138*\"2014\"'),\n",
       " (25,\n",
       "  u'0.266*\"2015\" + -0.241*\"27\" + 0.238*\"2014\" + -0.185*\"0113\" + 0.178*\"2013\" + -0.174*\"20\" + -0.169*\"50\" + -0.160*\"kd13\" + -0.159*\"377\" + 0.159*\"11\"'),\n",
       " (26,\n",
       "  u'0.177*\"055165179860\" + 0.176*\"50\" + 0.175*\"08007183\" + 0.154*\"icp\" + 0.138*\"hah\" + 0.137*\"10658000\" + -0.127*\"1963\" + -0.126*\"11\" + 0.112*\"nba\" + -0.109*\"nuonuo180sinacom\"'),\n",
       " (27,\n",
       "  u'0.394*\"1963\" + 0.335*\"nuonuo180sinacom\" + 0.296*\"19801991\" + 0.272*\"19772003\" + 0.241*\"197311\" + 0.171*\"8080\" + -0.156*\"404\" + -0.156*\"found\" + -0.141*\"anhui\" + -0.130*\"dvd\"'),\n",
       " (28,\n",
       "  u'0.263*\"11\" + -0.229*\"50\" + -0.214*\"2017\" + -0.200*\"2014\" + -0.165*\"20\" + -0.163*\"peer\" + -0.160*\"furnishing\" + -0.159*\"food\" + -0.149*\"fashion\" + -0.143*\"education\"'),\n",
       " (29,\n",
       "  u'-0.498*\"0113\" + 0.167*\"2017\" + -0.164*\"archiver\" + -0.155*\"nba\" + 0.146*\"0124\" + -0.132*\"50\" + -0.126*\"20170113\" + -0.123*\"2015\" + -0.120*\"20161112\" + 0.120*\"2015gdp\"'),\n",
       " (30,\n",
       "  u'0.163*\"20170113\" + 0.151*\"20170115\" + 0.147*\"50\" + -0.145*\"2017\" + -0.145*\"0113\" + -0.133*\"05585581192\" + -0.133*\"qq710743850\" + -0.133*\"bz5751163com\" + -0.133*\"5557308\" + -0.133*\"sjzbozhoucn\"'),\n",
       " (31,\n",
       "  u'0.369*\"archiver\" + -0.331*\"0113\" + 0.233*\"11\" + 0.186*\"365\" + 0.182*\"50\" + 0.176*\"qq\" + -0.153*\"2016\" + -0.122*\"icp09029325\" + -0.122*\"34100202000037\" + -0.119*\"qr\"'),\n",
       " (32,\n",
       "  u'0.363*\"11\" + 0.253*\"365\" + -0.194*\"2015\" + 0.163*\"05515179862277\" + 0.162*\"1805\" + 0.157*\"0113\" + -0.149*\"qq\" + 0.147*\"peer\" + 0.143*\"food\" + 0.142*\"110\"'),\n",
       " (33,\n",
       "  u'-0.312*\"2015\" + 0.250*\"archiver\" + 0.188*\"anhui\" + 0.153*\"055165179886\" + -0.152*\"20\" + -0.151*\"50\" + -0.149*\"0113\" + -0.141*\"404\" + -0.139*\"found\" + 0.137*\"dvd\"'),\n",
       " (34,\n",
       "  u'-0.264*\"qq\" + -0.260*\"0113\" + 0.256*\"nba\" + 0.157*\"hah\" + 0.156*\"10658000\" + -0.153*\"archiver\" + 0.147*\"055165179860\" + 0.147*\"08007183\" + -0.146*\"100\" + 0.141*\"20170113\"'),\n",
       " (35,\n",
       "  u'0.255*\"20170112\" + -0.206*\"0113\" + -0.205*\"nba\" + -0.173*\"20170115\" + -0.167*\"20092010\" + -0.165*\"hah\" + -0.165*\"10658000\" + -0.160*\"055165179860\" + -0.160*\"08007183\" + 0.159*\"icp08007183\"'),\n",
       " (36,\n",
       "  u'0.413*\"nba\" + -0.275*\"icp08007183\" + 0.217*\"20170111\" + -0.173*\"0113\" + 0.165*\"20170112\" + -0.153*\"400\" + 0.146*\"20170110\" + -0.146*\"20161112\" + -0.132*\"08007183\" + -0.132*\"055165179860\"'),\n",
       " (37,\n",
       "  u'-0.278*\"2017\" + -0.173*\"nba\" + 0.172*\"20170113\" + -0.144*\"anhuiu2008126com\" + 0.136*\"05585581192\" + 0.136*\"5557308\" + 0.136*\"sjzbozhoucn\" + 0.136*\"qq710743850\" + 0.136*\"bz5751163com\" + 0.136*\"bozhoucn\"'),\n",
       " (38,\n",
       "  u'0.483*\"2012\" + -0.289*\"icp08007183\" + -0.218*\"nba\" + -0.187*\"20170115\" + 0.179*\"365\" + 0.179*\"110\" + 0.137*\"20161112\" + -0.114*\"ok\" + -0.112*\"archiver\" + 0.110*\"gif\"'),\n",
       " (39,\n",
       "  u'0.318*\"icp08007183\" + 0.315*\"2012\" + 0.229*\"anhuiu2008126com\" + -0.195*\"2017\" + -0.184*\"2015\" + -0.144*\"50\" + 0.140*\"2014\" + -0.129*\"dvd\" + -0.127*\"anhui\" + -0.125*\"60\"'),\n",
       " (40,\n",
       "  u'0.302*\"50\" + 0.272*\"2012\" + 0.208*\"05515179862277\" + 0.207*\"1805\" + -0.207*\"365\" + 0.206*\"12\" + -0.199*\"110\" + 0.174*\"baby\" + 0.142*\"13\" + -0.141*\"icp08007183\"'),\n",
       " (41,\n",
       "  u'0.263*\"05515179862277\" + 0.262*\"1805\" + 0.210*\"20\" + -0.203*\"50\" + -0.201*\"20170115\" + 0.173*\"qq95420746\" + 0.162*\"gif\" + 0.155*\"27\" + -0.134*\"ac\" + -0.131*\"350\"'),\n",
       " (42,\n",
       "  u'0.307*\"2012\" + 0.224*\"4g\" + 0.176*\"20170115\" + 0.168*\"05515179862277\" + 0.168*\"1805\" + -0.155*\"hold\" + 0.144*\"20\" + -0.141*\"4k\" + -0.139*\"a5\" + 0.133*\"20170114\"'),\n",
       " (43,\n",
       "  u'-0.312*\"4g\" + 0.311*\"20170115\" + -0.203*\"nba\" + 0.181*\"gif\" + 0.181*\"20170114\" + 0.144*\"12\" + 0.136*\"20161112\" + -0.123*\"400\" + 0.114*\"15\" + -0.111*\"28\"'),\n",
       " (44,\n",
       "  u'0.363*\"20170115\" + 0.269*\"4g\" + -0.210*\"20170113\" + -0.189*\"nba\" + -0.173*\"10\" + 0.156*\"20161112\" + 0.148*\"4k\" + 0.139*\"a5\" + 0.138*\"20170114\" + 0.138*\"17tv\"'),\n",
       " (45,\n",
       "  u'0.288*\"365\" + 0.279*\"baby\" + -0.205*\"20170113\" + 0.184*\"4g\" + -0.172*\"nba\" + -0.164*\"2017\" + 0.160*\"alphago\" + 0.159*\"110\" + 0.154*\"20170110\" + 0.131*\"122\"'),\n",
       " (46,\n",
       "  u'-0.617*\"4g\" + -0.292*\"gif\" + -0.198*\"17173\" + -0.182*\"12\" + 0.115*\"50\" + 0.112*\"05515179862277\" + 0.112*\"1805\" + -0.106*\"15\" + -0.104*\"95\" + 0.083*\"baby\"'),\n",
       " (47,\n",
       "  u'0.322*\"4g\" + -0.269*\"gif\" + -0.218*\"17173\" + 0.187*\"20161112\" + -0.164*\"20170115\" + 0.135*\"20170113\" + 0.120*\"20170109\" + 0.113*\"5h7n9\" + 0.112*\"anhuiu2008126com\" + -0.109*\"365\"'),\n",
       " (48,\n",
       "  u'-0.231*\"20170113\" + -0.213*\"ac\" + -0.182*\"100\" + 0.172*\"2012\" + -0.169*\"anhuiu2008126com\" + 0.154*\"20170115\" + 0.153*\"10\" + -0.147*\"schnitzer\" + 0.137*\"90\" + -0.136*\"gif\"'),\n",
       " (49,\n",
       "  u'-0.295*\"ac\" + -0.220*\"schnitzer\" + -0.195*\"baby\" + -0.172*\"rs\" + 0.168*\"anhuiu2008126com\" + -0.154*\"alfa\" + 0.143*\"60\" + 0.128*\"50\" + -0.127*\"90\" + 0.121*\"28\"'),\n",
       " (50,\n",
       "  u'0.165*\"people\" + 0.164*\"anhuiu2008126com\" + -0.161*\"gif\" + 0.144*\"china\" + -0.143*\"17173\" + 0.138*\"video\" + 0.133*\"chinese\" + 0.130*\"5a\" + 0.123*\"20161112\" + 0.121*\"4a\"'),\n",
       " (51,\n",
       "  u'-0.324*\"baby\" + 0.211*\"20170111\" + 0.159*\"ac\" + 0.158*\"30\" + -0.151*\"anhuiu2008126com\" + 0.145*\"60\" + 0.130*\"84000\" + 0.129*\"17173\" + -0.126*\"mv\" + 0.124*\"20170109\"'),\n",
       " (52,\n",
       "  u'0.264*\"20\" + -0.223*\"95\" + -0.180*\"2017\" + -0.152*\"50\" + -0.145*\"1n\" + 0.138*\"max\" + 0.135*\"2016\" + -0.133*\"sat\" + -0.131*\"baby\" + 0.128*\"2014\"'),\n",
       " (53,\n",
       "  u'0.372*\"sm\" + 0.282*\"av\" + 0.230*\"lelo\" + 0.208*\"funfactory\" + 0.198*\"zini\" + 0.173*\"xxl\" + -0.155*\"365\" + 0.133*\"eros\" + 0.132*\"2h2d\" + 0.131*\"2004100202349\"'),\n",
       " (54,\n",
       "  u'0.204*\"718\" + -0.190*\"icp08007183\" + 0.181*\"400\" + 0.166*\"20062016\" + 0.144*\"anhuiu2008126com\" + 0.143*\"055165179865816\" + 0.143*\"anhuinews\" + 0.133*\"17173\" + 0.129*\"30\" + -0.129*\"2013\"'),\n",
       " (55,\n",
       "  u'0.254*\"20170115\" + -0.230*\"20092010\" + 0.221*\"40\" + -0.183*\"3d\" + 0.180*\"60\" + -0.169*\"20170113\" + -0.165*\"90\" + -0.145*\"110\" + 0.121*\"2016\" + 0.118*\"365\"'),\n",
       " (56,\n",
       "  u'-0.486*\"2014\" + -0.173*\"15\" + 0.164*\"2015\" + 0.155*\"2012\" + 0.145*\"wwwanhuinewscom\" + 0.136*\"10\" + -0.131*\"20170113\" + -0.124*\"90\" + 0.112*\"20092010\" + -0.112*\"100\"'),\n",
       " (57,\n",
       "  u'-0.279*\"20170112\" + -0.270*\"30\" + -0.171*\"05515179862277\" + -0.171*\"1805\" + -0.167*\"2014\" + 0.164*\"100\" + -0.164*\"110\" + 0.158*\"17173\" + 0.157*\"20170109\" + 0.149*\"2012\"'),\n",
       " (58,\n",
       "  u'-0.425*\"60\" + 0.171*\"70\" + -0.171*\"16\" + -0.168*\"20170113\" + -0.142*\"mvp\" + 0.141*\"20170109\" + 0.138*\"90\" + 0.134*\"20170112\" + -0.127*\"alphago\" + -0.123*\"119\"'),\n",
       " (59,\n",
       "  u'-0.328*\"max\" + 0.228*\"30\" + -0.203*\"60\" + -0.145*\"20\" + 0.139*\"13\" + -0.138*\"boy\" + -0.132*\"20170110\" + -0.128*\"girl\" + -0.126*\"90\" + 0.125*\"hold\"'),\n",
       " (60,\n",
       "  u'0.253*\"20170112\" + 0.234*\"80\" + -0.183*\"20170113\" + 0.175*\"20\" + -0.153*\"max\" + -0.151*\"alphago\" + -0.149*\"70\" + -0.148*\"30\" + 0.146*\"20170111\" + 0.143*\"100\"'),\n",
       " (61,\n",
       "  u'-0.267*\"110\" + 0.263*\"2014\" + -0.263*\"15\" + 0.185*\"10\" + 0.172*\"20\" + -0.160*\"077156900088820\" + -0.160*\"qq1774322130\" + -0.158*\"2008302\" + -0.158*\"077156900088325\" + -0.157*\"icpb22004002210\"'),\n",
       " (62,\n",
       "  u'0.261*\"max\" + -0.200*\"20170109\" + -0.178*\"2011\" + -0.169*\"2010\" + -0.162*\"20092010\" + -0.158*\"2008\" + -0.155*\"10\" + 0.152*\"app\" + 0.145*\"lady\" + -0.139*\"80\"'),\n",
       " (63,\n",
       "  u'-0.311*\"90\" + 0.200*\"2010\" + -0.193*\"20\" + 0.158*\"20170110\" + -0.157*\"70\" + -0.151*\"13900\" + -0.142*\"60\" + -0.141*\"pk\" + 0.139*\"2011\" + -0.135*\"3d\"'),\n",
       " (64,\n",
       "  u'0.263*\"2014\" + -0.233*\"max\" + -0.189*\"2010\" + -0.187*\"2011\" + -0.160*\"17173\" + -0.147*\"2008\" + 0.145*\"lbj\" + -0.138*\"nba\" + -0.123*\"pk\" + 0.120*\"10\"'),\n",
       " (65,\n",
       "  u'-0.261*\"2014\" + 0.259*\"90\" + 0.225*\"cp\" + 0.154*\"70\" + 0.153*\"20\" + 0.146*\"12\" + -0.145*\"20170115\" + 0.145*\"80\" + -0.143*\"nba\" + -0.142*\"20170112\"'),\n",
       " (66,\n",
       "  u'-0.247*\"2017116\" + -0.235*\"gmt8\" + -0.235*\"queries\" + -0.235*\"processed\" + -0.235*\"seconds\" + 0.220*\"archiver\" + -0.220*\"x3\" + -0.217*\"4105\" + -0.132*\"angelababy\" + 0.128*\"x32\"'),\n",
       " (67,\n",
       "  u'0.779*\"77\" + 0.151*\"top\" + -0.112*\"cp\" + 0.098*\"p2p\" + 0.097*\"20160610\" + -0.097*\"cctv4\" + 0.094*\"360\" + 0.094*\"iphone7\" + 0.092*\"20160624\" + 0.092*\"20160603\"'),\n",
       " (68,\n",
       "  u'-0.331*\"20170116\" + -0.263*\"icp05003657\" + -0.259*\"055162603315\" + -0.183*\"20170110\" + 0.148*\"365\" + 0.139*\"20092010\" + -0.128*\"20170109\" + 0.122*\"3d\" + 0.119*\"2010\" + -0.114*\"20170105\"'),\n",
       " (69,\n",
       "  u'-0.308*\"20170116\" + -0.266*\"3d\" + -0.226*\"icp05003657\" + -0.223*\"055162603315\" + 0.196*\"20170112\" + 0.166*\"p2p\" + 0.123*\"20170109\" + 0.108*\"pk\" + -0.107*\"2010\" + -0.106*\"90\"'),\n",
       " (70,\n",
       "  u'-0.369*\"30\" + 0.236*\"cp\" + 0.182*\"50\" + -0.147*\"350\" + -0.139*\"80\" + -0.135*\"60\" + -0.133*\"29\" + -0.129*\"dj\" + -0.125*\"160\" + -0.119*\"20\"'),\n",
       " (71,\n",
       "  u'0.232*\"20170116\" + 0.188*\"icp05003657\" + 0.187*\"055162603315\" + 0.186*\"pk\" + 0.155*\"angelababy\" + -0.150*\"80\" + -0.146*\"20170105\" + 0.141*\"app\" + 0.136*\"13900\" + 0.134*\"20170109\"'),\n",
       " (72,\n",
       "  u'0.260*\"20170112\" + 0.245*\"17173\" + 0.243*\"lbj\" + -0.215*\"boy\" + 0.166*\"70\" + -0.165*\"13\" + 0.163*\"3d\" + 0.134*\"mvp\" + -0.130*\"20170105\" + -0.128*\"80\"'),\n",
       " (73,\n",
       "  u'0.257*\"70\" + -0.255*\"p2p\" + 0.239*\"16\" + -0.209*\"20092010\" + 0.187*\"80\" + -0.143*\"3d\" + -0.143*\"20170116\" + -0.139*\"zx0005\" + -0.123*\"12\" + 0.119*\"160\"'),\n",
       " (74,\n",
       "  u'0.245*\"2008\" + -0.171*\"kfyiyuanyiorg\" + -0.168*\"icp06017733icpsp\" + -0.168*\"wwwyiyuanyiorg\" + -0.168*\"b220100159\" + -0.168*\"yiyuanyiorgall\" + -0.168*\"02787528487\" + -0.168*\"20062012\" + -0.152*\"2382\" + -0.150*\"2010\"'),\n",
       " (75,\n",
       "  u'-0.239*\"p2p\" + 0.203*\"cp\" + -0.171*\"12\" + 0.152*\"77\" + -0.143*\"zx0005\" + 0.141*\"80\" + -0.140*\"200\" + 0.138*\"17173\" + 0.135*\"sohu\" + 0.134*\"sohucom\"'),\n",
       " (76,\n",
       "  u'-0.261*\"17173\" + -0.211*\"20\" + -0.197*\"70\" + -0.170*\"vr\" + -0.148*\"20170116\" + 0.131*\"2008\" + 0.128*\"cp\" + 0.126*\"50\" + 0.124*\"gif\" + 0.123*\"20170109\"'),\n",
       " (77,\n",
       "  u'-0.249*\"12\" + 0.226*\"p2p\" + 0.186*\"95\" + 0.164*\"alphago\" + 0.150*\"cctvcom\" + 0.148*\"19\" + 0.145*\"15\" + 0.131*\"20170110\" + -0.130*\"35\" + -0.130*\"cba\"'),\n",
       " (78,\n",
       "  u'-0.288*\"p2p\" + -0.197*\"30\" + 0.191*\"13\" + 0.183*\"14\" + -0.173*\"3d\" + -0.167*\"zx0005\" + -0.160*\"500\" + -0.146*\"baby\" + -0.144*\"16\" + -0.142*\"50\"'),\n",
       " (79,\n",
       "  u'0.213*\"25\" + -0.162*\"13\" + 0.160*\"2008\" + -0.150*\"cctvcom\" + -0.147*\"3d\" + -0.137*\"cp\" + -0.134*\"70\" + 0.126*\"23\" + 0.125*\"20\" + 0.117*\"20170112\"'),\n",
       " (80,\n",
       "  u'-0.349*\"80\" + 0.305*\"70\" + -0.169*\"2011\" + -0.164*\"lbj\" + -0.148*\"cctvcom\" + 0.130*\"15\" + 0.127*\"2008\" + 0.124*\"35\" + 0.121*\"anhuiu2008126com\" + 0.109*\"sohucom\"'),\n",
       " (81,\n",
       "  u'0.176*\"02985226012\" + 0.175*\"80\" + 0.174*\"cnwest\" + 0.173*\"icp07012147\" + 0.173*\"6112006001\" + 0.173*\"2706142\" + 0.173*\"0298796526985257538\" + 0.172*\"www\" + 0.168*\"com\" + -0.152*\"718\"'),\n",
       " (82,\n",
       "  u'0.227*\"2011\" + 0.175*\"70\" + 0.160*\"cctvcom\" + -0.151*\"icp08007183\" + 0.137*\"200\" + -0.135*\"19\" + -0.133*\"cba\" + -0.132*\"110\" + -0.128*\"kfyiyuanyiorg\" + -0.126*\"icp06017733icpsp\"'),\n",
       " (83,\n",
       "  u'-0.228*\"cctvcom\" + -0.187*\"icp08007183\" + 0.182*\"2011\" + 0.164*\"20\" + 0.149*\"20092010\" + -0.130*\"200\" + -0.125*\"25\" + -0.125*\"40\" + -0.119*\"20161226\" + -0.115*\"cctv\"'),\n",
       " (84,\n",
       "  u'0.295*\"80\" + -0.198*\"cctvcom\" + 0.153*\"icp08007183\" + -0.148*\"2011\" + 0.133*\"alphago\" + -0.132*\"02985226012\" + -0.129*\"cnwest\" + -0.129*\"2706142\" + -0.128*\"icp07012147\" + -0.128*\"6112006001\"'),\n",
       " (85,\n",
       "  u'0.173*\"16\" + 0.156*\"28\" + -0.151*\"02985226012\" + -0.148*\"cnwest\" + -0.147*\"icp07012147\" + -0.147*\"6112006001\" + -0.147*\"2706142\" + -0.147*\"0298796526985257538\" + -0.146*\"www\" + -0.143*\"com\"'),\n",
       " (86,\n",
       "  u'0.314*\"30\" + 0.286*\"cp\" + -0.273*\"40\" + -0.214*\"84000\" + -0.157*\"110\" + 0.115*\"lbj\" + 0.111*\"28\" + -0.111*\"2008\" + -0.105*\"19\" + -0.103*\"35\"'),\n",
       " (87,\n",
       "  u'0.252*\"boy\" + -0.224*\"16\" + -0.215*\"25\" + 0.156*\"20\" + 0.155*\"20170112\" + 0.144*\"17\" + -0.138*\"80\" + -0.127*\"baby\" + 0.119*\"50\" + -0.115*\"20170104\"'),\n",
       " (88,\n",
       "  u'-0.183*\"2011\" + 0.180*\"16\" + -0.168*\"200\" + -0.148*\"cp\" + 0.131*\"90\" + 0.126*\"cctvcom\" + -0.123*\"20092010\" + -0.119*\"25\" + -0.114*\"girl\" + 0.112*\"cba\"'),\n",
       " (89,\n",
       "  u'-0.202*\"2008\" + 0.165*\"17\" + -0.164*\"20161226\" + 0.161*\"70\" + -0.155*\"14697\" + -0.154*\"230071\" + -0.140*\"055165179860206\" + -0.138*\"030106\" + -0.137*\"90\" + -0.136*\"20161209\"'),\n",
       " (90,\n",
       "  u'0.232*\"2011\" + -0.224*\"200\" + -0.183*\"80\" + 0.152*\"13\" + 0.145*\"28\" + -0.142*\"22222222222222\" + -0.142*\"11111111111111\" + -0.133*\"30\" + 0.131*\"90\" + -0.125*\"14697\"'),\n",
       " (91,\n",
       "  u'0.259*\"12\" + -0.257*\"15\" + 0.205*\"70\" + -0.185*\"lbj\" + 0.156*\"cp\" + -0.154*\"cba\" + 0.153*\"fc\" + 0.132*\"110\" + -0.130*\"200\" + 0.130*\"road\"'),\n",
       " (92,\n",
       "  u'0.200*\"13\" + 0.180*\"200\" + 0.161*\"3d\" + -0.152*\"667\" + -0.151*\"333\" + 0.132*\"mv\" + -0.128*\"17\" + -0.127*\"28\" + -0.126*\"cp\" + -0.125*\"19\"'),\n",
       " (93,\n",
       "  u'0.346*\"2011\" + -0.222*\"2008\" + -0.196*\"28\" + 0.170*\"14697\" + 0.169*\"230071\" + 0.154*\"055165179860206\" + -0.131*\"030106\" + 0.130*\"20172\" + -0.113*\"2017\" + 0.108*\"3d\"'),\n",
       " (94,\n",
       "  u'0.214*\"20161226\" + -0.210*\"cp\" + 0.187*\"fc\" + 0.173*\"road\" + 0.142*\"20161227\" + -0.125*\"101\" + 0.125*\"iphone7\" + -0.114*\"20170105\" + 0.114*\"70\" + 0.114*\"ta\"'),\n",
       " (95,\n",
       "  u'0.207*\"fc\" + 0.185*\"road\" + -0.170*\"16\" + -0.136*\"kd\" + 0.131*\"c2\" + -0.130*\"cp\" + 0.130*\"400\" + 0.125*\"iphone7\" + 0.121*\"c4\" + -0.114*\"95\"'),\n",
       " (96,\n",
       "  u'0.213*\"22222222222222\" + 0.213*\"11111111111111\" + -0.186*\"20170109\" + 0.186*\"15\" + -0.175*\"11\" + 0.169*\"17\" + 0.165*\"20161226\" + 0.164*\"95\" + -0.162*\"13\" + 0.151*\"2011\"'),\n",
       " (97,\n",
       "  u'-0.488*\"11111111111111\" + -0.488*\"22222222222222\" + -0.177*\"4000899100\" + 0.166*\"2008\" + -0.146*\"28\" + -0.105*\"2011\" + 0.097*\"40\" + -0.089*\"9301730\" + 0.089*\"80\" + 0.085*\"17\"'),\n",
       " (98,\n",
       "  u'0.267*\"111\" + 0.198*\"667\" + 0.197*\"333\" + 0.165*\"112\" + 0.156*\"200\" + -0.149*\"20170114\" + 0.136*\"cp\" + -0.123*\"80\" + 0.113*\"113\" + -0.095*\"70\"'),\n",
       " (99,\n",
       "  u'0.201*\"kd\" + -0.166*\"cba\" + 0.163*\"90\" + 0.160*\"174851\" + 0.157*\"20160403\" + 0.146*\"boy\" + 0.133*\"360\" + 0.128*\"alphago\" + -0.124*\"rss\" + -0.123*\"23\"'),\n",
       " (100,\n",
       "  u'0.255*\"667\" + 0.253*\"333\" + 0.253*\"15\" + 0.143*\"cp\" + -0.137*\"app\" + 0.137*\"110\" + 0.133*\"86551651798688655165179878\" + -0.125*\"111\" + 0.123*\"1741\" + -0.122*\"20092010\"'),\n",
       " (101,\n",
       "  u'-0.181*\"40\" + 0.167*\"16\" + 0.158*\"667\" + 0.158*\"333\" + -0.136*\"18\" + -0.134*\"28\" + 0.123*\"400\" + 0.120*\"41\" + -0.113*\"101\" + -0.112*\"20170105\"'),\n",
       " (102,\n",
       "  u'-0.256*\"667\" + -0.254*\"333\" + -0.235*\"28\" + 0.188*\"2011\" + 0.171*\"90\" + 0.160*\"top\" + -0.140*\"10\" + -0.136*\"19\" + 0.132*\"cp\" + -0.126*\"rss\"'),\n",
       " (103,\n",
       "  u'0.285*\"667\" + 0.282*\"333\" + -0.210*\"rss\" + 0.173*\"200\" + -0.163*\"girl\" + -0.152*\"cp\" + -0.142*\"19\" + 0.139*\"40\" + -0.137*\"174851\" + -0.136*\"qcxxb163com\"'),\n",
       " (104,\n",
       "  u'0.281*\"667\" + 0.278*\"333\" + -0.237*\"28\" + -0.171*\"17\" + 0.146*\"21\" + -0.145*\"15\" + 0.132*\"20170110\" + -0.125*\"dj\" + -0.125*\"110\" + -0.118*\"360\"'),\n",
       " (105,\n",
       "  u'-0.309*\"174851\" + -0.304*\"20160403\" + -0.160*\"rss\" + 0.140*\"28\" + 0.135*\"top\" + 0.129*\"16\" + -0.126*\"20170114\" + 0.124*\"200\" + 0.117*\"girl\" + -0.110*\"667\"'),\n",
       " (106,\n",
       "  u'-0.376*\"rss\" + -0.275*\"qcxxb163com\" + -0.271*\"icp120073961\" + 0.188*\"174851\" + 0.185*\"20160403\" + -0.157*\"13\" + -0.139*\"400\" + 0.126*\"gif\" + -0.123*\"40\" + 0.122*\"11\"'),\n",
       " (107,\n",
       "  u'-0.198*\"12\" + 0.151*\"girl\" + 0.141*\"17173\" + -0.134*\"rss\" + 0.130*\"pc\" + -0.127*\"70\" + 0.124*\"20170114\" + 0.122*\"90\" + -0.120*\"cba\" + -0.114*\"vs\"'),\n",
       " (108,\n",
       "  u'0.205*\"13\" + 0.204*\"70\" + -0.203*\"90\" + -0.196*\"200\" + -0.164*\"top\" + 0.160*\"17\" + -0.147*\"15\" + -0.135*\"baby\" + -0.135*\"20161226\" + 0.127*\"360\"'),\n",
       " (109,\n",
       "  u'-0.310*\"174851\" + -0.305*\"20160403\" + -0.223*\"200\" + 0.160*\"40\" + -0.146*\"20170109\" + -0.132*\"20170110\" + 0.127*\"20170112\" + 0.104*\"girl\" + 0.101*\"cctvcom\" + -0.095*\"lbj\"'),\n",
       " (110,\n",
       "  u'-0.192*\"200\" + 0.180*\"174851\" + 0.177*\"20160403\" + 0.176*\"40\" + -0.162*\"20170114\" + -0.138*\"35\" + 0.136*\"lbj\" + 0.130*\"16\" + -0.130*\"20161209\" + 0.128*\"dj\"'),\n",
       " (111,\n",
       "  u'-0.249*\"20170114\" + 0.159*\"17\" + 0.145*\"rss\" + 0.136*\"cp\" + 0.136*\"2017\" + 0.133*\"20170115\" + -0.129*\"15\" + -0.126*\"20170105\" + 0.123*\"160\" + 0.117*\"111\"'),\n",
       " (112,\n",
       "  u'0.382*\"20170114\" + -0.244*\"15\" + -0.204*\"20170115\" + -0.200*\"20170110\" + 0.194*\"14\" + -0.146*\"20161209\" + 0.117*\"48\" + 0.104*\"top\" + -0.093*\"24\" + -0.092*\"10\"'),\n",
       " (113,\n",
       "  u'-0.203*\"lbj\" + 0.195*\"150\" + 0.178*\"200\" + 0.174*\"20161209\" + 0.148*\"55\" + -0.130*\"41\" + 0.125*\"top\" + -0.124*\"vr\" + -0.116*\"360\" + 0.116*\"13\"'),\n",
       " (114,\n",
       "  u'-0.158*\"cba\" + -0.144*\"200\" + -0.131*\"25\" + -0.127*\"20170105\" + -0.124*\"360\" + 0.119*\"18\" + 0.113*\"41\" + 0.112*\"20170109\" + -0.111*\"35\" + -0.108*\"mvp\"'),\n",
       " (115,\n",
       "  u'0.279*\"20170114\" + -0.180*\"top\" + 0.147*\"1111\" + -0.145*\"20170115\" + 0.137*\"154\" + 0.136*\"5617\" + -0.133*\"14\" + 0.132*\"119\" + -0.131*\"86551651798688655165179878\" + 0.130*\"15\"'),\n",
       " (116,\n",
       "  u'0.328*\"top\" + 0.208*\"17\" + -0.189*\"360\" + 0.135*\"lbj\" + 0.131*\"51\" + -0.125*\"35\" + -0.120*\"81250062\" + -0.114*\"cp\" + 0.113*\"2013\" + -0.107*\"ac\"'),\n",
       " (117,\n",
       "  u'0.249*\"app\" + -0.227*\"20161209\" + 0.226*\"cba\" + 0.162*\"vs\" + 0.160*\"vr\" + -0.150*\"20170111\" + 0.123*\"vip\" + 0.122*\"mvp\" + 0.112*\"15\" + 0.105*\"24\"'),\n",
       " (118,\n",
       "  u'-0.219*\"18\" + 0.213*\"40\" + -0.211*\"20170114\" + -0.171*\"20170105\" + 0.161*\"123\" + -0.154*\"top\" + 0.148*\"14\" + 0.128*\"20170111\" + 0.126*\"cba\" + -0.125*\"19\"'),\n",
       " (119,\n",
       "  u'-0.306*\"top\" + -0.191*\"kd\" + -0.173*\"20170106\" + 0.144*\"14\" + -0.138*\"12\" + 0.137*\"200\" + -0.116*\"160\" + 0.114*\"lbj\" + 0.112*\"150\" + -0.110*\"111\"'),\n",
       " (120,\n",
       "  u'0.237*\"360\" + -0.236*\"14\" + 0.182*\"20170114\" + -0.168*\"2008\" + 0.160*\"35\" + -0.131*\"20170105\" + 0.123*\"kd\" + 0.116*\"ta\" + -0.114*\"25\" + -0.112*\"20170115\"'),\n",
       " (121,\n",
       "  u'0.280*\"20170114\" + 0.234*\"20161209\" + -0.140*\"2011\" + -0.135*\"10\" + -0.128*\"200\" + -0.126*\"20170115\" + 0.124*\"2010\" + -0.121*\"20161226\" + 0.120*\"300\" + -0.117*\"315\"'),\n",
       " (122,\n",
       "  u'0.178*\"150\" + -0.159*\"95\" + 0.153*\"17\" + -0.152*\"200\" + 0.146*\"315\" + -0.142*\"14\" + -0.138*\"pk\" + 0.131*\"ta\" + 0.125*\"25\" + -0.111*\"boy\"'),\n",
       " (123,\n",
       "  u'-0.207*\"19\" + -0.196*\"app\" + 0.178*\"20170111\" + -0.153*\"200\" + 0.151*\"1438\" + 0.143*\"21\" + 0.139*\"81250062\" + 0.128*\"alphago\" + 0.126*\"23\" + 0.121*\"227\"'),\n",
       " (124,\n",
       "  u'-0.155*\"0124\" + 0.146*\"anhuiu2008126com\" + 0.146*\"18\" + -0.141*\"84000\" + -0.133*\"icp08007183\" + 0.132*\"top\" + 0.130*\"0114\" + -0.126*\"19\" + -0.124*\"20161209\" + -0.119*\"vs\"'),\n",
       " (125,\n",
       "  u'-0.211*\"top\" + 0.193*\"20170106\" + 0.185*\"101\" + 0.171*\"20170111\" + -0.168*\"19\" + 0.158*\"cba\" + -0.140*\"app\" + 0.127*\"84000\" + 0.123*\"200\" + -0.116*\"20170110\"'),\n",
       " (126,\n",
       "  u'0.335*\"20161209\" + 0.193*\"top\" + -0.188*\"2000\" + 0.154*\"kd\" + -0.152*\"20161226\" + 0.127*\"cba\" + 0.127*\"360\" + 0.115*\"english\" + -0.114*\"13\" + -0.114*\"app\"'),\n",
       " (127,\n",
       "  u'0.164*\"anhuiu2008126com\" + 0.141*\"pk\" + 0.136*\"20170110\" + -0.124*\"2008\" + -0.123*\"20170109\" + 0.119*\"20161220\" + -0.118*\"20161226\" + 0.117*\"030106\" + 0.114*\"95\" + -0.112*\"5a\"'),\n",
       " (128,\n",
       "  u'0.202*\"app\" + -0.197*\"0124\" + -0.171*\"english\" + 0.167*\"kb\" + -0.161*\"sina\" + 0.155*\"0115\" + 0.126*\"360\" + -0.125*\"4006900000\" + -0.118*\"blog\" + -0.116*\"corporation\"'),\n",
       " (129,\n",
       "  u'-0.200*\"vs\" + -0.172*\"14\" + 0.171*\"21\" + -0.151*\"vr\" + -0.126*\"40\" + 0.120*\"ta\" + -0.117*\"top\" + 0.110*\"20170105\" + -0.104*\"35\" + 0.103*\"300\"'),\n",
       " (130,\n",
       "  u'-0.228*\"95\" + -0.180*\"18\" + -0.174*\"0124\" + 0.149*\"200\" + -0.144*\"kd\" + 0.142*\"0115\" + -0.140*\"12\" + 0.138*\"1963\" + -0.136*\"315\" + 0.126*\"kb\"'),\n",
       " (131,\n",
       "  u'0.203*\"17\" + 0.185*\"20170109\" + -0.175*\"pk\" + 0.145*\"app\" + -0.136*\"21\" + -0.134*\"pc\" + -0.132*\"315\" + -0.131*\"vs\" + -0.130*\"channelid\" + -0.119*\"14\"'),\n",
       " (132,\n",
       "  u'0.177*\"20170111\" + -0.172*\"20170109\" + -0.170*\"21\" + 0.169*\"20161226\" + -0.154*\"20170103\" + 0.139*\"19\" + -0.135*\"app\" + 0.132*\"030106\" + -0.131*\"315\" + -0.127*\"23\"'),\n",
       " (133,\n",
       "  u'0.190*\"19\" + -0.166*\"vr\" + 0.139*\"2000\" + 0.134*\"34\" + -0.131*\"21\" + -0.126*\"123\" + 0.117*\"mv\" + -0.115*\"0124\" + -0.112*\"45\" + -0.111*\"pc\"'),\n",
       " (134,\n",
       "  u'-0.211*\"14\" + -0.152*\"cba\" + -0.152*\"0124\" + 0.143*\"101\" + 0.141*\"20170104\" + 0.136*\"0115\" + -0.133*\"150\" + 0.133*\"kb\" + -0.127*\"ahnewsapp163com\" + -0.127*\"ahnewsapp\"'),\n",
       " (135,\n",
       "  u'0.190*\"2060\" + -0.172*\"315\" + 0.172*\"14\" + -0.162*\"200\" + 0.142*\"030106\" + 0.141*\"111\" + -0.131*\"2008\" + -0.124*\"cba\" + 0.111*\"office\" + 0.105*\"icp\"'),\n",
       " (136,\n",
       "  u'-0.219*\"ta\" + 0.199*\"sm\" + 0.185*\"xxl\" + -0.169*\"lelo\" + 0.139*\"2004100202349\" + 0.130*\"2060\" + 0.121*\"1963\" + 0.119*\"cctvcctv5\" + 0.113*\"vr\" + -0.113*\"20161226\"'),\n",
       " (137,\n",
       "  u'0.227*\"vs\" + -0.226*\"2060\" + 0.175*\"315\" + 0.146*\"2000\" + -0.132*\"office\" + 0.119*\"god\" + 0.117*\"vip\" + 0.116*\"4008606961\" + -0.108*\"300\" + -0.107*\"1963\"'),\n",
       " (138,\n",
       "  u'-0.233*\"1963\" + -0.212*\"150\" + 0.166*\"20170110\" + 0.157*\"nuonuo180sinacom\" + 0.133*\"360\" + -0.127*\"kd\" + 0.123*\"f1\" + 0.118*\"38\" + 0.116*\"51\" + 0.114*\"gifc\"'),\n",
       " (139,\n",
       "  u'0.186*\"23\" + -0.162*\"34\" + 0.156*\"111\" + -0.133*\"20170109\" + -0.124*\"360\" + 0.116*\"4008606961\" + -0.106*\"2060\" + -0.106*\"dj\" + -0.105*\"2000\" + 0.104*\"17\"'),\n",
       " (140,\n",
       "  u'0.188*\"23\" + -0.180*\"20170103\" + -0.165*\"21\" + -0.159*\"160\" + -0.154*\"vs\" + 0.124*\"20170110\" + -0.123*\"4008606961\" + 0.121*\"cba\" + -0.102*\"20170104\" + 0.098*\"95\"'),\n",
       " (141,\n",
       "  u'0.230*\"21\" + -0.215*\"360\" + -0.204*\"23\" + -0.177*\"1963\" + 0.155*\"20170109\" + 0.148*\"angelababy\" + -0.139*\"20170103\" + -0.135*\"cctvcom\" + -0.133*\"pk\" + -0.131*\"80\"'),\n",
       " (142,\n",
       "  u'-0.254*\"vs\" + 0.221*\"ahnewsapp163com\" + 0.221*\"ahnewsapp\" + -0.163*\"1963\" + 0.162*\"111\" + -0.152*\"101\" + -0.150*\"20170106\" + -0.132*\"4008606961\" + 0.127*\"nuonuo180sinacom\" + 0.121*\"51\"'),\n",
       " (143,\n",
       "  u'0.288*\"4008606961\" + -0.225*\"ahnewsapp\" + -0.225*\"ahnewsapp163com\" + 0.192*\"9001800\" + 0.175*\"vr\" + 0.165*\"20170110\" + -0.160*\"vs\" + -0.153*\"20170111\" + 0.119*\"icp140216841\" + 0.109*\"product\"'),\n",
       " (144,\n",
       "  u'-0.182*\"4008606961\" + -0.158*\"2000\" + -0.154*\"2013\" + -0.148*\"english\" + -0.141*\"kd\" + -0.130*\"vs\" + -0.130*\"21\" + 0.127*\"51\" + -0.123*\"9001800\" + -0.122*\"20170105\"'),\n",
       " (145,\n",
       "  u'0.327*\"4008606961\" + 0.232*\"ahnewsapp163com\" + 0.232*\"ahnewsapp\" + 0.221*\"9001800\" + 0.182*\"2060\" + 0.138*\"icp140216841\" + 0.135*\"360\" + 0.127*\"product\" + -0.110*\"20170110\" + -0.104*\"ac\"'),\n",
       " (146,\n",
       "  u'0.188*\"ta\" + 0.170*\"angelababy\" + 0.163*\"20170103\" + -0.158*\"2060\" + -0.157*\"app\" + -0.151*\"2000\" + 0.142*\"cctvcctv5\" + 0.125*\"cctvcctv5cctvcom\" + -0.112*\"101\" + 0.107*\"38\"'),\n",
       " (147,\n",
       "  u'-0.240*\"vs\" + -0.202*\"ta\" + 0.172*\"ahnewsapp\" + 0.172*\"ahnewsapp163com\" + 0.170*\"2000\" + 0.155*\"1963\" + -0.149*\"51\" + -0.126*\"200\" + -0.110*\"20161220\" + -0.104*\"nuonuo180sinacom\"'),\n",
       " (148,\n",
       "  u'0.217*\"1963\" + -0.209*\"vr\" + -0.193*\"nuonuo180sinacom\" + 0.144*\"14\" + -0.136*\"17\" + 0.130*\"ta\" + -0.128*\"2060\" + 0.124*\"dj\" + 0.119*\"360\" + 0.111*\"20170109\"'),\n",
       " (149,\n",
       "  u'-0.224*\"ta\" + -0.206*\"ahnewsapp163com\" + -0.206*\"ahnewsapp\" + -0.174*\"20170106\" + -0.147*\"4008606961\" + 0.147*\"20170105\" + 0.105*\"max\" + -0.101*\"9001800\" + 0.098*\"123\" + -0.098*\"00\"'),\n",
       " (150,\n",
       "  u'-0.257*\"360\" + -0.165*\"45\" + -0.161*\"95\" + 0.132*\"f1\" + -0.129*\"vs\" + 0.119*\"40\" + 0.119*\"20161026\" + 0.116*\"20170111\" + 0.115*\"203079\" + -0.114*\"20161226\"'),\n",
       " (151,\n",
       "  u'-0.343*\"f1\" + -0.296*\"20161026\" + 0.141*\"cba\" + -0.129*\"2000\" + -0.123*\"20170106\" + -0.117*\"23\" + 0.115*\"ta\" + 0.107*\"20170103\" + 0.106*\"20161209\" + 0.106*\"120\"'),\n",
       " (152,\n",
       "  u'0.261*\"vs\" + -0.200*\"45\" + -0.177*\"ta\" + 0.148*\"ahnewsapp\" + 0.148*\"ahnewsapp163com\" + 0.134*\"kd\" + -0.129*\"2060\" + -0.128*\"mvp\" + 0.125*\"20170110\" + -0.122*\"20161212\"'),\n",
       " (153,\n",
       "  u'0.187*\"2060\" + -0.186*\"vr\" + -0.172*\"f1\" + 0.158*\"45\" + -0.158*\"ta\" + -0.149*\"20161026\" + -0.138*\"1963\" + 0.138*\"nuonuo180sinacom\" + -0.127*\"111\" + -0.115*\"20080314\"'),\n",
       " (154,\n",
       "  u'0.185*\"45\" + -0.174*\"21\" + -0.166*\"65\" + -0.165*\"41\" + 0.149*\"angelababy\" + 0.147*\"34\" + 0.143*\"f1\" + 0.136*\"kd\" + 0.127*\"ahnewsapp\" + 0.127*\"ahnewsapp163com\"'),\n",
       " (155,\n",
       "  u'0.191*\"gifc\" + 0.142*\"14\" + -0.127*\"ahnewsapp\" + -0.127*\"ahnewsapp163com\" + -0.124*\"4a\" + 0.119*\"99\" + -0.117*\"vs\" + 0.115*\"cba\" + 0.115*\"kd\" + 0.114*\"48\"'),\n",
       " (156,\n",
       "  u'0.187*\"ta\" + -0.165*\"20170111\" + 0.141*\"angelababy\" + 0.141*\"phpwind\" + -0.133*\"51\" + 0.129*\"2060\" + 0.124*\"cba\" + 0.120*\"gifc\" + -0.118*\"2009\" + 0.114*\"36\"'),\n",
       " (157,\n",
       "  u'0.196*\"20170110\" + 0.152*\"vs\" + -0.138*\"19\" + -0.138*\"23\" + 0.138*\"24\" + -0.138*\"175\" + 0.128*\"kd\" + -0.127*\"48\" + -0.124*\"73\" + 0.120*\"26\"'),\n",
       " (158,\n",
       "  u'-0.200*\"20170111\" + 0.175*\"35\" + 0.157*\"41\" + 0.145*\"65\" + -0.141*\"111\" + 0.134*\"315\" + 0.129*\"angelababy\" + 0.126*\"93\" + 0.116*\"5a\" + 0.115*\"2060\"'),\n",
       " (159,\n",
       "  u'0.270*\"315\" + 0.236*\"f1\" + 0.204*\"20161026\" + 0.158*\"2060\" + -0.152*\"20170110\" + 0.142*\"god\" + -0.135*\"8080\" + 0.135*\"48\" + 0.133*\"20161209\" + -0.126*\"45\"'),\n",
       " (160,\n",
       "  u'0.170*\"20170103\" + 0.162*\"ta\" + -0.160*\"360\" + -0.127*\"ac\" + -0.119*\"12\" + 0.119*\"kd\" + 0.117*\"315\" + 0.112*\"500\" + -0.109*\"20161226\" + 0.108*\"22\"'),\n",
       " (161,\n",
       "  u'0.178*\"45\" + -0.163*\"36\" + 0.157*\"2000\" + -0.148*\"2009\" + -0.141*\"34\" + -0.140*\"2010\" + -0.135*\"122\" + -0.128*\"227\" + 0.116*\"ahnewsapp\" + 0.116*\"ahnewsapp163com\"'),\n",
       " (162,\n",
       "  u'-0.217*\"315\" + -0.160*\"2060\" + 0.140*\"20170116\" + 0.129*\"20161209\" + 0.129*\"93\" + 0.126*\"vr\" + -0.124*\"23\" + 0.122*\"17\" + -0.120*\"god\" + -0.117*\"vip\"'),\n",
       " (163,\n",
       "  u'-0.181*\"ta\" + -0.176*\"34\" + -0.142*\"23\" + 0.132*\"500\" + -0.123*\"65\" + -0.123*\"2010\" + 0.120*\"icp10003349\" + 0.120*\"loong666com\" + 0.120*\"ipanda\" + 0.119*\"26\"'),\n",
       " (164,\n",
       "  u'0.247*\"f1\" + 0.160*\"20161026\" + 0.145*\"20170104\" + -0.137*\"20161028\" + -0.128*\"alphago\" + -0.127*\"34\" + 0.120*\"14\" + -0.116*\"111\" + -0.115*\"300\" + 0.109*\"20170110\"'),\n",
       " (165,\n",
       "  u'0.172*\"vr\" + -0.144*\"mv\" + -0.125*\"20170103\" + 0.124*\"45\" + -0.123*\"20161219\" + 0.118*\"loong666com\" + -0.118*\"2000c\" + 0.117*\"phpwind\" + -0.112*\"qcxxb163com\" + -0.111*\"228\"'),\n",
       " (166,\n",
       "  u'0.177*\"loong666com\" + -0.176*\"20161212\" + 0.157*\"phpwind\" + -0.145*\"122\" + -0.139*\"vr\" + -0.139*\"mvp\" + -0.137*\"17\" + -0.125*\"26\" + 0.106*\"cba\" + 0.101*\"20161229\"'),\n",
       " (167,\n",
       "  u'-0.203*\"phpwind\" + 0.189*\"45\" + -0.151*\"2000\" + -0.142*\"41\" + 0.137*\"1938\" + -0.124*\"loong666com\" + -0.122*\"mv\" + -0.120*\"33\" + 0.118*\"34\" + -0.117*\"mvp\"'),\n",
       " (168,\n",
       "  u'-0.194*\"20170103\" + -0.178*\"ta\" + 0.151*\"phpwind\" + -0.145*\"18\" + 0.134*\"20170109\" + -0.130*\"vr\" + 0.130*\"20170104\" + 0.127*\"cctvcom\" + 0.122*\"loong666com\" + 0.122*\"93\"'),\n",
       " (169,\n",
       "  u'-0.277*\"055162877581\" + 0.225*\"phpwind\" + -0.178*\"230001\" + 0.177*\"loong666com\" + 0.143*\"51\" + -0.138*\"icp120110721\" + -0.129*\"272\" + 0.121*\"20161227\" + -0.116*\"112\" + -0.109*\"20170116\"'),\n",
       " (170,\n",
       "  u'0.244*\"45\" + -0.175*\"500\" + -0.134*\"33\" + 0.133*\"35\" + -0.133*\"2000\" + -0.131*\"38\" + -0.124*\"29\" + 0.124*\"4a\" + 0.121*\"300\" + 0.115*\"22\"'),\n",
       " (171,\n",
       "  u'0.249*\"041026\" + 0.184*\"041025\" + -0.182*\"phpwind\" + -0.181*\"35\" + 0.150*\"500\" + 0.137*\"055162877581\" + 0.130*\"20161219\" + 0.125*\"loong666com\" + -0.113*\"45\" + -0.111*\"20170103\"'),\n",
       " (172,\n",
       "  u'0.414*\"phpwind\" + 0.373*\"041026\" + 0.276*\"041025\" + 0.150*\"041019\" + 0.137*\"055162877581\" + 0.113*\"mv\" + 0.111*\"041027\" + 0.111*\"34\" + -0.105*\"ta\" + 0.099*\"041013\"'),\n",
       " (173,\n",
       "  u'0.277*\"055162877581\" + -0.208*\"phpwind\" + 0.159*\"45\" + 0.159*\"230001\" + 0.152*\"chinascenic\" + 0.151*\"34\" + -0.147*\"20170116\" + -0.142*\"38\" + 0.138*\"icp120110721\" + 0.133*\"272\"'),\n",
       " (174,\n",
       "  u'-0.162*\"055162877581\" + -0.154*\"123\" + 0.145*\"500\" + 0.135*\"00\" + -0.127*\"65\" + 0.122*\"23\" + -0.119*\"p2p\" + -0.110*\"20161227\" + -0.108*\"phpwind\" + -0.107*\"5a\"'),\n",
       " (175,\n",
       "  u'-0.369*\"055162877581\" + 0.232*\"041026\" + -0.204*\"230001\" + -0.184*\"icp120110721\" + 0.173*\"041025\" + -0.172*\"272\" + -0.161*\"1938\" + -0.141*\"phpwind\" + -0.122*\"38\" + 0.096*\"041019\"'),\n",
       " (176,\n",
       "  u'-0.457*\"phpwind\" + 0.232*\"loong666com\" + 0.162*\"041026\" + -0.150*\"500\" + -0.137*\"qcxxb163com\" + -0.135*\"icp120073961\" + 0.125*\"5a\" + 0.124*\"20072014\" + 0.121*\"icp07010001\" + 0.120*\"041025\"'),\n",
       " (177,\n",
       "  u'0.292*\"vip\" + -0.251*\"chinascenic\" + 0.220*\"0116\" + 0.189*\"lofter\" + -0.157*\"0114\" + -0.152*\"vs\" + -0.122*\"11010502026082\" + -0.121*\"icp10014304\" + -0.121*\"20012014\" + -0.121*\"icp090072\"'),\n",
       " (178,\n",
       "  u'0.225*\"055162877581\" + -0.207*\"vip\" + -0.139*\"45\" + -0.137*\"500\" + 0.126*\"93\" + 0.124*\"230001\" + -0.124*\"lofter\" + -0.123*\"2009\" + 0.115*\"28\" + -0.113*\"1938\"'),\n",
       " (179,\n",
       "  u'-0.376*\"1938\" + 0.176*\"5a\" + 0.168*\"chinascenic\" + 0.167*\"20170116\" + -0.166*\"20080314\" + 0.127*\"1985\" + 0.117*\"33\" + -0.113*\"227\" + -0.111*\"icp05003657\" + -0.109*\"122\"'),\n",
       " (180,\n",
       "  u'0.484*\"1938\" + 0.161*\"33\" + 0.151*\"0116\" + -0.115*\"500\" + 0.115*\"20170116\" + 0.112*\"120\" + 0.110*\"icp10003349\" + 0.110*\"ipanda\" + 0.109*\"cctvcom\" + -0.106*\"38\"'),\n",
       " (181,\n",
       "  u'0.158*\"1938\" + 0.153*\"20170103\" + -0.146*\"112\" + -0.141*\"fengsuwangcom\" + -0.141*\"icp1300407014\" + -0.139*\"20102020\" + -0.137*\"sitemap\" + -0.130*\"ppp\" + 0.123*\"vip\" + 0.122*\"0116\"'),\n",
       " (182,\n",
       "  u'0.395*\"20080314\" + -0.176*\"20081111\" + 0.161*\"icp1300407014\" + 0.161*\"fengsuwangcom\" + 0.160*\"20102020\" + 0.158*\"sitemap\" + 0.138*\"20170103\" + -0.135*\"35\" + -0.123*\"300\" + -0.118*\"chinascenic\"'),\n",
       " (183,\n",
       "  u'0.226*\"1938\" + -0.152*\"500\" + -0.134*\"120\" + 0.124*\"60\" + 0.119*\"38\" + 0.118*\"p2p\" + -0.117*\"vip\" + -0.114*\"86551651798688655165179878\" + -0.108*\"wifi\" + 0.103*\"gifc\"'),\n",
       " (184,\n",
       "  u'-0.696*\"20080314\" + 0.156*\"26\" + -0.122*\"2060\" + 0.110*\"20170103\" + 0.107*\"5000\" + 0.104*\"93\" + 0.099*\"500\" + 0.097*\"1963\" + 0.085*\"3500\" + -0.081*\"18\"'),\n",
       " (185,\n",
       "  u'-0.258*\"20080314\" + 0.218*\"0116\" + -0.186*\"0114\" + -0.167*\"35\" + -0.160*\"5000\" + -0.136*\"150\" + -0.124*\"vip\" + 0.111*\"29\" + 0.110*\"65\" + -0.104*\"phpwind\"'),\n",
       " (186,\n",
       "  u'-0.314*\"icp1300407014\" + -0.314*\"fengsuwangcom\" + -0.310*\"20102020\" + -0.307*\"sitemap\" + 0.203*\"0116\" + 0.160*\"20080314\" + 0.108*\"icp10003349\" + 0.108*\"ipanda\" + -0.099*\"88\" + -0.094*\"101\"'),\n",
       " (187,\n",
       "  u'0.201*\"5a\" + -0.173*\"icp10003349\" + -0.172*\"ipanda\" + 0.161*\"500\" + 0.148*\"20161220\" + 0.134*\"1938\" + -0.126*\"20170109\" + 0.110*\"2000\" + 0.101*\"360\" + 0.099*\"36\"'),\n",
       " (188,\n",
       "  u'-0.175*\"gifc\" + 0.173*\"20161209\" + -0.166*\"500\" + -0.154*\"20170116\" + 0.153*\"20170103\" + -0.145*\"20080314\" + -0.135*\"26\" + 0.129*\"icp1300407014\" + 0.129*\"fengsuwangcom\" + 0.127*\"20102020\"'),\n",
       " (189,\n",
       "  u'0.156*\"20170103\" + 0.150*\"38\" + -0.143*\"35\" + -0.141*\"1985\" + 0.131*\"20170116\" + -0.125*\"72\" + 0.122*\"500\" + 0.122*\"120\" + -0.119*\"vr\" + -0.116*\"mv\"'),\n",
       " (190,\n",
       "  u'0.185*\"vip\" + 0.182*\"chinascenic\" + -0.174*\"iphone7\" + -0.164*\"0114\" + 0.152*\"120\" + 0.129*\"0116\" + 0.124*\"kb\" + 0.123*\"38\" + -0.112*\"app\" + -0.111*\"33\"'),\n",
       " (191,\n",
       "  u'-0.154*\"20170103\" + 0.149*\"20161212\" + -0.132*\"61\" + 0.125*\"kd\" + 0.123*\"hold\" + 0.118*\"wifi\" + -0.114*\"34\" + 0.106*\"20170110\" + 0.103*\"45\" + 0.102*\"38\"'),\n",
       " (192,\n",
       "  u'0.200*\"0116\" + -0.176*\"vip\" + -0.138*\"icp10003349\" + -0.137*\"ipanda\" + -0.136*\"chinascenic\" + -0.119*\"0114\" + -0.116*\"20161220\" + 0.113*\"app\" + -0.107*\"93\" + 0.105*\"360\"'),\n",
       " (193,\n",
       "  u'0.264*\"0116\" + 0.241*\"20081111\" + -0.177*\"0114\" + -0.174*\"5a\" + 0.172*\"20080314\" + 0.156*\"38\" + -0.122*\"ppp\" + -0.115*\"46\" + 0.113*\"111\" + 0.111*\"300\"'),\n",
       " (194,\n",
       "  u'-0.201*\"00\" + 0.187*\"0116\" + 0.139*\"24\" + 0.136*\"20161227\" + -0.136*\"kd\" + 0.135*\"anhuiu2008126com\" + -0.135*\"5a\" + -0.112*\"20081111\" + -0.108*\"300\" + -0.106*\"34\"'),\n",
       " (195,\n",
       "  u'0.184*\"iphone7\" + -0.166*\"5a\" + -0.162*\"2009\" + 0.157*\"vip\" + 0.115*\"00\" + -0.115*\"app\" + 0.113*\"4a\" + 0.111*\"20161220\" + 0.111*\"chinascenic\" + -0.110*\"41\"'),\n",
       " (196,\n",
       "  u'-0.215*\"20081111\" + -0.184*\"26\" + 0.183*\"500\" + -0.172*\"20161227\" + -0.137*\"300\" + -0.130*\"5a\" + -0.128*\"120\" + 0.108*\"203079\" + 0.106*\"48\" + -0.102*\"g20\"'),\n",
       " (197,\n",
       "  u'-0.178*\"qq1078983702\" + -0.176*\"qqahshuhuasohucom\" + -0.176*\"icp11004941\" + -0.176*\"qq82313382\" + -0.176*\"icp07500465\" + -0.155*\"ahshuhua\" + 0.138*\"34\" + 0.125*\"33\" + 0.120*\"5a\" + -0.115*\"2009\"'),\n",
       " (198,\n",
       "  u'-0.253*\"qq1078983702\" + -0.251*\"qqahshuhuasohucom\" + -0.251*\"icp11004941\" + -0.251*\"qq82313382\" + -0.251*\"icp07500465\" + -0.223*\"ahshuhua\" + 0.155*\"0116\" + 0.139*\"26\" + -0.130*\"1985\" + -0.112*\"150\"'),\n",
       " (199,\n",
       "  u'-0.210*\"33\" + -0.194*\"120\" + 0.173*\"26\" + 0.153*\"0116\" + 0.152*\"29\" + 0.144*\"40\" + -0.138*\"20161227\" + 0.125*\"150\" + 0.115*\"20161226\" + -0.114*\"20161208\"'),\n",
       " (200,\n",
       "  u'-0.230*\"20161227\" + 0.155*\"20161226\" + 0.148*\"040618\" + -0.136*\"mv\" + 0.129*\"qq1078983702\" + -0.129*\"45\" + 0.128*\"icp07500465\" + 0.128*\"qqahshuhuasohucom\" + 0.128*\"icp11004941\" + 0.128*\"qq82313382\"'),\n",
       " (201,\n",
       "  u'-0.242*\"040618\" + -0.154*\"38\" + -0.151*\"mv\" + 0.149*\"angelababy\" + -0.129*\"120\" + -0.110*\"45\" + 0.106*\"c1\" + 0.103*\"2009\" + -0.099*\"96\" + 0.098*\"47\"'),\n",
       " (202,\n",
       "  u'-0.512*\"040618\" + -0.366*\"1985\" + -0.119*\"0851\" + -0.115*\"0917\" + -0.112*\"18401949\" + 0.110*\"mv\" + -0.108*\"19491993\" + 0.094*\"vr\" + -0.090*\"040621\" + -0.090*\"040603\"'),\n",
       " (203,\n",
       "  u'-0.481*\"1985\" + 0.270*\"040618\" + -0.147*\"18401949\" + -0.144*\"19491993\" + 0.118*\"jiathis\" + 0.113*\"20081111\" + 0.112*\"angelababy\" + 0.104*\"iphone7\" + 0.099*\"101\" + 0.097*\"20161227\"'),\n",
       " (204,\n",
       "  u'0.383*\"040618\" + -0.374*\"jiathis\" + -0.190*\"120\" + -0.164*\"20081111\" + -0.135*\"23\" + 0.102*\"qq1078983702\" + 0.101*\"icp07500465\" + 0.101*\"qq82313382\" + 0.101*\"icp11004941\" + 0.101*\"qqahshuhuasohucom\"'),\n",
       " (205,\n",
       "  u'-0.163*\"1985\" + 0.141*\"122\" + 0.136*\"20090119\" + 0.127*\"040618\" + 0.122*\"5a\" + 0.113*\"45\" + 0.106*\"120\" + 0.104*\"24\" + -0.103*\"11174\" + -0.098*\"71\"'),\n",
       " (206,\n",
       "  u'0.700*\"jiathis\" + 0.193*\"040618\" + 0.156*\"1985\" + 0.112*\"vr\" + -0.081*\"120\" + 0.079*\"wordpress\" + -0.077*\"23\" + -0.076*\"kb\" + -0.076*\"4920\" + 0.074*\"20170103\"'),\n",
       " (207,\n",
       "  u'-0.339*\"kb\" + 0.189*\"1985\" + -0.170*\"040618\" + 0.166*\"20081111\" + 0.160*\"0116\" + 0.145*\"0114\" + -0.145*\"jiathis\" + 0.126*\"20161208\" + 0.118*\"46\" + 0.113*\"20170103\"'),\n",
       " (208,\n",
       "  u'0.320*\"jiathis\" + -0.315*\"20081111\" + 0.220*\"20080327\" + -0.117*\"kb\" + 0.115*\"4920\" + -0.114*\"vr\" + 0.109*\"515\" + 0.102*\"hold\" + 0.101*\"boy\" + 0.094*\"4a\"'),\n",
       " (209,\n",
       "  u'-0.253*\"jiathis\" + 0.195*\"1985\" + 0.114*\"c1\" + -0.111*\"122\" + 0.110*\"101\" + -0.108*\"20170116\" + -0.106*\"20161229\" + 0.105*\"38\" + -0.104*\"20161215\" + -0.103*\"71\"'),\n",
       " (210,\n",
       "  u'-0.234*\"20080327\" + 0.201*\"kb\" + -0.144*\"0114\" + 0.138*\"600\" + -0.127*\"72\" + 0.123*\"20081111\" + -0.121*\"120\" + -0.113*\"2009\" + 0.110*\"1985\" + 0.104*\"20161227\"'),\n",
       " (211,\n",
       "  u'0.224*\"0116\" + -0.181*\"kb\" + 0.135*\"1985\" + -0.134*\"c1\" + 0.122*\"icp060535\" + 0.120*\"20170104\" + -0.117*\"175\" + 0.112*\"122\" + -0.109*\"178cm\" + 0.106*\"22\"'),\n",
       " (212,\n",
       "  u'-0.215*\"71\" + 0.162*\"46\" + 0.153*\"20090119\" + 0.139*\"5mvp\" + 0.133*\"150\" + -0.127*\"20170104\" + 0.126*\"20161208\" + -0.111*\"style\" + 0.109*\"20161009\" + -0.109*\"new\"'),\n",
       " (213,\n",
       "  u'0.188*\"20161208\" + 0.152*\"170113\" + -0.150*\"20081111\" + 0.145*\"170112\" + -0.136*\"new\" + -0.130*\"20161229\" + 0.122*\"170109\" + -0.121*\"34\" + 0.119*\"46\" + 0.118*\"170111\"'),\n",
       " (214,\n",
       "  u'0.409*\"20080327\" + -0.293*\"20090119\" + -0.188*\"new\" + 0.186*\"kb\" + -0.112*\"0114\" + -0.112*\"8080\" + -0.105*\"20161031\" + 0.096*\"20161009\" + 0.090*\"ppp\" + 0.090*\"nuonuo180sinacom\"'),\n",
       " (215,\n",
       "  u'0.253*\"20080327\" + -0.156*\"kb\" + -0.138*\"26\" + -0.131*\"2010\" + 0.118*\"203079\" + -0.112*\"2009\" + 0.111*\"46\" + 0.109*\"20161226\" + -0.105*\"gdp\" + -0.101*\"1985\"'),\n",
       " (216,\n",
       "  u'0.303*\"20080327\" + 0.292*\"20081111\" + 0.288*\"new\" + -0.257*\"20090119\" + -0.134*\"112\" + -0.128*\"ppp\" + -0.123*\"wwwahwhnet\" + 0.108*\"hold\" + -0.107*\"600\" + -0.105*\"tv\"'),\n",
       " (217,\n",
       "  u'-0.222*\"20080327\" + 0.165*\"101\" + 0.132*\"46\" + 0.114*\"20161208\" + 0.112*\"66\" + -0.111*\"055165179860277\" + -0.111*\"14g\" + 0.110*\"kb\" + 0.109*\"tencent\" + -0.109*\"1469\"'),\n",
       " (218,\n",
       "  u'-0.247*\"20080327\" + 0.169*\"g20\" + -0.162*\"24\" + -0.153*\"112\" + 0.127*\"ppp\" + -0.126*\"05533832219\" + -0.122*\"20081111\" + 0.110*\"ibm\" + -0.103*\"sportsanhuinewscom\" + -0.100*\"2009\"'),\n",
       " (219,\n",
       "  u'0.254*\"new\" + -0.152*\"g20\" + 0.148*\"20080327\" + 0.143*\"20161229\" + 0.140*\"00\" + -0.122*\"20161212\" + 0.120*\"2016126\" + 0.109*\"600\" + 0.097*\"111\" + 0.097*\"101\"'),\n",
       " (220,\n",
       "  u'0.297*\"g20\" + 0.166*\"20080327\" + 0.155*\"2010\" + -0.132*\"new\" + -0.123*\"wwwahwhnet\" + 0.111*\"english\" + 0.108*\"112\" + -0.098*\"1963\" + -0.097*\"3412015001\" + -0.097*\"copyright20092010\"'),\n",
       " (221,\n",
       "  u'-0.210*\"20080327\" + -0.206*\"20160823\" + -0.203*\"wwwahwhnet\" + -0.130*\"26\" + -0.112*\"2000\" + 0.107*\"5000\" + 0.104*\"112\" + -0.101*\"600\" + -0.099*\"20112015\" + -0.099*\"20081111\"'),\n",
       " (222,\n",
       "  u'0.343*\"20090119\" + -0.205*\"20080115\" + -0.199*\"20090302\" + 0.170*\"20080327\" + -0.140*\"nuonuo180sinacom\" + -0.116*\"958\" + -0.115*\"1963\" + -0.113*\"leo\" + -0.110*\"20161208\" + 0.109*\"20161212\"'),\n",
       " (223,\n",
       "  u'0.183*\"new\" + 0.144*\"42\" + -0.119*\"wwwahwhnet\" + 0.112*\"3d\" + -0.105*\"4a\" + -0.105*\"20161227\" + -0.103*\"48\" + 0.101*\"ibm\" + 0.098*\"20090302\" + -0.091*\"baby350\"'),\n",
       " (224,\n",
       "  u'0.245*\"g20\" + -0.158*\"tencent\" + 0.135*\"icp060535\" + -0.129*\"19992016\" + 0.116*\"20100622\" + -0.115*\"71\" + 0.112*\"20160823\" + 0.109*\"48\" + 0.098*\"150\" + 0.098*\"flash\"'),\n",
       " (225,\n",
       "  u'0.334*\"g20\" + 0.176*\"19992016\" + -0.112*\"wwwahwhnet\" + 0.111*\"a2b1b220090003\" + -0.106*\"72\" + -0.102*\"ibm\" + -0.102*\"20161212\" + -0.098*\"20080327\" + 0.096*\"46\" + 0.095*\"20160905\"'),\n",
       " (226,\n",
       "  u'-0.161*\"wwwahwhnet\" + -0.155*\"20080327\" + 0.148*\"00\" + -0.120*\"kb\" + 0.116*\"english\" + -0.108*\"4920\" + 0.106*\"600\" + -0.102*\"112\" + -0.101*\"gifc\" + -0.101*\"hold\"'),\n",
       " (227,\n",
       "  u'-0.220*\"wwwahwhnet\" + -0.150*\"tencent\" + 0.137*\"38\" + 0.127*\"20170104\" + 0.126*\"20081111\" + 0.120*\"20160823\" + -0.116*\"new\" + 0.115*\"4a\" + -0.114*\"20112015\" + -0.111*\"20161226\"'),\n",
       " (228,\n",
       "  u'0.182*\"tv\" + 0.155*\"19992016\" + 0.146*\"wwwahwhnet\" + -0.114*\"26\" + 0.111*\"icp110101751\" + 0.106*\"a2b1b220090003\" + -0.106*\"mv\" + -0.101*\"style\" + 0.101*\"20161215\" + -0.100*\"20090302\"'),\n",
       " (229,\n",
       "  u'0.159*\"wwwahwhnet\" + -0.145*\"kb\" + -0.134*\"20090119\" + -0.127*\"112\" + -0.118*\"ppp\" + 0.111*\"0114\" + -0.108*\"new\" + 0.105*\"20160823\" + 0.098*\"203079\" + -0.098*\"20161208\"'),\n",
       " (230,\n",
       "  u'-0.222*\"20161031\" + 0.169*\"5mvp\" + 0.156*\"20100622\" + 0.149*\"20170104\" + -0.148*\"icp060535\" + 0.139*\"20161009\" + -0.130*\"71\" + -0.127*\"g20\" + 0.126*\"48\" + 0.112*\"20090302\"'),\n",
       " (231,\n",
       "  u'0.176*\"wwwahwhnet\" + -0.170*\"055165179860277\" + -0.170*\"14g\" + -0.168*\"1469\" + -0.162*\"hfanhuinews126com\" + 0.151*\"2009\" + 0.143*\"g20\" + -0.125*\"2010\" + 0.117*\"4920\" + 0.113*\"20080115\"'),\n",
       " (232,\n",
       "  u'0.191*\"19992016\" + 0.153*\"20161212\" + -0.122*\"mv\" + 0.118*\"a2b1b220090003\" + 0.117*\"tencent\" + 0.116*\"20161031\" + 0.107*\"icp060535\" + -0.101*\"new\" + -0.099*\"tv\" + 0.098*\"4920\"'),\n",
       " (233,\n",
       "  u'-0.226*\"19992016\" + 0.158*\"4920\" + 0.148*\"515\" + -0.142*\"a2b1b220090003\" + -0.135*\"mv\" + 0.123*\"055165179860277\" + 0.122*\"14g\" + 0.121*\"1469\" + 0.117*\"hfanhuinews126com\" + -0.109*\"baby350\"'),\n",
       " (234,\n",
       "  u'-0.219*\"icp060535\" + 0.210*\"tencent\" + 0.198*\"20090302\" + -0.155*\"cctvcn\" + -0.148*\"20090119\" + 0.137*\"cctvcom\" + 0.131*\"2009\" + -0.122*\"19992016\" + 0.117*\"cntv\" + 0.113*\"20161213\"'),\n",
       " (235,\n",
       "  u'0.241*\"20100622\" + -0.193*\"20090302\" + -0.174*\"wwwahwhnet\" + -0.152*\"112\" + -0.145*\"20081111\" + 0.128*\"20090119\" + 0.118*\"20080327\" + -0.116*\"ibm\" + -0.109*\"19992016\" + -0.098*\"icp060535\"'),\n",
       " (236,\n",
       "  u'-0.699*\"20100622\" + -0.167*\"20090302\" + 0.130*\"18391993\" + 0.130*\"20080115\" + -0.127*\"2009\" + -0.086*\"71\" + 0.084*\"20090119\" + 0.083*\"20080327\" + -0.080*\"600\" + -0.077*\"20161103\"'),\n",
       " (237,\n",
       "  u'-0.387*\"20100622\" + 0.143*\"61\" + -0.142*\"20080115\" + 0.128*\"g20\" + 0.108*\"5mvp\" + -0.105*\"47\" + 0.099*\"seo\" + -0.092*\"20161229\" + 0.092*\"ibm\" + -0.091*\"20160823\"'),\n",
       " (238,\n",
       "  u'0.200*\"20090302\" + 0.178*\"18391993\" + 0.122*\"055165179860277\" + 0.122*\"14g\" + 0.122*\"1469\" + -0.118*\"20170105\" + -0.117*\"tencent\" + 0.115*\"hfanhuinews126com\" + 0.111*\"sportsanhuinewscom\" + -0.106*\"hold\"'),\n",
       " (239,\n",
       "  u'-0.148*\"g20\" + 0.138*\"13362190268\" + 0.133*\"add95\" + 0.133*\"tel13362190268\" + 0.129*\"20152017\" + 0.122*\"4920\" + -0.118*\"178cm\" + 0.117*\"515\" + 0.114*\"seo\" + 0.102*\"tv\"'),\n",
       " (240,\n",
       "  u'-0.196*\"20100622\" + -0.176*\"wwwahwhnet\" + -0.150*\"tencent\" + 0.138*\"20160823\" + -0.131*\"05533832219\" + -0.113*\"g20\" + 0.105*\"20161212\" + 0.105*\"gdp\" + 0.104*\"20161227\" + -0.102*\"20112015\"'),\n",
       " (241,\n",
       "  u'0.142*\"wwwahwhnet\" + -0.142*\"boy\" + -0.137*\"tv\" + 0.129*\"20101231a1a2a3b1b2c1c220111120111231247109009162400917924\" + 0.120*\"g20\" + 0.116*\"2016126\" + 0.115*\"20161208\" + 0.115*\"72\" + 0.115*\"61\" + -0.105*\"32\"'),\n",
       " (242,\n",
       "  u'0.191*\"icp060535\" + -0.143*\"055165179860277\" + -0.143*\"14g\" + -0.141*\"1469\" + -0.135*\"hfanhuinews126com\" + 0.133*\"lofter\" + 0.119*\"cctvcn\" + 0.112*\"20161213\" + 0.106*\"20161220\" + 0.103*\"104\"'),\n",
       " (243,\n",
       "  u'0.330*\"20090302\" + -0.191*\"13362190268\" + -0.184*\"add95\" + -0.184*\"tel13362190268\" + -0.177*\"20152017\" + -0.168*\"20080115\" + 0.150*\"leo\" + 0.149*\"20160823\" + -0.137*\"20100622\" + -0.118*\"1963\"'),\n",
       " (244,\n",
       "  u'-0.180*\"gdp\" + -0.170*\"seo\" + -0.127*\"4a\" + 0.113*\"20161229\" + -0.105*\"93713\" + -0.105*\"icp10014775\" + 0.104*\"101\" + -0.104*\"20090119\" + 0.100*\"wwwahwhnet\" + 0.092*\"tv\"'),\n",
       " (245,\n",
       "  u'-0.172*\"whisky\" + -0.169*\"vodka\" + -0.162*\"liqueur\" + -0.159*\"brandy\" + -0.158*\"absinth\" + -0.157*\"gin\" + -0.157*\"tequila\" + -0.153*\"rum\" + -0.152*\"wine\" + 0.124*\"tencent\"'),\n",
       " (246,\n",
       "  u'0.194*\"13362190268\" + 0.186*\"tel13362190268\" + 0.186*\"add95\" + 0.179*\"20152017\" + 0.165*\"20090302\" + -0.164*\"20080115\" + -0.149*\"61\" + 0.138*\"20161227\" + -0.116*\"2009\" + -0.112*\"38\"'),\n",
       " (247,\n",
       "  u'0.234*\"13362190268\" + 0.225*\"tel13362190268\" + 0.225*\"add95\" + 0.217*\"20152017\" + 0.176*\"20160823\" + 0.127*\"600\" + -0.121*\"00\" + 0.120*\"5000\" + 0.117*\"20101231a1a2a3b1b2c1c220111120111231247109009162400917924\" + 0.115*\"20080115\"'),\n",
       " (248,\n",
       "  u'-0.225*\"20160823\" + -0.170*\"2009\" + 0.156*\"18391993\" + 0.153*\"20161229\" + -0.128*\"13362190268\" + 0.127*\"20101231a1a2a3b1b2c1c220111120111231247109009162400917924\" + -0.123*\"tel13362190268\" + -0.123*\"add95\" + 0.121*\"tencent\" + -0.119*\"20152017\"'),\n",
       " (249,\n",
       "  u'-0.449*\"20080115\" + -0.312*\"20090119\" + -0.180*\"20090302\" + 0.167*\"20090211\" + 0.166*\"20090209\" + 0.122*\"20090120\" + 0.120*\"8080\" + -0.116*\"tencent\" + 0.112*\"20170105\" + -0.101*\"20161223\"'),\n",
       " (250,\n",
       "  u'0.200*\"20080115\" + -0.160*\"20160823\" + 0.134*\"600\" + 0.132*\"20170105\" + 0.130*\"178cm\" + -0.116*\"boyfriend\" + -0.114*\"20161031\" + -0.110*\"g20\" + 0.103*\"mv\" + 0.101*\"050418\"'),\n",
       " (251,\n",
       "  u'-0.181*\"18391993\" + 0.149*\"2009\" + 0.125*\"3000\" + 0.123*\"httpwwweduhbcom\" + 0.114*\"02788567712\" + 0.114*\"emailwebmastercnhubeicom\" + -0.106*\"20090302\" + 0.100*\"20080115\" + 0.093*\"wwweduhbcom\" + -0.092*\"48\"'),\n",
       " (252,\n",
       "  u'0.187*\"20160823\" + 0.185*\"20080115\" + 0.173*\"20090119\" + 0.149*\"httpwwweduhbcom\" + -0.128*\"gdp\" + 0.122*\"20170105\" + -0.120*\"20161219\" + 0.112*\"wwweduhbcom\" + 0.105*\"05533832219\" + 0.102*\"20090302\"'),\n",
       " (253,\n",
       "  u'-0.176*\"20090119\" + 0.124*\"icp060535\" + -0.124*\"865515179868865515179876865515179878\" + 0.120*\"20090209\" + -0.119*\"20161123\" + 0.114*\"20160928\" + 0.110*\"httpwwweduhbcom\" + -0.109*\"610\" + -0.108*\"09\" + 0.107*\"112\"'),\n",
       " (254,\n",
       "  u'-0.210*\"20080115\" + 0.192*\"httpwwweduhbcom\" + 0.158*\"18391993\" + 0.145*\"wwweduhbcom\" + -0.136*\"05533832219\" + -0.120*\"3000\" + 0.118*\"2020\" + 0.117*\"icp060535\" + 0.114*\"sportsanhuinewscom\" + 0.105*\"2017114\"'),\n",
       " (255,\n",
       "  u'0.200*\"tencent\" + -0.200*\"httpwwweduhbcom\" + 0.154*\"icp060535\" + -0.151*\"wwweduhbcom\" + 0.141*\"11174\" + 0.139*\"1342\" + -0.138*\"20101231a1a2a3b1b2c1c220111120111231247109009162400917924\" + -0.123*\"20090302\" + -0.118*\"20090119\" + 0.116*\"18391993\"'),\n",
       " (256,\n",
       "  u'0.232*\"20090119\" + -0.141*\"20080115\" + 0.139*\"20101231a1a2a3b1b2c1c220111120111231247109009162400917924\" + -0.135*\"20161229\" + -0.133*\"20090120\" + -0.125*\"61\" + -0.115*\"tencent\" + -0.112*\"20090209\" + 0.102*\"20170105\" + 0.101*\"325\"'),\n",
       " (257,\n",
       "  u'-0.163*\"httpwwweduhbcom\" + 0.141*\"050418\" + 0.139*\"seo\" + 0.130*\"20161209\" + 0.124*\"20101231a1a2a3b1b2c1c220111120111231247109009162400917924\" + -0.123*\"wwweduhbcom\" + 0.111*\"05613053066\" + 0.105*\"1866\" + -0.100*\"20080115\" + 0.099*\"5000\"'),\n",
       " (258,\n",
       "  u'-0.285*\"tencent\" + 0.176*\"050418\" + -0.158*\"112\" + 0.133*\"20080115\" + 0.127*\"101\" + 0.110*\"angelababy\" + -0.104*\"1998\" + 0.104*\"02788567712\" + 0.104*\"emailwebmastercnhubeicom\" + -0.099*\"0116\"'),\n",
       " (259,\n",
       "  u'0.403*\"050418\" + 0.186*\"1608\" + 0.173*\"1700\" + 0.167*\"050419\" + -0.119*\"hold\" + 0.111*\"20090302\" + 0.108*\"20170104\" + -0.102*\"55\" + -0.101*\"600\" + -0.097*\"1866\"'),\n",
       " (260,\n",
       "  u'-0.326*\"20101231a1a2a3b1b2c1c220111120111231247109009162400917924\" + -0.301*\"20080115\" + -0.207*\"05613053066\" + 0.132*\"61\" + -0.118*\"1925\" + -0.105*\"hbnewsnetall\" + -0.105*\"07004\" + -0.105*\"icp05013692\" + -0.104*\"05613053840\" + -0.104*\"05613053825\"'),\n",
       " (261,\n",
       "  u'0.387*\"050418\" + 0.187*\"tencent\" + -0.178*\"20101231a1a2a3b1b2c1c220111120111231247109009162400917924\" + 0.162*\"050419\" + 0.159*\"1700\" + 0.159*\"1608\" + -0.110*\"20161230\" + 0.109*\"20090119\" + -0.098*\"seo\" + 0.098*\"101\"'),\n",
       " (262,\n",
       "  u'-0.434*\"20101231a1a2a3b1b2c1c220111120111231247109009162400917924\" + -0.162*\"050418\" + 0.123*\"mv\" + 0.116*\"20080115\" + -0.110*\"104\" + -0.109*\"2009\" + 0.109*\"wifi\" + 0.106*\"05613053066\" + 0.099*\"2400\" + -0.093*\"48\"'),\n",
       " (263,\n",
       "  u'-0.158*\"958\" + -0.152*\"10000\" + 0.135*\"05613053066\" + -0.131*\"050418\" + -0.124*\"20090119\" + 0.115*\"20161213\" + 0.115*\"20090209\" + -0.114*\"20161230\" + 0.109*\"gdp\" + -0.106*\"nuonuo180sinacom\"'),\n",
       " (264,\n",
       "  u'-0.185*\"20160823\" + -0.171*\"20101231a1a2a3b1b2c1c220111120111231247109009162400917924\" + -0.143*\"18391993\" + 0.126*\"20161031\" + 0.118*\"20080115\" + -0.117*\"2016126\" + 0.110*\"20090411\" + -0.103*\"69\" + 0.103*\"ppp\" + 0.101*\"0115\"'),\n",
       " (265,\n",
       "  u'0.249*\"18391993\" + 0.227*\"20101231a1a2a3b1b2c1c220111120111231247109009162400917924\" + 0.153*\"tencent\" + -0.137*\"20090119\" + -0.123*\"20090302\" + 0.119*\"05533832219\" + -0.119*\"22\" + 0.114*\"20080115\" + -0.114*\"hold\" + -0.105*\"05613053066\"'),\n",
       " (266,\n",
       "  u'0.170*\"18391993\" + -0.169*\"10000\" + 0.161*\"20160823\" + -0.151*\"05613053066\" + 0.122*\"hold\" + -0.108*\"20161123\" + -0.106*\"20161214\" + -0.100*\"tencent\" + 0.095*\"angelababy\" + 0.093*\"05515179860802\"'),\n",
       " (267,\n",
       "  u'-0.186*\"958\" + 0.152*\"20160823\" + -0.144*\"1925\" + 0.138*\"20080115\" + -0.122*\"1963\" + 0.119*\"20081016\" + 0.118*\"hold\" + -0.116*\"20090119\" + -0.116*\"600\" + -0.103*\"0116\"'),\n",
       " (268,\n",
       "  u'0.171*\"lofter\" + -0.164*\"000\" + -0.136*\"050418\" + -0.118*\"20161031\" + -0.118*\"18391993\" + -0.115*\"vip\" + -0.115*\"hold\" + -0.104*\"20161102\" + -0.104*\"47\" + 0.103*\"20101231a1a2a3b1b2c1c220111120111231247109009162400917924\"'),\n",
       " (269,\n",
       "  u'-0.405*\"20101231a1a2a3b1b2c1c220111120111231247109009162400917924\" + -0.127*\"gdp\" + 0.111*\"20161230\" + 0.110*\"600\" + -0.109*\"44\" + 0.106*\"hold\" + 0.092*\"48\" + -0.089*\"mv\" + 0.088*\"798\" + -0.088*\"104\"'),\n",
       " (270,\n",
       "  u'0.171*\"20090302\" + -0.156*\"20081016\" + 0.154*\"20090211\" + 0.140*\"20090209\" + 0.134*\"20161230\" + -0.128*\"958\" + -0.125*\"050406\" + -0.108*\"10000\" + 0.107*\"8080\" + 0.104*\"tencent\"'),\n",
       " (271,\n",
       "  u'0.196*\"20101231a1a2a3b1b2c1c220111120111231247109009162400917924\" + 0.144*\"0115\" + -0.125*\"20081016\" + -0.125*\"050418\" + -0.116*\"99\" + 0.113*\"958\" + -0.111*\"0116\" + 0.103*\"20090211\" + -0.102*\"05613053066\" + -0.101*\"20161103\"'),\n",
       " (272,\n",
       "  u'0.213*\"05613053066\" + -0.141*\"honda\" + -0.137*\"2007\" + 0.134*\"0115\" + 0.122*\"20090411\" + -0.120*\"20161122\" + -0.117*\"0116\" + 0.108*\"icp05013692\" + 0.108*\"07004\" + 0.108*\"hbnewsnetall\"'),\n",
       " (273,\n",
       "  u'0.265*\"20090411\" + 0.173*\"0115\" + -0.165*\"0116\" + -0.150*\"050418\" + -0.126*\"3000\" + -0.123*\"0114\" + 0.122*\"050406\" + -0.098*\"1888\" + -0.097*\"lofter\" + -0.097*\"20090109\"'),\n",
       " (274,\n",
       "  u'-0.183*\"18391993\" + -0.181*\"20160823\" + 0.142*\"0115\" + -0.135*\"0116\" + 0.132*\"20101231a1a2a3b1b2c1c220111120111231247109009162400917924\" + -0.130*\"05613053066\" + -0.124*\"20090411\" + 0.103*\"99\" + -0.103*\"0114\" + 0.101*\"61\"'),\n",
       " (275,\n",
       "  u'0.156*\"050406\" + 0.149*\"sportsanhuinewscom\" + -0.144*\"20090411\" + -0.140*\"20101231a1a2a3b1b2c1c220111120111231247109009162400917924\" + 0.113*\"20161230\" + 0.112*\"0115\" + -0.111*\"20090211\" + 0.111*\"20090209\" + 0.100*\"20161214\" + 0.094*\"050323\"'),\n",
       " (276,\n",
       "  u'-0.134*\"20161230\" + -0.131*\"104\" + -0.127*\"1925\" + 0.127*\"20160823\" + 0.123*\"20090211\" + 0.118*\"1888\" + -0.108*\"icp060535\" + -0.106*\"000\" + -0.101*\"71\" + 0.100*\"72\"'),\n",
       " (277,\n",
       "  u'-0.216*\"0116\" + 0.199*\"0115\" + -0.131*\"0114\" + 0.120*\"05613053066\" + 0.116*\"1925\" + -0.097*\"111\" + 0.097*\"20161024\" + -0.089*\"203079\" + -0.086*\"08\" + 0.085*\"101\"'),\n",
       " (278,\n",
       "  u'0.155*\"20101231a1a2a3b1b2c1c220111120111231247109009162400917924\" + 0.150*\"050406\" + -0.140*\"104\" + -0.114*\"20161031\" + -0.090*\"20161125\" + 0.089*\"050323\" + -0.088*\"20161121\" + -0.087*\"2007\" + -0.085*\"37\" + -0.083*\"958\"'),\n",
       " (279,\n",
       "  u'0.217*\"20090211\" + -0.165*\"600\" + -0.134*\"20090411\" + -0.129*\"20161031\" + 0.128*\"104\" + -0.122*\"20081016\" + 0.117*\"20161125\" + -0.106*\"1949\" + -0.099*\"20161123\" + 0.095*\"22\"'),\n",
       " (280,\n",
       "  u'-0.241*\"20090411\" + -0.191*\"20090211\" + 0.190*\"20081016\" + -0.162*\"20160823\" + 0.159*\"honda\" + 0.115*\"678\" + 0.112*\"75\" + -0.109*\"1925\" + -0.106*\"46\" + 0.105*\"3000\"'),\n",
       " (281,\n",
       "  u'-0.184*\"20090411\" + -0.135*\"20090109\" + 0.123*\"20081016\" + -0.122*\"0116\" + -0.118*\"47\" + -0.116*\"050418\" + -0.115*\"20161213\" + -0.115*\"20161122\" + -0.099*\"20090120\" + -0.099*\"20101231a1a2a3b1b2c1c220111120111231247109009162400917924\"'),\n",
       " (282,\n",
       "  u'0.218*\"18391993\" + -0.195*\"510\" + 0.164*\"20090211\" + 0.161*\"20161224\" + -0.151*\"1020\" + 0.137*\"20160112\" + -0.136*\"honda\" + -0.131*\"ktv\" + 0.130*\"10000\" + -0.119*\"2030\"'),\n",
       " (283,\n",
       "  u'-0.252*\"20081016\" + 0.164*\"1925\" + -0.160*\"20090411\" + 0.147*\"20090211\" + 0.137*\"18391993\" + 0.131*\"1500\" + 0.120*\"lofter\" + -0.116*\"20072013\" + 0.092*\"honda\" + -0.090*\"20161224\"'),\n",
       " (284,\n",
       "  u'0.215*\"20090411\" + 0.152*\"20141113\" + 0.129*\"honda\" + 0.127*\"20141103\" + 0.124*\"gdp\" + 0.122*\"20160928\" + 0.118*\"20161230\" + 0.118*\"1925\" + 0.107*\"20141031\" + 0.100*\"20141030\"'),\n",
       " (285,\n",
       "  u'-0.205*\"18391993\" + -0.183*\"050406\" + -0.126*\"20161125\" + -0.124*\"20141113\" + -0.120*\"050323\" + -0.111*\"20141103\" + -0.105*\"20072013\" + -0.094*\"20161229\" + 0.094*\"20090109\" + -0.093*\"20161103\"'),\n",
       " (286,\n",
       "  u'0.251*\"20090211\" + -0.233*\"20090411\" + -0.148*\"10000\" + -0.140*\"325\" + -0.139*\"20090209\" + -0.120*\"2016chinajoyvr\" + -0.119*\"2020\" + -0.110*\"327\" + -0.106*\"326\" + 0.101*\"20161123\"'),\n",
       " (287,\n",
       "  u'-0.294*\"20090411\" + 0.255*\"20141113\" + 0.226*\"20141103\" + 0.180*\"20141031\" + -0.170*\"20090109\" + 0.160*\"20141030\" + -0.132*\"20090211\" + 0.128*\"20141110\" + 0.118*\"20141101\" + 0.114*\"20141106\"'),\n",
       " (288,\n",
       "  u'-0.161*\"02788567712\" + -0.161*\"emailwebmastercnhubeicom\" + 0.150*\"20081016\" + 0.130*\"20090109\" + 0.126*\"20161031\" + 0.118*\"20161122\" + -0.115*\"mp\" + -0.106*\"20090411\" + -0.102*\"20090209\" + -0.100*\"20161221\"'),\n",
       " (289,\n",
       "  u'-0.167*\"20090211\" + 0.135*\"20161219\" + -0.118*\"20081016\" + 0.101*\"20160823\" + 0.098*\"20161125\" + -0.098*\"101\" + 0.096*\"20151224\" + 0.095*\"20090411\" + 0.087*\"mp\" + 0.087*\"44\"'),\n",
       " (290,\n",
       "  u'0.145*\"050301\" + -0.144*\"20081016\" + 0.138*\"20090209\" + 0.105*\"18391993\" + 0.098*\"61\" + -0.095*\"20090109\" + 0.093*\"47\" + -0.091*\"2020\" + 0.090*\"note7\" + 0.089*\"1958\"'),\n",
       " (291,\n",
       "  u'0.168*\"20081016\" + 0.148*\"2020\" + 0.141*\"20090304\" + 0.133*\"20090211\" + -0.119*\"18391993\" + 0.117*\"1500\" + -0.115*\"20090302\" + -0.099*\"20161224\" + -0.093*\"20090209\" + -0.090*\"20072013\"'),\n",
       " (292,\n",
       "  u'-0.393*\"20090120\" + 0.279*\"20090211\" + 0.244*\"20141113\" + 0.224*\"20141103\" + 0.182*\"20141031\" + 0.160*\"cri\" + 0.156*\"20141030\" + 0.132*\"20141110\" + 0.119*\"20141101\" + 0.111*\"20141102\"'),\n",
       " (293,\n",
       "  u'0.284*\"20090120\" + 0.200*\"cri\" + -0.168*\"20090211\" + -0.132*\"lofter\" + 0.132*\"gdp\" + -0.117*\"mp\" + -0.115*\"20090109\" + -0.111*\"104\" + 0.095*\"20151224\" + 0.090*\"000\"'),\n",
       " (294,\n",
       "  u'0.209*\"20090310\" + -0.176*\"20090411\" + 0.125*\"1925\" + 0.123*\"20160928\" + -0.122*\"20090209\" + -0.110*\"20160829\" + -0.105*\"45010302000154\" + -0.097*\"050406\" + -0.093*\"lofter\" + -0.092*\"0116\"'),\n",
       " (295,\n",
       "  u'0.289*\"20090120\" + 0.194*\"20090211\" + -0.183*\"20090109\" + 0.181*\"20081016\" + -0.177*\"20090209\" + 0.146*\"10000\" + 0.145*\"mp\" + -0.127*\"20090304\" + -0.099*\"02788567712\" + -0.099*\"emailwebmastercnhubeicom\"'),\n",
       " (296,\n",
       "  u'-0.293*\"20090209\" + 0.285*\"20090120\" + 0.175*\"cri\" + 0.130*\"2020\" + 0.120*\"20161123\" + -0.114*\"7632\" + -0.112*\"20160112\" + -0.099*\"000\" + -0.092*\"20081016\" + -0.089*\"gdp\"'),\n",
       " (297,\n",
       "  u'-0.251*\"20090120\" + 0.157*\"20090209\" + 0.155*\"cri\" + -0.143*\"20141113\" + -0.135*\"20141103\" + 0.132*\"5132\" + -0.123*\"20090109\" + 0.121*\"20090211\" + -0.109*\"20141031\" + 0.102*\"20081016\"'),\n",
       " (298,\n",
       "  u'0.278*\"20090209\" + -0.184*\"20090211\" + -0.158*\"20081016\" + 0.154*\"20141113\" + 0.146*\"20141103\" + -0.146*\"cri\" + -0.129*\"lofter\" + 0.121*\"20090304\" + 0.121*\"1925\" + 0.110*\"7632\"'),\n",
       " (299,\n",
       "  u'0.282*\"20081016\" + 0.179*\"20160112\" + -0.175*\"20161123\" + 0.173*\"cri\" + 0.141*\"050301\" + -0.131*\"20090109\" + -0.105*\"5132\" + -0.090*\"050430\" + 0.087*\"2020\" + -0.087*\"mp\"')]"
      ]
     },
     "execution_count": 62,
     "metadata": {},
     "output_type": "execute_result"
    }
   ],
   "source": [
    "model.show_topics()"
   ]
  },
  {
   "cell_type": "code",
   "execution_count": 72,
   "metadata": {
    "collapsed": true
   },
   "outputs": [],
   "source": [
    "my_pickle_dump('solr_lsimodel.pkl', model)"
   ]
  },
  {
   "cell_type": "code",
   "execution_count": 49,
   "metadata": {
    "collapsed": false
   },
   "outputs": [],
   "source": [
    "lda=LdaModel(corpus_tfidf, id2word=dictionary, num_topics=15, update_every=0, passes=200)"
   ]
  },
  {
   "cell_type": "code",
   "execution_count": 50,
   "metadata": {
    "collapsed": true
   },
   "outputs": [],
   "source": [
    "my_pickle_dump('solr_lda.pkl', lda)"
   ]
  },
  {
   "cell_type": "code",
   "execution_count": 4,
   "metadata": {
    "collapsed": false
   },
   "outputs": [],
   "source": [
    "lda2 =my_pickle_load('solr_lda.pkl')"
   ]
  },
  {
   "cell_type": "code",
   "execution_count": 5,
   "metadata": {
    "collapsed": false
   },
   "outputs": [
    {
     "data": {
      "text/plain": [
       "[(0,\n",
       "  u'0.001*dmu + 0.000*lindner + 0.000*genexprotools + 0.000*equilibrium + 0.000*buscar + 0.000*para + 0.000*de + 0.000*geoda + 0.000*montfort + 0.000*compartir + 0.000*correo + 0.000*gusta + 0.000*iniciar + 0.000*jquery + 0.000*adma'),\n",
       " (1,\n",
       "  u'0.001*di + 0.001*orleans + 0.001*wppostimage + 0.001*nolacom + 0.000*classattachmentthumbnail + 0.000*timespicayune + 0.000*width150 + 0.000*classfield + 0.000*classfielditem + 0.000*classfielditemsdiv + 0.000*stylefloat + 0.000*5px + 0.000*img + 0.000*fieldlabelhiddendiv + 0.000*marginleft'),\n",
       " (2,\n",
       "  u'0.003*data + 0.002*analytics + 0.002*big + 0.001*science + 0.001*2015 + 0.001*business + 0.001*management + 0.001*blog + 0.001*services + 0.001*news + 0.001*cloud + 0.001*information + 0.001*research + 0.001*2016 + 0.001*university'),\n",
       " (3,\n",
       "  u'0.011*thinkers + 0.008*worlds + 0.005*best + 0.004*analytics + 0.004*social + 0.003*workforce + 0.003*data + 0.003*media + 0.002*cloud + 0.002*smartdata + 0.002*management + 0.002*followers + 0.002*collective + 0.002*badge + 0.002*infographics'),\n",
       " (4,\n",
       "  u'0.006*ibm + 0.004*chats + 0.003*meetups + 0.003*heroes + 0.003*big + 0.003*developers + 0.003*animations + 0.003*blog + 0.002*bytes + 0.002*analytics + 0.002*hub + 0.002*galleries + 0.002*infographics + 0.002*streaming + 0.002*podcasts'),\n",
       " (5,\n",
       "  u'0.001*div + 0.001*angoss + 0.001*saturn + 0.000*anyref + 0.000*rrelease + 0.000*def + 0.000*kinimetrix + 0.000*rolemenuitem + 0.000*roldrel + 0.000*matchit + 0.000*trueview + 0.000*ul + 0.000*itb + 0.000*helpit + 0.000*architecturecentric'),\n",
       " (6,\n",
       "  u'0.001*aitopics + 0.001*iseg + 0.001*tsg + 0.001*sdsc + 0.000*partek + 0.000*contactaaai + 0.000*19952014 + 0.000*mccombs + 0.000*hict + 0.000*navik + 0.000*body + 0.000*eaai + 0.000*bgcolorffffff + 0.000*text000000 + 0.000*proceeda'),\n",
       " (7,\n",
       "  u'0.007*verified + 0.006*account + 0.005*close + 0.004*tweets + 0.003*retweet + 0.003*tweet + 0.003*bahasa + 0.002*location + 0.002*twitter + 0.002*suggested + 0.002*searches + 0.002*techcrunch + 0.002*saved + 0.002*retweeted + 0.002*remove'),\n",
       " (8,\n",
       "  u'0.002*islands + 0.002*bayesialab + 0.001*republic + 0.001*mb + 0.001*bayesia + 0.001*kb + 0.001*saint + 0.000*guinea + 0.000*erasmus + 0.000*island + 0.000*sdiwc + 0.000*south + 0.000*officereports + 0.000*montenegro + 0.000*ncbi'),\n",
       " (9,\n",
       "  u'0.005*defines + 0.002*dobbs + 0.002*jolt + 0.001*heading + 0.001*strikethrough + 0.001*cc + 0.001*jvm + 0.001*quotation + 0.000*ng + 0.000*ending + 0.000*caption + 0.000*dundee + 0.000*hc + 0.000*slideshow + 0.000*infolink'),\n",
       " (10,\n",
       "  u'0.001*meetup + 0.001*recode + 0.001*shayari + 0.001*maptitude + 0.001*exede + 0.001*imported + 0.001*snhu + 0.001*layers + 0.001*paperity + 0.000*writers + 0.000*transmodeler + 0.000*voices + 0.000*arrowright + 0.000*aligntop + 0.000*arrowleft'),\n",
       " (11,\n",
       "  u'0.001*de + 0.001*di + 0.001*informao + 0.000*gesto + 0.000*da + 0.000*ricerca + 0.000*com + 0.000*servios + 0.000*em + 0.000*para + 0.000*sistemas + 0.000*uma + 0.000*della + 0.000*nova + 0.000*siena'),\n",
       " (12,\n",
       "  u'0.011*kdnuggets + 0.006*science + 0.005*data + 0.004*learning + 0.004*stories + 0.004*machine + 0.004*dec + 0.003*top + 0.003*central + 0.003*deep + 0.003*jan + 0.003*scientist + 0.003*mining + 0.002*tags + 0.002*webinar'),\n",
       " (13,\n",
       "  u'0.001*wordpress + 0.001*yes + 0.001*blogpostapiurlwpadminpostphpactioneditpostpostid + 0.001*imageswlwwpwatermarkpng + 0.001*imageswlwwpcommentspng + 0.001*blogpostapiurlwpadmin + 0.001*blogpostapiurlwpadmineditcommentsphp + 0.001*imageswlwwpiconpng + 0.001*dashboard + 0.001*mytools + 0.001*manageresumes + 0.001*resumesandcoverletters + 0.001*browsejobs + 0.001*managecoverletters + 0.001*studiopress'),\n",
       " (14,\n",
       "  u'0.005*de + 0.002*la + 0.002*des + 0.002*et + 0.002*les + 0.002*en + 0.001*le + 0.001*mariadb + 0.001*pour + 0.001*un + 0.001*dans + 0.001*vous + 0.001*que + 0.001*du + 0.001*paristech')]"
      ]
     },
     "execution_count": 5,
     "metadata": {},
     "output_type": "execute_result"
    }
   ],
   "source": [
    "lda2.print_topics(15, 15)"
   ]
  },
  {
   "cell_type": "code",
   "execution_count": 19,
   "metadata": {
    "collapsed": true
   },
   "outputs": [],
   "source": [
    "from sklearn.feature_extraction.text import CountVectorizer, TfidfVectorizer"
   ]
  },
  {
   "cell_type": "code",
   "execution_count": 35,
   "metadata": {
    "collapsed": true
   },
   "outputs": [],
   "source": [
    "\n",
    "articles1 = articles[:2000]\n",
    "titles1=titles[:2000]"
   ]
  },
  {
   "cell_type": "code",
   "execution_count": 36,
   "metadata": {
    "collapsed": true
   },
   "outputs": [],
   "source": [
    "queries = ['data science\\n', 'machine learning\\n', 'python\\n', 'deep learning\\n']\n",
    "\n",
    "# DO TFIDF TRANSFORMATION\n",
    "vectorizer = TfidfVectorizer(stop_words='english')\n",
    "\n",
    "vectors = vectorizer.fit_transform(articles1).toarray()\n",
    "\n"
   ]
  },
  {
   "cell_type": "code",
   "execution_count": 37,
   "metadata": {
    "collapsed": true
   },
   "outputs": [],
   "source": [
    "my_pickle_dump('solr_vectorizer.pkl', vectorizer)\n",
    "my_pickle_dump('solr_vectors.pkl', vectors)"
   ]
  },
  {
   "cell_type": "code",
   "execution_count": 38,
   "metadata": {
    "collapsed": true
   },
   "outputs": [],
   "source": [
    "def top_n(vectorizer, vectors, data, n):\n",
    "    '''\n",
    "    Print out the top 10 words by three different sorting mechanisms:\n",
    "        * average tf-idf score\n",
    "        * total tf-idf score\n",
    "        * highest TF score across corpus\n",
    "    '''\n",
    "    words = vectorizer.get_feature_names()\n",
    "\n",
    "    # Top 10 words by average tfidf\n",
    "    # Take the average of each column, denoted by axis=0\n",
    "    avg = np.sum(vectors, axis=0) / np.sum(vectors > 0, axis=0)\n",
    "    print \"top %d by average tf-idf\" % n\n",
    "    print get_top_values(avg, n, words)\n",
    "    print\n",
    "\n",
    "    # Top 10 words by total tfidf\n",
    "    total = np.sum(vectors, axis=0)\n",
    "    print \"top %d by total tf-idf\" % n\n",
    "    print get_top_values(total, n, words)\n",
    "    print\n",
    "\n",
    "    # Top 10 words by TF\n",
    "    vectorizer2 = TfidfVectorizer(use_idf=False)\n",
    "    # make documents into one giant document for this purpose\n",
    "    vectors2 = vectorizer2.fit_transform([\" \".join(data)]).toarray()\n",
    "    print \"top %d by tf across all corpus\" % n\n",
    "    print get_top_values(vectors2[0], n, words)\n",
    "    print\n",
    "\n",
    "def get_top_values(lst, n, labels):\n",
    "    '''\n",
    "    INPUT: LIST, INTEGER, LIST\n",
    "    OUTPUT: LIST\n",
    "\n",
    "    Given a list of values, find the indices with the highest n values. Return\n",
    "    the labels for each of these indices.\n",
    "\n",
    "    e.g.\n",
    "    lst = [7, 3, 2, 4, 1]\n",
    "    n = 2\n",
    "    labels = [\"cat\", \"dog\", \"mouse\", \"pig\", \"rabbit\"]\n",
    "    output: [\"cat\", \"pig\"]\n",
    "    ''' \n",
    "\n",
    "#     print \"get_top_values\", len(lst), n, len(labels)\n",
    "    \n",
    "#     seqs =  np.argsort(lst)[-1:-n-1:-1] \n",
    "#     for k in seqs:\n",
    "#         print k, labels[k]\n",
    "\n",
    "#    print 'before return 0000', len(seqs)\n",
    "        \n",
    "    ret = [labels[i] for i in np.argsort(lst)[-1:-n-1:-1]]\n",
    "\n",
    "#    print 'before return', len(ret)\n",
    "#     return [labels[i] for i in np.argsort(lst)[-1:-n-1:-1]]\n",
    "    return ret\n",
    "\n",
    "def ranking(vectorizer, vectors, titles, queries, n):\n",
    "    '''\n",
    "    Print out the top n documents for each of the queries.\n",
    "    '''\n",
    "#    print queries\n",
    "    \n",
    "    tokenized_queries = vectorizer.transform(queries)\n",
    "    cosine_similarities = linear_kernel(tokenized_queries, vectors)\n",
    "    \n",
    "#    print 'cosine', cosine_similarities\n",
    "    \n",
    "    for i, query in enumerate(queries):\n",
    "        print query\n",
    "        ret = get_top_values(cosine_similarities[i], 3, titles)\n",
    "        \n",
    "        #print \"ret len ---\", len(ret)\n",
    "        \n",
    "        for k in xrange(n):\n",
    "            print k, ret[k]\n",
    "#        print get_top_values(cosine_similarities[i], 3, titles)\n",
    "        print\n",
    "\n",
    "\n"
   ]
  },
  {
   "cell_type": "code",
   "execution_count": 39,
   "metadata": {
    "collapsed": false
   },
   "outputs": [
    {
     "name": "stdout",
     "output_type": "stream",
     "text": [
      "top 10 by average tf-idf\n",
      "[u'idiro', u'knewton', u'manta', u'cronkite', u'xs', u'iioa', u'zocdoc', u'niara', u'keylines', u'param']\n",
      "\n",
      "top 10 by total tf-idf\n",
      "[u'data', u'business', u'2015', u'analytics', u'big', u'management', u'bi', u'new', u'london', u'2014']\n",
      "\n",
      "top 10 by tf across all corpus\n",
      "[u'ti', u'andreessen', u'toying', u'oncologists', u'incumbents', u'datainnovation', u'formidables', u'itrem', u'thurrock', u'oprah']\n",
      "\n",
      "data science\n",
      "\n",
      "0 Revolutions: profiles\n",
      "1 Revolutions: random\n",
      "2 Difference between data engineers and data scientists - Data Science Central\n",
      "\n",
      "machine learning\n",
      "\n",
      "0 SIGKDD Innovation Award | Sig KDD\n",
      "1 Zeller-Michael | Sig KDD\n",
      "2 SIGKDD Curriculum Committee | Sig KDD\n",
      "\n",
      "python\n",
      "\n",
      "0 Ed Ramsden on his winning solution in SIAM SDM’11 Contest | TunedIT Data Mining Blog\n",
      "1 Revolutions: user groups\n",
      "2 Enterprise Solutions\n",
      "\n",
      "deep learning\n",
      "\n",
      "0 Privacy Policy | Adweek\n",
      "1 Events | AlchemyAPI\n",
      "2 nan\n",
      "\n"
     ]
    }
   ],
   "source": [
    "\n",
    "# FEATURE IMPORTANCES\n",
    "top_n(vectorizer, vectors, articles1, 10)\n",
    "\n",
    "# RANKING\n",
    "#ranking(vectorizer, vectors, pure_docs, get_queries('queries.txt'), 3)\n",
    "ranking(vectorizer, vectors, titles, queries, 3)\n"
   ]
  },
  {
   "cell_type": "code",
   "execution_count": 32,
   "metadata": {
    "collapsed": false
   },
   "outputs": [
    {
     "name": "stdout",
     "output_type": "stream",
     "text": [
      "<type 'numpy.ndarray'>\n"
     ]
    }
   ],
   "source": [
    "print type(vectors)"
   ]
  },
  {
   "cell_type": "code",
   "execution_count": 33,
   "metadata": {
    "collapsed": false
   },
   "outputs": [
    {
     "name": "stdout",
     "output_type": "stream",
     "text": [
      "<class 'sklearn.feature_extraction.text.TfidfVectorizer'>\n"
     ]
    }
   ],
   "source": [
    "print type(vectorizer)"
   ]
  },
  {
   "cell_type": "code",
   "execution_count": 60,
   "metadata": {
    "collapsed": false
   },
   "outputs": [
    {
     "data": {
      "text/plain": [
       "(2000, 63392)"
      ]
     },
     "execution_count": 60,
     "metadata": {},
     "output_type": "execute_result"
    }
   ],
   "source": [
    "vectors.shape"
   ]
  },
  {
   "cell_type": "code",
   "execution_count": 61,
   "metadata": {
    "collapsed": false
   },
   "outputs": [
    {
     "data": {
      "text/plain": [
       "array([ 0.,  0.,  0., ...,  0.,  0.,  0.])"
      ]
     },
     "execution_count": 61,
     "metadata": {},
     "output_type": "execute_result"
    }
   ],
   "source": [
    "vectors[0]"
   ]
  },
  {
   "cell_type": "code",
   "execution_count": null,
   "metadata": {
    "collapsed": true
   },
   "outputs": [],
   "source": []
  }
 ],
 "metadata": {
  "kernelspec": {
   "display_name": "Python 2",
   "language": "python",
   "name": "python2"
  },
  "language_info": {
   "codemirror_mode": {
    "name": "ipython",
    "version": 2
   },
   "file_extension": ".py",
   "mimetype": "text/x-python",
   "name": "python",
   "nbconvert_exporter": "python",
   "pygments_lexer": "ipython2",
   "version": "2.7.10"
  }
 },
 "nbformat": 4,
 "nbformat_minor": 0
}
