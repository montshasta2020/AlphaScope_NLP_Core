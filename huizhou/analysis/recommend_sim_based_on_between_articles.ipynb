{
 "cells": [
  {
   "cell_type": "code",
   "execution_count": 1,
   "metadata": {
    "collapsed": true
   },
   "outputs": [],
   "source": [
    "from sklearn.feature_extraction.text import CountVectorizer\n",
    "from sklearn.feature_extraction.text import TfidfTransformer\n",
    "from sklearn.metrics.pairwise import linear_kernel\n",
    "from nltk.corpus import stopwords\n",
    "import numpy as np\n",
    "import numpy.linalg as LA\n",
    "\n",
    "from my_pickle import my_pickle_load"
   ]
  },
  {
   "cell_type": "code",
   "execution_count": 2,
   "metadata": {
    "collapsed": false
   },
   "outputs": [],
   "source": [
    "stopWords = stopwords.words('english')\n",
    "\n",
    "df = my_pickle_load('data/pkl/ds_news_dec_2015.pkl')            \n",
    "#raw_data = df['body'].values"
   ]
  },
  {
   "cell_type": "code",
   "execution_count": null,
   "metadata": {
    "collapsed": false
   },
   "outputs": [],
   "source": []
  },
  {
   "cell_type": "code",
   "execution_count": 3,
   "metadata": {
    "collapsed": false
   },
   "outputs": [
    {
     "name": "stdout",
     "output_type": "stream",
     "text": [
      "<class 'pandas.core.frame.DataFrame'>\n",
      "Int64Index: 1558 entries, 0 to 499\n",
      "Data columns (total 9 columns):\n",
      "Unnamed: 0    1558 non-null int64\n",
      "body          1558 non-null object\n",
      "domain        1558 non-null object\n",
      "dt            1558 non-null object\n",
      "from          1558 non-null object\n",
      "summary       767 non-null object\n",
      "title         1558 non-null object\n",
      "url           1558 non-null object\n",
      "body_len      1558 non-null int64\n",
      "dtypes: int64(2), object(7)\n",
      "memory usage: 121.7+ KB\n"
     ]
    }
   ],
   "source": [
    "df.info()"
   ]
  },
  {
   "cell_type": "code",
   "execution_count": 4,
   "metadata": {
    "collapsed": false
   },
   "outputs": [],
   "source": [
    "# for i in xrange(df.shape[0]):\n",
    "#     if(df.iloc[i]['body_len'] < 10):\n",
    "#         s = data\n",
    "#         soup = BeautifulSoup(s)\n",
    "#         raw_data[i] = soup.get_text()\n",
    "#         print i, len(soup.get_text())"
   ]
  },
  {
   "cell_type": "code",
   "execution_count": 5,
   "metadata": {
    "collapsed": false
   },
   "outputs": [],
   "source": [
    "# def clean_raw_data(data, df):\n",
    "#     for i in xrange(df.shape[0]):\n",
    "#         j = df.shape[0] - i - 1\n",
    "#         if (df.iloc[j]['body_len'] < 10):\n",
    "#             data.pop(j)"
   ]
  },
  {
   "cell_type": "code",
   "execution_count": 6,
   "metadata": {
    "collapsed": true
   },
   "outputs": [],
   "source": [
    "def clean_raw_data(df):\n",
    "    ret = []\n",
    "    for i in xrange(df.shape[0]):\n",
    "        if (df.iloc[i]['body_len'] > 10):\n",
    "            ret.append(df.iloc[i]['body'])\n",
    "    return ret"
   ]
  },
  {
   "cell_type": "code",
   "execution_count": 7,
   "metadata": {
    "collapsed": false
   },
   "outputs": [],
   "source": [
    "raw_data = clean_raw_data(df)"
   ]
  },
  {
   "cell_type": "code",
   "execution_count": 8,
   "metadata": {
    "collapsed": false
   },
   "outputs": [
    {
     "data": {
      "text/plain": [
       "1545"
      ]
     },
     "execution_count": 8,
     "metadata": {},
     "output_type": "execute_result"
    }
   ],
   "source": [
    "len(raw_data)"
   ]
  },
  {
   "cell_type": "code",
   "execution_count": 9,
   "metadata": {
    "collapsed": false
   },
   "outputs": [],
   "source": [
    "ret = df.body_len.value_counts()"
   ]
  },
  {
   "cell_type": "code",
   "execution_count": 10,
   "metadata": {
    "collapsed": false
   },
   "outputs": [],
   "source": [
    "train_set = raw_data[:-3]\n",
    "test_set = raw_data[-3:]"
   ]
  },
  {
   "cell_type": "code",
   "execution_count": 11,
   "metadata": {
    "collapsed": false
   },
   "outputs": [
    {
     "data": {
      "text/plain": [
       "(1542, 3)"
      ]
     },
     "execution_count": 11,
     "metadata": {},
     "output_type": "execute_result"
    }
   ],
   "source": [
    "len(train_set), len(test_set)"
   ]
  },
  {
   "cell_type": "code",
   "execution_count": 12,
   "metadata": {
    "collapsed": false
   },
   "outputs": [
    {
     "name": "stdout",
     "output_type": "stream",
     "text": [
      "train vector len 1542\n",
      "tfidf len 1542\n"
     ]
    }
   ],
   "source": [
    "vectorizer = CountVectorizer(stop_words = stopWords)\n",
    "#print vectorizer\n",
    "transformer = TfidfTransformer()\n",
    "#print transformer\n",
    "\n",
    "trainVectorizerArray = vectorizer.fit_transform(train_set).toarray()\n",
    "print \"train vector len\", len(trainVectorizerArray)\n",
    "#testVectorizerArray = vectorizer.transform(test_set).toarray()\n",
    "#print 'Fit Vectorizer to train set', trainVectorizerArray\n",
    "#print 'Transform Vectorizer to test set', testVectorizerArray\n",
    "\n",
    "transformer.fit(trainVectorizerArray)\n",
    "# print\n",
    "tfidf = transformer.transform(trainVectorizerArray).toarray()\n",
    "\n",
    "print \"tfidf len\", len(tfidf)\n",
    "\n",
    "# transformer.fit(testVectorizerArray)\n",
    "# print \n",
    "#tfidf = transformer.transform(testVectorizerArray)\n",
    "#print tfidf.todense()"
   ]
  },
  {
   "cell_type": "code",
   "execution_count": 13,
   "metadata": {
    "collapsed": false
   },
   "outputs": [
    {
     "data": {
      "text/plain": [
       "(1542, 42202)"
      ]
     },
     "execution_count": 13,
     "metadata": {},
     "output_type": "execute_result"
    }
   ],
   "source": [
    "trainVectorizerArray.shape"
   ]
  },
  {
   "cell_type": "code",
   "execution_count": 14,
   "metadata": {
    "collapsed": false
   },
   "outputs": [
    {
     "data": {
      "text/plain": [
       "(1542, 42202)"
      ]
     },
     "execution_count": 14,
     "metadata": {},
     "output_type": "execute_result"
    }
   ],
   "source": [
    "tfidf.shape"
   ]
  },
  {
   "cell_type": "code",
   "execution_count": 15,
   "metadata": {
    "collapsed": false
   },
   "outputs": [
    {
     "name": "stdout",
     "output_type": "stream",
     "text": [
      "[  0  22 204 884 371]\n"
     ]
    }
   ],
   "source": [
    "cosine_similarities = linear_kernel(tfidf[0:1], tfidf).flatten()\n",
    "print np.argsort(cosine_similarities)[-5:][::-1]"
   ]
  },
  {
   "cell_type": "code",
   "execution_count": 16,
   "metadata": {
    "collapsed": false
   },
   "outputs": [
    {
     "data": {
      "text/plain": [
       "array([ 1.        ,  0.37484186,  0.32075608,  0.30749722,  0.30526304])"
      ]
     },
     "execution_count": 16,
     "metadata": {},
     "output_type": "execute_result"
    }
   ],
   "source": [
    "cosine_similarities[np.argsort(cosine_similarities)[-5:][::-1]]"
   ]
  },
  {
   "cell_type": "code",
   "execution_count": 17,
   "metadata": {
    "collapsed": true
   },
   "outputs": [],
   "source": [
    "vectorizer = CountVectorizer(stop_words = stopWords)\n",
    "#print vectorizer\n",
    "transformer = TfidfTransformer()"
   ]
  },
  {
   "cell_type": "code",
   "execution_count": null,
   "metadata": {
    "collapsed": true
   },
   "outputs": [],
   "source": []
  },
  {
   "cell_type": "code",
   "execution_count": null,
   "metadata": {
    "collapsed": true
   },
   "outputs": [],
   "source": []
  }
 ],
 "metadata": {
  "kernelspec": {
   "display_name": "Python 2",
   "language": "python",
   "name": "python2"
  },
  "language_info": {
   "codemirror_mode": {
    "name": "ipython",
    "version": 2
   },
   "file_extension": ".py",
   "mimetype": "text/x-python",
   "name": "python",
   "nbconvert_exporter": "python",
   "pygments_lexer": "ipython2",
   "version": "2.7.10"
  }
 },
 "nbformat": 4,
 "nbformat_minor": 0
}
