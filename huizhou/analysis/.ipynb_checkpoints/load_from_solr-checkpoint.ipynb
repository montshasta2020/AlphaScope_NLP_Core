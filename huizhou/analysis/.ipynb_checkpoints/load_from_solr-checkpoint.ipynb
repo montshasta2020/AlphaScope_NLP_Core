{
 "cells": [
  {
   "cell_type": "code",
   "execution_count": 1,
   "metadata": {
    "collapsed": true
   },
   "outputs": [],
   "source": [
    "import pandas as pd\n",
    "from urlparse import urlparse\n",
    "import tldextract"
   ]
  },
  {
   "cell_type": "code",
   "execution_count": null,
   "metadata": {
    "collapsed": false
   },
   "outputs": [],
   "source": [
    "\n",
    "parsed_uri = urlparse( 'http://stackoverflow.com/questions/1234567/blah-blah-blah-blah' )\n",
    "domain = '{uri.scheme}://{uri.netloc}/'.format(uri=parsed_uri)\n",
    "print domain\n"
   ]
  },
  {
   "cell_type": "code",
   "execution_count": null,
   "metadata": {
    "collapsed": true
   },
   "outputs": [],
   "source": []
  },
  {
   "cell_type": "code",
   "execution_count": 13,
   "metadata": {
    "collapsed": true
   },
   "outputs": [],
   "source": [
    "#url = 'http://52.10.84.130:8983/solr/collection1/select?q=*%3A*&rows=38364&wt=csv&indent=true'\n",
    "#url = 'http://52.89.48.94:8983/solr/collection1/select?q=*%3A*&rows=38364&wt=csv&indent=true'\n",
    "        "
   ]
  },
  {
   "cell_type": "code",
   "execution_count": 14,
   "metadata": {
    "collapsed": true
   },
   "outputs": [],
   "source": [
    "#df = pd.read_csv(url)"
   ]
  },
  {
   "cell_type": "code",
   "execution_count": 3,
   "metadata": {
    "collapsed": false
   },
   "outputs": [],
   "source": [
    "df = pd.read_csv('./data/nutch-crawl-huizhou-only2-01-15-2017.csv')"
   ]
  },
  {
   "cell_type": "code",
   "execution_count": 4,
   "metadata": {
    "collapsed": false
   },
   "outputs": [
    {
     "name": "stdout",
     "output_type": "stream",
     "text": [
      "<class 'pandas.core.frame.DataFrame'>\n",
      "Int64Index: 64059 entries, 0 to 64058\n",
      "Data columns (total 12 columns):\n",
      "Unnamed: 0    64059 non-null int64\n",
      "_version_     64059 non-null int64\n",
      "cache         238 non-null object\n",
      "segment       64059 non-null int64\n",
      "digest        64059 non-null object\n",
      "tstamp        64059 non-null object\n",
      "url           64059 non-null object\n",
      "anchor        11987 non-null object\n",
      "content       62062 non-null object\n",
      "id            64059 non-null object\n",
      "title         61837 non-null object\n",
      "boost         64059 non-null float64\n",
      "dtypes: float64(1), int64(3), object(8)\n",
      "memory usage: 6.4+ MB\n"
     ]
    }
   ],
   "source": [
    "df.info()"
   ]
  },
  {
   "cell_type": "code",
   "execution_count": 5,
   "metadata": {
    "collapsed": true
   },
   "outputs": [],
   "source": [
    "def get_columns():\n",
    "    return ('segment', 'digest', 'tstamp', 'url', 'domain', 'content', 'id', 'title') \n",
    "def get_empty_columns():\n",
    "    return ('', '', '', '', '', '', '', '') "
   ]
  },
  {
   "cell_type": "code",
   "execution_count": 6,
   "metadata": {
    "collapsed": false
   },
   "outputs": [],
   "source": [
    "df_new = pd.DataFrame(columns = get_columns())\n",
    "\n",
    "for i in range(0, len(df)):\n",
    "    df_new.loc[i] = get_empty_columns()\n",
    "    df_new.loc[i]['domain']  = tldextract.extract(df.loc[i]['url']).domain + str('.') + \\\n",
    "                               tldextract.extract(df.loc[i]['url']).suffix"
   ]
  },
  {
   "cell_type": "code",
   "execution_count": 18,
   "metadata": {
    "collapsed": false
   },
   "outputs": [],
   "source": [
    "df_new['segment'] = df['segment']\n",
    "df_new['digest'] = df['digest']\n",
    "df_new['content'] = df['content']\n",
    "df_new['tstamp'] = df['tstamp']\n",
    "df_new['url'] = df['url']\n",
    "df_new['id'] = df['id']\n",
    "df_new['title'] = df['title']"
   ]
  },
  {
   "cell_type": "code",
   "execution_count": 19,
   "metadata": {
    "collapsed": false
   },
   "outputs": [
    {
     "data": {
      "text/html": [
       "<div>\n",
       "<table border=\"1\" class=\"dataframe\">\n",
       "  <thead>\n",
       "    <tr style=\"text-align: right;\">\n",
       "      <th></th>\n",
       "      <th>segment</th>\n",
       "      <th>digest</th>\n",
       "      <th>tstamp</th>\n",
       "      <th>url</th>\n",
       "      <th>domain</th>\n",
       "      <th>content</th>\n",
       "      <th>id</th>\n",
       "      <th>title</th>\n",
       "      <th>digent</th>\n",
       "    </tr>\n",
       "  </thead>\n",
       "  <tbody>\n",
       "    <tr>\n",
       "      <th>0</th>\n",
       "      <td>20170115161823</td>\n",
       "      <td>924d505beb36df367bc6d9ea976b4a0a</td>\n",
       "      <td>2017-01-15T16:23:45.703Z</td>\n",
       "      <td>http://www.99huizhou.com/thread-102832-1-1.html</td>\n",
       "      <td>99huizhou.com</td>\n",
       "      <td>【视频】白岳笔会之座谈会-白岳笔会-故园徽州网 - Powered by Discuz! 故...</td>\n",
       "      <td>http://www.99huizhou.com/thread-102832-1-1.html</td>\n",
       "      <td>【视频】白岳笔会之座谈会-白岳笔会-故园徽州网 - Powered by Discuz!</td>\n",
       "      <td>924d505beb36df367bc6d9ea976b4a0a</td>\n",
       "    </tr>\n",
       "    <tr>\n",
       "      <th>1</th>\n",
       "      <td>20170115161823</td>\n",
       "      <td>35bb5fe27cecb18bbf80a0f6b370dc9c</td>\n",
       "      <td>2017-01-15T16:32:56.699Z</td>\n",
       "      <td>http://www.99huizhou.com/thread-102832-3-1.html</td>\n",
       "      <td>99huizhou.com</td>\n",
       "      <td>【视频】白岳笔会之座谈会-白岳笔会-故园徽州网 - Powered by Discuz! 故...</td>\n",
       "      <td>http://www.99huizhou.com/thread-102832-3-1.html</td>\n",
       "      <td>【视频】白岳笔会之座谈会-白岳笔会-故园徽州网 - Powered by Discuz!</td>\n",
       "      <td>35bb5fe27cecb18bbf80a0f6b370dc9c</td>\n",
       "    </tr>\n",
       "    <tr>\n",
       "      <th>2</th>\n",
       "      <td>20170115161823</td>\n",
       "      <td>24dad2f5ace944df74ff370987be0f76</td>\n",
       "      <td>2017-01-15T17:09:56.419Z</td>\n",
       "      <td>http://www.99huizhou.com/thread-108113-1-1.html</td>\n",
       "      <td>99huizhou.com</td>\n",
       "      <td>这个怎么用？ - 徽州摄影旅游群 - 故园徽州 - Powered by Discuz! 故...</td>\n",
       "      <td>http://www.99huizhou.com/thread-108113-1-1.html</td>\n",
       "      <td>这个怎么用？ - 徽州摄影旅游群 - 故园徽州 - Powered by Discuz!</td>\n",
       "      <td>24dad2f5ace944df74ff370987be0f76</td>\n",
       "    </tr>\n",
       "    <tr>\n",
       "      <th>3</th>\n",
       "      <td>20170115161823</td>\n",
       "      <td>dd936b28aff8c6946d3de234080df54c</td>\n",
       "      <td>2017-01-15T19:00:55.159Z</td>\n",
       "      <td>http://www.99huizhou.com/thread-110501-1-1.html</td>\n",
       "      <td>99huizhou.com</td>\n",
       "      <td>黄山日报：石潭摄影基地建设快速推进 - 徽州摄影旅游群 - 故园徽州 - Powered b...</td>\n",
       "      <td>http://www.99huizhou.com/thread-110501-1-1.html</td>\n",
       "      <td>黄山日报：石潭摄影基地建设快速推进 - 徽州摄影旅游群 - 故园徽州 - Powered b...</td>\n",
       "      <td>dd936b28aff8c6946d3de234080df54c</td>\n",
       "    </tr>\n",
       "    <tr>\n",
       "      <th>4</th>\n",
       "      <td>20170115161823</td>\n",
       "      <td>79700c991a9cf8cf36eec166b9e462c9</td>\n",
       "      <td>2017-01-15T16:19:47.112Z</td>\n",
       "      <td>http://www.99huizhou.com/thread-117056-1-1.html</td>\n",
       "      <td>99huizhou.com</td>\n",
       "      <td>故园徽州9月9日签到记录贴-说鳖茶馆-故园徽州网 - Powered by Discuz! ...</td>\n",
       "      <td>http://www.99huizhou.com/thread-117056-1-1.html</td>\n",
       "      <td>故园徽州9月9日签到记录贴-说鳖茶馆-故园徽州网 - Powered by Discuz!</td>\n",
       "      <td>79700c991a9cf8cf36eec166b9e462c9</td>\n",
       "    </tr>\n",
       "  </tbody>\n",
       "</table>\n",
       "</div>"
      ],
      "text/plain": [
       "          segment                            digest                    tstamp  \\\n",
       "0  20170115161823  924d505beb36df367bc6d9ea976b4a0a  2017-01-15T16:23:45.703Z   \n",
       "1  20170115161823  35bb5fe27cecb18bbf80a0f6b370dc9c  2017-01-15T16:32:56.699Z   \n",
       "2  20170115161823  24dad2f5ace944df74ff370987be0f76  2017-01-15T17:09:56.419Z   \n",
       "3  20170115161823  dd936b28aff8c6946d3de234080df54c  2017-01-15T19:00:55.159Z   \n",
       "4  20170115161823  79700c991a9cf8cf36eec166b9e462c9  2017-01-15T16:19:47.112Z   \n",
       "\n",
       "                                               url         domain  \\\n",
       "0  http://www.99huizhou.com/thread-102832-1-1.html  99huizhou.com   \n",
       "1  http://www.99huizhou.com/thread-102832-3-1.html  99huizhou.com   \n",
       "2  http://www.99huizhou.com/thread-108113-1-1.html  99huizhou.com   \n",
       "3  http://www.99huizhou.com/thread-110501-1-1.html  99huizhou.com   \n",
       "4  http://www.99huizhou.com/thread-117056-1-1.html  99huizhou.com   \n",
       "\n",
       "                                             content  \\\n",
       "0  【视频】白岳笔会之座谈会-白岳笔会-故园徽州网 - Powered by Discuz! 故...   \n",
       "1  【视频】白岳笔会之座谈会-白岳笔会-故园徽州网 - Powered by Discuz! 故...   \n",
       "2  这个怎么用？ - 徽州摄影旅游群 - 故园徽州 - Powered by Discuz! 故...   \n",
       "3  黄山日报：石潭摄影基地建设快速推进 - 徽州摄影旅游群 - 故园徽州 - Powered b...   \n",
       "4  故园徽州9月9日签到记录贴-说鳖茶馆-故园徽州网 - Powered by Discuz! ...   \n",
       "\n",
       "                                                id  \\\n",
       "0  http://www.99huizhou.com/thread-102832-1-1.html   \n",
       "1  http://www.99huizhou.com/thread-102832-3-1.html   \n",
       "2  http://www.99huizhou.com/thread-108113-1-1.html   \n",
       "3  http://www.99huizhou.com/thread-110501-1-1.html   \n",
       "4  http://www.99huizhou.com/thread-117056-1-1.html   \n",
       "\n",
       "                                               title  \\\n",
       "0       【视频】白岳笔会之座谈会-白岳笔会-故园徽州网 - Powered by Discuz!   \n",
       "1       【视频】白岳笔会之座谈会-白岳笔会-故园徽州网 - Powered by Discuz!   \n",
       "2       这个怎么用？ - 徽州摄影旅游群 - 故园徽州 - Powered by Discuz!   \n",
       "3  黄山日报：石潭摄影基地建设快速推进 - 徽州摄影旅游群 - 故园徽州 - Powered b...   \n",
       "4      故园徽州9月9日签到记录贴-说鳖茶馆-故园徽州网 - Powered by Discuz!   \n",
       "\n",
       "                             digent  \n",
       "0  924d505beb36df367bc6d9ea976b4a0a  \n",
       "1  35bb5fe27cecb18bbf80a0f6b370dc9c  \n",
       "2  24dad2f5ace944df74ff370987be0f76  \n",
       "3  dd936b28aff8c6946d3de234080df54c  \n",
       "4  79700c991a9cf8cf36eec166b9e462c9  "
      ]
     },
     "execution_count": 19,
     "metadata": {},
     "output_type": "execute_result"
    }
   ],
   "source": [
    "df_new.head()"
   ]
  },
  {
   "cell_type": "code",
   "execution_count": 20,
   "metadata": {
    "collapsed": true
   },
   "outputs": [],
   "source": [
    "df_no_dup = df_new.drop_duplicates(['url'])"
   ]
  },
  {
   "cell_type": "code",
   "execution_count": 21,
   "metadata": {
    "collapsed": true
   },
   "outputs": [],
   "source": [
    "df_no_dup = df_no_dup.dropna(subset =['content'])"
   ]
  },
  {
   "cell_type": "code",
   "execution_count": 22,
   "metadata": {
    "collapsed": false
   },
   "outputs": [],
   "source": [
    "df_final = df_no_dup[['id', 'tstamp', 'url', 'domain', 'title', 'digest', 'content']]"
   ]
  },
  {
   "cell_type": "code",
   "execution_count": 23,
   "metadata": {
    "collapsed": false
   },
   "outputs": [
    {
     "name": "stdout",
     "output_type": "stream",
     "text": [
      "<class 'pandas.core.frame.DataFrame'>\n",
      "Int64Index: 62061 entries, 0 to 64058\n",
      "Data columns (total 7 columns):\n",
      "id         62061 non-null object\n",
      "tstamp     62061 non-null object\n",
      "url        62061 non-null object\n",
      "domain     62061 non-null object\n",
      "title      61836 non-null object\n",
      "digest     62061 non-null object\n",
      "content    62061 non-null object\n",
      "dtypes: object(7)\n",
      "memory usage: 3.8+ MB\n"
     ]
    }
   ],
   "source": [
    "df_final.info()"
   ]
  },
  {
   "cell_type": "code",
   "execution_count": null,
   "metadata": {
    "collapsed": true
   },
   "outputs": [],
   "source": []
  },
  {
   "cell_type": "code",
   "execution_count": 24,
   "metadata": {
    "collapsed": false
   },
   "outputs": [],
   "source": [
    "df_final.to_csv('./data/nutch-crawl-huizhou-only2-01-15-2017-cleaned.csv', encoding='utf-8', index=False)"
   ]
  },
  {
   "cell_type": "code",
   "execution_count": 25,
   "metadata": {
    "collapsed": false
   },
   "outputs": [
    {
     "data": {
      "text/html": [
       "<div>\n",
       "<table border=\"1\" class=\"dataframe\">\n",
       "  <thead>\n",
       "    <tr style=\"text-align: right;\">\n",
       "      <th></th>\n",
       "      <th>id</th>\n",
       "      <th>tstamp</th>\n",
       "      <th>url</th>\n",
       "      <th>domain</th>\n",
       "      <th>title</th>\n",
       "      <th>digest</th>\n",
       "      <th>content</th>\n",
       "    </tr>\n",
       "  </thead>\n",
       "  <tbody>\n",
       "    <tr>\n",
       "      <th>0</th>\n",
       "      <td>http://www.99huizhou.com/thread-102832-1-1.html</td>\n",
       "      <td>2017-01-15T16:23:45.703Z</td>\n",
       "      <td>http://www.99huizhou.com/thread-102832-1-1.html</td>\n",
       "      <td>99huizhou.com</td>\n",
       "      <td>【视频】白岳笔会之座谈会-白岳笔会-故园徽州网 - Powered by Discuz!</td>\n",
       "      <td>924d505beb36df367bc6d9ea976b4a0a</td>\n",
       "      <td>【视频】白岳笔会之座谈会-白岳笔会-故园徽州网 - Powered by Discuz! 故...</td>\n",
       "    </tr>\n",
       "    <tr>\n",
       "      <th>1</th>\n",
       "      <td>http://www.99huizhou.com/thread-102832-3-1.html</td>\n",
       "      <td>2017-01-15T16:32:56.699Z</td>\n",
       "      <td>http://www.99huizhou.com/thread-102832-3-1.html</td>\n",
       "      <td>99huizhou.com</td>\n",
       "      <td>【视频】白岳笔会之座谈会-白岳笔会-故园徽州网 - Powered by Discuz!</td>\n",
       "      <td>35bb5fe27cecb18bbf80a0f6b370dc9c</td>\n",
       "      <td>【视频】白岳笔会之座谈会-白岳笔会-故园徽州网 - Powered by Discuz! 故...</td>\n",
       "    </tr>\n",
       "    <tr>\n",
       "      <th>2</th>\n",
       "      <td>http://www.99huizhou.com/thread-108113-1-1.html</td>\n",
       "      <td>2017-01-15T17:09:56.419Z</td>\n",
       "      <td>http://www.99huizhou.com/thread-108113-1-1.html</td>\n",
       "      <td>99huizhou.com</td>\n",
       "      <td>这个怎么用？ - 徽州摄影旅游群 - 故园徽州 - Powered by Discuz!</td>\n",
       "      <td>24dad2f5ace944df74ff370987be0f76</td>\n",
       "      <td>这个怎么用？ - 徽州摄影旅游群 - 故园徽州 - Powered by Discuz! 故...</td>\n",
       "    </tr>\n",
       "    <tr>\n",
       "      <th>3</th>\n",
       "      <td>http://www.99huizhou.com/thread-110501-1-1.html</td>\n",
       "      <td>2017-01-15T19:00:55.159Z</td>\n",
       "      <td>http://www.99huizhou.com/thread-110501-1-1.html</td>\n",
       "      <td>99huizhou.com</td>\n",
       "      <td>黄山日报：石潭摄影基地建设快速推进 - 徽州摄影旅游群 - 故园徽州 - Powered b...</td>\n",
       "      <td>dd936b28aff8c6946d3de234080df54c</td>\n",
       "      <td>黄山日报：石潭摄影基地建设快速推进 - 徽州摄影旅游群 - 故园徽州 - Powered b...</td>\n",
       "    </tr>\n",
       "    <tr>\n",
       "      <th>4</th>\n",
       "      <td>http://www.99huizhou.com/thread-117056-1-1.html</td>\n",
       "      <td>2017-01-15T16:19:47.112Z</td>\n",
       "      <td>http://www.99huizhou.com/thread-117056-1-1.html</td>\n",
       "      <td>99huizhou.com</td>\n",
       "      <td>故园徽州9月9日签到记录贴-说鳖茶馆-故园徽州网 - Powered by Discuz!</td>\n",
       "      <td>79700c991a9cf8cf36eec166b9e462c9</td>\n",
       "      <td>故园徽州9月9日签到记录贴-说鳖茶馆-故园徽州网 - Powered by Discuz! ...</td>\n",
       "    </tr>\n",
       "  </tbody>\n",
       "</table>\n",
       "</div>"
      ],
      "text/plain": [
       "                                                id                    tstamp  \\\n",
       "0  http://www.99huizhou.com/thread-102832-1-1.html  2017-01-15T16:23:45.703Z   \n",
       "1  http://www.99huizhou.com/thread-102832-3-1.html  2017-01-15T16:32:56.699Z   \n",
       "2  http://www.99huizhou.com/thread-108113-1-1.html  2017-01-15T17:09:56.419Z   \n",
       "3  http://www.99huizhou.com/thread-110501-1-1.html  2017-01-15T19:00:55.159Z   \n",
       "4  http://www.99huizhou.com/thread-117056-1-1.html  2017-01-15T16:19:47.112Z   \n",
       "\n",
       "                                               url         domain  \\\n",
       "0  http://www.99huizhou.com/thread-102832-1-1.html  99huizhou.com   \n",
       "1  http://www.99huizhou.com/thread-102832-3-1.html  99huizhou.com   \n",
       "2  http://www.99huizhou.com/thread-108113-1-1.html  99huizhou.com   \n",
       "3  http://www.99huizhou.com/thread-110501-1-1.html  99huizhou.com   \n",
       "4  http://www.99huizhou.com/thread-117056-1-1.html  99huizhou.com   \n",
       "\n",
       "                                               title  \\\n",
       "0       【视频】白岳笔会之座谈会-白岳笔会-故园徽州网 - Powered by Discuz!   \n",
       "1       【视频】白岳笔会之座谈会-白岳笔会-故园徽州网 - Powered by Discuz!   \n",
       "2       这个怎么用？ - 徽州摄影旅游群 - 故园徽州 - Powered by Discuz!   \n",
       "3  黄山日报：石潭摄影基地建设快速推进 - 徽州摄影旅游群 - 故园徽州 - Powered b...   \n",
       "4      故园徽州9月9日签到记录贴-说鳖茶馆-故园徽州网 - Powered by Discuz!   \n",
       "\n",
       "                             digest  \\\n",
       "0  924d505beb36df367bc6d9ea976b4a0a   \n",
       "1  35bb5fe27cecb18bbf80a0f6b370dc9c   \n",
       "2  24dad2f5ace944df74ff370987be0f76   \n",
       "3  dd936b28aff8c6946d3de234080df54c   \n",
       "4  79700c991a9cf8cf36eec166b9e462c9   \n",
       "\n",
       "                                             content  \n",
       "0  【视频】白岳笔会之座谈会-白岳笔会-故园徽州网 - Powered by Discuz! 故...  \n",
       "1  【视频】白岳笔会之座谈会-白岳笔会-故园徽州网 - Powered by Discuz! 故...  \n",
       "2  这个怎么用？ - 徽州摄影旅游群 - 故园徽州 - Powered by Discuz! 故...  \n",
       "3  黄山日报：石潭摄影基地建设快速推进 - 徽州摄影旅游群 - 故园徽州 - Powered b...  \n",
       "4  故园徽州9月9日签到记录贴-说鳖茶馆-故园徽州网 - Powered by Discuz! ...  "
      ]
     },
     "execution_count": 25,
     "metadata": {},
     "output_type": "execute_result"
    }
   ],
   "source": [
    "df_final.head()"
   ]
  },
  {
   "cell_type": "code",
   "execution_count": null,
   "metadata": {
    "collapsed": true
   },
   "outputs": [],
   "source": []
  }
 ],
 "metadata": {
  "kernelspec": {
   "display_name": "Python 2",
   "language": "python",
   "name": "python2"
  },
  "language_info": {
   "codemirror_mode": {
    "name": "ipython",
    "version": 2
   },
   "file_extension": ".py",
   "mimetype": "text/x-python",
   "name": "python",
   "nbconvert_exporter": "python",
   "pygments_lexer": "ipython2",
   "version": "2.7.10"
  }
 },
 "nbformat": 4,
 "nbformat_minor": 0
}
