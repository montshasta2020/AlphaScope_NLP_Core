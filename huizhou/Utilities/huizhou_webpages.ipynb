{
 "cells": [
  {
   "cell_type": "code",
   "execution_count": null,
   "metadata": {
    "collapsed": true
   },
   "outputs": [],
   "source": [
    "#1st run num = 633\n"
   ]
  },
  {
   "cell_type": "code",
   "execution_count": null,
   "metadata": {
    "collapsed": true
   },
   "outputs": [],
   "source": [
    "#From solr \n",
    "Counter({'ahage.net': 15827, 'anhuinews.com': 6037, '99huizhou.com': 3422, '517huizhou.com': 5})"
   ]
  },
  {
   "cell_type": "code",
   "execution_count": null,
   "metadata": {
    "collapsed": true
   },
   "outputs": [],
   "source": [
    "#Combined\n",
    "[('ahage.net', 15511), ('anhuinews.com', 4902), ('asp.', 825), ('sina.com.cn', 730), ('hzwh.com', 537), \n",
    " ('360doc.com', 413), ('chinanews.com', 372), ('xinhuanet.com', 264), ('sohu.com', 152), ('chinanews.com.cn', 141), \n",
    " ('people.com.cn', 127), ('163.com', 125), ('xinhs.cn', 121), ('ifeng.com', 121), ('hf365.com', 114), \n",
    " ('517huizhou.com', 100), ('99huizhou.com', 91), ('newshs.com', 77), ('365jia.cn', 53), ('qq.com', 48), \n",
    " ('china.com.cn', 45), ('epochtimes.com', 44), ('kaixian.tv', 35), ('ahwang.cn', 30), ('eastday.com', 26), \n",
    " ('chinaqw.com', 23), ('ah.gov.cn', 22), ('gmw.cn', 21), ('chinadaily.com.cn', 21), ('zjol.com.cn', 19), \n",
    " ('china.com', 17), ('sina.com.tw', 16), ('ce.cn', 15), ('hfhouse.com', 13), ('radiovaticana.va', 13), \n",
    " ('huaxia.com', 11), ('huanqiu.com', 10), ('xinmin.cn', 10), ('hangzhou.com.cn', 10), ('dwnews.com', 10), \n",
    " ('ahshuhua.net', 10), ('house365.com', 10), ('ntdtv.com', 9), ('cntv.cn', 9), ('winshang.com', 9), \n",
    " ('sciencenet.cn', 9), ('wehefei.com', 9), ('cri.cn', 9), ('srxww.com', 8), ('hefei.cc', 8)]\n"
   ]
  },
  {
   "cell_type": "code",
   "execution_count": null,
   "metadata": {
    "collapsed": true
   },
   "outputs": [],
   "source": [
    "#徽州吧_百度贴吧\n",
    "http://tieba.baidu.com/f?kw=%BB%D5%D6%DD&fr=ala0&tpl=5"
   ]
  },
  {
   "cell_type": "code",
   "execution_count": null,
   "metadata": {
    "collapsed": true
   },
   "outputs": [],
   "source": [
    "#徽文化_天涯论坛\n",
    "http://bbs.tianya.cn/list.jsp?item=309&nextid=1453777551000"
   ]
  },
  {
   "cell_type": "code",
   "execution_count": null,
   "metadata": {
    "collapsed": true
   },
   "outputs": [],
   "source": [
    "#天下徽州人 -- adding solr  \n",
    "http://www.guhuizhou.com/forum.php?mod=forumdisplay&fid=54"
   ]
  },
  {
   "cell_type": "code",
   "execution_count": null,
   "metadata": {
    "collapsed": true
   },
   "outputs": [],
   "source": [
    "#中安在线 (徽学， 名人， 徽菜 !!!!)\n",
    "http://cul.anhuinews.com/huix/index.shtml "
   ]
  },
  {
   "cell_type": "code",
   "execution_count": null,
   "metadata": {
    "collapsed": true
   },
   "outputs": [],
   "source": [
    "#徽州文化网 (天下徽商， 徽派建筑，雕刻， 新安医学， 徽学园圃 !!!!)\n",
    "http://www.hzwh.com/index.asp"
   ]
  },
  {
   "cell_type": "code",
   "execution_count": null,
   "metadata": {
    "collapsed": true
   },
   "outputs": [],
   "source": [
    "#徽州大论坛 （徽州大论坛，老土说徽州）\n",
    "http://www.517huizhou.com/forum.php?gid=43"
   ]
  },
  {
   "cell_type": "code",
   "execution_count": null,
   "metadata": {
    "collapsed": true
   },
   "outputs": [],
   "source": [
    "#故园徽州 （人文徽州， 徽州古村落， 寻根徽州）\n",
    "http://www.99huizhou.com"
   ]
  },
  {
   "cell_type": "code",
   "execution_count": null,
   "metadata": {
    "collapsed": true
   },
   "outputs": [],
   "source": [
    "#安徽文化网 （徽史论文 ，徽学研究，  徽史纵览， 徽史论文 !!!!）\n",
    "http://www.ahage.net/huixue/\n",
    "http://www.ahage.net/his/\n",
    "http://www.ahage.net/lunwen/index.html\n",
    "http://www.ahage.net/huidiao/index.html\n",
    "http://www.ahage.net/huiju/index.html"
   ]
  },
  {
   "cell_type": "code",
   "execution_count": null,
   "metadata": {
    "collapsed": true
   },
   "outputs": [],
   "source": [
    "#新黄山网\n",
    "http://www.xinhs.cn/toplistb.asp?id=870"
   ]
  },
  {
   "cell_type": "code",
   "execution_count": null,
   "metadata": {
    "collapsed": true
   },
   "outputs": [],
   "source": [
    "#凤凰安徽\n",
    "http://ah.ifeng.com/"
   ]
  },
  {
   "cell_type": "code",
   "execution_count": null,
   "metadata": {
    "collapsed": true
   },
   "outputs": [],
   "source": [
    "#大美黄山，古韵徽州\n",
    "http://hk.huaxia.com/hs-tw/index.html"
   ]
  },
  {
   "cell_type": "code",
   "execution_count": null,
   "metadata": {
    "collapsed": true
   },
   "outputs": [],
   "source": [
    "#精彩徽文化\n",
    "http://www.huangshan.com.tw/overall_02.aspx"
   ]
  },
  {
   "cell_type": "code",
   "execution_count": null,
   "metadata": {
    "collapsed": true
   },
   "outputs": [],
   "source": [
    "#中国华文教育网－徽文化\n",
    "http://www.hwjyw.com/zhwh/qywh/hwh/"
   ]
  },
  {
   "cell_type": "code",
   "execution_count": null,
   "metadata": {
    "collapsed": true
   },
   "outputs": [],
   "source": [
    "#最美婺源旅游网\n",
    "http://www.wuyuan168.com/huizhou/"
   ]
  },
  {
   "cell_type": "code",
   "execution_count": null,
   "metadata": {
    "collapsed": true
   },
   "outputs": [],
   "source": [
    "#黄山文化产业智能发展平台\n",
    "http://www.myhuizhou.net"
   ]
  },
  {
   "cell_type": "code",
   "execution_count": null,
   "metadata": {
    "collapsed": true
   },
   "outputs": [],
   "source": []
  },
  {
   "cell_type": "code",
   "execution_count": null,
   "metadata": {
    "collapsed": true
   },
   "outputs": [],
   "source": []
  },
  {
   "cell_type": "code",
   "execution_count": null,
   "metadata": {
    "collapsed": true
   },
   "outputs": [],
   "source": [
    "#徽州文化研究中心\n",
    "http://hwh.hsu.edu.cn"
   ]
  },
  {
   "cell_type": "code",
   "execution_count": null,
   "metadata": {
    "collapsed": true
   },
   "outputs": [],
   "source": []
  },
  {
   "cell_type": "code",
   "execution_count": null,
   "metadata": {
    "collapsed": true
   },
   "outputs": [],
   "source": []
  }
 ],
 "metadata": {
  "kernelspec": {
   "display_name": "Python 2",
   "language": "python",
   "name": "python2"
  },
  "language_info": {
   "codemirror_mode": {
    "name": "ipython",
    "version": 2
   },
   "file_extension": ".py",
   "mimetype": "text/x-python",
   "name": "python",
   "nbconvert_exporter": "python",
   "pygments_lexer": "ipython2",
   "version": "2.7.10"
  }
 },
 "nbformat": 4,
 "nbformat_minor": 2
}
