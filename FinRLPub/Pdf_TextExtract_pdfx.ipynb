{
 "cells": [
  {
   "cell_type": "code",
   "execution_count": 1,
   "id": "47a1a81e",
   "metadata": {},
   "outputs": [],
   "source": [
    "import pandas as pd\n",
    "import glob\n",
    "import os"
   ]
  },
  {
   "cell_type": "code",
   "execution_count": null,
   "id": "833aee48",
   "metadata": {},
   "outputs": [],
   "source": [
    "cnt1 = 0\n",
    "for fn in glob.glob('References_2/*.csv'):\n",
    "    df = pd.read_csv(fn)\n",
    "    if "
   ]
  },
  {
   "cell_type": "code",
   "execution_count": 2,
   "id": "53d33a56",
   "metadata": {},
   "outputs": [],
   "source": [
    "import pdfx"
   ]
  },
  {
   "cell_type": "code",
   "execution_count": 8,
   "id": "3eaece62",
   "metadata": {},
   "outputs": [],
   "source": [
    "fn = 'all_collections/Improving Deep Reinforcement Learning for Financial Trading Using Neural Network Distillation.pdf'\n",
    "\n",
    "pdf = pdfx.PDFx(fn)\n",
    "metadata = pdf.get_metadata()\n",
    "#references_list = pdf.get_references()\n",
    "references_dict = pdf.get_references_as_dict()"
   ]
  },
  {
   "cell_type": "code",
   "execution_count": 9,
   "id": "de931e42",
   "metadata": {},
   "outputs": [
    {
     "data": {
      "text/plain": [
       "{'Meeting Starting Date': '21 Sept. 2020',\n",
       " 'ModDate': \"D:20201113093611-05'00'\",\n",
       " 'Creator': \"'Certified by IEEE PDFeXpress at 07/24/2020 4:28:57 AM'\",\n",
       " 'IEEE Article ID': '9231849',\n",
       " 'Trapped': 'False',\n",
       " 'IEEE Issue ID': '9231523',\n",
       " 'CreationDate': 'D:20200724112706Z',\n",
       " 'Subject': '2020 IEEE 30th International Workshop on Machine Learning for Signal Processing (MLSP);2020; ; ;10.1109/MLSP49062.2020.9231849',\n",
       " 'Application': \"'Certified by IEEE PDFeXpress at 07/24/2020 4:28:57 AM'\",\n",
       " 'IEEE Publication ID': '9217888',\n",
       " 'Title': 'Improving Deep Reinforcement Learning for Financial Trading Using Neural Network Distillation',\n",
       " 'Meeting Ending Date': '24 Sept. 2020',\n",
       " 'Producer': 'pdfTeX-1.40.20; modified using iText® 5.5.6 ©2000-2015 iText Group NV (AGPL-version)',\n",
       " 'PTEX.Fullbanner': 'This is pdfTeX, Version 3.14159265-2.6-1.40.20 (TeX Live 2019) kpathsea version 6.3.1',\n",
       " 'rdf': {'li': 'Improving Deep Reinforcement Learning for Financial Trading Using Neural Network Distillation'},\n",
       " 'dc': {'publisher': ['IEEE'],\n",
       "  'description': {'x-repair': '2020 IEEE 30th International Workshop on Machine Learning for Signal Processing (MLSP);2020; ; ;10.1109/MLSP49062.2020.9231849'},\n",
       "  'subject': ['Deep Reinforcement Learning', 'Financial Markets', 'Trading'],\n",
       "  'title': {'x-repair': 'Improving Deep Reinforcement Learning for Financial Trading Using Neural Network Distillation'}},\n",
       " 'Pages': 6}"
      ]
     },
     "execution_count": 9,
     "metadata": {},
     "output_type": "execute_result"
    }
   ],
   "source": [
    "metadata"
   ]
  },
  {
   "cell_type": "code",
   "execution_count": 14,
   "id": "49eb1b10",
   "metadata": {},
   "outputs": [
    {
     "data": {
      "text/plain": [
       "{<pdfx.backends.Reference at 0x7fd4bab30790>,\n",
       " <pdfx.backends.Reference at 0x7fd4bab30910>,\n",
       " <pdfx.backends.Reference at 0x7fd4bab169d0>,\n",
       " <pdfx.backends.Reference at 0x7fd4bab16880>,\n",
       " <pdfx.backends.Reference at 0x7fd4bab32100>,\n",
       " <pdfx.backends.Reference at 0x7fd4bab32130>,\n",
       " <pdfx.backends.Reference at 0x7fd4bab169a0>,\n",
       " <pdfx.backends.Reference at 0x7fd4bab3dd00>,\n",
       " <pdfx.backends.Reference at 0x7fd4bab321f0>,\n",
       " <pdfx.backends.Reference at 0x7fd4bab32040>,\n",
       " <pdfx.backends.Reference at 0x7fd4bab32190>,\n",
       " <pdfx.backends.Reference at 0x7fd4babe4190>}"
      ]
     },
     "execution_count": 14,
     "metadata": {},
     "output_type": "execute_result"
    }
   ],
   "source": [
    "references_list"
   ]
  },
  {
   "cell_type": "code",
   "execution_count": null,
   "id": "3bc5b64c",
   "metadata": {},
   "outputs": [],
   "source": []
  }
 ],
 "metadata": {
  "kernelspec": {
   "display_name": "Python 3 (ipykernel)",
   "language": "python",
   "name": "python3"
  },
  "language_info": {
   "codemirror_mode": {
    "name": "ipython",
    "version": 3
   },
   "file_extension": ".py",
   "mimetype": "text/x-python",
   "name": "python",
   "nbconvert_exporter": "python",
   "pygments_lexer": "ipython3",
   "version": "3.8.10"
  }
 },
 "nbformat": 4,
 "nbformat_minor": 5
}
