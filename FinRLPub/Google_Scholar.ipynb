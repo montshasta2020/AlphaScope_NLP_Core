{
 "cells": [
  {
   "cell_type": "code",
   "execution_count": 14,
   "id": "a14ef791",
   "metadata": {},
   "outputs": [],
   "source": [
    "import pandas as pd\n",
    "import numpy as np"
   ]
  },
  {
   "cell_type": "code",
   "execution_count": 2,
   "id": "c80d77f5",
   "metadata": {},
   "outputs": [],
   "source": [
    "df = pd.read_csv('Google_Scholar/DL_Combined_From_2017.csv')"
   ]
  },
  {
   "cell_type": "code",
   "execution_count": 3,
   "id": "f24a3d1e",
   "metadata": {},
   "outputs": [
    {
     "data": {
      "text/html": [
       "<div>\n",
       "<style scoped>\n",
       "    .dataframe tbody tr th:only-of-type {\n",
       "        vertical-align: middle;\n",
       "    }\n",
       "\n",
       "    .dataframe tbody tr th {\n",
       "        vertical-align: top;\n",
       "    }\n",
       "\n",
       "    .dataframe thead th {\n",
       "        text-align: right;\n",
       "    }\n",
       "</style>\n",
       "<table border=\"1\" class=\"dataframe\">\n",
       "  <thead>\n",
       "    <tr style=\"text-align: right;\">\n",
       "      <th></th>\n",
       "      <th>Cites</th>\n",
       "      <th>Authors</th>\n",
       "      <th>Title</th>\n",
       "      <th>Year</th>\n",
       "      <th>Source</th>\n",
       "      <th>Publisher</th>\n",
       "      <th>ArticleURL</th>\n",
       "      <th>CitesURL</th>\n",
       "      <th>GSRank</th>\n",
       "      <th>QueryDate</th>\n",
       "      <th>...</th>\n",
       "      <th>StartPage</th>\n",
       "      <th>EndPage</th>\n",
       "      <th>ECC</th>\n",
       "      <th>CitesPerYear</th>\n",
       "      <th>CitesPerAuthor</th>\n",
       "      <th>AuthorCount</th>\n",
       "      <th>Age</th>\n",
       "      <th>Abstract</th>\n",
       "      <th>FullTextURL</th>\n",
       "      <th>RelatedURL</th>\n",
       "    </tr>\n",
       "  </thead>\n",
       "  <tbody>\n",
       "    <tr>\n",
       "      <th>0</th>\n",
       "      <td>492</td>\n",
       "      <td>JB Heaton, NG Polson, JH Witte</td>\n",
       "      <td>Deep learning for finance: deep portfolios</td>\n",
       "      <td>2017</td>\n",
       "      <td>Applied Stochastic Models in …</td>\n",
       "      <td>Wiley Online Library</td>\n",
       "      <td>https://onlinelibrary.wiley.com/doi/abs/10.100...</td>\n",
       "      <td>https://scholar.google.com/scholar?cites=25209...</td>\n",
       "      <td>1</td>\n",
       "      <td>2022-08-12 11:07:16</td>\n",
       "      <td>...</td>\n",
       "      <td>NaN</td>\n",
       "      <td>NaN</td>\n",
       "      <td>492</td>\n",
       "      <td>98.4</td>\n",
       "      <td>164</td>\n",
       "      <td>3</td>\n",
       "      <td>5</td>\n",
       "      <td>… deep learning hierarchical models for proble...</td>\n",
       "      <td>NaN</td>\n",
       "      <td>https://scholar.google.com/scholar?q=related:U...</td>\n",
       "    </tr>\n",
       "    <tr>\n",
       "      <th>1</th>\n",
       "      <td>154</td>\n",
       "      <td>AM Ozbayoglu, MU Gudelek, OB Sezer</td>\n",
       "      <td>Deep learning for financial applications: A su...</td>\n",
       "      <td>2020</td>\n",
       "      <td>Applied Soft Computing</td>\n",
       "      <td>Elsevier</td>\n",
       "      <td>https://www.sciencedirect.com/science/article/...</td>\n",
       "      <td>https://scholar.google.com/scholar?cites=49903...</td>\n",
       "      <td>2</td>\n",
       "      <td>2022-08-12 11:07:16</td>\n",
       "      <td>...</td>\n",
       "      <td>NaN</td>\n",
       "      <td>NaN</td>\n",
       "      <td>154</td>\n",
       "      <td>77.0</td>\n",
       "      <td>51</td>\n",
       "      <td>3</td>\n",
       "      <td>2</td>\n",
       "      <td>… Most of the papers in this survey used the t...</td>\n",
       "      <td>https://arxiv.org/pdf/2002.05786</td>\n",
       "      <td>https://scholar.google.com/scholar?q=related:W...</td>\n",
       "    </tr>\n",
       "    <tr>\n",
       "      <th>2</th>\n",
       "      <td>54</td>\n",
       "      <td>J Huang, J Chai, S Cho</td>\n",
       "      <td>Deep learning in finance and banking: A litera...</td>\n",
       "      <td>2020</td>\n",
       "      <td>Frontiers of Business Research in …</td>\n",
       "      <td>fbr.springeropen.com</td>\n",
       "      <td>https://fbr.springeropen.com/articles/10.1186/...</td>\n",
       "      <td>https://scholar.google.com/scholar?cites=65536...</td>\n",
       "      <td>3</td>\n",
       "      <td>2022-08-12 11:07:16</td>\n",
       "      <td>...</td>\n",
       "      <td>NaN</td>\n",
       "      <td>NaN</td>\n",
       "      <td>54</td>\n",
       "      <td>27.0</td>\n",
       "      <td>18</td>\n",
       "      <td>3</td>\n",
       "      <td>2</td>\n",
       "      <td>… of the applications of deep learning in fina...</td>\n",
       "      <td>https://fbr.springeropen.com/articles/10.1186/...</td>\n",
       "      <td>https://scholar.google.com/scholar?q=related:3...</td>\n",
       "    </tr>\n",
       "    <tr>\n",
       "      <th>3</th>\n",
       "      <td>103</td>\n",
       "      <td>R Culkin, SR Das</td>\n",
       "      <td>Machine learning in finance: the case of deep ...</td>\n",
       "      <td>2017</td>\n",
       "      <td>Journal of Investment Management</td>\n",
       "      <td>srdas.github.io</td>\n",
       "      <td>https://srdas.github.io/Papers/BlackScholesNN.pdf</td>\n",
       "      <td>https://scholar.google.com/scholar?cites=12338...</td>\n",
       "      <td>4</td>\n",
       "      <td>2022-08-12 11:07:16</td>\n",
       "      <td>...</td>\n",
       "      <td>NaN</td>\n",
       "      <td>NaN</td>\n",
       "      <td>103</td>\n",
       "      <td>20.6</td>\n",
       "      <td>52</td>\n",
       "      <td>2</td>\n",
       "      <td>5</td>\n",
       "      <td>… We argue that deep learning applications suc...</td>\n",
       "      <td>https://srdas.github.io/Papers/BlackScholesNN.pdf</td>\n",
       "      <td>https://scholar.google.com/scholar?q=related:e...</td>\n",
       "    </tr>\n",
       "    <tr>\n",
       "      <th>4</th>\n",
       "      <td>183</td>\n",
       "      <td>R Singh, S Srivastava</td>\n",
       "      <td>Stock prediction using deep learning</td>\n",
       "      <td>2017</td>\n",
       "      <td>Multimedia Tools and Applications</td>\n",
       "      <td>Springer</td>\n",
       "      <td>https://link.springer.com/article/10.1007/s110...</td>\n",
       "      <td>https://scholar.google.com/scholar?cites=91465...</td>\n",
       "      <td>5</td>\n",
       "      <td>2022-08-12 11:07:16</td>\n",
       "      <td>...</td>\n",
       "      <td>NaN</td>\n",
       "      <td>NaN</td>\n",
       "      <td>183</td>\n",
       "      <td>36.6</td>\n",
       "      <td>92</td>\n",
       "      <td>2</td>\n",
       "      <td>5</td>\n",
       "      <td>… Deep learning for stock prediction has been ...</td>\n",
       "      <td>NaN</td>\n",
       "      <td>https://scholar.google.com/scholar?q=related:h...</td>\n",
       "    </tr>\n",
       "  </tbody>\n",
       "</table>\n",
       "<p>5 rows × 26 columns</p>\n",
       "</div>"
      ],
      "text/plain": [
       "   Cites                             Authors  \\\n",
       "0    492      JB Heaton, NG Polson, JH Witte   \n",
       "1    154  AM Ozbayoglu, MU Gudelek, OB Sezer   \n",
       "2     54              J Huang, J Chai, S Cho   \n",
       "3    103                    R Culkin, SR Das   \n",
       "4    183               R Singh, S Srivastava   \n",
       "\n",
       "                                               Title  Year  \\\n",
       "0         Deep learning for finance: deep portfolios  2017   \n",
       "1  Deep learning for financial applications: A su...  2020   \n",
       "2  Deep learning in finance and banking: A litera...  2020   \n",
       "3  Machine learning in finance: the case of deep ...  2017   \n",
       "4               Stock prediction using deep learning  2017   \n",
       "\n",
       "                                Source             Publisher  \\\n",
       "0       Applied Stochastic Models in …  Wiley Online Library   \n",
       "1               Applied Soft Computing              Elsevier   \n",
       "2  Frontiers of Business Research in …  fbr.springeropen.com   \n",
       "3     Journal of Investment Management       srdas.github.io   \n",
       "4    Multimedia Tools and Applications              Springer   \n",
       "\n",
       "                                          ArticleURL  \\\n",
       "0  https://onlinelibrary.wiley.com/doi/abs/10.100...   \n",
       "1  https://www.sciencedirect.com/science/article/...   \n",
       "2  https://fbr.springeropen.com/articles/10.1186/...   \n",
       "3  https://srdas.github.io/Papers/BlackScholesNN.pdf   \n",
       "4  https://link.springer.com/article/10.1007/s110...   \n",
       "\n",
       "                                            CitesURL  GSRank  \\\n",
       "0  https://scholar.google.com/scholar?cites=25209...       1   \n",
       "1  https://scholar.google.com/scholar?cites=49903...       2   \n",
       "2  https://scholar.google.com/scholar?cites=65536...       3   \n",
       "3  https://scholar.google.com/scholar?cites=12338...       4   \n",
       "4  https://scholar.google.com/scholar?cites=91465...       5   \n",
       "\n",
       "             QueryDate  ... StartPage EndPage  ECC  CitesPerYear  \\\n",
       "0  2022-08-12 11:07:16  ...       NaN     NaN  492          98.4   \n",
       "1  2022-08-12 11:07:16  ...       NaN     NaN  154          77.0   \n",
       "2  2022-08-12 11:07:16  ...       NaN     NaN   54          27.0   \n",
       "3  2022-08-12 11:07:16  ...       NaN     NaN  103          20.6   \n",
       "4  2022-08-12 11:07:16  ...       NaN     NaN  183          36.6   \n",
       "\n",
       "   CitesPerAuthor  AuthorCount  Age  \\\n",
       "0             164            3    5   \n",
       "1              51            3    2   \n",
       "2              18            3    2   \n",
       "3              52            2    5   \n",
       "4              92            2    5   \n",
       "\n",
       "                                            Abstract  \\\n",
       "0  … deep learning hierarchical models for proble...   \n",
       "1  … Most of the papers in this survey used the t...   \n",
       "2  … of the applications of deep learning in fina...   \n",
       "3  … We argue that deep learning applications suc...   \n",
       "4  … Deep learning for stock prediction has been ...   \n",
       "\n",
       "                                         FullTextURL  \\\n",
       "0                                                NaN   \n",
       "1                   https://arxiv.org/pdf/2002.05786   \n",
       "2  https://fbr.springeropen.com/articles/10.1186/...   \n",
       "3  https://srdas.github.io/Papers/BlackScholesNN.pdf   \n",
       "4                                                NaN   \n",
       "\n",
       "                                          RelatedURL  \n",
       "0  https://scholar.google.com/scholar?q=related:U...  \n",
       "1  https://scholar.google.com/scholar?q=related:W...  \n",
       "2  https://scholar.google.com/scholar?q=related:3...  \n",
       "3  https://scholar.google.com/scholar?q=related:e...  \n",
       "4  https://scholar.google.com/scholar?q=related:h...  \n",
       "\n",
       "[5 rows x 26 columns]"
      ]
     },
     "execution_count": 3,
     "metadata": {},
     "output_type": "execute_result"
    }
   ],
   "source": [
    "df.head()"
   ]
  },
  {
   "cell_type": "code",
   "execution_count": 10,
   "id": "cbff7310",
   "metadata": {},
   "outputs": [
    {
     "data": {
      "text/plain": [
       "Index(['Cites', 'Authors', 'Title', 'Year', 'Source', 'Publisher',\n",
       "       'ArticleURL', 'CitesURL', 'GSRank', 'QueryDate', 'Type', 'DOI', 'ISSN',\n",
       "       'CitationURL', 'Volume', 'Issue', 'StartPage', 'EndPage', 'ECC',\n",
       "       'CitesPerYear', 'CitesPerAuthor', 'AuthorCount', 'Age', 'Abstract',\n",
       "       'FullTextURL', 'RelatedURL'],\n",
       "      dtype='object')"
      ]
     },
     "execution_count": 10,
     "metadata": {},
     "output_type": "execute_result"
    }
   ],
   "source": [
    "df.columns"
   ]
  },
  {
   "cell_type": "code",
   "execution_count": 7,
   "id": "f029ef30",
   "metadata": {},
   "outputs": [
    {
     "data": {
      "text/plain": [
       "array([nan, 'HTML', 'PDF', 'BOOK', 'CITATION'], dtype=object)"
      ]
     },
     "execution_count": 7,
     "metadata": {},
     "output_type": "execute_result"
    }
   ],
   "source": [
    "df['Type'].unique()"
   ]
  },
  {
   "cell_type": "code",
   "execution_count": 8,
   "id": "5b3f6f59",
   "metadata": {},
   "outputs": [
    {
     "data": {
      "text/plain": [
       "(27, 26)"
      ]
     },
     "execution_count": 8,
     "metadata": {},
     "output_type": "execute_result"
    }
   ],
   "source": [
    "df[df['Type'] == 'BOOK'].shape"
   ]
  },
  {
   "cell_type": "code",
   "execution_count": 9,
   "id": "a6228ca5",
   "metadata": {},
   "outputs": [
    {
     "data": {
      "text/plain": [
       "(46, 26)"
      ]
     },
     "execution_count": 9,
     "metadata": {},
     "output_type": "execute_result"
    }
   ],
   "source": [
    "df[df['Type'] == 'PDF'].shape"
   ]
  },
  {
   "cell_type": "code",
   "execution_count": 11,
   "id": "bf494a48",
   "metadata": {},
   "outputs": [
    {
     "data": {
      "text/plain": [
       "(3, 26)"
      ]
     },
     "execution_count": 11,
     "metadata": {},
     "output_type": "execute_result"
    }
   ],
   "source": [
    "df[df['Type'] == 'CITATION'].shape"
   ]
  },
  {
   "cell_type": "code",
   "execution_count": 12,
   "id": "ded5f8df",
   "metadata": {},
   "outputs": [
    {
     "data": {
      "text/plain": [
       "(140, 26)"
      ]
     },
     "execution_count": 12,
     "metadata": {},
     "output_type": "execute_result"
    }
   ],
   "source": [
    "df[df['Type'] == 'HTML'].shape"
   ]
  },
  {
   "cell_type": "code",
   "execution_count": 20,
   "id": "529539b9",
   "metadata": {},
   "outputs": [],
   "source": [
    "mask = (df['Type'] != 'BOOK') & (df['Type'] != 'PDF')& (df['Type'] != 'HTML') &  (df['Type'] != 'CITATION')"
   ]
  },
  {
   "cell_type": "code",
   "execution_count": 22,
   "id": "067a5451",
   "metadata": {},
   "outputs": [],
   "source": [
    "sub_df = df[mask]"
   ]
  },
  {
   "cell_type": "code",
   "execution_count": 25,
   "id": "ebe12006",
   "metadata": {},
   "outputs": [
    {
     "data": {
      "text/plain": [
       "array(['https://onlinelibrary.wiley.com/doi/abs/10.1002/asmb.2209',\n",
       "       'https://www.sciencedirect.com/science/article/pii/S1568494620303240',\n",
       "       'https://link.springer.com/article/10.1007/s11042-016-4159-7',\n",
       "       'https://www.sciencedirect.com/science/article/pii/S0957417417302750',\n",
       "       'https://www.tandfonline.com/doi/abs/10.1080/14697688.2019.1622295',\n",
       "       'https://www.mdpi.com/784476',\n",
       "       'https://www.sciencedirect.com/science/article/pii/S1568494620301216',\n",
       "       'https://www.sciencedirect.com/science/article/pii/S0957417421009441',\n",
       "       'https://ieeexplore.ieee.org/abstract/document/8285188/',\n",
       "       'https://link.springer.com/article/10.1007/s10489-020-01839-5'],\n",
       "      dtype=object)"
      ]
     },
     "execution_count": 25,
     "metadata": {},
     "output_type": "execute_result"
    }
   ],
   "source": [
    "sub_df['ArticleURL'].values[:10]"
   ]
  },
  {
   "cell_type": "code",
   "execution_count": null,
   "id": "562c6f4c",
   "metadata": {},
   "outputs": [],
   "source": []
  }
 ],
 "metadata": {
  "kernelspec": {
   "display_name": "Python 3 (ipykernel)",
   "language": "python",
   "name": "python3"
  },
  "language_info": {
   "codemirror_mode": {
    "name": "ipython",
    "version": 3
   },
   "file_extension": ".py",
   "mimetype": "text/x-python",
   "name": "python",
   "nbconvert_exporter": "python",
   "pygments_lexer": "ipython3",
   "version": "3.8.10"
  }
 },
 "nbformat": 4,
 "nbformat_minor": 5
}
