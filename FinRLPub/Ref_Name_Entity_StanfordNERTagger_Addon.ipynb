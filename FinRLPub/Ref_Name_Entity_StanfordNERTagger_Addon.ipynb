{
 "cells": [
  {
   "cell_type": "code",
   "execution_count": 9,
   "id": "f681c0d4",
   "metadata": {},
   "outputs": [],
   "source": [
    "import nltk\n",
    "\n",
    "from nltk.tag import StanfordNERTagger\n",
    "from nltk.tokenize import word_tokenize\n",
    "\n",
    "from itertools import groupby\n",
    "import pandas as pd"
   ]
  },
  {
   "cell_type": "code",
   "execution_count": 16,
   "id": "70ad38ab",
   "metadata": {},
   "outputs": [],
   "source": [
    "# Adapt those lines to your installation\n",
    "jar_location = 'stanford-ner-2020-11-17/stanford-ner.jar'\n",
    "model_location_3classes = 'stanford-ner-2020-11-17/classifiers/english.all.3class.distsim.crf.ser.gz'\n",
    "model_location_7classes = 'stanford-ner-2020-11-17/classifiers/english.muc.7class.distsim.crf.ser.gz'\n",
    "st3 = StanfordNERTagger(model_location_3classes,jar_location,encoding='utf-8')\n",
    "st7 = StanfordNERTagger(model_location_7classes,jar_location,encoding='utf-8')"
   ]
  },
  {
   "cell_type": "code",
   "execution_count": 15,
   "id": "540413a9",
   "metadata": {},
   "outputs": [
    {
     "name": "stdout",
     "output_type": "stream",
     "text": [
      "**** 7 classes ****\n",
      "PERSON       Mary Somerville\n",
      "PERSON       Charles Babbage\n",
      "DATE         1833\n",
      "LOCATION     Somerville\n",
      "PERSON       Andrew Crosse\n",
      "PERSON       David Brewster\n",
      "PERSON       Charles Wheatstone\n",
      "PERSON       Michael Faraday\n",
      "PERSON       Charles Dickens\n",
      "DATE         1834\n",
      "ORGANIZATION Ada\n",
      "PERSON       John Hobhouse\n",
      "PERSON       Byron\n",
      "DATE         February 1834\n",
      "ORGANIZATION Ada\n",
      "PERSON       Hobhouse\n"
     ]
    }
   ],
   "source": [
    "text = '''Lovelace became close friends with her tutor Mary Somerville, who introduced her to Charles Babbage in 1833. She had a strong respect and affection for Somerville, and they corresponded for many years. Other acquaintances included the scientists Andrew Crosse, Sir David Brewster, Charles Wheatstone, Michael Faraday and the author Charles Dickens. She was presented at Court at the age of seventeen \"and became a popular belle of the season\" in part because of her \"brilliant mind.\" By 1834 Ada was a regular at Court and started attending various events. She danced often and was able to charm many people, and was described by most people as being dainty, although John Hobhouse, Byron's friend, described her as \"a large, coarse-skinned young woman but with something of my friend's features, particularly the mouth\". This description followed their meeting on 24 February 1834 in which Ada made it clear to Hobhouse that she did not like him, probably because of the influence of her mother, which led her to dislike all of her father's friends. This first impression was not to last, and they later became friends.'''\n",
    "tokenized_text = word_tokenize(text)\n",
    "text_ner3 = st3.tag(tokenized_text)\n",
    "text_ner7 = st7.tag(tokenized_text)\n",
    "\n",
    "print(\"**** 7 classes ****\")\n",
    "for tag, chunk in groupby(text_ner7, lambda x:x[1]):\n",
    "    if tag != \"O\":\n",
    "        print(\"%-12s\"%tag, \" \".join(w for w, t in chunk))"
   ]
  },
  {
   "cell_type": "code",
   "execution_count": 42,
   "id": "d099a942",
   "metadata": {},
   "outputs": [],
   "source": [
    "import pandas as pd\n",
    "import re"
   ]
  },
  {
   "cell_type": "code",
   "execution_count": 10,
   "id": "d24ec803",
   "metadata": {},
   "outputs": [],
   "source": [
    "df = pd.read_csv('Cleaned_Ref_03.csv')\n",
    "ss = ss = df['raw_ref'].values"
   ]
  },
  {
   "cell_type": "code",
   "execution_count": 45,
   "id": "77590fb2",
   "metadata": {},
   "outputs": [
    {
     "name": "stdout",
     "output_type": "stream",
     "text": [
      "2018\n"
     ]
    }
   ],
   "source": [
    "s = 'This is a bad 2018'\n",
    "match = re.search(r'[12]\\d{3}', s)\n",
    "\n",
    "if match:\n",
    "    print(match.group(0))\n"
   ]
  },
  {
   "cell_type": "code",
   "execution_count": 99,
   "id": "74a0a3f7",
   "metadata": {},
   "outputs": [],
   "source": [
    "string = 'Vol 3, No.7'\n",
    "\n",
    "def count_num(s):\n",
    "    count = 0\n",
    "\n",
    "    temp = list(s)\n",
    "    for item in temp:\n",
    "        if(item.isdigit()):\n",
    "            count = count + 1\n",
    "        else:\n",
    "            pass\n",
    "#    print (count)\n",
    "    \n",
    "    return count"
   ]
  },
  {
   "cell_type": "code",
   "execution_count": 91,
   "id": "5269e177",
   "metadata": {},
   "outputs": [
    {
     "data": {
      "text/plain": [
       "'3,.7'"
      ]
     },
     "execution_count": 91,
     "metadata": {},
     "output_type": "execute_result"
    }
   ],
   "source": [
    "#re.search(r'\\d+', 'Vol 3, No.7').group()\n",
    "re.sub('[^\\d.,]' , '', 'Vol 3, No.7')"
   ]
  },
  {
   "cell_type": "code",
   "execution_count": null,
   "id": "bf1dbce4",
   "metadata": {
    "scrolled": false
   },
   "outputs": [
    {
     "name": "stdout",
     "output_type": "stream",
     "text": [
      "------- Try to Ignored 324 75 False True [14] Holland, J.H.: Genetic algorithms. Scientific american 267(1), 66–73 (1992)\n",
      "Split year [14] Holland, J.H.: Genetic algorithms. Scientific american 2671), 66–73\n",
      "Split : [14] Holland, J.H.\n",
      "Found name [14] Holland, J.H.\n",
      "------- Try to Ignored 328 146 False True [18] Syswerda, G.: Uniform crossover in genetic algorithms. In: Proceedings of the Third International Conference on Genetic Algorithms, pp. 2–9 (1989). Morgan Kaufmann Publishers\n",
      "Split year [18] Syswerda, G.: Uniform crossover in genetic algorithms. In: Proceedings of the Third International Conference on Genetic Algorithms, pp. 2–9\n",
      "Split : [18] Syswerda, G.\n",
      "Found name [18] Syswerda, G.\n",
      "------- Try to Ignored 329 217 False True [19] Sehgal, A., Singandhupe, A., La, H.M., Tavakkoli, A., Louis, S.J.: Lidar-monocular visual odometry with genetic algorithm for parameter optimization. In: International Symposium on Visual Computing, pp. 358–370 (2019). Springer\n",
      "Split year [19] Sehgal, A., Singandhupe, A., La, H.M., Tavakkoli, A., Louis, S.J.: Lidar-monocular visual odometry with genetic algorithm for parameter optimization. In: International Symposium on Visual Computing, pp. 358–370\n",
      "Split : [19] Sehgal, A., Singandhupe, A., La, H.M., Tavakkoli, A., Louis, S.J.\n",
      "Found name [19] Sehgal, A., Singandhupe, A., La, H.M., Tavakkoli, A., Louis, S.J.\n",
      "------- Try to Ignored 333 103 False True [23] Doya, K.: Reinforcement learning in continuous time and space. Neural computation 12(1), 219–245 (2000)\n",
      "Split year [23] Doya, K.: Reinforcement learning in continuous time and space. Neural computation 121), 219–245\n",
      "Split : [23] Doya, K.\n",
      "Found name [23] Doya, K.\n",
      "------- Try to Ignored 335 102 False True [25] Baird, L.C.: Reinforcement learning in continuous time: Advantage updating. In: Neural Networks, 1994. IEEE World Congress on Computational Intelligence., 1994 IEEE International Conference On, vol. 4, pp. 2448– 2453 (1994). IEEE\n",
      "Split year [25] Baird, L.C.: Reinforcement learning in continuous time: Advantage updating. In: Neural Networks,\n",
      "Split : [25] Baird, L.C.\n",
      "Found name [25] Baird, L.C.\n",
      "------- Try to Ignored 342 93 False True [38] Nguyen, H., La, H.M.: Review of deep reinforcement learning for robot manipulation. In: 2019 Third IEEE International Conference on Robotic Computing (IRC), pp. 590–595 (2019). IEEE\n",
      "Split year [38] Nguyen, H., La, H.M.: Review of deep reinforcement learning for robot manipulation. In:\n",
      "Split : [38] Nguyen, H., La, H.M.\n",
      "Found name [38] Nguyen, H., La, H.M.\n",
      "------- Try to Ignored 358 104 False True [1] Proceedings of the The Fifth Conference on Innovative Applications of Artificial Intelligence (IAAI 1993), July 11–15, 1993, Washington, DC, USA. AAAI. ISBN: 0-9292-8046-6. See http://www.aaai.org/Conferences/IAAI/iaai93.php [accessed 2007-09-06].\n",
      "Split year [1] Proceedings of the The Fifth Conference on Innovative Applications of Artificial Intelligence IAAI\n",
      "Split : [1] Proceedings of the The Fifth Conference on Innovative Applications of Artificial Intelligence (IAAI 1993), July 11–15, 1993, Washington, DC, USA. AAAI. ISBN\n",
      "Found name [1] Proceedings of the The Fifth Conference on Innovative Applications of Artificial Intelligence (IAAI 1993), July 11–15, 1993, Washington, DC, USA. AAAI. ISBN\n",
      "------- Try to Ignored 359 36 False True [2] Agent Modeling, Papers from the 1996 AAAI Workshop, 1996. AAAI Press. ISBN: 1-5773-5008-1. See [410].\n",
      "Split year [2] Agent Modeling, Papers from the\n",
      "Split : [2] Agent Modeling, Papers from the 1996 AAAI Workshop, 1996. AAAI Press. ISBN\n",
      "Found name [2] Agent Modeling, Papers from the 1996 AAAI Workshop, 1996. AAAI Press. ISBN\n",
      "------- Try to Ignored 371 148 False True [14] Aesop. The boy and the ﬁlberts, around 600 BC. Online available at http://www. aesopfables.com/cgi/aesop1.cgi?1&TheBoyandtheFilberts [accessed 2008-11-29].\n",
      "Split year [14] Aesop. The boy and the ﬁlberts, around 600 BC. Online available at http://www. aesopfables.com/cgi/aesop1.cgi?1&TheBoyandtheFilberts [accessed\n",
      "Split : [14] Aesop. The boy and the ﬁlberts, around 600 BC. Online available at http\n",
      "Found name [14] Aesop. The boy and the ﬁlberts, around 600 BC. Online available at http\n",
      "------- Try to Ignored 398 113 False True [42] Lee Altenberg. The schema theorem and price’s theorem. In Foundations of Genetic Algorithms 3, pages 23–49, 1994. In proceedings [2214]. Online available at http://dynamics.org/Altenberg/PAPERS/STPT/ and http://citeseer.ist.psu. edu/altenberg95schema.html [accessed 2008-07-20].\n",
      "Split year [42] Lee Altenberg. The schema theorem and price’s theorem. In Foundations of Genetic Algorithms 3, pages 23–49,\n",
      "Split : [42] Lee Altenberg. The schema theorem and price’s theorem. In Foundations of Genetic Algorithms 3, pages 23–49, 1994. In proceedings [2214]. Online available at http\n",
      "Found name [42] Lee Altenberg. The schema theorem and price’s theorem. In Foundations of Genetic Algorithms 3, pages 23–49, 1994. In proceedings [2214]. Online available at http\n",
      "------- Try to Ignored 399 184 False True [43] Lee Altenberg. Genome growth and the evolution of the genotype-phenotype map. In Evolution and Biocomputation – Computational Models of Evolution, pages 205–259. Springer-Verlag, 1995. In collection [137]. Online available at http://citeseer.ist. psu.edu/254722.html [accessed 2007-07-29]: corrections and revisions, October 1997. REFERENCES 597\n",
      "Split year [43] Lee Altenberg. Genome growth and the evolution of the genotype-phenotype map. In Evolution and Biocomputation – Computational Models of Evolution, pages 205–259. Springer-Verlag,\n",
      "Split : [43] Lee Altenberg. Genome growth and the evolution of the genotype-phenotype map. In Evolution and Biocomputation – Computational Models of Evolution, pages 205–259. Springer-Verlag, 1995. In collection [137]. Online available at http\n",
      "Found name [43] Lee Altenberg. Genome growth and the evolution of the genotype-phenotype map. In Evolution and Biocomputation – Computational Models of Evolution, pages 205–259. Springer-Verlag, 1995. In collection [137]. Online available at http\n",
      "------- Try to Ignored 400 137 False True [44] Lee Altenberg. Nk ﬁtness landscapes. In Handbook of Evolutionary Computation, chapter B2.7.2. Oxford University Press, November 27, 1996. In collection [104]. Online available at http://www.cmi.univ-mrs.fr/~pardoux/LeeNKFL.pdf and http://dynamics.org/Altenberg/FILES/LeeNKFL.pdf [accessed 2008-10-06].\n",
      "Split year [44] Lee Altenberg. Nk ﬁtness landscapes. In Handbook of Evolutionary Computation, chapter B2.7.2. Oxford University Press, November 27,\n",
      "Split : [44] Lee Altenberg. Nk ﬁtness landscapes. In Handbook of Evolutionary Computation, chapter B2.7.2. Oxford University Press, November 27, 1996. In collection [104]. Online available at http\n",
      "Found name [44] Lee Altenberg. Nk ﬁtness landscapes. In Handbook of Evolutionary Computation, chapter B2.7.2. Oxford University Press, November 27, 1996. In collection [104]. Online available at http\n",
      "------- Try to Ignored 432 202 False True [79] 4th International Conference on Hybrid Artificial Intelligence Systems (HAIS’09), Lecture Notes in Artiﬁcial Intelligence (LNAI), subseries of Lecture Notes in Computer Science (LNCS), June 10–12, 2009, Salamanca, Spain. Applied Computational Intelligence Group (GICAP), University of Burgos, Springer. co-located with 10th International Work-Conference on Artiﬁcial Neural Networks (IWANN2009).\n",
      "Split year [79] 4th International Conference on Hybrid Artificial Intelligence Systems HAIS’09), Lecture Notes in Artiﬁcial Intelligence LNAI), subseries of Lecture Notes in Computer Science LNCS), June 10–12,\n",
      "Split : [79] 4th International Conference on Hybrid Artificial Intelligence Systems (HAIS’09), Lecture Notes in Artiﬁcial Intelligence (LNAI), subseries of Lecture Notes in Computer Science (LNCS), June 10–12, 2009, Salamanca, Spain. Applied Computational Intelligence Group (GICAP), University of Burgos, Springer. co-located with 10th International Work-Conference on Artiﬁcial Neural Networks (IWANN2009).\n",
      "------- Try to Ignored 482 222 False True [133] Classification, Clustering, and Data Mining Applications: Proceedings of the Meeting of the International Federation of Classification Societies (IFCS), ... Data Analysis, REFERENCES 605 and Knowledge Organization), 2004. Springer-Verlag New York, Inc., Secaucus, NJ, USA. ISBN: 3-5402-2014-3.\n",
      "Split year [133] Classification, Clustering, and Data Mining Applications: Proceedings of the Meeting of the International Federation of Classification Societies IFCS), ... Data Analysis, REFERENCES 605 and Knowledge Organization),\n",
      "Split : [133] Classification, Clustering, and Data Mining Applications\n",
      "Found name [133] Classification, Clustering, and Data Mining Applications\n"
     ]
    },
    {
     "name": "stdout",
     "output_type": "stream",
     "text": [
      "------- Try to Ignored 494 32 False True [147] Proceedings of the EUROGEN2003 Conference: Evolutionary Methods for Design Optimization and Control with Applications to Industrial Problems, September 15– 17, 2003, Barcelona, Spain. ISBN: 8-4959-9933-1. Published on CD. See http:// congress.cimne.upc.es/eurogen03/ [accessed 2007-09-16].\n",
      "Split year [147] Proceedings of the EUROGEN\n",
      "Split : [147] Proceedings of the EUROGEN2003 Conference\n",
      "------- Try to Ignored 517 49 False True [174], http:// icannga07.ee.pw.edu.pl/ [accessed 2007-08-31], and http://www.springerlink.com/ content/978-3-540-71590-0/ [accessed 2007-08-31]. [174] Bartlomiej Beliczyński, Andrzej Dzieliński, Marcin Iwanowski, and Bernardete Ribeiro, editors. Proceedings of Adaptive and Natural Computing Algorithms, 8th International Conference, ICANNGA 2007, Part II, volume 4432/2007 of Lecture Notes in Computer Science (LNCS), April 11–14, 2007, Warsaw University of Technology, Warsaw, Poland. Springer Berlin Heidelberg New York. ISBN: 978-3-54071-590-0. doi:10.1007/978-3-540-71629-7. See also [173], http:// icannga07.ee.pw.edu.pl/ [accessed 2007-08-31], and http://www.springerlink.com/ content/978-3-540-71589-4/ [accessed 2007-08-31].\n",
      "Split year [174], http:// icannga07.ee.pw.edu.pl/ [accessed\n",
      "Split : [174], http\n",
      "------- Try to Ignored 566 68 False True [224]. Online available at http://www.it-weise.de/documents/files/BW2005QASD.pdf [accessed 2009-06-26]. [224] Steﬀen Bleul, Thomas Weise, and Kurt Geihs. An Ontology for Quality-Aware Service Discovery. Computer Systems Science Engineering, 21(4)(Special issue on “Engineering Design and Composition of Service-Oriented Applications”), July 2006. See also [223]. Online available at http://www.it-weise.de/documents/files/ BWG2006QASD.pdf [accessed 2009-06-26].\n",
      "Split year [224]. Online available at http://www.it-weise.de/documents/files/BW\n",
      "Split : [224]. Online available at http\n",
      "------- Try to Ignored 590 211 False True [250] István Borgulya. A cluster-based evolutionary algorithm for the single machine total weighted tardiness-scheduling problem. Journal of Computing and Information Technology - CIT, 10(3):211–217, September 2002. Online available at http://cit. zesoi.fer.hr/downloadPaper.php?paper=384 [accessed 2008-04-07].\n",
      "Split year [250] István Borgulya. A cluster-based evolutionary algorithm for the single machine total weighted tardiness-scheduling problem. Journal of Computing and Information Technology - CIT, 103):211–217, September\n",
      "Split : [250] István Borgulya. A cluster-based evolutionary algorithm for the single machine total weighted tardiness-scheduling problem. Journal of Computing and Information Technology - CIT, 10(3)\n",
      "Found name [250] István Borgulya. A cluster-based evolutionary algorithm for the single machine total weighted tardiness-scheduling problem. Journal of Computing and Information Technology - CIT, 10(3)\n",
      "------- Try to Ignored 613 150 False True [276] Jürgen Branke. Creating robust solutions by means of evolutionary algorithms. In Parallel Problem Solving from Nature – PPSN V, pages 119–128, 1998. doi:10.1007/BFb0056855. In proceedings [624].\n",
      "Split year [276] Jürgen Branke. Creating robust solutions by means of evolutionary algorithms. In Parallel Problem Solving from Nature – PPSN V, pages 119–128,\n",
      "Split : [276] Jürgen Branke. Creating robust solutions by means of evolutionary algorithms. In Parallel Problem Solving from Nature – PPSN V, pages 119–128, 1998. doi\n",
      "Found name [276] Jürgen Branke. Creating robust solutions by means of evolutionary algorithms. In Parallel Problem Solving from Nature – PPSN V, pages 119–128, 1998. doi\n",
      "------- Try to Ignored 614 150 False True [277] Jürgen Branke. The moving peaks benchmark. Technical Report, Institute AIFB, University of Karlsruhe, D-76128 Karlsruhe, Germany, December 16, 1999. Online available at http://www.aifb.uni-karlsruhe.de/~jbr/MovPeaks/ [accessed 2007-08-19]. Presented in\n",
      "Split year [277] Jürgen Branke. The moving peaks benchmark. Technical Report, Institute AIFB, University of Karlsruhe, D-76128 Karlsruhe, Germany, December 16,\n",
      "Split : [277] Jürgen Branke. The moving peaks benchmark. Technical Report, Institute AIFB, University of Karlsruhe, D-76128 Karlsruhe, Germany, December 16, 1999. Online available at http\n",
      "Found name [277] Jürgen Branke. The moving peaks benchmark. Technical Report, Institute AIFB, University of Karlsruhe, D-76128 Karlsruhe, Germany, December 16, 1999. Online available at http\n",
      "------- Try to Ignored 615 219 False True [279] Jürgen Branke. Evolutionary Optimization in Dynamic Environments. PhD thesis, Universität Karlsruhe (TH), Fakultät für Wirtschaftswissenschaften, Universität Karlsruhe (TH), Institut AIFB, D-76128 Karlsruhe, 2000. Advisors: H. Schmeck and G. Bol and Lothar Thiele. See also\n",
      "Split year [279] Jürgen Branke. Evolutionary Optimization in Dynamic Environments. PhD thesis, Universität Karlsruhe TH), Fakultät für Wirtschaftswissenschaften, Universität Karlsruhe TH), Institut AIFB, D-76128 Karlsruhe,\n",
      "Split : [279] Jürgen Branke. Evolutionary Optimization in Dynamic Environments. PhD thesis, Universität Karlsruhe (TH), Fakultät für Wirtschaftswissenschaften, Universität Karlsruhe (TH), Institut AIFB, D-76128 Karlsruhe, 2000. Advisors\n",
      "Found name [279] Jürgen Branke. Evolutionary Optimization in Dynamic Environments. PhD thesis, Universität Karlsruhe (TH), Fakultät für Wirtschaftswissenschaften, Universität Karlsruhe (TH), Institut AIFB, D-76128 Karlsruhe, 2000. Advisors\n",
      "------- Try to Ignored 616 178 False True [280]. [280] Jürgen Branke. Evolutionary Optimization in Dynamic Environments, volume 3 of Genetic Algorithms and Evolutionary Computation. Kluwer Academic Publishers, December 2001. ISBN: 978-0-79237-631-6. See also [279].\n",
      "Split year [280]. [280] Jürgen Branke. Evolutionary Optimization in Dynamic Environments, volume 3 of Genetic Algorithms and Evolutionary Computation. Kluwer Academic Publishers, December\n",
      "Split : [280]. [280] Jürgen Branke. Evolutionary Optimization in Dynamic Environments, volume 3 of Genetic Algorithms and Evolutionary Computation. Kluwer Academic Publishers, December 2001. ISBN\n",
      "Found name [280]. [280] Jürgen Branke. Evolutionary Optimization in Dynamic Environments, volume 3 of Genetic Algorithms and Evolutionary Computation. Kluwer Academic Publishers, December 2001. ISBN\n",
      "------- Try to Ignored 662 183 False True [328] Erick Cant’u-Paz. A summary of research on parallel genetic algorithms. IlliGAL report 95007, Illinois Genetic Algorithms Laboratory, University of Illinois at UrbanaChampaign, 1995. Online available at http://citeseer.ist.psu.edu/27505.html and ftp://ftp-illigal.ge.uiuc.edu/pub/papers/IlliGALs/95007.ps.Z [accessed 2007-08-13]. 622 REFERENCES\n",
      "Split year [328] Erick Cant’u-Paz. A summary of research on parallel genetic algorithms. IlliGAL report 95007, Illinois Genetic Algorithms Laboratory, University of Illinois at UrbanaChampaign,\n",
      "Split : [328] Erick Cant’u-Paz. A summary of research on parallel genetic algorithms. IlliGAL report 95007, Illinois Genetic Algorithms Laboratory, University of Illinois at UrbanaChampaign, 1995. Online available at http\n",
      "Found name [328] Erick Cant’u-Paz. A summary of research on parallel genetic algorithms. IlliGAL report 95007, Illinois Genetic Algorithms Laboratory, University of Illinois at UrbanaChampaign, 1995. Online available at http\n",
      "------- Try to Ignored 663 186 False True [329] Erick Cant’u-Paz. Designing efficient and accurate parallel genetic algorithms. PhD thesis, Illinois Genetic Algorithms Laboratory, University of Illinois at UrbanaChampaign, July 1999. Also IlliGAL report 99017. Online available at http:// citeseer.ist.psu.edu/cantu-paz99designing.html [accessed 2008-04-06].\n",
      "Split year [329] Erick Cant’u-Paz. Designing efficient and accurate parallel genetic algorithms. PhD thesis, Illinois Genetic Algorithms Laboratory, University of Illinois at UrbanaChampaign, July\n",
      "Split : [329] Erick Cant’u-Paz. Designing efficient and accurate parallel genetic algorithms. PhD thesis, Illinois Genetic Algorithms Laboratory, University of Illinois at UrbanaChampaign, July 1999. Also IlliGAL report 99017. Online available at http\n",
      "Found name [329] Erick Cant’u-Paz. Designing efficient and accurate parallel genetic algorithms. PhD thesis, Illinois Genetic Algorithms Laboratory, University of Illinois at UrbanaChampaign, July 1999. Also IlliGAL report 99017. Online available at http\n"
     ]
    },
    {
     "name": "stdout",
     "output_type": "stream",
     "text": [
      "------- Try to Ignored 695 181 False True [363] V. Černý. Thermodynamical approach to the traveling salesman problem: An eﬃcient simulation algorithm. Journal of Optimization Theory and Applications, 45(1):41–51, January 1985. ISSN: 0022-3239 (Print) 1573-2878 (Online). doi:10.1007/BF00940812. Communicated by S. E. Dreyfus. Online available at http://www.springerlink. com/content/gt0743622913gg33/fulltext.pdf [accessed 2008-03-26]. Also: Technical Report, Comenius University, Bratislava, Czechoslovakia, 1982.\n",
      "Split year [363] V. Černý. Thermodynamical approach to the traveling salesman problem: An eﬃcient simulation algorithm. Journal of Optimization Theory and Applications, 451):41–51, January\n",
      "Split : [363] V. Černý. Thermodynamical approach to the traveling salesman problem\n",
      "Found name [363] V. Černý. Thermodynamical approach to the traveling salesman problem\n"
     ]
    }
   ],
   "source": [
    "ref_list = []\n",
    "\n",
    "for k in range (len(ss)):\n",
    "#    match = re.search(r'[12]\\d{3}', ss[k])\n",
    "    if k < 324:\n",
    "        continue\n",
    "        \n",
    "    ref_dict = {'date':[], 'names':[], 'title':[], 'raw_ref':[]}\n",
    "        \n",
    "    name_set = False\n",
    "    date_set = False\n",
    "    pos = -1    \n",
    "        \n",
    "    match = re.search(r'[12]\\d{3}', ss[k])\n",
    "\n",
    "    if match != None:\n",
    "        ref_dict['date'] = int(match.group(0))\n",
    "        date_set = True\n",
    "            \n",
    "        #print (ss[k])\n",
    "\n",
    "        pos = ss[k].find(match.group(0))\n",
    "                \n",
    "        tokenized_text = word_tokenize(ss[k][:pos])\n",
    "        text_ner3 = st3.tag(tokenized_text)\n",
    "     #   text_ner7 = st7.tag(tokenized_text)\n",
    "        \n",
    "        for tag, chunk in groupby(text_ner3, lambda x:x[1]):\n",
    "            if tag != \"O\":\n",
    "                if tag == 'PERSON':\n",
    "                    if len(ref_dict['names']) == 0: \n",
    "                        ref_dict['names'] =  \" \".join(w for w, t in chunk)\n",
    "                        name_set = True\n",
    "                    else:\n",
    "                        ref_dict['names'] = ref_dict['names'] + ', ' +  \" \".join(w for w, t in chunk)\n",
    "\n",
    "                    #print(k, \"%-12s\"%tag, \" \".join(w for w, t in chunk))\n",
    "                        \n",
    "    if date_set == True:       \n",
    "        if name_set == True:\n",
    "            ref_dict['raw_ref'] = ss[k]\n",
    "            ref_dict['names'] =  ref_dict['names'][:-1]\n",
    "\n",
    "            ref_list.append(ref_dict)\n",
    "        \n",
    "        else: \n",
    "            print ('------- Try to Ignored', k, pos, name_set, date_set, ss[k])\n",
    "            if pos != -1:\n",
    "                s = ss[k][:pos].replace('(', '').strip()\n",
    "                t = re.split(', |\\.',s)\n",
    "                print ('Split year', s)\n",
    "                if len(t) > 2 and count_num(s) == 0:\n",
    "                    print ('Found name', s)\n",
    "                    ref_dict['raw_ref'] = ss[k]\n",
    "                    ref_dict['names'] =  s\n",
    "                \n",
    "                else:\n",
    "                    ssk = ss[k].split(':')\n",
    "\n",
    "                    print ('Split :', ssk[0])\n",
    "                    if len(ssk) > 1:\n",
    "                        \n",
    "                        t = re.split(', |\\.',ssk[0])\n",
    "                        if len(t) > 2:\n",
    "                            print ('Found name', ssk[0])\n",
    "                            ref_dict['raw_ref'] = ss[k]\n",
    "                            ref_dict['names'] =  ssk[0]\n",
    "    else:\n",
    "         print ('------- Ignored', k, pos, name_set, date_set, ss[k])"
   ]
  },
  {
   "cell_type": "code",
   "execution_count": 76,
   "id": "e366a2c6",
   "metadata": {},
   "outputs": [
    {
     "data": {
      "text/plain": [
       "['Doya, K.']"
      ]
     },
     "execution_count": 76,
     "metadata": {},
     "output_type": "execute_result"
    }
   ],
   "source": [
    "s"
   ]
  },
  {
   "cell_type": "code",
   "execution_count": 71,
   "id": "c6a22f4b",
   "metadata": {},
   "outputs": [],
   "source": [
    "import re\n",
    "t = 'Doya, K.'\n",
    "\n",
    "re.split(', |\\.',t)\n",
    "#s = t.split(', |\\.')\n",
    "#re.split(',|.', t)"
   ]
  },
  {
   "cell_type": "code",
   "execution_count": 72,
   "id": "8560053a",
   "metadata": {},
   "outputs": [
    {
     "data": {
      "text/plain": [
       "['Doya, K.']"
      ]
     },
     "execution_count": 72,
     "metadata": {},
     "output_type": "execute_result"
    }
   ],
   "source": [
    "s"
   ]
  },
  {
   "cell_type": "code",
   "execution_count": 51,
   "id": "975fc575",
   "metadata": {},
   "outputs": [
    {
     "data": {
      "text/plain": [
       "1568"
      ]
     },
     "execution_count": 51,
     "metadata": {},
     "output_type": "execute_result"
    }
   ],
   "source": [
    "len(ref_list)"
   ]
  },
  {
   "cell_type": "markdown",
   "id": "2a3fb392",
   "metadata": {},
   "source": [
    "### ref_list"
   ]
  },
  {
   "cell_type": "code",
   "execution_count": null,
   "id": "824a00dc",
   "metadata": {},
   "outputs": [],
   "source": []
  }
 ],
 "metadata": {
  "kernelspec": {
   "display_name": "Python 3 (ipykernel)",
   "language": "python",
   "name": "python3"
  },
  "language_info": {
   "codemirror_mode": {
    "name": "ipython",
    "version": 3
   },
   "file_extension": ".py",
   "mimetype": "text/x-python",
   "name": "python",
   "nbconvert_exporter": "python",
   "pygments_lexer": "ipython3",
   "version": "3.8.10"
  }
 },
 "nbformat": 4,
 "nbformat_minor": 5
}
