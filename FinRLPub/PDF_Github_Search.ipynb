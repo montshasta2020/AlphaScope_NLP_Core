{
 "cells": [
  {
   "cell_type": "code",
   "execution_count": 7,
   "id": "ec504168",
   "metadata": {},
   "outputs": [],
   "source": [
    "import pandas as pd\n",
    "import numpy as np\n",
    "#from tabula import read_pdf_table\n",
    "\n",
    "from tabula import read_pdf\n",
    "#df = wrapper.read_pdf('my_pdf')\n",
    "#import PyPDF2\n",
    "from PyPDF2 import PdfReader"
   ]
  },
  {
   "cell_type": "code",
   "execution_count": 9,
   "id": "aa44a784",
   "metadata": {},
   "outputs": [
    {
     "data": {
      "text/plain": [
       "'/home/nanfang/Projects/Stocks/EvolvingGains'"
      ]
     },
     "execution_count": 9,
     "metadata": {},
     "output_type": "execute_result"
    }
   ],
   "source": [
    "import os\n",
    "os.getcwd()"
   ]
  },
  {
   "cell_type": "code",
   "execution_count": 20,
   "id": "bed727a4",
   "metadata": {},
   "outputs": [],
   "source": [
    "#/home/nanfang/Projects/Stocks/References_Deep_Learning_For_Finance/000 more references/Resonance Theory\n",
    "reader = PdfReader(\"../References_Deep_Learning_For_Finance/000 more references/Resonance Theory/iCVI-ARTMAP: Accelerating and improving clustering using adaptive resonance theory predictive mapping and incremental cluster validity indices.pdf\")\n",
    "text = \"\"\n",
    "for page in reader.pages:\n",
    "    text += page.extract_text() + \"\\n\""
   ]
  },
  {
   "cell_type": "code",
   "execution_count": 21,
   "id": "31692546",
   "metadata": {},
   "outputs": [],
   "source": [
    "sen = text.split('\\n')"
   ]
  },
  {
   "cell_type": "code",
   "execution_count": 22,
   "id": "8155e846",
   "metadata": {},
   "outputs": [
    {
     "data": {
      "text/plain": [
       "(1246, 77639)"
      ]
     },
     "execution_count": 22,
     "metadata": {},
     "output_type": "execute_result"
    }
   ],
   "source": [
    "len(sen), len(text)"
   ]
  },
  {
   "cell_type": "code",
   "execution_count": 18,
   "id": "f1d1ae09",
   "metadata": {},
   "outputs": [
    {
     "data": {
      "text/plain": [
       "'An ART-Based Fuzzy Adaptive Learning Control Network '"
      ]
     },
     "execution_count": 18,
     "metadata": {},
     "output_type": "execute_result"
    }
   ],
   "source": [
    "sen[0]"
   ]
  },
  {
   "cell_type": "code",
   "execution_count": 29,
   "id": "e5791f8b",
   "metadata": {},
   "outputs": [
    {
     "name": "stdout",
     "output_type": "stream",
     "text": [
      "*********************************\n",
      "Fuzzy ART: Fast stable learning and categorization of analog patterns by an adaptive resonance system.pdf\n",
      "*********************************\n",
      "*********************************\n",
      "A Survey of Adaptive Resonance Theory Neural Network Models for Engineering Applications.pdf\n",
      "*********************************\n",
      "•github.com/ACIL-Group\n",
      "*********************************\n",
      "FUZZY, DISTRIBUTED, INSTANCE COUNTING, AND DEFAULT ARTMAP NEURAL NETWORKS FOR FINANCIAL DIAGNOSIS.pdf\n",
      "*********************************\n",
      "*********************************\n",
      "CNS Tech Lab.pdf\n",
      "*********************************\n",
      "*********************************\n",
      "Optimal Control Using Adaptive Resonance Theory and Q-Learning.pdf\n",
      "*********************************\n",
      "*********************************\n",
      "Reinforcement Learning for An ART-B ased Fuzzy Adaptive Learning Control Network .pdf\n",
      "*********************************\n",
      "*********************************\n",
      "A GA-based fuzzy adaptive learning control network.pdf\n",
      "*********************************\n",
      "*********************************\n",
      "ARTMAP: Supervised real-time learning and classification of nonstationary data by a self-organizing neural network.pdf\n",
      "*********************************\n",
      "*********************************\n",
      "Pattern recognition by self-organizing neural networks.pdf\n",
      "*********************************\n",
      "*********************************\n",
      "Fuzzy-Embedded Gated Recurrent Unit (FE-GRU) System with Application in Stock Trading.pdf\n",
      "*********************************\n",
      "*********************************\n",
      "Default ARTMAP 2.pdf\n",
      "*********************************\n",
      "*********************************\n",
      "Fuzzy adaptive resonance theory_ Applications and extensions.pdf\n",
      "*********************************\n",
      "*********************************\n",
      "The Adaptive Resonance Theory network : (clustering-)behaviour in relation with Brainstem Auditory Evoked Potential patterns.pdf\n",
      "*********************************\n",
      "*********************************\n",
      "Neuroengineering of Clustering Algorithms .pdf\n",
      "*********************************\n"
     ]
    },
    {
     "name": "stderr",
     "output_type": "stream",
     "text": [
      "/home/nanfang/.local/lib/python3.8/site-packages/PyPDF2/_page.py:1288: PdfReadWarning:  impossible to decode XFormObject /M0\n",
      "  warnings.warn(\n",
      "/home/nanfang/.local/lib/python3.8/site-packages/PyPDF2/_page.py:1288: PdfReadWarning:  impossible to decode XFormObject /M1\n",
      "  warnings.warn(\n",
      "/home/nanfang/.local/lib/python3.8/site-packages/PyPDF2/_page.py:1288: PdfReadWarning:  impossible to decode XFormObject /M2\n",
      "  warnings.warn(\n",
      "/home/nanfang/.local/lib/python3.8/site-packages/PyPDF2/_page.py:1288: PdfReadWarning:  impossible to decode XFormObject /DejaVuSans-Oblique-rho\n",
      "  warnings.warn(\n"
     ]
    },
    {
     "name": "stdout",
     "output_type": "stream",
     "text": [
      "•github.com/ACIL-Group\n",
      "1DVFA MATLAB code is available at https://github.com/ACIL-Group/DVFA.\n",
      "Computational Intelligence Laboratory group GitHub repositories 1,2. The topoART ex-\n",
      "1https://github.com/ACIL-Group/DVFA.\n",
      "2https://github.com/ACIL-Group/DDVFA.\n",
      "tory public GitHub repository 1.\n",
      "1https://github.com/ACIL-Group/iCVI-toolbox\n",
      "*********************************\n",
      "Time series prediction using the adaptive resonance theory algorithm ART-2.pdf\n",
      "*********************************\n",
      "*********************************\n",
      "Adaptive Resonance Theory: How a brain learns to consciously attend, learn, and recognize a changing world.pdf\n",
      "*********************************\n",
      "*********************************\n",
      "Fuzzy adaptive learning control network with policy and another adaptive resonance theory (FALCON‑PAART) embedded deep structure with applications in stock market prediction and analysis.pdf\n",
      "*********************************\n",
      "*********************************\n",
      "CARTMAP: a neural network method for automated feature selection.pdf\n",
      "*********************************\n",
      "*********************************\n",
      "ART 2-A: An adaptive resonance algorithm for rapid category learning and recognition.pdf\n",
      "*********************************\n",
      "*********************************\n",
      "An ART-Based Fuzzy Adaptive Learning Control Network.pdf\n",
      "*********************************\n",
      "*********************************\n",
      "ADAPTIVE RESONANCE THEORY.pdf\n",
      "*********************************\n",
      "*********************************\n",
      "Self-Supervised ARTMAP.pdf\n",
      "*********************************\n",
      "*********************************\n",
      "Fuzzy ARTMAP Based Neural Networks on the GPU for High-Performance Pattern Recognition.pdf\n",
      "*********************************\n",
      "*********************************\n",
      "Competitive learning: From interactive activation to adaptive resonance.pdf\n",
      "*********************************\n",
      "*********************************\n",
      "iCVI-ARTMAP: Accelerating and improving clustering using adaptive resonance theory predictive mapping and incremental cluster validity indices.pdf\n",
      "*********************************\n",
      "cDynAE (data):github.com/nairouz/DynAE\n",
      "GitHub repository1. Some of its components are based on the iCVI-toolbox for Matlab [27] from the\n",
      "ACIL's GitHub repository2. The code for the non-ART-based baseline clustering algorithms and ARI are\n",
      "from scikit-learn3[83] whereas the code for VAT, FA and DVFA are from the ACIL's GitHub repository\n",
      "1available for academic purposes only at https://github.com/GoGetter-Inc/iCVI-ARTMAP\n",
      "2available athttps://github.com/ACIL-Group/iCVI-toolbox\n",
      "4available athttps://github.com/ACIL-Group/NuART-Py\n",
      "5available athttps://github.com/nairouz/DynAE\n",
      "*********************************\n",
      "ART 2: Self-organization of stable category recognition codes for analog input patterns.pdf\n",
      "*********************************\n",
      "*********************************\n",
      "ART 3: Hierarchical search using chemical transmitters in self-organizing pattern recognition architectures.pdf\n",
      "*********************************\n",
      "*********************************\n",
      "Reinforcement learning combined with a fuzzy adaptive learning control network (FALCON-R) for pattern classification.pdf\n",
      "*********************************\n",
      "*********************************\n",
      "Neuroengineering of Clustering Algorithms.pdf\n",
      "*********************************\n",
      "•github.com/ACIL-Group\n",
      "1DVFA MATLAB code is available at https://github.com/ACIL-Group/DVFA.\n",
      "Computational Intelligence Laboratory group GitHub repositories 1,2. The topoART ex-\n",
      "1https://github.com/ACIL-Group/DVFA.\n",
      "2https://github.com/ACIL-Group/DDVFA.\n",
      "tory public GitHub repository 1.\n",
      "1https://github.com/ACIL-Group/iCVI-toolbox\n",
      "*********************************\n",
      "Review of Unsupervised Adaptive Resonance Theory.pdf\n",
      "*********************************\n",
      "*********************************\n",
      "Using fast adaptive neural network classifier for mutual fund performance evaluation.pdf\n",
      "*********************************\n",
      "*********************************\n",
      "Fuzzy adaptive resonance theory: Applications and extensions .pdf\n",
      "*********************************\n"
     ]
    }
   ],
   "source": [
    "s_dir = \"../References_Deep_Learning_For_Finance/000 more references/\"\n",
    "topics = \"Resonance Theory/\"\n",
    "\n",
    "import glob\n",
    "import gc\n",
    "\n",
    "for fn in glob.glob(s_dir + topics + \"*.pdf\"):\n",
    "    \n",
    "    print('*********************************')\n",
    "    print(fn.split('/')[-1])\n",
    "    print('*********************************')\n",
    "    \n",
    "    reader = PdfReader(fn)\n",
    "    \n",
    "    text = \"\"\n",
    "    \n",
    "    for page in reader.pages:\n",
    "        text += page.extract_text() + \"\\n\"\n",
    "    \n",
    "    sen = text.split('\\n')\n",
    "\n",
    "    for s in sen:\n",
    "\n",
    "        if 'Github' in s:\n",
    "            print(s)\n",
    "        elif 'GitHub' in s:\n",
    "            print(s)\n",
    "        elif 'github' in s:\n",
    "            print (s)"
   ]
  },
  {
   "cell_type": "code",
   "execution_count": null,
   "id": "e1ca0591",
   "metadata": {},
   "outputs": [],
   "source": []
  }
 ],
 "metadata": {
  "kernelspec": {
   "display_name": "Python 3 (ipykernel)",
   "language": "python",
   "name": "python3"
  },
  "language_info": {
   "codemirror_mode": {
    "name": "ipython",
    "version": 3
   },
   "file_extension": ".py",
   "mimetype": "text/x-python",
   "name": "python",
   "nbconvert_exporter": "python",
   "pygments_lexer": "ipython3",
   "version": "3.8.10"
  }
 },
 "nbformat": 4,
 "nbformat_minor": 5
}
