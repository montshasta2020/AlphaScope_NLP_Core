{
 "cells": [
  {
   "cell_type": "code",
   "execution_count": 67,
   "id": "bbd25f33",
   "metadata": {},
   "outputs": [],
   "source": [
    "import pandas as pd\n",
    "import numpy as np"
   ]
  },
  {
   "cell_type": "code",
   "execution_count": 88,
   "id": "cbf9186f",
   "metadata": {},
   "outputs": [],
   "source": [
    "df = pd.read_csv('processed_data.csv')\n",
    "vals = df.values"
   ]
  },
  {
   "cell_type": "code",
   "execution_count": 89,
   "id": "fed233d4",
   "metadata": {},
   "outputs": [],
   "source": [
    "#df.drop('Unnamed: 0', axis=1, inplace=True)"
   ]
  },
  {
   "cell_type": "code",
   "execution_count": 90,
   "id": "7ebed23f",
   "metadata": {},
   "outputs": [
    {
     "data": {
      "text/html": [
       "<div>\n",
       "<style scoped>\n",
       "    .dataframe tbody tr th:only-of-type {\n",
       "        vertical-align: middle;\n",
       "    }\n",
       "\n",
       "    .dataframe tbody tr th {\n",
       "        vertical-align: top;\n",
       "    }\n",
       "\n",
       "    .dataframe thead th {\n",
       "        text-align: right;\n",
       "    }\n",
       "</style>\n",
       "<table border=\"1\" class=\"dataframe\">\n",
       "  <thead>\n",
       "    <tr style=\"text-align: right;\">\n",
       "      <th></th>\n",
       "      <th>Unnamed: 0</th>\n",
       "      <th>raw_ref</th>\n",
       "      <th>Authors</th>\n",
       "      <th>Year</th>\n",
       "      <th>Title</th>\n",
       "    </tr>\n",
       "  </thead>\n",
       "  <tbody>\n",
       "    <tr>\n",
       "      <th>0</th>\n",
       "      <td>0</td>\n",
       "      <td>Arun K Punjari “Data mining techniques” univer...</td>\n",
       "      <td>[' Arun K Punjari']</td>\n",
       "      <td>2001.0</td>\n",
       "      <td>Punjari “Data mining techniques” universities...</td>\n",
       "    </tr>\n",
       "    <tr>\n",
       "      <th>1</th>\n",
       "      <td>2</td>\n",
       "      <td>L. Davis, Handbook of genetic algorithms, Van ...</td>\n",
       "      <td>[' L. Davis', ' Van Nostrand Reinhold']</td>\n",
       "      <td>1991.0</td>\n",
       "      <td>Handbook of genetic algorithms, Van Nostrand ...</td>\n",
       "    </tr>\n",
       "    <tr>\n",
       "      <th>2</th>\n",
       "      <td>3</td>\n",
       "      <td>Y. Hiemstra, “Modeling structured nonlinear kn...</td>\n",
       "      <td>[' Y. Hiemstra', ' Trippi', ' R. R', ' Irwin']</td>\n",
       "      <td>1995.0</td>\n",
       "      <td>“Modeling structured nonlinear knowledge to p...</td>\n",
       "    </tr>\n",
       "    <tr>\n",
       "      <th>3</th>\n",
       "      <td>4</td>\n",
       "      <td>K. Kohara, Ishikawa T., Fukuhara Y. and Nakamu...</td>\n",
       "      <td>[' K. Kohara', ' Ishikawa', ' Fukuhara Y.', ' ...</td>\n",
       "      <td>1997.0</td>\n",
       "      <td>price prediction using prior knowledge and ne...</td>\n",
       "    </tr>\n",
       "    <tr>\n",
       "      <th>4</th>\n",
       "      <td>5</td>\n",
       "      <td>K. Kamijo and Tanigawa T., “Stock price patter...</td>\n",
       "      <td>[' K. Kamijo', ' Tanigawa']</td>\n",
       "      <td>1221.0</td>\n",
       "      <td>price pattern recognition: A recurrent neural...</td>\n",
       "    </tr>\n",
       "  </tbody>\n",
       "</table>\n",
       "</div>"
      ],
      "text/plain": [
       "   Unnamed: 0                                            raw_ref  \\\n",
       "0           0  Arun K Punjari “Data mining techniques” univer...   \n",
       "1           2  L. Davis, Handbook of genetic algorithms, Van ...   \n",
       "2           3  Y. Hiemstra, “Modeling structured nonlinear kn...   \n",
       "3           4  K. Kohara, Ishikawa T., Fukuhara Y. and Nakamu...   \n",
       "4           5  K. Kamijo and Tanigawa T., “Stock price patter...   \n",
       "\n",
       "                                             Authors    Year  \\\n",
       "0                                [' Arun K Punjari']  2001.0   \n",
       "1            [' L. Davis', ' Van Nostrand Reinhold']  1991.0   \n",
       "2     [' Y. Hiemstra', ' Trippi', ' R. R', ' Irwin']  1995.0   \n",
       "3  [' K. Kohara', ' Ishikawa', ' Fukuhara Y.', ' ...  1997.0   \n",
       "4                        [' K. Kamijo', ' Tanigawa']  1221.0   \n",
       "\n",
       "                                               Title  \n",
       "0   Punjari “Data mining techniques” universities...  \n",
       "1   Handbook of genetic algorithms, Van Nostrand ...  \n",
       "2   “Modeling structured nonlinear knowledge to p...  \n",
       "3   price prediction using prior knowledge and ne...  \n",
       "4   price pattern recognition: A recurrent neural...  "
      ]
     },
     "execution_count": 90,
     "metadata": {},
     "output_type": "execute_result"
    }
   ],
   "source": [
    "df.head()"
   ]
  },
  {
   "cell_type": "code",
   "execution_count": 91,
   "id": "29994de0",
   "metadata": {},
   "outputs": [],
   "source": [
    "#vals = df['Title'].values"
   ]
  },
  {
   "cell_type": "code",
   "execution_count": 92,
   "id": "03ddab95",
   "metadata": {},
   "outputs": [
    {
     "data": {
      "text/plain": [
       "('[1337\\n \\'[1946] The Tenth International Workshop on Learning Classifier Systems (IWLCS 2007), Lecture Notes in Computer Science (LNCS) subseries Lecture Notes in Artiﬁcial Intelligence series (LNAI), July 8, 2007, University College London, in London, England. Springer. Held in association with GECCO-2007 (see also [2037, 2038]).\\'\\n \"[\\' Springer\\']\" 2038.0 \\' The\\']',\n",
       " 5,\n",
       " numpy.ndarray)"
      ]
     },
     "execution_count": 92,
     "metadata": {},
     "output_type": "execute_result"
    }
   ],
   "source": [
    "str(vals[k]), len(vals[k]), type(vals[k])"
   ]
  },
  {
   "cell_type": "code",
   "execution_count": 93,
   "id": "e05e41cd",
   "metadata": {},
   "outputs": [],
   "source": [
    "searchfor = ['stock', 'trading', 'financial', 'finance', 'market']\n",
    "#found_df = df[df['Title'].str.contains('|'.join(searchfor))]"
   ]
  },
  {
   "cell_type": "code",
   "execution_count": 94,
   "id": "4e1f7aa6",
   "metadata": {},
   "outputs": [
    {
     "data": {
      "text/plain": [
       "(1182,\n",
       " array([1337,\n",
       "        '[1946] The Tenth International Workshop on Learning Classifier Systems (IWLCS 2007), Lecture Notes in Computer Science (LNCS) subseries Lecture Notes in Artiﬁcial Intelligence series (LNAI), July 8, 2007, University College London, in London, England. Springer. Held in association with GECCO-2007 (see also [2037, 2038]).',\n",
       "        \"[' Springer']\", 2038.0, ' The'], dtype=object))"
      ]
     },
     "execution_count": 94,
     "metadata": {},
     "output_type": "execute_result"
    }
   ],
   "source": [
    "k, vals[k]"
   ]
  },
  {
   "cell_type": "code",
   "execution_count": 95,
   "id": "9da20f81",
   "metadata": {},
   "outputs": [],
   "source": [
    "cnt = 0\n",
    "\n",
    "finrl_vals = []\n",
    "for k in range(len(vals)): \n",
    "    \n",
    "    if isinstance(vals[k][4], float):\n",
    "#    if k == 36934 or k == 36967:\n",
    "        continue\n",
    "            \n",
    "    if any(x in vals[k][4] for x in searchfor):\n",
    " #   if type([vals[k]]) != str:\n",
    " #       print('Wrong', k, cnt)\n",
    "#    if vals[k].str.contains('|'.join(searchfor)) == True:\n",
    "        finrl_vals.append(vals[k])\n",
    "        cnt +=1"
   ]
  },
  {
   "cell_type": "code",
   "execution_count": 96,
   "id": "e15ba75a",
   "metadata": {},
   "outputs": [
    {
     "data": {
      "text/plain": [
       "4311"
      ]
     },
     "execution_count": 96,
     "metadata": {},
     "output_type": "execute_result"
    }
   ],
   "source": [
    "cnt"
   ]
  },
  {
   "cell_type": "code",
   "execution_count": 97,
   "id": "371f3aa8",
   "metadata": {},
   "outputs": [
    {
     "data": {
      "text/html": [
       "<div>\n",
       "<style scoped>\n",
       "    .dataframe tbody tr th:only-of-type {\n",
       "        vertical-align: middle;\n",
       "    }\n",
       "\n",
       "    .dataframe tbody tr th {\n",
       "        vertical-align: top;\n",
       "    }\n",
       "\n",
       "    .dataframe thead th {\n",
       "        text-align: right;\n",
       "    }\n",
       "</style>\n",
       "<table border=\"1\" class=\"dataframe\">\n",
       "  <thead>\n",
       "    <tr style=\"text-align: right;\">\n",
       "      <th></th>\n",
       "      <th>Unnamed: 0</th>\n",
       "      <th>raw_ref</th>\n",
       "      <th>Authors</th>\n",
       "      <th>Year</th>\n",
       "      <th>Title</th>\n",
       "    </tr>\n",
       "  </thead>\n",
       "  <tbody>\n",
       "    <tr>\n",
       "      <th>0</th>\n",
       "      <td>0</td>\n",
       "      <td>Arun K Punjari “Data mining techniques” univer...</td>\n",
       "      <td>[' Arun K Punjari']</td>\n",
       "      <td>2001.0</td>\n",
       "      <td>Punjari “Data mining techniques” universities...</td>\n",
       "    </tr>\n",
       "    <tr>\n",
       "      <th>1</th>\n",
       "      <td>2</td>\n",
       "      <td>L. Davis, Handbook of genetic algorithms, Van ...</td>\n",
       "      <td>[' L. Davis', ' Van Nostrand Reinhold']</td>\n",
       "      <td>1991.0</td>\n",
       "      <td>Handbook of genetic algorithms, Van Nostrand ...</td>\n",
       "    </tr>\n",
       "    <tr>\n",
       "      <th>2</th>\n",
       "      <td>3</td>\n",
       "      <td>Y. Hiemstra, “Modeling structured nonlinear kn...</td>\n",
       "      <td>[' Y. Hiemstra', ' Trippi', ' R. R', ' Irwin']</td>\n",
       "      <td>1995.0</td>\n",
       "      <td>“Modeling structured nonlinear knowledge to p...</td>\n",
       "    </tr>\n",
       "    <tr>\n",
       "      <th>3</th>\n",
       "      <td>4</td>\n",
       "      <td>K. Kohara, Ishikawa T., Fukuhara Y. and Nakamu...</td>\n",
       "      <td>[' K. Kohara', ' Ishikawa', ' Fukuhara Y.', ' ...</td>\n",
       "      <td>1997.0</td>\n",
       "      <td>price prediction using prior knowledge and ne...</td>\n",
       "    </tr>\n",
       "    <tr>\n",
       "      <th>4</th>\n",
       "      <td>5</td>\n",
       "      <td>K. Kamijo and Tanigawa T., “Stock price patter...</td>\n",
       "      <td>[' K. Kamijo', ' Tanigawa']</td>\n",
       "      <td>1221.0</td>\n",
       "      <td>price pattern recognition: A recurrent neural...</td>\n",
       "    </tr>\n",
       "  </tbody>\n",
       "</table>\n",
       "</div>"
      ],
      "text/plain": [
       "   Unnamed: 0                                            raw_ref  \\\n",
       "0           0  Arun K Punjari “Data mining techniques” univer...   \n",
       "1           2  L. Davis, Handbook of genetic algorithms, Van ...   \n",
       "2           3  Y. Hiemstra, “Modeling structured nonlinear kn...   \n",
       "3           4  K. Kohara, Ishikawa T., Fukuhara Y. and Nakamu...   \n",
       "4           5  K. Kamijo and Tanigawa T., “Stock price patter...   \n",
       "\n",
       "                                             Authors    Year  \\\n",
       "0                                [' Arun K Punjari']  2001.0   \n",
       "1            [' L. Davis', ' Van Nostrand Reinhold']  1991.0   \n",
       "2     [' Y. Hiemstra', ' Trippi', ' R. R', ' Irwin']  1995.0   \n",
       "3  [' K. Kohara', ' Ishikawa', ' Fukuhara Y.', ' ...  1997.0   \n",
       "4                        [' K. Kamijo', ' Tanigawa']  1221.0   \n",
       "\n",
       "                                               Title  \n",
       "0   Punjari “Data mining techniques” universities...  \n",
       "1   Handbook of genetic algorithms, Van Nostrand ...  \n",
       "2   “Modeling structured nonlinear knowledge to p...  \n",
       "3   price prediction using prior knowledge and ne...  \n",
       "4   price pattern recognition: A recurrent neural...  "
      ]
     },
     "execution_count": 97,
     "metadata": {},
     "output_type": "execute_result"
    }
   ],
   "source": [
    "df.head()"
   ]
  },
  {
   "cell_type": "code",
   "execution_count": 105,
   "id": "a3af56b2",
   "metadata": {},
   "outputs": [],
   "source": [
    "finrl_df = pd.DataFrame(finrl_vals, columns =['unnamed', 'raw_ref', 'authors', 'year', 'title'])"
   ]
  },
  {
   "cell_type": "code",
   "execution_count": 106,
   "id": "f5becaa9",
   "metadata": {},
   "outputs": [],
   "source": [
    "finrl_df.drop('unnamed', axis=1, inplace=True)"
   ]
  },
  {
   "cell_type": "code",
   "execution_count": 107,
   "id": "e561484a",
   "metadata": {},
   "outputs": [
    {
     "data": {
      "text/plain": [
       "(4311, 4)"
      ]
     },
     "execution_count": 107,
     "metadata": {},
     "output_type": "execute_result"
    }
   ],
   "source": [
    "finrl_df.shape"
   ]
  },
  {
   "cell_type": "code",
   "execution_count": 109,
   "id": "ec75bd6e",
   "metadata": {},
   "outputs": [],
   "source": [
    "finrl_df.to_csv('all_finrl_ref.csv', index=False)"
   ]
  },
  {
   "cell_type": "code",
   "execution_count": null,
   "id": "4474da2c",
   "metadata": {},
   "outputs": [],
   "source": []
  }
 ],
 "metadata": {
  "kernelspec": {
   "display_name": "Python 3 (ipykernel)",
   "language": "python",
   "name": "python3"
  },
  "language_info": {
   "codemirror_mode": {
    "name": "ipython",
    "version": 3
   },
   "file_extension": ".py",
   "mimetype": "text/x-python",
   "name": "python",
   "nbconvert_exporter": "python",
   "pygments_lexer": "ipython3",
   "version": "3.8.10"
  }
 },
 "nbformat": 4,
 "nbformat_minor": 5
}
