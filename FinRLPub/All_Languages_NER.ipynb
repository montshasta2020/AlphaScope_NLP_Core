{
 "cells": [
  {
   "cell_type": "code",
   "execution_count": 2,
   "id": "71d718c1",
   "metadata": {},
   "outputs": [],
   "source": [
    "import spacy\n",
    "from langdetect import detect"
   ]
  },
  {
   "cell_type": "code",
   "execution_count": 7,
   "id": "48360465",
   "metadata": {},
   "outputs": [
    {
     "name": "stdout",
     "output_type": "stream",
     "text": [
      "vi\n"
     ]
    }
   ],
   "source": [
    "text = 'Horváth, L.'\n",
    "#text = 'Bühlmann, P.'\n",
    "\n",
    "lang = detect(text)\n",
    "print(lang)"
   ]
  },
  {
   "cell_type": "code",
   "execution_count": 19,
   "id": "9992e860",
   "metadata": {},
   "outputs": [],
   "source": [
    "import spacy\n",
    "from langdetect import detect\n",
    "nlp={}  \n",
    "\n",
    "#text = ' Aue, A. and Horváth, L.'\n",
    "text = 'Bühlmann, P.'\n",
    "for lang in [\"en\", \"es\", \"de\", \"fr\"]: # Fill in the languages you want, hopefully they are supported by spacy.\n",
    "    if lang == \"en\":\n",
    "        nlp[lang]=spacy.load(lang + '_core_web_sm')\n",
    "    else: \n",
    "        nlp[lang]=spacy.load(lang + '_core_news_lg')\n",
    "\n",
    "def entites(text):\n",
    "    lang = detect(text)\n",
    "    \n",
    "    print (lang)\n",
    "    try:\n",
    "        nlp2 =nlp[lang]\n",
    "    except KeyError:\n",
    "        return Exception(lang + \" model is not loaded\")\n",
    "    \n",
    "    return [(str(x), x.label_) for x in nlp2(str(text)).ents]"
   ]
  },
  {
   "cell_type": "code",
   "execution_count": 20,
   "id": "1908a40d",
   "metadata": {},
   "outputs": [
    {
     "name": "stdout",
     "output_type": "stream",
     "text": [
      "de\n"
     ]
    },
    {
     "data": {
      "text/plain": [
       "[]"
      ]
     },
     "execution_count": 20,
     "metadata": {},
     "output_type": "execute_result"
    }
   ],
   "source": [
    "entites(text)"
   ]
  },
  {
   "cell_type": "code",
   "execution_count": 12,
   "id": "899c6300",
   "metadata": {},
   "outputs": [],
   "source": [
    "import spacy\n",
    "nlp = spacy.load(\"en_core_web_sm\")"
   ]
  },
  {
   "cell_type": "code",
   "execution_count": null,
   "id": "4091ab59",
   "metadata": {},
   "outputs": [],
   "source": []
  }
 ],
 "metadata": {
  "kernelspec": {
   "display_name": "Python 3 (ipykernel)",
   "language": "python",
   "name": "python3"
  },
  "language_info": {
   "codemirror_mode": {
    "name": "ipython",
    "version": 3
   },
   "file_extension": ".py",
   "mimetype": "text/x-python",
   "name": "python",
   "nbconvert_exporter": "python",
   "pygments_lexer": "ipython3",
   "version": "3.8.10"
  }
 },
 "nbformat": 4,
 "nbformat_minor": 5
}
