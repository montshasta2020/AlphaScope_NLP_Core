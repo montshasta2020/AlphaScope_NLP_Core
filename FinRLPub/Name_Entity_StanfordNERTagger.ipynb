{
 "cells": [
  {
   "cell_type": "code",
   "execution_count": 3,
   "id": "f681c0d4",
   "metadata": {},
   "outputs": [],
   "source": [
    "from nltk.tag import StanfordNERTagger\n",
    "from nltk.tokenize import word_tokenize"
   ]
  },
  {
   "cell_type": "code",
   "execution_count": 12,
   "id": "70ad38ab",
   "metadata": {},
   "outputs": [],
   "source": [
    "# Adapt those lines to your installation\n",
    "#https://nlp.stanford.edu/software/CRF-NER.html\n",
    "jar_location = 'stanford-ner-2020-11-17/stanford-ner.jar'\n",
    "model_location_3classes = 'stanford-ner-2020-11-17/classifiers/english.all.3class.distsim.crf.ser.gz'\n",
    "model_location_4classes = 'stanford-ner-2020-11-17/classifiers/english.all.3class.distsim.crf.ser.gz'\n",
    "model_location_7classes = 'stanford-ner-2020-11-17/classifiers/english.muc.7class.distsim.crf.ser.gz'\n",
    "st3 = StanfordNERTagger(model_location_3classes,jar_location,encoding='utf-8')\n",
    "st4 = StanfordNERTagger(model_location_4classes,jar_location,encoding='utf-8')\n",
    "st7 = StanfordNERTagger(model_location_7classes,jar_location,encoding='utf-8')\n"
   ]
  },
  {
   "cell_type": "code",
   "execution_count": 5,
   "id": "844cece8",
   "metadata": {},
   "outputs": [
    {
     "name": "stdout",
     "output_type": "stream",
     "text": [
      "<nltk.tag.stanford.StanfordNERTagger object at 0x7f8954715a00>\n",
      "<nltk.tag.stanford.StanfordNERTagger object at 0x7f8954715a90>\n"
     ]
    }
   ],
   "source": [
    "print(st3)\n",
    "print(st7)"
   ]
  },
  {
   "cell_type": "code",
   "execution_count": 6,
   "id": "8517ff59",
   "metadata": {},
   "outputs": [],
   "source": [
    "#text = '''Lovelace became close friends with her tutor Mary Somerville, who introduced her to Charles Babbage in 1833. She had a strong respect and affection for Somerville, and they corresponded for many years. Other acquaintances included the scientists Andrew Crosse, Sir David Brewster, Charles Wheatstone, Michael Faraday and the author Charles Dickens. She was presented at Court at the age of seventeen \"and became a popular belle of the season\" in part because of her \"brilliant mind.\" By 1834 Ada was a regular at Court and started attending various events. She danced often and was able to charm many people, and was described by most people as being dainty, although John Hobhouse, Byron's friend, described her as \"a large, coarse-skinned young woman but with something of my friend's features, particularly the mouth\". This description followed their meeting on 24 February 1834 in which Ada made it clear to Hobhouse that she did not like him, probably because of the influence of her mother, which led her to dislike all of her father's friends. This first impression was not to last, and they later became friends.'''\n",
    "text = 'Arun K Punjari “Data mining techniques” universities press (India) Pvt. Ltd. 2001'"
   ]
  },
  {
   "cell_type": "code",
   "execution_count": 13,
   "id": "857d6ce6",
   "metadata": {},
   "outputs": [],
   "source": [
    "tokenized_text = word_tokenize(text)\n",
    "text_ner3 = st3.tag(tokenized_text)\n",
    "text_ner4 = st4.tag(tokenized_text)\n",
    "text_ner7 = st7.tag(tokenized_text)"
   ]
  },
  {
   "cell_type": "code",
   "execution_count": 14,
   "id": "fc312831",
   "metadata": {},
   "outputs": [
    {
     "name": "stdout",
     "output_type": "stream",
     "text": [
      "[('Arun', 'PERSON'), ('K', 'PERSON'), ('Punjari', 'PERSON'), ('“', 'O'), ('Data', 'O'), ('mining', 'O'), ('techniques', 'O'), ('”', 'O'), ('universities', 'O'), ('press', 'O'), ('(', 'O'), ('India', 'LOCATION'), (')', 'O'), ('Pvt', 'O'), ('.', 'O'), ('Ltd.', 'O'), ('2001', 'O')]\n",
      "[('Arun', 'PERSON'), ('K', 'PERSON'), ('Punjari', 'PERSON'), ('“', 'O'), ('Data', 'O'), ('mining', 'O'), ('techniques', 'O'), ('”', 'O'), ('universities', 'O'), ('press', 'O'), ('(', 'O'), ('India', 'LOCATION'), (')', 'O'), ('Pvt', 'O'), ('.', 'O'), ('Ltd.', 'O'), ('2001', 'O')]\n",
      "[('Arun', 'O'), ('K', 'O'), ('Punjari', 'O'), ('“', 'O'), ('Data', 'O'), ('mining', 'O'), ('techniques', 'O'), ('”', 'O'), ('universities', 'O'), ('press', 'O'), ('(', 'O'), ('India', 'LOCATION'), (')', 'O'), ('Pvt', 'O'), ('.', 'O'), ('Ltd.', 'O'), ('2001', 'DATE')]\n"
     ]
    }
   ],
   "source": [
    "print(text_ner3)\n",
    "print (text_ner4)\n",
    "print(text_ner7)"
   ]
  },
  {
   "cell_type": "code",
   "execution_count": 11,
   "id": "864dd107",
   "metadata": {},
   "outputs": [
    {
     "name": "stdout",
     "output_type": "stream",
     "text": [
      "**** 3 classes ****\n",
      "PERSON       Arun K Punjari\n",
      "LOCATION     India\n",
      "**** 7 classes ****\n",
      "Tag O\n",
      "Tag LOCATION\n",
      "LOCATION     India\n",
      "Tag O\n",
      "Tag DATE\n",
      "DATE         2001\n"
     ]
    }
   ],
   "source": [
    "from itertools import groupby\n",
    "\n",
    "print(\"**** 3 classes ****\")\n",
    "for tag, chunk in groupby(text_ner3, lambda x:x[1]):\n",
    "    if tag != \"O\":\n",
    "        print(\"%-12s\"%tag, \" \".join(w for w, t in chunk))\n",
    "        \n",
    "print(\"**** 7 classes ****\")\n",
    "for tag, chunk in groupby(text_ner7, lambda x:x[1]):\n",
    "    print ('Tag', tag)\n",
    "    if tag != \"O\":\n",
    "        print(\"%-12s\"%tag, \" \".join(w for w, t in chunk))"
   ]
  },
  {
   "cell_type": "code",
   "execution_count": null,
   "id": "bf1dbce4",
   "metadata": {},
   "outputs": [],
   "source": []
  }
 ],
 "metadata": {
  "kernelspec": {
   "display_name": "Python 3 (ipykernel)",
   "language": "python",
   "name": "python3"
  },
  "language_info": {
   "codemirror_mode": {
    "name": "ipython",
    "version": 3
   },
   "file_extension": ".py",
   "mimetype": "text/x-python",
   "name": "python",
   "nbconvert_exporter": "python",
   "pygments_lexer": "ipython3",
   "version": "3.8.10"
  }
 },
 "nbformat": 4,
 "nbformat_minor": 5
}
