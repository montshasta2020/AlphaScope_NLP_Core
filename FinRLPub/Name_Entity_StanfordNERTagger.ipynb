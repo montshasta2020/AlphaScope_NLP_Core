{
 "cells": [
  {
   "cell_type": "code",
   "execution_count": 1,
   "id": "f681c0d4",
   "metadata": {},
   "outputs": [],
   "source": [
    "from nltk.tag import StanfordNERTagger\n",
    "from nltk.tokenize import word_tokenize"
   ]
  },
  {
   "cell_type": "code",
   "execution_count": 5,
   "id": "70ad38ab",
   "metadata": {},
   "outputs": [],
   "source": [
    "# Adapt those lines to your installation\n",
    "jar_location = 'stanford-ner-2020-11-17/stanford-ner.jar'\n",
    "model_location_3classes = 'stanford-ner-2020-11-17/classifiers/english.all.3class.distsim.crf.ser.gz'\n",
    "model_location_7classes = 'stanford-ner-2020-11-17/classifiers/english.muc.7class.distsim.crf.ser.gz'\n",
    "st3 = StanfordNERTagger(model_location_3classes,jar_location,encoding='utf-8')\n",
    "st7 = StanfordNERTagger(model_location_7classes,jar_location,encoding='utf-8')\n"
   ]
  },
  {
   "cell_type": "code",
   "execution_count": 6,
   "id": "844cece8",
   "metadata": {},
   "outputs": [
    {
     "name": "stdout",
     "output_type": "stream",
     "text": [
      "<nltk.tag.stanford.StanfordNERTagger object at 0x7effb45c2250>\n",
      "<nltk.tag.stanford.StanfordNERTagger object at 0x7effda2f4cd0>\n"
     ]
    }
   ],
   "source": [
    "print(st3)\n",
    "print(st7)"
   ]
  },
  {
   "cell_type": "code",
   "execution_count": 7,
   "id": "8517ff59",
   "metadata": {},
   "outputs": [],
   "source": [
    "text = '''Lovelace became close friends with her tutor Mary Somerville, who introduced her to Charles Babbage in 1833. She had a strong respect and affection for Somerville, and they corresponded for many years. Other acquaintances included the scientists Andrew Crosse, Sir David Brewster, Charles Wheatstone, Michael Faraday and the author Charles Dickens. She was presented at Court at the age of seventeen \"and became a popular belle of the season\" in part because of her \"brilliant mind.\" By 1834 Ada was a regular at Court and started attending various events. She danced often and was able to charm many people, and was described by most people as being dainty, although John Hobhouse, Byron's friend, described her as \"a large, coarse-skinned young woman but with something of my friend's features, particularly the mouth\". This description followed their meeting on 24 February 1834 in which Ada made it clear to Hobhouse that she did not like him, probably because of the influence of her mother, which led her to dislike all of her father's friends. This first impression was not to last, and they later became friends.'''"
   ]
  },
  {
   "cell_type": "code",
   "execution_count": 8,
   "id": "857d6ce6",
   "metadata": {},
   "outputs": [],
   "source": [
    "tokenized_text = word_tokenize(text)\n",
    "text_ner3 = st3.tag(tokenized_text)\n",
    "text_ner7 = st7.tag(tokenized_text)"
   ]
  },
  {
   "cell_type": "code",
   "execution_count": 10,
   "id": "fc312831",
   "metadata": {},
   "outputs": [
    {
     "name": "stdout",
     "output_type": "stream",
     "text": [
      "[('Lovelace', 'PERSON'), ('became', 'O'), ('close', 'O'), ('friends', 'O'), ('with', 'O'), ('her', 'O'), ('tutor', 'O'), ('Mary', 'PERSON'), ('Somerville', 'PERSON'), (',', 'O'), ('who', 'O'), ('introduced', 'O'), ('her', 'O'), ('to', 'O'), ('Charles', 'PERSON'), ('Babbage', 'PERSON'), ('in', 'O'), ('1833', 'O'), ('.', 'O'), ('She', 'O'), ('had', 'O'), ('a', 'O'), ('strong', 'O'), ('respect', 'O'), ('and', 'O'), ('affection', 'O'), ('for', 'O'), ('Somerville', 'LOCATION'), (',', 'O'), ('and', 'O'), ('they', 'O'), ('corresponded', 'O'), ('for', 'O'), ('many', 'O'), ('years', 'O'), ('.', 'O'), ('Other', 'O'), ('acquaintances', 'O'), ('included', 'O'), ('the', 'O'), ('scientists', 'O'), ('Andrew', 'PERSON'), ('Crosse', 'PERSON'), (',', 'O'), ('Sir', 'O'), ('David', 'PERSON'), ('Brewster', 'PERSON'), (',', 'O'), ('Charles', 'PERSON'), ('Wheatstone', 'PERSON'), (',', 'O'), ('Michael', 'PERSON'), ('Faraday', 'PERSON'), ('and', 'O'), ('the', 'O'), ('author', 'O'), ('Charles', 'PERSON'), ('Dickens', 'PERSON'), ('.', 'O'), ('She', 'O'), ('was', 'O'), ('presented', 'O'), ('at', 'O'), ('Court', 'O'), ('at', 'O'), ('the', 'O'), ('age', 'O'), ('of', 'O'), ('seventeen', 'O'), ('``', 'O'), ('and', 'O'), ('became', 'O'), ('a', 'O'), ('popular', 'O'), ('belle', 'O'), ('of', 'O'), ('the', 'O'), ('season', 'O'), (\"''\", 'O'), ('in', 'O'), ('part', 'O'), ('because', 'O'), ('of', 'O'), ('her', 'O'), ('``', 'O'), ('brilliant', 'O'), ('mind', 'O'), ('.', 'O'), (\"''\", 'O'), ('By', 'O'), ('1834', 'O'), ('Ada', 'PERSON'), ('was', 'O'), ('a', 'O'), ('regular', 'O'), ('at', 'O'), ('Court', 'O'), ('and', 'O'), ('started', 'O'), ('attending', 'O'), ('various', 'O'), ('events', 'O'), ('.', 'O'), ('She', 'O'), ('danced', 'O'), ('often', 'O'), ('and', 'O'), ('was', 'O'), ('able', 'O'), ('to', 'O'), ('charm', 'O'), ('many', 'O'), ('people', 'O'), (',', 'O'), ('and', 'O'), ('was', 'O'), ('described', 'O'), ('by', 'O'), ('most', 'O'), ('people', 'O'), ('as', 'O'), ('being', 'O'), ('dainty', 'O'), (',', 'O'), ('although', 'O'), ('John', 'PERSON'), ('Hobhouse', 'PERSON'), (',', 'O'), ('Byron', 'PERSON'), (\"'s\", 'O'), ('friend', 'O'), (',', 'O'), ('described', 'O'), ('her', 'O'), ('as', 'O'), ('``', 'O'), ('a', 'O'), ('large', 'O'), (',', 'O'), ('coarse-skinned', 'O'), ('young', 'O'), ('woman', 'O'), ('but', 'O'), ('with', 'O'), ('something', 'O'), ('of', 'O'), ('my', 'O'), ('friend', 'O'), (\"'s\", 'O'), ('features', 'O'), (',', 'O'), ('particularly', 'O'), ('the', 'O'), ('mouth', 'O'), (\"''\", 'O'), ('.', 'O'), ('This', 'O'), ('description', 'O'), ('followed', 'O'), ('their', 'O'), ('meeting', 'O'), ('on', 'O'), ('24', 'O'), ('February', 'O'), ('1834', 'O'), ('in', 'O'), ('which', 'O'), ('Ada', 'PERSON'), ('made', 'O'), ('it', 'O'), ('clear', 'O'), ('to', 'O'), ('Hobhouse', 'PERSON'), ('that', 'O'), ('she', 'O'), ('did', 'O'), ('not', 'O'), ('like', 'O'), ('him', 'O'), (',', 'O'), ('probably', 'O'), ('because', 'O'), ('of', 'O'), ('the', 'O'), ('influence', 'O'), ('of', 'O'), ('her', 'O'), ('mother', 'O'), (',', 'O'), ('which', 'O'), ('led', 'O'), ('her', 'O'), ('to', 'O'), ('dislike', 'O'), ('all', 'O'), ('of', 'O'), ('her', 'O'), ('father', 'O'), (\"'s\", 'O'), ('friends', 'O'), ('.', 'O'), ('This', 'O'), ('first', 'O'), ('impression', 'O'), ('was', 'O'), ('not', 'O'), ('to', 'O'), ('last', 'O'), (',', 'O'), ('and', 'O'), ('they', 'O'), ('later', 'O'), ('became', 'O'), ('friends', 'O'), ('.', 'O')]\n",
      "[('Lovelace', 'O'), ('became', 'O'), ('close', 'O'), ('friends', 'O'), ('with', 'O'), ('her', 'O'), ('tutor', 'O'), ('Mary', 'PERSON'), ('Somerville', 'PERSON'), (',', 'O'), ('who', 'O'), ('introduced', 'O'), ('her', 'O'), ('to', 'O'), ('Charles', 'PERSON'), ('Babbage', 'PERSON'), ('in', 'O'), ('1833', 'DATE'), ('.', 'O'), ('She', 'O'), ('had', 'O'), ('a', 'O'), ('strong', 'O'), ('respect', 'O'), ('and', 'O'), ('affection', 'O'), ('for', 'O'), ('Somerville', 'LOCATION'), (',', 'O'), ('and', 'O'), ('they', 'O'), ('corresponded', 'O'), ('for', 'O'), ('many', 'O'), ('years', 'O'), ('.', 'O'), ('Other', 'O'), ('acquaintances', 'O'), ('included', 'O'), ('the', 'O'), ('scientists', 'O'), ('Andrew', 'PERSON'), ('Crosse', 'PERSON'), (',', 'O'), ('Sir', 'O'), ('David', 'PERSON'), ('Brewster', 'PERSON'), (',', 'O'), ('Charles', 'PERSON'), ('Wheatstone', 'PERSON'), (',', 'O'), ('Michael', 'PERSON'), ('Faraday', 'PERSON'), ('and', 'O'), ('the', 'O'), ('author', 'O'), ('Charles', 'PERSON'), ('Dickens', 'PERSON'), ('.', 'O'), ('She', 'O'), ('was', 'O'), ('presented', 'O'), ('at', 'O'), ('Court', 'O'), ('at', 'O'), ('the', 'O'), ('age', 'O'), ('of', 'O'), ('seventeen', 'O'), ('``', 'O'), ('and', 'O'), ('became', 'O'), ('a', 'O'), ('popular', 'O'), ('belle', 'O'), ('of', 'O'), ('the', 'O'), ('season', 'O'), (\"''\", 'O'), ('in', 'O'), ('part', 'O'), ('because', 'O'), ('of', 'O'), ('her', 'O'), ('``', 'O'), ('brilliant', 'O'), ('mind', 'O'), ('.', 'O'), (\"''\", 'O'), ('By', 'O'), ('1834', 'DATE'), ('Ada', 'ORGANIZATION'), ('was', 'O'), ('a', 'O'), ('regular', 'O'), ('at', 'O'), ('Court', 'O'), ('and', 'O'), ('started', 'O'), ('attending', 'O'), ('various', 'O'), ('events', 'O'), ('.', 'O'), ('She', 'O'), ('danced', 'O'), ('often', 'O'), ('and', 'O'), ('was', 'O'), ('able', 'O'), ('to', 'O'), ('charm', 'O'), ('many', 'O'), ('people', 'O'), (',', 'O'), ('and', 'O'), ('was', 'O'), ('described', 'O'), ('by', 'O'), ('most', 'O'), ('people', 'O'), ('as', 'O'), ('being', 'O'), ('dainty', 'O'), (',', 'O'), ('although', 'O'), ('John', 'PERSON'), ('Hobhouse', 'PERSON'), (',', 'O'), ('Byron', 'PERSON'), (\"'s\", 'O'), ('friend', 'O'), (',', 'O'), ('described', 'O'), ('her', 'O'), ('as', 'O'), ('``', 'O'), ('a', 'O'), ('large', 'O'), (',', 'O'), ('coarse-skinned', 'O'), ('young', 'O'), ('woman', 'O'), ('but', 'O'), ('with', 'O'), ('something', 'O'), ('of', 'O'), ('my', 'O'), ('friend', 'O'), (\"'s\", 'O'), ('features', 'O'), (',', 'O'), ('particularly', 'O'), ('the', 'O'), ('mouth', 'O'), (\"''\", 'O'), ('.', 'O'), ('This', 'O'), ('description', 'O'), ('followed', 'O'), ('their', 'O'), ('meeting', 'O'), ('on', 'O'), ('24', 'O'), ('February', 'DATE'), ('1834', 'DATE'), ('in', 'O'), ('which', 'O'), ('Ada', 'ORGANIZATION'), ('made', 'O'), ('it', 'O'), ('clear', 'O'), ('to', 'O'), ('Hobhouse', 'PERSON'), ('that', 'O'), ('she', 'O'), ('did', 'O'), ('not', 'O'), ('like', 'O'), ('him', 'O'), (',', 'O'), ('probably', 'O'), ('because', 'O'), ('of', 'O'), ('the', 'O'), ('influence', 'O'), ('of', 'O'), ('her', 'O'), ('mother', 'O'), (',', 'O'), ('which', 'O'), ('led', 'O'), ('her', 'O'), ('to', 'O'), ('dislike', 'O'), ('all', 'O'), ('of', 'O'), ('her', 'O'), ('father', 'O'), (\"'s\", 'O'), ('friends', 'O'), ('.', 'O'), ('This', 'O'), ('first', 'O'), ('impression', 'O'), ('was', 'O'), ('not', 'O'), ('to', 'O'), ('last', 'O'), (',', 'O'), ('and', 'O'), ('they', 'O'), ('later', 'O'), ('became', 'O'), ('friends', 'O'), ('.', 'O')]\n"
     ]
    }
   ],
   "source": [
    "print(text_ner3)\n",
    "print(text_ner7)"
   ]
  },
  {
   "cell_type": "code",
   "execution_count": 11,
   "id": "864dd107",
   "metadata": {},
   "outputs": [
    {
     "name": "stdout",
     "output_type": "stream",
     "text": [
      "**** 3 classes ****\n",
      "PERSON       Lovelace\n",
      "PERSON       Mary Somerville\n",
      "PERSON       Charles Babbage\n",
      "LOCATION     Somerville\n",
      "PERSON       Andrew Crosse\n",
      "PERSON       David Brewster\n",
      "PERSON       Charles Wheatstone\n",
      "PERSON       Michael Faraday\n",
      "PERSON       Charles Dickens\n",
      "PERSON       Ada\n",
      "PERSON       John Hobhouse\n",
      "PERSON       Byron\n",
      "PERSON       Ada\n",
      "PERSON       Hobhouse\n",
      "**** 7 classes ****\n",
      "PERSON       Mary Somerville\n",
      "PERSON       Charles Babbage\n",
      "DATE         1833\n",
      "LOCATION     Somerville\n",
      "PERSON       Andrew Crosse\n",
      "PERSON       David Brewster\n",
      "PERSON       Charles Wheatstone\n",
      "PERSON       Michael Faraday\n",
      "PERSON       Charles Dickens\n",
      "DATE         1834\n",
      "ORGANIZATION Ada\n",
      "PERSON       John Hobhouse\n",
      "PERSON       Byron\n",
      "DATE         February 1834\n",
      "ORGANIZATION Ada\n",
      "PERSON       Hobhouse\n"
     ]
    }
   ],
   "source": [
    "from itertools import groupby\n",
    "\n",
    "print(\"**** 3 classes ****\")\n",
    "for tag, chunk in groupby(text_ner3, lambda x:x[1]):\n",
    "    if tag != \"O\":\n",
    "        print(\"%-12s\"%tag, \" \".join(w for w, t in chunk))\n",
    "        \n",
    "print(\"**** 7 classes ****\")\n",
    "for tag, chunk in groupby(text_ner7, lambda x:x[1]):\n",
    "    if tag != \"O\":\n",
    "        print(\"%-12s\"%tag, \" \".join(w for w, t in chunk))"
   ]
  },
  {
   "cell_type": "code",
   "execution_count": null,
   "id": "bf1dbce4",
   "metadata": {},
   "outputs": [],
   "source": []
  }
 ],
 "metadata": {
  "kernelspec": {
   "display_name": "Python 3 (ipykernel)",
   "language": "python",
   "name": "python3"
  },
  "language_info": {
   "codemirror_mode": {
    "name": "ipython",
    "version": 3
   },
   "file_extension": ".py",
   "mimetype": "text/x-python",
   "name": "python",
   "nbconvert_exporter": "python",
   "pygments_lexer": "ipython3",
   "version": "3.8.10"
  }
 },
 "nbformat": 4,
 "nbformat_minor": 5
}
