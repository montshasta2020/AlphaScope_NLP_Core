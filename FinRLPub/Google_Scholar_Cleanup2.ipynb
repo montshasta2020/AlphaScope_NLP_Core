{
 "cells": [
  {
   "cell_type": "code",
   "execution_count": 1,
   "id": "13408a31",
   "metadata": {},
   "outputs": [],
   "source": [
    "import pandas as pd\n",
    "import glob"
   ]
  },
  {
   "cell_type": "code",
   "execution_count": 2,
   "id": "3751baaa",
   "metadata": {},
   "outputs": [
    {
     "name": "stdout",
     "output_type": "stream",
     "text": [
      "./Google_Scholar_combined/Spiking_Combined_From_2017.csv\n",
      "(1000, 26)\n",
      "(1000, 26)\n",
      "./Google_Scholar_combined/Genetic_Combined_From_2017.csv\n",
      "(996, 26)\n",
      "(1996, 26)\n",
      "./Google_Scholar_combined/ML_Combined_From_2017.csv\n",
      "(999, 26)\n",
      "(2995, 26)\n",
      "./Google_Scholar_combined/Fuzzy_Network_Combined_From_2017.csv\n",
      "(996, 26)\n",
      "(3991, 26)\n",
      "./Google_Scholar_combined/RL_Combined_From_2017.csv\n",
      "(998, 26)\n",
      "(4989, 26)\n",
      "./Google_Scholar_combined/Feature_Engineering_Combined_From_2017.csv\n",
      "(999, 26)\n",
      "(5988, 26)\n",
      "./Google_Scholar_combined/DL_Combined_From_2017.csv\n",
      "(999, 26)\n",
      "(6987, 26)\n",
      "./Google_Scholar_combined/Neutral_Networks_Combined_From_2017.csv\n",
      "(1000, 26)\n",
      "(7987, 26)\n",
      "./Google_Scholar_combined/xgboost_Combined_From_2017.csv\n",
      "(1000, 26)\n",
      "(8987, 26)\n"
     ]
    }
   ],
   "source": [
    "root_dir = './Google_Scholar_combined/*.csv'\n",
    "all_refs = []\n",
    "all_miss = []\n",
    "cnt = 0\n",
    "for fn in glob.glob(root_dir):\n",
    "    print(fn)\n",
    "    df = pd.read_csv(fn)\n",
    "    print (df.shape)\n",
    "    \n",
    "    if cnt == 0:\n",
    "        merged_df = df\n",
    "    else:\n",
    "        merged_df = pd.concat([merged_df, df])\n",
    "    print(merged_df.shape)\n",
    "    cnt += df.shape[0]"
   ]
  },
  {
   "cell_type": "code",
   "execution_count": 3,
   "id": "fbe118d4",
   "metadata": {},
   "outputs": [],
   "source": [
    "#merged_df['abstract'] = merged_df['Abstract'].str.lower()\n",
    "merged_df['title'] = merged_df['Title'].str.lower()"
   ]
  },
  {
   "cell_type": "code",
   "execution_count": null,
   "id": "ac997ad2",
   "metadata": {},
   "outputs": [],
   "source": []
  },
  {
   "cell_type": "code",
   "execution_count": 4,
   "id": "58ff7fc5",
   "metadata": {},
   "outputs": [],
   "source": [
    "#merged_df.drop_duplicates(keep=False,inplace=True)"
   ]
  },
  {
   "cell_type": "code",
   "execution_count": 5,
   "id": "3d8bf2c3",
   "metadata": {},
   "outputs": [
    {
     "data": {
      "text/plain": [
       "(8987, 27)"
      ]
     },
     "execution_count": 5,
     "metadata": {},
     "output_type": "execute_result"
    }
   ],
   "source": [
    "merged_df.shape"
   ]
  },
  {
   "cell_type": "code",
   "execution_count": 7,
   "id": "9ef46212",
   "metadata": {},
   "outputs": [],
   "source": [
    "sub_df = merged_df[['Cites', 'Authors', 'Title', 'Year']]"
   ]
  },
  {
   "cell_type": "code",
   "execution_count": 8,
   "id": "656cd8f9",
   "metadata": {},
   "outputs": [
    {
     "data": {
      "text/plain": [
       "(8987, 4)"
      ]
     },
     "execution_count": 8,
     "metadata": {},
     "output_type": "execute_result"
    }
   ],
   "source": [
    "sub_df.shape"
   ]
  },
  {
   "cell_type": "code",
   "execution_count": 18,
   "id": "e73365e7",
   "metadata": {},
   "outputs": [
    {
     "data": {
      "text/html": [
       "<div>\n",
       "<style scoped>\n",
       "    .dataframe tbody tr th:only-of-type {\n",
       "        vertical-align: middle;\n",
       "    }\n",
       "\n",
       "    .dataframe tbody tr th {\n",
       "        vertical-align: top;\n",
       "    }\n",
       "\n",
       "    .dataframe thead th {\n",
       "        text-align: right;\n",
       "    }\n",
       "</style>\n",
       "<table border=\"1\" class=\"dataframe\">\n",
       "  <thead>\n",
       "    <tr style=\"text-align: right;\">\n",
       "      <th></th>\n",
       "      <th>Cites</th>\n",
       "      <th>Authors</th>\n",
       "      <th>Title</th>\n",
       "      <th>Year</th>\n",
       "    </tr>\n",
       "  </thead>\n",
       "  <tbody>\n",
       "    <tr>\n",
       "      <th>0</th>\n",
       "      <td>18</td>\n",
       "      <td>V Kuppili, D Tripathi…</td>\n",
       "      <td>Credit score classification using spiking extr...</td>\n",
       "      <td>2020.0</td>\n",
       "    </tr>\n",
       "    <tr>\n",
       "      <th>1</th>\n",
       "      <td>30</td>\n",
       "      <td>D Lisitsa, AA Zhilenkov</td>\n",
       "      <td>Prospects for the development and application ...</td>\n",
       "      <td>2017.0</td>\n",
       "    </tr>\n",
       "    <tr>\n",
       "      <th>2</th>\n",
       "      <td>104</td>\n",
       "      <td>JL Lobo, J Del Ser, A Bifet, N Kasabov</td>\n",
       "      <td>Spiking neural networks and online learning: A...</td>\n",
       "      <td>2020.0</td>\n",
       "    </tr>\n",
       "    <tr>\n",
       "      <th>3</th>\n",
       "      <td>141</td>\n",
       "      <td>NK Kasabov</td>\n",
       "      <td>Time-space, spiking neural networks and brain-...</td>\n",
       "      <td>2019.0</td>\n",
       "    </tr>\n",
       "    <tr>\n",
       "      <th>4</th>\n",
       "      <td>0</td>\n",
       "      <td>K Gao, W Luk, S Weston</td>\n",
       "      <td>High‐Frequency Trading and Financial Time‐Seri...</td>\n",
       "      <td>2021.0</td>\n",
       "    </tr>\n",
       "  </tbody>\n",
       "</table>\n",
       "</div>"
      ],
      "text/plain": [
       "   Cites                                 Authors  \\\n",
       "0     18                  V Kuppili, D Tripathi…   \n",
       "1     30                 D Lisitsa, AA Zhilenkov   \n",
       "2    104  JL Lobo, J Del Ser, A Bifet, N Kasabov   \n",
       "3    141                              NK Kasabov   \n",
       "4      0                  K Gao, W Luk, S Weston   \n",
       "\n",
       "                                               Title    Year  \n",
       "0  Credit score classification using spiking extr...  2020.0  \n",
       "1  Prospects for the development and application ...  2017.0  \n",
       "2  Spiking neural networks and online learning: A...  2020.0  \n",
       "3  Time-space, spiking neural networks and brain-...  2019.0  \n",
       "4  High‐Frequency Trading and Financial Time‐Seri...  2021.0  "
      ]
     },
     "execution_count": 18,
     "metadata": {},
     "output_type": "execute_result"
    }
   ],
   "source": [
    "sub_df.head()"
   ]
  },
  {
   "cell_type": "code",
   "execution_count": 10,
   "id": "2798c945",
   "metadata": {},
   "outputs": [],
   "source": [
    "vals = sub_df.values"
   ]
  },
  {
   "cell_type": "code",
   "execution_count": 11,
   "id": "3a64566e",
   "metadata": {},
   "outputs": [],
   "source": [
    "searchfor = ['stock', 'trading', 'financial', 'finance', 'market']"
   ]
  },
  {
   "cell_type": "code",
   "execution_count": 16,
   "id": "0cb0270a",
   "metadata": {},
   "outputs": [],
   "source": [
    "cnt = 0\n",
    "\n",
    "finrl_vals = []\n",
    "for k in range(len(vals)): \n",
    "    \n",
    "    if isinstance(vals[k][2], float):\n",
    "#    if k == 36934 or k == 36967:\n",
    "        continue\n",
    "            \n",
    "    if any(x in vals[k][2] for x in searchfor):\n",
    " #   if type([vals[k]]) != str:\n",
    " #       print('Wrong', k, cnt)\n",
    "#    if vals[k].str.contains('|'.join(searchfor)) == True:\n",
    "        finrl_vals.append(vals[k])\n",
    "        cnt +=1"
   ]
  },
  {
   "cell_type": "code",
   "execution_count": 17,
   "id": "8721de91",
   "metadata": {},
   "outputs": [
    {
     "data": {
      "text/plain": [
       "1286"
      ]
     },
     "execution_count": 17,
     "metadata": {},
     "output_type": "execute_result"
    }
   ],
   "source": [
    "cnt"
   ]
  },
  {
   "cell_type": "code",
   "execution_count": 19,
   "id": "22329455",
   "metadata": {},
   "outputs": [],
   "source": [
    "finrl_df = pd.DataFrame(finrl_vals, columns =['Cites', 'Authors', 'Title', 'Year'])"
   ]
  },
  {
   "cell_type": "code",
   "execution_count": 20,
   "id": "bfa85af8",
   "metadata": {},
   "outputs": [],
   "source": [
    "finrl_df.to_csv('GS_finrl_ref.csv', index=False)"
   ]
  },
  {
   "cell_type": "code",
   "execution_count": null,
   "id": "584307ae",
   "metadata": {},
   "outputs": [],
   "source": []
  }
 ],
 "metadata": {
  "kernelspec": {
   "display_name": "Python 3 (ipykernel)",
   "language": "python",
   "name": "python3"
  },
  "language_info": {
   "codemirror_mode": {
    "name": "ipython",
    "version": 3
   },
   "file_extension": ".py",
   "mimetype": "text/x-python",
   "name": "python",
   "nbconvert_exporter": "python",
   "pygments_lexer": "ipython3",
   "version": "3.8.10"
  }
 },
 "nbformat": 4,
 "nbformat_minor": 5
}
