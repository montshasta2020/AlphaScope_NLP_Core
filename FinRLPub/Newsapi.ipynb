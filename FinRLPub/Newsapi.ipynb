{
 "cells": [
  {
   "cell_type": "code",
   "execution_count": 1,
   "id": "3035e5b8",
   "metadata": {},
   "outputs": [],
   "source": [
    "from newsapi import NewsApiClient"
   ]
  },
  {
   "cell_type": "code",
   "execution_count": 2,
   "id": "e14d27cd",
   "metadata": {},
   "outputs": [],
   "source": [
    "#https://newsapi.org/\n",
    "api = NewsApiClient(api_key='4132dcc55abe4b5cae7d3306a0a41367')"
   ]
  },
  {
   "cell_type": "code",
   "execution_count": 3,
   "id": "13642a0b",
   "metadata": {},
   "outputs": [
    {
     "data": {
      "text/plain": [
       "{'status': 'ok',\n",
       " 'totalResults': 10,\n",
       " 'articles': [{'source': {'id': 'bbc-news', 'name': 'BBC News'},\n",
       "   'author': 'BBC News',\n",
       "   'title': 'Roger E. Mosley: Magnum P.I. actor dies aged 83 after car crash',\n",
       "   'description': 'Roger E. Mosley starred opposite Tom Selleck in all eight seasons of the original Magnum P.I.',\n",
       "   'url': 'http://www.bbc.co.uk/news/entertainment-arts-62462141',\n",
       "   'urlToImage': 'https://ichef.bbci.co.uk/news/1024/branded_news/11551/production/_126239907_gettyimages-461563618.jpg',\n",
       "   'publishedAt': '2022-08-08T16:37:22.3776111Z',\n",
       "   'content': 'Actor Roger E. Mosley, who appeared in all eight seasons of the original Magnum P.I., has died aged 83.\\r\\nHe portrayed Theodore \"T.C.\" Calvin, the helicopter pilot and friend of Tom Selleck\\'s characte… [+3000 chars]'},\n",
       "  {'source': {'id': 'bbc-news', 'name': 'BBC News'},\n",
       "   'author': 'BBC News',\n",
       "   'title': 'Mexico trapped miners: Frustration grows amid slow progress',\n",
       "   'description': 'Hundreds of people, including scuba divers, are trying to rescue 10 men from the flooded coal mine.',\n",
       "   'url': 'http://www.bbc.co.uk/news/world-latin-america-62466254',\n",
       "   'urlToImage': 'https://ichef.bbci.co.uk/news/1024/branded_news/E7D0/production/_126244395_mediaitem126244394.jpg',\n",
       "   'publishedAt': '2022-08-08T16:37:20.0324137Z',\n",
       "   'content': \"By Vanessa BuschschlüterBBC News\\r\\nMedia caption, Watch: Rescue mission to free ten Mexican miners\\r\\nRelatives of 10 miners trapped in a flooded coalmine in Mexico's Coahuila state are growing increasi… [+1300 chars]\"},\n",
       "  {'source': {'id': 'bbc-news', 'name': 'BBC News'},\n",
       "   'author': 'BBC News',\n",
       "   'title': 'Amanda Todd: Dutch man convicted of sexually extorting teenager',\n",
       "   'description': 'Amanda Todd took her own life weeks after posting a video in which she detailed her harassment online.',\n",
       "   'url': 'http://www.bbc.co.uk/news/world-us-canada-62326780',\n",
       "   'urlToImage': 'https://ichef.bbci.co.uk/news/1024/branded_news/0590/production/_88242410_amandatoddcollage.jpg',\n",
       "   'publishedAt': '2022-08-08T14:37:25.6011334Z',\n",
       "   'content': 'A Dutch man accused of harassing a Canadian girl who later took her own life has been found guilty of multiple charges by a court in British Columbia. \\r\\nThe charges against Ayman Coban, 44, included … [+2289 chars]'},\n",
       "  {'source': {'id': 'bbc-news', 'name': 'BBC News'},\n",
       "   'author': 'BBC News',\n",
       "   'title': 'Girlbosses: The women being demonised on screen',\n",
       "   'description': \"Few stereotypes are more derided than the 'girlboss', a term used to refer to women focusing on self-empowerment at others' expense. Now film and TV are weighing in, says Laura Martin.\",\n",
       "   'url': 'https://www.bbc.com/culture/article/20220805-girlbosses-the-women-being-demonised-on-screen',\n",
       "   'urlToImage': 'https://ychef.files.bbci.co.uk/live/624x351/p0crbcxf.jpg',\n",
       "   'publishedAt': '2022-08-08T14:07:22.4404122Z',\n",
       "   'content': 'Meanwhile in the 2021 film Don\\'t Look Up, Meryl Streep\\'s POTUS Janie Orlean described by more than one critic as a \"girlboss\" president is spectacularly uninterested in the imminent apocalypse in com… [+3909 chars]'},\n",
       "  {'source': {'id': 'bbc-news', 'name': 'BBC News'},\n",
       "   'author': 'BBC News',\n",
       "   'title': \"Tighter export controls on electronics could hamper Russia's war effort - report\",\n",
       "   'description': 'Russian weapons could be permanently degraded by tougher export controls in the West, a think tank says.',\n",
       "   'url': 'http://www.bbc.co.uk/news/world-europe-62464459',\n",
       "   'urlToImage': 'https://ichef.bbci.co.uk/news/1024/branded_news/14DBA/production/_126243458_5a152b1a9807512f3c08c966ec57c15cff7d7338.jpg',\n",
       "   'publishedAt': '2022-08-08T13:22:22.7872732Z',\n",
       "   'content': \"By Frank GardnerBBC security correspondent\\r\\nRussia's military could be unable to operate the high-tech weapons and communications systems it has been using in Ukraine if the West were to tighten expo… [+3540 chars]\"},\n",
       "  {'source': {'id': 'bbc-news', 'name': 'BBC News'},\n",
       "   'author': 'BBC News',\n",
       "   'title': 'Anti-abortion Gen Zers see cause as social justice',\n",
       "   'description': \"Anti-abortion Gen-Z activists think their fight isn't at odds with the generational theme.\",\n",
       "   'url': 'http://www.bbc.co.uk/news/world-us-canada-62273461',\n",
       "   'urlToImage': 'https://ichef.bbci.co.uk/news/1024/branded_news/1C22/production/_126020270_gettyimages-1241501263.jpg',\n",
       "   'publishedAt': '2022-08-08T09:37:26.4122829Z',\n",
       "   'content': 'By Rianna Croxford &amp; Chelsea BaileyBBC News\\r\\nFor a new wave of Gen-Z anti-abortion activists, the battle to end abortion is as much about social justice as it is about faith. \\r\\nNoah Slayter estim… [+8053 chars]'},\n",
       "  {'source': {'id': 'bbc-news', 'name': 'BBC News'},\n",
       "   'author': 'BBC News',\n",
       "   'title': 'Ukraine war latest: Inspectors must get access to nuclear plant - UN chief',\n",
       "   'description': 'UN chief António Guterres calls for international inspectors to get access to the Zaporizhzhia power plant.',\n",
       "   'url': 'http://www.bbc.co.uk/news/live/62462223',\n",
       "   'urlToImage': 'https://m.files.bbci.co.uk/modules/bbc-morph-news-waf-page-meta/5.3.0/bbc_news_logo.png',\n",
       "   'publishedAt': '2022-08-08T07:22:35.5852966Z',\n",
       "   'content': \"Two more ships loaded with grain have set sail from\\r\\nUkraine's Black Sea ports, as part of the deal reached with Russia brokered by\\r\\nthe UN and Turkey.\\r\\nOfficials from Turkey's defence ministry say t… [+792 chars]\"},\n",
       "  {'source': {'id': 'bbc-news', 'name': 'BBC News'},\n",
       "   'author': 'BBC News',\n",
       "   'title': 'The newborns fighting for survival in Afghanistan',\n",
       "   'description': 'The BBC visits a maternity ward where mothers are forced to share beds and have no access to pain relief.',\n",
       "   'url': 'http://www.bbc.co.uk/news/world-asia-62458894',\n",
       "   'urlToImage': 'https://ichef.bbci.co.uk/news/1024/branded_news/87A3/production/_126232743_p0crpn4r.jpg',\n",
       "   'publishedAt': '2022-08-07T23:22:21.8188499Z',\n",
       "   'content': 'A year into Taliban rule, the number of newborn deaths and miscarriages in one province, Badakhshan, have nearly doubled, local doctors say. \\r\\nForeign funding which financed Afghanistans public healt… [+398 chars]'},\n",
       "  {'source': {'id': 'bbc-news', 'name': 'BBC News'},\n",
       "   'author': 'BBC News',\n",
       "   'title': 'Brazilian Jiu Jitsu great Leandro Lo shot in head in Sao Paulo club',\n",
       "   'description': 'The athlete has been declared brain dead and police say the suspect is on the run.',\n",
       "   'url': 'http://www.bbc.co.uk/news/world-latin-america-62456672',\n",
       "   'urlToImage': 'https://ichef.bbci.co.uk/news/1024/branded_news/88E3/production/_126234053_gettyimages-485331443.jpg',\n",
       "   'publishedAt': '2022-08-07T21:07:23.2880929Z',\n",
       "   'content': \"By Alys DaviesBBC News\\r\\nOne of Brazil's greatest Jiu Jitsu champions of all time, Leandro Lo, has been shot in the head in a nightclub in Sao Paulo.\\r\\nLo, 33, was at a club in the Saude neighbourhood … [+1227 chars]\"},\n",
       "  {'source': {'id': 'bbc-news', 'name': 'BBC News'},\n",
       "   'author': 'BBC News',\n",
       "   'title': \"Climate change: US takes step closer to passing 'historic' bill\",\n",
       "   'description': 'The bill - which aims to help reduce US carbon emissions by 40% by 2030 - could pass next week.',\n",
       "   'url': 'http://www.bbc.co.uk/news/world-us-canada-62457386',\n",
       "   'urlToImage': 'https://ichef.bbci.co.uk/news/1024/branded_news/C5B5/production/_126231605_mediaitem126231601.jpg',\n",
       "   'publishedAt': '2022-08-07T15:37:27.5384359Z',\n",
       "   'content': \"By George WrightBBC News\\r\\nThe United States has taken a step closer to approving Democrats' plan to tackle climate change, with a crucial bill expected to be passed next week.\\r\\nThe $369bn (£305bn) fo… [+3138 chars]\"}]}"
      ]
     },
     "execution_count": 3,
     "metadata": {},
     "output_type": "execute_result"
    }
   ],
   "source": [
    "#sources: ['abc-news', 'associated-press', 'australian-financial-review', 'bbc-news', 'bloomberg', \n",
    "#          'business-insider', 'Buzzfeed', 'cbs-news', 'cnn', 'crypto-coins-news', 'financial-post',\n",
    "#          'fortune','fox-news', 'google-news', 'msnbc', 'nbc-news', 'new-scientist', 'new-york-magazine',\n",
    "#          'next-big-future', 'reddit-r-all', 'reuters', 'techcrunch', 'techradar', 'the-huffington-post',\n",
    "#          'the-next-web', 'the-verge', 'the-wall-street-journal', 'the-washington-post', \n",
    "#          'the-washington-times', 'time', 'usa-today', 'wired', 'xinhua-net'\n",
    "api.get_top_headlines(sources='bbc-news')"
   ]
  },
  {
   "cell_type": "code",
   "execution_count": null,
   "id": "cfa4dd53",
   "metadata": {},
   "outputs": [],
   "source": []
  }
 ],
 "metadata": {
  "kernelspec": {
   "display_name": "Python 3 (ipykernel)",
   "language": "python",
   "name": "python3"
  },
  "language_info": {
   "codemirror_mode": {
    "name": "ipython",
    "version": 3
   },
   "file_extension": ".py",
   "mimetype": "text/x-python",
   "name": "python",
   "nbconvert_exporter": "python",
   "pygments_lexer": "ipython3",
   "version": "3.8.10"
  }
 },
 "nbformat": 4,
 "nbformat_minor": 5
}
