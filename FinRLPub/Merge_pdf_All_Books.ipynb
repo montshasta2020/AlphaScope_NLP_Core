{
 "cells": [
  {
   "cell_type": "code",
   "execution_count": 1,
   "id": "98f73634",
   "metadata": {},
   "outputs": [],
   "source": [
    "import os\n",
    "import glob\n",
    "import re\n",
    "import shutil\n",
    "\n",
    "from PyPDF2 import PdfReader"
   ]
  },
  {
   "cell_type": "code",
   "execution_count": 9,
   "id": "900b3d2d",
   "metadata": {},
   "outputs": [],
   "source": [
    "root_dir = '../References_Deep_Learning_For_Finance/000 more references/Books/'"
   ]
  },
  {
   "cell_type": "code",
   "execution_count": 10,
   "id": "b29633a8",
   "metadata": {},
   "outputs": [],
   "source": [
    "def found_references_tag(fn):\n",
    "    reader = PdfReader(fn)\n",
    "    \n",
    "    text = \"\"\n",
    "    \n",
    "    for page in reader.pages:\n",
    "        text += page.extract_text() + \"\\n\"\n",
    "    \n",
    "    sen = text.split('\\n')\n",
    "\n",
    "    for s in sen:\n",
    "\n",
    "        if 'References' in s or 'REFERENCES' in s:\n",
    "            #print(s)            \n",
    "            return True\n",
    "        elif 'Bibliography' in s or 'BIBLIOGRAPHY' in s:\n",
    "            return True\n",
    "    \n",
    "    return False"
   ]
  },
  {
   "cell_type": "code",
   "execution_count": 11,
   "id": "70042a6d",
   "metadata": {},
   "outputs": [],
   "source": [
    "fn = './all_papers/A Survey on Machine Learning for Stock Price Prediction: Algorithms and Techniques .pdf'\n",
    "#get_all_text(fn)"
   ]
  },
  {
   "cell_type": "code",
   "execution_count": 12,
   "id": "7c5cee0c",
   "metadata": {},
   "outputs": [],
   "source": [
    "all_folders = [x[0] for x in os.walk(root_dir)]"
   ]
  },
  {
   "cell_type": "code",
   "execution_count": 16,
   "id": "41cd3df5",
   "metadata": {},
   "outputs": [
    {
     "data": {
      "text/plain": [
       "['../References_Deep_Learning_For_Finance/000 more references/Books/',\n",
       " '../References_Deep_Learning_For_Finance/000 more references/Books/Imbalanced Learning',\n",
       " '../References_Deep_Learning_For_Finance/000 more references/Books/Top 10 Transformer',\n",
       " '../References_Deep_Learning_For_Finance/000 more references/Books/To 10 Feature Selections',\n",
       " '../References_Deep_Learning_For_Finance/000 more references/Books/Top 10 AutoML',\n",
       " '../References_Deep_Learning_For_Finance/000 more references/Books/AutoML',\n",
       " '../References_Deep_Learning_For_Finance/000 more references/Books/Books with Codes',\n",
       " '../References_Deep_Learning_For_Finance/000 more references/Books/Transformer and NLP',\n",
       " '../References_Deep_Learning_For_Finance/000 more references/Books/To 10 AI and Finance',\n",
       " '../References_Deep_Learning_For_Finance/000 more references/Books/Top 10 Particle Swarm',\n",
       " '../References_Deep_Learning_For_Finance/000 more references/Books/Fuzzy Logic',\n",
       " '../References_Deep_Learning_For_Finance/000 more references/Books/Computational Finance',\n",
       " '../References_Deep_Learning_For_Finance/000 more references/Books/SOFSEM',\n",
       " '../References_Deep_Learning_For_Finance/000 more references/Books/Top 10 Market Books',\n",
       " '../References_Deep_Learning_For_Finance/000 more references/Books/Top 10 Technical Analysis',\n",
       " '../References_Deep_Learning_For_Finance/000 more references/Books/Top 10 Neuro_Fuzzy',\n",
       " '../References_Deep_Learning_For_Finance/000 more references/Books/Biomimetics',\n",
       " '../References_Deep_Learning_For_Finance/000 more references/Books/Tensorflow 1.x',\n",
       " '../References_Deep_Learning_For_Finance/000 more references/Books/Spiking Neural Network',\n",
       " '../References_Deep_Learning_For_Finance/000 more references/Books/Top 10 Evolutionary Computing',\n",
       " '../References_Deep_Learning_For_Finance/000 more references/Books/Evoluationary Computing in Finance',\n",
       " '../References_Deep_Learning_For_Finance/000 more references/Books/Top 10 Algorithmic Trading',\n",
       " '../References_Deep_Learning_For_Finance/000 more references/Books/Top 10 Market History',\n",
       " '../References_Deep_Learning_For_Finance/000 more references/Books/Top 10 Reinforcement Learning',\n",
       " '../References_Deep_Learning_For_Finance/000 more references/Books/Pattern Recognizations',\n",
       " '../References_Deep_Learning_For_Finance/000 more references/Books/Top 10 Time Series and Finance',\n",
       " '../References_Deep_Learning_For_Finance/000 more references/Books/Genetic and Evolutionary Computing',\n",
       " '../References_Deep_Learning_For_Finance/000 more references/Books/Conferences']"
      ]
     },
     "execution_count": 16,
     "metadata": {},
     "output_type": "execute_result"
    }
   ],
   "source": [
    "all_folders"
   ]
  },
  {
   "cell_type": "code",
   "execution_count": 13,
   "id": "979cef00",
   "metadata": {},
   "outputs": [],
   "source": [
    "from PyPDF2 import PdfReader\n",
    "\n",
    "def get_all_text(fn):\n",
    "    text = \"\"\n",
    "\n",
    "    for page in reader.pages:\n",
    "        text += page.extract_text() + \"\\n\"\n",
    "    \n",
    "    sen = text.split('\\n')\n",
    "\n",
    "    for s in sen:\n",
    "\n",
    "        if 'Github' in s:\n",
    "            print(s)\n",
    "        elif 'GitHub' in s:\n",
    "            print(s)\n",
    "        elif 'github' in s:\n",
    "            print (s)"
   ]
  },
  {
   "cell_type": "code",
   "execution_count": 18,
   "id": "99965e0a",
   "metadata": {},
   "outputs": [
    {
     "name": "stdout",
     "output_type": "stream",
     "text": [
      "0 ../References_Deep_Learning_For_Finance/000 more references/Books/The Fountain of Gold The Three Monkey Record of Money.pdf\n",
      "1 ../References_Deep_Learning_For_Finance/000 more references/Books/Candlestick And Pivot Point Trading Triggers.pdf\n",
      "2 ../References_Deep_Learning_For_Finance/000 more references/Books/Advanced Algorithmic Trading.pdf\n",
      "3 ../References_Deep_Learning_For_Finance/000 more references/Books/Parallel Metaheuristics_ A New Class of Algorithms.pdf\n",
      "4 ../References_Deep_Learning_For_Finance/000 more references/Books/Hands-On Machine Learning with Scikit-Learn and TensorFlow_ Concepts, Tools, and Techniques to Build Intelligent Systems.pdf\n",
      "5 ../References_Deep_Learning_For_Finance/000 more references/Books/Demark - new-market-timing-techniques-innovative-studies-in-market-rhythm-amp-price-exhau.pdf\n",
      "6 ../References_Deep_Learning_For_Finance/000 more references/Books/High-Frequency Trading_ A Practical Guide to Algorithmic Strategies and Trading Systems.pdf\n",
      "7 ../References_Deep_Learning_For_Finance/000 more references/Books/Perspectives of Neural-Symbolic Integration.pdf\n",
      "8 ../References_Deep_Learning_For_Finance/000 more references/Books/004 - Algorithms_for_Reinforcement_Learning.pdf\n",
      "9 ../References_Deep_Learning_For_Finance/000 more references/Books/practical-machine-learning-python-problem-solvers.pdf\n",
      "10 ../References_Deep_Learning_For_Finance/000 more references/Books/003a - An_Introduction_to_Deep_Reinforcement_Learning.pdf\n",
      "11 ../References_Deep_Learning_For_Finance/000 more references/Books/Mastering Technical Analysis_ Using the Tools of Technical Analysis for Profitable Trading (McGraw-Hill Traders Edge Series).pdf\n",
      "12 ../References_Deep_Learning_For_Finance/000 more references/Books/DeMark Indicators-Bloomberg Market Essentials_ Technical Analysis.pdf\n",
      "13 ../References_Deep_Learning_For_Finance/000 more references/Books/introduction time series.pdf\n",
      "14 ../References_Deep_Learning_For_Finance/000 more references/Books/001b- Technical Analysis Of The Financial Markets.pdf\n",
      "15 ../References_Deep_Learning_For_Finance/000 more references/Books/Reinforcement Learning with Python_ Master Reinforcemearning in Python Without Being an Expert - Bob Story.pdf\n",
      "16 ../References_Deep_Learning_For_Finance/000 more references/Books/7 Chart Patterns - Discount Investment and Stock Market Trading.pdf\n",
      "17 ../References_Deep_Learning_For_Finance/000 more references/Books/004 - Foundations of Reinforcement Learning with Applications in Finance.pdf\n",
      "18 ../References_Deep_Learning_For_Finance/000 more references/Books/An Introduction to Deep Reinforcement Learning.pdf\n",
      "19 ../References_Deep_Learning_For_Finance/000 more references/Books/003 - Advances in Reinforcement Learning.pdf\n",
      "20 ../References_Deep_Learning_For_Finance/000 more references/Books/Successful Algorithmic Trading.pdf\n",
      "21 ../References_Deep_Learning_For_Finance/000 more references/Books/ai-crash-course-a-fun-and-hands-on-introduction-to-reinforcement-learning-deep-learning-and-artificial-intelligence-with-python.pdf\n",
      "22 Chinese ../References_Deep_Learning_For_Finance/000 more references/Books/伯恩斯坦金融三部曲 繁荣的代价, Volume 1 (伯恩斯坦,威廉•J.伯恩斯坦).pdf\n",
      "23 ../References_Deep_Learning_For_Finance/000 more references/Books/Deep learning_ adaptive computation and machine learning.pdf\n",
      "24 ../References_Deep_Learning_For_Finance/000 more references/Books/001a - Reinforcement Learning- An Introduction.pdf\n",
      "25 ../References_Deep_Learning_For_Finance/000 more references/Books/Trade Like Jesse Livermore (Wiley Trading).pdf\n",
      "26 ../References_Deep_Learning_For_Finance/000 more references/Books/Natural Computing in Computational  Finance.pdf\n",
      "27 ../References_Deep_Learning_For_Finance/000 more references/Books/Fundamentals of Machine Learning for Predictive Data Analytics.pdf\n",
      "28 ../References_Deep_Learning_For_Finance/000 more references/Books/Python Data Science Handbook .pdf\n",
      "29 Chinese ../References_Deep_Learning_For_Finance/000 more references/Books/伯恩斯坦金融三部曲 金融简史, Volume 3 (伯恩斯坦,威廉•J.伯恩斯坦).pdf\n",
      "30 ../References_Deep_Learning_For_Finance/000 more references/Books/003b - deep-reinforcement-learning-hands on.pdf\n",
      "31 ../References_Deep_Learning_For_Finance/000 more references/Books/Technical Analysis of Stock Trends.pdf\n",
      "32 ../References_Deep_Learning_For_Finance/000 more references/Books/High Profit Candlestick Patterns.pdf\n",
      "33 ../References_Deep_Learning_For_Finance/000 more references/Books/mastering-machine-learning-with-python-in-six-steps.pdf\n",
      "34 ../References_Deep_Learning_For_Finance/000 more references/Books/151 Trading Strategies.pdf\n",
      "35 ../References_Deep_Learning_For_Finance/000 more references/Books/Advanced Quantitative Economics with Python.pdf\n",
      "36 ../References_Deep_Learning_For_Finance/000 more references/Books/Financial_theory_with_python_a_gentle_introduction.pdf\n",
      "37 ../References_Deep_Learning_For_Finance/000 more references/Books/The complete list of books for Quantitative _ Algorithmic _ Machine Learning trading _ by Peter Nistrup _ Towards Data Science.pdf\n",
      "38 ../References_Deep_Learning_For_Finance/000 more references/Books/005 - An_Introduction_to_Deep_Reinforcement_Learning.pdf\n",
      "39 ../References_Deep_Learning_For_Finance/000 more references/Books/Candlesticks, Fibonacci, and Chart Pattern Trading - Forex Factory.pdf\n",
      "40 ../References_Deep_Learning_For_Finance/000 more references/Books/analysis-of-financial-time-series.pdf\n",
      "41 ../References_Deep_Learning_For_Finance/000 more references/Books/Ordinary Shares,Exotic Methods.Francis Eng-hock Tay.pdf\n",
      "42 ../References_Deep_Learning_For_Finance/000 more references/Books/High-frequency Trading new realities for traders markets and regulators.pdf\n",
      "43 ../References_Deep_Learning_For_Finance/000 more references/Books/Geometric Structure of High-Dimensional Data and Dimensionality Reduction.pdf\n",
      "44 Chinese ../References_Deep_Learning_For_Finance/000 more references/Books/前沿趋势预测系列（共9册） (安东尼·范·阿格塔米尔, 弗雷德·巴克, 布雷特·金, 比约恩·布劳卿, 拉斯·拉克 etc.).pdf\n",
      "45 ../References_Deep_Learning_For_Finance/000 more references/Books/Trade Like an O'Neil Disciple_ How We Made 18,000% in the Stock Market (Wiley Trading).pdf\n",
      "46 ../References_Deep_Learning_For_Finance/000 more references/Books/Devil Take The Hindmost.pdf\n",
      "47 ../References_Deep_Learning_For_Finance/000 more references/Books/Advanced Forecasting with Python With State-of-the-Art-Models Including LSTMs, Facebook’s Prophet, and Amazon’s DeepAR (Joos Korstanje).pdf\n",
      "48 ../References_Deep_Learning_For_Finance/000 more references/Books/MACHINE LEARNING.pdf\n",
      "49 ../References_Deep_Learning_For_Finance/000 more references/Books/TRADING ON MOMENTUM Advanced Techniques for HighEPercentage Day Trading KEN WOLFF.pdf\n",
      "50 ../References_Deep_Learning_For_Finance/000 more references/Books/Mastering the Stock Market_ High Probability Market Timing and Stock Selection Tools.pdf\n",
      "51 ../References_Deep_Learning_For_Finance/000 more references/Books/Profitable Day and Swing Trading_ Using Price_Volume Surges and Pattern Recognition to Catch Big Moves in the Stock Market.pdf\n",
      "52 ../References_Deep_Learning_For_Finance/000 more references/Books/Law of Success (21st Century Edition).pdf\n",
      "53 ../References_Deep_Learning_For_Finance/000 more references/Books/Artificial Intelligence_ The Very Idea.pdf\n",
      "54 ../References_Deep_Learning_For_Finance/000 more references/Books/The Value and Momentum Trader_ Dynamic Stock Selection Models to Beat the Market (Wiley Trading).pdf\n",
      "55 ../References_Deep_Learning_For_Finance/000 more references/Books/Breakthrough Strategies for Predicting Any Market_ Charting Elliott Wave, Lucas, Fibonacci, Gann, and Time for Profit, Second Edition.pdf\n",
      "56 ../References_Deep_Learning_For_Finance/000 more references/Books/artificial_intelligence_in_finance_-_turing_report_0.pdf\n",
      "57 ../References_Deep_Learning_For_Finance/000 more references/Books/Grokking Deep Reinforcement Learning (2020).pdf\n",
      "58 ../References_Deep_Learning_For_Finance/000 more references/Books/Reinforcement-Learning-and-Stochastic-Optimization.pdf\n",
      "59 ../References_Deep_Learning_For_Finance/000 more references/Books/Advances in Reinforcement Learning.pdf\n",
      "60 ../References_Deep_Learning_For_Finance/000 more references/Books/Dark Pools_ The Rise of the Machine Traders and the Rigging of the U.S. Stock Market.pdf\n",
      "61 ../References_Deep_Learning_For_Finance/000 more references/Books/Advanced Machine Learning with Python.pdf\n",
      "62 ../References_Deep_Learning_For_Finance/000 more references/Books/Day Trading and Swing Trading the Currency Market_ Technical and Fundamental Strategies to Profit from Market Moves.pdf\n",
      "63 ../References_Deep_Learning_For_Finance/000 more references/Books/Trend Qualification and Trading_ Techniques To Identify the Best Trends to Trade (Wiley Trading).pdf\n",
      "64 ../References_Deep_Learning_For_Finance/000 more references/Books/[Rockefeller]Technical Analysis For Dummies, Second Edition .pdf\n",
      "65 ../References_Deep_Learning_For_Finance/000 more references/Books/The Deep Learning Revolution_ Machine Intelligence Meets Human Intelligence.pdf\n",
      "66 ../References_Deep_Learning_For_Finance/000 more references/Books/grokking-deep-learning.pdf\n",
      "67 ../References_Deep_Learning_For_Finance/000 more references/Books/Time Series Forecasting in Python MEAP V03 by Marco Peixeiro.pdf\n",
      "68 ../References_Deep_Learning_For_Finance/000 more references/Books/Reinforcement Learning and Stochastic Optimization  A Unified Framework for Sequential Decisions.pdf\n",
      "69 ../References_Deep_Learning_For_Finance/000 more references/Books/Technical Analysis and Chart Interpretations.pdf\n",
      "70 ../References_Deep_Learning_For_Finance/000 more references/Books/An Introduction to Mathematical Finance with Applications_ Understanding and Building Financial Intuition.pdf\n",
      "71 ../References_Deep_Learning_For_Finance/000 more references/Books/Bishop - Pattern Recognition And Machine Learning - Springer  2006.pdf\n",
      "72 Chinese ../References_Deep_Learning_For_Finance/000 more references/Books/暗池：高频交易及人工智能大盗颠覆金融世界的对决 (Scott Patterson, 王斌, 孙豪, 王泽宪, 李骥宇).pdf\n",
      "73 ../References_Deep_Learning_For_Finance/000 more references/Books/gregoriou-g-n-handbook-of-trading_-strategies-for-navigating-and-profiting-from-currency-bond-stock-markets-2010-mgh.pdf\n",
      "74 ../References_Deep_Learning_For_Finance/000 more references/Books/Practical Reinforcement Learning_ Develop self-evolving, intelligent agents with OpenAI Gym, Python and Java.pdf\n",
      "75 ../References_Deep_Learning_For_Finance/000 more references/Books/DeMark on day-trading options.pdf\n",
      "76 ../References_Deep_Learning_For_Finance/000 more references/Books/Reinforcement Learning with OpenAI.pdf\n",
      "77 ../References_Deep_Learning_For_Finance/000 more references/Books/Reinforcement Learning in Economics and Finance.pdf\n",
      "78 ../References_Deep_Learning_For_Finance/000 more references/Books/Getting Started in FOREX Trading Strategies.pdf\n",
      "79 Chinese ../References_Deep_Learning_For_Finance/000 more references/Books/前沿趋势预测系列（共9册） (安东尼·范·阿格塔米尔, 弗雷德·巴克, 布雷特·金, 比约恩·布劳卿, 拉斯·拉克 etc.) (z-lib.org) (1).pdf\n"
     ]
    },
    {
     "name": "stdout",
     "output_type": "stream",
     "text": [
      "80 ../References_Deep_Learning_For_Finance/000 more references/Books/Advanced Techniques in Day Trading_ A Practical Guide to High Probability Day Trading Strategies and Methods.pdf\n",
      "81 ../References_Deep_Learning_For_Finance/000 more references/Books/High-probability trade setups _ a chartist's guide to real-time trading.pdf\n",
      "82 ../References_Deep_Learning_For_Finance/000 more references/Books/Applied Time Series Analysis_ A Practical Guide to Modeling and Forecasting.pdf\n",
      "83 ../References_Deep_Learning_For_Finance/000 more references/Books/Imbalanced Learning/IMBALANCED LEARNING.pdf\n",
      "84 ../References_Deep_Learning_For_Finance/000 more references/Books/Imbalanced Learning/Dealing with Imbalanced and Weakly Labelled Data in Machine Learning using Fuzzy and Rough Set Methods (Sarah Vluymans).pdf\n",
      "85 ../References_Deep_Learning_For_Finance/000 more references/Books/Imbalanced Learning/Learning from Imbalanced Data Sets (Alberto Fernández, Salvador García, Mikel Galar etc.).pdf\n",
      "86 ../References_Deep_Learning_For_Finance/000 more references/Books/Imbalanced Learning/Learning from Imbalanced Data Sets ( etc.).pdf\n",
      "87 ../References_Deep_Learning_For_Finance/000 more references/Books/Imbalanced Learning/Imbalanced Learning Foundations, Algorithms, and Applications (Haibo He, Yunqian Ma).pdf\n",
      "88 ../References_Deep_Learning_For_Finance/000 more references/Books/Imbalanced Learning/Imbalanced Classification with Python Choose Better Metrics, Balance Skewed Classes, and Apply Cost-Sensitive Learning (Jason Brownlee).pdf\n",
      "89 ../References_Deep_Learning_For_Finance/000 more references/Books/Top 10 Transformer/Transformers.for.Machine.Learning.A.Deep.Dive.pdf\n",
      "90 ../References_Deep_Learning_For_Finance/000 more references/Books/To 10 Feature Selections/Advances in Feature Selection for Data and Pattern Recognition.pdf\n",
      "91 ../References_Deep_Learning_For_Finance/000 more references/Books/To 10 Feature Selections/COMPUTATIONAL INTELLIGENCE AND FEATURE SELECTION Rough and Fuzzy Approaches.pdf\n",
      "92 ../References_Deep_Learning_For_Finance/000 more references/Books/To 10 Feature Selections/Feature Selection for Data and Pattern Recognition.pdf\n",
      "93 ../References_Deep_Learning_For_Finance/000 more references/Books/To 10 Feature Selections/data_clustering.pdf\n",
      "94 ../References_Deep_Learning_For_Finance/000 more references/Books/To 10 Feature Selections/Neural Networks for Applied Sciences and Engineering_ From Fundamentals to Complex Pattern Recognition.pdf\n",
      "95 ../References_Deep_Learning_For_Finance/000 more references/Books/To 10 Feature Selections/Computational methods of feature selection (Huan Liu, Hiroshi Motoda).pdf\n",
      "96 ../References_Deep_Learning_For_Finance/000 more references/Books/To 10 Feature Selections/Feature Extraction, Construction and Selection_ A Data Mining Perspective.pdf\n",
      "97 ../References_Deep_Learning_For_Finance/000 more references/Books/Top 10 AutoML/AutomatedMachineLearninginAction.pdf\n",
      "98 ../References_Deep_Learning_For_Finance/000 more references/Books/Top 10 AutoML/Automated Deep Learning: Principals and Practice.pdf\n",
      "99 ../References_Deep_Learning_For_Finance/000 more references/Books/Top 10 AutoML/Automated Machine Learning with AutoKeras: Deep learning made accessible for everyone with just few lines of coding.pdf\n",
      "100 ../References_Deep_Learning_For_Finance/000 more references/Books/Top 10 AutoML/Automated Machine Learning.pdf\n",
      "101 ../References_Deep_Learning_For_Finance/000 more references/Books/AutoML/Machine Learning with R and H2O.pdf\n",
      "102 ../References_Deep_Learning_For_Finance/000 more references/Books/AutoML/An Introduction to Machine Learning Interpretability, Second Edition (Patrick Hall and Navdeep Gill).pdf\n",
      "103 ../References_Deep_Learning_For_Finance/000 more references/Books/AutoML/AutoML_2020_paper_61.pdf\n",
      "104 ../References_Deep_Learning_For_Finance/000 more references/Books/AutoML/Practical Machine Learning with H2O.pdf\n",
      "105 ../References_Deep_Learning_For_Finance/000 more references/Books/Books with Codes/handson-financial-trading-with-python.pdf\n",
      "106 ../References_Deep_Learning_For_Finance/000 more references/Books/Books with Codes/Yves-Hilpisch-Python-for-Finance_-Mastering-Data-Driven-Finance-Book-OReilly-2018.pdf\n",
      "107 ../References_Deep_Learning_For_Finance/000 more references/Books/Books with Codes/002 - Mastering Reinforcement Learning with Python Build next-generation, self-learning models using reinforcement learning techniques and best practices by Enes Bilgin (z-lib.org).pdf\n",
      "108 ../References_Deep_Learning_For_Finance/000 more references/Books/Books with Codes/Advanced Forecasting with Python_old.pdf\n",
      "109 ../References_Deep_Learning_For_Finance/000 more references/Books/Books with Codes/python_for_finance_cookbook.pdf\n",
      "110 ../References_Deep_Learning_For_Finance/000 more references/Books/Books with Codes/Deep Neuro-Fuzzy System with Python.pdf\n",
      "111 ../References_Deep_Learning_For_Finance/000 more references/Books/Books with Codes/hands-on-transfer-learning-python-tensorflows.pdf\n",
      "112 ../References_Deep_Learning_For_Finance/000 more references/Books/Books with Codes/Hands-On Reinforcement Learning with Python_ Master reinforcement and deep reinforcement learning using OpenAI Gym and TensorFlow.pdf\n",
      "113 ../References_Deep_Learning_For_Finance/000 more references/Books/Books with Codes/Learn algorithmic Trading Strategies Python.pdf\n",
      "114 ../References_Deep_Learning_For_Finance/000 more references/Books/Transformer and NLP/Natural Language Processing with Transformers Building Language Applications with Hugging Face.pdf\n",
      "115 ../References_Deep_Learning_For_Finance/000 more references/Books/Transformer and NLP/Transformers for Natural Language Processing Build innovative deep neural network architectures for NLP with Python, PyTorch.pdf\n",
      "116 ../References_Deep_Learning_For_Finance/000 more references/Books/To 10 AI and Finance/machine-learning-in-finance-from-theory-to-practice.pdf\n",
      "117 ../References_Deep_Learning_For_Finance/000 more references/Books/To 10 AI and Finance/handson-financial-trading-with-python.pdf\n",
      "118 ../References_Deep_Learning_For_Finance/000 more references/Books/To 10 AI and Finance/Advances in Financial Machine Learning.pdf\n",
      "119 ../References_Deep_Learning_For_Finance/000 more references/Books/To 10 AI and Finance/Artificial Intelligence in Finance A Python-Based Guide (Yves Hilpisch).pdf\n",
      "120 ../References_Deep_Learning_For_Finance/000 more references/Books/To 10 AI and Finance/machine_learning_for_finance_principles_and_practice.pdf\n",
      "121 ../References_Deep_Learning_For_Finance/000 more references/Books/To 10 AI and Finance/Artificial Intelligence in Finance: Forecasting Stock Market Returns Using Artificial Neural Networks.pdf\n",
      "122 ../References_Deep_Learning_For_Finance/000 more references/Books/To 10 AI and Finance/Introduction to Deep Learning Business Applications for Developers.pdf\n",
      "123 ../References_Deep_Learning_For_Finance/000 more references/Books/To 10 AI and Finance/MACHINE LEARNING FOR ALGORITHM TRADING  Master as a PRO applied artificial intelligence and Python for predict systematic_. (Broker , Mark Test , Jason).pdf\n",
      "124 ../References_Deep_Learning_For_Finance/000 more references/Books/To 10 AI and Finance/Artificial Intelligence in Financial Markets_ Cutting Edge Applications for Risk Management, Portfolio Optimization and Economics.pdf\n",
      "125 ../References_Deep_Learning_For_Finance/000 more references/Books/To 10 AI and Finance/python for finance cookbook.pdf\n",
      "126 ../References_Deep_Learning_For_Finance/000 more references/Books/To 10 AI and Finance/Machine Learning and Data Science Blueprints for Finance.pdf\n",
      "127 ../References_Deep_Learning_For_Finance/000 more references/Books/To 10 AI and Finance/Machine Trading_ Deploying Computer Algorithms to Conquer the Markets.pdf\n",
      "128 ../References_Deep_Learning_For_Finance/000 more references/Books/To 10 AI and Finance/Machine Learning For Financial Engineering.pdf\n",
      "129 ../References_Deep_Learning_For_Finance/000 more references/Books/To 10 AI and Finance/00 - Machine Learning Refined Foundations, Algorithms, and Applications, 2nd Edition (Watt, Jeremy, Borhani, Reza, Katsaggelos etc.).pdf\n",
      "130 ../References_Deep_Learning_For_Finance/000 more references/Books/To 10 AI and Finance/machine-learning-algorithmic-trading-2nd.pdf\n"
     ]
    },
    {
     "name": "stdout",
     "output_type": "stream",
     "text": [
      "131 ../References_Deep_Learning_For_Finance/000 more references/Books/To 10 AI and Finance/financial_theory_with_python.pdf\n",
      "132 ../References_Deep_Learning_For_Finance/000 more references/Books/To 10 AI and Finance/Financial Signal Processing and Machine Learning.pdf\n",
      "133 ../References_Deep_Learning_For_Finance/000 more references/Books/Top 10 Particle Swarm/Swarm Intelligence_ Principles, Advances, and Applications.pdf\n",
      "134 ../References_Deep_Learning_For_Finance/000 more references/Books/Top 10 Particle Swarm/000 - Swarm intelligence - James Kennedy.pdf\n",
      "135 ../References_Deep_Learning_For_Finance/000 more references/Books/Top 10 Particle Swarm/Swarm Intelligence. Focus on Ant and Particle Swarm Optimization.pdf\n",
      "136 ../References_Deep_Learning_For_Finance/000 more references/Books/Top 10 Particle Swarm/particle-swarm-optimization-and-intelligence-2010.pdf\n",
      "137 ../References_Deep_Learning_For_Finance/000 more references/Books/Fuzzy Logic/Uncertainty Management with Fuzzy and Rough Sets_ Recent Advances and Applications.pdf\n",
      "138 ../References_Deep_Learning_For_Finance/000 more references/Books/Fuzzy Logic/Fuzzy Sets, Rough Sets, Multisets and Clustering (Vicenç Torra, Anders Dahlbom etc.).pdf\n",
      "139 ../References_Deep_Learning_For_Finance/000 more references/Books/Fuzzy Logic/Rough Sets Mathematical Foundations.pdf\n",
      "140 ../References_Deep_Learning_For_Finance/000 more references/Books/Fuzzy Logic/Fuzzy Set Theory 2001.pdf\n",
      "141 ../References_Deep_Learning_For_Finance/000 more references/Books/Fuzzy Logic/Principles of adaptive filters and self-learning systems (Anthony Zaknich).pdf\n",
      "142 ../References_Deep_Learning_For_Finance/000 more references/Books/Fuzzy Logic/Understanding and Using Rough Set Based Feature Selection_ Concepts, Techniques and Applications.pdf\n",
      "143 ../References_Deep_Learning_For_Finance/000 more references/Books/Fuzzy Logic/Fuzzy neural network theory and application (Puyin Liu, Hongxing Li) (z-lib.org).pdf\n",
      "144 ../References_Deep_Learning_For_Finance/000 more references/Books/Fuzzy Logic/Three Approaches to Data Analysis Test Theory, Rough Sets and Logical Analysis of Data (Igor Chikalov, Vadim Lozin, Irina Lozina etc.).pdf\n",
      "145 ../References_Deep_Learning_For_Finance/000 more references/Books/Fuzzy Logic/fuzzy-sets-and-fuzzy-logic-theory-and-applications.pdf\n",
      "146 ../References_Deep_Learning_For_Finance/000 more references/Books/Fuzzy Logic/Topics in Rough Set Theory. Current Applications to Granular Computing (Seiki Akama, Yasuo Kudo, Tetsuya Murai).pdf\n",
      "147 ../References_Deep_Learning_For_Finance/000 more references/Books/Fuzzy Logic/Rough Sets: Theoretical Aspects of Reasoning about Data.pdf\n",
      "148 ../References_Deep_Learning_For_Finance/000 more references/Books/Fuzzy Logic/Rough Set Theory A True Landmark in Data Analysis (B. K. Tripathy (auth.), Ajith Abraham etc.).pdf\n",
      "149 ../References_Deep_Learning_For_Finance/000 more references/Books/Computational Finance/Applied computational economics and finance (Mario J. Miranda, Paul L. Fackler).pdf\n",
      "150 ../References_Deep_Learning_For_Finance/000 more references/Books/Computational Finance/The Oxford Handbook of Computational Economics and Finance ( etc.).pdf\n",
      "151 ../References_Deep_Learning_For_Finance/000 more references/Books/Computational Finance/Computational Intelligence Techniques for Trading and Investment.pdf\n",
      "152 ../References_Deep_Learning_For_Finance/000 more references/Books/Computational Finance/Computational Intelligence in Economics and Finance (Shu-Heng Chen, Paul P. Wang (auth.) etc.).pdf\n",
      "153 ../References_Deep_Learning_For_Finance/000 more references/Books/Computational Finance/Computational Finance And Its Applications II.pdf\n",
      "154 ../References_Deep_Learning_For_Finance/000 more references/Books/SOFSEM/SOFSEM 2011_ Theory and Practice of Computer Science_ 37th Conference on Current Trends in Theory and Practice of Computer Science, Nový Smokovec, Slovakia, January 22-28, 2011. Proceedings.pdf\n",
      "155 ../References_Deep_Learning_For_Finance/000 more references/Books/SOFSEM/SOFSEM 2016_ Theory and Practice of Computer Science_ 42nd International Conference on Current Trends in Theory and Practice of Computer Science, Harrachov, Czech Republic, January 23-28, 2016, Proceedings.pdf\n",
      "156 ../References_Deep_Learning_For_Finance/000 more references/Books/SOFSEM/SOFSEM 2017_ Theory and Practice of Computer Science_ 43rd International Conference on Current Trends in Theory and Practice of Computer Science, Limerick, Ireland, January 16-20, 2017, Proceedings.pdf\n",
      "157 ../References_Deep_Learning_For_Finance/000 more references/Books/SOFSEM/SOFSEM 2012_ Theory and Practice of Computer Science_ 38th Conference on Current Trends in Theory and Practice of Computer Science, à pindlerův Mlýn, Czech Republic, January 21-27, 2012. Proceedings.pdf\n",
      "158 ../References_Deep_Learning_For_Finance/000 more references/Books/SOFSEM/SOFSEM 2014_ Theory and Practice of Computer Science_ 40th International Conference on Current Trends in Theory and Practice of Computer Science, Nový Smokovec, Slovakia, January 26-29, 2014, Proceedings.pdf\n",
      "159 ../References_Deep_Learning_For_Finance/000 more references/Books/SOFSEM/SOFSEM 2015_ Theory and Practice of Computer Science_ 41st International Conference on Current Trends in Theory and Practice of Computer Science, Pec pod Sněžkou, Czech Republic, January 24-29, 2015. Proceedings.pdf\n",
      "160 ../References_Deep_Learning_For_Finance/000 more references/Books/SOFSEM/SOFSEM 2018_ Theory and Practice of Computer Science_ 44th International Conference on Current Trends in Theory and Practice of Computer Science, Krems, Austria, January 29 - February 2, 2018, Proceedings.pdf\n",
      "161 ../References_Deep_Learning_For_Finance/000 more references/Books/SOFSEM/SOFSEM 2019_ Theory and Practice of Computer Science_ 45th International Conference on Current Trends in Theory and Practice of Computer Science, Nový Smokovec, Slovakia, January 27-30, 2019, Proceedings.pdf\n",
      "162 ../References_Deep_Learning_For_Finance/000 more references/Books/SOFSEM/SOFSEM 2013_ Theory and Practice of Computer Science_ 39th International Conference on Current Trends in Theory and Practice of Computer Science, à pindlerův Mlýn, Czech Republic, January 26-31, 2013. Proceedings.pdf\n",
      "163 ../References_Deep_Learning_For_Finance/000 more references/Books/Top 10 Market Books/The Intelligent Investor - BENJAMIN GRAHAM.pdf\n",
      "164 ../References_Deep_Learning_For_Finance/000 more references/Books/Top 10 Market Books/The Man Who Solved the Market.pdf\n",
      "165 ../References_Deep_Learning_For_Finance/000 more references/Books/Top 10 Market Books/The Ascent of Money - Financial History of the World.pdf\n",
      "166 ../References_Deep_Learning_For_Finance/000 more references/Books/Top 10 Market Books/The Big Short_ Inside the Doomsday Machine.pdf\n",
      "167 ../References_Deep_Learning_For_Finance/000 more references/Books/Top 10 Market Books/The House of Morgan_ An American Banking Dynasty and the Rise of Modern Finance.pdf\n",
      "168 ../References_Deep_Learning_For_Finance/000 more references/Books/Top 10 Market Books/Reminiscences of a Stock Operator_ With New Commentary and Insights on the Life and Times of Jesse Livermore.pdf\n",
      "169 ../References_Deep_Learning_For_Finance/000 more references/Books/Top 10 Technical Analysis/David Aronson - Evidence-based Technical Analysis_ Applying the Scientific Method and Statistical Inference to Trading Signals.pdf\n",
      "170 ../References_Deep_Learning_For_Finance/000 more references/Books/Top 10 Technical Analysis/Steve Nison-Japanese_Candlestick_Charting_Techniques-EN.pdf\n",
      "171 ../References_Deep_Learning_For_Finance/000 more references/Books/Top 10 Technical Analysis/Steve Nison-Japanese-Candlestick-Charting Techniques-Prentice-Hall-Press-2001.pdf\n",
      "172 ../References_Deep_Learning_For_Finance/000 more references/Books/Top 10 Technical Analysis/David Aronson - Statistically-sound-machine-learning-for-algorithmic-trading-of-financial-instrument.pdf\n",
      "173 ../References_Deep_Learning_For_Finance/000 more references/Books/Top 10 Technical Analysis/Jack Schwager - Getting Started in Technical Analysis.pdf\n",
      "174 ../References_Deep_Learning_For_Finance/000 more references/Books/Top 10 Technical Analysis/Steve Nison – The Candlestick Course.pdf\n",
      "175 ../References_Deep_Learning_For_Finance/000 more references/Books/Top 10 Technical Analysis/Encyclopedia of Technical Indicators.pdf\n",
      "176 ../References_Deep_Learning_For_Finance/000 more references/Books/Top 10 Technical Analysis/John Murphy - technical analysis of financial markets.pdf\n",
      "177 ../References_Deep_Learning_For_Finance/000 more references/Books/Top 10 Technical Analysis/Ten Best Books on Technical Analysis.pdf\n",
      "178 ../References_Deep_Learning_For_Finance/000 more references/Books/Top 10 Technical Analysis/The art and science of technical analysis _ market structure, price action, and trading strategies.pdf\n",
      "179 ../References_Deep_Learning_For_Finance/000 more references/Books/Top 10 Technical Analysis/Technical Analysis Using Multiple Timeframes.pdf\n",
      "180 ../References_Deep_Learning_For_Finance/000 more references/Books/Top 10 Technical Analysis/Martin Pring - Technical Analysis Explained_ The Successful Investor's Guide to Spotting Investment Trends and Turning Points.pdf\n",
      "181 ../References_Deep_Learning_For_Finance/000 more references/Books/Top 10 Neuro_Fuzzy/Neural Fuzzy Systems: A Neuro-Fuzzy Synergism to Intelligent Systems.pdf\n",
      "182 ../References_Deep_Learning_For_Finance/000 more references/Books/Biomimetics/Evolutionary Algorithms in Engineering and Computer Science_ Recent Advances in Genetic Algorithms, Evolution Strategies, Evolutionary Programming, Genetic Programming and Industrial Applications.pdf\n",
      "183 ../References_Deep_Learning_For_Finance/000 more references/Books/Biomimetics/00 Search and Optimization by Metaheuristics_ Techniques and Algorithms Inspired by Nature.pdf\n",
      "184 ../References_Deep_Learning_For_Finance/000 more references/Books/Biomimetics/Nature-Inspired_Optimization_Algorithms.pdf\n",
      "185 ../References_Deep_Learning_For_Finance/000 more references/Books/Biomimetics/Meta-Heuristics_ Theory and Applications.pdf\n",
      "186 ../References_Deep_Learning_For_Finance/000 more references/Books/Biomimetics/Biomimetics: Biologically Inspired Technologies .pdf\n",
      "187 ../References_Deep_Learning_For_Finance/000 more references/Books/Biomimetics/Handbook of Heuristics.pdf\n"
     ]
    },
    {
     "name": "stdout",
     "output_type": "stream",
     "text": [
      "188 ../References_Deep_Learning_For_Finance/000 more references/Books/Biomimetics/Intelligent Control_ A Hybrid Approach Based on Fuzzy Logic, Neural Networks and Genetic Algorithms.pdf\n",
      "189 ../References_Deep_Learning_For_Finance/000 more references/Books/Biomimetics/A First Course in Fuzzy Logic, Fuzzy Dynamical Systems, and Biomathematics_ Theory and Applications.pdf\n",
      "190 ../References_Deep_Learning_For_Finance/000 more references/Books/Biomimetics/Fundamentals of Computational Intelligence_ Neural Networks, Fuzzy Systems, and Evolutionary Computation.pdf\n",
      "191 ../References_Deep_Learning_For_Finance/000 more references/Books/Biomimetics/Biomimicry for Optimization, Control, and Automation.pdf\n",
      "192 ../References_Deep_Learning_For_Finance/000 more references/Books/Biomimetics/00 Intelligent Optimisation Techniques. Genetic Algorithms, Tabu Search, Simulated Annealing and Neural Networks.pdf\n",
      "193 ../References_Deep_Learning_For_Finance/000 more references/Books/Tensorflow 1.x/Machine_Learning_with_TensorFlow_1.x.pdf\n",
      "194 ../References_Deep_Learning_For_Finance/000 more references/Books/Tensorflow 1.x/Marstering Tensorflow 1.x.pdf\n",
      "195 ../References_Deep_Learning_For_Finance/000 more references/Books/Tensorflow 1.x/tensorflow-1x-deep-learning-cookbook-over-90-unique-recipes-to-solve-artificial-intelligence-driven-problems-with-python.pdf\n",
      "196 ../References_Deep_Learning_For_Finance/000 more references/Books/Spiking Neural Network/Time-Space, Spiking Neural Networks and Brain-Inspired Artificial Intelligence (Nikola K. Kasabov).pdf\n",
      "197 ../References_Deep_Learning_For_Finance/000 more references/Books/Spiking Neural Network/Spiking neuron models_ single neurons, populations, plasticity.pdf\n",
      "198 ../References_Deep_Learning_For_Finance/000 more references/Books/Top 10 Evolutionary Computing/Foundations of Genetic Algorithms 6.pdf\n",
      "199 ../References_Deep_Learning_For_Finance/000 more references/Books/Top 10 Evolutionary Computing/Parallel Metaheuristics_ A New Class of Algorithms.pdf\n",
      "200 ../References_Deep_Learning_For_Finance/000 more references/Books/Top 10 Evolutionary Computing/Intelligent Optimisation Techniques. Genetic Algorithms, Tabu Search, Simulated Annealing and Neural Networks.pdf\n",
      "201 ../References_Deep_Learning_For_Finance/000 more references/Books/Top 10 Evolutionary Computing/understanding intelligence.pdf\n",
      "202 ../References_Deep_Learning_For_Finance/000 more references/Books/Top 10 Evolutionary Computing/Search and Optimization by Metaheuristics_ Techniques and Algorithms Inspired by Nature.pdf\n",
      "203 ../References_Deep_Learning_For_Finance/000 more references/Books/Top 10 Evolutionary Computing/Metaheuristics for Hard Optimization _ Simulated Annealing, Tabu Search, Evolutionary and Genetic Algorithms, Ant Colonies ... Methods and Case Studies.pdf\n",
      "204 ../References_Deep_Learning_For_Finance/000 more references/Books/Top 10 Evolutionary Computing/Adaptation in Natural and Artificial Systems_ An Introductory Analysis with Applications to Biology, Control, and Artificial Intelligence.pdf\n",
      "205 ../References_Deep_Learning_For_Finance/000 more references/Books/Top 10 Evolutionary Computing/Genetic Algorithms with Python by Eyal Wirsansky .pdf\n",
      "206 ../References_Deep_Learning_For_Finance/000 more references/Books/Top 10 Evolutionary Computing/Foundations_of_Genetic_Algorithms.pdf\n",
      "207 ../References_Deep_Learning_For_Finance/000 more references/Books/Top 10 Evolutionary Computing/Foundations of genetic algorithms. Volume 1.pdf\n",
      "208 ../References_Deep_Learning_For_Finance/000 more references/Books/Top 10 Evolutionary Computing/Foundations of Genetic Algorithms_ 9.pdf\n",
      "209 ../References_Deep_Learning_For_Finance/000 more references/Books/Top 10 Evolutionary Computing/Foundations of Genetic Algorithms 8.pdf\n",
      "210 ../References_Deep_Learning_For_Finance/000 more references/Books/Top 10 Evolutionary Computing/Genetic Algorithms and Machine Learning for Programmers Create AI Models and Evolve Solutions.pdf\n",
      "211 ../References_Deep_Learning_For_Finance/000 more references/Books/Top 10 Evolutionary Computing/horizons of evolutionary robotics.pdf\n",
      "212 ../References_Deep_Learning_For_Finance/000 more references/Books/Top 10 Evolutionary Computing/Hands-On Neuroevolution with Python: Build high-performing artificial neural network architectures using neuroevolution-basedalg.pdf\n",
      "213 ../References_Deep_Learning_For_Finance/000 more references/Books/Top 10 Evolutionary Computing/Evolutionary Computation 2 Advanced Algorithms and Operators.pdf\n",
      "214 ../References_Deep_Learning_For_Finance/000 more references/Books/Top 10 Evolutionary Computing/Genetic Algorithms and their Applications APPLICATIONS To SYNTHETIC DATA GENERATION.pdf\n",
      "215 ../References_Deep_Learning_For_Finance/000 more references/Books/Top 10 Evolutionary Computing/The Handbook of Evolutionary Computation - Kenneth De Jong.pdf\n",
      "216 ../References_Deep_Learning_For_Finance/000 more references/Books/Top 10 Evolutionary Computing/Genetic Algorithms and Genetic Programming Modern Concepts and Practical Applications.pdf\n",
      "217 ../References_Deep_Learning_For_Finance/000 more references/Books/Top 10 Evolutionary Computing/An Introduction to Genetic Algorithms.pdf\n",
      "218 ../References_Deep_Learning_For_Finance/000 more references/Books/Top 10 Evolutionary Computing/Heuristics intelligent search strategies for computer problem solving.pdf\n",
      "219 ../References_Deep_Learning_For_Finance/000 more references/Books/Evoluationary Computing in Finance/Natural Computing in Computational Finance Volume 3.pdf\n",
      "220 ../References_Deep_Learning_For_Finance/000 more references/Books/Evoluationary Computing in Finance/Evolutionary Computation in Economics and Finance.pdf\n",
      "221 ../References_Deep_Learning_For_Finance/000 more references/Books/Evoluationary Computing in Finance/Modelling Financial Times Series (Stephen J. Taylor).pdf\n",
      "222 ../References_Deep_Learning_For_Finance/000 more references/Books/Evoluationary Computing in Finance/bafykbzacedwjmro4n6jkio4k5a3xsbq5gwaqkj3ux2w3xk4mzh5wgiq7ggmii.pdf\n",
      "223 ../References_Deep_Learning_For_Finance/000 more references/Books/Evoluationary Computing in Finance/Natural Computing in Computational Finance Volume 2.pdf\n",
      "224 ../References_Deep_Learning_For_Finance/000 more references/Books/Evoluationary Computing in Finance/Handbook of computational finance.pdf\n",
      "225 ../References_Deep_Learning_For_Finance/000 more references/Books/Evoluationary Computing in Finance/Emerging Intelligent Computing Technology and Applications_ 5th International Conference on Intelligent Computing, ICIC 2009, Ulsan, South Korea, September 16-19, 2009. Proceedings.pdf\n",
      "226 ../References_Deep_Learning_For_Finance/000 more references/Books/Evoluationary Computing in Finance/Natural Computing in Computational Finance Volume 4 (Anthony Brabazon, Michael O’Neill).pdf\n",
      "227 ../References_Deep_Learning_For_Finance/000 more references/Books/Evoluationary Computing in Finance/Genetic Algorithms and Genetic Programming in Computational Finance.pdf\n",
      "228 ../References_Deep_Learning_For_Finance/000 more references/Books/Evoluationary Computing in Finance/Evolutionary Computation in Data Mining (Keigo Watanabe, M.M.A. Hashem).pdf\n",
      "229 ../References_Deep_Learning_For_Finance/000 more references/Books/Evoluationary Computing in Finance/EVOLUTIONARY ALGORITHMS  FOR FINANCIAL TRADING.pdf\n",
      "230 ../References_Deep_Learning_For_Finance/000 more references/Books/Evoluationary Computing in Finance/Natural Computing in Computational Finance.pdf\n",
      "231 ../References_Deep_Learning_For_Finance/000 more references/Books/Top 10 Algorithmic Trading/Advances in Financial Machine Learning.pdf\n",
      "232 ../References_Deep_Learning_For_Finance/000 more references/Books/Top 10 Algorithmic Trading/Advanced Algorithmic Trading.pdf\n",
      "233 ../References_Deep_Learning_For_Finance/000 more references/Books/Top 10 Algorithmic Trading/New Concepts in Technical Trading Systems (Welles J. Wilder).pdf\n",
      "234 ../References_Deep_Learning_For_Finance/000 more references/Books/Top 10 Algorithmic Trading/Python for Finance.pdf\n",
      "235 ../References_Deep_Learning_For_Finance/000 more references/Books/Top 10 Algorithmic Trading/Building Winning Algorithmic Trading Systems_ A Trader's Journey from Data Mining to Monte Carlo Simulation to Live Trading.pdf\n",
      "236 ../References_Deep_Learning_For_Finance/000 more references/Books/Top 10 Algorithmic Trading/A Guide to Creating A Successful Algorithmic Trading Strategy.pdf\n",
      "237 ../References_Deep_Learning_For_Finance/000 more references/Books/Top 10 Algorithmic Trading/Best Books on Algorithmic Trading for 2022 _ Trality.pdf\n",
      "238 ../References_Deep_Learning_For_Finance/000 more references/Books/Top 10 Market History/maggie-mahar-bull-a-history-of-the-boom-1982-2004.pdf\n",
      "239 ../References_Deep_Learning_For_Finance/000 more references/Books/Top 10 Market History/JESSE-LIVERMORE-METHODS OF TRADING STOCKS.pdf\n",
      "240 ../References_Deep_Learning_For_Finance/000 more references/Books/Top 10 Market History/Galbraith - A Short History of Financial Euphoria (1990).pdf\n",
      "241 ../References_Deep_Learning_For_Finance/000 more references/Books/Top 10 Market History/Lords of Finance_ The Bankers Who Broke the World.pdf\n",
      "242 ../References_Deep_Learning_For_Finance/000 more references/Books/Top 10 Reinforcement Learning/Handbook of Reinforcement Learningand Control.pdf\n",
      "243 ../References_Deep_Learning_For_Finance/000 more references/Books/Top 10 Reinforcement Learning/An Introduction to Machine Learning.pdf\n",
      "244 ../References_Deep_Learning_For_Finance/000 more references/Books/Top 10 Reinforcement Learning/Foundations of Reinforcement Learning with Applications in Finance.pdf\n",
      "245 ../References_Deep_Learning_For_Finance/000 more references/Books/Top 10 Reinforcement Learning/25 Best New Reinforcement Learning Books To Read In 2022 - BookAuthority.pdf\n",
      "246 ../References_Deep_Learning_For_Finance/000 more references/Books/Top 10 Reinforcement Learning/Reinforcement Learning and Stochastic Optimization A Unified Framework for Sequential Decisions.pdf\n"
     ]
    },
    {
     "name": "stdout",
     "output_type": "stream",
     "text": [
      "247 ../References_Deep_Learning_For_Finance/000 more references/Books/Pattern Recognizations/Pattern recognition by self-organizing neural networks.pdf\n",
      "248 ../References_Deep_Learning_For_Finance/000 more references/Books/Pattern Recognizations/Pattern Recognition and Machine Learning.pdf\n",
      "249 ../References_Deep_Learning_For_Finance/000 more references/Books/Top 10 Time Series and Finance/Deep Time Series Forecasting with Python_ An Intuitive Introduction to Deep Learning for Applied Time Series Modeling.pdf\n",
      "250 ../References_Deep_Learning_For_Finance/000 more references/Books/Top 10 Time Series and Finance/Modelling Financial Time Series with S-PLUS.pdf\n",
      "251 ../References_Deep_Learning_For_Finance/000 more references/Books/Genetic and Evolutionary Computing/Genetic and Evolutionary Computation — 2003I_ Genetic and Evolutionary Computation Conference Chicago, IL, USA, July 12–16, 2003 Proceedings, Part I.pdf\n",
      "252 ../References_Deep_Learning_For_Finance/000 more references/Books/Genetic and Evolutionary Computing/Genetic and Evolutionary Computing_ 2017_Proceedings of the Eleventh International Conference on Genetic and Evolutionary Computing, November 6-8, 2017, Kaohsiung, Taiwan.pdf\n",
      "253 ../References_Deep_Learning_For_Finance/000 more references/Books/Genetic and Evolutionary Computing/Genetic and Evolutionary Computing_2018_Proceedings of the Twelfth International Conference on Genetic and Evolutionary Computing.pdf\n",
      "254 ../References_Deep_Learning_For_Finance/000 more references/Books/Genetic and Evolutionary Computing/Genetic and Evolutionary Computing_ 2014_Proceeding of the Eighth International Conference on Genetic and Evolutionary Computing, October 18-20, 2014, Nanchang, China.pdf\n",
      "255 ../References_Deep_Learning_For_Finance/000 more references/Books/Genetic and Evolutionary Computing/Genetic and Evolutionary Computing_2019_ Proceedings of the Thirteenth International Conference on Genetic and Evolutionary Computing.pdf\n",
      "256 ../References_Deep_Learning_For_Finance/000 more references/Books/Genetic and Evolutionary Computing/Genetic and Evolutionary Computing_ 2016_Proceedings of the Tenth International Conference on Genetic and Evolutionary Computing, November 7-9, 2016 Fuzhou City, Fujian Province, China.pdf\n",
      "257 ../References_Deep_Learning_For_Finance/000 more references/Books/Genetic and Evolutionary Computing/Genetic and Evolutionary Computation — 2003II_ Genetic and Evolutionary Computation Conference Chicago, IL, USA, July 12–16, 2003 Proceedings, Part II.pdf\n",
      "258 ../References_Deep_Learning_For_Finance/000 more references/Books/Genetic and Evolutionary Computing/Genetic and Evolutionary Computing_ 2015_Proceedings of the Ninth International Conference on Genetic and Evolutionary Computing, August 26-28, 2015, Yangon, Myanmar - Volume 1.pdf\n",
      "259 ../References_Deep_Learning_For_Finance/000 more references/Books/Genetic and Evolutionary Computing/Genetic and Evolutionary Computing_2021_Proceedings of the Fourteenth International Conferenceon Genetic and Evolutionary Computing.pdf\n",
      "260 ../References_Deep_Learning_For_Finance/000 more references/Books/Genetic and Evolutionary Computing/Genetic and Evolutionary Computation – 2004I_ Genetic and Evolutionary Computation Conference, Seattle, WA, USA, June 26-30, 2004. Proceedings, Part I.pdf\n",
      "261 ../References_Deep_Learning_For_Finance/000 more references/Books/Conferences/PRICAI 2019 Trends in Artificial Intelligence 16th Pacific Rim International Conference on Artificial Intelligence, Cuvu (Abhaya C. Nayak, Alok Sharma) .pdf\n"
     ]
    }
   ],
   "source": [
    "cnt = 0\n",
    "\n",
    "skipped = ['']\n",
    "\n",
    "for f in all_folders:\n",
    "#    print (cnt, f)\n",
    "#    if 'Books' in f: #igore books for now\n",
    "#        continue\n",
    "        \n",
    "    #if f in skipped:\n",
    "    #    continue\n",
    "        \n",
    "    files = f + '/*.pdf'\n",
    "    for fn in glob.glob(files):            \n",
    "        if re.search(u'[\\u4e00-\\u9fff]', fn): #check if it contains unicodes\n",
    "            print (cnt, 'Chinese', fn)\n",
    "            ss = fn.split('/')\n",
    "            dst= './all_chinese_books/' + ss[-1]\n",
    "            shutil.copyfile(fn, dst)\n",
    "            cnt += 1            \n",
    "        else:\n",
    "            print (cnt, fn)\n",
    "            ss = fn.split('/')\n",
    "            dst= './all_books/' + ss[-1]\n",
    "            shutil.copyfile(fn, dst)\n",
    "            cnt += 1"
   ]
  },
  {
   "cell_type": "code",
   "execution_count": 68,
   "id": "9c4e4e59",
   "metadata": {
    "scrolled": true
   },
   "outputs": [
    {
     "ename": "Error",
     "evalue": "Odd-length string",
     "output_type": "error",
     "traceback": [
      "\u001b[0;31m---------------------------------------------------------------------------\u001b[0m",
      "\u001b[0;31mError\u001b[0m                                     Traceback (most recent call last)",
      "Input \u001b[0;32mIn [68]\u001b[0m, in \u001b[0;36m<cell line: 3>\u001b[0;34m()\u001b[0m\n\u001b[1;32m     21\u001b[0m \u001b[38;5;28;01mif\u001b[39;00m fn \u001b[38;5;129;01min\u001b[39;00m skipped:\n\u001b[1;32m     22\u001b[0m     \u001b[38;5;28;01mcontinue\u001b[39;00m\n\u001b[0;32m---> 24\u001b[0m \u001b[38;5;28;01mif\u001b[39;00m \u001b[43mfound_references_tag\u001b[49m\u001b[43m(\u001b[49m\u001b[43mfn\u001b[49m\u001b[43m)\u001b[49m:\n\u001b[1;32m     25\u001b[0m     dst\u001b[38;5;241m=\u001b[39m \u001b[38;5;124m'\u001b[39m\u001b[38;5;124m./all_papers/\u001b[39m\u001b[38;5;124m'\u001b[39m \u001b[38;5;241m+\u001b[39m ss[\u001b[38;5;241m-\u001b[39m\u001b[38;5;241m1\u001b[39m]\n\u001b[1;32m     26\u001b[0m     shutil\u001b[38;5;241m.\u001b[39mcopyfile(fn, dst)\n",
      "Input \u001b[0;32mIn [62]\u001b[0m, in \u001b[0;36mfound_references_tag\u001b[0;34m(fn)\u001b[0m\n\u001b[1;32m      4\u001b[0m text \u001b[38;5;241m=\u001b[39m \u001b[38;5;124m\"\u001b[39m\u001b[38;5;124m\"\u001b[39m\n\u001b[1;32m      6\u001b[0m \u001b[38;5;28;01mfor\u001b[39;00m page \u001b[38;5;129;01min\u001b[39;00m reader\u001b[38;5;241m.\u001b[39mpages:\n\u001b[0;32m----> 7\u001b[0m     text \u001b[38;5;241m+\u001b[39m\u001b[38;5;241m=\u001b[39m \u001b[43mpage\u001b[49m\u001b[38;5;241;43m.\u001b[39;49m\u001b[43mextract_text\u001b[49m\u001b[43m(\u001b[49m\u001b[43m)\u001b[49m \u001b[38;5;241m+\u001b[39m \u001b[38;5;124m\"\u001b[39m\u001b[38;5;130;01m\\n\u001b[39;00m\u001b[38;5;124m\"\u001b[39m\n\u001b[1;32m      9\u001b[0m sen \u001b[38;5;241m=\u001b[39m text\u001b[38;5;241m.\u001b[39msplit(\u001b[38;5;124m'\u001b[39m\u001b[38;5;130;01m\\n\u001b[39;00m\u001b[38;5;124m'\u001b[39m)\n\u001b[1;32m     11\u001b[0m \u001b[38;5;28;01mfor\u001b[39;00m s \u001b[38;5;129;01min\u001b[39;00m sen:\n",
      "File \u001b[0;32m~/.local/lib/python3.8/site-packages/PyPDF2/_page.py:1317\u001b[0m, in \u001b[0;36mPageObject.extract_text\u001b[0;34m(self, Tj_sep, TJ_sep, space_width)\u001b[0m\n\u001b[1;32m   1299\u001b[0m \u001b[38;5;28;01mdef\u001b[39;00m \u001b[38;5;21mextract_text\u001b[39m(\n\u001b[1;32m   1300\u001b[0m     \u001b[38;5;28mself\u001b[39m, Tj_sep: \u001b[38;5;28mstr\u001b[39m \u001b[38;5;241m=\u001b[39m \u001b[38;5;124m\"\u001b[39m\u001b[38;5;124m\"\u001b[39m, TJ_sep: \u001b[38;5;28mstr\u001b[39m \u001b[38;5;241m=\u001b[39m \u001b[38;5;124m\"\u001b[39m\u001b[38;5;124m\"\u001b[39m, space_width: \u001b[38;5;28mfloat\u001b[39m \u001b[38;5;241m=\u001b[39m \u001b[38;5;241m200.0\u001b[39m\n\u001b[1;32m   1301\u001b[0m ) \u001b[38;5;241m-\u001b[39m\u001b[38;5;241m>\u001b[39m \u001b[38;5;28mstr\u001b[39m:\n\u001b[1;32m   1302\u001b[0m     \u001b[38;5;124;03m\"\"\"\u001b[39;00m\n\u001b[1;32m   1303\u001b[0m \u001b[38;5;124;03m    Locate all text drawing commands, in the order they are provided in the\u001b[39;00m\n\u001b[1;32m   1304\u001b[0m \u001b[38;5;124;03m    content stream, and extract the text.\u001b[39;00m\n\u001b[0;32m   (...)\u001b[0m\n\u001b[1;32m   1315\u001b[0m \u001b[38;5;124;03m    :return: The extracted text\u001b[39;00m\n\u001b[1;32m   1316\u001b[0m \u001b[38;5;124;03m    \"\"\"\u001b[39;00m\n\u001b[0;32m-> 1317\u001b[0m     \u001b[38;5;28;01mreturn\u001b[39;00m \u001b[38;5;28;43mself\u001b[39;49m\u001b[38;5;241;43m.\u001b[39;49m\u001b[43m_extract_text\u001b[49m\u001b[43m(\u001b[49m\u001b[38;5;28;43mself\u001b[39;49m\u001b[43m,\u001b[49m\u001b[43m \u001b[49m\u001b[38;5;28;43mself\u001b[39;49m\u001b[38;5;241;43m.\u001b[39;49m\u001b[43mpdf\u001b[49m\u001b[43m,\u001b[49m\u001b[43m \u001b[49m\u001b[43mspace_width\u001b[49m\u001b[43m,\u001b[49m\u001b[43m \u001b[49m\u001b[43mPG\u001b[49m\u001b[38;5;241;43m.\u001b[39;49m\u001b[43mCONTENTS\u001b[49m\u001b[43m)\u001b[49m\n",
      "File \u001b[0;32m~/.local/lib/python3.8/site-packages/PyPDF2/_page.py:1130\u001b[0m, in \u001b[0;36mPageObject._extract_text\u001b[0;34m(self, obj, pdf, space_width, content_key)\u001b[0m\n\u001b[1;32m   1128\u001b[0m \u001b[38;5;28;01mif\u001b[39;00m \u001b[38;5;124m\"\u001b[39m\u001b[38;5;124m/Font\u001b[39m\u001b[38;5;124m\"\u001b[39m \u001b[38;5;129;01min\u001b[39;00m resources_dict:\n\u001b[1;32m   1129\u001b[0m     \u001b[38;5;28;01mfor\u001b[39;00m f \u001b[38;5;129;01min\u001b[39;00m cast(DictionaryObject, resources_dict[\u001b[38;5;124m\"\u001b[39m\u001b[38;5;124m/Font\u001b[39m\u001b[38;5;124m\"\u001b[39m]):\n\u001b[0;32m-> 1130\u001b[0m         cmaps[f] \u001b[38;5;241m=\u001b[39m \u001b[43mbuild_char_map\u001b[49m\u001b[43m(\u001b[49m\u001b[43mf\u001b[49m\u001b[43m,\u001b[49m\u001b[43m \u001b[49m\u001b[43mspace_width\u001b[49m\u001b[43m,\u001b[49m\u001b[43m \u001b[49m\u001b[43mobj\u001b[49m\u001b[43m)\u001b[49m\n\u001b[1;32m   1131\u001b[0m cmap: Tuple[\n\u001b[1;32m   1132\u001b[0m     Union[\u001b[38;5;28mstr\u001b[39m, Dict[\u001b[38;5;28mint\u001b[39m, \u001b[38;5;28mstr\u001b[39m]], Dict[\u001b[38;5;28mstr\u001b[39m, \u001b[38;5;28mstr\u001b[39m], \u001b[38;5;28mstr\u001b[39m\n\u001b[1;32m   1133\u001b[0m ]  \u001b[38;5;66;03m# (encoding,CMAP,font_name)\u001b[39;00m\n\u001b[1;32m   1134\u001b[0m \u001b[38;5;28;01mtry\u001b[39;00m:\n",
      "File \u001b[0;32m~/.local/lib/python3.8/site-packages/PyPDF2/_cmap.py:21\u001b[0m, in \u001b[0;36mbuild_char_map\u001b[0;34m(font_name, space_width, obj)\u001b[0m\n\u001b[1;32m     19\u001b[0m space_code \u001b[38;5;241m=\u001b[39m \u001b[38;5;241m32\u001b[39m\n\u001b[1;32m     20\u001b[0m encoding, space_code \u001b[38;5;241m=\u001b[39m parse_encoding(ft, space_code)\n\u001b[0;32m---> 21\u001b[0m map_dict, space_code, int_entry \u001b[38;5;241m=\u001b[39m \u001b[43mparse_to_unicode\u001b[49m\u001b[43m(\u001b[49m\u001b[43mft\u001b[49m\u001b[43m,\u001b[49m\u001b[43m \u001b[49m\u001b[43mspace_code\u001b[49m\u001b[43m)\u001b[49m\n\u001b[1;32m     23\u001b[0m \u001b[38;5;66;03m# encoding can be either a string for decode (on 1,2 or a variable number of bytes) of a char table (for 1 byte only for me)\u001b[39;00m\n\u001b[1;32m     24\u001b[0m \u001b[38;5;66;03m# if empty string, it means it is than encoding field is not present and we have to select the good encoding from cmap input data\u001b[39;00m\n\u001b[1;32m     25\u001b[0m \u001b[38;5;28;01mif\u001b[39;00m encoding \u001b[38;5;241m==\u001b[39m \u001b[38;5;124m\"\u001b[39m\u001b[38;5;124m\"\u001b[39m:\n",
      "File \u001b[0;32m~/.local/lib/python3.8/site-packages/PyPDF2/_cmap.py:234\u001b[0m, in \u001b[0;36mparse_to_unicode\u001b[0;34m(ft, space_code)\u001b[0m\n\u001b[1;32m    227\u001b[0m fmt2 \u001b[38;5;241m=\u001b[39m \u001b[38;5;124mb\u001b[39m\u001b[38;5;124m\"\u001b[39m\u001b[38;5;132;01m%%\u001b[39;00m\u001b[38;5;124m0\u001b[39m\u001b[38;5;132;01m%d\u001b[39;00m\u001b[38;5;124mX\u001b[39m\u001b[38;5;124m\"\u001b[39m \u001b[38;5;241m%\u001b[39m \u001b[38;5;28mlen\u001b[39m(lst[\u001b[38;5;241m2\u001b[39m])\n\u001b[1;32m    228\u001b[0m \u001b[38;5;28;01mwhile\u001b[39;00m a \u001b[38;5;241m<\u001b[39m\u001b[38;5;241m=\u001b[39m b:\n\u001b[1;32m    229\u001b[0m     map_dict[\n\u001b[1;32m    230\u001b[0m         unhexlify(fmt \u001b[38;5;241m%\u001b[39m a)\u001b[38;5;241m.\u001b[39mdecode(\n\u001b[1;32m    231\u001b[0m             \u001b[38;5;124m\"\u001b[39m\u001b[38;5;124mcharmap\u001b[39m\u001b[38;5;124m\"\u001b[39m \u001b[38;5;28;01mif\u001b[39;00m map_dict[\u001b[38;5;241m-\u001b[39m\u001b[38;5;241m1\u001b[39m] \u001b[38;5;241m==\u001b[39m \u001b[38;5;241m1\u001b[39m \u001b[38;5;28;01melse\u001b[39;00m \u001b[38;5;124m\"\u001b[39m\u001b[38;5;124mutf-16-be\u001b[39m\u001b[38;5;124m\"\u001b[39m,\n\u001b[1;32m    232\u001b[0m             \u001b[38;5;124m\"\u001b[39m\u001b[38;5;124msurrogatepass\u001b[39m\u001b[38;5;124m\"\u001b[39m,\n\u001b[1;32m    233\u001b[0m         )\n\u001b[0;32m--> 234\u001b[0m     ] \u001b[38;5;241m=\u001b[39m \u001b[43munhexlify\u001b[49m\u001b[43m(\u001b[49m\u001b[43mfmt2\u001b[49m\u001b[43m \u001b[49m\u001b[38;5;241;43m%\u001b[39;49m\u001b[43m \u001b[49m\u001b[43mc\u001b[49m\u001b[43m)\u001b[49m\u001b[38;5;241m.\u001b[39mdecode(\u001b[38;5;124m\"\u001b[39m\u001b[38;5;124mutf-16-be\u001b[39m\u001b[38;5;124m\"\u001b[39m, \u001b[38;5;124m\"\u001b[39m\u001b[38;5;124msurrogatepass\u001b[39m\u001b[38;5;124m\"\u001b[39m)\n\u001b[1;32m    235\u001b[0m     int_entry\u001b[38;5;241m.\u001b[39mappend(a)\n\u001b[1;32m    236\u001b[0m     a \u001b[38;5;241m+\u001b[39m\u001b[38;5;241m=\u001b[39m \u001b[38;5;241m1\u001b[39m\n",
      "\u001b[0;31mError\u001b[0m: Odd-length string"
     ]
    }
   ],
   "source": [
    "import os.path\n",
    "\n",
    "for fn in glob.glob('all_collections/*.pdf'):\n",
    "    \n",
    "    skipped = ['all_collections/Fuzzy Based Modified SHL algorithm for Spiking Neural  Network.pdf', \n",
    "               'all_collections/A Survey on Unsupervised Machine Learning Algorithms for Automation, Classification and Maintenance.pdf',\n",
    "              'all_collections/Evolutionary Function Approximation for Reinforcement Learning.pdf',\n",
    "              'all_collections/Purified sentiment indicators for the stock market5.04.09.pdf',\n",
    "               'all_collections/Time Series Analysis by State Space Methods (2ed).pdf',\n",
    "               'all_collections/Machine Learning for Time Series Anomaly Detection.pdf',\n",
    "               'all_collections/The Effect of the Normalization Method Used in Different Sample Sizes on.pdf',\n",
    "               'all_collections/Genetic Algorithm: An Application to Technical Trading System Design.pdf',\n",
    "              'all_collections/Improving stock trading decisions based on pattern recognition using machine learning technology.pdf']\n",
    "    \n",
    "    ss = fn.split('/')\n",
    "    \n",
    "    if os.path.isfile('all_papers/' + ss[-1]) or os.path.isfile('all_articles/' + ss[-1]):\n",
    "        #print('Skipped')\n",
    "        continue\n",
    "    \n",
    "    if fn in skipped:\n",
    "        continue\n",
    "    \n",
    "    if found_references_tag(fn):\n",
    "        dst= './all_papers/' + ss[-1]\n",
    "        shutil.copyfile(fn, dst)\n",
    "    else:\n",
    "        dst= './all_articles/' + ss[-1]\n",
    "        shutil.copyfile(fn, dst)"
   ]
  },
  {
   "cell_type": "code",
   "execution_count": 67,
   "id": "0ff2f584",
   "metadata": {},
   "outputs": [
    {
     "data": {
      "text/plain": [
       "'all_collections/Machine Learning for Time Series Anomaly Detection.pdf'"
      ]
     },
     "execution_count": 67,
     "metadata": {},
     "output_type": "execute_result"
    }
   ],
   "source": [
    "fn"
   ]
  },
  {
   "cell_type": "code",
   "execution_count": 42,
   "id": "e584f1b7",
   "metadata": {},
   "outputs": [
    {
     "data": {
      "text/plain": [
       "'../References_Deep_Learning_For_Finance/000 more references/Genetic Algorthms Game Theory/A survey of Game Theory using Evolutionary Algorithms.pdf'"
      ]
     },
     "execution_count": 42,
     "metadata": {},
     "output_type": "execute_result"
    }
   ],
   "source": [
    "fn"
   ]
  },
  {
   "cell_type": "code",
   "execution_count": 78,
   "id": "870ecd98",
   "metadata": {},
   "outputs": [
    {
     "ename": "Error",
     "evalue": "Odd-length string",
     "output_type": "error",
     "traceback": [
      "\u001b[0;31m---------------------------------------------------------------------------\u001b[0m",
      "\u001b[0;31mError\u001b[0m                                     Traceback (most recent call last)",
      "Input \u001b[0;32mIn [78]\u001b[0m, in \u001b[0;36m<cell line: 10>\u001b[0;34m()\u001b[0m\n\u001b[1;32m      8\u001b[0m text \u001b[38;5;241m=\u001b[39m \u001b[38;5;124m\"\u001b[39m\u001b[38;5;124m\"\u001b[39m\n\u001b[1;32m     10\u001b[0m \u001b[38;5;28;01mfor\u001b[39;00m page \u001b[38;5;129;01min\u001b[39;00m reader\u001b[38;5;241m.\u001b[39mpages:\n\u001b[0;32m---> 11\u001b[0m     \u001b[38;5;28mprint\u001b[39m(\u001b[43mpage\u001b[49m\u001b[38;5;241;43m.\u001b[39;49m\u001b[43mextract_text\u001b[49m\u001b[43m(\u001b[49m\u001b[43m)\u001b[49m)\n\u001b[1;32m     12\u001b[0m     \u001b[38;5;28mprint\u001b[39m(\u001b[38;5;124m'\u001b[39m\u001b[38;5;124m------------------------\u001b[39m\u001b[38;5;124m'\u001b[39m)\n\u001b[1;32m     13\u001b[0m     text \u001b[38;5;241m+\u001b[39m\u001b[38;5;241m=\u001b[39m page\u001b[38;5;241m.\u001b[39mextract_text() \u001b[38;5;241m+\u001b[39m \u001b[38;5;124m\"\u001b[39m\u001b[38;5;130;01m\\n\u001b[39;00m\u001b[38;5;124m\"\u001b[39m\n",
      "File \u001b[0;32m~/.local/lib/python3.8/site-packages/PyPDF2/_page.py:1317\u001b[0m, in \u001b[0;36mPageObject.extract_text\u001b[0;34m(self, Tj_sep, TJ_sep, space_width)\u001b[0m\n\u001b[1;32m   1299\u001b[0m \u001b[38;5;28;01mdef\u001b[39;00m \u001b[38;5;21mextract_text\u001b[39m(\n\u001b[1;32m   1300\u001b[0m     \u001b[38;5;28mself\u001b[39m, Tj_sep: \u001b[38;5;28mstr\u001b[39m \u001b[38;5;241m=\u001b[39m \u001b[38;5;124m\"\u001b[39m\u001b[38;5;124m\"\u001b[39m, TJ_sep: \u001b[38;5;28mstr\u001b[39m \u001b[38;5;241m=\u001b[39m \u001b[38;5;124m\"\u001b[39m\u001b[38;5;124m\"\u001b[39m, space_width: \u001b[38;5;28mfloat\u001b[39m \u001b[38;5;241m=\u001b[39m \u001b[38;5;241m200.0\u001b[39m\n\u001b[1;32m   1301\u001b[0m ) \u001b[38;5;241m-\u001b[39m\u001b[38;5;241m>\u001b[39m \u001b[38;5;28mstr\u001b[39m:\n\u001b[1;32m   1302\u001b[0m     \u001b[38;5;124;03m\"\"\"\u001b[39;00m\n\u001b[1;32m   1303\u001b[0m \u001b[38;5;124;03m    Locate all text drawing commands, in the order they are provided in the\u001b[39;00m\n\u001b[1;32m   1304\u001b[0m \u001b[38;5;124;03m    content stream, and extract the text.\u001b[39;00m\n\u001b[0;32m   (...)\u001b[0m\n\u001b[1;32m   1315\u001b[0m \u001b[38;5;124;03m    :return: The extracted text\u001b[39;00m\n\u001b[1;32m   1316\u001b[0m \u001b[38;5;124;03m    \"\"\"\u001b[39;00m\n\u001b[0;32m-> 1317\u001b[0m     \u001b[38;5;28;01mreturn\u001b[39;00m \u001b[38;5;28;43mself\u001b[39;49m\u001b[38;5;241;43m.\u001b[39;49m\u001b[43m_extract_text\u001b[49m\u001b[43m(\u001b[49m\u001b[38;5;28;43mself\u001b[39;49m\u001b[43m,\u001b[49m\u001b[43m \u001b[49m\u001b[38;5;28;43mself\u001b[39;49m\u001b[38;5;241;43m.\u001b[39;49m\u001b[43mpdf\u001b[49m\u001b[43m,\u001b[49m\u001b[43m \u001b[49m\u001b[43mspace_width\u001b[49m\u001b[43m,\u001b[49m\u001b[43m \u001b[49m\u001b[43mPG\u001b[49m\u001b[38;5;241;43m.\u001b[39;49m\u001b[43mCONTENTS\u001b[49m\u001b[43m)\u001b[49m\n",
      "File \u001b[0;32m~/.local/lib/python3.8/site-packages/PyPDF2/_page.py:1130\u001b[0m, in \u001b[0;36mPageObject._extract_text\u001b[0;34m(self, obj, pdf, space_width, content_key)\u001b[0m\n\u001b[1;32m   1128\u001b[0m \u001b[38;5;28;01mif\u001b[39;00m \u001b[38;5;124m\"\u001b[39m\u001b[38;5;124m/Font\u001b[39m\u001b[38;5;124m\"\u001b[39m \u001b[38;5;129;01min\u001b[39;00m resources_dict:\n\u001b[1;32m   1129\u001b[0m     \u001b[38;5;28;01mfor\u001b[39;00m f \u001b[38;5;129;01min\u001b[39;00m cast(DictionaryObject, resources_dict[\u001b[38;5;124m\"\u001b[39m\u001b[38;5;124m/Font\u001b[39m\u001b[38;5;124m\"\u001b[39m]):\n\u001b[0;32m-> 1130\u001b[0m         cmaps[f] \u001b[38;5;241m=\u001b[39m \u001b[43mbuild_char_map\u001b[49m\u001b[43m(\u001b[49m\u001b[43mf\u001b[49m\u001b[43m,\u001b[49m\u001b[43m \u001b[49m\u001b[43mspace_width\u001b[49m\u001b[43m,\u001b[49m\u001b[43m \u001b[49m\u001b[43mobj\u001b[49m\u001b[43m)\u001b[49m\n\u001b[1;32m   1131\u001b[0m cmap: Tuple[\n\u001b[1;32m   1132\u001b[0m     Union[\u001b[38;5;28mstr\u001b[39m, Dict[\u001b[38;5;28mint\u001b[39m, \u001b[38;5;28mstr\u001b[39m]], Dict[\u001b[38;5;28mstr\u001b[39m, \u001b[38;5;28mstr\u001b[39m], \u001b[38;5;28mstr\u001b[39m\n\u001b[1;32m   1133\u001b[0m ]  \u001b[38;5;66;03m# (encoding,CMAP,font_name)\u001b[39;00m\n\u001b[1;32m   1134\u001b[0m \u001b[38;5;28;01mtry\u001b[39;00m:\n",
      "File \u001b[0;32m~/.local/lib/python3.8/site-packages/PyPDF2/_cmap.py:21\u001b[0m, in \u001b[0;36mbuild_char_map\u001b[0;34m(font_name, space_width, obj)\u001b[0m\n\u001b[1;32m     19\u001b[0m space_code \u001b[38;5;241m=\u001b[39m \u001b[38;5;241m32\u001b[39m\n\u001b[1;32m     20\u001b[0m encoding, space_code \u001b[38;5;241m=\u001b[39m parse_encoding(ft, space_code)\n\u001b[0;32m---> 21\u001b[0m map_dict, space_code, int_entry \u001b[38;5;241m=\u001b[39m \u001b[43mparse_to_unicode\u001b[49m\u001b[43m(\u001b[49m\u001b[43mft\u001b[49m\u001b[43m,\u001b[49m\u001b[43m \u001b[49m\u001b[43mspace_code\u001b[49m\u001b[43m)\u001b[49m\n\u001b[1;32m     23\u001b[0m \u001b[38;5;66;03m# encoding can be either a string for decode (on 1,2 or a variable number of bytes) of a char table (for 1 byte only for me)\u001b[39;00m\n\u001b[1;32m     24\u001b[0m \u001b[38;5;66;03m# if empty string, it means it is than encoding field is not present and we have to select the good encoding from cmap input data\u001b[39;00m\n\u001b[1;32m     25\u001b[0m \u001b[38;5;28;01mif\u001b[39;00m encoding \u001b[38;5;241m==\u001b[39m \u001b[38;5;124m\"\u001b[39m\u001b[38;5;124m\"\u001b[39m:\n",
      "File \u001b[0;32m~/.local/lib/python3.8/site-packages/PyPDF2/_cmap.py:234\u001b[0m, in \u001b[0;36mparse_to_unicode\u001b[0;34m(ft, space_code)\u001b[0m\n\u001b[1;32m    227\u001b[0m fmt2 \u001b[38;5;241m=\u001b[39m \u001b[38;5;124mb\u001b[39m\u001b[38;5;124m\"\u001b[39m\u001b[38;5;132;01m%%\u001b[39;00m\u001b[38;5;124m0\u001b[39m\u001b[38;5;132;01m%d\u001b[39;00m\u001b[38;5;124mX\u001b[39m\u001b[38;5;124m\"\u001b[39m \u001b[38;5;241m%\u001b[39m \u001b[38;5;28mlen\u001b[39m(lst[\u001b[38;5;241m2\u001b[39m])\n\u001b[1;32m    228\u001b[0m \u001b[38;5;28;01mwhile\u001b[39;00m a \u001b[38;5;241m<\u001b[39m\u001b[38;5;241m=\u001b[39m b:\n\u001b[1;32m    229\u001b[0m     map_dict[\n\u001b[1;32m    230\u001b[0m         unhexlify(fmt \u001b[38;5;241m%\u001b[39m a)\u001b[38;5;241m.\u001b[39mdecode(\n\u001b[1;32m    231\u001b[0m             \u001b[38;5;124m\"\u001b[39m\u001b[38;5;124mcharmap\u001b[39m\u001b[38;5;124m\"\u001b[39m \u001b[38;5;28;01mif\u001b[39;00m map_dict[\u001b[38;5;241m-\u001b[39m\u001b[38;5;241m1\u001b[39m] \u001b[38;5;241m==\u001b[39m \u001b[38;5;241m1\u001b[39m \u001b[38;5;28;01melse\u001b[39;00m \u001b[38;5;124m\"\u001b[39m\u001b[38;5;124mutf-16-be\u001b[39m\u001b[38;5;124m\"\u001b[39m,\n\u001b[1;32m    232\u001b[0m             \u001b[38;5;124m\"\u001b[39m\u001b[38;5;124msurrogatepass\u001b[39m\u001b[38;5;124m\"\u001b[39m,\n\u001b[1;32m    233\u001b[0m         )\n\u001b[0;32m--> 234\u001b[0m     ] \u001b[38;5;241m=\u001b[39m \u001b[43munhexlify\u001b[49m\u001b[43m(\u001b[49m\u001b[43mfmt2\u001b[49m\u001b[43m \u001b[49m\u001b[38;5;241;43m%\u001b[39;49m\u001b[43m \u001b[49m\u001b[43mc\u001b[49m\u001b[43m)\u001b[49m\u001b[38;5;241m.\u001b[39mdecode(\u001b[38;5;124m\"\u001b[39m\u001b[38;5;124mutf-16-be\u001b[39m\u001b[38;5;124m\"\u001b[39m, \u001b[38;5;124m\"\u001b[39m\u001b[38;5;124msurrogatepass\u001b[39m\u001b[38;5;124m\"\u001b[39m)\n\u001b[1;32m    235\u001b[0m     int_entry\u001b[38;5;241m.\u001b[39mappend(a)\n\u001b[1;32m    236\u001b[0m     a \u001b[38;5;241m+\u001b[39m\u001b[38;5;241m=\u001b[39m \u001b[38;5;241m1\u001b[39m\n",
      "\u001b[0;31mError\u001b[0m: Odd-length string"
     ]
    }
   ],
   "source": [
    "#check if unicode\n",
    "\n",
    "#fn = 'A Deep Learning Approach for Stock Market Prediction.pdf'\n",
    "fn = 'all_collections/Purified sentiment indicators for the stock market5.04.09.pdf'\n",
    "\n",
    "reader = PdfReader(fn)\n",
    "\n",
    "text = \"\"\n",
    "\n",
    "for page in reader.pages:\n",
    "    print(page.extract_text())\n",
    "    print('------------------------')\n",
    "    text += page.extract_text() + \"\\n\"\n",
    "\n",
    "#sen = text.split('\\n')"
   ]
  },
  {
   "cell_type": "code",
   "execution_count": 74,
   "id": "1fa72fe1",
   "metadata": {},
   "outputs": [
    {
     "data": {
      "text/plain": [
       "' CS 230  \\nA Deep Learning Approach for Stock Market Prediction  \\n \\nYan Miao  \\nCompute r Science Department  \\nStanford Un iversity \\nyanmiao@stanford.edu  \\nAbstract  \\nThe project explores  a stock market prediction model using  a LSTM \\nnetwork . A  LSTM  model  with  different param eters  are  tested  to \\ndetermine  the  effect  of  number  of  hidden  layers,  dropout \\nregularization  and batch size on the  result accuracy . The model  is \\ntested on t he stock price  of Amazon, Google and Faceboo k.  \\n1 Introduction  \\nFinancial  time series are non-stationary,  nonlinear  and high-noise.  While individuals  and firms all \\nhave interests  in gaining  profits  from the stock market,  it is difficult  to predict  the trend of a stock’s  \\nprice by instinct.  Despite  the success  of classical  machine  learning  algorithms,  the evolution  of \\ndeep learning  has provide d new models  for researchers  to analyze  big data with cheap  computation  \\ndevices.  The input to my algorithm  is the daily price value of a stock in a chosen  time period. Then \\nI use a long short-term memory  (LSTM) recurrent  neural  network  to output the predicted  stock \\nprice.  \\n \\n2 Related Work  \\n \\nThe deep learning  neural  network  is a reliable  predictor  due to its ability  to approximate  nonlinear  \\nfunctions.  There already exists many papers  on this topic. For example,  Artificial  Neural  Networks  \\n(ANN)  are able to predict the stock price and direction  of movement  of the price [1][2]. \\nConvolutional  Neural  Networks  (CNN),  though  more frequently  used for image processing,  can \\nalso be used to predict  the stock movement  as a classification  model  with one day close,  open, \\nhigh, low, volume  data [3]. In his paper,  experiments  on a one-dimensional  convolutional  network  \\nwith three convolutional  layers using MaxPooling  and ReLu activation.  In particular,  LSTM neural  \\nnetworks  have the characteristics  of selectivity  and memory  cells that are suitable  for random  non-\\nstationary  sequences  like stock-price time series [4]. LSTM can store memory  and solve the \\ngradient  vanishing  problem.  The LSTM network  is also the most popular  model  adopted  right now. \\nIn a study that systematically  reviews  the Deep Learning  models  implemented  for stock market  \\nforecasting,  researchers  find that the LSTM technique  is widely  applied  (73.5%)  [5]. In this \\nproject,  an LSTM network  is implemented  to predict  the Amazon  stock price. Similar  works can \\nbe found here: [6][7][8] . \\n \\n3 Dataset  and Features  \\nThe experimental data comes from the data provided by Yahoo Finance.  The stock price is selected \\nfrom  January  28,  2015  to  January  29,  2020. Stocks  from  three companies  are  selected: \\nAmazon (AMZN ), Google( GOOG) and Facebook( FB). Such selection is to minimize unn ecessary \\ninfluences due to different industries.  \\n \\n \\n \\n \\n \\nIn the dataset, there are five features: the day of the transaction (date), the opening price value of \\nthe specified day (open), the closing price value of the specified day (close), the lowest price value \\nof the specified day (low), the highest price valu e of the specified day (high). For the project, the \\ngoal is to predict the “close” stock price value.  For each  dataset, there are 1260 entries in total.  The \\nfirst 800  entries are selected for training, and the  remaining  460 entries are used for testing.  Neural \\nnetworks are sensitive to unnormalized data.  Before training the model, the data was  rescaled  into \\nthe range of [0, 1] using Min -Max normalization  to make  the model more reliable . Then, each row \\nof the input matrix is a data  structure  with 30 time -steps. For training  input, the shape is ( 770, 30, \\n1) and for testing input, the shape   is (430, 30, 1 ). \\n4 Methods  \\nThe LSTM network  model  is implemented in this project . The structure of the me mory unit  of a \\nLSTM is demonstrated below. The memory unit operates  with input gate, forget gate a nd output \\ngate. The proce ss can be su mmarized as the following equations : \\n \\n \\n \\n \\n \\n \\nHere i\\nt,  f\\nt and o\\nt are the outputs of different  gates,  S  ̃  \\nt is the new state of memory cell,  S\\nt is the \\nfinal sate of memory cell and  h\\nt is the final output  of the memory  unit. W\\ni,W\\nf ,W\\no,W\\ns, b\\ni, b\\nf ,b\\no \\nand b\\ns are coefficients.     Fig. Sample representation of dataset  \\nFig. LSTM Memory Unit [9] \\n\\n\\n\\n\\nTable. Model Perfo rmance on Three Datasets   5 Experiments  \\nThe model is built with 50 neurons.  For each hidden layer in  the model, dropout regularization is \\nemployed.  Then, the model is compiled with  the MSE loss function and the Adam optimizer . Six \\nmodels  are tested  with differences in layers, dropout rate and batch size.  Models are te sted with 3 \\nand 4 hidden  layers, dropout rate  of 0.1 and  0.2, and batch size of 32 and 64.  The firs t model  is a \\nLSTM network  with 50 neurons, 3 layers , dropout rate of 0.2 and batch size of 32 . To test if a \\nsmaller dropout rate could improve t he model  error, dropo ut is reduced  to 0.1. To determine if a \\nsmaller number  of  layers is  enough,  one  layer  is removed  from  the  model.  Since  batch  size  is \\ncritical for LSTM to learn the common pattern,  models with different  batch size are also tested.  \\n \\nModel #  Neurons  Layers  Dropout  Batch Size  Epochs  \\n1  50  4  0.2  32  100 \\n2  50  4  0.1  32  100 \\n3  50  3  0.2  32  100 \\n4  50  3  0.1  32  100 \\n5  50  3  0.2  64  100 \\n6  50  3  0.1  64  100 \\n \\n \\n \\n \\nThe metric s adopted for  model  performance  is the Root Mean  Squared  Error.  RMSE is comm only \\nused to measure  accuracy for forecasting. It penalize s big errors while small err ors can be safely \\nignored. This  choice  of  metrics  is  consistent  with  the  goal of  predicting stock  market  trend  to \\ngenerate  revenue s.  Below  is  a  plot  that  demonstrate  the  model  performance.  Different  colors \\nrepresent different models, a nd the horizontal axis  represents  three datasets respectively .  \\n   Model 1  Model 2  Model 3  Model 4  Model  5 Model  6 \\nGOOG  32.41  44.86  24.66  22.23  37.31  26.69 \\nFB  5.61  6.98  5.24  4.89  6.68  6.36 \\nAMZN   58.97  76.34  48.85  48.66  55.00  53.00 Table. Details on  different models   \\n\\nFig. Performance of different models on three stocks   \\nThe observation is that while  a three-layer model is created with a f ixed batch -size (Model 3 vs. \\nModel 4, Model 5 vs. Model  6), a smaller  dropout rate  (0.1) will produce a  more accurate result. \\nAlso, in this case,  when  dropout rate  is the same  (Model 3 vs. Model 5  and Model 4 vs. Model 6 ), \\nbatch size of 32  produces more  accurate results  than batch size o f 64. W hile batch size and dr opout \\nrate are the same (Model 1 vs. Model 3  and Model 2 vs. Model 4 ), a three-layer model  produce s \\nmore accurate result than  a four-layer model.  \\n \\n \\n   \\n\\n\\nFig. Model 4 Result on  Facebook ’s Stock \\nPrice  \\n\\nAccording to t he performance  metrics , Model 4  produces  the best res ult, while Model 2  gives the \\nlargest error value.  In addition,  Model 3  produces results almost similar to Model  4, and Model 6 \\nis next.  Therefore,  the project fin ds the best model to be a LSTM network with 50 neurons,  3 layers, \\ndropout rate of 0.1 and batch size  of 32. Interestingly,  the model  used in this project  seems to work  \\nparticular ly well on  Facebook ’s stock price, while  model s to predic t Amazon’s stock price  often \\nproduce  the highest error.  It might be  due to factors related with the financial market . \\n \\n6 Conclusion  \\n \\nIn this project,  we find that  the best  performing  algorithm is  a LSTM networ k with 50 neu rons, 3 \\nlayers, dropout r ate 0.1  and batch size 32.  If there  is more time, it will be interesting to investigat e \\nthe followin g two questions . The first question is  what is the effect of number of neurons on the \\nmodel?  All models in the project  have 50 neurons because they seem to wo rk well. It is worth \\nexploring  how  changing  the number  of  neurons will influence  the model ’s  performance.  The \\nsecond question  is how will  a different timestep influence the model?  All models  use a timeste p \\nof  30 during  data  processing.  While  intuitively  smaller  timesteps  should  create  more  accurate \\nresults,  it could take some experiments to determine  the effect of  timestep.    \\n\\nFig. Model 4 Result on Amazon’s Stock Price \\nRefere nces   \\n[1] Yakup Kara, Melek Acar Boyacioglu, and  Ömer Kaan Baykan. Predicting direction of stock \\nprice index movement using artificial neural networks and support vector machines: The sample \\nof the istanbul stock exchange.  Expert Systems with Applications , 38(5):5311  – 5319, 2011.   \\n[2] K. Abhishek, A. Khairwa, T. Pratap, and S. Prakash. A stock market prediction model using \\nartificial neural network. In  2012 Third International Conference on Computing, Communication \\nand Networking Technologies (ICCCNT’12) , pages 1 –5, July 2012.   \\n[3] Sheng Chen and Hongxiang He. Stock prediction using convolutional neural network.  IOP \\nConference Series: Materials Science and Engineering , 435(1):012026, 2018.   \\n[4] Bin Weng, Ahmed M A, Megahed F M. Stock Market One -day ahead M ovement Prediction \\nUsing Disparate Data Sources [J]. Expert Systems with Applications, 2017, 79(2): 153 –163. \\n[5] A. W. Li and G. S. Bastos, \"Stock Market Forecasting Using Deep Learning and Technical \\nAnalysis: A Systematic Review,\" in IEEE Access, vol. 8,  pp. 185232 -185242, 2020, doi: \\n10.1109/ACCESS.2020.3030226.  \\n[6] G. Sismanoglu, M. A. Onde, F. Kocer and O. K. Sahingoz, \"Deep Learning Based \\nForecasting in Stock Market with Big Data Analytics,\" 2019 Scientific Meeting on Electrical -\\nElectronics & Biomedical  Engineering and Computer Science (EBBT), Istanbul, Turkey, 2019, \\npp. 1-4, doi: 10.1109/EBBT.2019.8741818.  \\n[7] K. Khare, O. Darekar, P. Gupta and V. Z. Attar, \"Short term stock price prediction using deep \\nlearning,\" 2017 2nd IEEE International Conference o n Recent Trends in Electronics, Information \\n& Communication Technology (RTEICT), Bangalore, 2017, pp. 482 -486, doi: \\n10.1109/RTEICT.2017.8256643.  \\n[8] J. WU, C. WANG, L. XIONG and H. SUN, \"Quantitative Trading on Stock Market Based on \\nDeep Reinforcement Lear ning,\" 2019 International Joint Conference on Neural Networks \\n(IJCNN), Budapest, Hungary, 2019, pp. 1 -8, doi: 10.1109/IJCNN.2019.8851831.  \\n[9] Andy. 2017. Recurrent neural networks and LSTM tutorial in Python  and TensorFlow. (Oct. \\n2020). http://adventuresinmachinelearning.com/ recurrent - neural - networks - lstm- tutorial - \\ntensorflow/ \\t\\t\\n[10] Framework used: Kera s, Tensor  Flow, Pandas, Num Py \\n \\n \\n'"
      ]
     },
     "execution_count": 74,
     "metadata": {},
     "output_type": "execute_result"
    }
   ],
   "source": [
    "text"
   ]
  },
  {
   "cell_type": "code",
   "execution_count": null,
   "id": "0039d1d2",
   "metadata": {},
   "outputs": [],
   "source": []
  }
 ],
 "metadata": {
  "kernelspec": {
   "display_name": "Python 3 (ipykernel)",
   "language": "python",
   "name": "python3"
  },
  "language_info": {
   "codemirror_mode": {
    "name": "ipython",
    "version": 3
   },
   "file_extension": ".py",
   "mimetype": "text/x-python",
   "name": "python",
   "nbconvert_exporter": "python",
   "pygments_lexer": "ipython3",
   "version": "3.8.10"
  }
 },
 "nbformat": 4,
 "nbformat_minor": 5
}
