{
 "cells": [
  {
   "cell_type": "code",
   "execution_count": 25,
   "id": "6f18cd29",
   "metadata": {},
   "outputs": [],
   "source": [
    "from sklearn.datasets import fetch_20newsgroups\n",
    "\n",
    "from nltk import word_tokenize\n",
    "from nltk import tokenize\n",
    "from nltk import download\n",
    "from nltk.corpus import stopwords\n",
    "import nltk\n",
    "\n",
    "import re"
   ]
  },
  {
   "cell_type": "code",
   "execution_count": null,
   "id": "cb006a96",
   "metadata": {},
   "outputs": [],
   "source": [
    "stop_words = stopwords.words('english')"
   ]
  },
  {
   "cell_type": "code",
   "execution_count": null,
   "id": "1c2a1209",
   "metadata": {},
   "outputs": [],
   "source": [
    "ml_stop_words = []"
   ]
  },
  {
   "cell_type": "code",
   "execution_count": 9,
   "id": "5ee745c3",
   "metadata": {},
   "outputs": [],
   "source": [
    "#text = 'Phillips, P. C. B. (1987) Time series regression with a unit root. Econometrica, 55, 277-301.'\n",
    "text = 'an, A.; Palaniswami, M. Stock selection using support vector machines. In Proceedings of the International Joint Conference on Neural Networks (IJCNN’01), Washington, DC, USA, 15–19 July 2001; Volume 3, pp. 1793–1798.'"
   ]
  },
  {
   "cell_type": "code",
   "execution_count": 26,
   "id": "00195655",
   "metadata": {},
   "outputs": [],
   "source": [
    "tokenized = nltk.word_tokenize(text)\n",
    "pos_tagged = nltk.pos_tag(tokenized)"
   ]
  },
  {
   "cell_type": "code",
   "execution_count": 27,
   "id": "f58b8a08",
   "metadata": {},
   "outputs": [
    {
     "data": {
      "text/plain": [
       "[('an', 'DT'),\n",
       " (',', ','),\n",
       " ('A.', 'NN'),\n",
       " (';', ':'),\n",
       " ('Palaniswami', 'NNP'),\n",
       " (',', ','),\n",
       " ('M.', 'NNP'),\n",
       " ('Stock', 'NNP'),\n",
       " ('selection', 'NN'),\n",
       " ('using', 'VBG'),\n",
       " ('support', 'NN'),\n",
       " ('vector', 'NN'),\n",
       " ('machines', 'NNS'),\n",
       " ('.', '.'),\n",
       " ('In', 'IN'),\n",
       " ('Proceedings', 'NNP'),\n",
       " ('of', 'IN'),\n",
       " ('the', 'DT'),\n",
       " ('International', 'NNP'),\n",
       " ('Joint', 'NNP'),\n",
       " ('Conference', 'NNP'),\n",
       " ('on', 'IN'),\n",
       " ('Neural', 'NNP'),\n",
       " ('Networks', 'NNP'),\n",
       " ('(', '('),\n",
       " ('IJCNN', 'NNP'),\n",
       " ('’', 'NNP'),\n",
       " ('01', 'CD'),\n",
       " (')', ')'),\n",
       " (',', ','),\n",
       " ('Washington', 'NNP'),\n",
       " (',', ','),\n",
       " ('DC', 'NNP'),\n",
       " (',', ','),\n",
       " ('USA', 'NNP'),\n",
       " (',', ','),\n",
       " ('15–19', 'CD'),\n",
       " ('July', 'NNP'),\n",
       " ('2001', 'CD'),\n",
       " (';', ':'),\n",
       " ('Volume', 'NN'),\n",
       " ('3', 'CD'),\n",
       " (',', ','),\n",
       " ('pp', 'NN'),\n",
       " ('.', '.'),\n",
       " ('1793–1798', 'CD'),\n",
       " ('.', '.')]"
      ]
     },
     "execution_count": 27,
     "metadata": {},
     "output_type": "execute_result"
    }
   ],
   "source": [
    "pos_tagged"
   ]
  },
  {
   "cell_type": "code",
   "execution_count": 22,
   "id": "39297de1",
   "metadata": {},
   "outputs": [],
   "source": [
    "# -*- coding: utf-8 -*-\n",
    "import re\n",
    "alphabets= \"([A-Za-z])\"\n",
    "prefixes = \"(Mr|St|Mrs|Ms|Dr)[.]\"\n",
    "suffixes = \"(Inc|Ltd|Jr|Sr|Co)\"\n",
    "starters = \"(Mr|Mrs|Ms|Dr|He\\s|She\\s|It\\s|They\\s|Their\\s|Our\\s|We\\s|But\\s|However\\s|That\\s|This\\s|Wherever)\"\n",
    "acronyms = \"([A-Z][.][A-Z][.](?:[A-Z][.])?)\"\n",
    "websites = \"[.](com|net|org|io|gov)\"\n",
    "digits = \"([0-9])\"\n",
    "\n",
    "def split_into_sentences(text):\n",
    "    text = \" \" + text + \"  \"\n",
    "    text = text.replace(\"\\n\",\" \")\n",
    "    text = re.sub(prefixes,\"\\\\1<prd>\",text)\n",
    "    text = re.sub(websites,\"<prd>\\\\1\",text)\n",
    "    text = re.sub(digits + \"[.]\" + digits,\"\\\\1<prd>\\\\2\",text)\n",
    "    if \"...\" in text: text = text.replace(\"...\",\"<prd><prd><prd>\")\n",
    "    if \"Ph.D\" in text: text = text.replace(\"Ph.D.\",\"Ph<prd>D<prd>\")\n",
    "    text = re.sub(\"\\s\" + alphabets + \"[.] \",\" \\\\1<prd> \",text)\n",
    "    text = re.sub(acronyms+\" \"+starters,\"\\\\1<stop> \\\\2\",text)\n",
    "    text = re.sub(alphabets + \"[.]\" + alphabets + \"[.]\" + alphabets + \"[.]\",\"\\\\1<prd>\\\\2<prd>\\\\3<prd>\",text)\n",
    "    text = re.sub(alphabets + \"[.]\" + alphabets + \"[.]\",\"\\\\1<prd>\\\\2<prd>\",text)\n",
    "    text = re.sub(\" \"+suffixes+\"[.] \"+starters,\" \\\\1<stop> \\\\2\",text)\n",
    "    text = re.sub(\" \"+suffixes+\"[.]\",\" \\\\1<prd>\",text)\n",
    "    text = re.sub(\" \" + alphabets + \"[.]\",\" \\\\1<prd>\",text)\n",
    "    if \"”\" in text: text = text.replace(\".”\",\"”.\")\n",
    "    if \"\\\"\" in text: text = text.replace(\".\\\"\",\"\\\".\")\n",
    "    if \"!\" in text: text = text.replace(\"!\\\"\",\"\\\"!\")\n",
    "    if \"?\" in text: text = text.replace(\"?\\\"\",\"\\\"?\")\n",
    "    text = text.replace(\".\",\".<stop>\")\n",
    "    text = text.replace(\"?\",\"?<stop>\")\n",
    "    text = text.replace(\"!\",\"!<stop>\")\n",
    "    text = text.replace(\"<prd>\",\".\")\n",
    "    sentences = text.split(\"<stop>\")\n",
    "    sentences = sentences[:-1]\n",
    "    sentences = [s.strip() for s in sentences]\n",
    "    return sentences"
   ]
  },
  {
   "cell_type": "code",
   "execution_count": 23,
   "id": "45a7c593",
   "metadata": {},
   "outputs": [
    {
     "data": {
      "text/plain": [
       "['an, A.; Palaniswami, M. Stock selection using support vector machines.',\n",
       " 'In Proceedings of the International Joint Conference on Neural Networks (IJCNN’01), Washington, DC, USA, 15–19 July 2001; Volume 3, pp.',\n",
       " '1793–1798.']"
      ]
     },
     "execution_count": 23,
     "metadata": {},
     "output_type": "execute_result"
    }
   ],
   "source": [
    "split_into_sentences(text)"
   ]
  },
  {
   "cell_type": "code",
   "execution_count": 13,
   "id": "6580c5c3",
   "metadata": {},
   "outputs": [],
   "source": [
    "txt = word_tokenize(text)"
   ]
  },
  {
   "cell_type": "code",
   "execution_count": 16,
   "id": "c25f0f86",
   "metadata": {},
   "outputs": [
    {
     "data": {
      "text/plain": [
       "Counter({'an': 1,\n",
       "         ',': 7,\n",
       "         'A.': 1,\n",
       "         ';': 2,\n",
       "         'Palaniswami': 1,\n",
       "         'M.': 1,\n",
       "         'Stock': 1,\n",
       "         'selection': 1,\n",
       "         'using': 1,\n",
       "         'support': 1,\n",
       "         'vector': 1,\n",
       "         'machines': 1,\n",
       "         '.': 3,\n",
       "         'In': 1,\n",
       "         'Proceedings': 1,\n",
       "         'of': 1,\n",
       "         'the': 1,\n",
       "         'International': 1,\n",
       "         'Joint': 1,\n",
       "         'Conference': 1,\n",
       "         'on': 1,\n",
       "         'Neural': 1,\n",
       "         'Networks': 1,\n",
       "         '(': 1,\n",
       "         'IJCNN': 1,\n",
       "         '’': 1,\n",
       "         '01': 1,\n",
       "         ')': 1,\n",
       "         'Washington': 1,\n",
       "         'DC': 1,\n",
       "         'USA': 1,\n",
       "         '15–19': 1,\n",
       "         'July': 1,\n",
       "         '2001': 1,\n",
       "         'Volume': 1,\n",
       "         '3': 1,\n",
       "         'pp': 1,\n",
       "         '1793–1798': 1})"
      ]
     },
     "execution_count": 16,
     "metadata": {},
     "output_type": "execute_result"
    }
   ],
   "source": [
    "from collections import Counter\n",
    "\n",
    "Counter(txt)"
   ]
  },
  {
   "cell_type": "code",
   "execution_count": 10,
   "id": "24fe8a23",
   "metadata": {},
   "outputs": [
    {
     "data": {
      "text/plain": [
       "['an, A.; Palaniswami, M. Stock selection using support vector machines.',\n",
       " 'In Proceedings of the International Joint Conference on Neural Networks (IJCNN’01), Washington, DC, USA, 15–19 July 2001; Volume 3, pp.',\n",
       " '1793–1798.']"
      ]
     },
     "execution_count": 10,
     "metadata": {},
     "output_type": "execute_result"
    }
   ],
   "source": [
    "tokenize.sent_tokenize(text)"
   ]
  },
  {
   "cell_type": "code",
   "execution_count": 12,
   "id": "be92c4cf",
   "metadata": {},
   "outputs": [
    {
     "data": {
      "text/plain": [
       "['an, A.; Palaniswami, M. Stock selection using support vector machines.']"
      ]
     },
     "execution_count": 12,
     "metadata": {},
     "output_type": "execute_result"
    }
   ],
   "source": [
    "tokenize.sent_tokenize('an, A.; Palaniswami, M. Stock selection using support vector machines.')"
   ]
  },
  {
   "cell_type": "code",
   "execution_count": null,
   "id": "a364c5a9",
   "metadata": {},
   "outputs": [],
   "source": [
    "\n",
    "def preprocess(text):\n",
    "    s = text.split()\n",
    "    text_s = [re.sub('[^a-zA-Z]+', '', t) for t in s]\n",
    "    text = ' '.join(text_s)\n",
    "    text = text.lower()\n",
    "    #print len(text), text\n",
    "    doc = word_tokenize(text)\n",
    "    doc = [word for word in doc if word not in stop_words]\n",
    "    doc = [word for word in doc if word.isalpha()]\n",
    "    return doc"
   ]
  },
  {
   "cell_type": "code",
   "execution_count": 5,
   "id": "d0c93a72",
   "metadata": {},
   "outputs": [],
   "source": [
    "ss = text.split()"
   ]
  },
  {
   "cell_type": "code",
   "execution_count": 6,
   "id": "bdabfc5b",
   "metadata": {},
   "outputs": [
    {
     "data": {
      "text/plain": [
       "['Phillips,',\n",
       " 'P.',\n",
       " 'C.',\n",
       " 'B.',\n",
       " '(1987)',\n",
       " 'Time',\n",
       " 'series',\n",
       " 'regression',\n",
       " 'with',\n",
       " 'a',\n",
       " 'unit',\n",
       " 'root.',\n",
       " 'Econometrica,',\n",
       " '55,',\n",
       " '277-301.']"
      ]
     },
     "execution_count": 6,
     "metadata": {},
     "output_type": "execute_result"
    }
   ],
   "source": [
    "ss"
   ]
  },
  {
   "cell_type": "code",
   "execution_count": 28,
   "id": "7a9d3d47",
   "metadata": {},
   "outputs": [],
   "source": [
    "import spacy"
   ]
  },
  {
   "cell_type": "code",
   "execution_count": 32,
   "id": "75642c7d",
   "metadata": {},
   "outputs": [],
   "source": [
    "nlp = spacy.load('en_core_web_lg')"
   ]
  },
  {
   "cell_type": "code",
   "execution_count": 33,
   "id": "31f9948a",
   "metadata": {},
   "outputs": [],
   "source": [
    "ss = nlp(text)"
   ]
  },
  {
   "cell_type": "code",
   "execution_count": 35,
   "id": "66df3f05",
   "metadata": {},
   "outputs": [
    {
     "name": "stdout",
     "output_type": "stream",
     "text": [
      "Palaniswami PERSON\n",
      "M. Stock ORG\n",
      "the International Joint Conference on Neural Networks ORG\n",
      "IJCNN’01 ORG\n",
      "Washington GPE\n",
      "DC GPE\n",
      "USA GPE\n",
      "15–19 July 2001 DATE\n",
      "3 CARDINAL\n",
      "1793–1798 CARDINAL\n"
     ]
    }
   ],
   "source": [
    "for x in ss.ents:\n",
    "    print (x.text, x.label_)"
   ]
  },
  {
   "cell_type": "code",
   "execution_count": 37,
   "id": "18fe3216",
   "metadata": {},
   "outputs": [
    {
     "name": "stderr",
     "output_type": "stream",
     "text": [
      "/home/nanfang/.local/lib/python3.8/site-packages/pkg_resources/__init__.py:123: PkgResourcesDeprecationWarning: 0.1.36ubuntu1 is an invalid version and will not be supported in a future release\n",
      "  warnings.warn(\n",
      "/home/nanfang/.local/lib/python3.8/site-packages/pkg_resources/__init__.py:123: PkgResourcesDeprecationWarning: 0.23ubuntu1 is an invalid version and will not be supported in a future release\n",
      "  warnings.warn(\n"
     ]
    }
   ],
   "source": [
    "import flair"
   ]
  },
  {
   "cell_type": "code",
   "execution_count": 40,
   "id": "3c7cfa32",
   "metadata": {},
   "outputs": [],
   "source": [
    "from flair.data import Sentence\n",
    "from flair.models import SequenceTagger\n",
    "from segtok.segmenter import split_single"
   ]
  },
  {
   "cell_type": "code",
   "execution_count": 41,
   "id": "ba24514e",
   "metadata": {},
   "outputs": [
    {
     "name": "stderr",
     "output_type": "stream",
     "text": [
      "/home/nanfang/.local/lib/python3.8/site-packages/huggingface_hub/file_download.py:560: FutureWarning: `cached_download` is the legacy way to download files from the HF hub, please consider upgrading to `hf_hub_download`\n",
      "  warnings.warn(\n"
     ]
    },
    {
     "data": {
      "application/vnd.jupyter.widget-view+json": {
       "model_id": "9cb6b507abd34e65bd8edb510119a2e2",
       "version_major": 2,
       "version_minor": 0
      },
      "text/plain": [
       "Downloading:   0%|          | 0.00/1.51G [00:00<?, ?B/s]"
      ]
     },
     "metadata": {},
     "output_type": "display_data"
    },
    {
     "name": "stdout",
     "output_type": "stream",
     "text": [
      "2022-08-04 12:17:20,135 loading file /home/nanfang/.flair/models/ner-english-ontonotes/f46dcd14689a594a7dd2a8c9c001a34fd55b02fded2528410913c7e88dbe43d4.1207747bf5ae24291205b6f3e7417c8bedd5c32cacfb5a439f3eff38afda66f7\n",
      "2022-08-04 12:17:25,449 SequenceTagger predicts: Dictionary with 76 tags: <unk>, O, B-CARDINAL, E-CARDINAL, S-PERSON, S-CARDINAL, S-PRODUCT, B-PRODUCT, I-PRODUCT, E-PRODUCT, B-WORK_OF_ART, I-WORK_OF_ART, E-WORK_OF_ART, B-PERSON, E-PERSON, S-GPE, B-DATE, I-DATE, E-DATE, S-ORDINAL, S-LANGUAGE, I-PERSON, S-EVENT, S-DATE, B-QUANTITY, E-QUANTITY, S-TIME, B-TIME, I-TIME, E-TIME, B-GPE, E-GPE, S-ORG, I-GPE, S-NORP, B-FAC, I-FAC, E-FAC, B-NORP, E-NORP, S-PERCENT, B-ORG, E-ORG, B-LANGUAGE, E-LANGUAGE, I-CARDINAL, I-ORG, S-WORK_OF_ART, I-QUANTITY, B-MONEY\n"
     ]
    }
   ],
   "source": [
    "tagger = SequenceTagger.load('ner-ontonotes')"
   ]
  },
  {
   "cell_type": "code",
   "execution_count": 42,
   "id": "dba080d9",
   "metadata": {},
   "outputs": [],
   "source": [
    "sentence = [Sentence(sent, use_tokenizer=True) for sent in split_single(text)]"
   ]
  },
  {
   "cell_type": "code",
   "execution_count": 43,
   "id": "158ce4c3",
   "metadata": {},
   "outputs": [
    {
     "data": {
      "text/plain": [
       "[Sentence: \"an , A. ; Palaniswami , M. Stock selection using support vector machines .\",\n",
       " Sentence: \"In Proceedings of the International Joint Conference on Neural Networks ( IJCNN’01 ) , Washington , DC , USA , 15 – 19 July 2001 ; Volume 3 , pp .\",\n",
       " Sentence: \"1793 – 1798 .\"]"
      ]
     },
     "execution_count": 43,
     "metadata": {},
     "output_type": "execute_result"
    }
   ],
   "source": [
    "sentence"
   ]
  },
  {
   "cell_type": "code",
   "execution_count": null,
   "id": "ee5569eb",
   "metadata": {},
   "outputs": [],
   "source": []
  }
 ],
 "metadata": {
  "kernelspec": {
   "display_name": "Python 3 (ipykernel)",
   "language": "python",
   "name": "python3"
  },
  "language_info": {
   "codemirror_mode": {
    "name": "ipython",
    "version": 3
   },
   "file_extension": ".py",
   "mimetype": "text/x-python",
   "name": "python",
   "nbconvert_exporter": "python",
   "pygments_lexer": "ipython3",
   "version": "3.8.10"
  }
 },
 "nbformat": 4,
 "nbformat_minor": 5
}
