{
 "cells": [
  {
   "cell_type": "code",
   "execution_count": 1,
   "id": "8a45c024",
   "metadata": {},
   "outputs": [],
   "source": [
    "#fn = 'all_collections/Rough Sets.pdf'\n",
    "fn = 'Improving Deep Reinforcement Learning for Financial Trading Using Neural Network Distillation.pdf'"
   ]
  },
  {
   "cell_type": "code",
   "execution_count": null,
   "id": "f645bb17",
   "metadata": {},
   "outputs": [],
   "source": []
  },
  {
   "cell_type": "code",
   "execution_count": 2,
   "id": "3d8bd472",
   "metadata": {},
   "outputs": [
    {
     "name": "stderr",
     "output_type": "stream",
     "text": [
      "PdfReadWarning: Multiple definitions in dictionary at byte 0xe2a6a for key / [generic.py:810]\n",
      "PdfReadWarning: Multiple definitions in dictionary at byte 0xe2a92 for key / [generic.py:810]\n",
      "PdfReadWarning: Multiple definitions in dictionary at byte 0xe2ab9 for key / [generic.py:810]\n",
      "PdfReadWarning: Multiple definitions in dictionary at byte 0xe2ae0 for key / [generic.py:810]\n",
      "PdfReadWarning: Multiple definitions in dictionary at byte 0x2d160 for key /MediaBox [generic.py:810]\n",
      "PdfReadWarning: Multiple definitions in dictionary at byte 0x2d451 for key /MediaBox [generic.py:810]\n",
      "PdfReadWarning: Multiple definitions in dictionary at byte 0x2d6da for key /MediaBox [generic.py:810]\n",
      "PdfReadWarning: Multiple definitions in dictionary at byte 0x2d83b for key /MediaBox [generic.py:810]\n",
      "PdfReadWarning: Multiple definitions in dictionary at byte 0x2d9c1 for key /MediaBox [generic.py:810]\n",
      "PdfReadWarning: Multiple definitions in dictionary at byte 0x2dbaa for key /MediaBox [generic.py:810]\n",
      "PdfReadWarning: Multiple definitions in dictionary at byte 0x2dd48 for key /MediaBox [generic.py:810]\n",
      "PdfReadWarning: Multiple definitions in dictionary at byte 0x2df11 for key /MediaBox [generic.py:810]\n",
      "PdfReadWarning: Multiple definitions in dictionary at byte 0x2e0f7 for key /MediaBox [generic.py:810]\n",
      "PdfReadWarning: Multiple definitions in dictionary at byte 0x2e27d for key /MediaBox [generic.py:810]\n",
      "PdfReadWarning: Multiple definitions in dictionary at byte 0x2e403 for key /MediaBox [generic.py:810]\n",
      "PdfReadWarning: Multiple definitions in dictionary at byte 0x2e599 for key /MediaBox [generic.py:810]\n",
      "PdfReadWarning: Multiple definitions in dictionary at byte 0x2e71f for key /MediaBox [generic.py:810]\n",
      "PdfReadWarning: Multiple definitions in dictionary at byte 0x2e8d5 for key /MediaBox [generic.py:810]\n",
      "PdfReadWarning: Multiple definitions in dictionary at byte 0x2ea5b for key /MediaBox [generic.py:810]\n",
      "PdfReadWarning: Multiple definitions in dictionary at byte 0x2ebf1 for key /MediaBox [generic.py:810]\n",
      "PdfReadWarning: Multiple definitions in dictionary at byte 0x2edb2 for key /MediaBox [generic.py:810]\n",
      "PdfReadWarning: Multiple definitions in dictionary at byte 0x2effb for key /MediaBox [generic.py:810]\n",
      "PdfReadWarning: Multiple definitions in dictionary at byte 0x36a1d2 for key /h.4xmm6sxw74yu [generic.py:810]\n",
      "PdfReadWarning: Multiple definitions in dictionary at byte 0x36a851 for key /h.grwv1vxs8nm9 [generic.py:810]\n",
      "PdfReadWarning: Multiple definitions in dictionary at byte 0x4483f for key / [generic.py:810]\n",
      "PdfReadWarning: Multiple definitions in dictionary at byte 0x581543 for key / [generic.py:810]\n",
      "PdfReadWarning: Multiple definitions in dictionary at byte 0x581564 for key / [generic.py:810]\n",
      "PdfReadWarning: Multiple definitions in dictionary at byte 0x19989 for key / [generic.py:810]\n",
      "PdfReadWarning: Multiple definitions in dictionary at byte 0x199b0 for key / [generic.py:810]\n",
      "PdfReadWarning: incorrect startxref pointer(1) [_reader.py:1342]\n",
      "PdfReadWarning: Multiple definitions in dictionary at byte 0x732e6b for key / [generic.py:810]\n",
      "PdfReadWarning: Multiple definitions in dictionary at byte 0x42e04 for key /MediaBox [generic.py:810]\n",
      "PdfReadWarning: Multiple definitions in dictionary at byte 0x430b0 for key /MediaBox [generic.py:810]\n",
      "PdfReadWarning: Multiple definitions in dictionary at byte 0x43306 for key /MediaBox [generic.py:810]\n",
      "PdfReadWarning: Multiple definitions in dictionary at byte 0x43647 for key /MediaBox [generic.py:810]\n",
      "PdfReadWarning: Multiple definitions in dictionary at byte 0x43978 for key /MediaBox [generic.py:810]\n",
      "PdfReadWarning: Multiple definitions in dictionary at byte 0x43c61 for key /MediaBox [generic.py:810]\n",
      "PdfReadWarning: Multiple definitions in dictionary at byte 0x43eba for key /MediaBox [generic.py:810]\n",
      "PdfReadWarning: Multiple definitions in dictionary at byte 0x44193 for key /MediaBox [generic.py:810]\n",
      "PdfReadWarning: Multiple definitions in dictionary at byte 0x4449c for key /MediaBox [generic.py:810]\n",
      "PdfReadWarning: Multiple definitions in dictionary at byte 0x4478d for key /MediaBox [generic.py:810]\n",
      "PdfReadWarning: Multiple definitions in dictionary at byte 0x44ab6 for key /MediaBox [generic.py:810]\n",
      "PdfReadWarning: Multiple definitions in dictionary at byte 0x44e7f for key /MediaBox [generic.py:810]\n",
      "PdfReadWarning: Multiple definitions in dictionary at byte 0x45110 for key /MediaBox [generic.py:810]\n",
      "PdfReadWarning: Multiple definitions in dictionary at byte 0x45319 for key /MediaBox [generic.py:810]\n",
      "PdfReadWarning: Multiple definitions in dictionary at byte 0x45522 for key /MediaBox [generic.py:810]\n",
      "PdfReadWarning: Multiple definitions in dictionary at byte 0x4572b for key /MediaBox [generic.py:810]\n",
      "PdfReadWarning: Multiple definitions in dictionary at byte 0x4593c for key /MediaBox [generic.py:810]\n",
      "PdfReadWarning: Multiple definitions in dictionary at byte 0x45b0d for key /MediaBox [generic.py:810]\n",
      "PdfReadWarning: Multiple definitions in dictionary at byte 0x63f04 for key / [generic.py:810]\n"
     ]
    }
   ],
   "source": [
    "from refextract import extract_references_from_file\n",
    "import glob\n",
    "import pandas as pd\n",
    "\n",
    "for fn in glob.glob('all_collections/*.pdf'):\n",
    "    \n",
    "    s = fn.split('/')\n",
    "    ss = s[-1].split('.')[0]\n",
    "\n",
    "    references = extract_references_from_file(fn)\n",
    "    \n",
    "    dfref = pd.DataFrame(references)\n",
    "    \n",
    "    if dfref.shape[0] > 0:\n",
    "        out_fn = 'References_2/' + ss + '.csv'\n",
    "        dfref.to_csv(out_fn)"
   ]
  },
  {
   "cell_type": "code",
   "execution_count": 10,
   "id": "111a4619",
   "metadata": {},
   "outputs": [
    {
     "data": {
      "text/plain": [
       "{'linemarker': ['2'],\n",
       " 'raw_ref': ['[2] Volodymyr Mnih, Adria Puigdomenech Badia, Mehdi Mirza, Alex Graves, Timothy Lillicrap, Tim Harley, David Silver, and Koray Kavukcuoglu, “Asynchronous methods for deep reinforcement learning,” in Proceedings of the, International Conference on Machine Learning, 2016, pp. 1928–1937.'],\n",
       " 'misc': ['Volodymyr Mnih, Adria Puigdomenech Badia, Mehdi Mirza, Alex Graves, Timothy Lillicrap, Tim Harley, David Silver, and Koray Kavukcuoglu',\n",
       "  'in Proceedings of the, International Conference on'],\n",
       " 'title': ['Asynchronous methods for deep reinforcement learning'],\n",
       " 'journal_title': ['Mach. Learn.'],\n",
       " 'journal_volume': ['2016'],\n",
       " 'journal_year': ['1937'],\n",
       " 'journal_page': ['1928'],\n",
       " 'journal_reference': ['Mach. Learn. 2016 (1937) 1928'],\n",
       " 'year': ['1937']}"
      ]
     },
     "execution_count": 10,
     "metadata": {},
     "output_type": "execute_result"
    }
   ],
   "source": [
    "references[1]"
   ]
  },
  {
   "cell_type": "code",
   "execution_count": 7,
   "id": "817646e3",
   "metadata": {},
   "outputs": [
    {
     "data": {
      "text/html": [
       "<div>\n",
       "<style scoped>\n",
       "    .dataframe tbody tr th:only-of-type {\n",
       "        vertical-align: middle;\n",
       "    }\n",
       "\n",
       "    .dataframe tbody tr th {\n",
       "        vertical-align: top;\n",
       "    }\n",
       "\n",
       "    .dataframe thead th {\n",
       "        text-align: right;\n",
       "    }\n",
       "</style>\n",
       "<table border=\"1\" class=\"dataframe\">\n",
       "  <thead>\n",
       "    <tr style=\"text-align: right;\">\n",
       "      <th></th>\n",
       "      <th>linemarker</th>\n",
       "      <th>raw_ref</th>\n",
       "      <th>misc</th>\n",
       "      <th>title</th>\n",
       "      <th>reportnumber</th>\n",
       "      <th>year</th>\n",
       "      <th>journal_title</th>\n",
       "      <th>journal_volume</th>\n",
       "      <th>journal_year</th>\n",
       "      <th>journal_page</th>\n",
       "      <th>journal_reference</th>\n",
       "      <th>author</th>\n",
       "      <th>publisher</th>\n",
       "    </tr>\n",
       "  </thead>\n",
       "  <tbody>\n",
       "    <tr>\n",
       "      <th>25</th>\n",
       "      <td>[26]</td>\n",
       "      <td>[[26] Kaiming He, Xiangyu Zhang, Shaoqing Ren,...</td>\n",
       "      <td>[Kaiming He, Xiangyu Zhang, Shaoqing Ren, and ...</td>\n",
       "      <td>[Delving deep into rectifiers: Surpassing huma...</td>\n",
       "      <td>NaN</td>\n",
       "      <td>[2015]</td>\n",
       "      <td>NaN</td>\n",
       "      <td>NaN</td>\n",
       "      <td>NaN</td>\n",
       "      <td>NaN</td>\n",
       "      <td>NaN</td>\n",
       "      <td>NaN</td>\n",
       "      <td>NaN</td>\n",
       "    </tr>\n",
       "    <tr>\n",
       "      <th>26</th>\n",
       "      <td>[27]</td>\n",
       "      <td>[[27] Tijmen Tieleman and Geoffrey Hinton, “Le...</td>\n",
       "      <td>[Tijmen Tieleman and Geoffrey Hinton, COURSERA...</td>\n",
       "      <td>[Lecture 6.5rmsprop: Divide the gradient by a ...</td>\n",
       "      <td>NaN</td>\n",
       "      <td>[2012]</td>\n",
       "      <td>[Mach. Learn.]</td>\n",
       "      <td>[4]</td>\n",
       "      <td>[2012]</td>\n",
       "      <td>[26-31]</td>\n",
       "      <td>[Mach. Learn. 4 (2012) 26-31]</td>\n",
       "      <td>NaN</td>\n",
       "      <td>NaN</td>\n",
       "    </tr>\n",
       "    <tr>\n",
       "      <th>27</th>\n",
       "      <td>[28]</td>\n",
       "      <td>[[28] Nitish Srivastava, Geoffrey Hinton, Alex...</td>\n",
       "      <td>[Nitish Srivastava, Geoffrey Hinton, Alex Kriz...</td>\n",
       "      <td>[Dropout: a simple way to prevent neural netwo...</td>\n",
       "      <td>NaN</td>\n",
       "      <td>[1929]</td>\n",
       "      <td>NaN</td>\n",
       "      <td>NaN</td>\n",
       "      <td>NaN</td>\n",
       "      <td>NaN</td>\n",
       "      <td>NaN</td>\n",
       "      <td>NaN</td>\n",
       "      <td>NaN</td>\n",
       "    </tr>\n",
       "    <tr>\n",
       "      <th>28</th>\n",
       "      <td>[29]</td>\n",
       "      <td>[[29] Ilya Loshchilov and Frank Hutter, “Fixin...</td>\n",
       "      <td>[Ilya Loshchilov and Frank Hutter, arXiv prepr...</td>\n",
       "      <td>[Fixing weight decay regularization in adam]</td>\n",
       "      <td>[arXiv:1711.05101]</td>\n",
       "      <td>[2017]</td>\n",
       "      <td>NaN</td>\n",
       "      <td>NaN</td>\n",
       "      <td>NaN</td>\n",
       "      <td>NaN</td>\n",
       "      <td>NaN</td>\n",
       "      <td>NaN</td>\n",
       "      <td>NaN</td>\n",
       "    </tr>\n",
       "    <tr>\n",
       "      <th>29</th>\n",
       "      <td>[30]</td>\n",
       "      <td>[[30] Guobin Chen, Wongun Choi, Xiang Yu, Tony...</td>\n",
       "      <td>[Guobin Chen, Wongun Choi, Xiang Yu, Tony Han,...</td>\n",
       "      <td>[Learning efficient object detection models wi...</td>\n",
       "      <td>NaN</td>\n",
       "      <td>[2017]</td>\n",
       "      <td>NaN</td>\n",
       "      <td>NaN</td>\n",
       "      <td>NaN</td>\n",
       "      <td>NaN</td>\n",
       "      <td>NaN</td>\n",
       "      <td>NaN</td>\n",
       "      <td>NaN</td>\n",
       "    </tr>\n",
       "  </tbody>\n",
       "</table>\n",
       "</div>"
      ],
      "text/plain": [
       "   linemarker                                            raw_ref  \\\n",
       "25       [26]  [[26] Kaiming He, Xiangyu Zhang, Shaoqing Ren,...   \n",
       "26       [27]  [[27] Tijmen Tieleman and Geoffrey Hinton, “Le...   \n",
       "27       [28]  [[28] Nitish Srivastava, Geoffrey Hinton, Alex...   \n",
       "28       [29]  [[29] Ilya Loshchilov and Frank Hutter, “Fixin...   \n",
       "29       [30]  [[30] Guobin Chen, Wongun Choi, Xiang Yu, Tony...   \n",
       "\n",
       "                                                 misc  \\\n",
       "25  [Kaiming He, Xiangyu Zhang, Shaoqing Ren, and ...   \n",
       "26  [Tijmen Tieleman and Geoffrey Hinton, COURSERA...   \n",
       "27  [Nitish Srivastava, Geoffrey Hinton, Alex Kriz...   \n",
       "28  [Ilya Loshchilov and Frank Hutter, arXiv prepr...   \n",
       "29  [Guobin Chen, Wongun Choi, Xiang Yu, Tony Han,...   \n",
       "\n",
       "                                                title        reportnumber  \\\n",
       "25  [Delving deep into rectifiers: Surpassing huma...                 NaN   \n",
       "26  [Lecture 6.5rmsprop: Divide the gradient by a ...                 NaN   \n",
       "27  [Dropout: a simple way to prevent neural netwo...                 NaN   \n",
       "28       [Fixing weight decay regularization in adam]  [arXiv:1711.05101]   \n",
       "29  [Learning efficient object detection models wi...                 NaN   \n",
       "\n",
       "      year   journal_title journal_volume journal_year journal_page  \\\n",
       "25  [2015]             NaN            NaN          NaN          NaN   \n",
       "26  [2012]  [Mach. Learn.]            [4]       [2012]      [26-31]   \n",
       "27  [1929]             NaN            NaN          NaN          NaN   \n",
       "28  [2017]             NaN            NaN          NaN          NaN   \n",
       "29  [2017]             NaN            NaN          NaN          NaN   \n",
       "\n",
       "                journal_reference author publisher  \n",
       "25                            NaN    NaN       NaN  \n",
       "26  [Mach. Learn. 4 (2012) 26-31]    NaN       NaN  \n",
       "27                            NaN    NaN       NaN  \n",
       "28                            NaN    NaN       NaN  \n",
       "29                            NaN    NaN       NaN  "
      ]
     },
     "execution_count": 7,
     "metadata": {},
     "output_type": "execute_result"
    }
   ],
   "source": [
    "dfref.tail()"
   ]
  },
  {
   "cell_type": "code",
   "execution_count": 2,
   "id": "4d7d9a68",
   "metadata": {},
   "outputs": [
    {
     "name": "stdout",
     "output_type": "stream",
     "text": [
      "{'linemarker': ['2'], 'raw_ref': ['[2] P. W. Higgs, “Broken symmetries, massless particles and gauge fields”, Phys. Lett. 12 (1964) 132, doi:10.1016/0031-9163(64)91136-9.'], 'author': ['P. W. Higgs'], 'title': ['Broken symmetries, massless particles and gauge fields'], 'journal_title': ['Phys. Lett.'], 'journal_volume': ['12'], 'journal_year': ['1964'], 'journal_page': ['132'], 'journal_reference': ['Phys. Lett. 12 (1964) 132'], 'doi': ['doi:10.1016/0031-9163(64)91136-9'], 'year': ['1964'], 'url': ['http://dx.doi.org/10.1016/0031-9163(64)91136-9'], 'texkey': ['Higgs:1964ia']}\n"
     ]
    },
    {
     "data": {
      "text/plain": [
       "{'author': ['F. Englert and R. Brout'],\n",
       " 'doi': ['doi:10.1103/PhysRevLett.13.321'],\n",
       " 'journal_page': ['321'],\n",
       " 'journal_reference': ['Phys. Rev. Lett. 13 (1964) 321'],\n",
       " 'journal_title': ['Phys. Rev. Lett.'],\n",
       " 'journal_volume': ['13'],\n",
       " 'journal_year': ['1964'],\n",
       " 'linemarker': ['1'],\n",
       " 'raw_ref': ['[1] F. Englert and R. Brout, “Broken symmetry and the mass of gauge vector mesons”, Phys. Rev. Lett. 13 (1964) 321, doi:10.1103/PhysRevLett.13.321.'],\n",
       " 'texkey': ['Englert:1964et'],\n",
       " 'year': ['1964']}"
      ]
     },
     "execution_count": 2,
     "metadata": {},
     "output_type": "execute_result"
    }
   ],
   "source": [
    "from refextract import extract_references_from_url\n",
    "references = extract_references_from_url('https://arxiv.org/pdf/1503.07589.pdf')\n",
    "print(references[1])"
   ]
  },
  {
   "cell_type": "code",
   "execution_count": 3,
   "id": "34944a11",
   "metadata": {},
   "outputs": [
    {
     "name": "stdout",
     "output_type": "stream",
     "text": [
      "{'linemarker': ['3'], 'raw_ref': ['[3] P. W. Higgs, “Broken symmetries and the masses of gauge bosons”, Phys. Rev. Lett. 13 (1964) 508, doi:10.1103/PhysRevLett.13.508.'], 'author': ['P. W. Higgs'], 'title': ['Broken symmetries and the masses of gauge bosons'], 'journal_title': ['Phys. Rev. Lett.'], 'journal_volume': ['13'], 'journal_year': ['1964'], 'journal_page': ['508'], 'journal_reference': ['Phys. Rev. Lett. 13 (1964) 508'], 'doi': ['doi:10.1103/PhysRevLett.13.508'], 'year': ['1964'], 'url': ['http://dx.doi.org/10.1103/PhysRevLett.13.508'], 'texkey': ['Higgs:1964pj']}\n"
     ]
    }
   ],
   "source": [
    "print(references[2])"
   ]
  },
  {
   "cell_type": "code",
   "execution_count": null,
   "id": "e9123a10",
   "metadata": {},
   "outputs": [],
   "source": []
  }
 ],
 "metadata": {
  "kernelspec": {
   "display_name": "Python 3 (ipykernel)",
   "language": "python",
   "name": "python3"
  },
  "language_info": {
   "codemirror_mode": {
    "name": "ipython",
    "version": 3
   },
   "file_extension": ".py",
   "mimetype": "text/x-python",
   "name": "python",
   "nbconvert_exporter": "python",
   "pygments_lexer": "ipython3",
   "version": "3.8.10"
  }
 },
 "nbformat": 4,
 "nbformat_minor": 5
}
