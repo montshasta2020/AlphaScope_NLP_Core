{
 "cells": [
  {
   "cell_type": "code",
   "execution_count": 152,
   "id": "13408a31",
   "metadata": {},
   "outputs": [],
   "source": [
    "import pandas as pd\n",
    "import glob"
   ]
  },
  {
   "cell_type": "code",
   "execution_count": 153,
   "id": "3751baaa",
   "metadata": {},
   "outputs": [
    {
     "name": "stdout",
     "output_type": "stream",
     "text": [
      "./Google_Scholar_combined/Spiking_Combined_From_2017.csv\n",
      "(1000, 26)\n",
      "(1000, 26)\n",
      "./Google_Scholar_combined/Genetic_Combined_From_2017.csv\n",
      "(996, 26)\n",
      "(1996, 26)\n",
      "./Google_Scholar_combined/ML_Combined_From_2017.csv\n",
      "(999, 26)\n",
      "(2995, 26)\n",
      "./Google_Scholar_combined/Fuzzy_Network_Combined_From_2017.csv\n",
      "(996, 26)\n",
      "(3991, 26)\n",
      "./Google_Scholar_combined/RL_Combined_From_2017.csv\n",
      "(998, 26)\n",
      "(4989, 26)\n",
      "./Google_Scholar_combined/Feature_Engineering_Combined_From_2017.csv\n",
      "(999, 26)\n",
      "(5988, 26)\n",
      "./Google_Scholar_combined/DL_Combined_From_2017.csv\n",
      "(999, 26)\n",
      "(6987, 26)\n",
      "./Google_Scholar_combined/Neutral_Networks_Combined_From_2017.csv\n",
      "(1000, 26)\n",
      "(7987, 26)\n",
      "./Google_Scholar_combined/xgboost_Combined_From_2017.csv\n",
      "(1000, 26)\n",
      "(8987, 26)\n"
     ]
    }
   ],
   "source": [
    "root_dir = './Google_Scholar_combined/*.csv'\n",
    "all_refs = []\n",
    "all_miss = []\n",
    "cnt = 0\n",
    "for fn in glob.glob(root_dir):\n",
    "    print(fn)\n",
    "    df = pd.read_csv(fn)\n",
    "    print (df.shape)\n",
    "    \n",
    "    if cnt == 0:\n",
    "        merged_df = df\n",
    "    else:\n",
    "        merged_df = pd.concat([merged_df, df])\n",
    "    print(merged_df.shape)\n",
    "    cnt += df.shape[0]"
   ]
  },
  {
   "cell_type": "code",
   "execution_count": 154,
   "id": "fbe118d4",
   "metadata": {},
   "outputs": [],
   "source": [
    "#merged_df['abstract'] = merged_df['Abstract'].str.lower()\n",
    "merged_df['title'] = merged_df['Title'].str.lower()"
   ]
  },
  {
   "cell_type": "code",
   "execution_count": null,
   "id": "ac997ad2",
   "metadata": {},
   "outputs": [],
   "source": []
  },
  {
   "cell_type": "code",
   "execution_count": 155,
   "id": "58ff7fc5",
   "metadata": {},
   "outputs": [],
   "source": [
    "#merged_df.drop_duplicates(keep=False,inplace=True)"
   ]
  },
  {
   "cell_type": "code",
   "execution_count": 156,
   "id": "3d8bf2c3",
   "metadata": {},
   "outputs": [
    {
     "data": {
      "text/plain": [
       "(8987, 27)"
      ]
     },
     "execution_count": 156,
     "metadata": {},
     "output_type": "execute_result"
    }
   ],
   "source": [
    "merged_df.shape"
   ]
  },
  {
   "cell_type": "code",
   "execution_count": 157,
   "id": "fbfb68eb",
   "metadata": {},
   "outputs": [
    {
     "data": {
      "text/html": [
       "<div>\n",
       "<style scoped>\n",
       "    .dataframe tbody tr th:only-of-type {\n",
       "        vertical-align: middle;\n",
       "    }\n",
       "\n",
       "    .dataframe tbody tr th {\n",
       "        vertical-align: top;\n",
       "    }\n",
       "\n",
       "    .dataframe thead th {\n",
       "        text-align: right;\n",
       "    }\n",
       "</style>\n",
       "<table border=\"1\" class=\"dataframe\">\n",
       "  <thead>\n",
       "    <tr style=\"text-align: right;\">\n",
       "      <th></th>\n",
       "      <th>Cites</th>\n",
       "      <th>Authors</th>\n",
       "      <th>Title</th>\n",
       "      <th>Year</th>\n",
       "      <th>Source</th>\n",
       "      <th>Publisher</th>\n",
       "      <th>ArticleURL</th>\n",
       "      <th>CitesURL</th>\n",
       "      <th>GSRank</th>\n",
       "      <th>QueryDate</th>\n",
       "      <th>...</th>\n",
       "      <th>EndPage</th>\n",
       "      <th>ECC</th>\n",
       "      <th>CitesPerYear</th>\n",
       "      <th>CitesPerAuthor</th>\n",
       "      <th>AuthorCount</th>\n",
       "      <th>Age</th>\n",
       "      <th>Abstract</th>\n",
       "      <th>FullTextURL</th>\n",
       "      <th>RelatedURL</th>\n",
       "      <th>title</th>\n",
       "    </tr>\n",
       "  </thead>\n",
       "  <tbody>\n",
       "    <tr>\n",
       "      <th>0</th>\n",
       "      <td>18</td>\n",
       "      <td>V Kuppili, D Tripathi…</td>\n",
       "      <td>Credit score classification using spiking extr...</td>\n",
       "      <td>2020.0</td>\n",
       "      <td>Computational …</td>\n",
       "      <td>Wiley Online Library</td>\n",
       "      <td>https://onlinelibrary.wiley.com/doi/abs/10.111...</td>\n",
       "      <td>https://scholar.google.com/scholar?cites=14729...</td>\n",
       "      <td>1</td>\n",
       "      <td>2022-08-12 19:28:58</td>\n",
       "      <td>...</td>\n",
       "      <td>NaN</td>\n",
       "      <td>18</td>\n",
       "      <td>9.0</td>\n",
       "      <td>6</td>\n",
       "      <td>3</td>\n",
       "      <td>2.0</td>\n",
       "      <td>… profitability of financial industry. This pa...</td>\n",
       "      <td>NaN</td>\n",
       "      <td>https://scholar.google.com/scholar?q=related:L...</td>\n",
       "      <td>credit score classification using spiking extr...</td>\n",
       "    </tr>\n",
       "    <tr>\n",
       "      <th>1</th>\n",
       "      <td>30</td>\n",
       "      <td>D Lisitsa, AA Zhilenkov</td>\n",
       "      <td>Prospects for the development and application ...</td>\n",
       "      <td>2017.0</td>\n",
       "      <td>2017 IEEE Conference of Russian …</td>\n",
       "      <td>ieeexplore.ieee.org</td>\n",
       "      <td>https://ieeexplore.ieee.org/abstract/document/...</td>\n",
       "      <td>https://scholar.google.com/scholar?cites=15900...</td>\n",
       "      <td>2</td>\n",
       "      <td>2022-08-12 19:28:58</td>\n",
       "      <td>...</td>\n",
       "      <td>NaN</td>\n",
       "      <td>30</td>\n",
       "      <td>6.0</td>\n",
       "      <td>15</td>\n",
       "      <td>2</td>\n",
       "      <td>5.0</td>\n",
       "      <td>… • Usually financial information represents h...</td>\n",
       "      <td>NaN</td>\n",
       "      <td>https://scholar.google.com/scholar?q=related:0...</td>\n",
       "      <td>prospects for the development and application ...</td>\n",
       "    </tr>\n",
       "    <tr>\n",
       "      <th>2</th>\n",
       "      <td>104</td>\n",
       "      <td>JL Lobo, J Del Ser, A Bifet, N Kasabov</td>\n",
       "      <td>Spiking neural networks and online learning: A...</td>\n",
       "      <td>2020.0</td>\n",
       "      <td>Neural Networks</td>\n",
       "      <td>Elsevier</td>\n",
       "      <td>https://www.sciencedirect.com/science/article/...</td>\n",
       "      <td>https://scholar.google.com/scholar?cites=44013...</td>\n",
       "      <td>3</td>\n",
       "      <td>2022-08-12 19:28:58</td>\n",
       "      <td>...</td>\n",
       "      <td>NaN</td>\n",
       "      <td>104</td>\n",
       "      <td>52.0</td>\n",
       "      <td>26</td>\n",
       "      <td>4</td>\n",
       "      <td>2.0</td>\n",
       "      <td>… Spiking Neural Networks have revealed themse...</td>\n",
       "      <td>https://arxiv.org/pdf/1908.08019</td>\n",
       "      <td>https://scholar.google.com/scholar?q=related:l...</td>\n",
       "      <td>spiking neural networks and online learning: a...</td>\n",
       "    </tr>\n",
       "    <tr>\n",
       "      <th>3</th>\n",
       "      <td>141</td>\n",
       "      <td>NK Kasabov</td>\n",
       "      <td>Time-space, spiking neural networks and brain-...</td>\n",
       "      <td>2019.0</td>\n",
       "      <td>NaN</td>\n",
       "      <td>Springer</td>\n",
       "      <td>https://link.springer.com/content/pdf/10.1007/...</td>\n",
       "      <td>https://scholar.google.com/scholar?cites=64080...</td>\n",
       "      <td>4</td>\n",
       "      <td>2022-08-12 19:28:58</td>\n",
       "      <td>...</td>\n",
       "      <td>NaN</td>\n",
       "      <td>141</td>\n",
       "      <td>47.0</td>\n",
       "      <td>141</td>\n",
       "      <td>1</td>\n",
       "      <td>3.0</td>\n",
       "      <td>… This book offers one approach to achieving t...</td>\n",
       "      <td>NaN</td>\n",
       "      <td>https://scholar.google.com/scholar?q=related:s...</td>\n",
       "      <td>time-space, spiking neural networks and brain-...</td>\n",
       "    </tr>\n",
       "    <tr>\n",
       "      <th>4</th>\n",
       "      <td>0</td>\n",
       "      <td>K Gao, W Luk, S Weston</td>\n",
       "      <td>High‐Frequency Trading and Financial Time‐Seri...</td>\n",
       "      <td>2021.0</td>\n",
       "      <td>Wilmott</td>\n",
       "      <td>Wiley Online Library</td>\n",
       "      <td>https://onlinelibrary.wiley.com/doi/abs/10.100...</td>\n",
       "      <td>NaN</td>\n",
       "      <td>5</td>\n",
       "      <td>2022-08-12 19:28:58</td>\n",
       "      <td>...</td>\n",
       "      <td>NaN</td>\n",
       "      <td>0</td>\n",
       "      <td>0.0</td>\n",
       "      <td>0</td>\n",
       "      <td>3</td>\n",
       "      <td>1.0</td>\n",
       "      <td>… spiking behavior in financial price time ser...</td>\n",
       "      <td>https://spiral.imperial.ac.uk/bitstream/10044/...</td>\n",
       "      <td>NaN</td>\n",
       "      <td>high‐frequency trading and financial time‐seri...</td>\n",
       "    </tr>\n",
       "  </tbody>\n",
       "</table>\n",
       "<p>5 rows × 27 columns</p>\n",
       "</div>"
      ],
      "text/plain": [
       "   Cites                                 Authors  \\\n",
       "0     18                  V Kuppili, D Tripathi…   \n",
       "1     30                 D Lisitsa, AA Zhilenkov   \n",
       "2    104  JL Lobo, J Del Ser, A Bifet, N Kasabov   \n",
       "3    141                              NK Kasabov   \n",
       "4      0                  K Gao, W Luk, S Weston   \n",
       "\n",
       "                                               Title    Year  \\\n",
       "0  Credit score classification using spiking extr...  2020.0   \n",
       "1  Prospects for the development and application ...  2017.0   \n",
       "2  Spiking neural networks and online learning: A...  2020.0   \n",
       "3  Time-space, spiking neural networks and brain-...  2019.0   \n",
       "4  High‐Frequency Trading and Financial Time‐Seri...  2021.0   \n",
       "\n",
       "                              Source             Publisher  \\\n",
       "0                    Computational …  Wiley Online Library   \n",
       "1  2017 IEEE Conference of Russian …   ieeexplore.ieee.org   \n",
       "2                    Neural Networks              Elsevier   \n",
       "3                                NaN              Springer   \n",
       "4                            Wilmott  Wiley Online Library   \n",
       "\n",
       "                                          ArticleURL  \\\n",
       "0  https://onlinelibrary.wiley.com/doi/abs/10.111...   \n",
       "1  https://ieeexplore.ieee.org/abstract/document/...   \n",
       "2  https://www.sciencedirect.com/science/article/...   \n",
       "3  https://link.springer.com/content/pdf/10.1007/...   \n",
       "4  https://onlinelibrary.wiley.com/doi/abs/10.100...   \n",
       "\n",
       "                                            CitesURL  GSRank  \\\n",
       "0  https://scholar.google.com/scholar?cites=14729...       1   \n",
       "1  https://scholar.google.com/scholar?cites=15900...       2   \n",
       "2  https://scholar.google.com/scholar?cites=44013...       3   \n",
       "3  https://scholar.google.com/scholar?cites=64080...       4   \n",
       "4                                                NaN       5   \n",
       "\n",
       "             QueryDate  ... EndPage  ECC  CitesPerYear  CitesPerAuthor  \\\n",
       "0  2022-08-12 19:28:58  ...     NaN   18           9.0               6   \n",
       "1  2022-08-12 19:28:58  ...     NaN   30           6.0              15   \n",
       "2  2022-08-12 19:28:58  ...     NaN  104          52.0              26   \n",
       "3  2022-08-12 19:28:58  ...     NaN  141          47.0             141   \n",
       "4  2022-08-12 19:28:58  ...     NaN    0           0.0               0   \n",
       "\n",
       "   AuthorCount  Age                                           Abstract  \\\n",
       "0            3  2.0  … profitability of financial industry. This pa...   \n",
       "1            2  5.0  … • Usually financial information represents h...   \n",
       "2            4  2.0  … Spiking Neural Networks have revealed themse...   \n",
       "3            1  3.0  … This book offers one approach to achieving t...   \n",
       "4            3  1.0  … spiking behavior in financial price time ser...   \n",
       "\n",
       "                                         FullTextURL  \\\n",
       "0                                                NaN   \n",
       "1                                                NaN   \n",
       "2                   https://arxiv.org/pdf/1908.08019   \n",
       "3                                                NaN   \n",
       "4  https://spiral.imperial.ac.uk/bitstream/10044/...   \n",
       "\n",
       "                                          RelatedURL  \\\n",
       "0  https://scholar.google.com/scholar?q=related:L...   \n",
       "1  https://scholar.google.com/scholar?q=related:0...   \n",
       "2  https://scholar.google.com/scholar?q=related:l...   \n",
       "3  https://scholar.google.com/scholar?q=related:s...   \n",
       "4                                                NaN   \n",
       "\n",
       "                                               title  \n",
       "0  credit score classification using spiking extr...  \n",
       "1  prospects for the development and application ...  \n",
       "2  spiking neural networks and online learning: a...  \n",
       "3  time-space, spiking neural networks and brain-...  \n",
       "4  high‐frequency trading and financial time‐seri...  \n",
       "\n",
       "[5 rows x 27 columns]"
      ]
     },
     "execution_count": 157,
     "metadata": {},
     "output_type": "execute_result"
    }
   ],
   "source": [
    "merged_df.head()"
   ]
  },
  {
   "cell_type": "code",
   "execution_count": 158,
   "id": "d0619f1a",
   "metadata": {},
   "outputs": [
    {
     "data": {
      "text/plain": [
       "(8987, 27)"
      ]
     },
     "execution_count": 158,
     "metadata": {},
     "output_type": "execute_result"
    }
   ],
   "source": [
    "merged_df.shape"
   ]
  },
  {
   "cell_type": "code",
   "execution_count": 159,
   "id": "00c141dc",
   "metadata": {},
   "outputs": [],
   "source": [
    "drop_df = merged_df.drop_duplicates(subset='title')"
   ]
  },
  {
   "cell_type": "code",
   "execution_count": 160,
   "id": "c8dc343f",
   "metadata": {},
   "outputs": [
    {
     "data": {
      "text/plain": [
       "(8309, 27)"
      ]
     },
     "execution_count": 160,
     "metadata": {},
     "output_type": "execute_result"
    }
   ],
   "source": [
    "drop_df.shape"
   ]
  },
  {
   "cell_type": "code",
   "execution_count": 161,
   "id": "9b5e8b09",
   "metadata": {},
   "outputs": [],
   "source": [
    "sub_df = drop_df[['Cites', 'Year', 'Authors', 'Title', 'Abstract']]"
   ]
  },
  {
   "cell_type": "code",
   "execution_count": 162,
   "id": "44a49332",
   "metadata": {},
   "outputs": [
    {
     "data": {
      "text/plain": [
       "(8309, 5)"
      ]
     },
     "execution_count": 162,
     "metadata": {},
     "output_type": "execute_result"
    }
   ],
   "source": [
    "sub_df.shape"
   ]
  },
  {
   "cell_type": "code",
   "execution_count": 163,
   "id": "d83c9439",
   "metadata": {
    "scrolled": true
   },
   "outputs": [
    {
     "name": "stderr",
     "output_type": "stream",
     "text": [
      "/tmp/ipykernel_528744/1999680953.py:1: SettingWithCopyWarning: \n",
      "A value is trying to be set on a copy of a slice from a DataFrame\n",
      "\n",
      "See the caveats in the documentation: https://pandas.pydata.org/pandas-docs/stable/user_guide/indexing.html#returning-a-view-versus-a-copy\n",
      "  sub_df.dropna(inplace=True)\n"
     ]
    },
    {
     "data": {
      "text/plain": [
       "(8076, 5)"
      ]
     },
     "execution_count": 163,
     "metadata": {},
     "output_type": "execute_result"
    }
   ],
   "source": [
    "sub_df.dropna(inplace=True)\n",
    "sub_df.shape"
   ]
  },
  {
   "cell_type": "code",
   "execution_count": 164,
   "id": "6e62192c",
   "metadata": {},
   "outputs": [],
   "source": [
    "ascii_df = sub_df.loc[sub_df['Title'].str.contains(r'[^\\x00-\\x7F]+') == False]\n",
    "final_df = ascii_df.sort_values(by='Title', ascending=True)"
   ]
  },
  {
   "cell_type": "code",
   "execution_count": 165,
   "id": "78d84363",
   "metadata": {},
   "outputs": [],
   "source": [
    "final_df.to_csv('test.csv')"
   ]
  },
  {
   "cell_type": "code",
   "execution_count": 166,
   "id": "db02a473",
   "metadata": {},
   "outputs": [
    {
     "data": {
      "text/plain": [
       "(7419, 5)"
      ]
     },
     "execution_count": 166,
     "metadata": {},
     "output_type": "execute_result"
    }
   ],
   "source": [
    "final_df.shape"
   ]
  },
  {
   "cell_type": "code",
   "execution_count": 167,
   "id": "f0f2e4ee",
   "metadata": {},
   "outputs": [],
   "source": [
    "df_x = final_df[final_df['Year'] == 2022]"
   ]
  },
  {
   "cell_type": "code",
   "execution_count": 168,
   "id": "b835e5c9",
   "metadata": {},
   "outputs": [],
   "source": [
    "df_x.to_csv('2022.csv')"
   ]
  },
  {
   "cell_type": "code",
   "execution_count": 169,
   "id": "a4ca718d",
   "metadata": {},
   "outputs": [
    {
     "data": {
      "text/plain": [
       "(759, 5)"
      ]
     },
     "execution_count": 169,
     "metadata": {},
     "output_type": "execute_result"
    }
   ],
   "source": [
    "df_x.shape"
   ]
  },
  {
   "cell_type": "code",
   "execution_count": 174,
   "id": "b1d7b9d4",
   "metadata": {},
   "outputs": [],
   "source": [
    "searchfor = ['automated', 'trading']\n",
    "\n",
    "#searchfor = ['stock', 'trading', 'financial', 'finance', 'market']\n",
    "found_df = final_df[final_df['Title'].str.contains('|'.join(searchfor))]"
   ]
  },
  {
   "cell_type": "code",
   "execution_count": 177,
   "id": "bc50ad44",
   "metadata": {},
   "outputs": [],
   "source": [
    "found_df.to_csv('test.csv')"
   ]
  },
  {
   "cell_type": "code",
   "execution_count": 176,
   "id": "9bb4988c",
   "metadata": {},
   "outputs": [
    {
     "data": {
      "text/plain": [
       "array([[1, 2019.0, 'ARB Teodoro, PAL de Castro',\n",
       "        'A Method to identify anomalies in stock market trading based on Probabilistic Machine Learning',\n",
       "        '… In this section, we briefly present the problem domain and the machine learning techniques used in this work. We also discuss aspects of using machine learning … 2.1 Machine learning …'],\n",
       "       [18, 2021.0, 'JB Chakole, MS Kolhe, GD Mahapurush…',\n",
       "        'A Q-learning agent for automated trading in equity stock markets',\n",
       "        '… market (environment) using a finite number of states for trading using Reinforcement Learning (RL) is key to our proposed work. No work is available for the Indian Equity …'],\n",
       "       [49, 2019.0, 'S Almahdi, SY Yang',\n",
       "        'A constrained portfolio trading system using particle swarm algorithm and recurrent reinforcement learning',\n",
       "        '… reinforcement learning methods as well as constrained portfolio optimization with particle swam algorithms. We introduce a trading … Secondly, we review reinforcement learning based …'],\n",
       "       ...,\n",
       "       [11, 2019.0, 'ES Ponomarev, IV Oseledets, AS Cichocki',\n",
       "        'Using reinforcement learning in the algorithmic trading problem',\n",
       "        '… [3] typical for a reinforcement learning problem, which consists of … The application of this algorithm to the exchange trading … on real anonymized data on the trading of the RTS Index at …'],\n",
       "       [0, 2022.0, 'M Kampouridis, E Christodoulaki',\n",
       "        'Using strongly typed genetic programming to combine technical and sentiment analysis for algorithmic trading',\n",
       "        '… more powerful trading strategies. To achieve the above, in this paper we use a genetic pro… been successfully used in many financial applications, including financial forecasting [1]. In …'],\n",
       "       [12, 2019.0, 'S Ghosh, E Subramanian, SP Bhat, S Gujar…',\n",
       "        'VidyutVanika: A reinforcement learning based broker agent for a power trading competition',\n",
       "        '… VidyutVanika relies on reinforcement learning (RL) in the tariff market and dynamic programming in the wholesale market to solve modified versions of known Markov Decision Process (…']],\n",
       "      dtype=object)"
      ]
     },
     "execution_count": 176,
     "metadata": {},
     "output_type": "execute_result"
    }
   ],
   "source": [
    "found_df.values"
   ]
  },
  {
   "cell_type": "code",
   "execution_count": 139,
   "id": "20145e3a",
   "metadata": {},
   "outputs": [],
   "source": [
    "found_df.to_csv('GS_Cleaned.csv')"
   ]
  },
  {
   "cell_type": "code",
   "execution_count": 70,
   "id": "bd68c9b1",
   "metadata": {},
   "outputs": [],
   "source": [
    "def is_duplicate(vals, val):\n",
    "    for l in range(len(vals)):\n",
    "       # print('---------', val)\n",
    "        \n",
    "       # print(vals[l])\n",
    "        if vals[l] == val:\n",
    "            return l\n",
    "    return -1"
   ]
  },
  {
   "cell_type": "code",
   "execution_count": 87,
   "id": "22aa6807",
   "metadata": {},
   "outputs": [],
   "source": [
    "#is_duplicate(vals[:1001], vals[1001])"
   ]
  },
  {
   "cell_type": "code",
   "execution_count": 88,
   "id": "d22ffc69",
   "metadata": {},
   "outputs": [],
   "source": [
    "cnt = 0\n",
    "for k in range(sub_df.shape[0]):\n",
    "    \n",
    "    if k == 0:\n",
    "        continue\n",
    "        \n",
    "    vals = sub_df['Abstract'].values[:k-1]\n",
    "    val = sub_df['Abstract'].values[k]\n",
    "    ret = is_duplicate(vals, val) \n",
    "    if ret != -1:\n",
    "        #print(k, val)\n",
    "        #print ('duplicate ----', ret, vals[ret])\n",
    "        cnt += 1"
   ]
  },
  {
   "cell_type": "code",
   "execution_count": 74,
   "id": "58b375da",
   "metadata": {},
   "outputs": [
    {
     "data": {
      "text/plain": [
       "8331"
      ]
     },
     "execution_count": 74,
     "metadata": {},
     "output_type": "execute_result"
    }
   ],
   "source": [
    "sub_df.shape[0] - cnt"
   ]
  },
  {
   "cell_type": "code",
   "execution_count": 75,
   "id": "9570c86b",
   "metadata": {},
   "outputs": [
    {
     "data": {
      "text/plain": [
       "408"
      ]
     },
     "execution_count": 75,
     "metadata": {},
     "output_type": "execute_result"
    }
   ],
   "source": [
    "cnt"
   ]
  },
  {
   "cell_type": "code",
   "execution_count": 86,
   "id": "8dde4af9",
   "metadata": {},
   "outputs": [
    {
     "data": {
      "text/plain": [
       "(8330, 4)"
      ]
     },
     "execution_count": 86,
     "metadata": {},
     "output_type": "execute_result"
    }
   ],
   "source": [
    "drop_df.shape"
   ]
  },
  {
   "cell_type": "code",
   "execution_count": 77,
   "id": "a0640824",
   "metadata": {},
   "outputs": [
    {
     "data": {
      "text/plain": [
       "(8330, 4)"
      ]
     },
     "execution_count": 77,
     "metadata": {},
     "output_type": "execute_result"
    }
   ],
   "source": [
    "sub_df.shape"
   ]
  },
  {
   "cell_type": "code",
   "execution_count": null,
   "id": "584307ae",
   "metadata": {},
   "outputs": [],
   "source": []
  }
 ],
 "metadata": {
  "kernelspec": {
   "display_name": "Python 3 (ipykernel)",
   "language": "python",
   "name": "python3"
  },
  "language_info": {
   "codemirror_mode": {
    "name": "ipython",
    "version": 3
   },
   "file_extension": ".py",
   "mimetype": "text/x-python",
   "name": "python",
   "nbconvert_exporter": "python",
   "pygments_lexer": "ipython3",
   "version": "3.8.10"
  }
 },
 "nbformat": 4,
 "nbformat_minor": 5
}
