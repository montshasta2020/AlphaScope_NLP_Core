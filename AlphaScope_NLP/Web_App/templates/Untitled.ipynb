{
 "cells": [
  {
   "cell_type": "code",
   "execution_count": 1,
   "metadata": {
    "collapsed": true
   },
   "outputs": [],
   "source": [
    "import pandas as pd"
   ]
  },
  {
   "cell_type": "code",
   "execution_count": 3,
   "metadata": {
    "collapsed": false
   },
   "outputs": [],
   "source": [
    "df = pd.read_csv(\"../data/huizhou_web_content_slim_v1.csv\")"
   ]
  },
  {
   "cell_type": "code",
   "execution_count": 4,
   "metadata": {
    "collapsed": true
   },
   "outputs": [],
   "source": [
    "topic_df = df.ix[(df['topic'] == 6)]"
   ]
  },
  {
   "cell_type": "code",
   "execution_count": 5,
   "metadata": {
    "collapsed": false
   },
   "outputs": [
    {
     "name": "stdout",
     "output_type": "stream",
     "text": [
      "<class 'pandas.core.frame.DataFrame'>\n",
      "Int64Index: 418 entries, 0 to 5216\n",
      "Data columns (total 4 columns):\n",
      "url        418 non-null object\n",
      "title      418 non-null object\n",
      "summary    418 non-null object\n",
      "topic      418 non-null int64\n",
      "dtypes: int64(1), object(3)\n",
      "memory usage: 16.3+ KB\n"
     ]
    }
   ],
   "source": [
    "topic_df.info()"
   ]
  },
  {
   "cell_type": "code",
   "execution_count": 6,
   "metadata": {
    "collapsed": true
   },
   "outputs": [],
   "source": [
    "s_df = topic_df.sample(n=10)"
   ]
  },
  {
   "cell_type": "code",
   "execution_count": 7,
   "metadata": {
    "collapsed": false
   },
   "outputs": [
    {
     "data": {
      "text/html": [
       "<div>\n",
       "<table border=\"1\" class=\"dataframe\">\n",
       "  <thead>\n",
       "    <tr style=\"text-align: right;\">\n",
       "      <th></th>\n",
       "      <th>url</th>\n",
       "      <th>title</th>\n",
       "      <th>summary</th>\n",
       "      <th>topic</th>\n",
       "    </tr>\n",
       "  </thead>\n",
       "  <tbody>\n",
       "    <tr>\n",
       "      <th>2482</th>\n",
       "      <td>http://www.ahage.net/mingren/5347.html</td>\n",
       "      <td>黟县主动科学保护世界遗产</td>\n",
       "      <td>编制《西递古村落保护规划》和《黟县宏村保护与发展规划》，划定西递宏村核心保护区、建设控制区和...</td>\n",
       "      <td>6</td>\n",
       "    </tr>\n",
       "    <tr>\n",
       "      <th>1165</th>\n",
       "      <td>http://www.ahage.net/jinxiandaimingren/9109.html</td>\n",
       "      <td>透过楹联看方汪二姓渊源</td>\n",
       "      <td>位于安庆市岳西县城北公里处的红军中央独立第二师司令部旧址，原为汪氏宗祠，是省级重点文物保护单...</td>\n",
       "      <td>6</td>\n",
       "    </tr>\n",
       "    <tr>\n",
       "      <th>1277</th>\n",
       "      <td>http://www.ahage.net/lvyou/18633.html</td>\n",
       "      <td>灵山古村落翰苑牌坊</td>\n",
       "      <td>灵山位于徽州区呈坎镇东南，依山傍水而建，居于灵金山、丰山之间的山谷，以灵金河为纽带将村庄分为...</td>\n",
       "      <td>6</td>\n",
       "    </tr>\n",
       "    <tr>\n",
       "      <th>4062</th>\n",
       "      <td>http://www.hwjyw.com/resource/content/2010/02/...</td>\n",
       "      <td>呈坎古村落门窗</td>\n",
       "      <td>”之一（据罗氏族谱载，歙县“八大家”为槐塘程、呈坎罗、棠樾鲍、长林郑、山前汪、溪南吴、岩镇吕...</td>\n",
       "      <td>6</td>\n",
       "    </tr>\n",
       "    <tr>\n",
       "      <th>4613</th>\n",
       "      <td>http://www.517huizhou.com/forum.php?mod=viewth...</td>\n",
       "      <td>世外桃源</td>\n",
       "      <td>他们自己说前代祖先为了躲避秦朝时候的祸乱，带领妻子儿女和同乡人来到这写出人世隔绝的地方，没有...</td>\n",
       "      <td>6</td>\n",
       "    </tr>\n",
       "  </tbody>\n",
       "</table>\n",
       "</div>"
      ],
      "text/plain": [
       "                                                    url         title  \\\n",
       "2482             http://www.ahage.net/mingren/5347.html  黟县主动科学保护世界遗产   \n",
       "1165   http://www.ahage.net/jinxiandaimingren/9109.html   透过楹联看方汪二姓渊源   \n",
       "1277              http://www.ahage.net/lvyou/18633.html     灵山古村落翰苑牌坊   \n",
       "4062  http://www.hwjyw.com/resource/content/2010/02/...       呈坎古村落门窗   \n",
       "4613  http://www.517huizhou.com/forum.php?mod=viewth...          世外桃源   \n",
       "\n",
       "                                                summary  topic  \n",
       "2482  编制《西递古村落保护规划》和《黟县宏村保护与发展规划》，划定西递宏村核心保护区、建设控制区和...      6  \n",
       "1165  位于安庆市岳西县城北公里处的红军中央独立第二师司令部旧址，原为汪氏宗祠，是省级重点文物保护单...      6  \n",
       "1277  灵山位于徽州区呈坎镇东南，依山傍水而建，居于灵金山、丰山之间的山谷，以灵金河为纽带将村庄分为...      6  \n",
       "4062  ”之一（据罗氏族谱载，歙县“八大家”为槐塘程、呈坎罗、棠樾鲍、长林郑、山前汪、溪南吴、岩镇吕...      6  \n",
       "4613  他们自己说前代祖先为了躲避秦朝时候的祸乱，带领妻子儿女和同乡人来到这写出人世隔绝的地方，没有...      6  "
      ]
     },
     "execution_count": 7,
     "metadata": {},
     "output_type": "execute_result"
    }
   ],
   "source": [
    "s_df.head()"
   ]
  },
  {
   "cell_type": "code",
   "execution_count": null,
   "metadata": {
    "collapsed": true
   },
   "outputs": [],
   "source": []
  },
  {
   "cell_type": "code",
   "execution_count": null,
   "metadata": {
    "collapsed": true
   },
   "outputs": [],
   "source": []
  }
 ],
 "metadata": {
  "kernelspec": {
   "display_name": "Python 2",
   "language": "python",
   "name": "python2"
  },
  "language_info": {
   "codemirror_mode": {
    "name": "ipython",
    "version": 2
   },
   "file_extension": ".py",
   "mimetype": "text/x-python",
   "name": "python",
   "nbconvert_exporter": "python",
   "pygments_lexer": "ipython2",
   "version": "2.7.10"
  }
 },
 "nbformat": 4,
 "nbformat_minor": 2
}
