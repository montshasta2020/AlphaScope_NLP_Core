{
 "cells": [
  {
   "cell_type": "code",
   "execution_count": 1,
   "metadata": {
    "collapsed": false
   },
   "outputs": [],
   "source": [
    "import pandas as pd\n",
    "from selenium import webdriver \n",
    "from bs4 import BeautifulSoup\n",
    "import time\n",
    "import re"
   ]
  },
  {
   "cell_type": "code",
   "execution_count": 2,
   "metadata": {
    "collapsed": true
   },
   "outputs": [],
   "source": [
    "from datetime import date, timedelta, datetime\n",
    "import os.path"
   ]
  },
  {
   "cell_type": "code",
   "execution_count": 3,
   "metadata": {
    "collapsed": false
   },
   "outputs": [],
   "source": [
    "t0 =  date.today()"
   ]
  },
  {
   "cell_type": "code",
   "execution_count": 4,
   "metadata": {
    "collapsed": true
   },
   "outputs": [],
   "source": [
    "news_url='http://sou.chinanews.com.cn/search.do?q=%E5%BE%BD%E6%96%87%E5%8C%96&ps=100&time_scope=0&channel=all&sort=pubtime&adv=1&day1=&day2=&field=content&direction=&pager=0'\n",
    "\n",
    "datetime_str = t0\n",
    "fname1 = './data/news/' + 'zhongxin-huizhou-news' + '.csv'\n"
   ]
  },
  {
   "cell_type": "code",
   "execution_count": 5,
   "metadata": {
    "collapsed": true
   },
   "outputs": [],
   "source": [
    "def get_columns():\n",
    "    return ('dt', 'source', 'domain', 'url', 'title', 'summary', 'image', 'brief', 'body', 'raw_page', 'from') \n",
    "def get_empty_columns():\n",
    "    return ('', '', '', '', '', '', '', '', '', '', '') \n",
    "def get_empty_columns1():\n",
    "    return ('', '', '', '', '', '', '', '', '', '', '','') \n",
    "\n"
   ]
  },
  {
   "cell_type": "code",
   "execution_count": null,
   "metadata": {
    "collapsed": true
   },
   "outputs": [],
   "source": []
  },
  {
   "cell_type": "code",
   "execution_count": 6,
   "metadata": {
    "collapsed": false
   },
   "outputs": [],
   "source": [
    "browser = webdriver.Firefox() \n",
    "#browser = webdriver.Chrome('/Users/nhu2000/Downloads/Chromedriver')"
   ]
  },
  {
   "cell_type": "code",
   "execution_count": 7,
   "metadata": {
    "collapsed": false
   },
   "outputs": [],
   "source": [
    "if os.path.isfile(fname1): \n",
    "    df = pd.read_csv(fname1)\n",
    "    idx = len(df.index)\n",
    "else:\n",
    "    df = pd.DataFrame(columns = get_columns())\n",
    "    idx = 0"
   ]
  },
  {
   "cell_type": "code",
   "execution_count": 8,
   "metadata": {
    "collapsed": false
   },
   "outputs": [
    {
     "name": "stdout",
     "output_type": "stream",
     "text": [
      "478\n"
     ]
    }
   ],
   "source": [
    "print idx"
   ]
  },
  {
   "cell_type": "code",
   "execution_count": 9,
   "metadata": {
    "collapsed": true
   },
   "outputs": [],
   "source": [
    "\n",
    "browser.get(news_url)\n",
    "time.sleep(5)\n"
   ]
  },
  {
   "cell_type": "code",
   "execution_count": 15,
   "metadata": {
    "collapsed": false
   },
   "outputs": [],
   "source": [
    "soup = BeautifulSoup(browser.page_source)\n",
    "sub_texts = soup.findAll('ul', {'class':'news_item'})\n",
    "\n",
    "cnt = 0\n",
    "no_add = False\n",
    "for link in sub_texts:\n",
    "    if cnt == 0:\n",
    "        #print link.li.a['href']\n",
    "        t0 = link.find('li', {'class': 'news_content'})\n",
    "        \n",
    "        tt0 = abs(sum(df['url'].str.find(str(link.li.a['href'])))) \n",
    "        if(tt0 == len(df)):     \n",
    "            df.loc[idx] = get_empty_columns()\n",
    "            df.loc[idx]['url'] = link.li.a['href']\n",
    "            df.loc[idx]['brief'] = t0.text\n",
    "            df.loc[idx]['title'] = link.li.a.text\n",
    "            print \"------ add\"\n",
    "        else:\n",
    "            no_add = True\n",
    "        #print link.li.a.text\n",
    "        cnt = 1\n",
    "    else:\n",
    "        if no_add == False:\n",
    "            t0 = link.li.text.split(' ')\n",
    "            #print t0[0][len(t0)-12:]\n",
    "            df.loc[idx]['dt'] = t0[0][len(t0)-12:]\n",
    "            idx +=1\n",
    "        no_add=False\n",
    "        cnt = 0\n",
    "    "
   ]
  },
  {
   "cell_type": "code",
   "execution_count": 16,
   "metadata": {
    "collapsed": false
   },
   "outputs": [
    {
     "name": "stdout",
     "output_type": "stream",
     "text": [
      "478\n"
     ]
    }
   ],
   "source": [
    "print len(df)"
   ]
  },
  {
   "cell_type": "code",
   "execution_count": 17,
   "metadata": {
    "collapsed": false
   },
   "outputs": [
    {
     "data": {
      "text/html": [
       "<div>\n",
       "<table border=\"1\" class=\"dataframe\">\n",
       "  <thead>\n",
       "    <tr style=\"text-align: right;\">\n",
       "      <th></th>\n",
       "      <th>dt</th>\n",
       "      <th>source</th>\n",
       "      <th>domain</th>\n",
       "      <th>url</th>\n",
       "      <th>title</th>\n",
       "      <th>summary</th>\n",
       "      <th>image</th>\n",
       "      <th>brief</th>\n",
       "      <th>body</th>\n",
       "      <th>raw_page</th>\n",
       "      <th>from</th>\n",
       "    </tr>\n",
       "  </thead>\n",
       "  <tbody>\n",
       "    <tr>\n",
       "      <th>0</th>\n",
       "      <td>2017-01-01</td>\n",
       "      <td>中国新闻网</td>\n",
       "      <td>NaN</td>\n",
       "      <td>http://www.chinanews.com/cul/2017/01-01/811095...</td>\n",
       "      <td>徽州古建筑保护遇窘境 专家建言防\"建设性破坏\"</td>\n",
       "      <td>NaN</td>\n",
       "      <td>NaN</td>\n",
       "      <td>保护时表示。\\n\\n　　徽派建筑是中国传统建筑最重要的流派之一，是徽文化的重要组成部分，尤以...</td>\n",
       "      <td>NaN</td>\n",
       "      <td>NaN</td>\n",
       "      <td>NaN</td>\n",
       "    </tr>\n",
       "    <tr>\n",
       "      <th>1</th>\n",
       "      <td>2016-12-10</td>\n",
       "      <td>中国新闻网</td>\n",
       "      <td>NaN</td>\n",
       "      <td>http://www.chinanews.com/cul/2016/12-10/808973...</td>\n",
       "      <td>30余位中外书画家皖南体验“徽文化”</td>\n",
       "      <td>NaN</td>\n",
       "      <td>NaN</td>\n",
       "      <td>中新社黄山12月10日电 (赵强)“我对皖南一直很向往，‘徽文化’作为中华传统文化重要组...</td>\n",
       "      <td>NaN</td>\n",
       "      <td>NaN</td>\n",
       "      <td>NaN</td>\n",
       "    </tr>\n",
       "    <tr>\n",
       "      <th>2</th>\n",
       "      <td>2016-12-09</td>\n",
       "      <td>中国新闻网</td>\n",
       "      <td>NaN</td>\n",
       "      <td>http://www.chinanews.com/shipin/cns/2016/12-09...</td>\n",
       "      <td>日籍华人画家葛新民画展在合肥开幕</td>\n",
       "      <td>NaN</td>\n",
       "      <td>NaN</td>\n",
       "      <td>考察，深入体验徽文化。\\n\\n　　【同期】印度画家 甘纳什·巴苏\\n\\n　　我来自印度，我是...</td>\n",
       "      <td>NaN</td>\n",
       "      <td>NaN</td>\n",
       "      <td>NaN</td>\n",
       "    </tr>\n",
       "    <tr>\n",
       "      <th>3</th>\n",
       "      <td>2016-12-08</td>\n",
       "      <td>中国新闻网</td>\n",
       "      <td>NaN</td>\n",
       "      <td>http://www.chinanews.com/cul/2016/12-08/808811...</td>\n",
       "      <td>\"一带一路 飞彩流韵\"\\u2014\\u2014旅日画家葛新民敦煌墨彩画展在合肥开展</td>\n",
       "      <td>NaN</td>\n",
       "      <td>NaN</td>\n",
       "      <td>国民间的艺术文化交流做出贡献。\\n\\n　　据悉，在皖期间，葛新民等艺术家将赴安徽大学与师生进...</td>\n",
       "      <td>NaN</td>\n",
       "      <td>NaN</td>\n",
       "      <td>NaN</td>\n",
       "    </tr>\n",
       "    <tr>\n",
       "      <th>4</th>\n",
       "      <td>2016-12-07</td>\n",
       "      <td>中国新闻网</td>\n",
       "      <td>NaN</td>\n",
       "      <td>http://www.chinanews.com/hr/2016/12-07/8085801...</td>\n",
       "      <td>剪纸、抖空竹、皮影戏等中国民间绝活海外亮相</td>\n",
       "      <td>NaN</td>\n",
       "      <td>NaN</td>\n",
       "      <td>展示了来自安徽六安的剪纸、茶艺，让德国朋友领略到徽文化的独特魅力。\\n\\n　　民族的才是世界...</td>\n",
       "      <td>NaN</td>\n",
       "      <td>NaN</td>\n",
       "      <td>NaN</td>\n",
       "    </tr>\n",
       "  </tbody>\n",
       "</table>\n",
       "</div>"
      ],
      "text/plain": [
       "           dt source  domain  \\\n",
       "0  2017-01-01  中国新闻网     NaN   \n",
       "1  2016-12-10  中国新闻网     NaN   \n",
       "2  2016-12-09  中国新闻网     NaN   \n",
       "3  2016-12-08  中国新闻网     NaN   \n",
       "4  2016-12-07  中国新闻网     NaN   \n",
       "\n",
       "                                                 url  \\\n",
       "0  http://www.chinanews.com/cul/2017/01-01/811095...   \n",
       "1  http://www.chinanews.com/cul/2016/12-10/808973...   \n",
       "2  http://www.chinanews.com/shipin/cns/2016/12-09...   \n",
       "3  http://www.chinanews.com/cul/2016/12-08/808811...   \n",
       "4  http://www.chinanews.com/hr/2016/12-07/8085801...   \n",
       "\n",
       "                                       title  summary  image  \\\n",
       "0                    徽州古建筑保护遇窘境 专家建言防\"建设性破坏\"      NaN    NaN   \n",
       "1                         30余位中外书画家皖南体验“徽文化”      NaN    NaN   \n",
       "2                           日籍华人画家葛新民画展在合肥开幕      NaN    NaN   \n",
       "3  \"一带一路 飞彩流韵\"\\u2014\\u2014旅日画家葛新民敦煌墨彩画展在合肥开展      NaN    NaN   \n",
       "4                     剪纸、抖空竹、皮影戏等中国民间绝活海外亮相       NaN    NaN   \n",
       "\n",
       "                                               brief  body  raw_page  from  \n",
       "0  保护时表示。\\n\\n　　徽派建筑是中国传统建筑最重要的流派之一，是徽文化的重要组成部分，尤以...   NaN       NaN   NaN  \n",
       "1  　　中新社黄山12月10日电 (赵强)“我对皖南一直很向往，‘徽文化’作为中华传统文化重要组...   NaN       NaN   NaN  \n",
       "2  考察，深入体验徽文化。\\n\\n　　【同期】印度画家 甘纳什·巴苏\\n\\n　　我来自印度，我是...   NaN       NaN   NaN  \n",
       "3  国民间的艺术文化交流做出贡献。\\n\\n　　据悉，在皖期间，葛新民等艺术家将赴安徽大学与师生进...   NaN       NaN   NaN  \n",
       "4  展示了来自安徽六安的剪纸、茶艺，让德国朋友领略到徽文化的独特魅力。\\n\\n　　民族的才是世界...   NaN       NaN   NaN  "
      ]
     },
     "execution_count": 17,
     "metadata": {},
     "output_type": "execute_result"
    }
   ],
   "source": [
    "df.head()"
   ]
  },
  {
   "cell_type": "code",
   "execution_count": 12,
   "metadata": {
    "collapsed": false
   },
   "outputs": [],
   "source": [
    "#print browser.page_source"
   ]
  },
  {
   "cell_type": "code",
   "execution_count": 16,
   "metadata": {
    "collapsed": false
   },
   "outputs": [],
   "source": [
    "df.to_csv(fname1, encoding='utf-8', index=False)"
   ]
  },
  {
   "cell_type": "code",
   "execution_count": 18,
   "metadata": {
    "collapsed": false
   },
   "outputs": [],
   "source": [
    "if(browser):\n",
    "    browser.quit()"
   ]
  },
  {
   "cell_type": "code",
   "execution_count": null,
   "metadata": {
    "collapsed": true
   },
   "outputs": [],
   "source": []
  }
 ],
 "metadata": {
  "kernelspec": {
   "display_name": "Python 2",
   "language": "python",
   "name": "python2"
  },
  "language_info": {
   "codemirror_mode": {
    "name": "ipython",
    "version": 2
   },
   "file_extension": ".py",
   "mimetype": "text/x-python",
   "name": "python",
   "nbconvert_exporter": "python",
   "pygments_lexer": "ipython2",
   "version": "2.7.10"
  }
 },
 "nbformat": 4,
 "nbformat_minor": 0
}
