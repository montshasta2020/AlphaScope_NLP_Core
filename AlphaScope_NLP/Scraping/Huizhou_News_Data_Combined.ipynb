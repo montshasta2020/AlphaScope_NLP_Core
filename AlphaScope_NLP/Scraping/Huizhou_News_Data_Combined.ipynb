{
 "cells": [
  {
   "cell_type": "code",
   "execution_count": 1,
   "metadata": {
    "collapsed": true
   },
   "outputs": [],
   "source": [
    "import pandas as pd\n",
    "from selenium import webdriver \n",
    "from bs4 import BeautifulSoup\n",
    "import time\n",
    "\n",
    "from datetime import date, timedelta, datetime\n",
    "import os.path\n",
    "\n",
    "from dateutil.parser import parse"
   ]
  },
  {
   "cell_type": "code",
   "execution_count": 32,
   "metadata": {
    "collapsed": true
   },
   "outputs": [],
   "source": [
    "#fname1 = 'data/news/baidu-huizhou-news.csv'\n",
    "#fname1 = 'data/news/google-huizhou-news.csv'\n",
    "#fname1 = 'data/news/sina-huizhou-news.csv'\n",
    "fname1 = 'data/news/zhongxin-huizhou-news.csv'\n"
   ]
  },
  {
   "cell_type": "code",
   "execution_count": 33,
   "metadata": {
    "collapsed": true
   },
   "outputs": [],
   "source": [
    "def get_columns():\n",
    "    return ('dt', 'source', 'domain', 'url', 'title', 'summary', 'image', 'brief', 'body', 'raw_page', 'from') \n",
    "def get_empty_columns():\n",
    "    return ('', '', '', '', '', '', '', '', '', '', '') \n",
    "def get_empty_columns1():\n",
    "    return ('', '', '', '', '', '', '', '', '', '', '','') "
   ]
  },
  {
   "cell_type": "code",
   "execution_count": 34,
   "metadata": {
    "collapsed": false
   },
   "outputs": [],
   "source": [
    "if os.path.isfile(fname1): \n",
    "    df = pd.read_csv(fname1)\n",
    "    idx = len(df.index)\n",
    "else:\n",
    "    df = pd.DataFrame(columns = get_columns())\n",
    "    idx = 0"
   ]
  },
  {
   "cell_type": "code",
   "execution_count": 39,
   "metadata": {
    "collapsed": false
   },
   "outputs": [
    {
     "name": "stderr",
     "output_type": "stream",
     "text": [
      "/usr/local/lib/python2.7/site-packages/ipykernel/__main__.py:2: SettingWithCopyWarning: \n",
      "A value is trying to be set on a copy of a slice from a DataFrame\n",
      "\n",
      "See the caveats in the documentation: http://pandas.pydata.org/pandas-docs/stable/indexing.html#indexing-view-versus-copy\n",
      "  from ipykernel import kernelapp as app\n"
     ]
    }
   ],
   "source": [
    "for i in range(0, len(df)):\n",
    "    df.loc[i]['source'] = '中国新闻网'"
   ]
  },
  {
   "cell_type": "code",
   "execution_count": 41,
   "metadata": {
    "collapsed": true
   },
   "outputs": [],
   "source": [
    "df['source'] = '中国新闻网'"
   ]
  },
  {
   "cell_type": "code",
   "execution_count": 42,
   "metadata": {
    "collapsed": false
   },
   "outputs": [
    {
     "data": {
      "text/html": [
       "<div>\n",
       "<table border=\"1\" class=\"dataframe\">\n",
       "  <thead>\n",
       "    <tr style=\"text-align: right;\">\n",
       "      <th></th>\n",
       "      <th>dt</th>\n",
       "      <th>source</th>\n",
       "      <th>domain</th>\n",
       "      <th>url</th>\n",
       "      <th>title</th>\n",
       "      <th>summary</th>\n",
       "      <th>image</th>\n",
       "      <th>brief</th>\n",
       "      <th>body</th>\n",
       "      <th>raw_page</th>\n",
       "      <th>from</th>\n",
       "    </tr>\n",
       "  </thead>\n",
       "  <tbody>\n",
       "    <tr>\n",
       "      <th>0</th>\n",
       "      <td>2017-01-01</td>\n",
       "      <td>中国新闻网</td>\n",
       "      <td>NaN</td>\n",
       "      <td>http://www.chinanews.com/cul/2017/01-01/811095...</td>\n",
       "      <td>徽州古建筑保护遇窘境 专家建言防\"建设性破坏\"</td>\n",
       "      <td>NaN</td>\n",
       "      <td>NaN</td>\n",
       "      <td>保护时表示。\\n\\n　　徽派建筑是中国传统建筑最重要的流派之一，是徽文化的重要组成部分，尤以...</td>\n",
       "      <td>NaN</td>\n",
       "      <td>NaN</td>\n",
       "      <td>NaN</td>\n",
       "    </tr>\n",
       "    <tr>\n",
       "      <th>1</th>\n",
       "      <td>2016-12-10</td>\n",
       "      <td>中国新闻网</td>\n",
       "      <td>NaN</td>\n",
       "      <td>http://www.chinanews.com/cul/2016/12-10/808973...</td>\n",
       "      <td>30余位中外书画家皖南体验“徽文化”</td>\n",
       "      <td>NaN</td>\n",
       "      <td>NaN</td>\n",
       "      <td>中新社黄山12月10日电 (赵强)“我对皖南一直很向往，‘徽文化’作为中华传统文化重要组...</td>\n",
       "      <td>NaN</td>\n",
       "      <td>NaN</td>\n",
       "      <td>NaN</td>\n",
       "    </tr>\n",
       "    <tr>\n",
       "      <th>2</th>\n",
       "      <td>2016-12-09</td>\n",
       "      <td>中国新闻网</td>\n",
       "      <td>NaN</td>\n",
       "      <td>http://www.chinanews.com/shipin/cns/2016/12-09...</td>\n",
       "      <td>日籍华人画家葛新民画展在合肥开幕</td>\n",
       "      <td>NaN</td>\n",
       "      <td>NaN</td>\n",
       "      <td>考察，深入体验徽文化。\\n\\n　　【同期】印度画家 甘纳什·巴苏\\n\\n　　我来自印度，我是...</td>\n",
       "      <td>NaN</td>\n",
       "      <td>NaN</td>\n",
       "      <td>NaN</td>\n",
       "    </tr>\n",
       "    <tr>\n",
       "      <th>3</th>\n",
       "      <td>2016-12-08</td>\n",
       "      <td>中国新闻网</td>\n",
       "      <td>NaN</td>\n",
       "      <td>http://www.chinanews.com/cul/2016/12-08/808811...</td>\n",
       "      <td>\"一带一路 飞彩流韵\"\\u2014\\u2014旅日画家葛新民敦煌墨彩画展在合肥开展</td>\n",
       "      <td>NaN</td>\n",
       "      <td>NaN</td>\n",
       "      <td>国民间的艺术文化交流做出贡献。\\n\\n　　据悉，在皖期间，葛新民等艺术家将赴安徽大学与师生进...</td>\n",
       "      <td>NaN</td>\n",
       "      <td>NaN</td>\n",
       "      <td>NaN</td>\n",
       "    </tr>\n",
       "    <tr>\n",
       "      <th>4</th>\n",
       "      <td>2016-12-07</td>\n",
       "      <td>中国新闻网</td>\n",
       "      <td>NaN</td>\n",
       "      <td>http://www.chinanews.com/hr/2016/12-07/8085801...</td>\n",
       "      <td>剪纸、抖空竹、皮影戏等中国民间绝活海外亮相</td>\n",
       "      <td>NaN</td>\n",
       "      <td>NaN</td>\n",
       "      <td>展示了来自安徽六安的剪纸、茶艺，让德国朋友领略到徽文化的独特魅力。\\n\\n　　民族的才是世界...</td>\n",
       "      <td>NaN</td>\n",
       "      <td>NaN</td>\n",
       "      <td>NaN</td>\n",
       "    </tr>\n",
       "  </tbody>\n",
       "</table>\n",
       "</div>"
      ],
      "text/plain": [
       "           dt source  domain  \\\n",
       "0  2017-01-01  中国新闻网     NaN   \n",
       "1  2016-12-10  中国新闻网     NaN   \n",
       "2  2016-12-09  中国新闻网     NaN   \n",
       "3  2016-12-08  中国新闻网     NaN   \n",
       "4  2016-12-07  中国新闻网     NaN   \n",
       "\n",
       "                                                 url  \\\n",
       "0  http://www.chinanews.com/cul/2017/01-01/811095...   \n",
       "1  http://www.chinanews.com/cul/2016/12-10/808973...   \n",
       "2  http://www.chinanews.com/shipin/cns/2016/12-09...   \n",
       "3  http://www.chinanews.com/cul/2016/12-08/808811...   \n",
       "4  http://www.chinanews.com/hr/2016/12-07/8085801...   \n",
       "\n",
       "                                       title  summary  image  \\\n",
       "0                    徽州古建筑保护遇窘境 专家建言防\"建设性破坏\"      NaN    NaN   \n",
       "1                         30余位中外书画家皖南体验“徽文化”      NaN    NaN   \n",
       "2                           日籍华人画家葛新民画展在合肥开幕      NaN    NaN   \n",
       "3  \"一带一路 飞彩流韵\"\\u2014\\u2014旅日画家葛新民敦煌墨彩画展在合肥开展      NaN    NaN   \n",
       "4                     剪纸、抖空竹、皮影戏等中国民间绝活海外亮相       NaN    NaN   \n",
       "\n",
       "                                               brief  body  raw_page  from  \n",
       "0  保护时表示。\\n\\n　　徽派建筑是中国传统建筑最重要的流派之一，是徽文化的重要组成部分，尤以...   NaN       NaN   NaN  \n",
       "1  　　中新社黄山12月10日电 (赵强)“我对皖南一直很向往，‘徽文化’作为中华传统文化重要组...   NaN       NaN   NaN  \n",
       "2  考察，深入体验徽文化。\\n\\n　　【同期】印度画家 甘纳什·巴苏\\n\\n　　我来自印度，我是...   NaN       NaN   NaN  \n",
       "3  国民间的艺术文化交流做出贡献。\\n\\n　　据悉，在皖期间，葛新民等艺术家将赴安徽大学与师生进...   NaN       NaN   NaN  \n",
       "4  展示了来自安徽六安的剪纸、茶艺，让德国朋友领略到徽文化的独特魅力。\\n\\n　　民族的才是世界...   NaN       NaN   NaN  "
      ]
     },
     "execution_count": 42,
     "metadata": {},
     "output_type": "execute_result"
    }
   ],
   "source": [
    "df.head()"
   ]
  },
  {
   "cell_type": "code",
   "execution_count": 43,
   "metadata": {
    "collapsed": false
   },
   "outputs": [
    {
     "name": "stdout",
     "output_type": "stream",
     "text": [
      "469\n"
     ]
    }
   ],
   "source": [
    "print len(df)"
   ]
  },
  {
   "cell_type": "code",
   "execution_count": 44,
   "metadata": {
    "collapsed": true
   },
   "outputs": [],
   "source": [
    "df.to_csv(fname1, encoding='utf-8', index=False)"
   ]
  },
  {
   "cell_type": "code",
   "execution_count": null,
   "metadata": {
    "collapsed": true
   },
   "outputs": [],
   "source": []
  }
 ],
 "metadata": {
  "kernelspec": {
   "display_name": "Python 2",
   "language": "python",
   "name": "python2"
  },
  "language_info": {
   "codemirror_mode": {
    "name": "ipython",
    "version": 2
   },
   "file_extension": ".py",
   "mimetype": "text/x-python",
   "name": "python",
   "nbconvert_exporter": "python",
   "pygments_lexer": "ipython2",
   "version": "2.7.10"
  }
 },
 "nbformat": 4,
 "nbformat_minor": 2
}
