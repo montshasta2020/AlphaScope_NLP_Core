{
 "cells": [
  {
   "cell_type": "code",
   "execution_count": 1,
   "metadata": {
    "collapsed": false
   },
   "outputs": [],
   "source": [
    "import pandas as pd\n",
    "from selenium import webdriver \n",
    "from bs4 import BeautifulSoup\n",
    "import time\n",
    "import re"
   ]
  },
  {
   "cell_type": "code",
   "execution_count": 2,
   "metadata": {
    "collapsed": true
   },
   "outputs": [],
   "source": [
    "from datetime import date, timedelta, datetime\n",
    "import os.path"
   ]
  },
  {
   "cell_type": "code",
   "execution_count": 3,
   "metadata": {
    "collapsed": false
   },
   "outputs": [],
   "source": [
    "t0 =  date.today()"
   ]
  },
  {
   "cell_type": "code",
   "execution_count": 4,
   "metadata": {
    "collapsed": true
   },
   "outputs": [],
   "source": [
    "news_url='http://www.guhuizhou.com/forum.php?mod=forumdisplay&fid=44'\n",
    "\n",
    "datetime_str = t0\n",
    "fname1 = './data/general/temp/' + 'tianxiahuizhou' + '.csv'\n",
    "fname2 = './data/general/' + 'tianxiahuizhou' + '.csv'\n"
   ]
  },
  {
   "cell_type": "code",
   "execution_count": 5,
   "metadata": {
    "collapsed": true
   },
   "outputs": [],
   "source": [
    "def get_columns():\n",
    "    return ('dt', 'source', 'domain', 'url', 'title', 'summary', 'image', 'brief', 'body', 'raw_page', 'from') \n",
    "def get_empty_columns():\n",
    "    return ('', '', '', '', '', '', '', '', '', '', '') \n",
    "def get_empty_columns1():\n",
    "    return ('', '', '', '', '', '', '', '', '', '', '','') \n",
    "\n"
   ]
  },
  {
   "cell_type": "code",
   "execution_count": 6,
   "metadata": {
    "collapsed": false
   },
   "outputs": [],
   "source": [
    "browser = webdriver.Firefox() \n",
    "#browser = webdriver.Chrome('/Users/nhu2000/Downloads/Chromedriver')"
   ]
  },
  {
   "cell_type": "code",
   "execution_count": 7,
   "metadata": {
    "collapsed": false
   },
   "outputs": [],
   "source": [
    "if os.path.isfile(fname1): \n",
    "    df = pd.read_csv(fname1)\n",
    "    idx = len(df.index)\n",
    "else:\n",
    "    df = pd.DataFrame(columns = get_columns())\n",
    "    idx = 0"
   ]
  },
  {
   "cell_type": "code",
   "execution_count": 8,
   "metadata": {
    "collapsed": false
   },
   "outputs": [],
   "source": [
    "if os.path.isfile(fname2): \n",
    "    df_check = pd.read_csv(fname2)\n",
    "    idx = len(df.index)\n",
    "else:\n",
    "    df_check = pd.DataFrame(columns = get_columns())\n",
    "    idx = 0"
   ]
  },
  {
   "cell_type": "markdown",
   "metadata": {
    "collapsed": true
   },
   "source": [
    "if os.path.isfile(fname2): \n",
    "    df_0 = pd.read_csv(fname2)\n",
    "else:\n",
    "    df_0 = pd.DataFrame(columns = get_columns())"
   ]
  },
  {
   "cell_type": "code",
   "execution_count": 9,
   "metadata": {
    "collapsed": false
   },
   "outputs": [
    {
     "name": "stdout",
     "output_type": "stream",
     "text": [
      "170\n"
     ]
    }
   ],
   "source": [
    "print len(df_check)"
   ]
  },
  {
   "cell_type": "code",
   "execution_count": 10,
   "metadata": {
    "collapsed": false
   },
   "outputs": [
    {
     "name": "stdout",
     "output_type": "stream",
     "text": [
      "0\n"
     ]
    }
   ],
   "source": [
    "print len(df)"
   ]
  },
  {
   "cell_type": "markdown",
   "metadata": {
    "collapsed": false
   },
   "source": [
    "browser.get(news_url)\n",
    "time.sleep(5)"
   ]
  },
  {
   "cell_type": "code",
   "execution_count": 11,
   "metadata": {
    "collapsed": false
   },
   "outputs": [
    {
     "name": "stdout",
     "output_type": "stream",
     "text": [
      "http://www.guhuizhou.com/forum.php?mod=forumdisplay&fid=44\n"
     ]
    }
   ],
   "source": [
    "url_0 = news_url\n",
    "print url_0\n",
    "browser.get(url_0)\n",
    "time.sleep(5)"
   ]
  },
  {
   "cell_type": "code",
   "execution_count": 22,
   "metadata": {
    "collapsed": true
   },
   "outputs": [],
   "source": [
    "idx = 0\n",
    "not_existed = True"
   ]
  },
  {
   "cell_type": "code",
   "execution_count": 38,
   "metadata": {
    "collapsed": false
   },
   "outputs": [
    {
     "name": "stdout",
     "output_type": "stream",
     "text": [
      "add --------\n",
      "黄山河螺丝\n",
      "http://www.517huizhou.com/forum.php?mod=viewthread&tid=242&extra=page%3D1\n",
      "2015-12-26\n",
      "add --------\n",
      "徽州裹粽\n",
      "http://www.517huizhou.com/forum.php?mod=viewthread&tid=241&extra=page%3D1\n",
      "2015-12-26\n",
      "add --------\n",
      "五城茶干\n",
      "http://www.517huizhou.com/forum.php?mod=viewthread&tid=240&extra=page%3D1\n",
      "2015-12-26\n",
      "add --------\n",
      "徽菜的形成\n",
      "http://www.517huizhou.com/forum.php?mod=viewthread&tid=239&extra=page%3D1\n",
      "2015-12-26\n",
      "add --------\n",
      "皖风徽韵间的山珍野味\n",
      "http://www.517huizhou.com/forum.php?mod=viewthread&tid=238&extra=page%3D1\n",
      "2015-12-26\n",
      "add --------\n",
      "戏说徽菜“霸王别鸡”\n",
      "http://www.517huizhou.com/forum.php?mod=viewthread&tid=237&extra=page%3D1\n",
      "2015-12-26\n",
      "add --------\n",
      "臭鳜鱼\n",
      "http://www.517huizhou.com/forum.php?mod=viewthread&tid=236&extra=page%3D1\n",
      "2015-12-26\n"
     ]
    }
   ],
   "source": [
    "soup = BeautifulSoup(browser.page_source)\n",
    "#sub_text = soup.findAll('table', {'id': lambda L: L and L.startswith('threadlisttableid')})\n",
    "\n",
    "#for item in sub_text:\n",
    "sub_text = soup.findAll('tbody', {'id': lambda L: L and L.startswith('normalthread')})\n",
    "\n",
    "for item in sub_text:\n",
    "    t1 = item.find('a', {'class': 's xst'})\n",
    "    t2 = item.find('td', {'class': 'by'})\n",
    "    if t1 != None:\n",
    "        t3 = 'http://www.517huizhou.com/' + t1['href']\n",
    "\n",
    "    #print 'www.hzwh.com/' + item.a['href']\n",
    "    #print t1.text\n",
    "    #print t3\n",
    "    #print t2.em.text\n",
    "    \n",
    "\n",
    "    if not_existed == True and t1 != None:   \n",
    "        print 'add --------'\n",
    "        print t1.text\n",
    "        print t3\n",
    "        print t2.em.text\n",
    "        df.loc[idx] = get_empty_columns()        \n",
    "        df.loc[idx]['url'] = t3\n",
    "        df.loc[idx]['title'] = t1.text\n",
    "        df.loc[idx]['source'] = '天下徽州'\n",
    "        df.loc[idx]['dt'] = t2.em.text\n",
    "        idx += 1"
   ]
  },
  {
   "cell_type": "code",
   "execution_count": 39,
   "metadata": {
    "collapsed": false
   },
   "outputs": [
    {
     "name": "stdout",
     "output_type": "stream",
     "text": [
      "170\n"
     ]
    }
   ],
   "source": [
    "print idx"
   ]
  },
  {
   "cell_type": "code",
   "execution_count": 40,
   "metadata": {
    "collapsed": false
   },
   "outputs": [
    {
     "name": "stdout",
     "output_type": "stream",
     "text": [
      "<class 'pandas.core.frame.DataFrame'>\n",
      "Int64Index: 170 entries, 0 to 169\n",
      "Data columns (total 11 columns):\n",
      "dt          170 non-null object\n",
      "source      170 non-null object\n",
      "domain      170 non-null object\n",
      "url         170 non-null object\n",
      "title       170 non-null object\n",
      "summary     170 non-null object\n",
      "image       170 non-null object\n",
      "brief       170 non-null object\n",
      "body        170 non-null object\n",
      "raw_page    170 non-null object\n",
      "from        170 non-null object\n",
      "dtypes: object(11)\n",
      "memory usage: 15.9+ KB\n"
     ]
    }
   ],
   "source": [
    "df.info()"
   ]
  },
  {
   "cell_type": "code",
   "execution_count": 41,
   "metadata": {
    "collapsed": false
   },
   "outputs": [
    {
     "data": {
      "text/html": [
       "<div>\n",
       "<table border=\"1\" class=\"dataframe\">\n",
       "  <thead>\n",
       "    <tr style=\"text-align: right;\">\n",
       "      <th></th>\n",
       "      <th>dt</th>\n",
       "      <th>source</th>\n",
       "      <th>domain</th>\n",
       "      <th>url</th>\n",
       "      <th>title</th>\n",
       "      <th>summary</th>\n",
       "      <th>image</th>\n",
       "      <th>brief</th>\n",
       "      <th>body</th>\n",
       "      <th>raw_page</th>\n",
       "      <th>from</th>\n",
       "    </tr>\n",
       "  </thead>\n",
       "  <tbody>\n",
       "    <tr>\n",
       "      <th>0</th>\n",
       "      <td>前天 11:26</td>\n",
       "      <td>天下徽州</td>\n",
       "      <td></td>\n",
       "      <td>http://www.517huizhou.com/forum.php?mod=viewth...</td>\n",
       "      <td>给古建筑穿上隐形的铠甲</td>\n",
       "      <td></td>\n",
       "      <td></td>\n",
       "      <td></td>\n",
       "      <td></td>\n",
       "      <td></td>\n",
       "      <td></td>\n",
       "    </tr>\n",
       "    <tr>\n",
       "      <th>1</th>\n",
       "      <td>2016-5-15</td>\n",
       "      <td>天下徽州</td>\n",
       "      <td></td>\n",
       "      <td>http://www.517huizhou.com/forum.php?mod=viewth...</td>\n",
       "      <td>奈何我很无聊！</td>\n",
       "      <td></td>\n",
       "      <td></td>\n",
       "      <td></td>\n",
       "      <td></td>\n",
       "      <td></td>\n",
       "      <td></td>\n",
       "    </tr>\n",
       "    <tr>\n",
       "      <th>2</th>\n",
       "      <td>2016-5-15</td>\n",
       "      <td>天下徽州</td>\n",
       "      <td></td>\n",
       "      <td>http://www.517huizhou.com/forum.php?mod=viewth...</td>\n",
       "      <td>好无聊！</td>\n",
       "      <td></td>\n",
       "      <td></td>\n",
       "      <td></td>\n",
       "      <td></td>\n",
       "      <td></td>\n",
       "      <td></td>\n",
       "    </tr>\n",
       "    <tr>\n",
       "      <th>3</th>\n",
       "      <td>2016-5-15</td>\n",
       "      <td>天下徽州</td>\n",
       "      <td></td>\n",
       "      <td>http://www.517huizhou.com/forum.php?mod=viewth...</td>\n",
       "      <td>好无聊哦！</td>\n",
       "      <td></td>\n",
       "      <td></td>\n",
       "      <td></td>\n",
       "      <td></td>\n",
       "      <td></td>\n",
       "      <td></td>\n",
       "    </tr>\n",
       "    <tr>\n",
       "      <th>4</th>\n",
       "      <td>2015-12-24</td>\n",
       "      <td>天下徽州</td>\n",
       "      <td></td>\n",
       "      <td>http://www.517huizhou.com/forum.php?mod=viewth...</td>\n",
       "      <td>浅析徽州明清民居天井与庭院文化特征(三)</td>\n",
       "      <td></td>\n",
       "      <td></td>\n",
       "      <td></td>\n",
       "      <td></td>\n",
       "      <td></td>\n",
       "      <td></td>\n",
       "    </tr>\n",
       "  </tbody>\n",
       "</table>\n",
       "</div>"
      ],
      "text/plain": [
       "           dt source domain  \\\n",
       "0    前天 11:26   天下徽州          \n",
       "1   2016-5-15   天下徽州          \n",
       "2   2016-5-15   天下徽州          \n",
       "3   2016-5-15   天下徽州          \n",
       "4  2015-12-24   天下徽州          \n",
       "\n",
       "                                                 url                 title  \\\n",
       "0  http://www.517huizhou.com/forum.php?mod=viewth...           给古建筑穿上隐形的铠甲   \n",
       "1  http://www.517huizhou.com/forum.php?mod=viewth...               奈何我很无聊！   \n",
       "2  http://www.517huizhou.com/forum.php?mod=viewth...                  好无聊！   \n",
       "3  http://www.517huizhou.com/forum.php?mod=viewth...                 好无聊哦！   \n",
       "4  http://www.517huizhou.com/forum.php?mod=viewth...  浅析徽州明清民居天井与庭院文化特征(三)   \n",
       "\n",
       "  summary image brief body raw_page from  \n",
       "0                                         \n",
       "1                                         \n",
       "2                                         \n",
       "3                                         \n",
       "4                                         "
      ]
     },
     "execution_count": 41,
     "metadata": {},
     "output_type": "execute_result"
    }
   ],
   "source": [
    "df.head()"
   ]
  },
  {
   "cell_type": "code",
   "execution_count": 42,
   "metadata": {
    "collapsed": false
   },
   "outputs": [],
   "source": [
    "if(len(df) != 0):\n",
    "    df.to_csv('./data/general/tianxiahuizhou.csv', encoding='utf-8', index=False)"
   ]
  },
  {
   "cell_type": "code",
   "execution_count": 158,
   "metadata": {
    "collapsed": true
   },
   "outputs": [],
   "source": [
    "idx = 4462"
   ]
  },
  {
   "cell_type": "code",
   "execution_count": 161,
   "metadata": {
    "collapsed": false
   },
   "outputs": [
    {
     "name": "stdout",
     "output_type": "stream",
     "text": [
      "4462 [原创]期盼，生活的至美\n",
      "4463 笑 的好处\n",
      "4464 论坛情（打油诗）\n",
      "4465 [原创]七律。汪口有感\n",
      "4466 [原创]徽州多有奇女子\n",
      "4467 [原创]五律。静坐养生莫迟疑！\n",
      "4468 [原创]题齐云山云岩湖\n",
      "4469 [原创]七律。酒品差，没办法！\n",
      "4470 不一样的夏天，朋友你的感觉和我一样吗？\n",
      "4471 随笔\n",
      "4472 [原创]七律。自辱\n",
      "4473 有些事，从心里泛起！\n",
      "4474 [原创]五律。夏夜乘凉\n",
      "4475 游陶辛！\n",
      "4476 很多事，让我忆起……\n",
      "4477 [原创]进县见友人空调有感\n",
      "4478 《天香》凤尾猴魁咏\n",
      "4479 漂浮\n",
      "4480 荷塘月色\n",
      "4481 黄山咏\n",
      "4482 [原创]乡村邻里情意醇\n",
      "4483 慧心读网\n",
      "4484 [原创]七律。忆水碓\n",
      "4485 菜场！\n",
      "4486 旋转木马\n",
      "4487 活着谁看\n",
      "4488 [原创]七律。凤山三宝之——西门井\n",
      "4489 [原创]“凤山三宝之——鱼塘”有感\n",
      "4490 [原创]七绝。欣闻安徽电视台来浙岭\n",
      "4491 [原创]七律。“小桥流水人家——李坑”印象\n",
      "4492 [原创]凤山八景之——花桥头\n",
      "4493 淡淡的老冰棍\n",
      "4494 闻香寻兰\n",
      "4495 午夜思绪\n"
     ]
    }
   ],
   "source": [
    "for i in range(4462, len(df)):\n",
    "    url = df.loc[i]['url']\n",
    "    browser.get(url)\n",
    "    time.sleep(15)\n",
    "    \n",
    "    soup = BeautifulSoup(browser.page_source)\n",
    "    sub_text = soup.findAll('div', {'class':'t_fsz'})\n",
    "    \n",
    "    fst = 0\n",
    "    for item in sub_text:\n",
    "        if fst == 0:\n",
    "            #print item.text\n",
    "            print i, df.loc[i]['title']\n",
    "            #print 'add --', item.text\n",
    "            df.loc[i]['body'] = item.text\n",
    "            df.loc[i]['raw_page'] = browser.page_source    \n",
    "            fst = 1\n"
   ]
  },
  {
   "cell_type": "code",
   "execution_count": 107,
   "metadata": {
    "collapsed": false
   },
   "outputs": [
    {
     "name": "stdout",
     "output_type": "stream",
     "text": [
      "forum.php?mod=viewthread&tid=195025&extra=page%3D1%26filter%3Dtypeid%26typeid%3D162\n"
     ]
    }
   ],
   "source": [
    "print url"
   ]
  },
  {
   "cell_type": "code",
   "execution_count": 162,
   "metadata": {
    "collapsed": false
   },
   "outputs": [
    {
     "name": "stdout",
     "output_type": "stream",
     "text": [
      "<class 'pandas.core.frame.DataFrame'>\n",
      "Int64Index: 4496 entries, 0 to 4495\n",
      "Data columns (total 11 columns):\n",
      "dt          4496 non-null object\n",
      "source      4496 non-null object\n",
      "domain      4496 non-null object\n",
      "url         4496 non-null object\n",
      "title       4496 non-null object\n",
      "summary     4496 non-null object\n",
      "image       4496 non-null object\n",
      "brief       4496 non-null object\n",
      "body        4496 non-null object\n",
      "raw_page    4496 non-null object\n",
      "from        4496 non-null object\n",
      "dtypes: object(11)\n",
      "memory usage: 421.5+ KB\n"
     ]
    }
   ],
   "source": [
    "df.info()"
   ]
  },
  {
   "cell_type": "code",
   "execution_count": null,
   "metadata": {
    "collapsed": true
   },
   "outputs": [],
   "source": []
  },
  {
   "cell_type": "code",
   "execution_count": 12,
   "metadata": {
    "collapsed": false
   },
   "outputs": [
    {
     "name": "stdout",
     "output_type": "stream",
     "text": [
      "http://www.hzwh.com/toplistb.asp?id=229&page=0\n",
      "传统徽州仁商义贾践行商君子之道的历史启示\n",
      "《阅读徽州》第七编“徽州科技”\n",
      "传统徽商的诚信为本和仁义向善\n",
      "传统徽商的诚信为本和仁义向善\n",
      "黟县古城改造重要的是务须保住文教根脉\n",
      "推动徽州传统文化的普及宣传\n",
      "徽学与当代学术 \n",
      "“儒学与地域文化：徽学国际学术研讨会”综述\n",
      "洪经纶墓葬地点的疏证\n",
      "徽州乡镇志中所见明清民间救荒措施\n",
      "徽州文化全书\n",
      "论文化生产力与中部地区的经济发展\n",
      "徽州书院的讲会\n",
      "明代海上徽帮与宁波海上丝绸之路\n",
      "徽州昌溪周氏家族与宁波近代商业发展史\n",
      "徽商历史的文化价值批判 \n",
      "徽商\n",
      "徽商文化及特点\n",
      "婺源徽剧音乐研究\n",
      "古徽州和谐乡村社会建设的经验\n"
     ]
    },
    {
     "name": "stderr",
     "output_type": "stream",
     "text": [
      "/usr/local/lib/python2.7/site-packages/bs4/__init__.py:181: UserWarning: No parser was explicitly specified, so I'm using the best available HTML parser for this system (\"html5lib\"). This usually isn't a problem, but if you run this code on another system, or in a different virtual environment, it may use a different parser and behave differently.\n",
      "\n",
      "The code that caused this warning is on line 162 of the file /usr/local/Cellar/python/2.7.10_2/Frameworks/Python.framework/Versions/2.7/lib/python2.7/runpy.py. To get rid of this warning, change code that looks like this:\n",
      "\n",
      " BeautifulSoup([your markup])\n",
      "\n",
      "to this:\n",
      "\n",
      " BeautifulSoup([your markup], \"html5lib\")\n",
      "\n",
      "  markup_type=markup_type))\n"
     ]
    }
   ],
   "source": [
    "for i in range(0, 1):\n",
    "    url_0 = news_url\n",
    "    print url_0\n",
    "    browser.get(url_0)\n",
    "    time.sleep(5)\n",
    "\n",
    "    soup = BeautifulSoup(browser.page_source)\n",
    "    sub_text = soup.findAll('div', {'class':'listA_title'})\n",
    "\n",
    "    for item in sub_text:\n",
    "        t1 = item.find('div', {'class':'listA_Time'})\n",
    "        #print 'www.hzwh.com/' + item.a['href']\n",
    "        #print t1.text\n",
    "        print item.a.text\n",
    "        url = 'www.hzwh.com/' + item.a['href']\n",
    "        \n",
    "        not_existed = True\n",
    "        #check if in cleaned set\n",
    "        if t1 != None and len(df_check) != 0:\n",
    "            t0 = abs(sum(df_check['url'].str.find(url))) \n",
    "            if t0 != len(df_check):\n",
    "                not_existed = False\n",
    "\n",
    "        #check if in dynamic set\n",
    "        if t1 != None and len(df) != 0 and not_existed == True:\n",
    "            t0 = abs(sum(df['url'].str.find(str(url)))) \n",
    "            if t0 != len(df):\n",
    "                not_existed = False\n",
    "\n",
    "        #print t0, len(df), t1\n",
    "\n",
    "        if not_existed == True and t1 != None:   \n",
    "            print \"-------- add\"\n",
    "            df.loc[idx] = get_empty_columns()        \n",
    "            df.loc[idx]['url'] = url\n",
    "            df.loc[idx]['title'] = item.a.text\n",
    "            df.loc[idx]['source'] = '徽州文化网'\n",
    "            df.loc[idx]['dt'] = t1.text\n",
    "            idx += 1"
   ]
  },
  {
   "cell_type": "code",
   "execution_count": 53,
   "metadata": {
    "collapsed": false
   },
   "outputs": [
    {
     "name": "stdout",
     "output_type": "stream",
     "text": [
      "170\n"
     ]
    }
   ],
   "source": [
    "print len(df)"
   ]
  },
  {
   "cell_type": "code",
   "execution_count": 12,
   "metadata": {
    "collapsed": false
   },
   "outputs": [
    {
     "data": {
      "text/html": [
       "<div>\n",
       "<table border=\"1\" class=\"dataframe\">\n",
       "  <thead>\n",
       "    <tr style=\"text-align: right;\">\n",
       "      <th></th>\n",
       "      <th>dt</th>\n",
       "      <th>source</th>\n",
       "      <th>domain</th>\n",
       "      <th>url</th>\n",
       "      <th>title</th>\n",
       "      <th>summary</th>\n",
       "      <th>image</th>\n",
       "      <th>brief</th>\n",
       "      <th>body</th>\n",
       "      <th>raw_page</th>\n",
       "      <th>from</th>\n",
       "    </tr>\n",
       "  </thead>\n",
       "  <tbody>\n",
       "    <tr>\n",
       "      <th>0</th>\n",
       "      <td>2004-03-03</td>\n",
       "      <td>徽州文化网</td>\n",
       "      <td></td>\n",
       "      <td>www.hzwh.com/article.asp?id=533</td>\n",
       "      <td>旧时徽州税票名称种种</td>\n",
       "      <td></td>\n",
       "      <td></td>\n",
       "      <td></td>\n",
       "      <td></td>\n",
       "      <td></td>\n",
       "      <td></td>\n",
       "    </tr>\n",
       "    <tr>\n",
       "      <th>1</th>\n",
       "      <td>2004-03-03</td>\n",
       "      <td>徽州文化网</td>\n",
       "      <td></td>\n",
       "      <td>www.hzwh.com/article.asp?id=532</td>\n",
       "      <td>小小大阜村 爷孙宰相俩</td>\n",
       "      <td></td>\n",
       "      <td></td>\n",
       "      <td></td>\n",
       "      <td></td>\n",
       "      <td></td>\n",
       "      <td></td>\n",
       "    </tr>\n",
       "    <tr>\n",
       "      <th>2</th>\n",
       "      <td>2004-03-09</td>\n",
       "      <td>徽州文化网</td>\n",
       "      <td></td>\n",
       "      <td>www.hzwh.com/article.asp?id=530</td>\n",
       "      <td>李良春与《惯痴文集》</td>\n",
       "      <td></td>\n",
       "      <td></td>\n",
       "      <td></td>\n",
       "      <td></td>\n",
       "      <td></td>\n",
       "      <td></td>\n",
       "    </tr>\n",
       "    <tr>\n",
       "      <th>3</th>\n",
       "      <td>2004-03-22</td>\n",
       "      <td>徽州文化网</td>\n",
       "      <td></td>\n",
       "      <td>www.hzwh.com/article.asp?id=528</td>\n",
       "      <td>古老的石林</td>\n",
       "      <td></td>\n",
       "      <td></td>\n",
       "      <td></td>\n",
       "      <td></td>\n",
       "      <td></td>\n",
       "      <td></td>\n",
       "    </tr>\n",
       "    <tr>\n",
       "      <th>4</th>\n",
       "      <td>2004-03-31</td>\n",
       "      <td>徽州文化网</td>\n",
       "      <td></td>\n",
       "      <td>www.hzwh.com/article.asp?id=527</td>\n",
       "      <td>洪钧行书联</td>\n",
       "      <td></td>\n",
       "      <td></td>\n",
       "      <td></td>\n",
       "      <td></td>\n",
       "      <td></td>\n",
       "      <td></td>\n",
       "    </tr>\n",
       "    <tr>\n",
       "      <th>5</th>\n",
       "      <td>2004-04-02</td>\n",
       "      <td>徽州文化网</td>\n",
       "      <td></td>\n",
       "      <td>www.hzwh.com/article.asp?id=525</td>\n",
       "      <td>万安“中国罗盘之乡”</td>\n",
       "      <td></td>\n",
       "      <td></td>\n",
       "      <td></td>\n",
       "      <td></td>\n",
       "      <td></td>\n",
       "      <td></td>\n",
       "    </tr>\n",
       "    <tr>\n",
       "      <th>6</th>\n",
       "      <td>2004-04-11</td>\n",
       "      <td>徽州文化网</td>\n",
       "      <td></td>\n",
       "      <td>www.hzwh.com/article.asp?id=523</td>\n",
       "      <td>吕仙宫</td>\n",
       "      <td></td>\n",
       "      <td></td>\n",
       "      <td></td>\n",
       "      <td></td>\n",
       "      <td></td>\n",
       "      <td></td>\n",
       "    </tr>\n",
       "    <tr>\n",
       "      <th>7</th>\n",
       "      <td>2004-04-12</td>\n",
       "      <td>徽州文化网</td>\n",
       "      <td></td>\n",
       "      <td>www.hzwh.com/article.asp?id=521</td>\n",
       "      <td>溪 头 探 古</td>\n",
       "      <td></td>\n",
       "      <td></td>\n",
       "      <td></td>\n",
       "      <td></td>\n",
       "      <td></td>\n",
       "      <td></td>\n",
       "    </tr>\n",
       "    <tr>\n",
       "      <th>8</th>\n",
       "      <td>2004-04-15</td>\n",
       "      <td>徽州文化网</td>\n",
       "      <td></td>\n",
       "      <td>www.hzwh.com/article.asp?id=520</td>\n",
       "      <td>五绝《小桃源》中否李白所作？</td>\n",
       "      <td></td>\n",
       "      <td></td>\n",
       "      <td></td>\n",
       "      <td></td>\n",
       "      <td></td>\n",
       "      <td></td>\n",
       "    </tr>\n",
       "    <tr>\n",
       "      <th>9</th>\n",
       "      <td>2004-04-15</td>\n",
       "      <td>徽州文化网</td>\n",
       "      <td></td>\n",
       "      <td>www.hzwh.com/article.asp?id=518</td>\n",
       "      <td>解读戴震诗一首</td>\n",
       "      <td></td>\n",
       "      <td></td>\n",
       "      <td></td>\n",
       "      <td></td>\n",
       "      <td></td>\n",
       "      <td></td>\n",
       "    </tr>\n",
       "    <tr>\n",
       "      <th>10</th>\n",
       "      <td>2004-05-11</td>\n",
       "      <td>徽州文化网</td>\n",
       "      <td></td>\n",
       "      <td>www.hzwh.com/article.asp?id=517</td>\n",
       "      <td>安徽休宁——中国第一状元县</td>\n",
       "      <td></td>\n",
       "      <td></td>\n",
       "      <td></td>\n",
       "      <td></td>\n",
       "      <td></td>\n",
       "      <td></td>\n",
       "    </tr>\n",
       "    <tr>\n",
       "      <th>11</th>\n",
       "      <td>2004-05-13</td>\n",
       "      <td>徽州文化网</td>\n",
       "      <td></td>\n",
       "      <td>www.hzwh.com/article.asp?id=516</td>\n",
       "      <td>独树一帜的徽州税文化</td>\n",
       "      <td></td>\n",
       "      <td></td>\n",
       "      <td></td>\n",
       "      <td></td>\n",
       "      <td></td>\n",
       "      <td></td>\n",
       "    </tr>\n",
       "    <tr>\n",
       "      <th>12</th>\n",
       "      <td>2009-04-28</td>\n",
       "      <td>徽州文化网</td>\n",
       "      <td></td>\n",
       "      <td>www.hzwh.com/article.asp?id=505</td>\n",
       "      <td>扬弃古徽州廉政文化 促进新黄山廉政建设</td>\n",
       "      <td></td>\n",
       "      <td></td>\n",
       "      <td></td>\n",
       "      <td></td>\n",
       "      <td></td>\n",
       "      <td></td>\n",
       "    </tr>\n",
       "  </tbody>\n",
       "</table>\n",
       "</div>"
      ],
      "text/plain": [
       "            dt source domain                              url  \\\n",
       "0   2004-03-03  徽州文化网         www.hzwh.com/article.asp?id=533   \n",
       "1   2004-03-03  徽州文化网         www.hzwh.com/article.asp?id=532   \n",
       "2   2004-03-09  徽州文化网         www.hzwh.com/article.asp?id=530   \n",
       "3   2004-03-22  徽州文化网         www.hzwh.com/article.asp?id=528   \n",
       "4   2004-03-31  徽州文化网         www.hzwh.com/article.asp?id=527   \n",
       "5   2004-04-02  徽州文化网         www.hzwh.com/article.asp?id=525   \n",
       "6   2004-04-11  徽州文化网         www.hzwh.com/article.asp?id=523   \n",
       "7   2004-04-12  徽州文化网         www.hzwh.com/article.asp?id=521   \n",
       "8   2004-04-15  徽州文化网         www.hzwh.com/article.asp?id=520   \n",
       "9   2004-04-15  徽州文化网         www.hzwh.com/article.asp?id=518   \n",
       "10  2004-05-11  徽州文化网         www.hzwh.com/article.asp?id=517   \n",
       "11  2004-05-13  徽州文化网         www.hzwh.com/article.asp?id=516   \n",
       "12  2009-04-28  徽州文化网         www.hzwh.com/article.asp?id=505   \n",
       "\n",
       "                  title summary image brief body raw_page from  \n",
       "0            旧时徽州税票名称种种                                         \n",
       "1           小小大阜村 爷孙宰相俩                                         \n",
       "2            李良春与《惯痴文集》                                         \n",
       "3                 古老的石林                                         \n",
       "4                 洪钧行书联                                         \n",
       "5            万安“中国罗盘之乡”                                         \n",
       "6                   吕仙宫                                         \n",
       "7               溪 头 探 古                                         \n",
       "8        五绝《小桃源》中否李白所作？                                         \n",
       "9               解读戴震诗一首                                         \n",
       "10        安徽休宁——中国第一状元县                                         \n",
       "11           独树一帜的徽州税文化                                         \n",
       "12  扬弃古徽州廉政文化 促进新黄山廉政建设                                         "
      ]
     },
     "execution_count": 12,
     "metadata": {},
     "output_type": "execute_result"
    }
   ],
   "source": [
    "df.head(50)"
   ]
  },
  {
   "cell_type": "code",
   "execution_count": 47,
   "metadata": {
    "collapsed": false
   },
   "outputs": [
    {
     "name": "stdout",
     "output_type": "stream",
     "text": [
      "170\n"
     ]
    }
   ],
   "source": [
    "print len(df)"
   ]
  },
  {
   "cell_type": "code",
   "execution_count": 64,
   "metadata": {
    "collapsed": true
   },
   "outputs": [],
   "source": [
    "df_check = pd.read_csv('./data/general/tianxiahuizhou.csv')"
   ]
  },
  {
   "cell_type": "code",
   "execution_count": 65,
   "metadata": {
    "collapsed": false
   },
   "outputs": [
    {
     "data": {
      "text/html": [
       "<div>\n",
       "<table border=\"1\" class=\"dataframe\">\n",
       "  <thead>\n",
       "    <tr style=\"text-align: right;\">\n",
       "      <th></th>\n",
       "      <th>dt</th>\n",
       "      <th>source</th>\n",
       "      <th>domain</th>\n",
       "      <th>url</th>\n",
       "      <th>title</th>\n",
       "      <th>summary</th>\n",
       "      <th>image</th>\n",
       "      <th>brief</th>\n",
       "      <th>body</th>\n",
       "      <th>raw_page</th>\n",
       "      <th>from</th>\n",
       "    </tr>\n",
       "  </thead>\n",
       "  <tbody>\n",
       "    <tr>\n",
       "      <th>0</th>\n",
       "      <td>前天 11:26</td>\n",
       "      <td>天下徽州</td>\n",
       "      <td>NaN</td>\n",
       "      <td>http://www.517huizhou.com/forum.php?mod=viewth...</td>\n",
       "      <td>给古建筑穿上隐形的铠甲</td>\n",
       "      <td>NaN</td>\n",
       "      <td>NaN</td>\n",
       "      <td>NaN</td>\n",
       "      <td>NaN</td>\n",
       "      <td>NaN</td>\n",
       "      <td>NaN</td>\n",
       "    </tr>\n",
       "    <tr>\n",
       "      <th>1</th>\n",
       "      <td>2016-5-15</td>\n",
       "      <td>天下徽州</td>\n",
       "      <td>NaN</td>\n",
       "      <td>http://www.517huizhou.com/forum.php?mod=viewth...</td>\n",
       "      <td>奈何我很无聊！</td>\n",
       "      <td>NaN</td>\n",
       "      <td>NaN</td>\n",
       "      <td>NaN</td>\n",
       "      <td>NaN</td>\n",
       "      <td>NaN</td>\n",
       "      <td>NaN</td>\n",
       "    </tr>\n",
       "    <tr>\n",
       "      <th>2</th>\n",
       "      <td>2016-5-15</td>\n",
       "      <td>天下徽州</td>\n",
       "      <td>NaN</td>\n",
       "      <td>http://www.517huizhou.com/forum.php?mod=viewth...</td>\n",
       "      <td>好无聊！</td>\n",
       "      <td>NaN</td>\n",
       "      <td>NaN</td>\n",
       "      <td>NaN</td>\n",
       "      <td>NaN</td>\n",
       "      <td>NaN</td>\n",
       "      <td>NaN</td>\n",
       "    </tr>\n",
       "    <tr>\n",
       "      <th>3</th>\n",
       "      <td>2016-5-15</td>\n",
       "      <td>天下徽州</td>\n",
       "      <td>NaN</td>\n",
       "      <td>http://www.517huizhou.com/forum.php?mod=viewth...</td>\n",
       "      <td>好无聊哦！</td>\n",
       "      <td>NaN</td>\n",
       "      <td>NaN</td>\n",
       "      <td>NaN</td>\n",
       "      <td>NaN</td>\n",
       "      <td>NaN</td>\n",
       "      <td>NaN</td>\n",
       "    </tr>\n",
       "    <tr>\n",
       "      <th>4</th>\n",
       "      <td>2015-12-24</td>\n",
       "      <td>天下徽州</td>\n",
       "      <td>NaN</td>\n",
       "      <td>http://www.517huizhou.com/forum.php?mod=viewth...</td>\n",
       "      <td>浅析徽州明清民居天井与庭院文化特征(三)</td>\n",
       "      <td>NaN</td>\n",
       "      <td>NaN</td>\n",
       "      <td>NaN</td>\n",
       "      <td>NaN</td>\n",
       "      <td>NaN</td>\n",
       "      <td>NaN</td>\n",
       "    </tr>\n",
       "  </tbody>\n",
       "</table>\n",
       "</div>"
      ],
      "text/plain": [
       "           dt source  domain  \\\n",
       "0    前天 11:26   天下徽州     NaN   \n",
       "1   2016-5-15   天下徽州     NaN   \n",
       "2   2016-5-15   天下徽州     NaN   \n",
       "3   2016-5-15   天下徽州     NaN   \n",
       "4  2015-12-24   天下徽州     NaN   \n",
       "\n",
       "                                                 url                 title  \\\n",
       "0  http://www.517huizhou.com/forum.php?mod=viewth...           给古建筑穿上隐形的铠甲   \n",
       "1  http://www.517huizhou.com/forum.php?mod=viewth...               奈何我很无聊！   \n",
       "2  http://www.517huizhou.com/forum.php?mod=viewth...                  好无聊！   \n",
       "3  http://www.517huizhou.com/forum.php?mod=viewth...                 好无聊哦！   \n",
       "4  http://www.517huizhou.com/forum.php?mod=viewth...  浅析徽州明清民居天井与庭院文化特征(三)   \n",
       "\n",
       "   summary  image  brief  body  raw_page  from  \n",
       "0      NaN    NaN    NaN   NaN       NaN   NaN  \n",
       "1      NaN    NaN    NaN   NaN       NaN   NaN  \n",
       "2      NaN    NaN    NaN   NaN       NaN   NaN  \n",
       "3      NaN    NaN    NaN   NaN       NaN   NaN  \n",
       "4      NaN    NaN    NaN   NaN       NaN   NaN  "
      ]
     },
     "execution_count": 65,
     "metadata": {},
     "output_type": "execute_result"
    }
   ],
   "source": [
    "df_check.head()"
   ]
  },
  {
   "cell_type": "code",
   "execution_count": 66,
   "metadata": {
    "collapsed": false
   },
   "outputs": [
    {
     "name": "stdout",
     "output_type": "stream",
     "text": [
      "<class 'pandas.core.frame.DataFrame'>\n",
      "Int64Index: 170 entries, 0 to 169\n",
      "Data columns (total 11 columns):\n",
      "dt          170 non-null object\n",
      "source      170 non-null object\n",
      "domain      0 non-null float64\n",
      "url         170 non-null object\n",
      "title       170 non-null object\n",
      "summary     0 non-null float64\n",
      "image       0 non-null float64\n",
      "brief       0 non-null float64\n",
      "body        0 non-null float64\n",
      "raw_page    0 non-null float64\n",
      "from        0 non-null float64\n",
      "dtypes: float64(7), object(4)\n",
      "memory usage: 15.9+ KB\n"
     ]
    }
   ],
   "source": [
    "df_check.info()"
   ]
  },
  {
   "cell_type": "code",
   "execution_count": 67,
   "metadata": {
    "collapsed": true
   },
   "outputs": [],
   "source": [
    "def url_get(url):\n",
    "    print url\n",
    "    browser.get(url)\n",
    "    time.sleep(5)\n",
    "    return browser.page_source"
   ]
  },
  {
   "cell_type": "code",
   "execution_count": 70,
   "metadata": {
    "collapsed": false
   },
   "outputs": [
    {
     "name": "stdout",
     "output_type": "stream",
     "text": [
      "http://www.guhuizhou.com/forum.php?mod=viewthread&tid=299&extra=page%3D1\n",
      "http://www.guhuizhou.com/forum.php?mod=viewthread&tid=285&extra=page%3D1\n",
      "http://www.guhuizhou.com/forum.php?mod=viewthread&tid=284&extra=page%3D1\n",
      "http://www.guhuizhou.com/forum.php?mod=viewthread&tid=283&extra=page%3D1\n",
      "http://www.guhuizhou.com/forum.php?mod=viewthread&tid=180&extra=page%3D1\n",
      "http://www.guhuizhou.com/forum.php?mod=viewthread&tid=179&extra=page%3D1\n",
      "http://www.guhuizhou.com/forum.php?mod=viewthread&tid=178&extra=page%3D1\n",
      "http://www.guhuizhou.com/forum.php?mod=viewthread&tid=177&extra=page%3D1\n",
      "http://www.guhuizhou.com/forum.php?mod=viewthread&tid=176&extra=page%3D1\n",
      "http://www.guhuizhou.com/forum.php?mod=viewthread&tid=175&extra=page%3D1\n",
      "http://www.guhuizhou.com/forum.php?mod=viewthread&tid=174&extra=page%3D1\n",
      "http://www.guhuizhou.com/forum.php?mod=viewthread&tid=173&extra=page%3D1\n",
      "http://www.guhuizhou.com/forum.php?mod=viewthread&tid=172&extra=page%3D1\n",
      "http://www.guhuizhou.com/forum.php?mod=viewthread&tid=171&extra=page%3D1\n",
      "http://www.guhuizhou.com/forum.php?mod=viewthread&tid=170&extra=page%3D1\n",
      "http://www.guhuizhou.com/forum.php?mod=viewthread&tid=169&extra=page%3D1\n",
      "http://www.guhuizhou.com/forum.php?mod=viewthread&tid=168&extra=page%3D1\n",
      "http://www.guhuizhou.com/forum.php?mod=viewthread&tid=167&extra=page%3D1\n",
      "http://www.guhuizhou.com/forum.php?mod=viewthread&tid=166&extra=page%3D1\n",
      "http://www.guhuizhou.com/forum.php?mod=viewthread&tid=165&extra=page%3D1\n",
      "http://www.guhuizhou.com/forum.php?mod=viewthread&tid=164&extra=page%3D2\n",
      "http://www.guhuizhou.com/forum.php?mod=viewthread&tid=163&extra=page%3D2\n",
      "http://www.guhuizhou.com/forum.php?mod=viewthread&tid=162&extra=page%3D2\n",
      "http://www.guhuizhou.com/forum.php?mod=viewthread&tid=161&extra=page%3D2\n",
      "http://www.guhuizhou.com/forum.php?mod=viewthread&tid=160&extra=page%3D2\n",
      "http://www.guhuizhou.com/forum.php?mod=viewthread&tid=159&extra=page%3D2\n",
      "http://www.guhuizhou.com/forum.php?mod=viewthread&tid=158&extra=page%3D2\n",
      "http://www.guhuizhou.com/forum.php?mod=viewthread&tid=157&extra=page%3D2\n",
      "http://www.guhuizhou.com/forum.php?mod=viewthread&tid=156&extra=page%3D2\n",
      "http://www.guhuizhou.com/forum.php?mod=viewthread&tid=155&extra=page%3D2\n",
      "http://www.guhuizhou.com/forum.php?mod=viewthread&tid=154&extra=page%3D2\n",
      "http://www.guhuizhou.com/forum.php?mod=viewthread&tid=153&extra=page%3D2\n",
      "http://www.guhuizhou.com/forum.php?mod=viewthread&tid=152&extra=page%3D2\n",
      "http://www.guhuizhou.com/forum.php?mod=viewthread&tid=151&extra=page%3D2\n",
      "http://www.guhuizhou.com/forum.php?mod=viewthread&tid=150&extra=page%3D2\n",
      "http://www.guhuizhou.com/forum.php?mod=viewthread&tid=149&extra=page%3D2\n",
      "http://www.guhuizhou.com/forum.php?mod=viewthread&tid=148&extra=page%3D2\n",
      "http://www.guhuizhou.com/forum.php?mod=viewthread&tid=147&extra=page%3D2\n",
      "http://www.guhuizhou.com/forum.php?mod=viewthread&tid=146&extra=page%3D2\n",
      "http://www.guhuizhou.com/forum.php?mod=viewthread&tid=145&extra=page%3D2\n",
      "http://www.guhuizhou.com/forum.php?mod=viewthread&tid=144&extra=page%3D3\n",
      "http://www.guhuizhou.com/forum.php?mod=viewthread&tid=143&extra=page%3D3\n",
      "http://www.guhuizhou.com/forum.php?mod=viewthread&tid=142&extra=page%3D3\n",
      "http://www.guhuizhou.com/forum.php?mod=viewthread&tid=141&extra=page%3D3\n",
      "http://www.guhuizhou.com/forum.php?mod=viewthread&tid=140&extra=page%3D3\n",
      "http://www.guhuizhou.com/forum.php?mod=viewthread&tid=139&extra=page%3D3\n",
      "http://www.guhuizhou.com/forum.php?mod=viewthread&tid=138&extra=page%3D3\n",
      "http://www.guhuizhou.com/forum.php?mod=viewthread&tid=137&extra=page%3D3\n",
      "http://www.guhuizhou.com/forum.php?mod=viewthread&tid=136&extra=page%3D3\n",
      "http://www.guhuizhou.com/forum.php?mod=viewthread&tid=135&extra=page%3D3\n",
      "http://www.guhuizhou.com/forum.php?mod=viewthread&tid=134&extra=page%3D3\n",
      "http://www.guhuizhou.com/forum.php?mod=viewthread&tid=133&extra=page%3D3\n",
      "http://www.guhuizhou.com/forum.php?mod=viewthread&tid=132&extra=page%3D3\n",
      "http://www.guhuizhou.com/forum.php?mod=viewthread&tid=131&extra=page%3D3\n",
      "http://www.guhuizhou.com/forum.php?mod=viewthread&tid=130&extra=page%3D3\n",
      "http://www.guhuizhou.com/forum.php?mod=viewthread&tid=129&extra=page%3D3\n",
      "http://www.guhuizhou.com/forum.php?mod=viewthread&tid=128&extra=page%3D3\n",
      "http://www.guhuizhou.com/forum.php?mod=viewthread&tid=127&extra=page%3D3\n",
      "http://www.guhuizhou.com/forum.php?mod=viewthread&tid=126&extra=page%3D3\n",
      "http://www.guhuizhou.com/forum.php?mod=viewthread&tid=124&extra=page%3D3\n",
      "http://www.guhuizhou.com/forum.php?mod=viewthread&tid=123&extra=page%3D4\n",
      "http://www.guhuizhou.com/forum.php?mod=viewthread&tid=94&extra=page%3D4\n",
      "http://www.guhuizhou.com/forum.php?mod=viewthread&tid=92&extra=page%3D4\n",
      "http://www.guhuizhou.com/forum.php?mod=viewthread&tid=95&extra=page%3D4\n",
      "http://www.guhuizhou.com/forum.php?mod=viewthread&tid=96&extra=page%3D4\n",
      "http://www.guhuizhou.com/forum.php?mod=viewthread&tid=93&extra=page%3D4\n",
      "http://www.guhuizhou.com/forum.php?mod=viewthread&tid=91&extra=page%3D4\n",
      "http://www.guhuizhou.com/forum.php?mod=viewthread&tid=90&extra=page%3D4\n",
      "http://www.guhuizhou.com/forum.php?mod=viewthread&tid=89&extra=page%3D4\n",
      "http://www.guhuizhou.com/forum.php?mod=viewthread&tid=88&extra=page%3D4\n",
      "http://www.guhuizhou.com/forum.php?mod=viewthread&tid=87&extra=page%3D4\n",
      "http://www.guhuizhou.com/forum.php?mod=viewthread&tid=250&extra=page%3D1\n",
      "http://www.guhuizhou.com/forum.php?mod=viewthread&tid=235&extra=page%3D1\n",
      "http://www.guhuizhou.com/forum.php?mod=viewthread&tid=234&extra=page%3D1\n",
      "http://www.guhuizhou.com/forum.php?mod=viewthread&tid=272&extra=page%3D1\n",
      "http://www.guhuizhou.com/forum.php?mod=viewthread&tid=271&extra=page%3D1\n",
      "http://www.guhuizhou.com/forum.php?mod=viewthread&tid=270&extra=page%3D1\n",
      "http://www.guhuizhou.com/forum.php?mod=viewthread&tid=269&extra=page%3D1\n",
      "http://www.guhuizhou.com/forum.php?mod=viewthread&tid=268&extra=page%3D1\n",
      "http://www.guhuizhou.com/forum.php?mod=viewthread&tid=267&extra=page%3D1\n",
      "http://www.guhuizhou.com/forum.php?mod=viewthread&tid=266&extra=page%3D1\n",
      "http://www.guhuizhou.com/forum.php?mod=viewthread&tid=265&extra=page%3D1\n",
      "http://www.guhuizhou.com/forum.php?mod=viewthread&tid=264&extra=page%3D1\n",
      "http://www.guhuizhou.com/forum.php?mod=viewthread&tid=263&extra=page%3D1\n",
      "http://www.guhuizhou.com/forum.php?mod=viewthread&tid=262&extra=page%3D1\n",
      "http://www.guhuizhou.com/forum.php?mod=viewthread&tid=261&extra=page%3D1\n",
      "http://www.guhuizhou.com/forum.php?mod=viewthread&tid=260&extra=page%3D1\n",
      "http://www.guhuizhou.com/forum.php?mod=viewthread&tid=258&extra=page%3D1\n",
      "http://www.guhuizhou.com/forum.php?mod=viewthread&tid=257&extra=page%3D1\n",
      "http://www.guhuizhou.com/forum.php?mod=viewthread&tid=256&extra=page%3D1\n",
      "http://www.guhuizhou.com/forum.php?mod=viewthread&tid=255&extra=page%3D1\n",
      "http://www.guhuizhou.com/forum.php?mod=viewthread&tid=254&extra=page%3D1\n",
      "http://www.guhuizhou.com/forum.php?mod=viewthread&tid=253&extra=page%3D1\n",
      "http://www.guhuizhou.com/forum.php?mod=viewthread&tid=252&extra=page%3D1\n",
      "http://www.guhuizhou.com/forum.php?mod=viewthread&tid=251&extra=page%3D2\n",
      "http://www.guhuizhou.com/forum.php?mod=viewthread&tid=247&extra=page%3D2\n",
      "http://www.guhuizhou.com/forum.php?mod=viewthread&tid=246&extra=page%3D2\n",
      "http://www.guhuizhou.com/forum.php?mod=viewthread&tid=245&extra=page%3D2\n",
      "http://www.guhuizhou.com/forum.php?mod=viewthread&tid=244&extra=page%3D2\n",
      "http://www.guhuizhou.com/forum.php?mod=viewthread&tid=243&extra=page%3D2\n",
      "http://www.guhuizhou.com/forum.php?mod=viewthread&tid=119&extra=page%3D2\n",
      "http://www.guhuizhou.com/forum.php?mod=viewthread&tid=118&extra=page%3D2\n",
      "http://www.guhuizhou.com/forum.php?mod=viewthread&tid=117&extra=page%3D2\n",
      "http://www.guhuizhou.com/forum.php?mod=viewthread&tid=232&extra=page%3D1\n",
      "http://www.guhuizhou.com/forum.php?mod=viewthread&tid=233&extra=page%3D1\n",
      "http://www.guhuizhou.com/forum.php?mod=viewthread&tid=231&extra=page%3D1\n",
      "http://www.guhuizhou.com/forum.php?mod=viewthread&tid=230&extra=page%3D1\n",
      "http://www.guhuizhou.com/forum.php?mod=viewthread&tid=229&extra=page%3D1\n",
      "http://www.guhuizhou.com/forum.php?mod=viewthread&tid=228&extra=page%3D1\n",
      "http://www.guhuizhou.com/forum.php?mod=viewthread&tid=227&extra=page%3D1\n",
      "http://www.guhuizhou.com/forum.php?mod=viewthread&tid=226&extra=page%3D1\n",
      "http://www.guhuizhou.com/forum.php?mod=viewthread&tid=225&extra=page%3D1\n",
      "http://www.guhuizhou.com/forum.php?mod=viewthread&tid=224&extra=page%3D1\n",
      "http://www.guhuizhou.com/forum.php?mod=viewthread&tid=223&extra=page%3D1\n",
      "http://www.guhuizhou.com/forum.php?mod=viewthread&tid=222&extra=page%3D1\n",
      "http://www.guhuizhou.com/forum.php?mod=viewthread&tid=221&extra=page%3D1\n",
      "http://www.guhuizhou.com/forum.php?mod=viewthread&tid=220&extra=page%3D1\n",
      "http://www.guhuizhou.com/forum.php?mod=viewthread&tid=219&extra=page%3D1\n",
      "http://www.guhuizhou.com/forum.php?mod=viewthread&tid=218&extra=page%3D1\n",
      "http://www.guhuizhou.com/forum.php?mod=viewthread&tid=192&extra=page%3D1\n",
      "http://www.guhuizhou.com/forum.php?mod=viewthread&tid=191&extra=page%3D1\n",
      "http://www.guhuizhou.com/forum.php?mod=viewthread&tid=190&extra=page%3D1\n",
      "http://www.guhuizhou.com/forum.php?mod=viewthread&tid=189&extra=page%3D1\n",
      "http://www.guhuizhou.com/forum.php?mod=viewthread&tid=188&extra=page%3D2\n",
      "http://www.guhuizhou.com/forum.php?mod=viewthread&tid=187&extra=page%3D2\n",
      "http://www.guhuizhou.com/forum.php?mod=viewthread&tid=186&extra=page%3D2\n",
      "http://www.guhuizhou.com/forum.php?mod=viewthread&tid=185&extra=page%3D2\n",
      "http://www.guhuizhou.com/forum.php?mod=viewthread&tid=184&extra=page%3D2\n",
      "http://www.guhuizhou.com/forum.php?mod=viewthread&tid=183&extra=page%3D2\n",
      "http://www.guhuizhou.com/forum.php?mod=viewthread&tid=182&extra=page%3D2\n",
      "http://www.guhuizhou.com/forum.php?mod=viewthread&tid=181&extra=page%3D2\n",
      "http://www.guhuizhou.com/forum.php?mod=viewthread&tid=291&extra=page%3D1\n",
      "http://www.guhuizhou.com/forum.php?mod=viewthread&tid=290&extra=page%3D1\n",
      "http://www.guhuizhou.com/forum.php?mod=viewthread&tid=259&extra=page%3D1\n",
      "http://www.guhuizhou.com/forum.php?mod=viewthread&tid=249&extra=page%3D1\n",
      "http://www.guhuizhou.com/forum.php?mod=viewthread&tid=248&extra=page%3D1\n",
      "http://www.guhuizhou.com/forum.php?mod=viewthread&tid=217&extra=page%3D1\n",
      "http://www.guhuizhou.com/forum.php?mod=viewthread&tid=216&extra=page%3D1\n",
      "http://www.guhuizhou.com/forum.php?mod=viewthread&tid=215&extra=page%3D1\n",
      "http://www.guhuizhou.com/forum.php?mod=viewthread&tid=214&extra=page%3D1\n",
      "http://www.guhuizhou.com/forum.php?mod=viewthread&tid=213&extra=page%3D1\n",
      "http://www.guhuizhou.com/forum.php?mod=viewthread&tid=212&extra=page%3D1\n",
      "http://www.guhuizhou.com/forum.php?mod=viewthread&tid=211&extra=page%3D1\n",
      "http://www.guhuizhou.com/forum.php?mod=viewthread&tid=210&extra=page%3D1\n",
      "http://www.guhuizhou.com/forum.php?mod=viewthread&tid=209&extra=page%3D1\n",
      "http://www.guhuizhou.com/forum.php?mod=viewthread&tid=208&extra=page%3D1\n",
      "http://www.guhuizhou.com/forum.php?mod=viewthread&tid=207&extra=page%3D1\n",
      "http://www.guhuizhou.com/forum.php?mod=viewthread&tid=206&extra=page%3D1\n",
      "http://www.guhuizhou.com/forum.php?mod=viewthread&tid=205&extra=page%3D1\n",
      "http://www.guhuizhou.com/forum.php?mod=viewthread&tid=204&extra=page%3D1\n",
      "http://www.guhuizhou.com/forum.php?mod=viewthread&tid=203&extra=page%3D1\n",
      "http://www.guhuizhou.com/forum.php?mod=viewthread&tid=202&extra=page%3D1\n",
      "http://www.guhuizhou.com/forum.php?mod=viewthread&tid=201&extra=page%3D1\n",
      "http://www.guhuizhou.com/forum.php?mod=viewthread&tid=200&extra=page%3D1\n",
      "http://www.guhuizhou.com/forum.php?mod=viewthread&tid=199&extra=page%3D1\n",
      "http://www.guhuizhou.com/forum.php?mod=viewthread&tid=198&extra=page%3D1\n",
      "http://www.guhuizhou.com/forum.php?mod=viewthread&tid=197&extra=page%3D2\n",
      "http://www.guhuizhou.com/forum.php?mod=viewthread&tid=196&extra=page%3D2\n",
      "http://www.guhuizhou.com/forum.php?mod=viewthread&tid=195&extra=page%3D2\n",
      "http://www.guhuizhou.com/forum.php?mod=viewthread&tid=194&extra=page%3D2\n",
      "http://www.guhuizhou.com/forum.php?mod=viewthread&tid=193&extra=page%3D2\n",
      "http://www.guhuizhou.com/forum.php?mod=viewthread&tid=97&extra=page%3D2\n",
      "http://www.guhuizhou.com/forum.php?mod=viewthread&tid=98&extra=page%3D2\n",
      "http://www.guhuizhou.com/forum.php?mod=viewthread&tid=242&extra=page%3D1\n",
      "http://www.guhuizhou.com/forum.php?mod=viewthread&tid=241&extra=page%3D1\n",
      "http://www.guhuizhou.com/forum.php?mod=viewthread&tid=240&extra=page%3D1\n",
      "http://www.guhuizhou.com/forum.php?mod=viewthread&tid=239&extra=page%3D1\n",
      "http://www.guhuizhou.com/forum.php?mod=viewthread&tid=238&extra=page%3D1\n",
      "http://www.guhuizhou.com/forum.php?mod=viewthread&tid=237&extra=page%3D1\n",
      "http://www.guhuizhou.com/forum.php?mod=viewthread&tid=236&extra=page%3D1\n"
     ]
    }
   ],
   "source": [
    "df['dt'] = df_check['dt']\n",
    "df['source'] = df_check['source']\n",
    "df['url'] = df_check['url'].str.replace('www.517huizhou.com', 'www.guhuizhou.com')\n",
    "df['title'] = df_check['title']\n",
    "df['raw_page'] = df.url.map(lambda x: url_get(x) )  "
   ]
  },
  {
   "cell_type": "code",
   "execution_count": 165,
   "metadata": {
    "collapsed": true
   },
   "outputs": [],
   "source": [
    "df['url'] = 'http://' + df['url']"
   ]
  },
  {
   "cell_type": "code",
   "execution_count": 71,
   "metadata": {
    "collapsed": false
   },
   "outputs": [
    {
     "data": {
      "text/html": [
       "<div>\n",
       "<table border=\"1\" class=\"dataframe\">\n",
       "  <thead>\n",
       "    <tr style=\"text-align: right;\">\n",
       "      <th></th>\n",
       "      <th>dt</th>\n",
       "      <th>source</th>\n",
       "      <th>domain</th>\n",
       "      <th>url</th>\n",
       "      <th>title</th>\n",
       "      <th>summary</th>\n",
       "      <th>image</th>\n",
       "      <th>brief</th>\n",
       "      <th>body</th>\n",
       "      <th>raw_page</th>\n",
       "      <th>from</th>\n",
       "    </tr>\n",
       "  </thead>\n",
       "  <tbody>\n",
       "    <tr>\n",
       "      <th>0</th>\n",
       "      <td>前天 11:26</td>\n",
       "      <td>天下徽州</td>\n",
       "      <td></td>\n",
       "      <td>http://www.guhuizhou.com/forum.php?mod=viewthr...</td>\n",
       "      <td>给古建筑穿上隐形的铠甲</td>\n",
       "      <td></td>\n",
       "      <td></td>\n",
       "      <td></td>\n",
       "      <td></td>\n",
       "      <td>&lt;html xmlns=\"http://www.w3.org/1999/xhtml\"&gt;&lt;he...</td>\n",
       "      <td></td>\n",
       "    </tr>\n",
       "    <tr>\n",
       "      <th>1</th>\n",
       "      <td>2016-5-15</td>\n",
       "      <td>天下徽州</td>\n",
       "      <td></td>\n",
       "      <td>http://www.guhuizhou.com/forum.php?mod=viewthr...</td>\n",
       "      <td>奈何我很无聊！</td>\n",
       "      <td></td>\n",
       "      <td></td>\n",
       "      <td></td>\n",
       "      <td></td>\n",
       "      <td>&lt;html xmlns=\"http://www.w3.org/1999/xhtml\"&gt;&lt;he...</td>\n",
       "      <td></td>\n",
       "    </tr>\n",
       "    <tr>\n",
       "      <th>2</th>\n",
       "      <td>2016-5-15</td>\n",
       "      <td>天下徽州</td>\n",
       "      <td></td>\n",
       "      <td>http://www.guhuizhou.com/forum.php?mod=viewthr...</td>\n",
       "      <td>好无聊！</td>\n",
       "      <td></td>\n",
       "      <td></td>\n",
       "      <td></td>\n",
       "      <td></td>\n",
       "      <td>&lt;html xmlns=\"http://www.w3.org/1999/xhtml\"&gt;&lt;he...</td>\n",
       "      <td></td>\n",
       "    </tr>\n",
       "    <tr>\n",
       "      <th>3</th>\n",
       "      <td>2016-5-15</td>\n",
       "      <td>天下徽州</td>\n",
       "      <td></td>\n",
       "      <td>http://www.guhuizhou.com/forum.php?mod=viewthr...</td>\n",
       "      <td>好无聊哦！</td>\n",
       "      <td></td>\n",
       "      <td></td>\n",
       "      <td></td>\n",
       "      <td></td>\n",
       "      <td>&lt;html xmlns=\"http://www.w3.org/1999/xhtml\"&gt;&lt;he...</td>\n",
       "      <td></td>\n",
       "    </tr>\n",
       "    <tr>\n",
       "      <th>4</th>\n",
       "      <td>2015-12-24</td>\n",
       "      <td>天下徽州</td>\n",
       "      <td></td>\n",
       "      <td>http://www.guhuizhou.com/forum.php?mod=viewthr...</td>\n",
       "      <td>浅析徽州明清民居天井与庭院文化特征(三)</td>\n",
       "      <td></td>\n",
       "      <td></td>\n",
       "      <td></td>\n",
       "      <td></td>\n",
       "      <td>&lt;html xmlns=\"http://www.w3.org/1999/xhtml\"&gt;&lt;he...</td>\n",
       "      <td></td>\n",
       "    </tr>\n",
       "  </tbody>\n",
       "</table>\n",
       "</div>"
      ],
      "text/plain": [
       "           dt source domain  \\\n",
       "0    前天 11:26   天下徽州          \n",
       "1   2016-5-15   天下徽州          \n",
       "2   2016-5-15   天下徽州          \n",
       "3   2016-5-15   天下徽州          \n",
       "4  2015-12-24   天下徽州          \n",
       "\n",
       "                                                 url                 title  \\\n",
       "0  http://www.guhuizhou.com/forum.php?mod=viewthr...           给古建筑穿上隐形的铠甲   \n",
       "1  http://www.guhuizhou.com/forum.php?mod=viewthr...               奈何我很无聊！   \n",
       "2  http://www.guhuizhou.com/forum.php?mod=viewthr...                  好无聊！   \n",
       "3  http://www.guhuizhou.com/forum.php?mod=viewthr...                 好无聊哦！   \n",
       "4  http://www.guhuizhou.com/forum.php?mod=viewthr...  浅析徽州明清民居天井与庭院文化特征(三)   \n",
       "\n",
       "  summary image brief body                                           raw_page  \\\n",
       "0                           <html xmlns=\"http://www.w3.org/1999/xhtml\"><he...   \n",
       "1                           <html xmlns=\"http://www.w3.org/1999/xhtml\"><he...   \n",
       "2                           <html xmlns=\"http://www.w3.org/1999/xhtml\"><he...   \n",
       "3                           <html xmlns=\"http://www.w3.org/1999/xhtml\"><he...   \n",
       "4                           <html xmlns=\"http://www.w3.org/1999/xhtml\"><he...   \n",
       "\n",
       "  from  \n",
       "0       \n",
       "1       \n",
       "2       \n",
       "3       \n",
       "4       "
      ]
     },
     "execution_count": 71,
     "metadata": {},
     "output_type": "execute_result"
    }
   ],
   "source": [
    "df.head()"
   ]
  },
  {
   "cell_type": "code",
   "execution_count": 152,
   "metadata": {
    "collapsed": true
   },
   "outputs": [],
   "source": [
    "characters_num = 40\n",
    "def get_brief(txt):\n",
    "    soup = BeautifulSoup(txt)\n",
    "    sub_text = soup.findAll('div', {'class':'article_contents'})\n",
    "    for item in sub_text:\n",
    "        t20 = item.text\n",
    "\n",
    "    idx = 2\n",
    "    t30 = t20.split(u'\\n')\n",
    "    \n",
    "    cnt = 0\n",
    "    tt = ''\n",
    "    idx = 0\n",
    "    for k in range(0, len(t30)):\n",
    "        if (len(t30[k]) > 40 and len(tt) < 40):\n",
    "            idx = k\n",
    "            tt = t30[k].strip()\n",
    "    \n",
    "    if len(tt) == 0:\n",
    "        tt = t20.strip()\n",
    "                \n",
    "    #print idx\n",
    "\n",
    "    t40 = tt[0:characters_num]\n",
    "    t50 = t40.encode('utf-8') + '..'\n",
    "    #print idx, t40\n",
    "    return t50"
   ]
  },
  {
   "cell_type": "code",
   "execution_count": 158,
   "metadata": {
    "collapsed": false
   },
   "outputs": [],
   "source": [
    "df['brief'] = df.raw_page.map(lambda x: get_brief(x) )  "
   ]
  },
  {
   "cell_type": "code",
   "execution_count": 154,
   "metadata": {
    "collapsed": true
   },
   "outputs": [],
   "source": [
    "def get_body(txt):\n",
    "    soup = BeautifulSoup(txt)\n",
    "    sub_text = soup.findAll('div', {'class':'article_contents'})\n",
    "    for item in sub_text:\n",
    "        t20 = item.text\n",
    "\n",
    "    return t20"
   ]
  },
  {
   "cell_type": "code",
   "execution_count": 159,
   "metadata": {
    "collapsed": true
   },
   "outputs": [],
   "source": [
    "df['body'] = df.raw_page.map(lambda x: get_body(x) )  "
   ]
  },
  {
   "cell_type": "markdown",
   "metadata": {},
   "source": [
    "cnt = 0\n",
    "for item in df['brief']:\n",
    "    print cnt, item\n",
    "    cnt += 1"
   ]
  },
  {
   "cell_type": "markdown",
   "metadata": {},
   "source": [
    "cnt = 0\n",
    "for item in df['body']:\n",
    "    print cnt, item\n",
    "    cnt += 1"
   ]
  },
  {
   "cell_type": "markdown",
   "metadata": {},
   "source": [
    "soup = BeautifulSoup(df.loc[527]['raw_page'])\n",
    "sub_text = soup.findAll('div', {'class':'article_contents'})\n",
    "for item in sub_text:\n",
    "    t20 = item.text\n",
    "t30 = t20.split(u'\\n')\n",
    "\n",
    "tt = t20.strip()\n",
    "print len(t30), tt[0:40], t20"
   ]
  },
  {
   "cell_type": "code",
   "execution_count": 161,
   "metadata": {
    "collapsed": false
   },
   "outputs": [
    {
     "data": {
      "text/html": [
       "<div>\n",
       "<table border=\"1\" class=\"dataframe\">\n",
       "  <thead>\n",
       "    <tr style=\"text-align: right;\">\n",
       "      <th></th>\n",
       "      <th>dt</th>\n",
       "      <th>source</th>\n",
       "      <th>domain</th>\n",
       "      <th>url</th>\n",
       "      <th>title</th>\n",
       "      <th>summary</th>\n",
       "      <th>image</th>\n",
       "      <th>brief</th>\n",
       "      <th>body</th>\n",
       "      <th>raw_page</th>\n",
       "      <th>from</th>\n",
       "    </tr>\n",
       "  </thead>\n",
       "  <tbody>\n",
       "    <tr>\n",
       "      <th>0</th>\n",
       "      <td>2016-04-08</td>\n",
       "      <td>徽州文化网</td>\n",
       "      <td>NaN</td>\n",
       "      <td>www.hzwh.com/article.asp?id=2538</td>\n",
       "      <td>传统徽州仁商义贾践行商君子之道的历史启示</td>\n",
       "      <td>NaN</td>\n",
       "      <td>NaN</td>\n",
       "      <td>全国人大代表、民盟安徽省委副主委、安徽省文联副主席钱念孙先生在《光明日报》201..</td>\n",
       "      <td>传统徽州仁商义贾践行商君子之道的历史启示\\n郗延红\\n全国人大代表、民盟安徽省委副主委、安徽...</td>\n",
       "      <td>&lt;html xmlns=\"http://www.w3.org/1999/xhtml\"&gt;&lt;he...</td>\n",
       "      <td>NaN</td>\n",
       "    </tr>\n",
       "    <tr>\n",
       "      <th>1</th>\n",
       "      <td>2016-04-08</td>\n",
       "      <td>徽州文化网</td>\n",
       "      <td>NaN</td>\n",
       "      <td>www.hzwh.com/article.asp?id=2537</td>\n",
       "      <td>《阅读徽州》第七编“徽州科技”</td>\n",
       "      <td>NaN</td>\n",
       "      <td>NaN</td>\n",
       "      <td>长期以来，得益于灵山秀水自然环境的滋养、兴学重教社会风气的熏染、经世致用治学风格..</td>\n",
       "      <td>《阅读徽州》第七编“徽州科技”（市委市政府通过市社科联组织编写）\\n中国科学技术学大出版社出...</td>\n",
       "      <td>&lt;html xmlns=\"http://www.w3.org/1999/xhtml\"&gt;&lt;he...</td>\n",
       "      <td>NaN</td>\n",
       "    </tr>\n",
       "    <tr>\n",
       "      <th>2</th>\n",
       "      <td>2016-04-08</td>\n",
       "      <td>徽州文化网</td>\n",
       "      <td>NaN</td>\n",
       "      <td>www.hzwh.com/article.asp?id=2536</td>\n",
       "      <td>传统徽商的诚信为本和仁义向善</td>\n",
       "      <td>NaN</td>\n",
       "      <td>NaN</td>\n",
       "      <td>徽州古楹联云“仁中取利真君子/义内求财大丈夫”。这是对传统徽商群体中那些仁商义贾..</td>\n",
       "      <td>传统徽商的诚信为本和仁义向善\\n\\n郗延红\\n徽州古楹联云“仁中取利真君子/义内求财大丈夫”...</td>\n",
       "      <td>&lt;html xmlns=\"http://www.w3.org/1999/xhtml\"&gt;&lt;he...</td>\n",
       "      <td>NaN</td>\n",
       "    </tr>\n",
       "    <tr>\n",
       "      <th>3</th>\n",
       "      <td>2016-04-08</td>\n",
       "      <td>徽州文化网</td>\n",
       "      <td>NaN</td>\n",
       "      <td>www.hzwh.com/article.asp?id=2535</td>\n",
       "      <td>传统徽商的诚信为本和仁义向善</td>\n",
       "      <td>NaN</td>\n",
       "      <td>NaN</td>\n",
       "      <td>徽州古楹联云“仁中取利真君子/义内求财大丈夫”。这是对传统徽商群体中那些仁商义贾..</td>\n",
       "      <td>传统徽商的诚信为本和仁义向善\\n \\n郗延红\\n徽州古楹联云“仁中取利真君子/义内求财大丈夫...</td>\n",
       "      <td>&lt;html xmlns=\"http://www.w3.org/1999/xhtml\"&gt;&lt;he...</td>\n",
       "      <td>NaN</td>\n",
       "    </tr>\n",
       "    <tr>\n",
       "      <th>4</th>\n",
       "      <td>2016-04-08</td>\n",
       "      <td>徽州文化网</td>\n",
       "      <td>NaN</td>\n",
       "      <td>www.hzwh.com/article.asp?id=2534</td>\n",
       "      <td>黟县古城改造重要的是务须保住文教根脉</td>\n",
       "      <td>NaN</td>\n",
       "      <td>NaN</td>\n",
       "      <td>黟县进行古城改造并申报国家级历史文化名城总体方案正在逐步完善，各项工作正在有条不..</td>\n",
       "      <td>黟县古城改造重要的是务须保住文教根脉\\n                         郗...</td>\n",
       "      <td>&lt;html xmlns=\"http://www.w3.org/1999/xhtml\"&gt;&lt;he...</td>\n",
       "      <td>NaN</td>\n",
       "    </tr>\n",
       "  </tbody>\n",
       "</table>\n",
       "</div>"
      ],
      "text/plain": [
       "           dt source domain                               url  \\\n",
       "0  2016-04-08  徽州文化网    NaN  www.hzwh.com/article.asp?id=2538   \n",
       "1  2016-04-08  徽州文化网    NaN  www.hzwh.com/article.asp?id=2537   \n",
       "2  2016-04-08  徽州文化网    NaN  www.hzwh.com/article.asp?id=2536   \n",
       "3  2016-04-08  徽州文化网    NaN  www.hzwh.com/article.asp?id=2535   \n",
       "4  2016-04-08  徽州文化网    NaN  www.hzwh.com/article.asp?id=2534   \n",
       "\n",
       "                  title summary image  \\\n",
       "0  传统徽州仁商义贾践行商君子之道的历史启示     NaN   NaN   \n",
       "1       《阅读徽州》第七编“徽州科技”     NaN   NaN   \n",
       "2        传统徽商的诚信为本和仁义向善     NaN   NaN   \n",
       "3        传统徽商的诚信为本和仁义向善     NaN   NaN   \n",
       "4    黟县古城改造重要的是务须保住文教根脉     NaN   NaN   \n",
       "\n",
       "                                        brief  \\\n",
       "0  全国人大代表、民盟安徽省委副主委、安徽省文联副主席钱念孙先生在《光明日报》201..   \n",
       "1  长期以来，得益于灵山秀水自然环境的滋养、兴学重教社会风气的熏染、经世致用治学风格..   \n",
       "2  徽州古楹联云“仁中取利真君子/义内求财大丈夫”。这是对传统徽商群体中那些仁商义贾..   \n",
       "3  徽州古楹联云“仁中取利真君子/义内求财大丈夫”。这是对传统徽商群体中那些仁商义贾..   \n",
       "4  黟县进行古城改造并申报国家级历史文化名城总体方案正在逐步完善，各项工作正在有条不..   \n",
       "\n",
       "                                                body  \\\n",
       "0  传统徽州仁商义贾践行商君子之道的历史启示\\n郗延红\\n全国人大代表、民盟安徽省委副主委、安徽...   \n",
       "1  《阅读徽州》第七编“徽州科技”（市委市政府通过市社科联组织编写）\\n中国科学技术学大出版社出...   \n",
       "2  传统徽商的诚信为本和仁义向善\\n\\n郗延红\\n徽州古楹联云“仁中取利真君子/义内求财大丈夫”...   \n",
       "3  传统徽商的诚信为本和仁义向善\\n \\n郗延红\\n徽州古楹联云“仁中取利真君子/义内求财大丈夫...   \n",
       "4  黟县古城改造重要的是务须保住文教根脉\\n                         郗...   \n",
       "\n",
       "                                            raw_page from  \n",
       "0  <html xmlns=\"http://www.w3.org/1999/xhtml\"><he...  NaN  \n",
       "1  <html xmlns=\"http://www.w3.org/1999/xhtml\"><he...  NaN  \n",
       "2  <html xmlns=\"http://www.w3.org/1999/xhtml\"><he...  NaN  \n",
       "3  <html xmlns=\"http://www.w3.org/1999/xhtml\"><he...  NaN  \n",
       "4  <html xmlns=\"http://www.w3.org/1999/xhtml\"><he...  NaN  "
      ]
     },
     "execution_count": 161,
     "metadata": {},
     "output_type": "execute_result"
    }
   ],
   "source": [
    "df.head()"
   ]
  },
  {
   "cell_type": "code",
   "execution_count": 127,
   "metadata": {
    "collapsed": false
   },
   "outputs": [
    {
     "data": {
      "text/plain": [
       "'www.hzwh.com/article.asp?id=1347'"
      ]
     },
     "execution_count": 127,
     "metadata": {},
     "output_type": "execute_result"
    }
   ],
   "source": [
    "df.loc[24]['url']"
   ]
  },
  {
   "cell_type": "code",
   "execution_count": 72,
   "metadata": {
    "collapsed": true
   },
   "outputs": [],
   "source": [
    "if(len(df) != 0):\n",
    "    df.to_csv('../data/complete/tianxiahuizhou.csv', encoding='utf-8', index=False)"
   ]
  },
  {
   "cell_type": "code",
   "execution_count": 30,
   "metadata": {
    "collapsed": false
   },
   "outputs": [],
   "source": [
    "if(browser):\n",
    "    browser.quit()"
   ]
  },
  {
   "cell_type": "code",
   "execution_count": 31,
   "metadata": {
    "collapsed": false
   },
   "outputs": [],
   "source": [
    "for item in df['title']:\n",
    "    print item"
   ]
  },
  {
   "cell_type": "code",
   "execution_count": 32,
   "metadata": {
    "collapsed": false
   },
   "outputs": [
    {
     "name": "stdout",
     "output_type": "stream",
     "text": [
      "<class 'pandas.core.frame.DataFrame'>\n",
      "Index: 0 entries\n",
      "Data columns (total 11 columns):\n",
      "dt          0 non-null object\n",
      "source      0 non-null object\n",
      "domain      0 non-null object\n",
      "url         0 non-null object\n",
      "title       0 non-null object\n",
      "summary     0 non-null object\n",
      "image       0 non-null object\n",
      "brief       0 non-null object\n",
      "body        0 non-null object\n",
      "raw_page    0 non-null object\n",
      "from        0 non-null object\n",
      "dtypes: object(11)\n",
      "memory usage: 0.0+ bytes\n"
     ]
    }
   ],
   "source": [
    "df.info()"
   ]
  },
  {
   "cell_type": "code",
   "execution_count": 173,
   "metadata": {
    "collapsed": true
   },
   "outputs": [],
   "source": [
    "df2 = pd.read_csv('../data/complete/hzwh_huixueyuanpu.csv')"
   ]
  },
  {
   "cell_type": "code",
   "execution_count": 174,
   "metadata": {
    "collapsed": false
   },
   "outputs": [
    {
     "data": {
      "text/html": [
       "<div>\n",
       "<table border=\"1\" class=\"dataframe\">\n",
       "  <thead>\n",
       "    <tr style=\"text-align: right;\">\n",
       "      <th></th>\n",
       "      <th>dt</th>\n",
       "      <th>source</th>\n",
       "      <th>domain</th>\n",
       "      <th>url</th>\n",
       "      <th>title</th>\n",
       "      <th>summary</th>\n",
       "      <th>image</th>\n",
       "      <th>brief</th>\n",
       "      <th>body</th>\n",
       "      <th>raw_page</th>\n",
       "      <th>from</th>\n",
       "    </tr>\n",
       "  </thead>\n",
       "  <tbody>\n",
       "    <tr>\n",
       "      <th>0</th>\n",
       "      <td>2016-04-08</td>\n",
       "      <td>徽州文化网</td>\n",
       "      <td>NaN</td>\n",
       "      <td>http://www.hzwh.com/article.asp?id=2538</td>\n",
       "      <td>传统徽州仁商义贾践行商君子之道的历史启示</td>\n",
       "      <td>NaN</td>\n",
       "      <td>NaN</td>\n",
       "      <td>全国人大代表、民盟安徽省委副主委、安徽省文联副主席钱念孙先生在《光明日报》201..</td>\n",
       "      <td>传统徽州仁商义贾践行商君子之道的历史启示\\n郗延红\\n全国人大代表、民盟安徽省委副主委、安徽...</td>\n",
       "      <td>&lt;html xmlns=\"http://www.w3.org/1999/xhtml\"&gt;&lt;he...</td>\n",
       "      <td>NaN</td>\n",
       "    </tr>\n",
       "    <tr>\n",
       "      <th>1</th>\n",
       "      <td>2016-04-08</td>\n",
       "      <td>徽州文化网</td>\n",
       "      <td>NaN</td>\n",
       "      <td>http://www.hzwh.com/article.asp?id=2537</td>\n",
       "      <td>《阅读徽州》第七编“徽州科技”</td>\n",
       "      <td>NaN</td>\n",
       "      <td>NaN</td>\n",
       "      <td>长期以来，得益于灵山秀水自然环境的滋养、兴学重教社会风气的熏染、经世致用治学风格..</td>\n",
       "      <td>《阅读徽州》第七编“徽州科技”（市委市政府通过市社科联组织编写）\\n中国科学技术学大出版社出...</td>\n",
       "      <td>&lt;html xmlns=\"http://www.w3.org/1999/xhtml\"&gt;&lt;he...</td>\n",
       "      <td>NaN</td>\n",
       "    </tr>\n",
       "    <tr>\n",
       "      <th>2</th>\n",
       "      <td>2016-04-08</td>\n",
       "      <td>徽州文化网</td>\n",
       "      <td>NaN</td>\n",
       "      <td>http://www.hzwh.com/article.asp?id=2536</td>\n",
       "      <td>传统徽商的诚信为本和仁义向善</td>\n",
       "      <td>NaN</td>\n",
       "      <td>NaN</td>\n",
       "      <td>徽州古楹联云“仁中取利真君子/义内求财大丈夫”。这是对传统徽商群体中那些仁商义贾..</td>\n",
       "      <td>传统徽商的诚信为本和仁义向善\\n\\n郗延红\\n徽州古楹联云“仁中取利真君子/义内求财大丈夫”...</td>\n",
       "      <td>&lt;html xmlns=\"http://www.w3.org/1999/xhtml\"&gt;&lt;he...</td>\n",
       "      <td>NaN</td>\n",
       "    </tr>\n",
       "    <tr>\n",
       "      <th>3</th>\n",
       "      <td>2016-04-08</td>\n",
       "      <td>徽州文化网</td>\n",
       "      <td>NaN</td>\n",
       "      <td>http://www.hzwh.com/article.asp?id=2535</td>\n",
       "      <td>传统徽商的诚信为本和仁义向善</td>\n",
       "      <td>NaN</td>\n",
       "      <td>NaN</td>\n",
       "      <td>徽州古楹联云“仁中取利真君子/义内求财大丈夫”。这是对传统徽商群体中那些仁商义贾..</td>\n",
       "      <td>传统徽商的诚信为本和仁义向善\\n \\n郗延红\\n徽州古楹联云“仁中取利真君子/义内求财大丈夫...</td>\n",
       "      <td>&lt;html xmlns=\"http://www.w3.org/1999/xhtml\"&gt;&lt;he...</td>\n",
       "      <td>NaN</td>\n",
       "    </tr>\n",
       "    <tr>\n",
       "      <th>4</th>\n",
       "      <td>2016-04-08</td>\n",
       "      <td>徽州文化网</td>\n",
       "      <td>NaN</td>\n",
       "      <td>http://www.hzwh.com/article.asp?id=2534</td>\n",
       "      <td>黟县古城改造重要的是务须保住文教根脉</td>\n",
       "      <td>NaN</td>\n",
       "      <td>NaN</td>\n",
       "      <td>黟县进行古城改造并申报国家级历史文化名城总体方案正在逐步完善，各项工作正在有条不..</td>\n",
       "      <td>黟县古城改造重要的是务须保住文教根脉\\n                         郗...</td>\n",
       "      <td>&lt;html xmlns=\"http://www.w3.org/1999/xhtml\"&gt;&lt;he...</td>\n",
       "      <td>NaN</td>\n",
       "    </tr>\n",
       "  </tbody>\n",
       "</table>\n",
       "</div>"
      ],
      "text/plain": [
       "           dt source  domain                                      url  \\\n",
       "0  2016-04-08  徽州文化网     NaN  http://www.hzwh.com/article.asp?id=2538   \n",
       "1  2016-04-08  徽州文化网     NaN  http://www.hzwh.com/article.asp?id=2537   \n",
       "2  2016-04-08  徽州文化网     NaN  http://www.hzwh.com/article.asp?id=2536   \n",
       "3  2016-04-08  徽州文化网     NaN  http://www.hzwh.com/article.asp?id=2535   \n",
       "4  2016-04-08  徽州文化网     NaN  http://www.hzwh.com/article.asp?id=2534   \n",
       "\n",
       "                  title  summary  image  \\\n",
       "0  传统徽州仁商义贾践行商君子之道的历史启示      NaN    NaN   \n",
       "1       《阅读徽州》第七编“徽州科技”      NaN    NaN   \n",
       "2        传统徽商的诚信为本和仁义向善      NaN    NaN   \n",
       "3        传统徽商的诚信为本和仁义向善      NaN    NaN   \n",
       "4    黟县古城改造重要的是务须保住文教根脉      NaN    NaN   \n",
       "\n",
       "                                        brief  \\\n",
       "0  全国人大代表、民盟安徽省委副主委、安徽省文联副主席钱念孙先生在《光明日报》201..   \n",
       "1  长期以来，得益于灵山秀水自然环境的滋养、兴学重教社会风气的熏染、经世致用治学风格..   \n",
       "2  徽州古楹联云“仁中取利真君子/义内求财大丈夫”。这是对传统徽商群体中那些仁商义贾..   \n",
       "3  徽州古楹联云“仁中取利真君子/义内求财大丈夫”。这是对传统徽商群体中那些仁商义贾..   \n",
       "4  黟县进行古城改造并申报国家级历史文化名城总体方案正在逐步完善，各项工作正在有条不..   \n",
       "\n",
       "                                                body  \\\n",
       "0  传统徽州仁商义贾践行商君子之道的历史启示\\n郗延红\\n全国人大代表、民盟安徽省委副主委、安徽...   \n",
       "1  《阅读徽州》第七编“徽州科技”（市委市政府通过市社科联组织编写）\\n中国科学技术学大出版社出...   \n",
       "2  传统徽商的诚信为本和仁义向善\\n\\n郗延红\\n徽州古楹联云“仁中取利真君子/义内求财大丈夫”...   \n",
       "3  传统徽商的诚信为本和仁义向善\\n \\n郗延红\\n徽州古楹联云“仁中取利真君子/义内求财大丈夫...   \n",
       "4  黟县古城改造重要的是务须保住文教根脉\\n                         郗...   \n",
       "\n",
       "                                            raw_page  from  \n",
       "0  <html xmlns=\"http://www.w3.org/1999/xhtml\"><he...   NaN  \n",
       "1  <html xmlns=\"http://www.w3.org/1999/xhtml\"><he...   NaN  \n",
       "2  <html xmlns=\"http://www.w3.org/1999/xhtml\"><he...   NaN  \n",
       "3  <html xmlns=\"http://www.w3.org/1999/xhtml\"><he...   NaN  \n",
       "4  <html xmlns=\"http://www.w3.org/1999/xhtml\"><he...   NaN  "
      ]
     },
     "execution_count": 174,
     "metadata": {},
     "output_type": "execute_result"
    }
   ],
   "source": [
    "df2.head()"
   ]
  },
  {
   "cell_type": "code",
   "execution_count": null,
   "metadata": {
    "collapsed": true
   },
   "outputs": [],
   "source": []
  }
 ],
 "metadata": {
  "kernelspec": {
   "display_name": "Python 2",
   "language": "python",
   "name": "python2"
  },
  "language_info": {
   "codemirror_mode": {
    "name": "ipython",
    "version": 2
   },
   "file_extension": ".py",
   "mimetype": "text/x-python",
   "name": "python",
   "nbconvert_exporter": "python",
   "pygments_lexer": "ipython2",
   "version": "2.7.10"
  }
 },
 "nbformat": 4,
 "nbformat_minor": 0
}
