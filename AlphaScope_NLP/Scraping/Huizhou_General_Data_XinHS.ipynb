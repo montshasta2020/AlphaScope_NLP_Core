{
 "cells": [
  {
   "cell_type": "code",
   "execution_count": 40,
   "metadata": {
    "collapsed": true
   },
   "outputs": [],
   "source": [
    "import pandas as pd\n",
    "from selenium import webdriver \n",
    "from bs4 import BeautifulSoup\n",
    "import time\n",
    "\n",
    "from datetime import date, timedelta, datetime\n",
    "import os.path\n",
    "\n",
    "from dateutil.parser import parse"
   ]
  },
  {
   "cell_type": "code",
   "execution_count": 41,
   "metadata": {
    "collapsed": true
   },
   "outputs": [],
   "source": [
    "import sys  \n",
    "reload(sys)  \n",
    "sys.setdefaultencoding('utf-8')"
   ]
  },
  {
   "cell_type": "code",
   "execution_count": null,
   "metadata": {
    "collapsed": false
   },
   "outputs": [],
   "source": [
    "#fname1 = 'data/general/xinhs-huixueyuandi.csv'\n",
    "fname1 = 'temp1.csv'"
   ]
  },
  {
   "cell_type": "code",
   "execution_count": null,
   "metadata": {
    "collapsed": true
   },
   "outputs": [],
   "source": [
    "def get_columns():\n",
    "    return ('dt', 'source', 'domain', 'url', 'title', 'summary', 'image', 'brief', 'body', 'raw_page', 'from') \n",
    "def get_empty_columns():\n",
    "    return ('', '', '', '', '', '', '', '', '', '', '') \n",
    "def get_empty_columns1():\n",
    "    return ('', '', '', '', '', '', '', '', '', '', '','') "
   ]
  },
  {
   "cell_type": "code",
   "execution_count": null,
   "metadata": {
    "collapsed": false
   },
   "outputs": [],
   "source": [
    "if os.path.isfile(fname1): \n",
    "    df = pd.read_csv(fname1)\n",
    "    idx = len(df.index)\n",
    "else:\n",
    "    df = pd.DataFrame(columns = get_columns())\n",
    "    idx = 0"
   ]
  },
  {
   "cell_type": "code",
   "execution_count": null,
   "metadata": {
    "collapsed": false
   },
   "outputs": [],
   "source": [
    "df.head()"
   ]
  },
  {
   "cell_type": "code",
   "execution_count": 55,
   "metadata": {
    "collapsed": true
   },
   "outputs": [],
   "source": [
    "browser = webdriver.Firefox() "
   ]
  },
  {
   "cell_type": "code",
   "execution_count": 56,
   "metadata": {
    "collapsed": false
   },
   "outputs": [],
   "source": [
    "characters_num = 40\n",
    "new_df = pd.DataFrame(columns = get_columns())\n",
    "idx = 900\n",
    "\n",
    "for i in range(900, len(df)):\n",
    "    url_0 = 'http://www.xinhs.cn/' + df.loc[i]['url']\n",
    "    print url_0\n",
    "    browser.get(url_0)\n",
    "    time.sleep(3)\n",
    "    soup = BeautifulSoup(browser.page_source)\n",
    "    sub_texts = soup.findAll('div', {'class':'article_right_contents'})\n",
    "    #print sub_texts\n",
    "   \n",
    "    for item in sub_texts:\n",
    "        #print item.text\n",
    "        tt = item.text\n",
    "        t0 = tt.split('\\n')\n",
    "        #skip first two rows for title and author\n",
    "        if(len(t0) <=2 ):\n",
    "            t1 = tt\n",
    "        else:\n",
    "            t1 = t0[2]\n",
    "        \n",
    "        found_title = False\n",
    "        found_first_content = False\n",
    "        for k in range(0, len(t0)):\n",
    "            if (len(t0[k]) > characters_num and found_first_content == False):\n",
    "                t1 = t0[k]\n",
    "                print '--- 2 ---', k, len(t0[k]), t0[k]\n",
    "                found_first_content = True\n",
    "                \n",
    "        t2 = t1.decode('utf-8')\n",
    "        t3 = t2[0:characters_num]\n",
    "        t4 = t3.encode('utf-8') + '..'\n",
    "        #print len(t0)\n",
    "        print t4\n",
    "        new_df.loc[idx] = get_empty_columns()\n",
    "        new_df.loc[idx]['url'] = df.loc[idx]['url']\n",
    "        new_df.loc[idx]['brief'] = t4\n",
    "        new_df.loc[idx]['title'] = df.loc[idx]['title']\n",
    "        new_df.loc[idx]['dt'] = df.loc[idx]['dt']\n",
    "        new_df.loc[idx]['source'] = df.loc[idx]['source']\n",
    "        new_df.loc[idx]['raw_page'] = item  \n",
    "        idx +=1   \n",
    "        time.sleep(36)"
   ]
  },
  {
   "cell_type": "code",
   "execution_count": 57,
   "metadata": {
    "collapsed": true
   },
   "outputs": [],
   "source": [
    "print i"
   ]
  },
  {
   "cell_type": "code",
   "execution_count": 58,
   "metadata": {
    "collapsed": true
   },
   "outputs": [],
   "source": [
    "new_df.to_csv('temp3.csv', encoding='utf-8', index=False)"
   ]
  },
  {
   "cell_type": "code",
   "execution_count": 36,
   "metadata": {
    "collapsed": false
   },
   "outputs": [
    {
     "data": {
      "text/html": [
       "<div>\n",
       "<table border=\"1\" class=\"dataframe\">\n",
       "  <thead>\n",
       "    <tr style=\"text-align: right;\">\n",
       "      <th></th>\n",
       "      <th>dt</th>\n",
       "      <th>source</th>\n",
       "      <th>domain</th>\n",
       "      <th>url</th>\n",
       "      <th>title</th>\n",
       "      <th>summary</th>\n",
       "      <th>image</th>\n",
       "      <th>brief</th>\n",
       "      <th>body</th>\n",
       "      <th>raw_page</th>\n",
       "      <th>from</th>\n",
       "    </tr>\n",
       "  </thead>\n",
       "  <tbody>\n",
       "    <tr>\n",
       "      <th>394</th>\n",
       "      <td>2014-9-30</td>\n",
       "      <td>新黄山网</td>\n",
       "      <td></td>\n",
       "      <td>article.asp?id=65476</td>\n",
       "      <td>“鱼鳞图册”传奇⑨</td>\n",
       "      <td></td>\n",
       "      <td></td>\n",
       "      <td>著名明史专家清水泰次是日本最早研究“鱼鳞图册”的学者，早在1934年，他就强调“..</td>\n",
       "      <td></td>\n",
       "      <td>&lt;div class=\"article_right_contents\" style=\"wid...</td>\n",
       "      <td></td>\n",
       "    </tr>\n",
       "    <tr>\n",
       "      <th>395</th>\n",
       "      <td>2014-9-25</td>\n",
       "      <td>新黄山网</td>\n",
       "      <td></td>\n",
       "      <td>article.asp?id=65262</td>\n",
       "      <td>“鱼鳞图册”传奇⑧</td>\n",
       "      <td></td>\n",
       "      <td></td>\n",
       "      <td>——明代中叶后，鱼鳞图册与实际逐渐不相符合，而流为具文。清朝建立后，已名存实亡。..</td>\n",
       "      <td></td>\n",
       "      <td>&lt;div class=\"article_right_contents\" style=\"wid...</td>\n",
       "      <td></td>\n",
       "    </tr>\n",
       "    <tr>\n",
       "      <th>396</th>\n",
       "      <td>2014-9-17</td>\n",
       "      <td>新黄山网</td>\n",
       "      <td></td>\n",
       "      <td>article.asp?id=65269</td>\n",
       "      <td>“鱼鳞图册”传奇⑦</td>\n",
       "      <td></td>\n",
       "      <td></td>\n",
       "      <td>《明洪武实录》卷一八○所说的：“上命户部核实天下土田，而两浙富民畏避徭役，往往以..</td>\n",
       "      <td></td>\n",
       "      <td>&lt;div class=\"article_right_contents\" style=\"wid...</td>\n",
       "      <td></td>\n",
       "    </tr>\n",
       "    <tr>\n",
       "      <th>397</th>\n",
       "      <td>2014-9-9</td>\n",
       "      <td>新黄山网</td>\n",
       "      <td></td>\n",
       "      <td>article.asp?id=64793</td>\n",
       "      <td>“鱼鳞图册”传奇⑥</td>\n",
       "      <td></td>\n",
       "      <td></td>\n",
       "      <td>朱元璋身为一位贫民出身的皇帝，对于农民没有土地耕种的痛苦是极为清楚的。他明白，封..</td>\n",
       "      <td></td>\n",
       "      <td>&lt;div class=\"article_right_contents\" style=\"wid...</td>\n",
       "      <td></td>\n",
       "    </tr>\n",
       "    <tr>\n",
       "      <th>398</th>\n",
       "      <td>2014-9-9</td>\n",
       "      <td>新黄山网</td>\n",
       "      <td></td>\n",
       "      <td>article.asp?id=64788</td>\n",
       "      <td>汪仰溪罗经的工艺特色初探</td>\n",
       "      <td></td>\n",
       "      <td></td>\n",
       "      <td>罗经又名罗盘，是由磁针和方位盘构成的指示方位的仪器，它渊源于中国古代四大发明之一..</td>\n",
       "      <td></td>\n",
       "      <td>&lt;div class=\"article_right_contents\" style=\"wid...</td>\n",
       "      <td></td>\n",
       "    </tr>\n",
       "  </tbody>\n",
       "</table>\n",
       "</div>"
      ],
      "text/plain": [
       "            dt source domain                   url         title summary  \\\n",
       "394  2014-9-30   新黄山网         article.asp?id=65476     “鱼鳞图册”传奇⑨           \n",
       "395  2014-9-25   新黄山网         article.asp?id=65262     “鱼鳞图册”传奇⑧           \n",
       "396  2014-9-17   新黄山网         article.asp?id=65269     “鱼鳞图册”传奇⑦           \n",
       "397   2014-9-9   新黄山网         article.asp?id=64793     “鱼鳞图册”传奇⑥           \n",
       "398   2014-9-9   新黄山网         article.asp?id=64788  汪仰溪罗经的工艺特色初探           \n",
       "\n",
       "    image                                       brief body  \\\n",
       "394        著名明史专家清水泰次是日本最早研究“鱼鳞图册”的学者，早在1934年，他就强调“..        \n",
       "395        ——明代中叶后，鱼鳞图册与实际逐渐不相符合，而流为具文。清朝建立后，已名存实亡。..        \n",
       "396        《明洪武实录》卷一八○所说的：“上命户部核实天下土田，而两浙富民畏避徭役，往往以..        \n",
       "397        朱元璋身为一位贫民出身的皇帝，对于农民没有土地耕种的痛苦是极为清楚的。他明白，封..        \n",
       "398        罗经又名罗盘，是由磁针和方位盘构成的指示方位的仪器，它渊源于中国古代四大发明之一..        \n",
       "\n",
       "                                              raw_page from  \n",
       "394  <div class=\"article_right_contents\" style=\"wid...       \n",
       "395  <div class=\"article_right_contents\" style=\"wid...       \n",
       "396  <div class=\"article_right_contents\" style=\"wid...       \n",
       "397  <div class=\"article_right_contents\" style=\"wid...       \n",
       "398  <div class=\"article_right_contents\" style=\"wid...       "
      ]
     },
     "execution_count": 36,
     "metadata": {},
     "output_type": "execute_result"
    }
   ],
   "source": [
    "new_df.head()"
   ]
  },
  {
   "cell_type": "code",
   "execution_count": 81,
   "metadata": {
    "collapsed": true
   },
   "outputs": [],
   "source": [
    "import sys  \n",
    "reload(sys)  \n",
    "sys.setdefaultencoding('utf-8')"
   ]
  },
  {
   "cell_type": "code",
   "execution_count": 86,
   "metadata": {
    "collapsed": false
   },
   "outputs": [],
   "source": [
    "t2 = t1.decode('utf-8')\n",
    "t3 = t2[0:100]\n",
    "print t3.encode('utf-8') + '..'"
   ]
  },
  {
   "cell_type": "code",
   "execution_count": 85,
   "metadata": {
    "collapsed": true
   },
   "outputs": [],
   "source": []
  },
  {
   "cell_type": "code",
   "execution_count": null,
   "metadata": {
    "collapsed": true
   },
   "outputs": [],
   "source": [
    "titles = soup.findAll('div', {'class':'article_title'})\n",
    "for "
   ]
  },
  {
   "cell_type": "code",
   "execution_count": 38,
   "metadata": {
    "collapsed": true
   },
   "outputs": [],
   "source": [
    "new_df.to_csv(fname1, encoding='utf-8', index=False)"
   ]
  },
  {
   "cell_type": "code",
   "execution_count": null,
   "metadata": {
    "collapsed": true
   },
   "outputs": [],
   "source": []
  }
 ],
 "metadata": {
  "kernelspec": {
   "display_name": "Python 2",
   "language": "python",
   "name": "python2"
  },
  "language_info": {
   "codemirror_mode": {
    "name": "ipython",
    "version": 2
   },
   "file_extension": ".py",
   "mimetype": "text/x-python",
   "name": "python",
   "nbconvert_exporter": "python",
   "pygments_lexer": "ipython2",
   "version": "2.7.10"
  }
 },
 "nbformat": 4,
 "nbformat_minor": 2
}
