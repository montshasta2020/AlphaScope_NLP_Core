{
 "cells": [
  {
   "cell_type": "code",
   "execution_count": 229,
   "metadata": {
    "collapsed": true
   },
   "outputs": [],
   "source": []
  },
  {
   "cell_type": "code",
   "execution_count": 230,
   "metadata": {
    "collapsed": true
   },
   "outputs": [],
   "source": [
    "import sys\n",
    "reload(sys)\n",
    "sys.setdefaultencoding(\"utf-8\")\n"
   ]
  },
  {
   "cell_type": "code",
   "execution_count": 231,
   "metadata": {
    "collapsed": true
   },
   "outputs": [],
   "source": [
    "import pandas as pd\n",
    "from selenium import webdriver \n",
    "from bs4 import BeautifulSoup\n",
    "import time\n",
    "\n",
    "from datetime import date, timedelta, datetime\n",
    "import os.path\n",
    "\n",
    "from dateutil.parser import parse"
   ]
  },
  {
   "cell_type": "code",
   "execution_count": 232,
   "metadata": {
    "collapsed": false
   },
   "outputs": [],
   "source": [
    "fname0 = './data/home_urls.csv'\n",
    "fname1 = './data/general/baidu_scape_all-2.csv'\n",
    "\n",
    "df0 = pd.read_csv(fname0)\n",
    "\n",
    "browser = webdriver.Firefox() "
   ]
  },
  {
   "cell_type": "code",
   "execution_count": 233,
   "metadata": {
    "collapsed": false
   },
   "outputs": [],
   "source": [
    "#browser.get('http://www.baidu.com')"
   ]
  },
  {
   "cell_type": "code",
   "execution_count": 234,
   "metadata": {
    "collapsed": true
   },
   "outputs": [],
   "source": [
    "def get_columns():\n",
    "    return ('dt', 'source', 'domain', 'url', 'title', 'summary', 'image', 'brief', 'body', 'raw_page', 'from') \n",
    "def get_empty_columns():\n",
    "    return ('', '', '', '', '', '', '', '', '', '', '') \n",
    "def get_empty_columns1():\n",
    "    return ('', '', '', '', '', '', '', '', '', '', '','') "
   ]
  },
  {
   "cell_type": "code",
   "execution_count": 235,
   "metadata": {
    "collapsed": true
   },
   "outputs": [],
   "source": [
    "def is_date(string):\n",
    "    try: \n",
    "        parse(string)\n",
    "        return True\n",
    "    except ValueError:\n",
    "        return False"
   ]
  },
  {
   "cell_type": "code",
   "execution_count": 236,
   "metadata": {
    "collapsed": false
   },
   "outputs": [
    {
     "data": {
      "text/html": [
       "<div>\n",
       "<table border=\"1\" class=\"dataframe\">\n",
       "  <thead>\n",
       "    <tr style=\"text-align: right;\">\n",
       "      <th></th>\n",
       "      <th>home</th>\n",
       "      <th>note</th>\n",
       "    </tr>\n",
       "  </thead>\n",
       "  <tbody>\n",
       "    <tr>\n",
       "      <th>0</th>\n",
       "      <td>http://cul.anhuinews.com</td>\n",
       "      <td>http://cul.anhuinews.com/</td>\n",
       "    </tr>\n",
       "    <tr>\n",
       "      <th>1</th>\n",
       "      <td>http://www.hzwh.com</td>\n",
       "      <td>NaN</td>\n",
       "    </tr>\n",
       "    <tr>\n",
       "      <th>2</th>\n",
       "      <td>http://www.97hzhw.com</td>\n",
       "      <td>NaN</td>\n",
       "    </tr>\n",
       "    <tr>\n",
       "      <th>3</th>\n",
       "      <td>http://www.517huizhou.com</td>\n",
       "      <td>NaN</td>\n",
       "    </tr>\n",
       "    <tr>\n",
       "      <th>4</th>\n",
       "      <td>http://www.99huizhou.com</td>\n",
       "      <td>NaN</td>\n",
       "    </tr>\n",
       "  </tbody>\n",
       "</table>\n",
       "</div>"
      ],
      "text/plain": [
       "                        home                       note\n",
       "0   http://cul.anhuinews.com  http://cul.anhuinews.com/\n",
       "1        http://www.hzwh.com                        NaN\n",
       "2      http://www.97hzhw.com                        NaN\n",
       "3  http://www.517huizhou.com                        NaN\n",
       "4   http://www.99huizhou.com                        NaN"
      ]
     },
     "execution_count": 236,
     "metadata": {},
     "output_type": "execute_result"
    }
   ],
   "source": [
    "df0.head()"
   ]
  },
  {
   "cell_type": "code",
   "execution_count": 237,
   "metadata": {
    "collapsed": true
   },
   "outputs": [],
   "source": [
    "if os.path.isfile(fname1): \n",
    "    df = pd.read_csv(fname1)\n",
    "    idx = len(df.index)\n",
    "else:\n",
    "    df = pd.DataFrame(columns = get_columns())\n",
    "    idx = 0"
   ]
  },
  {
   "cell_type": "code",
   "execution_count": 238,
   "metadata": {
    "collapsed": false
   },
   "outputs": [],
   "source": [
    "print len(df)"
   ]
  },
  {
   "cell_type": "code",
   "execution_count": 239,
   "metadata": {
    "collapsed": true
   },
   "outputs": [],
   "source": [
    "def is_notwanted (txt):\n",
    "    if ('.com' in txt or '.cn' in txt or '.net' in txt):\n",
    "        return True\n",
    "    else:\n",
    "        return False"
   ]
  },
  {
   "cell_type": "code",
   "execution_count": 240,
   "metadata": {
    "collapsed": false
   },
   "outputs": [],
   "source": [
    "for item in df0['home']:\n",
    "    print item\n",
    "    print item[7: ]"
   ]
  },
  {
   "cell_type": "code",
   "execution_count": 241,
   "metadata": {
    "collapsed": true
   },
   "outputs": [],
   "source": [
    "def isexisted(df, string0):\n",
    "    for item0 in df['title']:\n",
    "        if item0 == string0:\n",
    "            print \"FOUND One!\"\n",
    "            return False\n",
    "    return True"
   ]
  },
  {
   "cell_type": "code",
   "execution_count": 242,
   "metadata": {
    "collapsed": false
   },
   "outputs": [],
   "source": [
    "for item in df0['home']:\n",
    "    #link = 'http://www.baidu.com/s?q1=徽文化&q2=&q3=&q4=&gpc=stf&ft=&q5=&q6=' + 'anhuinews.com' + ''&tn=baiduadv&rn=50'   \n",
    "    #link = 'https://www.google.com/#q=' + item +' %E5%BE%BD%E6%96%87%E5%8C%96&num=100'\n",
    "    print item\n",
    "    \n",
    "    link = 'http://www.baidu.com/s?q1=徽文化&q2=&q3=&q4=&gpc=stf&ft=&q5=&q6=' + item[7: ] + '&tn=baiduadv&rn=50' \n",
    "    #link = 'http://www.baidu.com/s?q1=徽文化&q2=&q3=&q4=&gpc=stf&ft=&q5=&q6=' + item[item.index('.')+1: ] + '&tn=baiduadv' \n",
    "    browser.get(link)\n",
    "    time.sleep(5)\n",
    "\n",
    "    soup = BeautifulSoup(browser.page_source)\n",
    "    sub_texts = soup.findAll('div', {'class':'result c-container '})\n",
    "\n",
    "    for link in sub_texts:\n",
    "\n",
    "        if(isexisted(df, link.a.text)):\n",
    "            print link.a.text\n",
    "            t0 = link.find('div', {'class': 'c-abstract'})\n",
    "            t1 = link.find('a', {'class': 'c-showurl'})\n",
    "            t2 = link.find('a', {'class': 'c-img6'})\n",
    "\n",
    "            df.loc[idx] = get_empty_columns()\n",
    "\n",
    "            #set title and url    \n",
    "            df.loc[idx]['url'] = t1['href']\n",
    "            df.loc[idx]['title'] = link.a.text\n",
    "            df.loc[idx]['source'] = t0.text\n",
    "\n",
    "            if(t2):\n",
    "                df.loc[idx]['image'] = t2.img ['src']\n",
    "                #print t2.img['src']\n",
    "\n",
    "                            #print txt, t2\n",
    "            df.loc[idx]['from'] = 'baidu'\n",
    "\n",
    "            #load_one_page(df, idx, link.a['href'])\n",
    "            idx += 1 \n",
    "        \n",
    "    time.sleep(10)\n"
   ]
  },
  {
   "cell_type": "code",
   "execution_count": 243,
   "metadata": {
    "collapsed": true
   },
   "outputs": [],
   "source": [
    "df.to_csv(fname1, encoding='utf-8', index=False)"
   ]
  },
  {
   "cell_type": "code",
   "execution_count": 244,
   "metadata": {
    "collapsed": false
   },
   "outputs": [],
   "source": [
    "print item[item.index('.')+1: ]"
   ]
  },
  {
   "cell_type": "code",
   "execution_count": 245,
   "metadata": {
    "collapsed": false
   },
   "outputs": [
    {
     "data": {
      "text/html": [
       "<div>\n",
       "<table border=\"1\" class=\"dataframe\">\n",
       "  <thead>\n",
       "    <tr style=\"text-align: right;\">\n",
       "      <th></th>\n",
       "      <th>dt</th>\n",
       "      <th>source</th>\n",
       "      <th>domain</th>\n",
       "      <th>url</th>\n",
       "      <th>title</th>\n",
       "      <th>summary</th>\n",
       "      <th>image</th>\n",
       "      <th>brief</th>\n",
       "      <th>body</th>\n",
       "      <th>raw_page</th>\n",
       "      <th>from</th>\n",
       "    </tr>\n",
       "  </thead>\n",
       "  <tbody>\n",
       "    <tr>\n",
       "      <th>0</th>\n",
       "      <td>NaN</td>\n",
       "      <td>中安在线徽文化频道下设文坛皖军、安徽作家、徽学研究、徽州女人、戏曲名家、安徽名产等多个栏目,...</td>\n",
       "      <td>NaN</td>\n",
       "      <td>http://www.baidu.com/link?url=fbzh23T2gvv9_F-H...</td>\n",
       "      <td>徽文化频道-中安在线</td>\n",
       "      <td>NaN</td>\n",
       "      <td>http://i7.baidu.com/it/u=2897938125,3427532359...</td>\n",
       "      <td>NaN</td>\n",
       "      <td>NaN</td>\n",
       "      <td>NaN</td>\n",
       "      <td>baidu</td>\n",
       "    </tr>\n",
       "    <tr>\n",
       "      <th>1</th>\n",
       "      <td>NaN</td>\n",
       "      <td>2013年12月11日,安徽省非物质文化遗产徽派竹刻传承人、市政协委员洪建华创作的竹根雕《十...</td>\n",
       "      <td>NaN</td>\n",
       "      <td>http://www.baidu.com/link?url=weJBnvfxWSKK2VHj...</td>\n",
       "      <td>徽文化</td>\n",
       "      <td>NaN</td>\n",
       "      <td>NaN</td>\n",
       "      <td>NaN</td>\n",
       "      <td>NaN</td>\n",
       "      <td>NaN</td>\n",
       "      <td>baidu</td>\n",
       "    </tr>\n",
       "    <tr>\n",
       "      <th>2</th>\n",
       "      <td>NaN</td>\n",
       "      <td>中安在線徽文化頻道下設文壇皖軍、安徽作家、徽學研究、徽州女人、戲曲名家、安徽名產等多個欄目,...</td>\n",
       "      <td>NaN</td>\n",
       "      <td>http://www.baidu.com/link?url=V3PE69qtSQQcYSwg...</td>\n",
       "      <td>徽文化頻道-中安在線</td>\n",
       "      <td>NaN</td>\n",
       "      <td>http://i9.baidu.com/it/u=3457051208,4221275723...</td>\n",
       "      <td>NaN</td>\n",
       "      <td>NaN</td>\n",
       "      <td>NaN</td>\n",
       "      <td>baidu</td>\n",
       "    </tr>\n",
       "    <tr>\n",
       "      <th>3</th>\n",
       "      <td>NaN</td>\n",
       "      <td>2016年8月10日 - 中安在线由安徽新媒体集团主办,是安徽省惟一重点新闻门户网站。网站以...</td>\n",
       "      <td>NaN</td>\n",
       "      <td>http://www.baidu.com/link?url=lOMcop2hKWhY0BO8...</td>\n",
       "      <td>体验徽文化</td>\n",
       "      <td>NaN</td>\n",
       "      <td>http://i8.baidu.com/it/u=3610375249,1191448759...</td>\n",
       "      <td>NaN</td>\n",
       "      <td>NaN</td>\n",
       "      <td>NaN</td>\n",
       "      <td>baidu</td>\n",
       "    </tr>\n",
       "    <tr>\n",
       "      <th>4</th>\n",
       "      <td>NaN</td>\n",
       "      <td>2016年4月29日 - 当徽州的文化价值今天被人们认识,成为一个品牌时,作为研究徽州和徽文...</td>\n",
       "      <td>NaN</td>\n",
       "      <td>http://www.baidu.com/link?url=gMWqpmCqGPSfgQfg...</td>\n",
       "      <td>以史为鉴增进徽文化传承发展-历史-中安在线</td>\n",
       "      <td>NaN</td>\n",
       "      <td>http://i9.baidu.com/it/u=1165083569,356113278&amp;...</td>\n",
       "      <td>NaN</td>\n",
       "      <td>NaN</td>\n",
       "      <td>NaN</td>\n",
       "      <td>baidu</td>\n",
       "    </tr>\n",
       "  </tbody>\n",
       "</table>\n",
       "</div>"
      ],
      "text/plain": [
       "    dt                                             source domain  \\\n",
       "0  NaN  中安在线徽文化频道下设文坛皖军、安徽作家、徽学研究、徽州女人、戏曲名家、安徽名产等多个栏目,...    NaN   \n",
       "1  NaN  2013年12月11日,安徽省非物质文化遗产徽派竹刻传承人、市政协委员洪建华创作的竹根雕《十...    NaN   \n",
       "2  NaN  中安在線徽文化頻道下設文壇皖軍、安徽作家、徽學研究、徽州女人、戲曲名家、安徽名產等多個欄目,...    NaN   \n",
       "3  NaN  2016年8月10日 - 中安在线由安徽新媒体集团主办,是安徽省惟一重点新闻门户网站。网站以...    NaN   \n",
       "4  NaN  2016年4月29日 - 当徽州的文化价值今天被人们认识,成为一个品牌时,作为研究徽州和徽文...    NaN   \n",
       "\n",
       "                                                 url                  title  \\\n",
       "0  http://www.baidu.com/link?url=fbzh23T2gvv9_F-H...             徽文化频道-中安在线   \n",
       "1  http://www.baidu.com/link?url=weJBnvfxWSKK2VHj...                    徽文化   \n",
       "2  http://www.baidu.com/link?url=V3PE69qtSQQcYSwg...             徽文化頻道-中安在線   \n",
       "3  http://www.baidu.com/link?url=lOMcop2hKWhY0BO8...                  体验徽文化   \n",
       "4  http://www.baidu.com/link?url=gMWqpmCqGPSfgQfg...  以史为鉴增进徽文化传承发展-历史-中安在线   \n",
       "\n",
       "  summary                                              image brief body  \\\n",
       "0     NaN  http://i7.baidu.com/it/u=2897938125,3427532359...   NaN  NaN   \n",
       "1     NaN                                                NaN   NaN  NaN   \n",
       "2     NaN  http://i9.baidu.com/it/u=3457051208,4221275723...   NaN  NaN   \n",
       "3     NaN  http://i8.baidu.com/it/u=3610375249,1191448759...   NaN  NaN   \n",
       "4     NaN  http://i9.baidu.com/it/u=1165083569,356113278&...   NaN  NaN   \n",
       "\n",
       "  raw_page   from  \n",
       "0      NaN  baidu  \n",
       "1      NaN  baidu  \n",
       "2      NaN  baidu  \n",
       "3      NaN  baidu  \n",
       "4      NaN  baidu  "
      ]
     },
     "execution_count": 245,
     "metadata": {},
     "output_type": "execute_result"
    }
   ],
   "source": [
    "df.head()"
   ]
  },
  {
   "cell_type": "code",
   "execution_count": 246,
   "metadata": {
    "collapsed": true
   },
   "outputs": [],
   "source": [
    "if(browser):\n",
    "        browser.quit()"
   ]
  },
  {
   "cell_type": "code",
   "execution_count": 247,
   "metadata": {
    "collapsed": true
   },
   "outputs": [],
   "source": [
    "df.to_csv(fname1, encoding='utf-8', index=False)"
   ]
  },
  {
   "cell_type": "code",
   "execution_count": 256,
   "metadata": {
    "collapsed": false
   },
   "outputs": [],
   "source": [
    "print len(df)"
   ]
  },
  {
   "cell_type": "code",
   "execution_count": 257,
   "metadata": {
    "collapsed": false
   },
   "outputs": [
    {
     "data": {
      "text/plain": [
       "dt           42\n",
       "source      262\n",
       "domain       42\n",
       "url         262\n",
       "title       262\n",
       "summary      42\n",
       "image        98\n",
       "brief        42\n",
       "body         42\n",
       "raw_page     42\n",
       "from        262\n",
       "dtype: int64"
      ]
     },
     "execution_count": 257,
     "metadata": {},
     "output_type": "execute_result"
    }
   ],
   "source": [
    "df.count()"
   ]
  },
  {
   "cell_type": "code",
   "execution_count": null,
   "metadata": {
    "collapsed": true
   },
   "outputs": [],
   "source": []
  },
  {
   "cell_type": "code",
   "execution_count": null,
   "metadata": {
    "collapsed": true
   },
   "outputs": [],
   "source": []
  }
 ],
 "metadata": {
  "kernelspec": {
   "display_name": "Python 2",
   "language": "python",
   "name": "python2"
  },
  "language_info": {
   "codemirror_mode": {
    "name": "ipython",
    "version": 2
   },
   "file_extension": ".py",
   "mimetype": "text/x-python",
   "name": "python",
   "nbconvert_exporter": "python",
   "pygments_lexer": "ipython2",
   "version": "2.7.10"
  }
 },
 "nbformat": 4,
 "nbformat_minor": 2
}
