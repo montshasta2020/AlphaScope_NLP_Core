{
 "cells": [
  {
   "cell_type": "code",
   "execution_count": 1,
   "metadata": {
    "collapsed": true
   },
   "outputs": [],
   "source": [
    "import pandas as pd\n",
    "from selenium import webdriver \n",
    "from bs4 import BeautifulSoup\n",
    "import time\n",
    "import glob\n",
    "import re\n",
    "import json\n",
    "\n",
    "from datetime import date, timedelta, datetime\n",
    "import os.path\n",
    "\n",
    "from dateutil.parser import parse"
   ]
  },
  {
   "cell_type": "code",
   "execution_count": 2,
   "metadata": {
    "collapsed": true
   },
   "outputs": [],
   "source": [
    "import sys  \n",
    "reload(sys)  \n",
    "sys.setdefaultencoding('utf-8')"
   ]
  },
  {
   "cell_type": "code",
   "execution_count": 3,
   "metadata": {
    "collapsed": true
   },
   "outputs": [],
   "source": [
    "def get_columns():\n",
    "    return ('dt', 'source', 'domain', 'url', 'title', 'summary', 'image', 'brief', 'body', 'raw_page', 'from') \n",
    "def get_empty_columns():\n",
    "    return ('', '', '', '', '', '', '', '', '', '', '') \n",
    "def get_empty_columns1():\n",
    "    return ('', '', '', '', '', '', '', '', '', '', '','') "
   ]
  },
  {
   "cell_type": "code",
   "execution_count": 39,
   "metadata": {
    "collapsed": true
   },
   "outputs": [],
   "source": [
    "all_files = glob.glob(\"./data/google/cse/\" + \"/*.*\")"
   ]
  },
  {
   "cell_type": "code",
   "execution_count": 42,
   "metadata": {
    "collapsed": false
   },
   "outputs": [],
   "source": [
    "characters_num = 40\n",
    "frames = [  pd.read_csv(f) for f in all_files ]\n",
    "df = pd.concat(frames)"
   ]
  },
  {
   "cell_type": "code",
   "execution_count": 43,
   "metadata": {
    "collapsed": true
   },
   "outputs": [],
   "source": [
    "df.to_csv('check-data.csv', encoding='utf-8', index=False)"
   ]
  },
  {
   "cell_type": "code",
   "execution_count": 8,
   "metadata": {
    "collapsed": false
   },
   "outputs": [],
   "source": [
    "#df = pd.read_csv('check-data.csv')\n",
    "df = pd.read_csv('cse_combined_data.csv')"
   ]
  },
  {
   "cell_type": "code",
   "execution_count": 9,
   "metadata": {
    "collapsed": true
   },
   "outputs": [],
   "source": [
    "df.info()"
   ]
  },
  {
   "cell_type": "code",
   "execution_count": 10,
   "metadata": {
    "collapsed": false
   },
   "outputs": [],
   "source": [
    "for item in df['source']:\n",
    "    print item"
   ]
  },
  {
   "cell_type": "code",
   "execution_count": 34,
   "metadata": {
    "collapsed": false
   },
   "outputs": [],
   "source": [
    "for i in range(0, len(df)):\n",
    "    print df.loc[i]['url']"
   ]
  },
  {
   "cell_type": "code",
   "execution_count": null,
   "metadata": {
    "collapsed": true
   },
   "outputs": [],
   "source": [
    "def get_body(txt):\n",
    "    "
   ]
  },
  {
   "cell_type": "code",
   "execution_count": 11,
   "metadata": {
    "collapsed": false
   },
   "outputs": [
    {
     "data": {
      "text/html": [
       "<div>\n",
       "<table border=\"1\" class=\"dataframe\">\n",
       "  <thead>\n",
       "    <tr style=\"text-align: right;\">\n",
       "      <th></th>\n",
       "      <th>dt</th>\n",
       "      <th>source</th>\n",
       "      <th>domain</th>\n",
       "      <th>url</th>\n",
       "      <th>title</th>\n",
       "      <th>summary</th>\n",
       "      <th>image</th>\n",
       "      <th>brief</th>\n",
       "      <th>body</th>\n",
       "      <th>raw_page</th>\n",
       "      <th>from</th>\n",
       "    </tr>\n",
       "  </thead>\n",
       "  <tbody>\n",
       "    <tr>\n",
       "      <th>0</th>\n",
       "      <td>2016-10-10</td>\n",
       "      <td>360doc</td>\n",
       "      <td>NaN</td>\n",
       "      <td>http://www.360doc.com/content/16/1010/15/28029...</td>\n",
       "      <td>听张脉贤先生说徽文化</td>\n",
       "      <td>NaN</td>\n",
       "      <td>NaN</td>\n",
       "      <td>在赭山公园边市徽商博物馆随园小坐，高低错落的粉墙黛瓦下面竹树掩映着，明窗净\\n几的茶座，依...</td>\n",
       "      <td>NaN</td>\n",
       "      <td>&lt;html xmlns=\"http://www.w3.org/1999/xhtml\"&gt;&lt;he...</td>\n",
       "      <td>NaN</td>\n",
       "    </tr>\n",
       "    <tr>\n",
       "      <th>1</th>\n",
       "      <td>2016-6-17</td>\n",
       "      <td>360doc</td>\n",
       "      <td>NaN</td>\n",
       "      <td>http://www.360doc.com/content/16/0617/22/77942...</td>\n",
       "      <td>没有徽州哪来安徽，哪来“徽文化”？</td>\n",
       "      <td>NaN</td>\n",
       "      <td>NaN</td>\n",
       "      <td>没有徽州哪来安徽，哪来“徽文化”？ 5月28日，为黄山复名徽州疾呼18年的著名作家\\n、《...</td>\n",
       "      <td>NaN</td>\n",
       "      <td>&lt;html xmlns=\"http://www.w3.org/1999/xhtml\"&gt;&lt;he...</td>\n",
       "      <td>NaN</td>\n",
       "    </tr>\n",
       "    <tr>\n",
       "      <th>2</th>\n",
       "      <td>2016-4-22</td>\n",
       "      <td>360doc</td>\n",
       "      <td>NaN</td>\n",
       "      <td>http://www.360doc.com/content/16/0422/21/78396...</td>\n",
       "      <td>也说徽州｜徽文化：中国封建社会后期的典型标本</td>\n",
       "      <td>NaN</td>\n",
       "      <td>NaN</td>\n",
       "      <td>徽文化包含了中国传统社会中的民间经济、社会生活与文化等基本内容，被誉为中国\\n封建社会后期...</td>\n",
       "      <td>NaN</td>\n",
       "      <td>&lt;html xmlns=\"http://www.w3.org/1999/xhtml\"&gt;&lt;he...</td>\n",
       "      <td>NaN</td>\n",
       "    </tr>\n",
       "    <tr>\n",
       "      <th>3</th>\n",
       "      <td>2016-5-20</td>\n",
       "      <td>360doc</td>\n",
       "      <td>NaN</td>\n",
       "      <td>http://www.360doc.com/content/16/0520/14/46029...</td>\n",
       "      <td>徽文化之旅（皖南行之一）</td>\n",
       "      <td>NaN</td>\n",
       "      <td>NaN</td>\n",
       "      <td>徽文化之旅（皖南行之一）. 几十年间，我曾到过安徽不少城市和名胜。耄耋之年的老\\n两口尚有...</td>\n",
       "      <td>NaN</td>\n",
       "      <td>&lt;html xmlns=\"http://www.w3.org/1999/xhtml\"&gt;&lt;he...</td>\n",
       "      <td>NaN</td>\n",
       "    </tr>\n",
       "    <tr>\n",
       "      <th>4</th>\n",
       "      <td>2013-11-30</td>\n",
       "      <td>360doc</td>\n",
       "      <td>NaN</td>\n",
       "      <td>http://www.360doc.com/content/13/1130/15/13701...</td>\n",
       "      <td>徽文化</td>\n",
       "      <td>NaN</td>\n",
       "      <td>NaN</td>\n",
       "      <td>徽文化积淀深厚,普通旅游者对很多徽州文化旅游景点捉摸不透, 走马观花看“热闹”, \\n看不...</td>\n",
       "      <td>NaN</td>\n",
       "      <td>&lt;html xmlns=\"http://www.w3.org/1999/xhtml\"&gt;&lt;he...</td>\n",
       "      <td>NaN</td>\n",
       "    </tr>\n",
       "  </tbody>\n",
       "</table>\n",
       "</div>"
      ],
      "text/plain": [
       "           dt  source  domain  \\\n",
       "0  2016-10-10  360doc     NaN   \n",
       "1   2016-6-17  360doc     NaN   \n",
       "2   2016-4-22  360doc     NaN   \n",
       "3   2016-5-20  360doc     NaN   \n",
       "4  2013-11-30  360doc     NaN   \n",
       "\n",
       "                                                 url                   title  \\\n",
       "0  http://www.360doc.com/content/16/1010/15/28029...              听张脉贤先生说徽文化   \n",
       "1  http://www.360doc.com/content/16/0617/22/77942...       没有徽州哪来安徽，哪来“徽文化”？   \n",
       "2  http://www.360doc.com/content/16/0422/21/78396...  也说徽州｜徽文化：中国封建社会后期的典型标本   \n",
       "3  http://www.360doc.com/content/16/0520/14/46029...            徽文化之旅（皖南行之一）   \n",
       "4  http://www.360doc.com/content/13/1130/15/13701...                     徽文化   \n",
       "\n",
       "   summary  image                                              brief  body  \\\n",
       "0      NaN    NaN   在赭山公园边市徽商博物馆随园小坐，高低错落的粉墙黛瓦下面竹树掩映着，明窗净\\n几的茶座，依...   NaN   \n",
       "1      NaN    NaN   没有徽州哪来安徽，哪来“徽文化”？ 5月28日，为黄山复名徽州疾呼18年的著名作家\\n、《...   NaN   \n",
       "2      NaN    NaN   徽文化包含了中国传统社会中的民间经济、社会生活与文化等基本内容，被誉为中国\\n封建社会后期...   NaN   \n",
       "3      NaN    NaN   徽文化之旅（皖南行之一）. 几十年间，我曾到过安徽不少城市和名胜。耄耋之年的老\\n两口尚有...   NaN   \n",
       "4      NaN    NaN   徽文化积淀深厚,普通旅游者对很多徽州文化旅游景点捉摸不透, 走马观花看“热闹”, \\n看不...   NaN   \n",
       "\n",
       "                                            raw_page  from  \n",
       "0  <html xmlns=\"http://www.w3.org/1999/xhtml\"><he...   NaN  \n",
       "1  <html xmlns=\"http://www.w3.org/1999/xhtml\"><he...   NaN  \n",
       "2  <html xmlns=\"http://www.w3.org/1999/xhtml\"><he...   NaN  \n",
       "3  <html xmlns=\"http://www.w3.org/1999/xhtml\"><he...   NaN  \n",
       "4  <html xmlns=\"http://www.w3.org/1999/xhtml\"><he...   NaN  "
      ]
     },
     "execution_count": 11,
     "metadata": {},
     "output_type": "execute_result"
    }
   ],
   "source": [
    "df['body'] = df.raw_page.map(lambda x: get_body(x) )  "
   ]
  },
  {
   "cell_type": "code",
   "execution_count": 90,
   "metadata": {
    "collapsed": true
   },
   "outputs": [],
   "source": [
    "browser = webdriver.Firefox() "
   ]
  },
  {
   "cell_type": "code",
   "execution_count": 91,
   "metadata": {
    "collapsed": true
   },
   "outputs": [],
   "source": [
    "new_df = pd.DataFrame(columns = get_columns())\n",
    "characters_num = 40"
   ]
  },
  {
   "cell_type": "code",
   "execution_count": 71,
   "metadata": {
    "collapsed": true
   },
   "outputs": [],
   "source": [
    "t0 = 'www.517huizhou.comwww.517huizhou.com/forum.php?gid=75'\n",
    "t00 = '517huizhou.com517huizhou.com/home.php?mod=magic'\n",
    "t1 = t0.split('www.517huizhou.com')\n",
    "t11 = t00.split('517huizhou.com')\n",
    "print len(t1), t1[0], t1[2]\n",
    "print len(t11), t11[0], t11[2]"
   ]
  },
  {
   "cell_type": "code",
   "execution_count": 94,
   "metadata": {
    "collapsed": false
   },
   "outputs": [
    {
     "ename": "TimeoutException",
     "evalue": "Message: Error loading page, timed out (checkLoad)\n",
     "output_type": "error",
     "traceback": [
      "\u001b[0;31m---------------------------------------------------------------------------\u001b[0m",
      "\u001b[0;31mTimeoutException\u001b[0m                          Traceback (most recent call last)",
      "\u001b[0;32m<ipython-input-94-f2a3768d6629>\u001b[0m in \u001b[0;36m<module>\u001b[0;34m()\u001b[0m\n\u001b[1;32m     13\u001b[0m         \u001b[0murl_0\u001b[0m \u001b[0;34m=\u001b[0m \u001b[0mdf\u001b[0m\u001b[0;34m.\u001b[0m\u001b[0mloc\u001b[0m\u001b[0;34m[\u001b[0m\u001b[0mi\u001b[0m\u001b[0;34m]\u001b[0m\u001b[0;34m[\u001b[0m\u001b[0;34m'url'\u001b[0m\u001b[0;34m]\u001b[0m\u001b[0;34m\u001b[0m\u001b[0m\n\u001b[1;32m     14\u001b[0m     \u001b[0;32mprint\u001b[0m \u001b[0mi\u001b[0m\u001b[0;34m,\u001b[0m \u001b[0murl_0\u001b[0m\u001b[0;34m\u001b[0m\u001b[0m\n\u001b[0;32m---> 15\u001b[0;31m     \u001b[0mbrowser\u001b[0m\u001b[0;34m.\u001b[0m\u001b[0mget\u001b[0m\u001b[0;34m(\u001b[0m\u001b[0murl_0\u001b[0m\u001b[0;34m)\u001b[0m\u001b[0;34m\u001b[0m\u001b[0m\n\u001b[0m\u001b[1;32m     16\u001b[0m     \u001b[0mtime\u001b[0m\u001b[0;34m.\u001b[0m\u001b[0msleep\u001b[0m\u001b[0;34m(\u001b[0m\u001b[0;36m6\u001b[0m\u001b[0;34m)\u001b[0m\u001b[0;34m\u001b[0m\u001b[0m\n\u001b[1;32m     17\u001b[0m     \u001b[0mnew_df\u001b[0m\u001b[0;34m.\u001b[0m\u001b[0mloc\u001b[0m\u001b[0;34m[\u001b[0m\u001b[0mi\u001b[0m\u001b[0;34m]\u001b[0m \u001b[0;34m=\u001b[0m \u001b[0mget_empty_columns\u001b[0m\u001b[0;34m(\u001b[0m\u001b[0;34m)\u001b[0m\u001b[0;34m\u001b[0m\u001b[0m\n",
      "\u001b[0;32m/usr/local/lib/python2.7/site-packages/selenium/webdriver/remote/webdriver.pyc\u001b[0m in \u001b[0;36mget\u001b[0;34m(self, url)\u001b[0m\n\u001b[1;32m    246\u001b[0m         \u001b[0mLoads\u001b[0m \u001b[0ma\u001b[0m \u001b[0mweb\u001b[0m \u001b[0mpage\u001b[0m \u001b[0;32min\u001b[0m \u001b[0mthe\u001b[0m \u001b[0mcurrent\u001b[0m \u001b[0mbrowser\u001b[0m \u001b[0msession\u001b[0m\u001b[0;34m.\u001b[0m\u001b[0;34m\u001b[0m\u001b[0m\n\u001b[1;32m    247\u001b[0m         \"\"\"\n\u001b[0;32m--> 248\u001b[0;31m         \u001b[0mself\u001b[0m\u001b[0;34m.\u001b[0m\u001b[0mexecute\u001b[0m\u001b[0;34m(\u001b[0m\u001b[0mCommand\u001b[0m\u001b[0;34m.\u001b[0m\u001b[0mGET\u001b[0m\u001b[0;34m,\u001b[0m \u001b[0;34m{\u001b[0m\u001b[0;34m'url'\u001b[0m\u001b[0;34m:\u001b[0m \u001b[0murl\u001b[0m\u001b[0;34m}\u001b[0m\u001b[0;34m)\u001b[0m\u001b[0;34m\u001b[0m\u001b[0m\n\u001b[0m\u001b[1;32m    249\u001b[0m \u001b[0;34m\u001b[0m\u001b[0m\n\u001b[1;32m    250\u001b[0m     \u001b[0;34m@\u001b[0m\u001b[0mproperty\u001b[0m\u001b[0;34m\u001b[0m\u001b[0m\n",
      "\u001b[0;32m/usr/local/lib/python2.7/site-packages/selenium/webdriver/remote/webdriver.pyc\u001b[0m in \u001b[0;36mexecute\u001b[0;34m(self, driver_command, params)\u001b[0m\n\u001b[1;32m    234\u001b[0m         \u001b[0mresponse\u001b[0m \u001b[0;34m=\u001b[0m \u001b[0mself\u001b[0m\u001b[0;34m.\u001b[0m\u001b[0mcommand_executor\u001b[0m\u001b[0;34m.\u001b[0m\u001b[0mexecute\u001b[0m\u001b[0;34m(\u001b[0m\u001b[0mdriver_command\u001b[0m\u001b[0;34m,\u001b[0m \u001b[0mparams\u001b[0m\u001b[0;34m)\u001b[0m\u001b[0;34m\u001b[0m\u001b[0m\n\u001b[1;32m    235\u001b[0m         \u001b[0;32mif\u001b[0m \u001b[0mresponse\u001b[0m\u001b[0;34m:\u001b[0m\u001b[0;34m\u001b[0m\u001b[0m\n\u001b[0;32m--> 236\u001b[0;31m             \u001b[0mself\u001b[0m\u001b[0;34m.\u001b[0m\u001b[0merror_handler\u001b[0m\u001b[0;34m.\u001b[0m\u001b[0mcheck_response\u001b[0m\u001b[0;34m(\u001b[0m\u001b[0mresponse\u001b[0m\u001b[0;34m)\u001b[0m\u001b[0;34m\u001b[0m\u001b[0m\n\u001b[0m\u001b[1;32m    237\u001b[0m             response['value'] = self._unwrap_value(\n\u001b[1;32m    238\u001b[0m                 response.get('value', None))\n",
      "\u001b[0;32m/usr/local/lib/python2.7/site-packages/selenium/webdriver/remote/errorhandler.pyc\u001b[0m in \u001b[0;36mcheck_response\u001b[0;34m(self, response)\u001b[0m\n\u001b[1;32m    190\u001b[0m         \u001b[0;32melif\u001b[0m \u001b[0mexception_class\u001b[0m \u001b[0;34m==\u001b[0m \u001b[0mUnexpectedAlertPresentException\u001b[0m \u001b[0;32mand\u001b[0m \u001b[0;34m'alert'\u001b[0m \u001b[0;32min\u001b[0m \u001b[0mvalue\u001b[0m\u001b[0;34m:\u001b[0m\u001b[0;34m\u001b[0m\u001b[0m\n\u001b[1;32m    191\u001b[0m             \u001b[0;32mraise\u001b[0m \u001b[0mexception_class\u001b[0m\u001b[0;34m(\u001b[0m\u001b[0mmessage\u001b[0m\u001b[0;34m,\u001b[0m \u001b[0mscreen\u001b[0m\u001b[0;34m,\u001b[0m \u001b[0mstacktrace\u001b[0m\u001b[0;34m,\u001b[0m \u001b[0mvalue\u001b[0m\u001b[0;34m[\u001b[0m\u001b[0;34m'alert'\u001b[0m\u001b[0;34m]\u001b[0m\u001b[0;34m.\u001b[0m\u001b[0mget\u001b[0m\u001b[0;34m(\u001b[0m\u001b[0;34m'text'\u001b[0m\u001b[0;34m)\u001b[0m\u001b[0;34m)\u001b[0m\u001b[0;34m\u001b[0m\u001b[0m\n\u001b[0;32m--> 192\u001b[0;31m         \u001b[0;32mraise\u001b[0m \u001b[0mexception_class\u001b[0m\u001b[0;34m(\u001b[0m\u001b[0mmessage\u001b[0m\u001b[0;34m,\u001b[0m \u001b[0mscreen\u001b[0m\u001b[0;34m,\u001b[0m \u001b[0mstacktrace\u001b[0m\u001b[0;34m)\u001b[0m\u001b[0;34m\u001b[0m\u001b[0m\n\u001b[0m\u001b[1;32m    193\u001b[0m \u001b[0;34m\u001b[0m\u001b[0m\n\u001b[1;32m    194\u001b[0m     \u001b[0;32mdef\u001b[0m \u001b[0m_value_or_default\u001b[0m\u001b[0;34m(\u001b[0m\u001b[0mself\u001b[0m\u001b[0;34m,\u001b[0m \u001b[0mobj\u001b[0m\u001b[0;34m,\u001b[0m \u001b[0mkey\u001b[0m\u001b[0;34m,\u001b[0m \u001b[0mdefault\u001b[0m\u001b[0;34m)\u001b[0m\u001b[0;34m:\u001b[0m\u001b[0;34m\u001b[0m\u001b[0m\n",
      "\u001b[0;31mTimeoutException\u001b[0m: Message: Error loading page, timed out (checkLoad)\n"
     ]
    }
   ],
   "source": [
    "for i in range(342, len(df)):\n",
    "    if i >= 152 and i <= 182:\n",
    "        t10 = df.loc[i]['url']\n",
    "        t0 = 'www.517huizhou.com'\n",
    "        t1 = '517huizhou.com'\n",
    "        t2 = t10.split(t0)\n",
    "        t3 = t10.split(t1)\n",
    "        if (len(t2)) == 3:\n",
    "            url_0 = 'http://' + t0 + t2[2]\n",
    "        else:\n",
    "            url_0 = 'http://' + t1 + t3[2]\n",
    "    else: \n",
    "        url_0 = df.loc[i]['url']\n",
    "    print i, url_0\n",
    "    browser.get(url_0)\n",
    "    time.sleep(6)\n",
    "    new_df.loc[i] = get_empty_columns()\n",
    "    new_df.loc[i]['url'] = df.loc[i]['url']\n",
    "    new_df.loc[i]['brief'] = df.loc[i]['brief']\n",
    "    new_df.loc[i]['title'] = df.loc[i]['title']\n",
    "    new_df.loc[i]['dt'] = df.loc[i]['dt']\n",
    "    new_df.loc[i]['source'] = df.loc[i]['source']\n",
    "    new_df.loc[i]['raw_page'] = browser.page_source  \n",
    "    time.sleep(12)"
   ]
  },
  {
   "cell_type": "code",
   "execution_count": 56,
   "metadata": {
    "collapsed": false
   },
   "outputs": [
    {
     "data": {
      "text/html": [
       "<div>\n",
       "<table border=\"1\" class=\"dataframe\">\n",
       "  <thead>\n",
       "    <tr style=\"text-align: right;\">\n",
       "      <th></th>\n",
       "      <th>dt</th>\n",
       "      <th>source</th>\n",
       "      <th>domain</th>\n",
       "      <th>url</th>\n",
       "      <th>title</th>\n",
       "      <th>summary</th>\n",
       "      <th>image</th>\n",
       "      <th>brief</th>\n",
       "      <th>body</th>\n",
       "      <th>raw_page</th>\n",
       "      <th>from</th>\n",
       "    </tr>\n",
       "  </thead>\n",
       "  <tbody>\n",
       "    <tr>\n",
       "      <th>0</th>\n",
       "      <td>2016-10-10</td>\n",
       "      <td>360doc</td>\n",
       "      <td></td>\n",
       "      <td>http://www.360doc.com/content/16/1010/15/28029...</td>\n",
       "      <td>听张脉贤先生说徽文化</td>\n",
       "      <td></td>\n",
       "      <td></td>\n",
       "      <td>在赭山公园边市徽商博物馆随园小坐，高低错落的粉墙黛瓦下面竹树掩映着，明窗净\\n几的茶座，依...</td>\n",
       "      <td></td>\n",
       "      <td>&lt;html xmlns=\"http://www.w3.org/1999/xhtml\"&gt;&lt;he...</td>\n",
       "      <td></td>\n",
       "    </tr>\n",
       "    <tr>\n",
       "      <th>1</th>\n",
       "      <td>2016-6-17</td>\n",
       "      <td>360doc</td>\n",
       "      <td></td>\n",
       "      <td>http://www.360doc.com/content/16/0617/22/77942...</td>\n",
       "      <td>没有徽州哪来安徽，哪来“徽文化”？</td>\n",
       "      <td></td>\n",
       "      <td></td>\n",
       "      <td>没有徽州哪来安徽，哪来“徽文化”？ 5月28日，为黄山复名徽州疾呼18年的著名作家\\n、《...</td>\n",
       "      <td></td>\n",
       "      <td>&lt;html xmlns=\"http://www.w3.org/1999/xhtml\"&gt;&lt;he...</td>\n",
       "      <td></td>\n",
       "    </tr>\n",
       "    <tr>\n",
       "      <th>2</th>\n",
       "      <td>2016-4-22</td>\n",
       "      <td>360doc</td>\n",
       "      <td></td>\n",
       "      <td>http://www.360doc.com/content/16/0422/21/78396...</td>\n",
       "      <td>也说徽州｜徽文化：中国封建社会后期的典型标本</td>\n",
       "      <td></td>\n",
       "      <td></td>\n",
       "      <td>徽文化包含了中国传统社会中的民间经济、社会生活与文化等基本内容，被誉为中国\\n封建社会后期...</td>\n",
       "      <td></td>\n",
       "      <td>&lt;html xmlns=\"http://www.w3.org/1999/xhtml\"&gt;&lt;he...</td>\n",
       "      <td></td>\n",
       "    </tr>\n",
       "    <tr>\n",
       "      <th>3</th>\n",
       "      <td>2016-5-20</td>\n",
       "      <td>360doc</td>\n",
       "      <td></td>\n",
       "      <td>http://www.360doc.com/content/16/0520/14/46029...</td>\n",
       "      <td>徽文化之旅（皖南行之一）</td>\n",
       "      <td></td>\n",
       "      <td></td>\n",
       "      <td>徽文化之旅（皖南行之一）. 几十年间，我曾到过安徽不少城市和名胜。耄耋之年的老\\n两口尚有...</td>\n",
       "      <td></td>\n",
       "      <td>&lt;html xmlns=\"http://www.w3.org/1999/xhtml\"&gt;&lt;he...</td>\n",
       "      <td></td>\n",
       "    </tr>\n",
       "    <tr>\n",
       "      <th>4</th>\n",
       "      <td>2013-11-30</td>\n",
       "      <td>360doc</td>\n",
       "      <td></td>\n",
       "      <td>http://www.360doc.com/content/13/1130/15/13701...</td>\n",
       "      <td>徽文化</td>\n",
       "      <td></td>\n",
       "      <td></td>\n",
       "      <td>徽文化积淀深厚,普通旅游者对很多徽州文化旅游景点捉摸不透, 走马观花看“热闹”, \\n看不...</td>\n",
       "      <td></td>\n",
       "      <td>&lt;html xmlns=\"http://www.w3.org/1999/xhtml\"&gt;&lt;he...</td>\n",
       "      <td></td>\n",
       "    </tr>\n",
       "  </tbody>\n",
       "</table>\n",
       "</div>"
      ],
      "text/plain": [
       "           dt  source domain  \\\n",
       "0  2016-10-10  360doc          \n",
       "1   2016-6-17  360doc          \n",
       "2   2016-4-22  360doc          \n",
       "3   2016-5-20  360doc          \n",
       "4  2013-11-30  360doc          \n",
       "\n",
       "                                                 url                   title  \\\n",
       "0  http://www.360doc.com/content/16/1010/15/28029...              听张脉贤先生说徽文化   \n",
       "1  http://www.360doc.com/content/16/0617/22/77942...       没有徽州哪来安徽，哪来“徽文化”？   \n",
       "2  http://www.360doc.com/content/16/0422/21/78396...  也说徽州｜徽文化：中国封建社会后期的典型标本   \n",
       "3  http://www.360doc.com/content/16/0520/14/46029...            徽文化之旅（皖南行之一）   \n",
       "4  http://www.360doc.com/content/13/1130/15/13701...                     徽文化   \n",
       "\n",
       "  summary image                                              brief body  \\\n",
       "0                 在赭山公园边市徽商博物馆随园小坐，高低错落的粉墙黛瓦下面竹树掩映着，明窗净\\n几的茶座，依...        \n",
       "1                 没有徽州哪来安徽，哪来“徽文化”？ 5月28日，为黄山复名徽州疾呼18年的著名作家\\n、《...        \n",
       "2                 徽文化包含了中国传统社会中的民间经济、社会生活与文化等基本内容，被誉为中国\\n封建社会后期...        \n",
       "3                 徽文化之旅（皖南行之一）. 几十年间，我曾到过安徽不少城市和名胜。耄耋之年的老\\n两口尚有...        \n",
       "4                 徽文化积淀深厚,普通旅游者对很多徽州文化旅游景点捉摸不透, 走马观花看“热闹”, \\n看不...        \n",
       "\n",
       "                                            raw_page from  \n",
       "0  <html xmlns=\"http://www.w3.org/1999/xhtml\"><he...       \n",
       "1  <html xmlns=\"http://www.w3.org/1999/xhtml\"><he...       \n",
       "2  <html xmlns=\"http://www.w3.org/1999/xhtml\"><he...       \n",
       "3  <html xmlns=\"http://www.w3.org/1999/xhtml\"><he...       \n",
       "4  <html xmlns=\"http://www.w3.org/1999/xhtml\"><he...       "
      ]
     },
     "execution_count": 56,
     "metadata": {},
     "output_type": "execute_result"
    }
   ],
   "source": [
    "new_df.head()"
   ]
  },
  {
   "cell_type": "code",
   "execution_count": 85,
   "metadata": {
    "collapsed": true
   },
   "outputs": [],
   "source": [
    "print len(new_df)"
   ]
  },
  {
   "cell_type": "code",
   "execution_count": 90,
   "metadata": {
    "collapsed": false
   },
   "outputs": [
    {
     "data": {
      "text/html": [
       "<div>\n",
       "<table border=\"1\" class=\"dataframe\">\n",
       "  <thead>\n",
       "    <tr style=\"text-align: right;\">\n",
       "      <th></th>\n",
       "      <th>dt</th>\n",
       "      <th>source</th>\n",
       "      <th>domain</th>\n",
       "      <th>url</th>\n",
       "      <th>title</th>\n",
       "      <th>summary</th>\n",
       "      <th>image</th>\n",
       "      <th>brief</th>\n",
       "      <th>body</th>\n",
       "      <th>raw_page</th>\n",
       "      <th>from</th>\n",
       "    </tr>\n",
       "  </thead>\n",
       "  <tbody>\n",
       "    <tr>\n",
       "      <th>0</th>\n",
       "      <td>2016-04-08</td>\n",
       "      <td>徽州文化网</td>\n",
       "      <td></td>\n",
       "      <td>www.hzwh.com/article.asp?id=2538</td>\n",
       "      <td>传统徽州仁商义贾践行商君子之道的历史启示</td>\n",
       "      <td></td>\n",
       "      <td></td>\n",
       "      <td>全国人大代表、民盟安徽省委副主委、安徽省文联副主席钱念孙先生在《光明日报》201..</td>\n",
       "      <td></td>\n",
       "      <td></td>\n",
       "      <td></td>\n",
       "    </tr>\n",
       "  </tbody>\n",
       "</table>\n",
       "</div>"
      ],
      "text/plain": [
       "           dt source domain                               url  \\\n",
       "0  2016-04-08  徽州文化网         www.hzwh.com/article.asp?id=2538   \n",
       "\n",
       "                  title summary image  \\\n",
       "0  传统徽州仁商义贾践行商君子之道的历史启示                 \n",
       "\n",
       "                                        brief body raw_page from  \n",
       "0  全国人大代表、民盟安徽省委副主委、安徽省文联副主席钱念孙先生在《光明日报》201..                     "
      ]
     },
     "execution_count": 90,
     "metadata": {},
     "output_type": "execute_result"
    }
   ],
   "source": [
    "new_df.head()"
   ]
  },
  {
   "cell_type": "code",
   "execution_count": 81,
   "metadata": {
    "collapsed": true
   },
   "outputs": [],
   "source": [
    "import sys  \n",
    "reload(sys)  \n",
    "sys.setdefaultencoding('utf-8')"
   ]
  },
  {
   "cell_type": "code",
   "execution_count": 86,
   "metadata": {
    "collapsed": false
   },
   "outputs": [],
   "source": [
    "t2 = t1.decode('utf-8')\n",
    "t3 = t2[0:100]\n",
    "print t3.encode('utf-8') + '..'"
   ]
  },
  {
   "cell_type": "code",
   "execution_count": 85,
   "metadata": {
    "collapsed": true
   },
   "outputs": [],
   "source": []
  },
  {
   "cell_type": "code",
   "execution_count": null,
   "metadata": {
    "collapsed": true
   },
   "outputs": [],
   "source": [
    "titles = soup.findAll('div', {'class':'article_title'})\n",
    "for "
   ]
  },
  {
   "cell_type": "code",
   "execution_count": 86,
   "metadata": {
    "collapsed": false
   },
   "outputs": [],
   "source": [
    "new_df.to_csv('cse_combined_data2.csv', encoding='utf-8', index=False)"
   ]
  },
  {
   "cell_type": "code",
   "execution_count": null,
   "metadata": {
    "collapsed": true
   },
   "outputs": [],
   "source": [
    "tot = len(df1) + len(df2) + len(df3)"
   ]
  }
 ],
 "metadata": {
  "kernelspec": {
   "display_name": "Python 2",
   "language": "python",
   "name": "python2"
  },
  "language_info": {
   "codemirror_mode": {
    "name": "ipython",
    "version": 2
   },
   "file_extension": ".py",
   "mimetype": "text/x-python",
   "name": "python",
   "nbconvert_exporter": "python",
   "pygments_lexer": "ipython2",
   "version": "2.7.10"
  }
 },
 "nbformat": 4,
 "nbformat_minor": 2
}
