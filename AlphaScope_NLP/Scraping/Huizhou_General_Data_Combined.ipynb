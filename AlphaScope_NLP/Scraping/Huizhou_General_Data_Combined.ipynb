{
 "cells": [
  {
   "cell_type": "code",
   "execution_count": 1,
   "metadata": {
    "collapsed": true
   },
   "outputs": [],
   "source": [
    "import pandas as pd\n",
    "from selenium import webdriver \n",
    "from bs4 import BeautifulSoup\n",
    "import time\n",
    "\n",
    "from datetime import date, timedelta, datetime\n",
    "import os.path\n",
    "\n",
    "from dateutil.parser import parse"
   ]
  },
  {
   "cell_type": "code",
   "execution_count": 2,
   "metadata": {
    "collapsed": true
   },
   "outputs": [],
   "source": [
    "import sys  \n",
    "reload(sys)  \n",
    "sys.setdefaultencoding('utf-8')"
   ]
  },
  {
   "cell_type": "code",
   "execution_count": 3,
   "metadata": {
    "collapsed": false
   },
   "outputs": [],
   "source": [
    "#fname1 = 'data/general/anhuinews-huixue.csv'\n",
    "fname1 = 'data/general/hzwh-huixueyuanfu.csv'\n",
    "#fname1 = 'data/general/xinhs-huixueyuandi.csv'"
   ]
  },
  {
   "cell_type": "code",
   "execution_count": 4,
   "metadata": {
    "collapsed": true
   },
   "outputs": [],
   "source": [
    "def get_columns():\n",
    "    return ('dt', 'source', 'domain', 'url', 'title', 'summary', 'image', 'brief', 'body', 'raw_page', 'from') \n",
    "def get_empty_columns():\n",
    "    return ('', '', '', '', '', '', '', '', '', '', '') \n",
    "def get_empty_columns1():\n",
    "    return ('', '', '', '', '', '', '', '', '', '', '','') "
   ]
  },
  {
   "cell_type": "code",
   "execution_count": 5,
   "metadata": {
    "collapsed": false
   },
   "outputs": [],
   "source": [
    "if os.path.isfile(fname1): \n",
    "    df = pd.read_csv(fname1)\n",
    "    idx = len(df.index)\n",
    "else:\n",
    "    df = pd.DataFrame(columns = get_columns())\n",
    "    idx = 0"
   ]
  },
  {
   "cell_type": "code",
   "execution_count": 8,
   "metadata": {
    "collapsed": true
   },
   "outputs": [],
   "source": [
    "print len(df)"
   ]
  },
  {
   "cell_type": "code",
   "execution_count": null,
   "metadata": {
    "collapsed": true
   },
   "outputs": [],
   "source": [
    "for i in range(0, len(df)):\n",
    "    df.loc[i]['brief']"
   ]
  },
  {
   "cell_type": "code",
   "execution_count": 6,
   "metadata": {
    "collapsed": false
   },
   "outputs": [
    {
     "data": {
      "text/html": [
       "<div>\n",
       "<table border=\"1\" class=\"dataframe\">\n",
       "  <thead>\n",
       "    <tr style=\"text-align: right;\">\n",
       "      <th></th>\n",
       "      <th>dt</th>\n",
       "      <th>source</th>\n",
       "      <th>domain</th>\n",
       "      <th>url</th>\n",
       "      <th>title</th>\n",
       "      <th>summary</th>\n",
       "      <th>image</th>\n",
       "      <th>brief</th>\n",
       "      <th>body</th>\n",
       "      <th>raw_page</th>\n",
       "      <th>from</th>\n",
       "    </tr>\n",
       "  </thead>\n",
       "  <tbody>\n",
       "    <tr>\n",
       "      <th>0</th>\n",
       "      <td>2016-04-08</td>\n",
       "      <td>徽州文化网</td>\n",
       "      <td>NaN</td>\n",
       "      <td>www.hzwh.com/article.asp?id=2538</td>\n",
       "      <td>传统徽州仁商义贾践行商君子之道的历史启示</td>\n",
       "      <td>NaN</td>\n",
       "      <td>NaN</td>\n",
       "      <td>全国人大代表、民盟安徽省委副主委、安徽省文联副主席钱念孙先生在《光明日报》201..</td>\n",
       "      <td>NaN</td>\n",
       "      <td>&lt;div class=\"article_contents\"&gt;&lt;br/&gt;&lt;div class=...</td>\n",
       "      <td>NaN</td>\n",
       "    </tr>\n",
       "    <tr>\n",
       "      <th>1</th>\n",
       "      <td>2016-04-08</td>\n",
       "      <td>徽州文化网</td>\n",
       "      <td>NaN</td>\n",
       "      <td>www.hzwh.com/article.asp?id=2537</td>\n",
       "      <td>《阅读徽州》第七编“徽州科技”</td>\n",
       "      <td>NaN</td>\n",
       "      <td>NaN</td>\n",
       "      <td>长期以来，得益于灵山秀水自然环境的滋养、兴学重教社会风气的熏染、经世致用治学风格..</td>\n",
       "      <td>NaN</td>\n",
       "      <td>&lt;div class=\"article_contents\"&gt;&lt;br/&gt;&lt;div class=...</td>\n",
       "      <td>NaN</td>\n",
       "    </tr>\n",
       "    <tr>\n",
       "      <th>2</th>\n",
       "      <td>2016-04-08</td>\n",
       "      <td>徽州文化网</td>\n",
       "      <td>NaN</td>\n",
       "      <td>www.hzwh.com/article.asp?id=2536</td>\n",
       "      <td>传统徽商的诚信为本和仁义向善</td>\n",
       "      <td>NaN</td>\n",
       "      <td>NaN</td>\n",
       "      <td>徽州古楹联云“仁中取利真君子/义内求财大丈夫”。这是对传统徽商群体中那些仁商义贾..</td>\n",
       "      <td>NaN</td>\n",
       "      <td>&lt;div class=\"article_contents\"&gt;&lt;br/&gt;&lt;div class=...</td>\n",
       "      <td>NaN</td>\n",
       "    </tr>\n",
       "    <tr>\n",
       "      <th>3</th>\n",
       "      <td>2016-04-08</td>\n",
       "      <td>徽州文化网</td>\n",
       "      <td>NaN</td>\n",
       "      <td>www.hzwh.com/article.asp?id=2535</td>\n",
       "      <td>传统徽商的诚信为本和仁义向善</td>\n",
       "      <td>NaN</td>\n",
       "      <td>NaN</td>\n",
       "      <td>徽州古楹联云“仁中取利真君子/义内求财大丈夫”。这是对传统徽商群体中那些仁商义贾..</td>\n",
       "      <td>NaN</td>\n",
       "      <td>&lt;div class=\"article_contents\"&gt;&lt;br/&gt;&lt;div class=...</td>\n",
       "      <td>NaN</td>\n",
       "    </tr>\n",
       "    <tr>\n",
       "      <th>4</th>\n",
       "      <td>2016-04-08</td>\n",
       "      <td>徽州文化网</td>\n",
       "      <td>NaN</td>\n",
       "      <td>www.hzwh.com/article.asp?id=2534</td>\n",
       "      <td>黟县古城改造重要的是务须保住文教根脉</td>\n",
       "      <td>NaN</td>\n",
       "      <td>NaN</td>\n",
       "      <td>黟县进行古城改造并申报国家级历史文化名城总体方案正在逐步完善，各项工作正在有条不..</td>\n",
       "      <td>NaN</td>\n",
       "      <td>&lt;div class=\"article_contents\"&gt;&lt;br/&gt;&lt;div class=...</td>\n",
       "      <td>NaN</td>\n",
       "    </tr>\n",
       "  </tbody>\n",
       "</table>\n",
       "</div>"
      ],
      "text/plain": [
       "           dt source  domain                               url  \\\n",
       "0  2016-04-08  徽州文化网     NaN  www.hzwh.com/article.asp?id=2538   \n",
       "1  2016-04-08  徽州文化网     NaN  www.hzwh.com/article.asp?id=2537   \n",
       "2  2016-04-08  徽州文化网     NaN  www.hzwh.com/article.asp?id=2536   \n",
       "3  2016-04-08  徽州文化网     NaN  www.hzwh.com/article.asp?id=2535   \n",
       "4  2016-04-08  徽州文化网     NaN  www.hzwh.com/article.asp?id=2534   \n",
       "\n",
       "                  title  summary  image  \\\n",
       "0  传统徽州仁商义贾践行商君子之道的历史启示      NaN    NaN   \n",
       "1       《阅读徽州》第七编“徽州科技”      NaN    NaN   \n",
       "2        传统徽商的诚信为本和仁义向善      NaN    NaN   \n",
       "3        传统徽商的诚信为本和仁义向善      NaN    NaN   \n",
       "4    黟县古城改造重要的是务须保住文教根脉      NaN    NaN   \n",
       "\n",
       "                                        brief  body  \\\n",
       "0  全国人大代表、民盟安徽省委副主委、安徽省文联副主席钱念孙先生在《光明日报》201..   NaN   \n",
       "1  长期以来，得益于灵山秀水自然环境的滋养、兴学重教社会风气的熏染、经世致用治学风格..   NaN   \n",
       "2  徽州古楹联云“仁中取利真君子/义内求财大丈夫”。这是对传统徽商群体中那些仁商义贾..   NaN   \n",
       "3  徽州古楹联云“仁中取利真君子/义内求财大丈夫”。这是对传统徽商群体中那些仁商义贾..   NaN   \n",
       "4  黟县进行古城改造并申报国家级历史文化名城总体方案正在逐步完善，各项工作正在有条不..   NaN   \n",
       "\n",
       "                                            raw_page  from  \n",
       "0  <div class=\"article_contents\"><br/><div class=...   NaN  \n",
       "1  <div class=\"article_contents\"><br/><div class=...   NaN  \n",
       "2  <div class=\"article_contents\"><br/><div class=...   NaN  \n",
       "3  <div class=\"article_contents\"><br/><div class=...   NaN  \n",
       "4  <div class=\"article_contents\"><br/><div class=...   NaN  "
      ]
     },
     "execution_count": 6,
     "metadata": {},
     "output_type": "execute_result"
    }
   ],
   "source": [
    "df.head()"
   ]
  },
  {
   "cell_type": "code",
   "execution_count": 60,
   "metadata": {
    "collapsed": true
   },
   "outputs": [],
   "source": [
    "browser = webdriver.Firefox() "
   ]
  },
  {
   "cell_type": "code",
   "execution_count": 96,
   "metadata": {
    "collapsed": false
   },
   "outputs": [],
   "source": [
    "characters_num = 40\n",
    "new_df = pd.DataFrame(columns = get_columns())\n",
    "idx = 0\n",
    "\n",
    "for i in range(0, len(df)):\n",
    "    url_0 = 'http://' + df.loc[i]['url']\n",
    "    print url_0\n",
    "    browser.get(url_0)\n",
    "    time.sleep(6)\n",
    "    soup = BeautifulSoup(browser.page_source)\n",
    "    sub_texts = soup.findAll('div', {'class':'article_contents'})\n",
    "    for item in sub_texts:\n",
    "        #print item.text\n",
    "        tt = item.text\n",
    "        t0 = tt.split('\\n')\n",
    "        #skip first two rows for title and author\n",
    "        if(len(t0) <=2 ):\n",
    "            t1 = tt\n",
    "        else:\n",
    "            t1 = t0[2]\n",
    "        t2 = t1.decode('utf-8')\n",
    "        t3 = t2[0:characters_num]\n",
    "        t4 = t3.encode('utf-8') + '..'\n",
    "        #print t4\n",
    "        new_df.loc[idx] = get_empty_columns()\n",
    "        new_df.loc[idx]['url'] = df.loc[idx]['url']\n",
    "        new_df.loc[idx]['brief'] = t4\n",
    "        new_df.loc[idx]['title'] = df.loc[idx]['title']\n",
    "        new_df.loc[idx]['dt'] = df.loc[idx]['dt']\n",
    "        new_df.loc[idx]['source'] = df.loc[idx]['source']\n",
    "        new_df.loc[idx]['raw_page'] = item  \n",
    "        idx +=1   \n",
    "        time.sleep(66)"
   ]
  },
  {
   "cell_type": "code",
   "execution_count": 97,
   "metadata": {
    "collapsed": true
   },
   "outputs": [],
   "source": [
    "print i"
   ]
  },
  {
   "cell_type": "code",
   "execution_count": 91,
   "metadata": {
    "collapsed": true
   },
   "outputs": [],
   "source": [
    "print len(new_df)"
   ]
  },
  {
   "cell_type": "code",
   "execution_count": 90,
   "metadata": {
    "collapsed": false
   },
   "outputs": [
    {
     "data": {
      "text/html": [
       "<div>\n",
       "<table border=\"1\" class=\"dataframe\">\n",
       "  <thead>\n",
       "    <tr style=\"text-align: right;\">\n",
       "      <th></th>\n",
       "      <th>dt</th>\n",
       "      <th>source</th>\n",
       "      <th>domain</th>\n",
       "      <th>url</th>\n",
       "      <th>title</th>\n",
       "      <th>summary</th>\n",
       "      <th>image</th>\n",
       "      <th>brief</th>\n",
       "      <th>body</th>\n",
       "      <th>raw_page</th>\n",
       "      <th>from</th>\n",
       "    </tr>\n",
       "  </thead>\n",
       "  <tbody>\n",
       "    <tr>\n",
       "      <th>0</th>\n",
       "      <td>2016-04-08</td>\n",
       "      <td>徽州文化网</td>\n",
       "      <td></td>\n",
       "      <td>www.hzwh.com/article.asp?id=2538</td>\n",
       "      <td>传统徽州仁商义贾践行商君子之道的历史启示</td>\n",
       "      <td></td>\n",
       "      <td></td>\n",
       "      <td>全国人大代表、民盟安徽省委副主委、安徽省文联副主席钱念孙先生在《光明日报》201..</td>\n",
       "      <td></td>\n",
       "      <td></td>\n",
       "      <td></td>\n",
       "    </tr>\n",
       "  </tbody>\n",
       "</table>\n",
       "</div>"
      ],
      "text/plain": [
       "           dt source domain                               url  \\\n",
       "0  2016-04-08  徽州文化网         www.hzwh.com/article.asp?id=2538   \n",
       "\n",
       "                  title summary image  \\\n",
       "0  传统徽州仁商义贾践行商君子之道的历史启示                 \n",
       "\n",
       "                                        brief body raw_page from  \n",
       "0  全国人大代表、民盟安徽省委副主委、安徽省文联副主席钱念孙先生在《光明日报》201..                     "
      ]
     },
     "execution_count": 90,
     "metadata": {},
     "output_type": "execute_result"
    }
   ],
   "source": [
    "new_df.head()"
   ]
  },
  {
   "cell_type": "code",
   "execution_count": 81,
   "metadata": {
    "collapsed": true
   },
   "outputs": [],
   "source": [
    "import sys  \n",
    "reload(sys)  \n",
    "sys.setdefaultencoding('utf-8')"
   ]
  },
  {
   "cell_type": "code",
   "execution_count": 86,
   "metadata": {
    "collapsed": false
   },
   "outputs": [],
   "source": [
    "t2 = t1.decode('utf-8')\n",
    "t3 = t2[0:100]\n",
    "print t3.encode('utf-8') + '..'"
   ]
  },
  {
   "cell_type": "code",
   "execution_count": 85,
   "metadata": {
    "collapsed": true
   },
   "outputs": [],
   "source": []
  },
  {
   "cell_type": "code",
   "execution_count": null,
   "metadata": {
    "collapsed": true
   },
   "outputs": [],
   "source": [
    "titles = soup.findAll('div', {'class':'article_title'})\n",
    "for "
   ]
  },
  {
   "cell_type": "code",
   "execution_count": 42,
   "metadata": {
    "collapsed": true
   },
   "outputs": [],
   "source": [
    "df.to_csv(fname1, encoding='utf-8', index=False)"
   ]
  },
  {
   "cell_type": "code",
   "execution_count": null,
   "metadata": {
    "collapsed": true
   },
   "outputs": [],
   "source": [
    "tot = len(df1) + len(df2) + len(df3)"
   ]
  }
 ],
 "metadata": {
  "kernelspec": {
   "display_name": "Python 2",
   "language": "python",
   "name": "python2"
  },
  "language_info": {
   "codemirror_mode": {
    "name": "ipython",
    "version": 2
   },
   "file_extension": ".py",
   "mimetype": "text/x-python",
   "name": "python",
   "nbconvert_exporter": "python",
   "pygments_lexer": "ipython2",
   "version": "2.7.10"
  }
 },
 "nbformat": 4,
 "nbformat_minor": 2
}
