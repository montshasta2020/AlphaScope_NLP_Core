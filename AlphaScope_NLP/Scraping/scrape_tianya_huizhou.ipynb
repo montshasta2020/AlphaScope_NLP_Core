{
 "cells": [
  {
   "cell_type": "code",
   "execution_count": 1,
   "metadata": {
    "collapsed": false
   },
   "outputs": [],
   "source": [
    "import pandas as pd\n",
    "from selenium import webdriver \n",
    "from bs4 import BeautifulSoup\n",
    "import time\n",
    "import re"
   ]
  },
  {
   "cell_type": "code",
   "execution_count": 2,
   "metadata": {
    "collapsed": true
   },
   "outputs": [],
   "source": [
    "from datetime import date, timedelta, datetime\n",
    "import os.path"
   ]
  },
  {
   "cell_type": "code",
   "execution_count": 3,
   "metadata": {
    "collapsed": false
   },
   "outputs": [],
   "source": [
    "t0 =  date.today()"
   ]
  },
  {
   "cell_type": "code",
   "execution_count": 4,
   "metadata": {
    "collapsed": true
   },
   "outputs": [],
   "source": [
    "news_url='http://bbs.tianya.cn/list.jsp?item=309&nextid=1453777551000'\n",
    "\n",
    "datetime_str = t0\n",
    "fname1 = './data/general/temp/' + 'tianya-huiwenhua' + '.csv'\n",
    "fname2 = './data/general/' + 'tianya-huiwenhua' + '.csv'\n"
   ]
  },
  {
   "cell_type": "code",
   "execution_count": 5,
   "metadata": {
    "collapsed": true
   },
   "outputs": [],
   "source": [
    "def get_columns():\n",
    "    return ('dt', 'source', 'domain', 'url', 'title', 'summary', 'image', 'brief', 'body', 'raw_page', 'from') \n",
    "def get_empty_columns():\n",
    "    return ('', '', '', '', '', '', '', '', '', '', '') \n",
    "def get_empty_columns1():\n",
    "    return ('', '', '', '', '', '', '', '', '', '', '','') \n",
    "\n"
   ]
  },
  {
   "cell_type": "code",
   "execution_count": 6,
   "metadata": {
    "collapsed": false
   },
   "outputs": [],
   "source": [
    "browser = webdriver.Firefox() \n",
    "#browser = webdriver.Chrome('/Users/nhu2000/Downloads/Chromedriver')"
   ]
  },
  {
   "cell_type": "code",
   "execution_count": 7,
   "metadata": {
    "collapsed": false
   },
   "outputs": [],
   "source": [
    "if os.path.isfile(fname1): \n",
    "    df = pd.read_csv(fname1)\n",
    "    idx = len(df.index)\n",
    "else:\n",
    "    df = pd.DataFrame(columns = get_columns())\n",
    "    idx = 0"
   ]
  },
  {
   "cell_type": "code",
   "execution_count": 8,
   "metadata": {
    "collapsed": false
   },
   "outputs": [],
   "source": [
    "if os.path.isfile(fname2): \n",
    "    df_check = pd.read_csv(fname2)\n",
    "    idx = len(df.index)\n",
    "else:\n",
    "    df_check = pd.DataFrame(columns = get_columns())\n",
    "    idx = 0"
   ]
  },
  {
   "cell_type": "markdown",
   "metadata": {
    "collapsed": true
   },
   "source": [
    "if os.path.isfile(fname2): \n",
    "    df_0 = pd.read_csv(fname2)\n",
    "else:\n",
    "    df_0 = pd.DataFrame(columns = get_columns())"
   ]
  },
  {
   "cell_type": "code",
   "execution_count": 13,
   "metadata": {
    "collapsed": false
   },
   "outputs": [
    {
     "name": "stdout",
     "output_type": "stream",
     "text": [
      "0\n"
     ]
    }
   ],
   "source": [
    "print len(df_check)"
   ]
  },
  {
   "cell_type": "code",
   "execution_count": 14,
   "metadata": {
    "collapsed": false
   },
   "outputs": [
    {
     "name": "stdout",
     "output_type": "stream",
     "text": [
      "0\n"
     ]
    }
   ],
   "source": [
    "print len(df)"
   ]
  },
  {
   "cell_type": "markdown",
   "metadata": {
    "collapsed": false
   },
   "source": [
    "browser.get(news_url)\n",
    "time.sleep(5)"
   ]
  },
  {
   "cell_type": "code",
   "execution_count": 9,
   "metadata": {
    "collapsed": false
   },
   "outputs": [
    {
     "name": "stdout",
     "output_type": "stream",
     "text": [
      "http://bbs.tianya.cn/list.jsp?item=309&nextid=1453777551000\n"
     ]
    },
    {
     "ename": "WebDriverException",
     "evalue": "Message: Failed to decode response from marionette\n",
     "output_type": "error",
     "traceback": [
      "\u001b[0;31m---------------------------------------------------------------------------\u001b[0m",
      "\u001b[0;31mWebDriverException\u001b[0m                        Traceback (most recent call last)",
      "\u001b[0;32m<ipython-input-9-9da1149e234f>\u001b[0m in \u001b[0;36m<module>\u001b[0;34m()\u001b[0m\n\u001b[1;32m      1\u001b[0m \u001b[0murl_0\u001b[0m \u001b[0;34m=\u001b[0m \u001b[0mnews_url\u001b[0m\u001b[0;34m\u001b[0m\u001b[0m\n\u001b[1;32m      2\u001b[0m \u001b[0;32mprint\u001b[0m \u001b[0murl_0\u001b[0m\u001b[0;34m\u001b[0m\u001b[0m\n\u001b[0;32m----> 3\u001b[0;31m \u001b[0mbrowser\u001b[0m\u001b[0;34m.\u001b[0m\u001b[0mget\u001b[0m\u001b[0;34m(\u001b[0m\u001b[0murl_0\u001b[0m\u001b[0;34m)\u001b[0m\u001b[0;34m\u001b[0m\u001b[0m\n\u001b[0m\u001b[1;32m      4\u001b[0m \u001b[0mtime\u001b[0m\u001b[0;34m.\u001b[0m\u001b[0msleep\u001b[0m\u001b[0;34m(\u001b[0m\u001b[0;36m5\u001b[0m\u001b[0;34m)\u001b[0m\u001b[0;34m\u001b[0m\u001b[0m\n",
      "\u001b[0;32m/usr/local/lib/python2.7/site-packages/selenium/webdriver/remote/webdriver.pyc\u001b[0m in \u001b[0;36mget\u001b[0;34m(self, url)\u001b[0m\n\u001b[1;32m    246\u001b[0m         \u001b[0mLoads\u001b[0m \u001b[0ma\u001b[0m \u001b[0mweb\u001b[0m \u001b[0mpage\u001b[0m \u001b[0;32min\u001b[0m \u001b[0mthe\u001b[0m \u001b[0mcurrent\u001b[0m \u001b[0mbrowser\u001b[0m \u001b[0msession\u001b[0m\u001b[0;34m.\u001b[0m\u001b[0;34m\u001b[0m\u001b[0m\n\u001b[1;32m    247\u001b[0m         \"\"\"\n\u001b[0;32m--> 248\u001b[0;31m         \u001b[0mself\u001b[0m\u001b[0;34m.\u001b[0m\u001b[0mexecute\u001b[0m\u001b[0;34m(\u001b[0m\u001b[0mCommand\u001b[0m\u001b[0;34m.\u001b[0m\u001b[0mGET\u001b[0m\u001b[0;34m,\u001b[0m \u001b[0;34m{\u001b[0m\u001b[0;34m'url'\u001b[0m\u001b[0;34m:\u001b[0m \u001b[0murl\u001b[0m\u001b[0;34m}\u001b[0m\u001b[0;34m)\u001b[0m\u001b[0;34m\u001b[0m\u001b[0m\n\u001b[0m\u001b[1;32m    249\u001b[0m \u001b[0;34m\u001b[0m\u001b[0m\n\u001b[1;32m    250\u001b[0m     \u001b[0;34m@\u001b[0m\u001b[0mproperty\u001b[0m\u001b[0;34m\u001b[0m\u001b[0m\n",
      "\u001b[0;32m/usr/local/lib/python2.7/site-packages/selenium/webdriver/remote/webdriver.pyc\u001b[0m in \u001b[0;36mexecute\u001b[0;34m(self, driver_command, params)\u001b[0m\n\u001b[1;32m    234\u001b[0m         \u001b[0mresponse\u001b[0m \u001b[0;34m=\u001b[0m \u001b[0mself\u001b[0m\u001b[0;34m.\u001b[0m\u001b[0mcommand_executor\u001b[0m\u001b[0;34m.\u001b[0m\u001b[0mexecute\u001b[0m\u001b[0;34m(\u001b[0m\u001b[0mdriver_command\u001b[0m\u001b[0;34m,\u001b[0m \u001b[0mparams\u001b[0m\u001b[0;34m)\u001b[0m\u001b[0;34m\u001b[0m\u001b[0m\n\u001b[1;32m    235\u001b[0m         \u001b[0;32mif\u001b[0m \u001b[0mresponse\u001b[0m\u001b[0;34m:\u001b[0m\u001b[0;34m\u001b[0m\u001b[0m\n\u001b[0;32m--> 236\u001b[0;31m             \u001b[0mself\u001b[0m\u001b[0;34m.\u001b[0m\u001b[0merror_handler\u001b[0m\u001b[0;34m.\u001b[0m\u001b[0mcheck_response\u001b[0m\u001b[0;34m(\u001b[0m\u001b[0mresponse\u001b[0m\u001b[0;34m)\u001b[0m\u001b[0;34m\u001b[0m\u001b[0m\n\u001b[0m\u001b[1;32m    237\u001b[0m             response['value'] = self._unwrap_value(\n\u001b[1;32m    238\u001b[0m                 response.get('value', None))\n",
      "\u001b[0;32m/usr/local/lib/python2.7/site-packages/selenium/webdriver/remote/errorhandler.pyc\u001b[0m in \u001b[0;36mcheck_response\u001b[0;34m(self, response)\u001b[0m\n\u001b[1;32m    190\u001b[0m         \u001b[0;32melif\u001b[0m \u001b[0mexception_class\u001b[0m \u001b[0;34m==\u001b[0m \u001b[0mUnexpectedAlertPresentException\u001b[0m \u001b[0;32mand\u001b[0m \u001b[0;34m'alert'\u001b[0m \u001b[0;32min\u001b[0m \u001b[0mvalue\u001b[0m\u001b[0;34m:\u001b[0m\u001b[0;34m\u001b[0m\u001b[0m\n\u001b[1;32m    191\u001b[0m             \u001b[0;32mraise\u001b[0m \u001b[0mexception_class\u001b[0m\u001b[0;34m(\u001b[0m\u001b[0mmessage\u001b[0m\u001b[0;34m,\u001b[0m \u001b[0mscreen\u001b[0m\u001b[0;34m,\u001b[0m \u001b[0mstacktrace\u001b[0m\u001b[0;34m,\u001b[0m \u001b[0mvalue\u001b[0m\u001b[0;34m[\u001b[0m\u001b[0;34m'alert'\u001b[0m\u001b[0;34m]\u001b[0m\u001b[0;34m.\u001b[0m\u001b[0mget\u001b[0m\u001b[0;34m(\u001b[0m\u001b[0;34m'text'\u001b[0m\u001b[0;34m)\u001b[0m\u001b[0;34m)\u001b[0m\u001b[0;34m\u001b[0m\u001b[0m\n\u001b[0;32m--> 192\u001b[0;31m         \u001b[0;32mraise\u001b[0m \u001b[0mexception_class\u001b[0m\u001b[0;34m(\u001b[0m\u001b[0mmessage\u001b[0m\u001b[0;34m,\u001b[0m \u001b[0mscreen\u001b[0m\u001b[0;34m,\u001b[0m \u001b[0mstacktrace\u001b[0m\u001b[0;34m)\u001b[0m\u001b[0;34m\u001b[0m\u001b[0m\n\u001b[0m\u001b[1;32m    193\u001b[0m \u001b[0;34m\u001b[0m\u001b[0m\n\u001b[1;32m    194\u001b[0m     \u001b[0;32mdef\u001b[0m \u001b[0m_value_or_default\u001b[0m\u001b[0;34m(\u001b[0m\u001b[0mself\u001b[0m\u001b[0;34m,\u001b[0m \u001b[0mobj\u001b[0m\u001b[0;34m,\u001b[0m \u001b[0mkey\u001b[0m\u001b[0;34m,\u001b[0m \u001b[0mdefault\u001b[0m\u001b[0;34m)\u001b[0m\u001b[0;34m:\u001b[0m\u001b[0;34m\u001b[0m\u001b[0m\n",
      "\u001b[0;31mWebDriverException\u001b[0m: Message: Failed to decode response from marionette\n"
     ]
    }
   ],
   "source": [
    "url_0 = news_url\n",
    "print url_0\n",
    "browser.get(url_0)\n",
    "time.sleep(5)"
   ]
  },
  {
   "cell_type": "code",
   "execution_count": 59,
   "metadata": {
    "collapsed": true
   },
   "outputs": [],
   "source": [
    "idx = 0\n",
    "not_existed = False\n",
    "df = pd.DataFrame(columns = get_columns())"
   ]
  },
  {
   "cell_type": "code",
   "execution_count": 122,
   "metadata": {
    "collapsed": false
   },
   "outputs": [
    {
     "name": "stdout",
     "output_type": "stream",
     "text": [
      "三段随笔\n",
      "http://bbs.tianya.cn//post-309-1876-1.shtml\n",
      "09-03 20:10\n",
      "在黄山时的两段随笔\n",
      "http://bbs.tianya.cn//post-309-1877-1.shtml\n",
      "09-03 19:21\n",
      "安徽戏剧　推荐\n",
      "http://bbs.tianya.cn//post-309-1865-1.shtml\n",
      "09-03 18:12\n",
      "第11\n",
      "http://bbs.tianya.cn//post-309-11-1.shtml\n",
      "09-03 17:21\n",
      "诗人死了，诗歌万岁\n",
      "http://bbs.tianya.cn//post-309-1884-1.shtml\n",
      "09-03 15:42\n",
      "初恋的朋友\n",
      "http://bbs.tianya.cn//post-309-45-1.shtml\n",
      "09-03 12:56\n",
      "无题\n",
      "http://bbs.tianya.cn//post-309-1878-1.shtml\n",
      "09-03 11:06\n",
      "[音乐心情]蓝莲花(贴图)\n",
      "http://bbs.tianya.cn//post-309-1868-1.shtml\n",
      "09-03 09:47\n",
      "邪魅霓裳乱攒文字之顺口溜\n",
      "http://bbs.tianya.cn//post-309-1874-1.shtml\n",
      "09-03 07:46\n",
      "1966之一代\n",
      "http://bbs.tianya.cn//post-309-1872-1.shtml\n",
      "09-02 23:27\n",
      "恭喜飘然旷野\n",
      "http://bbs.tianya.cn//post-309-1795-1.shtml\n",
      "09-02 22:43\n",
      "人总有一次会失望的\n",
      "http://bbs.tianya.cn//post-309-1794-1.shtml\n",
      "09-02 22:31\n",
      "滥文章，吐它一口痰\n",
      "http://bbs.tianya.cn//post-309-1852-1.shtml\n",
      "09-02 21:06\n",
      "断章\n",
      "http://bbs.tianya.cn//post-309-1855-1.shtml\n",
      "09-02 19:16\n",
      "且忆且珍惜\n",
      "http://bbs.tianya.cn//post-309-1866-1.shtml\n",
      "09-02 17:35\n",
      "我喜欢的祖海(贴图)\n",
      "http://bbs.tianya.cn//post-309-1831-1.shtml\n",
      "09-02 16:33\n",
      "凑个热闹\n",
      "http://bbs.tianya.cn//post-309-10-1.shtml\n",
      "09-02 16:29\n",
      "读“清溪一叶舟”言语有感：\n",
      "http://bbs.tianya.cn//post-309-43-1.shtml\n",
      "09-02 13:46\n",
      "顶一个先\n",
      "http://bbs.tianya.cn//post-309-13-1.shtml\n",
      "09-02 11:57\n",
      "[转帖]《徽州女人》中悲剧精神的缺失\n",
      "http://bbs.tianya.cn//post-309-1862-1.shtml\n",
      "09-02 08:32\n",
      "一部以合肥为背景的都市小说《没什么，只是我很寂寞》\n",
      "http://bbs.tianya.cn//post-309-1859-1.shtml\n",
      "09-01 23:57\n",
      "从乌衣巷到什刹海(转载)\n",
      "http://bbs.tianya.cn//post-309-1856-1.shtml\n",
      "09-01 23:13\n",
      "怎么看待街头乞丐\n",
      "http://bbs.tianya.cn//post-309-1806-1.shtml\n",
      "09-01 23:00\n",
      "我正在创作的第二部小说《记者》\n",
      "http://bbs.tianya.cn//post-309-1860-1.shtml\n",
      "09-01 22:58\n",
      "欢迎光临徽文化\n",
      "http://bbs.tianya.cn//post-309-1854-1.shtml\n",
      "09-01 21:53\n",
      "[散文]清清的鉴湖水(贴图)\n",
      "http://bbs.tianya.cn//post-309-1824-1.shtml\n",
      "09-01 19:27\n",
      "上辈子我一定是一只猫\n",
      "http://bbs.tianya.cn//post-309-1825-1.shtml\n",
      "09-01 19:11\n",
      "深夜随感\n",
      "http://bbs.tianya.cn//post-309-1853-1.shtml\n",
      "09-01 18:34\n",
      "请管好你的舌头！\n",
      "http://bbs.tianya.cn//post-309-1848-1.shtml\n",
      "09-01 16:39\n",
      "谈人生！\n",
      "http://bbs.tianya.cn//post-309-1821-1.shtml\n",
      "09-01 16:12\n",
      "[风悲在野]　山水之路　（旧贴重发）\n",
      "http://bbs.tianya.cn//post-309-1834-1.shtml\n",
      "09-01 11:09\n",
      "我们需要徽文化!\n",
      "http://bbs.tianya.cn//post-309-1815-1.shtml\n",
      "09-01 10:11\n",
      "人生的十字路口\n",
      "http://bbs.tianya.cn//post-309-1817-1.shtml\n",
      "09-01 07:01\n",
      "鬼节？？你信有鬼吗？\n",
      "http://bbs.tianya.cn//post-309-1844-1.shtml\n",
      "09-01 00:08\n",
      "灌水\n",
      "http://bbs.tianya.cn//post-309-1851-1.shtml\n",
      "08-31 23:20\n",
      "成语接龙——玩个老游戏\n",
      "http://bbs.tianya.cn//post-309-1808-1.shtml\n",
      "08-31 23:07\n",
      "鬼的节日\n",
      "http://bbs.tianya.cn//post-309-1840-1.shtml\n",
      "08-31 23:07\n",
      "捉鱼\n",
      "http://bbs.tianya.cn//post-309-1837-1.shtml\n",
      "08-31 23:02\n",
      "[心情驿站]思  绪\n",
      "http://bbs.tianya.cn//post-309-1841-1.shtml\n",
      "08-31 21:14\n",
      "[社区公告]天涯社区城市文化版斑竹调整\n",
      "http://bbs.tianya.cn//post-309-1839-1.shtml\n",
      "08-31 18:04\n",
      "刘姥姥游赏大观园\n",
      "http://bbs.tianya.cn//post-309-1843-1.shtml\n",
      "08-31 16:50\n",
      "[版主申请]申请徽文化版版主\n",
      "http://bbs.tianya.cn//post-309-1828-1.shtml\n",
      "08-31 16:28\n",
      "申请文化版版主\n",
      "http://bbs.tianya.cn//post-309-1820-1.shtml\n",
      "08-31 16:20\n",
      "爱护设备\n",
      "http://bbs.tianya.cn//post-309-1781-1.shtml\n",
      "08-31 15:25\n",
      "网恋给了我们什么（欢迎讨论）\n",
      "http://bbs.tianya.cn//post-309-1823-1.shtml\n",
      "08-31 12:22\n",
      "徽版新气象\n",
      "http://bbs.tianya.cn//post-309-1835-1.shtml\n",
      "08-31 11:50\n",
      "赶庙会\n",
      "http://bbs.tianya.cn//post-309-1832-1.shtml\n",
      "08-31 11:47\n",
      "凑个数哈~\n",
      "http://bbs.tianya.cn//post-309-1827-1.shtml\n",
      "08-31 11:18\n",
      "我们为安徽未来的发展说句\n",
      "http://bbs.tianya.cn//post-309-1804-1.shtml\n",
      "08-31 09:54\n",
      "昆虫印象－－蝈蝈\n",
      "http://bbs.tianya.cn//post-309-1818-1.shtml\n",
      "08-31 08:07\n",
      "我要来黄山！\n",
      "http://bbs.tianya.cn//post-309-1814-1.shtml\n",
      "08-30 22:31\n",
      "拥有了才觉得美丽\n",
      "http://bbs.tianya.cn//post-309-1807-1.shtml\n",
      "08-30 22:05\n",
      "安徽，我的家\n",
      "http://bbs.tianya.cn//post-309-1800-1.shtml\n",
      "08-30 20:56\n",
      "为什么发表文章不能超过4500字\n",
      "http://bbs.tianya.cn//post-309-1798-1.shtml\n",
      "08-30 19:44\n",
      "[呐喊]支持飘然旷野做徽文化版主的请进来回个贴\n",
      "http://bbs.tianya.cn//post-309-1783-1.shtml\n",
      "08-30 19:40\n",
      "悲哀(贴图)\n",
      "http://bbs.tianya.cn//post-309-1812-1.shtml\n",
      "08-30 17:24\n",
      "恭喜!飘然旷野 申斑成功!\n",
      "http://bbs.tianya.cn//post-309-1789-1.shtml\n",
      "08-30 14:07\n",
      "嘿嘿~~第三帖\n",
      "http://bbs.tianya.cn//post-309-1778-1.shtml\n",
      "08-30 13:27\n",
      "唯愿抱紧眼前人\n",
      "http://bbs.tianya.cn//post-309-1805-1.shtml\n",
      "08-30 12:45\n",
      "后游侠时代-----记秦武阳\n",
      "http://bbs.tianya.cn//post-309-1799-1.shtml\n",
      "08-30 12:00\n",
      "又有了第四帖\n",
      "http://bbs.tianya.cn//post-309-4-1.shtml\n",
      "08-30 11:13\n",
      "人过留名\n",
      "http://bbs.tianya.cn//post-309-8-1.shtml\n",
      "08-30 10:43\n",
      "[社区公告]增加飘然旷野为天涯徽文化版特邀斑竹\n",
      "http://bbs.tianya.cn//post-309-1790-1.shtml\n",
      "08-30 07:49\n",
      "雁过留声\n",
      "http://bbs.tianya.cn//post-309-1777-1.shtml\n",
      "08-30 07:01\n",
      "前十名！\n",
      "http://bbs.tianya.cn//post-309-1780-1.shtml\n",
      "08-30 06:59\n",
      "版主____________您请进!\n",
      "http://bbs.tianya.cn//post-309-1802-1.shtml\n",
      "08-30 06:01\n",
      "偶是有文化滴人~~\n",
      "http://bbs.tianya.cn//post-309-1779-1.shtml\n",
      "08-30 05:56\n",
      "我要申请当斑竹\n",
      "http://bbs.tianya.cn//post-309-1786-1.shtml\n",
      "08-29 23:56\n",
      "听雨的况味\n",
      "http://bbs.tianya.cn//post-309-33-1.shtml\n",
      "08-29 21:03\n",
      "投石问路\n",
      "http://bbs.tianya.cn//post-309-1772-1.shtml\n",
      "08-29 19:34\n",
      "恭喜飘然旷野\n",
      "http://bbs.tianya.cn//post-309-1793-1.shtml\n",
      "08-29 18:47\n",
      "恭喜飘然旷野！！~~~~~~~~~~~~\n",
      "http://bbs.tianya.cn//post-309-1797-1.shtml\n",
      "08-29 18:09\n",
      "首帖\n",
      "http://bbs.tianya.cn//post-309-1-1.shtml\n",
      "08-29 17:52\n",
      "转贴,献礼(转载)\n",
      "http://bbs.tianya.cn//post-309-1784-1.shtml\n",
      "08-29 00:12\n",
      "安天下，徽人家，这样的版块值得期待\n",
      "http://bbs.tianya.cn//post-309-1775-1.shtml\n",
      "08-29 00:10\n",
      "为何只见上不见下？\n",
      "http://bbs.tianya.cn//post-309-1791-1.shtml\n",
      "08-28 23:09\n",
      "四分五裂\n",
      "http://bbs.tianya.cn//post-309-15-1.shtml\n",
      "08-28 14:21\n",
      "又一个第四帖\n",
      "http://bbs.tianya.cn//post-309-1774-1.shtml\n",
      "08-26 17:58\n",
      "首帖\n",
      "http://bbs.tianya.cn//post-309-1771-1.shtml\n",
      "08-26 13:12\n",
      "[版务公告]安徽版新增文化版、城市版斑竹招聘\n",
      "http://bbs.tianya.cn//post-309-1776-1.shtml\n",
      "08-25 19:53\n"
     ]
    }
   ],
   "source": [
    "soup = BeautifulSoup(browser.page_source)\n",
    "sub_text = soup.findAll('table', {'class': lambda L: L and L.startswith('tab-bbs-list tab-bbs-list-2')})\n",
    "#sub_text = soup.findAll('table', {'class': 'mt5'})\n",
    "\n",
    "for item in sub_text:\n",
    "    bbs_list = item\n",
    "#    print item.text\n",
    "\n",
    "init = 0\n",
    "sub_text = soup.findAll('tbody')\n",
    "for item in sub_text:\n",
    "    if init == 0:\n",
    "        init = 1\n",
    "    else:\n",
    "        #lst = item.findAll('tr', {'class': 'bg'})\n",
    "        lst = item.findAll('tr')\n",
    "        \n",
    "        s0 = ''\n",
    "        s1 = ''\n",
    "        s2 = ''\n",
    "        for t1 in lst:                \n",
    "            #print t1\n",
    "            tds = t1.findAll('td')\n",
    "            cnt = 0\n",
    "            for td in tds:\n",
    "                if cnt == 0:\n",
    "                    s0 = td.text.strip('\\t\\n')\n",
    "                    s1 =  'http://bbs.tianya.cn/' + td.a['href']\n",
    "                elif cnt == 4:\n",
    "                    s2 = td.text\n",
    "                cnt += 1\n",
    "\n",
    "            print s0\n",
    "            print s1\n",
    "            print s2\n",
    "            df.loc[idx] = get_empty_columns()        \n",
    "            df.loc[idx]['url'] = s1\n",
    "            df.loc[idx]['title'] = s0\n",
    "            df.loc[idx]['source'] = '天涯论坛'\n",
    "            df.loc[idx]['dt'] = s2\n",
    "            idx += 1\n"
   ]
  },
  {
   "cell_type": "code",
   "execution_count": 123,
   "metadata": {
    "collapsed": false
   },
   "outputs": [
    {
     "name": "stdout",
     "output_type": "stream",
     "text": [
      "3760\n"
     ]
    }
   ],
   "source": [
    "print idx"
   ]
  },
  {
   "cell_type": "code",
   "execution_count": 124,
   "metadata": {
    "collapsed": false
   },
   "outputs": [
    {
     "data": {
      "text/html": [
       "<div>\n",
       "<table border=\"1\" class=\"dataframe\">\n",
       "  <thead>\n",
       "    <tr style=\"text-align: right;\">\n",
       "      <th></th>\n",
       "      <th>dt</th>\n",
       "      <th>source</th>\n",
       "      <th>domain</th>\n",
       "      <th>url</th>\n",
       "      <th>title</th>\n",
       "      <th>summary</th>\n",
       "      <th>image</th>\n",
       "      <th>brief</th>\n",
       "      <th>body</th>\n",
       "      <th>raw_page</th>\n",
       "      <th>from</th>\n",
       "    </tr>\n",
       "  </thead>\n",
       "  <tbody>\n",
       "    <tr>\n",
       "      <th>0</th>\n",
       "      <td>01-26 11:04</td>\n",
       "      <td>天涯论坛</td>\n",
       "      <td></td>\n",
       "      <td>http://bbs.tianya.cn//post-309-4346-1.shtml</td>\n",
       "      <td>刘晓庆“胆子太大了” 人民大会堂成功首演话剧《武则天》</td>\n",
       "      <td></td>\n",
       "      <td></td>\n",
       "      <td></td>\n",
       "      <td></td>\n",
       "      <td></td>\n",
       "      <td></td>\n",
       "    </tr>\n",
       "    <tr>\n",
       "      <th>1</th>\n",
       "      <td>01-26 11:00</td>\n",
       "      <td>天涯论坛</td>\n",
       "      <td></td>\n",
       "      <td>http://bbs.tianya.cn//post-309-4347-1.shtml</td>\n",
       "      <td>金山竹马（安庆风景）——卒子走遍安庆</td>\n",
       "      <td></td>\n",
       "      <td></td>\n",
       "      <td></td>\n",
       "      <td></td>\n",
       "      <td></td>\n",
       "      <td></td>\n",
       "    </tr>\n",
       "    <tr>\n",
       "      <th>2</th>\n",
       "      <td>01-26 10:59</td>\n",
       "      <td>天涯论坛</td>\n",
       "      <td></td>\n",
       "      <td>http://bbs.tianya.cn//post-309-4351-1.shtml</td>\n",
       "      <td>组诗：风风雨雨上徽州</td>\n",
       "      <td></td>\n",
       "      <td></td>\n",
       "      <td></td>\n",
       "      <td></td>\n",
       "      <td></td>\n",
       "      <td></td>\n",
       "    </tr>\n",
       "    <tr>\n",
       "      <th>3</th>\n",
       "      <td>01-26 10:57</td>\n",
       "      <td>天涯论坛</td>\n",
       "      <td></td>\n",
       "      <td>http://bbs.tianya.cn//post-309-4353-1.shtml</td>\n",
       "      <td>父亲战斗的一生</td>\n",
       "      <td></td>\n",
       "      <td></td>\n",
       "      <td></td>\n",
       "      <td></td>\n",
       "      <td></td>\n",
       "      <td></td>\n",
       "    </tr>\n",
       "    <tr>\n",
       "      <th>4</th>\n",
       "      <td>01-26 10:53</td>\n",
       "      <td>天涯论坛</td>\n",
       "      <td></td>\n",
       "      <td>http://bbs.tianya.cn//post-309-4355-1.shtml</td>\n",
       "      <td>诗二首：天堂梦语</td>\n",
       "      <td></td>\n",
       "      <td></td>\n",
       "      <td></td>\n",
       "      <td></td>\n",
       "      <td></td>\n",
       "      <td></td>\n",
       "    </tr>\n",
       "  </tbody>\n",
       "</table>\n",
       "</div>"
      ],
      "text/plain": [
       "            dt source domain                                          url  \\\n",
       "0  01-26 11:04   天涯论坛         http://bbs.tianya.cn//post-309-4346-1.shtml   \n",
       "1  01-26 11:00   天涯论坛         http://bbs.tianya.cn//post-309-4347-1.shtml   \n",
       "2  01-26 10:59   天涯论坛         http://bbs.tianya.cn//post-309-4351-1.shtml   \n",
       "3  01-26 10:57   天涯论坛         http://bbs.tianya.cn//post-309-4353-1.shtml   \n",
       "4  01-26 10:53   天涯论坛         http://bbs.tianya.cn//post-309-4355-1.shtml   \n",
       "\n",
       "                         title summary image brief body raw_page from  \n",
       "0  刘晓庆“胆子太大了” 人民大会堂成功首演话剧《武则天》                                         \n",
       "1           金山竹马（安庆风景）——卒子走遍安庆                                         \n",
       "2                   组诗：风风雨雨上徽州                                         \n",
       "3                      父亲战斗的一生                                         \n",
       "4                     诗二首：天堂梦语                                         "
      ]
     },
     "execution_count": 124,
     "metadata": {},
     "output_type": "execute_result"
    }
   ],
   "source": [
    "df.head()"
   ]
  },
  {
   "cell_type": "code",
   "execution_count": 125,
   "metadata": {
    "collapsed": false
   },
   "outputs": [
    {
     "name": "stdout",
     "output_type": "stream",
     "text": [
      "<class 'pandas.core.frame.DataFrame'>\n",
      "Int64Index: 3760 entries, 0 to 3759\n",
      "Data columns (total 11 columns):\n",
      "dt          3760 non-null object\n",
      "source      3760 non-null object\n",
      "domain      3760 non-null object\n",
      "url         3760 non-null object\n",
      "title       3760 non-null object\n",
      "summary     3760 non-null object\n",
      "image       3760 non-null object\n",
      "brief       3760 non-null object\n",
      "body        3760 non-null object\n",
      "raw_page    3760 non-null object\n",
      "from        3760 non-null object\n",
      "dtypes: object(11)\n",
      "memory usage: 352.5+ KB\n"
     ]
    }
   ],
   "source": [
    "df.info()"
   ]
  },
  {
   "cell_type": "code",
   "execution_count": 148,
   "metadata": {
    "collapsed": false
   },
   "outputs": [
    {
     "data": {
      "text/html": [
       "<div>\n",
       "<table border=\"1\" class=\"dataframe\">\n",
       "  <thead>\n",
       "    <tr style=\"text-align: right;\">\n",
       "      <th></th>\n",
       "      <th>dt</th>\n",
       "      <th>source</th>\n",
       "      <th>domain</th>\n",
       "      <th>url</th>\n",
       "      <th>title</th>\n",
       "      <th>summary</th>\n",
       "      <th>image</th>\n",
       "      <th>brief</th>\n",
       "      <th>body</th>\n",
       "      <th>raw_page</th>\n",
       "      <th>from</th>\n",
       "    </tr>\n",
       "  </thead>\n",
       "  <tbody>\n",
       "    <tr>\n",
       "      <th>0</th>\n",
       "      <td>4 天前</td>\n",
       "      <td>徽州大论坛</td>\n",
       "      <td></td>\n",
       "      <td>http://www.517huizhou.com/forum.php?mod=viewth...</td>\n",
       "      <td>方利山：国宝级文物— 汪华墓“唐宋诰敕”碑</td>\n",
       "      <td></td>\n",
       "      <td></td>\n",
       "      <td></td>\n",
       "      <td></td>\n",
       "      <td></td>\n",
       "      <td></td>\n",
       "    </tr>\n",
       "    <tr>\n",
       "      <th>1</th>\n",
       "      <td>2017-2-25</td>\n",
       "      <td>徽州大论坛</td>\n",
       "      <td></td>\n",
       "      <td>http://www.517huizhou.com/forum.php?mod=viewth...</td>\n",
       "      <td>方利山文：为朱熹《朱子家训》正名</td>\n",
       "      <td></td>\n",
       "      <td></td>\n",
       "      <td></td>\n",
       "      <td></td>\n",
       "      <td></td>\n",
       "      <td></td>\n",
       "    </tr>\n",
       "    <tr>\n",
       "      <th>2</th>\n",
       "      <td>2017-2-23</td>\n",
       "      <td>徽州大论坛</td>\n",
       "      <td></td>\n",
       "      <td>http://www.517huizhou.com/forum.php?mod=viewth...</td>\n",
       "      <td>菲元：善用黄山“黄帝文化”资源，加劲打好黄山牌</td>\n",
       "      <td></td>\n",
       "      <td></td>\n",
       "      <td></td>\n",
       "      <td></td>\n",
       "      <td></td>\n",
       "      <td></td>\n",
       "    </tr>\n",
       "    <tr>\n",
       "      <th>3</th>\n",
       "      <td>2017-2-13</td>\n",
       "      <td>徽州大论坛</td>\n",
       "      <td></td>\n",
       "      <td>http://www.517huizhou.com/forum.php?mod=viewth...</td>\n",
       "      <td>盛世修谱~~</td>\n",
       "      <td></td>\n",
       "      <td></td>\n",
       "      <td></td>\n",
       "      <td></td>\n",
       "      <td></td>\n",
       "      <td></td>\n",
       "    </tr>\n",
       "    <tr>\n",
       "      <th>4</th>\n",
       "      <td>2017-2-15</td>\n",
       "      <td>徽州大论坛</td>\n",
       "      <td></td>\n",
       "      <td>http://www.517huizhou.com/forum.php?mod=viewth...</td>\n",
       "      <td>方利山：承续文脉 保护徽州文化生态——贺箬岭古道汪王总庙修复落成</td>\n",
       "      <td></td>\n",
       "      <td></td>\n",
       "      <td></td>\n",
       "      <td></td>\n",
       "      <td></td>\n",
       "      <td></td>\n",
       "    </tr>\n",
       "  </tbody>\n",
       "</table>\n",
       "</div>"
      ],
      "text/plain": [
       "          dt source domain                                                url  \\\n",
       "0       4 天前  徽州大论坛         http://www.517huizhou.com/forum.php?mod=viewth...   \n",
       "1  2017-2-25  徽州大论坛         http://www.517huizhou.com/forum.php?mod=viewth...   \n",
       "2  2017-2-23  徽州大论坛         http://www.517huizhou.com/forum.php?mod=viewth...   \n",
       "3  2017-2-13  徽州大论坛         http://www.517huizhou.com/forum.php?mod=viewth...   \n",
       "4  2017-2-15  徽州大论坛         http://www.517huizhou.com/forum.php?mod=viewth...   \n",
       "\n",
       "                              title summary image brief body raw_page from  \n",
       "0             方利山：国宝级文物— 汪华墓“唐宋诰敕”碑                                         \n",
       "1                  方利山文：为朱熹《朱子家训》正名                                         \n",
       "2           菲元：善用黄山“黄帝文化”资源，加劲打好黄山牌                                         \n",
       "3                            盛世修谱~~                                         \n",
       "4  方利山：承续文脉 保护徽州文化生态——贺箬岭古道汪王总庙修复落成                                         "
      ]
     },
     "execution_count": 148,
     "metadata": {},
     "output_type": "execute_result"
    }
   ],
   "source": [
    "df.head()"
   ]
  },
  {
   "cell_type": "code",
   "execution_count": 126,
   "metadata": {
    "collapsed": false
   },
   "outputs": [],
   "source": [
    "if(len(df) != 0):\n",
    "    df.to_csv('./data/general/tianya_huiwenhua.csv', encoding='utf-8', index=False)"
   ]
  },
  {
   "cell_type": "code",
   "execution_count": 127,
   "metadata": {
    "collapsed": true
   },
   "outputs": [],
   "source": [
    "idx = 4462"
   ]
  },
  {
   "cell_type": "code",
   "execution_count": 161,
   "metadata": {
    "collapsed": false
   },
   "outputs": [
    {
     "name": "stdout",
     "output_type": "stream",
     "text": [
      "4462 [原创]期盼，生活的至美\n",
      "4463 笑 的好处\n",
      "4464 论坛情（打油诗）\n",
      "4465 [原创]七律。汪口有感\n",
      "4466 [原创]徽州多有奇女子\n",
      "4467 [原创]五律。静坐养生莫迟疑！\n",
      "4468 [原创]题齐云山云岩湖\n",
      "4469 [原创]七律。酒品差，没办法！\n",
      "4470 不一样的夏天，朋友你的感觉和我一样吗？\n",
      "4471 随笔\n",
      "4472 [原创]七律。自辱\n",
      "4473 有些事，从心里泛起！\n",
      "4474 [原创]五律。夏夜乘凉\n",
      "4475 游陶辛！\n",
      "4476 很多事，让我忆起……\n",
      "4477 [原创]进县见友人空调有感\n",
      "4478 《天香》凤尾猴魁咏\n",
      "4479 漂浮\n",
      "4480 荷塘月色\n",
      "4481 黄山咏\n",
      "4482 [原创]乡村邻里情意醇\n",
      "4483 慧心读网\n",
      "4484 [原创]七律。忆水碓\n",
      "4485 菜场！\n",
      "4486 旋转木马\n",
      "4487 活着谁看\n",
      "4488 [原创]七律。凤山三宝之——西门井\n",
      "4489 [原创]“凤山三宝之——鱼塘”有感\n",
      "4490 [原创]七绝。欣闻安徽电视台来浙岭\n",
      "4491 [原创]七律。“小桥流水人家——李坑”印象\n",
      "4492 [原创]凤山八景之——花桥头\n",
      "4493 淡淡的老冰棍\n",
      "4494 闻香寻兰\n",
      "4495 午夜思绪\n"
     ]
    }
   ],
   "source": [
    "for i in range(4462, len(df)):\n",
    "    url = df.loc[i]['url']\n",
    "    browser.get(url)\n",
    "    time.sleep(15)\n",
    "    \n",
    "    soup = BeautifulSoup(browser.page_source)\n",
    "    sub_text = soup.findAll('div', {'class':'t_fsz'})\n",
    "    \n",
    "    fst = 0\n",
    "    for item in sub_text:\n",
    "        if fst == 0:\n",
    "            #print item.text\n",
    "            print i, df.loc[i]['title']\n",
    "            #print 'add --', item.text\n",
    "            df.loc[i]['body'] = item.text\n",
    "            df.loc[i]['raw_page'] = browser.page_source    \n",
    "            fst = 1\n"
   ]
  },
  {
   "cell_type": "code",
   "execution_count": 107,
   "metadata": {
    "collapsed": false
   },
   "outputs": [
    {
     "name": "stdout",
     "output_type": "stream",
     "text": [
      "forum.php?mod=viewthread&tid=195025&extra=page%3D1%26filter%3Dtypeid%26typeid%3D162\n"
     ]
    }
   ],
   "source": [
    "print url"
   ]
  },
  {
   "cell_type": "code",
   "execution_count": 162,
   "metadata": {
    "collapsed": false
   },
   "outputs": [
    {
     "name": "stdout",
     "output_type": "stream",
     "text": [
      "<class 'pandas.core.frame.DataFrame'>\n",
      "Int64Index: 4496 entries, 0 to 4495\n",
      "Data columns (total 11 columns):\n",
      "dt          4496 non-null object\n",
      "source      4496 non-null object\n",
      "domain      4496 non-null object\n",
      "url         4496 non-null object\n",
      "title       4496 non-null object\n",
      "summary     4496 non-null object\n",
      "image       4496 non-null object\n",
      "brief       4496 non-null object\n",
      "body        4496 non-null object\n",
      "raw_page    4496 non-null object\n",
      "from        4496 non-null object\n",
      "dtypes: object(11)\n",
      "memory usage: 421.5+ KB\n"
     ]
    }
   ],
   "source": [
    "df.info()"
   ]
  },
  {
   "cell_type": "code",
   "execution_count": null,
   "metadata": {
    "collapsed": true
   },
   "outputs": [],
   "source": []
  },
  {
   "cell_type": "code",
   "execution_count": 12,
   "metadata": {
    "collapsed": false
   },
   "outputs": [
    {
     "name": "stdout",
     "output_type": "stream",
     "text": [
      "http://www.hzwh.com/toplistb.asp?id=229&page=0\n",
      "传统徽州仁商义贾践行商君子之道的历史启示\n",
      "《阅读徽州》第七编“徽州科技”\n",
      "传统徽商的诚信为本和仁义向善\n",
      "传统徽商的诚信为本和仁义向善\n",
      "黟县古城改造重要的是务须保住文教根脉\n",
      "推动徽州传统文化的普及宣传\n",
      "徽学与当代学术 \n",
      "“儒学与地域文化：徽学国际学术研讨会”综述\n",
      "洪经纶墓葬地点的疏证\n",
      "徽州乡镇志中所见明清民间救荒措施\n",
      "徽州文化全书\n",
      "论文化生产力与中部地区的经济发展\n",
      "徽州书院的讲会\n",
      "明代海上徽帮与宁波海上丝绸之路\n",
      "徽州昌溪周氏家族与宁波近代商业发展史\n",
      "徽商历史的文化价值批判 \n",
      "徽商\n",
      "徽商文化及特点\n",
      "婺源徽剧音乐研究\n",
      "古徽州和谐乡村社会建设的经验\n"
     ]
    },
    {
     "name": "stderr",
     "output_type": "stream",
     "text": [
      "/usr/local/lib/python2.7/site-packages/bs4/__init__.py:181: UserWarning: No parser was explicitly specified, so I'm using the best available HTML parser for this system (\"html5lib\"). This usually isn't a problem, but if you run this code on another system, or in a different virtual environment, it may use a different parser and behave differently.\n",
      "\n",
      "The code that caused this warning is on line 162 of the file /usr/local/Cellar/python/2.7.10_2/Frameworks/Python.framework/Versions/2.7/lib/python2.7/runpy.py. To get rid of this warning, change code that looks like this:\n",
      "\n",
      " BeautifulSoup([your markup])\n",
      "\n",
      "to this:\n",
      "\n",
      " BeautifulSoup([your markup], \"html5lib\")\n",
      "\n",
      "  markup_type=markup_type))\n"
     ]
    }
   ],
   "source": [
    "for i in range(0, 1):\n",
    "    url_0 = news_url\n",
    "    print url_0\n",
    "    browser.get(url_0)\n",
    "    time.sleep(5)\n",
    "\n",
    "    soup = BeautifulSoup(browser.page_source)\n",
    "    sub_text = soup.findAll('div', {'class':'listA_title'})\n",
    "\n",
    "    for item in sub_text:\n",
    "        t1 = item.find('div', {'class':'listA_Time'})\n",
    "        #print 'www.hzwh.com/' + item.a['href']\n",
    "        #print t1.text\n",
    "        print item.a.text\n",
    "        url = 'www.hzwh.com/' + item.a['href']\n",
    "        \n",
    "        not_existed = True\n",
    "        #check if in cleaned set\n",
    "        if t1 != None and len(df_check) != 0:\n",
    "            t0 = abs(sum(df_check['url'].str.find(url))) \n",
    "            if t0 != len(df_check):\n",
    "                not_existed = False\n",
    "\n",
    "        #check if in dynamic set\n",
    "        if t1 != None and len(df) != 0 and not_existed == True:\n",
    "            t0 = abs(sum(df['url'].str.find(str(url)))) \n",
    "            if t0 != len(df):\n",
    "                not_existed = False\n",
    "\n",
    "        #print t0, len(df), t1\n",
    "\n",
    "        if not_existed == True and t1 != None:   \n",
    "            print \"-------- add\"\n",
    "            df.loc[idx] = get_empty_columns()        \n",
    "            df.loc[idx]['url'] = url\n",
    "            df.loc[idx]['title'] = item.a.text\n",
    "            df.loc[idx]['source'] = '徽州文化网'\n",
    "            df.loc[idx]['dt'] = t1.text\n",
    "            idx += 1"
   ]
  },
  {
   "cell_type": "code",
   "execution_count": 13,
   "metadata": {
    "collapsed": false
   },
   "outputs": [
    {
     "name": "stdout",
     "output_type": "stream",
     "text": [
      "0\n"
     ]
    }
   ],
   "source": [
    "print len(df)"
   ]
  },
  {
   "cell_type": "code",
   "execution_count": 12,
   "metadata": {
    "collapsed": false
   },
   "outputs": [
    {
     "data": {
      "text/html": [
       "<div>\n",
       "<table border=\"1\" class=\"dataframe\">\n",
       "  <thead>\n",
       "    <tr style=\"text-align: right;\">\n",
       "      <th></th>\n",
       "      <th>dt</th>\n",
       "      <th>source</th>\n",
       "      <th>domain</th>\n",
       "      <th>url</th>\n",
       "      <th>title</th>\n",
       "      <th>summary</th>\n",
       "      <th>image</th>\n",
       "      <th>brief</th>\n",
       "      <th>body</th>\n",
       "      <th>raw_page</th>\n",
       "      <th>from</th>\n",
       "    </tr>\n",
       "  </thead>\n",
       "  <tbody>\n",
       "    <tr>\n",
       "      <th>0</th>\n",
       "      <td>2004-03-03</td>\n",
       "      <td>徽州文化网</td>\n",
       "      <td></td>\n",
       "      <td>www.hzwh.com/article.asp?id=533</td>\n",
       "      <td>旧时徽州税票名称种种</td>\n",
       "      <td></td>\n",
       "      <td></td>\n",
       "      <td></td>\n",
       "      <td></td>\n",
       "      <td></td>\n",
       "      <td></td>\n",
       "    </tr>\n",
       "    <tr>\n",
       "      <th>1</th>\n",
       "      <td>2004-03-03</td>\n",
       "      <td>徽州文化网</td>\n",
       "      <td></td>\n",
       "      <td>www.hzwh.com/article.asp?id=532</td>\n",
       "      <td>小小大阜村 爷孙宰相俩</td>\n",
       "      <td></td>\n",
       "      <td></td>\n",
       "      <td></td>\n",
       "      <td></td>\n",
       "      <td></td>\n",
       "      <td></td>\n",
       "    </tr>\n",
       "    <tr>\n",
       "      <th>2</th>\n",
       "      <td>2004-03-09</td>\n",
       "      <td>徽州文化网</td>\n",
       "      <td></td>\n",
       "      <td>www.hzwh.com/article.asp?id=530</td>\n",
       "      <td>李良春与《惯痴文集》</td>\n",
       "      <td></td>\n",
       "      <td></td>\n",
       "      <td></td>\n",
       "      <td></td>\n",
       "      <td></td>\n",
       "      <td></td>\n",
       "    </tr>\n",
       "    <tr>\n",
       "      <th>3</th>\n",
       "      <td>2004-03-22</td>\n",
       "      <td>徽州文化网</td>\n",
       "      <td></td>\n",
       "      <td>www.hzwh.com/article.asp?id=528</td>\n",
       "      <td>古老的石林</td>\n",
       "      <td></td>\n",
       "      <td></td>\n",
       "      <td></td>\n",
       "      <td></td>\n",
       "      <td></td>\n",
       "      <td></td>\n",
       "    </tr>\n",
       "    <tr>\n",
       "      <th>4</th>\n",
       "      <td>2004-03-31</td>\n",
       "      <td>徽州文化网</td>\n",
       "      <td></td>\n",
       "      <td>www.hzwh.com/article.asp?id=527</td>\n",
       "      <td>洪钧行书联</td>\n",
       "      <td></td>\n",
       "      <td></td>\n",
       "      <td></td>\n",
       "      <td></td>\n",
       "      <td></td>\n",
       "      <td></td>\n",
       "    </tr>\n",
       "    <tr>\n",
       "      <th>5</th>\n",
       "      <td>2004-04-02</td>\n",
       "      <td>徽州文化网</td>\n",
       "      <td></td>\n",
       "      <td>www.hzwh.com/article.asp?id=525</td>\n",
       "      <td>万安“中国罗盘之乡”</td>\n",
       "      <td></td>\n",
       "      <td></td>\n",
       "      <td></td>\n",
       "      <td></td>\n",
       "      <td></td>\n",
       "      <td></td>\n",
       "    </tr>\n",
       "    <tr>\n",
       "      <th>6</th>\n",
       "      <td>2004-04-11</td>\n",
       "      <td>徽州文化网</td>\n",
       "      <td></td>\n",
       "      <td>www.hzwh.com/article.asp?id=523</td>\n",
       "      <td>吕仙宫</td>\n",
       "      <td></td>\n",
       "      <td></td>\n",
       "      <td></td>\n",
       "      <td></td>\n",
       "      <td></td>\n",
       "      <td></td>\n",
       "    </tr>\n",
       "    <tr>\n",
       "      <th>7</th>\n",
       "      <td>2004-04-12</td>\n",
       "      <td>徽州文化网</td>\n",
       "      <td></td>\n",
       "      <td>www.hzwh.com/article.asp?id=521</td>\n",
       "      <td>溪 头 探 古</td>\n",
       "      <td></td>\n",
       "      <td></td>\n",
       "      <td></td>\n",
       "      <td></td>\n",
       "      <td></td>\n",
       "      <td></td>\n",
       "    </tr>\n",
       "    <tr>\n",
       "      <th>8</th>\n",
       "      <td>2004-04-15</td>\n",
       "      <td>徽州文化网</td>\n",
       "      <td></td>\n",
       "      <td>www.hzwh.com/article.asp?id=520</td>\n",
       "      <td>五绝《小桃源》中否李白所作？</td>\n",
       "      <td></td>\n",
       "      <td></td>\n",
       "      <td></td>\n",
       "      <td></td>\n",
       "      <td></td>\n",
       "      <td></td>\n",
       "    </tr>\n",
       "    <tr>\n",
       "      <th>9</th>\n",
       "      <td>2004-04-15</td>\n",
       "      <td>徽州文化网</td>\n",
       "      <td></td>\n",
       "      <td>www.hzwh.com/article.asp?id=518</td>\n",
       "      <td>解读戴震诗一首</td>\n",
       "      <td></td>\n",
       "      <td></td>\n",
       "      <td></td>\n",
       "      <td></td>\n",
       "      <td></td>\n",
       "      <td></td>\n",
       "    </tr>\n",
       "    <tr>\n",
       "      <th>10</th>\n",
       "      <td>2004-05-11</td>\n",
       "      <td>徽州文化网</td>\n",
       "      <td></td>\n",
       "      <td>www.hzwh.com/article.asp?id=517</td>\n",
       "      <td>安徽休宁——中国第一状元县</td>\n",
       "      <td></td>\n",
       "      <td></td>\n",
       "      <td></td>\n",
       "      <td></td>\n",
       "      <td></td>\n",
       "      <td></td>\n",
       "    </tr>\n",
       "    <tr>\n",
       "      <th>11</th>\n",
       "      <td>2004-05-13</td>\n",
       "      <td>徽州文化网</td>\n",
       "      <td></td>\n",
       "      <td>www.hzwh.com/article.asp?id=516</td>\n",
       "      <td>独树一帜的徽州税文化</td>\n",
       "      <td></td>\n",
       "      <td></td>\n",
       "      <td></td>\n",
       "      <td></td>\n",
       "      <td></td>\n",
       "      <td></td>\n",
       "    </tr>\n",
       "    <tr>\n",
       "      <th>12</th>\n",
       "      <td>2009-04-28</td>\n",
       "      <td>徽州文化网</td>\n",
       "      <td></td>\n",
       "      <td>www.hzwh.com/article.asp?id=505</td>\n",
       "      <td>扬弃古徽州廉政文化 促进新黄山廉政建设</td>\n",
       "      <td></td>\n",
       "      <td></td>\n",
       "      <td></td>\n",
       "      <td></td>\n",
       "      <td></td>\n",
       "      <td></td>\n",
       "    </tr>\n",
       "  </tbody>\n",
       "</table>\n",
       "</div>"
      ],
      "text/plain": [
       "            dt source domain                              url  \\\n",
       "0   2004-03-03  徽州文化网         www.hzwh.com/article.asp?id=533   \n",
       "1   2004-03-03  徽州文化网         www.hzwh.com/article.asp?id=532   \n",
       "2   2004-03-09  徽州文化网         www.hzwh.com/article.asp?id=530   \n",
       "3   2004-03-22  徽州文化网         www.hzwh.com/article.asp?id=528   \n",
       "4   2004-03-31  徽州文化网         www.hzwh.com/article.asp?id=527   \n",
       "5   2004-04-02  徽州文化网         www.hzwh.com/article.asp?id=525   \n",
       "6   2004-04-11  徽州文化网         www.hzwh.com/article.asp?id=523   \n",
       "7   2004-04-12  徽州文化网         www.hzwh.com/article.asp?id=521   \n",
       "8   2004-04-15  徽州文化网         www.hzwh.com/article.asp?id=520   \n",
       "9   2004-04-15  徽州文化网         www.hzwh.com/article.asp?id=518   \n",
       "10  2004-05-11  徽州文化网         www.hzwh.com/article.asp?id=517   \n",
       "11  2004-05-13  徽州文化网         www.hzwh.com/article.asp?id=516   \n",
       "12  2009-04-28  徽州文化网         www.hzwh.com/article.asp?id=505   \n",
       "\n",
       "                  title summary image brief body raw_page from  \n",
       "0            旧时徽州税票名称种种                                         \n",
       "1           小小大阜村 爷孙宰相俩                                         \n",
       "2            李良春与《惯痴文集》                                         \n",
       "3                 古老的石林                                         \n",
       "4                 洪钧行书联                                         \n",
       "5            万安“中国罗盘之乡”                                         \n",
       "6                   吕仙宫                                         \n",
       "7               溪 头 探 古                                         \n",
       "8        五绝《小桃源》中否李白所作？                                         \n",
       "9               解读戴震诗一首                                         \n",
       "10        安徽休宁——中国第一状元县                                         \n",
       "11           独树一帜的徽州税文化                                         \n",
       "12  扬弃古徽州廉政文化 促进新黄山廉政建设                                         "
      ]
     },
     "execution_count": 12,
     "metadata": {},
     "output_type": "execute_result"
    }
   ],
   "source": [
    "df.head(50)"
   ]
  },
  {
   "cell_type": "code",
   "execution_count": 28,
   "metadata": {
    "collapsed": false
   },
   "outputs": [
    {
     "name": "stdout",
     "output_type": "stream",
     "text": [
      "0\n"
     ]
    }
   ],
   "source": [
    "print len(df)"
   ]
  },
  {
   "cell_type": "code",
   "execution_count": 163,
   "metadata": {
    "collapsed": true
   },
   "outputs": [],
   "source": [
    "def url_get(url):\n",
    "    browser.get(url)\n",
    "    print url\n",
    "    time.sleep(5)\n",
    "    return browser.page_source"
   ]
  },
  {
   "cell_type": "code",
   "execution_count": 164,
   "metadata": {
    "collapsed": false
   },
   "outputs": [
    {
     "name": "stdout",
     "output_type": "stream",
     "text": [
      "http://www.hzwh.com/article.asp?id=2538\n",
      "http://www.hzwh.com/article.asp?id=2537\n",
      "http://www.hzwh.com/article.asp?id=2536\n",
      "http://www.hzwh.com/article.asp?id=2535\n",
      "http://www.hzwh.com/article.asp?id=2534\n",
      "http://www.hzwh.com/article.asp?id=2533\n",
      "http://www.hzwh.com/article.asp?id=2099\n",
      "http://www.hzwh.com/article.asp?id=2098\n",
      "http://www.hzwh.com/article.asp?id=1848\n",
      "http://www.hzwh.com/article.asp?id=1847\n",
      "http://www.hzwh.com/article.asp?id=1846\n",
      "http://www.hzwh.com/article.asp?id=1794\n",
      "http://www.hzwh.com/article.asp?id=1695\n",
      "http://www.hzwh.com/article.asp?id=1694\n",
      "http://www.hzwh.com/article.asp?id=1693\n",
      "http://www.hzwh.com/article.asp?id=1624\n",
      "http://www.hzwh.com/article.asp?id=1623\n",
      "http://www.hzwh.com/article.asp?id=1622\n",
      "http://www.hzwh.com/article.asp?id=1455\n",
      "http://www.hzwh.com/article.asp?id=1418\n",
      "http://www.hzwh.com/article.asp?id=1417\n",
      "http://www.hzwh.com/article.asp?id=1416\n",
      "http://www.hzwh.com/article.asp?id=1415\n",
      "http://www.hzwh.com/article.asp?id=1414\n",
      "http://www.hzwh.com/article.asp?id=1347\n",
      "http://www.hzwh.com/article.asp?id=1346\n",
      "http://www.hzwh.com/article.asp?id=1342\n",
      "http://www.hzwh.com/article.asp?id=1341\n",
      "http://www.hzwh.com/article.asp?id=1337\n",
      "http://www.hzwh.com/article.asp?id=1336\n",
      "http://www.hzwh.com/article.asp?id=1335\n",
      "http://www.hzwh.com/article.asp?id=1334\n",
      "http://www.hzwh.com/article.asp?id=1333\n",
      "http://www.hzwh.com/article.asp?id=1331\n",
      "http://www.hzwh.com/article.asp?id=1330\n",
      "http://www.hzwh.com/article.asp?id=1329\n",
      "http://www.hzwh.com/article.asp?id=1328\n",
      "http://www.hzwh.com/article.asp?id=1327\n",
      "http://www.hzwh.com/article.asp?id=1326\n",
      "http://www.hzwh.com/article.asp?id=1325\n",
      "http://www.hzwh.com/article.asp?id=1323\n",
      "http://www.hzwh.com/article.asp?id=1322\n",
      "http://www.hzwh.com/article.asp?id=1321\n",
      "http://www.hzwh.com/article.asp?id=1320\n",
      "http://www.hzwh.com/article.asp?id=1319\n",
      "http://www.hzwh.com/article.asp?id=1318\n",
      "http://www.hzwh.com/article.asp?id=1317\n",
      "http://www.hzwh.com/article.asp?id=1316\n",
      "http://www.hzwh.com/article.asp?id=1315\n",
      "http://www.hzwh.com/article.asp?id=1314\n",
      "http://www.hzwh.com/article.asp?id=1313\n",
      "http://www.hzwh.com/article.asp?id=1312\n",
      "http://www.hzwh.com/article.asp?id=1311\n",
      "http://www.hzwh.com/article.asp?id=1310\n",
      "http://www.hzwh.com/article.asp?id=1309\n",
      "http://www.hzwh.com/article.asp?id=1308\n",
      "http://www.hzwh.com/article.asp?id=1307\n",
      "http://www.hzwh.com/article.asp?id=1306\n",
      "http://www.hzwh.com/article.asp?id=1305\n",
      "http://www.hzwh.com/article.asp?id=1304\n",
      "http://www.hzwh.com/article.asp?id=1303\n",
      "http://www.hzwh.com/article.asp?id=1302\n",
      "http://www.hzwh.com/article.asp?id=1301\n",
      "http://www.hzwh.com/article.asp?id=1300\n",
      "http://www.hzwh.com/article.asp?id=1299\n",
      "http://www.hzwh.com/article.asp?id=1298\n",
      "http://www.hzwh.com/article.asp?id=1297\n",
      "http://www.hzwh.com/article.asp?id=1271\n",
      "http://www.hzwh.com/article.asp?id=1270\n",
      "http://www.hzwh.com/article.asp?id=1267\n",
      "http://www.hzwh.com/article.asp?id=1264\n",
      "http://www.hzwh.com/article.asp?id=1263\n",
      "http://www.hzwh.com/article.asp?id=1261\n",
      "http://www.hzwh.com/article.asp?id=1260\n",
      "http://www.hzwh.com/article.asp?id=1259\n",
      "http://www.hzwh.com/article.asp?id=1258\n",
      "http://www.hzwh.com/article.asp?id=1257\n",
      "http://www.hzwh.com/article.asp?id=1256\n",
      "http://www.hzwh.com/article.asp?id=1255\n",
      "http://www.hzwh.com/article.asp?id=1254\n",
      "http://www.hzwh.com/article.asp?id=1253\n",
      "http://www.hzwh.com/article.asp?id=1252\n",
      "http://www.hzwh.com/article.asp?id=1251\n",
      "http://www.hzwh.com/article.asp?id=1250\n",
      "http://www.hzwh.com/article.asp?id=1249\n",
      "http://www.hzwh.com/article.asp?id=1248\n",
      "http://www.hzwh.com/article.asp?id=1247\n",
      "http://www.hzwh.com/article.asp?id=1246\n",
      "http://www.hzwh.com/article.asp?id=1245\n",
      "http://www.hzwh.com/article.asp?id=1244\n",
      "http://www.hzwh.com/article.asp?id=1243\n",
      "http://www.hzwh.com/article.asp?id=1242\n"
     ]
    },
    {
     "ename": "TimeoutException",
     "evalue": "Message: Error loading page, timed out (onDOMContentLoaded)\n",
     "output_type": "error",
     "traceback": [
      "\u001b[0;31m---------------------------------------------------------------------------\u001b[0m",
      "\u001b[0;31mTimeoutException\u001b[0m                          Traceback (most recent call last)",
      "\u001b[0;32m<ipython-input-164-358563e4bc3a>\u001b[0m in \u001b[0;36m<module>\u001b[0;34m()\u001b[0m\n\u001b[1;32m      3\u001b[0m \u001b[0mdf\u001b[0m\u001b[0;34m[\u001b[0m\u001b[0;34m'url'\u001b[0m\u001b[0;34m]\u001b[0m \u001b[0;34m=\u001b[0m \u001b[0mdf_check\u001b[0m\u001b[0;34m[\u001b[0m\u001b[0;34m'url'\u001b[0m\u001b[0;34m]\u001b[0m\u001b[0;34m\u001b[0m\u001b[0m\n\u001b[1;32m      4\u001b[0m \u001b[0mdf\u001b[0m\u001b[0;34m[\u001b[0m\u001b[0;34m'title'\u001b[0m\u001b[0;34m]\u001b[0m \u001b[0;34m=\u001b[0m \u001b[0mdf_check\u001b[0m\u001b[0;34m[\u001b[0m\u001b[0;34m'title'\u001b[0m\u001b[0;34m]\u001b[0m\u001b[0;34m\u001b[0m\u001b[0m\n\u001b[0;32m----> 5\u001b[0;31m \u001b[0mdf\u001b[0m\u001b[0;34m[\u001b[0m\u001b[0;34m'raw_page'\u001b[0m\u001b[0;34m]\u001b[0m \u001b[0;34m=\u001b[0m \u001b[0mdf_check\u001b[0m\u001b[0;34m.\u001b[0m\u001b[0murl\u001b[0m\u001b[0;34m.\u001b[0m\u001b[0mmap\u001b[0m\u001b[0;34m(\u001b[0m\u001b[0;32mlambda\u001b[0m \u001b[0mx\u001b[0m\u001b[0;34m:\u001b[0m \u001b[0murl_get\u001b[0m\u001b[0;34m(\u001b[0m\u001b[0;34m'http://'\u001b[0m \u001b[0;34m+\u001b[0m \u001b[0mx\u001b[0m\u001b[0;34m)\u001b[0m \u001b[0;34m)\u001b[0m\u001b[0;34m\u001b[0m\u001b[0m\n\u001b[0m",
      "\u001b[0;32m/Library/Python/2.7/site-packages/pandas/core/series.pyc\u001b[0m in \u001b[0;36mmap\u001b[0;34m(self, arg, na_action)\u001b[0m\n\u001b[1;32m   2043\u001b[0m                                      index=self.index).__finalize__(self)\n\u001b[1;32m   2044\u001b[0m         \u001b[0;32melse\u001b[0m\u001b[0;34m:\u001b[0m\u001b[0;34m\u001b[0m\u001b[0m\n\u001b[0;32m-> 2045\u001b[0;31m             \u001b[0mmapped\u001b[0m \u001b[0;34m=\u001b[0m \u001b[0mmap_f\u001b[0m\u001b[0;34m(\u001b[0m\u001b[0mvalues\u001b[0m\u001b[0;34m,\u001b[0m \u001b[0marg\u001b[0m\u001b[0;34m)\u001b[0m\u001b[0;34m\u001b[0m\u001b[0m\n\u001b[0m\u001b[1;32m   2046\u001b[0m             return self._constructor(mapped,\n\u001b[1;32m   2047\u001b[0m                                      index=self.index).__finalize__(self)\n",
      "\u001b[0;32mpandas/src/inference.pyx\u001b[0m in \u001b[0;36mpandas.lib.map_infer (pandas/lib.c:62187)\u001b[0;34m()\u001b[0m\n",
      "\u001b[0;32m<ipython-input-164-358563e4bc3a>\u001b[0m in \u001b[0;36m<lambda>\u001b[0;34m(x)\u001b[0m\n\u001b[1;32m      3\u001b[0m \u001b[0mdf\u001b[0m\u001b[0;34m[\u001b[0m\u001b[0;34m'url'\u001b[0m\u001b[0;34m]\u001b[0m \u001b[0;34m=\u001b[0m \u001b[0mdf_check\u001b[0m\u001b[0;34m[\u001b[0m\u001b[0;34m'url'\u001b[0m\u001b[0;34m]\u001b[0m\u001b[0;34m\u001b[0m\u001b[0m\n\u001b[1;32m      4\u001b[0m \u001b[0mdf\u001b[0m\u001b[0;34m[\u001b[0m\u001b[0;34m'title'\u001b[0m\u001b[0;34m]\u001b[0m \u001b[0;34m=\u001b[0m \u001b[0mdf_check\u001b[0m\u001b[0;34m[\u001b[0m\u001b[0;34m'title'\u001b[0m\u001b[0;34m]\u001b[0m\u001b[0;34m\u001b[0m\u001b[0m\n\u001b[0;32m----> 5\u001b[0;31m \u001b[0mdf\u001b[0m\u001b[0;34m[\u001b[0m\u001b[0;34m'raw_page'\u001b[0m\u001b[0;34m]\u001b[0m \u001b[0;34m=\u001b[0m \u001b[0mdf_check\u001b[0m\u001b[0;34m.\u001b[0m\u001b[0murl\u001b[0m\u001b[0;34m.\u001b[0m\u001b[0mmap\u001b[0m\u001b[0;34m(\u001b[0m\u001b[0;32mlambda\u001b[0m \u001b[0mx\u001b[0m\u001b[0;34m:\u001b[0m \u001b[0murl_get\u001b[0m\u001b[0;34m(\u001b[0m\u001b[0;34m'http://'\u001b[0m \u001b[0;34m+\u001b[0m \u001b[0mx\u001b[0m\u001b[0;34m)\u001b[0m \u001b[0;34m)\u001b[0m\u001b[0;34m\u001b[0m\u001b[0m\n\u001b[0m",
      "\u001b[0;32m<ipython-input-163-99c375afb9a4>\u001b[0m in \u001b[0;36murl_get\u001b[0;34m(url)\u001b[0m\n\u001b[1;32m      1\u001b[0m \u001b[0;32mdef\u001b[0m \u001b[0murl_get\u001b[0m\u001b[0;34m(\u001b[0m\u001b[0murl\u001b[0m\u001b[0;34m)\u001b[0m\u001b[0;34m:\u001b[0m\u001b[0;34m\u001b[0m\u001b[0m\n\u001b[0;32m----> 2\u001b[0;31m     \u001b[0mbrowser\u001b[0m\u001b[0;34m.\u001b[0m\u001b[0mget\u001b[0m\u001b[0;34m(\u001b[0m\u001b[0murl\u001b[0m\u001b[0;34m)\u001b[0m\u001b[0;34m\u001b[0m\u001b[0m\n\u001b[0m\u001b[1;32m      3\u001b[0m     \u001b[0;32mprint\u001b[0m \u001b[0murl\u001b[0m\u001b[0;34m\u001b[0m\u001b[0m\n\u001b[1;32m      4\u001b[0m     \u001b[0mtime\u001b[0m\u001b[0;34m.\u001b[0m\u001b[0msleep\u001b[0m\u001b[0;34m(\u001b[0m\u001b[0;36m5\u001b[0m\u001b[0;34m)\u001b[0m\u001b[0;34m\u001b[0m\u001b[0m\n\u001b[1;32m      5\u001b[0m     \u001b[0;32mreturn\u001b[0m \u001b[0mbrowser\u001b[0m\u001b[0;34m.\u001b[0m\u001b[0mpage_source\u001b[0m\u001b[0;34m\u001b[0m\u001b[0m\n",
      "\u001b[0;32m/usr/local/lib/python2.7/site-packages/selenium/webdriver/remote/webdriver.pyc\u001b[0m in \u001b[0;36mget\u001b[0;34m(self, url)\u001b[0m\n\u001b[1;32m    246\u001b[0m         \u001b[0mLoads\u001b[0m \u001b[0ma\u001b[0m \u001b[0mweb\u001b[0m \u001b[0mpage\u001b[0m \u001b[0;32min\u001b[0m \u001b[0mthe\u001b[0m \u001b[0mcurrent\u001b[0m \u001b[0mbrowser\u001b[0m \u001b[0msession\u001b[0m\u001b[0;34m.\u001b[0m\u001b[0;34m\u001b[0m\u001b[0m\n\u001b[1;32m    247\u001b[0m         \"\"\"\n\u001b[0;32m--> 248\u001b[0;31m         \u001b[0mself\u001b[0m\u001b[0;34m.\u001b[0m\u001b[0mexecute\u001b[0m\u001b[0;34m(\u001b[0m\u001b[0mCommand\u001b[0m\u001b[0;34m.\u001b[0m\u001b[0mGET\u001b[0m\u001b[0;34m,\u001b[0m \u001b[0;34m{\u001b[0m\u001b[0;34m'url'\u001b[0m\u001b[0;34m:\u001b[0m \u001b[0murl\u001b[0m\u001b[0;34m}\u001b[0m\u001b[0;34m)\u001b[0m\u001b[0;34m\u001b[0m\u001b[0m\n\u001b[0m\u001b[1;32m    249\u001b[0m \u001b[0;34m\u001b[0m\u001b[0m\n\u001b[1;32m    250\u001b[0m     \u001b[0;34m@\u001b[0m\u001b[0mproperty\u001b[0m\u001b[0;34m\u001b[0m\u001b[0m\n",
      "\u001b[0;32m/usr/local/lib/python2.7/site-packages/selenium/webdriver/remote/webdriver.pyc\u001b[0m in \u001b[0;36mexecute\u001b[0;34m(self, driver_command, params)\u001b[0m\n\u001b[1;32m    234\u001b[0m         \u001b[0mresponse\u001b[0m \u001b[0;34m=\u001b[0m \u001b[0mself\u001b[0m\u001b[0;34m.\u001b[0m\u001b[0mcommand_executor\u001b[0m\u001b[0;34m.\u001b[0m\u001b[0mexecute\u001b[0m\u001b[0;34m(\u001b[0m\u001b[0mdriver_command\u001b[0m\u001b[0;34m,\u001b[0m \u001b[0mparams\u001b[0m\u001b[0;34m)\u001b[0m\u001b[0;34m\u001b[0m\u001b[0m\n\u001b[1;32m    235\u001b[0m         \u001b[0;32mif\u001b[0m \u001b[0mresponse\u001b[0m\u001b[0;34m:\u001b[0m\u001b[0;34m\u001b[0m\u001b[0m\n\u001b[0;32m--> 236\u001b[0;31m             \u001b[0mself\u001b[0m\u001b[0;34m.\u001b[0m\u001b[0merror_handler\u001b[0m\u001b[0;34m.\u001b[0m\u001b[0mcheck_response\u001b[0m\u001b[0;34m(\u001b[0m\u001b[0mresponse\u001b[0m\u001b[0;34m)\u001b[0m\u001b[0;34m\u001b[0m\u001b[0m\n\u001b[0m\u001b[1;32m    237\u001b[0m             response['value'] = self._unwrap_value(\n\u001b[1;32m    238\u001b[0m                 response.get('value', None))\n",
      "\u001b[0;32m/usr/local/lib/python2.7/site-packages/selenium/webdriver/remote/errorhandler.pyc\u001b[0m in \u001b[0;36mcheck_response\u001b[0;34m(self, response)\u001b[0m\n\u001b[1;32m    190\u001b[0m         \u001b[0;32melif\u001b[0m \u001b[0mexception_class\u001b[0m \u001b[0;34m==\u001b[0m \u001b[0mUnexpectedAlertPresentException\u001b[0m \u001b[0;32mand\u001b[0m \u001b[0;34m'alert'\u001b[0m \u001b[0;32min\u001b[0m \u001b[0mvalue\u001b[0m\u001b[0;34m:\u001b[0m\u001b[0;34m\u001b[0m\u001b[0m\n\u001b[1;32m    191\u001b[0m             \u001b[0;32mraise\u001b[0m \u001b[0mexception_class\u001b[0m\u001b[0;34m(\u001b[0m\u001b[0mmessage\u001b[0m\u001b[0;34m,\u001b[0m \u001b[0mscreen\u001b[0m\u001b[0;34m,\u001b[0m \u001b[0mstacktrace\u001b[0m\u001b[0;34m,\u001b[0m \u001b[0mvalue\u001b[0m\u001b[0;34m[\u001b[0m\u001b[0;34m'alert'\u001b[0m\u001b[0;34m]\u001b[0m\u001b[0;34m.\u001b[0m\u001b[0mget\u001b[0m\u001b[0;34m(\u001b[0m\u001b[0;34m'text'\u001b[0m\u001b[0;34m)\u001b[0m\u001b[0;34m)\u001b[0m\u001b[0;34m\u001b[0m\u001b[0m\n\u001b[0;32m--> 192\u001b[0;31m         \u001b[0;32mraise\u001b[0m \u001b[0mexception_class\u001b[0m\u001b[0;34m(\u001b[0m\u001b[0mmessage\u001b[0m\u001b[0;34m,\u001b[0m \u001b[0mscreen\u001b[0m\u001b[0;34m,\u001b[0m \u001b[0mstacktrace\u001b[0m\u001b[0;34m)\u001b[0m\u001b[0;34m\u001b[0m\u001b[0m\n\u001b[0m\u001b[1;32m    193\u001b[0m \u001b[0;34m\u001b[0m\u001b[0m\n\u001b[1;32m    194\u001b[0m     \u001b[0;32mdef\u001b[0m \u001b[0m_value_or_default\u001b[0m\u001b[0;34m(\u001b[0m\u001b[0mself\u001b[0m\u001b[0;34m,\u001b[0m \u001b[0mobj\u001b[0m\u001b[0;34m,\u001b[0m \u001b[0mkey\u001b[0m\u001b[0;34m,\u001b[0m \u001b[0mdefault\u001b[0m\u001b[0;34m)\u001b[0m\u001b[0;34m:\u001b[0m\u001b[0;34m\u001b[0m\u001b[0m\n",
      "\u001b[0;31mTimeoutException\u001b[0m: Message: Error loading page, timed out (onDOMContentLoaded)\n"
     ]
    }
   ],
   "source": [
    "df['dt'] = df_check['dt']\n",
    "df['source'] = df_check['source']\n",
    "df['url'] = df_check['url']\n",
    "df['title'] = df_check['title']\n",
    "df['raw_page'] = df_check.url.map(lambda x: url_get('http://' + x) )  "
   ]
  },
  {
   "cell_type": "code",
   "execution_count": 165,
   "metadata": {
    "collapsed": true
   },
   "outputs": [],
   "source": [
    "df['url'] = 'http://' + df['url']"
   ]
  },
  {
   "cell_type": "code",
   "execution_count": 119,
   "metadata": {
    "collapsed": false
   },
   "outputs": [
    {
     "data": {
      "text/html": [
       "<div>\n",
       "<table border=\"1\" class=\"dataframe\">\n",
       "  <thead>\n",
       "    <tr style=\"text-align: right;\">\n",
       "      <th></th>\n",
       "      <th>dt</th>\n",
       "      <th>source</th>\n",
       "      <th>domain</th>\n",
       "      <th>url</th>\n",
       "      <th>title</th>\n",
       "      <th>summary</th>\n",
       "      <th>image</th>\n",
       "      <th>brief</th>\n",
       "      <th>body</th>\n",
       "      <th>raw_page</th>\n",
       "      <th>from</th>\n",
       "    </tr>\n",
       "  </thead>\n",
       "  <tbody>\n",
       "    <tr>\n",
       "      <th>0</th>\n",
       "      <td>2017-2-9</td>\n",
       "      <td>故园徽州</td>\n",
       "      <td></td>\n",
       "      <td>forum.php?mod=viewthread&amp;tid=195025&amp;extra=page...</td>\n",
       "      <td>【春节民俗活动预告】——中云镇桃溪坑头“抬汪公”民俗</td>\n",
       "      <td></td>\n",
       "      <td></td>\n",
       "      <td></td>\n",
       "      <td>\\n\\n\\n\\n\\n马上注册成为会员，享用更多功能，让你轻松玩转徽州\\n您需要 登录 才可以...</td>\n",
       "      <td>&lt;html xmlns=\"http://www.w3.org/1999/xhtml\"&gt;&lt;he...</td>\n",
       "      <td></td>\n",
       "    </tr>\n",
       "    <tr>\n",
       "      <th>1</th>\n",
       "      <td>2017-1-1</td>\n",
       "      <td>故园徽州</td>\n",
       "      <td></td>\n",
       "      <td>forum.php?mod=viewthread&amp;tid=194254&amp;extra=page...</td>\n",
       "      <td>2017.01.01的早上</td>\n",
       "      <td></td>\n",
       "      <td></td>\n",
       "      <td></td>\n",
       "      <td>\\n\\n\\n\\n\\n马上注册成为会员，享用更多功能，让你轻松玩转徽州\\n您需要 登录 才可以...</td>\n",
       "      <td>&lt;html xmlns=\"http://www.w3.org/1999/xhtml\"&gt;&lt;he...</td>\n",
       "      <td></td>\n",
       "    </tr>\n",
       "    <tr>\n",
       "      <th>2</th>\n",
       "      <td>2016-11-23</td>\n",
       "      <td>故园徽州</td>\n",
       "      <td></td>\n",
       "      <td>forum.php?mod=viewthread&amp;tid=192264&amp;extra=page...</td>\n",
       "      <td>上学去喽！</td>\n",
       "      <td></td>\n",
       "      <td></td>\n",
       "      <td></td>\n",
       "      <td>\\n\\n\\n\\n\\n马上注册成为会员，享用更多功能，让你轻松玩转徽州\\n您需要 登录 才可以...</td>\n",
       "      <td>&lt;html xmlns=\"http://www.w3.org/1999/xhtml\"&gt;&lt;he...</td>\n",
       "      <td></td>\n",
       "    </tr>\n",
       "    <tr>\n",
       "      <th>3</th>\n",
       "      <td>2016-10-25</td>\n",
       "      <td>故园徽州</td>\n",
       "      <td></td>\n",
       "      <td>forum.php?mod=viewthread&amp;tid=189658&amp;extra=page...</td>\n",
       "      <td>流淌的登源河（29）：老造反成了普通看客</td>\n",
       "      <td></td>\n",
       "      <td></td>\n",
       "      <td></td>\n",
       "      <td>\\n\\n\\n\\n\\n马上注册成为会员，享用更多功能，让你轻松玩转徽州\\n您需要 登录 才可以...</td>\n",
       "      <td>&lt;html xmlns=\"http://www.w3.org/1999/xhtml\"&gt;&lt;he...</td>\n",
       "      <td></td>\n",
       "    </tr>\n",
       "    <tr>\n",
       "      <th>4</th>\n",
       "      <td>2016-10-17</td>\n",
       "      <td>故园徽州</td>\n",
       "      <td></td>\n",
       "      <td>forum.php?mod=viewthread&amp;tid=189555&amp;extra=page...</td>\n",
       "      <td>沙溪“淩”姓来由</td>\n",
       "      <td></td>\n",
       "      <td></td>\n",
       "      <td></td>\n",
       "      <td>\\n\\n\\n\\n\\n马上注册成为会员，享用更多功能，让你轻松玩转徽州\\n您需要 登录 才可以...</td>\n",
       "      <td>&lt;html xmlns=\"http://www.w3.org/1999/xhtml\"&gt;&lt;he...</td>\n",
       "      <td></td>\n",
       "    </tr>\n",
       "  </tbody>\n",
       "</table>\n",
       "</div>"
      ],
      "text/plain": [
       "           dt source domain  \\\n",
       "0    2017-2-9   故园徽州          \n",
       "1    2017-1-1   故园徽州          \n",
       "2  2016-11-23   故园徽州          \n",
       "3  2016-10-25   故园徽州          \n",
       "4  2016-10-17   故园徽州          \n",
       "\n",
       "                                                 url  \\\n",
       "0  forum.php?mod=viewthread&tid=195025&extra=page...   \n",
       "1  forum.php?mod=viewthread&tid=194254&extra=page...   \n",
       "2  forum.php?mod=viewthread&tid=192264&extra=page...   \n",
       "3  forum.php?mod=viewthread&tid=189658&extra=page...   \n",
       "4  forum.php?mod=viewthread&tid=189555&extra=page...   \n",
       "\n",
       "                        title summary image brief  \\\n",
       "0  【春节民俗活动预告】——中云镇桃溪坑头“抬汪公”民俗                       \n",
       "1               2017.01.01的早上                       \n",
       "2                       上学去喽！                       \n",
       "3        流淌的登源河（29）：老造反成了普通看客                       \n",
       "4                    沙溪“淩”姓来由                       \n",
       "\n",
       "                                                body  \\\n",
       "0  \\n\\n\\n\\n\\n马上注册成为会员，享用更多功能，让你轻松玩转徽州\\n您需要 登录 才可以...   \n",
       "1  \\n\\n\\n\\n\\n马上注册成为会员，享用更多功能，让你轻松玩转徽州\\n您需要 登录 才可以...   \n",
       "2  \\n\\n\\n\\n\\n马上注册成为会员，享用更多功能，让你轻松玩转徽州\\n您需要 登录 才可以...   \n",
       "3  \\n\\n\\n\\n\\n马上注册成为会员，享用更多功能，让你轻松玩转徽州\\n您需要 登录 才可以...   \n",
       "4  \\n\\n\\n\\n\\n马上注册成为会员，享用更多功能，让你轻松玩转徽州\\n您需要 登录 才可以...   \n",
       "\n",
       "                                            raw_page from  \n",
       "0  <html xmlns=\"http://www.w3.org/1999/xhtml\"><he...       \n",
       "1  <html xmlns=\"http://www.w3.org/1999/xhtml\"><he...       \n",
       "2  <html xmlns=\"http://www.w3.org/1999/xhtml\"><he...       \n",
       "3  <html xmlns=\"http://www.w3.org/1999/xhtml\"><he...       \n",
       "4  <html xmlns=\"http://www.w3.org/1999/xhtml\"><he...       "
      ]
     },
     "execution_count": 119,
     "metadata": {},
     "output_type": "execute_result"
    }
   ],
   "source": [
    "df.head()"
   ]
  },
  {
   "cell_type": "code",
   "execution_count": 152,
   "metadata": {
    "collapsed": true
   },
   "outputs": [],
   "source": [
    "characters_num = 40\n",
    "def get_brief(txt):\n",
    "    soup = BeautifulSoup(txt)\n",
    "    sub_text = soup.findAll('div', {'class':'article_contents'})\n",
    "    for item in sub_text:\n",
    "        t20 = item.text\n",
    "\n",
    "    idx = 2\n",
    "    t30 = t20.split(u'\\n')\n",
    "    \n",
    "    cnt = 0\n",
    "    tt = ''\n",
    "    idx = 0\n",
    "    for k in range(0, len(t30)):\n",
    "        if (len(t30[k]) > 40 and len(tt) < 40):\n",
    "            idx = k\n",
    "            tt = t30[k].strip()\n",
    "    \n",
    "    if len(tt) == 0:\n",
    "        tt = t20.strip()\n",
    "                \n",
    "    #print idx\n",
    "\n",
    "    t40 = tt[0:characters_num]\n",
    "    t50 = t40.encode('utf-8') + '..'\n",
    "    #print idx, t40\n",
    "    return t50"
   ]
  },
  {
   "cell_type": "code",
   "execution_count": 158,
   "metadata": {
    "collapsed": false
   },
   "outputs": [],
   "source": [
    "df['brief'] = df.raw_page.map(lambda x: get_brief(x) )  "
   ]
  },
  {
   "cell_type": "code",
   "execution_count": 154,
   "metadata": {
    "collapsed": true
   },
   "outputs": [],
   "source": [
    "def get_body(txt):\n",
    "    soup = BeautifulSoup(txt)\n",
    "    sub_text = soup.findAll('div', {'class':'article_contents'})\n",
    "    for item in sub_text:\n",
    "        t20 = item.text\n",
    "\n",
    "    return t20"
   ]
  },
  {
   "cell_type": "code",
   "execution_count": 159,
   "metadata": {
    "collapsed": true
   },
   "outputs": [],
   "source": [
    "df['body'] = df.raw_page.map(lambda x: get_body(x) )  "
   ]
  },
  {
   "cell_type": "markdown",
   "metadata": {},
   "source": [
    "cnt = 0\n",
    "for item in df['brief']:\n",
    "    print cnt, item\n",
    "    cnt += 1"
   ]
  },
  {
   "cell_type": "markdown",
   "metadata": {},
   "source": [
    "cnt = 0\n",
    "for item in df['body']:\n",
    "    print cnt, item\n",
    "    cnt += 1"
   ]
  },
  {
   "cell_type": "markdown",
   "metadata": {},
   "source": [
    "soup = BeautifulSoup(df.loc[527]['raw_page'])\n",
    "sub_text = soup.findAll('div', {'class':'article_contents'})\n",
    "for item in sub_text:\n",
    "    t20 = item.text\n",
    "t30 = t20.split(u'\\n')\n",
    "\n",
    "tt = t20.strip()\n",
    "print len(t30), tt[0:40], t20"
   ]
  },
  {
   "cell_type": "code",
   "execution_count": 161,
   "metadata": {
    "collapsed": false
   },
   "outputs": [
    {
     "data": {
      "text/html": [
       "<div>\n",
       "<table border=\"1\" class=\"dataframe\">\n",
       "  <thead>\n",
       "    <tr style=\"text-align: right;\">\n",
       "      <th></th>\n",
       "      <th>dt</th>\n",
       "      <th>source</th>\n",
       "      <th>domain</th>\n",
       "      <th>url</th>\n",
       "      <th>title</th>\n",
       "      <th>summary</th>\n",
       "      <th>image</th>\n",
       "      <th>brief</th>\n",
       "      <th>body</th>\n",
       "      <th>raw_page</th>\n",
       "      <th>from</th>\n",
       "    </tr>\n",
       "  </thead>\n",
       "  <tbody>\n",
       "    <tr>\n",
       "      <th>0</th>\n",
       "      <td>2016-04-08</td>\n",
       "      <td>徽州文化网</td>\n",
       "      <td>NaN</td>\n",
       "      <td>www.hzwh.com/article.asp?id=2538</td>\n",
       "      <td>传统徽州仁商义贾践行商君子之道的历史启示</td>\n",
       "      <td>NaN</td>\n",
       "      <td>NaN</td>\n",
       "      <td>全国人大代表、民盟安徽省委副主委、安徽省文联副主席钱念孙先生在《光明日报》201..</td>\n",
       "      <td>传统徽州仁商义贾践行商君子之道的历史启示\\n郗延红\\n全国人大代表、民盟安徽省委副主委、安徽...</td>\n",
       "      <td>&lt;html xmlns=\"http://www.w3.org/1999/xhtml\"&gt;&lt;he...</td>\n",
       "      <td>NaN</td>\n",
       "    </tr>\n",
       "    <tr>\n",
       "      <th>1</th>\n",
       "      <td>2016-04-08</td>\n",
       "      <td>徽州文化网</td>\n",
       "      <td>NaN</td>\n",
       "      <td>www.hzwh.com/article.asp?id=2537</td>\n",
       "      <td>《阅读徽州》第七编“徽州科技”</td>\n",
       "      <td>NaN</td>\n",
       "      <td>NaN</td>\n",
       "      <td>长期以来，得益于灵山秀水自然环境的滋养、兴学重教社会风气的熏染、经世致用治学风格..</td>\n",
       "      <td>《阅读徽州》第七编“徽州科技”（市委市政府通过市社科联组织编写）\\n中国科学技术学大出版社出...</td>\n",
       "      <td>&lt;html xmlns=\"http://www.w3.org/1999/xhtml\"&gt;&lt;he...</td>\n",
       "      <td>NaN</td>\n",
       "    </tr>\n",
       "    <tr>\n",
       "      <th>2</th>\n",
       "      <td>2016-04-08</td>\n",
       "      <td>徽州文化网</td>\n",
       "      <td>NaN</td>\n",
       "      <td>www.hzwh.com/article.asp?id=2536</td>\n",
       "      <td>传统徽商的诚信为本和仁义向善</td>\n",
       "      <td>NaN</td>\n",
       "      <td>NaN</td>\n",
       "      <td>徽州古楹联云“仁中取利真君子/义内求财大丈夫”。这是对传统徽商群体中那些仁商义贾..</td>\n",
       "      <td>传统徽商的诚信为本和仁义向善\\n\\n郗延红\\n徽州古楹联云“仁中取利真君子/义内求财大丈夫”...</td>\n",
       "      <td>&lt;html xmlns=\"http://www.w3.org/1999/xhtml\"&gt;&lt;he...</td>\n",
       "      <td>NaN</td>\n",
       "    </tr>\n",
       "    <tr>\n",
       "      <th>3</th>\n",
       "      <td>2016-04-08</td>\n",
       "      <td>徽州文化网</td>\n",
       "      <td>NaN</td>\n",
       "      <td>www.hzwh.com/article.asp?id=2535</td>\n",
       "      <td>传统徽商的诚信为本和仁义向善</td>\n",
       "      <td>NaN</td>\n",
       "      <td>NaN</td>\n",
       "      <td>徽州古楹联云“仁中取利真君子/义内求财大丈夫”。这是对传统徽商群体中那些仁商义贾..</td>\n",
       "      <td>传统徽商的诚信为本和仁义向善\\n \\n郗延红\\n徽州古楹联云“仁中取利真君子/义内求财大丈夫...</td>\n",
       "      <td>&lt;html xmlns=\"http://www.w3.org/1999/xhtml\"&gt;&lt;he...</td>\n",
       "      <td>NaN</td>\n",
       "    </tr>\n",
       "    <tr>\n",
       "      <th>4</th>\n",
       "      <td>2016-04-08</td>\n",
       "      <td>徽州文化网</td>\n",
       "      <td>NaN</td>\n",
       "      <td>www.hzwh.com/article.asp?id=2534</td>\n",
       "      <td>黟县古城改造重要的是务须保住文教根脉</td>\n",
       "      <td>NaN</td>\n",
       "      <td>NaN</td>\n",
       "      <td>黟县进行古城改造并申报国家级历史文化名城总体方案正在逐步完善，各项工作正在有条不..</td>\n",
       "      <td>黟县古城改造重要的是务须保住文教根脉\\n                         郗...</td>\n",
       "      <td>&lt;html xmlns=\"http://www.w3.org/1999/xhtml\"&gt;&lt;he...</td>\n",
       "      <td>NaN</td>\n",
       "    </tr>\n",
       "  </tbody>\n",
       "</table>\n",
       "</div>"
      ],
      "text/plain": [
       "           dt source domain                               url  \\\n",
       "0  2016-04-08  徽州文化网    NaN  www.hzwh.com/article.asp?id=2538   \n",
       "1  2016-04-08  徽州文化网    NaN  www.hzwh.com/article.asp?id=2537   \n",
       "2  2016-04-08  徽州文化网    NaN  www.hzwh.com/article.asp?id=2536   \n",
       "3  2016-04-08  徽州文化网    NaN  www.hzwh.com/article.asp?id=2535   \n",
       "4  2016-04-08  徽州文化网    NaN  www.hzwh.com/article.asp?id=2534   \n",
       "\n",
       "                  title summary image  \\\n",
       "0  传统徽州仁商义贾践行商君子之道的历史启示     NaN   NaN   \n",
       "1       《阅读徽州》第七编“徽州科技”     NaN   NaN   \n",
       "2        传统徽商的诚信为本和仁义向善     NaN   NaN   \n",
       "3        传统徽商的诚信为本和仁义向善     NaN   NaN   \n",
       "4    黟县古城改造重要的是务须保住文教根脉     NaN   NaN   \n",
       "\n",
       "                                        brief  \\\n",
       "0  全国人大代表、民盟安徽省委副主委、安徽省文联副主席钱念孙先生在《光明日报》201..   \n",
       "1  长期以来，得益于灵山秀水自然环境的滋养、兴学重教社会风气的熏染、经世致用治学风格..   \n",
       "2  徽州古楹联云“仁中取利真君子/义内求财大丈夫”。这是对传统徽商群体中那些仁商义贾..   \n",
       "3  徽州古楹联云“仁中取利真君子/义内求财大丈夫”。这是对传统徽商群体中那些仁商义贾..   \n",
       "4  黟县进行古城改造并申报国家级历史文化名城总体方案正在逐步完善，各项工作正在有条不..   \n",
       "\n",
       "                                                body  \\\n",
       "0  传统徽州仁商义贾践行商君子之道的历史启示\\n郗延红\\n全国人大代表、民盟安徽省委副主委、安徽...   \n",
       "1  《阅读徽州》第七编“徽州科技”（市委市政府通过市社科联组织编写）\\n中国科学技术学大出版社出...   \n",
       "2  传统徽商的诚信为本和仁义向善\\n\\n郗延红\\n徽州古楹联云“仁中取利真君子/义内求财大丈夫”...   \n",
       "3  传统徽商的诚信为本和仁义向善\\n \\n郗延红\\n徽州古楹联云“仁中取利真君子/义内求财大丈夫...   \n",
       "4  黟县古城改造重要的是务须保住文教根脉\\n                         郗...   \n",
       "\n",
       "                                            raw_page from  \n",
       "0  <html xmlns=\"http://www.w3.org/1999/xhtml\"><he...  NaN  \n",
       "1  <html xmlns=\"http://www.w3.org/1999/xhtml\"><he...  NaN  \n",
       "2  <html xmlns=\"http://www.w3.org/1999/xhtml\"><he...  NaN  \n",
       "3  <html xmlns=\"http://www.w3.org/1999/xhtml\"><he...  NaN  \n",
       "4  <html xmlns=\"http://www.w3.org/1999/xhtml\"><he...  NaN  "
      ]
     },
     "execution_count": 161,
     "metadata": {},
     "output_type": "execute_result"
    }
   ],
   "source": [
    "df.head()"
   ]
  },
  {
   "cell_type": "code",
   "execution_count": 127,
   "metadata": {
    "collapsed": false
   },
   "outputs": [
    {
     "data": {
      "text/plain": [
       "'www.hzwh.com/article.asp?id=1347'"
      ]
     },
     "execution_count": 127,
     "metadata": {},
     "output_type": "execute_result"
    }
   ],
   "source": [
    "df.loc[24]['url']"
   ]
  },
  {
   "cell_type": "code",
   "execution_count": 121,
   "metadata": {
    "collapsed": true
   },
   "outputs": [],
   "source": [
    "if(len(df) != 0):\n",
    "    df.to_csv('../data/complete/hzwh_huixueyuanpu.csv', encoding='utf-8', index=False)"
   ]
  },
  {
   "cell_type": "code",
   "execution_count": null,
   "metadata": {
    "collapsed": false
   },
   "outputs": [],
   "source": [
    "if(browser):\n",
    "    browser.quit()"
   ]
  },
  {
   "cell_type": "code",
   "execution_count": 31,
   "metadata": {
    "collapsed": false
   },
   "outputs": [],
   "source": [
    "for item in df['title']:\n",
    "    print item"
   ]
  },
  {
   "cell_type": "code",
   "execution_count": 32,
   "metadata": {
    "collapsed": false
   },
   "outputs": [
    {
     "name": "stdout",
     "output_type": "stream",
     "text": [
      "<class 'pandas.core.frame.DataFrame'>\n",
      "Index: 0 entries\n",
      "Data columns (total 11 columns):\n",
      "dt          0 non-null object\n",
      "source      0 non-null object\n",
      "domain      0 non-null object\n",
      "url         0 non-null object\n",
      "title       0 non-null object\n",
      "summary     0 non-null object\n",
      "image       0 non-null object\n",
      "brief       0 non-null object\n",
      "body        0 non-null object\n",
      "raw_page    0 non-null object\n",
      "from        0 non-null object\n",
      "dtypes: object(11)\n",
      "memory usage: 0.0+ bytes\n"
     ]
    }
   ],
   "source": [
    "df.info()"
   ]
  },
  {
   "cell_type": "code",
   "execution_count": 173,
   "metadata": {
    "collapsed": true
   },
   "outputs": [],
   "source": [
    "df2 = pd.read_csv('../data/complete/hzwh_huixueyuanpu.csv')"
   ]
  },
  {
   "cell_type": "code",
   "execution_count": 174,
   "metadata": {
    "collapsed": false
   },
   "outputs": [
    {
     "data": {
      "text/html": [
       "<div>\n",
       "<table border=\"1\" class=\"dataframe\">\n",
       "  <thead>\n",
       "    <tr style=\"text-align: right;\">\n",
       "      <th></th>\n",
       "      <th>dt</th>\n",
       "      <th>source</th>\n",
       "      <th>domain</th>\n",
       "      <th>url</th>\n",
       "      <th>title</th>\n",
       "      <th>summary</th>\n",
       "      <th>image</th>\n",
       "      <th>brief</th>\n",
       "      <th>body</th>\n",
       "      <th>raw_page</th>\n",
       "      <th>from</th>\n",
       "    </tr>\n",
       "  </thead>\n",
       "  <tbody>\n",
       "    <tr>\n",
       "      <th>0</th>\n",
       "      <td>2016-04-08</td>\n",
       "      <td>徽州文化网</td>\n",
       "      <td>NaN</td>\n",
       "      <td>http://www.hzwh.com/article.asp?id=2538</td>\n",
       "      <td>传统徽州仁商义贾践行商君子之道的历史启示</td>\n",
       "      <td>NaN</td>\n",
       "      <td>NaN</td>\n",
       "      <td>全国人大代表、民盟安徽省委副主委、安徽省文联副主席钱念孙先生在《光明日报》201..</td>\n",
       "      <td>传统徽州仁商义贾践行商君子之道的历史启示\\n郗延红\\n全国人大代表、民盟安徽省委副主委、安徽...</td>\n",
       "      <td>&lt;html xmlns=\"http://www.w3.org/1999/xhtml\"&gt;&lt;he...</td>\n",
       "      <td>NaN</td>\n",
       "    </tr>\n",
       "    <tr>\n",
       "      <th>1</th>\n",
       "      <td>2016-04-08</td>\n",
       "      <td>徽州文化网</td>\n",
       "      <td>NaN</td>\n",
       "      <td>http://www.hzwh.com/article.asp?id=2537</td>\n",
       "      <td>《阅读徽州》第七编“徽州科技”</td>\n",
       "      <td>NaN</td>\n",
       "      <td>NaN</td>\n",
       "      <td>长期以来，得益于灵山秀水自然环境的滋养、兴学重教社会风气的熏染、经世致用治学风格..</td>\n",
       "      <td>《阅读徽州》第七编“徽州科技”（市委市政府通过市社科联组织编写）\\n中国科学技术学大出版社出...</td>\n",
       "      <td>&lt;html xmlns=\"http://www.w3.org/1999/xhtml\"&gt;&lt;he...</td>\n",
       "      <td>NaN</td>\n",
       "    </tr>\n",
       "    <tr>\n",
       "      <th>2</th>\n",
       "      <td>2016-04-08</td>\n",
       "      <td>徽州文化网</td>\n",
       "      <td>NaN</td>\n",
       "      <td>http://www.hzwh.com/article.asp?id=2536</td>\n",
       "      <td>传统徽商的诚信为本和仁义向善</td>\n",
       "      <td>NaN</td>\n",
       "      <td>NaN</td>\n",
       "      <td>徽州古楹联云“仁中取利真君子/义内求财大丈夫”。这是对传统徽商群体中那些仁商义贾..</td>\n",
       "      <td>传统徽商的诚信为本和仁义向善\\n\\n郗延红\\n徽州古楹联云“仁中取利真君子/义内求财大丈夫”...</td>\n",
       "      <td>&lt;html xmlns=\"http://www.w3.org/1999/xhtml\"&gt;&lt;he...</td>\n",
       "      <td>NaN</td>\n",
       "    </tr>\n",
       "    <tr>\n",
       "      <th>3</th>\n",
       "      <td>2016-04-08</td>\n",
       "      <td>徽州文化网</td>\n",
       "      <td>NaN</td>\n",
       "      <td>http://www.hzwh.com/article.asp?id=2535</td>\n",
       "      <td>传统徽商的诚信为本和仁义向善</td>\n",
       "      <td>NaN</td>\n",
       "      <td>NaN</td>\n",
       "      <td>徽州古楹联云“仁中取利真君子/义内求财大丈夫”。这是对传统徽商群体中那些仁商义贾..</td>\n",
       "      <td>传统徽商的诚信为本和仁义向善\\n \\n郗延红\\n徽州古楹联云“仁中取利真君子/义内求财大丈夫...</td>\n",
       "      <td>&lt;html xmlns=\"http://www.w3.org/1999/xhtml\"&gt;&lt;he...</td>\n",
       "      <td>NaN</td>\n",
       "    </tr>\n",
       "    <tr>\n",
       "      <th>4</th>\n",
       "      <td>2016-04-08</td>\n",
       "      <td>徽州文化网</td>\n",
       "      <td>NaN</td>\n",
       "      <td>http://www.hzwh.com/article.asp?id=2534</td>\n",
       "      <td>黟县古城改造重要的是务须保住文教根脉</td>\n",
       "      <td>NaN</td>\n",
       "      <td>NaN</td>\n",
       "      <td>黟县进行古城改造并申报国家级历史文化名城总体方案正在逐步完善，各项工作正在有条不..</td>\n",
       "      <td>黟县古城改造重要的是务须保住文教根脉\\n                         郗...</td>\n",
       "      <td>&lt;html xmlns=\"http://www.w3.org/1999/xhtml\"&gt;&lt;he...</td>\n",
       "      <td>NaN</td>\n",
       "    </tr>\n",
       "  </tbody>\n",
       "</table>\n",
       "</div>"
      ],
      "text/plain": [
       "           dt source  domain                                      url  \\\n",
       "0  2016-04-08  徽州文化网     NaN  http://www.hzwh.com/article.asp?id=2538   \n",
       "1  2016-04-08  徽州文化网     NaN  http://www.hzwh.com/article.asp?id=2537   \n",
       "2  2016-04-08  徽州文化网     NaN  http://www.hzwh.com/article.asp?id=2536   \n",
       "3  2016-04-08  徽州文化网     NaN  http://www.hzwh.com/article.asp?id=2535   \n",
       "4  2016-04-08  徽州文化网     NaN  http://www.hzwh.com/article.asp?id=2534   \n",
       "\n",
       "                  title  summary  image  \\\n",
       "0  传统徽州仁商义贾践行商君子之道的历史启示      NaN    NaN   \n",
       "1       《阅读徽州》第七编“徽州科技”      NaN    NaN   \n",
       "2        传统徽商的诚信为本和仁义向善      NaN    NaN   \n",
       "3        传统徽商的诚信为本和仁义向善      NaN    NaN   \n",
       "4    黟县古城改造重要的是务须保住文教根脉      NaN    NaN   \n",
       "\n",
       "                                        brief  \\\n",
       "0  全国人大代表、民盟安徽省委副主委、安徽省文联副主席钱念孙先生在《光明日报》201..   \n",
       "1  长期以来，得益于灵山秀水自然环境的滋养、兴学重教社会风气的熏染、经世致用治学风格..   \n",
       "2  徽州古楹联云“仁中取利真君子/义内求财大丈夫”。这是对传统徽商群体中那些仁商义贾..   \n",
       "3  徽州古楹联云“仁中取利真君子/义内求财大丈夫”。这是对传统徽商群体中那些仁商义贾..   \n",
       "4  黟县进行古城改造并申报国家级历史文化名城总体方案正在逐步完善，各项工作正在有条不..   \n",
       "\n",
       "                                                body  \\\n",
       "0  传统徽州仁商义贾践行商君子之道的历史启示\\n郗延红\\n全国人大代表、民盟安徽省委副主委、安徽...   \n",
       "1  《阅读徽州》第七编“徽州科技”（市委市政府通过市社科联组织编写）\\n中国科学技术学大出版社出...   \n",
       "2  传统徽商的诚信为本和仁义向善\\n\\n郗延红\\n徽州古楹联云“仁中取利真君子/义内求财大丈夫”...   \n",
       "3  传统徽商的诚信为本和仁义向善\\n \\n郗延红\\n徽州古楹联云“仁中取利真君子/义内求财大丈夫...   \n",
       "4  黟县古城改造重要的是务须保住文教根脉\\n                         郗...   \n",
       "\n",
       "                                            raw_page  from  \n",
       "0  <html xmlns=\"http://www.w3.org/1999/xhtml\"><he...   NaN  \n",
       "1  <html xmlns=\"http://www.w3.org/1999/xhtml\"><he...   NaN  \n",
       "2  <html xmlns=\"http://www.w3.org/1999/xhtml\"><he...   NaN  \n",
       "3  <html xmlns=\"http://www.w3.org/1999/xhtml\"><he...   NaN  \n",
       "4  <html xmlns=\"http://www.w3.org/1999/xhtml\"><he...   NaN  "
      ]
     },
     "execution_count": 174,
     "metadata": {},
     "output_type": "execute_result"
    }
   ],
   "source": [
    "df2.head()"
   ]
  },
  {
   "cell_type": "code",
   "execution_count": null,
   "metadata": {
    "collapsed": true
   },
   "outputs": [],
   "source": []
  }
 ],
 "metadata": {
  "kernelspec": {
   "display_name": "Python 2",
   "language": "python",
   "name": "python2"
  },
  "language_info": {
   "codemirror_mode": {
    "name": "ipython",
    "version": 2
   },
   "file_extension": ".py",
   "mimetype": "text/x-python",
   "name": "python",
   "nbconvert_exporter": "python",
   "pygments_lexer": "ipython2",
   "version": "2.7.10"
  }
 },
 "nbformat": 4,
 "nbformat_minor": 0
}
