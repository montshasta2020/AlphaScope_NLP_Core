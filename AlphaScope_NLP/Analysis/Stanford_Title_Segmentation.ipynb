{
 "cells": [
  {
   "cell_type": "code",
   "execution_count": 70,
   "metadata": {
    "collapsed": true
   },
   "outputs": [],
   "source": [
    "import sys  \n",
    "reload(sys)  \n",
    "sys.setdefaultencoding('utf-8')"
   ]
  },
  {
   "cell_type": "code",
   "execution_count": 71,
   "metadata": {
    "collapsed": true
   },
   "outputs": [],
   "source": [
    "from nltk.tokenize.stanford_segmenter import StanfordSegmenter"
   ]
  },
  {
   "cell_type": "code",
   "execution_count": 72,
   "metadata": {
    "collapsed": true
   },
   "outputs": [],
   "source": [
    "import pandas as pd\n",
    "from collections import Counter"
   ]
  },
  {
   "cell_type": "code",
   "execution_count": 73,
   "metadata": {
    "collapsed": true
   },
   "outputs": [],
   "source": [
    "from nltk.tokenize.stanford_segmenter import StanfordSegmenter"
   ]
  },
  {
   "cell_type": "code",
   "execution_count": 74,
   "metadata": {
    "collapsed": true
   },
   "outputs": [],
   "source": [
    "segmenter = StanfordSegmenter(path_to_jar='/Users/nhu2000/desktop/nltk/stanford-segmenter-2014-08-27/stanford-segmenter-3.4.1.jar', \n",
    "                              path_to_slf4j='/Users/nhu2000/desktop/nltk/stanford-segmenter-2014-08-27/slf4j-api.jar',\n",
    "                              path_to_sihan_corpora_dict='/Users/nhu2000/desktop/nltk/stanford-segmenter-2014-08-27/data', \n",
    "                              path_to_model='/Users/nhu2000/desktop/nltk/stanford-segmenter-2014-08-27/data/pku.gz', \n",
    "                              path_to_dict='/Users/nhu2000/desktop/nltk/stanford-segmenter-2014-08-27/data/dict-chris6.ser.gz')"
   ]
  },
  {
   "cell_type": "code",
   "execution_count": 133,
   "metadata": {
    "collapsed": false
   },
   "outputs": [],
   "source": [
    "#df = pd.read_csv('/Users/nhu2000/desktop/huizhou/data/complete/weixin_huizhou.csv')\n",
    "df = pd.read_csv('/Users/nhu2000/desktop/huizhou/data/complete/anhuinews-huixue.csv')\n",
    "#df = pd.read_csv('/Users/nhu2000/desktop/huizhou/data/complete/hzwh_huixueyuanpu.csv')\n",
    "#df = pd.read_csv('/Users/nhu2000/desktop/huizhou/data/complete/xinhs_huixueyuandi.csv')\n",
    "#df = pd.read_csv('/Users/nhu2000/desktop/huizhou/scrape/data/general/360doc-huizhou.csv')\n",
    "#df = pd.read_csv('/Users/nhu2000/desktop/huizhou/scrape/cse_combined_data.csv')\n"
   ]
  },
  {
   "cell_type": "code",
   "execution_count": 75,
   "metadata": {
    "collapsed": true
   },
   "outputs": [],
   "source": [
    "import glob\n",
    "all_files = glob.glob(\"../scrape/data/google/cse/\" + \"/*.csv\")\n",
    "\n",
    "init = 0\n",
    "#print all_files\n",
    "for file_ in all_files:\n",
    "    print file_\n",
    "    with open(file_) as data_file:  \n",
    "        df = pd.read_csv(data_file)\n",
    "        if init == 0:\n",
    "            joined = df\n",
    "            init = 1\n",
    "        else:\n",
    "            joined = joined.append(df)"
   ]
  },
  {
   "cell_type": "code",
   "execution_count": 76,
   "metadata": {
    "collapsed": false
   },
   "outputs": [
    {
     "data": {
      "text/html": [
       "<div>\n",
       "<table border=\"1\" class=\"dataframe\">\n",
       "  <thead>\n",
       "    <tr style=\"text-align: right;\">\n",
       "      <th></th>\n",
       "      <th>dt</th>\n",
       "      <th>source</th>\n",
       "      <th>domain</th>\n",
       "      <th>url</th>\n",
       "      <th>title</th>\n",
       "      <th>summary</th>\n",
       "      <th>image</th>\n",
       "      <th>brief</th>\n",
       "      <th>body</th>\n",
       "      <th>raw_page</th>\n",
       "      <th>from</th>\n",
       "    </tr>\n",
       "  </thead>\n",
       "  <tbody>\n",
       "    <tr>\n",
       "      <th>0</th>\n",
       "      <td>2016-10-10</td>\n",
       "      <td>360doc</td>\n",
       "      <td>NaN</td>\n",
       "      <td>http://www.360doc.com/content/16/1010/15/28029...</td>\n",
       "      <td>听张脉贤先生说徽文化</td>\n",
       "      <td>NaN</td>\n",
       "      <td>NaN</td>\n",
       "      <td>在赭山公园边市徽商博物馆随园小坐，高低错落的粉墙黛瓦下面竹树掩映着，明窗净\\n几的茶座，依...</td>\n",
       "      <td>NaN</td>\n",
       "      <td>NaN</td>\n",
       "      <td>NaN</td>\n",
       "    </tr>\n",
       "    <tr>\n",
       "      <th>1</th>\n",
       "      <td>2016-6-17</td>\n",
       "      <td>360doc</td>\n",
       "      <td>NaN</td>\n",
       "      <td>http://www.360doc.com/content/16/0617/22/77942...</td>\n",
       "      <td>没有徽州哪来安徽，哪来“徽文化”？</td>\n",
       "      <td>NaN</td>\n",
       "      <td>NaN</td>\n",
       "      <td>没有徽州哪来安徽，哪来“徽文化”？ 5月28日，为黄山复名徽州疾呼18年的著名作家\\n、《...</td>\n",
       "      <td>NaN</td>\n",
       "      <td>NaN</td>\n",
       "      <td>NaN</td>\n",
       "    </tr>\n",
       "    <tr>\n",
       "      <th>2</th>\n",
       "      <td>2016-4-22</td>\n",
       "      <td>360doc</td>\n",
       "      <td>NaN</td>\n",
       "      <td>http://www.360doc.com/content/16/0422/21/78396...</td>\n",
       "      <td>也说徽州｜徽文化：中国封建社会后期的典型标本</td>\n",
       "      <td>NaN</td>\n",
       "      <td>NaN</td>\n",
       "      <td>徽文化包含了中国传统社会中的民间经济、社会生活与文化等基本内容，被誉为中国\\n封建社会后期...</td>\n",
       "      <td>NaN</td>\n",
       "      <td>NaN</td>\n",
       "      <td>NaN</td>\n",
       "    </tr>\n",
       "    <tr>\n",
       "      <th>3</th>\n",
       "      <td>2016-5-20</td>\n",
       "      <td>360doc</td>\n",
       "      <td>NaN</td>\n",
       "      <td>http://www.360doc.com/content/16/0520/14/46029...</td>\n",
       "      <td>徽文化之旅（皖南行之一）</td>\n",
       "      <td>NaN</td>\n",
       "      <td>NaN</td>\n",
       "      <td>徽文化之旅（皖南行之一）. 几十年间，我曾到过安徽不少城市和名胜。耄耋之年的老\\n两口尚有...</td>\n",
       "      <td>NaN</td>\n",
       "      <td>NaN</td>\n",
       "      <td>NaN</td>\n",
       "    </tr>\n",
       "    <tr>\n",
       "      <th>4</th>\n",
       "      <td>2013-11-30</td>\n",
       "      <td>360doc</td>\n",
       "      <td>NaN</td>\n",
       "      <td>http://www.360doc.com/content/13/1130/15/13701...</td>\n",
       "      <td>徽文化</td>\n",
       "      <td>NaN</td>\n",
       "      <td>NaN</td>\n",
       "      <td>徽文化积淀深厚,普通旅游者对很多徽州文化旅游景点捉摸不透, 走马观花看“热闹”, \\n看不...</td>\n",
       "      <td>NaN</td>\n",
       "      <td>NaN</td>\n",
       "      <td>NaN</td>\n",
       "    </tr>\n",
       "  </tbody>\n",
       "</table>\n",
       "</div>"
      ],
      "text/plain": [
       "           dt  source  domain  \\\n",
       "0  2016-10-10  360doc     NaN   \n",
       "1   2016-6-17  360doc     NaN   \n",
       "2   2016-4-22  360doc     NaN   \n",
       "3   2016-5-20  360doc     NaN   \n",
       "4  2013-11-30  360doc     NaN   \n",
       "\n",
       "                                                 url                   title  \\\n",
       "0  http://www.360doc.com/content/16/1010/15/28029...              听张脉贤先生说徽文化   \n",
       "1  http://www.360doc.com/content/16/0617/22/77942...       没有徽州哪来安徽，哪来“徽文化”？   \n",
       "2  http://www.360doc.com/content/16/0422/21/78396...  也说徽州｜徽文化：中国封建社会后期的典型标本   \n",
       "3  http://www.360doc.com/content/16/0520/14/46029...            徽文化之旅（皖南行之一）   \n",
       "4  http://www.360doc.com/content/13/1130/15/13701...                     徽文化   \n",
       "\n",
       "   summary  image                                              brief  body  \\\n",
       "0      NaN    NaN   在赭山公园边市徽商博物馆随园小坐，高低错落的粉墙黛瓦下面竹树掩映着，明窗净\\n几的茶座，依...   NaN   \n",
       "1      NaN    NaN   没有徽州哪来安徽，哪来“徽文化”？ 5月28日，为黄山复名徽州疾呼18年的著名作家\\n、《...   NaN   \n",
       "2      NaN    NaN   徽文化包含了中国传统社会中的民间经济、社会生活与文化等基本内容，被誉为中国\\n封建社会后期...   NaN   \n",
       "3      NaN    NaN   徽文化之旅（皖南行之一）. 几十年间，我曾到过安徽不少城市和名胜。耄耋之年的老\\n两口尚有...   NaN   \n",
       "4      NaN    NaN   徽文化积淀深厚,普通旅游者对很多徽州文化旅游景点捉摸不透, 走马观花看“热闹”, \\n看不...   NaN   \n",
       "\n",
       "  raw_page  from  \n",
       "0      NaN   NaN  \n",
       "1      NaN   NaN  \n",
       "2      NaN   NaN  \n",
       "3      NaN   NaN  \n",
       "4      NaN   NaN  "
      ]
     },
     "execution_count": 76,
     "metadata": {},
     "output_type": "execute_result"
    }
   ],
   "source": [
    "joined.head()"
   ]
  },
  {
   "cell_type": "code",
   "execution_count": 77,
   "metadata": {
    "collapsed": true
   },
   "outputs": [],
   "source": [
    "joined.info()"
   ]
  },
  {
   "cell_type": "code",
   "execution_count": 78,
   "metadata": {
    "collapsed": false
   },
   "outputs": [],
   "source": [
    "df = joined[['url', 'title']]"
   ]
  },
  {
   "cell_type": "code",
   "execution_count": 79,
   "metadata": {
    "collapsed": false
   },
   "outputs": [
    {
     "data": {
      "text/html": [
       "<div>\n",
       "<table border=\"1\" class=\"dataframe\">\n",
       "  <thead>\n",
       "    <tr style=\"text-align: right;\">\n",
       "      <th></th>\n",
       "      <th>url</th>\n",
       "      <th>title</th>\n",
       "    </tr>\n",
       "  </thead>\n",
       "  <tbody>\n",
       "    <tr>\n",
       "      <th>0</th>\n",
       "      <td>http://www.360doc.com/content/16/1010/15/28029...</td>\n",
       "      <td>听张脉贤先生说徽文化</td>\n",
       "    </tr>\n",
       "    <tr>\n",
       "      <th>1</th>\n",
       "      <td>http://www.360doc.com/content/16/0617/22/77942...</td>\n",
       "      <td>没有徽州哪来安徽，哪来“徽文化”？</td>\n",
       "    </tr>\n",
       "    <tr>\n",
       "      <th>2</th>\n",
       "      <td>http://www.360doc.com/content/16/0422/21/78396...</td>\n",
       "      <td>也说徽州｜徽文化：中国封建社会后期的典型标本</td>\n",
       "    </tr>\n",
       "    <tr>\n",
       "      <th>3</th>\n",
       "      <td>http://www.360doc.com/content/16/0520/14/46029...</td>\n",
       "      <td>徽文化之旅（皖南行之一）</td>\n",
       "    </tr>\n",
       "    <tr>\n",
       "      <th>4</th>\n",
       "      <td>http://www.360doc.com/content/13/1130/15/13701...</td>\n",
       "      <td>徽文化</td>\n",
       "    </tr>\n",
       "  </tbody>\n",
       "</table>\n",
       "</div>"
      ],
      "text/plain": [
       "                                                 url                   title\n",
       "0  http://www.360doc.com/content/16/1010/15/28029...              听张脉贤先生说徽文化\n",
       "1  http://www.360doc.com/content/16/0617/22/77942...       没有徽州哪来安徽，哪来“徽文化”？\n",
       "2  http://www.360doc.com/content/16/0422/21/78396...  也说徽州｜徽文化：中国封建社会后期的典型标本\n",
       "3  http://www.360doc.com/content/16/0520/14/46029...            徽文化之旅（皖南行之一）\n",
       "4  http://www.360doc.com/content/13/1130/15/13701...                     徽文化"
      ]
     },
     "execution_count": 79,
     "metadata": {},
     "output_type": "execute_result"
    }
   ],
   "source": [
    "df.head()"
   ]
  },
  {
   "cell_type": "code",
   "execution_count": 135,
   "metadata": {
    "collapsed": true
   },
   "outputs": [],
   "source": [
    "df.info()"
   ]
  },
  {
   "cell_type": "code",
   "execution_count": 81,
   "metadata": {
    "collapsed": true
   },
   "outputs": [],
   "source": [
    "df.to_csv('temp.csv', encoding='utf-8', index=False)"
   ]
  },
  {
   "cell_type": "code",
   "execution_count": 82,
   "metadata": {
    "collapsed": true
   },
   "outputs": [],
   "source": [
    "df = pd.read_csv('temp.csv')"
   ]
  },
  {
   "cell_type": "code",
   "execution_count": 142,
   "metadata": {
    "collapsed": true
   },
   "outputs": [],
   "source": [
    "def get_columns2():\n",
    "    return ('url', 'segment', 'title', 'target') \n",
    "def get_empty_columns2():\n",
    "    return ('', '', '', '') "
   ]
  },
  {
   "cell_type": "code",
   "execution_count": 145,
   "metadata": {
    "collapsed": true
   },
   "outputs": [],
   "source": [
    "idx = 0\n",
    "new_df = pd.DataFrame(columns = get_columns2())"
   ]
  },
  {
   "cell_type": "code",
   "execution_count": 146,
   "metadata": {
    "collapsed": false
   },
   "outputs": [],
   "source": [
    "for i in range(0, len(df)):\n",
    "    url = df.loc[i]['url']\n",
    "    t1 = df.loc[i]['title'].decode('utf-8')\n",
    "    t0 = segmenter.segment(t1)\n",
    "    print i, url\n",
    "    print t0    \n",
    "    new_df.loc[i] = get_empty_columns2()\n",
    "    new_df.loc[i]['segment'] = t0\n",
    "    new_df.loc[i]['url'] = url"
   ]
  },
  {
   "cell_type": "code",
   "execution_count": 156,
   "metadata": {
    "collapsed": true
   },
   "outputs": [],
   "source": [
    "new_df['target'] = 1\n",
    "new_df['flag'] = 1\n",
    "new_df['segments'] = new_df['segment']"
   ]
  },
  {
   "cell_type": "code",
   "execution_count": 157,
   "metadata": {
    "collapsed": false
   },
   "outputs": [
    {
     "data": {
      "text/html": [
       "<div>\n",
       "<table border=\"1\" class=\"dataframe\">\n",
       "  <thead>\n",
       "    <tr style=\"text-align: right;\">\n",
       "      <th></th>\n",
       "      <th>url</th>\n",
       "      <th>segment</th>\n",
       "      <th>title</th>\n",
       "      <th>target</th>\n",
       "      <th>source</th>\n",
       "      <th>flag</th>\n",
       "      <th>segments</th>\n",
       "    </tr>\n",
       "  </thead>\n",
       "  <tbody>\n",
       "    <tr>\n",
       "      <th>0</th>\n",
       "      <td>http://cul.anhuinews.com/system/2016/11/28/007...</td>\n",
       "      <td>洪 建华 夫妇 的 竹刻 人生\\n</td>\n",
       "      <td>洪建华夫妇的竹刻人生</td>\n",
       "      <td>1</td>\n",
       "      <td>general</td>\n",
       "      <td>1</td>\n",
       "      <td>洪 建华 夫妇 的 竹刻 人生\\n</td>\n",
       "    </tr>\n",
       "    <tr>\n",
       "      <th>1</th>\n",
       "      <td>http://cul.anhuinews.com/system/2016/11/21/007...</td>\n",
       "      <td>徽州 民歌 传人 操 明 花 校园 授艺\\n</td>\n",
       "      <td>徽州民歌传人操明花校园授艺</td>\n",
       "      <td>1</td>\n",
       "      <td>general</td>\n",
       "      <td>1</td>\n",
       "      <td>徽州 民歌 传人 操 明 花 校园 授艺\\n</td>\n",
       "    </tr>\n",
       "    <tr>\n",
       "      <th>2</th>\n",
       "      <td>http://cul.anhuinews.com/system/2016/11/03/007...</td>\n",
       "      <td>黄山 楹联 漫谈\\n</td>\n",
       "      <td>黄山楹联漫谈</td>\n",
       "      <td>1</td>\n",
       "      <td>general</td>\n",
       "      <td>1</td>\n",
       "      <td>黄山 楹联 漫谈\\n</td>\n",
       "    </tr>\n",
       "    <tr>\n",
       "      <th>3</th>\n",
       "      <td>http://cul.anhuinews.com/system/2016/01/26/007...</td>\n",
       "      <td>徽派 雕刻 —— 徽州 木雕 艺术\\n</td>\n",
       "      <td>徽派雕刻——徽州木雕艺术</td>\n",
       "      <td>1</td>\n",
       "      <td>general</td>\n",
       "      <td>1</td>\n",
       "      <td>徽派 雕刻 —— 徽州 木雕 艺术\\n</td>\n",
       "    </tr>\n",
       "    <tr>\n",
       "      <th>4</th>\n",
       "      <td>http://cul.anhuinews.com/system/2016/01/26/007...</td>\n",
       "      <td>徽派 雕刻 —— 徽州 砖雕 艺术\\n</td>\n",
       "      <td>徽派雕刻——徽州砖雕艺术</td>\n",
       "      <td>1</td>\n",
       "      <td>general</td>\n",
       "      <td>1</td>\n",
       "      <td>徽派 雕刻 —— 徽州 砖雕 艺术\\n</td>\n",
       "    </tr>\n",
       "  </tbody>\n",
       "</table>\n",
       "</div>"
      ],
      "text/plain": [
       "                                                 url                 segment  \\\n",
       "0  http://cul.anhuinews.com/system/2016/11/28/007...       洪 建华 夫妇 的 竹刻 人生\\n   \n",
       "1  http://cul.anhuinews.com/system/2016/11/21/007...  徽州 民歌 传人 操 明 花 校园 授艺\\n   \n",
       "2  http://cul.anhuinews.com/system/2016/11/03/007...              黄山 楹联 漫谈\\n   \n",
       "3  http://cul.anhuinews.com/system/2016/01/26/007...     徽派 雕刻 —— 徽州 木雕 艺术\\n   \n",
       "4  http://cul.anhuinews.com/system/2016/01/26/007...     徽派 雕刻 —— 徽州 砖雕 艺术\\n   \n",
       "\n",
       "           title  target   source  flag                segments  \n",
       "0     洪建华夫妇的竹刻人生       1  general     1       洪 建华 夫妇 的 竹刻 人生\\n  \n",
       "1  徽州民歌传人操明花校园授艺       1  general     1  徽州 民歌 传人 操 明 花 校园 授艺\\n  \n",
       "2         黄山楹联漫谈       1  general     1              黄山 楹联 漫谈\\n  \n",
       "3   徽派雕刻——徽州木雕艺术       1  general     1     徽派 雕刻 —— 徽州 木雕 艺术\\n  \n",
       "4   徽派雕刻——徽州砖雕艺术       1  general     1     徽派 雕刻 —— 徽州 砖雕 艺术\\n  "
      ]
     },
     "execution_count": 157,
     "metadata": {},
     "output_type": "execute_result"
    }
   ],
   "source": [
    "new_df.head()"
   ]
  },
  {
   "cell_type": "code",
   "execution_count": 158,
   "metadata": {
    "collapsed": true
   },
   "outputs": [],
   "source": [
    "final_df = new_df[['url', 'segments', 'flag']]"
   ]
  },
  {
   "cell_type": "code",
   "execution_count": 159,
   "metadata": {
    "collapsed": true
   },
   "outputs": [],
   "source": [
    "final_df.info()"
   ]
  },
  {
   "cell_type": "code",
   "execution_count": 160,
   "metadata": {
    "collapsed": false
   },
   "outputs": [
    {
     "data": {
      "text/html": [
       "<div>\n",
       "<table border=\"1\" class=\"dataframe\">\n",
       "  <thead>\n",
       "    <tr style=\"text-align: right;\">\n",
       "      <th></th>\n",
       "      <th>url</th>\n",
       "      <th>segments</th>\n",
       "      <th>flag</th>\n",
       "    </tr>\n",
       "  </thead>\n",
       "  <tbody>\n",
       "    <tr>\n",
       "      <th>0</th>\n",
       "      <td>http://cul.anhuinews.com/system/2016/11/28/007...</td>\n",
       "      <td>洪 建华 夫妇 的 竹刻 人生\\n</td>\n",
       "      <td>1</td>\n",
       "    </tr>\n",
       "    <tr>\n",
       "      <th>1</th>\n",
       "      <td>http://cul.anhuinews.com/system/2016/11/21/007...</td>\n",
       "      <td>徽州 民歌 传人 操 明 花 校园 授艺\\n</td>\n",
       "      <td>1</td>\n",
       "    </tr>\n",
       "    <tr>\n",
       "      <th>2</th>\n",
       "      <td>http://cul.anhuinews.com/system/2016/11/03/007...</td>\n",
       "      <td>黄山 楹联 漫谈\\n</td>\n",
       "      <td>1</td>\n",
       "    </tr>\n",
       "    <tr>\n",
       "      <th>3</th>\n",
       "      <td>http://cul.anhuinews.com/system/2016/01/26/007...</td>\n",
       "      <td>徽派 雕刻 —— 徽州 木雕 艺术\\n</td>\n",
       "      <td>1</td>\n",
       "    </tr>\n",
       "    <tr>\n",
       "      <th>4</th>\n",
       "      <td>http://cul.anhuinews.com/system/2016/01/26/007...</td>\n",
       "      <td>徽派 雕刻 —— 徽州 砖雕 艺术\\n</td>\n",
       "      <td>1</td>\n",
       "    </tr>\n",
       "  </tbody>\n",
       "</table>\n",
       "</div>"
      ],
      "text/plain": [
       "                                                 url                segments  \\\n",
       "0  http://cul.anhuinews.com/system/2016/11/28/007...       洪 建华 夫妇 的 竹刻 人生\\n   \n",
       "1  http://cul.anhuinews.com/system/2016/11/21/007...  徽州 民歌 传人 操 明 花 校园 授艺\\n   \n",
       "2  http://cul.anhuinews.com/system/2016/11/03/007...              黄山 楹联 漫谈\\n   \n",
       "3  http://cul.anhuinews.com/system/2016/01/26/007...     徽派 雕刻 —— 徽州 木雕 艺术\\n   \n",
       "4  http://cul.anhuinews.com/system/2016/01/26/007...     徽派 雕刻 —— 徽州 砖雕 艺术\\n   \n",
       "\n",
       "   flag  \n",
       "0     1  \n",
       "1     1  \n",
       "2     1  \n",
       "3     1  \n",
       "4     1  "
      ]
     },
     "execution_count": 160,
     "metadata": {},
     "output_type": "execute_result"
    }
   ],
   "source": [
    "final_df.head()"
   ]
  },
  {
   "cell_type": "code",
   "execution_count": 148,
   "metadata": {
    "collapsed": false
   },
   "outputs": [
    {
     "ename": "KeyError",
     "evalue": "'segments'",
     "output_type": "error",
     "traceback": [
      "\u001b[0;31m---------------------------------------------------------------------------\u001b[0m",
      "\u001b[0;31mKeyError\u001b[0m                                  Traceback (most recent call last)",
      "\u001b[0;32m<ipython-input-148-5b85cbc96885>\u001b[0m in \u001b[0;36m<module>\u001b[0;34m()\u001b[0m\n\u001b[1;32m      1\u001b[0m \u001b[0mnew_df\u001b[0m\u001b[0;34m[\u001b[0m\u001b[0;34m'title'\u001b[0m\u001b[0;34m]\u001b[0m \u001b[0;34m=\u001b[0m \u001b[0mdf\u001b[0m\u001b[0;34m[\u001b[0m\u001b[0;34m'title'\u001b[0m\u001b[0;34m]\u001b[0m\u001b[0;34m\u001b[0m\u001b[0m\n\u001b[1;32m      2\u001b[0m \u001b[0mnew_df\u001b[0m\u001b[0;34m[\u001b[0m\u001b[0;34m'source'\u001b[0m\u001b[0;34m]\u001b[0m \u001b[0;34m=\u001b[0m \u001b[0;34m'cse'\u001b[0m\u001b[0;34m\u001b[0m\u001b[0m\n\u001b[0;32m----> 3\u001b[0;31m \u001b[0mnew_df\u001b[0m\u001b[0;34m[\u001b[0m\u001b[0;34m'segment'\u001b[0m\u001b[0;34m]\u001b[0m \u001b[0;34m=\u001b[0m \u001b[0mnew_df\u001b[0m\u001b[0;34m[\u001b[0m\u001b[0;34m'segments'\u001b[0m\u001b[0;34m]\u001b[0m\u001b[0;34m\u001b[0m\u001b[0m\n\u001b[0m",
      "\u001b[0;32m/Library/Python/2.7/site-packages/pandas/core/frame.pyc\u001b[0m in \u001b[0;36m__getitem__\u001b[0;34m(self, key)\u001b[0m\n\u001b[1;32m   1912\u001b[0m             \u001b[0;32mreturn\u001b[0m \u001b[0mself\u001b[0m\u001b[0;34m.\u001b[0m\u001b[0m_getitem_multilevel\u001b[0m\u001b[0;34m(\u001b[0m\u001b[0mkey\u001b[0m\u001b[0;34m)\u001b[0m\u001b[0;34m\u001b[0m\u001b[0m\n\u001b[1;32m   1913\u001b[0m         \u001b[0;32melse\u001b[0m\u001b[0;34m:\u001b[0m\u001b[0;34m\u001b[0m\u001b[0m\n\u001b[0;32m-> 1914\u001b[0;31m             \u001b[0;32mreturn\u001b[0m \u001b[0mself\u001b[0m\u001b[0;34m.\u001b[0m\u001b[0m_getitem_column\u001b[0m\u001b[0;34m(\u001b[0m\u001b[0mkey\u001b[0m\u001b[0;34m)\u001b[0m\u001b[0;34m\u001b[0m\u001b[0m\n\u001b[0m\u001b[1;32m   1915\u001b[0m \u001b[0;34m\u001b[0m\u001b[0m\n\u001b[1;32m   1916\u001b[0m     \u001b[0;32mdef\u001b[0m \u001b[0m_getitem_column\u001b[0m\u001b[0;34m(\u001b[0m\u001b[0mself\u001b[0m\u001b[0;34m,\u001b[0m \u001b[0mkey\u001b[0m\u001b[0;34m)\u001b[0m\u001b[0;34m:\u001b[0m\u001b[0;34m\u001b[0m\u001b[0m\n",
      "\u001b[0;32m/Library/Python/2.7/site-packages/pandas/core/frame.pyc\u001b[0m in \u001b[0;36m_getitem_column\u001b[0;34m(self, key)\u001b[0m\n\u001b[1;32m   1919\u001b[0m         \u001b[0;31m# get column\u001b[0m\u001b[0;34m\u001b[0m\u001b[0;34m\u001b[0m\u001b[0m\n\u001b[1;32m   1920\u001b[0m         \u001b[0;32mif\u001b[0m \u001b[0mself\u001b[0m\u001b[0;34m.\u001b[0m\u001b[0mcolumns\u001b[0m\u001b[0;34m.\u001b[0m\u001b[0mis_unique\u001b[0m\u001b[0;34m:\u001b[0m\u001b[0;34m\u001b[0m\u001b[0m\n\u001b[0;32m-> 1921\u001b[0;31m             \u001b[0;32mreturn\u001b[0m \u001b[0mself\u001b[0m\u001b[0;34m.\u001b[0m\u001b[0m_get_item_cache\u001b[0m\u001b[0;34m(\u001b[0m\u001b[0mkey\u001b[0m\u001b[0;34m)\u001b[0m\u001b[0;34m\u001b[0m\u001b[0m\n\u001b[0m\u001b[1;32m   1922\u001b[0m \u001b[0;34m\u001b[0m\u001b[0m\n\u001b[1;32m   1923\u001b[0m         \u001b[0;31m# duplicate columns & possible reduce dimensionaility\u001b[0m\u001b[0;34m\u001b[0m\u001b[0;34m\u001b[0m\u001b[0m\n",
      "\u001b[0;32m/Library/Python/2.7/site-packages/pandas/core/generic.pyc\u001b[0m in \u001b[0;36m_get_item_cache\u001b[0;34m(self, item)\u001b[0m\n\u001b[1;32m   1088\u001b[0m         \u001b[0mres\u001b[0m \u001b[0;34m=\u001b[0m \u001b[0mcache\u001b[0m\u001b[0;34m.\u001b[0m\u001b[0mget\u001b[0m\u001b[0;34m(\u001b[0m\u001b[0mitem\u001b[0m\u001b[0;34m)\u001b[0m\u001b[0;34m\u001b[0m\u001b[0m\n\u001b[1;32m   1089\u001b[0m         \u001b[0;32mif\u001b[0m \u001b[0mres\u001b[0m \u001b[0;32mis\u001b[0m \u001b[0mNone\u001b[0m\u001b[0;34m:\u001b[0m\u001b[0;34m\u001b[0m\u001b[0m\n\u001b[0;32m-> 1090\u001b[0;31m             \u001b[0mvalues\u001b[0m \u001b[0;34m=\u001b[0m \u001b[0mself\u001b[0m\u001b[0;34m.\u001b[0m\u001b[0m_data\u001b[0m\u001b[0;34m.\u001b[0m\u001b[0mget\u001b[0m\u001b[0;34m(\u001b[0m\u001b[0mitem\u001b[0m\u001b[0;34m)\u001b[0m\u001b[0;34m\u001b[0m\u001b[0m\n\u001b[0m\u001b[1;32m   1091\u001b[0m             \u001b[0mres\u001b[0m \u001b[0;34m=\u001b[0m \u001b[0mself\u001b[0m\u001b[0;34m.\u001b[0m\u001b[0m_box_item_values\u001b[0m\u001b[0;34m(\u001b[0m\u001b[0mitem\u001b[0m\u001b[0;34m,\u001b[0m \u001b[0mvalues\u001b[0m\u001b[0;34m)\u001b[0m\u001b[0;34m\u001b[0m\u001b[0m\n\u001b[1;32m   1092\u001b[0m             \u001b[0mcache\u001b[0m\u001b[0;34m[\u001b[0m\u001b[0mitem\u001b[0m\u001b[0;34m]\u001b[0m \u001b[0;34m=\u001b[0m \u001b[0mres\u001b[0m\u001b[0;34m\u001b[0m\u001b[0m\n",
      "\u001b[0;32m/Library/Python/2.7/site-packages/pandas/core/internals.pyc\u001b[0m in \u001b[0;36mget\u001b[0;34m(self, item, fastpath)\u001b[0m\n\u001b[1;32m   3100\u001b[0m \u001b[0;34m\u001b[0m\u001b[0m\n\u001b[1;32m   3101\u001b[0m             \u001b[0;32mif\u001b[0m \u001b[0;32mnot\u001b[0m \u001b[0misnull\u001b[0m\u001b[0;34m(\u001b[0m\u001b[0mitem\u001b[0m\u001b[0;34m)\u001b[0m\u001b[0;34m:\u001b[0m\u001b[0;34m\u001b[0m\u001b[0m\n\u001b[0;32m-> 3102\u001b[0;31m                 \u001b[0mloc\u001b[0m \u001b[0;34m=\u001b[0m \u001b[0mself\u001b[0m\u001b[0;34m.\u001b[0m\u001b[0mitems\u001b[0m\u001b[0;34m.\u001b[0m\u001b[0mget_loc\u001b[0m\u001b[0;34m(\u001b[0m\u001b[0mitem\u001b[0m\u001b[0;34m)\u001b[0m\u001b[0;34m\u001b[0m\u001b[0m\n\u001b[0m\u001b[1;32m   3103\u001b[0m             \u001b[0;32melse\u001b[0m\u001b[0;34m:\u001b[0m\u001b[0;34m\u001b[0m\u001b[0m\n\u001b[1;32m   3104\u001b[0m                 \u001b[0mindexer\u001b[0m \u001b[0;34m=\u001b[0m \u001b[0mnp\u001b[0m\u001b[0;34m.\u001b[0m\u001b[0marange\u001b[0m\u001b[0;34m(\u001b[0m\u001b[0mlen\u001b[0m\u001b[0;34m(\u001b[0m\u001b[0mself\u001b[0m\u001b[0;34m.\u001b[0m\u001b[0mitems\u001b[0m\u001b[0;34m)\u001b[0m\u001b[0;34m)\u001b[0m\u001b[0;34m[\u001b[0m\u001b[0misnull\u001b[0m\u001b[0;34m(\u001b[0m\u001b[0mself\u001b[0m\u001b[0;34m.\u001b[0m\u001b[0mitems\u001b[0m\u001b[0;34m)\u001b[0m\u001b[0;34m]\u001b[0m\u001b[0;34m\u001b[0m\u001b[0m\n",
      "\u001b[0;32m/Library/Python/2.7/site-packages/pandas/core/index.pyc\u001b[0m in \u001b[0;36mget_loc\u001b[0;34m(self, key, method, tolerance)\u001b[0m\n\u001b[1;32m   1690\u001b[0m                 raise ValueError('tolerance argument only valid if using pad, '\n\u001b[1;32m   1691\u001b[0m                                  'backfill or nearest lookups')\n\u001b[0;32m-> 1692\u001b[0;31m             \u001b[0;32mreturn\u001b[0m \u001b[0mself\u001b[0m\u001b[0;34m.\u001b[0m\u001b[0m_engine\u001b[0m\u001b[0;34m.\u001b[0m\u001b[0mget_loc\u001b[0m\u001b[0;34m(\u001b[0m\u001b[0m_values_from_object\u001b[0m\u001b[0;34m(\u001b[0m\u001b[0mkey\u001b[0m\u001b[0;34m)\u001b[0m\u001b[0;34m)\u001b[0m\u001b[0;34m\u001b[0m\u001b[0m\n\u001b[0m\u001b[1;32m   1693\u001b[0m \u001b[0;34m\u001b[0m\u001b[0m\n\u001b[1;32m   1694\u001b[0m         indexer = self.get_indexer([key], method=method,\n",
      "\u001b[0;32mpandas/index.pyx\u001b[0m in \u001b[0;36mpandas.index.IndexEngine.get_loc (pandas/index.c:3979)\u001b[0;34m()\u001b[0m\n",
      "\u001b[0;32mpandas/index.pyx\u001b[0m in \u001b[0;36mpandas.index.IndexEngine.get_loc (pandas/index.c:3843)\u001b[0;34m()\u001b[0m\n",
      "\u001b[0;32mpandas/hashtable.pyx\u001b[0m in \u001b[0;36mpandas.hashtable.PyObjectHashTable.get_item (pandas/hashtable.c:12265)\u001b[0;34m()\u001b[0m\n",
      "\u001b[0;32mpandas/hashtable.pyx\u001b[0m in \u001b[0;36mpandas.hashtable.PyObjectHashTable.get_item (pandas/hashtable.c:12216)\u001b[0;34m()\u001b[0m\n",
      "\u001b[0;31mKeyError\u001b[0m: 'segments'"
     ]
    }
   ],
   "source": [
    "new_df['title'] = df['title']\n",
    "new_df['source'] = 'cse'\n",
    "new_df['segment'] = new_df['segments']\n"
   ]
  },
  {
   "cell_type": "code",
   "execution_count": null,
   "metadata": {
    "collapsed": true
   },
   "outputs": [],
   "source": []
  },
  {
   "cell_type": "code",
   "execution_count": 151,
   "metadata": {
    "collapsed": false
   },
   "outputs": [
    {
     "data": {
      "text/html": [
       "<div>\n",
       "<table border=\"1\" class=\"dataframe\">\n",
       "  <thead>\n",
       "    <tr style=\"text-align: right;\">\n",
       "      <th></th>\n",
       "      <th>url</th>\n",
       "      <th>segment</th>\n",
       "      <th>title</th>\n",
       "      <th>target</th>\n",
       "      <th>source</th>\n",
       "    </tr>\n",
       "  </thead>\n",
       "  <tbody>\n",
       "    <tr>\n",
       "      <th>0</th>\n",
       "      <td>http://cul.anhuinews.com/system/2016/11/28/007...</td>\n",
       "      <td>洪 建华 夫妇 的 竹刻 人生\\n</td>\n",
       "      <td>洪建华夫妇的竹刻人生</td>\n",
       "      <td>1</td>\n",
       "      <td>general</td>\n",
       "    </tr>\n",
       "    <tr>\n",
       "      <th>1</th>\n",
       "      <td>http://cul.anhuinews.com/system/2016/11/21/007...</td>\n",
       "      <td>徽州 民歌 传人 操 明 花 校园 授艺\\n</td>\n",
       "      <td>徽州民歌传人操明花校园授艺</td>\n",
       "      <td>1</td>\n",
       "      <td>general</td>\n",
       "    </tr>\n",
       "    <tr>\n",
       "      <th>2</th>\n",
       "      <td>http://cul.anhuinews.com/system/2016/11/03/007...</td>\n",
       "      <td>黄山 楹联 漫谈\\n</td>\n",
       "      <td>黄山楹联漫谈</td>\n",
       "      <td>1</td>\n",
       "      <td>general</td>\n",
       "    </tr>\n",
       "    <tr>\n",
       "      <th>3</th>\n",
       "      <td>http://cul.anhuinews.com/system/2016/01/26/007...</td>\n",
       "      <td>徽派 雕刻 —— 徽州 木雕 艺术\\n</td>\n",
       "      <td>徽派雕刻——徽州木雕艺术</td>\n",
       "      <td>1</td>\n",
       "      <td>general</td>\n",
       "    </tr>\n",
       "    <tr>\n",
       "      <th>4</th>\n",
       "      <td>http://cul.anhuinews.com/system/2016/01/26/007...</td>\n",
       "      <td>徽派 雕刻 —— 徽州 砖雕 艺术\\n</td>\n",
       "      <td>徽派雕刻——徽州砖雕艺术</td>\n",
       "      <td>1</td>\n",
       "      <td>general</td>\n",
       "    </tr>\n",
       "  </tbody>\n",
       "</table>\n",
       "</div>"
      ],
      "text/plain": [
       "                                                 url                 segment  \\\n",
       "0  http://cul.anhuinews.com/system/2016/11/28/007...       洪 建华 夫妇 的 竹刻 人生\\n   \n",
       "1  http://cul.anhuinews.com/system/2016/11/21/007...  徽州 民歌 传人 操 明 花 校园 授艺\\n   \n",
       "2  http://cul.anhuinews.com/system/2016/11/03/007...              黄山 楹联 漫谈\\n   \n",
       "3  http://cul.anhuinews.com/system/2016/01/26/007...     徽派 雕刻 —— 徽州 木雕 艺术\\n   \n",
       "4  http://cul.anhuinews.com/system/2016/01/26/007...     徽派 雕刻 —— 徽州 砖雕 艺术\\n   \n",
       "\n",
       "           title  target   source  \n",
       "0     洪建华夫妇的竹刻人生       1  general  \n",
       "1  徽州民歌传人操明花校园授艺       1  general  \n",
       "2         黄山楹联漫谈       1  general  \n",
       "3   徽派雕刻——徽州木雕艺术       1  general  \n",
       "4   徽派雕刻——徽州砖雕艺术       1  general  "
      ]
     },
     "execution_count": 151,
     "metadata": {},
     "output_type": "execute_result"
    }
   ],
   "source": [
    "new_df.head()"
   ]
  },
  {
   "cell_type": "code",
   "execution_count": null,
   "metadata": {
    "collapsed": true
   },
   "outputs": [],
   "source": []
  },
  {
   "cell_type": "code",
   "execution_count": 161,
   "metadata": {
    "collapsed": false
   },
   "outputs": [],
   "source": [
    "final_df.to_csv('../data/segments/titles/anhuinews-huixue-all.csv', encoding='utf-8', index=False)"
   ]
  },
  {
   "cell_type": "code",
   "execution_count": 152,
   "metadata": {
    "collapsed": true
   },
   "outputs": [],
   "source": [
    "new_df.info()"
   ]
  },
  {
   "cell_type": "code",
   "execution_count": 101,
   "metadata": {
    "collapsed": false
   },
   "outputs": [],
   "source": [
    "final_df = new_df[['url', 'title', 'segment', 'target', 'source']]"
   ]
  },
  {
   "cell_type": "code",
   "execution_count": 103,
   "metadata": {
    "collapsed": false
   },
   "outputs": [
    {
     "data": {
      "text/html": [
       "<div>\n",
       "<table border=\"1\" class=\"dataframe\">\n",
       "  <thead>\n",
       "    <tr style=\"text-align: right;\">\n",
       "      <th></th>\n",
       "      <th>url</th>\n",
       "      <th>title</th>\n",
       "      <th>segment</th>\n",
       "      <th>target</th>\n",
       "      <th>source</th>\n",
       "    </tr>\n",
       "  </thead>\n",
       "  <tbody>\n",
       "    <tr>\n",
       "      <th>0</th>\n",
       "      <td>http://www.360doc.com/content/16/1010/15/28029...</td>\n",
       "      <td>听张脉贤先生说徽文化</td>\n",
       "      <td>听 张 脉贤 先生 说 徽 文化\\n</td>\n",
       "      <td>1</td>\n",
       "      <td>cse</td>\n",
       "    </tr>\n",
       "    <tr>\n",
       "      <th>1</th>\n",
       "      <td>http://www.360doc.com/content/16/0617/22/77942...</td>\n",
       "      <td>没有徽州哪来安徽，哪来“徽文化”？</td>\n",
       "      <td>没有 徽州 哪 来 安徽 ， 哪 来 “ 徽 文化 ” ？\\n</td>\n",
       "      <td>1</td>\n",
       "      <td>cse</td>\n",
       "    </tr>\n",
       "    <tr>\n",
       "      <th>2</th>\n",
       "      <td>http://www.360doc.com/content/16/0422/21/78396...</td>\n",
       "      <td>也说徽州｜徽文化：中国封建社会后期的典型标本</td>\n",
       "      <td>也 说 徽州 ｜徽 文化 ： 中国 封建社会 后期 的 典型 标本\\n</td>\n",
       "      <td>1</td>\n",
       "      <td>cse</td>\n",
       "    </tr>\n",
       "    <tr>\n",
       "      <th>3</th>\n",
       "      <td>http://www.360doc.com/content/16/0520/14/46029...</td>\n",
       "      <td>徽文化之旅（皖南行之一）</td>\n",
       "      <td>徽 文化 之 旅 （ 皖南 行 之一 ）\\n</td>\n",
       "      <td>1</td>\n",
       "      <td>cse</td>\n",
       "    </tr>\n",
       "    <tr>\n",
       "      <th>4</th>\n",
       "      <td>http://www.360doc.com/content/13/1130/15/13701...</td>\n",
       "      <td>徽文化</td>\n",
       "      <td>徽 文化\\n</td>\n",
       "      <td>1</td>\n",
       "      <td>cse</td>\n",
       "    </tr>\n",
       "  </tbody>\n",
       "</table>\n",
       "</div>"
      ],
      "text/plain": [
       "                                                 url                   title  \\\n",
       "0  http://www.360doc.com/content/16/1010/15/28029...              听张脉贤先生说徽文化   \n",
       "1  http://www.360doc.com/content/16/0617/22/77942...       没有徽州哪来安徽，哪来“徽文化”？   \n",
       "2  http://www.360doc.com/content/16/0422/21/78396...  也说徽州｜徽文化：中国封建社会后期的典型标本   \n",
       "3  http://www.360doc.com/content/16/0520/14/46029...            徽文化之旅（皖南行之一）   \n",
       "4  http://www.360doc.com/content/13/1130/15/13701...                     徽文化   \n",
       "\n",
       "                               segment  target source  \n",
       "0                   听 张 脉贤 先生 说 徽 文化\\n       1    cse  \n",
       "1      没有 徽州 哪 来 安徽 ， 哪 来 “ 徽 文化 ” ？\\n       1    cse  \n",
       "2  也 说 徽州 ｜徽 文化 ： 中国 封建社会 后期 的 典型 标本\\n       1    cse  \n",
       "3               徽 文化 之 旅 （ 皖南 行 之一 ）\\n       1    cse  \n",
       "4                               徽 文化\\n       1    cse  "
      ]
     },
     "execution_count": 103,
     "metadata": {},
     "output_type": "execute_result"
    }
   ],
   "source": [
    "final_df.head()"
   ]
  },
  {
   "cell_type": "code",
   "execution_count": 104,
   "metadata": {
    "collapsed": true
   },
   "outputs": [],
   "source": [
    "final_df.to_csv('../data/segments/final/google-cse-huizhou-all.csv', encoding='utf-8', index=False)"
   ]
  },
  {
   "cell_type": "code",
   "execution_count": 107,
   "metadata": {
    "collapsed": true
   },
   "outputs": [],
   "source": [
    "import glob\n",
    "all_files = glob.glob(\"../data/segments/news/\" + \"/*.csv\")\n",
    "\n",
    "init = 0\n",
    "#print all_files\n",
    "for file_ in all_files:\n",
    "    print file_\n",
    "    with open(file_) as data_file:  \n",
    "        df = pd.read_csv(data_file)\n",
    "        if init == 0:\n",
    "            joined = df\n",
    "            init = 1\n",
    "        else:\n",
    "            joined = joined.append(df)"
   ]
  },
  {
   "cell_type": "code",
   "execution_count": 110,
   "metadata": {
    "collapsed": true
   },
   "outputs": [],
   "source": [
    "joined.to_csv('temp.csv', encoding='utf-8', index=False)\n",
    "joined = pd.read_csv('temp.csv')"
   ]
  },
  {
   "cell_type": "code",
   "execution_count": 113,
   "metadata": {
    "collapsed": true
   },
   "outputs": [],
   "source": [
    "all_files = glob.glob(\"../scrape/data/general/\" + \"/*.csv\")\n",
    "\n",
    "init = 0\n",
    "#print all_files\n",
    "for file_ in all_files:\n",
    "    print file_\n",
    "    with open(file_) as data_file:  \n",
    "        df = pd.read_csv(data_file)\n",
    "        if init == 0:\n",
    "            joined2 = df\n",
    "            init = 1\n",
    "        else:\n",
    "            joined2 = joined2.append(df)"
   ]
  },
  {
   "cell_type": "code",
   "execution_count": 118,
   "metadata": {
    "collapsed": true
   },
   "outputs": [],
   "source": [
    "joined.info()"
   ]
  },
  {
   "cell_type": "code",
   "execution_count": 114,
   "metadata": {
    "collapsed": true
   },
   "outputs": [],
   "source": [
    "joined2.info()"
   ]
  },
  {
   "cell_type": "code",
   "execution_count": 127,
   "metadata": {
    "collapsed": true
   },
   "outputs": [],
   "source": [
    "def get_columns2():\n",
    "    return ('url', 'title', 'segment', 'target') \n",
    "def get_empty_columns2():\n",
    "    return ('', '', '', '') "
   ]
  },
  {
   "cell_type": "code",
   "execution_count": 128,
   "metadata": {
    "collapsed": true
   },
   "outputs": [],
   "source": [
    "idx = 0\n",
    "new_df = pd.DataFrame(columns = get_columns2())"
   ]
  },
  {
   "cell_type": "code",
   "execution_count": 129,
   "metadata": {
    "collapsed": false
   },
   "outputs": [],
   "source": [
    "for i in range(0, len(joined)):\n",
    "    url = joined.loc[i]['url']\n",
    "    df_0 = joined2[joined2['url'] == url]\n",
    "    if len(df_0.values) != 0:\n",
    "        new_df.loc[idx] = get_empty_columns2()\n",
    "        new_df.loc[idx]['url'] = url\n",
    "        new_df.loc[idx]['segment'] = joined.loc[i]['segments']\n",
    "        new_df.loc[idx]['target'] = 1\n",
    "        new_df.loc[idx]['title'] = df_0['title'].values[0]\n",
    "        idx += 1\n",
    "    else:\n",
    "        print 'missed -----'\n",
    "        "
   ]
  },
  {
   "cell_type": "code",
   "execution_count": 131,
   "metadata": {
    "collapsed": true
   },
   "outputs": [],
   "source": [
    "new_df.info()"
   ]
  },
  {
   "cell_type": "code",
   "execution_count": 130,
   "metadata": {
    "collapsed": false
   },
   "outputs": [
    {
     "data": {
      "text/html": [
       "<div>\n",
       "<table border=\"1\" class=\"dataframe\">\n",
       "  <thead>\n",
       "    <tr style=\"text-align: right;\">\n",
       "      <th></th>\n",
       "      <th>url</th>\n",
       "      <th>title</th>\n",
       "      <th>segment</th>\n",
       "      <th>target</th>\n",
       "    </tr>\n",
       "  </thead>\n",
       "  <tbody>\n",
       "    <tr>\n",
       "      <th>0</th>\n",
       "      <td>http://news.163.com/16/1216/11/C8DFAFMP00018AO...</td>\n",
       "      <td>停止“徽文化”的“异地保护”</td>\n",
       "      <td>停止 “ 徽 文化 ” 的 “ 异地 保护 ”\\n</td>\n",
       "      <td>1</td>\n",
       "    </tr>\n",
       "    <tr>\n",
       "      <th>1</th>\n",
       "      <td>http://news.163.com/16/1210/14/C7UAMRR3000187V...</td>\n",
       "      <td>30余位中外书画家皖南体验“徽文化”</td>\n",
       "      <td>30 余 位 中外 书画家 皖南 体验 “ 徽 文化 ”\\n</td>\n",
       "      <td>1</td>\n",
       "    </tr>\n",
       "    <tr>\n",
       "      <th>2</th>\n",
       "      <td>http://www.ah.xinhuanet.com/20161214/3576901_c...</td>\n",
       "      <td>30余位中外书画家安徽体验“徽文化”</td>\n",
       "      <td>30 余 位 中外 书画家 安徽 体验 “ 徽 文化 ”\\n</td>\n",
       "      <td>1</td>\n",
       "    </tr>\n",
       "    <tr>\n",
       "      <th>3</th>\n",
       "      <td>http://news.163.com/16/1129/10/C71J7CQL000187V...</td>\n",
       "      <td>黄山:“活态”传承徽文化</td>\n",
       "      <td>黄山 : “ 活 态 ” 传承 徽 文化\\n</td>\n",
       "      <td>1</td>\n",
       "    </tr>\n",
       "    <tr>\n",
       "      <th>4</th>\n",
       "      <td>http://stock.eastmoney.com/news/1354,201612096...</td>\n",
       "      <td>黄山旅游:旅游与徽文化融合</td>\n",
       "      <td>黄山旅游 : 旅游 与 徽 文化 融合\\n</td>\n",
       "      <td>1</td>\n",
       "    </tr>\n",
       "  </tbody>\n",
       "</table>\n",
       "</div>"
      ],
      "text/plain": [
       "                                                 url               title  \\\n",
       "0  http://news.163.com/16/1216/11/C8DFAFMP00018AO...      停止“徽文化”的“异地保护”   \n",
       "1  http://news.163.com/16/1210/14/C7UAMRR3000187V...  30余位中外书画家皖南体验“徽文化”   \n",
       "2  http://www.ah.xinhuanet.com/20161214/3576901_c...  30余位中外书画家安徽体验“徽文化”   \n",
       "3  http://news.163.com/16/1129/10/C71J7CQL000187V...        黄山:“活态”传承徽文化   \n",
       "4  http://stock.eastmoney.com/news/1354,201612096...       黄山旅游:旅游与徽文化融合   \n",
       "\n",
       "                          segment target  \n",
       "0       停止 “ 徽 文化 ” 的 “ 异地 保护 ”\\n      1  \n",
       "1  30 余 位 中外 书画家 皖南 体验 “ 徽 文化 ”\\n      1  \n",
       "2  30 余 位 中外 书画家 安徽 体验 “ 徽 文化 ”\\n      1  \n",
       "3          黄山 : “ 活 态 ” 传承 徽 文化\\n      1  \n",
       "4           黄山旅游 : 旅游 与 徽 文化 融合\\n      1  "
      ]
     },
     "execution_count": 130,
     "metadata": {},
     "output_type": "execute_result"
    }
   ],
   "source": [
    "new_df.head()"
   ]
  },
  {
   "cell_type": "code",
   "execution_count": 132,
   "metadata": {
    "collapsed": true
   },
   "outputs": [],
   "source": [
    "new_df.to_csv('../data/segments/final/news-huizhou-all.csv', encoding='utf-8', index=False)"
   ]
  },
  {
   "cell_type": "code",
   "execution_count": null,
   "metadata": {
    "collapsed": true
   },
   "outputs": [],
   "source": []
  }
 ],
 "metadata": {
  "kernelspec": {
   "display_name": "Python 2",
   "language": "python",
   "name": "python2"
  },
  "language_info": {
   "codemirror_mode": {
    "name": "ipython",
    "version": 2
   },
   "file_extension": ".py",
   "mimetype": "text/x-python",
   "name": "python",
   "nbconvert_exporter": "python",
   "pygments_lexer": "ipython2",
   "version": "2.7.10"
  }
 },
 "nbformat": 4,
 "nbformat_minor": 2
}
