{
 "cells": [
  {
   "cell_type": "code",
   "execution_count": 104,
   "metadata": {
    "collapsed": true
   },
   "outputs": [],
   "source": [
    "import sys  \n",
    "reload(sys)  \n",
    "sys.setdefaultencoding('utf-8')"
   ]
  },
  {
   "cell_type": "code",
   "execution_count": 105,
   "metadata": {
    "collapsed": false
   },
   "outputs": [],
   "source": [
    "import numpy.linalg as LA\n",
    "import matplotlib.pyplot as plt\n",
    "#from my_pickle import my_pickle_load, my_pickle_dump\n",
    "\n",
    "%matplotlib inline"
   ]
  },
  {
   "cell_type": "code",
   "execution_count": 106,
   "metadata": {
    "collapsed": true
   },
   "outputs": [],
   "source": [
    "from nltk.tokenize.stanford_segmenter import StanfordSegmenter"
   ]
  },
  {
   "cell_type": "markdown",
   "metadata": {
    "collapsed": false,
    "scrolled": true
   },
   "source": [
    "segmenter = StanfordSegmenter(path_to_jar='./stanford-segmenter-2014-08-27/stanford-segmenter-3.4.1.jar', \n",
    "                              path_to_slf4j='./stanford-segmenter-2014-08-27/slf4j-api.jar',\n",
    "                              path_to_sihan_corpora_dict='./stanford-segmenter-2014-08-27/data', \n",
    "                              path_to_model='./stanford-segmenter-2014-08-27/data/pku.gz', \n",
    "                              path_to_dict='./stanford-segmenter-2014-08-27/data/dict-chris6.ser.gz')"
   ]
  },
  {
   "cell_type": "code",
   "execution_count": 107,
   "metadata": {
    "collapsed": true
   },
   "outputs": [],
   "source": [
    "segmenter = StanfordSegmenter(path_to_jar='/Users/nhu2000/desktop/nltk/stanford-segmenter-2014-08-27/stanford-segmenter-3.4.1.jar', \n",
    "                              path_to_slf4j='/Users/nhu2000/desktop/nltk/stanford-segmenter-2014-08-27/slf4j-api.jar',\n",
    "                              path_to_sihan_corpora_dict='/Users/nhu2000/desktop/nltk/stanford-segmenter-2014-08-27/data', \n",
    "                              path_to_model='/Users/nhu2000/desktop/nltk/stanford-segmenter-2014-08-27/data/pku.gz', \n",
    "                              path_to_dict='/Users/nhu2000/desktop/nltk/stanford-segmenter-2014-08-27/data/dict-chris6.ser.gz')"
   ]
  },
  {
   "cell_type": "markdown",
   "metadata": {
    "collapsed": false
   },
   "source": [
    "str=u\"我在博客园开了一个博客，我的博客名叫伏草惟存，写了一些自然语言处理的文章。\"\n",
    "result = segmenter.segment(str)"
   ]
  },
  {
   "cell_type": "markdown",
   "metadata": {
    "collapsed": false
   },
   "source": [
    "print result"
   ]
  },
  {
   "cell_type": "code",
   "execution_count": 48,
   "metadata": {
    "collapsed": true
   },
   "outputs": [],
   "source": [
    "import cPickle as pickle\n",
    "import pandas as pd\n",
    "import numpy as np"
   ]
  },
  {
   "cell_type": "code",
   "execution_count": 49,
   "metadata": {
    "collapsed": true
   },
   "outputs": [],
   "source": [
    "import string\n",
    "import math\n",
    "#import glob\n",
    "from collections import Counter\n",
    "\n",
    "from sklearn.feature_extraction.text import CountVectorizer, TfidfVectorizer\n",
    "\n",
    "import nltk\n",
    "from nltk import tokenize\n",
    "from nltk.stem.porter import *\n",
    "from nltk.corpus import stopwords\n",
    "\n",
    "from gensim import matutils\n",
    "from gensim.models.ldamodel import LdaModel\n",
    "from gensim.models.lsimodel import LsiModel\n",
    "\n",
    "from gensim import corpora, models, similarities\n",
    "from sklearn.metrics.pairwise import linear_kernel\n"
   ]
  },
  {
   "cell_type": "code",
   "execution_count": 51,
   "metadata": {
    "collapsed": true
   },
   "outputs": [],
   "source": [
    "def my_pickle_dump(fname, data):\n",
    "    with open(fname, 'w') as f:\n",
    "        pickle.dump(data, f)\n",
    "\n",
    "def my_pickle_load(fname):\n",
    "    with open(fname) as f:\n",
    "        return pickle.load(f)"
   ]
  },
  {
   "cell_type": "code",
   "execution_count": 52,
   "metadata": {
    "collapsed": false
   },
   "outputs": [],
   "source": [
    "df = pd.read_csv('/Users/nhu2000/desktop/huizhou/data/complete/hzwh_huixueyuanpu.csv')"
   ]
  },
  {
   "cell_type": "code",
   "execution_count": 108,
   "metadata": {
    "collapsed": true
   },
   "outputs": [],
   "source": [
    "df = pd.read_csv('/Users/nhu2000/desktop/huizhou/data/complete/weixin_huizhou.csv')"
   ]
  },
  {
   "cell_type": "code",
   "execution_count": 109,
   "metadata": {
    "collapsed": false
   },
   "outputs": [
    {
     "data": {
      "text/html": [
       "<div>\n",
       "<table border=\"1\" class=\"dataframe\">\n",
       "  <thead>\n",
       "    <tr style=\"text-align: right;\">\n",
       "      <th></th>\n",
       "      <th>dt</th>\n",
       "      <th>source</th>\n",
       "      <th>domain</th>\n",
       "      <th>url</th>\n",
       "      <th>title</th>\n",
       "      <th>summary</th>\n",
       "      <th>image</th>\n",
       "      <th>brief</th>\n",
       "      <th>body</th>\n",
       "      <th>raw_page</th>\n",
       "      <th>from</th>\n",
       "    </tr>\n",
       "  </thead>\n",
       "  <tbody>\n",
       "    <tr>\n",
       "      <th>0</th>\n",
       "      <td>2017-02-10</td>\n",
       "      <td>歙县论坛</td>\n",
       "      <td>http://mp.weixin.qq.com</td>\n",
       "      <td>http://mp.weixin.qq.com/s?__biz=MjM5OTc1NDAxMg...</td>\n",
       "      <td>【徽州】《梦里徽州——新安江风情画卷》</td>\n",
       "      <td>NaN</td>\n",
       "      <td>NaN</td>\n",
       "      <td>［汪观清专访］一生痴绝处，无梦到徽州。    汪观清，安徽歙县人。他创作的《梦里..</td>\n",
       "      <td>\\n                        \\n\\n                ...</td>\n",
       "      <td>&lt;html&gt;&lt;head&gt;\\n        &lt;meta http-equiv=\"Conten...</td>\n",
       "      <td>微信</td>\n",
       "    </tr>\n",
       "    <tr>\n",
       "      <th>1</th>\n",
       "      <td>2017-02-08</td>\n",
       "      <td>徽州微旅游</td>\n",
       "      <td>http://mp.weixin.qq.com</td>\n",
       "      <td>http://mp.weixin.qq.com/s?__biz=MzA4NDI0MzMwNA...</td>\n",
       "      <td>古村的梦——古建筑博物馆</td>\n",
       "      <td>NaN</td>\n",
       "      <td>NaN</td>\n",
       "      <td>千年的光阴，在轮回里，阴晴圆缺，一场梦醒时分，恍若隔世，重新遇见你眉目缱绻飘零，..</td>\n",
       "      <td>\\n                        \\n\\n                ...</td>\n",
       "      <td>&lt;html&gt;&lt;head&gt;\\n        &lt;meta http-equiv=\"Conten...</td>\n",
       "      <td>微信</td>\n",
       "    </tr>\n",
       "    <tr>\n",
       "      <th>2</th>\n",
       "      <td>2017-01-30</td>\n",
       "      <td>徽州范儿</td>\n",
       "      <td>http://mp.weixin.qq.com</td>\n",
       "      <td>http://mp.weixin.qq.com/s?__biz=MzIyOTQ4MjEyNA...</td>\n",
       "      <td>苞芦松 | 传承四百年的徽州小食</td>\n",
       "      <td>NaN</td>\n",
       "      <td>NaN</td>\n",
       "      <td>编辑小语：在徽州，有一种延续了四百年的休闲食品。金黄的外表，清脆的口感，颇像“膨..</td>\n",
       "      <td>\\n                        \\n\\n                ...</td>\n",
       "      <td>&lt;html&gt;&lt;head&gt;\\n        &lt;meta http-equiv=\"Conten...</td>\n",
       "      <td>微信</td>\n",
       "    </tr>\n",
       "    <tr>\n",
       "      <th>3</th>\n",
       "      <td>2017-01-30</td>\n",
       "      <td>徽州大论坛</td>\n",
       "      <td>http://mp.weixin.qq.com</td>\n",
       "      <td>http://mp.weixin.qq.com/s?__biz=MzI3MTAwNTA4NA...</td>\n",
       "      <td>【徽州大家谈】墨客典籍与现代生活的交融地</td>\n",
       "      <td>NaN</td>\n",
       "      <td>NaN</td>\n",
       "      <td>徽州古城坐落在歙县县城徽城的中心，也是千年徽州府治的所在地。在这里，记者们不仅参..</td>\n",
       "      <td>\\n                        \\n\\n                ...</td>\n",
       "      <td>&lt;html&gt;&lt;head&gt;\\n        &lt;meta http-equiv=\"Conten...</td>\n",
       "      <td>微信</td>\n",
       "    </tr>\n",
       "    <tr>\n",
       "      <th>4</th>\n",
       "      <td>2017-01-28</td>\n",
       "      <td>徽州大论坛</td>\n",
       "      <td>http://mp.weixin.qq.com</td>\n",
       "      <td>http://mp.weixin.qq.com/s?__biz=MzI3MTAwNTA4NA...</td>\n",
       "      <td>【徽州大家谈】时代呼唤中华商魂——我所知的徽商</td>\n",
       "      <td>NaN</td>\n",
       "      <td>NaN</td>\n",
       "      <td>有大专家在视频里向年青人“说”徽商，他告诉人们，历史上的徽商，只不过是从“晋商”..</td>\n",
       "      <td>\\n                        \\n\\n                ...</td>\n",
       "      <td>&lt;html&gt;&lt;head&gt;\\n        &lt;meta http-equiv=\"Conten...</td>\n",
       "      <td>微信</td>\n",
       "    </tr>\n",
       "  </tbody>\n",
       "</table>\n",
       "</div>"
      ],
      "text/plain": [
       "           dt source                   domain  \\\n",
       "0  2017-02-10   歙县论坛  http://mp.weixin.qq.com   \n",
       "1  2017-02-08  徽州微旅游  http://mp.weixin.qq.com   \n",
       "2  2017-01-30   徽州范儿  http://mp.weixin.qq.com   \n",
       "3  2017-01-30  徽州大论坛  http://mp.weixin.qq.com   \n",
       "4  2017-01-28  徽州大论坛  http://mp.weixin.qq.com   \n",
       "\n",
       "                                                 url                    title  \\\n",
       "0  http://mp.weixin.qq.com/s?__biz=MjM5OTc1NDAxMg...      【徽州】《梦里徽州——新安江风情画卷》   \n",
       "1  http://mp.weixin.qq.com/s?__biz=MzA4NDI0MzMwNA...             古村的梦——古建筑博物馆   \n",
       "2  http://mp.weixin.qq.com/s?__biz=MzIyOTQ4MjEyNA...         苞芦松 | 传承四百年的徽州小食   \n",
       "3  http://mp.weixin.qq.com/s?__biz=MzI3MTAwNTA4NA...     【徽州大家谈】墨客典籍与现代生活的交融地   \n",
       "4  http://mp.weixin.qq.com/s?__biz=MzI3MTAwNTA4NA...  【徽州大家谈】时代呼唤中华商魂——我所知的徽商   \n",
       "\n",
       "   summary  image                                       brief  \\\n",
       "0      NaN    NaN  ［汪观清专访］一生痴绝处，无梦到徽州。    汪观清，安徽歙县人。他创作的《梦里..   \n",
       "1      NaN    NaN  千年的光阴，在轮回里，阴晴圆缺，一场梦醒时分，恍若隔世，重新遇见你眉目缱绻飘零，..   \n",
       "2      NaN    NaN  编辑小语：在徽州，有一种延续了四百年的休闲食品。金黄的外表，清脆的口感，颇像“膨..   \n",
       "3      NaN    NaN  徽州古城坐落在歙县县城徽城的中心，也是千年徽州府治的所在地。在这里，记者们不仅参..   \n",
       "4      NaN    NaN  有大专家在视频里向年青人“说”徽商，他告诉人们，历史上的徽商，只不过是从“晋商”..   \n",
       "\n",
       "                                                body  \\\n",
       "0  \\n                        \\n\\n                ...   \n",
       "1  \\n                        \\n\\n                ...   \n",
       "2  \\n                        \\n\\n                ...   \n",
       "3  \\n                        \\n\\n                ...   \n",
       "4  \\n                        \\n\\n                ...   \n",
       "\n",
       "                                            raw_page from  \n",
       "0  <html><head>\\n        <meta http-equiv=\"Conten...   微信  \n",
       "1  <html><head>\\n        <meta http-equiv=\"Conten...   微信  \n",
       "2  <html><head>\\n        <meta http-equiv=\"Conten...   微信  \n",
       "3  <html><head>\\n        <meta http-equiv=\"Conten...   微信  \n",
       "4  <html><head>\\n        <meta http-equiv=\"Conten...   微信  "
      ]
     },
     "execution_count": 109,
     "metadata": {},
     "output_type": "execute_result"
    }
   ],
   "source": [
    "df.head()"
   ]
  },
  {
   "cell_type": "code",
   "execution_count": 110,
   "metadata": {
    "collapsed": true
   },
   "outputs": [],
   "source": [
    "df.info()"
   ]
  },
  {
   "cell_type": "code",
   "execution_count": null,
   "metadata": {
    "collapsed": true
   },
   "outputs": [],
   "source": []
  },
  {
   "cell_type": "code",
   "execution_count": 111,
   "metadata": {
    "collapsed": true
   },
   "outputs": [],
   "source": [
    "df_no_dup = df.drop_duplicates(['title'])"
   ]
  },
  {
   "cell_type": "code",
   "execution_count": 112,
   "metadata": {
    "collapsed": true
   },
   "outputs": [],
   "source": [
    "df_no_dup = df_no_dup.drop_duplicates(['url'])"
   ]
  },
  {
   "cell_type": "code",
   "execution_count": 113,
   "metadata": {
    "collapsed": false
   },
   "outputs": [],
   "source": [
    "df_no_dup.info()"
   ]
  },
  {
   "cell_type": "markdown",
   "metadata": {
    "collapsed": true
   },
   "source": [
    "df_no_dup1 = df_no_dup.drop_duplicates(['content'])\n"
   ]
  },
  {
   "cell_type": "markdown",
   "metadata": {
    "collapsed": false
   },
   "source": [
    "df_no_dup1.info()"
   ]
  },
  {
   "cell_type": "code",
   "execution_count": 114,
   "metadata": {
    "collapsed": false
   },
   "outputs": [
    {
     "data": {
      "text/html": [
       "<div>\n",
       "<table border=\"1\" class=\"dataframe\">\n",
       "  <thead>\n",
       "    <tr style=\"text-align: right;\">\n",
       "      <th></th>\n",
       "      <th>dt</th>\n",
       "      <th>source</th>\n",
       "      <th>domain</th>\n",
       "      <th>url</th>\n",
       "      <th>title</th>\n",
       "      <th>summary</th>\n",
       "      <th>image</th>\n",
       "      <th>brief</th>\n",
       "      <th>body</th>\n",
       "      <th>raw_page</th>\n",
       "      <th>from</th>\n",
       "    </tr>\n",
       "  </thead>\n",
       "  <tbody>\n",
       "    <tr>\n",
       "      <th>0</th>\n",
       "      <td>2017-02-10</td>\n",
       "      <td>歙县论坛</td>\n",
       "      <td>http://mp.weixin.qq.com</td>\n",
       "      <td>http://mp.weixin.qq.com/s?__biz=MjM5OTc1NDAxMg...</td>\n",
       "      <td>【徽州】《梦里徽州——新安江风情画卷》</td>\n",
       "      <td>NaN</td>\n",
       "      <td>NaN</td>\n",
       "      <td>［汪观清专访］一生痴绝处，无梦到徽州。    汪观清，安徽歙县人。他创作的《梦里..</td>\n",
       "      <td>\\n                        \\n\\n                ...</td>\n",
       "      <td>&lt;html&gt;&lt;head&gt;\\n        &lt;meta http-equiv=\"Conten...</td>\n",
       "      <td>微信</td>\n",
       "    </tr>\n",
       "    <tr>\n",
       "      <th>1</th>\n",
       "      <td>2017-02-08</td>\n",
       "      <td>徽州微旅游</td>\n",
       "      <td>http://mp.weixin.qq.com</td>\n",
       "      <td>http://mp.weixin.qq.com/s?__biz=MzA4NDI0MzMwNA...</td>\n",
       "      <td>古村的梦——古建筑博物馆</td>\n",
       "      <td>NaN</td>\n",
       "      <td>NaN</td>\n",
       "      <td>千年的光阴，在轮回里，阴晴圆缺，一场梦醒时分，恍若隔世，重新遇见你眉目缱绻飘零，..</td>\n",
       "      <td>\\n                        \\n\\n                ...</td>\n",
       "      <td>&lt;html&gt;&lt;head&gt;\\n        &lt;meta http-equiv=\"Conten...</td>\n",
       "      <td>微信</td>\n",
       "    </tr>\n",
       "    <tr>\n",
       "      <th>2</th>\n",
       "      <td>2017-01-30</td>\n",
       "      <td>徽州范儿</td>\n",
       "      <td>http://mp.weixin.qq.com</td>\n",
       "      <td>http://mp.weixin.qq.com/s?__biz=MzIyOTQ4MjEyNA...</td>\n",
       "      <td>苞芦松 | 传承四百年的徽州小食</td>\n",
       "      <td>NaN</td>\n",
       "      <td>NaN</td>\n",
       "      <td>编辑小语：在徽州，有一种延续了四百年的休闲食品。金黄的外表，清脆的口感，颇像“膨..</td>\n",
       "      <td>\\n                        \\n\\n                ...</td>\n",
       "      <td>&lt;html&gt;&lt;head&gt;\\n        &lt;meta http-equiv=\"Conten...</td>\n",
       "      <td>微信</td>\n",
       "    </tr>\n",
       "    <tr>\n",
       "      <th>3</th>\n",
       "      <td>2017-01-30</td>\n",
       "      <td>徽州大论坛</td>\n",
       "      <td>http://mp.weixin.qq.com</td>\n",
       "      <td>http://mp.weixin.qq.com/s?__biz=MzI3MTAwNTA4NA...</td>\n",
       "      <td>【徽州大家谈】墨客典籍与现代生活的交融地</td>\n",
       "      <td>NaN</td>\n",
       "      <td>NaN</td>\n",
       "      <td>徽州古城坐落在歙县县城徽城的中心，也是千年徽州府治的所在地。在这里，记者们不仅参..</td>\n",
       "      <td>\\n                        \\n\\n                ...</td>\n",
       "      <td>&lt;html&gt;&lt;head&gt;\\n        &lt;meta http-equiv=\"Conten...</td>\n",
       "      <td>微信</td>\n",
       "    </tr>\n",
       "    <tr>\n",
       "      <th>4</th>\n",
       "      <td>2017-01-28</td>\n",
       "      <td>徽州大论坛</td>\n",
       "      <td>http://mp.weixin.qq.com</td>\n",
       "      <td>http://mp.weixin.qq.com/s?__biz=MzI3MTAwNTA4NA...</td>\n",
       "      <td>【徽州大家谈】时代呼唤中华商魂——我所知的徽商</td>\n",
       "      <td>NaN</td>\n",
       "      <td>NaN</td>\n",
       "      <td>有大专家在视频里向年青人“说”徽商，他告诉人们，历史上的徽商，只不过是从“晋商”..</td>\n",
       "      <td>\\n                        \\n\\n                ...</td>\n",
       "      <td>&lt;html&gt;&lt;head&gt;\\n        &lt;meta http-equiv=\"Conten...</td>\n",
       "      <td>微信</td>\n",
       "    </tr>\n",
       "  </tbody>\n",
       "</table>\n",
       "</div>"
      ],
      "text/plain": [
       "           dt source                   domain  \\\n",
       "0  2017-02-10   歙县论坛  http://mp.weixin.qq.com   \n",
       "1  2017-02-08  徽州微旅游  http://mp.weixin.qq.com   \n",
       "2  2017-01-30   徽州范儿  http://mp.weixin.qq.com   \n",
       "3  2017-01-30  徽州大论坛  http://mp.weixin.qq.com   \n",
       "4  2017-01-28  徽州大论坛  http://mp.weixin.qq.com   \n",
       "\n",
       "                                                 url                    title  \\\n",
       "0  http://mp.weixin.qq.com/s?__biz=MjM5OTc1NDAxMg...      【徽州】《梦里徽州——新安江风情画卷》   \n",
       "1  http://mp.weixin.qq.com/s?__biz=MzA4NDI0MzMwNA...             古村的梦——古建筑博物馆   \n",
       "2  http://mp.weixin.qq.com/s?__biz=MzIyOTQ4MjEyNA...         苞芦松 | 传承四百年的徽州小食   \n",
       "3  http://mp.weixin.qq.com/s?__biz=MzI3MTAwNTA4NA...     【徽州大家谈】墨客典籍与现代生活的交融地   \n",
       "4  http://mp.weixin.qq.com/s?__biz=MzI3MTAwNTA4NA...  【徽州大家谈】时代呼唤中华商魂——我所知的徽商   \n",
       "\n",
       "   summary  image                                       brief  \\\n",
       "0      NaN    NaN  ［汪观清专访］一生痴绝处，无梦到徽州。    汪观清，安徽歙县人。他创作的《梦里..   \n",
       "1      NaN    NaN  千年的光阴，在轮回里，阴晴圆缺，一场梦醒时分，恍若隔世，重新遇见你眉目缱绻飘零，..   \n",
       "2      NaN    NaN  编辑小语：在徽州，有一种延续了四百年的休闲食品。金黄的外表，清脆的口感，颇像“膨..   \n",
       "3      NaN    NaN  徽州古城坐落在歙县县城徽城的中心，也是千年徽州府治的所在地。在这里，记者们不仅参..   \n",
       "4      NaN    NaN  有大专家在视频里向年青人“说”徽商，他告诉人们，历史上的徽商，只不过是从“晋商”..   \n",
       "\n",
       "                                                body  \\\n",
       "0  \\n                        \\n\\n                ...   \n",
       "1  \\n                        \\n\\n                ...   \n",
       "2  \\n                        \\n\\n                ...   \n",
       "3  \\n                        \\n\\n                ...   \n",
       "4  \\n                        \\n\\n                ...   \n",
       "\n",
       "                                            raw_page from  \n",
       "0  <html><head>\\n        <meta http-equiv=\"Conten...   微信  \n",
       "1  <html><head>\\n        <meta http-equiv=\"Conten...   微信  \n",
       "2  <html><head>\\n        <meta http-equiv=\"Conten...   微信  \n",
       "3  <html><head>\\n        <meta http-equiv=\"Conten...   微信  \n",
       "4  <html><head>\\n        <meta http-equiv=\"Conten...   微信  "
      ]
     },
     "execution_count": 114,
     "metadata": {},
     "output_type": "execute_result"
    }
   ],
   "source": [
    "df_no_dup.head()"
   ]
  },
  {
   "cell_type": "code",
   "execution_count": 115,
   "metadata": {
    "collapsed": true
   },
   "outputs": [],
   "source": [
    "from bs4 import BeautifulSoup"
   ]
  },
  {
   "cell_type": "code",
   "execution_count": 116,
   "metadata": {
    "collapsed": true
   },
   "outputs": [],
   "source": [
    "def get_columns3():\n",
    "    return ('url', 'segments') \n",
    "def get_empty_columns3():\n",
    "    return ('', '') "
   ]
  },
  {
   "cell_type": "code",
   "execution_count": 117,
   "metadata": {
    "collapsed": true
   },
   "outputs": [],
   "source": [
    "idx = 0\n",
    "new_df = pd.DataFrame(columns = get_columns3())"
   ]
  },
  {
   "cell_type": "code",
   "execution_count": 119,
   "metadata": {
    "collapsed": false
   },
   "outputs": [],
   "source": [
    "for i in range(0, len(df_no_dup)):\n",
    "    url = df_no_dup.loc[i]['url']\n",
    "    t1 = df_no_dup.loc[i]['body'].decode('utf-8')\n",
    "    print i, url\n",
    "    t0 = segmenter.segment(t1)\n",
    "    new_df.loc[i] = get_empty_columns3()\n",
    "    new_df.loc[i]['segments'] = t0\n",
    "    new_df.loc[i]['url'] = url"
   ]
  },
  {
   "cell_type": "code",
   "execution_count": 120,
   "metadata": {
    "collapsed": true
   },
   "outputs": [],
   "source": [
    "new_df.to_csv('/Users/nhu2000/desktop/huizhou/data/complete/weixin_huizhou_segments.csv', encoding='utf-8', index=False)"
   ]
  },
  {
   "cell_type": "code",
   "execution_count": null,
   "metadata": {
    "collapsed": true
   },
   "outputs": [],
   "source": []
  },
  {
   "cell_type": "code",
   "execution_count": 79,
   "metadata": {
    "collapsed": true
   },
   "outputs": [],
   "source": [
    "titles = df_no_dup['title'].str.decode('utf-8')"
   ]
  },
  {
   "cell_type": "code",
   "execution_count": 59,
   "metadata": {
    "collapsed": true
   },
   "outputs": [],
   "source": [
    "Baidu_CH_Stopwords_list = ['按, 按照, 俺, 俺们, 阿', \n",
    "                      '别, 别人, 别处, 别是, 别的, 别管, 别说, 不, 不仅 ,不但, 不光, 不单, 不只, 不外乎, 不如, 不妨, 不尽, 不尽然, 不得, 不怕, 不惟, 不成, 不拘, 不料, 不是, 不比, 不然, 不特, 不独, 不管, 不至于, 不若, 不论, 不过, 不问, 比方, 比如, 比及, 比, 本身, 本着, 本地, 本人, 本, 巴巴, 巴, 并, 并且, 非彼, 彼时, 彼此, 便于, 把, 边, 鄙人, 罢了, 被, 般的',\n",
    "                     '此间,此次,此时,此外,此处,此地,此,才,才能,朝,朝着,从,从此,从而,除非,除此之外,除开,除外,除了,除,诚然,诚如,出来,出于,曾,趁着,趁,处在,乘,冲',\n",
    "                     '等等,等到,等,第,当着,当然,当地,当,多,多么,多少,对,对于,对待,对方,对比,得,得了,打,打从,的,的确,的话,但,但凡,但是,大家,大,地,待,都,到,叮咚',\n",
    "                     '而言,而是,而已,而外,而后,而况,而且,而,尔尔,尔后,尔,二来',\n",
    "                     '非独,非特,非徒,非但,否则,反过来说,反过来,反而,反之,分别,凡是,凡',\n",
    "                     '个,个别,固然,故,故此,故而,果然,果真,各,各个,各位,各种,各自,关于具体地说,归齐,归,根据,管,赶,跟,过,该,给,光是',\n",
    "                     '或者,或曰,或是,或则,或,何,何以,何况,何处,何时,还要,还有,还是,还,后者,很,换言之,换句话说,好,后,和',\n",
    "                     '即,即令,即使,即便,即如,即或,即若,继而,继后,继之,既然,既是,既往,既,尽管如此,尽管,尽,就要,就算,就是说,就是了,就是,就,据,据此,接着,经,经过,结果,及,及其,及至,加以,加之,例如,介于,几时,几,截至,极了,简言之,竟而,紧接着,距,较之,较,进而,鉴于,基于,具体说来,兼之,借傥然,今,叫,将',\n",
    "                     '可,可以,可是,可见,开始,开外,况且,靠,看',\n",
    "                     '来说,来自,来着,来,两者,临,类如,论,赖以,连,连同,离',\n",
    "                     '莫若,莫如,莫不然,假使,假如,假若,某,某个,某些,某某,漫说,没奈何,每当,每,慢说,冒',\n",
    "                     '哪个,哪些,哪儿,哪天,哪年,哪怕,哪样,哪边,哪里,那里,那边,那般,那样,那时,那儿,那会儿,那些,那么样,那么些,那么,那个,那,乃,乃至,乃至于,宁肯,宁愿,宁可,宁,能,能否,你,你们,您,拿,难道说,内,哪',\n",
    "                     '凭借,凭,旁人,譬如, 譬喻',\n",
    "                     '且,且不说,且说,其,其一,其中,其二,其他,其余,其它,其次,前后,前此,前者,起见,起,全部,全体,恰恰相反,岂但,却,去',\n",
    "                     '若非,若果,若是,若夫,若,另,另一方面,另外,另悉,如若,如此,如果,如是,如同,如其,如何,如下,如上所述,如上,如,然则,然后,然而,任,任何,任凭,仍,仍旧,人家,人们,人,让',\n",
    "                     '甚至于,甚至,甚而,甚或,甚么,甚且,什么,什么样,上,上下,虽说,虽然,虽则,虽,孰知,孰料,始而,所,所以,所在,所幸,所有,是,是以,是的,设使,设或,设若,谁,谁人,谁料,谁知,随着,随时,随后,随,顺着,顺,受到,使得,使,似的,尚且,庶几,庶乎,时候,省得,说来,首先',\n",
    "                     '倘,倘使,倘或,倘然,倘若,同,同时,他,他人,他们们,她们,她,它们,它,替代,替,通过,腾', \n",
    "                     '这里,这边,这般,这次,这样,这时,这就是说,这儿,这会儿,这些,这么点儿,这么样,这么些,这么,这个,这一来,这,正是,正巧,正如,正值',\n",
    "                     '万一,为,为了,为什么,为何,为止,为此,为着,无论,无宁,无,我们,我,往,望,惟其,唯有',\n",
    "                     '下,向着,向使,向,先不先,相对而言,许多,像,小,些',\n",
    "                     '一,一些,一何,一切,一则,一方面,一旦,一来,一样,一般,一转眼,,由此可见,由此,由是,由于,由,用来,因而,因着,因此,因了,因为,因,要是,要么,要不然,要不是,要不,要,与,与其,与其说,与否,与此同时,以,以上,以为,以便,以免,以及,以故,以期,以来,以至,以至于,以致,己,已,已矣,有,有些,有关,有及,有时,有的,沿,沿着,于,于是,于是乎,云云,云尔,依照,依据,依,余外,也罢,也好,也,又及,又,抑或,犹自,犹且,用,越是',\n",
    "                     '只当,只怕,只是,只有,只消,只要,只限,再,再其次,再则,再有,再者,再者说,再说,自身,自打,自己,自家,自后,自各儿,自从,自个儿,自,怎样,怎奈,怎么样,怎么办,怎么,怎,至若,至今,至于,至,纵然,纵使,纵令,纵,之,之一,之所以,之类,着呢,着,眨眼,总而言之,总的说来,总的来说,总的来看,总之,在于,在下,在,诸,诸位,诸如,咱们,咱,作为,只,最,照着,照,直到,综上所述,贼死,逐步,遵照,遵循,针对,致,者,则甚,则',\n",
    "                     '咳,哇,哈,哈哈,哉,哎,哎呀,哎哟,哗,哟,哦,哩,矣哉,矣乎,矣,焉,毋宁,欤,嘿嘿,嘿,嘻,嘛,嘘,嘎登,嘎,嗳,嗯,嗬,嗡嗡,嗡,喽,喔唷,喏,喂,啷当,啪达,啦,啥,啐,啊,唉,哼唷,哼,咧,咦,咚,咋,呼哧,呸,呵呵,呵,呢,呜呼,呜,呗,呕,呃,呀,吱,吧哒,吧,吗,吓,兮,儿,亦,了,乎']"
   ]
  },
  {
   "cell_type": "code",
   "execution_count": 60,
   "metadata": {
    "collapsed": true
   },
   "outputs": [],
   "source": [
    "def is_not_chinese_symbol(token):\n",
    "    if token == u'\\u201c' or token == u'\\u201d':\n",
    "        return False\n",
    "    elif token == u'\\uff0c' or token == u'\\u3002':\n",
    "        return False\n",
    "    elif token == u'\\u3001' or token == u'\\u300b':\n",
    "        return False\n",
    "    elif token == u'\\u300a' or token == u'\\uff1a':\n",
    "        return False\n",
    "    elif token == u'\\uff1b' or token == u'\\uff09':\n",
    "        return False\n",
    "    elif token == u')' or token == u'(':\n",
    "        return False\n",
    "    elif token == u'\\uff08' or token == u'\\u4e00':\n",
    "        return False\n",
    "    elif token == u'-' or token == u':':\n",
    "        return False\n",
    "    elif token == u'\\u548c' or  token == u'>': \n",
    "        return False\n",
    "    elif token == u'\\xb7' or  token == u'\\u2014\\u2014':         \n",
    "        return False\n",
    "\n",
    "\n",
    "    return True"
   ]
  },
  {
   "cell_type": "code",
   "execution_count": 61,
   "metadata": {
    "collapsed": false
   },
   "outputs": [],
   "source": [
    "combined_str = ''.decode('utf-8')\n",
    "for words in Baidu_CH_Stopwords_list:\n",
    "    combined_str = combined_str + words.decode('utf-8') "
   ]
  },
  {
   "cell_type": "markdown",
   "metadata": {
    "collapsed": false
   },
   "source": [
    "print combined_str"
   ]
  },
  {
   "cell_type": "code",
   "execution_count": 62,
   "metadata": {
    "collapsed": true
   },
   "outputs": [],
   "source": [
    "Baidu_CH_Stopwords = combined_str.split(',')"
   ]
  },
  {
   "cell_type": "code",
   "execution_count": 67,
   "metadata": {
    "collapsed": true
   },
   "outputs": [],
   "source": [
    "def get_columns2():\n",
    "    return ('token title', 'flag') \n",
    "def get_empty_columns2():\n",
    "    return ('', '') "
   ]
  },
  {
   "cell_type": "markdown",
   "metadata": {
    "collapsed": false
   },
   "source": [
    "print len(get_columns()), len(get_empty_columns())"
   ]
  },
  {
   "cell_type": "code",
   "execution_count": null,
   "metadata": {
    "collapsed": true
   },
   "outputs": [],
   "source": [
    "for i in range(0, len(df_final)):\n",
    "    if(i < 10):\n",
    "        print 'row ----', i\n",
    "        new_df.loc[i]= get_empty_columns()\n",
    "        t0 = df_final.loc[i]['title'].decode('utf-8')\n",
    "        t1 = segmenter.segment(t0)\n",
    "        t2 = t1.split(' ')\n",
    "        tokens_no_stopwords = [token for token in t2 if token not in Baidu_CH_Stopwords and is_not_chinese_symbol(token)] \n",
    "        new_df.loc[i]['t_tokens'] = tokens_no_stopwords   "
   ]
  },
  {
   "cell_type": "code",
   "execution_count": 64,
   "metadata": {
    "collapsed": true
   },
   "outputs": [],
   "source": [
    "idx = 0\n",
    "for title in titles:\n",
    "    print idx, title\n",
    "    idx += 1"
   ]
  },
  {
   "cell_type": "code",
   "execution_count": 68,
   "metadata": {
    "collapsed": false
   },
   "outputs": [],
   "source": [
    "new_df = pd.DataFrame(columns = get_columns2())"
   ]
  },
  {
   "cell_type": "code",
   "execution_count": 80,
   "metadata": {
    "collapsed": false
   },
   "outputs": [],
   "source": [
    "idx = 0\n",
    "for title in titles:\n",
    "    print 'row ----', idx\n",
    "    new_df.loc[idx] = get_empty_columns2()\n",
    "    t0 = title.decode('utf-8')\n",
    "    t1 = segmenter.segment(t0)\n",
    "    print t1\n",
    "    new_df.loc[idx]['token title'] = t1\n",
    "    new_df.loc[idx]['flag'] = 'pos'\n",
    "    idx += 1"
   ]
  },
  {
   "cell_type": "code",
   "execution_count": 82,
   "metadata": {
    "collapsed": false
   },
   "outputs": [],
   "source": [
    "print idx"
   ]
  },
  {
   "cell_type": "code",
   "execution_count": 83,
   "metadata": {
    "collapsed": false
   },
   "outputs": [
    {
     "data": {
      "text/html": [
       "<div>\n",
       "<table border=\"1\" class=\"dataframe\">\n",
       "  <thead>\n",
       "    <tr style=\"text-align: right;\">\n",
       "      <th></th>\n",
       "      <th>token title</th>\n",
       "      <th>flag</th>\n",
       "    </tr>\n",
       "  </thead>\n",
       "  <tbody>\n",
       "    <tr>\n",
       "      <th>0</th>\n",
       "      <td>【 徽州 】 《 梦里 徽州 —— 新安江 风情 画卷 》\\n</td>\n",
       "      <td>pos</td>\n",
       "    </tr>\n",
       "    <tr>\n",
       "      <th>1</th>\n",
       "      <td>古 村 的 梦 —— 古建筑 博物馆\\n</td>\n",
       "      <td>pos</td>\n",
       "    </tr>\n",
       "    <tr>\n",
       "      <th>2</th>\n",
       "      <td>苞芦松 | 传承 四百 年 的 徽州 小食\\n</td>\n",
       "      <td>pos</td>\n",
       "    </tr>\n",
       "    <tr>\n",
       "      <th>3</th>\n",
       "      <td>【 徽州 大家 谈 】 墨客 典籍 与 现代 生活 的 交融 地\\n</td>\n",
       "      <td>pos</td>\n",
       "    </tr>\n",
       "    <tr>\n",
       "      <th>4</th>\n",
       "      <td>【 徽州 大家 谈 】 时代 呼唤 中华 商 魂 —— 我 所 知 的 徽商\\n</td>\n",
       "      <td>pos</td>\n",
       "    </tr>\n",
       "  </tbody>\n",
       "</table>\n",
       "</div>"
      ],
      "text/plain": [
       "                                token title flag\n",
       "0           【 徽州 】 《 梦里 徽州 —— 新安江 风情 画卷 》\\n  pos\n",
       "1                      古 村 的 梦 —— 古建筑 博物馆\\n  pos\n",
       "2                   苞芦松 | 传承 四百 年 的 徽州 小食\\n  pos\n",
       "3        【 徽州 大家 谈 】 墨客 典籍 与 现代 生活 的 交融 地\\n  pos\n",
       "4  【 徽州 大家 谈 】 时代 呼唤 中华 商 魂 —— 我 所 知 的 徽商\\n  pos"
      ]
     },
     "execution_count": 83,
     "metadata": {},
     "output_type": "execute_result"
    }
   ],
   "source": [
    "new_df.head()"
   ]
  },
  {
   "cell_type": "markdown",
   "metadata": {},
   "source": [
    "new_df.to_csv('../data/huizhou-hzwh.pos', encoding='utf-8', index=False)"
   ]
  },
  {
   "cell_type": "code",
   "execution_count": 84,
   "metadata": {
    "collapsed": true
   },
   "outputs": [],
   "source": [
    "new_df.to_csv('../data/huizhou-weixin.pos', encoding='utf-8', index=False)"
   ]
  },
  {
   "cell_type": "code",
   "execution_count": null,
   "metadata": {
    "collapsed": true
   },
   "outputs": [],
   "source": []
  }
 ],
 "metadata": {
  "kernelspec": {
   "display_name": "Python 2",
   "language": "python",
   "name": "python2"
  },
  "language_info": {
   "codemirror_mode": {
    "name": "ipython",
    "version": 2
   },
   "file_extension": ".py",
   "mimetype": "text/x-python",
   "name": "python",
   "nbconvert_exporter": "python",
   "pygments_lexer": "ipython2",
   "version": "2.7.10"
  }
 },
 "nbformat": 4,
 "nbformat_minor": 2
}
