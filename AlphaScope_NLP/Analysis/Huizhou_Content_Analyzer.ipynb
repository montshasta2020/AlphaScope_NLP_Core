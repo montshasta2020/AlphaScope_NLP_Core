{
 "cells": [
  {
   "cell_type": "code",
   "execution_count": 114,
   "metadata": {
    "collapsed": true
   },
   "outputs": [],
   "source": [
    "import sys  \n",
    "reload(sys)  \n",
    "sys.setdefaultencoding('utf-8')"
   ]
  },
  {
   "cell_type": "code",
   "execution_count": 115,
   "metadata": {
    "collapsed": true
   },
   "outputs": [],
   "source": [
    "from textblob.classifiers import NaiveBayesClassifier\n",
    "import pandas as pd"
   ]
  },
  {
   "cell_type": "code",
   "execution_count": 116,
   "metadata": {
    "collapsed": true
   },
   "outputs": [],
   "source": [
    "import os.path"
   ]
  },
  {
   "cell_type": "code",
   "execution_count": 117,
   "metadata": {
    "collapsed": true
   },
   "outputs": [],
   "source": [
    "from nltk.tokenize.stanford_segmenter import StanfordSegmenter"
   ]
  },
  {
   "cell_type": "code",
   "execution_count": 118,
   "metadata": {
    "collapsed": true
   },
   "outputs": [],
   "source": [
    "segmenter = StanfordSegmenter(path_to_jar='/Users/nhu2000/desktop/nltk/stanford-segmenter-2014-08-27/stanford-segmenter-3.4.1.jar', \n",
    "                              path_to_slf4j='/Users/nhu2000/desktop/nltk/stanford-segmenter-2014-08-27/slf4j-api.jar',\n",
    "                              path_to_sihan_corpora_dict='/Users/nhu2000/desktop/nltk/stanford-segmenter-2014-08-27/data', \n",
    "                              path_to_model='/Users/nhu2000/desktop/nltk/stanford-segmenter-2014-08-27/data/pku.gz', \n",
    "                              path_to_dict='/Users/nhu2000/desktop/nltk/stanford-segmenter-2014-08-27/data/dict-chris6.ser.gz')"
   ]
  },
  {
   "cell_type": "code",
   "execution_count": 88,
   "metadata": {
    "collapsed": false
   },
   "outputs": [],
   "source": [
    "train = [\n",
    "    (u'滁州市召开2013-2014年度 省级农民文化乐园服务情', 'neg'),\n",
    "    (u'中外鼓舞精粹汇聚宝山 凤阳花鼓之花精彩绽放', 'neg'),       \n",
    "    (u'淮南市书画家一行作访安徽缘酒集', 'neg'),       \n",
    "    (u'60年代初 大批扬州人曾迁徙安', 'neg'),       \n",
    "    (u'《安徽暨六安抗日烽火》图片展8月18日正式展出', 'neg'),       \n",
    "    (u'安庆文广新局到潜山督查黄梅戏艺术节筹备情', 'neg'),       \n",
    "    (u'池州端午“世界村杯”杏花村龙舟竞渡圆满落幕', 'neg'),       \n",
    "    (u'亳州市“劳动者之歌”美术、书法、摄影展开展', 'neg'),       \n",
    "    (u'金寨县桃岭乡开展庆祝“三八”节全民健身活动', 'neg'),       \n",
    "    (u'剧作家何修电视剧本《九莲》全国影视论剑称雄', 'neg'),       \n",
    "    (u'全国“老体协之花”在凤竞相绽放', 'neg'),   \n",
    "    (u'央视《致富经》再访凤阳', 'neg'),   \n",
    "    (u'中外鼓舞精粹汇聚宝山 凤阳花鼓之花精彩绽放', 'neg'),   \n",
    "    (u'老物件针夹子：把母爱密密实实地纳进鞋底里', 'neg'),   \n",
    "    (u'四块公交站牌背后的年代记忆', 'neg') \n",
    "]"
   ]
  },
  {
   "cell_type": "code",
   "execution_count": 113,
   "metadata": {
    "collapsed": false
   },
   "outputs": [
    {
     "ename": "KeyboardInterrupt",
     "evalue": "",
     "output_type": "error",
     "traceback": [
      "\u001b[0;31m---------------------------------------------------------------------------\u001b[0m",
      "\u001b[0;31mKeyboardInterrupt\u001b[0m                         Traceback (most recent call last)",
      "\u001b[0;32m<ipython-input-113-815169cddcdb>\u001b[0m in \u001b[0;36m<module>\u001b[0;34m()\u001b[0m\n\u001b[1;32m      2\u001b[0m \u001b[0;32mfor\u001b[0m \u001b[0mi\u001b[0m \u001b[0;32min\u001b[0m \u001b[0mrange\u001b[0m\u001b[0;34m(\u001b[0m\u001b[0;36m0\u001b[0m\u001b[0;34m,\u001b[0m \u001b[0mlen\u001b[0m\u001b[0;34m(\u001b[0m\u001b[0mtrain\u001b[0m\u001b[0;34m)\u001b[0m\u001b[0;34m)\u001b[0m\u001b[0;34m:\u001b[0m\u001b[0;34m\u001b[0m\u001b[0m\n\u001b[1;32m      3\u001b[0m     \u001b[0mt0\u001b[0m \u001b[0;34m=\u001b[0m \u001b[0mtrain\u001b[0m\u001b[0;34m[\u001b[0m\u001b[0mi\u001b[0m\u001b[0;34m]\u001b[0m\u001b[0;34m[\u001b[0m\u001b[0;36m0\u001b[0m\u001b[0;34m]\u001b[0m\u001b[0;34m\u001b[0m\u001b[0m\n\u001b[0;32m----> 4\u001b[0;31m     \u001b[0mtemp\u001b[0m \u001b[0;34m=\u001b[0m \u001b[0msegmenter\u001b[0m\u001b[0;34m.\u001b[0m\u001b[0msegment\u001b[0m\u001b[0;34m(\u001b[0m\u001b[0mt0\u001b[0m\u001b[0;34m)\u001b[0m\u001b[0;34m\u001b[0m\u001b[0m\n\u001b[0m\u001b[1;32m      5\u001b[0m     \u001b[0;32mprint\u001b[0m \u001b[0mi\u001b[0m\u001b[0;34m,\u001b[0m \u001b[0mtemp\u001b[0m\u001b[0;34m\u001b[0m\u001b[0m\n\u001b[1;32m      6\u001b[0m     \u001b[0mtemp\u001b[0m \u001b[0;34m=\u001b[0m \u001b[0;34m(\u001b[0m\u001b[0mtemp\u001b[0m\u001b[0;34m,\u001b[0m \u001b[0;34m'neg'\u001b[0m\u001b[0;34m)\u001b[0m\u001b[0;34m\u001b[0m\u001b[0m\n",
      "\u001b[0;32m/usr/local/lib/python2.7/site-packages/nltk/tokenize/stanford_segmenter.pyc\u001b[0m in \u001b[0;36msegment\u001b[0;34m(self, tokens)\u001b[0m\n\u001b[1;32m     94\u001b[0m \u001b[0;34m\u001b[0m\u001b[0m\n\u001b[1;32m     95\u001b[0m     \u001b[0;32mdef\u001b[0m \u001b[0msegment\u001b[0m\u001b[0;34m(\u001b[0m\u001b[0mself\u001b[0m\u001b[0;34m,\u001b[0m \u001b[0mtokens\u001b[0m\u001b[0;34m)\u001b[0m\u001b[0;34m:\u001b[0m\u001b[0;34m\u001b[0m\u001b[0m\n\u001b[0;32m---> 96\u001b[0;31m         \u001b[0;32mreturn\u001b[0m \u001b[0mself\u001b[0m\u001b[0;34m.\u001b[0m\u001b[0msegment_sents\u001b[0m\u001b[0;34m(\u001b[0m\u001b[0;34m[\u001b[0m\u001b[0mtokens\u001b[0m\u001b[0;34m]\u001b[0m\u001b[0;34m)\u001b[0m\u001b[0;34m\u001b[0m\u001b[0m\n\u001b[0m\u001b[1;32m     97\u001b[0m \u001b[0;34m\u001b[0m\u001b[0m\n\u001b[1;32m     98\u001b[0m     \u001b[0;32mdef\u001b[0m \u001b[0msegment_sents\u001b[0m\u001b[0;34m(\u001b[0m\u001b[0mself\u001b[0m\u001b[0;34m,\u001b[0m \u001b[0msentences\u001b[0m\u001b[0;34m)\u001b[0m\u001b[0;34m:\u001b[0m\u001b[0;34m\u001b[0m\u001b[0m\n",
      "\u001b[0;32m/usr/local/lib/python2.7/site-packages/nltk/tokenize/stanford_segmenter.pyc\u001b[0m in \u001b[0;36msegment_sents\u001b[0;34m(self, sentences)\u001b[0m\n\u001b[1;32m    121\u001b[0m         ]\n\u001b[1;32m    122\u001b[0m \u001b[0;34m\u001b[0m\u001b[0m\n\u001b[0;32m--> 123\u001b[0;31m         \u001b[0mstdout\u001b[0m \u001b[0;34m=\u001b[0m \u001b[0mself\u001b[0m\u001b[0;34m.\u001b[0m\u001b[0m_execute\u001b[0m\u001b[0;34m(\u001b[0m\u001b[0mcmd\u001b[0m\u001b[0;34m)\u001b[0m\u001b[0;34m\u001b[0m\u001b[0m\n\u001b[0m\u001b[1;32m    124\u001b[0m \u001b[0;34m\u001b[0m\u001b[0m\n\u001b[1;32m    125\u001b[0m         \u001b[0;31m# Delete the temporary file\u001b[0m\u001b[0;34m\u001b[0m\u001b[0;34m\u001b[0m\u001b[0m\n",
      "\u001b[0;32m/usr/local/lib/python2.7/site-packages/nltk/tokenize/stanford_segmenter.pyc\u001b[0m in \u001b[0;36m_execute\u001b[0;34m(self, cmd, verbose)\u001b[0m\n\u001b[1;32m    141\u001b[0m \u001b[0;34m\u001b[0m\u001b[0m\n\u001b[1;32m    142\u001b[0m         stdout, _stderr = java(\n\u001b[0;32m--> 143\u001b[0;31m             cmd,classpath=self._stanford_jar, stdout=PIPE, stderr=PIPE)\n\u001b[0m\u001b[1;32m    144\u001b[0m         \u001b[0mstdout\u001b[0m \u001b[0;34m=\u001b[0m \u001b[0mstdout\u001b[0m\u001b[0;34m.\u001b[0m\u001b[0mdecode\u001b[0m\u001b[0;34m(\u001b[0m\u001b[0mencoding\u001b[0m\u001b[0;34m)\u001b[0m\u001b[0;34m\u001b[0m\u001b[0m\n\u001b[1;32m    145\u001b[0m \u001b[0;34m\u001b[0m\u001b[0m\n",
      "\u001b[0;32m/usr/local/lib/python2.7/site-packages/nltk/__init__.pyc\u001b[0m in \u001b[0;36mjava\u001b[0;34m(cmd, classpath, stdin, stdout, stderr, blocking)\u001b[0m\n\u001b[1;32m    127\u001b[0m     \u001b[0mp\u001b[0m \u001b[0;34m=\u001b[0m \u001b[0msubprocess\u001b[0m\u001b[0;34m.\u001b[0m\u001b[0mPopen\u001b[0m\u001b[0;34m(\u001b[0m\u001b[0mcmd\u001b[0m\u001b[0;34m,\u001b[0m \u001b[0mstdin\u001b[0m\u001b[0;34m=\u001b[0m\u001b[0mstdin\u001b[0m\u001b[0;34m,\u001b[0m \u001b[0mstdout\u001b[0m\u001b[0;34m=\u001b[0m\u001b[0mstdout\u001b[0m\u001b[0;34m,\u001b[0m \u001b[0mstderr\u001b[0m\u001b[0;34m=\u001b[0m\u001b[0mstderr\u001b[0m\u001b[0;34m)\u001b[0m\u001b[0;34m\u001b[0m\u001b[0m\n\u001b[1;32m    128\u001b[0m     \u001b[0;32mif\u001b[0m \u001b[0;32mnot\u001b[0m \u001b[0mblocking\u001b[0m\u001b[0;34m:\u001b[0m \u001b[0;32mreturn\u001b[0m \u001b[0mp\u001b[0m\u001b[0;34m\u001b[0m\u001b[0m\n\u001b[0;32m--> 129\u001b[0;31m     \u001b[0;34m(\u001b[0m\u001b[0mstdout\u001b[0m\u001b[0;34m,\u001b[0m \u001b[0mstderr\u001b[0m\u001b[0;34m)\u001b[0m \u001b[0;34m=\u001b[0m \u001b[0mp\u001b[0m\u001b[0;34m.\u001b[0m\u001b[0mcommunicate\u001b[0m\u001b[0;34m(\u001b[0m\u001b[0;34m)\u001b[0m\u001b[0;34m\u001b[0m\u001b[0m\n\u001b[0m\u001b[1;32m    130\u001b[0m \u001b[0;34m\u001b[0m\u001b[0m\n\u001b[1;32m    131\u001b[0m     \u001b[0;31m# Check the return code.\u001b[0m\u001b[0;34m\u001b[0m\u001b[0;34m\u001b[0m\u001b[0m\n",
      "\u001b[0;32m/usr/local/Cellar/python/2.7.10_2/Frameworks/Python.framework/Versions/2.7/lib/python2.7/subprocess.pyc\u001b[0m in \u001b[0;36mcommunicate\u001b[0;34m(self, input)\u001b[0m\n\u001b[1;32m    797\u001b[0m             \u001b[0;32mreturn\u001b[0m \u001b[0;34m(\u001b[0m\u001b[0mstdout\u001b[0m\u001b[0;34m,\u001b[0m \u001b[0mstderr\u001b[0m\u001b[0;34m)\u001b[0m\u001b[0;34m\u001b[0m\u001b[0m\n\u001b[1;32m    798\u001b[0m \u001b[0;34m\u001b[0m\u001b[0m\n\u001b[0;32m--> 799\u001b[0;31m         \u001b[0;32mreturn\u001b[0m \u001b[0mself\u001b[0m\u001b[0;34m.\u001b[0m\u001b[0m_communicate\u001b[0m\u001b[0;34m(\u001b[0m\u001b[0minput\u001b[0m\u001b[0;34m)\u001b[0m\u001b[0;34m\u001b[0m\u001b[0m\n\u001b[0m\u001b[1;32m    800\u001b[0m \u001b[0;34m\u001b[0m\u001b[0m\n\u001b[1;32m    801\u001b[0m \u001b[0;34m\u001b[0m\u001b[0m\n",
      "\u001b[0;32m/usr/local/Cellar/python/2.7.10_2/Frameworks/Python.framework/Versions/2.7/lib/python2.7/subprocess.pyc\u001b[0m in \u001b[0;36m_communicate\u001b[0;34m(self, input)\u001b[0m\n\u001b[1;32m   1409\u001b[0m                 \u001b[0mstdout\u001b[0m\u001b[0;34m,\u001b[0m \u001b[0mstderr\u001b[0m \u001b[0;34m=\u001b[0m \u001b[0mself\u001b[0m\u001b[0;34m.\u001b[0m\u001b[0m_communicate_with_poll\u001b[0m\u001b[0;34m(\u001b[0m\u001b[0minput\u001b[0m\u001b[0;34m)\u001b[0m\u001b[0;34m\u001b[0m\u001b[0m\n\u001b[1;32m   1410\u001b[0m             \u001b[0;32melse\u001b[0m\u001b[0;34m:\u001b[0m\u001b[0;34m\u001b[0m\u001b[0m\n\u001b[0;32m-> 1411\u001b[0;31m                 \u001b[0mstdout\u001b[0m\u001b[0;34m,\u001b[0m \u001b[0mstderr\u001b[0m \u001b[0;34m=\u001b[0m \u001b[0mself\u001b[0m\u001b[0;34m.\u001b[0m\u001b[0m_communicate_with_select\u001b[0m\u001b[0;34m(\u001b[0m\u001b[0minput\u001b[0m\u001b[0;34m)\u001b[0m\u001b[0;34m\u001b[0m\u001b[0m\n\u001b[0m\u001b[1;32m   1412\u001b[0m \u001b[0;34m\u001b[0m\u001b[0m\n\u001b[1;32m   1413\u001b[0m             \u001b[0;31m# All data exchanged.  Translate lists into strings.\u001b[0m\u001b[0;34m\u001b[0m\u001b[0;34m\u001b[0m\u001b[0m\n",
      "\u001b[0;32m/usr/local/Cellar/python/2.7.10_2/Frameworks/Python.framework/Versions/2.7/lib/python2.7/subprocess.pyc\u001b[0m in \u001b[0;36m_communicate_with_select\u001b[0;34m(self, input)\u001b[0m\n\u001b[1;32m   1510\u001b[0m             \u001b[0;32mwhile\u001b[0m \u001b[0mread_set\u001b[0m \u001b[0;32mor\u001b[0m \u001b[0mwrite_set\u001b[0m\u001b[0;34m:\u001b[0m\u001b[0;34m\u001b[0m\u001b[0m\n\u001b[1;32m   1511\u001b[0m                 \u001b[0;32mtry\u001b[0m\u001b[0;34m:\u001b[0m\u001b[0;34m\u001b[0m\u001b[0m\n\u001b[0;32m-> 1512\u001b[0;31m                     \u001b[0mrlist\u001b[0m\u001b[0;34m,\u001b[0m \u001b[0mwlist\u001b[0m\u001b[0;34m,\u001b[0m \u001b[0mxlist\u001b[0m \u001b[0;34m=\u001b[0m \u001b[0mselect\u001b[0m\u001b[0;34m.\u001b[0m\u001b[0mselect\u001b[0m\u001b[0;34m(\u001b[0m\u001b[0mread_set\u001b[0m\u001b[0;34m,\u001b[0m \u001b[0mwrite_set\u001b[0m\u001b[0;34m,\u001b[0m \u001b[0;34m[\u001b[0m\u001b[0;34m]\u001b[0m\u001b[0;34m)\u001b[0m\u001b[0;34m\u001b[0m\u001b[0m\n\u001b[0m\u001b[1;32m   1513\u001b[0m                 \u001b[0;32mexcept\u001b[0m \u001b[0mselect\u001b[0m\u001b[0;34m.\u001b[0m\u001b[0merror\u001b[0m\u001b[0;34m,\u001b[0m \u001b[0me\u001b[0m\u001b[0;34m:\u001b[0m\u001b[0;34m\u001b[0m\u001b[0m\n\u001b[1;32m   1514\u001b[0m                     \u001b[0;32mif\u001b[0m \u001b[0me\u001b[0m\u001b[0;34m.\u001b[0m\u001b[0margs\u001b[0m\u001b[0;34m[\u001b[0m\u001b[0;36m0\u001b[0m\u001b[0;34m]\u001b[0m \u001b[0;34m==\u001b[0m \u001b[0merrno\u001b[0m\u001b[0;34m.\u001b[0m\u001b[0mEINTR\u001b[0m\u001b[0;34m:\u001b[0m\u001b[0;34m\u001b[0m\u001b[0m\n",
      "\u001b[0;31mKeyboardInterrupt\u001b[0m: "
     ]
    }
   ],
   "source": [
    "res = []\n",
    "for i in range(0, len(train)):\n",
    "    t0 = train[i][0]\n",
    "    temp = segmenter.segment(t0)\n",
    "    print i, temp\n",
    "    temp = (temp, 'neg')\n",
    "    res.append(temp)"
   ]
  },
  {
   "cell_type": "code",
   "execution_count": 11,
   "metadata": {
    "collapsed": false
   },
   "outputs": [
    {
     "name": "stdout",
     "output_type": "stream",
     "text": [
      "neg\n"
     ]
    }
   ],
   "source": [
    "print res[0][1]"
   ]
  },
  {
   "cell_type": "code",
   "execution_count": 119,
   "metadata": {
    "collapsed": true
   },
   "outputs": [],
   "source": [
    "fname1 = '../data/huizhou.neg'"
   ]
  },
  {
   "cell_type": "code",
   "execution_count": 120,
   "metadata": {
    "collapsed": true
   },
   "outputs": [],
   "source": [
    "def get_columns2():\n",
    "    return ('token title', 'flag') \n",
    "def get_empty_columns2():\n",
    "    return ('', '') "
   ]
  },
  {
   "cell_type": "code",
   "execution_count": 121,
   "metadata": {
    "collapsed": false
   },
   "outputs": [],
   "source": [
    "if os.path.isfile(fname1): \n",
    "    new_df = pd.read_csv(fname1)\n",
    "    idx = len(new_df.index)\n",
    "else:\n",
    "    new_df = pd.DataFrame(columns = get_columns())\n",
    "    idx = 0"
   ]
  },
  {
   "cell_type": "code",
   "execution_count": 122,
   "metadata": {
    "collapsed": false
   },
   "outputs": [
    {
     "data": {
      "text/html": [
       "<div>\n",
       "<table border=\"1\" class=\"dataframe\">\n",
       "  <thead>\n",
       "    <tr style=\"text-align: right;\">\n",
       "      <th></th>\n",
       "      <th>token title</th>\n",
       "      <th>flag</th>\n",
       "    </tr>\n",
       "  </thead>\n",
       "  <tbody>\n",
       "    <tr>\n",
       "      <th>0</th>\n",
       "      <td>婆婆 媳妇 那些 事 2 ( 21 ) - 婆婆 媳妇 那些 事\\n</td>\n",
       "      <td>neg</td>\n",
       "    </tr>\n",
       "    <tr>\n",
       "      <th>1</th>\n",
       "      <td>《 金色 夜叉 》\\n</td>\n",
       "      <td>neg</td>\n",
       "    </tr>\n",
       "    <tr>\n",
       "      <th>2</th>\n",
       "      <td>85 岁 花鼓戏 传承 人 的 心愿\\n</td>\n",
       "      <td>neg</td>\n",
       "    </tr>\n",
       "    <tr>\n",
       "      <th>3</th>\n",
       "      <td>内 关穴-- 打开 心结 ， 养颜 养心 的 美丽 穴 ( 1 ) - 黄帝内经 使用 手册\\n</td>\n",
       "      <td>neg</td>\n",
       "    </tr>\n",
       "    <tr>\n",
       "      <th>4</th>\n",
       "      <td>你 会 挑选 花草 茶 吗\\n</td>\n",
       "      <td>neg</td>\n",
       "    </tr>\n",
       "    <tr>\n",
       "      <th>5</th>\n",
       "      <td>宋 国权 ： 深入 学习 贯彻 省 第十 次 党代会 精神\\n</td>\n",
       "      <td>neg</td>\n",
       "    </tr>\n",
       "    <tr>\n",
       "      <th>6</th>\n",
       "      <td>赵 普又 回乡 做 公益 给 池州 乡村 贫困 孩子 送 新 书包\\n</td>\n",
       "      <td>neg</td>\n",
       "    </tr>\n",
       "    <tr>\n",
       "      <th>7</th>\n",
       "      <td>凌云 出席 合肥 市委 常委 扩大 会议 并 讲话\\n</td>\n",
       "      <td>neg</td>\n",
       "    </tr>\n",
       "    <tr>\n",
       "      <th>8</th>\n",
       "      <td>今年 将 实行 人大代表 履 职 登记 制度\\n</td>\n",
       "      <td>neg</td>\n",
       "    </tr>\n",
       "    <tr>\n",
       "      <th>9</th>\n",
       "      <td>巢湖 市政府 与 农行 安徽省 分行 营业部 举行 政 银 合作 签约 仪式\\n</td>\n",
       "      <td>neg</td>\n",
       "    </tr>\n",
       "    <tr>\n",
       "      <th>10</th>\n",
       "      <td>瑶 海区 ： 调度 打 传 工作 向 清零 冲刺\\n</td>\n",
       "      <td>neg</td>\n",
       "    </tr>\n",
       "    <tr>\n",
       "      <th>11</th>\n",
       "      <td>阜阳 楹 烽 光电 材料 有限公司 正式 投产 运营\\n</td>\n",
       "      <td>neg</td>\n",
       "    </tr>\n",
       "    <tr>\n",
       "      <th>12</th>\n",
       "      <td>你 会 挑选 花草 茶 吗\\n</td>\n",
       "      <td>neg</td>\n",
       "    </tr>\n",
       "    <tr>\n",
       "      <th>13</th>\n",
       "      <td>巩固 改 作风 成果 防止 坏 作风 反弹\\n</td>\n",
       "      <td>neg</td>\n",
       "    </tr>\n",
       "    <tr>\n",
       "      <th>14</th>\n",
       "      <td>朱 然墓 出土 三 国 贵族 生活 图 漆 盘\\n</td>\n",
       "      <td>neg</td>\n",
       "    </tr>\n",
       "    <tr>\n",
       "      <th>15</th>\n",
       "      <td>关于 输血 的 几 个 真相 你 必须 得 知道\\n</td>\n",
       "      <td>neg</td>\n",
       "    </tr>\n",
       "    <tr>\n",
       "      <th>16</th>\n",
       "      <td>巩固 改 作风 成果 防止 坏 作风 反弹\\n</td>\n",
       "      <td>neg</td>\n",
       "    </tr>\n",
       "    <tr>\n",
       "      <th>17</th>\n",
       "      <td>省委 “ 讲 看齐 、 见 行动 ” 学习 讨论 督查组 到 阜阳市 颍泉区 督查\\n</td>\n",
       "      <td>neg</td>\n",
       "    </tr>\n",
       "    <tr>\n",
       "      <th>18</th>\n",
       "      <td>东至县 华 龙洞 古人类 遗址 重大 考古 发现\\n</td>\n",
       "      <td>neg</td>\n",
       "    </tr>\n",
       "    <tr>\n",
       "      <th>19</th>\n",
       "      <td>曹军 战马 饮 水地 旧日 骆 岗 欲 换装\\n</td>\n",
       "      <td>neg</td>\n",
       "    </tr>\n",
       "  </tbody>\n",
       "</table>\n",
       "</div>"
      ],
      "text/plain": [
       "                                         token title flag\n",
       "0                 婆婆 媳妇 那些 事 2 ( 21 ) - 婆婆 媳妇 那些 事\\n  neg\n",
       "1                                        《 金色 夜叉 》\\n  neg\n",
       "2                               85 岁 花鼓戏 传承 人 的 心愿\\n  neg\n",
       "3   内 关穴-- 打开 心结 ， 养颜 养心 的 美丽 穴 ( 1 ) - 黄帝内经 使用 手册\\n  neg\n",
       "4                                    你 会 挑选 花草 茶 吗\\n  neg\n",
       "5                    宋 国权 ： 深入 学习 贯彻 省 第十 次 党代会 精神\\n  neg\n",
       "6                赵 普又 回乡 做 公益 给 池州 乡村 贫困 孩子 送 新 书包\\n  neg\n",
       "7                        凌云 出席 合肥 市委 常委 扩大 会议 并 讲话\\n  neg\n",
       "8                           今年 将 实行 人大代表 履 职 登记 制度\\n  neg\n",
       "9           巢湖 市政府 与 农行 安徽省 分行 营业部 举行 政 银 合作 签约 仪式\\n  neg\n",
       "10                        瑶 海区 ： 调度 打 传 工作 向 清零 冲刺\\n  neg\n",
       "11                      阜阳 楹 烽 光电 材料 有限公司 正式 投产 运营\\n  neg\n",
       "12                                   你 会 挑选 花草 茶 吗\\n  neg\n",
       "13                           巩固 改 作风 成果 防止 坏 作风 反弹\\n  neg\n",
       "14                         朱 然墓 出土 三 国 贵族 生活 图 漆 盘\\n  neg\n",
       "15                        关于 输血 的 几 个 真相 你 必须 得 知道\\n  neg\n",
       "16                           巩固 改 作风 成果 防止 坏 作风 反弹\\n  neg\n",
       "17       省委 “ 讲 看齐 、 见 行动 ” 学习 讨论 督查组 到 阜阳市 颍泉区 督查\\n  neg\n",
       "18                        东至县 华 龙洞 古人类 遗址 重大 考古 发现\\n  neg\n",
       "19                          曹军 战马 饮 水地 旧日 骆 岗 欲 换装\\n  neg"
      ]
     },
     "execution_count": 122,
     "metadata": {},
     "output_type": "execute_result"
    }
   ],
   "source": [
    "new_df.head(20)"
   ]
  },
  {
   "cell_type": "code",
   "execution_count": 123,
   "metadata": {
    "collapsed": false
   },
   "outputs": [],
   "source": [
    "print idx"
   ]
  },
  {
   "cell_type": "code",
   "execution_count": 125,
   "metadata": {
    "collapsed": true
   },
   "outputs": [],
   "source": [
    "start = idx"
   ]
  },
  {
   "cell_type": "code",
   "execution_count": 126,
   "metadata": {
    "collapsed": false
   },
   "outputs": [],
   "source": [
    "for t in res:\n",
    "    new_df.loc[idx] = get_empty_columns2()\n",
    "    t0 = res[idx-start][0]\n",
    "    new_df.loc[idx]['token title'] = t0\n",
    "    new_df.loc[idx]['flag'] = 'neg'\n",
    "    idx += 1"
   ]
  },
  {
   "cell_type": "code",
   "execution_count": 127,
   "metadata": {
    "collapsed": false
   },
   "outputs": [
    {
     "data": {
      "text/html": [
       "<div>\n",
       "<table border=\"1\" class=\"dataframe\">\n",
       "  <thead>\n",
       "    <tr style=\"text-align: right;\">\n",
       "      <th></th>\n",
       "      <th>token title</th>\n",
       "      <th>flag</th>\n",
       "    </tr>\n",
       "  </thead>\n",
       "  <tbody>\n",
       "    <tr>\n",
       "      <th>0</th>\n",
       "      <td>婆婆 媳妇 那些 事 2 ( 21 ) - 婆婆 媳妇 那些 事\\n</td>\n",
       "      <td>neg</td>\n",
       "    </tr>\n",
       "    <tr>\n",
       "      <th>1</th>\n",
       "      <td>《 金色 夜叉 》\\n</td>\n",
       "      <td>neg</td>\n",
       "    </tr>\n",
       "    <tr>\n",
       "      <th>2</th>\n",
       "      <td>85 岁 花鼓戏 传承 人 的 心愿\\n</td>\n",
       "      <td>neg</td>\n",
       "    </tr>\n",
       "    <tr>\n",
       "      <th>3</th>\n",
       "      <td>内 关穴-- 打开 心结 ， 养颜 养心 的 美丽 穴 ( 1 ) - 黄帝内经 使用 手册\\n</td>\n",
       "      <td>neg</td>\n",
       "    </tr>\n",
       "    <tr>\n",
       "      <th>4</th>\n",
       "      <td>你 会 挑选 花草 茶 吗\\n</td>\n",
       "      <td>neg</td>\n",
       "    </tr>\n",
       "    <tr>\n",
       "      <th>5</th>\n",
       "      <td>宋 国权 ： 深入 学习 贯彻 省 第十 次 党代会 精神\\n</td>\n",
       "      <td>neg</td>\n",
       "    </tr>\n",
       "    <tr>\n",
       "      <th>6</th>\n",
       "      <td>赵 普又 回乡 做 公益 给 池州 乡村 贫困 孩子 送 新 书包\\n</td>\n",
       "      <td>neg</td>\n",
       "    </tr>\n",
       "    <tr>\n",
       "      <th>7</th>\n",
       "      <td>凌云 出席 合肥 市委 常委 扩大 会议 并 讲话\\n</td>\n",
       "      <td>neg</td>\n",
       "    </tr>\n",
       "    <tr>\n",
       "      <th>8</th>\n",
       "      <td>今年 将 实行 人大代表 履 职 登记 制度\\n</td>\n",
       "      <td>neg</td>\n",
       "    </tr>\n",
       "    <tr>\n",
       "      <th>9</th>\n",
       "      <td>巢湖 市政府 与 农行 安徽省 分行 营业部 举行 政 银 合作 签约 仪式\\n</td>\n",
       "      <td>neg</td>\n",
       "    </tr>\n",
       "    <tr>\n",
       "      <th>10</th>\n",
       "      <td>瑶 海区 ： 调度 打 传 工作 向 清零 冲刺\\n</td>\n",
       "      <td>neg</td>\n",
       "    </tr>\n",
       "    <tr>\n",
       "      <th>11</th>\n",
       "      <td>阜阳 楹 烽 光电 材料 有限公司 正式 投产 运营\\n</td>\n",
       "      <td>neg</td>\n",
       "    </tr>\n",
       "    <tr>\n",
       "      <th>12</th>\n",
       "      <td>你 会 挑选 花草 茶 吗\\n</td>\n",
       "      <td>neg</td>\n",
       "    </tr>\n",
       "    <tr>\n",
       "      <th>13</th>\n",
       "      <td>巩固 改 作风 成果 防止 坏 作风 反弹\\n</td>\n",
       "      <td>neg</td>\n",
       "    </tr>\n",
       "    <tr>\n",
       "      <th>14</th>\n",
       "      <td>朱 然墓 出土 三 国 贵族 生活 图 漆 盘\\n</td>\n",
       "      <td>neg</td>\n",
       "    </tr>\n",
       "    <tr>\n",
       "      <th>15</th>\n",
       "      <td>关于 输血 的 几 个 真相 你 必须 得 知道\\n</td>\n",
       "      <td>neg</td>\n",
       "    </tr>\n",
       "    <tr>\n",
       "      <th>16</th>\n",
       "      <td>巩固 改 作风 成果 防止 坏 作风 反弹\\n</td>\n",
       "      <td>neg</td>\n",
       "    </tr>\n",
       "    <tr>\n",
       "      <th>17</th>\n",
       "      <td>省委 “ 讲 看齐 、 见 行动 ” 学习 讨论 督查组 到 阜阳市 颍泉区 督查\\n</td>\n",
       "      <td>neg</td>\n",
       "    </tr>\n",
       "    <tr>\n",
       "      <th>18</th>\n",
       "      <td>东至县 华 龙洞 古人类 遗址 重大 考古 发现\\n</td>\n",
       "      <td>neg</td>\n",
       "    </tr>\n",
       "    <tr>\n",
       "      <th>19</th>\n",
       "      <td>曹军 战马 饮 水地 旧日 骆 岗 欲 换装\\n</td>\n",
       "      <td>neg</td>\n",
       "    </tr>\n",
       "    <tr>\n",
       "      <th>20</th>\n",
       "      <td>中共 凤城 临时 小组 皖东 大地 上 的 最 早 党组织\\n</td>\n",
       "      <td>neg</td>\n",
       "    </tr>\n",
       "    <tr>\n",
       "      <th>21</th>\n",
       "      <td>陈 独秀 与 中共 历史 上 的 第一 个 工人 党员\\n</td>\n",
       "      <td>neg</td>\n",
       "    </tr>\n",
       "    <tr>\n",
       "      <th>22</th>\n",
       "      <td>心率 和 血压 要 一 起降 心跳 越快 ， 出现 心肌梗死 、 脑 卒中 等 心脑血管 不...</td>\n",
       "      <td>neg</td>\n",
       "    </tr>\n",
       "    <tr>\n",
       "      <th>23</th>\n",
       "      <td>常 斗嘴 的 夫妻 更 和谐\\n</td>\n",
       "      <td>neg</td>\n",
       "    </tr>\n",
       "    <tr>\n",
       "      <th>24</th>\n",
       "      <td>致 曾经 离 我们 而 去 的 牙齿\\n</td>\n",
       "      <td>neg</td>\n",
       "    </tr>\n",
       "    <tr>\n",
       "      <th>25</th>\n",
       "      <td>药品 注册 申报 别 扎堆 总局 发布 282 个 过度 重复 品种 提示 信息\\n</td>\n",
       "      <td>neg</td>\n",
       "    </tr>\n",
       "    <tr>\n",
       "      <th>26</th>\n",
       "      <td>气温 骤降 秋凉 需 吃 这 几 件 样\\n</td>\n",
       "      <td>neg</td>\n",
       "    </tr>\n",
       "    <tr>\n",
       "      <th>27</th>\n",
       "      <td>将 健康 融入 到 所有 政策\\n</td>\n",
       "      <td>neg</td>\n",
       "    </tr>\n",
       "    <tr>\n",
       "      <th>28</th>\n",
       "      <td>省委 “ 讲 看齐 、 见 行动 ” 学习 讨论 督查组 到 阜阳市 颍泉区 督查\\n</td>\n",
       "      <td>neg</td>\n",
       "    </tr>\n",
       "    <tr>\n",
       "      <th>29</th>\n",
       "      <td>严肃 党内 政治 生活 重在 增强 “ 四 性 ”\\n</td>\n",
       "      <td>neg</td>\n",
       "    </tr>\n",
       "    <tr>\n",
       "      <th>30</th>\n",
       "      <td>巩固 改 作风 成果 防止 坏 作风 反弹\\n</td>\n",
       "      <td>neg</td>\n",
       "    </tr>\n",
       "    <tr>\n",
       "      <th>31</th>\n",
       "      <td>朱 然墓 出土 三 国 贵族 生活 图 漆 盘\\n</td>\n",
       "      <td>neg</td>\n",
       "    </tr>\n",
       "    <tr>\n",
       "      <th>32</th>\n",
       "      <td>关于 输血 的 几 个 真相 你 必须 得 知道\\n</td>\n",
       "      <td>neg</td>\n",
       "    </tr>\n",
       "    <tr>\n",
       "      <th>33</th>\n",
       "      <td>巩固 改 作风 成果 防止 坏 作风 反弹\\n</td>\n",
       "      <td>neg</td>\n",
       "    </tr>\n",
       "    <tr>\n",
       "      <th>34</th>\n",
       "      <td>滁州市 召开 2013-2014年 度 省级 农民 文化 乐园 服务 情\\n</td>\n",
       "      <td>neg</td>\n",
       "    </tr>\n",
       "    <tr>\n",
       "      <th>35</th>\n",
       "      <td>中外 鼓舞 精粹 汇聚 宝山 凤阳 花鼓 之 花 精彩 绽放\\n</td>\n",
       "      <td>neg</td>\n",
       "    </tr>\n",
       "    <tr>\n",
       "      <th>36</th>\n",
       "      <td>淮南市 书画家 一 行 作 访 安徽 缘 酒集\\n</td>\n",
       "      <td>neg</td>\n",
       "    </tr>\n",
       "    <tr>\n",
       "      <th>37</th>\n",
       "      <td>60 年代 初 大批 扬州 人 曾 迁徙 安\\n</td>\n",
       "      <td>neg</td>\n",
       "    </tr>\n",
       "    <tr>\n",
       "      <th>38</th>\n",
       "      <td>《 安徽 暨 六安 抗日 烽火 》 图片展 8月 18日 正式 展出\\n</td>\n",
       "      <td>neg</td>\n",
       "    </tr>\n",
       "    <tr>\n",
       "      <th>39</th>\n",
       "      <td>安庆 文 广 新 局到 潜山 督查 黄梅戏 艺术节 筹备 情\\n</td>\n",
       "      <td>neg</td>\n",
       "    </tr>\n",
       "    <tr>\n",
       "      <th>40</th>\n",
       "      <td>池州 端午 “ 世界 村 杯 ” 杏花村 龙舟 竞 渡 圆满 落幕\\n</td>\n",
       "      <td>neg</td>\n",
       "    </tr>\n",
       "    <tr>\n",
       "      <th>41</th>\n",
       "      <td>亳州市 “ 劳动者 之 歌 ” 美术 、 书法 、 摄影展 开展\\n</td>\n",
       "      <td>neg</td>\n",
       "    </tr>\n",
       "    <tr>\n",
       "      <th>42</th>\n",
       "      <td>金寨县 桃岭乡 开展 庆祝 “ 三八 ” 节 全民 健身 活动\\n</td>\n",
       "      <td>neg</td>\n",
       "    </tr>\n",
       "    <tr>\n",
       "      <th>43</th>\n",
       "      <td>剧作家 何 修 电视 剧本 《 九 莲 》 全国 影视 论 剑 称雄\\n</td>\n",
       "      <td>neg</td>\n",
       "    </tr>\n",
       "    <tr>\n",
       "      <th>44</th>\n",
       "      <td>全国 “ 老体协 之 花 ” 在 凤 竞相 绽放\\n</td>\n",
       "      <td>neg</td>\n",
       "    </tr>\n",
       "    <tr>\n",
       "      <th>45</th>\n",
       "      <td>央视 《 致富 经 》 再 访 凤阳\\n</td>\n",
       "      <td>neg</td>\n",
       "    </tr>\n",
       "    <tr>\n",
       "      <th>46</th>\n",
       "      <td>中外 鼓舞 精粹 汇聚 宝山 凤阳 花鼓 之 花 精彩 绽放\\n</td>\n",
       "      <td>neg</td>\n",
       "    </tr>\n",
       "    <tr>\n",
       "      <th>47</th>\n",
       "      <td>老 物件 针 夹子 ： 把 母爱 密密实实 地 纳 进 鞋 底里\\n</td>\n",
       "      <td>neg</td>\n",
       "    </tr>\n",
       "    <tr>\n",
       "      <th>48</th>\n",
       "      <td>四 块 公交 站牌 背后 的 年代 记忆\\n</td>\n",
       "      <td>neg</td>\n",
       "    </tr>\n",
       "    <tr>\n",
       "      <th>49</th>\n",
       "      <td>滁州市 召开 2013-2014年 度 省级 农民 文化 乐园 服务 情\\n</td>\n",
       "      <td>neg</td>\n",
       "    </tr>\n",
       "    <tr>\n",
       "      <th>50</th>\n",
       "      <td>中外 鼓舞 精粹 汇聚 宝山 凤阳 花鼓 之 花 精彩 绽放\\n</td>\n",
       "      <td>neg</td>\n",
       "    </tr>\n",
       "    <tr>\n",
       "      <th>51</th>\n",
       "      <td>淮南市 书画家 一 行 作 访 安徽 缘 酒集\\n</td>\n",
       "      <td>neg</td>\n",
       "    </tr>\n",
       "    <tr>\n",
       "      <th>52</th>\n",
       "      <td>60 年代 初 大批 扬州 人 曾 迁徙 安\\n</td>\n",
       "      <td>neg</td>\n",
       "    </tr>\n",
       "    <tr>\n",
       "      <th>53</th>\n",
       "      <td>《 安徽 暨 六安 抗日 烽火 》 图片展 8月 18日 正式 展出\\n</td>\n",
       "      <td>neg</td>\n",
       "    </tr>\n",
       "  </tbody>\n",
       "</table>\n",
       "</div>"
      ],
      "text/plain": [
       "                                          token title flag\n",
       "0                  婆婆 媳妇 那些 事 2 ( 21 ) - 婆婆 媳妇 那些 事\\n  neg\n",
       "1                                         《 金色 夜叉 》\\n  neg\n",
       "2                                85 岁 花鼓戏 传承 人 的 心愿\\n  neg\n",
       "3    内 关穴-- 打开 心结 ， 养颜 养心 的 美丽 穴 ( 1 ) - 黄帝内经 使用 手册\\n  neg\n",
       "4                                     你 会 挑选 花草 茶 吗\\n  neg\n",
       "5                     宋 国权 ： 深入 学习 贯彻 省 第十 次 党代会 精神\\n  neg\n",
       "6                 赵 普又 回乡 做 公益 给 池州 乡村 贫困 孩子 送 新 书包\\n  neg\n",
       "7                         凌云 出席 合肥 市委 常委 扩大 会议 并 讲话\\n  neg\n",
       "8                            今年 将 实行 人大代表 履 职 登记 制度\\n  neg\n",
       "9            巢湖 市政府 与 农行 安徽省 分行 营业部 举行 政 银 合作 签约 仪式\\n  neg\n",
       "10                         瑶 海区 ： 调度 打 传 工作 向 清零 冲刺\\n  neg\n",
       "11                       阜阳 楹 烽 光电 材料 有限公司 正式 投产 运营\\n  neg\n",
       "12                                    你 会 挑选 花草 茶 吗\\n  neg\n",
       "13                            巩固 改 作风 成果 防止 坏 作风 反弹\\n  neg\n",
       "14                          朱 然墓 出土 三 国 贵族 生活 图 漆 盘\\n  neg\n",
       "15                         关于 输血 的 几 个 真相 你 必须 得 知道\\n  neg\n",
       "16                            巩固 改 作风 成果 防止 坏 作风 反弹\\n  neg\n",
       "17        省委 “ 讲 看齐 、 见 行动 ” 学习 讨论 督查组 到 阜阳市 颍泉区 督查\\n  neg\n",
       "18                         东至县 华 龙洞 古人类 遗址 重大 考古 发现\\n  neg\n",
       "19                           曹军 战马 饮 水地 旧日 骆 岗 欲 换装\\n  neg\n",
       "20                    中共 凤城 临时 小组 皖东 大地 上 的 最 早 党组织\\n  neg\n",
       "21                      陈 独秀 与 中共 历史 上 的 第一 个 工人 党员\\n  neg\n",
       "22  心率 和 血压 要 一 起降 心跳 越快 ， 出现 心肌梗死 、 脑 卒中 等 心脑血管 不...  neg\n",
       "23                                   常 斗嘴 的 夫妻 更 和谐\\n  neg\n",
       "24                               致 曾经 离 我们 而 去 的 牙齿\\n  neg\n",
       "25         药品 注册 申报 别 扎堆 总局 发布 282 个 过度 重复 品种 提示 信息\\n  neg\n",
       "26                             气温 骤降 秋凉 需 吃 这 几 件 样\\n  neg\n",
       "27                                  将 健康 融入 到 所有 政策\\n  neg\n",
       "28        省委 “ 讲 看齐 、 见 行动 ” 学习 讨论 督查组 到 阜阳市 颍泉区 督查\\n  neg\n",
       "29                        严肃 党内 政治 生活 重在 增强 “ 四 性 ”\\n  neg\n",
       "30                            巩固 改 作风 成果 防止 坏 作风 反弹\\n  neg\n",
       "31                          朱 然墓 出土 三 国 贵族 生活 图 漆 盘\\n  neg\n",
       "32                         关于 输血 的 几 个 真相 你 必须 得 知道\\n  neg\n",
       "33                            巩固 改 作风 成果 防止 坏 作风 反弹\\n  neg\n",
       "34             滁州市 召开 2013-2014年 度 省级 农民 文化 乐园 服务 情\\n  neg\n",
       "35                   中外 鼓舞 精粹 汇聚 宝山 凤阳 花鼓 之 花 精彩 绽放\\n  neg\n",
       "36                          淮南市 书画家 一 行 作 访 安徽 缘 酒集\\n  neg\n",
       "37                           60 年代 初 大批 扬州 人 曾 迁徙 安\\n  neg\n",
       "38               《 安徽 暨 六安 抗日 烽火 》 图片展 8月 18日 正式 展出\\n  neg\n",
       "39                   安庆 文 广 新 局到 潜山 督查 黄梅戏 艺术节 筹备 情\\n  neg\n",
       "40                池州 端午 “ 世界 村 杯 ” 杏花村 龙舟 竞 渡 圆满 落幕\\n  neg\n",
       "41                 亳州市 “ 劳动者 之 歌 ” 美术 、 书法 、 摄影展 开展\\n  neg\n",
       "42                  金寨县 桃岭乡 开展 庆祝 “ 三八 ” 节 全民 健身 活动\\n  neg\n",
       "43               剧作家 何 修 电视 剧本 《 九 莲 》 全国 影视 论 剑 称雄\\n  neg\n",
       "44                         全国 “ 老体协 之 花 ” 在 凤 竞相 绽放\\n  neg\n",
       "45                               央视 《 致富 经 》 再 访 凤阳\\n  neg\n",
       "46                   中外 鼓舞 精粹 汇聚 宝山 凤阳 花鼓 之 花 精彩 绽放\\n  neg\n",
       "47                 老 物件 针 夹子 ： 把 母爱 密密实实 地 纳 进 鞋 底里\\n  neg\n",
       "48                             四 块 公交 站牌 背后 的 年代 记忆\\n  neg\n",
       "49             滁州市 召开 2013-2014年 度 省级 农民 文化 乐园 服务 情\\n  neg\n",
       "50                   中外 鼓舞 精粹 汇聚 宝山 凤阳 花鼓 之 花 精彩 绽放\\n  neg\n",
       "51                          淮南市 书画家 一 行 作 访 安徽 缘 酒集\\n  neg\n",
       "52                           60 年代 初 大批 扬州 人 曾 迁徙 安\\n  neg\n",
       "53               《 安徽 暨 六安 抗日 烽火 》 图片展 8月 18日 正式 展出\\n  neg"
      ]
     },
     "execution_count": 127,
     "metadata": {},
     "output_type": "execute_result"
    }
   ],
   "source": [
    "new_df.head(60)"
   ]
  },
  {
   "cell_type": "code",
   "execution_count": 55,
   "metadata": {
    "collapsed": true
   },
   "outputs": [],
   "source": [
    "new_df.to_csv('../data/huizhou.neg', encoding='utf-8', index=False)"
   ]
  },
  {
   "cell_type": "code",
   "execution_count": 105,
   "metadata": {
    "collapsed": true
   },
   "outputs": [],
   "source": [
    "res = []"
   ]
  },
  {
   "cell_type": "code",
   "execution_count": 134,
   "metadata": {
    "collapsed": true
   },
   "outputs": [],
   "source": [
    "new_df = pd.read_csv('../data/huizhou.neg')\n",
    "#new_df = pd.read_csv('../data/huizhou-weixin.pos')"
   ]
  },
  {
   "cell_type": "code",
   "execution_count": 133,
   "metadata": {
    "collapsed": false
   },
   "outputs": [],
   "source": [
    "new_df.info()"
   ]
  },
  {
   "cell_type": "code",
   "execution_count": 135,
   "metadata": {
    "collapsed": false
   },
   "outputs": [],
   "source": [
    "for i in range(0, len(new_df)):\n",
    "    t0 = new_df.loc[i]['token title']\n",
    "    t1 = new_df.loc[i]['flag']\n",
    "    temp = (t0, t1)\n",
    "    #print temp\n",
    "    res.append(temp)"
   ]
  },
  {
   "cell_type": "code",
   "execution_count": 136,
   "metadata": {
    "collapsed": true
   },
   "outputs": [],
   "source": [
    "print len(res)"
   ]
  },
  {
   "cell_type": "code",
   "execution_count": 137,
   "metadata": {
    "collapsed": false
   },
   "outputs": [],
   "source": [
    "cl = NaiveBayesClassifier(res)"
   ]
  },
  {
   "cell_type": "code",
   "execution_count": 138,
   "metadata": {
    "collapsed": false
   },
   "outputs": [
    {
     "data": {
      "text/plain": [
       "'pos'"
      ]
     },
     "execution_count": 138,
     "metadata": {},
     "output_type": "execute_result"
    }
   ],
   "source": [
    "cl.classify(\"徽雕 技艺 代代 传\")"
   ]
  },
  {
   "cell_type": "code",
   "execution_count": 139,
   "metadata": {
    "collapsed": false
   },
   "outputs": [
    {
     "data": {
      "text/plain": [
       "'neg'"
      ]
     },
     "execution_count": 139,
     "metadata": {},
     "output_type": "execute_result"
    }
   ],
   "source": [
    "cl.classify(\"致 曾经 离 我们 而 去 的 牙齿\")"
   ]
  },
  {
   "cell_type": "code",
   "execution_count": 143,
   "metadata": {
    "collapsed": false
   },
   "outputs": [
    {
     "data": {
      "text/plain": [
       "'pos'"
      ]
     },
     "execution_count": 143,
     "metadata": {},
     "output_type": "execute_result"
    }
   ],
   "source": [
    "cl.classify(\"徽\")"
   ]
  },
  {
   "cell_type": "code",
   "execution_count": 16,
   "metadata": {
    "collapsed": false
   },
   "outputs": [],
   "source": [
    "#df = pd.read_csv('../data/nutch-crawl-huizhou-domain_only-02-14-2017-cleaned.csv')"
   ]
  },
  {
   "cell_type": "code",
   "execution_count": 27,
   "metadata": {
    "collapsed": true
   },
   "outputs": [],
   "source": [
    "df = pd.read_csv('../data/nutch-crawl-huizhou-only2-02-12-2017-cleaned.csv')"
   ]
  },
  {
   "cell_type": "code",
   "execution_count": 182,
   "metadata": {
    "collapsed": true
   },
   "outputs": [],
   "source": [
    "cnt = 0"
   ]
  },
  {
   "cell_type": "code",
   "execution_count": 31,
   "metadata": {
    "collapsed": false
   },
   "outputs": [
    {
     "name": "stdout",
     "output_type": "stream",
     "text": [
      "2001 心率和血压要一起降心跳越快，出现心肌梗死、脑卒中等心脑血管不良事件的风险就会越高 中安健康 中安在线\n",
      "2002 不戴眼镜，近视度数就不会涨？错！ 中安健康 中安在线\n",
      "2003 100对死亡夫妻中或有5对“夫妻癌”这三种癌最高发 中安健康 中安在线\n",
      "2004 常斗嘴的夫妻更和谐 中安健康 中安在线\n",
      "2005 致曾经离我们而去的牙齿 中安健康 中安在线\n",
      "2006 养老金并轨改革，细节要服从全局 中安健康 中安在线\n",
      "2007 药品注册申报别扎堆总局发布282个过度重复品种提示信息 中安健康 中安在线\n",
      "2008 研究显示欧美国家阿兹海默症患病率似有减缓趋势 中安健康 中安在线\n",
      "2009 这些生活习惯必定口臭口臭患者日常注意护理 中安健康 中安在线\n",
      "2010 气温骤降秋凉需吃这几件样 中安健康 中安在线\n",
      "2011 将健康融入到所有政策 中安健康 中安在线\n",
      "2012 无根豆芽赢了，别把食品安全的根丢了 中安健康 中安在线\n",
      "2013 没病不能乱补秋季进补慎防5大误区 中安健康 中安在线\n",
      "2014 老年节宣传系列科普：如何预防老年营养不良的发生 中安健康 中安在线\n",
      "2015 研究：芭比娃娃或引发女孩饮食失调 中安健康 中安在线\n",
      "2016 昆明脊灰疫苗：暂时短缺未来充足 中安健康 中安在线\n",
      "2017 为老人上门医疗首次在京试点范围确定为丰台、海淀、朝阳、东城四区卫计委明确试点上门服务属于合法职业行为 中安健康 中安在线\n",
      "2018 患者别拿刷牙出血不当回事 中安健康 中安在线\n",
      "2019 要想摆脱腹部赘肉？你需做到这4件事 中安健康 中安在线\n",
      "2020 红枣有益慎防吃错 8种情况不适宜吃枣 中安健康 中安在线\n",
      "2021 关于输血的几个真相你必须得知道 中安健康 中安在线\n",
      "2022 中秋过后贪凉当心凉出病 中安健康 中安在线\n",
      "2023 儿医缺口20万专属儿药只占2%如何解决儿科缺医少药困境 中安健康 中安在线\n",
      "2024 癌症真相：免疫力≠抗癌力！免疫失调才是元凶 中安健康 中安在线\n",
      "2025 秋分是什么意思？ 秋分养生方法及传统习俗 中安健康 中安在线\n",
      "2026 黄山市“多管齐下”促进民宿餐饮规范发展 中安健康 中安在线\n",
      "2027 帕金森病 一旦确诊应即刻治疗 中安健康 中安在线\n",
      "2028 秋分养生重健脾胃中医5法巧避胃肠病 中安健康 中安在线\n",
      "2029 研究：婴儿时期摄入鸡蛋花生或可预防过敏 中安健康 中安在线\n",
      "2030 吃烂了的水果可能致癌想防癌怎么吃水果好？ 中安健康 中安在线\n",
      "2031 十一长假将至 专家教你三招防止出境游信用卡遭盗刷 中安健康 中安在线\n",
      "2032 指甲上出现棱线女性要养肝 中安健康 中安在线\n",
      "2033 还敢喝？七种癌症和酒精直接有关 中安健康 中安在线\n",
      "2034 心脏病让“小天使”折翼儿童先心病最易“隐身” 中安健康 中安在线\n",
      "2035 “五管齐下”让黄昏季情感“保鲜” 中安健康 中安在线\n",
      "2036 国家卫生计生委：健康援藏要有“钉钉子”精神 中安健康 中安在线\n",
      "2037 性教育还是离青少年太远 中安健康 中安在线\n",
      "2038 腹腔镜下切肝可以“无血” 中安健康 中安在线\n",
      "2039 药品监管史研究与药品标准发展论坛举办 中安健康 中安在线\n",
      "2040 创新诊疗模式促中医院健康发展 中安健康 中安在线\n",
      "2041 小个黑豆纤维高 中安健康 中安在线\n",
      "2042 研究：孕妇食用含烟酰胺类食物可预防婴儿湿疹 中安健康 中安在线\n",
      "2043 压力山大！青年女性或因不堪重负而陷精神危机 中安健康 中安在线\n",
      "2044 “撸串”搭配蔬果或可防癌 中安健康 中安在线\n",
      "2045 晨起第一杯水这样喝多活20年 中安健康 中安在线\n",
      "2046 指甲上出现棱线提示女性一种大病 中安健康 中安在线\n",
      "2047 全国糖尿病肾病患者高达2430万 中安健康 中安在线\n",
      "2048 如何区分痔疮和肠癌 中安健康 中安在线\n",
      "2049 儿童用药不当会致聋 中安健康 中安在线\n",
      "2050 秋冬之交肾虚进补要对症 中安健康 中安在线\n",
      "2051 肝肾亏虚还总玩手机？当心眼睛抗议！ 中安健康 中安在线\n",
      "2052 阜阳成为区域医疗次中心 将打造2-3个高水平医疗中心 中安健康 中安在线\n",
      "2053 医校联手开拓肿瘤治疗新领域 中安健康 中安在线\n",
      "2054 淮北职防院高压氧舱正式投入使用 可治缺氧缺血性疾病 中安健康 中安在线\n",
      "2055 接种流感疫苗最佳时间到来 接种后免疫力可持续一年 中安健康 中安在线\n",
      "2056 给孩子用药 家长只凭经验不可取 中安健康 中安在线\n",
      "2057 干呕或是疾病症状 中安健康 中安在线\n",
      "2058 国家食品药品监管总局出台意见推动食药生产经营者完善追溯体系 中安健康 中安在线\n",
      "2059 国家总局发布国家医疗器械质量公告 中安健康 中安在线\n",
      "2060 皮肤病人有六类发物 中安健康 中安在线\n",
      "2061 患儿家属留言恐吓医生： 医治不力，“必将采取暴力手段” 中安健康 中安在线\n",
      "2062 苏州98岁运动达人每天爬山锻炼耳聪目明手脚麻利 中安健康 中安在线\n",
      "2063 全家组团查肛肠“二手”患者多 中安健康 中安在线\n",
      "2064 国庆假期狂追剧23岁姑娘患上急性青光眼 中安健康 中安在线\n",
      "2065 安徽老乡、春雨医生创始人张锐去世 年仅44岁 中安健康 中安在线\n",
      "2066 150名青年卫生志愿者赴基层驻点服务 中安健康 中安在线\n",
      "2067 春雨医生创始人猝死，这些心梗前兆千万别大意 中安健康 中安在线\n",
      "2068 范冰冰对瓶吹？喜欢喝酒的人注意这五点 中安健康 中安在线\n",
      "2069 吃货别愁！糖尿病其实不忌口 中安健康 中安在线\n",
      "2070 记住这几点你也能酿好葡萄酒 中安健康 中安在线\n",
      "2071 诺奖得主医学峰会聚焦精准医学 中安健康 中安在线\n",
      "2072 科技重大专项使传染病防控有了中国方案 中安健康 中安在线\n",
      "2073 越南平均每天200人死于癌症肺癌占比最大 中安健康 中安在线\n",
      "2074 全国高血压日呼吁“知晓您的血压” 中安健康 中安在线\n",
      "2075 老人看牙当心突然晕倒 中安健康 中安在线\n",
      "2076 细数健身几大误区：穿着帆布鞋就去运动 中安健康 中安在线\n",
      "2077 咖啡因或促进女性的大脑健康 中安健康 中安在线\n",
      "2078 指甲长这样预示有病 中安健康 中安在线\n",
      "2079 疯狂晒步数赢了排行却输了健康 中安健康 中安在线\n",
      "2080 北京市八十三个养老照料中心项目已开工三十七个 中安健康 中安在线\n",
      "2081 女人一虚就变丑 中安健康 中安在线\n",
      "2082 北京：3800名老人下月尝鲜失能补贴 中安健康 中安在线\n",
      "2083 调查显示：日本1/5劳动力面临“过劳死”风险 中安健康 中安在线\n",
      "2084 国家卫生计生委启动今年第二轮巡视 中安健康 中安在线\n",
      "2085 柿子+酸奶＝致命食品？康康姐：当季食物总被“黑”，真心着急有人信 中安健康 中安在线\n",
      "2086 哪种女人最旺夫 中安健康 中安在线\n",
      "2087 安徽全省所有公立医院执行药品采购\"两票制\" 中安健康 中安在线\n",
      "2088 世界镇痛日安医大二附院将有义诊活动 中安健康 中安在线\n",
      "2089 感冒清修订说明书 标注新生儿禁用 中安健康 中安在线\n",
      "2090 大脑当机？先别自杀试试重启 中安健康 中安在线\n",
      "2091 猝死为何缠上中青年人？ 中安健康 中安在线\n",
      "2092 孩子不舒服要不要去上学 中安健康 中安在线\n",
      "2093 “灰色童谣”风靡中小学当心误导孩子“视界观” 中安健康 中安在线\n",
      "2094 女性过早闭经激素依赖惹祸 中安健康 中安在线\n",
      "2095 糖友厨房：孜然尖椒牛肉 中安健康 中安在线\n",
      "2096 拍个片子，辐射有多大 中安健康 中安在线\n",
      "2097 入秋要防过敏性鼻炎 中安健康 中安在线\n",
      "2098 远离10种食物让你拥有洁白牙齿 中安健康 中安在线\n",
      "2099 美国耶鲁大学研究称感冒多吃好得快 中安健康 中安在线\n"
     ]
    }
   ],
   "source": [
    "cnt = 0\n",
    "for item in df['title']:\n",
    "    #if cnt < 100:\n",
    "    if cnt > 2000 and cnt < 2100:\n",
    "        print cnt, item\n",
    "        #print cl.classify(item)\n",
    "    cnt += 1"
   ]
  },
  {
   "cell_type": "code",
   "execution_count": 140,
   "metadata": {
    "collapsed": false
   },
   "outputs": [],
   "source": [
    "cl.show_informative_features(20)"
   ]
  },
  {
   "cell_type": "code",
   "execution_count": 143,
   "metadata": {
    "collapsed": false
   },
   "outputs": [
    {
     "ename": "AttributeError",
     "evalue": "'NaiveBayesClassifier' object has no attribute 'keywords'",
     "output_type": "error",
     "traceback": [
      "\u001b[0;31m---------------------------------------------------------------------------\u001b[0m",
      "\u001b[0;31mAttributeError\u001b[0m                            Traceback (most recent call last)",
      "\u001b[0;32m<ipython-input-143-89d5cf6ab73b>\u001b[0m in \u001b[0;36m<module>\u001b[0;34m()\u001b[0m\n\u001b[0;32m----> 1\u001b[0;31m \u001b[0mcl\u001b[0m\u001b[0;34m.\u001b[0m\u001b[0mkeywords\u001b[0m\u001b[0;34m(\u001b[0m\u001b[0;34m)\u001b[0m\u001b[0;34m\u001b[0m\u001b[0m\n\u001b[0m",
      "\u001b[0;31mAttributeError\u001b[0m: 'NaiveBayesClassifier' object has no attribute 'keywords'"
     ]
    }
   ],
   "source": []
  },
  {
   "cell_type": "code",
   "execution_count": 85,
   "metadata": {
    "collapsed": false
   },
   "outputs": [],
   "source": [
    "from snownlp import SnowNLP"
   ]
  },
  {
   "cell_type": "code",
   "execution_count": 129,
   "metadata": {
    "collapsed": false
   },
   "outputs": [
    {
     "data": {
      "text/plain": [
       "0.9767675999295893"
      ]
     },
     "execution_count": 129,
     "metadata": {},
     "output_type": "execute_result"
    }
   ],
   "source": [
    "s = SnowNLP(u'这个东西真心很赞')\n",
    "\n",
    "s.words # [u'这个', u'东西', u'真心',\n",
    "# u'很', u'赞']\n",
    "\n",
    "s.tags # [(u'这个', u'r'), (u'东西', u'n'),\n",
    "# (u'真心', u'd'), (u'很', u'd'),\n",
    "# (u'赞', u'Vg')]\n",
    "\n",
    "s.sentiments # 0.9769663402895832 positive的概率"
   ]
  },
  {
   "cell_type": "code",
   "execution_count": 130,
   "metadata": {
    "collapsed": false
   },
   "outputs": [],
   "source": [
    "text = '自然语言处理是计算机科学领域与人工智能领域中的一个重要方向。\\\n",
    "它研究能实现人与计算机之间用自然语言进行有效通信的各种理论和方法。\\\n",
    "自然语言处理是一门融语言学、计算机科学、数学于一体的科学。\\\n",
    "因此，这一领域的研究将涉及自然语言，即人们日常使用的语言，\\\n",
    "所以它与语言学的研究有着密切的联系，但又有重要的区别。\\\n",
    "自然语言处理并不是一般地研究自然语言，\\\n",
    "而在于研制能有效地实现自然语言通信的计算机系统，\\\n",
    "特别是其中的软件系统。因而它是计算机科学的一部分。'"
   ]
  },
  {
   "cell_type": "code",
   "execution_count": 131,
   "metadata": {
    "collapsed": true
   },
   "outputs": [],
   "source": [
    "s = SnowNLP(text)"
   ]
  },
  {
   "cell_type": "code",
   "execution_count": 96,
   "metadata": {
    "collapsed": false
   },
   "outputs": [
    {
     "name": "stdout",
     "output_type": "stream",
     "text": [
      "这个东西真心很赞\n"
     ]
    }
   ],
   "source": [
    "print s.han"
   ]
  },
  {
   "cell_type": "code",
   "execution_count": 102,
   "metadata": {
    "collapsed": false
   },
   "outputs": [
    {
     "name": "stdout",
     "output_type": "stream",
     "text": [
      "赞\n"
     ]
    }
   ],
   "source": [
    "print s.keywords()[3]"
   ]
  },
  {
   "cell_type": "code",
   "execution_count": 103,
   "metadata": {
    "collapsed": false
   },
   "outputs": [
    {
     "name": "stdout",
     "output_type": "stream",
     "text": [
      "[(u'\\u8fd9\\u4e2a', u'r'), (u'\\u4e1c\\u897f', u'n'), (u'\\u771f\\u5fc3', u'd'), (u'\\u5f88', u'd'), (u'\\u8d5e', u'Vg')]\n"
     ]
    }
   ],
   "source": [
    "print s.tags"
   ]
  },
  {
   "cell_type": "code",
   "execution_count": 132,
   "metadata": {
    "collapsed": false
   },
   "outputs": [
    {
     "data": {
      "text/plain": [
       "0.5"
      ]
     },
     "execution_count": 132,
     "metadata": {},
     "output_type": "execute_result"
    }
   ],
   "source": [
    "s.sentiments"
   ]
  },
  {
   "cell_type": "code",
   "execution_count": 133,
   "metadata": {
    "collapsed": true
   },
   "outputs": [],
   "source": [
    "s = SnowNLP(u'「繁體字」「繁體中文」的叫法在臺灣亦很常見。')"
   ]
  },
  {
   "cell_type": "code",
   "execution_count": 134,
   "metadata": {
    "collapsed": false
   },
   "outputs": [
    {
     "data": {
      "text/plain": [
       "0.9030299791436573"
      ]
     },
     "execution_count": 134,
     "metadata": {},
     "output_type": "execute_result"
    }
   ],
   "source": [
    "s.sentiments"
   ]
  },
  {
   "cell_type": "code",
   "execution_count": 107,
   "metadata": {
    "collapsed": false
   },
   "outputs": [
    {
     "name": "stdout",
     "output_type": "stream",
     "text": [
      "「繁体字」「繁体中文」的叫法在台湾亦很常见。\n"
     ]
    }
   ],
   "source": [
    "print s.han"
   ]
  },
  {
   "cell_type": "code",
   "execution_count": 108,
   "metadata": {
    "collapsed": false
   },
   "outputs": [
    {
     "name": "stdout",
     "output_type": "stream",
     "text": [
      "[u'\\u300c', u'fan', u'\\u9ad4', u'zi', u'\\u300d\\u300c', u'fan', u'\\u9ad4', u'zhong', u'wen', u'\\u300d', u'de', u'jiao', u'fa', u'zai', u'\\u81fa', u'\\u7063', u'yi', u'hen', u'chang', u'\\u898b', u'\\u3002']\n"
     ]
    }
   ],
   "source": [
    "print s.pinyin"
   ]
  },
  {
   "cell_type": "code",
   "execution_count": 109,
   "metadata": {
    "collapsed": true
   },
   "outputs": [],
   "source": [
    "text = u'''\n",
    "自然语言处理是计算机科学领域与人工智能领域中的一个重要方向。\n",
    "它研究能实现人与计算机之间用自然语言进行有效通信的各种理论和方法。\n",
    "自然语言处理是一门融语言学、计算机科学、数学于一体的科学。\n",
    "因此，这一领域的研究将涉及自然语言，即人们日常使用的语言，\n",
    "所以它与语言学的研究有着密切的联系，但又有重要的区别。\n",
    "自然语言处理并不是一般地研究自然语言，\n",
    "而在于研制能有效地实现自然语言通信的计算机系统，\n",
    "特别是其中的软件系统。因而它是计算机科学的一部分。\n",
    "''' "
   ]
  },
  {
   "cell_type": "code",
   "execution_count": 110,
   "metadata": {
    "collapsed": true
   },
   "outputs": [],
   "source": [
    "s = SnowNLP(text)"
   ]
  },
  {
   "cell_type": "code",
   "execution_count": 142,
   "metadata": {
    "collapsed": false
   },
   "outputs": [
    {
     "name": "stdout",
     "output_type": "stream",
     "text": [
      "法\n"
     ]
    }
   ],
   "source": [
    "print s.keywords(5)[2]"
   ]
  },
  {
   "cell_type": "code",
   "execution_count": 119,
   "metadata": {
    "collapsed": false
   },
   "outputs": [
    {
     "name": "stdout",
     "output_type": "stream",
     "text": [
      "自然语言处理是一门融语言学、计算机科学、数学于一体的科学\n"
     ]
    }
   ],
   "source": [
    "print s.summary(3)[2]"
   ]
  },
  {
   "cell_type": "code",
   "execution_count": 121,
   "metadata": {
    "collapsed": false
   },
   "outputs": [
    {
     "ename": "TypeError",
     "evalue": "__init__() takes exactly 2 arguments (1 given)",
     "output_type": "error",
     "traceback": [
      "\u001b[0;31m---------------------------------------------------------------------------\u001b[0m",
      "\u001b[0;31mTypeError\u001b[0m                                 Traceback (most recent call last)",
      "\u001b[0;32m<ipython-input-121-314f80d241f5>\u001b[0m in \u001b[0;36m<module>\u001b[0;34m()\u001b[0m\n\u001b[0;32m----> 1\u001b[0;31m \u001b[0mcl\u001b[0m \u001b[0;34m=\u001b[0m \u001b[0mSnowNLP\u001b[0m\u001b[0;34m(\u001b[0m\u001b[0;34m)\u001b[0m\u001b[0;34m\u001b[0m\u001b[0m\n\u001b[0m",
      "\u001b[0;31mTypeError\u001b[0m: __init__() takes exactly 2 arguments (1 given)"
     ]
    }
   ],
   "source": [
    "cl = SnowNLP()"
   ]
  },
  {
   "cell_type": "code",
   "execution_count": 125,
   "metadata": {
    "collapsed": false
   },
   "outputs": [
    {
     "ename": "ImportError",
     "evalue": "No module named Bayes",
     "output_type": "error",
     "traceback": [
      "\u001b[0;31m---------------------------------------------------------------------------\u001b[0m",
      "\u001b[0;31mImportError\u001b[0m                               Traceback (most recent call last)",
      "\u001b[0;32m<ipython-input-125-ebf3184da6a1>\u001b[0m in \u001b[0;36m<module>\u001b[0;34m()\u001b[0m\n\u001b[0;32m----> 1\u001b[0;31m \u001b[0;32mfrom\u001b[0m \u001b[0msnownlp\u001b[0m\u001b[0;34m.\u001b[0m\u001b[0mBayes\u001b[0m \u001b[0;32mimport\u001b[0m \u001b[0mBayes\u001b[0m\u001b[0;34m\u001b[0m\u001b[0m\n\u001b[0m",
      "\u001b[0;31mImportError\u001b[0m: No module named Bayes"
     ]
    }
   ],
   "source": [
    "from snownlp.Bayes import Bayes"
   ]
  },
  {
   "cell_type": "code",
   "execution_count": null,
   "metadata": {
    "collapsed": true
   },
   "outputs": [],
   "source": []
  }
 ],
 "metadata": {
  "kernelspec": {
   "display_name": "Python 2",
   "language": "python",
   "name": "python2"
  },
  "language_info": {
   "codemirror_mode": {
    "name": "ipython",
    "version": 2
   },
   "file_extension": ".py",
   "mimetype": "text/x-python",
   "name": "python",
   "nbconvert_exporter": "python",
   "pygments_lexer": "ipython2",
   "version": "2.7.10"
  }
 },
 "nbformat": 4,
 "nbformat_minor": 2
}
