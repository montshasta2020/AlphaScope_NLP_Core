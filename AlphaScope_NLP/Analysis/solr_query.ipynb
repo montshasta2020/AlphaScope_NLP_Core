{
 "cells": [
  {
   "cell_type": "code",
   "execution_count": 1,
   "metadata": {
    "collapsed": true
   },
   "outputs": [],
   "source": [
    "import pandas as pd"
   ]
  },
  {
   "cell_type": "code",
   "execution_count": 2,
   "metadata": {
    "collapsed": true
   },
   "outputs": [],
   "source": [
    "df = pd.read_csv('../solr_query.csv')"
   ]
  },
  {
   "cell_type": "code",
   "execution_count": 3,
   "metadata": {
    "collapsed": false
   },
   "outputs": [
    {
     "name": "stdout",
     "output_type": "stream",
     "text": [
      "<class 'pandas.core.frame.DataFrame'>\n",
      "Int64Index: 5000 entries, 0 to 4999\n",
      "Data columns (total 11 columns):\n",
      "_version_    5000 non-null int64\n",
      "cache        56 non-null object\n",
      "segment      5000 non-null int64\n",
      "digest       5000 non-null object\n",
      "tstamp       5000 non-null object\n",
      "url          5000 non-null object\n",
      "anchor       1585 non-null object\n",
      "content      4866 non-null object\n",
      "id           5000 non-null object\n",
      "title        4813 non-null object\n",
      "boost        5000 non-null float64\n",
      "dtypes: float64(1), int64(2), object(8)\n",
      "memory usage: 468.8+ KB\n"
     ]
    }
   ],
   "source": [
    "df.info()"
   ]
  },
  {
   "cell_type": "code",
   "execution_count": 4,
   "metadata": {
    "collapsed": false
   },
   "outputs": [
    {
     "data": {
      "text/html": [
       "<div>\n",
       "<table border=\"1\" class=\"dataframe\">\n",
       "  <thead>\n",
       "    <tr style=\"text-align: right;\">\n",
       "      <th></th>\n",
       "      <th>_version_</th>\n",
       "      <th>cache</th>\n",
       "      <th>segment</th>\n",
       "      <th>digest</th>\n",
       "      <th>tstamp</th>\n",
       "      <th>url</th>\n",
       "      <th>anchor</th>\n",
       "      <th>content</th>\n",
       "      <th>id</th>\n",
       "      <th>title</th>\n",
       "      <th>boost</th>\n",
       "    </tr>\n",
       "  </thead>\n",
       "  <tbody>\n",
       "    <tr>\n",
       "      <th>0</th>\n",
       "      <td>1507939781876645888</td>\n",
       "      <td>NaN</td>\n",
       "      <td>20150728101935</td>\n",
       "      <td>018780b19631663651457e46cb0b1a75</td>\n",
       "      <td>2015-07-28T10:21:05.958Z</td>\n",
       "      <td>http://www.pace.edu/lubin/ms-in-customer-intel...</td>\n",
       "      <td>Pace U. MS in Customer Intelligence Analytics</td>\n",
       "      <td>Customer Intelligence and Analytics MS | Lubin...</td>\n",
       "      <td>http://www.pace.edu/lubin/ms-in-customer-intel...</td>\n",
       "      <td>Customer Intelligence and Analytics MS | Lubin...</td>\n",
       "      <td>0.011168</td>\n",
       "    </tr>\n",
       "    <tr>\n",
       "      <th>1</th>\n",
       "      <td>1507939781904957440</td>\n",
       "      <td>NaN</td>\n",
       "      <td>20150728101935</td>\n",
       "      <td>dfbd1ee66a4e792349591b88660c0956</td>\n",
       "      <td>2015-07-28T10:19:58.37Z</td>\n",
       "      <td>http://www.pacificcorp.com/</td>\n",
       "      <td>PacificEast Data Corporation</td>\n",
       "      <td>IIS7</td>\n",
       "      <td>http://www.pacificcorp.com/</td>\n",
       "      <td>IIS7</td>\n",
       "      <td>0.012276</td>\n",
       "    </tr>\n",
       "    <tr>\n",
       "      <th>2</th>\n",
       "      <td>1507939781906006016</td>\n",
       "      <td>NaN</td>\n",
       "      <td>20150728101935</td>\n",
       "      <td>dda35352a62217413e62e20e3d0a7d69</td>\n",
       "      <td>2015-07-28T10:19:56.751Z</td>\n",
       "      <td>http://www.papis.io/2015/</td>\n",
       "      <td>PAPIs '15\\, 2nd International Conference on Pr...</td>\n",
       "      <td>PAPIs '15 — PAPIs.io — Where makers of Predict...</td>\n",
       "      <td>http://www.papis.io/2015/</td>\n",
       "      <td>PAPIs '15 — PAPIs.io — Where makers of Predict...</td>\n",
       "      <td>0.015936</td>\n",
       "    </tr>\n",
       "    <tr>\n",
       "      <th>3</th>\n",
       "      <td>1507939781906006017</td>\n",
       "      <td>NaN</td>\n",
       "      <td>20150728101935</td>\n",
       "      <td>7af4adbd6df9139beb15cfdd111b8a0f</td>\n",
       "      <td>2015-07-28T10:20:07.905Z</td>\n",
       "      <td>http://www.partek.com/</td>\n",
       "      <td>Partek</td>\n",
       "      <td>Partek Inc. | NGS &amp; microarray data analysis s...</td>\n",
       "      <td>http://www.partek.com/</td>\n",
       "      <td>Partek Inc. | NGS &amp; microarray data analysis s...</td>\n",
       "      <td>0.010911</td>\n",
       "    </tr>\n",
       "    <tr>\n",
       "      <th>4</th>\n",
       "      <td>1507939781907054592</td>\n",
       "      <td>NaN</td>\n",
       "      <td>20150728101935</td>\n",
       "      <td>fd07acd3e4a6c7f5d79865b3cf16455f</td>\n",
       "      <td>2015-07-28T10:19:49.027Z</td>\n",
       "      <td>http://www.pce.uw.edu/certificates/data-scienc...</td>\n",
       "      <td>UW (University of Washington) Certificate in D...</td>\n",
       "      <td>Data Science Certificate | UW Professional &amp; C...</td>\n",
       "      <td>http://www.pce.uw.edu/certificates/data-scienc...</td>\n",
       "      <td>Data Science Certificate | UW Professional &amp; C...</td>\n",
       "      <td>0.016027</td>\n",
       "    </tr>\n",
       "  </tbody>\n",
       "</table>\n",
       "</div>"
      ],
      "text/plain": [
       "             _version_ cache         segment  \\\n",
       "0  1507939781876645888   NaN  20150728101935   \n",
       "1  1507939781904957440   NaN  20150728101935   \n",
       "2  1507939781906006016   NaN  20150728101935   \n",
       "3  1507939781906006017   NaN  20150728101935   \n",
       "4  1507939781907054592   NaN  20150728101935   \n",
       "\n",
       "                             digest                    tstamp  \\\n",
       "0  018780b19631663651457e46cb0b1a75  2015-07-28T10:21:05.958Z   \n",
       "1  dfbd1ee66a4e792349591b88660c0956   2015-07-28T10:19:58.37Z   \n",
       "2  dda35352a62217413e62e20e3d0a7d69  2015-07-28T10:19:56.751Z   \n",
       "3  7af4adbd6df9139beb15cfdd111b8a0f  2015-07-28T10:20:07.905Z   \n",
       "4  fd07acd3e4a6c7f5d79865b3cf16455f  2015-07-28T10:19:49.027Z   \n",
       "\n",
       "                                                 url  \\\n",
       "0  http://www.pace.edu/lubin/ms-in-customer-intel...   \n",
       "1                        http://www.pacificcorp.com/   \n",
       "2                          http://www.papis.io/2015/   \n",
       "3                             http://www.partek.com/   \n",
       "4  http://www.pce.uw.edu/certificates/data-scienc...   \n",
       "\n",
       "                                              anchor  \\\n",
       "0      Pace U. MS in Customer Intelligence Analytics   \n",
       "1                       PacificEast Data Corporation   \n",
       "2  PAPIs '15\\, 2nd International Conference on Pr...   \n",
       "3                                             Partek   \n",
       "4  UW (University of Washington) Certificate in D...   \n",
       "\n",
       "                                             content  \\\n",
       "0  Customer Intelligence and Analytics MS | Lubin...   \n",
       "1                                               IIS7   \n",
       "2  PAPIs '15 — PAPIs.io — Where makers of Predict...   \n",
       "3  Partek Inc. | NGS & microarray data analysis s...   \n",
       "4  Data Science Certificate | UW Professional & C...   \n",
       "\n",
       "                                                  id  \\\n",
       "0  http://www.pace.edu/lubin/ms-in-customer-intel...   \n",
       "1                        http://www.pacificcorp.com/   \n",
       "2                          http://www.papis.io/2015/   \n",
       "3                             http://www.partek.com/   \n",
       "4  http://www.pce.uw.edu/certificates/data-scienc...   \n",
       "\n",
       "                                               title     boost  \n",
       "0  Customer Intelligence and Analytics MS | Lubin...  0.011168  \n",
       "1                                               IIS7  0.012276  \n",
       "2  PAPIs '15 — PAPIs.io — Where makers of Predict...  0.015936  \n",
       "3  Partek Inc. | NGS & microarray data analysis s...  0.010911  \n",
       "4  Data Science Certificate | UW Professional & C...  0.016027  "
      ]
     },
     "execution_count": 4,
     "metadata": {},
     "output_type": "execute_result"
    }
   ],
   "source": [
    "df.head()"
   ]
  },
  {
   "cell_type": "code",
   "execution_count": null,
   "metadata": {
    "collapsed": true
   },
   "outputs": [],
   "source": []
  }
 ],
 "metadata": {
  "kernelspec": {
   "display_name": "Python 2",
   "language": "python",
   "name": "python2"
  },
  "language_info": {
   "codemirror_mode": {
    "name": "ipython",
    "version": 2
   },
   "file_extension": ".py",
   "mimetype": "text/x-python",
   "name": "python",
   "nbconvert_exporter": "python",
   "pygments_lexer": "ipython2",
   "version": "2.7.11"
  }
 },
 "nbformat": 4,
 "nbformat_minor": 0
}
